{
  "nbformat": 4,
  "nbformat_minor": 0,
  "metadata": {
    "kernelspec": {
      "display_name": "Environment (conda_tensorflow_p36)",
      "language": "python",
      "name": "conda_tensorflow_p36"
    },
    "language_info": {
      "codemirror_mode": {
        "name": "ipython",
        "version": 3
      },
      "file_extension": ".py",
      "mimetype": "text/x-python",
      "name": "python",
      "nbconvert_exporter": "python",
      "pygments_lexer": "ipython3",
      "version": "3.6.5"
    },
    "colab": {
      "name": "국민연금을 통해 본 COVID19에서의 우리경제",
      "provenance": [],
      "collapsed_sections": [],
      "toc_visible": true,
      "include_colab_link": true
    }
  },
  "cells": [
    {
      "cell_type": "markdown",
      "metadata": {
        "id": "view-in-github",
        "colab_type": "text"
      },
      "source": [
        "<a href=\"https://colab.research.google.com/github/SANGSEOSEO/philosophy_datascience/blob/master/%EA%B5%AD%EB%AF%BC%EC%97%B0%EA%B8%88%EC%9D%84_%ED%86%B5%ED%95%B4_%EB%B3%B8_COVID19%EC%97%90%EC%84%9C%EC%9D%98_%EC%9A%B0%EB%A6%AC%EA%B2%BD%EC%A0%9C.ipynb\" target=\"_parent\"><img src=\"https://colab.research.google.com/assets/colab-badge.svg\" alt=\"Open In Colab\"/></a>"
      ]
    },
    {
      "cell_type": "markdown",
      "metadata": {
        "id": "GXZs45-A8U9i",
        "colab_type": "text"
      },
      "source": [
        "## 국민연금을 통해 본 COVID19에서의 우리 기업의 업종별 상황"
      ]
    },
    {
      "cell_type": "markdown",
      "metadata": {
        "id": "TqClaxea8U9k",
        "colab_type": "text"
      },
      "source": [
        "- 데이터셋: 공공 데이터 포털\n",
        "- 형태: 파일데이터 (csv)\n",
        "- 다운로드: https://www.data.go.kr/data/3046071/fileData.do"
      ]
    },
    {
      "cell_type": "code",
      "metadata": {
        "id": "MfR0d8ZO8U9k",
        "colab_type": "code",
        "colab": {
          "base_uri": "https://localhost:8080/",
          "height": 71
        },
        "outputId": "cb1235b4-ca38-47c4-a06a-27963e8c8f95"
      },
      "source": [
        "import pandas as pd\n",
        "import numpy as np\n",
        "import matplotlib.pyplot as plt\n",
        "import seaborn as sns\n",
        "import warnings\n",
        "\n",
        "\n",
        "warnings.filterwarnings('ignore')\n",
        "plt.rc('font', family='NanumBarunGothic') \n",
        "plt.rcParams['figure.figsize'] = (12, 9)\n",
        "\n",
        "pd.set_option('display.float_format', lambda x: '%.2f' % x)\n",
        "\n",
        "%matplotlib inline"
      ],
      "execution_count": 3,
      "outputs": [
        {
          "output_type": "stream",
          "text": [
            "/usr/local/lib/python3.6/dist-packages/statsmodels/tools/_testing.py:19: FutureWarning: pandas.util.testing is deprecated. Use the functions in the public API at pandas.testing instead.\n",
            "  import pandas.util.testing as tm\n"
          ],
          "name": "stderr"
        }
      ]
    },
    {
      "cell_type": "code",
      "metadata": {
        "id": "TPt06-lM8U9q",
        "colab_type": "code",
        "colab": {}
      },
      "source": [
        "df = pd.read_csv('/content/sample_data/national_pension_20200824.csv', encoding='CP949')\n",
        "df"
      ],
      "execution_count": null,
      "outputs": []
    },
    {
      "cell_type": "code",
      "metadata": {
        "id": "2DxoV6MrdG81",
        "colab_type": "code",
        "colab": {}
      },
      "source": [
        "# IT업종\n",
        "df_IT = df[df['업종코드'].isin([biz for biz in df['업종코드'] if str(biz).startswith('72') | str(biz).startswith('64')])]\n",
        "df_IT.columns = columns\n",
        "df_IT = df_IT[['자료생성년월', '사업장명', '사업장형태', '업종코드명', '적용일', '탈퇴일', '가입상태', '신규', '상실', '가입자수', '고지금액']]"
      ],
      "execution_count": 23,
      "outputs": []
    },
    {
      "cell_type": "markdown",
      "metadata": {
        "id": "RWG0LQcKmJdh",
        "colab_type": "text"
      },
      "source": [
        "##1. 컬럼의 정리가 필요함."
      ]
    },
    {
      "cell_type": "code",
      "metadata": {
        "id": "Ghpu4KMZlHuh",
        "colab_type": "code",
        "colab": {}
      },
      "source": [
        "# 대략적인 컬럼을 보고 \n",
        "df.info()"
      ],
      "execution_count": null,
      "outputs": []
    },
    {
      "cell_type": "code",
      "metadata": {
        "id": "7VtLFIANlmiD",
        "colab_type": "code",
        "colab": {
          "base_uri": "https://localhost:8080/",
          "height": 190
        },
        "outputId": "e047bbe7-afc5-4679-d8be-04e02d8c12ec"
      },
      "source": [
        "df.columns"
      ],
      "execution_count": 5,
      "outputs": [
        {
          "output_type": "execute_result",
          "data": {
            "text/plain": [
              "Index(['자료생성년월(자격마감일(사유발생일이 속하는 달의 다음달 15일)까지 신고분 반영)', ' 사업장명', ' 사업자등록번호',\n",
              "       ' 사업장가입상태코드 1:등록2:탈퇴', ' 우편번호', ' 사업장지번상세주소', ' 사업장도로명상세주소',\n",
              "       ' 고객법정동주소코드', ' 고객행정동주소코드', ' 법정동주소광역시도코드', ' 법정동주소광역시시군구코드',\n",
              "       ' 법정동주소광역시시군구읍면동코드', ' 사업장형태구분코드 1:법인2:개인', ' 사업장업종코드', ' 사업장업종코드명',\n",
              "       ' 적용일자', ' 재등록일자', ' 탈퇴일자', ' 가입자수(고지인원 수 포함)',\n",
              "       ' 당월고지금액(※ 국민연금법 시행령 제5조에 의거 기준소득월액 상한액 적용으로 실제소득과 고지금액은 상이할 수 있음 : 상한액 2019.7.~2020.6. 4860000원(2019.7.1.기준) 상한액 2020.7.~2021.6. 5030000원(2020.7.1.기준))',\n",
              "       ' 신규취득자수(납부재개 포함 : ※ 전달 고지대상자와 비교하므로 실제 취득자와 상이할 수 있음(초일취득 고지 초일이 아닌경우. 미고지(다음달 취득자수에 반영))',\n",
              "       ' 상실가입자수(납부예외 포함 : ※ 전달 고지대상자와 비교하므로 실제 퇴사자와 상이할 수 있음(초일이 아닌 상실자는 다음달 상실자수에 반영) 국민연금법 제6조 8조 동법 시행령 제18조에 의거 60세 도달하거나 퇴직연금수급자 조기노령연금 수급권을 취득한 자는 가입대상에서 제외되며 18세미만 기초수급자는 본인희망에 의해 제외될 수 있음)'],\n",
              "      dtype='object')"
            ]
          },
          "metadata": {
            "tags": []
          },
          "execution_count": 5
        }
      ]
    },
    {
      "cell_type": "code",
      "metadata": {
        "id": "tTzx1yrfmYiZ",
        "colab_type": "code",
        "colab": {}
      },
      "source": [
        "# rename으로 하기엔 많아서 컬럼명 간소화시킴\n",
        "columns = ['자료생성년월', '사업장명', '사업자번호', '가입상태', '우편번호', '지번주소', '도로명주소', '법정주소코드', \n",
        "           '행정주소코드', '광역시코드', '시군구코드', '읍면동코드', '사업장형태', '업종코드', '업종코드명', \n",
        "           '적용일', '재등록일', '탈퇴일', '가입자수', '고지금액', '신규', '상실',\n",
        "          ]"
      ],
      "execution_count": 15,
      "outputs": []
    },
    {
      "cell_type": "code",
      "metadata": {
        "id": "dNOJ15_vnKdg",
        "colab_type": "code",
        "colab": {}
      },
      "source": [
        "df.columns = columns"
      ],
      "execution_count": 24,
      "outputs": []
    },
    {
      "cell_type": "code",
      "metadata": {
        "id": "uiW_waqbnRb7",
        "colab_type": "code",
        "colab": {
          "base_uri": "https://localhost:8080/",
          "height": 85
        },
        "outputId": "531f5341-5f8f-4d32-8b5d-538d3e2bd57e"
      },
      "source": [
        "df.columns"
      ],
      "execution_count": 8,
      "outputs": [
        {
          "output_type": "execute_result",
          "data": {
            "text/plain": [
              "Index(['자료생성년월', '사업장명', '사업자번호', '가입상태', '우편번호', '지번주소', '도로명주소', '법정주소코드',\n",
              "       '행정주소코드', '광역시코드', '시군구코드', '읍면동코드', '사업장형태', '업종코드', '업종코드명', '적용일',\n",
              "       '재등록일', '탈퇴일', '가입자수', '고지금액', '신규', '상실'],\n",
              "      dtype='object')"
            ]
          },
          "metadata": {
            "tags": []
          },
          "execution_count": 8
        }
      ]
    },
    {
      "cell_type": "code",
      "metadata": {
        "id": "Lrvd9WbUE7gB",
        "colab_type": "code",
        "colab": {
          "base_uri": "https://localhost:8080/",
          "height": 100
        },
        "outputId": "84a40613-ebb8-4584-8e46-2596856144fd"
      },
      "source": [
        "df.loc[df['업종코드명'].isna()]\n",
        "df.loc[df['고지금액'].isnull()]"
      ],
      "execution_count": 9,
      "outputs": [
        {
          "output_type": "execute_result",
          "data": {
            "text/html": [
              "<div>\n",
              "<style scoped>\n",
              "    .dataframe tbody tr th:only-of-type {\n",
              "        vertical-align: middle;\n",
              "    }\n",
              "\n",
              "    .dataframe tbody tr th {\n",
              "        vertical-align: top;\n",
              "    }\n",
              "\n",
              "    .dataframe thead th {\n",
              "        text-align: right;\n",
              "    }\n",
              "</style>\n",
              "<table border=\"1\" class=\"dataframe\">\n",
              "  <thead>\n",
              "    <tr style=\"text-align: right;\">\n",
              "      <th></th>\n",
              "      <th>자료생성년월</th>\n",
              "      <th>사업장명</th>\n",
              "      <th>사업자번호</th>\n",
              "      <th>가입상태</th>\n",
              "      <th>우편번호</th>\n",
              "      <th>지번주소</th>\n",
              "      <th>도로명주소</th>\n",
              "      <th>법정주소코드</th>\n",
              "      <th>행정주소코드</th>\n",
              "      <th>광역시코드</th>\n",
              "      <th>시군구코드</th>\n",
              "      <th>읍면동코드</th>\n",
              "      <th>사업장형태</th>\n",
              "      <th>업종코드</th>\n",
              "      <th>업종코드명</th>\n",
              "      <th>적용일</th>\n",
              "      <th>재등록일</th>\n",
              "      <th>탈퇴일</th>\n",
              "      <th>가입자수</th>\n",
              "      <th>고지금액</th>\n",
              "      <th>신규</th>\n",
              "      <th>상실</th>\n",
              "    </tr>\n",
              "  </thead>\n",
              "  <tbody>\n",
              "  </tbody>\n",
              "</table>\n",
              "</div>"
            ],
            "text/plain": [
              "Empty DataFrame\n",
              "Columns: [자료생성년월, 사업장명, 사업자번호, 가입상태, 우편번호, 지번주소, 도로명주소, 법정주소코드, 행정주소코드, 광역시코드, 시군구코드, 읍면동코드, 사업장형태, 업종코드, 업종코드명, 적용일, 재등록일, 탈퇴일, 가입자수, 고지금액, 신규, 상실]\n",
              "Index: []"
            ]
          },
          "metadata": {
            "tags": []
          },
          "execution_count": 9
        }
      ]
    },
    {
      "cell_type": "markdown",
      "metadata": {
        "id": "y2UwsFAGTuBE",
        "colab_type": "text"
      },
      "source": [
        "##2.분석하고자 하는 대상에 되는 데이터 정의 및 추출 "
      ]
    },
    {
      "cell_type": "code",
      "metadata": {
        "id": "yt9NZbAdeJUF",
        "colab_type": "code",
        "colab": {}
      },
      "source": [
        "# 일반 for..loop\n",
        "# for biz in df['업종코드']:\n",
        "#   if str(biz).startswith('940'):\n",
        "#     print(biz)\n",
        "\n",
        "# 대면서비스 - 인적노동력을 제공하는 서비스영역 - 1170개 업종\n",
        "[biz for biz in df['업종코드'] if str(biz).startswith('940')]\n",
        "\n",
        "# 대면서비스 - 924로 시작하는 업종(실내스포츠,체육시설등등,공연,독서실) / 1706개 \n",
        "len([biz for biz in df['업종코드'] if str(biz).startswith('924')])\n",
        "\n",
        "\n",
        "# 대리운전연결업체(콜센터 및 텔레마케팅)\n",
        "[biz for biz in df['업종코드'] if str(biz).startswith('930917')]"
      ],
      "execution_count": null,
      "outputs": []
    },
    {
      "cell_type": "code",
      "metadata": {
        "id": "w9YlijrEU1fD",
        "colab_type": "code",
        "colab": {}
      },
      "source": [
        "# 1.분석하고자 하는 대상건 DataFrame생성 \n",
        "# 1.1 대면서비스업체 : \n",
        "# 1.1.2 비대면서비스가 가능한 업종 : IT,물류,쇼핑몰\n",
        "\n",
        "\n",
        "# 대면서비스 v.s 비대면서비스 \n",
        "\n",
        "# 이용업,미용,마사지,욕탕,세탁,장례식,결혼,상담\n",
        "# df_uncontat = df[(df['업종코드'].isin([biz for biz in df['업종코드'] if str(biz).startswith('940') \n",
        "#                                                                         | str(biz).startswith('92') \n",
        "#                                                                         | str(biz).startswith('93')\n",
        "#                                                                         | str(biz).startswith('80')\n",
        "#                                                                         | str(biz).startswith('73')\n",
        "#                                                                         | str(biz).startswith('74')\n",
        "#                                                                         | str(biz).startswith('63')\n",
        "#                                                                         | str(biz).startswith('71')\n",
        "#                                                                         ]))]\n",
        "# df_uncontat[['자료생성년월', '사업장명', '사업장형태', '업종코드명', '적용일', '탈퇴일', '가입상태', '신규', '상실', '가입자수', '고지금액']].sort_values(by='상실', ascending=False)\n",
        "\n",
        "# # 부동산관련 \n",
        "# df_realest = df[(df['업종코드'].isin([biz for biz in df['업종코드'] if str(biz).startswith('65') \n",
        "#                                                                         | str(biz).startswith('66') \n",
        "#                                                                         | str(biz).startswith('67')\n",
        "#                                                                         | str(biz).startswith('70')\n",
        "#                                                                         ]))]\n",
        "# df_realest[['자료생성년월', '사업장명', '사업장형태', '업종코드명', '적용일', '탈퇴일', '가입상태', '신규', '상실', '가입자수', '고지금액']].sort_values(by='상실', ascending=False)\n",
        "\n",
        "\n",
        "# # 일반음식점,주점,유흥주점,민박,숙박공유,치킨,피자\n",
        "# df_fbd = df[(df['업종코드'].isin([biz for biz in df['업종코드'] if str(biz).startswith('551') \n",
        "#                                                                         | str(biz).startswith('552')\n",
        "#                                                                         ]))]\n",
        "# df_fbd[['자료생성년월', '사업장명', '사업장형태', '업종코드명', '적용일', '탈퇴일', '가입상태', '신규', '상실', '가입자수', '고지금액']].sort_values(by='상실', ascending=False)\n",
        "\n",
        "# #서비스\n",
        "# dfSvc = df[(df['업종코드'].isin([biz for biz in df['업종코드'] if str(biz).startswith('60') \n",
        "#                                                                         | str(biz).startswith('61')\n",
        "#                                                                         | str(biz).startswith('62')\n",
        "#                                                                         | str(biz).startswith('52')\n",
        "#                                                                         ]))]\n",
        "# dfSvc[['자료생성년월', '사업장명', '사업장형태', '업종코드명', '적용일', '탈퇴일', '가입상태', '신규', '상실', '가입자수', '고지금액']].sort_values(by='상실', ascending=False)"
      ],
      "execution_count": 18,
      "outputs": []
    },
    {
      "cell_type": "code",
      "metadata": {
        "id": "wBQTF8LBVnda",
        "colab_type": "code",
        "colab": {}
      },
      "source": [
        "df_IT['사업장명'] = df_IT['사업장명'].apply(text_preprocess)"
      ],
      "execution_count": 27,
      "outputs": []
    },
    {
      "cell_type": "code",
      "metadata": {
        "id": "QFDd89Z-b9rP",
        "colab_type": "code",
        "colab": {}
      },
      "source": [
        "df_IT"
      ],
      "execution_count": null,
      "outputs": []
    },
    {
      "cell_type": "code",
      "metadata": {
        "id": "_n7oA48z8U97",
        "colab_type": "code",
        "colab": {}
      },
      "source": [
        "len(df.columns)"
      ],
      "execution_count": null,
      "outputs": []
    },
    {
      "cell_type": "code",
      "metadata": {
        "id": "zbPM-_4S8U9_",
        "colab_type": "code",
        "colab": {}
      },
      "source": [
        "len(columns)"
      ],
      "execution_count": null,
      "outputs": []
    },
    {
      "cell_type": "code",
      "metadata": {
        "id": "DEDK2y3b8U-C",
        "colab_type": "code",
        "colab": {}
      },
      "source": [
        "df.columns = columns"
      ],
      "execution_count": null,
      "outputs": []
    },
    {
      "cell_type": "code",
      "metadata": {
        "id": "vELkMxQw8U-F",
        "colab_type": "code",
        "colab": {}
      },
      "source": [
        "df.head()"
      ],
      "execution_count": null,
      "outputs": []
    },
    {
      "cell_type": "markdown",
      "metadata": {
        "id": "Y-iQbvf8fcyi",
        "colab_type": "text"
      },
      "source": [
        "##df_main 컬럼 설정"
      ]
    },
    {
      "cell_type": "code",
      "metadata": {
        "id": "Y_w6dmhVflTT",
        "colab_type": "code",
        "colab": {}
      },
      "source": [
        "df_main = df[['사업장명', '가입자수', '신규', '상실', '고지금액']]"
      ],
      "execution_count": 28,
      "outputs": []
    },
    {
      "cell_type": "markdown",
      "metadata": {
        "id": "HAzjEsc5dLHr",
        "colab_type": "text"
      },
      "source": [
        "##월급, 연봉 추정"
      ]
    },
    {
      "cell_type": "code",
      "metadata": {
        "id": "bOBjr7-ndRFZ",
        "colab_type": "code",
        "colab": {}
      },
      "source": [
        "df_main['인당고지금액'] = df_main['고지금액'] / df_main['가입자수']\n",
        "df_IT['인당고지금액'] = df['고지금액'] / df['가입자수']"
      ],
      "execution_count": 29,
      "outputs": []
    },
    {
      "cell_type": "markdown",
      "metadata": {
        "id": "YI61_nMy8U-K",
        "colab_type": "text"
      },
      "source": [
        "## 데이터에 대한  통계치 확인"
      ]
    },
    {
      "cell_type": "code",
      "metadata": {
        "id": "8NaaYFv78U-L",
        "colab_type": "code",
        "colab": {}
      },
      "source": [
        "df_IT.describe()"
      ],
      "execution_count": null,
      "outputs": []
    },
    {
      "cell_type": "code",
      "metadata": {
        "id": "4TsH9gwji2V7",
        "colab_type": "code",
        "colab": {}
      },
      "source": [
        "df_IT.info()"
      ],
      "execution_count": null,
      "outputs": []
    },
    {
      "cell_type": "code",
      "metadata": {
        "id": "dV41Yz9oi9rZ",
        "colab_type": "code",
        "colab": {}
      },
      "source": [
        "df_IT['상실'].mean(), df_IT['신규'].mean(), df_IT['가입자수'].mean(), df_IT['고지금액'].mean()"
      ],
      "execution_count": null,
      "outputs": []
    },
    {
      "cell_type": "markdown",
      "metadata": {
        "id": "DSciRH2Pj5yI",
        "colab_type": "text"
      },
      "source": [
        "##IT기업의 COVID19에서의 경영상황"
      ]
    },
    {
      "cell_type": "markdown",
      "metadata": {
        "id": "y7owS7NQkGHg",
        "colab_type": "text"
      },
      "source": [
        "##통계정보"
      ]
    },
    {
      "cell_type": "code",
      "metadata": {
        "id": "7-3KUmItkYjB",
        "colab_type": "code",
        "colab": {}
      },
      "source": [
        "# 총 24070개 \n",
        "df_IT['사업장명'].value_counts()\n",
        "\n",
        "df_IT.head()"
      ],
      "execution_count": null,
      "outputs": []
    },
    {
      "cell_type": "code",
      "metadata": {
        "id": "G6wUrE9CllJW",
        "colab_type": "code",
        "colab": {}
      },
      "source": [
        "df_IT.groupby(by=['신규']).mean()"
      ],
      "execution_count": null,
      "outputs": []
    },
    {
      "cell_type": "code",
      "metadata": {
        "id": "WX_731dxEEHl",
        "colab_type": "code",
        "colab": {}
      },
      "source": [
        "df_IT.describe()"
      ],
      "execution_count": null,
      "outputs": []
    },
    {
      "cell_type": "code",
      "metadata": {
        "id": "z3mJ9pV18U-S",
        "colab_type": "code",
        "colab": {}
      },
      "source": [
        "df_IT['신규'].mean()"
      ],
      "execution_count": null,
      "outputs": []
    },
    {
      "cell_type": "code",
      "metadata": {
        "id": "IDIwSpgR8U-V",
        "colab_type": "code",
        "colab": {}
      },
      "source": [
        "df_IT['상실'].mean()"
      ],
      "execution_count": null,
      "outputs": []
    },
    {
      "cell_type": "code",
      "metadata": {
        "id": "kKugbRQ_8U-Y",
        "colab_type": "code",
        "colab": {}
      },
      "source": [
        "df_IT['가입자수'].mean()"
      ],
      "execution_count": null,
      "outputs": []
    },
    {
      "cell_type": "code",
      "metadata": {
        "id": "_HosktoS8U-b",
        "colab_type": "code",
        "colab": {}
      },
      "source": [
        "df_IT['고지금액'].mean()"
      ],
      "execution_count": null,
      "outputs": []
    },
    {
      "cell_type": "code",
      "metadata": {
        "id": "3tMmyOLtQGBH",
        "colab_type": "code",
        "colab": {}
      },
      "source": [
        "df[['사업장명', '가입자수', '신규', '상실', '고지금액', '인당고지금액']].head()"
      ],
      "execution_count": null,
      "outputs": []
    },
    {
      "cell_type": "markdown",
      "metadata": {
        "id": "pmQ3hqgU8U-p",
        "colab_type": "text"
      },
      "source": [
        "**국민연금 정보로 어떻게 연봉정보를 계산하나요?**\n",
        "\n",
        "\n",
        "국민연금 보험률은 9%입니다. 쉽게 이야기 하면 급여(신고소득월액)의 9%를 국민연금으로 내는 것입니다. \n",
        "\n",
        "하지만 이를 절반으로 나누어 **4.5%는 회사가, 나머지 절반은 개인이 부담하는 구조**입니다. 회사는 급여 외에 추가로 금액을 부담합니다.\n",
        "\n",
        "국민연금 보험료는 **소득 상한선과 하한선이 설정되어 있어 소득 전체가 아닌 일부 소득에만 부과**됩니다.\n",
        "\n",
        "이를 역산하면 신고소득월액의 계산이 가능합니다. 하지만 **상한선과 하한선이 설정되어 있어 실제보다 과소계산**될 수 있습니다"
      ]
    },
    {
      "cell_type": "markdown",
      "metadata": {
        "id": "V9l-zRlT8U-p",
        "colab_type": "text"
      },
      "source": [
        "[수식]\n",
        "\n",
        "- 임직원 평균 월급 = 인당고지금액 / 9% * 100%\n",
        "- 임직원 평균 연봉 = 임직원 평균 월급 * 12개월"
      ]
    },
    {
      "cell_type": "code",
      "metadata": {
        "id": "ckoXOvFK8U-t",
        "colab_type": "code",
        "colab": {}
      },
      "source": [
        "df_main['평균월급'] = df_main['인당고지금액'] / 9 * 100\n",
        "df['평균월급'] = df['인당고지금액'] / 9 * 100"
      ],
      "execution_count": null,
      "outputs": []
    },
    {
      "cell_type": "code",
      "metadata": {
        "id": "c1OyIwff8U-x",
        "colab_type": "code",
        "colab": {}
      },
      "source": [
        "df_main['평균연봉'] = df_main['평균월급'] * 12\n",
        "df['평균연봉'] = df['평균월급'] * 12"
      ],
      "execution_count": null,
      "outputs": []
    },
    {
      "cell_type": "code",
      "metadata": {
        "id": "IjC03x2m8U-z",
        "colab_type": "code",
        "colab": {}
      },
      "source": [
        "df_main['평균월급'].notnull().sum()"
      ],
      "execution_count": null,
      "outputs": []
    },
    {
      "cell_type": "code",
      "metadata": {
        "id": "Ooj6Fknh8U-2",
        "colab_type": "code",
        "colab": {}
      },
      "source": [
        "plt.figure(figsize=(10, 7))\n",
        "sns.distplot(df_main.loc[df_main['평균연봉'].notnull(), '평균연봉'])\n",
        "plt.title('평균연봉', fontsize=18)\n",
        "plt.show()"
      ],
      "execution_count": null,
      "outputs": []
    },
    {
      "cell_type": "code",
      "metadata": {
        "id": "jJnaJ0IK8U-5",
        "colab_type": "code",
        "colab": {}
      },
      "source": [
        "plt.figure(figsize=(10, 7))\n",
        "sns.distplot(df_main.loc[df_main['평균월급'].notnull(), '평균월급'])\n",
        "plt.title('평균월급', fontsize=18)\n",
        "plt.show()"
      ],
      "execution_count": null,
      "outputs": []
    },
    {
      "cell_type": "markdown",
      "metadata": {
        "id": "ItF2lB8X8U-8",
        "colab_type": "text"
      },
      "source": [
        "## 정렬(Order)"
      ]
    },
    {
      "cell_type": "markdown",
      "metadata": {
        "id": "_x9yH7lv8U-9",
        "colab_type": "text"
      },
      "source": [
        "###IT업종 연봉 King!"
      ]
    },
    {
      "cell_type": "code",
      "metadata": {
        "id": "-w0vYitr8U-_",
        "colab_type": "code",
        "colab": {}
      },
      "source": [
        "# 가입자수를 정렬하면 자동적으로 연봉킹이 나오지.\n",
        "df_IT.sort_values(by='가입자수' , ascending=False)"
      ],
      "execution_count": null,
      "outputs": []
    },
    {
      "cell_type": "markdown",
      "metadata": {
        "id": "RdJUJAwt8U_B",
        "colab_type": "text"
      },
      "source": [
        "### IT업종 신규 채용 King!"
      ]
    },
    {
      "cell_type": "code",
      "metadata": {
        "id": "c0bcQa0a8U_C",
        "colab_type": "code",
        "colab": {}
      },
      "source": [
        "# Top 10\n",
        "df_hire= df_IT.sort_values(by='신규', ascending=False).head(n=10)"
      ],
      "execution_count": null,
      "outputs": []
    },
    {
      "cell_type": "code",
      "metadata": {
        "id": "Rkb-zxCdgzAa",
        "colab_type": "code",
        "colab": {
          "base_uri": "https://localhost:8080/",
          "height": 657
        },
        "outputId": "daccbafb-8946-43f3-fed2-e7ff05e0d5b5"
      },
      "source": [
        "# 네이버가 다른 사업장에 비해 신규 채용인원은 적지만 급여수준은 높은 것을 알수 있다.\n",
        "# 반면 배달의 민족으로 대표되는 우아한 청년들이 경우엔 신규 채용인원은 많지만 고지금액은 많지 않은것으로 봐서\n",
        "# 급여수준이 좀 낮는 부분에 채용이 집중되지 않았을까하는 추론을 하게됨.\n",
        "plt.rcParams['figure.figsize'] = (12, 9)\n",
        "sns.relplot(x='신규', y='고지금액', data=df_hire, hue='사업장명', height=9)\n",
        "plt.show()"
      ],
      "execution_count": 44,
      "outputs": [
        {
          "output_type": "display_data",
          "data": {
            "image/png": "[encoded data removed]",
            "text/plain": [
              "<Figure size 755x648 with 1 Axes>"
            ]
          },
          "metadata": {
            "tags": [],
            "needs_background": "light"
          }
        }
      ]
    },
    {
      "cell_type": "markdown",
      "metadata": {
        "id": "5NSqLEDA8U_F",
        "colab_type": "text"
      },
      "source": [
        "###IT업종 상실 King!"
      ]
    },
    {
      "cell_type": "code",
      "metadata": {
        "id": "25jMGeQx8U_G",
        "colab_type": "code",
        "colab": {}
      },
      "source": [
        "# 네입버웹툰컴퍼니가 `국민연금 상실`이 top으로 올라와있는데 네이버에서 웹툰 분사는 2020년 8월1일부로 \n",
        "# 분사하여 대규모 퇴사 및 입사가 이루어진것으로 확인됨.\n",
        "# Top 10\n",
        "df_laidoff = df_IT.sort_values(by='상실', ascending=False).head(10)"
      ],
      "execution_count": null,
      "outputs": []
    },
    {
      "cell_type": "code",
      "metadata": {
        "id": "tQgDV9VpVOV0",
        "colab_type": "code",
        "colab": {
          "base_uri": "https://localhost:8080/",
          "height": 657
        },
        "outputId": "66c24fc8-b414-475d-8d58-062e083a1565"
      },
      "source": [
        "plt.rcParams['figure.figsize'] = (12, 9)\n",
        "sns.relplot(x='상실', y='고지금액', data=df_laidoff, hue='사업장명', height=9)\n",
        "plt.show()"
      ],
      "execution_count": 42,
      "outputs": [
        {
          "output_type": "display_data",
          "data": {
            "image/png": "[encoded data removed]",
            "text/plain": [
              "<Figure size 763.875x648 with 1 Axes>"
            ]
          },
          "metadata": {
            "tags": [],
            "needs_background": "light"
          }
        }
      ]
    },
    {
      "cell_type": "markdown",
      "metadata": {
        "id": "TAK67SCJ8U_J",
        "colab_type": "text"
      },
      "source": [
        "## 110인 이하 기업"
      ]
    },
    {
      "cell_type": "code",
      "metadata": {
        "id": "D33HXjjs8U_J",
        "colab_type": "code",
        "colab": {}
      },
      "source": [
        "people_limit = 110"
      ],
      "execution_count": null,
      "outputs": []
    },
    {
      "cell_type": "code",
      "metadata": {
        "id": "0OLlsQdo8U_M",
        "colab_type": "code",
        "colab": {}
      },
      "source": [
        "small = df_IT.loc[(df_IT['가입자수'].notnull()) & (df_IT['가입자수'] < people_limit )].sort_values(by='가입자수', ascending=False)\n",
        "small.head(n=20)"
      ],
      "execution_count": null,
      "outputs": []
    },
    {
      "cell_type": "markdown",
      "metadata": {
        "id": "h5wgLfbLXXWO",
        "colab_type": "text"
      },
      "source": [
        "## 300인 이상 기업"
      ]
    },
    {
      "cell_type": "code",
      "metadata": {
        "id": "Ca3S63rbXS8v",
        "colab_type": "code",
        "colab": {}
      },
      "source": [
        "big = 300"
      ],
      "execution_count": null,
      "outputs": []
    },
    {
      "cell_type": "code",
      "metadata": {
        "id": "TLNe54jxXfQy",
        "colab_type": "code",
        "colab": {}
      },
      "source": [
        "# 300인 이상의 기업\n",
        "big_company = df_IT.loc[(df_IT['가입자수'].notnull()) & (df_IT['가입자수'] >= big )].sort_values(by='가입자수', ascending=False)\n",
        "big_company.head()"
      ],
      "execution_count": null,
      "outputs": []
    },
    {
      "cell_type": "code",
      "metadata": {
        "id": "FZO13QYf8U_Q",
        "colab_type": "code",
        "colab": {}
      },
      "source": [
        "small['가입자수'].isnull().sum()"
      ],
      "execution_count": null,
      "outputs": []
    },
    {
      "cell_type": "code",
      "metadata": {
        "id": "q8rQqUjxaWwM",
        "colab_type": "code",
        "colab": {
          "base_uri": "https://localhost:8080/",
          "height": 306
        },
        "outputId": "27041895-f778-41bf-e2f8-affe1a69e6ab"
      },
      "source": [
        "!sudo apt-get install -y fonts-nanum  # 한글 폰트 실행\n",
        "!sudo fc-cache -fv  # 나눔폰트\n",
        "!rm ~/.cache/matplotlib -rf  # 캐쉬 삭제"
      ],
      "execution_count": 30,
      "outputs": [
        {
          "output_type": "stream",
          "text": [
            "Reading package lists... Done\n",
            "Building dependency tree       \n",
            "Reading state information... Done\n",
            "fonts-nanum is already the newest version (20170925-1).\n",
            "0 upgraded, 0 newly installed, 0 to remove and 11 not upgraded.\n",
            "/usr/share/fonts: caching, new cache contents: 0 fonts, 1 dirs\n",
            "/usr/share/fonts/truetype: caching, new cache contents: 0 fonts, 3 dirs\n",
            "/usr/share/fonts/truetype/humor-sans: caching, new cache contents: 1 fonts, 0 dirs\n",
            "/usr/share/fonts/truetype/liberation: caching, new cache contents: 16 fonts, 0 dirs\n",
            "/usr/share/fonts/truetype/nanum: caching, new cache contents: 10 fonts, 0 dirs\n",
            "/usr/local/share/fonts: caching, new cache contents: 0 fonts, 0 dirs\n",
            "/root/.local/share/fonts: skipping, no such directory\n",
            "/root/.fonts: skipping, no such directory\n",
            "/var/cache/fontconfig: cleaning cache directory\n",
            "/root/.cache/fontconfig: not cleaning non-existent cache directory\n",
            "/root/.fontconfig: not cleaning non-existent cache directory\n",
            "fc-cache: succeeded\n"
          ],
          "name": "stdout"
        }
      ]
    },
    {
      "cell_type": "code",
      "metadata": {
        "id": "mXhuBO06aLBP",
        "colab_type": "code",
        "colab": {}
      },
      "source": [
        "import matplotlib.pyplot as plt\n",
        "\n",
        "plt.rc('font', family='NanumBarunGothic')   # 시스템 설정 : 폰트 패밀리 - 나눔바른폰트 "
      ],
      "execution_count": 1,
      "outputs": []
    },
    {
      "cell_type": "code",
      "metadata": {
        "id": "GrFH7YAF8U_S",
        "colab_type": "code",
        "colab": {}
      },
      "source": [
        "plt.figure(figsize=(10, 7))\n",
        "sns.distplot(small['가입자수'])\n",
        "plt.title('가입자', fontsize=18)\n",
        "plt.show()"
      ],
      "execution_count": null,
      "outputs": []
    },
    {
      "cell_type": "code",
      "metadata": {
        "id": "qd-mecMp8U_V",
        "colab_type": "code",
        "colab": {}
      },
      "source": [
        "small.sort_values(by='상실', ascending=False)"
      ],
      "execution_count": null,
      "outputs": []
    },
    {
      "cell_type": "markdown",
      "metadata": {
        "id": "CjVf-1Hs8U_Z",
        "colab_type": "text"
      },
      "source": [
        "## 사업장명 데이터 정제 (Cleansing)"
      ]
    },
    {
      "cell_type": "code",
      "metadata": {
        "id": "i6CVRGvD8U_Z",
        "colab_type": "code",
        "colab": {}
      },
      "source": [
        "import re\n",
        "\n",
        "# 괄호안 문자열 제거\n",
        "pattern_1 = '\\(.*\\)'\n",
        "pattern_2 = '\\（.*\\）'\n",
        "pattern_3 = '주식회사'"
      ],
      "execution_count": 25,
      "outputs": []
    },
    {
      "cell_type": "markdown",
      "metadata": {
        "id": "9RnnHjbi8U_b",
        "colab_type": "text"
      },
      "source": [
        "\n",
        "\n",
        "### (주), (주식회사) 문자열 제거"
      ]
    },
    {
      "cell_type": "code",
      "metadata": {
        "id": "d8gEdUbm8U_c",
        "colab_type": "code",
        "colab": {}
      },
      "source": [
        "re.sub(pattern_1, '', '브레인크루(주)')"
      ],
      "execution_count": null,
      "outputs": []
    },
    {
      "cell_type": "code",
      "metadata": {
        "id": "KnifkYax8U_f",
        "colab_type": "code",
        "colab": {}
      },
      "source": [
        "re.sub(pattern_1, '', '브레인크루(주식회사)')"
      ],
      "execution_count": null,
      "outputs": []
    },
    {
      "cell_type": "code",
      "metadata": {
        "id": "mqZ4izHy8U_j",
        "colab_type": "code",
        "colab": {}
      },
      "source": [
        "re.sub(pattern_1, '', '(주)브레인크루')"
      ],
      "execution_count": null,
      "outputs": []
    },
    {
      "cell_type": "code",
      "metadata": {
        "id": "uMoIBqYC8U_n",
        "colab_type": "code",
        "colab": {}
      },
      "source": [
        "re.sub(pattern_2, '', '（주）타워홀딩스')"
      ],
      "execution_count": null,
      "outputs": []
    },
    {
      "cell_type": "markdown",
      "metadata": {
        "id": "L9DsUzHD8U_r",
        "colab_type": "text"
      },
      "source": [
        "### 주식회사 문자열 제거"
      ]
    },
    {
      "cell_type": "code",
      "metadata": {
        "id": "5AtZNYaS8U_s",
        "colab_type": "code",
        "colab": {}
      },
      "source": [
        "re.sub(pattern_2, '', '브레인크루 주식회사')"
      ],
      "execution_count": null,
      "outputs": []
    },
    {
      "cell_type": "code",
      "metadata": {
        "id": "MD9z_n0-8U_w",
        "colab_type": "code",
        "colab": {}
      },
      "source": [
        "re.sub(pattern_2, '', '브레인크루주식회사')"
      ],
      "execution_count": null,
      "outputs": []
    },
    {
      "cell_type": "code",
      "metadata": {
        "id": "JGmvrv218U_1",
        "colab_type": "code",
        "colab": {}
      },
      "source": [
        "re.sub(pattern_2, '', '주식회사브레인크루주식회사')"
      ],
      "execution_count": null,
      "outputs": []
    },
    {
      "cell_type": "code",
      "metadata": {
        "id": "7-Nckyp48U_5",
        "colab_type": "code",
        "colab": {}
      },
      "source": [
        "def text_preprocess(text):\n",
        "    text = re.sub(pattern_1, '', text)\n",
        "    text = re.sub(pattern_2, '', text)\n",
        "    text = re.sub(pattern_3, '', text)\n",
        "    return text"
      ],
      "execution_count": 26,
      "outputs": []
    },
    {
      "cell_type": "code",
      "metadata": {
        "id": "-rU8N5BN8U_9",
        "colab_type": "code",
        "colab": {}
      },
      "source": [
        "df_main['사업장명'] = df_main['사업장명'].apply(text_preprocess)"
      ],
      "execution_count": null,
      "outputs": []
    },
    {
      "cell_type": "code",
      "metadata": {
        "id": "SfjDB2M48VAA",
        "colab_type": "code",
        "colab": {}
      },
      "source": [
        "df_main[df_main['사업장명'] == '패스트캠퍼스']"
      ],
      "execution_count": null,
      "outputs": []
    },
    {
      "cell_type": "code",
      "metadata": {
        "id": "E0UmxFU38VAF",
        "colab_type": "code",
        "colab": {}
      },
      "source": [
        "df['사업장명'] = df['사업장명'].apply(text_preprocess)"
      ],
      "execution_count": null,
      "outputs": []
    },
    {
      "cell_type": "code",
      "metadata": {
        "id": "1BzSBokx8VAK",
        "colab_type": "code",
        "colab": {}
      },
      "source": [
        "df.columns"
      ],
      "execution_count": null,
      "outputs": []
    },
    {
      "cell_type": "code",
      "metadata": {
        "id": "Gio5J1od8VAO",
        "colab_type": "code",
        "colab": {
          "base_uri": "https://localhost:8080/",
          "height": 407
        },
        "outputId": "e0360e9e-3e3c-46a2-9255-23ec4cb6e73b"
      },
      "source": [
        "plt.figure(figsize=(16, 6))\n",
        "sns.barplot(x=df_IT.groupby('시군구코드')['가입자수'].mean().index, y=df_IT.groupby('시군구코드')['가입자수'].mean())\n",
        "plt.title('시군구 별 가입자수')\n",
        "plt.xticks(rotation=90)\n",
        "plt.show()"
      ],
      "execution_count": 54,
      "outputs": [
        {
          "output_type": "display_data",
          "data": {
            "image/png": "[encoded data removed]",
            "text/plain": [
              "<Figure size 1152x432 with 1 Axes>"
            ]
          },
          "metadata": {
            "tags": [],
            "needs_background": "light"
          }
        }
      ]
    },
    {
      "cell_type": "code",
      "metadata": {
        "id": "lq-8XZZs8VAR",
        "colab_type": "code",
        "colab": {
          "base_uri": "https://localhost:8080/",
          "height": 410
        },
        "outputId": "006afe9e-998c-45a8-90f0-a63683f4b784"
      },
      "source": [
        "plt.figure(figsize=(16, 6))\n",
        "sns.barplot(x=df_IT.groupby('시군구코드')['신규'].mean().index, y=df_IT.groupby('시군구코드')['신규'].mean())\n",
        "plt.title('시군구 별 신규인력')\n",
        "plt.xticks(rotation=90)\n",
        "plt.show()"
      ],
      "execution_count": 56,
      "outputs": [
        {
          "output_type": "display_data",
          "data": {
            "image/png": "[encoded data removed]",
            "text/plain": [
              "<Figure size 1152x432 with 1 Axes>"
            ]
          },
          "metadata": {
            "tags": [],
            "needs_background": "light"
          }
        }
      ]
    },
    {
      "cell_type": "code",
      "metadata": {
        "id": "XWc6qRuY8VAV",
        "colab_type": "code",
        "colab": {
          "base_uri": "https://localhost:8080/",
          "height": 410
        },
        "outputId": "b0429639-4305-4cc0-9dfd-3eb11c4c3a88"
      },
      "source": [
        "plt.figure(figsize=(16, 6))\n",
        "sns.barplot(x=df_IT.groupby('시군구코드')['상실'].mean().index, y=df_IT.groupby('시군구코드')['상실'].mean())\n",
        "plt.title('시군구 별 신규인력')\n",
        "plt.xticks(rotation=90)\n",
        "plt.show()"
      ],
      "execution_count": 49,
      "outputs": [
        {
          "output_type": "display_data",
          "data": {
            "image/png": "[encoded data removed]",
            "text/plain": [
              "<Figure size 1152x432 with 1 Axes>"
            ]
          },
          "metadata": {
            "tags": [],
            "needs_background": "light"
          }
        }
      ]
    },
    {
      "cell_type": "code",
      "metadata": {
        "id": "BhYZKLUa8VAb",
        "colab_type": "code",
        "colab": {}
      },
      "source": [
        "df.head()"
      ],
      "execution_count": null,
      "outputs": []
    },
    {
      "cell_type": "markdown",
      "metadata": {
        "id": "IG9zpmLo8VAf",
        "colab_type": "text"
      },
      "source": [
        "## 신규 인력이 많은 시군구코드"
      ]
    },
    {
      "cell_type": "markdown",
      "metadata": {
        "id": "XU-13AdD8VAg",
        "colab_type": "text"
      },
      "source": [
        "**경기도 평택시**에서 최근 국민연금 가입자 신규인력이 가장 많이 발생했음\n",
        "\n",
        "주로 건축 인력 혹은 건설사 인력들이 신규로 편입되면서 국민연금 가입자 발생이 가장 많이 일어난 것으로 집계 됐다."
      ]
    },
    {
      "cell_type": "code",
      "metadata": {
        "id": "_lnIQSfK8VAg",
        "colab_type": "code",
        "colab": {
          "base_uri": "https://localhost:8080/",
          "height": 669
        },
        "outputId": "c0870c26-e282-4fe1-dc33-2af9fd975087"
      },
      "source": [
        "df.loc[df['시군구코드'] == 280][['사업장명','지번주소','신규']].sort_values(by='신규', ascending=False).head(20)"
      ],
      "execution_count": 53,
      "outputs": [
        {
          "output_type": "execute_result",
          "data": {
            "text/html": [
              "<div>\n",
              "<style scoped>\n",
              "    .dataframe tbody tr th:only-of-type {\n",
              "        vertical-align: middle;\n",
              "    }\n",
              "\n",
              "    .dataframe tbody tr th {\n",
              "        vertical-align: top;\n",
              "    }\n",
              "\n",
              "    .dataframe thead th {\n",
              "        text-align: right;\n",
              "    }\n",
              "</style>\n",
              "<table border=\"1\" class=\"dataframe\">\n",
              "  <thead>\n",
              "    <tr style=\"text-align: right;\">\n",
              "      <th></th>\n",
              "      <th>사업장명</th>\n",
              "      <th>지번주소</th>\n",
              "      <th>신규</th>\n",
              "    </tr>\n",
              "  </thead>\n",
              "  <tbody>\n",
              "    <tr>\n",
              "      <th>8828</th>\n",
              "      <td>(주)디엠개발</td>\n",
              "      <td>경상북도 문경시 영순면</td>\n",
              "      <td>34</td>\n",
              "    </tr>\n",
              "    <tr>\n",
              "      <th>176428</th>\n",
              "      <td>문경시청</td>\n",
              "      <td>경상북도 문경시 모전동</td>\n",
              "      <td>24</td>\n",
              "    </tr>\n",
              "    <tr>\n",
              "      <th>514264</th>\n",
              "      <td>에스비서비스매니지먼트</td>\n",
              "      <td>경상북도 문경시 농암면</td>\n",
              "      <td>19</td>\n",
              "    </tr>\n",
              "    <tr>\n",
              "      <th>151794</th>\n",
              "      <td>문경오미자밸리영농조합법인</td>\n",
              "      <td>경상북도 문경시 동로면</td>\n",
              "      <td>5</td>\n",
              "    </tr>\n",
              "    <tr>\n",
              "      <th>509306</th>\n",
              "      <td>명성종합건설주식회사</td>\n",
              "      <td>경상북도 문경시 공평동</td>\n",
              "      <td>5</td>\n",
              "    </tr>\n",
              "    <tr>\n",
              "      <th>488685</th>\n",
              "      <td>(주)세진산업/일용/문경 모전동 주상복합신축공사 중 토공 및 가시설공사</td>\n",
              "      <td>경상북도 문경시 모전동</td>\n",
              "      <td>5</td>\n",
              "    </tr>\n",
              "    <tr>\n",
              "      <th>254150</th>\n",
              "      <td>수월한 주식회사</td>\n",
              "      <td>경상북도 문경시 신기동</td>\n",
              "      <td>5</td>\n",
              "    </tr>\n",
              "    <tr>\n",
              "      <th>8781</th>\n",
              "      <td>(주)대명화학</td>\n",
              "      <td>경상북도 문경시 산양면</td>\n",
              "      <td>4</td>\n",
              "    </tr>\n",
              "    <tr>\n",
              "      <th>420074</th>\n",
              "      <td>우상건설(주)(일용)중부내륙선이천~문경철도건설 제9공구노반신설기타공사</td>\n",
              "      <td>경상북도 문경시 문경읍</td>\n",
              "      <td>4</td>\n",
              "    </tr>\n",
              "    <tr>\n",
              "      <th>165019</th>\n",
              "      <td>(의료법인)동춘의료재단문경제일병원</td>\n",
              "      <td>경상북도 문경시 모전동</td>\n",
              "      <td>4</td>\n",
              "    </tr>\n",
              "    <tr>\n",
              "      <th>176266</th>\n",
              "      <td>해인건설(주)</td>\n",
              "      <td>경상북도 문경시 점촌동</td>\n",
              "      <td>4</td>\n",
              "    </tr>\n",
              "    <tr>\n",
              "      <th>255425</th>\n",
              "      <td>꽃씨재가노인복지센터</td>\n",
              "      <td>경상북도 문경시 점촌동</td>\n",
              "      <td>4</td>\n",
              "    </tr>\n",
              "    <tr>\n",
              "      <th>118527</th>\n",
              "      <td>농업회사법인 싱그람(주)</td>\n",
              "      <td>경상북도 문경시 영순면</td>\n",
              "      <td>4</td>\n",
              "    </tr>\n",
              "    <tr>\n",
              "      <th>511925</th>\n",
              "      <td>에스티엑스서비스유한회사</td>\n",
              "      <td>경상북도 문경시 농암면</td>\n",
              "      <td>4</td>\n",
              "    </tr>\n",
              "    <tr>\n",
              "      <th>512515</th>\n",
              "      <td>주식회사 태웅리얼티</td>\n",
              "      <td>경상북도 문경시 점촌동</td>\n",
              "      <td>4</td>\n",
              "    </tr>\n",
              "    <tr>\n",
              "      <th>43443</th>\n",
              "      <td>（주）월드에너지</td>\n",
              "      <td>경상북도 문경시 가은읍</td>\n",
              "      <td>3</td>\n",
              "    </tr>\n",
              "    <tr>\n",
              "      <th>391457</th>\n",
              "      <td>(주)세부종합건설</td>\n",
              "      <td>경상북도 문경시 모전동</td>\n",
              "      <td>3</td>\n",
              "    </tr>\n",
              "    <tr>\n",
              "      <th>336276</th>\n",
              "      <td>농업회사법인 권도영알로에(주) 문경지점</td>\n",
              "      <td>경상북도 문경시 영순면</td>\n",
              "      <td>3</td>\n",
              "    </tr>\n",
              "    <tr>\n",
              "      <th>423449</th>\n",
              "      <td>원영종합건설주식회사</td>\n",
              "      <td>경상북도 문경시 공평동</td>\n",
              "      <td>3</td>\n",
              "    </tr>\n",
              "    <tr>\n",
              "      <th>459309</th>\n",
              "      <td>엠에스건설(주)(일용)문경 돌리네습지 진입도로개설공사(총괄및1차)</td>\n",
              "      <td>경상북도 문경시 산북면</td>\n",
              "      <td>3</td>\n",
              "    </tr>\n",
              "  </tbody>\n",
              "</table>\n",
              "</div>"
            ],
            "text/plain": [
              "                                           사업장명          지번주소  신규\n",
              "8828                                    (주)디엠개발  경상북도 문경시 영순면  34\n",
              "176428                                     문경시청  경상북도 문경시 모전동  24\n",
              "514264                              에스비서비스매니지먼트  경상북도 문경시 농암면  19\n",
              "151794                            문경오미자밸리영농조합법인  경상북도 문경시 동로면   5\n",
              "509306                               명성종합건설주식회사  경상북도 문경시 공평동   5\n",
              "488685  (주)세진산업/일용/문경 모전동 주상복합신축공사 중 토공 및 가시설공사  경상북도 문경시 모전동   5\n",
              "254150                                 수월한 주식회사  경상북도 문경시 신기동   5\n",
              "8781                                    (주)대명화학  경상북도 문경시 산양면   4\n",
              "420074   우상건설(주)(일용)중부내륙선이천~문경철도건설 제9공구노반신설기타공사  경상북도 문경시 문경읍   4\n",
              "165019                       (의료법인)동춘의료재단문경제일병원  경상북도 문경시 모전동   4\n",
              "176266                                  해인건설(주)  경상북도 문경시 점촌동   4\n",
              "255425                               꽃씨재가노인복지센터  경상북도 문경시 점촌동   4\n",
              "118527                            농업회사법인 싱그람(주)  경상북도 문경시 영순면   4\n",
              "511925                             에스티엑스서비스유한회사  경상북도 문경시 농암면   4\n",
              "512515                               주식회사 태웅리얼티  경상북도 문경시 점촌동   4\n",
              "43443                                  （주）월드에너지  경상북도 문경시 가은읍   3\n",
              "391457                                (주)세부종합건설  경상북도 문경시 모전동   3\n",
              "336276                    농업회사법인 권도영알로에(주) 문경지점  경상북도 문경시 영순면   3\n",
              "423449                               원영종합건설주식회사  경상북도 문경시 공평동   3\n",
              "459309     엠에스건설(주)(일용)문경 돌리네습지 진입도로개설공사(총괄및1차)  경상북도 문경시 산북면   3"
            ]
          },
          "metadata": {
            "tags": []
          },
          "execution_count": 53
        }
      ]
    },
    {
      "cell_type": "markdown",
      "metadata": {
        "id": "TbV0YKod8VAm",
        "colab_type": "text"
      },
      "source": [
        "**모두투어네트워크**에서 가장 많은 상실 인력이 발생했다.\n",
        "\n",
        "스타브벅스커피코리아(주) 및 콜센터 및 상담업체 (주)메낱넷엠플랫폼,(주)삼구아이씨_인력소싱업체 주로 IT업종에서 대면서비스가 이루어지는 업종인 경우에는 실직자가 다량으로 발생한것으로 보인다."
      ]
    },
    {
      "cell_type": "code",
      "metadata": {
        "id": "rRmifX2S8VAm",
        "colab_type": "code",
        "colab": {
          "base_uri": "https://localhost:8080/",
          "height": 669
        },
        "outputId": "f17189aa-edbe-4a17-ad39-0735811a318b"
      },
      "source": [
        "df.loc[df['시군구코드'] == 140][['사업장명','지번주소','상실']].sort_values(by='상실', ascending=False).head(20)"
      ],
      "execution_count": 57,
      "outputs": [
        {
          "output_type": "execute_result",
          "data": {
            "text/html": [
              "<div>\n",
              "<style scoped>\n",
              "    .dataframe tbody tr th:only-of-type {\n",
              "        vertical-align: middle;\n",
              "    }\n",
              "\n",
              "    .dataframe tbody tr th {\n",
              "        vertical-align: top;\n",
              "    }\n",
              "\n",
              "    .dataframe thead th {\n",
              "        text-align: right;\n",
              "    }\n",
              "</style>\n",
              "<table border=\"1\" class=\"dataframe\">\n",
              "  <thead>\n",
              "    <tr style=\"text-align: right;\">\n",
              "      <th></th>\n",
              "      <th>사업장명</th>\n",
              "      <th>지번주소</th>\n",
              "      <th>상실</th>\n",
              "    </tr>\n",
              "  </thead>\n",
              "  <tbody>\n",
              "    <tr>\n",
              "      <th>4519</th>\n",
              "      <td>(주)모두투어네트워크</td>\n",
              "      <td>서울특별시 중구 을지로1가</td>\n",
              "      <td>760</td>\n",
              "    </tr>\n",
              "    <tr>\n",
              "      <th>5288</th>\n",
              "      <td>스타벅스커피코리아(주)</td>\n",
              "      <td>서울특별시 중구 소공동</td>\n",
              "      <td>518</td>\n",
              "    </tr>\n",
              "    <tr>\n",
              "      <th>7289</th>\n",
              "      <td>(주)메타넷엠플랫폼</td>\n",
              "      <td>서울특별시 중구 충무로2가</td>\n",
              "      <td>358</td>\n",
              "    </tr>\n",
              "    <tr>\n",
              "      <th>358</th>\n",
              "      <td>(주)삼구아이앤씨</td>\n",
              "      <td>서울특별시 중구 수표동</td>\n",
              "      <td>338</td>\n",
              "    </tr>\n",
              "    <tr>\n",
              "      <th>503301</th>\n",
              "      <td>동구청/경제지원과/방역 및 기타</td>\n",
              "      <td>대구광역시 동구 신암동</td>\n",
              "      <td>236</td>\n",
              "    </tr>\n",
              "    <tr>\n",
              "      <th>97612</th>\n",
              "      <td>씨제이제일제당（주）</td>\n",
              "      <td>서울특별시 중구 쌍림동</td>\n",
              "      <td>204</td>\n",
              "    </tr>\n",
              "    <tr>\n",
              "      <th>3471</th>\n",
              "      <td>중소기업은행</td>\n",
              "      <td>서울특별시 중구 을지로2가</td>\n",
              "      <td>192</td>\n",
              "    </tr>\n",
              "    <tr>\n",
              "      <th>220405</th>\n",
              "      <td>농협은행주식회사</td>\n",
              "      <td>서울특별시 중구 충정로1가</td>\n",
              "      <td>186</td>\n",
              "    </tr>\n",
              "    <tr>\n",
              "      <th>61748</th>\n",
              "      <td>(주)한국코퍼레이션</td>\n",
              "      <td>서울특별시 중구 남대문로5가</td>\n",
              "      <td>184</td>\n",
              "    </tr>\n",
              "    <tr>\n",
              "      <th>3567</th>\n",
              "      <td>(주)신한은행</td>\n",
              "      <td>서울특별시 중구 태평로2가</td>\n",
              "      <td>171</td>\n",
              "    </tr>\n",
              "    <tr>\n",
              "      <th>6901</th>\n",
              "      <td>코리아세븐(주)</td>\n",
              "      <td>서울특별시 중구 수표동</td>\n",
              "      <td>168</td>\n",
              "    </tr>\n",
              "    <tr>\n",
              "      <th>83997</th>\n",
              "      <td>씨제이엠디원주식회사</td>\n",
              "      <td>서울특별시 중구 쌍림동</td>\n",
              "      <td>168</td>\n",
              "    </tr>\n",
              "    <tr>\n",
              "      <th>9893</th>\n",
              "      <td>CJ푸드빌(주)</td>\n",
              "      <td>서울특별시 중구 초동</td>\n",
              "      <td>153</td>\n",
              "    </tr>\n",
              "    <tr>\n",
              "      <th>3352</th>\n",
              "      <td>롯데쇼핑(주)</td>\n",
              "      <td>서울특별시 중구 소공동</td>\n",
              "      <td>144</td>\n",
              "    </tr>\n",
              "    <tr>\n",
              "      <th>70880</th>\n",
              "      <td>(주)키스템프그룹</td>\n",
              "      <td>서울특별시 중구 을지로2가</td>\n",
              "      <td>141</td>\n",
              "    </tr>\n",
              "    <tr>\n",
              "      <th>36120</th>\n",
              "      <td>동구청 경제과 공공근로사업</td>\n",
              "      <td>대구광역시 동구 신암동</td>\n",
              "      <td>137</td>\n",
              "    </tr>\n",
              "    <tr>\n",
              "      <th>384498</th>\n",
              "      <td>투썸플레이스주식회사(스탭)</td>\n",
              "      <td>서울특별시 중구 을지로4가</td>\n",
              "      <td>133</td>\n",
              "    </tr>\n",
              "    <tr>\n",
              "      <th>186053</th>\n",
              "      <td>（주）타이드스퀘어</td>\n",
              "      <td>서울특별시 중구 수표동</td>\n",
              "      <td>116</td>\n",
              "    </tr>\n",
              "    <tr>\n",
              "      <th>8481</th>\n",
              "      <td>SK 엠앤서비스(주)</td>\n",
              "      <td>서울특별시 중구 흥인동</td>\n",
              "      <td>112</td>\n",
              "    </tr>\n",
              "    <tr>\n",
              "      <th>373363</th>\n",
              "      <td>(주)키스템프엠엔씨에스</td>\n",
              "      <td>서울특별시 중구 을지로2가</td>\n",
              "      <td>98</td>\n",
              "    </tr>\n",
              "  </tbody>\n",
              "</table>\n",
              "</div>"
            ],
            "text/plain": [
              "                     사업장명             지번주소   상실\n",
              "4519          (주)모두투어네트워크   서울특별시 중구 을지로1가  760\n",
              "5288         스타벅스커피코리아(주)     서울특별시 중구 소공동  518\n",
              "7289           (주)메타넷엠플랫폼   서울특별시 중구 충무로2가  358\n",
              "358             (주)삼구아이앤씨     서울특별시 중구 수표동  338\n",
              "503301  동구청/경제지원과/방역 및 기타     대구광역시 동구 신암동  236\n",
              "97612          씨제이제일제당（주）     서울특별시 중구 쌍림동  204\n",
              "3471               중소기업은행   서울특별시 중구 을지로2가  192\n",
              "220405           농협은행주식회사   서울특별시 중구 충정로1가  186\n",
              "61748          (주)한국코퍼레이션  서울특별시 중구 남대문로5가  184\n",
              "3567              (주)신한은행   서울특별시 중구 태평로2가  171\n",
              "6901             코리아세븐(주)     서울특별시 중구 수표동  168\n",
              "83997          씨제이엠디원주식회사     서울특별시 중구 쌍림동  168\n",
              "9893             CJ푸드빌(주)      서울특별시 중구 초동  153\n",
              "3352              롯데쇼핑(주)     서울특별시 중구 소공동  144\n",
              "70880           (주)키스템프그룹   서울특별시 중구 을지로2가  141\n",
              "36120      동구청 경제과 공공근로사업     대구광역시 동구 신암동  137\n",
              "384498     투썸플레이스주식회사(스탭)   서울특별시 중구 을지로4가  133\n",
              "186053          （주）타이드스퀘어     서울특별시 중구 수표동  116\n",
              "8481          SK 엠앤서비스(주)     서울특별시 중구 흥인동  112\n",
              "373363       (주)키스템프엠엔씨에스   서울특별시 중구 을지로2가   98"
            ]
          },
          "metadata": {
            "tags": []
          },
          "execution_count": 57
        }
      ]
    },
    {
      "cell_type": "markdown",
      "metadata": {
        "id": "WXyt6Pcv8VAp",
        "colab_type": "text"
      },
      "source": [
        "## IT업종별 신규/상실 인력 현황"
      ]
    },
    {
      "cell_type": "code",
      "metadata": {
        "id": "XgQGMChI8VAq",
        "colab_type": "code",
        "colab": {
          "base_uri": "https://localhost:8080/",
          "height": 425
        },
        "outputId": "972ac39f-ee58-4a21-9f38-e0a3141740e6"
      },
      "source": [
        "df_IT.groupby('업종코드명')['신규'].mean()"
      ],
      "execution_count": 60,
      "outputs": [
        {
          "output_type": "execute_result",
          "data": {
            "text/plain": [
              "업종코드명\n",
              "공영 우편업                      0.82\n",
              "그 외 기타 전기 통신업               0.47\n",
              "그 외 기타 정보 서비스업              0.94\n",
              "기타 게임 소프트웨어 개발 및 공급업        1.00\n",
              "기타 정보 기술 및 컴퓨터 운영 관련 서비스업   1.35\n",
              "뉴스 제공업                      0.67\n",
              "데이터베이스 및 온라인 정보 제공업         1.72\n",
              "모바일 게임 소프트웨어 개발 및 공급업       1.41\n",
              "무선 및 위성 통신업                 4.69\n",
              "시스템 소프트웨어 개발 및 공급업          0.89\n",
              "유선 온라인 게임 소프트웨어 개발 및 공급업    3.03\n",
              "유선 통신업                      0.33\n",
              "응용 소프트웨어 개발 및 공급업           0.79\n",
              "자료 처리업                      4.21\n",
              "컴퓨터 및 주변 기기 수리업             0.92\n",
              "컴퓨터 시스템 통합 자문 및 구축 서비스업     0.76\n",
              "컴퓨터 프로그래밍 서비스업              0.77\n",
              "컴퓨터시설 관리업                   0.86\n",
              "택배업                         0.44\n",
              "통신 재판매업                     0.92\n",
              "포털 및 기타 인터넷 정보 매개 서비스업      0.66\n",
              "호스팅 및 관련 서비스업               0.00\n",
              "Name: 신규, dtype: float64"
            ]
          },
          "metadata": {
            "tags": []
          },
          "execution_count": 60
        }
      ]
    },
    {
      "cell_type": "code",
      "metadata": {
        "id": "qCGDmekT8VAt",
        "colab_type": "code",
        "colab": {}
      },
      "source": [
        "df_1 =df_IT.groupby('업종코드명')['신규'].mean()"
      ],
      "execution_count": 61,
      "outputs": []
    },
    {
      "cell_type": "code",
      "metadata": {
        "id": "Kn-5pGuaqXls",
        "colab_type": "code",
        "colab": {
          "base_uri": "https://localhost:8080/",
          "height": 425
        },
        "outputId": "7935fe34-a079-43a5-f23b-bfac64556e38"
      },
      "source": [
        "df_2 =df_IT.groupby('업종코드명')['상실'].mean()"
      ],
      "execution_count": 73,
      "outputs": [
        {
          "output_type": "execute_result",
          "data": {
            "text/plain": [
              "업종코드명\n",
              "공영 우편업                      0.94\n",
              "그 외 기타 전기 통신업               0.44\n",
              "그 외 기타 정보 서비스업              0.22\n",
              "기타 게임 소프트웨어 개발 및 공급업        0.55\n",
              "기타 정보 기술 및 컴퓨터 운영 관련 서비스업   0.59\n",
              "뉴스 제공업                      0.75\n",
              "데이터베이스 및 온라인 정보 제공업         1.44\n",
              "모바일 게임 소프트웨어 개발 및 공급업       0.12\n",
              "무선 및 위성 통신업                 5.86\n",
              "시스템 소프트웨어 개발 및 공급업          0.26\n",
              "유선 온라인 게임 소프트웨어 개발 및 공급업    0.23\n",
              "유선 통신업                      0.33\n",
              "응용 소프트웨어 개발 및 공급업           0.62\n",
              "자료 처리업                      1.99\n",
              "컴퓨터 및 주변 기기 수리업             1.17\n",
              "컴퓨터 시스템 통합 자문 및 구축 서비스업     0.48\n",
              "컴퓨터 프로그래밍 서비스업              0.32\n",
              "컴퓨터시설 관리업                   0.14\n",
              "택배업                         0.24\n",
              "통신 재판매업                     0.99\n",
              "포털 및 기타 인터넷 정보 매개 서비스업      0.56\n",
              "호스팅 및 관련 서비스업               0.00\n",
              "Name: 상실, dtype: float64"
            ]
          },
          "metadata": {
            "tags": []
          },
          "execution_count": 73
        }
      ]
    },
    {
      "cell_type": "code",
      "metadata": {
        "id": "jhv_P8kP8VAx",
        "colab_type": "code",
        "colab": {
          "base_uri": "https://localhost:8080/",
          "height": 34
        },
        "outputId": "87ab2ef9-2a9e-4b03-effd-803833304f1a"
      },
      "source": [
        "df_1.sort_values(ascending=False).count()"
      ],
      "execution_count": 63,
      "outputs": [
        {
          "output_type": "execute_result",
          "data": {
            "text/plain": [
              "22"
            ]
          },
          "metadata": {
            "tags": []
          },
          "execution_count": 63
        }
      ]
    },
    {
      "cell_type": "code",
      "metadata": {
        "id": "DYHwR2Qyqfkv",
        "colab_type": "code",
        "colab": {
          "base_uri": "https://localhost:8080/",
          "height": 34
        },
        "outputId": "b2c29c06-a114-47dd-f964-d25d06472070"
      },
      "source": [
        "df_2.sort_values(ascending=False).count()"
      ],
      "execution_count": 64,
      "outputs": [
        {
          "output_type": "execute_result",
          "data": {
            "text/plain": [
              "22"
            ]
          },
          "metadata": {
            "tags": []
          },
          "execution_count": 64
        }
      ]
    },
    {
      "cell_type": "markdown",
      "metadata": {
        "id": "BPSlxGsa8VA2",
        "colab_type": "text"
      },
      "source": [
        "상위 50 개 **업종** 출력하도록 하겠습니다."
      ]
    },
    {
      "cell_type": "code",
      "metadata": {
        "id": "4jTZ2WuD8VA2",
        "colab_type": "code",
        "colab": {
          "base_uri": "https://localhost:8080/",
          "height": 425
        },
        "outputId": "1a3a8c0a-4a47-4db9-8998-61d00163d7cb"
      },
      "source": [
        "df_top100 = df_1.sort_values(ascending=False).head(50)\n",
        "df_top100"
      ],
      "execution_count": 65,
      "outputs": [
        {
          "output_type": "execute_result",
          "data": {
            "text/plain": [
              "업종코드명\n",
              "무선 및 위성 통신업                 4.69\n",
              "자료 처리업                      4.21\n",
              "유선 온라인 게임 소프트웨어 개발 및 공급업    3.03\n",
              "데이터베이스 및 온라인 정보 제공업         1.72\n",
              "모바일 게임 소프트웨어 개발 및 공급업       1.41\n",
              "기타 정보 기술 및 컴퓨터 운영 관련 서비스업   1.35\n",
              "기타 게임 소프트웨어 개발 및 공급업        1.00\n",
              "그 외 기타 정보 서비스업              0.94\n",
              "컴퓨터 및 주변 기기 수리업             0.92\n",
              "통신 재판매업                     0.92\n",
              "시스템 소프트웨어 개발 및 공급업          0.89\n",
              "컴퓨터시설 관리업                   0.86\n",
              "공영 우편업                      0.82\n",
              "응용 소프트웨어 개발 및 공급업           0.79\n",
              "컴퓨터 프로그래밍 서비스업              0.77\n",
              "컴퓨터 시스템 통합 자문 및 구축 서비스업     0.76\n",
              "뉴스 제공업                      0.67\n",
              "포털 및 기타 인터넷 정보 매개 서비스업      0.66\n",
              "그 외 기타 전기 통신업               0.47\n",
              "택배업                         0.44\n",
              "유선 통신업                      0.33\n",
              "호스팅 및 관련 서비스업               0.00\n",
              "Name: 신규, dtype: float64"
            ]
          },
          "metadata": {
            "tags": []
          },
          "execution_count": 65
        }
      ]
    },
    {
      "cell_type": "code",
      "metadata": {
        "id": "b6tzCMTS8VA4",
        "colab_type": "code",
        "colab": {
          "base_uri": "https://localhost:8080/",
          "height": 569
        },
        "outputId": "8189325d-b4e9-447c-c9a3-c28362e5560e"
      },
      "source": [
        "plt.figure(figsize=(16, 6))\n",
        "sns.barplot(x=df_top100.index, y=df_top100)\n",
        "plt.title('IT직종별 신규인력')\n",
        "plt.xticks(rotation=90)\n",
        "plt.show()"
      ],
      "execution_count": 66,
      "outputs": [
        {
          "output_type": "display_data",
          "data": {
            "image/png": "[encoded data removed]",
            "text/plain": [
              "<Figure size 1152x432 with 1 Axes>"
            ]
          },
          "metadata": {
            "tags": [],
            "needs_background": "light"
          }
        }
      ]
    },
    {
      "cell_type": "markdown",
      "metadata": {
        "id": "Fb2FYz1B8VA8",
        "colab_type": "text"
      },
      "source": [
        "- 전반적으로 IT업종도 채용이 `**전반적으로 흐림**`이라는 표현이 적절해 보임.\n",
        "- 신규채용인력이 비대면으로 이루어지는 분야에 집중되어 있는 부분도 눈에 보인다.(무선및 위성통신업, 자료처리업,게임개발)\n",
        "- 택배업도 상위 50에 들어있는것이 확인"
      ]
    },
    {
      "cell_type": "code",
      "metadata": {
        "id": "q2_AGPwn8VA9",
        "colab_type": "code",
        "colab": {}
      },
      "source": [
        "df_2 = df_IT.groupby('업종코드명')['상실'].mean()"
      ],
      "execution_count": 68,
      "outputs": []
    },
    {
      "cell_type": "code",
      "metadata": {
        "id": "s3uFBRDu8VBC",
        "colab_type": "code",
        "colab": {
          "base_uri": "https://localhost:8080/",
          "height": 425
        },
        "outputId": "57ad9360-ce98-40e0-e4d3-62285fc4d1a1"
      },
      "source": [
        "df_bot100 = df_2.sort_values(ascending=False).head(50)\n"
      ],
      "execution_count": 72,
      "outputs": [
        {
          "output_type": "execute_result",
          "data": {
            "text/plain": [
              "업종코드명\n",
              "무선 및 위성 통신업                 5.86\n",
              "자료 처리업                      1.99\n",
              "데이터베이스 및 온라인 정보 제공업         1.44\n",
              "컴퓨터 및 주변 기기 수리업             1.17\n",
              "통신 재판매업                     0.99\n",
              "공영 우편업                      0.94\n",
              "뉴스 제공업                      0.75\n",
              "응용 소프트웨어 개발 및 공급업           0.62\n",
              "기타 정보 기술 및 컴퓨터 운영 관련 서비스업   0.59\n",
              "포털 및 기타 인터넷 정보 매개 서비스업      0.56\n",
              "기타 게임 소프트웨어 개발 및 공급업        0.55\n",
              "컴퓨터 시스템 통합 자문 및 구축 서비스업     0.48\n",
              "그 외 기타 전기 통신업               0.44\n",
              "유선 통신업                      0.33\n",
              "컴퓨터 프로그래밍 서비스업              0.32\n",
              "시스템 소프트웨어 개발 및 공급업          0.26\n",
              "택배업                         0.24\n",
              "유선 온라인 게임 소프트웨어 개발 및 공급업    0.23\n",
              "그 외 기타 정보 서비스업              0.22\n",
              "컴퓨터시설 관리업                   0.14\n",
              "모바일 게임 소프트웨어 개발 및 공급업       0.12\n",
              "호스팅 및 관련 서비스업               0.00\n",
              "Name: 상실, dtype: float64"
            ]
          },
          "metadata": {
            "tags": []
          },
          "execution_count": 72
        }
      ]
    },
    {
      "cell_type": "code",
      "metadata": {
        "id": "bWMhaSFc8VBG",
        "colab_type": "code",
        "colab": {
          "base_uri": "https://localhost:8080/",
          "height": 569
        },
        "outputId": "a313dc79-316e-4faf-b16f-47498de2fbcc"
      },
      "source": [
        "plt.figure(figsize=(16, 6))\n",
        "sns.barplot(x=df_bot100.index, y=df_bot100)\n",
        "plt.title('IT업종별 상실인력')\n",
        "plt.xticks(rotation=90)\n",
        "plt.show()"
      ],
      "execution_count": 70,
      "outputs": [
        {
          "output_type": "display_data",
          "data": {
            "image/png": "[encoded data removed]",
            "text/plain": [
              "<Figure size 1152x432 with 1 Axes>"
            ]
          },
          "metadata": {
            "tags": [],
            "needs_background": "light"
          }
        }
      ]
    },
    {
      "cell_type": "markdown",
      "metadata": {
        "id": "JeT1u5bH8VBK",
        "colab_type": "text"
      },
      "source": [
        "업종별 상실 인력에 대한 **TOP 50 결과**입니다."
      ]
    },
    {
      "cell_type": "markdown",
      "metadata": {
        "id": "r3_atWHF8VBK",
        "colab_type": "text"
      },
      "source": [
        "- 유선온라인 게임 소프트웨어개발 및 공급업의 경우엔 ,신규고용 창출에 비해 상실의 수치는 크지 않은것으로 보임\n",
        "- 신규고용 창출의 top인 무선 및 위성통신업종의 경우엔, 특이하게도 상실의 경우에도 Top임\n",
        "  - 유무선 기지국 건설 혹은 통신회선 설치로 인한 국민 연금 신규 및 상실이 대량으로 반복되는 구조인것으로 판단됨."
      ]
    },
    {
      "cell_type": "code",
      "metadata": {
        "id": "sHxv0bnNyAly",
        "colab_type": "code",
        "colab": {
          "base_uri": "https://localhost:8080/",
          "height": 1000
        },
        "outputId": "827cb531-e777-4d60-dbb9-525d8421849d"
      },
      "source": [
        "df_IT.loc[df_IT['업종코드']=='642001',['사업장명', '업종코드명', '신규', '상실', '고지금액', '인당고지금액']]"
      ],
      "execution_count": 92,
      "outputs": [
        {
          "output_type": "execute_result",
          "data": {
            "text/html": [
              "<div>\n",
              "<style scoped>\n",
              "    .dataframe tbody tr th:only-of-type {\n",
              "        vertical-align: middle;\n",
              "    }\n",
              "\n",
              "    .dataframe tbody tr th {\n",
              "        vertical-align: top;\n",
              "    }\n",
              "\n",
              "    .dataframe thead th {\n",
              "        text-align: right;\n",
              "    }\n",
              "</style>\n",
              "<table border=\"1\" class=\"dataframe\">\n",
              "  <thead>\n",
              "    <tr style=\"text-align: right;\">\n",
              "      <th></th>\n",
              "      <th>사업장명</th>\n",
              "      <th>업종코드명</th>\n",
              "      <th>신규</th>\n",
              "      <th>상실</th>\n",
              "      <th>고지금액</th>\n",
              "      <th>인당고지금액</th>\n",
              "    </tr>\n",
              "  </thead>\n",
              "  <tbody>\n",
              "    <tr>\n",
              "      <th>3479</th>\n",
              "      <td>케이티</td>\n",
              "      <td>무선 및 위성 통신업</td>\n",
              "      <td>15</td>\n",
              "      <td>76</td>\n",
              "      <td>9961182900</td>\n",
              "      <td>442188.61</td>\n",
              "    </tr>\n",
              "    <tr>\n",
              "      <th>3481</th>\n",
              "      <td>에스케이텔레콤</td>\n",
              "      <td>무선 및 위성 통신업</td>\n",
              "      <td>43</td>\n",
              "      <td>37</td>\n",
              "      <td>2400608900</td>\n",
              "      <td>440721.30</td>\n",
              "    </tr>\n",
              "    <tr>\n",
              "      <th>3579</th>\n",
              "      <td>케이티파워텔</td>\n",
              "      <td>무선 및 위성 통신업</td>\n",
              "      <td>1</td>\n",
              "      <td>0</td>\n",
              "      <td>63229120</td>\n",
              "      <td>448433.48</td>\n",
              "    </tr>\n",
              "    <tr>\n",
              "      <th>3932</th>\n",
              "      <td>케이디디아이코리아</td>\n",
              "      <td>무선 및 위성 통신업</td>\n",
              "      <td>3</td>\n",
              "      <td>1</td>\n",
              "      <td>20392060</td>\n",
              "      <td>351587.24</td>\n",
              "    </tr>\n",
              "    <tr>\n",
              "      <th>4451</th>\n",
              "      <td>케이티링커스</td>\n",
              "      <td>무선 및 위성 통신업</td>\n",
              "      <td>4</td>\n",
              "      <td>7</td>\n",
              "      <td>163318140</td>\n",
              "      <td>384277.98</td>\n",
              "    </tr>\n",
              "    <tr>\n",
              "      <th>4943</th>\n",
              "      <td>에스케이텔링크</td>\n",
              "      <td>무선 및 위성 통신업</td>\n",
              "      <td>0</td>\n",
              "      <td>0</td>\n",
              "      <td>91486520</td>\n",
              "      <td>444109.32</td>\n",
              "    </tr>\n",
              "    <tr>\n",
              "      <th>12843</th>\n",
              "      <td>케이티아이에스</td>\n",
              "      <td>무선 및 위성 통신업</td>\n",
              "      <td>199</td>\n",
              "      <td>225</td>\n",
              "      <td>1753229620</td>\n",
              "      <td>221955.90</td>\n",
              "    </tr>\n",
              "    <tr>\n",
              "      <th>13715</th>\n",
              "      <td>온산</td>\n",
              "      <td>무선 및 위성 통신업</td>\n",
              "      <td>0</td>\n",
              "      <td>0</td>\n",
              "      <td>2217960</td>\n",
              "      <td>277245.00</td>\n",
              "    </tr>\n",
              "    <tr>\n",
              "      <th>14747</th>\n",
              "      <td>인터콜</td>\n",
              "      <td>무선 및 위성 통신업</td>\n",
              "      <td>0</td>\n",
              "      <td>0</td>\n",
              "      <td>2591520</td>\n",
              "      <td>185108.57</td>\n",
              "    </tr>\n",
              "    <tr>\n",
              "      <th>22185</th>\n",
              "      <td>굿텔레콤</td>\n",
              "      <td>무선 및 위성 통신업</td>\n",
              "      <td>1</td>\n",
              "      <td>0</td>\n",
              "      <td>2326820</td>\n",
              "      <td>258535.56</td>\n",
              "    </tr>\n",
              "    <tr>\n",
              "      <th>32349</th>\n",
              "      <td>서울국제전화</td>\n",
              "      <td>무선 및 위성 통신업</td>\n",
              "      <td>0</td>\n",
              "      <td>0</td>\n",
              "      <td>3155940</td>\n",
              "      <td>450848.57</td>\n",
              "    </tr>\n",
              "    <tr>\n",
              "      <th>35652</th>\n",
              "      <td>엠프로미스</td>\n",
              "      <td>무선 및 위성 통신업</td>\n",
              "      <td>2</td>\n",
              "      <td>2</td>\n",
              "      <td>6257760</td>\n",
              "      <td>272076.52</td>\n",
              "    </tr>\n",
              "    <tr>\n",
              "      <th>39505</th>\n",
              "      <td>엘지유플러스</td>\n",
              "      <td>무선 및 위성 통신업</td>\n",
              "      <td>77</td>\n",
              "      <td>88</td>\n",
              "      <td>4142808860</td>\n",
              "      <td>405243.95</td>\n",
              "    </tr>\n",
              "    <tr>\n",
              "      <th>43303</th>\n",
              "      <td>대민방송네트워크</td>\n",
              "      <td>무선 및 위성 통신업</td>\n",
              "      <td>0</td>\n",
              "      <td>1</td>\n",
              "      <td>2859980</td>\n",
              "      <td>285998.00</td>\n",
              "    </tr>\n",
              "    <tr>\n",
              "      <th>53155</th>\n",
              "      <td>에쎈텍네트웍스</td>\n",
              "      <td>무선 및 위성 통신업</td>\n",
              "      <td>0</td>\n",
              "      <td>0</td>\n",
              "      <td>2829740</td>\n",
              "      <td>314415.56</td>\n",
              "    </tr>\n",
              "    <tr>\n",
              "      <th>54727</th>\n",
              "      <td></td>\n",
              "      <td>무선 및 위성 통신업</td>\n",
              "      <td>55</td>\n",
              "      <td>37</td>\n",
              "      <td>32443340</td>\n",
              "      <td>158260.20</td>\n",
              "    </tr>\n",
              "    <tr>\n",
              "      <th>67915</th>\n",
              "      <td>대성글로벌네트웍</td>\n",
              "      <td>무선 및 위성 통신업</td>\n",
              "      <td>0</td>\n",
              "      <td>0</td>\n",
              "      <td>1363400</td>\n",
              "      <td>340850.00</td>\n",
              "    </tr>\n",
              "    <tr>\n",
              "      <th>69679</th>\n",
              "      <td>다인커머스</td>\n",
              "      <td>무선 및 위성 통신업</td>\n",
              "      <td>0</td>\n",
              "      <td>0</td>\n",
              "      <td>1845880</td>\n",
              "      <td>230735.00</td>\n",
              "    </tr>\n",
              "    <tr>\n",
              "      <th>74311</th>\n",
              "      <td>광전기통신</td>\n",
              "      <td>무선 및 위성 통신업</td>\n",
              "      <td>0</td>\n",
              "      <td>0</td>\n",
              "      <td>1297060</td>\n",
              "      <td>324265.00</td>\n",
              "    </tr>\n",
              "    <tr>\n",
              "      <th>76787</th>\n",
              "      <td>넷케이티아이</td>\n",
              "      <td>무선 및 위성 통신업</td>\n",
              "      <td>6</td>\n",
              "      <td>6</td>\n",
              "      <td>55806200</td>\n",
              "      <td>301655.14</td>\n",
              "    </tr>\n",
              "    <tr>\n",
              "      <th>79990</th>\n",
              "      <td>유비퍼스트대원</td>\n",
              "      <td>무선 및 위성 통신업</td>\n",
              "      <td>0</td>\n",
              "      <td>0</td>\n",
              "      <td>13487880</td>\n",
              "      <td>293214.78</td>\n",
              "    </tr>\n",
              "    <tr>\n",
              "      <th>87141</th>\n",
              "      <td>한국전파기지국</td>\n",
              "      <td>무선 및 위성 통신업</td>\n",
              "      <td>2</td>\n",
              "      <td>0</td>\n",
              "      <td>31332720</td>\n",
              "      <td>319721.63</td>\n",
              "    </tr>\n",
              "    <tr>\n",
              "      <th>87398</th>\n",
              "      <td>SK브로드밴드</td>\n",
              "      <td>무선 및 위성 통신업</td>\n",
              "      <td>7</td>\n",
              "      <td>7</td>\n",
              "      <td>1029701300</td>\n",
              "      <td>434473.12</td>\n",
              "    </tr>\n",
              "    <tr>\n",
              "      <th>123460</th>\n",
              "      <td>남양정보기술</td>\n",
              "      <td>무선 및 위성 통신업</td>\n",
              "      <td>1</td>\n",
              "      <td>0</td>\n",
              "      <td>1256560</td>\n",
              "      <td>251312.00</td>\n",
              "    </tr>\n",
              "    <tr>\n",
              "      <th>148687</th>\n",
              "      <td>피에스앤마케팅</td>\n",
              "      <td>무선 및 위성 통신업</td>\n",
              "      <td>10</td>\n",
              "      <td>44</td>\n",
              "      <td>636596680</td>\n",
              "      <td>288444.35</td>\n",
              "    </tr>\n",
              "    <tr>\n",
              "      <th>172537</th>\n",
              "      <td>세종텔레콤</td>\n",
              "      <td>무선 및 위성 통신업</td>\n",
              "      <td>3</td>\n",
              "      <td>2</td>\n",
              "      <td>125928060</td>\n",
              "      <td>402326.07</td>\n",
              "    </tr>\n",
              "    <tr>\n",
              "      <th>179527</th>\n",
              "      <td>파워비스</td>\n",
              "      <td>무선 및 위성 통신업</td>\n",
              "      <td>0</td>\n",
              "      <td>2</td>\n",
              "      <td>1276700</td>\n",
              "      <td>159587.50</td>\n",
              "    </tr>\n",
              "    <tr>\n",
              "      <th>180252</th>\n",
              "      <td>제이넷통신</td>\n",
              "      <td>무선 및 위성 통신업</td>\n",
              "      <td>0</td>\n",
              "      <td>0</td>\n",
              "      <td>6785420</td>\n",
              "      <td>242336.43</td>\n",
              "    </tr>\n",
              "    <tr>\n",
              "      <th>183728</th>\n",
              "      <td>비에스아이티</td>\n",
              "      <td>무선 및 위성 통신업</td>\n",
              "      <td>0</td>\n",
              "      <td>0</td>\n",
              "      <td>2294700</td>\n",
              "      <td>229470.00</td>\n",
              "    </tr>\n",
              "    <tr>\n",
              "      <th>191959</th>\n",
              "      <td>에스와이텔레콤</td>\n",
              "      <td>무선 및 위성 통신업</td>\n",
              "      <td>0</td>\n",
              "      <td>0</td>\n",
              "      <td>1206420</td>\n",
              "      <td>301605.00</td>\n",
              "    </tr>\n",
              "    <tr>\n",
              "      <th>198881</th>\n",
              "      <td>넥스이노</td>\n",
              "      <td>무선 및 위성 통신업</td>\n",
              "      <td>0</td>\n",
              "      <td>0</td>\n",
              "      <td>1843820</td>\n",
              "      <td>368764.00</td>\n",
              "    </tr>\n",
              "    <tr>\n",
              "      <th>199806</th>\n",
              "      <td>대연정보통신케이티스카라이프2012년경남마케</td>\n",
              "      <td>무선 및 위성 통신업</td>\n",
              "      <td>1</td>\n",
              "      <td>0</td>\n",
              "      <td>1218120</td>\n",
              "      <td>174017.14</td>\n",
              "    </tr>\n",
              "    <tr>\n",
              "      <th>208197</th>\n",
              "      <td>케이티링커스-경기남부1541</td>\n",
              "      <td>무선 및 위성 통신업</td>\n",
              "      <td>0</td>\n",
              "      <td>0</td>\n",
              "      <td>2027960</td>\n",
              "      <td>405592.00</td>\n",
              "    </tr>\n",
              "    <tr>\n",
              "      <th>208199</th>\n",
              "      <td>케이티링커스-서부인천1541</td>\n",
              "      <td>무선 및 위성 통신업</td>\n",
              "      <td>0</td>\n",
              "      <td>0</td>\n",
              "      <td>1937320</td>\n",
              "      <td>387464.00</td>\n",
              "    </tr>\n",
              "    <tr>\n",
              "      <th>208891</th>\n",
              "      <td>케이티링커스-서울남부1541</td>\n",
              "      <td>무선 및 위성 통신업</td>\n",
              "      <td>0</td>\n",
              "      <td>0</td>\n",
              "      <td>2016780</td>\n",
              "      <td>403356.00</td>\n",
              "    </tr>\n",
              "    <tr>\n",
              "      <th>222507</th>\n",
              "      <td>가온정보통신</td>\n",
              "      <td>무선 및 위성 통신업</td>\n",
              "      <td>0</td>\n",
              "      <td>0</td>\n",
              "      <td>8922680</td>\n",
              "      <td>228786.67</td>\n",
              "    </tr>\n",
              "    <tr>\n",
              "      <th>223104</th>\n",
              "      <td>비전모바일코리아</td>\n",
              "      <td>무선 및 위성 통신업</td>\n",
              "      <td>0</td>\n",
              "      <td>0</td>\n",
              "      <td>4130040</td>\n",
              "      <td>317695.38</td>\n",
              "    </tr>\n",
              "    <tr>\n",
              "      <th>224788</th>\n",
              "      <td>엔지디씨</td>\n",
              "      <td>무선 및 위성 통신업</td>\n",
              "      <td>0</td>\n",
              "      <td>1</td>\n",
              "      <td>1203540</td>\n",
              "      <td>200590.00</td>\n",
              "    </tr>\n",
              "    <tr>\n",
              "      <th>225183</th>\n",
              "      <td>케이티스-OTS 개통 및 AS공사센터</td>\n",
              "      <td>무선 및 위성 통신업</td>\n",
              "      <td>0</td>\n",
              "      <td>0</td>\n",
              "      <td>4247440</td>\n",
              "      <td>202259.05</td>\n",
              "    </tr>\n",
              "    <tr>\n",
              "      <th>235642</th>\n",
              "      <td>테이크네트웍스</td>\n",
              "      <td>무선 및 위성 통신업</td>\n",
              "      <td>0</td>\n",
              "      <td>1</td>\n",
              "      <td>2492240</td>\n",
              "      <td>249224.00</td>\n",
              "    </tr>\n",
              "    <tr>\n",
              "      <th>244996</th>\n",
              "      <td>오케이114</td>\n",
              "      <td>무선 및 위성 통신업</td>\n",
              "      <td>0</td>\n",
              "      <td>0</td>\n",
              "      <td>2172480</td>\n",
              "      <td>310354.29</td>\n",
              "    </tr>\n",
              "    <tr>\n",
              "      <th>247505</th>\n",
              "      <td>늘커뮤니케이션</td>\n",
              "      <td>무선 및 위성 통신업</td>\n",
              "      <td>0</td>\n",
              "      <td>0</td>\n",
              "      <td>1195700</td>\n",
              "      <td>199283.33</td>\n",
              "    </tr>\n",
              "    <tr>\n",
              "      <th>265383</th>\n",
              "      <td></td>\n",
              "      <td>무선 및 위성 통신업</td>\n",
              "      <td>0</td>\n",
              "      <td>0</td>\n",
              "      <td>0</td>\n",
              "      <td>nan</td>\n",
              "    </tr>\n",
              "    <tr>\n",
              "      <th>292581</th>\n",
              "      <td>케이티링커스-강원1541</td>\n",
              "      <td>무선 및 위성 통신업</td>\n",
              "      <td>0</td>\n",
              "      <td>0</td>\n",
              "      <td>1972160</td>\n",
              "      <td>394432.00</td>\n",
              "    </tr>\n",
              "    <tr>\n",
              "      <th>292919</th>\n",
              "      <td>케이티링커스-대전 충남1541</td>\n",
              "      <td>무선 및 위성 통신업</td>\n",
              "      <td>0</td>\n",
              "      <td>0</td>\n",
              "      <td>2019940</td>\n",
              "      <td>403988.00</td>\n",
              "    </tr>\n",
              "    <tr>\n",
              "      <th>292921</th>\n",
              "      <td>케이티링커스-충북1541</td>\n",
              "      <td>무선 및 위성 통신업</td>\n",
              "      <td>0</td>\n",
              "      <td>0</td>\n",
              "      <td>1923720</td>\n",
              "      <td>384744.00</td>\n",
              "    </tr>\n",
              "  </tbody>\n",
              "</table>\n",
              "</div>"
            ],
            "text/plain": [
              "                           사업장명        업종코드명   신규   상실        고지금액    인당고지금액\n",
              "3479                        케이티  무선 및 위성 통신업   15   76  9961182900 442188.61\n",
              "3481                    에스케이텔레콤  무선 및 위성 통신업   43   37  2400608900 440721.30\n",
              "3579                     케이티파워텔  무선 및 위성 통신업    1    0    63229120 448433.48\n",
              "3932                  케이디디아이코리아  무선 및 위성 통신업    3    1    20392060 351587.24\n",
              "4451                     케이티링커스  무선 및 위성 통신업    4    7   163318140 384277.98\n",
              "4943                    에스케이텔링크  무선 및 위성 통신업    0    0    91486520 444109.32\n",
              "12843                   케이티아이에스  무선 및 위성 통신업  199  225  1753229620 221955.90\n",
              "13715                        온산  무선 및 위성 통신업    0    0     2217960 277245.00\n",
              "14747                       인터콜  무선 및 위성 통신업    0    0     2591520 185108.57\n",
              "22185                      굿텔레콤  무선 및 위성 통신업    1    0     2326820 258535.56\n",
              "32349                    서울국제전화  무선 및 위성 통신업    0    0     3155940 450848.57\n",
              "35652                     엠프로미스  무선 및 위성 통신업    2    2     6257760 272076.52\n",
              "39505                    엘지유플러스  무선 및 위성 통신업   77   88  4142808860 405243.95\n",
              "43303                  대민방송네트워크  무선 및 위성 통신업    0    1     2859980 285998.00\n",
              "53155                   에쎈텍네트웍스  무선 및 위성 통신업    0    0     2829740 314415.56\n",
              "54727                            무선 및 위성 통신업   55   37    32443340 158260.20\n",
              "67915                  대성글로벌네트웍  무선 및 위성 통신업    0    0     1363400 340850.00\n",
              "69679                     다인커머스  무선 및 위성 통신업    0    0     1845880 230735.00\n",
              "74311                     광전기통신  무선 및 위성 통신업    0    0     1297060 324265.00\n",
              "76787                    넷케이티아이  무선 및 위성 통신업    6    6    55806200 301655.14\n",
              "79990                   유비퍼스트대원  무선 및 위성 통신업    0    0    13487880 293214.78\n",
              "87141                   한국전파기지국  무선 및 위성 통신업    2    0    31332720 319721.63\n",
              "87398                   SK브로드밴드  무선 및 위성 통신업    7    7  1029701300 434473.12\n",
              "123460                   남양정보기술  무선 및 위성 통신업    1    0     1256560 251312.00\n",
              "148687                  피에스앤마케팅  무선 및 위성 통신업   10   44   636596680 288444.35\n",
              "172537                   세종텔레콤   무선 및 위성 통신업    3    2   125928060 402326.07\n",
              "179527                     파워비스  무선 및 위성 통신업    0    2     1276700 159587.50\n",
              "180252                    제이넷통신  무선 및 위성 통신업    0    0     6785420 242336.43\n",
              "183728                   비에스아이티  무선 및 위성 통신업    0    0     2294700 229470.00\n",
              "191959                  에스와이텔레콤  무선 및 위성 통신업    0    0     1206420 301605.00\n",
              "198881                     넥스이노  무선 및 위성 통신업    0    0     1843820 368764.00\n",
              "199806  대연정보통신케이티스카라이프2012년경남마케  무선 및 위성 통신업    1    0     1218120 174017.14\n",
              "208197          케이티링커스-경기남부1541  무선 및 위성 통신업    0    0     2027960 405592.00\n",
              "208199          케이티링커스-서부인천1541  무선 및 위성 통신업    0    0     1937320 387464.00\n",
              "208891          케이티링커스-서울남부1541  무선 및 위성 통신업    0    0     2016780 403356.00\n",
              "222507                   가온정보통신  무선 및 위성 통신업    0    0     8922680 228786.67\n",
              "223104                 비전모바일코리아  무선 및 위성 통신업    0    0     4130040 317695.38\n",
              "224788                     엔지디씨  무선 및 위성 통신업    0    1     1203540 200590.00\n",
              "225183     케이티스-OTS 개통 및 AS공사센터  무선 및 위성 통신업    0    0     4247440 202259.05\n",
              "235642                  테이크네트웍스  무선 및 위성 통신업    0    1     2492240 249224.00\n",
              "244996                   오케이114  무선 및 위성 통신업    0    0     2172480 310354.29\n",
              "247505                  늘커뮤니케이션  무선 및 위성 통신업    0    0     1195700 199283.33\n",
              "265383                           무선 및 위성 통신업    0    0           0       nan\n",
              "292581            케이티링커스-강원1541  무선 및 위성 통신업    0    0     1972160 394432.00\n",
              "292919         케이티링커스-대전 충남1541  무선 및 위성 통신업    0    0     2019940 403988.00\n",
              "292921            케이티링커스-충북1541  무선 및 위성 통신업    0    0     1923720 384744.00"
            ]
          },
          "metadata": {
            "tags": []
          },
          "execution_count": 92
        }
      ]
    },
    {
      "cell_type": "markdown",
      "metadata": {
        "id": "nTVUS2sV8VBO",
        "colab_type": "text"
      },
      "source": [
        "## 업종별 단일 회사 연봉 비교 차트 그리기"
      ]
    },
    {
      "cell_type": "code",
      "metadata": {
        "id": "F7kmcMhz8VBO",
        "colab_type": "code",
        "colab": {}
      },
      "source": [
        "def compare_and_visualize(company):\n",
        "    code = df[df['사업장명'] == company]['업종코드']\n",
        "    cols = ['가입자수', '평균월급', '평균연봉', '신규', '상실', '업종코드']\n",
        "    filtered = df.loc[df['업종코드']==code.item()][cols]\n",
        "    df_company = df.loc[df['사업장명'] == company][cols]\n",
        "    df_company = df_company.append(pd.Series(filtered.mean()), ignore_index=True)\n",
        "    \n",
        "    compare_cols = ['가입자수', '평균월급', '평균연봉', '신규', '상실']\n",
        "    for col in compare_cols:\n",
        "        plt.figure(figsize=(10, 5))\n",
        "        sns.barplot(x=[company, '업종평균'], y=col, data=df_company)\n",
        "        plt.title('{} vs 업종평균'.format(col), fontsize=18)\n",
        "        plt.show()"
      ],
      "execution_count": null,
      "outputs": []
    },
    {
      "cell_type": "code",
      "metadata": {
        "id": "2lLesLGA8VBR",
        "colab_type": "code",
        "colab": {}
      },
      "source": [
        "compare_and_visualize('패스트캠퍼스')"
      ],
      "execution_count": null,
      "outputs": []
    },
    {
      "cell_type": "markdown",
      "metadata": {
        "id": "ZCsmrxKUz2hx",
        "colab_type": "text"
      },
      "source": [
        "## 국민연금 상실/취득으로 본 업종별 경제상황"
      ]
    },
    {
      "cell_type": "code",
      "metadata": {
        "id": "sQl68pO38VBU",
        "colab_type": "code",
        "colab": {}
      },
      "source": [
        ""
      ],
      "execution_count": null,
      "outputs": []
    }
  ]
}