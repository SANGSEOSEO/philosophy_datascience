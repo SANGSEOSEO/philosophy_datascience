{
  "nbformat": 4,
  "nbformat_minor": 0,
  "metadata": {
    "colab": {
      "name": "[실습]Ch06.numpy - 04~06.index와 slicing",
      "provenance": [],
      "collapsed_sections": [],
      "toc_visible": true,
      "include_colab_link": true
    },
    "kernelspec": {
      "name": "python3",
      "display_name": "Python 3"
    }
  },
  "cells": [
    {
      "cell_type": "markdown",
      "metadata": {
        "id": "view-in-github",
        "colab_type": "text"
      },
      "source": [
        "<a href=\"https://colab.research.google.com/github/SANGSEOSEO/philosophy_datascience/blob/master/%5B%EC%8B%A4%EC%8A%B5%5DCh06_numpy_04~06_index%EC%99%80_slicing.ipynb\" target=\"_parent\"><img src=\"https://colab.research.google.com/assets/colab-badge.svg\" alt=\"Open In Colab\"/></a>"
      ]
    },
    {
      "cell_type": "code",
      "metadata": {
        "id": "vRbhAqrPPUSJ",
        "colab_type": "code",
        "colab": {}
      },
      "source": [
        "import numpy as np"
      ],
      "execution_count": 1,
      "outputs": []
    },
    {
      "cell_type": "markdown",
      "metadata": {
        "id": "5udnDdRaPwEO",
        "colab_type": "text"
      },
      "source": [
        "## 1. 슬라이싱 (Slicing)"
      ]
    },
    {
      "cell_type": "markdown",
      "metadata": {
        "id": "OsFvaJktP0b_",
        "colab_type": "text"
      },
      "source": [
        "배열의 부분 선택 (과일을 슬라이스해서 부분만 먹듯..)"
      ]
    },
    {
      "cell_type": "code",
      "metadata": {
        "id": "6keEerG8P_S5",
        "colab_type": "code",
        "colab": {}
      },
      "source": [
        "arr = np.array([0, 1, 2, 3, 4, 5, 6, 7, 8, 9])"
      ],
      "execution_count": 7,
      "outputs": []
    },
    {
      "cell_type": "code",
      "metadata": {
        "id": "h4hJvNn9QFNt",
        "colab_type": "code",
        "colab": {
          "base_uri": "https://localhost:8080/",
          "height": 34
        },
        "outputId": "a1474724-b20d-4bf9-ca7d-526816e6eff4"
      },
      "source": [
        "arr.shape"
      ],
      "execution_count": 8,
      "outputs": [
        {
          "output_type": "execute_result",
          "data": {
            "text/plain": [
              "(10,)"
            ]
          },
          "metadata": {
            "tags": []
          },
          "execution_count": 8
        }
      ]
    },
    {
      "cell_type": "markdown",
      "metadata": {
        "id": "Srgo4QWxQXZN",
        "colab_type": "text"
      },
      "source": [
        "### 1-1. index 지정하여 색인"
      ]
    },
    {
      "cell_type": "markdown",
      "metadata": {
        "id": "G9hLG9ZZRn3P",
        "colab_type": "text"
      },
      "source": [
        "#### 1차원 array"
      ]
    },
    {
      "cell_type": "code",
      "metadata": {
        "id": "9vqX0uhOSKSp",
        "colab_type": "code",
        "colab": {}
      },
      "source": [
        "arr = np.array([0, 1, 2, 3, 4, 5, 6, 7, 8, 9])"
      ],
      "execution_count": 9,
      "outputs": []
    },
    {
      "cell_type": "code",
      "metadata": {
        "id": "cXZG1g94QV_i",
        "colab_type": "code",
        "colab": {
          "base_uri": "https://localhost:8080/",
          "height": 34
        },
        "outputId": "1b315d82-ee60-49f2-f837-9b90638d2a70"
      },
      "source": [
        "# 배열의 추출과 동일\n",
        "arr[0]"
      ],
      "execution_count": 11,
      "outputs": [
        {
          "output_type": "execute_result",
          "data": {
            "text/plain": [
              "0"
            ]
          },
          "metadata": {
            "tags": []
          },
          "execution_count": 11
        }
      ]
    },
    {
      "cell_type": "code",
      "metadata": {
        "id": "5posuZniQVks",
        "colab_type": "code",
        "colab": {
          "base_uri": "https://localhost:8080/",
          "height": 34
        },
        "outputId": "1046bd9c-e5f9-4483-c352-fe1b35143e21"
      },
      "source": [
        "# 코드를 입력해 주세요\n",
        "arr[5]"
      ],
      "execution_count": 12,
      "outputs": [
        {
          "output_type": "execute_result",
          "data": {
            "text/plain": [
              "5"
            ]
          },
          "metadata": {
            "tags": []
          },
          "execution_count": 12
        }
      ]
    },
    {
      "cell_type": "code",
      "metadata": {
        "id": "8P2cdAGJQf0u",
        "colab_type": "code",
        "colab": {
          "base_uri": "https://localhost:8080/",
          "height": 182
        },
        "outputId": "4e307e1b-3c5f-4814-81df-a93b84d6d7d1"
      },
      "source": [
        "# IndexError: index 10 is out of bounds for axis 0 with size 10\n",
        "arr[10]"
      ],
      "execution_count": 14,
      "outputs": [
        {
          "output_type": "error",
          "ename": "IndexError",
          "evalue": "ignored",
          "traceback": [
            "\u001b[0;31m---------------------------------------------------------------------------\u001b[0m",
            "\u001b[0;31mIndexError\u001b[0m                                Traceback (most recent call last)",
            "\u001b[0;32m<ipython-input-14-58e46de3af0e>\u001b[0m in \u001b[0;36m<module>\u001b[0;34m()\u001b[0m\n\u001b[1;32m      1\u001b[0m \u001b[0;31m# IndexError: index 10 is out of bounds for axis 0 with size 10\u001b[0m\u001b[0;34m\u001b[0m\u001b[0;34m\u001b[0m\u001b[0;34m\u001b[0m\u001b[0m\n\u001b[0;32m----> 2\u001b[0;31m \u001b[0marr\u001b[0m\u001b[0;34m[\u001b[0m\u001b[0;36m10\u001b[0m\u001b[0;34m]\u001b[0m\u001b[0;34m\u001b[0m\u001b[0;34m\u001b[0m\u001b[0m\n\u001b[0m",
            "\u001b[0;31mIndexError\u001b[0m: index 10 is out of bounds for axis 0 with size 10"
          ]
        }
      ]
    },
    {
      "cell_type": "code",
      "metadata": {
        "id": "rKKihrqcQhMR",
        "colab_type": "code",
        "colab": {
          "base_uri": "https://localhost:8080/",
          "height": 34
        },
        "outputId": "1f766eb2-4781-45cd-cb31-f453127890eb"
      },
      "source": [
        "# -1 : 뒤에서 부터 인덱싱\n",
        "arr[-1], arr[8]"
      ],
      "execution_count": 15,
      "outputs": [
        {
          "output_type": "execute_result",
          "data": {
            "text/plain": [
              "(9, 8)"
            ]
          },
          "metadata": {
            "tags": []
          },
          "execution_count": 15
        }
      ]
    },
    {
      "cell_type": "code",
      "metadata": {
        "id": "4Ly74kYZQkQg",
        "colab_type": "code",
        "colab": {
          "base_uri": "https://localhost:8080/",
          "height": 34
        },
        "outputId": "628769ea-2d68-4725-fc46-e403168217dd"
      },
      "source": [
        "# 코드를 입력해 주세요\n",
        "arr[-10]  # a[0]과 동일"
      ],
      "execution_count": 17,
      "outputs": [
        {
          "output_type": "execute_result",
          "data": {
            "text/plain": [
              "0"
            ]
          },
          "metadata": {
            "tags": []
          },
          "execution_count": 17
        }
      ]
    },
    {
      "cell_type": "markdown",
      "metadata": {
        "id": "wl0C7KPNRrAI",
        "colab_type": "text"
      },
      "source": [
        "#### 2차원 array"
      ]
    },
    {
      "cell_type": "code",
      "metadata": {
        "id": "nmY0u1cjgjdE",
        "colab_type": "code",
        "colab": {}
      },
      "source": [
        "arr2d = np.array([[1, 2, 3, 4],\n",
        "                  [5, 6, 7, 8],\n",
        "                  [9, 10, 11, 12]])"
      ],
      "execution_count": 19,
      "outputs": []
    },
    {
      "cell_type": "code",
      "metadata": {
        "id": "fuJ8ZLpLRsx_",
        "colab_type": "code",
        "colab": {
          "base_uri": "https://localhost:8080/",
          "height": 34
        },
        "outputId": "01ccad98-8fcb-4b5e-d7e6-95a5fd5ce7a0"
      },
      "source": [
        "arr2d.shape"
      ],
      "execution_count": 20,
      "outputs": [
        {
          "output_type": "execute_result",
          "data": {
            "text/plain": [
              "(3, 4)"
            ]
          },
          "metadata": {
            "tags": []
          },
          "execution_count": 20
        }
      ]
    },
    {
      "cell_type": "markdown",
      "metadata": {
        "id": "YfTsIia7RzrQ",
        "colab_type": "text"
      },
      "source": [
        "arr2d[행, 열]"
      ]
    },
    {
      "cell_type": "code",
      "metadata": {
        "id": "zO9fguiHRyCR",
        "colab_type": "code",
        "colab": {
          "base_uri": "https://localhost:8080/",
          "height": 34
        },
        "outputId": "381652d5-5f4a-40b3-9a59-b8c8c69f5368"
      },
      "source": [
        "# 코드를 입력해 주세요\n",
        "arr2d[0, 2]"
      ],
      "execution_count": 21,
      "outputs": [
        {
          "output_type": "execute_result",
          "data": {
            "text/plain": [
              "3"
            ]
          },
          "metadata": {
            "tags": []
          },
          "execution_count": 21
        }
      ]
    },
    {
      "cell_type": "code",
      "metadata": {
        "id": "qbo4YbpsRxyO",
        "colab_type": "code",
        "colab": {
          "base_uri": "https://localhost:8080/",
          "height": 34
        },
        "outputId": "a6b26024-c582-4a1d-c505-12e260562c40"
      },
      "source": [
        "# 코드를 입력해 주세요\n",
        "arr2d[2, 1]"
      ],
      "execution_count": 22,
      "outputs": [
        {
          "output_type": "execute_result",
          "data": {
            "text/plain": [
              "10"
            ]
          },
          "metadata": {
            "tags": []
          },
          "execution_count": 22
        }
      ]
    },
    {
      "cell_type": "markdown",
      "metadata": {
        "id": "A9JfdvmOQshs",
        "colab_type": "text"
      },
      "source": [
        "### 1-2. 범위 색인"
      ]
    },
    {
      "cell_type": "markdown",
      "metadata": {
        "id": "HofWSyh-SCgA",
        "colab_type": "text"
      },
      "source": [
        "#### 1차원"
      ]
    },
    {
      "cell_type": "markdown",
      "metadata": {
        "id": "6EGyB84QQw8j",
        "colab_type": "text"
      },
      "source": [
        "index 1**이상** 끝까지"
      ]
    },
    {
      "cell_type": "code",
      "metadata": {
        "id": "OxbkWyR03VO8",
        "colab_type": "code",
        "colab": {
          "base_uri": "https://localhost:8080/",
          "height": 34
        },
        "outputId": "ed1aaf2f-8edd-4ab4-dcb4-71b252242316"
      },
      "source": [
        "arr"
      ],
      "execution_count": 24,
      "outputs": [
        {
          "output_type": "execute_result",
          "data": {
            "text/plain": [
              "array([0, 1, 2, 3, 4, 5, 6, 7, 8, 9])"
            ]
          },
          "metadata": {
            "tags": []
          },
          "execution_count": 24
        }
      ]
    },
    {
      "cell_type": "code",
      "metadata": {
        "id": "Yp9guIXUk45v",
        "colab_type": "code",
        "colab": {
          "base_uri": "https://localhost:8080/",
          "height": 34
        },
        "outputId": "af690c0a-4b5f-46fc-9c5f-797d3b70195a"
      },
      "source": [
        "# 1번 인덱스부터 끝까지 다 가져와.\n",
        "arr[1:]"
      ],
      "execution_count": 23,
      "outputs": [
        {
          "output_type": "execute_result",
          "data": {
            "text/plain": [
              "array([1, 2, 3, 4, 5, 6, 7, 8, 9])"
            ]
          },
          "metadata": {
            "tags": []
          },
          "execution_count": 23
        }
      ]
    },
    {
      "cell_type": "code",
      "metadata": {
        "id": "ooPQcNovQvS-",
        "colab_type": "code",
        "colab": {
          "base_uri": "https://localhost:8080/",
          "height": 34
        },
        "outputId": "007c63b5-1147-4879-a2d3-b02afdce2f84"
      },
      "source": [
        "# 코드를 입력해 주세요\n",
        "arr[1:]"
      ],
      "execution_count": null,
      "outputs": [
        {
          "output_type": "execute_result",
          "data": {
            "text/plain": [
              "array([1, 2, 3, 4, 5, 6, 7, 8, 9])"
            ]
          },
          "metadata": {
            "tags": []
          },
          "execution_count": 32
        }
      ]
    },
    {
      "cell_type": "markdown",
      "metadata": {
        "id": "oK-Q2U4kQz2w",
        "colab_type": "text"
      },
      "source": [
        "index 5 **미만** 까지"
      ]
    },
    {
      "cell_type": "code",
      "metadata": {
        "id": "XFqkQSkKRIl_",
        "colab_type": "code",
        "colab": {
          "base_uri": "https://localhost:8080/",
          "height": 34
        },
        "outputId": "69bcb1a8-b721-458e-dc11-4b1c859477d1"
      },
      "source": [
        "# 5번째 인덱스는 포함되지 않음\n",
        "arr[:5]"
      ],
      "execution_count": 25,
      "outputs": [
        {
          "output_type": "execute_result",
          "data": {
            "text/plain": [
              "array([0, 1, 2, 3, 4])"
            ]
          },
          "metadata": {
            "tags": []
          },
          "execution_count": 25
        }
      ]
    },
    {
      "cell_type": "markdown",
      "metadata": {
        "id": "qZbdF9riRIh5",
        "colab_type": "text"
      },
      "source": [
        "index 1이상 5미만"
      ]
    },
    {
      "cell_type": "code",
      "metadata": {
        "id": "0txKbZfGRIdD",
        "colab_type": "code",
        "colab": {
          "base_uri": "https://localhost:8080/",
          "height": 34
        },
        "outputId": "faabc370-7d75-4cc8-ce9a-ca0de1268153"
      },
      "source": [
        "# 시작점은 포함되고 끝점은 포함되지 않음\n",
        "arr[1:5]"
      ],
      "execution_count": 26,
      "outputs": [
        {
          "output_type": "execute_result",
          "data": {
            "text/plain": [
              "array([1, 2, 3, 4])"
            ]
          },
          "metadata": {
            "tags": []
          },
          "execution_count": 26
        }
      ]
    },
    {
      "cell_type": "code",
      "metadata": {
        "id": "LcI1X7ke3ujD",
        "colab_type": "code",
        "colab": {
          "base_uri": "https://localhost:8080/",
          "height": 34
        },
        "outputId": "12f1c29c-25f1-416c-afcb-1f26563f3b30"
      },
      "source": [
        "arr"
      ],
      "execution_count": 29,
      "outputs": [
        {
          "output_type": "execute_result",
          "data": {
            "text/plain": [
              "array([0, 1, 2, 3, 4, 5, 6, 7, 8, 9])"
            ]
          },
          "metadata": {
            "tags": []
          },
          "execution_count": 29
        }
      ]
    },
    {
      "cell_type": "code",
      "metadata": {
        "id": "Dy_iZW3gjF8B",
        "colab_type": "code",
        "colab": {
          "base_uri": "https://localhost:8080/",
          "height": 34
        },
        "outputId": "5f0a2efd-9878-4fb2-8c22-dde57be63eba"
      },
      "source": [
        "# arr[-1]이 9이므로 9는 포함안되고, 0부터 8까지만 가져옴\n",
        "arr[:-1]"
      ],
      "execution_count": 30,
      "outputs": [
        {
          "output_type": "execute_result",
          "data": {
            "text/plain": [
              "array([0, 1, 2, 3, 4, 5, 6, 7, 8])"
            ]
          },
          "metadata": {
            "tags": []
          },
          "execution_count": 30
        }
      ]
    },
    {
      "cell_type": "markdown",
      "metadata": {
        "id": "I6JtSZjoSEn4",
        "colab_type": "text"
      },
      "source": [
        "#### 2차원"
      ]
    },
    {
      "cell_type": "code",
      "metadata": {
        "id": "9lf5XlZSSGOO",
        "colab_type": "code",
        "colab": {}
      },
      "source": [
        "arr2d = np.array([[1, 2, 3, 4], \n",
        "                  [5, 6, 7, 8], \n",
        "                  [9, 10, 11, 12]])"
      ],
      "execution_count": null,
      "outputs": []
    },
    {
      "cell_type": "markdown",
      "metadata": {
        "id": "HR_JODwpSWKq",
        "colab_type": "text"
      },
      "source": [
        "row(행)을 모두 가져오려는 경우"
      ]
    },
    {
      "cell_type": "code",
      "metadata": {
        "id": "iXoayqA8SMFc",
        "colab_type": "code",
        "colab": {
          "base_uri": "https://localhost:8080/",
          "height": 34
        },
        "outputId": "7c612765-5d4b-49a3-bf52-b1aa529116f7"
      },
      "source": [
        "# 0번째 로우를 가져오되, 컬럼은 다 가져와라\n",
        "# `:`의 의미는 다 가져오라는 의미\n",
        "arr2d[0, :]"
      ],
      "execution_count": null,
      "outputs": [
        {
          "output_type": "execute_result",
          "data": {
            "text/plain": [
              "array([1, 2, 3, 4])"
            ]
          },
          "metadata": {
            "tags": []
          },
          "execution_count": 42
        }
      ]
    },
    {
      "cell_type": "markdown",
      "metadata": {
        "id": "0CjCWzNhSZjq",
        "colab_type": "text"
      },
      "source": [
        "column(열)을 모두 가져오려는 경우"
      ]
    },
    {
      "cell_type": "code",
      "metadata": {
        "id": "2I_If7CjSS7O",
        "colab_type": "code",
        "colab": {
          "base_uri": "https://localhost:8080/",
          "height": 34
        },
        "outputId": "fea5d404-b302-4b0b-db66-9fd4238ef46e"
      },
      "source": [
        "# 행은 모든 행은 다 가져오는데 컬럼은 2번째 행만 가져옴\n",
        "arr2d[:, 2]"
      ],
      "execution_count": 31,
      "outputs": [
        {
          "output_type": "execute_result",
          "data": {
            "text/plain": [
              "array([ 3,  7, 11])"
            ]
          },
          "metadata": {
            "tags": []
          },
          "execution_count": 31
        }
      ]
    },
    {
      "cell_type": "markdown",
      "metadata": {
        "id": "p4s8f42xSL94",
        "colab_type": "text"
      },
      "source": [
        "부분적으로 가져오려는 경우"
      ]
    },
    {
      "cell_type": "code",
      "metadata": {
        "id": "SEE-HpBTSfv5",
        "colab_type": "code",
        "colab": {
          "base_uri": "https://localhost:8080/",
          "height": 68
        },
        "outputId": "cf8568f8-82fb-413d-9026-a09fc16824c5"
      },
      "source": [
        "arr2d"
      ],
      "execution_count": 35,
      "outputs": [
        {
          "output_type": "execute_result",
          "data": {
            "text/plain": [
              "array([[ 1,  2,  3,  4],\n",
              "       [ 5,  6,  7,  8],\n",
              "       [ 9, 10, 11, 12]])"
            ]
          },
          "metadata": {
            "tags": []
          },
          "execution_count": 35
        }
      ]
    },
    {
      "cell_type": "code",
      "metadata": {
        "id": "a0UxNPjimPZy",
        "colab_type": "code",
        "colab": {
          "base_uri": "https://localhost:8080/",
          "height": 51
        },
        "outputId": "3ecea162-64b2-405e-db91-746e760886b4"
      },
      "source": [
        "# 행은 0번째부터 1번째 까지 가져오고 로우는 모두 다 가져와라.\n",
        "# 열에는 `:`표시 이므로 컬럼(열)은 다가져와라.\n",
        "arr2d[0:2,:]"
      ],
      "execution_count": 36,
      "outputs": [
        {
          "output_type": "execute_result",
          "data": {
            "text/plain": [
              "array([[1, 2, 3, 4],\n",
              "       [5, 6, 7, 8]])"
            ]
          },
          "metadata": {
            "tags": []
          },
          "execution_count": 36
        }
      ]
    },
    {
      "cell_type": "code",
      "metadata": {
        "id": "5D7d5ozKSiXv",
        "colab_type": "code",
        "colab": {
          "base_uri": "https://localhost:8080/",
          "height": 51
        },
        "outputId": "20aa5312-1528-4fab-c5d9-bb2619287841"
      },
      "source": [
        "# 행은 0번째 부터 1번째까지 가져오고 열(컬럼)은 2번째 인덱스부터 다 가져와.\n",
        "arr2d[0:2 , 2:] # arr2d[:2, 2:]와 동일"
      ],
      "execution_count": 37,
      "outputs": [
        {
          "output_type": "execute_result",
          "data": {
            "text/plain": [
              "array([[3, 4],\n",
              "       [7, 8]])"
            ]
          },
          "metadata": {
            "tags": []
          },
          "execution_count": 37
        }
      ]
    },
    {
      "cell_type": "markdown",
      "metadata": {
        "id": "6wEBe7tbULky",
        "colab_type": "text"
      },
      "source": [
        "## 2. Fancy 인덱싱"
      ]
    },
    {
      "cell_type": "markdown",
      "metadata": {
        "id": "ryx7onUgU7VT",
        "colab_type": "text"
      },
      "source": [
        "fancy 인덱싱은 범위가 아닌 **특정 index의 집합의 값을 선택하여 추출**하고 싶을 때 활용합니다."
      ]
    },
    {
      "cell_type": "code",
      "metadata": {
        "id": "H-eFtxCRULUn",
        "colab_type": "code",
        "colab": {}
      },
      "source": [
        "arr = np.array([10, 23, 2, 7, 90, 65, 32, 66, 70])"
      ],
      "execution_count": 38,
      "outputs": []
    },
    {
      "cell_type": "markdown",
      "metadata": {
        "id": "eUV5porzU5FP",
        "colab_type": "text"
      },
      "source": [
        "반드시 **[추출하고 싶은 인덱스]** 꺾쇠 괄호로 묶어 주세요"
      ]
    },
    {
      "cell_type": "markdown",
      "metadata": {
        "id": "4nYgmmgDU4eu",
        "colab_type": "text"
      },
      "source": [
        "변수에 지정 후 추출도 가능합니다.\n",
        "\n",
        "> boolean indexing이랑 비슷한 것 같아.\n",
        "\n"
      ]
    },
    {
      "cell_type": "code",
      "metadata": {
        "id": "6kGTuv20ULEk",
        "colab_type": "code",
        "colab": {}
      },
      "source": [
        "# 가져오고자 하는 인덱스 설정\n",
        "idx = [1, 3, 5]"
      ],
      "execution_count": 39,
      "outputs": []
    },
    {
      "cell_type": "code",
      "metadata": {
        "id": "3RBEcwtDU2Dk",
        "colab_type": "code",
        "colab": {
          "base_uri": "https://localhost:8080/",
          "height": 34
        },
        "outputId": "f042ef54-f29a-4f88-d531-5a7b3c15d5cf"
      },
      "source": [
        "arr[idx]"
      ],
      "execution_count": 40,
      "outputs": [
        {
          "output_type": "execute_result",
          "data": {
            "text/plain": [
              "array([23,  7, 65])"
            ]
          },
          "metadata": {
            "tags": []
          },
          "execution_count": 40
        }
      ]
    },
    {
      "cell_type": "markdown",
      "metadata": {
        "id": "hx83f87VVX3r",
        "colab_type": "text"
      },
      "source": [
        "### 2-2. 2차원 array"
      ]
    },
    {
      "cell_type": "code",
      "metadata": {
        "id": "fxCICJpcVYC_",
        "colab_type": "code",
        "colab": {}
      },
      "source": [
        "arr2d = np.array([[1, 2, 3, 4], \n",
        "                  [5, 6, 7, 8], \n",
        "                  [9, 10, 11, 12]])"
      ],
      "execution_count": null,
      "outputs": []
    },
    {
      "cell_type": "code",
      "metadata": {
        "id": "hDmBdvm1V6qF",
        "colab_type": "code",
        "colab": {
          "base_uri": "https://localhost:8080/",
          "height": 51
        },
        "outputId": "1d182225-4169-4a6e-9b56-6fbe4787d944"
      },
      "source": [
        "# 코드를 입력해 주세요\n",
        "# 행은 0번째부터 1번째까지만 가져오고 컬럼은 다 가져오세요\n",
        "# 앞에는 행, 뒤에는 열\n",
        "arr2d[0:2,:] "
      ],
      "execution_count": 43,
      "outputs": [
        {
          "output_type": "execute_result",
          "data": {
            "text/plain": [
              "array([[1, 2, 3, 4],\n",
              "       [5, 6, 7, 8]])"
            ]
          },
          "metadata": {
            "tags": []
          },
          "execution_count": 43
        }
      ]
    },
    {
      "cell_type": "code",
      "metadata": {
        "id": "9jVL79sq7B4P",
        "colab_type": "code",
        "colab": {
          "base_uri": "https://localhost:8080/",
          "height": 51
        },
        "outputId": "5960ae8e-366d-4495-c670-8877d4281e6d"
      },
      "source": [
        "# Fancy indexing\n",
        "arr2d[[0, 1], :]"
      ],
      "execution_count": 44,
      "outputs": [
        {
          "output_type": "execute_result",
          "data": {
            "text/plain": [
              "array([[1, 2, 3, 4],\n",
              "       [5, 6, 7, 8]])"
            ]
          },
          "metadata": {
            "tags": []
          },
          "execution_count": 44
        }
      ]
    },
    {
      "cell_type": "code",
      "metadata": {
        "id": "hv0g4xGe6Pvn",
        "colab_type": "code",
        "colab": {
          "base_uri": "https://localhost:8080/",
          "height": 68
        },
        "outputId": "0e83a6e3-50c6-4181-e57c-73ecc3181486"
      },
      "source": [
        "# 행은 다 가져오고, 열은 지정된 인덱스의 열을 다 가져옴\n",
        "arr2d[:, [1, 2, 3]]"
      ],
      "execution_count": 46,
      "outputs": [
        {
          "output_type": "execute_result",
          "data": {
            "text/plain": [
              "array([[ 2,  3,  4],\n",
              "       [ 6,  7,  8],\n",
              "       [10, 11, 12]])"
            ]
          },
          "metadata": {
            "tags": []
          },
          "execution_count": 46
        }
      ]
    },
    {
      "cell_type": "code",
      "metadata": {
        "id": "AIqPAa6sVyp7",
        "colab_type": "code",
        "colab": {
          "base_uri": "https://localhost:8080/",
          "height": 68
        },
        "outputId": "9728ad2b-639b-40e9-80f2-f827ca2d5e24"
      },
      "source": [
        "# 행(로우)는 다 가져오고 컬럼은 1번째 인덱스부터만 가져와.\n",
        "arr2d[:,1:]"
      ],
      "execution_count": 47,
      "outputs": [
        {
          "output_type": "execute_result",
          "data": {
            "text/plain": [
              "array([[ 2,  3,  4],\n",
              "       [ 6,  7,  8],\n",
              "       [10, 11, 12]])"
            ]
          },
          "metadata": {
            "tags": []
          },
          "execution_count": 47
        }
      ]
    },
    {
      "cell_type": "code",
      "metadata": {
        "id": "7mVYUw6NrSRC",
        "colab_type": "code",
        "colab": {
          "base_uri": "https://localhost:8080/",
          "height": 68
        },
        "outputId": "ff5d55a7-e9a2-45b2-8bc7-cc30f202037b"
      },
      "source": [
        "# 행(로우)는 다 가져오고, 컬럼은 1번,2번, 3번 인덱스만 가져와.\n",
        "arr2d[:, [1, 2, 3]]"
      ],
      "execution_count": 48,
      "outputs": [
        {
          "output_type": "execute_result",
          "data": {
            "text/plain": [
              "array([[ 2,  3,  4],\n",
              "       [ 6,  7,  8],\n",
              "       [10, 11, 12]])"
            ]
          },
          "metadata": {
            "tags": []
          },
          "execution_count": 48
        }
      ]
    },
    {
      "cell_type": "markdown",
      "metadata": {
        "id": "0jT1D1U9RIKy",
        "colab_type": "text"
      },
      "source": [
        "## 3. Boolean 인덱싱"
      ]
    },
    {
      "cell_type": "markdown",
      "metadata": {
        "id": "L65N9DO0Rg-c",
        "colab_type": "text"
      },
      "source": [
        "조건 필터링을 통하여 Boolean 값을 이용한 색인 (말이 어렵다..)"
      ]
    },
    {
      "cell_type": "code",
      "metadata": {
        "id": "ThYLT1u3E_Q_",
        "colab_type": "code",
        "colab": {}
      },
      "source": [
        "arr = np.array([1, 2, 3, 4, 5, 6, 7])"
      ],
      "execution_count": 52,
      "outputs": []
    },
    {
      "cell_type": "code",
      "metadata": {
        "id": "CwIVSLtaQOGq",
        "colab_type": "code",
        "colab": {}
      },
      "source": [
        "arr2d = np.array([[1, 2, 3, 4], \n",
        "                  [5, 6, 7, 8], \n",
        "                  [9, 10, 11, 12]])"
      ],
      "execution_count": 53,
      "outputs": []
    },
    {
      "cell_type": "markdown",
      "metadata": {
        "id": "9h4s_JOFEzqB",
        "colab_type": "text"
      },
      "source": [
        "### 3-1. True와 False 값으로 색인하기"
      ]
    },
    {
      "cell_type": "code",
      "metadata": {
        "id": "eyK_PJjJE4xf",
        "colab_type": "code",
        "colab": {}
      },
      "source": [
        "myTrueFalse = [True, False, True]"
      ],
      "execution_count": 54,
      "outputs": []
    },
    {
      "cell_type": "code",
      "metadata": {
        "id": "JMcJ8VdcrAE5",
        "colab_type": "code",
        "colab": {
          "base_uri": "https://localhost:8080/",
          "height": 182
        },
        "outputId": "873b698e-fc63-470a-e613-21ac504abd3f"
      },
      "source": [
        "# IndexError: boolean index did not match indexed array along dimension 0; dimension is 7 but corresponding boolean dimension is 3\n",
        "arr[myTrueFalse]"
      ],
      "execution_count": 56,
      "outputs": [
        {
          "output_type": "error",
          "ename": "IndexError",
          "evalue": "ignored",
          "traceback": [
            "\u001b[0;31m---------------------------------------------------------------------------\u001b[0m",
            "\u001b[0;31mIndexError\u001b[0m                                Traceback (most recent call last)",
            "\u001b[0;32m<ipython-input-56-4105ed7228f4>\u001b[0m in \u001b[0;36m<module>\u001b[0;34m()\u001b[0m\n\u001b[1;32m      1\u001b[0m \u001b[0;31m# IndexError: boolean index did not match indexed array along dimension 0; dimension is 7 but corresponding boolean dimension is 3\u001b[0m\u001b[0;34m\u001b[0m\u001b[0;34m\u001b[0m\u001b[0;34m\u001b[0m\u001b[0m\n\u001b[0;32m----> 2\u001b[0;31m \u001b[0marr\u001b[0m\u001b[0;34m[\u001b[0m\u001b[0mmyTrueFalse\u001b[0m\u001b[0;34m]\u001b[0m\u001b[0;34m\u001b[0m\u001b[0;34m\u001b[0m\u001b[0m\n\u001b[0m",
            "\u001b[0;31mIndexError\u001b[0m: boolean index did not match indexed array along dimension 0; dimension is 7 but corresponding boolean dimension is 3"
          ]
        }
      ]
    },
    {
      "cell_type": "code",
      "metadata": {
        "id": "caCBOFDXFFM2",
        "colab_type": "code",
        "colab": {}
      },
      "source": [
        "# 본대로 바와 같이 True인 것만 가져온다.\n",
        "myTrueFalse_T = [True, False, True, False, True, False, True]"
      ],
      "execution_count": 61,
      "outputs": []
    },
    {
      "cell_type": "code",
      "metadata": {
        "id": "1JXjjZPzsuSY",
        "colab_type": "code",
        "colab": {
          "base_uri": "https://localhost:8080/",
          "height": 34
        },
        "outputId": "5d5fae3f-e4fd-4a79-9694-1691ae3276fe"
      },
      "source": [
        "arr[myTrueFalse_T]"
      ],
      "execution_count": 62,
      "outputs": [
        {
          "output_type": "execute_result",
          "data": {
            "text/plain": [
              "array([1, 3, 5, 7])"
            ]
          },
          "metadata": {
            "tags": []
          },
          "execution_count": 62
        }
      ]
    },
    {
      "cell_type": "code",
      "metadata": {
        "id": "tGSkFFUXFHF2",
        "colab_type": "code",
        "colab": {
          "base_uri": "https://localhost:8080/",
          "height": 34
        },
        "outputId": "406648b3-fd38-4774-ce03-e406e92c4eb9"
      },
      "source": [
        "myTrueFalse_T1 = [True, False, True, False, True, False, True]\n",
        "arr[myTrueFalse_T1]\n"
      ],
      "execution_count": 63,
      "outputs": [
        {
          "output_type": "execute_result",
          "data": {
            "text/plain": [
              "array([1, 3, 5, 7])"
            ]
          },
          "metadata": {
            "tags": []
          },
          "execution_count": 63
        }
      ]
    },
    {
      "cell_type": "code",
      "metadata": {
        "id": "QuYWbMLlFMK6",
        "colab_type": "code",
        "colab": {
          "base_uri": "https://localhost:8080/",
          "height": 34
        },
        "outputId": "8f5150f0-d5bd-4678-a655-89a769e7d82a"
      },
      "source": [
        "arr[myTrueFalse_T1]"
      ],
      "execution_count": null,
      "outputs": [
        {
          "output_type": "execute_result",
          "data": {
            "text/plain": [
              "array([1, 3, 5, 7])"
            ]
          },
          "metadata": {
            "tags": []
          },
          "execution_count": 82
        }
      ]
    },
    {
      "cell_type": "markdown",
      "metadata": {
        "id": "EDeEZJtLS6NB",
        "colab_type": "text"
      },
      "source": [
        "### 3-2. 조건필터"
      ]
    },
    {
      "cell_type": "markdown",
      "metadata": {
        "id": "X5XV9DqwTC8F",
        "colab_type": "text"
      },
      "source": [
        "조건 연산자를 활용하여 필터를 생성할 수 있습니다"
      ]
    },
    {
      "cell_type": "code",
      "metadata": {
        "id": "7R14c9QatgNd",
        "colab_type": "code",
        "colab": {
          "base_uri": "https://localhost:8080/",
          "height": 68
        },
        "outputId": "f03d8eed-993d-4a00-f818-a362c4f8a269"
      },
      "source": [
        "arr2d"
      ],
      "execution_count": 64,
      "outputs": [
        {
          "output_type": "execute_result",
          "data": {
            "text/plain": [
              "array([[ 1,  2,  3,  4],\n",
              "       [ 5,  6,  7,  8],\n",
              "       [ 9, 10, 11, 12]])"
            ]
          },
          "metadata": {
            "tags": []
          },
          "execution_count": 64
        }
      ]
    },
    {
      "cell_type": "code",
      "metadata": {
        "id": "oHIkQsBmSxTv",
        "colab_type": "code",
        "colab": {
          "base_uri": "https://localhost:8080/",
          "height": 68
        },
        "outputId": "18c73aab-def8-4ece-8269-0cd78efcf66d"
      },
      "source": [
        "# 조건에 만족 여부 확인_boolean index\n",
        "arr2d > 2"
      ],
      "execution_count": 66,
      "outputs": [
        {
          "output_type": "execute_result",
          "data": {
            "text/plain": [
              "array([[False, False,  True,  True],\n",
              "       [ True,  True,  True,  True],\n",
              "       [ True,  True,  True,  True]])"
            ]
          },
          "metadata": {
            "tags": []
          },
          "execution_count": 66
        }
      ]
    },
    {
      "cell_type": "code",
      "metadata": {
        "id": "T2l9q7Qbts6w",
        "colab_type": "code",
        "colab": {
          "base_uri": "https://localhost:8080/",
          "height": 34
        },
        "outputId": "0443a259-ccc3-4464-c622-40851c93040d"
      },
      "source": [
        "arr2d[arr2d > 2]"
      ],
      "execution_count": 67,
      "outputs": [
        {
          "output_type": "execute_result",
          "data": {
            "text/plain": [
              "array([ 3,  4,  5,  6,  7,  8,  9, 10, 11, 12])"
            ]
          },
          "metadata": {
            "tags": []
          },
          "execution_count": 67
        }
      ]
    },
    {
      "cell_type": "markdown",
      "metadata": {
        "id": "viTCv7dmS22G",
        "colab_type": "text"
      },
      "source": [
        "필터를 활용하여 필터에 True 조건만 색인 합니다."
      ]
    },
    {
      "cell_type": "markdown",
      "metadata": {
        "id": "MH_2u6F5TPZP",
        "colab_type": "text"
      },
      "source": [
        "이럴 때 꺾쇠 괄호로 한 번 더 묶어만 주면 됩니다. (꺾쇠 괄호 안에 조건문 삽입) \n",
        "\n",
        "arr2d[**조건필터**]"
      ]
    },
    {
      "cell_type": "code",
      "metadata": {
        "id": "y0EAI6j5neQf",
        "colab_type": "code",
        "colab": {}
      },
      "source": [
        "arr2d = np.array([[1, 2, 3, 4], \n",
        "                  [5, 6, 7, 8], \n",
        "                  [9, 10, 11, 12]])"
      ],
      "execution_count": 68,
      "outputs": []
    },
    {
      "cell_type": "code",
      "metadata": {
        "id": "BfsZ4aNUTAxI",
        "colab_type": "code",
        "colab": {
          "base_uri": "https://localhost:8080/",
          "height": 34
        },
        "outputId": "a415cfe3-a228-4739-b87b-10d5f4e20f78"
      },
      "source": [
        "# 2이상인 것들만 가져와줘.\n",
        "arr2d[arr2d > 2]"
      ],
      "execution_count": 69,
      "outputs": [
        {
          "output_type": "execute_result",
          "data": {
            "text/plain": [
              "array([ 3,  4,  5,  6,  7,  8,  9, 10, 11, 12])"
            ]
          },
          "metadata": {
            "tags": []
          },
          "execution_count": 69
        }
      ]
    },
    {
      "cell_type": "code",
      "metadata": {
        "id": "O1AxvNb9TNRV",
        "colab_type": "code",
        "colab": {
          "base_uri": "https://localhost:8080/",
          "height": 34
        },
        "outputId": "0b21a237-fad3-4507-d1a6-430d0f991b0f"
      },
      "source": [
        "# 5보다 작은 것을 가져와.\n",
        "arr2d[arr2d < 5]"
      ],
      "execution_count": 70,
      "outputs": [
        {
          "output_type": "execute_result",
          "data": {
            "text/plain": [
              "array([1, 2, 3, 4])"
            ]
          },
          "metadata": {
            "tags": []
          },
          "execution_count": 70
        }
      ]
    }
  ]
}