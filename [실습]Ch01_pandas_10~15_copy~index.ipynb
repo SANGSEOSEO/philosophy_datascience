{
  "nbformat": 4,
  "nbformat_minor": 0,
  "metadata": {
    "colab": {
      "name": "[실습]Ch01.pandas - 10~15.copy~index",
      "provenance": [],
      "collapsed_sections": [],
      "toc_visible": true,
      "include_colab_link": true
    },
    "kernelspec": {
      "name": "python3",
      "display_name": "Python 3"
    }
  },
  "cells": [
    {
      "cell_type": "markdown",
      "metadata": {
        "id": "view-in-github",
        "colab_type": "text"
      },
      "source": [
        "<a href=\"https://colab.research.google.com/github/SANGSEOSEO/philosophy_datascience/blob/master/%5B%EC%8B%A4%EC%8A%B5%5DCh01_pandas_10~15_copy~index.ipynb\" target=\"_parent\"><img src=\"https://colab.research.google.com/assets/colab-badge.svg\" alt=\"Open In Colab\"/></a>"
      ]
    },
    {
      "cell_type": "code",
      "metadata": {
        "id": "wn5bqJ9PYkYK",
        "colab_type": "code",
        "colab": {}
      },
      "source": [
        "import pandas as pd"
      ],
      "execution_count": 4,
      "outputs": []
    },
    {
      "cell_type": "markdown",
      "metadata": {
        "id": "aozei8JpYmNC",
        "colab_type": "text"
      },
      "source": [
        "## 실습에 활용한 예제"
      ]
    },
    {
      "cell_type": "markdown",
      "metadata": {
        "id": "h9_3_cuwYpIy",
        "colab_type": "text"
      },
      "source": [
        "[국내 아이돌 평판지수 (csv)](http://bit.ly/ds-korean-idol)"
      ]
    },
    {
      "cell_type": "markdown",
      "metadata": {
        "id": "5q11zenIY6eq",
        "colab_type": "text"
      },
      "source": [
        "## DataFrame 로드"
      ]
    },
    {
      "cell_type": "code",
      "metadata": {
        "id": "whW8jFpvYfEC",
        "colab_type": "code",
        "colab": {}
      },
      "source": [
        "df = pd.read_csv('https://bit.ly/ds-korean-idol')"
      ],
      "execution_count": 5,
      "outputs": []
    },
    {
      "cell_type": "markdown",
      "metadata": {
        "id": "CMCICIVbdciN",
        "colab_type": "text"
      },
      "source": [
        "## 1. copy (복사)"
      ]
    },
    {
      "cell_type": "markdown",
      "metadata": {
        "id": "jSVKT5JidcZ4",
        "colab_type": "text"
      },
      "source": [
        "copy는 단어 그대로, dataframe을 복사할 때 사용합니다."
      ]
    },
    {
      "cell_type": "code",
      "metadata": {
        "id": "5k94J53odcTo",
        "colab_type": "code",
        "colab": {
          "base_uri": "https://localhost:8080/",
          "height": 204
        },
        "outputId": "fae1d03b-4024-443c-fc46-59275d9c43a3"
      },
      "source": [
        "df.head()"
      ],
      "execution_count": 6,
      "outputs": [
        {
          "output_type": "execute_result",
          "data": {
            "text/html": [
              "<div>\n",
              "<style scoped>\n",
              "    .dataframe tbody tr th:only-of-type {\n",
              "        vertical-align: middle;\n",
              "    }\n",
              "\n",
              "    .dataframe tbody tr th {\n",
              "        vertical-align: top;\n",
              "    }\n",
              "\n",
              "    .dataframe thead th {\n",
              "        text-align: right;\n",
              "    }\n",
              "</style>\n",
              "<table border=\"1\" class=\"dataframe\">\n",
              "  <thead>\n",
              "    <tr style=\"text-align: right;\">\n",
              "      <th></th>\n",
              "      <th>이름</th>\n",
              "      <th>그룹</th>\n",
              "      <th>소속사</th>\n",
              "      <th>성별</th>\n",
              "      <th>생년월일</th>\n",
              "      <th>키</th>\n",
              "      <th>혈액형</th>\n",
              "      <th>브랜드평판지수</th>\n",
              "    </tr>\n",
              "  </thead>\n",
              "  <tbody>\n",
              "    <tr>\n",
              "      <th>0</th>\n",
              "      <td>지민</td>\n",
              "      <td>방탄소년단</td>\n",
              "      <td>빅히트</td>\n",
              "      <td>남자</td>\n",
              "      <td>1995-10-13</td>\n",
              "      <td>173.6</td>\n",
              "      <td>A</td>\n",
              "      <td>10523260</td>\n",
              "    </tr>\n",
              "    <tr>\n",
              "      <th>1</th>\n",
              "      <td>지드래곤</td>\n",
              "      <td>빅뱅</td>\n",
              "      <td>YG</td>\n",
              "      <td>남자</td>\n",
              "      <td>1988-08-18</td>\n",
              "      <td>177.0</td>\n",
              "      <td>A</td>\n",
              "      <td>9916947</td>\n",
              "    </tr>\n",
              "    <tr>\n",
              "      <th>2</th>\n",
              "      <td>강다니엘</td>\n",
              "      <td>NaN</td>\n",
              "      <td>커넥트</td>\n",
              "      <td>남자</td>\n",
              "      <td>1996-12-10</td>\n",
              "      <td>180.0</td>\n",
              "      <td>A</td>\n",
              "      <td>8273745</td>\n",
              "    </tr>\n",
              "    <tr>\n",
              "      <th>3</th>\n",
              "      <td>뷔</td>\n",
              "      <td>방탄소년단</td>\n",
              "      <td>빅히트</td>\n",
              "      <td>남자</td>\n",
              "      <td>1995-12-30</td>\n",
              "      <td>178.0</td>\n",
              "      <td>AB</td>\n",
              "      <td>8073501</td>\n",
              "    </tr>\n",
              "    <tr>\n",
              "      <th>4</th>\n",
              "      <td>화사</td>\n",
              "      <td>마마무</td>\n",
              "      <td>RBW</td>\n",
              "      <td>여자</td>\n",
              "      <td>1995-07-23</td>\n",
              "      <td>162.1</td>\n",
              "      <td>A</td>\n",
              "      <td>7650928</td>\n",
              "    </tr>\n",
              "  </tbody>\n",
              "</table>\n",
              "</div>"
            ],
            "text/plain": [
              "     이름     그룹  소속사  성별        생년월일      키 혈액형   브랜드평판지수\n",
              "0    지민  방탄소년단  빅히트  남자  1995-10-13  173.6   A  10523260\n",
              "1  지드래곤     빅뱅   YG  남자  1988-08-18  177.0   A   9916947\n",
              "2  강다니엘    NaN  커넥트  남자  1996-12-10  180.0   A   8273745\n",
              "3     뷔  방탄소년단  빅히트  남자  1995-12-30  178.0  AB   8073501\n",
              "4    화사    마마무  RBW  여자  1995-07-23  162.1   A   7650928"
            ]
          },
          "metadata": {
            "tags": []
          },
          "execution_count": 6
        }
      ]
    },
    {
      "cell_type": "markdown",
      "metadata": {
        "id": "aARnn4PXeFCT",
        "colab_type": "text"
      },
      "source": [
        "df를 **새로운 변수(new_df)에 대입**해 주고, 새로운 변수에서 값을 바꾼다면, 원래의 DataFrame의 값은 어떻게 될까요?"
      ]
    },
    {
      "cell_type": "code",
      "metadata": {
        "id": "5VQPZIFhdr8_",
        "colab_type": "code",
        "colab": {}
      },
      "source": [
        "new_df = df"
      ],
      "execution_count": 7,
      "outputs": []
    },
    {
      "cell_type": "code",
      "metadata": {
        "id": "Qx4qot3FJSGI",
        "colab_type": "code",
        "colab": {
          "base_uri": "https://localhost:8080/",
          "height": 204
        },
        "outputId": "372bcc92-eaf6-4ee5-ff6b-d88f9ab794a2"
      },
      "source": [
        "new_df.head()"
      ],
      "execution_count": 8,
      "outputs": [
        {
          "output_type": "execute_result",
          "data": {
            "text/html": [
              "<div>\n",
              "<style scoped>\n",
              "    .dataframe tbody tr th:only-of-type {\n",
              "        vertical-align: middle;\n",
              "    }\n",
              "\n",
              "    .dataframe tbody tr th {\n",
              "        vertical-align: top;\n",
              "    }\n",
              "\n",
              "    .dataframe thead th {\n",
              "        text-align: right;\n",
              "    }\n",
              "</style>\n",
              "<table border=\"1\" class=\"dataframe\">\n",
              "  <thead>\n",
              "    <tr style=\"text-align: right;\">\n",
              "      <th></th>\n",
              "      <th>이름</th>\n",
              "      <th>그룹</th>\n",
              "      <th>소속사</th>\n",
              "      <th>성별</th>\n",
              "      <th>생년월일</th>\n",
              "      <th>키</th>\n",
              "      <th>혈액형</th>\n",
              "      <th>브랜드평판지수</th>\n",
              "    </tr>\n",
              "  </thead>\n",
              "  <tbody>\n",
              "    <tr>\n",
              "      <th>0</th>\n",
              "      <td>지민</td>\n",
              "      <td>방탄소년단</td>\n",
              "      <td>빅히트</td>\n",
              "      <td>남자</td>\n",
              "      <td>1995-10-13</td>\n",
              "      <td>173.6</td>\n",
              "      <td>A</td>\n",
              "      <td>10523260</td>\n",
              "    </tr>\n",
              "    <tr>\n",
              "      <th>1</th>\n",
              "      <td>지드래곤</td>\n",
              "      <td>빅뱅</td>\n",
              "      <td>YG</td>\n",
              "      <td>남자</td>\n",
              "      <td>1988-08-18</td>\n",
              "      <td>177.0</td>\n",
              "      <td>A</td>\n",
              "      <td>9916947</td>\n",
              "    </tr>\n",
              "    <tr>\n",
              "      <th>2</th>\n",
              "      <td>강다니엘</td>\n",
              "      <td>NaN</td>\n",
              "      <td>커넥트</td>\n",
              "      <td>남자</td>\n",
              "      <td>1996-12-10</td>\n",
              "      <td>180.0</td>\n",
              "      <td>A</td>\n",
              "      <td>8273745</td>\n",
              "    </tr>\n",
              "    <tr>\n",
              "      <th>3</th>\n",
              "      <td>뷔</td>\n",
              "      <td>방탄소년단</td>\n",
              "      <td>빅히트</td>\n",
              "      <td>남자</td>\n",
              "      <td>1995-12-30</td>\n",
              "      <td>178.0</td>\n",
              "      <td>AB</td>\n",
              "      <td>8073501</td>\n",
              "    </tr>\n",
              "    <tr>\n",
              "      <th>4</th>\n",
              "      <td>화사</td>\n",
              "      <td>마마무</td>\n",
              "      <td>RBW</td>\n",
              "      <td>여자</td>\n",
              "      <td>1995-07-23</td>\n",
              "      <td>162.1</td>\n",
              "      <td>A</td>\n",
              "      <td>7650928</td>\n",
              "    </tr>\n",
              "  </tbody>\n",
              "</table>\n",
              "</div>"
            ],
            "text/plain": [
              "     이름     그룹  소속사  성별        생년월일      키 혈액형   브랜드평판지수\n",
              "0    지민  방탄소년단  빅히트  남자  1995-10-13  173.6   A  10523260\n",
              "1  지드래곤     빅뱅   YG  남자  1988-08-18  177.0   A   9916947\n",
              "2  강다니엘    NaN  커넥트  남자  1996-12-10  180.0   A   8273745\n",
              "3     뷔  방탄소년단  빅히트  남자  1995-12-30  178.0  AB   8073501\n",
              "4    화사    마마무  RBW  여자  1995-07-23  162.1   A   7650928"
            ]
          },
          "metadata": {
            "tags": []
          },
          "execution_count": 8
        }
      ]
    },
    {
      "cell_type": "code",
      "metadata": {
        "id": "kMFsdxY0dr3s",
        "colab_type": "code",
        "colab": {}
      },
      "source": [
        "# 새로운 변수에 데이터프레임을 할당하는 방식하는 하면?\n",
        "# 한 dataframe에서 변경이 일어났을때 새로이 할당된 dataframe의 영향은?\n",
        "new_df['이름'] = 'SANGSEO SEO'"
      ],
      "execution_count": 9,
      "outputs": []
    },
    {
      "cell_type": "code",
      "metadata": {
        "id": "8AJDB7H1JYB2",
        "colab_type": "code",
        "colab": {
          "base_uri": "https://localhost:8080/",
          "height": 204
        },
        "outputId": "7dd1325f-fe0e-492f-fa19-b575dc91d187"
      },
      "source": [
        "new_df.head()"
      ],
      "execution_count": 10,
      "outputs": [
        {
          "output_type": "execute_result",
          "data": {
            "text/html": [
              "<div>\n",
              "<style scoped>\n",
              "    .dataframe tbody tr th:only-of-type {\n",
              "        vertical-align: middle;\n",
              "    }\n",
              "\n",
              "    .dataframe tbody tr th {\n",
              "        vertical-align: top;\n",
              "    }\n",
              "\n",
              "    .dataframe thead th {\n",
              "        text-align: right;\n",
              "    }\n",
              "</style>\n",
              "<table border=\"1\" class=\"dataframe\">\n",
              "  <thead>\n",
              "    <tr style=\"text-align: right;\">\n",
              "      <th></th>\n",
              "      <th>이름</th>\n",
              "      <th>그룹</th>\n",
              "      <th>소속사</th>\n",
              "      <th>성별</th>\n",
              "      <th>생년월일</th>\n",
              "      <th>키</th>\n",
              "      <th>혈액형</th>\n",
              "      <th>브랜드평판지수</th>\n",
              "    </tr>\n",
              "  </thead>\n",
              "  <tbody>\n",
              "    <tr>\n",
              "      <th>0</th>\n",
              "      <td>SANGSEO SEO</td>\n",
              "      <td>방탄소년단</td>\n",
              "      <td>빅히트</td>\n",
              "      <td>남자</td>\n",
              "      <td>1995-10-13</td>\n",
              "      <td>173.6</td>\n",
              "      <td>A</td>\n",
              "      <td>10523260</td>\n",
              "    </tr>\n",
              "    <tr>\n",
              "      <th>1</th>\n",
              "      <td>SANGSEO SEO</td>\n",
              "      <td>빅뱅</td>\n",
              "      <td>YG</td>\n",
              "      <td>남자</td>\n",
              "      <td>1988-08-18</td>\n",
              "      <td>177.0</td>\n",
              "      <td>A</td>\n",
              "      <td>9916947</td>\n",
              "    </tr>\n",
              "    <tr>\n",
              "      <th>2</th>\n",
              "      <td>SANGSEO SEO</td>\n",
              "      <td>NaN</td>\n",
              "      <td>커넥트</td>\n",
              "      <td>남자</td>\n",
              "      <td>1996-12-10</td>\n",
              "      <td>180.0</td>\n",
              "      <td>A</td>\n",
              "      <td>8273745</td>\n",
              "    </tr>\n",
              "    <tr>\n",
              "      <th>3</th>\n",
              "      <td>SANGSEO SEO</td>\n",
              "      <td>방탄소년단</td>\n",
              "      <td>빅히트</td>\n",
              "      <td>남자</td>\n",
              "      <td>1995-12-30</td>\n",
              "      <td>178.0</td>\n",
              "      <td>AB</td>\n",
              "      <td>8073501</td>\n",
              "    </tr>\n",
              "    <tr>\n",
              "      <th>4</th>\n",
              "      <td>SANGSEO SEO</td>\n",
              "      <td>마마무</td>\n",
              "      <td>RBW</td>\n",
              "      <td>여자</td>\n",
              "      <td>1995-07-23</td>\n",
              "      <td>162.1</td>\n",
              "      <td>A</td>\n",
              "      <td>7650928</td>\n",
              "    </tr>\n",
              "  </tbody>\n",
              "</table>\n",
              "</div>"
            ],
            "text/plain": [
              "            이름     그룹  소속사  성별        생년월일      키 혈액형   브랜드평판지수\n",
              "0  SANGSEO SEO  방탄소년단  빅히트  남자  1995-10-13  173.6   A  10523260\n",
              "1  SANGSEO SEO     빅뱅   YG  남자  1988-08-18  177.0   A   9916947\n",
              "2  SANGSEO SEO    NaN  커넥트  남자  1996-12-10  180.0   A   8273745\n",
              "3  SANGSEO SEO  방탄소년단  빅히트  남자  1995-12-30  178.0  AB   8073501\n",
              "4  SANGSEO SEO    마마무  RBW  여자  1995-07-23  162.1   A   7650928"
            ]
          },
          "metadata": {
            "tags": []
          },
          "execution_count": 10
        }
      ]
    },
    {
      "cell_type": "code",
      "metadata": {
        "id": "Diyfc9jdd1DT",
        "colab_type": "code",
        "colab": {
          "base_uri": "https://localhost:8080/",
          "height": 204
        },
        "outputId": "9d88b974-322a-43dd-d9e6-3594d864045f"
      },
      "source": [
        "df.head()"
      ],
      "execution_count": 11,
      "outputs": [
        {
          "output_type": "execute_result",
          "data": {
            "text/html": [
              "<div>\n",
              "<style scoped>\n",
              "    .dataframe tbody tr th:only-of-type {\n",
              "        vertical-align: middle;\n",
              "    }\n",
              "\n",
              "    .dataframe tbody tr th {\n",
              "        vertical-align: top;\n",
              "    }\n",
              "\n",
              "    .dataframe thead th {\n",
              "        text-align: right;\n",
              "    }\n",
              "</style>\n",
              "<table border=\"1\" class=\"dataframe\">\n",
              "  <thead>\n",
              "    <tr style=\"text-align: right;\">\n",
              "      <th></th>\n",
              "      <th>이름</th>\n",
              "      <th>그룹</th>\n",
              "      <th>소속사</th>\n",
              "      <th>성별</th>\n",
              "      <th>생년월일</th>\n",
              "      <th>키</th>\n",
              "      <th>혈액형</th>\n",
              "      <th>브랜드평판지수</th>\n",
              "    </tr>\n",
              "  </thead>\n",
              "  <tbody>\n",
              "    <tr>\n",
              "      <th>0</th>\n",
              "      <td>SANGSEO SEO</td>\n",
              "      <td>방탄소년단</td>\n",
              "      <td>빅히트</td>\n",
              "      <td>남자</td>\n",
              "      <td>1995-10-13</td>\n",
              "      <td>173.6</td>\n",
              "      <td>A</td>\n",
              "      <td>10523260</td>\n",
              "    </tr>\n",
              "    <tr>\n",
              "      <th>1</th>\n",
              "      <td>SANGSEO SEO</td>\n",
              "      <td>빅뱅</td>\n",
              "      <td>YG</td>\n",
              "      <td>남자</td>\n",
              "      <td>1988-08-18</td>\n",
              "      <td>177.0</td>\n",
              "      <td>A</td>\n",
              "      <td>9916947</td>\n",
              "    </tr>\n",
              "    <tr>\n",
              "      <th>2</th>\n",
              "      <td>SANGSEO SEO</td>\n",
              "      <td>NaN</td>\n",
              "      <td>커넥트</td>\n",
              "      <td>남자</td>\n",
              "      <td>1996-12-10</td>\n",
              "      <td>180.0</td>\n",
              "      <td>A</td>\n",
              "      <td>8273745</td>\n",
              "    </tr>\n",
              "    <tr>\n",
              "      <th>3</th>\n",
              "      <td>SANGSEO SEO</td>\n",
              "      <td>방탄소년단</td>\n",
              "      <td>빅히트</td>\n",
              "      <td>남자</td>\n",
              "      <td>1995-12-30</td>\n",
              "      <td>178.0</td>\n",
              "      <td>AB</td>\n",
              "      <td>8073501</td>\n",
              "    </tr>\n",
              "    <tr>\n",
              "      <th>4</th>\n",
              "      <td>SANGSEO SEO</td>\n",
              "      <td>마마무</td>\n",
              "      <td>RBW</td>\n",
              "      <td>여자</td>\n",
              "      <td>1995-07-23</td>\n",
              "      <td>162.1</td>\n",
              "      <td>A</td>\n",
              "      <td>7650928</td>\n",
              "    </tr>\n",
              "  </tbody>\n",
              "</table>\n",
              "</div>"
            ],
            "text/plain": [
              "            이름     그룹  소속사  성별        생년월일      키 혈액형   브랜드평판지수\n",
              "0  SANGSEO SEO  방탄소년단  빅히트  남자  1995-10-13  173.6   A  10523260\n",
              "1  SANGSEO SEO     빅뱅   YG  남자  1988-08-18  177.0   A   9916947\n",
              "2  SANGSEO SEO    NaN  커넥트  남자  1996-12-10  180.0   A   8273745\n",
              "3  SANGSEO SEO  방탄소년단  빅히트  남자  1995-12-30  178.0  AB   8073501\n",
              "4  SANGSEO SEO    마마무  RBW  여자  1995-07-23  162.1   A   7650928"
            ]
          },
          "metadata": {
            "tags": []
          },
          "execution_count": 11
        }
      ]
    },
    {
      "cell_type": "markdown",
      "metadata": {
        "id": "cUTGBAFVd09Z",
        "colab_type": "text"
      },
      "source": [
        "이렇게 되는 이유는 같은 메모리 주소를 참조하기 때문입니다."
      ]
    },
    {
      "cell_type": "code",
      "metadata": {
        "id": "37cgGdsPeaFU",
        "colab_type": "code",
        "colab": {
          "base_uri": "https://localhost:8080/",
          "height": 34
        },
        "outputId": "6c340626-2a90-42ed-a00c-0d52c9e9eb44"
      },
      "source": [
        "# 똑같네.그럼 새로히 할당하면 안되겠네.\n",
        "if hex(id(new_df)) == hex(id(df)):\n",
        "  print('동일해요')\n",
        "else:\n",
        "  print('전혀 달라요')  "
      ],
      "execution_count": 12,
      "outputs": [
        {
          "output_type": "stream",
          "text": [
            "동일해요\n"
          ],
          "name": "stdout"
        }
      ]
    },
    {
      "cell_type": "code",
      "metadata": {
        "id": "tHf3ok8jd03k",
        "colab_type": "code",
        "colab": {
          "base_uri": "https://localhost:8080/",
          "height": 34
        },
        "outputId": "b313228e-8493-45db-d038-d794eb5fa796"
      },
      "source": [
        "hex(id(new_df)) , hex(id(df))"
      ],
      "execution_count": 14,
      "outputs": [
        {
          "output_type": "execute_result",
          "data": {
            "text/plain": [
              "('0x7fa777033f98', '0x7fa777033f98')"
            ]
          },
          "metadata": {
            "tags": []
          },
          "execution_count": 14
        }
      ]
    },
    {
      "cell_type": "markdown",
      "metadata": {
        "id": "kB9w_6ZDdcNS",
        "colab_type": "text"
      },
      "source": [
        "굉장히 많은 분들이 실수를 하시는 부분입니다.\n",
        "\n",
        "**원본 데이터를 유지 시키고, 새로운 변수에 복사할 때는 copy()를 사용해 주세요**"
      ]
    },
    {
      "cell_type": "code",
      "metadata": {
        "id": "35dDWJFce5aY",
        "colab_type": "code",
        "colab": {}
      },
      "source": [
        "df = pd.read_csv('https://bit.ly/ds-korean-idol')"
      ],
      "execution_count": 29,
      "outputs": []
    },
    {
      "cell_type": "code",
      "metadata": {
        "id": "Fis_cBXre13k",
        "colab_type": "code",
        "colab": {}
      },
      "source": [
        "# deep=True로 하면 copy_df를 변경하더라도 원본의 데이터의 변경이 없다.즉, 새로운 개체라는 얘기\n",
        "copy_df = df.copy()  # deeep=True - 기본값이 True"
      ],
      "execution_count": 30,
      "outputs": []
    },
    {
      "cell_type": "code",
      "metadata": {
        "id": "DyWwUyGXe8iH",
        "colab_type": "code",
        "colab": {
          "base_uri": "https://localhost:8080/",
          "height": 34
        },
        "outputId": "41190423-7765-40a5-caf7-3f3270ee1400"
      },
      "source": [
        "if (hex(id(df)) == hex(id(copy_df))):\n",
        "  print('동일')\n",
        "else:\n",
        "  print('달라!!')"
      ],
      "execution_count": 31,
      "outputs": [
        {
          "output_type": "stream",
          "text": [
            "달라!!\n"
          ],
          "name": "stdout"
        }
      ]
    },
    {
      "cell_type": "code",
      "metadata": {
        "id": "wGb1wL4Ye8b_",
        "colab_type": "code",
        "colab": {
          "base_uri": "https://localhost:8080/",
          "height": 34
        },
        "outputId": "e81e4c3f-bc64-4e0b-dcc4-2b41c95de3c7"
      },
      "source": [
        "# 메모리 주소도 다름\n",
        "hex(id(df)) , hex(id(copy_df))"
      ],
      "execution_count": 32,
      "outputs": [
        {
          "output_type": "execute_result",
          "data": {
            "text/plain": [
              "('0x7fa77695f4e0', '0x7fa76ec8c908')"
            ]
          },
          "metadata": {
            "tags": []
          },
          "execution_count": 32
        }
      ]
    },
    {
      "cell_type": "code",
      "metadata": {
        "id": "beZKBPXM6j_r",
        "colab_type": "code",
        "colab": {}
      },
      "source": [
        "# 아이돌 중 지드래곤의 이름을 바꿈\n",
        "copy_df.loc[copy_df['이름']=='지드래곤', '이름'] = 'SANGSE SEO'"
      ],
      "execution_count": 37,
      "outputs": []
    },
    {
      "cell_type": "code",
      "metadata": {
        "id": "1vc5_iYcfDl4",
        "colab_type": "code",
        "colab": {
          "base_uri": "https://localhost:8080/",
          "height": 514
        },
        "outputId": "d066ff3f-e543-46c3-b14a-fef03001f178"
      },
      "source": [
        "# 이름이 바뀐것을 확인\n",
        "# 민감한 정보는 빼고 \n",
        "copy_df[['이름', '그룹', '소속사', '성별', '키', '브랜드평판지수']]"
      ],
      "execution_count": 38,
      "outputs": [
        {
          "output_type": "execute_result",
          "data": {
            "text/html": [
              "<div>\n",
              "<style scoped>\n",
              "    .dataframe tbody tr th:only-of-type {\n",
              "        vertical-align: middle;\n",
              "    }\n",
              "\n",
              "    .dataframe tbody tr th {\n",
              "        vertical-align: top;\n",
              "    }\n",
              "\n",
              "    .dataframe thead th {\n",
              "        text-align: right;\n",
              "    }\n",
              "</style>\n",
              "<table border=\"1\" class=\"dataframe\">\n",
              "  <thead>\n",
              "    <tr style=\"text-align: right;\">\n",
              "      <th></th>\n",
              "      <th>이름</th>\n",
              "      <th>그룹</th>\n",
              "      <th>소속사</th>\n",
              "      <th>성별</th>\n",
              "      <th>키</th>\n",
              "      <th>브랜드평판지수</th>\n",
              "    </tr>\n",
              "  </thead>\n",
              "  <tbody>\n",
              "    <tr>\n",
              "      <th>0</th>\n",
              "      <td>지민</td>\n",
              "      <td>방탄소년단</td>\n",
              "      <td>빅히트</td>\n",
              "      <td>남자</td>\n",
              "      <td>173.6</td>\n",
              "      <td>10523260</td>\n",
              "    </tr>\n",
              "    <tr>\n",
              "      <th>1</th>\n",
              "      <td>SANGSE SEO</td>\n",
              "      <td>빅뱅</td>\n",
              "      <td>YG</td>\n",
              "      <td>남자</td>\n",
              "      <td>177.0</td>\n",
              "      <td>9916947</td>\n",
              "    </tr>\n",
              "    <tr>\n",
              "      <th>2</th>\n",
              "      <td>강다니엘</td>\n",
              "      <td>NaN</td>\n",
              "      <td>커넥트</td>\n",
              "      <td>남자</td>\n",
              "      <td>180.0</td>\n",
              "      <td>8273745</td>\n",
              "    </tr>\n",
              "    <tr>\n",
              "      <th>3</th>\n",
              "      <td>뷔</td>\n",
              "      <td>방탄소년단</td>\n",
              "      <td>빅히트</td>\n",
              "      <td>남자</td>\n",
              "      <td>178.0</td>\n",
              "      <td>8073501</td>\n",
              "    </tr>\n",
              "    <tr>\n",
              "      <th>4</th>\n",
              "      <td>화사</td>\n",
              "      <td>마마무</td>\n",
              "      <td>RBW</td>\n",
              "      <td>여자</td>\n",
              "      <td>162.1</td>\n",
              "      <td>7650928</td>\n",
              "    </tr>\n",
              "    <tr>\n",
              "      <th>5</th>\n",
              "      <td>정국</td>\n",
              "      <td>방탄소년단</td>\n",
              "      <td>빅히트</td>\n",
              "      <td>남자</td>\n",
              "      <td>178.0</td>\n",
              "      <td>5208335</td>\n",
              "    </tr>\n",
              "    <tr>\n",
              "      <th>6</th>\n",
              "      <td>민현</td>\n",
              "      <td>뉴이스트</td>\n",
              "      <td>플레디스</td>\n",
              "      <td>남자</td>\n",
              "      <td>182.3</td>\n",
              "      <td>4989792</td>\n",
              "    </tr>\n",
              "    <tr>\n",
              "      <th>7</th>\n",
              "      <td>소연</td>\n",
              "      <td>아이들</td>\n",
              "      <td>큐브</td>\n",
              "      <td>여자</td>\n",
              "      <td>NaN</td>\n",
              "      <td>4668615</td>\n",
              "    </tr>\n",
              "    <tr>\n",
              "      <th>8</th>\n",
              "      <td>진</td>\n",
              "      <td>방탄소년단</td>\n",
              "      <td>빅히트</td>\n",
              "      <td>남자</td>\n",
              "      <td>179.2</td>\n",
              "      <td>4570308</td>\n",
              "    </tr>\n",
              "    <tr>\n",
              "      <th>9</th>\n",
              "      <td>하성운</td>\n",
              "      <td>핫샷</td>\n",
              "      <td>스타크루이엔티</td>\n",
              "      <td>남자</td>\n",
              "      <td>167.1</td>\n",
              "      <td>4036489</td>\n",
              "    </tr>\n",
              "    <tr>\n",
              "      <th>10</th>\n",
              "      <td>태연</td>\n",
              "      <td>소녀시대</td>\n",
              "      <td>SM</td>\n",
              "      <td>여자</td>\n",
              "      <td>NaN</td>\n",
              "      <td>3918661</td>\n",
              "    </tr>\n",
              "    <tr>\n",
              "      <th>11</th>\n",
              "      <td>차은우</td>\n",
              "      <td>아스트로</td>\n",
              "      <td>판타지오</td>\n",
              "      <td>남자</td>\n",
              "      <td>183.0</td>\n",
              "      <td>3506027</td>\n",
              "    </tr>\n",
              "    <tr>\n",
              "      <th>12</th>\n",
              "      <td>백호</td>\n",
              "      <td>뉴이스트</td>\n",
              "      <td>플레디스</td>\n",
              "      <td>남자</td>\n",
              "      <td>175.0</td>\n",
              "      <td>3301654</td>\n",
              "    </tr>\n",
              "    <tr>\n",
              "      <th>13</th>\n",
              "      <td>JR</td>\n",
              "      <td>뉴이스트</td>\n",
              "      <td>플레디스</td>\n",
              "      <td>남자</td>\n",
              "      <td>176.0</td>\n",
              "      <td>3274137</td>\n",
              "    </tr>\n",
              "    <tr>\n",
              "      <th>14</th>\n",
              "      <td>슈가</td>\n",
              "      <td>방탄소년단</td>\n",
              "      <td>빅히트</td>\n",
              "      <td>남자</td>\n",
              "      <td>174.0</td>\n",
              "      <td>2925442</td>\n",
              "    </tr>\n",
              "  </tbody>\n",
              "</table>\n",
              "</div>"
            ],
            "text/plain": [
              "            이름     그룹      소속사  성별      키   브랜드평판지수\n",
              "0           지민  방탄소년단      빅히트  남자  173.6  10523260\n",
              "1   SANGSE SEO     빅뱅       YG  남자  177.0   9916947\n",
              "2         강다니엘    NaN      커넥트  남자  180.0   8273745\n",
              "3            뷔  방탄소년단      빅히트  남자  178.0   8073501\n",
              "4           화사    마마무      RBW  여자  162.1   7650928\n",
              "5           정국  방탄소년단      빅히트  남자  178.0   5208335\n",
              "6           민현   뉴이스트     플레디스  남자  182.3   4989792\n",
              "7           소연    아이들       큐브  여자    NaN   4668615\n",
              "8            진  방탄소년단      빅히트  남자  179.2   4570308\n",
              "9          하성운     핫샷  스타크루이엔티  남자  167.1   4036489\n",
              "10          태연   소녀시대       SM  여자    NaN   3918661\n",
              "11         차은우   아스트로     판타지오  남자  183.0   3506027\n",
              "12          백호   뉴이스트     플레디스  남자  175.0   3301654\n",
              "13          JR   뉴이스트     플레디스  남자  176.0   3274137\n",
              "14          슈가  방탄소년단      빅히트  남자  174.0   2925442"
            ]
          },
          "metadata": {
            "tags": []
          },
          "execution_count": 38
        }
      ]
    },
    {
      "cell_type": "code",
      "metadata": {
        "id": "ZlaadeGkfDfx",
        "colab_type": "code",
        "colab": {
          "base_uri": "https://localhost:8080/",
          "height": 111
        },
        "outputId": "41478425-9476-4f96-e2b3-5c314e243c51"
      },
      "source": [
        "# 원본은 변경없음.\n",
        "df.head(n=2)"
      ],
      "execution_count": 39,
      "outputs": [
        {
          "output_type": "execute_result",
          "data": {
            "text/html": [
              "<div>\n",
              "<style scoped>\n",
              "    .dataframe tbody tr th:only-of-type {\n",
              "        vertical-align: middle;\n",
              "    }\n",
              "\n",
              "    .dataframe tbody tr th {\n",
              "        vertical-align: top;\n",
              "    }\n",
              "\n",
              "    .dataframe thead th {\n",
              "        text-align: right;\n",
              "    }\n",
              "</style>\n",
              "<table border=\"1\" class=\"dataframe\">\n",
              "  <thead>\n",
              "    <tr style=\"text-align: right;\">\n",
              "      <th></th>\n",
              "      <th>이름</th>\n",
              "      <th>그룹</th>\n",
              "      <th>소속사</th>\n",
              "      <th>성별</th>\n",
              "      <th>생년월일</th>\n",
              "      <th>키</th>\n",
              "      <th>혈액형</th>\n",
              "      <th>브랜드평판지수</th>\n",
              "    </tr>\n",
              "  </thead>\n",
              "  <tbody>\n",
              "    <tr>\n",
              "      <th>0</th>\n",
              "      <td>지민</td>\n",
              "      <td>방탄소년단</td>\n",
              "      <td>빅히트</td>\n",
              "      <td>남자</td>\n",
              "      <td>1995-10-13</td>\n",
              "      <td>173.6</td>\n",
              "      <td>A</td>\n",
              "      <td>10523260</td>\n",
              "    </tr>\n",
              "    <tr>\n",
              "      <th>1</th>\n",
              "      <td>지드래곤</td>\n",
              "      <td>빅뱅</td>\n",
              "      <td>YG</td>\n",
              "      <td>남자</td>\n",
              "      <td>1988-08-18</td>\n",
              "      <td>177.0</td>\n",
              "      <td>A</td>\n",
              "      <td>9916947</td>\n",
              "    </tr>\n",
              "  </tbody>\n",
              "</table>\n",
              "</div>"
            ],
            "text/plain": [
              "     이름     그룹  소속사  성별        생년월일      키 혈액형   브랜드평판지수\n",
              "0    지민  방탄소년단  빅히트  남자  1995-10-13  173.6   A  10523260\n",
              "1  지드래곤     빅뱅   YG  남자  1988-08-18  177.0   A   9916947"
            ]
          },
          "metadata": {
            "tags": []
          },
          "execution_count": 39
        }
      ]
    },
    {
      "cell_type": "code",
      "metadata": {
        "id": "rRjgO0UUdbnO",
        "colab_type": "code",
        "colab": {}
      },
      "source": [
        "# deep=False :  데이터는 복사하지않고,참조한다.데이터를 요청할때.\n",
        "# 즉,shawllow copy란 얘기이다.\n",
        "deepC_False = df.copy(deep=False)"
      ],
      "execution_count": 40,
      "outputs": []
    },
    {
      "cell_type": "code",
      "metadata": {
        "id": "Xby-k0XE9Ix-",
        "colab_type": "code",
        "colab": {
          "base_uri": "https://localhost:8080/",
          "height": 51
        },
        "outputId": "ad3b8c35-ecc8-49ca-f9b3-2cfb8e66ca70"
      },
      "source": [
        "if (hex(id(df)) == hex(id(deepC_False))):\n",
        "  print('동일')\n",
        "else:\n",
        "  print('달라!!')\n",
        "\n",
        "hex(id(df)) , hex(id(deepC_False))"
      ],
      "execution_count": 42,
      "outputs": [
        {
          "output_type": "stream",
          "text": [
            "달라!!\n"
          ],
          "name": "stdout"
        },
        {
          "output_type": "execute_result",
          "data": {
            "text/plain": [
              "('0x7fa77695f4e0', '0x7fa77695f518')"
            ]
          },
          "metadata": {
            "tags": []
          },
          "execution_count": 42
        }
      ]
    },
    {
      "cell_type": "code",
      "metadata": {
        "id": "XZIeDqgU9Wjx",
        "colab_type": "code",
        "colab": {}
      },
      "source": [
        "# 원본을 변경하면 \n",
        "df.loc[df['이름']=='지드래곤', '이름'] = 'SANGSE SEO'"
      ],
      "execution_count": 44,
      "outputs": []
    },
    {
      "cell_type": "code",
      "metadata": {
        "id": "7zfsxfb89uli",
        "colab_type": "code",
        "colab": {
          "base_uri": "https://localhost:8080/",
          "height": 204
        },
        "outputId": "7c4b6faa-ac83-4553-85c6-ba41968bc09c"
      },
      "source": [
        "# shawllow copy한 DataFrame객체도 조회화면 동일한 데이터프레임을 참조함을 알수있다.\n",
        "deepC_False[['이름', '그룹', '소속사', '성별', '키', '브랜드평판지수']].head()"
      ],
      "execution_count": 47,
      "outputs": [
        {
          "output_type": "execute_result",
          "data": {
            "text/html": [
              "<div>\n",
              "<style scoped>\n",
              "    .dataframe tbody tr th:only-of-type {\n",
              "        vertical-align: middle;\n",
              "    }\n",
              "\n",
              "    .dataframe tbody tr th {\n",
              "        vertical-align: top;\n",
              "    }\n",
              "\n",
              "    .dataframe thead th {\n",
              "        text-align: right;\n",
              "    }\n",
              "</style>\n",
              "<table border=\"1\" class=\"dataframe\">\n",
              "  <thead>\n",
              "    <tr style=\"text-align: right;\">\n",
              "      <th></th>\n",
              "      <th>이름</th>\n",
              "      <th>그룹</th>\n",
              "      <th>소속사</th>\n",
              "      <th>성별</th>\n",
              "      <th>키</th>\n",
              "      <th>브랜드평판지수</th>\n",
              "    </tr>\n",
              "  </thead>\n",
              "  <tbody>\n",
              "    <tr>\n",
              "      <th>0</th>\n",
              "      <td>지민</td>\n",
              "      <td>방탄소년단</td>\n",
              "      <td>빅히트</td>\n",
              "      <td>남자</td>\n",
              "      <td>173.6</td>\n",
              "      <td>10523260</td>\n",
              "    </tr>\n",
              "    <tr>\n",
              "      <th>1</th>\n",
              "      <td>SANGSE SEO</td>\n",
              "      <td>빅뱅</td>\n",
              "      <td>YG</td>\n",
              "      <td>남자</td>\n",
              "      <td>177.0</td>\n",
              "      <td>9916947</td>\n",
              "    </tr>\n",
              "    <tr>\n",
              "      <th>2</th>\n",
              "      <td>강다니엘</td>\n",
              "      <td>NaN</td>\n",
              "      <td>커넥트</td>\n",
              "      <td>남자</td>\n",
              "      <td>180.0</td>\n",
              "      <td>8273745</td>\n",
              "    </tr>\n",
              "    <tr>\n",
              "      <th>3</th>\n",
              "      <td>뷔</td>\n",
              "      <td>방탄소년단</td>\n",
              "      <td>빅히트</td>\n",
              "      <td>남자</td>\n",
              "      <td>178.0</td>\n",
              "      <td>8073501</td>\n",
              "    </tr>\n",
              "    <tr>\n",
              "      <th>4</th>\n",
              "      <td>화사</td>\n",
              "      <td>마마무</td>\n",
              "      <td>RBW</td>\n",
              "      <td>여자</td>\n",
              "      <td>162.1</td>\n",
              "      <td>7650928</td>\n",
              "    </tr>\n",
              "  </tbody>\n",
              "</table>\n",
              "</div>"
            ],
            "text/plain": [
              "           이름     그룹  소속사  성별      키   브랜드평판지수\n",
              "0          지민  방탄소년단  빅히트  남자  173.6  10523260\n",
              "1  SANGSE SEO     빅뱅   YG  남자  177.0   9916947\n",
              "2        강다니엘    NaN  커넥트  남자  180.0   8273745\n",
              "3           뷔  방탄소년단  빅히트  남자  178.0   8073501\n",
              "4          화사    마마무  RBW  여자  162.1   7650928"
            ]
          },
          "metadata": {
            "tags": []
          },
          "execution_count": 47
        }
      ]
    },
    {
      "cell_type": "markdown",
      "metadata": {
        "id": "9R1oTsR8fQiz",
        "colab_type": "text"
      },
      "source": [
        "## 2. row, column 추가 및 삭제"
      ]
    },
    {
      "cell_type": "markdown",
      "metadata": {
        "id": "RqNOMOYlhTLv",
        "colab_type": "text"
      },
      "source": [
        "### 2-1. row의 추가"
      ]
    },
    {
      "cell_type": "code",
      "metadata": {
        "id": "D7JjRZLffQp2",
        "colab_type": "code",
        "colab": {
          "base_uri": "https://localhost:8080/",
          "height": 204
        },
        "outputId": "ee398e3e-9cbc-4f2d-c017-b8148954979d"
      },
      "source": [
        "df.head()"
      ],
      "execution_count": null,
      "outputs": [
        {
          "output_type": "execute_result",
          "data": {
            "text/html": [
              "<div>\n",
              "<style scoped>\n",
              "    .dataframe tbody tr th:only-of-type {\n",
              "        vertical-align: middle;\n",
              "    }\n",
              "\n",
              "    .dataframe tbody tr th {\n",
              "        vertical-align: top;\n",
              "    }\n",
              "\n",
              "    .dataframe thead th {\n",
              "        text-align: right;\n",
              "    }\n",
              "</style>\n",
              "<table border=\"1\" class=\"dataframe\">\n",
              "  <thead>\n",
              "    <tr style=\"text-align: right;\">\n",
              "      <th></th>\n",
              "      <th>이름</th>\n",
              "      <th>그룹</th>\n",
              "      <th>소속사</th>\n",
              "      <th>성별</th>\n",
              "      <th>생년월일</th>\n",
              "      <th>키</th>\n",
              "      <th>혈액형</th>\n",
              "      <th>브랜드평판지수</th>\n",
              "    </tr>\n",
              "  </thead>\n",
              "  <tbody>\n",
              "    <tr>\n",
              "      <th>0</th>\n",
              "      <td>지민</td>\n",
              "      <td>방탄소년단</td>\n",
              "      <td>빅히트</td>\n",
              "      <td>남자</td>\n",
              "      <td>1995-10-13</td>\n",
              "      <td>173.6</td>\n",
              "      <td>A</td>\n",
              "      <td>10523260</td>\n",
              "    </tr>\n",
              "    <tr>\n",
              "      <th>1</th>\n",
              "      <td>지드래곤</td>\n",
              "      <td>빅뱅</td>\n",
              "      <td>YG</td>\n",
              "      <td>남자</td>\n",
              "      <td>1988-08-18</td>\n",
              "      <td>177.0</td>\n",
              "      <td>A</td>\n",
              "      <td>9916947</td>\n",
              "    </tr>\n",
              "    <tr>\n",
              "      <th>2</th>\n",
              "      <td>강다니엘</td>\n",
              "      <td>NaN</td>\n",
              "      <td>커넥트</td>\n",
              "      <td>남자</td>\n",
              "      <td>1996-12-10</td>\n",
              "      <td>180.0</td>\n",
              "      <td>A</td>\n",
              "      <td>8273745</td>\n",
              "    </tr>\n",
              "    <tr>\n",
              "      <th>3</th>\n",
              "      <td>뷔</td>\n",
              "      <td>방탄소년단</td>\n",
              "      <td>빅히트</td>\n",
              "      <td>남자</td>\n",
              "      <td>1995-12-30</td>\n",
              "      <td>178.0</td>\n",
              "      <td>AB</td>\n",
              "      <td>8073501</td>\n",
              "    </tr>\n",
              "    <tr>\n",
              "      <th>4</th>\n",
              "      <td>화사</td>\n",
              "      <td>마마무</td>\n",
              "      <td>RBW</td>\n",
              "      <td>여자</td>\n",
              "      <td>1995-07-23</td>\n",
              "      <td>162.1</td>\n",
              "      <td>A</td>\n",
              "      <td>7650928</td>\n",
              "    </tr>\n",
              "  </tbody>\n",
              "</table>\n",
              "</div>"
            ],
            "text/plain": [
              "     이름     그룹  소속사  성별        생년월일      키 혈액형   브랜드평판지수\n",
              "0    지민  방탄소년단  빅히트  남자  1995-10-13  173.6   A  10523260\n",
              "1  지드래곤     빅뱅   YG  남자  1988-08-18  177.0   A   9916947\n",
              "2  강다니엘    NaN  커넥트  남자  1996-12-10  180.0   A   8273745\n",
              "3     뷔  방탄소년단  빅히트  남자  1995-12-30  178.0  AB   8073501\n",
              "4    화사    마마무  RBW  여자  1995-07-23  162.1   A   7650928"
            ]
          },
          "metadata": {
            "tags": []
          },
          "execution_count": 39
        }
      ]
    },
    {
      "cell_type": "markdown",
      "metadata": {
        "id": "Y1R4SZEOgrUz",
        "colab_type": "text"
      },
      "source": [
        "dictionary 형태의 데이터를 만들어 준다음 **append()** 함수를 사용하여 데이터를 추가할 수 있습니다. 반드시, **ignore_index=True** 옵션을 같이 추가해 주셔야 에러가 안납니다!"
      ]
    },
    {
      "cell_type": "code",
      "metadata": {
        "id": "OFn8MJb8fQli",
        "colab_type": "code",
        "colab": {}
      },
      "source": [
        "new_dic = {\n",
        "     '이름': '테디', \n",
        "     '그룹': '테디그룹', \n",
        "     '소속사': '끝내주는소속사', \n",
        "     '성별': '남자', \n",
        "     '생년월일': '1970-01-01', \n",
        "     '키': 195.0, \n",
        "     '혈액형': 'O', \n",
        "     '브랜드평판지수': 12345678\n",
        "}"
      ],
      "execution_count": 48,
      "outputs": []
    },
    {
      "cell_type": "code",
      "metadata": {
        "id": "7Yctt6Fn7AFE",
        "colab_type": "code",
        "colab": {
          "base_uri": "https://localhost:8080/",
          "height": 204
        },
        "outputId": "6d28fb55-f48f-4592-9170-a6100e47dc92"
      },
      "source": [
        "# DataFrame에 추가.맨끝에 추가됨을 확인\n",
        "# append()는 DataFrame을 리턴한다.즉 ,복사본을 생성한다는 의미.\n",
        "df.append(new_dic, ignore_index=True).tail()"
      ],
      "execution_count": 50,
      "outputs": [
        {
          "output_type": "execute_result",
          "data": {
            "text/html": [
              "<div>\n",
              "<style scoped>\n",
              "    .dataframe tbody tr th:only-of-type {\n",
              "        vertical-align: middle;\n",
              "    }\n",
              "\n",
              "    .dataframe tbody tr th {\n",
              "        vertical-align: top;\n",
              "    }\n",
              "\n",
              "    .dataframe thead th {\n",
              "        text-align: right;\n",
              "    }\n",
              "</style>\n",
              "<table border=\"1\" class=\"dataframe\">\n",
              "  <thead>\n",
              "    <tr style=\"text-align: right;\">\n",
              "      <th></th>\n",
              "      <th>이름</th>\n",
              "      <th>그룹</th>\n",
              "      <th>소속사</th>\n",
              "      <th>성별</th>\n",
              "      <th>생년월일</th>\n",
              "      <th>키</th>\n",
              "      <th>혈액형</th>\n",
              "      <th>브랜드평판지수</th>\n",
              "    </tr>\n",
              "  </thead>\n",
              "  <tbody>\n",
              "    <tr>\n",
              "      <th>11</th>\n",
              "      <td>차은우</td>\n",
              "      <td>아스트로</td>\n",
              "      <td>판타지오</td>\n",
              "      <td>남자</td>\n",
              "      <td>1997-03-30</td>\n",
              "      <td>183.0</td>\n",
              "      <td>B</td>\n",
              "      <td>3506027</td>\n",
              "    </tr>\n",
              "    <tr>\n",
              "      <th>12</th>\n",
              "      <td>백호</td>\n",
              "      <td>뉴이스트</td>\n",
              "      <td>플레디스</td>\n",
              "      <td>남자</td>\n",
              "      <td>1995-07-21</td>\n",
              "      <td>175.0</td>\n",
              "      <td>AB</td>\n",
              "      <td>3301654</td>\n",
              "    </tr>\n",
              "    <tr>\n",
              "      <th>13</th>\n",
              "      <td>JR</td>\n",
              "      <td>뉴이스트</td>\n",
              "      <td>플레디스</td>\n",
              "      <td>남자</td>\n",
              "      <td>1995-06-08</td>\n",
              "      <td>176.0</td>\n",
              "      <td>O</td>\n",
              "      <td>3274137</td>\n",
              "    </tr>\n",
              "    <tr>\n",
              "      <th>14</th>\n",
              "      <td>슈가</td>\n",
              "      <td>방탄소년단</td>\n",
              "      <td>빅히트</td>\n",
              "      <td>남자</td>\n",
              "      <td>1993-03-09</td>\n",
              "      <td>174.0</td>\n",
              "      <td>O</td>\n",
              "      <td>2925442</td>\n",
              "    </tr>\n",
              "    <tr>\n",
              "      <th>15</th>\n",
              "      <td>테디</td>\n",
              "      <td>테디그룹</td>\n",
              "      <td>끝내주는소속사</td>\n",
              "      <td>남자</td>\n",
              "      <td>1970-01-01</td>\n",
              "      <td>195.0</td>\n",
              "      <td>O</td>\n",
              "      <td>12345678</td>\n",
              "    </tr>\n",
              "  </tbody>\n",
              "</table>\n",
              "</div>"
            ],
            "text/plain": [
              "     이름     그룹      소속사  성별        생년월일      키 혈액형   브랜드평판지수\n",
              "11  차은우   아스트로     판타지오  남자  1997-03-30  183.0   B   3506027\n",
              "12   백호   뉴이스트     플레디스  남자  1995-07-21  175.0  AB   3301654\n",
              "13   JR   뉴이스트     플레디스  남자  1995-06-08  176.0   O   3274137\n",
              "14   슈가  방탄소년단      빅히트  남자  1993-03-09  174.0   O   2925442\n",
              "15   테디   테디그룹  끝내주는소속사  남자  1970-01-01  195.0   O  12345678"
            ]
          },
          "metadata": {
            "tags": []
          },
          "execution_count": 50
        }
      ]
    },
    {
      "cell_type": "code",
      "metadata": {
        "id": "NA_xQxkTgMq4",
        "colab_type": "code",
        "colab": {
          "base_uri": "https://localhost:8080/",
          "height": 204
        },
        "outputId": "d317ea91-c947-44a8-fe5e-7c43d28321db"
      },
      "source": [
        "# 원본 데이터 프레임 확인\n",
        "df.tail()[['이름', '그룹', '소속사', '성별','브랜드평판지수', '국적']]"
      ],
      "execution_count": 65,
      "outputs": [
        {
          "output_type": "execute_result",
          "data": {
            "text/html": [
              "<div>\n",
              "<style scoped>\n",
              "    .dataframe tbody tr th:only-of-type {\n",
              "        vertical-align: middle;\n",
              "    }\n",
              "\n",
              "    .dataframe tbody tr th {\n",
              "        vertical-align: top;\n",
              "    }\n",
              "\n",
              "    .dataframe thead th {\n",
              "        text-align: right;\n",
              "    }\n",
              "</style>\n",
              "<table border=\"1\" class=\"dataframe\">\n",
              "  <thead>\n",
              "    <tr style=\"text-align: right;\">\n",
              "      <th></th>\n",
              "      <th>이름</th>\n",
              "      <th>그룹</th>\n",
              "      <th>소속사</th>\n",
              "      <th>성별</th>\n",
              "      <th>브랜드평판지수</th>\n",
              "      <th>국적</th>\n",
              "    </tr>\n",
              "  </thead>\n",
              "  <tbody>\n",
              "    <tr>\n",
              "      <th>11</th>\n",
              "      <td>차은우</td>\n",
              "      <td>아스트로</td>\n",
              "      <td>판타지오</td>\n",
              "      <td>남자</td>\n",
              "      <td>3506027</td>\n",
              "      <td>대한민국</td>\n",
              "    </tr>\n",
              "    <tr>\n",
              "      <th>12</th>\n",
              "      <td>백호</td>\n",
              "      <td>뉴이스트</td>\n",
              "      <td>플레디스</td>\n",
              "      <td>남자</td>\n",
              "      <td>3301654</td>\n",
              "      <td>대한민국</td>\n",
              "    </tr>\n",
              "    <tr>\n",
              "      <th>13</th>\n",
              "      <td>JR</td>\n",
              "      <td>뉴이스트</td>\n",
              "      <td>플레디스</td>\n",
              "      <td>남자</td>\n",
              "      <td>3274137</td>\n",
              "      <td>대한민국</td>\n",
              "    </tr>\n",
              "    <tr>\n",
              "      <th>14</th>\n",
              "      <td>슈가</td>\n",
              "      <td>방탄소년단</td>\n",
              "      <td>빅히트</td>\n",
              "      <td>남자</td>\n",
              "      <td>2925442</td>\n",
              "      <td>대한민국</td>\n",
              "    </tr>\n",
              "    <tr>\n",
              "      <th>15</th>\n",
              "      <td>테디</td>\n",
              "      <td>테디그룹</td>\n",
              "      <td>끝내주는소속사</td>\n",
              "      <td>남자</td>\n",
              "      <td>12345678</td>\n",
              "      <td>대한민국</td>\n",
              "    </tr>\n",
              "  </tbody>\n",
              "</table>\n",
              "</div>"
            ],
            "text/plain": [
              "     이름     그룹      소속사  성별   브랜드평판지수    국적\n",
              "11  차은우   아스트로     판타지오  남자   3506027  대한민국\n",
              "12   백호   뉴이스트     플레디스  남자   3301654  대한민국\n",
              "13   JR   뉴이스트     플레디스  남자   3274137  대한민국\n",
              "14   슈가  방탄소년단      빅히트  남자   2925442  대한민국\n",
              "15   테디   테디그룹  끝내주는소속사  남자  12345678  대한민국"
            ]
          },
          "metadata": {
            "tags": []
          },
          "execution_count": 65
        }
      ]
    },
    {
      "cell_type": "markdown",
      "metadata": {
        "id": "4QpzB2LyhHKt",
        "colab_type": "text"
      },
      "source": [
        "또한, append() 한 뒤 다시 df에 대입해줘야 변경한 값이 유지 됩니다.\n",
        "  - 이 의미는 복사본을 생성하고 append결과가 리턴된다는 의미\n",
        "  - 그래서 데이터 프레임에 재할당하는구나."
      ]
    },
    {
      "cell_type": "code",
      "metadata": {
        "id": "gOdzjbWpg8Fw",
        "colab_type": "code",
        "colab": {}
      },
      "source": [
        "df = df.append(new_dic,ignore_index=True)"
      ],
      "execution_count": 52,
      "outputs": []
    },
    {
      "cell_type": "code",
      "metadata": {
        "id": "AdckIZhlhD-H",
        "colab_type": "code",
        "colab": {
          "base_uri": "https://localhost:8080/",
          "height": 204
        },
        "outputId": "f2ae29d6-1f77-4494-df89-9428a433e3f6"
      },
      "source": [
        "df.tail()[['이름', '그룹', '소속사', '브랜드평판지수', '국적']]"
      ],
      "execution_count": 63,
      "outputs": [
        {
          "output_type": "execute_result",
          "data": {
            "text/html": [
              "<div>\n",
              "<style scoped>\n",
              "    .dataframe tbody tr th:only-of-type {\n",
              "        vertical-align: middle;\n",
              "    }\n",
              "\n",
              "    .dataframe tbody tr th {\n",
              "        vertical-align: top;\n",
              "    }\n",
              "\n",
              "    .dataframe thead th {\n",
              "        text-align: right;\n",
              "    }\n",
              "</style>\n",
              "<table border=\"1\" class=\"dataframe\">\n",
              "  <thead>\n",
              "    <tr style=\"text-align: right;\">\n",
              "      <th></th>\n",
              "      <th>이름</th>\n",
              "      <th>그룹</th>\n",
              "      <th>소속사</th>\n",
              "      <th>브랜드평판지수</th>\n",
              "      <th>국적</th>\n",
              "    </tr>\n",
              "  </thead>\n",
              "  <tbody>\n",
              "    <tr>\n",
              "      <th>11</th>\n",
              "      <td>차은우</td>\n",
              "      <td>아스트로</td>\n",
              "      <td>판타지오</td>\n",
              "      <td>3506027</td>\n",
              "      <td>대한민국</td>\n",
              "    </tr>\n",
              "    <tr>\n",
              "      <th>12</th>\n",
              "      <td>백호</td>\n",
              "      <td>뉴이스트</td>\n",
              "      <td>플레디스</td>\n",
              "      <td>3301654</td>\n",
              "      <td>대한민국</td>\n",
              "    </tr>\n",
              "    <tr>\n",
              "      <th>13</th>\n",
              "      <td>JR</td>\n",
              "      <td>뉴이스트</td>\n",
              "      <td>플레디스</td>\n",
              "      <td>3274137</td>\n",
              "      <td>대한민국</td>\n",
              "    </tr>\n",
              "    <tr>\n",
              "      <th>14</th>\n",
              "      <td>슈가</td>\n",
              "      <td>방탄소년단</td>\n",
              "      <td>빅히트</td>\n",
              "      <td>2925442</td>\n",
              "      <td>대한민국</td>\n",
              "    </tr>\n",
              "    <tr>\n",
              "      <th>15</th>\n",
              "      <td>테디</td>\n",
              "      <td>테디그룹</td>\n",
              "      <td>끝내주는소속사</td>\n",
              "      <td>12345678</td>\n",
              "      <td>대한민국</td>\n",
              "    </tr>\n",
              "  </tbody>\n",
              "</table>\n",
              "</div>"
            ],
            "text/plain": [
              "     이름     그룹      소속사   브랜드평판지수    국적\n",
              "11  차은우   아스트로     판타지오   3506027  대한민국\n",
              "12   백호   뉴이스트     플레디스   3301654  대한민국\n",
              "13   JR   뉴이스트     플레디스   3274137  대한민국\n",
              "14   슈가  방탄소년단      빅히트   2925442  대한민국\n",
              "15   테디   테디그룹  끝내주는소속사  12345678  대한민국"
            ]
          },
          "metadata": {
            "tags": []
          },
          "execution_count": 63
        }
      ]
    },
    {
      "cell_type": "markdown",
      "metadata": {
        "id": "2zylHZs0hV_B",
        "colab_type": "text"
      },
      "source": [
        "### 2-2. column 추가"
      ]
    },
    {
      "cell_type": "markdown",
      "metadata": {
        "id": "_oSo-nhKfQWU",
        "colab_type": "text"
      },
      "source": [
        "column 추가는 매우 쉽습니다. 단순히 새로운 column을 만들고 값을 대입해주면, 자동으로 생성합니다."
      ]
    },
    {
      "cell_type": "code",
      "metadata": {
        "id": "ZN-AECfzfQSR",
        "colab_type": "code",
        "colab": {
          "base_uri": "https://localhost:8080/",
          "height": 204
        },
        "outputId": "14fd858c-6d56-40f4-d393-25bb8933fd77"
      },
      "source": [
        "df.head()"
      ],
      "execution_count": null,
      "outputs": [
        {
          "output_type": "execute_result",
          "data": {
            "text/html": [
              "<div>\n",
              "<style scoped>\n",
              "    .dataframe tbody tr th:only-of-type {\n",
              "        vertical-align: middle;\n",
              "    }\n",
              "\n",
              "    .dataframe tbody tr th {\n",
              "        vertical-align: top;\n",
              "    }\n",
              "\n",
              "    .dataframe thead th {\n",
              "        text-align: right;\n",
              "    }\n",
              "</style>\n",
              "<table border=\"1\" class=\"dataframe\">\n",
              "  <thead>\n",
              "    <tr style=\"text-align: right;\">\n",
              "      <th></th>\n",
              "      <th>이름</th>\n",
              "      <th>그룹</th>\n",
              "      <th>소속사</th>\n",
              "      <th>성별</th>\n",
              "      <th>생년월일</th>\n",
              "      <th>키</th>\n",
              "      <th>혈액형</th>\n",
              "      <th>브랜드평판지수</th>\n",
              "    </tr>\n",
              "  </thead>\n",
              "  <tbody>\n",
              "    <tr>\n",
              "      <th>0</th>\n",
              "      <td>지민</td>\n",
              "      <td>방탄소년단</td>\n",
              "      <td>빅히트</td>\n",
              "      <td>남자</td>\n",
              "      <td>1995-10-13</td>\n",
              "      <td>173.6</td>\n",
              "      <td>A</td>\n",
              "      <td>10523260</td>\n",
              "    </tr>\n",
              "    <tr>\n",
              "      <th>1</th>\n",
              "      <td>지드래곤</td>\n",
              "      <td>빅뱅</td>\n",
              "      <td>YG</td>\n",
              "      <td>남자</td>\n",
              "      <td>1988-08-18</td>\n",
              "      <td>177.0</td>\n",
              "      <td>A</td>\n",
              "      <td>9916947</td>\n",
              "    </tr>\n",
              "    <tr>\n",
              "      <th>2</th>\n",
              "      <td>강다니엘</td>\n",
              "      <td>NaN</td>\n",
              "      <td>커넥트</td>\n",
              "      <td>남자</td>\n",
              "      <td>1996-12-10</td>\n",
              "      <td>180.0</td>\n",
              "      <td>A</td>\n",
              "      <td>8273745</td>\n",
              "    </tr>\n",
              "    <tr>\n",
              "      <th>3</th>\n",
              "      <td>뷔</td>\n",
              "      <td>방탄소년단</td>\n",
              "      <td>빅히트</td>\n",
              "      <td>남자</td>\n",
              "      <td>1995-12-30</td>\n",
              "      <td>178.0</td>\n",
              "      <td>AB</td>\n",
              "      <td>8073501</td>\n",
              "    </tr>\n",
              "    <tr>\n",
              "      <th>4</th>\n",
              "      <td>화사</td>\n",
              "      <td>마마무</td>\n",
              "      <td>RBW</td>\n",
              "      <td>여자</td>\n",
              "      <td>1995-07-23</td>\n",
              "      <td>162.1</td>\n",
              "      <td>A</td>\n",
              "      <td>7650928</td>\n",
              "    </tr>\n",
              "  </tbody>\n",
              "</table>\n",
              "</div>"
            ],
            "text/plain": [
              "     이름     그룹  소속사  성별        생년월일      키 혈액형   브랜드평판지수\n",
              "0    지민  방탄소년단  빅히트  남자  1995-10-13  173.6   A  10523260\n",
              "1  지드래곤     빅뱅   YG  남자  1988-08-18  177.0   A   9916947\n",
              "2  강다니엘    NaN  커넥트  남자  1996-12-10  180.0   A   8273745\n",
              "3     뷔  방탄소년단  빅히트  남자  1995-12-30  178.0  AB   8073501\n",
              "4    화사    마마무  RBW  여자  1995-07-23  162.1   A   7650928"
            ]
          },
          "metadata": {
            "tags": []
          },
          "execution_count": 53
        }
      ]
    },
    {
      "cell_type": "code",
      "metadata": {
        "id": "ixNe4mnCLVr_",
        "colab_type": "code",
        "colab": {}
      },
      "source": [
        "df['국적'] = 'KRA0900'"
      ],
      "execution_count": 54,
      "outputs": []
    },
    {
      "cell_type": "code",
      "metadata": {
        "id": "R11rCl34hoF3",
        "colab_type": "code",
        "colab": {
          "base_uri": "https://localhost:8080/",
          "height": 204
        },
        "outputId": "4f930cd2-98d7-4c70-959b-d1e30b95900e"
      },
      "source": [
        "df.head()[['이름', '그룹', '소속사', '브랜드평판지수', '국적']]"
      ],
      "execution_count": 62,
      "outputs": [
        {
          "output_type": "execute_result",
          "data": {
            "text/html": [
              "<div>\n",
              "<style scoped>\n",
              "    .dataframe tbody tr th:only-of-type {\n",
              "        vertical-align: middle;\n",
              "    }\n",
              "\n",
              "    .dataframe tbody tr th {\n",
              "        vertical-align: top;\n",
              "    }\n",
              "\n",
              "    .dataframe thead th {\n",
              "        text-align: right;\n",
              "    }\n",
              "</style>\n",
              "<table border=\"1\" class=\"dataframe\">\n",
              "  <thead>\n",
              "    <tr style=\"text-align: right;\">\n",
              "      <th></th>\n",
              "      <th>이름</th>\n",
              "      <th>그룹</th>\n",
              "      <th>소속사</th>\n",
              "      <th>브랜드평판지수</th>\n",
              "      <th>국적</th>\n",
              "    </tr>\n",
              "  </thead>\n",
              "  <tbody>\n",
              "    <tr>\n",
              "      <th>0</th>\n",
              "      <td>지민</td>\n",
              "      <td>방탄소년단</td>\n",
              "      <td>빅히트</td>\n",
              "      <td>10523260</td>\n",
              "      <td>대한민국</td>\n",
              "    </tr>\n",
              "    <tr>\n",
              "      <th>1</th>\n",
              "      <td>SANGSE SEO</td>\n",
              "      <td>빅뱅</td>\n",
              "      <td>YG</td>\n",
              "      <td>9916947</td>\n",
              "      <td>대한민국</td>\n",
              "    </tr>\n",
              "    <tr>\n",
              "      <th>2</th>\n",
              "      <td>강다니엘</td>\n",
              "      <td>NaN</td>\n",
              "      <td>커넥트</td>\n",
              "      <td>8273745</td>\n",
              "      <td>USA</td>\n",
              "    </tr>\n",
              "    <tr>\n",
              "      <th>3</th>\n",
              "      <td>뷔</td>\n",
              "      <td>방탄소년단</td>\n",
              "      <td>빅히트</td>\n",
              "      <td>8073501</td>\n",
              "      <td>대한민국</td>\n",
              "    </tr>\n",
              "    <tr>\n",
              "      <th>4</th>\n",
              "      <td>화사</td>\n",
              "      <td>마마무</td>\n",
              "      <td>RBW</td>\n",
              "      <td>7650928</td>\n",
              "      <td>대한민국</td>\n",
              "    </tr>\n",
              "  </tbody>\n",
              "</table>\n",
              "</div>"
            ],
            "text/plain": [
              "           이름     그룹  소속사   브랜드평판지수    국적\n",
              "0          지민  방탄소년단  빅히트  10523260  대한민국\n",
              "1  SANGSE SEO     빅뱅   YG   9916947  대한민국\n",
              "2        강다니엘    NaN  커넥트   8273745   USA\n",
              "3           뷔  방탄소년단  빅히트   8073501  대한민국\n",
              "4          화사    마마무  RBW   7650928  대한민국"
            ]
          },
          "metadata": {
            "tags": []
          },
          "execution_count": 62
        }
      ]
    },
    {
      "cell_type": "markdown",
      "metadata": {
        "id": "cWdGoo_thp3F",
        "colab_type": "text"
      },
      "source": [
        "전부 동일한 값이 추가 되면서, column도 추가된 것을 보실 수 있습니다."
      ]
    },
    {
      "cell_type": "markdown",
      "metadata": {
        "id": "qK2bcVjnhpwd",
        "colab_type": "text"
      },
      "source": [
        "만약, 값을 변경하고 싶다면, loc 함수를 활용해서 변경해 줄 수 있겠죠?"
      ]
    },
    {
      "cell_type": "code",
      "metadata": {
        "id": "hwdKo4AofMMh",
        "colab_type": "code",
        "colab": {}
      },
      "source": [
        "# 전체 로우에 해당하는 국적컬럼의 데이터를 대한민국으로 바꾸기 \n",
        "# 행(로우): 모든 행\n",
        "# 열(컬럼): '국적'\n",
        "df.loc[:,'국적'] = '대한민국'"
      ],
      "execution_count": 56,
      "outputs": []
    },
    {
      "cell_type": "code",
      "metadata": {
        "id": "zI3wGgKcfMFv",
        "colab_type": "code",
        "colab": {
          "base_uri": "https://localhost:8080/",
          "height": 204
        },
        "outputId": "7ab050bc-4ab0-465e-bcc0-2ed3f9e3b00b"
      },
      "source": [
        "df.head()[['이름', '그룹', '소속사', '브랜드평판지수', '국적']]"
      ],
      "execution_count": 61,
      "outputs": [
        {
          "output_type": "execute_result",
          "data": {
            "text/html": [
              "<div>\n",
              "<style scoped>\n",
              "    .dataframe tbody tr th:only-of-type {\n",
              "        vertical-align: middle;\n",
              "    }\n",
              "\n",
              "    .dataframe tbody tr th {\n",
              "        vertical-align: top;\n",
              "    }\n",
              "\n",
              "    .dataframe thead th {\n",
              "        text-align: right;\n",
              "    }\n",
              "</style>\n",
              "<table border=\"1\" class=\"dataframe\">\n",
              "  <thead>\n",
              "    <tr style=\"text-align: right;\">\n",
              "      <th></th>\n",
              "      <th>이름</th>\n",
              "      <th>그룹</th>\n",
              "      <th>소속사</th>\n",
              "      <th>브랜드평판지수</th>\n",
              "      <th>국적</th>\n",
              "    </tr>\n",
              "  </thead>\n",
              "  <tbody>\n",
              "    <tr>\n",
              "      <th>0</th>\n",
              "      <td>지민</td>\n",
              "      <td>방탄소년단</td>\n",
              "      <td>빅히트</td>\n",
              "      <td>10523260</td>\n",
              "      <td>대한민국</td>\n",
              "    </tr>\n",
              "    <tr>\n",
              "      <th>1</th>\n",
              "      <td>SANGSE SEO</td>\n",
              "      <td>빅뱅</td>\n",
              "      <td>YG</td>\n",
              "      <td>9916947</td>\n",
              "      <td>대한민국</td>\n",
              "    </tr>\n",
              "    <tr>\n",
              "      <th>2</th>\n",
              "      <td>강다니엘</td>\n",
              "      <td>NaN</td>\n",
              "      <td>커넥트</td>\n",
              "      <td>8273745</td>\n",
              "      <td>USA</td>\n",
              "    </tr>\n",
              "    <tr>\n",
              "      <th>3</th>\n",
              "      <td>뷔</td>\n",
              "      <td>방탄소년단</td>\n",
              "      <td>빅히트</td>\n",
              "      <td>8073501</td>\n",
              "      <td>대한민국</td>\n",
              "    </tr>\n",
              "    <tr>\n",
              "      <th>4</th>\n",
              "      <td>화사</td>\n",
              "      <td>마마무</td>\n",
              "      <td>RBW</td>\n",
              "      <td>7650928</td>\n",
              "      <td>대한민국</td>\n",
              "    </tr>\n",
              "  </tbody>\n",
              "</table>\n",
              "</div>"
            ],
            "text/plain": [
              "           이름     그룹  소속사   브랜드평판지수    국적\n",
              "0          지민  방탄소년단  빅히트  10523260  대한민국\n",
              "1  SANGSE SEO     빅뱅   YG   9916947  대한민국\n",
              "2        강다니엘    NaN  커넥트   8273745   USA\n",
              "3           뷔  방탄소년단  빅히트   8073501  대한민국\n",
              "4          화사    마마무  RBW   7650928  대한민국"
            ]
          },
          "metadata": {
            "tags": []
          },
          "execution_count": 61
        }
      ]
    },
    {
      "cell_type": "code",
      "metadata": {
        "id": "UfW3S_lzCwZG",
        "colab_type": "code",
        "colab": {}
      },
      "source": [
        "# 특정 조건에 맞는 정보만 변경\n",
        "df.loc[df['이름']=='강다니엘','국적'] = 'USA'"
      ],
      "execution_count": 57,
      "outputs": []
    },
    {
      "cell_type": "code",
      "metadata": {
        "id": "i5_U9jkwFQwS",
        "colab_type": "code",
        "colab": {
          "base_uri": "https://localhost:8080/",
          "height": 51
        },
        "outputId": "019a15ab-621a-4b25-dd4d-c920fbed8550"
      },
      "source": [
        "df.loc[df['이름']=='강다니엘','국적']"
      ],
      "execution_count": 58,
      "outputs": [
        {
          "output_type": "execute_result",
          "data": {
            "text/plain": [
              "2    USA\n",
              "Name: 국적, dtype: object"
            ]
          },
          "metadata": {
            "tags": []
          },
          "execution_count": 58
        }
      ]
    },
    {
      "cell_type": "code",
      "metadata": {
        "id": "FXu5C1OVC-u9",
        "colab_type": "code",
        "colab": {
          "base_uri": "https://localhost:8080/",
          "height": 204
        },
        "outputId": "cb251129-5e60-450b-e378-6d0c1f3bbff0"
      },
      "source": [
        "# 이렇게 가져올수도 있네요.\n",
        "df.head()[['이름', '그룹', '소속사', '브랜드평판지수', '국적']]"
      ],
      "execution_count": 60,
      "outputs": [
        {
          "output_type": "execute_result",
          "data": {
            "text/html": [
              "<div>\n",
              "<style scoped>\n",
              "    .dataframe tbody tr th:only-of-type {\n",
              "        vertical-align: middle;\n",
              "    }\n",
              "\n",
              "    .dataframe tbody tr th {\n",
              "        vertical-align: top;\n",
              "    }\n",
              "\n",
              "    .dataframe thead th {\n",
              "        text-align: right;\n",
              "    }\n",
              "</style>\n",
              "<table border=\"1\" class=\"dataframe\">\n",
              "  <thead>\n",
              "    <tr style=\"text-align: right;\">\n",
              "      <th></th>\n",
              "      <th>이름</th>\n",
              "      <th>그룹</th>\n",
              "      <th>소속사</th>\n",
              "      <th>브랜드평판지수</th>\n",
              "      <th>국적</th>\n",
              "    </tr>\n",
              "  </thead>\n",
              "  <tbody>\n",
              "    <tr>\n",
              "      <th>0</th>\n",
              "      <td>지민</td>\n",
              "      <td>방탄소년단</td>\n",
              "      <td>빅히트</td>\n",
              "      <td>10523260</td>\n",
              "      <td>대한민국</td>\n",
              "    </tr>\n",
              "    <tr>\n",
              "      <th>1</th>\n",
              "      <td>SANGSE SEO</td>\n",
              "      <td>빅뱅</td>\n",
              "      <td>YG</td>\n",
              "      <td>9916947</td>\n",
              "      <td>대한민국</td>\n",
              "    </tr>\n",
              "    <tr>\n",
              "      <th>2</th>\n",
              "      <td>강다니엘</td>\n",
              "      <td>NaN</td>\n",
              "      <td>커넥트</td>\n",
              "      <td>8273745</td>\n",
              "      <td>USA</td>\n",
              "    </tr>\n",
              "    <tr>\n",
              "      <th>3</th>\n",
              "      <td>뷔</td>\n",
              "      <td>방탄소년단</td>\n",
              "      <td>빅히트</td>\n",
              "      <td>8073501</td>\n",
              "      <td>대한민국</td>\n",
              "    </tr>\n",
              "    <tr>\n",
              "      <th>4</th>\n",
              "      <td>화사</td>\n",
              "      <td>마마무</td>\n",
              "      <td>RBW</td>\n",
              "      <td>7650928</td>\n",
              "      <td>대한민국</td>\n",
              "    </tr>\n",
              "  </tbody>\n",
              "</table>\n",
              "</div>"
            ],
            "text/plain": [
              "           이름     그룹  소속사   브랜드평판지수    국적\n",
              "0          지민  방탄소년단  빅히트  10523260  대한민국\n",
              "1  SANGSE SEO     빅뱅   YG   9916947  대한민국\n",
              "2        강다니엘    NaN  커넥트   8273745   USA\n",
              "3           뷔  방탄소년단  빅히트   8073501  대한민국\n",
              "4          화사    마마무  RBW   7650928  대한민국"
            ]
          },
          "metadata": {
            "tags": []
          },
          "execution_count": 60
        }
      ]
    },
    {
      "cell_type": "markdown",
      "metadata": {
        "id": "6wxsIUEsiMW_",
        "colab_type": "text"
      },
      "source": [
        "## 3. 통계값 다루기"
      ]
    },
    {
      "cell_type": "code",
      "metadata": {
        "id": "xKuRiZ7xL7N7",
        "colab_type": "code",
        "colab": {}
      },
      "source": [
        "df = pd.read_csv('https://bit.ly/ds-korean-idol')\n",
        "df.loc[df['생년월일'], '생년월일'] = df['생년월일'].str.replace(,)"
      ],
      "execution_count": 66,
      "outputs": []
    },
    {
      "cell_type": "markdown",
      "metadata": {
        "id": "QwJWYq0sM17z",
        "colab_type": "text"
      },
      "source": [
        "통계값은 data type이 float나 int형 인 column을 다룹니다"
      ]
    },
    {
      "cell_type": "code",
      "metadata": {
        "id": "EK8esgUNMkda",
        "colab_type": "code",
        "colab": {
          "base_uri": "https://localhost:8080/",
          "height": 272
        },
        "outputId": "736aeb9c-185c-4703-ce6f-24db2fcadab6"
      },
      "source": [
        "# 데이터 프레임의 컬럼의 정보 및 데이터 타입 정보, NaN정보 확인 가능\n",
        "df.info()"
      ],
      "execution_count": null,
      "outputs": [
        {
          "output_type": "stream",
          "text": [
            "<class 'pandas.core.frame.DataFrame'>\n",
            "RangeIndex: 15 entries, 0 to 14\n",
            "Data columns (total 8 columns):\n",
            " #   Column   Non-Null Count  Dtype  \n",
            "---  ------   --------------  -----  \n",
            " 0   이름       15 non-null     object \n",
            " 1   그룹       14 non-null     object \n",
            " 2   소속사      15 non-null     object \n",
            " 3   성별       15 non-null     object \n",
            " 4   생년월일     15 non-null     object \n",
            " 5   키        13 non-null     float64\n",
            " 6   혈액형      15 non-null     object \n",
            " 7   브랜드평판지수  15 non-null     int64  \n",
            "dtypes: float64(1), int64(1), object(6)\n",
            "memory usage: 1.1+ KB\n"
          ],
          "name": "stdout"
        }
      ]
    },
    {
      "cell_type": "code",
      "metadata": {
        "id": "D7ZBkw4GM28R",
        "colab_type": "code",
        "colab": {
          "base_uri": "https://localhost:8080/",
          "height": 297
        },
        "outputId": "ba5ee76b-040f-412c-a1c9-e5f6d286dc68"
      },
      "source": [
        "# 대략적인 통계값을 알 수 있다.(산술통계)\n",
        "df.describe()"
      ],
      "execution_count": null,
      "outputs": [
        {
          "output_type": "execute_result",
          "data": {
            "text/html": [
              "<div>\n",
              "<style scoped>\n",
              "    .dataframe tbody tr th:only-of-type {\n",
              "        vertical-align: middle;\n",
              "    }\n",
              "\n",
              "    .dataframe tbody tr th {\n",
              "        vertical-align: top;\n",
              "    }\n",
              "\n",
              "    .dataframe thead th {\n",
              "        text-align: right;\n",
              "    }\n",
              "</style>\n",
              "<table border=\"1\" class=\"dataframe\">\n",
              "  <thead>\n",
              "    <tr style=\"text-align: right;\">\n",
              "      <th></th>\n",
              "      <th>키</th>\n",
              "      <th>브랜드평판지수</th>\n",
              "    </tr>\n",
              "  </thead>\n",
              "  <tbody>\n",
              "    <tr>\n",
              "      <th>count</th>\n",
              "      <td>13.000000</td>\n",
              "      <td>1.500000e+01</td>\n",
              "    </tr>\n",
              "    <tr>\n",
              "      <th>mean</th>\n",
              "      <td>175.792308</td>\n",
              "      <td>5.655856e+06</td>\n",
              "    </tr>\n",
              "    <tr>\n",
              "      <th>std</th>\n",
              "      <td>5.820576</td>\n",
              "      <td>2.539068e+06</td>\n",
              "    </tr>\n",
              "    <tr>\n",
              "      <th>min</th>\n",
              "      <td>162.100000</td>\n",
              "      <td>2.925442e+06</td>\n",
              "    </tr>\n",
              "    <tr>\n",
              "      <th>25%</th>\n",
              "      <td>174.000000</td>\n",
              "      <td>3.712344e+06</td>\n",
              "    </tr>\n",
              "    <tr>\n",
              "      <th>50%</th>\n",
              "      <td>177.000000</td>\n",
              "      <td>4.668615e+06</td>\n",
              "    </tr>\n",
              "    <tr>\n",
              "      <th>75%</th>\n",
              "      <td>179.200000</td>\n",
              "      <td>7.862214e+06</td>\n",
              "    </tr>\n",
              "    <tr>\n",
              "      <th>max</th>\n",
              "      <td>183.000000</td>\n",
              "      <td>1.052326e+07</td>\n",
              "    </tr>\n",
              "  </tbody>\n",
              "</table>\n",
              "</div>"
            ],
            "text/plain": [
              "                키       브랜드평판지수\n",
              "count   13.000000  1.500000e+01\n",
              "mean   175.792308  5.655856e+06\n",
              "std      5.820576  2.539068e+06\n",
              "min    162.100000  2.925442e+06\n",
              "25%    174.000000  3.712344e+06\n",
              "50%    177.000000  4.668615e+06\n",
              "75%    179.200000  7.862214e+06\n",
              "max    183.000000  1.052326e+07"
            ]
          },
          "metadata": {
            "tags": []
          },
          "execution_count": 80
        }
      ]
    },
    {
      "cell_type": "markdown",
      "metadata": {
        "id": "nJJYmC0iiXBQ",
        "colab_type": "text"
      },
      "source": [
        "### 3-1. min(최소값), max(최대값)"
      ]
    },
    {
      "cell_type": "markdown",
      "metadata": {
        "id": "wKwVqTiNMwON",
        "colab_type": "text"
      },
      "source": [
        "통계값은 data type이 float나 int형 인 column을 다룹니다"
      ]
    },
    {
      "cell_type": "code",
      "metadata": {
        "id": "8Z2jUrkGiXF_",
        "colab_type": "code",
        "colab": {
          "base_uri": "https://localhost:8080/",
          "height": 34
        },
        "outputId": "a3a60c9b-cd51-41fc-b0b2-62c8d868cff1"
      },
      "source": [
        "df['키'].min()"
      ],
      "execution_count": 68,
      "outputs": [
        {
          "output_type": "execute_result",
          "data": {
            "text/plain": [
              "162.1"
            ]
          },
          "metadata": {
            "tags": []
          },
          "execution_count": 68
        }
      ]
    },
    {
      "cell_type": "code",
      "metadata": {
        "id": "dtWNwAREiXQ1",
        "colab_type": "code",
        "colab": {
          "base_uri": "https://localhost:8080/",
          "height": 34
        },
        "outputId": "206c1fc3-1e1a-444c-f127-8eae0e5dfec8"
      },
      "source": [
        "df['키'].max()"
      ],
      "execution_count": 69,
      "outputs": [
        {
          "output_type": "execute_result",
          "data": {
            "text/plain": [
              "183.0"
            ]
          },
          "metadata": {
            "tags": []
          },
          "execution_count": 69
        }
      ]
    },
    {
      "cell_type": "markdown",
      "metadata": {
        "id": "4rmemM--iXSG",
        "colab_type": "text"
      },
      "source": [
        "### 3-2. sum (합계), mean (평균)"
      ]
    },
    {
      "cell_type": "code",
      "metadata": {
        "id": "kDNPVpbsiXW-",
        "colab_type": "code",
        "colab": {
          "base_uri": "https://localhost:8080/",
          "height": 34
        },
        "outputId": "fe64a8d3-da59-42b9-bbe5-a17a5c3f31b4"
      },
      "source": [
        "df['키'].mean()"
      ],
      "execution_count": 70,
      "outputs": [
        {
          "output_type": "execute_result",
          "data": {
            "text/plain": [
              "175.7923076923077"
            ]
          },
          "metadata": {
            "tags": []
          },
          "execution_count": 70
        }
      ]
    },
    {
      "cell_type": "code",
      "metadata": {
        "id": "MxyCeyijP8ie",
        "colab_type": "code",
        "colab": {
          "base_uri": "https://localhost:8080/",
          "height": 34
        },
        "outputId": "9a544ca5-aa77-463f-a27b-4e8af1c976eb"
      },
      "source": [
        "df['키'].sum()"
      ],
      "execution_count": 71,
      "outputs": [
        {
          "output_type": "execute_result",
          "data": {
            "text/plain": [
              "2285.3"
            ]
          },
          "metadata": {
            "tags": []
          },
          "execution_count": 71
        }
      ]
    },
    {
      "cell_type": "markdown",
      "metadata": {
        "id": "sm2egqSFNHKQ",
        "colab_type": "text"
      },
      "source": [
        "### 3-3. var, variance(분산) / std, standard deviation (표준 편차)"
      ]
    },
    {
      "cell_type": "markdown",
      "metadata": {
        "id": "kZNoa-hxNZxT",
        "colab_type": "text"
      },
      "source": [
        "* 분산과 표준편차는 데이터가 **평균으로부터 얼마나 떨어져 있는지 정도**를 나타냅니다.\n",
        "* 분산은 **(데이터 - 평균) ** 2 을 모두 합한 값** / n\n",
        "* 표준편차는 **분산의 루트**"
      ]
    },
    {
      "cell_type": "code",
      "metadata": {
        "id": "5Gb7DxkeNxMI",
        "colab_type": "code",
        "colab": {}
      },
      "source": [
        "import numpy as np"
      ],
      "execution_count": 72,
      "outputs": []
    },
    {
      "cell_type": "code",
      "metadata": {
        "id": "Soxiy1PVNqE5",
        "colab_type": "code",
        "colab": {}
      },
      "source": [
        "data_01 = np.array([1, 3, 5, 7, 9])\n",
        "data_02 = np.array([3, 4, 5, 6, 7])"
      ],
      "execution_count": 73,
      "outputs": []
    },
    {
      "cell_type": "code",
      "metadata": {
        "id": "ro2C5CTxODLz",
        "colab_type": "code",
        "colab": {
          "base_uri": "https://localhost:8080/",
          "height": 34
        },
        "outputId": "0034be41-7b4d-464c-ddd4-c0a94f62c78e"
      },
      "source": [
        "# 표준편차\n",
        "np.sqrt(((1-5)**2 + (3-5)**2 + (5-5)**2 + (7-5)**2 + (9-5)**2 ) / 5)"
      ],
      "execution_count": null,
      "outputs": [
        {
          "output_type": "execute_result",
          "data": {
            "text/plain": [
              "2.8284271247461903"
            ]
          },
          "metadata": {
            "tags": []
          },
          "execution_count": 105
        }
      ]
    },
    {
      "cell_type": "code",
      "metadata": {
        "id": "WSGRDHYvKhS1",
        "colab_type": "code",
        "colab": {
          "base_uri": "https://localhost:8080/",
          "height": 34
        },
        "outputId": "228f5ae1-8d62-4a5d-ce46-a3c5e997f791"
      },
      "source": [
        "# data_02의 표준편차\n",
        "np.sqrt(((3-5)**2 + (4-5)**2 + (5-5)**2 + (6-5)**2 + (7-5)**2 ) / 5)"
      ],
      "execution_count": null,
      "outputs": [
        {
          "output_type": "execute_result",
          "data": {
            "text/plain": [
              "1.4142135623730951"
            ]
          },
          "metadata": {
            "tags": []
          },
          "execution_count": 116
        }
      ]
    },
    {
      "cell_type": "code",
      "metadata": {
        "id": "J4bDUkx1Npz1",
        "colab_type": "code",
        "colab": {
          "base_uri": "https://localhost:8080/",
          "height": 34
        },
        "outputId": "0536cec7-59d4-4f18-ce2d-970d4ba937af"
      },
      "source": [
        "data_01.mean()"
      ],
      "execution_count": null,
      "outputs": [
        {
          "output_type": "execute_result",
          "data": {
            "text/plain": [
              "5.0"
            ]
          },
          "metadata": {
            "tags": []
          },
          "execution_count": 102
        }
      ]
    },
    {
      "cell_type": "code",
      "metadata": {
        "id": "pF19ky3oN7TT",
        "colab_type": "code",
        "colab": {
          "base_uri": "https://localhost:8080/",
          "height": 34
        },
        "outputId": "8974db2e-854b-4aa8-bdd7-2d23e4489d9f"
      },
      "source": [
        "data_02.mean()"
      ],
      "execution_count": null,
      "outputs": [
        {
          "output_type": "execute_result",
          "data": {
            "text/plain": [
              "5.0"
            ]
          },
          "metadata": {
            "tags": []
          },
          "execution_count": 103
        }
      ]
    },
    {
      "cell_type": "code",
      "metadata": {
        "id": "aL7mj6O4O1C6",
        "colab_type": "code",
        "colab": {
          "base_uri": "https://localhost:8080/",
          "height": 34
        },
        "outputId": "5d33b48a-b9f3-4028-de7c-c728a0a11035"
      },
      "source": [
        "# 분산\n",
        "data_01.var(), data_02.var()"
      ],
      "execution_count": null,
      "outputs": [
        {
          "output_type": "execute_result",
          "data": {
            "text/plain": [
              "(8.0, 2.0)"
            ]
          },
          "metadata": {
            "tags": []
          },
          "execution_count": 106
        }
      ]
    },
    {
      "cell_type": "code",
      "metadata": {
        "id": "i5wDFzM3O2zy",
        "colab_type": "code",
        "colab": {
          "base_uri": "https://localhost:8080/",
          "height": 34
        },
        "outputId": "08568473-bbea-4ecf-fa1e-1c47c2d32283"
      },
      "source": [
        "# 표준편차\n",
        "np.sqrt(data_01.var()), np.sqrt(data_02.var())"
      ],
      "execution_count": 74,
      "outputs": [
        {
          "output_type": "execute_result",
          "data": {
            "text/plain": [
              "(2.8284271247461903, 1.4142135623730951)"
            ]
          },
          "metadata": {
            "tags": []
          },
          "execution_count": 74
        }
      ]
    },
    {
      "cell_type": "code",
      "metadata": {
        "id": "QmX9zxNxN-w1",
        "colab_type": "code",
        "colab": {
          "base_uri": "https://localhost:8080/",
          "height": 35
        },
        "outputId": "fe42006f-fe79-41b7-e169-6ead46fafde9"
      },
      "source": [
        "data_01.std(), data_02.std()"
      ],
      "execution_count": null,
      "outputs": [
        {
          "output_type": "execute_result",
          "data": {
            "text/plain": [
              "(2.8284271247461903, 1.4142135623730951)"
            ]
          },
          "metadata": {
            "tags": []
          },
          "execution_count": 49
        }
      ]
    },
    {
      "cell_type": "markdown",
      "metadata": {
        "id": "X3Bj4FATPDV7",
        "colab_type": "text"
      },
      "source": [
        "주로 표준편자 (std)를 많이 사용하며, **데이터가 평균으로부터 얼마나 퍼져있는지 정도를 나타내는 지표라고 이해**하시면 됩니다."
      ]
    },
    {
      "cell_type": "code",
      "metadata": {
        "id": "bAvvUdFhPDNA",
        "colab_type": "code",
        "colab": {
          "base_uri": "https://localhost:8080/",
          "height": 34
        },
        "outputId": "21a677cc-802a-4732-e07e-0b8d0ec2daad"
      },
      "source": [
        "df['키'].var()"
      ],
      "execution_count": 76,
      "outputs": [
        {
          "output_type": "execute_result",
          "data": {
            "text/plain": [
              "33.879102564102595"
            ]
          },
          "metadata": {
            "tags": []
          },
          "execution_count": 76
        }
      ]
    },
    {
      "cell_type": "code",
      "metadata": {
        "id": "VS62iHleiXh0",
        "colab_type": "code",
        "colab": {
          "base_uri": "https://localhost:8080/",
          "height": 34
        },
        "outputId": "6fd27ce3-2825-40b2-e20b-85479d463a1a"
      },
      "source": [
        "df['키'].std()"
      ],
      "execution_count": 77,
      "outputs": [
        {
          "output_type": "execute_result",
          "data": {
            "text/plain": [
              "5.820575793175672"
            ]
          },
          "metadata": {
            "tags": []
          },
          "execution_count": 77
        }
      ]
    },
    {
      "cell_type": "markdown",
      "metadata": {
        "id": "wShdK-FwiXjw",
        "colab_type": "text"
      },
      "source": [
        "### 3-4. 갯수를 세는 count"
      ]
    },
    {
      "cell_type": "code",
      "metadata": {
        "id": "VkbaDy-IiXcc",
        "colab_type": "code",
        "colab": {
          "base_uri": "https://localhost:8080/",
          "height": 34
        },
        "outputId": "fa187915-5798-40c1-ee65-4a19f803f99f"
      },
      "source": [
        "df['키'].count()"
      ],
      "execution_count": 80,
      "outputs": [
        {
          "output_type": "execute_result",
          "data": {
            "text/plain": [
              "13"
            ]
          },
          "metadata": {
            "tags": []
          },
          "execution_count": 80
        }
      ]
    },
    {
      "cell_type": "markdown",
      "metadata": {
        "id": "UoCL5mCaS15c",
        "colab_type": "text"
      },
      "source": [
        "### 3.5. 중앙값"
      ]
    },
    {
      "cell_type": "code",
      "metadata": {
        "id": "pLzgKC0cMgg8",
        "colab_type": "code",
        "colab": {
          "base_uri": "https://localhost:8080/",
          "height": 306
        },
        "outputId": "5af9328d-b902-401d-cf69-739e9486cf18"
      },
      "source": [
        "df['키']"
      ],
      "execution_count": null,
      "outputs": [
        {
          "output_type": "execute_result",
          "data": {
            "text/plain": [
              "0     173.6\n",
              "1     177.0\n",
              "2     180.0\n",
              "3     178.0\n",
              "4     162.1\n",
              "5     178.0\n",
              "6     182.3\n",
              "7       NaN\n",
              "8     179.2\n",
              "9     167.1\n",
              "10      NaN\n",
              "11    183.0\n",
              "12    175.0\n",
              "13    176.0\n",
              "14    174.0\n",
              "15    195.0\n",
              "Name: 키, dtype: float64"
            ]
          },
          "metadata": {
            "tags": []
          },
          "execution_count": 125
        }
      ]
    },
    {
      "cell_type": "code",
      "metadata": {
        "id": "xNCspptqOk0f",
        "colab_type": "code",
        "colab": {
          "base_uri": "https://localhost:8080/",
          "height": 34
        },
        "outputId": "30ac3595-83db-41e3-d603-4c0cff55fb82"
      },
      "source": [
        "# 오름차순으로 정렬 후 가장 가운데 있는 값\n",
        "df['키'].median()  "
      ],
      "execution_count": 81,
      "outputs": [
        {
          "output_type": "execute_result",
          "data": {
            "text/plain": [
              "177.0"
            ]
          },
          "metadata": {
            "tags": []
          },
          "execution_count": 81
        }
      ]
    },
    {
      "cell_type": "markdown",
      "metadata": {
        "id": "9q2AcpGZOqBM",
        "colab_type": "text"
      },
      "source": [
        "### 3.6. 최빈값 (mode)\n",
        " - 가장 빈도가 많이 발생한 값은?"
      ]
    },
    {
      "cell_type": "code",
      "metadata": {
        "id": "pFUyNNo2O891",
        "colab_type": "code",
        "colab": {
          "base_uri": "https://localhost:8080/",
          "height": 51
        },
        "outputId": "78f90707-1089-4880-818a-934706e7af37"
      },
      "source": [
        "df['키'].mode()"
      ],
      "execution_count": 82,
      "outputs": [
        {
          "output_type": "execute_result",
          "data": {
            "text/plain": [
              "0    178.0\n",
              "dtype: float64"
            ]
          },
          "metadata": {
            "tags": []
          },
          "execution_count": 82
        }
      ]
    },
    {
      "cell_type": "markdown",
      "metadata": {
        "id": "52cqG2daS1_8",
        "colab_type": "text"
      },
      "source": [
        "## 4. 피벗테이블 (pivot_table)"
      ]
    },
    {
      "cell_type": "markdown",
      "metadata": {
        "id": "Ta89HeCUS1xa",
        "colab_type": "text"
      },
      "source": [
        "* 피벗테이블은 엑셀의 피벗테이블과 동일합니다.\n",
        "* 데이터 열 중에서 **두 개의 열을 각각 행 인덱스, 열 인덱스로 사용**하여 데이터를 조회하여 펼쳐놓은 것을 의미합니다.\n",
        "* 왼쪽에 나타나는 인덱스를 **행 인덱스, 상단에 나타나는 인덱스를 열 인덱스**라고 부릅니다."
      ]
    },
    {
      "cell_type": "code",
      "metadata": {
        "id": "JvOqxSxkQAty",
        "colab_type": "code",
        "colab": {
          "base_uri": "https://localhost:8080/",
          "height": 204
        },
        "outputId": "e2839c9c-3bf2-45b7-c2a8-9cc82b98bcd3"
      },
      "source": [
        "df.head()"
      ],
      "execution_count": null,
      "outputs": [
        {
          "output_type": "execute_result",
          "data": {
            "text/html": [
              "<div>\n",
              "<style scoped>\n",
              "    .dataframe tbody tr th:only-of-type {\n",
              "        vertical-align: middle;\n",
              "    }\n",
              "\n",
              "    .dataframe tbody tr th {\n",
              "        vertical-align: top;\n",
              "    }\n",
              "\n",
              "    .dataframe thead th {\n",
              "        text-align: right;\n",
              "    }\n",
              "</style>\n",
              "<table border=\"1\" class=\"dataframe\">\n",
              "  <thead>\n",
              "    <tr style=\"text-align: right;\">\n",
              "      <th></th>\n",
              "      <th>이름</th>\n",
              "      <th>그룹</th>\n",
              "      <th>소속사</th>\n",
              "      <th>성별</th>\n",
              "      <th>생년월일</th>\n",
              "      <th>키</th>\n",
              "      <th>혈액형</th>\n",
              "      <th>브랜드평판지수</th>\n",
              "    </tr>\n",
              "  </thead>\n",
              "  <tbody>\n",
              "    <tr>\n",
              "      <th>0</th>\n",
              "      <td>지민</td>\n",
              "      <td>방탄소년단</td>\n",
              "      <td>빅히트</td>\n",
              "      <td>남자</td>\n",
              "      <td>1995-10-13</td>\n",
              "      <td>173.6</td>\n",
              "      <td>A</td>\n",
              "      <td>10523260</td>\n",
              "    </tr>\n",
              "    <tr>\n",
              "      <th>1</th>\n",
              "      <td>지드래곤</td>\n",
              "      <td>빅뱅</td>\n",
              "      <td>YG</td>\n",
              "      <td>남자</td>\n",
              "      <td>1988-08-18</td>\n",
              "      <td>177.0</td>\n",
              "      <td>A</td>\n",
              "      <td>9916947</td>\n",
              "    </tr>\n",
              "    <tr>\n",
              "      <th>2</th>\n",
              "      <td>강다니엘</td>\n",
              "      <td>NaN</td>\n",
              "      <td>커넥트</td>\n",
              "      <td>남자</td>\n",
              "      <td>1996-12-10</td>\n",
              "      <td>180.0</td>\n",
              "      <td>A</td>\n",
              "      <td>8273745</td>\n",
              "    </tr>\n",
              "    <tr>\n",
              "      <th>3</th>\n",
              "      <td>뷔</td>\n",
              "      <td>방탄소년단</td>\n",
              "      <td>빅히트</td>\n",
              "      <td>남자</td>\n",
              "      <td>1995-12-30</td>\n",
              "      <td>178.0</td>\n",
              "      <td>AB</td>\n",
              "      <td>8073501</td>\n",
              "    </tr>\n",
              "    <tr>\n",
              "      <th>4</th>\n",
              "      <td>화사</td>\n",
              "      <td>마마무</td>\n",
              "      <td>RBW</td>\n",
              "      <td>여자</td>\n",
              "      <td>1995-07-23</td>\n",
              "      <td>162.1</td>\n",
              "      <td>A</td>\n",
              "      <td>7650928</td>\n",
              "    </tr>\n",
              "  </tbody>\n",
              "</table>\n",
              "</div>"
            ],
            "text/plain": [
              "     이름     그룹  소속사  성별        생년월일      키 혈액형   브랜드평판지수\n",
              "0    지민  방탄소년단  빅히트  남자  1995-10-13  173.6   A  10523260\n",
              "1  지드래곤     빅뱅   YG  남자  1988-08-18  177.0   A   9916947\n",
              "2  강다니엘    NaN  커넥트  남자  1996-12-10  180.0   A   8273745\n",
              "3     뷔  방탄소년단  빅히트  남자  1995-12-30  178.0  AB   8073501\n",
              "4    화사    마마무  RBW  여자  1995-07-23  162.1   A   7650928"
            ]
          },
          "metadata": {
            "tags": []
          },
          "execution_count": 55
        }
      ]
    },
    {
      "cell_type": "code",
      "metadata": {
        "id": "rfQlvojRRao9",
        "colab_type": "code",
        "colab": {
          "base_uri": "https://localhost:8080/",
          "height": 297
        },
        "outputId": "bfbd73e6-ccfd-4989-a906-ed411041aba5"
      },
      "source": [
        "# index는 행 인덱스 ,# columns는 열 인덱스 ,# values는 조회하고 싶은 값\n",
        "pd.pivot_table(df,index='소속사', columns='혈액형',values='키')"
      ],
      "execution_count": 84,
      "outputs": [
        {
          "output_type": "execute_result",
          "data": {
            "text/html": [
              "<div>\n",
              "<style scoped>\n",
              "    .dataframe tbody tr th:only-of-type {\n",
              "        vertical-align: middle;\n",
              "    }\n",
              "\n",
              "    .dataframe tbody tr th {\n",
              "        vertical-align: top;\n",
              "    }\n",
              "\n",
              "    .dataframe thead th {\n",
              "        text-align: right;\n",
              "    }\n",
              "</style>\n",
              "<table border=\"1\" class=\"dataframe\">\n",
              "  <thead>\n",
              "    <tr style=\"text-align: right;\">\n",
              "      <th>혈액형</th>\n",
              "      <th>A</th>\n",
              "      <th>AB</th>\n",
              "      <th>B</th>\n",
              "      <th>O</th>\n",
              "    </tr>\n",
              "    <tr>\n",
              "      <th>소속사</th>\n",
              "      <th></th>\n",
              "      <th></th>\n",
              "      <th></th>\n",
              "      <th></th>\n",
              "    </tr>\n",
              "  </thead>\n",
              "  <tbody>\n",
              "    <tr>\n",
              "      <th>RBW</th>\n",
              "      <td>162.1</td>\n",
              "      <td>NaN</td>\n",
              "      <td>NaN</td>\n",
              "      <td>NaN</td>\n",
              "    </tr>\n",
              "    <tr>\n",
              "      <th>YG</th>\n",
              "      <td>177.0</td>\n",
              "      <td>NaN</td>\n",
              "      <td>NaN</td>\n",
              "      <td>NaN</td>\n",
              "    </tr>\n",
              "    <tr>\n",
              "      <th>빅히트</th>\n",
              "      <td>175.8</td>\n",
              "      <td>178.0</td>\n",
              "      <td>NaN</td>\n",
              "      <td>176.60</td>\n",
              "    </tr>\n",
              "    <tr>\n",
              "      <th>스타크루이엔티</th>\n",
              "      <td>167.1</td>\n",
              "      <td>NaN</td>\n",
              "      <td>NaN</td>\n",
              "      <td>NaN</td>\n",
              "    </tr>\n",
              "    <tr>\n",
              "      <th>커넥트</th>\n",
              "      <td>180.0</td>\n",
              "      <td>NaN</td>\n",
              "      <td>NaN</td>\n",
              "      <td>NaN</td>\n",
              "    </tr>\n",
              "    <tr>\n",
              "      <th>판타지오</th>\n",
              "      <td>NaN</td>\n",
              "      <td>NaN</td>\n",
              "      <td>183.0</td>\n",
              "      <td>NaN</td>\n",
              "    </tr>\n",
              "    <tr>\n",
              "      <th>플레디스</th>\n",
              "      <td>NaN</td>\n",
              "      <td>175.0</td>\n",
              "      <td>NaN</td>\n",
              "      <td>179.15</td>\n",
              "    </tr>\n",
              "  </tbody>\n",
              "</table>\n",
              "</div>"
            ],
            "text/plain": [
              "혈액형          A     AB      B       O\n",
              "소속사                                 \n",
              "RBW      162.1    NaN    NaN     NaN\n",
              "YG       177.0    NaN    NaN     NaN\n",
              "빅히트      175.8  178.0    NaN  176.60\n",
              "스타크루이엔티  167.1    NaN    NaN     NaN\n",
              "커넥트      180.0    NaN    NaN     NaN\n",
              "판타지오       NaN    NaN  183.0     NaN\n",
              "플레디스       NaN  175.0    NaN  179.15"
            ]
          },
          "metadata": {
            "tags": []
          },
          "execution_count": 84
        }
      ]
    },
    {
      "cell_type": "code",
      "metadata": {
        "id": "ApcCRp5ARDGQ",
        "colab_type": "code",
        "colab": {
          "base_uri": "https://localhost:8080/",
          "height": 328
        },
        "outputId": "87679a2d-329c-416b-a926-37449da2c0d1"
      },
      "source": [
        "# aggfunc에는 추가 계산 옵션 (np.sum, np.mean) - 기본값은 평균\n",
        "pd.pivot_table(df, index='그룹', columns='혈액형', values='브랜드평판지수', aggfunc=np.sum)"
      ],
      "execution_count": 83,
      "outputs": [
        {
          "output_type": "execute_result",
          "data": {
            "text/html": [
              "<div>\n",
              "<style scoped>\n",
              "    .dataframe tbody tr th:only-of-type {\n",
              "        vertical-align: middle;\n",
              "    }\n",
              "\n",
              "    .dataframe tbody tr th {\n",
              "        vertical-align: top;\n",
              "    }\n",
              "\n",
              "    .dataframe thead th {\n",
              "        text-align: right;\n",
              "    }\n",
              "</style>\n",
              "<table border=\"1\" class=\"dataframe\">\n",
              "  <thead>\n",
              "    <tr style=\"text-align: right;\">\n",
              "      <th>혈액형</th>\n",
              "      <th>A</th>\n",
              "      <th>AB</th>\n",
              "      <th>B</th>\n",
              "      <th>O</th>\n",
              "    </tr>\n",
              "    <tr>\n",
              "      <th>그룹</th>\n",
              "      <th></th>\n",
              "      <th></th>\n",
              "      <th></th>\n",
              "      <th></th>\n",
              "    </tr>\n",
              "  </thead>\n",
              "  <tbody>\n",
              "    <tr>\n",
              "      <th>뉴이스트</th>\n",
              "      <td>NaN</td>\n",
              "      <td>3301654.0</td>\n",
              "      <td>NaN</td>\n",
              "      <td>8263929.0</td>\n",
              "    </tr>\n",
              "    <tr>\n",
              "      <th>마마무</th>\n",
              "      <td>7650928.0</td>\n",
              "      <td>NaN</td>\n",
              "      <td>NaN</td>\n",
              "      <td>NaN</td>\n",
              "    </tr>\n",
              "    <tr>\n",
              "      <th>방탄소년단</th>\n",
              "      <td>15731595.0</td>\n",
              "      <td>8073501.0</td>\n",
              "      <td>NaN</td>\n",
              "      <td>7495750.0</td>\n",
              "    </tr>\n",
              "    <tr>\n",
              "      <th>빅뱅</th>\n",
              "      <td>9916947.0</td>\n",
              "      <td>NaN</td>\n",
              "      <td>NaN</td>\n",
              "      <td>NaN</td>\n",
              "    </tr>\n",
              "    <tr>\n",
              "      <th>소녀시대</th>\n",
              "      <td>3918661.0</td>\n",
              "      <td>NaN</td>\n",
              "      <td>NaN</td>\n",
              "      <td>NaN</td>\n",
              "    </tr>\n",
              "    <tr>\n",
              "      <th>아스트로</th>\n",
              "      <td>NaN</td>\n",
              "      <td>NaN</td>\n",
              "      <td>3506027.0</td>\n",
              "      <td>NaN</td>\n",
              "    </tr>\n",
              "    <tr>\n",
              "      <th>아이들</th>\n",
              "      <td>NaN</td>\n",
              "      <td>NaN</td>\n",
              "      <td>4668615.0</td>\n",
              "      <td>NaN</td>\n",
              "    </tr>\n",
              "    <tr>\n",
              "      <th>핫샷</th>\n",
              "      <td>4036489.0</td>\n",
              "      <td>NaN</td>\n",
              "      <td>NaN</td>\n",
              "      <td>NaN</td>\n",
              "    </tr>\n",
              "  </tbody>\n",
              "</table>\n",
              "</div>"
            ],
            "text/plain": [
              "혈액형             A         AB          B          O\n",
              "그룹                                                \n",
              "뉴이스트          NaN  3301654.0        NaN  8263929.0\n",
              "마마무     7650928.0        NaN        NaN        NaN\n",
              "방탄소년단  15731595.0  8073501.0        NaN  7495750.0\n",
              "빅뱅      9916947.0        NaN        NaN        NaN\n",
              "소녀시대    3918661.0        NaN        NaN        NaN\n",
              "아스트로          NaN        NaN  3506027.0        NaN\n",
              "아이들           NaN        NaN  4668615.0        NaN\n",
              "핫샷      4036489.0        NaN        NaN        NaN"
            ]
          },
          "metadata": {
            "tags": []
          },
          "execution_count": 83
        }
      ]
    },
    {
      "cell_type": "code",
      "metadata": {
        "id": "k_0J0Y_uRD5F",
        "colab_type": "code",
        "colab": {
          "base_uri": "https://localhost:8080/",
          "height": 359
        },
        "outputId": "a3d4af96-ef10-4a36-bdcc-76529bb1cf7a"
      },
      "source": [
        "pd.pivot_table(df, index='그룹', columns='혈액형', values='브랜드평판지수', aggfunc='mean')"
      ],
      "execution_count": null,
      "outputs": [
        {
          "output_type": "execute_result",
          "data": {
            "text/html": [
              "<div>\n",
              "<style scoped>\n",
              "    .dataframe tbody tr th:only-of-type {\n",
              "        vertical-align: middle;\n",
              "    }\n",
              "\n",
              "    .dataframe tbody tr th {\n",
              "        vertical-align: top;\n",
              "    }\n",
              "\n",
              "    .dataframe thead th {\n",
              "        text-align: right;\n",
              "    }\n",
              "</style>\n",
              "<table border=\"1\" class=\"dataframe\">\n",
              "  <thead>\n",
              "    <tr style=\"text-align: right;\">\n",
              "      <th>혈액형</th>\n",
              "      <th>A</th>\n",
              "      <th>AB</th>\n",
              "      <th>B</th>\n",
              "      <th>O</th>\n",
              "    </tr>\n",
              "    <tr>\n",
              "      <th>그룹</th>\n",
              "      <th></th>\n",
              "      <th></th>\n",
              "      <th></th>\n",
              "      <th></th>\n",
              "    </tr>\n",
              "  </thead>\n",
              "  <tbody>\n",
              "    <tr>\n",
              "      <th>뉴이스트</th>\n",
              "      <td>NaN</td>\n",
              "      <td>3301654.0</td>\n",
              "      <td>NaN</td>\n",
              "      <td>4131964.5</td>\n",
              "    </tr>\n",
              "    <tr>\n",
              "      <th>마마무</th>\n",
              "      <td>7650928.0</td>\n",
              "      <td>NaN</td>\n",
              "      <td>NaN</td>\n",
              "      <td>NaN</td>\n",
              "    </tr>\n",
              "    <tr>\n",
              "      <th>방탄소년단</th>\n",
              "      <td>7865797.5</td>\n",
              "      <td>8073501.0</td>\n",
              "      <td>NaN</td>\n",
              "      <td>3747875.0</td>\n",
              "    </tr>\n",
              "    <tr>\n",
              "      <th>빅뱅</th>\n",
              "      <td>9916947.0</td>\n",
              "      <td>NaN</td>\n",
              "      <td>NaN</td>\n",
              "      <td>NaN</td>\n",
              "    </tr>\n",
              "    <tr>\n",
              "      <th>소녀시대</th>\n",
              "      <td>3918661.0</td>\n",
              "      <td>NaN</td>\n",
              "      <td>NaN</td>\n",
              "      <td>NaN</td>\n",
              "    </tr>\n",
              "    <tr>\n",
              "      <th>아스트로</th>\n",
              "      <td>NaN</td>\n",
              "      <td>NaN</td>\n",
              "      <td>3506027.0</td>\n",
              "      <td>NaN</td>\n",
              "    </tr>\n",
              "    <tr>\n",
              "      <th>아이들</th>\n",
              "      <td>NaN</td>\n",
              "      <td>NaN</td>\n",
              "      <td>4668615.0</td>\n",
              "      <td>NaN</td>\n",
              "    </tr>\n",
              "    <tr>\n",
              "      <th>테디그룹</th>\n",
              "      <td>NaN</td>\n",
              "      <td>NaN</td>\n",
              "      <td>NaN</td>\n",
              "      <td>12345678.0</td>\n",
              "    </tr>\n",
              "    <tr>\n",
              "      <th>핫샷</th>\n",
              "      <td>4036489.0</td>\n",
              "      <td>NaN</td>\n",
              "      <td>NaN</td>\n",
              "      <td>NaN</td>\n",
              "    </tr>\n",
              "  </tbody>\n",
              "</table>\n",
              "</div>"
            ],
            "text/plain": [
              "혈액형            A         AB          B           O\n",
              "그룹                                                \n",
              "뉴이스트         NaN  3301654.0        NaN   4131964.5\n",
              "마마무    7650928.0        NaN        NaN         NaN\n",
              "방탄소년단  7865797.5  8073501.0        NaN   3747875.0\n",
              "빅뱅     9916947.0        NaN        NaN         NaN\n",
              "소녀시대   3918661.0        NaN        NaN         NaN\n",
              "아스트로         NaN        NaN  3506027.0         NaN\n",
              "아이들          NaN        NaN  4668615.0         NaN\n",
              "테디그룹         NaN        NaN        NaN  12345678.0\n",
              "핫샷     4036489.0        NaN        NaN         NaN"
            ]
          },
          "metadata": {
            "tags": []
          },
          "execution_count": 135
        }
      ]
    },
    {
      "cell_type": "markdown",
      "metadata": {
        "id": "_RSyhj7EQAvY",
        "colab_type": "text"
      },
      "source": [
        "## 5. GroupBy (그룹으로 묶어 보기)"
      ]
    },
    {
      "cell_type": "markdown",
      "metadata": {
        "id": "zPP5YmoYQQz2",
        "colab_type": "text"
      },
      "source": [
        "* groupby는 데이터를 **그룹으로 묶어 분석**할 때 활용합니다.\n",
        "* **소속사**별 키의 평균, **성별** 키의 평균 등 특정, 그룹별 통계 및 데이터의 성질을 확인하고자 할 때 활용합니다."
      ]
    },
    {
      "cell_type": "code",
      "metadata": {
        "id": "iQ2t7pDfQKxi",
        "colab_type": "code",
        "colab": {
          "base_uri": "https://localhost:8080/",
          "height": 204
        },
        "outputId": "ac0ec1cd-3713-4b4c-ea99-00ec326e35fe"
      },
      "source": [
        "df.head()"
      ],
      "execution_count": null,
      "outputs": [
        {
          "output_type": "execute_result",
          "data": {
            "text/html": [
              "<div>\n",
              "<style scoped>\n",
              "    .dataframe tbody tr th:only-of-type {\n",
              "        vertical-align: middle;\n",
              "    }\n",
              "\n",
              "    .dataframe tbody tr th {\n",
              "        vertical-align: top;\n",
              "    }\n",
              "\n",
              "    .dataframe thead th {\n",
              "        text-align: right;\n",
              "    }\n",
              "</style>\n",
              "<table border=\"1\" class=\"dataframe\">\n",
              "  <thead>\n",
              "    <tr style=\"text-align: right;\">\n",
              "      <th></th>\n",
              "      <th>이름</th>\n",
              "      <th>그룹</th>\n",
              "      <th>소속사</th>\n",
              "      <th>성별</th>\n",
              "      <th>생년월일</th>\n",
              "      <th>키</th>\n",
              "      <th>혈액형</th>\n",
              "      <th>브랜드평판지수</th>\n",
              "      <th>국적</th>\n",
              "    </tr>\n",
              "  </thead>\n",
              "  <tbody>\n",
              "    <tr>\n",
              "      <th>0</th>\n",
              "      <td>지민</td>\n",
              "      <td>방탄소년단</td>\n",
              "      <td>빅히트</td>\n",
              "      <td>남자</td>\n",
              "      <td>1995-10-13</td>\n",
              "      <td>173.6</td>\n",
              "      <td>A</td>\n",
              "      <td>10523260</td>\n",
              "      <td>대한민국</td>\n",
              "    </tr>\n",
              "    <tr>\n",
              "      <th>1</th>\n",
              "      <td>지드래곤</td>\n",
              "      <td>빅뱅</td>\n",
              "      <td>YG</td>\n",
              "      <td>남자</td>\n",
              "      <td>1988-08-18</td>\n",
              "      <td>177.0</td>\n",
              "      <td>A</td>\n",
              "      <td>9916947</td>\n",
              "      <td>대한민국</td>\n",
              "    </tr>\n",
              "    <tr>\n",
              "      <th>2</th>\n",
              "      <td>강다니엘</td>\n",
              "      <td>NaN</td>\n",
              "      <td>커넥트</td>\n",
              "      <td>남자</td>\n",
              "      <td>1996-12-10</td>\n",
              "      <td>180.0</td>\n",
              "      <td>A</td>\n",
              "      <td>8273745</td>\n",
              "      <td>USA</td>\n",
              "    </tr>\n",
              "    <tr>\n",
              "      <th>3</th>\n",
              "      <td>뷔</td>\n",
              "      <td>방탄소년단</td>\n",
              "      <td>빅히트</td>\n",
              "      <td>남자</td>\n",
              "      <td>1995-12-30</td>\n",
              "      <td>178.0</td>\n",
              "      <td>AB</td>\n",
              "      <td>8073501</td>\n",
              "      <td>대한민국</td>\n",
              "    </tr>\n",
              "    <tr>\n",
              "      <th>4</th>\n",
              "      <td>화사</td>\n",
              "      <td>마마무</td>\n",
              "      <td>RBW</td>\n",
              "      <td>여자</td>\n",
              "      <td>1995-07-23</td>\n",
              "      <td>162.1</td>\n",
              "      <td>A</td>\n",
              "      <td>7650928</td>\n",
              "      <td>대한민국</td>\n",
              "    </tr>\n",
              "  </tbody>\n",
              "</table>\n",
              "</div>"
            ],
            "text/plain": [
              "     이름     그룹  소속사  성별        생년월일      키 혈액형   브랜드평판지수    국적\n",
              "0    지민  방탄소년단  빅히트  남자  1995-10-13  173.6   A  10523260  대한민국\n",
              "1  지드래곤     빅뱅   YG  남자  1988-08-18  177.0   A   9916947  대한민국\n",
              "2  강다니엘    NaN  커넥트  남자  1996-12-10  180.0   A   8273745   USA\n",
              "3     뷔  방탄소년단  빅히트  남자  1995-12-30  178.0  AB   8073501  대한민국\n",
              "4    화사    마마무  RBW  여자  1995-07-23  162.1   A   7650928  대한민국"
            ]
          },
          "metadata": {
            "tags": []
          },
          "execution_count": 136
        }
      ]
    },
    {
      "cell_type": "code",
      "metadata": {
        "id": "vL1Hk258UZUu",
        "colab_type": "code",
        "colab": {
          "base_uri": "https://localhost:8080/",
          "height": 34
        },
        "outputId": "2f5eafae-92f5-47cb-b72e-619c86a7e5c4"
      },
      "source": [
        "df.groupby(by='소속사')"
      ],
      "execution_count": null,
      "outputs": [
        {
          "output_type": "execute_result",
          "data": {
            "text/plain": [
              "<pandas.core.groupby.generic.DataFrameGroupBy object at 0x7f49a498f588>"
            ]
          },
          "metadata": {
            "tags": []
          },
          "execution_count": 138
        }
      ]
    },
    {
      "cell_type": "markdown",
      "metadata": {
        "id": "96eL0Rd8Uc2e",
        "colab_type": "text"
      },
      "source": [
        "groupby와 함께 \n",
        "\n",
        "* count() - 갯수\n",
        "* sum() - 합계\n",
        "* mean() - 평균\n",
        "* var() - 분산\n",
        "* std() - 표준편차\n",
        "* min()/max() - 최소값, 최대값\n",
        "\n"
      ]
    },
    {
      "cell_type": "code",
      "metadata": {
        "id": "QfXPD3bHQA1c",
        "colab_type": "code",
        "colab": {
          "base_uri": "https://localhost:8080/",
          "height": 390
        },
        "outputId": "0ce7b9b4-9577-4da9-ed4b-266b18cd690c"
      },
      "source": [
        "df.groupby(by='소속사').count()"
      ],
      "execution_count": null,
      "outputs": [
        {
          "output_type": "execute_result",
          "data": {
            "text/html": [
              "<div>\n",
              "<style scoped>\n",
              "    .dataframe tbody tr th:only-of-type {\n",
              "        vertical-align: middle;\n",
              "    }\n",
              "\n",
              "    .dataframe tbody tr th {\n",
              "        vertical-align: top;\n",
              "    }\n",
              "\n",
              "    .dataframe thead th {\n",
              "        text-align: right;\n",
              "    }\n",
              "</style>\n",
              "<table border=\"1\" class=\"dataframe\">\n",
              "  <thead>\n",
              "    <tr style=\"text-align: right;\">\n",
              "      <th></th>\n",
              "      <th>이름</th>\n",
              "      <th>그룹</th>\n",
              "      <th>성별</th>\n",
              "      <th>생년월일</th>\n",
              "      <th>키</th>\n",
              "      <th>혈액형</th>\n",
              "      <th>브랜드평판지수</th>\n",
              "      <th>국적</th>\n",
              "    </tr>\n",
              "    <tr>\n",
              "      <th>소속사</th>\n",
              "      <th></th>\n",
              "      <th></th>\n",
              "      <th></th>\n",
              "      <th></th>\n",
              "      <th></th>\n",
              "      <th></th>\n",
              "      <th></th>\n",
              "      <th></th>\n",
              "    </tr>\n",
              "  </thead>\n",
              "  <tbody>\n",
              "    <tr>\n",
              "      <th>RBW</th>\n",
              "      <td>1</td>\n",
              "      <td>1</td>\n",
              "      <td>1</td>\n",
              "      <td>1</td>\n",
              "      <td>1</td>\n",
              "      <td>1</td>\n",
              "      <td>1</td>\n",
              "      <td>1</td>\n",
              "    </tr>\n",
              "    <tr>\n",
              "      <th>SM</th>\n",
              "      <td>1</td>\n",
              "      <td>1</td>\n",
              "      <td>1</td>\n",
              "      <td>1</td>\n",
              "      <td>0</td>\n",
              "      <td>1</td>\n",
              "      <td>1</td>\n",
              "      <td>1</td>\n",
              "    </tr>\n",
              "    <tr>\n",
              "      <th>YG</th>\n",
              "      <td>1</td>\n",
              "      <td>1</td>\n",
              "      <td>1</td>\n",
              "      <td>1</td>\n",
              "      <td>1</td>\n",
              "      <td>1</td>\n",
              "      <td>1</td>\n",
              "      <td>1</td>\n",
              "    </tr>\n",
              "    <tr>\n",
              "      <th>끝내주는소속사</th>\n",
              "      <td>1</td>\n",
              "      <td>1</td>\n",
              "      <td>1</td>\n",
              "      <td>1</td>\n",
              "      <td>1</td>\n",
              "      <td>1</td>\n",
              "      <td>1</td>\n",
              "      <td>1</td>\n",
              "    </tr>\n",
              "    <tr>\n",
              "      <th>빅히트</th>\n",
              "      <td>5</td>\n",
              "      <td>5</td>\n",
              "      <td>5</td>\n",
              "      <td>5</td>\n",
              "      <td>5</td>\n",
              "      <td>5</td>\n",
              "      <td>5</td>\n",
              "      <td>5</td>\n",
              "    </tr>\n",
              "    <tr>\n",
              "      <th>스타크루이엔티</th>\n",
              "      <td>1</td>\n",
              "      <td>1</td>\n",
              "      <td>1</td>\n",
              "      <td>1</td>\n",
              "      <td>1</td>\n",
              "      <td>1</td>\n",
              "      <td>1</td>\n",
              "      <td>1</td>\n",
              "    </tr>\n",
              "    <tr>\n",
              "      <th>커넥트</th>\n",
              "      <td>1</td>\n",
              "      <td>0</td>\n",
              "      <td>1</td>\n",
              "      <td>1</td>\n",
              "      <td>1</td>\n",
              "      <td>1</td>\n",
              "      <td>1</td>\n",
              "      <td>1</td>\n",
              "    </tr>\n",
              "    <tr>\n",
              "      <th>큐브</th>\n",
              "      <td>1</td>\n",
              "      <td>1</td>\n",
              "      <td>1</td>\n",
              "      <td>1</td>\n",
              "      <td>0</td>\n",
              "      <td>1</td>\n",
              "      <td>1</td>\n",
              "      <td>1</td>\n",
              "    </tr>\n",
              "    <tr>\n",
              "      <th>판타지오</th>\n",
              "      <td>1</td>\n",
              "      <td>1</td>\n",
              "      <td>1</td>\n",
              "      <td>1</td>\n",
              "      <td>1</td>\n",
              "      <td>1</td>\n",
              "      <td>1</td>\n",
              "      <td>1</td>\n",
              "    </tr>\n",
              "    <tr>\n",
              "      <th>플레디스</th>\n",
              "      <td>3</td>\n",
              "      <td>3</td>\n",
              "      <td>3</td>\n",
              "      <td>3</td>\n",
              "      <td>3</td>\n",
              "      <td>3</td>\n",
              "      <td>3</td>\n",
              "      <td>3</td>\n",
              "    </tr>\n",
              "  </tbody>\n",
              "</table>\n",
              "</div>"
            ],
            "text/plain": [
              "         이름  그룹  성별  생년월일  키  혈액형  브랜드평판지수  국적\n",
              "소속사                                           \n",
              "RBW       1   1   1     1  1    1        1   1\n",
              "SM        1   1   1     1  0    1        1   1\n",
              "YG        1   1   1     1  1    1        1   1\n",
              "끝내주는소속사   1   1   1     1  1    1        1   1\n",
              "빅히트       5   5   5     5  5    5        5   5\n",
              "스타크루이엔티   1   1   1     1  1    1        1   1\n",
              "커넥트       1   0   1     1  1    1        1   1\n",
              "큐브        1   1   1     1  0    1        1   1\n",
              "판타지오      1   1   1     1  1    1        1   1\n",
              "플레디스      3   3   3     3  3    3        3   3"
            ]
          },
          "metadata": {
            "tags": []
          },
          "execution_count": 139
        }
      ]
    },
    {
      "cell_type": "markdown",
      "metadata": {
        "id": "8buEDB_EUT5k",
        "colab_type": "text"
      },
      "source": [
        "산술 통계는 자동으로 산술통계가 가능한 열만 출력됩니다."
      ]
    },
    {
      "cell_type": "code",
      "metadata": {
        "id": "fs30XYJGQA-4",
        "colab_type": "code",
        "colab": {
          "base_uri": "https://localhost:8080/",
          "height": 328
        },
        "outputId": "566ab4f6-c153-42f4-c227-93f849aee716"
      },
      "source": [
        "df.groupby(by='그룹').mean()"
      ],
      "execution_count": 102,
      "outputs": [
        {
          "output_type": "execute_result",
          "data": {
            "text/html": [
              "<div>\n",
              "<style scoped>\n",
              "    .dataframe tbody tr th:only-of-type {\n",
              "        vertical-align: middle;\n",
              "    }\n",
              "\n",
              "    .dataframe tbody tr th {\n",
              "        vertical-align: top;\n",
              "    }\n",
              "\n",
              "    .dataframe thead th {\n",
              "        text-align: right;\n",
              "    }\n",
              "</style>\n",
              "<table border=\"1\" class=\"dataframe\">\n",
              "  <thead>\n",
              "    <tr style=\"text-align: right;\">\n",
              "      <th></th>\n",
              "      <th>키</th>\n",
              "      <th>브랜드평판지수</th>\n",
              "    </tr>\n",
              "    <tr>\n",
              "      <th>그룹</th>\n",
              "      <th></th>\n",
              "      <th></th>\n",
              "    </tr>\n",
              "  </thead>\n",
              "  <tbody>\n",
              "    <tr>\n",
              "      <th>뉴이스트</th>\n",
              "      <td>177.766667</td>\n",
              "      <td>3.855194e+06</td>\n",
              "    </tr>\n",
              "    <tr>\n",
              "      <th>마마무</th>\n",
              "      <td>162.100000</td>\n",
              "      <td>7.650928e+06</td>\n",
              "    </tr>\n",
              "    <tr>\n",
              "      <th>방탄소년단</th>\n",
              "      <td>176.560000</td>\n",
              "      <td>6.260169e+06</td>\n",
              "    </tr>\n",
              "    <tr>\n",
              "      <th>빅뱅</th>\n",
              "      <td>177.000000</td>\n",
              "      <td>9.916947e+06</td>\n",
              "    </tr>\n",
              "    <tr>\n",
              "      <th>소녀시대</th>\n",
              "      <td>NaN</td>\n",
              "      <td>3.918661e+06</td>\n",
              "    </tr>\n",
              "    <tr>\n",
              "      <th>아스트로</th>\n",
              "      <td>183.000000</td>\n",
              "      <td>3.506027e+06</td>\n",
              "    </tr>\n",
              "    <tr>\n",
              "      <th>아이들</th>\n",
              "      <td>NaN</td>\n",
              "      <td>4.668615e+06</td>\n",
              "    </tr>\n",
              "    <tr>\n",
              "      <th>핫샷</th>\n",
              "      <td>167.100000</td>\n",
              "      <td>4.036489e+06</td>\n",
              "    </tr>\n",
              "  </tbody>\n",
              "</table>\n",
              "</div>"
            ],
            "text/plain": [
              "                키       브랜드평판지수\n",
              "그룹                             \n",
              "뉴이스트   177.766667  3.855194e+06\n",
              "마마무    162.100000  7.650928e+06\n",
              "방탄소년단  176.560000  6.260169e+06\n",
              "빅뱅     177.000000  9.916947e+06\n",
              "소녀시대          NaN  3.918661e+06\n",
              "아스트로   183.000000  3.506027e+06\n",
              "아이들           NaN  4.668615e+06\n",
              "핫샷     167.100000  4.036489e+06"
            ]
          },
          "metadata": {
            "tags": []
          },
          "execution_count": 102
        }
      ]
    },
    {
      "cell_type": "code",
      "metadata": {
        "id": "vNa7oubZQA7G",
        "colab_type": "code",
        "colab": {
          "base_uri": "https://localhost:8080/",
          "height": 142
        },
        "outputId": "ebb68883-c288-4b41-ff94-1f78800dfad4"
      },
      "source": [
        "df.groupby(by='성별').sum()"
      ],
      "execution_count": 104,
      "outputs": [
        {
          "output_type": "execute_result",
          "data": {
            "text/html": [
              "<div>\n",
              "<style scoped>\n",
              "    .dataframe tbody tr th:only-of-type {\n",
              "        vertical-align: middle;\n",
              "    }\n",
              "\n",
              "    .dataframe tbody tr th {\n",
              "        vertical-align: top;\n",
              "    }\n",
              "\n",
              "    .dataframe thead th {\n",
              "        text-align: right;\n",
              "    }\n",
              "</style>\n",
              "<table border=\"1\" class=\"dataframe\">\n",
              "  <thead>\n",
              "    <tr style=\"text-align: right;\">\n",
              "      <th></th>\n",
              "      <th>키</th>\n",
              "      <th>브랜드평판지수</th>\n",
              "    </tr>\n",
              "    <tr>\n",
              "      <th>성별</th>\n",
              "      <th></th>\n",
              "      <th></th>\n",
              "    </tr>\n",
              "  </thead>\n",
              "  <tbody>\n",
              "    <tr>\n",
              "      <th>남자</th>\n",
              "      <td>2123.2</td>\n",
              "      <td>68599637</td>\n",
              "    </tr>\n",
              "    <tr>\n",
              "      <th>여자</th>\n",
              "      <td>162.1</td>\n",
              "      <td>16238204</td>\n",
              "    </tr>\n",
              "  </tbody>\n",
              "</table>\n",
              "</div>"
            ],
            "text/plain": [
              "         키   브랜드평판지수\n",
              "성별                  \n",
              "남자  2123.2  68599637\n",
              "여자   162.1  16238204"
            ]
          },
          "metadata": {
            "tags": []
          },
          "execution_count": 104
        }
      ]
    },
    {
      "cell_type": "markdown",
      "metadata": {
        "id": "akiXofI3QAlE",
        "colab_type": "text"
      },
      "source": [
        "특정 열만 출력하고 싶다면?"
      ]
    },
    {
      "cell_type": "code",
      "metadata": {
        "id": "6yxaNxKcTJ2C",
        "colab_type": "code",
        "colab": {
          "base_uri": "https://localhost:8080/",
          "height": 119
        },
        "outputId": "6535f0a9-9400-4a54-9357-8c94e26ac6b2"
      },
      "source": [
        "# 산술통계만 포함된다.즉, 수식값만 해당 함.\n",
        "# 혈액형으로 GROUPBY해 키의 평균값을 가져옴.즉, 혈액형별 평균키\n",
        "df.groupby(by='혈액형')['키'].mean()  #  df.groupby(by='혈액형').mean()['키']"
      ],
      "execution_count": 105,
      "outputs": [
        {
          "output_type": "execute_result",
          "data": {
            "text/plain": [
              "혈액형\n",
              "A     172.966667\n",
              "AB    176.500000\n",
              "B     183.000000\n",
              "O     177.875000\n",
              "Name: 키, dtype: float64"
            ]
          },
          "metadata": {
            "tags": []
          },
          "execution_count": 105
        }
      ]
    },
    {
      "cell_type": "markdown",
      "metadata": {
        "id": "784YxwLKVOHe",
        "colab_type": "text"
      },
      "source": [
        "## 6. Multi-Index(복합 인덱스)"
      ]
    },
    {
      "cell_type": "markdown",
      "metadata": {
        "id": "MF_RYOWqXCbP",
        "colab_type": "text"
      },
      "source": [
        "### 6-1. Multi-Index 적용"
      ]
    },
    {
      "cell_type": "markdown",
      "metadata": {
        "id": "xtfezNZdVlPY",
        "colab_type": "text"
      },
      "source": [
        "행 인덱스를 복합적으로 구성하고 싶은 경우는 인덱스를 리스트로 만들어 줍니다.\n",
        " - SQL에서 GROUPBY가 여러개인 것을 의미"
      ]
    },
    {
      "cell_type": "code",
      "metadata": {
        "id": "Usot3xPlYbTL",
        "colab_type": "code",
        "colab": {
          "base_uri": "https://localhost:8080/",
          "height": 266
        },
        "outputId": "00d05a69-46e3-46c9-f1bc-04a8f92a8384"
      },
      "source": [
        "df.groupby(by=['혈액형', '성별']).std()"
      ],
      "execution_count": null,
      "outputs": [
        {
          "output_type": "execute_result",
          "data": {
            "text/html": [
              "<div>\n",
              "<style scoped>\n",
              "    .dataframe tbody tr th:only-of-type {\n",
              "        vertical-align: middle;\n",
              "    }\n",
              "\n",
              "    .dataframe tbody tr th {\n",
              "        vertical-align: top;\n",
              "    }\n",
              "\n",
              "    .dataframe thead th {\n",
              "        text-align: right;\n",
              "    }\n",
              "</style>\n",
              "<table border=\"1\" class=\"dataframe\">\n",
              "  <thead>\n",
              "    <tr style=\"text-align: right;\">\n",
              "      <th></th>\n",
              "      <th></th>\n",
              "      <th>키</th>\n",
              "      <th>브랜드평판지수</th>\n",
              "    </tr>\n",
              "    <tr>\n",
              "      <th>혈액형</th>\n",
              "      <th>성별</th>\n",
              "      <th></th>\n",
              "      <th></th>\n",
              "    </tr>\n",
              "  </thead>\n",
              "  <tbody>\n",
              "    <tr>\n",
              "      <th rowspan=\"2\" valign=\"top\">A</th>\n",
              "      <th>남자</th>\n",
              "      <td>5.056481</td>\n",
              "      <td>2.862951e+06</td>\n",
              "    </tr>\n",
              "    <tr>\n",
              "      <th>여자</th>\n",
              "      <td>NaN</td>\n",
              "      <td>2.639111e+06</td>\n",
              "    </tr>\n",
              "    <tr>\n",
              "      <th>AB</th>\n",
              "      <th>남자</th>\n",
              "      <td>2.121320</td>\n",
              "      <td>3.374205e+06</td>\n",
              "    </tr>\n",
              "    <tr>\n",
              "      <th rowspan=\"2\" valign=\"top\">B</th>\n",
              "      <th>남자</th>\n",
              "      <td>NaN</td>\n",
              "      <td>NaN</td>\n",
              "    </tr>\n",
              "    <tr>\n",
              "      <th>여자</th>\n",
              "      <td>NaN</td>\n",
              "      <td>NaN</td>\n",
              "    </tr>\n",
              "    <tr>\n",
              "      <th>O</th>\n",
              "      <th>남자</th>\n",
              "      <td>8.283719</td>\n",
              "      <td>3.856730e+06</td>\n",
              "    </tr>\n",
              "  </tbody>\n",
              "</table>\n",
              "</div>"
            ],
            "text/plain": [
              "               키       브랜드평판지수\n",
              "혈액형 성별                        \n",
              "A   남자  5.056481  2.862951e+06\n",
              "    여자       NaN  2.639111e+06\n",
              "AB  남자  2.121320  3.374205e+06\n",
              "B   남자       NaN           NaN\n",
              "    여자       NaN           NaN\n",
              "O   남자  8.283719  3.856730e+06"
            ]
          },
          "metadata": {
            "tags": []
          },
          "execution_count": 157
        }
      ]
    },
    {
      "cell_type": "code",
      "metadata": {
        "id": "AdWWcFC2VOJW",
        "colab_type": "code",
        "colab": {
          "base_uri": "https://localhost:8080/",
          "height": 266
        },
        "outputId": "0696df70-131c-44da-c38e-04dd38618a40"
      },
      "source": [
        "df.groupby(by=['혈액형', '성별']).mean()"
      ],
      "execution_count": null,
      "outputs": [
        {
          "output_type": "execute_result",
          "data": {
            "text/html": [
              "<div>\n",
              "<style scoped>\n",
              "    .dataframe tbody tr th:only-of-type {\n",
              "        vertical-align: middle;\n",
              "    }\n",
              "\n",
              "    .dataframe tbody tr th {\n",
              "        vertical-align: top;\n",
              "    }\n",
              "\n",
              "    .dataframe thead th {\n",
              "        text-align: right;\n",
              "    }\n",
              "</style>\n",
              "<table border=\"1\" class=\"dataframe\">\n",
              "  <thead>\n",
              "    <tr style=\"text-align: right;\">\n",
              "      <th></th>\n",
              "      <th></th>\n",
              "      <th>키</th>\n",
              "      <th>브랜드평판지수</th>\n",
              "    </tr>\n",
              "    <tr>\n",
              "      <th>혈액형</th>\n",
              "      <th>성별</th>\n",
              "      <th></th>\n",
              "      <th></th>\n",
              "    </tr>\n",
              "  </thead>\n",
              "  <tbody>\n",
              "    <tr>\n",
              "      <th rowspan=\"2\" valign=\"top\">A</th>\n",
              "      <th>남자</th>\n",
              "      <td>175.14</td>\n",
              "      <td>7591755.2</td>\n",
              "    </tr>\n",
              "    <tr>\n",
              "      <th>여자</th>\n",
              "      <td>162.10</td>\n",
              "      <td>5784794.5</td>\n",
              "    </tr>\n",
              "    <tr>\n",
              "      <th>AB</th>\n",
              "      <th>남자</th>\n",
              "      <td>176.50</td>\n",
              "      <td>5687577.5</td>\n",
              "    </tr>\n",
              "    <tr>\n",
              "      <th rowspan=\"2\" valign=\"top\">B</th>\n",
              "      <th>남자</th>\n",
              "      <td>183.00</td>\n",
              "      <td>3506027.0</td>\n",
              "    </tr>\n",
              "    <tr>\n",
              "      <th>여자</th>\n",
              "      <td>NaN</td>\n",
              "      <td>4668615.0</td>\n",
              "    </tr>\n",
              "    <tr>\n",
              "      <th>O</th>\n",
              "      <th>남자</th>\n",
              "      <td>181.30</td>\n",
              "      <td>5621071.4</td>\n",
              "    </tr>\n",
              "  </tbody>\n",
              "</table>\n",
              "</div>"
            ],
            "text/plain": [
              "             키    브랜드평판지수\n",
              "혈액형 성별                   \n",
              "A   남자  175.14  7591755.2\n",
              "    여자  162.10  5784794.5\n",
              "AB  남자  176.50  5687577.5\n",
              "B   남자  183.00  3506027.0\n",
              "    여자     NaN  4668615.0\n",
              "O   남자  181.30  5621071.4"
            ]
          },
          "metadata": {
            "tags": []
          },
          "execution_count": 154
        }
      ]
    },
    {
      "cell_type": "markdown",
      "metadata": {
        "id": "mwNcI_uLW6in",
        "colab_type": "text"
      },
      "source": [
        "### 6-2. Multi-Index 데이터 프레임을 피벗 테이블로 변환"
      ]
    },
    {
      "cell_type": "markdown",
      "metadata": {
        "id": "jvxspk5wWYyy",
        "colab_type": "text"
      },
      "source": [
        "Multi-Index로 된 데이터프레임을 피벗테이블 형태로 다시 변환해 줄 수 있습니다."
      ]
    },
    {
      "cell_type": "code",
      "metadata": {
        "id": "ja4_Byq4VOR0",
        "colab_type": "code",
        "colab": {}
      },
      "source": [
        "df2 = df.groupby(by=['혈액형', '성별']).mean()"
      ],
      "execution_count": 106,
      "outputs": []
    },
    {
      "cell_type": "code",
      "metadata": {
        "id": "nUvs_JXdVOUy",
        "colab_type": "code",
        "colab": {
          "base_uri": "https://localhost:8080/",
          "height": 266
        },
        "outputId": "9bba2806-1a96-40a0-e593-08090904b075"
      },
      "source": [
        "df2"
      ],
      "execution_count": 107,
      "outputs": [
        {
          "output_type": "execute_result",
          "data": {
            "text/html": [
              "<div>\n",
              "<style scoped>\n",
              "    .dataframe tbody tr th:only-of-type {\n",
              "        vertical-align: middle;\n",
              "    }\n",
              "\n",
              "    .dataframe tbody tr th {\n",
              "        vertical-align: top;\n",
              "    }\n",
              "\n",
              "    .dataframe thead th {\n",
              "        text-align: right;\n",
              "    }\n",
              "</style>\n",
              "<table border=\"1\" class=\"dataframe\">\n",
              "  <thead>\n",
              "    <tr style=\"text-align: right;\">\n",
              "      <th></th>\n",
              "      <th></th>\n",
              "      <th>키</th>\n",
              "      <th>브랜드평판지수</th>\n",
              "    </tr>\n",
              "    <tr>\n",
              "      <th>혈액형</th>\n",
              "      <th>성별</th>\n",
              "      <th></th>\n",
              "      <th></th>\n",
              "    </tr>\n",
              "  </thead>\n",
              "  <tbody>\n",
              "    <tr>\n",
              "      <th rowspan=\"2\" valign=\"top\">A</th>\n",
              "      <th>남자</th>\n",
              "      <td>175.140</td>\n",
              "      <td>7591755.20</td>\n",
              "    </tr>\n",
              "    <tr>\n",
              "      <th>여자</th>\n",
              "      <td>162.100</td>\n",
              "      <td>5784794.50</td>\n",
              "    </tr>\n",
              "    <tr>\n",
              "      <th>AB</th>\n",
              "      <th>남자</th>\n",
              "      <td>176.500</td>\n",
              "      <td>5687577.50</td>\n",
              "    </tr>\n",
              "    <tr>\n",
              "      <th rowspan=\"2\" valign=\"top\">B</th>\n",
              "      <th>남자</th>\n",
              "      <td>183.000</td>\n",
              "      <td>3506027.00</td>\n",
              "    </tr>\n",
              "    <tr>\n",
              "      <th>여자</th>\n",
              "      <td>NaN</td>\n",
              "      <td>4668615.00</td>\n",
              "    </tr>\n",
              "    <tr>\n",
              "      <th>O</th>\n",
              "      <th>남자</th>\n",
              "      <td>177.875</td>\n",
              "      <td>3939919.75</td>\n",
              "    </tr>\n",
              "  </tbody>\n",
              "</table>\n",
              "</div>"
            ],
            "text/plain": [
              "              키     브랜드평판지수\n",
              "혈액형 성별                     \n",
              "A   남자  175.140  7591755.20\n",
              "    여자  162.100  5784794.50\n",
              "AB  남자  176.500  5687577.50\n",
              "B   남자  183.000  3506027.00\n",
              "    여자      NaN  4668615.00\n",
              "O   남자  177.875  3939919.75"
            ]
          },
          "metadata": {
            "tags": []
          },
          "execution_count": 107
        }
      ]
    },
    {
      "cell_type": "code",
      "metadata": {
        "id": "T6dCIfQOVOk3",
        "colab_type": "code",
        "colab": {
          "base_uri": "https://localhost:8080/",
          "height": 173
        },
        "outputId": "2a0073da-72ab-4ec6-e3c3-b40a21338359"
      },
      "source": [
        "# 원본 df2는 그대로 두고 복사본에 만듦\n",
        "# groupby되어 있던 값은 그대로 이지만 컬럼 레벨로 올라감.(PIVOTING과 동일)\n",
        "df2.unstack(level='혈액형')  "
      ],
      "execution_count": null,
      "outputs": [
        {
          "output_type": "execute_result",
          "data": {
            "text/html": [
              "<div>\n",
              "<style scoped>\n",
              "    .dataframe tbody tr th:only-of-type {\n",
              "        vertical-align: middle;\n",
              "    }\n",
              "\n",
              "    .dataframe tbody tr th {\n",
              "        vertical-align: top;\n",
              "    }\n",
              "\n",
              "    .dataframe thead tr th {\n",
              "        text-align: left;\n",
              "    }\n",
              "\n",
              "    .dataframe thead tr:last-of-type th {\n",
              "        text-align: right;\n",
              "    }\n",
              "</style>\n",
              "<table border=\"1\" class=\"dataframe\">\n",
              "  <thead>\n",
              "    <tr>\n",
              "      <th></th>\n",
              "      <th colspan=\"4\" halign=\"left\">키</th>\n",
              "      <th colspan=\"4\" halign=\"left\">브랜드평판지수</th>\n",
              "    </tr>\n",
              "    <tr>\n",
              "      <th>혈액형</th>\n",
              "      <th>A</th>\n",
              "      <th>AB</th>\n",
              "      <th>B</th>\n",
              "      <th>O</th>\n",
              "      <th>A</th>\n",
              "      <th>AB</th>\n",
              "      <th>B</th>\n",
              "      <th>O</th>\n",
              "    </tr>\n",
              "    <tr>\n",
              "      <th>성별</th>\n",
              "      <th></th>\n",
              "      <th></th>\n",
              "      <th></th>\n",
              "      <th></th>\n",
              "      <th></th>\n",
              "      <th></th>\n",
              "      <th></th>\n",
              "      <th></th>\n",
              "    </tr>\n",
              "  </thead>\n",
              "  <tbody>\n",
              "    <tr>\n",
              "      <th>남자</th>\n",
              "      <td>175.14</td>\n",
              "      <td>176.5</td>\n",
              "      <td>183.0</td>\n",
              "      <td>181.3</td>\n",
              "      <td>7591755.2</td>\n",
              "      <td>5687577.5</td>\n",
              "      <td>3506027.0</td>\n",
              "      <td>5621071.4</td>\n",
              "    </tr>\n",
              "    <tr>\n",
              "      <th>여자</th>\n",
              "      <td>162.10</td>\n",
              "      <td>NaN</td>\n",
              "      <td>NaN</td>\n",
              "      <td>NaN</td>\n",
              "      <td>5784794.5</td>\n",
              "      <td>NaN</td>\n",
              "      <td>4668615.0</td>\n",
              "      <td>NaN</td>\n",
              "    </tr>\n",
              "  </tbody>\n",
              "</table>\n",
              "</div>"
            ],
            "text/plain": [
              "          키                         브랜드평판지수                                 \n",
              "혈액형       A     AB      B      O          A         AB          B          O\n",
              "성별                                                                          \n",
              "남자   175.14  176.5  183.0  181.3  7591755.2  5687577.5  3506027.0  5621071.4\n",
              "여자   162.10    NaN    NaN    NaN  5784794.5        NaN  4668615.0        NaN"
            ]
          },
          "metadata": {
            "tags": []
          },
          "execution_count": 160
        }
      ]
    },
    {
      "cell_type": "code",
      "metadata": {
        "id": "2J21THEXV3SN",
        "colab_type": "code",
        "colab": {
          "base_uri": "https://localhost:8080/",
          "height": 173
        },
        "outputId": "a1f5fed8-57de-44c2-cb64-11e799421d90"
      },
      "source": [
        "# 위의 df2.unstack(level=`'혈액형'`) 은 아래 pivot_table과 동일한 결과를 낸다.\n",
        "# 위치만 차이가 남.\n",
        "df2.pivot_table(values=['키', '브랜드평판지수'], index='성별', columns='혈액형', aggfunc='mean')"
      ],
      "execution_count": 110,
      "outputs": [
        {
          "output_type": "execute_result",
          "data": {
            "text/html": [
              "<div>\n",
              "<style scoped>\n",
              "    .dataframe tbody tr th:only-of-type {\n",
              "        vertical-align: middle;\n",
              "    }\n",
              "\n",
              "    .dataframe tbody tr th {\n",
              "        vertical-align: top;\n",
              "    }\n",
              "\n",
              "    .dataframe thead tr th {\n",
              "        text-align: left;\n",
              "    }\n",
              "\n",
              "    .dataframe thead tr:last-of-type th {\n",
              "        text-align: right;\n",
              "    }\n",
              "</style>\n",
              "<table border=\"1\" class=\"dataframe\">\n",
              "  <thead>\n",
              "    <tr>\n",
              "      <th></th>\n",
              "      <th colspan=\"4\" halign=\"left\">브랜드평판지수</th>\n",
              "      <th colspan=\"4\" halign=\"left\">키</th>\n",
              "    </tr>\n",
              "    <tr>\n",
              "      <th>혈액형</th>\n",
              "      <th>A</th>\n",
              "      <th>AB</th>\n",
              "      <th>B</th>\n",
              "      <th>O</th>\n",
              "      <th>A</th>\n",
              "      <th>AB</th>\n",
              "      <th>B</th>\n",
              "      <th>O</th>\n",
              "    </tr>\n",
              "    <tr>\n",
              "      <th>성별</th>\n",
              "      <th></th>\n",
              "      <th></th>\n",
              "      <th></th>\n",
              "      <th></th>\n",
              "      <th></th>\n",
              "      <th></th>\n",
              "      <th></th>\n",
              "      <th></th>\n",
              "    </tr>\n",
              "  </thead>\n",
              "  <tbody>\n",
              "    <tr>\n",
              "      <th>남자</th>\n",
              "      <td>7591755.2</td>\n",
              "      <td>5687577.5</td>\n",
              "      <td>3506027.0</td>\n",
              "      <td>3939919.75</td>\n",
              "      <td>175.14</td>\n",
              "      <td>176.5</td>\n",
              "      <td>183.0</td>\n",
              "      <td>177.875</td>\n",
              "    </tr>\n",
              "    <tr>\n",
              "      <th>여자</th>\n",
              "      <td>5784794.5</td>\n",
              "      <td>NaN</td>\n",
              "      <td>4668615.0</td>\n",
              "      <td>NaN</td>\n",
              "      <td>162.10</td>\n",
              "      <td>NaN</td>\n",
              "      <td>NaN</td>\n",
              "      <td>NaN</td>\n",
              "    </tr>\n",
              "  </tbody>\n",
              "</table>\n",
              "</div>"
            ],
            "text/plain": [
              "       브랜드평판지수                                         키                       \n",
              "혈액형          A         AB          B           O       A     AB      B        O\n",
              "성별                                                                             \n",
              "남자   7591755.2  5687577.5  3506027.0  3939919.75  175.14  176.5  183.0  177.875\n",
              "여자   5784794.5        NaN  4668615.0         NaN  162.10    NaN    NaN      NaN"
            ]
          },
          "metadata": {
            "tags": []
          },
          "execution_count": 110
        }
      ]
    },
    {
      "cell_type": "code",
      "metadata": {
        "id": "0gOzRrkHVObv",
        "colab_type": "code",
        "colab": {
          "base_uri": "https://localhost:8080/",
          "height": 235
        },
        "outputId": "07aa7661-5e1a-419b-f7f1-ffe87b0e370f"
      },
      "source": [
        "df2.unstack(level='성별')"
      ],
      "execution_count": null,
      "outputs": [
        {
          "output_type": "execute_result",
          "data": {
            "text/html": [
              "<div>\n",
              "<style scoped>\n",
              "    .dataframe tbody tr th:only-of-type {\n",
              "        vertical-align: middle;\n",
              "    }\n",
              "\n",
              "    .dataframe tbody tr th {\n",
              "        vertical-align: top;\n",
              "    }\n",
              "\n",
              "    .dataframe thead tr th {\n",
              "        text-align: left;\n",
              "    }\n",
              "\n",
              "    .dataframe thead tr:last-of-type th {\n",
              "        text-align: right;\n",
              "    }\n",
              "</style>\n",
              "<table border=\"1\" class=\"dataframe\">\n",
              "  <thead>\n",
              "    <tr>\n",
              "      <th></th>\n",
              "      <th colspan=\"2\" halign=\"left\">키</th>\n",
              "      <th colspan=\"2\" halign=\"left\">브랜드평판지수</th>\n",
              "    </tr>\n",
              "    <tr>\n",
              "      <th>성별</th>\n",
              "      <th>남자</th>\n",
              "      <th>여자</th>\n",
              "      <th>남자</th>\n",
              "      <th>여자</th>\n",
              "    </tr>\n",
              "    <tr>\n",
              "      <th>혈액형</th>\n",
              "      <th></th>\n",
              "      <th></th>\n",
              "      <th></th>\n",
              "      <th></th>\n",
              "    </tr>\n",
              "  </thead>\n",
              "  <tbody>\n",
              "    <tr>\n",
              "      <th>A</th>\n",
              "      <td>175.14</td>\n",
              "      <td>162.1</td>\n",
              "      <td>7591755.2</td>\n",
              "      <td>5784794.5</td>\n",
              "    </tr>\n",
              "    <tr>\n",
              "      <th>AB</th>\n",
              "      <td>176.50</td>\n",
              "      <td>NaN</td>\n",
              "      <td>5687577.5</td>\n",
              "      <td>NaN</td>\n",
              "    </tr>\n",
              "    <tr>\n",
              "      <th>B</th>\n",
              "      <td>183.00</td>\n",
              "      <td>NaN</td>\n",
              "      <td>3506027.0</td>\n",
              "      <td>4668615.0</td>\n",
              "    </tr>\n",
              "    <tr>\n",
              "      <th>O</th>\n",
              "      <td>181.30</td>\n",
              "      <td>NaN</td>\n",
              "      <td>5621071.4</td>\n",
              "      <td>NaN</td>\n",
              "    </tr>\n",
              "  </tbody>\n",
              "</table>\n",
              "</div>"
            ],
            "text/plain": [
              "          키           브랜드평판지수           \n",
              "성별       남자     여자         남자         여자\n",
              "혈액형                                     \n",
              "A    175.14  162.1  7591755.2  5784794.5\n",
              "AB   176.50    NaN  5687577.5        NaN\n",
              "B    183.00    NaN  3506027.0  4668615.0\n",
              "O    181.30    NaN  5621071.4        NaN"
            ]
          },
          "metadata": {
            "tags": []
          },
          "execution_count": 163
        }
      ]
    },
    {
      "cell_type": "markdown",
      "metadata": {
        "id": "z0GukEDMW5D2",
        "colab_type": "text"
      },
      "source": [
        "### 6-3. 인덱스 초기화 (reset_index)"
      ]
    },
    {
      "cell_type": "markdown",
      "metadata": {
        "id": "9yyz_rawWrO0",
        "colab_type": "text"
      },
      "source": [
        "reset_index() 는 Multi-Index로 구성된 데이터 프레임의 **인덱스를 초기화**해 줍니다."
      ]
    },
    {
      "cell_type": "code",
      "metadata": {
        "id": "KTAYxNIYUW4j",
        "colab_type": "code",
        "colab": {
          "base_uri": "https://localhost:8080/",
          "height": 266
        },
        "outputId": "f846f142-5563-4178-abc8-c12d0f26da5a"
      },
      "source": [
        "df2  # multi index로 groupby된 결과"
      ],
      "execution_count": 111,
      "outputs": [
        {
          "output_type": "execute_result",
          "data": {
            "text/html": [
              "<div>\n",
              "<style scoped>\n",
              "    .dataframe tbody tr th:only-of-type {\n",
              "        vertical-align: middle;\n",
              "    }\n",
              "\n",
              "    .dataframe tbody tr th {\n",
              "        vertical-align: top;\n",
              "    }\n",
              "\n",
              "    .dataframe thead th {\n",
              "        text-align: right;\n",
              "    }\n",
              "</style>\n",
              "<table border=\"1\" class=\"dataframe\">\n",
              "  <thead>\n",
              "    <tr style=\"text-align: right;\">\n",
              "      <th></th>\n",
              "      <th></th>\n",
              "      <th>키</th>\n",
              "      <th>브랜드평판지수</th>\n",
              "    </tr>\n",
              "    <tr>\n",
              "      <th>혈액형</th>\n",
              "      <th>성별</th>\n",
              "      <th></th>\n",
              "      <th></th>\n",
              "    </tr>\n",
              "  </thead>\n",
              "  <tbody>\n",
              "    <tr>\n",
              "      <th rowspan=\"2\" valign=\"top\">A</th>\n",
              "      <th>남자</th>\n",
              "      <td>175.140</td>\n",
              "      <td>7591755.20</td>\n",
              "    </tr>\n",
              "    <tr>\n",
              "      <th>여자</th>\n",
              "      <td>162.100</td>\n",
              "      <td>5784794.50</td>\n",
              "    </tr>\n",
              "    <tr>\n",
              "      <th>AB</th>\n",
              "      <th>남자</th>\n",
              "      <td>176.500</td>\n",
              "      <td>5687577.50</td>\n",
              "    </tr>\n",
              "    <tr>\n",
              "      <th rowspan=\"2\" valign=\"top\">B</th>\n",
              "      <th>남자</th>\n",
              "      <td>183.000</td>\n",
              "      <td>3506027.00</td>\n",
              "    </tr>\n",
              "    <tr>\n",
              "      <th>여자</th>\n",
              "      <td>NaN</td>\n",
              "      <td>4668615.00</td>\n",
              "    </tr>\n",
              "    <tr>\n",
              "      <th>O</th>\n",
              "      <th>남자</th>\n",
              "      <td>177.875</td>\n",
              "      <td>3939919.75</td>\n",
              "    </tr>\n",
              "  </tbody>\n",
              "</table>\n",
              "</div>"
            ],
            "text/plain": [
              "              키     브랜드평판지수\n",
              "혈액형 성별                     \n",
              "A   남자  175.140  7591755.20\n",
              "    여자  162.100  5784794.50\n",
              "AB  남자  176.500  5687577.50\n",
              "B   남자  183.000  3506027.00\n",
              "    여자      NaN  4668615.00\n",
              "O   남자  177.875  3939919.75"
            ]
          },
          "metadata": {
            "tags": []
          },
          "execution_count": 111
        }
      ]
    },
    {
      "cell_type": "code",
      "metadata": {
        "id": "sVpEdDeqWmCq",
        "colab_type": "code",
        "colab": {
          "base_uri": "https://localhost:8080/",
          "height": 235
        },
        "outputId": "4dab4485-18b7-4891-cb47-7584735dce9b"
      },
      "source": [
        "# 2차원 데이터 프레임으로 변환(가공된 원본 데이터라고 보면된다.)\n",
        "# 인덱스를 초기화한다고 보면되며, 기본적으로 순차적으로 시작하는 인덱스로 다시 재생성된다고 보면 됨\n",
        "# 0, 1, 2, 3,......N\n",
        "df2.reset_index()  "
      ],
      "execution_count": 112,
      "outputs": [
        {
          "output_type": "execute_result",
          "data": {
            "text/html": [
              "<div>\n",
              "<style scoped>\n",
              "    .dataframe tbody tr th:only-of-type {\n",
              "        vertical-align: middle;\n",
              "    }\n",
              "\n",
              "    .dataframe tbody tr th {\n",
              "        vertical-align: top;\n",
              "    }\n",
              "\n",
              "    .dataframe thead th {\n",
              "        text-align: right;\n",
              "    }\n",
              "</style>\n",
              "<table border=\"1\" class=\"dataframe\">\n",
              "  <thead>\n",
              "    <tr style=\"text-align: right;\">\n",
              "      <th></th>\n",
              "      <th>혈액형</th>\n",
              "      <th>성별</th>\n",
              "      <th>키</th>\n",
              "      <th>브랜드평판지수</th>\n",
              "    </tr>\n",
              "  </thead>\n",
              "  <tbody>\n",
              "    <tr>\n",
              "      <th>0</th>\n",
              "      <td>A</td>\n",
              "      <td>남자</td>\n",
              "      <td>175.140</td>\n",
              "      <td>7591755.20</td>\n",
              "    </tr>\n",
              "    <tr>\n",
              "      <th>1</th>\n",
              "      <td>A</td>\n",
              "      <td>여자</td>\n",
              "      <td>162.100</td>\n",
              "      <td>5784794.50</td>\n",
              "    </tr>\n",
              "    <tr>\n",
              "      <th>2</th>\n",
              "      <td>AB</td>\n",
              "      <td>남자</td>\n",
              "      <td>176.500</td>\n",
              "      <td>5687577.50</td>\n",
              "    </tr>\n",
              "    <tr>\n",
              "      <th>3</th>\n",
              "      <td>B</td>\n",
              "      <td>남자</td>\n",
              "      <td>183.000</td>\n",
              "      <td>3506027.00</td>\n",
              "    </tr>\n",
              "    <tr>\n",
              "      <th>4</th>\n",
              "      <td>B</td>\n",
              "      <td>여자</td>\n",
              "      <td>NaN</td>\n",
              "      <td>4668615.00</td>\n",
              "    </tr>\n",
              "    <tr>\n",
              "      <th>5</th>\n",
              "      <td>O</td>\n",
              "      <td>남자</td>\n",
              "      <td>177.875</td>\n",
              "      <td>3939919.75</td>\n",
              "    </tr>\n",
              "  </tbody>\n",
              "</table>\n",
              "</div>"
            ],
            "text/plain": [
              "  혈액형  성별        키     브랜드평판지수\n",
              "0   A  남자  175.140  7591755.20\n",
              "1   A  여자  162.100  5784794.50\n",
              "2  AB  남자  176.500  5687577.50\n",
              "3   B  남자  183.000  3506027.00\n",
              "4   B  여자      NaN  4668615.00\n",
              "5   O  남자  177.875  3939919.75"
            ]
          },
          "metadata": {
            "tags": []
          },
          "execution_count": 112
        }
      ]
    },
    {
      "cell_type": "code",
      "metadata": {
        "id": "Jmj9XwlKc_kT",
        "colab_type": "code",
        "colab": {}
      },
      "source": [
        "# 2차원 데이터 프레임으로 변환된것을 재할당\n",
        "df2 = df2.reset_index()"
      ],
      "execution_count": null,
      "outputs": []
    },
    {
      "cell_type": "code",
      "metadata": {
        "id": "-S_8sHfdVNza",
        "colab_type": "code",
        "colab": {
          "base_uri": "https://localhost:8080/",
          "height": 235
        },
        "outputId": "9746faa3-744f-468a-86ab-5cecd5b335f8"
      },
      "source": [
        "df2"
      ],
      "execution_count": null,
      "outputs": [
        {
          "output_type": "execute_result",
          "data": {
            "text/html": [
              "<div>\n",
              "<style scoped>\n",
              "    .dataframe tbody tr th:only-of-type {\n",
              "        vertical-align: middle;\n",
              "    }\n",
              "\n",
              "    .dataframe tbody tr th {\n",
              "        vertical-align: top;\n",
              "    }\n",
              "\n",
              "    .dataframe thead th {\n",
              "        text-align: right;\n",
              "    }\n",
              "</style>\n",
              "<table border=\"1\" class=\"dataframe\">\n",
              "  <thead>\n",
              "    <tr style=\"text-align: right;\">\n",
              "      <th></th>\n",
              "      <th>index</th>\n",
              "      <th>혈액형</th>\n",
              "      <th>성별</th>\n",
              "      <th>키</th>\n",
              "      <th>브랜드평판지수</th>\n",
              "    </tr>\n",
              "  </thead>\n",
              "  <tbody>\n",
              "    <tr>\n",
              "      <th>0</th>\n",
              "      <td>0</td>\n",
              "      <td>A</td>\n",
              "      <td>남자</td>\n",
              "      <td>175.14</td>\n",
              "      <td>7591755.2</td>\n",
              "    </tr>\n",
              "    <tr>\n",
              "      <th>1</th>\n",
              "      <td>1</td>\n",
              "      <td>A</td>\n",
              "      <td>여자</td>\n",
              "      <td>162.10</td>\n",
              "      <td>5784794.5</td>\n",
              "    </tr>\n",
              "    <tr>\n",
              "      <th>2</th>\n",
              "      <td>2</td>\n",
              "      <td>AB</td>\n",
              "      <td>남자</td>\n",
              "      <td>176.50</td>\n",
              "      <td>5687577.5</td>\n",
              "    </tr>\n",
              "    <tr>\n",
              "      <th>3</th>\n",
              "      <td>3</td>\n",
              "      <td>B</td>\n",
              "      <td>남자</td>\n",
              "      <td>183.00</td>\n",
              "      <td>3506027.0</td>\n",
              "    </tr>\n",
              "    <tr>\n",
              "      <th>4</th>\n",
              "      <td>4</td>\n",
              "      <td>B</td>\n",
              "      <td>여자</td>\n",
              "      <td>NaN</td>\n",
              "      <td>4668615.0</td>\n",
              "    </tr>\n",
              "    <tr>\n",
              "      <th>5</th>\n",
              "      <td>5</td>\n",
              "      <td>O</td>\n",
              "      <td>남자</td>\n",
              "      <td>181.30</td>\n",
              "      <td>5621071.4</td>\n",
              "    </tr>\n",
              "  </tbody>\n",
              "</table>\n",
              "</div>"
            ],
            "text/plain": [
              "   index 혈액형  성별       키    브랜드평판지수\n",
              "0      0   A  남자  175.14  7591755.2\n",
              "1      1   A  여자  162.10  5784794.5\n",
              "2      2  AB  남자  176.50  5687577.5\n",
              "3      3   B  남자  183.00  3506027.0\n",
              "4      4   B  여자     NaN  4668615.0\n",
              "5      5   O  남자  181.30  5621071.4"
            ]
          },
          "metadata": {
            "tags": []
          },
          "execution_count": 175
        }
      ]
    }
  ]
}