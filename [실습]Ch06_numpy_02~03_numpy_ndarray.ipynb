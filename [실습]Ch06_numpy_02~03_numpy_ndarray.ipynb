{
  "nbformat": 4,
  "nbformat_minor": 0,
  "metadata": {
    "colab": {
      "name": "[실습]Ch06.numpy - 02~03.numpy.ndarray",
      "provenance": [],
      "collapsed_sections": [],
      "toc_visible": true,
      "include_colab_link": true
    },
    "kernelspec": {
      "name": "python3",
      "display_name": "Python 3"
    }
  },
  "cells": [
    {
      "cell_type": "markdown",
      "metadata": {
        "id": "view-in-github",
        "colab_type": "text"
      },
      "source": [
        "<a href=\"https://colab.research.google.com/github/SANGSEOSEO/philosophy_datascience/blob/master/%5B%EC%8B%A4%EC%8A%B5%5DCh06_numpy_02~03_numpy_ndarray.ipynb\" target=\"_parent\"><img src=\"https://colab.research.google.com/assets/colab-badge.svg\" alt=\"Open In Colab\"/></a>"
      ]
    },
    {
      "cell_type": "markdown",
      "metadata": {
        "id": "YF6gKv_yLvyA",
        "colab_type": "text"
      },
      "source": [
        "## 1. Numpy import 하기"
      ]
    },
    {
      "cell_type": "markdown",
      "metadata": {
        "id": "3gLqyKOLVkoi",
        "colab_type": "text"
      },
      "source": [
        " - 수치/과학 계산용 패키지\n",
        " - ndarray : n Dimension array(n차원 배열)"
      ]
    },
    {
      "cell_type": "code",
      "metadata": {
        "id": "0_Kg9xjRLmo-",
        "colab_type": "code",
        "colab": {}
      },
      "source": [
        "import numpy as np"
      ],
      "execution_count": 1,
      "outputs": []
    },
    {
      "cell_type": "code",
      "metadata": {
        "id": "GgV21jOYLutz",
        "colab_type": "code",
        "colab": {
          "base_uri": "https://localhost:8080/",
          "height": 34
        },
        "outputId": "63f7423e-cb58-49e7-f4ec-2d3f4b6e535d"
      },
      "source": [
        "np"
      ],
      "execution_count": null,
      "outputs": [
        {
          "output_type": "execute_result",
          "data": {
            "text/plain": [
              "<module 'numpy' from '/usr/local/lib/python3.6/dist-packages/numpy/__init__.py'>"
            ]
          },
          "metadata": {
            "tags": []
          },
          "execution_count": 8
        }
      ]
    },
    {
      "cell_type": "markdown",
      "metadata": {
        "id": "pf1gyZgaL0GG",
        "colab_type": "text"
      },
      "source": [
        "### 1-1. 별칭 (alias) 지정하기 (항상 해주세요!)"
      ]
    },
    {
      "cell_type": "code",
      "metadata": {
        "id": "mufbu6qBL3fq",
        "colab_type": "code",
        "colab": {}
      },
      "source": [
        "# 코드를 입력해 주세요\n",
        "import numpy as np"
      ],
      "execution_count": 9,
      "outputs": []
    },
    {
      "cell_type": "markdown",
      "metadata": {
        "id": "e_ttjq8eL4yg",
        "colab_type": "text"
      },
      "source": [
        "## 2. ndarray 생성하기"
      ]
    },
    {
      "cell_type": "markdown",
      "metadata": {
        "id": "HqYDBNHpYUpM",
        "colab_type": "text"
      },
      "source": [
        " **shape**은 차원의 수를 확인\n",
        "- (3,) => 3 X 1의 배열\n",
        "- (4, 3) => 4 X 3 의 배열\n",
        "- (2, 5, 3) => 2 X 5 X 3의 배열"
      ]
    },
    {
      "cell_type": "markdown",
      "metadata": {
        "id": "d5lcZCWHY1sb",
        "colab_type": "text"
      },
      "source": [
        "**axis**는 기준이 되는 축"
      ]
    },
    {
      "cell_type": "code",
      "metadata": {
        "id": "mwQN0_UzMGPO",
        "colab_type": "code",
        "colab": {}
      },
      "source": [
        "# ndarray 생성\n",
        "arr = np.array([1, 2, 3, 4], dtype=int)"
      ],
      "execution_count": 2,
      "outputs": []
    },
    {
      "cell_type": "code",
      "metadata": {
        "id": "qg-d37wfMJ85",
        "colab_type": "code",
        "colab": {
          "base_uri": "https://localhost:8080/",
          "height": 34
        },
        "outputId": "860378a6-0fd7-4207-aa2a-9a8b3bfb3eae"
      },
      "source": [
        "arr"
      ],
      "execution_count": 3,
      "outputs": [
        {
          "output_type": "execute_result",
          "data": {
            "text/plain": [
              "array([1, 2, 3, 4])"
            ]
          },
          "metadata": {
            "tags": []
          },
          "execution_count": 3
        }
      ]
    },
    {
      "cell_type": "code",
      "metadata": {
        "id": "pK4LQp_feRLr",
        "colab_type": "code",
        "colab": {
          "base_uri": "https://localhost:8080/",
          "height": 34
        },
        "outputId": "b04f45bd-7843-4540-a862-7b85b7162531"
      },
      "source": [
        "[1, 2, 3, 4]"
      ],
      "execution_count": 5,
      "outputs": [
        {
          "output_type": "execute_result",
          "data": {
            "text/plain": [
              "[1, 2, 3, 4]"
            ]
          },
          "metadata": {
            "tags": []
          },
          "execution_count": 5
        }
      ]
    },
    {
      "cell_type": "code",
      "metadata": {
        "id": "FpjKmMxJMVF3",
        "colab_type": "code",
        "colab": {
          "base_uri": "https://localhost:8080/",
          "height": 34
        },
        "outputId": "c8248f1e-60d5-49e2-9e78-8482d3269dc9"
      },
      "source": [
        "type(arr)"
      ],
      "execution_count": 4,
      "outputs": [
        {
          "output_type": "execute_result",
          "data": {
            "text/plain": [
              "numpy.ndarray"
            ]
          },
          "metadata": {
            "tags": []
          },
          "execution_count": 4
        }
      ]
    },
    {
      "cell_type": "markdown",
      "metadata": {
        "id": "n83ZdpYzMWCh",
        "colab_type": "text"
      },
      "source": [
        "### 2-1. list로 부터 생성하기"
      ]
    },
    {
      "cell_type": "code",
      "metadata": {
        "id": "3FoRNCmxMa96",
        "colab_type": "code",
        "colab": {}
      },
      "source": [
        "mylist1 = [1, 2, 3, 4]"
      ],
      "execution_count": 18,
      "outputs": []
    },
    {
      "cell_type": "code",
      "metadata": {
        "id": "lk6wwjOEMcqN",
        "colab_type": "code",
        "colab": {}
      },
      "source": [
        "mylist2 = [[1, 2, 3, 4,],[5, 6, 7, 8]]"
      ],
      "execution_count": 19,
      "outputs": []
    },
    {
      "cell_type": "code",
      "metadata": {
        "id": "9aeUwDAkMhok",
        "colab_type": "code",
        "colab": {}
      },
      "source": [
        "arr1 = np.array(mylist1)"
      ],
      "execution_count": 20,
      "outputs": []
    },
    {
      "cell_type": "code",
      "metadata": {
        "id": "uj3yIOjtMjjB",
        "colab_type": "code",
        "colab": {}
      },
      "source": [
        "arr2 = np.array(mylist2)\n"
      ],
      "execution_count": 21,
      "outputs": []
    },
    {
      "cell_type": "markdown",
      "metadata": {
        "id": "yzMxMbQzMtNO",
        "colab_type": "text"
      },
      "source": [
        "### 2-2. shape확인하기"
      ]
    },
    {
      "cell_type": "code",
      "metadata": {
        "id": "JvsXql8XMzSQ",
        "colab_type": "code",
        "colab": {
          "base_uri": "https://localhost:8080/",
          "height": 34
        },
        "outputId": "840796a9-ce00-4f79-9b34-e96958c5dbd5"
      },
      "source": [
        "# arr1의 shape 확인 : 1차원의 갯수는 4개이다.\n",
        "arr1.shape"
      ],
      "execution_count": 22,
      "outputs": [
        {
          "output_type": "execute_result",
          "data": {
            "text/plain": [
              "(4,)"
            ]
          },
          "metadata": {
            "tags": []
          },
          "execution_count": 22
        }
      ]
    },
    {
      "cell_type": "code",
      "metadata": {
        "id": "0DvV6rmdM0zH",
        "colab_type": "code",
        "colab": {
          "base_uri": "https://localhost:8080/",
          "height": 34
        },
        "outputId": "78ff7fd6-eef7-4fa8-dfb7-027fddf1acc0"
      },
      "source": [
        "# arr2의 shape확인(행이 2개이고 컬럼이 4개이다)\n",
        "arr2.shape\n"
      ],
      "execution_count": 23,
      "outputs": [
        {
          "output_type": "execute_result",
          "data": {
            "text/plain": [
              "(2, 4)"
            ]
          },
          "metadata": {
            "tags": []
          },
          "execution_count": 23
        }
      ]
    },
    {
      "cell_type": "markdown",
      "metadata": {
        "id": "gX-z_P_LM9LV",
        "colab_type": "text"
      },
      "source": [
        "## 3. array에서의 data 타입"
      ]
    },
    {
      "cell_type": "markdown",
      "metadata": {
        "id": "MktQdRu7NCt_",
        "colab_type": "text"
      },
      "source": [
        "array에서는 list와는 다르게 1개의 **단일 데이터 타입**만 허용 됩니다."
      ]
    },
    {
      "cell_type": "markdown",
      "metadata": {
        "id": "XTLMkufHNT_M",
        "colab_type": "text"
      },
      "source": [
        "### 3-1. list에서의 data 타입"
      ]
    },
    {
      "cell_type": "code",
      "metadata": {
        "id": "C0B5BIjtNIhI",
        "colab_type": "code",
        "colab": {}
      },
      "source": [
        "mylist = [1, 3.14, '테디', '1234']"
      ],
      "execution_count": 24,
      "outputs": []
    },
    {
      "cell_type": "code",
      "metadata": {
        "id": "KGJ2KOsiNN9e",
        "colab_type": "code",
        "colab": {
          "base_uri": "https://localhost:8080/",
          "height": 34
        },
        "outputId": "12682a35-420c-4030-8606-46d2348f15f3"
      },
      "source": [
        "mylist"
      ],
      "execution_count": 25,
      "outputs": [
        {
          "output_type": "execute_result",
          "data": {
            "text/plain": [
              "[1, 3.14, '테디', '1234']"
            ]
          },
          "metadata": {
            "tags": []
          },
          "execution_count": 25
        }
      ]
    },
    {
      "cell_type": "code",
      "metadata": {
        "id": "2DpInJBdNQBx",
        "colab_type": "code",
        "colab": {}
      },
      "source": [
        "# 코드를 입력해 주세요\n",
        "arr = np.array([1, 2, 3.14, 4, 5])"
      ],
      "execution_count": 26,
      "outputs": []
    },
    {
      "cell_type": "code",
      "metadata": {
        "id": "35l4lfXDzIlE",
        "colab_type": "code",
        "colab": {
          "base_uri": "https://localhost:8080/",
          "height": 34
        },
        "outputId": "ef9f2b4e-78dc-45ae-8243-67396a5a5b55"
      },
      "source": [
        "# int형이 str타입을 따라간다.(U21)\n",
        "arr_t = np.array([1, 2, 3, 'B'])\n",
        "arr_t"
      ],
      "execution_count": 28,
      "outputs": [
        {
          "output_type": "execute_result",
          "data": {
            "text/plain": [
              "array(['1', '2', '3', 'B'], dtype='<U21')"
            ]
          },
          "metadata": {
            "tags": []
          },
          "execution_count": 28
        }
      ]
    },
    {
      "cell_type": "code",
      "metadata": {
        "id": "bXul5tMQbUPr",
        "colab_type": "code",
        "colab": {
          "base_uri": "https://localhost:8080/",
          "height": 34
        },
        "outputId": "353b1bb2-2624-439b-ef6d-721d8b5a0e78"
      },
      "source": [
        "arr"
      ],
      "execution_count": 29,
      "outputs": [
        {
          "output_type": "execute_result",
          "data": {
            "text/plain": [
              "array([1.  , 2.  , 3.14, 4.  , 5.  ])"
            ]
          },
          "metadata": {
            "tags": []
          },
          "execution_count": 29
        }
      ]
    },
    {
      "cell_type": "code",
      "metadata": {
        "id": "xjgOr_LnNRgp",
        "colab_type": "code",
        "colab": {
          "base_uri": "https://localhost:8080/",
          "height": 35
        },
        "outputId": "9ee6a6b9-766c-42b4-9092-a1774655ddf4"
      },
      "source": [
        "# 코드를 입력해 주세요\n",
        "mylist[2]"
      ],
      "execution_count": 30,
      "outputs": [
        {
          "output_type": "execute_result",
          "data": {
            "application/vnd.google.colaboratory.intrinsic+json": {
              "type": "string"
            },
            "text/plain": [
              "'테디'"
            ]
          },
          "metadata": {
            "tags": []
          },
          "execution_count": 30
        }
      ]
    },
    {
      "cell_type": "markdown",
      "metadata": {
        "id": "GX81OuGvNSWJ",
        "colab_type": "text"
      },
      "source": [
        "### 3-2. array에서의 data 타입 (case를 통한 연구)"
      ]
    },
    {
      "cell_type": "markdown",
      "metadata": {
        "id": "szwCkfiKOscZ",
        "colab_type": "text"
      },
      "source": [
        "### case 1. int와 float 타입이 혼재된 경우"
      ]
    },
    {
      "cell_type": "code",
      "metadata": {
        "id": "cbixPa34Opbw",
        "colab_type": "code",
        "colab": {}
      },
      "source": [
        "# dtype을 지정하지 않았다.\n",
        "arr = np.array([1, 2, 3, 3.14])"
      ],
      "execution_count": 31,
      "outputs": []
    },
    {
      "cell_type": "code",
      "metadata": {
        "id": "ic54uzs8Oq2l",
        "colab_type": "code",
        "colab": {
          "base_uri": "https://localhost:8080/",
          "height": 34
        },
        "outputId": "3e296787-757c-4fb0-d931-63e33216dd9e"
      },
      "source": [
        "arr"
      ],
      "execution_count": 32,
      "outputs": [
        {
          "output_type": "execute_result",
          "data": {
            "text/plain": [
              "array([1.  , 2.  , 3.  , 3.14])"
            ]
          },
          "metadata": {
            "tags": []
          },
          "execution_count": 32
        }
      ]
    },
    {
      "cell_type": "markdown",
      "metadata": {
        "id": "NK9OEY8cO1h1",
        "colab_type": "text"
      },
      "source": [
        "### case 2. int와 float 타입이 혼재되었으나, dtype을 지정한 경우"
      ]
    },
    {
      "cell_type": "code",
      "metadata": {
        "id": "J-CMx0MkOiVB",
        "colab_type": "code",
        "colab": {}
      },
      "source": [
        "# 명시적으로 int형으로 지정\n",
        "arr = np.array([1, 2, 3.14, 4], dtype='int')"
      ],
      "execution_count": 33,
      "outputs": []
    },
    {
      "cell_type": "code",
      "metadata": {
        "id": "9CyK3SNOOmuI",
        "colab_type": "code",
        "colab": {
          "base_uri": "https://localhost:8080/",
          "height": 34
        },
        "outputId": "506fbeb3-0ea5-4ced-cc17-b2fd65a66538"
      },
      "source": [
        "arr"
      ],
      "execution_count": 34,
      "outputs": [
        {
          "output_type": "execute_result",
          "data": {
            "text/plain": [
              "array([1, 2, 3, 4])"
            ]
          },
          "metadata": {
            "tags": []
          },
          "execution_count": 34
        }
      ]
    },
    {
      "cell_type": "code",
      "metadata": {
        "id": "mDYTsQKLb4C9",
        "colab_type": "code",
        "colab": {}
      },
      "source": [
        "# dtype을 float으로 지정하면 지정한것으로 변환되어 ndarray가 생성\n",
        "arr = np.array([1, 2, 3.14, 4.5, 5], dtype='float')"
      ],
      "execution_count": 35,
      "outputs": []
    },
    {
      "cell_type": "code",
      "metadata": {
        "id": "aT9dwevHcDQU",
        "colab_type": "code",
        "colab": {
          "base_uri": "https://localhost:8080/",
          "height": 34
        },
        "outputId": "f2866caf-4ec3-422f-84b3-9734fcc1922a"
      },
      "source": [
        "arr"
      ],
      "execution_count": 36,
      "outputs": [
        {
          "output_type": "execute_result",
          "data": {
            "text/plain": [
              "array([1.  , 2.  , 3.14, 4.5 , 5.  ])"
            ]
          },
          "metadata": {
            "tags": []
          },
          "execution_count": 36
        }
      ]
    },
    {
      "cell_type": "markdown",
      "metadata": {
        "id": "RDfxDsUWOoT1",
        "colab_type": "text"
      },
      "source": [
        "### case 3. int와 str 타입이 혼재된 경우"
      ]
    },
    {
      "cell_type": "code",
      "metadata": {
        "id": "EFxhPu_oNZ9V",
        "colab_type": "code",
        "colab": {}
      },
      "source": [
        "# int형이 str형으로 변환\n",
        "arr = np.array([1, 3.14, '테디', '1234'])"
      ],
      "execution_count": 37,
      "outputs": []
    },
    {
      "cell_type": "code",
      "metadata": {
        "id": "bkZjF2alNeXJ",
        "colab_type": "code",
        "colab": {
          "base_uri": "https://localhost:8080/",
          "height": 34
        },
        "outputId": "3fde4e2b-679b-4abd-e0ab-68df13139cc2"
      },
      "source": [
        "#  dtype='<U32')\n",
        "arr"
      ],
      "execution_count": 38,
      "outputs": [
        {
          "output_type": "execute_result",
          "data": {
            "text/plain": [
              "array(['1', '3.14', '테디', '1234'], dtype='<U32')"
            ]
          },
          "metadata": {
            "tags": []
          },
          "execution_count": 38
        }
      ]
    },
    {
      "cell_type": "code",
      "metadata": {
        "id": "VcFfCH16Ni4-",
        "colab_type": "code",
        "colab": {
          "base_uri": "https://localhost:8080/",
          "height": 34
        },
        "outputId": "c24e3cd2-eaf6-47b2-cc71-6fa2829e4298"
      },
      "source": [
        "arr[0] + arr[1]"
      ],
      "execution_count": null,
      "outputs": [
        {
          "output_type": "execute_result",
          "data": {
            "text/plain": [
              "'13.14'"
            ]
          },
          "metadata": {
            "tags": []
          },
          "execution_count": 26
        }
      ]
    },
    {
      "cell_type": "markdown",
      "metadata": {
        "id": "ihIB8zQfPCLP",
        "colab_type": "text"
      },
      "source": [
        "### case 4. int와 str 타입이 혼재되어 있고 int로 dtype을 지정한 경우"
      ]
    },
    {
      "cell_type": "code",
      "metadata": {
        "id": "L2cVoxoEPH7X",
        "colab_type": "code",
        "colab": {}
      },
      "source": [
        "arr = np.array([1, 2, 3.14, 4, '100'],dtype='int' )"
      ],
      "execution_count": 39,
      "outputs": []
    },
    {
      "cell_type": "code",
      "metadata": {
        "id": "f7EtNlGuPLTM",
        "colab_type": "code",
        "colab": {
          "base_uri": "https://localhost:8080/",
          "height": 34
        },
        "outputId": "42bc4797-e254-464f-b347-06bdac1ee7ab"
      },
      "source": [
        "arr"
      ],
      "execution_count": 40,
      "outputs": [
        {
          "output_type": "execute_result",
          "data": {
            "text/plain": [
              "array([  1,   2,   3,   4, 100])"
            ]
          },
          "metadata": {
            "tags": []
          },
          "execution_count": 40
        }
      ]
    },
    {
      "cell_type": "code",
      "metadata": {
        "id": "iE0BLDCTfZc9",
        "colab_type": "code",
        "colab": {}
      },
      "source": [
        "# dtype을 str으로 명시적으로 지정해주면 다른 것들을 str으로 바꿈\n",
        "arr_mix = np.array([1, 2, 3.14, 'sang'], dtype='str')"
      ],
      "execution_count": 41,
      "outputs": []
    },
    {
      "cell_type": "code",
      "metadata": {
        "id": "2ol5weOwdimK",
        "colab_type": "code",
        "colab": {
          "base_uri": "https://localhost:8080/",
          "height": 34
        },
        "outputId": "08d4341d-48ec-431f-8679-8f702430d505"
      },
      "source": [
        "arr_mix"
      ],
      "execution_count": 42,
      "outputs": [
        {
          "output_type": "execute_result",
          "data": {
            "text/plain": [
              "array(['1', '2', '3.14', 'sang'], dtype='<U4')"
            ]
          },
          "metadata": {
            "tags": []
          },
          "execution_count": 42
        }
      ]
    },
    {
      "cell_type": "code",
      "metadata": {
        "id": "y8b9nohYdkGu",
        "colab_type": "code",
        "colab": {
          "base_uri": "https://localhost:8080/",
          "height": 35
        },
        "outputId": "452296da-2134-4cb0-e528-fa1002dccbe1"
      },
      "source": [
        "arr_mix[0]"
      ],
      "execution_count": 43,
      "outputs": [
        {
          "output_type": "execute_result",
          "data": {
            "application/vnd.google.colaboratory.intrinsic+json": {
              "type": "string"
            },
            "text/plain": [
              "'1'"
            ]
          },
          "metadata": {
            "tags": []
          },
          "execution_count": 43
        }
      ]
    },
    {
      "cell_type": "code",
      "metadata": {
        "id": "gh0J230ddzdn",
        "colab_type": "code",
        "colab": {
          "base_uri": "https://localhost:8080/",
          "height": 35
        },
        "outputId": "6fc30011-b82f-4bb7-a085-f9d24369cd96"
      },
      "source": [
        "arr_mix[3]"
      ],
      "execution_count": 44,
      "outputs": [
        {
          "output_type": "execute_result",
          "data": {
            "application/vnd.google.colaboratory.intrinsic+json": {
              "type": "string"
            },
            "text/plain": [
              "'sang'"
            ]
          },
          "metadata": {
            "tags": []
          },
          "execution_count": 44
        }
      ]
    },
    {
      "cell_type": "markdown",
      "metadata": {
        "id": "0OS__OxQeArg",
        "colab_type": "text"
      },
      "source": [
        "##정리\n",
        "\n",
        "- 파이썬은 일단 똑똑해.하지만 ndarray를 사용할때 반드시 동일한 데이터타입으로 ndarray를 만들어라."
      ]
    }
  ]
}