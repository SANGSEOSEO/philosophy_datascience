{
 "cells": [
  {
   "cell_type": "markdown",
   "metadata": {},
   "source": [
    "## Something funny for Pandas"
   ]
  },
  {
   "cell_type": "code",
   "execution_count": 1,
   "metadata": {},
   "outputs": [],
   "source": [
    "import pandas as pd"
   ]
  },
  {
   "cell_type": "code",
   "execution_count": 13,
   "metadata": {},
   "outputs": [
    {
     "name": "stdout",
     "output_type": "stream",
     "text": [
      "(17654, 10)\n"
     ]
    },
    {
     "data": {
      "text/html": [
       "<div>\n",
       "<style scoped>\n",
       "    .dataframe tbody tr th:only-of-type {\n",
       "        vertical-align: middle;\n",
       "    }\n",
       "\n",
       "    .dataframe tbody tr th {\n",
       "        vertical-align: top;\n",
       "    }\n",
       "\n",
       "    .dataframe thead th {\n",
       "        text-align: right;\n",
       "    }\n",
       "</style>\n",
       "<table border=\"1\" class=\"dataframe\">\n",
       "  <thead>\n",
       "    <tr style=\"text-align: right;\">\n",
       "      <th></th>\n",
       "      <th>Company</th>\n",
       "      <th>Title</th>\n",
       "      <th>Job</th>\n",
       "      <th>Level</th>\n",
       "      <th>Date</th>\n",
       "      <th>Upvotes</th>\n",
       "      <th>Offer</th>\n",
       "      <th>Experience</th>\n",
       "      <th>Difficulty</th>\n",
       "      <th>Review</th>\n",
       "    </tr>\n",
       "  </thead>\n",
       "  <tbody>\n",
       "    <tr>\n",
       "      <th>0</th>\n",
       "      <td>Apple</td>\n",
       "      <td>Software Engineer</td>\n",
       "      <td>Software Engineer</td>\n",
       "      <td>Engineer</td>\n",
       "      <td>Aug 7, 2019</td>\n",
       "      <td>0</td>\n",
       "      <td>No offer</td>\n",
       "      <td>0.0</td>\n",
       "      <td>Medium</td>\n",
       "      <td>Application  I applied through a staffing agen...</td>\n",
       "    </tr>\n",
       "    <tr>\n",
       "      <th>1</th>\n",
       "      <td>Apple</td>\n",
       "      <td>Software Engineer</td>\n",
       "      <td>Software Engineer</td>\n",
       "      <td>Engineer</td>\n",
       "      <td>Aug 8, 2019</td>\n",
       "      <td>0</td>\n",
       "      <td>Accepted offer</td>\n",
       "      <td>1.0</td>\n",
       "      <td>Hard</td>\n",
       "      <td>Application  I applied online. The process too...</td>\n",
       "    </tr>\n",
       "    <tr>\n",
       "      <th>2</th>\n",
       "      <td>Apple</td>\n",
       "      <td>Software Engineer</td>\n",
       "      <td>Software Engineer</td>\n",
       "      <td>Engineer</td>\n",
       "      <td>NaN</td>\n",
       "      <td>0</td>\n",
       "      <td>Declined offer</td>\n",
       "      <td>0.0</td>\n",
       "      <td>Medium</td>\n",
       "      <td>Application  The process took 4 weeks. I inter...</td>\n",
       "    </tr>\n",
       "    <tr>\n",
       "      <th>3</th>\n",
       "      <td>Apple</td>\n",
       "      <td>Software Engineer</td>\n",
       "      <td>Software Engineer</td>\n",
       "      <td>Engineer</td>\n",
       "      <td>NaN</td>\n",
       "      <td>9</td>\n",
       "      <td>Declined offer</td>\n",
       "      <td>-1.0</td>\n",
       "      <td>Medium</td>\n",
       "      <td>Application  The process took a week. I interv...</td>\n",
       "    </tr>\n",
       "    <tr>\n",
       "      <th>4</th>\n",
       "      <td>Apple</td>\n",
       "      <td>Software Engineer</td>\n",
       "      <td>Software Engineer</td>\n",
       "      <td>Engineer</td>\n",
       "      <td>May 29, 2009</td>\n",
       "      <td>2</td>\n",
       "      <td>No offer</td>\n",
       "      <td>0.0</td>\n",
       "      <td>Medium</td>\n",
       "      <td>Application  I applied through an employee ref...</td>\n",
       "    </tr>\n",
       "  </tbody>\n",
       "</table>\n",
       "</div>"
      ],
      "text/plain": [
       "  Company              Title                Job     Level          Date  \\\n",
       "0   Apple  Software Engineer  Software Engineer  Engineer   Aug 7, 2019   \n",
       "1   Apple  Software Engineer  Software Engineer  Engineer   Aug 8, 2019   \n",
       "2   Apple  Software Engineer  Software Engineer  Engineer           NaN   \n",
       "3   Apple  Software Engineer  Software Engineer  Engineer           NaN   \n",
       "4   Apple  Software Engineer  Software Engineer  Engineer  May 29, 2009   \n",
       "\n",
       "   Upvotes           Offer  Experience Difficulty  \\\n",
       "0        0        No offer         0.0     Medium   \n",
       "1        0  Accepted offer         1.0       Hard   \n",
       "2        0  Declined offer         0.0     Medium   \n",
       "3        9  Declined offer        -1.0     Medium   \n",
       "4        2        No offer         0.0     Medium   \n",
       "\n",
       "                                              Review  \n",
       "0  Application  I applied through a staffing agen...  \n",
       "1  Application  I applied online. The process too...  \n",
       "2  Application  The process took 4 weeks. I inter...  \n",
       "3  Application  The process took a week. I interv...  \n",
       "4  Application  I applied through an employee ref...  "
      ]
     },
     "execution_count": 13,
     "metadata": {},
     "output_type": "execute_result"
    }
   ],
   "source": [
    "df = pd.read_csv(\"data/interviews.csv\")\n",
    "print(df.shape)\n",
    "df.head(n = 5)"
   ]
  },
  {
   "cell_type": "markdown",
   "metadata": {},
   "source": [
    "#### fetch the series of `Date` column"
   ]
  },
  {
   "cell_type": "code",
   "execution_count": 3,
   "metadata": {},
   "outputs": [
    {
     "name": "stdout",
     "output_type": "stream",
     "text": [
      "15.8 µs ± 3.33 µs per loop (mean ± std. dev. of 7 runs, 1000 loops each)\n"
     ]
    }
   ],
   "source": [
    "%timeit -n1000 df['Date']"
   ]
  },
  {
   "cell_type": "markdown",
   "metadata": {},
   "source": [
    "#### fetch the first row"
   ]
  },
  {
   "cell_type": "code",
   "execution_count": 4,
   "metadata": {},
   "outputs": [
    {
     "name": "stdout",
     "output_type": "stream",
     "text": [
      "566 µs ± 103 µs per loop (mean ± std. dev. of 7 runs, 1000 loops each)\n"
     ]
    }
   ],
   "source": [
    "%timeit -n1000 df.iloc[0]"
   ]
  },
  {
   "cell_type": "markdown",
   "metadata": {},
   "source": [
    "### 1. Iterating over rows"
   ]
  },
  {
   "cell_type": "markdown",
   "metadata": {},
   "source": [
    "#### 1.1 .apply()"
   ]
  },
  {
   "cell_type": "markdown",
   "metadata": {},
   "source": [
    "[Iterration에 대한 Warning](https://pandas.pydata.org/pandas-docs/stable/user_guide/basics.html#iteration)"
   ]
  },
  {
   "cell_type": "code",
   "execution_count": 5,
   "metadata": {},
   "outputs": [
    {
     "name": "stdout",
     "output_type": "stream",
     "text": [
      "The slowest run took 4.06 times longer than the fastest. This could mean that an intermediate result is being cached.\n",
      "1.84 s ± 659 ms per loop (mean ± std. dev. of 7 runs, 1 loop each)\n"
     ]
    }
   ],
   "source": [
    "%timeit -n1 df.apply(lambda x:x['Experience'] * x['Upvotes'], axis = 1)"
   ]
  },
  {
   "cell_type": "markdown",
   "metadata": {},
   "source": [
    "#### 1.2 . iterrows() na d.itemtuples()"
   ]
  },
  {
   "cell_type": "code",
   "execution_count": 6,
   "metadata": {},
   "outputs": [
    {
     "name": "stdout",
     "output_type": "stream",
     "text": [
      "5.16 s ± 499 ms per loop (mean ± std. dev. of 7 runs, 1 loop each)\n"
     ]
    }
   ],
   "source": [
    "%timeit -n1 [row for index, row in df.iterrows()]  # 매우 느리다."
   ]
  },
  {
   "cell_type": "code",
   "execution_count": null,
   "metadata": {},
   "outputs": [],
   "source": []
  },
  {
   "cell_type": "code",
   "execution_count": null,
   "metadata": {},
   "outputs": [],
   "source": []
  },
  {
   "cell_type": "code",
   "execution_count": 7,
   "metadata": {},
   "outputs": [
    {
     "name": "stdout",
     "output_type": "stream",
     "text": [
      "Company                                                   Apple\n",
      "Title                                         Software Engineer\n",
      "Job                                           Software Engineer\n",
      "Level                                                  Engineer\n",
      "Date                                                Aug 7, 2019\n",
      "Upvotes                                                       0\n",
      "Offer                                                  No offer\n",
      "Experience                                                    0\n",
      "Difficulty                                               Medium\n",
      "Review        Application  I applied through a staffing agen...\n",
      "Name: 0, dtype: object\n"
     ]
    }
   ],
   "source": [
    "for index, row in df.iterrows():\n",
    "    print(row)\n",
    "    break"
   ]
  },
  {
   "cell_type": "code",
   "execution_count": 8,
   "metadata": {},
   "outputs": [
    {
     "name": "stdout",
     "output_type": "stream",
     "text": [
      "133 ms ± 12.5 ms per loop (mean ± std. dev. of 7 runs, 1 loop each)\n"
     ]
    }
   ],
   "source": [
    "%timeit -n1 [row for row in df.itertuples()]  #iterrow에 비해 몇백배 빠름."
   ]
  },
  {
   "cell_type": "code",
   "execution_count": 9,
   "metadata": {},
   "outputs": [
    {
     "name": "stdout",
     "output_type": "stream",
     "text": [
      "[ 0.99586654 -1.71697588 -1.52590987]\n",
      "col1\n",
      "col2\n"
     ]
    }
   ],
   "source": [
    "import numpy as np\n",
    "n1 = np.random.randn(3) \n",
    "print(n1) \n",
    "df = pd.DataFrame(data = {\n",
    "                            'col1': np.random.randn(3),\n",
    "                            'col2': np.random.randn(3) \n",
    "                          }\n",
    "                         ,index = ['a', 'b', 'c']   \n",
    "                 )\n",
    "for col in df:\n",
    "    print(col)"
   ]
  },
  {
   "cell_type": "markdown",
   "metadata": {},
   "source": [
    "#### 1.3 Converting DataFrame to row-major order"
   ]
  },
  {
   "cell_type": "markdown",
   "metadata": {},
   "source": [
    "만약, 데이터프레임에 대해서 Row-by-Row로 어떤 작업을 해야한다면 해당 데이터프레임을 numpy.ndarray타입으로 바꾸고 해라."
   ]
  },
  {
   "cell_type": "code",
   "execution_count": 10,
   "metadata": {},
   "outputs": [
    {
     "name": "stdout",
     "output_type": "stream",
     "text": [
      "The slowest run took 4.54 times longer than the fastest. This could mean that an intermediate result is being cached.\n",
      "66.4 µs ± 48.4 µs per loop (mean ± std. dev. of 7 runs, 1 loop each)\n"
     ]
    }
   ],
   "source": [
    "%timeit -n1 df_np = df.to_numpy(); rows = [row for row in df_np]"
   ]
  },
  {
   "cell_type": "code",
   "execution_count": 11,
   "metadata": {},
   "outputs": [
    {
     "name": "stdout",
     "output_type": "stream",
     "text": [
      "977 ns ± 73.2 ns per loop (mean ± std. dev. of 7 runs, 1000 loops each)\n",
      "1.33 µs ± 130 ns per loop (mean ± std. dev. of 7 runs, 1000 loops each)\n"
     ]
    }
   ],
   "source": [
    "df_no = df.to_numpy()\n",
    "%timeit -n1000 df_no[0]\n",
    "%timeit -n1000 df_no[:,0]"
   ]
  },
  {
   "cell_type": "markdown",
   "metadata": {},
   "source": [
    "#### 1.4 Ordering slicing operations"
   ]
  },
  {
   "cell_type": "code",
   "execution_count": 14,
   "metadata": {},
   "outputs": [
    {
     "name": "stdout",
     "output_type": "stream",
     "text": [
      "92.7 µs ± 16.7 µs per loop (mean ± std. dev. of 7 runs, 1000 loops each)\n",
      "657 µs ± 74.3 µs per loop (mean ± std. dev. of 7 runs, 1000 loops each)\n",
      "33 µs ± 2.45 µs per loop (mean ± std. dev. of 7 runs, 1000 loops each)\n"
     ]
    }
   ],
   "source": [
    "%timeit -n1000 df['Review'][0]\n",
    "%timeit -n1000 df.iloc[0]['Review']\n",
    "%timeit -n1000 df.loc[0, 'Review']  # 가장 빠른 방법"
   ]
  },
  {
   "cell_type": "markdown",
   "metadata": {},
   "source": [
    "### 2.SettingWithCopyWarning\n",
    "* 아래 두가지 방법중에 하나는 정상적으로 동작하지 않는다."
   ]
  },
  {
   "cell_type": "code",
   "execution_count": null,
   "metadata": {},
   "outputs": [],
   "source": [
    "import warnings\n",
    "warnings.filterwarnings(action='ignore')\n",
    "\n",
    "df['Review'][0] = \"I Like Orange better.\"\n",
    "#df['Company'] = \"Orange\"\n",
    "df.head()\n",
    "\n",
    "df[df['Company'] == 'Apple']['Company'] = \"Orange\" "
   ]
  },
  {
   "cell_type": "markdown",
   "metadata": {},
   "source": [
    "#### 2.1 View v.s Copy"
   ]
  },
  {
   "cell_type": "code",
   "execution_count": null,
   "metadata": {},
   "outputs": [],
   "source": [
    "df[\"Review\"][0] = \"I like Orange better.\"\n",
    "# can be understood as\n",
    "#'df.__getitem__(\"Review\").__setitem__(0, \"I like Orange better.\")`"
   ]
  },
  {
   "cell_type": "code",
   "execution_count": null,
   "metadata": {},
   "outputs": [],
   "source": [
    "df[df[\"Company\"] == \"Apple\"][\"Company\"] = \"Orange\"\n",
    "# can be understood as\n",
    "df.__getitem__(where df[\"Company\"] == \"Apple\").__setitem__(\"Company\", \"Orange\")"
   ]
  },
  {
   "cell_type": "markdown",
   "metadata": {},
   "source": [
    "#### 2.2 Solution\n",
    "* 위와 같이 정상 작동이 안되는 경우가 발생하므로, 아래와 같은 방법을 사용하도록 권고한다."
   ]
  },
  {
   "cell_type": "code",
   "execution_count": null,
   "metadata": {},
   "outputs": [],
   "source": [
    "df.loc[df[\"Company\"]== \"Apple\", \"Company\"] = \"Orange\"\n",
    "df.tail()"
   ]
  },
  {
   "cell_type": "code",
   "execution_count": null,
   "metadata": {},
   "outputs": [],
   "source": [
    "df.loc[0, \"Review\"] = \"Orange is love for my life.\"\n",
    "df.head(n = 10)"
   ]
  },
  {
   "cell_type": "markdown",
   "metadata": {},
   "source": [
    "#### 2.2.1 raise an error"
   ]
  },
  {
   "cell_type": "code",
   "execution_count": null,
   "metadata": {},
   "outputs": [],
   "source": [
    "pd.set_option(\"mode.chained_assignment\", \"raise\")"
   ]
  },
  {
   "cell_type": "code",
   "execution_count": null,
   "metadata": {},
   "outputs": [],
   "source": [
    "# Running this will show you an Exception\n",
    "# 이렇게 쓰면 안된다고 에러를 낸다.\n",
    "# df[\"Review\"][0] = \"I like orange better\""
   ]
  },
  {
   "cell_type": "markdown",
   "metadata": {},
   "source": [
    "## 3.Indexing and slicing"
   ]
  },
  {
   "cell_type": "markdown",
   "metadata": {},
   "source": [
    "#### 3.1 .iloc[] : 위치기반 인덱스로 로우 선택"
   ]
  },
  {
   "cell_type": "code",
   "execution_count": null,
   "metadata": {},
   "outputs": [],
   "source": [
    "df.head(n =5)"
   ]
  },
  {
   "cell_type": "code",
   "execution_count": null,
   "metadata": {},
   "outputs": [],
   "source": [
    "df.iloc[3]"
   ]
  },
  {
   "cell_type": "code",
   "execution_count": null,
   "metadata": {},
   "outputs": [],
   "source": [
    "# selecting the last 6 rows\n",
    "df.iloc[-6:] "
   ]
  },
  {
   "cell_type": "code",
   "execution_count": null,
   "metadata": {},
   "outputs": [],
   "source": [
    "df.iloc[-6::2] # 2개씩 건너뛰고 보여줘."
   ]
  },
  {
   "cell_type": "markdown",
   "metadata": {},
   "source": [
    "#### 3.2. loc : 명칭기반 인덱스  혹은 불린 인덱싱 \n",
    "* boolean indexing\n",
    "* label명칭기반"
   ]
  },
  {
   "cell_type": "markdown",
   "metadata": {},
   "source": [
    "#### [boolean indexing] \n",
    "제안을 거절한 인터뷰 대상자를 뽑아 주세요."
   ]
  },
  {
   "cell_type": "code",
   "execution_count": null,
   "metadata": {},
   "outputs": [],
   "source": [
    "df.loc[df['Offer']=='Declined offer']"
   ]
  },
  {
   "cell_type": "code",
   "execution_count": null,
   "metadata": {},
   "outputs": [],
   "source": [
    "mask = df['Offer']=='Declined offer'\n",
    "mask\n",
    "df.loc[mask]"
   ]
  },
  {
   "cell_type": "markdown",
   "metadata": {},
   "source": [
    "#### labels로 뽑아오기 "
   ]
  },
  {
   "cell_type": "code",
   "execution_count": 15,
   "metadata": {},
   "outputs": [],
   "source": [
    "def attach_label(company):\n",
    "    hardware_companies = set([\"Orange\", \"Dell\", \"IBM\", \"Siemens\"])\n",
    "    if company in hardware_companies:\n",
    "        type = \"Hardware\"\n",
    "    else:\n",
    "        type = \"Software\"\n",
    "    return type"
   ]
  },
  {
   "cell_type": "code",
   "execution_count": 16,
   "metadata": {},
   "outputs": [
    {
     "name": "stdout",
     "output_type": "stream",
     "text": [
      "<class 'pandas.core.frame.DataFrame'>\n",
      "RangeIndex: 17654 entries, 0 to 17653\n",
      "Data columns (total 11 columns):\n",
      " #   Column      Non-Null Count  Dtype  \n",
      "---  ------      --------------  -----  \n",
      " 0   Company     17654 non-null  object \n",
      " 1   Title       17654 non-null  object \n",
      " 2   Job         17654 non-null  object \n",
      " 3   Level       17654 non-null  object \n",
      " 4   Date        17652 non-null  object \n",
      " 5   Upvotes     17654 non-null  int64  \n",
      " 6   Offer       17654 non-null  object \n",
      " 7   Experience  16365 non-null  float64\n",
      " 8   Difficulty  16376 non-null  object \n",
      " 9   Review      17654 non-null  object \n",
      " 10  Type        17654 non-null  object \n",
      "dtypes: float64(1), int64(1), object(9)\n",
      "memory usage: 1.5+ MB\n"
     ]
    },
    {
     "data": {
      "text/html": [
       "<div>\n",
       "<style scoped>\n",
       "    .dataframe tbody tr th:only-of-type {\n",
       "        vertical-align: middle;\n",
       "    }\n",
       "\n",
       "    .dataframe tbody tr th {\n",
       "        vertical-align: top;\n",
       "    }\n",
       "\n",
       "    .dataframe thead th {\n",
       "        text-align: right;\n",
       "    }\n",
       "</style>\n",
       "<table border=\"1\" class=\"dataframe\">\n",
       "  <thead>\n",
       "    <tr style=\"text-align: right;\">\n",
       "      <th></th>\n",
       "      <th>Company</th>\n",
       "      <th>Title</th>\n",
       "      <th>Job</th>\n",
       "      <th>Level</th>\n",
       "      <th>Date</th>\n",
       "      <th>Upvotes</th>\n",
       "      <th>Offer</th>\n",
       "      <th>Experience</th>\n",
       "      <th>Difficulty</th>\n",
       "      <th>Review</th>\n",
       "      <th>Type</th>\n",
       "    </tr>\n",
       "  </thead>\n",
       "  <tbody>\n",
       "    <tr>\n",
       "      <th>0</th>\n",
       "      <td>Apple</td>\n",
       "      <td>Software Engineer</td>\n",
       "      <td>Software Engineer</td>\n",
       "      <td>Engineer</td>\n",
       "      <td>Aug 7, 2019</td>\n",
       "      <td>0</td>\n",
       "      <td>No offer</td>\n",
       "      <td>0.0</td>\n",
       "      <td>Medium</td>\n",
       "      <td>Application  I applied through a staffing agen...</td>\n",
       "      <td>Software</td>\n",
       "    </tr>\n",
       "    <tr>\n",
       "      <th>1</th>\n",
       "      <td>Apple</td>\n",
       "      <td>Software Engineer</td>\n",
       "      <td>Software Engineer</td>\n",
       "      <td>Engineer</td>\n",
       "      <td>Aug 8, 2019</td>\n",
       "      <td>0</td>\n",
       "      <td>Accepted offer</td>\n",
       "      <td>1.0</td>\n",
       "      <td>Hard</td>\n",
       "      <td>Application  I applied online. The process too...</td>\n",
       "      <td>Software</td>\n",
       "    </tr>\n",
       "    <tr>\n",
       "      <th>2</th>\n",
       "      <td>Apple</td>\n",
       "      <td>Software Engineer</td>\n",
       "      <td>Software Engineer</td>\n",
       "      <td>Engineer</td>\n",
       "      <td>NaN</td>\n",
       "      <td>0</td>\n",
       "      <td>Declined offer</td>\n",
       "      <td>0.0</td>\n",
       "      <td>Medium</td>\n",
       "      <td>Application  The process took 4 weeks. I inter...</td>\n",
       "      <td>Software</td>\n",
       "    </tr>\n",
       "    <tr>\n",
       "      <th>3</th>\n",
       "      <td>Apple</td>\n",
       "      <td>Software Engineer</td>\n",
       "      <td>Software Engineer</td>\n",
       "      <td>Engineer</td>\n",
       "      <td>NaN</td>\n",
       "      <td>9</td>\n",
       "      <td>Declined offer</td>\n",
       "      <td>-1.0</td>\n",
       "      <td>Medium</td>\n",
       "      <td>Application  The process took a week. I interv...</td>\n",
       "      <td>Software</td>\n",
       "    </tr>\n",
       "    <tr>\n",
       "      <th>4</th>\n",
       "      <td>Apple</td>\n",
       "      <td>Software Engineer</td>\n",
       "      <td>Software Engineer</td>\n",
       "      <td>Engineer</td>\n",
       "      <td>May 29, 2009</td>\n",
       "      <td>2</td>\n",
       "      <td>No offer</td>\n",
       "      <td>0.0</td>\n",
       "      <td>Medium</td>\n",
       "      <td>Application  I applied through an employee ref...</td>\n",
       "      <td>Software</td>\n",
       "    </tr>\n",
       "  </tbody>\n",
       "</table>\n",
       "</div>"
      ],
      "text/plain": [
       "  Company              Title                Job     Level          Date  \\\n",
       "0   Apple  Software Engineer  Software Engineer  Engineer   Aug 7, 2019   \n",
       "1   Apple  Software Engineer  Software Engineer  Engineer   Aug 8, 2019   \n",
       "2   Apple  Software Engineer  Software Engineer  Engineer           NaN   \n",
       "3   Apple  Software Engineer  Software Engineer  Engineer           NaN   \n",
       "4   Apple  Software Engineer  Software Engineer  Engineer  May 29, 2009   \n",
       "\n",
       "   Upvotes           Offer  Experience Difficulty  \\\n",
       "0        0        No offer         0.0     Medium   \n",
       "1        0  Accepted offer         1.0       Hard   \n",
       "2        0  Declined offer         0.0     Medium   \n",
       "3        9  Declined offer        -1.0     Medium   \n",
       "4        2        No offer         0.0     Medium   \n",
       "\n",
       "                                              Review      Type  \n",
       "0  Application  I applied through a staffing agen...  Software  \n",
       "1  Application  I applied online. The process too...  Software  \n",
       "2  Application  The process took 4 weeks. I inter...  Software  \n",
       "3  Application  The process took a week. I interv...  Software  \n",
       "4  Application  I applied through an employee ref...  Software  "
      ]
     },
     "execution_count": 16,
     "metadata": {},
     "output_type": "execute_result"
    }
   ],
   "source": [
    "df[\"Type\"] = df['Company'].apply(lambda x:attach_label(x))\n",
    "df.info()\n",
    "df.head()"
   ]
  },
  {
   "cell_type": "code",
   "execution_count": null,
   "metadata": {},
   "outputs": [],
   "source": [
    "df['Type'].value_counts()"
   ]
  },
  {
   "cell_type": "code",
   "execution_count": null,
   "metadata": {},
   "outputs": [],
   "source": [
    "df.head()"
   ]
  },
  {
   "cell_type": "code",
   "execution_count": 17,
   "metadata": {},
   "outputs": [],
   "source": [
    "df = df.set_index(keys = \"Type\")"
   ]
  },
  {
   "cell_type": "code",
   "execution_count": null,
   "metadata": {},
   "outputs": [],
   "source": [
    "df.head()"
   ]
  },
  {
   "cell_type": "code",
   "execution_count": null,
   "metadata": {},
   "outputs": [],
   "source": [
    "df.loc[\"Hardware\"]"
   ]
  },
  {
   "cell_type": "code",
   "execution_count": 18,
   "metadata": {},
   "outputs": [],
   "source": [
    "df.reset_index(drop = True, inplace = True)"
   ]
  },
  {
   "cell_type": "code",
   "execution_count": null,
   "metadata": {},
   "outputs": [],
   "source": [
    "df.head()"
   ]
  },
  {
   "cell_type": "markdown",
   "metadata": {},
   "source": [
    "#### Slicing series"
   ]
  },
  {
   "cell_type": "code",
   "execution_count": null,
   "metadata": {},
   "outputs": [],
   "source": [
    "series_com = df.Company"
   ]
  },
  {
   "cell_type": "code",
   "execution_count": null,
   "metadata": {},
   "outputs": [],
   "source": [
    "series_com.index"
   ]
  },
  {
   "cell_type": "code",
   "execution_count": null,
   "metadata": {},
   "outputs": [],
   "source": [
    "series_com[16900: 17000] # make sure that the end point would be exluded in the result set."
   ]
  },
  {
   "cell_type": "markdown",
   "metadata": {},
   "source": [
    "### 4. Acceessor"
   ]
  },
  {
   "cell_type": "markdown",
   "metadata": {},
   "source": [
    "#### 4.1 .str 내장함수를 이용한 문자열 다루기"
   ]
  },
  {
   "cell_type": "code",
   "execution_count": null,
   "metadata": {},
   "outputs": [],
   "source": [
    "# Review를 소문자로 보여줄까?\n",
    "df.loc[:,'Review'].str.lower()"
   ]
  },
  {
   "cell_type": "code",
   "execution_count": 19,
   "metadata": {},
   "outputs": [],
   "source": [
    "df['The_Longest_Review'] = df.loc[:,\"Review\"].str.len()"
   ]
  },
  {
   "cell_type": "markdown",
   "metadata": {},
   "source": [
    "#### 가장 할 얘기가 많았던 회사는 어디 일까?"
   ]
  },
  {
   "cell_type": "code",
   "execution_count": 20,
   "metadata": {},
   "outputs": [
    {
     "data": {
      "text/html": [
       "<div>\n",
       "<style scoped>\n",
       "    .dataframe tbody tr th:only-of-type {\n",
       "        vertical-align: middle;\n",
       "    }\n",
       "\n",
       "    .dataframe tbody tr th {\n",
       "        vertical-align: top;\n",
       "    }\n",
       "\n",
       "    .dataframe thead th {\n",
       "        text-align: right;\n",
       "    }\n",
       "</style>\n",
       "<table border=\"1\" class=\"dataframe\">\n",
       "  <thead>\n",
       "    <tr style=\"text-align: right;\">\n",
       "      <th></th>\n",
       "      <th>Company</th>\n",
       "      <th>Title</th>\n",
       "      <th>Job</th>\n",
       "      <th>Level</th>\n",
       "      <th>Date</th>\n",
       "      <th>Upvotes</th>\n",
       "      <th>Offer</th>\n",
       "      <th>Experience</th>\n",
       "      <th>Difficulty</th>\n",
       "      <th>Review</th>\n",
       "      <th>The_Longest_Review</th>\n",
       "    </tr>\n",
       "  </thead>\n",
       "  <tbody>\n",
       "    <tr>\n",
       "      <th>6077</th>\n",
       "      <td>Google</td>\n",
       "      <td>Software Engineer</td>\n",
       "      <td>Software Engineer</td>\n",
       "      <td>Engineer</td>\n",
       "      <td>Apr 12, 2015</td>\n",
       "      <td>17</td>\n",
       "      <td>Accepted offer</td>\n",
       "      <td>0.0</td>\n",
       "      <td>Hard</td>\n",
       "      <td>Application  I applied online. The process too...</td>\n",
       "      <td>6623</td>\n",
       "    </tr>\n",
       "  </tbody>\n",
       "</table>\n",
       "</div>"
      ],
      "text/plain": [
       "     Company              Title                Job     Level          Date  \\\n",
       "6077  Google  Software Engineer  Software Engineer  Engineer  Apr 12, 2015   \n",
       "\n",
       "      Upvotes           Offer  Experience Difficulty  \\\n",
       "6077       17  Accepted offer         0.0       Hard   \n",
       "\n",
       "                                                 Review  The_Longest_Review  \n",
       "6077  Application  I applied online. The process too...                6623  "
      ]
     },
     "execution_count": 20,
     "metadata": {},
     "output_type": "execute_result"
    }
   ],
   "source": [
    "MaxHit = df['The_Longest_Review'].max()\n",
    "df.loc[df['The_Longest_Review']== MaxHit]"
   ]
  },
  {
   "cell_type": "markdown",
   "metadata": {},
   "source": [
    "#### 인터뷰 일정을 새로히 표현해보면."
   ]
  },
  {
   "cell_type": "code",
   "execution_count": 21,
   "metadata": {},
   "outputs": [],
   "source": [
    "df.loc[df[\"Review\"].str.contains(\"days\"), \"Process\"] = \"Short\"\n",
    "df.loc[df[\"Review\"].str.contains(\"week\"), \"Process\"] = \"Average\"\n",
    "df.loc[df[\"Review\"].str.contains(\"month|[4-9]+[^ ]* weeks|[1-9]\\d{1,}[^ ]* weeks\"), \"Process\"] = \"Long\""
   ]
  },
  {
   "cell_type": "code",
   "execution_count": null,
   "metadata": {},
   "outputs": [],
   "source": [
    "df[df.Process.isna()][[\"Review\", \"Process\"]]"
   ]
  },
  {
   "cell_type": "markdown",
   "metadata": {},
   "source": [
    "#### Review를 보고 싶은데 짤린다면..길게 보자"
   ]
  },
  {
   "cell_type": "code",
   "execution_count": 22,
   "metadata": {},
   "outputs": [
    {
     "data": {
      "text/html": [
       "<div>\n",
       "<style scoped>\n",
       "    .dataframe tbody tr th:only-of-type {\n",
       "        vertical-align: middle;\n",
       "    }\n",
       "\n",
       "    .dataframe tbody tr th {\n",
       "        vertical-align: top;\n",
       "    }\n",
       "\n",
       "    .dataframe thead th {\n",
       "        text-align: right;\n",
       "    }\n",
       "</style>\n",
       "<table border=\"1\" class=\"dataframe\">\n",
       "  <thead>\n",
       "    <tr style=\"text-align: right;\">\n",
       "      <th></th>\n",
       "      <th>Review</th>\n",
       "      <th>Process</th>\n",
       "    </tr>\n",
       "  </thead>\n",
       "  <tbody>\n",
       "    <tr>\n",
       "      <th>0</th>\n",
       "      <td>Application  I applied through a staffing agency. I interviewed at Apple (Sunnyvale, CA) in Marc...</td>\n",
       "      <td>NaN</td>\n",
       "    </tr>\n",
       "    <tr>\n",
       "      <th>4</th>\n",
       "      <td>Application  I applied through an employee referral. The process took 1 day. I interviewed at Ap...</td>\n",
       "      <td>NaN</td>\n",
       "    </tr>\n",
       "    <tr>\n",
       "      <th>8</th>\n",
       "      <td>Application  I applied online. I interviewed at Apple.  Interview  1. introduce yourself. decryp...</td>\n",
       "      <td>NaN</td>\n",
       "    </tr>\n",
       "    <tr>\n",
       "      <th>11</th>\n",
       "      <td>Interview  Phone interview then onsite interview. Phone was pretty easy and onsite included only...</td>\n",
       "      <td>NaN</td>\n",
       "    </tr>\n",
       "    <tr>\n",
       "      <th>12</th>\n",
       "      <td>Interview  I got two phone interviews, one is non-technical interview and the other is a technic...</td>\n",
       "      <td>NaN</td>\n",
       "    </tr>\n",
       "    <tr>\n",
       "      <th>...</th>\n",
       "      <td>...</td>\n",
       "      <td>...</td>\n",
       "    </tr>\n",
       "    <tr>\n",
       "      <th>17644</th>\n",
       "      <td>Interview  Introduce myself, talk about the projects I did in the past, and ask some basic quest...</td>\n",
       "      <td>NaN</td>\n",
       "    </tr>\n",
       "    <tr>\n",
       "      <th>17646</th>\n",
       "      <td>Application  I applied through an employee referral. The process took 1 day. I interviewed at Te...</td>\n",
       "      <td>NaN</td>\n",
       "    </tr>\n",
       "    <tr>\n",
       "      <th>17650</th>\n",
       "      <td>Application  I applied through college or university. I interviewed at Tencent.  Interview  Prof...</td>\n",
       "      <td>NaN</td>\n",
       "    </tr>\n",
       "    <tr>\n",
       "      <th>17651</th>\n",
       "      <td>Application  I applied through college or university. The process took 1 day. I interviewed at T...</td>\n",
       "      <td>NaN</td>\n",
       "    </tr>\n",
       "    <tr>\n",
       "      <th>17652</th>\n",
       "      <td>Application  I applied through college or university. I interviewed at Tencent (London, England ...</td>\n",
       "      <td>NaN</td>\n",
       "    </tr>\n",
       "  </tbody>\n",
       "</table>\n",
       "<p>5493 rows × 2 columns</p>\n",
       "</div>"
      ],
      "text/plain": [
       "                                                                                                    Review  \\\n",
       "0      Application  I applied through a staffing agency. I interviewed at Apple (Sunnyvale, CA) in Marc...   \n",
       "4      Application  I applied through an employee referral. The process took 1 day. I interviewed at Ap...   \n",
       "8      Application  I applied online. I interviewed at Apple.  Interview  1. introduce yourself. decryp...   \n",
       "11     Interview  Phone interview then onsite interview. Phone was pretty easy and onsite included only...   \n",
       "12     Interview  I got two phone interviews, one is non-technical interview and the other is a technic...   \n",
       "...                                                                                                    ...   \n",
       "17644  Interview  Introduce myself, talk about the projects I did in the past, and ask some basic quest...   \n",
       "17646  Application  I applied through an employee referral. The process took 1 day. I interviewed at Te...   \n",
       "17650  Application  I applied through college or university. I interviewed at Tencent.  Interview  Prof...   \n",
       "17651  Application  I applied through college or university. The process took 1 day. I interviewed at T...   \n",
       "17652  Application  I applied through college or university. I interviewed at Tencent (London, England ...   \n",
       "\n",
       "      Process  \n",
       "0         NaN  \n",
       "4         NaN  \n",
       "8         NaN  \n",
       "11        NaN  \n",
       "12        NaN  \n",
       "...       ...  \n",
       "17644     NaN  \n",
       "17646     NaN  \n",
       "17650     NaN  \n",
       "17651     NaN  \n",
       "17652     NaN  \n",
       "\n",
       "[5493 rows x 2 columns]"
      ]
     },
     "execution_count": 22,
     "metadata": {},
     "output_type": "execute_result"
    }
   ],
   "source": [
    "pd.set_option('display.max_colwidth', 100)\n",
    "df[df.Process.isna()][[\"Review\", \"Process\"]]"
   ]
  },
  {
   "cell_type": "code",
   "execution_count": null,
   "metadata": {},
   "outputs": [],
   "source": [
    "# str accessor로 쓸수 있는 API\n",
    "pd.Series.str.__dict__.keys()"
   ]
  },
  {
   "cell_type": "markdown",
   "metadata": {},
   "source": [
    "#### 4.2 기타 다른 accessor\n",
    "* `.dt` : date format관련\n",
    "* `.cat` : 범주형 데이터 처리\n",
    "* `.sparse` : sparse matricx"
   ]
  },
  {
   "cell_type": "code",
   "execution_count": null,
   "metadata": {},
   "outputs": [],
   "source": [
    "pd.Series._accessors"
   ]
  },
  {
   "cell_type": "markdown",
   "metadata": {},
   "source": [
    "## 5. EDA"
   ]
  },
  {
   "cell_type": "markdown",
   "metadata": {},
   "source": [
    "### 5.1 .tail(), .head(), describe(), .info()"
   ]
  },
  {
   "cell_type": "code",
   "execution_count": null,
   "metadata": {},
   "outputs": [],
   "source": [
    "df.tail(n = 3)"
   ]
  },
  {
   "cell_type": "code",
   "execution_count": null,
   "metadata": {},
   "outputs": [],
   "source": [
    "df.describe()"
   ]
  },
  {
   "cell_type": "code",
   "execution_count": null,
   "metadata": {},
   "outputs": [],
   "source": [
    "df.info()"
   ]
  },
  {
   "cell_type": "code",
   "execution_count": null,
   "metadata": {},
   "outputs": [],
   "source": [
    "# 데이터프레임이 차지하고 있는 공간 확인\n",
    "import sys\n",
    "df.apply(sys.getsizeof)"
   ]
  },
  {
   "cell_type": "markdown",
   "metadata": {},
   "source": [
    "### 5.2 중복되지 않는 값에 대한 갯수 nunique()"
   ]
  },
  {
   "cell_type": "code",
   "execution_count": null,
   "metadata": {},
   "outputs": [],
   "source": [
    "df.Company.nunique()"
   ]
  },
  {
   "cell_type": "code",
   "execution_count": null,
   "metadata": {},
   "outputs": [],
   "source": [
    "df.Company.value_counts()"
   ]
  },
  {
   "cell_type": "markdown",
   "metadata": {},
   "source": [
    "### 5.3 Plotting\n",
    "* [seaborn이용한 시각화](https://jakevdp.github.io/PythonDataScienceHandbook/04.14-visualization-with-seaborn.html)\n",
    "* [Pandas Plot](https://realpython.com/pandas-plot-python/)"
   ]
  },
  {
   "cell_type": "code",
   "execution_count": 23,
   "metadata": {},
   "outputs": [
    {
     "data": {
      "text/plain": [
       "Company  Process\n",
       "Adobe    Average     57\n",
       "         Long        39\n",
       "         Short       37\n",
       "Airbnb   Average    107\n",
       "         Long        51\n",
       "                   ... \n",
       "Yelp     Long        87\n",
       "         Short       23\n",
       "eBay     Average     53\n",
       "         Long        32\n",
       "         Short       11\n",
       "Length: 84, dtype: int64"
      ]
     },
     "execution_count": 23,
     "metadata": {},
     "output_type": "execute_result"
    }
   ],
   "source": [
    "df.groupby([\"Company\", \"Process\"]).size()"
   ]
  },
  {
   "cell_type": "code",
   "execution_count": 24,
   "metadata": {},
   "outputs": [
    {
     "data": {
      "text/plain": [
       "<matplotlib.axes._subplots.AxesSubplot at 0x99af5a6af0>"
      ]
     },
     "execution_count": 24,
     "metadata": {},
     "output_type": "execute_result"
    },
    {
     "data": {
      "image/png": "[encoded data removed]",
      "text/plain": [
       "<Figure size 1080x576 with 1 Axes>"
      ]
     },
     "metadata": {
      "needs_background": "light"
     },
     "output_type": "display_data"
    }
   ],
   "source": [
    "df.groupby([\"Company\", \"Process\"]).size().unstack(level=1).plot(kind=\"bar\", figsize=(15, 8))"
   ]
  }
 ],
 "metadata": {
  "kernelspec": {
   "display_name": "Python 3",
   "language": "python",
   "name": "python3"
  },
  "language_info": {
   "codemirror_mode": {
    "name": "ipython",
    "version": 3
   },
   "file_extension": ".py",
   "mimetype": "text/x-python",
   "name": "python",
   "nbconvert_exporter": "python",
   "pygments_lexer": "ipython3",
   "version": "3.8.3"
  }
 },
 "nbformat": 4,
 "nbformat_minor": 4
}
