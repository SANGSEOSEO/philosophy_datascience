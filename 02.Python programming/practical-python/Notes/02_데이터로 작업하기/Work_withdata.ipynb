{
 "cells": [
  {
   "cell_type": "markdown",
   "metadata": {},
   "source": [
    "# 2. 데이터로 작업하기\n",
    "\n",
    "- [2.1 자료형과 자료 구조](#2.1-자료형과-자료-구조)\n",
    "- [2.2 컨테이너](#2.2-컨테이너)\n",
    "- [2.3 출력 포매팅](#2.3-포맷팅)\n",
    "- [2.4 시퀀스](#2.4-시퀀스)\n",
    "- [2.5 collections 모듈](#2.5-collections모듈)"
   ]
  },
  {
   "cell_type": "markdown",
   "metadata": {},
   "source": [
    "## 2-1 기본 자료형\n",
    "파이썬에는 몇 가지 기본 자료형이 있다.\n",
    "\n",
    "- 정수\n",
    "- 부동소수점수\n",
    "- 문자열(텍스트)"
   ]
  },
  {
   "cell_type": "markdown",
   "metadata": {},
   "source": [
    "### None Type"
   ]
  },
  {
   "cell_type": "code",
   "execution_count": 1,
   "metadata": {},
   "outputs": [],
   "source": [
    "email_address  = None"
   ]
  },
  {
   "cell_type": "markdown",
   "metadata": {},
   "source": [
    "`None`은 주로 선택값 혹은 널값 표시.조건절에서는 `False`로 판단함."
   ]
  },
  {
   "cell_type": "code",
   "execution_count": 2,
   "metadata": {},
   "outputs": [],
   "source": [
    "if email_address:\n",
    "    send_email(email_address, msg)"
   ]
  },
  {
   "cell_type": "code",
   "execution_count": 3,
   "metadata": {},
   "outputs": [],
   "source": [
    "def send_email(mail, msg):\n",
    "    pass"
   ]
  },
  {
   "cell_type": "markdown",
   "metadata": {},
   "source": [
    "### 자료형"
   ]
  },
  {
   "cell_type": "markdown",
   "metadata": {},
   "source": [
    "실제 프로그래이 환경에서는 훨씬 더 복잡한 데이터를 사용한다. 주식보유 데이터을 예를 들어보겠다."
   ]
  },
  {
   "cell_type": "markdown",
   "metadata": {},
   "source": [
    "구글(GOOG) 주식을 490.10 달러에 100주 보유"
   ]
  },
  {
   "cell_type": "markdown",
   "metadata": {},
   "source": [
    "이 \"객체\"는 세 부분으로 구성된다.\n",
    "\n",
    "- 종목명 또는 심벌(문자열 \"GOOG\")\n",
    "- 주식 수(정수 100)\n",
    "- 가격(부동소수점수 490.10)"
   ]
  },
  {
   "cell_type": "markdown",
   "metadata": {},
   "source": [
    "### 튜플(Tuple)\n",
    "튜플은 함께 묶인 값의 컬렉션이며, 변경불가능(immutable)한 데이터 타입\n",
    "\n",
    "예:"
   ]
  },
  {
   "cell_type": "code",
   "execution_count": 4,
   "metadata": {},
   "outputs": [
    {
     "data": {
      "text/plain": [
       "tuple"
      ]
     },
     "execution_count": 4,
     "metadata": {},
     "output_type": "execute_result"
    }
   ],
   "source": [
    "s = ('GOOG', 100, 490.1)\n",
    "type(s)"
   ]
  },
  {
   "cell_type": "code",
   "execution_count": 5,
   "metadata": {},
   "outputs": [
    {
     "data": {
      "text/plain": [
       "tuple"
      ]
     },
     "execution_count": 5,
     "metadata": {},
     "output_type": "execute_result"
    }
   ],
   "source": [
    "s1 = 'GOOG', 100, 490.1\n",
    "type(s1)"
   ]
  },
  {
   "cell_type": "code",
   "execution_count": 6,
   "metadata": {},
   "outputs": [],
   "source": [
    "t = ()\n",
    "t1 = ('GOOD',)  # 튜플은 항상 가로를 사용한다면 콤마가 있어야 함"
   ]
  },
  {
   "cell_type": "markdown",
   "metadata": {},
   "source": [
    "\"A tuple is like a single row in a database table\""
   ]
  },
  {
   "cell_type": "code",
   "execution_count": 7,
   "metadata": {},
   "outputs": [
    {
     "data": {
      "text/plain": [
       "('GOOG', 100, 490.1)"
      ]
     },
     "execution_count": 7,
     "metadata": {},
     "output_type": "execute_result"
    }
   ],
   "source": [
    "s[0], s[1], s[2]"
   ]
  },
  {
   "cell_type": "code",
   "execution_count": 8,
   "metadata": {},
   "outputs": [
    {
     "ename": "TypeError",
     "evalue": "'tuple' object does not support item assignment",
     "output_type": "error",
     "traceback": [
      "\u001b[1;31m---------------------------------------------------------------------------\u001b[0m",
      "\u001b[1;31mTypeError\u001b[0m                                 Traceback (most recent call last)",
      "\u001b[1;32m<ipython-input-8-861c43cc21db>\u001b[0m in \u001b[0;36m<module>\u001b[1;34m\u001b[0m\n\u001b[1;32m----> 1\u001b[1;33m \u001b[0ms\u001b[0m\u001b[1;33m[\u001b[0m\u001b[1;36m1\u001b[0m\u001b[1;33m]\u001b[0m \u001b[1;33m=\u001b[0m \u001b[1;36m500\u001b[0m  \u001b[1;31m# TypeError: 'tuple' object does not support item assignmen\u001b[0m\u001b[1;33m\u001b[0m\u001b[1;33m\u001b[0m\u001b[0m\n\u001b[0m",
      "\u001b[1;31mTypeError\u001b[0m: 'tuple' object does not support item assignment"
     ]
    }
   ],
   "source": [
    "s[1] = 500  # TypeError: 'tuple' object does not support item assignmen"
   ]
  },
  {
   "cell_type": "markdown",
   "metadata": {},
   "source": [
    "### 튜플로 묶기(packing)\n",
    "튜플은 서로 관련된 항목들을 단일 엔티티(entity)로 묶는 역할을 한다."
   ]
  },
  {
   "cell_type": "code",
   "execution_count": null,
   "metadata": {},
   "outputs": [],
   "source": [
    "s = ('GOOG', 100, 490.1)"
   ]
  },
  {
   "cell_type": "markdown",
   "metadata": {},
   "source": [
    "### 튜플을 풀기(unpacking)\n",
    "튜플을 전달받은 후에는 풀어서 각각의 변수를 사용할 수 있다. 혹은 언팩킹이라고 함."
   ]
  },
  {
   "cell_type": "code",
   "execution_count": null,
   "metadata": {},
   "outputs": [],
   "source": [
    "name, shares, prcies = s\n",
    "display(name, shares, prcies)"
   ]
  },
  {
   "cell_type": "markdown",
   "metadata": {},
   "source": [
    "왼쪽의 변수 개수가 튜플 구조와 일치해야 한다."
   ]
  },
  {
   "cell_type": "code",
   "execution_count": null,
   "metadata": {},
   "outputs": [],
   "source": [
    "name, shares = s     # 오류"
   ]
  },
  {
   "cell_type": "markdown",
   "metadata": {},
   "source": [
    "### 튜플 vs. 리스트\n",
    "튜플은 읽기 전용 리스트처럼 보인다. 그러나, 튜플의 주된 용도는 여러 부분으로 구성된 단일 항목으로서 사용하는 것이다. 리스트는 고유한 항목들의 컬렉션으로 사용되며, 이때 모든 항목이 같은 타입인 경우가 많다."
   ]
  },
  {
   "cell_type": "code",
   "execution_count": null,
   "metadata": {},
   "outputs": [],
   "source": [
    "record = ('GOOG', 100, 490.1)       # 포트폴리오의 한 레코드를 나타내는 튜플\n",
    "\n",
    "symbols = [ 'GOOG', 'AAPL', 'IBM' ]  # 세 가지 주식 심벌을 나타내는 리스트"
   ]
  },
  {
   "cell_type": "markdown",
   "metadata": {},
   "source": [
    "### 딕셔너리(Dictionary)\n",
    "딕셔너리는 키(key)를 값(value)에 대응(mapping)시킨다. 해시 테이블(hash table) 또는 연관 배열(associative array)이라고도 부른다. 키는 값에 접근하는 인덱스 역할을 한다."
   ]
  },
  {
   "cell_type": "code",
   "execution_count": null,
   "metadata": {},
   "outputs": [],
   "source": [
    "s_dict = {\n",
    "    'name':'GOOG',\n",
    "    'shares': 100,\n",
    "    'price': 490.1\n",
    "}"
   ]
  },
  {
   "cell_type": "code",
   "execution_count": null,
   "metadata": {},
   "outputs": [],
   "source": [
    "display(s_dict['name'], s_dict['shares'])"
   ]
  },
  {
   "cell_type": "markdown",
   "metadata": {},
   "source": [
    "값 추가 혹은 수정"
   ]
  },
  {
   "cell_type": "code",
   "execution_count": null,
   "metadata": {},
   "outputs": [],
   "source": [
    "s_dict['shares'] = 250\n",
    "s_dict['date'] = '2020-10-01'"
   ]
  },
  {
   "cell_type": "code",
   "execution_count": null,
   "metadata": {},
   "outputs": [],
   "source": [
    "s_dict"
   ]
  },
  {
   "cell_type": "markdown",
   "metadata": {},
   "source": [
    "- 값을 삭제하는 경우엔"
   ]
  },
  {
   "cell_type": "code",
   "execution_count": null,
   "metadata": {},
   "outputs": [],
   "source": [
    "del s_dict['date']"
   ]
  },
  {
   "cell_type": "code",
   "execution_count": null,
   "metadata": {},
   "outputs": [],
   "source": [
    "s_dict"
   ]
  },
  {
   "cell_type": "markdown",
   "metadata": {},
   "source": [
    "### 연습문제"
   ]
  },
  {
   "cell_type": "code",
   "execution_count": null,
   "metadata": {},
   "outputs": [],
   "source": [
    "import csv\n",
    "\n",
    "with open(\"../../Work/Data/portfolio.csv\", \"rt\") as f:\n",
    "    rows = csv.reader(f)\n",
    "    next(rows)\n",
    "    \n",
    "    for row in rows:\n",
    "        print(row)  # 내부적으로 next()ㄹ르 호출함."
   ]
  },
  {
   "cell_type": "code",
   "execution_count": null,
   "metadata": {},
   "outputs": [],
   "source": [
    "f = open(\"../../Work/Data/portfolio.csv\", \"rt\")\n",
    "rows = csv.reader(f)\n",
    "row = next(rows)\n",
    "\n",
    "row = next(rows)\n",
    "row"
   ]
  },
  {
   "cell_type": "code",
   "execution_count": null,
   "metadata": {},
   "outputs": [],
   "source": [
    "row[1] * row[2]   #### TypeError: can't multiply sequence by non-int of type 'str'"
   ]
  },
  {
   "cell_type": "markdown",
   "metadata": {},
   "source": [
    "추가적인 연산작업을 위한다면 리스트 타입보다는 다른 형태인 dictionary혹은 튜플타입으로 변경하는 것이 필요."
   ]
  },
  {
   "cell_type": "markdown",
   "metadata": {},
   "source": [
    "#### 튜플"
   ]
  },
  {
   "cell_type": "code",
   "execution_count": null,
   "metadata": {},
   "outputs": [],
   "source": [
    "t = (row[0], int(row[1]), float(row[2]))\n",
    "t"
   ]
  },
  {
   "cell_type": "markdown",
   "metadata": {},
   "source": [
    "자!! 이제는 계산이 가능하다."
   ]
  },
  {
   "cell_type": "code",
   "execution_count": null,
   "metadata": {},
   "outputs": [],
   "source": [
    "cost = t[1] * t[2]\n",
    "cost"
   ]
  },
  {
   "cell_type": "markdown",
   "metadata": {},
   "source": [
    "컴퓨터의 부동소수점 하드웨어로 계산한 결과다. 십진수(decimal)를 십진법(Base-10)이 아니라 이진법(Base-2)으로 표현하기 때문에 이런 결과가 나왔다. 간단한 계산이라 할지라도, 십진수와 관련된 계산에는 작은 오류가 발생한다. 처음 본다면 놀라울 수 있겠지만, 이것은 정상적인 작동이다."
   ]
  },
  {
   "cell_type": "code",
   "execution_count": null,
   "metadata": {},
   "outputs": [],
   "source": [
    "print(f\"{cost:.2f}\")  # 이렇게 숨길수도있어요."
   ]
  },
  {
   "cell_type": "markdown",
   "metadata": {},
   "source": [
    "#### 딕셔너리"
   ]
  },
  {
   "cell_type": "code",
   "execution_count": null,
   "metadata": {},
   "outputs": [],
   "source": [
    "d = {\n",
    "        'name' : row[0],\n",
    "        'shares' : int(row[1]),\n",
    "        'price'  : float(row[2])\n",
    "    }"
   ]
  },
  {
   "cell_type": "code",
   "execution_count": null,
   "metadata": {},
   "outputs": [],
   "source": [
    "d"
   ]
  },
  {
   "cell_type": "code",
   "execution_count": null,
   "metadata": {},
   "outputs": [],
   "source": [
    "cost = d['shares'] * d['price']\n",
    "cost"
   ]
  },
  {
   "cell_type": "code",
   "execution_count": null,
   "metadata": {},
   "outputs": [],
   "source": [
    "d['shares'] = 75"
   ]
  },
  {
   "cell_type": "code",
   "execution_count": null,
   "metadata": {},
   "outputs": [],
   "source": [
    "cost = d['shares'] * d['price']\n",
    "cost"
   ]
  },
  {
   "cell_type": "code",
   "execution_count": null,
   "metadata": {},
   "outputs": [],
   "source": [
    "d['date'] = (2, 18, 2021)\n",
    "d"
   ]
  },
  {
   "cell_type": "markdown",
   "metadata": {},
   "source": [
    "#### 추가적인 딕셔너리 연산\n",
    "딕셔너리를 리스트로 변환하면 전체 키를 얻는다."
   ]
  },
  {
   "cell_type": "code",
   "execution_count": null,
   "metadata": {},
   "outputs": [],
   "source": [
    "list(d.items())  # 키와 값을 매핑해서 가져옴."
   ]
  },
  {
   "cell_type": "code",
   "execution_count": null,
   "metadata": {},
   "outputs": [],
   "source": [
    "list(d) # 키만 가져옴"
   ]
  },
  {
   "cell_type": "code",
   "execution_count": null,
   "metadata": {},
   "outputs": [],
   "source": [
    "list(d.values())  # 값만 가져오기"
   ]
  },
  {
   "cell_type": "code",
   "execution_count": null,
   "metadata": {},
   "outputs": [],
   "source": [
    "for k in d:\n",
    "    print('k =', k)"
   ]
  },
  {
   "cell_type": "code",
   "execution_count": null,
   "metadata": {},
   "outputs": [],
   "source": [
    "for k in d.keys():\n",
    "    print(k)"
   ]
  },
  {
   "cell_type": "code",
   "execution_count": null,
   "metadata": {},
   "outputs": [],
   "source": [
    "d.keys()"
   ]
  },
  {
   "cell_type": "code",
   "execution_count": null,
   "metadata": {},
   "outputs": [],
   "source": [
    "for k, v in d.items():\n",
    "    print(f'키값은 {k} 이고 값은 {v}입니다')"
   ]
  },
  {
   "cell_type": "markdown",
   "metadata": {},
   "source": [
    "### 2.2 컨테이너\n",
    "* 이 섹션은 리스트, 딕셔너리, 세트를 논한다."
   ]
  },
  {
   "cell_type": "markdown",
   "metadata": {},
   "source": [
    "#### 개요\n",
    "프로그램에서 많은 수의 객체를 다뤄야할 때가 있다.\n",
    "* 주식포트폴리오\n",
    "* 주식가격 테이블"
   ]
  },
  {
   "cell_type": "markdown",
   "metadata": {},
   "source": [
    "세가지 선택사항이 있다.\n",
    "- 리스트 : 순가 유지되는 ordered dict\n",
    "- 딕셔너리 : 순서가 없는 데이터\n",
    "- 세트     : 고유한 항목의 집합이면 순서가 없음."
   ]
  },
  {
   "cell_type": "markdown",
   "metadata": {},
   "source": [
    "#### 컨테이너로서의 리스트\n",
    "데이터으시 순서가 중요할 때는 리스트를 사용.어떤 유형의 객체든 담을수있다"
   ]
  },
  {
   "cell_type": "code",
   "execution_count": null,
   "metadata": {},
   "outputs": [],
   "source": [
    "portpolio = [\n",
    "    ('GOOG',100, 490.1),\n",
    "    ('IBM', 50, 91.3),\n",
    "    ('CAT', 150, 83.44)\n",
    "]\n",
    "\n",
    "portpolio[0], portpolio[1], portpolio[0][0]"
   ]
  },
  {
   "cell_type": "markdown",
   "metadata": {},
   "source": [
    "**리스트 생성**"
   ]
  },
  {
   "cell_type": "code",
   "execution_count": null,
   "metadata": {},
   "outputs": [],
   "source": [
    "records = []\n",
    "\n",
    "records.append((('GOOG',100, 490.1)))\n",
    "records.append(('IBM', 50, 91.3))\n",
    "records.append(('CAT', 150, 83.44))"
   ]
  },
  {
   "cell_type": "code",
   "execution_count": null,
   "metadata": {},
   "outputs": [],
   "source": [
    "records"
   ]
  },
  {
   "cell_type": "markdown",
   "metadata": {},
   "source": [
    "다음은 파일에서 레코드를 읽어 리스트에 채우는 예이다."
   ]
  },
  {
   "cell_type": "code",
   "execution_count": null,
   "metadata": {},
   "outputs": [],
   "source": [
    "records = []\n",
    "with open(\"../../Work/Data/portfolio.csv\", \"rt\") as f:\n",
    "    next(f)\n",
    "    for line in f:\n",
    "        row = line.split(\",\")\n",
    "        records.append((row[0].replace('\"', ''), int(row[1]), float(row[2])))\n",
    "records        "
   ]
  },
  {
   "cell_type": "markdown",
   "metadata": {},
   "source": [
    "**컨테이너로서의 딕셔너리**\n",
    "* 딕셔너리는 빠른 임의 조회(키 이름을 사용)에 유용"
   ]
  },
  {
   "cell_type": "code",
   "execution_count": null,
   "metadata": {},
   "outputs": [],
   "source": [
    "prices = {\n",
    "    'GOOG':513.25,\n",
    "    'CAT':87.22,\n",
    "    'IBM':93.37,\n",
    "    'MSFT':44.12\n",
    "}"
   ]
  },
  {
   "cell_type": "code",
   "execution_count": null,
   "metadata": {},
   "outputs": [],
   "source": [
    "prices['GOOG'], prices['MSFT']"
   ]
  },
  {
   "cell_type": "markdown",
   "metadata": {},
   "source": [
    "딕셔너리를 채우는 예제"
   ]
  },
  {
   "cell_type": "code",
   "execution_count": null,
   "metadata": {},
   "outputs": [],
   "source": [
    "prices = {}\n",
    "with open(\"../../Work/Data/prices.csv\", \"rt\") as f:\n",
    "    next(f)\n",
    "    try:\n",
    "        for line in f:\n",
    "            row = line.split(\",\")\n",
    "            prices[row[0].replace('\"', '')] = float(row[1])\n",
    "    except IndexError:\n",
    "        pass\n",
    "# 딕셔너리를 출력\n",
    "prices"
   ]
  },
  {
   "cell_type": "markdown",
   "metadata": {},
   "source": [
    "**딕셔너리 조회**"
   ]
  },
  {
   "cell_type": "code",
   "execution_count": null,
   "metadata": {},
   "outputs": [],
   "source": [
    "prices.get(\"KIA\", 'UNKNOWN')"
   ]
  },
  {
   "cell_type": "code",
   "execution_count": null,
   "metadata": {},
   "outputs": [],
   "source": [
    "if 'KIA' in prices.keys():\n",
    "    print(\"Yes\")\n",
    "else:\n",
    "    print(\"No\")"
   ]
  },
  {
   "cell_type": "markdown",
   "metadata": {},
   "source": [
    "**복합키**\n",
    "\n",
    "파이썬에서는 어떤 타입의 값이든 딕녀러리의 키로 사용할 수 있다. 딕셔너리 키는 반드시 변경불가능한 타입이어야 한다."
   ]
  },
  {
   "cell_type": "code",
   "execution_count": null,
   "metadata": {},
   "outputs": [],
   "source": [
    "holidays = {\n",
    "    (5,1) : \"노동절\",\n",
    "    (1,1) : \"신년\",\n",
    "    (8.15): \"광복절\"\n",
    " }"
   ]
  },
  {
   "cell_type": "code",
   "execution_count": null,
   "metadata": {},
   "outputs": [],
   "source": [
    "holidays[(5,1)],holidays[1,1]"
   ]
  },
  {
   "cell_type": "markdown",
   "metadata": {},
   "source": [
    "**세트(집합)**\n",
    "* 집합은 고유 항목의 모음이며 순서를 유지하지 않음"
   ]
  },
  {
   "cell_type": "code",
   "execution_count": null,
   "metadata": {},
   "outputs": [],
   "source": [
    "tech_stocks = {'IBM', \"APPL\", \"MSFT\"}\n",
    "tech_stocks = set(tech_stocks)"
   ]
  },
  {
   "cell_type": "code",
   "execution_count": null,
   "metadata": {},
   "outputs": [],
   "source": [
    "tech_stocks,type(tech_stocks)"
   ]
  },
  {
   "cell_type": "markdown",
   "metadata": {},
   "source": [
    "* 멤버쉽 테스트"
   ]
  },
  {
   "cell_type": "code",
   "execution_count": null,
   "metadata": {},
   "outputs": [],
   "source": [
    "'APPL' in tech_stocks, 'KIA' not in tech_stocks, 'KIA' in tech_stocks"
   ]
  },
  {
   "cell_type": "markdown",
   "metadata": {},
   "source": [
    "* 중복제거에도 유용"
   ]
  },
  {
   "cell_type": "code",
   "execution_count": null,
   "metadata": {},
   "outputs": [],
   "source": [
    "names = ['IBM', 'AAPL', 'APM', 'GOOG', 'IBM', 'YHGK', 'FACEBOOK', 'SAMSUNG', 'IBM', 'AAPL', 'GOOG']\n",
    "unique = set(names)"
   ]
  },
  {
   "cell_type": "code",
   "execution_count": null,
   "metadata": {},
   "outputs": [],
   "source": [
    "unique"
   ]
  },
  {
   "cell_type": "code",
   "execution_count": null,
   "metadata": {},
   "outputs": [],
   "source": [
    "unique.add(\"CAT\")\n",
    "unique.remove(\"AAPL\")"
   ]
  },
  {
   "cell_type": "code",
   "execution_count": null,
   "metadata": {},
   "outputs": [],
   "source": [
    "unique"
   ]
  },
  {
   "cell_type": "markdown",
   "metadata": {},
   "source": [
    "## 연습문제"
   ]
  },
  {
   "cell_type": "markdown",
   "metadata": {},
   "source": [
    "### 2.4  튜플을 이용한 주가 수익 계산"
   ]
  },
  {
   "cell_type": "markdown",
   "metadata": {},
   "source": [
    "* REPL(Read Evaluate Print Loop)"
   ]
  },
  {
   "cell_type": "code",
   "execution_count": null,
   "metadata": {},
   "outputs": [],
   "source": [
    "portfolio = []\n",
    "filename = \"portfolio.csv\"\n",
    "with open(target_dir+filename, \"rt\") as f:\n",
    "    next(f)\n",
    "    rows= csv.reader(f)\n",
    "    for row in rows:\n",
    "        portfolio.append((row[0], int(row[1]), float(row[2]))) \n",
    "print(\"리스트로 주가 정보 출력\")\n",
    "portfolio"
   ]
  },
  {
   "cell_type": "code",
   "execution_count": null,
   "metadata": {},
   "outputs": [],
   "source": [
    "# 딕셔너리\n",
    "portfolio = {}\n",
    "filename = \"portfolio.csv\"\n",
    "prices = []\n",
    "with open(target_dir+filename, \"rt\") as f:\n",
    "    next(f)\n",
    "    rows= csv.reader(f)\n",
    "    for row in rows:  # 루프의 한 요소는 타입은 list\n",
    "        portfolio = {}    \n",
    "        portfolio['name'] = row[0]\n",
    "        portfolio['shares'] = int(row[1])\n",
    "        portfolio['prices'] = float(row[2])\n",
    "        prices.append(portfolio)\n",
    "print(\"딕셔너리로 주가 정보 출력\")\n",
    "prices"
   ]
  },
  {
   "cell_type": "code",
   "execution_count": null,
   "metadata": {},
   "outputs": [],
   "source": []
  },
  {
   "cell_type": "code",
   "execution_count": null,
   "metadata": {},
   "outputs": [],
   "source": [
    "# report.py\n",
    "def read_portpolio(filename):\n",
    "    \"\"\"\n",
    "    csv파일을 읽어 주가정보를 튜플에 담아 리스트로 리턴\n",
    "    \"\"\"\n",
    "    import csv\n",
    "    target_dir = \"../../Work/Data/\"\n",
    "    portfolio = []\n",
    "    with open(target_dir + filename, \"rt\") as f:\n",
    "        headers = next(f)\n",
    "        rows = csv.reader(f)\n",
    "        for row in rows:\n",
    "            portfolio.append((row[0], int(row[1]), float(row[2])))\n",
    "    return portfolio"
   ]
  },
  {
   "cell_type": "code",
   "execution_count": null,
   "metadata": {},
   "outputs": [],
   "source": [
    "stocks = read_portpolio(\"portfolio.csv\")\n",
    "total_profit = 0.0\n",
    "for row in stocks:\n",
    "    total_profit += int(row[1]) * float(row[2])\n",
    "print(f'총수익은 다음과 같다 :  {total_profit:.2f}')"
   ]
  },
  {
   "cell_type": "code",
   "execution_count": null,
   "metadata": {},
   "outputs": [],
   "source": [
    "stocks = read_portpolio(\"portfolio.csv\")\n",
    "total_profit = 0.0\n",
    "for name, share, prices in stocks:\n",
    "    total_profit += share * prices\n",
    "print(f'총수익은 다음과 같다 :  {total_profit:.2f}')"
   ]
  },
  {
   "cell_type": "markdown",
   "metadata": {},
   "source": [
    "### 2.5 딕셔너리를 이용한 주가 계산"
   ]
  },
  {
   "cell_type": "code",
   "execution_count": null,
   "metadata": {},
   "outputs": [],
   "source": [
    "def read_portpolio(filename):\n",
    "    \"\"\"\n",
    "    csv파일을 읽어 주가정보를 딕셔너리형태로 담아서 리스트로 최종 리턴\n",
    "    \"\"\"\n",
    "    import csv\n",
    "    target_dir = \"../../Work/Data/\"\n",
    "    stock_info = []\n",
    "    with open(target_dir + filename, \"rt\") as f:\n",
    "        headers = next(f)\n",
    "        rows = csv.reader(f)\n",
    "        for row in rows:\n",
    "            portfolio = {}\n",
    "            portfolio['name'] = row[0]\n",
    "            portfolio['shares'] = int(row[1])\n",
    "            portfolio['prices'] = float(row[2])\n",
    "            stock_info.append(portfolio)\n",
    "    return stock_info"
   ]
  },
  {
   "cell_type": "code",
   "execution_count": null,
   "metadata": {},
   "outputs": [],
   "source": [
    "portfolio = read_portpolio(\"portfolio.csv\")"
   ]
  },
  {
   "cell_type": "code",
   "execution_count": null,
   "metadata": {},
   "outputs": [],
   "source": [
    "total = 0.0\n",
    "\n",
    "for s in portfolio:\n",
    "    total += s['shares'] * s['prices']\n",
    "print(f'총수익은 다음과 같다 :  {total:.2f}')"
   ]
  },
  {
   "cell_type": "code",
   "execution_count": null,
   "metadata": {},
   "outputs": [],
   "source": [
    "from pprint import pprint\n",
    "\n",
    "# 디버깅을 위해 출력 정돈\n",
    "pprint(portfolio)"
   ]
  },
  {
   "cell_type": "markdown",
   "metadata": {},
   "source": [
    "### 2.6 가격정보를 읽어 딕셔너리 생성"
   ]
  },
  {
   "cell_type": "code",
   "execution_count": null,
   "metadata": {},
   "outputs": [],
   "source": [
    "import csv\n",
    "\n",
    "TARGET_DIR = \"../../Work/Data/\"\n",
    "def read_prices(filename):\n",
    "    \"\"\"\n",
    "    CSV파일을 읽어 주가정보와 주가명을 딕셔너리를 포함한 리스트로 리턴\n",
    "    1.CSV파일내에 빈라인이 있는것이 있으니 그것에 대한 예외처리가 필요\n",
    "    \"\"\"\n",
    "    try:\n",
    "        stock_info = []\n",
    "        import csv\n",
    "        f = open(TARGET_DIR + filename, 'r')\n",
    "        rows = csv.reader(f)\n",
    "        next(f)\n",
    "        for row in rows:\n",
    "            portfolio = [{}]\n",
    "            portfolio[row[0]] = float(row[1])\n",
    "            stock_info.append(portfolio)\n",
    "        f.close()\n",
    "    except TypeError:\n",
    "        pass\n",
    "    except IndexError:\n",
    "        pass\n",
    "    return stock_info"
   ]
  },
  {
   "cell_type": "code",
   "execution_count": null,
   "metadata": {},
   "outputs": [],
   "source": [
    "def read_prices(filename):\n",
    "    \"\"\"\n",
    "    CSV파일을 읽어 주가정보와 주가명을 딕셔너리로 리턴\n",
    "    1.CSV파일내에 빈라인이 있는것이 있으니 그것에 대한 예외처리가 필요\n",
    "    \"\"\"\n",
    "    try:\n",
    "        prices = {}\n",
    "        import csv\n",
    "        f = open(TARGET_DIR + filename, 'r')\n",
    "        rows = csv.reader(f)\n",
    "        next(f)\n",
    "        for row in rows:\n",
    "            prices[row[0]] = float(row[1])\n",
    "        f.close()\n",
    "    except TypeError:\n",
    "        pass\n",
    "    \n",
    "    except IndexError:\n",
    "        pass\n",
    "    return prices"
   ]
  },
  {
   "cell_type": "code",
   "execution_count": null,
   "metadata": {},
   "outputs": [],
   "source": [
    "portfolio = read_prices(\"prices.csv\")\n",
    "from pprint import pprint\n",
    "\n",
    "# 디버깅을 위해 출력 정돈\n",
    "pprint(portfolio)"
   ]
  },
  {
   "cell_type": "markdown",
   "metadata": {},
   "source": [
    "### 2.7 나 은퇴해도 되는거야?\n",
    "* 보유하고있는 주식과 주식의 현재 시세를 고려해서 은퇴여부를 알려주자."
   ]
  },
  {
   "cell_type": "code",
   "execution_count": null,
   "metadata": {},
   "outputs": [],
   "source": []
  },
  {
   "cell_type": "code",
   "execution_count": null,
   "metadata": {},
   "outputs": [],
   "source": [
    "prices['IBM']"
   ]
  },
  {
   "cell_type": "code",
   "execution_count": 21,
   "metadata": {},
   "outputs": [],
   "source": [
    "import csv    \n",
    "# 전역변수 \n",
    "target_dir = \"../../Work/Data/\"\n",
    "\n",
    "def read_prices(filename):\n",
    "    \"\"\"\n",
    "    CSV파일을 읽어 주가정보와 주가명을 딕셔너리로 리턴\n",
    "    1.CSV파일내에 빈라인이 있는것이 있으니 그것에 대한 예외처리가 필요\n",
    "    \"\"\"\n",
    "    try:\n",
    "        prices = {}\n",
    "        f = open(TARGET_DIR + filename, 'r')\n",
    "        rows = csv.reader(f)\n",
    "        next(f)\n",
    "        for row in rows:\n",
    "            prices[row[0]] = float(row[1])\n",
    "        f.close()\n",
    "    except TypeError:\n",
    "        pass\n",
    "    except IndexError:\n",
    "        pass\n",
    "    return prices\n",
    "\n",
    "def read_portpolio(filename):\n",
    "    \"\"\"\n",
    "    csv파일을 읽어 주가정보를 딕셔너리형태로 담아서 리스트로 최종 리턴\n",
    "    \"\"\"\n",
    "    stock_info = []\n",
    "    with open(target_dir + filename, \"rt\") as f:\n",
    "        headers = next(f)\n",
    "        rows = csv.reader(f)\n",
    "        for row in rows:\n",
    "            portfolio = {}\n",
    "            portfolio['name'] = row[0]\n",
    "            portfolio['shares'] = int(row[1])\n",
    "            portfolio['prices'] = float(row[2])\n",
    "            stock_info.append(portfolio)\n",
    "    return stock_info\n",
    "\n",
    "def make_report(portfolio, prices):\n",
    "    total_profit = 0.0\n",
    "    rows = []\n",
    "    for stock in portfolio:\n",
    "        try:\n",
    "            change = prices[stock['name']] - stock['prices']\n",
    "            summary = (stock['name'], stock['shares'], stock['prices'], round(change,2))\n",
    "            rows.append(summary)\n",
    "        except KeyError:  # 보유한 주식이 아닌 경우의 처리.\n",
    "            pass\n",
    "    print(\"귀하의 보유한 주식에 대해 추정완료\")\n",
    "    \n",
    "    # 총 수익 계산\n",
    "    for my_asset in rows:\n",
    "        total_profit += my_asset[1] * my_asset[3]\n",
    "    \n",
    "    if total_profit < 0 :\n",
    "        msg = \"은퇴하지 마세요\"\n",
    "    else:\n",
    "        msg = \"좀 더 버티세요.\\n 손해는 안보지만 관망세\"\n",
    "    return total_profit, msg, rows"
   ]
  },
  {
   "cell_type": "markdown",
   "metadata": {},
   "source": [
    "### Read Evaluate Print Loop"
   ]
  },
  {
   "cell_type": "code",
   "execution_count": null,
   "metadata": {},
   "outputs": [],
   "source": [
    "rows = []\n",
    "for stock in portfolio:\n",
    "    try:\n",
    "        change = prices[stock['name']] - stock['prices']\n",
    "        summary = (stock['name'], stock['shares'], stock['prices'], round(change,2))\n",
    "        rows.append(summary)\n",
    "    except KeyError:  # 보유한 주식이 아닌 경우의 처리.\n",
    "        pass\n",
    "\n",
    "print(\"귀하의 보유한 주식에 대해 추정완료\")\n",
    "print(rows)\n",
    "\n",
    "\n",
    "print(\"\\n\")\n",
    "total_profit = 0.0\n",
    "\n",
    "for my_asset in rows:\n",
    "    total_profit += my_asset[1] * my_asset[3]\n",
    "    \n",
    "print(\"현재 총 수익 : \", total_profit)\n",
    "\n",
    "if total_profit < 0 :\n",
    "    print(\"은퇴하지 마세요.\")\n",
    "else:\n",
    "    print(\"좀 더 버티세요.\\n 손해는 안보지만 관망세.\")"
   ]
  },
  {
   "cell_type": "markdown",
   "metadata": {},
   "source": [
    "### 최종 호출"
   ]
  },
  {
   "cell_type": "code",
   "execution_count": null,
   "metadata": {},
   "outputs": [],
   "source": [
    "# 함수 호출 결과 \n",
    "prices = read_prices(\"prices.csv\")\n",
    "portfolio = read_portpolio(\"portfolio.csv\")\n",
    "amt, msg, prices = make_report(portfolio, prices)\n",
    "print(f\"귀하가 보유한 주식가치는 {amt:.2f} 이며, 지금은 {msg:}\")"
   ]
  },
  {
   "cell_type": "markdown",
   "metadata": {},
   "source": [
    "### 2.3 포맷팅\n",
    "* 데이터를 가지고 구조화된 출력을 해야 할때."
   ]
  },
  {
   "cell_type": "code",
   "execution_count": null,
   "metadata": {},
   "outputs": [],
   "source": [
    "      Name      Shares        Price\n",
    "----------  ----------  -----------\n",
    "        AA         100        32.20\n",
    "       IBM          50        91.10\n",
    "       CAT         150        83.44\n",
    "      MSFT         200        51.23\n",
    "        GE          95        40.37\n",
    "      MSFT          50        65.10\n",
    "       IBM         100        70.44"
   ]
  },
  {
   "cell_type": "markdown",
   "metadata": {},
   "source": [
    "위와 같은 형태의 structured format을 하고자 할때 포맷팅을 사용"
   ]
  },
  {
   "cell_type": "markdown",
   "metadata": {},
   "source": [
    "**문자열 포맷팅**\n",
    "* 파이썬 3.6이상의 버번에서 `f`를 이용한 문자열 포맷팅을 지원"
   ]
  },
  {
   "cell_type": "code",
   "execution_count": null,
   "metadata": {},
   "outputs": [],
   "source": [
    "name, shares, price = 'IBM', 100, 91.11"
   ]
  },
  {
   "cell_type": "code",
   "execution_count": null,
   "metadata": {},
   "outputs": [],
   "source": [
    "print(f'주식종목 : {name:>10s}, 보유주식수 : {shares:>10d}, 주가 : {price:>10.2f}') # 오른쪽 정렬하되 자릿수는 10자리로 채움"
   ]
  },
  {
   "cell_type": "code",
   "execution_count": null,
   "metadata": {},
   "outputs": [],
   "source": [
    "f'주식종목 : {name:>10s}, 보유주식수 : {shares:>10d}, 주가 : {price:>10.2f}'"
   ]
  },
  {
   "cell_type": "markdown",
   "metadata": {},
   "source": [
    "* 문자열 포맷팅시 코드"
   ]
  },
  {
   "cell_type": "markdown",
   "metadata": {},
   "source": [
    "d - Decimal integer\n",
    "\n",
    "b - Binary integer\n",
    "\n",
    "x - Hexadecimal integer\n",
    "\n",
    "f - Float as [-]m.dddddd\n",
    "\n",
    "e - Float as [-]m.dddddde+-xx\n",
    "\n",
    "g - Float, but selective use of E notation\n",
    "\n",
    "s - String\n",
    "\n",
    "c - Character (from integer)"
   ]
  },
  {
   "cell_type": "markdown",
   "metadata": {},
   "source": [
    ":>10d - 자릿수가 10자리이고 오른쪽 정렬\n",
    "\n",
    ":<10d - 자릿수가 10자리이고 왼쪽 정렬\n",
    "\n",
    ":^10d - 자릿수 10자리에 가운데 정렬\n",
    "\n",
    ":0.2f - 실수형에 소숫점 두자리."
   ]
  },
  {
   "cell_type": "markdown",
   "metadata": {},
   "source": [
    "**Dictionary를 이용한 문자열 포멧팅**\n",
    "* `format_map`을 이용"
   ]
  },
  {
   "cell_type": "code",
   "execution_count": null,
   "metadata": {},
   "outputs": [],
   "source": [
    "s = {'names': 'IBM', 'shares': 100, 'prices': 91.1}"
   ]
  },
  {
   "cell_type": "code",
   "execution_count": null,
   "metadata": {},
   "outputs": [],
   "source": [
    "'종목: {names:>10s}, 보유주식 수 :  {shares:>10d},  주가 : {prices:>10.2f}'.format_map(s)"
   ]
  },
  {
   "cell_type": "markdown",
   "metadata": {},
   "source": [
    "**`format`을 이용한 문자열 포멧팅**"
   ]
  },
  {
   "cell_type": "code",
   "execution_count": null,
   "metadata": {},
   "outputs": [],
   "source": [
    "'{name:10s} {shares:10d} {price:10.2f}'.format(name=\"IBM\", shares= 100, price= 91.1)"
   ]
  },
  {
   "cell_type": "code",
   "execution_count": null,
   "metadata": {},
   "outputs": [],
   "source": [
    "'{:10s} {:10d} {:10.2f}'.format(name,shares,price)"
   ]
  },
  {
   "cell_type": "markdown",
   "metadata": {},
   "source": [
    "**C스타일 포매팅**\n",
    "* [문서 참조](https://docs.python.org/3/library/stdtypes.html#printf-style-string-formatting)"
   ]
  },
  {
   "cell_type": "code",
   "execution_count": null,
   "metadata": {},
   "outputs": [],
   "source": [
    "'The value is %d' % 100"
   ]
  },
  {
   "cell_type": "code",
   "execution_count": null,
   "metadata": {},
   "outputs": [],
   "source": [
    "'%5d %-5d %10d' % (3,4,5)"
   ]
  },
  {
   "cell_type": "code",
   "execution_count": null,
   "metadata": {},
   "outputs": [],
   "source": [
    "'%0.2f' % (3.1415926,)"
   ]
  },
  {
   "cell_type": "code",
   "execution_count": null,
   "metadata": {},
   "outputs": [],
   "source": [
    "b'%s has %n messages' % (b'Dave', 37)"
   ]
  },
  {
   "cell_type": "markdown",
   "metadata": {},
   "source": [
    "### 연습문제"
   ]
  },
  {
   "cell_type": "markdown",
   "metadata": {},
   "source": [
    "### 2.8 숫자 포맷"
   ]
  },
  {
   "cell_type": "code",
   "execution_count": null,
   "metadata": {},
   "outputs": [],
   "source": [
    "value = 42863.1\n",
    "print(value)"
   ]
  },
  {
   "cell_type": "code",
   "execution_count": null,
   "metadata": {},
   "outputs": [],
   "source": [
    "print(f'{value:0.4f}')"
   ]
  },
  {
   "cell_type": "code",
   "execution_count": null,
   "metadata": {},
   "outputs": [],
   "source": [
    "print(f'{value:>16.2f}')"
   ]
  },
  {
   "cell_type": "code",
   "execution_count": null,
   "metadata": {},
   "outputs": [],
   "source": [
    "print(f'{value:<16.2f}')"
   ]
  },
  {
   "cell_type": "code",
   "execution_count": null,
   "metadata": {},
   "outputs": [],
   "source": [
    "print(f'{value:*>16,.2f}')  # 오른쪽 정렬하되 빈 자리는 `*`로 채움."
   ]
  },
  {
   "cell_type": "code",
   "execution_count": null,
   "metadata": {},
   "outputs": [],
   "source": [
    "print('%0.4f'% value)"
   ]
  },
  {
   "cell_type": "code",
   "execution_count": null,
   "metadata": {},
   "outputs": [],
   "source": [
    "print('%16.2f' % value)"
   ]
  },
  {
   "cell_type": "markdown",
   "metadata": {},
   "source": [
    "* 변수에 포맷 문자열 저장"
   ]
  },
  {
   "cell_type": "code",
   "execution_count": null,
   "metadata": {},
   "outputs": [],
   "source": [
    "f = '%0.4f' % value\n",
    "type(f), f"
   ]
  },
  {
   "cell_type": "markdown",
   "metadata": {},
   "source": [
    "### 2.9 Collecting Data"
   ]
  },
  {
   "cell_type": "code",
   "execution_count": null,
   "metadata": {},
   "outputs": [],
   "source": [
    "prices = read_prices(\"prices.csv\")\n",
    "portfolio = read_portpolio(\"portfolio.csv\")\n",
    "amt, msg, prices = make_report(portfolio, prices)"
   ]
  },
  {
   "cell_type": "markdown",
   "metadata": {},
   "source": [
    "**C스타일 포맷문자열**"
   ]
  },
  {
   "cell_type": "code",
   "execution_count": null,
   "metadata": {},
   "outputs": [],
   "source": [
    "type(prices)\n",
    "headers = ('Name', 'Shares', 'Price', 'Change')\n",
    "print('%10s %10s %10s %10s' % headers)\n",
    "print(('-' * 10 + ' ') * len(headers))\n",
    "for row in prices:\n",
    "    print('%10s %10d %10.2f %10.2f' % row)"
   ]
  },
  {
   "cell_type": "markdown",
   "metadata": {},
   "source": [
    "**`f`포맷 문자열 이용**\n",
    "* 달러표시는 추후에 해보자"
   ]
  },
  {
   "cell_type": "code",
   "execution_count": null,
   "metadata": {},
   "outputs": [],
   "source": [
    "headers = ('Name', 'Shares', 'Price', 'Change')\n",
    "print('%10s %10s %10s %10s' % headers)\n",
    "print(('-' * 10 + ' ') * len(headers))\n",
    "for row in prices:\n",
    "    print(f'{row[0]:>10s} {row[1]:>10d} {row[2]:>10.2f} {row[3]:>10.2f}')"
   ]
  },
  {
   "cell_type": "markdown",
   "metadata": {},
   "source": [
    "## 2.4 시퀀스"
   ]
  },
  {
   "cell_type": "markdown",
   "metadata": {},
   "source": [
    "### 시퀀스 자료형\n",
    "모든 시퀀스로 유지되고, 정수로 인덱싱하며 길이가 있다.\n",
    "- 문자열: 'Hello'. 문자열(string)은 문자(character)들의 시퀀스다.\n",
    "- 리스트: [1, 4, 5].\n",
    "- 튜플: ('GOOG', 100, 490.1)."
   ]
  },
  {
   "cell_type": "code",
   "execution_count": null,
   "metadata": {},
   "outputs": [],
   "source": [
    "a = 'Hello'               # 문자열\n",
    "b = [1, 4, 5]             # 리스트\n",
    "c = ('GOOG', 100, 490.1)  # 튜플\n",
    "\n",
    "# 인덱싱된 순서\n",
    "display(a[0],b[-1],c[1])\n",
    "# 시퀀스의 길이\n",
    "display(len(a),len(b), len(c))"
   ]
  },
  {
   "cell_type": "markdown",
   "metadata": {},
   "source": [
    "* 시퀀스를 복제할수있다."
   ]
  },
  {
   "cell_type": "code",
   "execution_count": null,
   "metadata": {},
   "outputs": [],
   "source": [
    "a = 'Hello'\n",
    "a * 3"
   ]
  },
  {
   "cell_type": "code",
   "execution_count": null,
   "metadata": {},
   "outputs": [],
   "source": [
    "b = [1, 2, 3]\n",
    "b * 3"
   ]
  },
  {
   "cell_type": "markdown",
   "metadata": {},
   "source": [
    "* 같은 타입의 시퀀스끼는 이어붙힐 수도 있다."
   ]
  },
  {
   "cell_type": "code",
   "execution_count": null,
   "metadata": {},
   "outputs": [],
   "source": [
    "a = (1, 2, 3)\n",
    "b = (4, 5)\n",
    "display(a + b)\n",
    "c = [2, 6]\n",
    "b + c    # TypeError: can only concatenate tuple (not \"list\") to tuple"
   ]
  },
  {
   "cell_type": "markdown",
   "metadata": {},
   "source": [
    "### 슬라이싱(Slicing)\n",
    "시퀀스의 일부(subsequence)를 취하는 것을 슬라이싱이라 한다. \n",
    "\n",
    "s[start:end] 구문을 사용한다. start와 end는 얻고자 하는 서브시퀀스의 인덱스다."
   ]
  },
  {
   "cell_type": "code",
   "execution_count": null,
   "metadata": {},
   "outputs": [],
   "source": [
    "a = [0,1,2,3,4,5,6,7,8]\n",
    "\n",
    "print(a[2:5])    # [2,3,4]\n",
    "print(a[-5:])    # [4,5,6,7,8]\n",
    "print(a[:3])     # [0,1,2]"
   ]
  },
  {
   "cell_type": "markdown",
   "metadata": {},
   "source": [
    "* start와 end 인덱스는 반드시 정수여야 한다.\n",
    "* 슬라이스는 end 값을 포함하지 않는다. 수학에서 한쪽만 열린 구간(interval)과 비슷하다.\n",
    "* 인덱스를 생략하면 리스트의 시작이나 끝을 기본값으로 사용한다."
   ]
  },
  {
   "cell_type": "markdown",
   "metadata": {},
   "source": [
    "### 슬라이스 재할당(re-assignment)\n",
    "리스트에서 슬라이스를 다시 할당하거나 삭제할 수 있다."
   ]
  },
  {
   "cell_type": "code",
   "execution_count": null,
   "metadata": {},
   "outputs": [],
   "source": [
    "# 재할당\n",
    "a = [0,1,2,3,4,5,6,7,8]\n",
    "a[2:4] = [10,11,12]       # [0,1,10,11,12,4,5,6,7,8]\n",
    "a"
   ]
  },
  {
   "cell_type": "code",
   "execution_count": null,
   "metadata": {},
   "outputs": [],
   "source": [
    "# 삭제\n",
    "a = [0,1,2,3,4,5,6,7,8]\n",
    "del a[2:4]                # [2,3]원소가 삭제"
   ]
  },
  {
   "cell_type": "code",
   "execution_count": null,
   "metadata": {},
   "outputs": [],
   "source": [
    "a"
   ]
  },
  {
   "cell_type": "markdown",
   "metadata": {},
   "source": [
    "### 시퀀스 축소(Reduction)\n",
    "시퀀스를 단일 값으로 줄이는 몇 가지 함수가 있다."
   ]
  },
  {
   "cell_type": "code",
   "execution_count": null,
   "metadata": {},
   "outputs": [],
   "source": [
    "s = [1, 2, 3, 4]\n",
    "sum(s)"
   ]
  },
  {
   "cell_type": "code",
   "execution_count": null,
   "metadata": {},
   "outputs": [],
   "source": [
    "s = [1, 2, 3, 4]\n",
    "min(s)"
   ]
  },
  {
   "cell_type": "code",
   "execution_count": null,
   "metadata": {},
   "outputs": [],
   "source": [
    "s = [1, 2, 3, 4]\n",
    "max(s)"
   ]
  },
  {
   "cell_type": "code",
   "execution_count": null,
   "metadata": {},
   "outputs": [],
   "source": [
    "t = [\"Hello\", \"World\"]\n",
    "max(t)  # 알파벳순으로 누가 더 큰 문자"
   ]
  },
  {
   "cell_type": "markdown",
   "metadata": {},
   "source": [
    "### 시퀀스에 대한 이터레이션\n",
    "for 루프는 시퀀스의 원소에 대해 이터레이션을 수행한다."
   ]
  },
  {
   "cell_type": "code",
   "execution_count": null,
   "metadata": {},
   "outputs": [],
   "source": [
    "s = [1, 4, 9, 16]\n",
    "for i in s:\n",
    "    print(i)"
   ]
  },
  {
   "cell_type": "markdown",
   "metadata": {},
   "source": [
    "### break 문\n",
    "break 문을 사용해 루프에서 일찍 빠져나갈 수 있다."
   ]
  },
  {
   "cell_type": "markdown",
   "metadata": {},
   "source": [
    "for name in namelist:\n",
    "\n",
    "    if name == 'Jake':\n",
    "    \n",
    "        break\n",
    "    ...\n",
    "    ...\n",
    "문장"
   ]
  },
  {
   "cell_type": "markdown",
   "metadata": {},
   "source": [
    "문장의 실행을 break하면 루프에서 빠져나가서 다음 문장을 수행한다. \n",
    "\n",
    "break 문은 가장 안쪽 루프에만 적용된다. 만약 이 루프가 다른 루프 안에 있다면, 바깥쪽 루프는 빠져나지 않는다."
   ]
  },
  {
   "cell_type": "markdown",
   "metadata": {},
   "source": [
    "### continue 문\n",
    "한 원소를 건너뛰고 다음으로 가려면 continue 문을 사용한다."
   ]
  },
  {
   "cell_type": "markdown",
   "metadata": {},
   "source": [
    "for line in lines:\n",
    "\n",
    "    if line == '\\n':    # 공백 행을 건너뜀    \n",
    "        continue        \n",
    "    # 나머지 문장들\n",
    "    ..."
   ]
  },
  {
   "cell_type": "markdown",
   "metadata": {},
   "source": [
    "### 정수에 대해 루핑\n",
    "카운트를 하고 싶으면 range()를 써라.\n",
    "\n",
    "- end 값은 포함하지 않는다. 이는 슬라이스의 작동과 같다.\n",
    "- start는 선택적이고, 기본값이 0이다.\n",
    "- step도 선택적이며, 기본값이 1이다.\n",
    "- range()는 필요에 따라 값을 계산한다. 실제로 많은 숫자를 저장하지는 않는다."
   ]
  },
  {
   "cell_type": "markdown",
   "metadata": {},
   "source": [
    "### enumerate() 함수\n",
    "`enumerate` 함수는 이터레이션에 카운터 값을 추가한다."
   ]
  },
  {
   "cell_type": "markdown",
   "metadata": {},
   "source": [
    "names = ['Elwood', 'Jake', 'Curtis']\n",
    "\n",
    "for i, name in enumerate(names):\n",
    "\n",
    "    # i = 0, name = 'Elwood'를 가지고 루프\n",
    "    # i = 1, name = 'Jake'\n",
    "    # i = 2, name = 'Curtis'"
   ]
  },
  {
   "cell_type": "markdown",
   "metadata": {},
   "source": [
    "일반적 형태는 enumerate(시퀀스 [, start = 0])이다.\n",
    "\n",
    "start는 선택적이다. enumerate()를 사용하는 좋은 예는 파일을 읽으면서 행 번호를 추적하는 것이다."
   ]
  },
  {
   "cell_type": "code",
   "execution_count": null,
   "metadata": {},
   "outputs": [],
   "source": []
  },
  {
   "cell_type": "markdown",
   "metadata": {},
   "source": [
    "with open(filename) as f:\n",
    "\n",
    "    for lineno, line in enumerate(f, start=1):\n",
    "        ..."
   ]
  },
  {
   "cell_type": "markdown",
   "metadata": {},
   "source": [
    "`enumerate`는 다음 코드를 축약하는 셈이다."
   ]
  },
  {
   "cell_type": "markdown",
   "metadata": {},
   "source": [
    "i = 0\n",
    "\n",
    "for x in s:\n",
    "\n",
    "    문장\n",
    "    \n",
    "    i = i + 1"
   ]
  },
  {
   "cell_type": "markdown",
   "metadata": {},
   "source": [
    "### for와 튜플"
   ]
  },
  {
   "cell_type": "code",
   "execution_count": null,
   "metadata": {},
   "outputs": [],
   "source": [
    "points = [\n",
    "    (1, 4), (10, 40), (23, 14), (5, 6), (7, 8)\n",
    "]\n",
    "\n",
    "for x, y in points:\n",
    "    print(x, y)"
   ]
  },
  {
   "cell_type": "markdown",
   "metadata": {},
   "source": [
    "여러 개의 변수를 사용할 때, 각 튜플은 이터레이션 변수의 세트로 언팩된다. 변수의 갯수는 각 튜플의 항목 수와 일치해야 한다."
   ]
  },
  {
   "cell_type": "markdown",
   "metadata": {},
   "source": [
    "### zip함수\n",
    "* `zip`함수는 여러 시퀀스를 결합이 이터레이터를 만듦\n",
    "* 일반적인 용도는 딕셔너리를 생성하기 위한 키/값 쌍을 생성하는 것"
   ]
  },
  {
   "cell_type": "code",
   "execution_count": null,
   "metadata": {},
   "outputs": [],
   "source": [
    "columns = ['name', 'share', 'prices']\n",
    "values = ['GOOG', 100, 490.1]\n",
    "pairs = zip(columns, values)"
   ]
  },
  {
   "cell_type": "code",
   "execution_count": null,
   "metadata": {},
   "outputs": [],
   "source": [
    "#결과 보기 \n",
    "for col, val in pairs:\n",
    "    print(col, val)"
   ]
  },
  {
   "cell_type": "code",
   "execution_count": null,
   "metadata": {},
   "outputs": [],
   "source": [
    "d = dict(zip(columns, values))"
   ]
  },
  {
   "cell_type": "code",
   "execution_count": null,
   "metadata": {},
   "outputs": [],
   "source": [
    "d.items(), d.keys(), d.values()"
   ]
  },
  {
   "cell_type": "markdown",
   "metadata": {},
   "source": [
    "## 연습문제"
   ]
  },
  {
   "cell_type": "markdown",
   "metadata": {},
   "source": [
    "### 2.13 : 카운팅"
   ]
  },
  {
   "cell_type": "code",
   "execution_count": null,
   "metadata": {},
   "outputs": [],
   "source": [
    "for n in range(10):\n",
    "    print(n, end = ' ')"
   ]
  },
  {
   "cell_type": "code",
   "execution_count": null,
   "metadata": {},
   "outputs": [],
   "source": [
    "for n in range(10, 0, -1):\n",
    "    print(n, end = ' ')"
   ]
  },
  {
   "cell_type": "code",
   "execution_count": null,
   "metadata": {},
   "outputs": [],
   "source": [
    "for n in range(0, 10,  2):\n",
    "    print(n, end = ' ')"
   ]
  },
  {
   "cell_type": "markdown",
   "metadata": {},
   "source": [
    "### 2.14: 더 많은 시퀀스 연산"
   ]
  },
  {
   "cell_type": "code",
   "execution_count": null,
   "metadata": {},
   "outputs": [],
   "source": [
    "data = [4, 9, 1, 25, 16, 100, 49]\n",
    "min(data), max(data), sum(data)"
   ]
  },
  {
   "cell_type": "code",
   "execution_count": null,
   "metadata": {},
   "outputs": [],
   "source": [
    "# data 리스트에 대해 루핑\n",
    "for x in data:\n",
    "    print(x)"
   ]
  },
  {
   "cell_type": "code",
   "execution_count": null,
   "metadata": {},
   "outputs": [],
   "source": [
    "for n, x in enumerate(data):\n",
    "    print(n, x)"
   ]
  },
  {
   "cell_type": "markdown",
   "metadata": {},
   "source": [
    "파이썬 초보자들은 `for`문, `len()`, `range()`문을 사용해 C프록램처럼 보이는 끔찍한 코드를 작성하곤하낟."
   ]
  },
  {
   "cell_type": "code",
   "execution_count": null,
   "metadata": {},
   "outputs": [],
   "source": [
    "for n in range(len(data)):\n",
    "    print(data[n])"
   ]
  },
  {
   "cell_type": "markdown",
   "metadata": {},
   "source": [
    "이러지 말자!!! 가독성도 떨어지고, 메모리를 비효율적으로 사용하여 실행속도도 느려지낟. 평범한 for루프를 써서 데이터를 이터레이트하라. \n",
    "\n",
    "인덱스를 써야 할 합당한 이유가 있을 때는 `enumerate()`를 사용하라."
   ]
  },
  {
   "cell_type": "markdown",
   "metadata": {},
   "source": [
    "### 2.15 : 실용적인 enumerate() 예제"
   ]
  },
  {
   "cell_type": "code",
   "execution_count": null,
   "metadata": {},
   "outputs": [],
   "source": [
    "# pcost.py\n",
    "import csv\n",
    "target_dir = \"../../Work/Data/\"\n",
    "def portpolio_cost(filename):\n",
    "    total_cost = 0.0\n",
    "    \"\"\"\n",
    "    주식매수시 총 가격 계산\n",
    "    1.잘못된 행의 데이터를 만나면 에러 메시지 출력\n",
    "    \"\"\"\n",
    "    with open(target_dir+filename, \"rt\") as f:\n",
    "        headers = next(f)\n",
    "        rows = csv.reader(f)\n",
    "        for idx, row in enumerate(rows):\n",
    "            try:\n",
    "                shares = int(row[1])\n",
    "                prices = float(row[2])\n",
    "                total_cost += shares * prices\n",
    "            except ValueError:\n",
    "                print(f\"Row {idx} : Couldn't convert : [ {row[0]}, {row[1]}, {row[2]}]\")\n",
    "        return total_cost\n",
    "\n",
    "import sys\n",
    "if len(sys.argv) == 2:\n",
    "    filename = sys.argv[1]\n",
    "else:\n",
    "    filename = input(\"Enter a filename:\")\n",
    "    \n",
    "cost = portpolio_cost(filename)\n",
    "print(\"Total Cost :\", cost)"
   ]
  },
  {
   "cell_type": "markdown",
   "metadata": {},
   "source": [
    "### 2.16 : zip()사용\n",
    "* `csv`파일의 형식의 포맷이 어떻더라고 , 원하는 컬럼.즉, 여기에서는 shares, price만 있으면 작동한다.멋지지!!"
   ]
  },
  {
   "cell_type": "code",
   "execution_count": null,
   "metadata": {},
   "outputs": [],
   "source": [
    "import csv\n",
    "f = open(\"../../Work/Data/portfolio.csv\", \"rt\")\n",
    "\n",
    "rows = csv.reader(f)\n",
    "headers = next(rows)\n",
    "headers"
   ]
  },
  {
   "cell_type": "code",
   "execution_count": null,
   "metadata": {},
   "outputs": [],
   "source": [
    "row = next(rows)\n",
    "row"
   ]
  },
  {
   "cell_type": "code",
   "execution_count": null,
   "metadata": {},
   "outputs": [],
   "source": [
    "list(zip(headers, row))"
   ]
  },
  {
   "cell_type": "code",
   "execution_count": null,
   "metadata": {},
   "outputs": [],
   "source": [
    "record = dict(zip(headers, row))\n",
    "record"
   ]
  },
  {
   "cell_type": "code",
   "execution_count": null,
   "metadata": {},
   "outputs": [],
   "source": [
    "# pcost.py\n",
    "import csv\n",
    "target_dir = \"../../Work/Data/\"\n",
    "def portpolio_cost(filename):\n",
    "    total_cost = 0.0\n",
    "    \"\"\"\n",
    "    주식매수시 총 가격 계산\n",
    "    1.잘못된 행의 데이터를 만나면 에러 메시지 출력\n",
    "    2.zip()함수 사용\n",
    "    \"\"\"\n",
    "    with open(target_dir+filename, \"rt\") as f:\n",
    "        rows = csv.reader(f)\n",
    "        headers = next(rows)\n",
    "        for idx, row in enumerate(rows, start = 1):\n",
    "            record = dict(zip(headers, row))\n",
    "            print(record)\n",
    "        \n",
    "            try:\n",
    "                shares = int(record['shares'])\n",
    "                prices = float(record['price'])\n",
    "                total_cost += shares * prices\n",
    "            except ValueError:\n",
    "                print(f\"Row {idx} : Couldn't convert : [ {row[0]}, {row[1]}, {row[2]}]\")\n",
    "        return total_cost\n",
    "\n",
    "import sys\n",
    "if len(sys.argv) == 2:\n",
    "    filename = sys.argv[1]\n",
    "else:\n",
    "    filename = input(\"Enter a filename:\")\n",
    "    \n",
    "cost = portpolio_cost(filename)\n",
    "print(\"Total Cost :\", cost)"
   ]
  },
  {
   "cell_type": "markdown",
   "metadata": {},
   "source": [
    "### 2.17 딕셔너리 뒤집기"
   ]
  },
  {
   "cell_type": "code",
   "execution_count": null,
   "metadata": {},
   "outputs": [],
   "source": [
    "prices = {\n",
    "    'GOOG': 490.1,\n",
    "    'AA':23.45,\n",
    "    'IBM':91.1,\n",
    "    'MSFT':34.23\n",
    "}"
   ]
  },
  {
   "cell_type": "code",
   "execution_count": null,
   "metadata": {},
   "outputs": [],
   "source": [
    "prices.items()"
   ]
  },
  {
   "cell_type": "code",
   "execution_count": null,
   "metadata": {},
   "outputs": [],
   "source": [
    "pricelist = list(zip(prices.values(), prices.keys()))\n",
    "pricelist"
   ]
  },
  {
   "cell_type": "markdown",
   "metadata": {},
   "source": [
    "* 만약, 특정한 값만 처리해야 할 필요성이 있다면..위와 같은 것이 필요하다."
   ]
  },
  {
   "cell_type": "code",
   "execution_count": null,
   "metadata": {},
   "outputs": [],
   "source": [
    "# 가장 작은값\n",
    "min(pricelist)"
   ]
  },
  {
   "cell_type": "code",
   "execution_count": null,
   "metadata": {},
   "outputs": [],
   "source": [
    "#가장 큰 값\n",
    "max(pricelist)"
   ]
  },
  {
   "cell_type": "code",
   "execution_count": null,
   "metadata": {},
   "outputs": [],
   "source": [
    "sorted(pricelist)"
   ]
  },
  {
   "cell_type": "code",
   "execution_count": null,
   "metadata": {},
   "outputs": [],
   "source": [
    "# 내림차순으로 정렬함.\n",
    "sorted(pricelist, reverse = True)"
   ]
  },
  {
   "cell_type": "markdown",
   "metadata": {},
   "source": [
    "* 다음과 같은 예를 봐보자."
   ]
  },
  {
   "cell_type": "code",
   "execution_count": 9,
   "metadata": {},
   "outputs": [],
   "source": [
    "a = [1, 2, 3, 4]\n",
    "b = ['w', 'x', 'y', 'z']\n",
    "c = [0.2, 0.4, 0.6, 0.8]"
   ]
  },
  {
   "cell_type": "code",
   "execution_count": 10,
   "metadata": {},
   "outputs": [
    {
     "data": {
      "text/plain": [
       "[(1, 'w', 0.2), (2, 'x', 0.4), (3, 'y', 0.6), (4, 'z', 0.8)]"
      ]
     },
     "execution_count": 10,
     "metadata": {},
     "output_type": "execute_result"
    }
   ],
   "source": [
    "list(zip(a, b, c))"
   ]
  },
  {
   "cell_type": "markdown",
   "metadata": {},
   "source": [
    "* 짝은 맞지 않는 리스트를 `zip`시키면?"
   ]
  },
  {
   "cell_type": "code",
   "execution_count": 11,
   "metadata": {},
   "outputs": [],
   "source": [
    "a = [1, 2, 3, 4, 5, 6]\n",
    "b = ['x', 'y', 'z']"
   ]
  },
  {
   "cell_type": "code",
   "execution_count": 12,
   "metadata": {},
   "outputs": [
    {
     "data": {
      "text/plain": [
       "[(1, 'x'), (2, 'y'), (3, 'z')]"
      ]
     },
     "execution_count": 12,
     "metadata": {},
     "output_type": "execute_result"
    }
   ],
   "source": [
    "# 가장 짧은 입력 시퀀스의 마지막 원소에서 멈춘다.\n",
    "list(zip(a, b))  "
   ]
  },
  {
   "cell_type": "markdown",
   "metadata": {},
   "source": [
    "## 2.5 collections모듈"
   ]
  },
  {
   "cell_type": "markdown",
   "metadata": {},
   "source": [
    "* `collections`모듈에는 데이터 처리를 위한 유용한 객체가 많이 있다.그중 몇가지를 간략히 소개한다.\n",
    "\n",
    "보유한 주식이 다음과 같을때, 종목별로 합산해 나타내고 싶다고 하자."
   ]
  },
  {
   "cell_type": "code",
   "execution_count": 13,
   "metadata": {},
   "outputs": [],
   "source": [
    "portfolio = [\n",
    "    ('GOOG', 100, 490.1),\n",
    "    ('IBM', 50, 91.1),\n",
    "    ('CAT', 150, 83.44),\n",
    "    ('IBM', 100, 45.23),\n",
    "    ('GOOG', 75, 572.45),\n",
    "    ('AA', 50, 23.15),\n",
    "]"
   ]
  },
  {
   "cell_type": "markdown",
   "metadata": {},
   "source": [
    "위 리스트에 `IBM`과 `GOOG`가 두개씩 있다. 종목별로 합산해보자."
   ]
  },
  {
   "cell_type": "markdown",
   "metadata": {},
   "source": [
    "### Counter\n",
    "* 해법 : `Counter()`를 사용"
   ]
  },
  {
   "cell_type": "code",
   "execution_count": 14,
   "metadata": {},
   "outputs": [
    {
     "name": "stdout",
     "output_type": "stream",
     "text": [
      "total_shares[GOOG] = 100\n",
      "total_shares[IBM] = 50\n",
      "total_shares[CAT] = 150\n",
      "total_shares[IBM] = 150\n",
      "total_shares[GOOG] = 175\n",
      "total_shares[AA] = 50\n"
     ]
    },
    {
     "data": {
      "text/plain": [
       "150"
      ]
     },
     "execution_count": 14,
     "metadata": {},
     "output_type": "execute_result"
    }
   ],
   "source": [
    "from collections import Counter\n",
    "\n",
    "total_shares = Counter()\n",
    "\n",
    "for name, share, price in portfolio:\n",
    "    #print(name, share, price)\n",
    "    total_shares[name] = total_shares[name] + share\n",
    "    print('total_shares['+name+'] =', total_shares[name])\n",
    "\n",
    "total_shares['IBM']"
   ]
  },
  {
   "cell_type": "code",
   "execution_count": 15,
   "metadata": {},
   "outputs": [
    {
     "name": "stdout",
     "output_type": "stream",
     "text": [
      "Help on Counter in module collections object:\n",
      "\n",
      "class Counter(builtins.dict)\n",
      " |  Counter(iterable=None, /, **kwds)\n",
      " |  \n",
      " |  Dict subclass for counting hashable items.  Sometimes called a bag\n",
      " |  or multiset.  Elements are stored as dictionary keys and their counts\n",
      " |  are stored as dictionary values.\n",
      " |  \n",
      " |  >>> c = Counter('abcdeabcdabcaba')  # count elements from a string\n",
      " |  \n",
      " |  >>> c.most_common(3)                # three most common elements\n",
      " |  [('a', 5), ('b', 4), ('c', 3)]\n",
      " |  >>> sorted(c)                       # list all unique elements\n",
      " |  ['a', 'b', 'c', 'd', 'e']\n",
      " |  >>> ''.join(sorted(c.elements()))   # list elements with repetitions\n",
      " |  'aaaaabbbbcccdde'\n",
      " |  >>> sum(c.values())                 # total of all counts\n",
      " |  15\n",
      " |  \n",
      " |  >>> c['a']                          # count of letter 'a'\n",
      " |  5\n",
      " |  >>> for elem in 'shazam':           # update counts from an iterable\n",
      " |  ...     c[elem] += 1                # by adding 1 to each element's count\n",
      " |  >>> c['a']                          # now there are seven 'a'\n",
      " |  7\n",
      " |  >>> del c['b']                      # remove all 'b'\n",
      " |  >>> c['b']                          # now there are zero 'b'\n",
      " |  0\n",
      " |  \n",
      " |  >>> d = Counter('simsalabim')       # make another counter\n",
      " |  >>> c.update(d)                     # add in the second counter\n",
      " |  >>> c['a']                          # now there are nine 'a'\n",
      " |  9\n",
      " |  \n",
      " |  >>> c.clear()                       # empty the counter\n",
      " |  >>> c\n",
      " |  Counter()\n",
      " |  \n",
      " |  Note:  If a count is set to zero or reduced to zero, it will remain\n",
      " |  in the counter until the entry is deleted or the counter is cleared:\n",
      " |  \n",
      " |  >>> c = Counter('aaabbc')\n",
      " |  >>> c['b'] -= 2                     # reduce the count of 'b' by two\n",
      " |  >>> c.most_common()                 # 'b' is still in, but its count is zero\n",
      " |  [('a', 3), ('c', 1), ('b', 0)]\n",
      " |  \n",
      " |  Method resolution order:\n",
      " |      Counter\n",
      " |      builtins.dict\n",
      " |      builtins.object\n",
      " |  \n",
      " |  Methods defined here:\n",
      " |  \n",
      " |  __add__(self, other)\n",
      " |      Add counts from two counters.\n",
      " |      \n",
      " |      >>> Counter('abbb') + Counter('bcc')\n",
      " |      Counter({'b': 4, 'c': 2, 'a': 1})\n",
      " |  \n",
      " |  __and__(self, other)\n",
      " |      Intersection is the minimum of corresponding counts.\n",
      " |      \n",
      " |      >>> Counter('abbb') & Counter('bcc')\n",
      " |      Counter({'b': 1})\n",
      " |  \n",
      " |  __delitem__(self, elem)\n",
      " |      Like dict.__delitem__() but does not raise KeyError for missing values.\n",
      " |  \n",
      " |  __iadd__(self, other)\n",
      " |      Inplace add from another counter, keeping only positive counts.\n",
      " |      \n",
      " |      >>> c = Counter('abbb')\n",
      " |      >>> c += Counter('bcc')\n",
      " |      >>> c\n",
      " |      Counter({'b': 4, 'c': 2, 'a': 1})\n",
      " |  \n",
      " |  __iand__(self, other)\n",
      " |      Inplace intersection is the minimum of corresponding counts.\n",
      " |      \n",
      " |      >>> c = Counter('abbb')\n",
      " |      >>> c &= Counter('bcc')\n",
      " |      >>> c\n",
      " |      Counter({'b': 1})\n",
      " |  \n",
      " |  __init__(self, iterable=None, /, **kwds)\n",
      " |      Create a new, empty Counter object.  And if given, count elements\n",
      " |      from an input iterable.  Or, initialize the count from another mapping\n",
      " |      of elements to their counts.\n",
      " |      \n",
      " |      >>> c = Counter()                           # a new, empty counter\n",
      " |      >>> c = Counter('gallahad')                 # a new counter from an iterable\n",
      " |      >>> c = Counter({'a': 4, 'b': 2})           # a new counter from a mapping\n",
      " |      >>> c = Counter(a=4, b=2)                   # a new counter from keyword args\n",
      " |  \n",
      " |  __ior__(self, other)\n",
      " |      Inplace union is the maximum of value from either counter.\n",
      " |      \n",
      " |      >>> c = Counter('abbb')\n",
      " |      >>> c |= Counter('bcc')\n",
      " |      >>> c\n",
      " |      Counter({'b': 3, 'c': 2, 'a': 1})\n",
      " |  \n",
      " |  __isub__(self, other)\n",
      " |      Inplace subtract counter, but keep only results with positive counts.\n",
      " |      \n",
      " |      >>> c = Counter('abbbc')\n",
      " |      >>> c -= Counter('bccd')\n",
      " |      >>> c\n",
      " |      Counter({'b': 2, 'a': 1})\n",
      " |  \n",
      " |  __missing__(self, key)\n",
      " |      The count of elements not in the Counter is zero.\n",
      " |  \n",
      " |  __neg__(self)\n",
      " |      Subtracts from an empty counter.  Strips positive and zero counts,\n",
      " |      and flips the sign on negative counts.\n",
      " |  \n",
      " |  __or__(self, other)\n",
      " |      Union is the maximum of value in either of the input counters.\n",
      " |      \n",
      " |      >>> Counter('abbb') | Counter('bcc')\n",
      " |      Counter({'b': 3, 'c': 2, 'a': 1})\n",
      " |  \n",
      " |  __pos__(self)\n",
      " |      Adds an empty counter, effectively stripping negative and zero counts\n",
      " |  \n",
      " |  __reduce__(self)\n",
      " |      Helper for pickle.\n",
      " |  \n",
      " |  __repr__(self)\n",
      " |      Return repr(self).\n",
      " |  \n",
      " |  __sub__(self, other)\n",
      " |      Subtract count, but keep only results with positive counts.\n",
      " |      \n",
      " |      >>> Counter('abbbc') - Counter('bccd')\n",
      " |      Counter({'b': 2, 'a': 1})\n",
      " |  \n",
      " |  copy(self)\n",
      " |      Return a shallow copy.\n",
      " |  \n",
      " |  elements(self)\n",
      " |      Iterator over elements repeating each as many times as its count.\n",
      " |      \n",
      " |      >>> c = Counter('ABCABC')\n",
      " |      >>> sorted(c.elements())\n",
      " |      ['A', 'A', 'B', 'B', 'C', 'C']\n",
      " |      \n",
      " |      # Knuth's example for prime factors of 1836:  2**2 * 3**3 * 17**1\n",
      " |      >>> prime_factors = Counter({2: 2, 3: 3, 17: 1})\n",
      " |      >>> product = 1\n",
      " |      >>> for factor in prime_factors.elements():     # loop over factors\n",
      " |      ...     product *= factor                       # and multiply them\n",
      " |      >>> product\n",
      " |      1836\n",
      " |      \n",
      " |      Note, if an element's count has been set to zero or is a negative\n",
      " |      number, elements() will ignore it.\n",
      " |  \n",
      " |  most_common(self, n=None)\n",
      " |      List the n most common elements and their counts from the most\n",
      " |      common to the least.  If n is None, then list all element counts.\n",
      " |      \n",
      " |      >>> Counter('abracadabra').most_common(3)\n",
      " |      [('a', 5), ('b', 2), ('r', 2)]\n",
      " |  \n",
      " |  subtract(self, iterable=None, /, **kwds)\n",
      " |      Like dict.update() but subtracts counts instead of replacing them.\n",
      " |      Counts can be reduced below zero.  Both the inputs and outputs are\n",
      " |      allowed to contain zero and negative counts.\n",
      " |      \n",
      " |      Source can be an iterable, a dictionary, or another Counter instance.\n",
      " |      \n",
      " |      >>> c = Counter('which')\n",
      " |      >>> c.subtract('witch')             # subtract elements from another iterable\n",
      " |      >>> c.subtract(Counter('watch'))    # subtract elements from another counter\n",
      " |      >>> c['h']                          # 2 in which, minus 1 in witch, minus 1 in watch\n",
      " |      0\n",
      " |      >>> c['w']                          # 1 in which, minus 1 in witch, minus 1 in watch\n",
      " |      -1\n",
      " |  \n",
      " |  update(self, iterable=None, /, **kwds)\n",
      " |      Like dict.update() but add counts instead of replacing them.\n",
      " |      \n",
      " |      Source can be an iterable, a dictionary, or another Counter instance.\n",
      " |      \n",
      " |      >>> c = Counter('which')\n",
      " |      >>> c.update('witch')           # add elements from another iterable\n",
      " |      >>> d = Counter('watch')\n",
      " |      >>> c.update(d)                 # add elements from another counter\n",
      " |      >>> c['h']                      # four 'h' in which, witch, and watch\n",
      " |      4\n",
      " |  \n",
      " |  ----------------------------------------------------------------------\n",
      " |  Class methods defined here:\n",
      " |  \n",
      " |  fromkeys(iterable, v=None) from builtins.type\n",
      " |      Create a new dictionary with keys from iterable and values set to value.\n",
      " |  \n",
      " |  ----------------------------------------------------------------------\n",
      " |  Data descriptors defined here:\n",
      " |  \n",
      " |  __dict__\n",
      " |      dictionary for instance variables (if defined)\n",
      " |  \n",
      " |  __weakref__\n",
      " |      list of weak references to the object (if defined)\n",
      " |  \n",
      " |  ----------------------------------------------------------------------\n",
      " |  Methods inherited from builtins.dict:\n",
      " |  \n",
      " |  __contains__(self, key, /)\n",
      " |      True if the dictionary has the specified key, else False.\n",
      " |  \n",
      " |  __eq__(self, value, /)\n",
      " |      Return self==value.\n",
      " |  \n",
      " |  __ge__(self, value, /)\n",
      " |      Return self>=value.\n",
      " |  \n",
      " |  __getattribute__(self, name, /)\n",
      " |      Return getattr(self, name).\n",
      " |  \n",
      " |  __getitem__(...)\n",
      " |      x.__getitem__(y) <==> x[y]\n",
      " |  \n",
      " |  __gt__(self, value, /)\n",
      " |      Return self>value.\n",
      " |  \n",
      " |  __iter__(self, /)\n",
      " |      Implement iter(self).\n",
      " |  \n",
      " |  __le__(self, value, /)\n",
      " |      Return self<=value.\n",
      " |  \n",
      " |  __len__(self, /)\n",
      " |      Return len(self).\n",
      " |  \n",
      " |  __lt__(self, value, /)\n",
      " |      Return self<value.\n",
      " |  \n",
      " |  __ne__(self, value, /)\n",
      " |      Return self!=value.\n",
      " |  \n",
      " |  __reversed__(self, /)\n",
      " |      Return a reverse iterator over the dict keys.\n",
      " |  \n",
      " |  __setitem__(self, key, value, /)\n",
      " |      Set self[key] to value.\n",
      " |  \n",
      " |  __sizeof__(...)\n",
      " |      D.__sizeof__() -> size of D in memory, in bytes\n",
      " |  \n",
      " |  clear(...)\n",
      " |      D.clear() -> None.  Remove all items from D.\n",
      " |  \n",
      " |  get(self, key, default=None, /)\n",
      " |      Return the value for key if key is in the dictionary, else default.\n",
      " |  \n",
      " |  items(...)\n",
      " |      D.items() -> a set-like object providing a view on D's items\n",
      " |  \n",
      " |  keys(...)\n",
      " |      D.keys() -> a set-like object providing a view on D's keys\n",
      " |  \n",
      " |  pop(...)\n",
      " |      D.pop(k[,d]) -> v, remove specified key and return the corresponding value.\n",
      " |      If key is not found, d is returned if given, otherwise KeyError is raised\n",
      " |  \n",
      " |  popitem(self, /)\n",
      " |      Remove and return a (key, value) pair as a 2-tuple.\n",
      " |      \n",
      " |      Pairs are returned in LIFO (last-in, first-out) order.\n",
      " |      Raises KeyError if the dict is empty.\n",
      " |  \n",
      " |  setdefault(self, key, default=None, /)\n",
      " |      Insert key with a value of default if key is not in the dictionary.\n",
      " |      \n",
      " |      Return the value for key if key is in the dictionary, else default.\n",
      " |  \n",
      " |  values(...)\n",
      " |      D.values() -> an object providing a view on D's values\n",
      " |  \n",
      " |  ----------------------------------------------------------------------\n",
      " |  Static methods inherited from builtins.dict:\n",
      " |  \n",
      " |  __new__(*args, **kwargs) from builtins.type\n",
      " |      Create and return a new object.  See help(type) for accurate signature.\n",
      " |  \n",
      " |  ----------------------------------------------------------------------\n",
      " |  Data and other attributes inherited from builtins.dict:\n",
      " |  \n",
      " |  __hash__ = None\n",
      "\n"
     ]
    }
   ],
   "source": [
    "help(total_shares)"
   ]
  },
  {
   "cell_type": "markdown",
   "metadata": {},
   "source": [
    "### 예 : 일대다(One-Many) 매핑\n",
    "* 문제 : 하나의 키를 여러 개의 값에 매핑하려고 한다."
   ]
  },
  {
   "cell_type": "code",
   "execution_count": 16,
   "metadata": {},
   "outputs": [],
   "source": [
    "portfolio = [\n",
    "    ('GOOG', 100, 490.1),\n",
    "    ('IBM', 50, 91.1),\n",
    "    ('CAT', 150, 83.44),\n",
    "    ('IBM', 100, 45.23),\n",
    "    ('GOOG', 75, 572.45),\n",
    "    ('AA', 50, 23.15),\n",
    "]"
   ]
  },
  {
   "cell_type": "markdown",
   "metadata": {},
   "source": [
    "앞의 예와 같이, `IBM`을 키로 삼으면 두개의 튜플이 있다."
   ]
  },
  {
   "cell_type": "code",
   "execution_count": 17,
   "metadata": {},
   "outputs": [
    {
     "data": {
      "text/plain": [
       "[(50, 91.1), (100, 45.23)]"
      ]
     },
     "execution_count": 17,
     "metadata": {},
     "output_type": "execute_result"
    }
   ],
   "source": [
    "from collections import defaultdict\n",
    "\n",
    "holdings = defaultdict(list)\n",
    "\n",
    "for name, share, price in portfolio:\n",
    "    holdings[name].append((share, price))\n",
    "holdings['IBM']"
   ]
  },
  {
   "cell_type": "code",
   "execution_count": 18,
   "metadata": {},
   "outputs": [
    {
     "name": "stdout",
     "output_type": "stream",
     "text": [
      "Help on defaultdict object:\n",
      "\n",
      "class defaultdict(builtins.dict)\n",
      " |  defaultdict(default_factory[, ...]) --> dict with default factory\n",
      " |  \n",
      " |  The default factory is called without arguments to produce\n",
      " |  a new value when a key is not present, in __getitem__ only.\n",
      " |  A defaultdict compares equal to a dict with the same items.\n",
      " |  All remaining arguments are treated the same as if they were\n",
      " |  passed to the dict constructor, including keyword arguments.\n",
      " |  \n",
      " |  Method resolution order:\n",
      " |      defaultdict\n",
      " |      builtins.dict\n",
      " |      builtins.object\n",
      " |  \n",
      " |  Methods defined here:\n",
      " |  \n",
      " |  __copy__(...)\n",
      " |      D.copy() -> a shallow copy of D.\n",
      " |  \n",
      " |  __getattribute__(self, name, /)\n",
      " |      Return getattr(self, name).\n",
      " |  \n",
      " |  __init__(self, /, *args, **kwargs)\n",
      " |      Initialize self.  See help(type(self)) for accurate signature.\n",
      " |  \n",
      " |  __missing__(...)\n",
      " |      __missing__(key) # Called by __getitem__ for missing key; pseudo-code:\n",
      " |      if self.default_factory is None: raise KeyError((key,))\n",
      " |      self[key] = value = self.default_factory()\n",
      " |      return value\n",
      " |  \n",
      " |  __reduce__(...)\n",
      " |      Return state information for pickling.\n",
      " |  \n",
      " |  __repr__(self, /)\n",
      " |      Return repr(self).\n",
      " |  \n",
      " |  copy(...)\n",
      " |      D.copy() -> a shallow copy of D.\n",
      " |  \n",
      " |  ----------------------------------------------------------------------\n",
      " |  Data descriptors defined here:\n",
      " |  \n",
      " |  default_factory\n",
      " |      Factory for default value called by __missing__().\n",
      " |  \n",
      " |  ----------------------------------------------------------------------\n",
      " |  Methods inherited from builtins.dict:\n",
      " |  \n",
      " |  __contains__(self, key, /)\n",
      " |      True if the dictionary has the specified key, else False.\n",
      " |  \n",
      " |  __delitem__(self, key, /)\n",
      " |      Delete self[key].\n",
      " |  \n",
      " |  __eq__(self, value, /)\n",
      " |      Return self==value.\n",
      " |  \n",
      " |  __ge__(self, value, /)\n",
      " |      Return self>=value.\n",
      " |  \n",
      " |  __getitem__(...)\n",
      " |      x.__getitem__(y) <==> x[y]\n",
      " |  \n",
      " |  __gt__(self, value, /)\n",
      " |      Return self>value.\n",
      " |  \n",
      " |  __iter__(self, /)\n",
      " |      Implement iter(self).\n",
      " |  \n",
      " |  __le__(self, value, /)\n",
      " |      Return self<=value.\n",
      " |  \n",
      " |  __len__(self, /)\n",
      " |      Return len(self).\n",
      " |  \n",
      " |  __lt__(self, value, /)\n",
      " |      Return self<value.\n",
      " |  \n",
      " |  __ne__(self, value, /)\n",
      " |      Return self!=value.\n",
      " |  \n",
      " |  __reversed__(self, /)\n",
      " |      Return a reverse iterator over the dict keys.\n",
      " |  \n",
      " |  __setitem__(self, key, value, /)\n",
      " |      Set self[key] to value.\n",
      " |  \n",
      " |  __sizeof__(...)\n",
      " |      D.__sizeof__() -> size of D in memory, in bytes\n",
      " |  \n",
      " |  clear(...)\n",
      " |      D.clear() -> None.  Remove all items from D.\n",
      " |  \n",
      " |  get(self, key, default=None, /)\n",
      " |      Return the value for key if key is in the dictionary, else default.\n",
      " |  \n",
      " |  items(...)\n",
      " |      D.items() -> a set-like object providing a view on D's items\n",
      " |  \n",
      " |  keys(...)\n",
      " |      D.keys() -> a set-like object providing a view on D's keys\n",
      " |  \n",
      " |  pop(...)\n",
      " |      D.pop(k[,d]) -> v, remove specified key and return the corresponding value.\n",
      " |      If key is not found, d is returned if given, otherwise KeyError is raised\n",
      " |  \n",
      " |  popitem(self, /)\n",
      " |      Remove and return a (key, value) pair as a 2-tuple.\n",
      " |      \n",
      " |      Pairs are returned in LIFO (last-in, first-out) order.\n",
      " |      Raises KeyError if the dict is empty.\n",
      " |  \n",
      " |  setdefault(self, key, default=None, /)\n",
      " |      Insert key with a value of default if key is not in the dictionary.\n",
      " |      \n",
      " |      Return the value for key if key is in the dictionary, else default.\n",
      " |  \n",
      " |  update(...)\n",
      " |      D.update([E, ]**F) -> None.  Update D from dict/iterable E and F.\n",
      " |      If E is present and has a .keys() method, then does:  for k in E: D[k] = E[k]\n",
      " |      If E is present and lacks a .keys() method, then does:  for k, v in E: D[k] = v\n",
      " |      In either case, this is followed by: for k in F:  D[k] = F[k]\n",
      " |  \n",
      " |  values(...)\n",
      " |      D.values() -> an object providing a view on D's values\n",
      " |  \n",
      " |  ----------------------------------------------------------------------\n",
      " |  Class methods inherited from builtins.dict:\n",
      " |  \n",
      " |  fromkeys(iterable, value=None, /) from builtins.type\n",
      " |      Create a new dictionary with keys from iterable and values set to value.\n",
      " |  \n",
      " |  ----------------------------------------------------------------------\n",
      " |  Static methods inherited from builtins.dict:\n",
      " |  \n",
      " |  __new__(*args, **kwargs) from builtins.type\n",
      " |      Create and return a new object.  See help(type) for accurate signature.\n",
      " |  \n",
      " |  ----------------------------------------------------------------------\n",
      " |  Data and other attributes inherited from builtins.dict:\n",
      " |  \n",
      " |  __hash__ = None\n",
      "\n"
     ]
    }
   ],
   "source": [
    "help(holdings)"
   ]
  },
  {
   "cell_type": "markdown",
   "metadata": {},
   "source": [
    "### 예 : 이력을 유지하기\n",
    "* 문제 : 미지막 N개의 이력을 유지하고 싶다.\n",
    "* 해법 : `deque`를 사용"
   ]
  },
  {
   "cell_type": "code",
   "execution_count": 19,
   "metadata": {},
   "outputs": [
    {
     "ename": "NameError",
     "evalue": "name 'N' is not defined",
     "output_type": "error",
     "traceback": [
      "\u001b[1;31m---------------------------------------------------------------------------\u001b[0m",
      "\u001b[1;31mNameError\u001b[0m                                 Traceback (most recent call last)",
      "\u001b[1;32m<ipython-input-19-dd11f4dc1d7d>\u001b[0m in \u001b[0;36m<module>\u001b[1;34m\u001b[0m\n\u001b[0;32m      1\u001b[0m \u001b[1;32mfrom\u001b[0m \u001b[0mcollections\u001b[0m \u001b[1;32mimport\u001b[0m \u001b[0mdeque\u001b[0m\u001b[1;33m\u001b[0m\u001b[1;33m\u001b[0m\u001b[0m\n\u001b[0;32m      2\u001b[0m \u001b[1;33m\u001b[0m\u001b[0m\n\u001b[1;32m----> 3\u001b[1;33m \u001b[0mhistory\u001b[0m \u001b[1;33m=\u001b[0m \u001b[0mdeque\u001b[0m\u001b[1;33m(\u001b[0m\u001b[0mmaxlen\u001b[0m \u001b[1;33m=\u001b[0m \u001b[0mN\u001b[0m\u001b[1;33m)\u001b[0m\u001b[1;33m\u001b[0m\u001b[1;33m\u001b[0m\u001b[0m\n\u001b[0m\u001b[0;32m      4\u001b[0m \u001b[1;33m\u001b[0m\u001b[0m\n\u001b[0;32m      5\u001b[0m \u001b[1;32mwith\u001b[0m \u001b[0mopen\u001b[0m\u001b[1;33m(\u001b[0m\u001b[0mfilename\u001b[0m\u001b[1;33m)\u001b[0m \u001b[1;32mas\u001b[0m \u001b[0mf\u001b[0m\u001b[1;33m:\u001b[0m\u001b[1;33m\u001b[0m\u001b[1;33m\u001b[0m\u001b[0m\n",
      "\u001b[1;31mNameError\u001b[0m: name 'N' is not defined"
     ]
    }
   ],
   "source": [
    "from collections import deque\n",
    "\n",
    "history = deque(maxlen = N)\n",
    "\n",
    "with open(filename) as f:\n",
    "    for line in f:\n",
    "        history.append(line)\n",
    "        pass"
   ]
  },
  {
   "cell_type": "markdown",
   "metadata": {},
   "source": [
    "### 연습문제"
   ]
  },
  {
   "cell_type": "markdown",
   "metadata": {},
   "source": [
    "### 2.18 Counter를 표 형태의 데이터 다루기 \n",
    "* 각 종목의 총 주식수를 나타내는 표를 만들고 싶다고 하자.`Counter`객체를 사용해 쉽게 할수 있다."
   ]
  },
  {
   "cell_type": "code",
   "execution_count": 22,
   "metadata": {},
   "outputs": [],
   "source": [
    "portfolio = read_portpolio(\"../../Work/Data/portfolio.csv\")"
   ]
  },
  {
   "cell_type": "code",
   "execution_count": 26,
   "metadata": {},
   "outputs": [
    {
     "data": {
      "text/plain": [
       "Counter({'AA': 100, 'IBM': 150, 'CAT': 150, 'MSFT': 250, 'GE': 95})"
      ]
     },
     "execution_count": 26,
     "metadata": {},
     "output_type": "execute_result"
    }
   ],
   "source": [
    "from collections import Counter\n",
    "holdings = Counter()\n",
    "\n",
    "for s in portfolio:\n",
    "    holdings[s['name']] += s['shares']\n",
    "\n",
    "holdings"
   ]
  },
  {
   "cell_type": "code",
   "execution_count": 30,
   "metadata": {},
   "outputs": [
    {
     "data": {
      "text/plain": [
       "(100, 150)"
      ]
     },
     "execution_count": 30,
     "metadata": {},
     "output_type": "execute_result"
    }
   ],
   "source": [
    "holdings['AA'], holdings['IBM']"
   ]
  },
  {
   "cell_type": "code",
   "execution_count": 33,
   "metadata": {},
   "outputs": [
    {
     "data": {
      "text/plain": [
       "[('MSFT', 250), ('IBM', 150), ('CAT', 150)]"
      ]
     },
     "execution_count": 33,
     "metadata": {},
     "output_type": "execute_result"
    }
   ],
   "source": [
    "# 가장 많이 보유한 주식 3가지\n",
    "holdings.most_common(3)"
   ]
  },
  {
   "cell_type": "markdown",
   "metadata": {},
   "source": [
    "다른 포트폴리오를 가지고 새로운 Counter를 만들어보자 "
   ]
  },
  {
   "cell_type": "code",
   "execution_count": 38,
   "metadata": {},
   "outputs": [],
   "source": [
    "portfolio2 = read_portpolio(\"../../Work/Data/portfolio2.csv\")"
   ]
  },
  {
   "cell_type": "code",
   "execution_count": 40,
   "metadata": {},
   "outputs": [
    {
     "data": {
      "text/plain": [
       "Counter({'AA': 50, 'HPQ': 250, 'MSFT': 25, 'GE': 125})"
      ]
     },
     "execution_count": 40,
     "metadata": {},
     "output_type": "execute_result"
    }
   ],
   "source": [
    "from collections import Counter\n",
    "holdings2 = Counter()\n",
    "\n",
    "for s in portfolio2:\n",
    "    holdings2[s['name']] += s['shares']\n",
    "\n",
    "holdings2"
   ]
  },
  {
   "cell_type": "markdown",
   "metadata": {},
   "source": [
    "모든 보유종목을 간단한 연산 하나로 결합"
   ]
  },
  {
   "cell_type": "code",
   "execution_count": 42,
   "metadata": {},
   "outputs": [
    {
     "data": {
      "text/plain": [
       "Counter({'AA': 150,\n",
       "         'IBM': 150,\n",
       "         'CAT': 150,\n",
       "         'MSFT': 275,\n",
       "         'GE': 220,\n",
       "         'HPQ': 250})"
      ]
     },
     "execution_count": 42,
     "metadata": {},
     "output_type": "execute_result"
    }
   ],
   "source": [
    "combined = holdings + holdings2\n",
    "combined"
   ]
  }
 ],
 "metadata": {
  "kernelspec": {
   "display_name": "Python 3",
   "language": "python",
   "name": "python3"
  },
  "language_info": {
   "codemirror_mode": {
    "name": "ipython",
    "version": 3
   },
   "file_extension": ".py",
   "mimetype": "text/x-python",
   "name": "python",
   "nbconvert_exporter": "python",
   "pygments_lexer": "ipython3",
   "version": "3.8.3"
  }
 },
 "nbformat": 4,
 "nbformat_minor": 4
}
