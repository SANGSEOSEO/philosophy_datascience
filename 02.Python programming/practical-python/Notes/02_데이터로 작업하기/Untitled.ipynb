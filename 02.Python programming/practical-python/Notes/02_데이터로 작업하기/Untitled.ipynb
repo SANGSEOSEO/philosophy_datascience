{
 "cells": [
  {
   "cell_type": "markdown",
   "metadata": {},
   "source": [
    "## 2.6 리스트 컴프리헨션\n",
    "\n",
    "[1.리스트 신규 생성](#리스트-신규-생성)<br>\n",
    "[2.필터링](#필터링)<br>\n",
    "3.사용 예<br>\n",
    "4.일반적인 문법<br>\n",
    "5.탄생 배경(Historical Digression)<br>\n",
    "6. 연습문제<br>\n",
    "  &nbsp;&nbsp;&nbsp;2.19 리스트 컴프리헨션<br>\n",
    "  &nbsp;&nbsp;&nbsp;2.20 시퀀스 축소<br>\n",
    "  &nbsp;&nbsp;&nbsp;2.21 데이터 질의<br>\n",
    "  &nbsp;&nbsp;&nbsp;2.22 데이터 추출<br>\n",
    "  &nbsp;&nbsp;&nbsp;2.23 CSV 파일로부터 데이터 추출<br>\n",
    "  &nbsp;&nbsp;&nbsp;2.24 부연설명(Commentary)"
   ]
  },
  {
   "cell_type": "markdown",
   "metadata": {},
   "source": [
    "### 리스트 신규 생성"
   ]
  },
  {
   "cell_type": "code",
   "execution_count": 2,
   "metadata": {},
   "outputs": [
    {
     "data": {
      "text/plain": [
       "([1, 2, 3, 4, 5], [2, 4, 6, 8, 10])"
      ]
     },
     "execution_count": 2,
     "metadata": {},
     "output_type": "execute_result"
    }
   ],
   "source": [
    "a = [1, 2, 3, 4, 5]\n",
    "b = [2 * x for x in a]\n",
    "a, b"
   ]
  },
  {
   "cell_type": "markdown",
   "metadata": {},
   "source": [
    "* 위의 컴프리헨션을 자세히보면, 리스트 각 원소에 연산을 한 결과이다."
   ]
  },
  {
   "cell_type": "code",
   "execution_count": 11,
   "metadata": {},
   "outputs": [
    {
     "data": {
      "text/plain": [
       "['elwood', 'jake']"
      ]
     },
     "execution_count": 11,
     "metadata": {},
     "output_type": "execute_result"
    }
   ],
   "source": [
    "names = ['Elwood', 'Jake']\n",
    "a = [name.lower() for name in names]\n",
    "a"
   ]
  },
  {
   "cell_type": "markdown",
   "metadata": {},
   "source": [
    "### 일반적인 문법"
   ]
  },
  {
   "cell_type": "markdown",
   "metadata": {},
   "source": [
    "* 일반적인 구문: [ <표현식> for <변수명> in <시퀀스> ]\n",
    "* 아래의 코딩과 동일한 의미"
   ]
  },
  {
   "cell_type": "code",
   "execution_count": null,
   "metadata": {},
   "outputs": [],
   "source": [
    "result = []\n",
    "    for <변수명> in <시퀀스>:\n",
    "        if condition:\n",
    "            result.append(<표현식>)"
   ]
  },
  {
   "cell_type": "markdown",
   "metadata": {},
   "source": [
    "### 필터링"
   ]
  },
  {
   "cell_type": "code",
   "execution_count": 10,
   "metadata": {},
   "outputs": [
    {
     "data": {
      "text/plain": [
       "([1, -5, 4, 2, -2, 10], [2, 8, 4, 20])"
      ]
     },
     "execution_count": 10,
     "metadata": {},
     "output_type": "execute_result"
    }
   ],
   "source": [
    "a = [1, -5, 4, 2, -2, 10]\n",
    "b = [2 * x for x in a if x > 0]\n",
    "a, b"
   ]
  },
  {
   "cell_type": "markdown",
   "metadata": {},
   "source": [
    "* 필터링 조건으로 리스트 컴프리헨션이 생성"
   ]
  },
  {
   "cell_type": "markdown",
   "metadata": {},
   "source": [
    "### 사용예"
   ]
  },
  {
   "cell_type": "code",
   "execution_count": null,
   "metadata": {},
   "outputs": [],
   "source": [
    "stocks = [\n",
    "    {''}\n",
    "]"
   ]
  }
 ],
 "metadata": {
  "kernelspec": {
   "display_name": "Python 3",
   "language": "python",
   "name": "python3"
  },
  "language_info": {
   "codemirror_mode": {
    "name": "ipython",
    "version": 3
   },
   "file_extension": ".py",
   "mimetype": "text/x-python",
   "name": "python",
   "nbconvert_exporter": "python",
   "pygments_lexer": "ipython3",
   "version": "3.8.3"
  }
 },
 "nbformat": 4,
 "nbformat_minor": 4
}
