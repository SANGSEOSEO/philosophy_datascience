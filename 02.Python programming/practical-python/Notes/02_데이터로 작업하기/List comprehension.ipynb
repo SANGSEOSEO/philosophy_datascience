{
 "cells": [
  {
   "cell_type": "markdown",
   "metadata": {},
   "source": [
    "## 2.6 리스트 컴프리헨션\n",
    "\n",
    "[1.리스트 신규 생성](#리스트-신규-생성)<br>\n",
    "[2.필터링](#필터링)<br>\n",
    "[3.사용 예](#사용예)<br>\n",
    "[4.일반적인 문법](#일반적인-문법)<br>\n",
    "5.탄생 배경(Historical Digression)<br>\n",
    "6. 연습문제<br>\n",
    "  &nbsp;&nbsp;&nbsp;2.19 리스트 컴프리헨션<br>\n",
    "  &nbsp;&nbsp;&nbsp;2.20 시퀀스 축소<br>\n",
    "  &nbsp;&nbsp;&nbsp;2.21 데이터 질의<br>\n",
    "  &nbsp;&nbsp;&nbsp;2.22 데이터 추출<br>\n",
    "  &nbsp;&nbsp;&nbsp;2.23 CSV 파일로부터 데이터 추출<br>\n",
    "  &nbsp;&nbsp;&nbsp;2.24 부연설명(Commentary)"
   ]
  },
  {
   "cell_type": "markdown",
   "metadata": {},
   "source": [
    "### 리스트 신규 생성"
   ]
  },
  {
   "cell_type": "code",
   "execution_count": 2,
   "metadata": {},
   "outputs": [
    {
     "data": {
      "text/plain": [
       "([1, 2, 3, 4, 5], [2, 4, 6, 8, 10])"
      ]
     },
     "execution_count": 2,
     "metadata": {},
     "output_type": "execute_result"
    }
   ],
   "source": [
    "a = [1, 2, 3, 4, 5]\n",
    "b = [2 * x for x in a]\n",
    "a, b"
   ]
  },
  {
   "cell_type": "markdown",
   "metadata": {},
   "source": [
    "* 위의 컴프리헨션을 자세히보면, 리스트 각 원소에 연산을 한 결과이다."
   ]
  },
  {
   "cell_type": "code",
   "execution_count": 11,
   "metadata": {},
   "outputs": [
    {
     "data": {
      "text/plain": [
       "['elwood', 'jake']"
      ]
     },
     "execution_count": 11,
     "metadata": {},
     "output_type": "execute_result"
    }
   ],
   "source": [
    "names = ['Elwood', 'Jake']\n",
    "a = [name.lower() for name in names]\n",
    "a"
   ]
  },
  {
   "cell_type": "markdown",
   "metadata": {},
   "source": [
    "### 일반적인 문법"
   ]
  },
  {
   "cell_type": "markdown",
   "metadata": {},
   "source": [
    "* 일반적인 구문: [ <표현식> for <변수명> in <시퀀스> ]\n",
    "* 아래의 코딩과 동일한 의미"
   ]
  },
  {
   "cell_type": "code",
   "execution_count": null,
   "metadata": {},
   "outputs": [],
   "source": [
    "result = []\n",
    "    for <변수명> in <시퀀스>:\n",
    "        if condition:\n",
    "            result.append(<표현식>)"
   ]
  },
  {
   "cell_type": "markdown",
   "metadata": {},
   "source": [
    "### 필터링"
   ]
  },
  {
   "cell_type": "code",
   "execution_count": 10,
   "metadata": {},
   "outputs": [
    {
     "data": {
      "text/plain": [
       "([1, -5, 4, 2, -2, 10], [2, 8, 4, 20])"
      ]
     },
     "execution_count": 10,
     "metadata": {},
     "output_type": "execute_result"
    }
   ],
   "source": [
    "a = [1, -5, 4, 2, -2, 10]\n",
    "b = [2 * x for x in a if x > 0]\n",
    "a, b"
   ]
  },
  {
   "cell_type": "markdown",
   "metadata": {},
   "source": [
    "* 필터링 조건으로 리스트 컴프리헨션이 생성"
   ]
  },
  {
   "cell_type": "markdown",
   "metadata": {},
   "source": [
    "### 사용예"
   ]
  },
  {
   "cell_type": "code",
   "execution_count": 16,
   "metadata": {},
   "outputs": [],
   "source": [
    "stocks = [\n",
    "    {'name': 'GOOG', 'shares': 5000, 'price': 15000},\n",
    "    {'name': 'APPLE', 'shares': 350, 'price': 22157.6},\n",
    "    {'name': 'SAMSUNG', 'shares': 10, 'price': 80000},\n",
    "    {'name': 'KIA', 'shares': 5, 'price': 60500},\n",
    "    {'name': 'HYNDAI', 'shares': 30, 'price': 50000},\n",
    "]\n",
    "\n",
    "stocknames = [s['name'] for s in stocks if s['price'] > 60000]"
   ]
  },
  {
   "cell_type": "code",
   "execution_count": 18,
   "metadata": {},
   "outputs": [
    {
     "data": {
      "text/plain": [
       "['SAMSUNG', 'KIA']"
      ]
     },
     "execution_count": 18,
     "metadata": {},
     "output_type": "execute_result"
    }
   ],
   "source": [
    "stocknames"
   ]
  },
  {
   "cell_type": "code",
   "execution_count": 21,
   "metadata": {},
   "outputs": [
    {
     "data": {
      "text/plain": [
       "85357660.0"
      ]
     },
     "execution_count": 21,
     "metadata": {},
     "output_type": "execute_result"
    }
   ],
   "source": [
    "cost = sum([s['shares'] * s['price'] for s in stocks])\n",
    "cost"
   ]
  },
  {
   "cell_type": "markdown",
   "metadata": {},
   "source": [
    "### 탄생배경"
   ]
  },
  {
   "cell_type": "markdown",
   "metadata": {},
   "source": [
    "* 리스트 컴프리헨션은 수학에서 왔다(조건제시법)."
   ]
  },
  {
   "cell_type": "code",
   "execution_count": 22,
   "metadata": {},
   "outputs": [],
   "source": [
    "def read_portpolio(filename):\n",
    "    \"\"\"\n",
    "    csv파일을 읽어 주가정보를 딕셔너리형태로 담아서 리스트로 최종 리턴\n",
    "    \"\"\"\n",
    "    import csv\n",
    "    target_dir = \"../../Work/Data/\"\n",
    "    stock_info = []\n",
    "    with open(target_dir + filename, \"rt\") as f:\n",
    "        headers = next(f)\n",
    "        rows = csv.reader(f)\n",
    "        for row in rows:\n",
    "            portfolio = {}\n",
    "            portfolio['name'] = row[0]\n",
    "            portfolio['shares'] = int(row[1])\n",
    "            portfolio['prices'] = float(row[2])\n",
    "            stock_info.append(portfolio)\n",
    "    return stock_info"
   ]
  },
  {
   "cell_type": "markdown",
   "metadata": {},
   "source": [
    "### 연습문제 2.19 리스트 컴프리헨션"
   ]
  },
  {
   "cell_type": "code",
   "execution_count": 24,
   "metadata": {},
   "outputs": [
    {
     "data": {
      "text/plain": [
       "[1, 4, 27, 256]"
      ]
     },
     "execution_count": 24,
     "metadata": {},
     "output_type": "execute_result"
    }
   ],
   "source": [
    "nums = [1, 2, 3, 4]\n",
    "squares = [x ** x for x in nums]\n",
    "squares"
   ]
  },
  {
   "cell_type": "code",
   "execution_count": 29,
   "metadata": {},
   "outputs": [
    {
     "data": {
      "text/plain": [
       "[6, 8]"
      ]
     },
     "execution_count": 29,
     "metadata": {},
     "output_type": "execute_result"
    }
   ],
   "source": [
    "twice = [2 * x for x in nums if x > 2]\n",
    "twice"
   ]
  },
  {
   "cell_type": "markdown",
   "metadata": {},
   "source": [
    "### 2.20 시퀀스 축소"
   ]
  },
  {
   "cell_type": "code",
   "execution_count": 31,
   "metadata": {},
   "outputs": [],
   "source": [
    "portfolio = read_portpolio(\"portfolio.csv\")"
   ]
  },
  {
   "cell_type": "code",
   "execution_count": 41,
   "metadata": {},
   "outputs": [
    {
     "name": "stdout",
     "output_type": "stream",
     "text": [
      "이 주식을 통으로 사는 비용 : 44671.15\n"
     ]
    }
   ],
   "source": [
    "cost = sum([row['shares'] * row['prices'] for row in portfolio])\n",
    "print(\"이 주식을 통으로 사는 비용 : %.2f\" % cost)"
   ]
  },
  {
   "cell_type": "markdown",
   "metadata": {},
   "source": [
    "* Map Reduction의 한 예이다"
   ]
  },
  {
   "cell_type": "markdown",
   "metadata": {},
   "source": [
    "### REPL"
   ]
  },
  {
   "cell_type": "code",
   "execution_count": 35,
   "metadata": {},
   "outputs": [],
   "source": [
    "row = portfolio[0]"
   ]
  },
  {
   "cell_type": "code",
   "execution_count": 40,
   "metadata": {},
   "outputs": [
    {
     "data": {
      "text/plain": [
       "('AA', 100, 32.2)"
      ]
     },
     "execution_count": 40,
     "metadata": {},
     "output_type": "execute_result"
    }
   ],
   "source": [
    "row['name'], row['shares'], row['prices']"
   ]
  },
  {
   "cell_type": "markdown",
   "metadata": {},
   "source": [
    "### 연습 문제 2.21: 데이터 질의"
   ]
  },
  {
   "cell_type": "code",
   "execution_count": 55,
   "metadata": {},
   "outputs": [
    {
     "name": "stdout",
     "output_type": "stream",
     "text": [
      "[{'name': 'AA', 'prices': 32.2, 'shares': 100},\n",
      " {'name': 'CAT', 'prices': 83.44, 'shares': 150},\n",
      " {'name': 'MSFT', 'prices': 51.23, 'shares': 200},\n",
      " {'name': 'IBM', 'prices': 70.44, 'shares': 100}]\n"
     ]
    }
   ],
   "source": [
    "# 100주이상 보유한 주식의 리스트 \n",
    "from pprint import pprint\n",
    "more100 = [row for row in portfolio if row['shares'] >= 100]\n",
    "pprint(more100)"
   ]
  },
  {
   "cell_type": "code",
   "execution_count": 49,
   "metadata": {},
   "outputs": [
    {
     "name": "stdout",
     "output_type": "stream",
     "text": [
      "[{'name': 'IBM', 'prices': 91.1, 'shares': 50},\n",
      " {'name': 'MSFT', 'prices': 51.23, 'shares': 200},\n",
      " {'name': 'MSFT', 'prices': 65.1, 'shares': 50},\n",
      " {'name': 'IBM', 'prices': 70.44, 'shares': 100}]\n"
     ]
    }
   ],
   "source": [
    "IBM_MSFT = [row for row in portfolio if row['name'] in ('MSFT', 'IBM')]\n",
    "pprint(IBM_MSFT)"
   ]
  },
  {
   "cell_type": "code",
   "execution_count": 54,
   "metadata": {},
   "outputs": [
    {
     "name": "stdout",
     "output_type": "stream",
     "text": [
      "[{'name': 'CAT', 'prices': 83.44, 'shares': 150},\n",
      " {'name': 'MSFT', 'prices': 51.23, 'shares': 200}]\n"
     ]
    }
   ],
   "source": [
    "# 살려면 10000달러 이상은 줘야 되는 상한가 종목\n",
    "row100k = [row for row in portfolio if row['shares'] * row['prices'] > 10000]\n",
    "pprint(row100k)"
   ]
  },
  {
   "cell_type": "markdown",
   "metadata": {},
   "source": [
    "### 연습 문제 2.22: 데이터 추출"
   ]
  },
  {
   "cell_type": "code",
   "execution_count": 59,
   "metadata": {},
   "outputs": [
    {
     "data": {
      "text/plain": [
       "('AA', 100)"
      ]
     },
     "execution_count": 59,
     "metadata": {},
     "output_type": "execute_result"
    }
   ],
   "source": [
    "row = portfolio[0]\n",
    "\n",
    "(row['name'], row['shares'])"
   ]
  },
  {
   "cell_type": "markdown",
   "metadata": {},
   "source": [
    "#### 튜플 형태로 받기."
   ]
  },
  {
   "cell_type": "code",
   "execution_count": 69,
   "metadata": {},
   "outputs": [
    {
     "data": {
      "text/plain": [
       "[('AA', 100),\n",
       " ('IBM', 50),\n",
       " ('CAT', 150),\n",
       " ('MSFT', 200),\n",
       " ('GE', 95),\n",
       " ('MSFT', 50),\n",
       " ('IBM', 100)]"
      ]
     },
     "execution_count": 69,
     "metadata": {},
     "output_type": "execute_result"
    }
   ],
   "source": [
    "[(row['name'], row['shares']) for row in portfolio]"
   ]
  },
  {
   "cell_type": "markdown",
   "metadata": {},
   "source": [
    "#### 세트 컴프리헨션"
   ]
  },
  {
   "cell_type": "code",
   "execution_count": 74,
   "metadata": {},
   "outputs": [
    {
     "data": {
      "text/plain": [
       "{'AA', 'CAT', 'GE', 'IBM', 'MSFT'}"
      ]
     },
     "execution_count": 74,
     "metadata": {},
     "output_type": "execute_result"
    }
   ],
   "source": [
    "names = {row['name'] for row in portfolio}\n",
    "names"
   ]
  },
  {
   "cell_type": "markdown",
   "metadata": {},
   "source": [
    "####  key와 value의 쌍으로 리턴"
   ]
  },
  {
   "cell_type": "code",
   "execution_count": 76,
   "metadata": {},
   "outputs": [
    {
     "data": {
      "text/plain": [
       "{'CAT': 0, 'GE': 0, 'IBM': 0, 'MSFT': 0, 'AA': 0}"
      ]
     },
     "execution_count": 76,
     "metadata": {},
     "output_type": "execute_result"
    }
   ],
   "source": [
    "\n",
    "{n:0 for n in names}"
   ]
  },
  {
   "cell_type": "code",
   "execution_count": 80,
   "metadata": {},
   "outputs": [
    {
     "data": {
      "text/plain": [
       "{'AA': 32.2, 'IBM': 70.44, 'CAT': 83.44, 'MSFT': 65.1, 'GE': 40.37}"
      ]
     },
     "execution_count": 80,
     "metadata": {},
     "output_type": "execute_result"
    }
   ],
   "source": [
    "{row['name']:row['prices'] for row in portfolio}"
   ]
  },
  {
   "cell_type": "markdown",
   "metadata": {},
   "source": [
    "### 연습 문제 2.23: CSV 파일에서 데이터 추출하기"
   ]
  },
  {
   "cell_type": "code",
   "execution_count": 108,
   "metadata": {},
   "outputs": [
    {
     "data": {
      "text/plain": [
       "['name', 'date', 'time', 'shares', 'price']"
      ]
     },
     "metadata": {},
     "output_type": "display_data"
    },
    {
     "data": {
      "text/plain": [
       "<function list.index(value, start=0, stop=9223372036854775807, /)>"
      ]
     },
     "metadata": {},
     "output_type": "display_data"
    }
   ],
   "source": [
    "import csv\n",
    "\n",
    "f = open(\"../../Work/Data/portfoliodate.csv\", mode='r')\n",
    "rows = csv.reader(f)\n",
    "headers = next(rows)\n",
    "display(headers, headers.index)"
   ]
  },
  {
   "cell_type": "code",
   "execution_count": 83,
   "metadata": {},
   "outputs": [],
   "source": [
    "select = ['name', 'shares', 'price']"
   ]
  },
  {
   "cell_type": "code",
   "execution_count": 86,
   "metadata": {},
   "outputs": [
    {
     "data": {
      "text/plain": [
       "3"
      ]
     },
     "execution_count": 86,
     "metadata": {},
     "output_type": "execute_result"
    }
   ],
   "source": [
    "headers.index(select[1])"
   ]
  },
  {
   "cell_type": "code",
   "execution_count": 94,
   "metadata": {},
   "outputs": [
    {
     "data": {
      "text/plain": [
       "[0, 3, 4]"
      ]
     },
     "execution_count": 94,
     "metadata": {},
     "output_type": "execute_result"
    }
   ],
   "source": [
    "indices = [headers.index(s) for s in select]\n",
    "indices"
   ]
  },
  {
   "cell_type": "code",
   "execution_count": 97,
   "metadata": {},
   "outputs": [
    {
     "data": {
      "text/plain": [
       "{'name': 'CAT', 'shares': '150', 'price': '83.44'}"
      ]
     },
     "execution_count": 97,
     "metadata": {},
     "output_type": "execute_result"
    }
   ],
   "source": [
    "row = next(rows)\n",
    "row\n",
    "\n",
    "record = {colname: row[index] for colname, index in zip(select, indices)}\n",
    "record"
   ]
  },
  {
   "cell_type": "code",
   "execution_count": 106,
   "metadata": {},
   "outputs": [
    {
     "name": "stdout",
     "output_type": "stream",
     "text": [
      "['AA', '6/11/2007', '9:50am', '100', '32.20']\n",
      "['IBM', '5/13/2007', '4:20pm', '50', '91.10']\n",
      "['CAT', '9/23/2006', '1:30pm', '150', '83.44']\n",
      "['MSFT', '5/17/2007', '10:30am', '200', '51.23']\n",
      "['GE', '2/1/2006', '10:45am', '95', '40.37']\n",
      "['MSFT', '10/31/2006', '12:05pm', '50', '65.10']\n",
      "['IBM', '7/9/2006', '3:15pm', '100', '70.44']\n"
     ]
    }
   ],
   "source": [
    " for row in rows:\n",
    "        print(row)"
   ]
  },
  {
   "cell_type": "code",
   "execution_count": 109,
   "metadata": {},
   "outputs": [
    {
     "data": {
      "text/plain": [
       "[{'name': 'AA', 'shares': '100', 'price': '32.20'},\n",
       " {'name': 'IBM', 'shares': '50', 'price': '91.10'},\n",
       " {'name': 'CAT', 'shares': '150', 'price': '83.44'},\n",
       " {'name': 'MSFT', 'shares': '200', 'price': '51.23'},\n",
       " {'name': 'GE', 'shares': '95', 'price': '40.37'},\n",
       " {'name': 'MSFT', 'shares': '50', 'price': '65.10'},\n",
       " {'name': 'IBM', 'shares': '100', 'price': '70.44'}]"
      ]
     },
     "execution_count": 109,
     "metadata": {},
     "output_type": "execute_result"
    }
   ],
   "source": [
    "portfolio = [ { colname: row[index] for colname, index in zip(select, indices) } for row in rows ]\n",
    "portfolio"
   ]
  }
 ],
 "metadata": {
  "kernelspec": {
   "display_name": "Python 3",
   "language": "python",
   "name": "python3"
  },
  "language_info": {
   "codemirror_mode": {
    "name": "ipython",
    "version": 3
   },
   "file_extension": ".py",
   "mimetype": "text/x-python",
   "name": "python",
   "nbconvert_exporter": "python",
   "pygments_lexer": "ipython3",
   "version": "3.8.3"
  }
 },
 "nbformat": 4,
 "nbformat_minor": 4
}
