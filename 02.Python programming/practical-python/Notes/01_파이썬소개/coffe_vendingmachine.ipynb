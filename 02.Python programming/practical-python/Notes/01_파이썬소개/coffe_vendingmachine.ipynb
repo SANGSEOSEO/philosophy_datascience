{
 "cells": [
  {
   "cell_type": "markdown",
   "metadata": {},
   "source": [
    "## AI CoffeVending Machine\n",
    "* 작성일 : 2021.02.18\n",
    "* 빅데이터관련 취업교육"
   ]
  },
  {
   "cell_type": "code",
   "execution_count": 5,
   "metadata": {},
   "outputs": [
    {
     "name": "stdout",
     "output_type": "stream",
     "text": [
      "A손님 어떤 커피 드릴까요?\n",
      "(1:카페라테/2:아메리카노/3:카푸치노/4:에스프레소)\n",
      "번호 선택:1\n",
      "#1. 뜨거운 물을 준비한다\n",
      "#2. 종이컵을 준비한다\n",
      "#3. 아메리카노를 탄다\n",
      "#4. 자동으로 물을 붇는다.\n",
      "#5. 자동으로 스푼으로 젓는다\n",
      "A 손님~  카페라테 여기 있습니다.\n",
      "B손님 어떤 커피 드릴까요?\n",
      "(1:카페라테/2:아메리카노/3:카푸치노/4:에스프레소)\n",
      "번호 선택:2\n",
      "#1. 뜨거운 물을 준비한다\n",
      "#2. 종이컵을 준비한다\n",
      "#3. 카푸치노를 탄다\n",
      "#4. 자동으로 물을 붇는다.\n",
      "#5. 자동으로 스푼으로 젓는다\n",
      "B 손님~  아메리카노 여기 있습니다.\n",
      "C손님 어떤 커피 드릴까요?\n",
      "(1:카페라테/2:아메리카노/3:카푸치노/4:에스프레소)\n",
      "번호 선택:3\n",
      "#1. 뜨거운 물을 준비한다\n",
      "#2. 종이컵을 준비한다\n",
      "#3. 에스프레소를 탄다\n",
      "#4. 자동으로 물을 붇는다.\n",
      "#5. 자동으로 스푼으로 젓는다\n",
      "C 손님~  카푸치노 여기 있습니다.\n",
      "D손님 어떤 커피 드릴까요?\n",
      "(1:카페라테/2:아메리카노/3:카푸치노/4:에스프레소)\n",
      "번호 선택:4\n",
      "#1. 뜨거운 물을 준비한다\n",
      "#2. 종이컵을 준비한다\n",
      "커피 밴딩 머신 종료\n"
     ]
    }
   ],
   "source": [
    "cust = ['A','B','C','D']\n",
    "coffee_choice = ['카페라테', '아메리카노', '카푸치노', '에스프레소']\n",
    "\n",
    "for i in range(len(cust)):\n",
    "    try:\n",
    "        print(cust[i] + '손님', '어떤 커피 드릴까요?')\n",
    "        print(\"(1:카페라테/2:아메리카노/3:카푸치노/4:에스프레소)\")\n",
    "        select = int(input(\"번호 선택:\"))\n",
    "        print(\"#1. 뜨거운 물을 준비한다\")\n",
    "        print(\"#2. 종이컵을 준비한다\")\n",
    "        print(f'#3. {coffee_choice[select-1]}를 탄다')\n",
    "        print(\"#4. 자동으로 물을 붇는다.\")\n",
    "        print(\"#5. 자동으로 스푼으로 젓는다\")\n",
    "    \n",
    "        print(f\"{cust[i]} 손님~  {coffee_choice[int(select-1)]} 여기 있습니다.\")\n",
    "    except IndexError:\n",
    "        print(\"커피 밴딩 머신 종료\")"
   ]
  },
  {
   "cell_type": "code",
   "execution_count": 11,
   "metadata": {},
   "outputs": [
    {
     "name": "stdout",
     "output_type": "stream",
     "text": [
      "A손님 어떤 커피 드릴까요?\n",
      "(1:카페라테/2:아메리카노/3:카푸치노/4:에스프레소)\n",
      "번호 선택:4\n",
      "#1. 뜨거운 물을 준비한다\n",
      "#2. 종이컵을 준비한다\n",
      "#3. 에스프레소를 탄다\n",
      "#4. 자동으로 물을 붇는다.\n",
      "#5. 자동으로 스푼으로 젓는다\n",
      "A 손님~  에스프레소 여기 있습니다.\n",
      "B손님 어떤 커피 드릴까요?\n",
      "(1:카페라테/2:아메리카노/3:카푸치노/4:에스프레소)\n",
      "번호 선택:2\n",
      "#1. 뜨거운 물을 준비한다\n",
      "#2. 종이컵을 준비한다\n",
      "#3. 아메리카노를 탄다\n",
      "#4. 자동으로 물을 붇는다.\n",
      "#5. 자동으로 스푼으로 젓는다\n",
      "B 손님~  아메리카노 여기 있습니다.\n",
      "C손님 어떤 커피 드릴까요?\n",
      "(1:카페라테/2:아메리카노/3:카푸치노/4:에스프레소)\n",
      "번호 선택:3\n",
      "#1. 뜨거운 물을 준비한다\n",
      "#2. 종이컵을 준비한다\n",
      "#3. 카푸치노를 탄다\n",
      "#4. 자동으로 물을 붇는다.\n",
      "#5. 자동으로 스푼으로 젓는다\n",
      "C 손님~  카푸치노 여기 있습니다.\n",
      "D손님 어떤 커피 드릴까요?\n",
      "(1:카페라테/2:아메리카노/3:카푸치노/4:에스프레소)\n",
      "번호 선택:1\n",
      "#1. 뜨거운 물을 준비한다\n",
      "#2. 종이컵을 준비한다\n",
      "#3. 카페라테를 탄다\n",
      "#4. 자동으로 물을 붇는다.\n",
      "#5. 자동으로 스푼으로 젓는다\n",
      "D 손님~  카페라테 여기 있습니다.\n"
     ]
    }
   ],
   "source": [
    "cust = ['A','B','C','D']\n",
    "coffee_choice = ['카페라테', '아메리카노', '카푸치노', '에스프레소']\n",
    "\n",
    "def coffee_vending_machine(cust, coffee_choice):\n",
    "    \"\"\"\n",
    "    AI커피 자판기 기능\n",
    "    \"\"\"\n",
    "    for i in range(len(cust)):\n",
    "        try:\n",
    "            print(cust[i] + '손님', '어떤 커피 드릴까요?')\n",
    "            print(\"(1:카페라테/2:아메리카노/3:카푸치노/4:에스프레소)\")\n",
    "            select = int(input(\"번호 선택:\"))\n",
    "            print(\"#1. 뜨거운 물을 준비한다\")\n",
    "            print(\"#2. 종이컵을 준비한다\")\n",
    "            print(f'#3. {coffee_choice[select-1]}를 탄다')\n",
    "            print(\"#4. 자동으로 물을 붇는다.\")\n",
    "            print(\"#5. 자동으로 스푼으로 젓는다\")\n",
    "\n",
    "            print(f\"{cust[i]} 손님~  {coffee_choice[int(select-1)]} 여기 있습니다.\")\n",
    "        except IndexError:\n",
    "            print(\"커피 밴딩 머신 종료\")\n",
    "coffee_vending_machine(cust, coffee_choice)            "
   ]
  }
 ],
 "metadata": {
  "kernelspec": {
   "display_name": "Python 3",
   "language": "python",
   "name": "python3"
  },
  "language_info": {
   "codemirror_mode": {
    "name": "ipython",
    "version": 3
   },
   "file_extension": ".py",
   "mimetype": "text/x-python",
   "name": "python",
   "nbconvert_exporter": "python",
   "pygments_lexer": "ipython3",
   "version": "3.8.3"
  }
 },
 "nbformat": 4,
 "nbformat_minor": 4
}
