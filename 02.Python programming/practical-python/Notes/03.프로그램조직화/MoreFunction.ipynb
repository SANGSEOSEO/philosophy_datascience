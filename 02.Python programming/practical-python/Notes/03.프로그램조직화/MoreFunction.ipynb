{
 "cells": [
  {
   "cell_type": "markdown",
   "metadata": {},
   "source": [
    "# 함수에 대한 몇가지 단상\n",
    "* 전역변수\n",
    "* 로컬변수"
   ]
  },
  {
   "cell_type": "code",
   "execution_count": 17,
   "metadata": {},
   "outputs": [],
   "source": [
    "def read_portfolio(filename):\n",
    "    portfolio = []\n",
    "    for line in open(filename):\n",
    "        try:\n",
    "            fields = line.split(',')\n",
    "            s = (fields[0].replace('\"', ''), int(fields[1]), float(fields[2]))\n",
    "            portfolio.append(s)\n",
    "        except ValueError:\n",
    "            pass\n",
    "    return portfolio   "
   ]
  },
  {
   "cell_type": "code",
   "execution_count": 19,
   "metadata": {},
   "outputs": [
    {
     "data": {
      "text/plain": [
       "[('AA', 100, 32.2),\n",
       " ('IBM', 50, 91.1),\n",
       " ('CAT', 150, 83.44),\n",
       " ('MSFT', 200, 51.23),\n",
       " ('GE', 95, 40.37),\n",
       " ('MSFT', 50, 65.1),\n",
       " ('IBM', 100, 70.44)]"
      ]
     },
     "execution_count": 19,
     "metadata": {},
     "output_type": "execute_result"
    }
   ],
   "source": [
    "data = read_portfolio('../../Work/Data/portfolio.csv')\n",
    "data"
   ]
  },
  {
   "cell_type": "code",
   "execution_count": 21,
   "metadata": {},
   "outputs": [
    {
     "ename": "NameError",
     "evalue": "name 'fileds' is not defined",
     "output_type": "error",
     "traceback": [
      "\u001b[1;31m---------------------------------------------------------------------------\u001b[0m",
      "\u001b[1;31mNameError\u001b[0m                                 Traceback (most recent call last)",
      "\u001b[1;32m<ipython-input-21-8ece27c95e41>\u001b[0m in \u001b[0;36m<module>\u001b[1;34m\u001b[0m\n\u001b[1;32m----> 1\u001b[1;33m \u001b[0mfileds\u001b[0m\u001b[1;33m\u001b[0m\u001b[1;33m\u001b[0m\u001b[0m\n\u001b[0m",
      "\u001b[1;31mNameError\u001b[0m: name 'fileds' is not defined"
     ]
    }
   ],
   "source": [
    "fileds"
   ]
  },
  {
   "cell_type": "code",
   "execution_count": 22,
   "metadata": {},
   "outputs": [],
   "source": [
    "name = 'Dave'\n",
    "\n",
    "def greeting():\n",
    "    print('Hello', name)  # Using `name` global variable"
   ]
  },
  {
   "cell_type": "code",
   "execution_count": 24,
   "metadata": {},
   "outputs": [],
   "source": [
    "def spam():\n",
    "    name = 'Spam'"
   ]
  },
  {
   "cell_type": "code",
   "execution_count": 27,
   "metadata": {},
   "outputs": [
    {
     "data": {
      "text/plain": [
       "'Dave'"
      ]
     },
     "execution_count": 27,
     "metadata": {},
     "output_type": "execute_result"
    }
   ],
   "source": [
    "spam()  # 에러는 안나지만 값은 변경되지 않음.\n",
    "name"
   ]
  },
  {
   "cell_type": "markdown",
   "metadata": {},
   "source": [
    "### 정말 변경하고 싶다면 아래와 같이 해야 한다.\n",
    "* `global`변수는 가능하다면 사용하지 않는것이 좋다.\n",
    "* 함수가 외부의 상태를 변경할 필요가 있다면, 차라리 클래스를 사용해라(나중에 다룬다)."
   ]
  },
  {
   "cell_type": "code",
   "execution_count": 29,
   "metadata": {},
   "outputs": [],
   "source": [
    "def spam():\n",
    "    global name\n",
    "    name = 'Spam'"
   ]
  },
  {
   "cell_type": "code",
   "execution_count": 33,
   "metadata": {},
   "outputs": [
    {
     "data": {
      "text/plain": [
       "'Spam'"
      ]
     },
     "metadata": {},
     "output_type": "display_data"
    }
   ],
   "source": [
    "spam()\n",
    "display(name)"
   ]
  },
  {
   "cell_type": "code",
   "execution_count": 34,
   "metadata": {},
   "outputs": [],
   "source": [
    "def foo(items):\n",
    "    items.append(42)    # 입력 객체를 수정"
   ]
  },
  {
   "cell_type": "code",
   "execution_count": 37,
   "metadata": {},
   "outputs": [
    {
     "name": "stdout",
     "output_type": "stream",
     "text": [
      "[1, 2, 3, 42]\n"
     ]
    }
   ],
   "source": [
    "a = [1, 2, 3]\n",
    "foo(a)\n",
    "print(a)"
   ]
  },
  {
   "cell_type": "markdown",
   "metadata": {},
   "source": [
    "### 연습문제 3.3 CSV파일 읽기"
   ]
  },
  {
   "cell_type": "code",
   "execution_count": 41,
   "metadata": {},
   "outputs": [],
   "source": [
    "# fileparse.py\n",
    "import csv\n",
    "\n",
    "def parse_csv(filename):\n",
    "    '''\n",
    "    csv파일을 파싱해 레코드의 목록을 생성\n",
    "    '''\n",
    "    with open(filename) as f:\n",
    "        rows = csv.reader(f)\n",
    "        \n",
    "        # 헤더를 읽음\n",
    "        headers = next(rows)\n",
    "        records = []\n",
    "        for row in rows:\n",
    "            if not row:\n",
    "                continue  # 다음 루프 진행\n",
    "            record = dict(zip(headers, row))\n",
    "            records.append(record)\n",
    "        \n",
    "    return records"
   ]
  },
  {
   "cell_type": "code",
   "execution_count": 44,
   "metadata": {},
   "outputs": [
    {
     "data": {
      "text/plain": [
       "[{'name': 'AA', 'shares': '100', 'price': '32.20'},\n",
       " {'name': 'IBM', 'shares': '50', 'price': '91.10'},\n",
       " {'name': 'CAT', 'shares': '150', 'price': '83.44'},\n",
       " {'name': 'MSFT', 'shares': '200', 'price': '51.23'},\n",
       " {'name': 'GE', 'shares': '95', 'price': '40.37'},\n",
       " {'name': 'MSFT', 'shares': '50', 'price': '65.10'},\n",
       " {'name': 'IBM', 'shares': '100', 'price': '70.44'}]"
      ]
     },
     "execution_count": 44,
     "metadata": {},
     "output_type": "execute_result"
    }
   ],
   "source": [
    "data = parse_csv('../../Work/Data/portfolio.csv')\n",
    "data"
   ]
  },
  {
   "cell_type": "markdown",
   "metadata": {},
   "source": [
    "### Read Eval Print Loop"
   ]
  },
  {
   "cell_type": "code",
   "execution_count": 49,
   "metadata": {},
   "outputs": [
    {
     "data": {
      "text/plain": [
       "dict_items([('name', 'AA'), ('shares', '100'), ('price', '32.20')])"
      ]
     },
     "metadata": {},
     "output_type": "display_data"
    },
    {
     "data": {
      "text/plain": [
       "dict_keys(['name', 'shares', 'price'])"
      ]
     },
     "metadata": {},
     "output_type": "display_data"
    }
   ],
   "source": [
    "display(data[0].items())\n",
    "display(data[0].keys())"
   ]
  },
  {
   "cell_type": "code",
   "execution_count": 53,
   "metadata": {},
   "outputs": [
    {
     "name": "stdout",
     "output_type": "stream",
     "text": [
      "100\n",
      "32.20\n"
     ]
    }
   ],
   "source": [
    "select = ['shares', 'price']\n",
    "for k in data[0].keys():\n",
    "    if k in select:\n",
    "        print(data[0].get(k))"
   ]
  },
  {
   "cell_type": "code",
   "execution_count": 64,
   "metadata": {},
   "outputs": [],
   "source": [
    "headers = ['name', 'date', 'time', 'shares', 'price']\n",
    "select = ['name', 'shares']\n",
    "row = ['AA', '6/11/2007', '9:50am', '100', '32.20' ]"
   ]
  },
  {
   "cell_type": "code",
   "execution_count": 66,
   "metadata": {},
   "outputs": [
    {
     "data": {
      "text/plain": [
       "'AA'"
      ]
     },
     "execution_count": 66,
     "metadata": {},
     "output_type": "execute_result"
    }
   ],
   "source": [
    "indices = headers.index('name')  # 이름으로 인덱스를 알수있다.\n",
    "row[indices]"
   ]
  },
  {
   "cell_type": "markdown",
   "metadata": {},
   "source": [
    "### 연습문제 3.4 보여주고자 하는 컬럼 선택하기"
   ]
  },
  {
   "cell_type": "code",
   "execution_count": 2,
   "metadata": {},
   "outputs": [],
   "source": [
    "# fileparse.py\n",
    "import csv\n",
    "\n",
    "def parse_csv(filename,select=None):\n",
    "    '''\n",
    "    1.csv파일을 파싱해 레코드의 목록을 생성\n",
    "    2.select - 보여주고자 하는 컬럼\n",
    "    '''\n",
    "    with open(filename) as f:\n",
    "        rows = csv.reader(f)\n",
    "        \n",
    "        # 헤더를 읽음\n",
    "        headers = next(rows)\n",
    "        \n",
    "        # 보여주고자 하는 컬럼정보가 있으면 \n",
    "        if select:\n",
    "            indices = [headers.index(name) for name in select]\n",
    "            headers = select\n",
    "        else:  # 없으면.\n",
    "            indices = []        \n",
    "        \n",
    "        records = []\n",
    "        for row in rows:\n",
    "            if not row:\n",
    "                continue  # 다음 루프 진행\n",
    "            \n",
    "            if indices:  # 존재하면 \n",
    "                row = [row[idx] for idx in indices]\n",
    "                \n",
    "            record = dict(zip(headers, row))\n",
    "            records.append(record)\n",
    "        \n",
    "    return records"
   ]
  },
  {
   "cell_type": "code",
   "execution_count": 4,
   "metadata": {},
   "outputs": [],
   "source": [
    "filename = '../../Work/Data/portfolio.csv'\n",
    "select = ['name', 'shares']\n",
    "data = parse_csv(filename, select)"
   ]
  },
  {
   "cell_type": "code",
   "execution_count": 6,
   "metadata": {},
   "outputs": [
    {
     "data": {
      "text/plain": [
       "[{'name': 'AA', 'shares': '100'},\n",
       " {'name': 'IBM', 'shares': '50'},\n",
       " {'name': 'CAT', 'shares': '150'},\n",
       " {'name': 'MSFT', 'shares': '200'},\n",
       " {'name': 'GE', 'shares': '95'},\n",
       " {'name': 'MSFT', 'shares': '50'},\n",
       " {'name': 'IBM', 'shares': '100'}]"
      ]
     },
     "execution_count": 6,
     "metadata": {},
     "output_type": "execute_result"
    }
   ],
   "source": [
    "data"
   ]
  },
  {
   "cell_type": "code",
   "execution_count": 8,
   "metadata": {},
   "outputs": [],
   "source": [
    "filename = '../../Work/Data/portfolio.csv'\n",
    "select = ['name', 'shares', 'price']\n",
    "stock = parse_csv(filename, select)"
   ]
  },
  {
   "cell_type": "code",
   "execution_count": 10,
   "metadata": {},
   "outputs": [
    {
     "data": {
      "text/plain": [
       "[{'name': 'AA', 'shares': '100', 'price': '32.20'},\n",
       " {'name': 'IBM', 'shares': '50', 'price': '91.10'},\n",
       " {'name': 'CAT', 'shares': '150', 'price': '83.44'},\n",
       " {'name': 'MSFT', 'shares': '200', 'price': '51.23'},\n",
       " {'name': 'GE', 'shares': '95', 'price': '40.37'},\n",
       " {'name': 'MSFT', 'shares': '50', 'price': '65.10'},\n",
       " {'name': 'IBM', 'shares': '100', 'price': '70.44'}]"
      ]
     },
     "execution_count": 10,
     "metadata": {},
     "output_type": "execute_result"
    }
   ],
   "source": [
    "stock"
   ]
  },
  {
   "cell_type": "markdown",
   "metadata": {},
   "source": [
    "### 연습문제 3.5 : 형변환"
   ]
  },
  {
   "cell_type": "code",
   "execution_count": 11,
   "metadata": {},
   "outputs": [],
   "source": [
    "# fileparse.py\n",
    "import csv\n",
    "\n",
    "def parse_csv(filename,select=None, types=None):\n",
    "    '''\n",
    "    1.csv파일을 파싱해 레코드의 목록을 생성\n",
    "    2.select - 보여주고자 하는 컬럼\n",
    "    3.types - 형변환하고자 하는 타입을 리스트로 매개변수만들어서 던짐.\n",
    "    '''\n",
    "    with open(filename) as f:\n",
    "        rows = csv.reader(f)\n",
    "        \n",
    "        # 헤더를 읽음\n",
    "        headers = next(rows)\n",
    "        \n",
    "        # 보여주고자 하는 컬럼정보가 있으면 \n",
    "        if select:\n",
    "            indices = [headers.index(name) for name in select]\n",
    "            headers = select\n",
    "        else:  # 없으면.\n",
    "            indices = []        \n",
    "        \n",
    "        records = []\n",
    "        for row in rows:\n",
    "            if not row:\n",
    "                continue  # 다음 루프 진행\n",
    "            \n",
    "            if indices:  # 존재하면 \n",
    "                row = [row[idx] for idx in indices]\n",
    "            if types: #존재하면\n",
    "                row = [fnc(val)for fnc,val in zip(types, row)]\n",
    "            \n",
    "            record = dict(zip(headers, row))\n",
    "            records.append(record)\n",
    "        \n",
    "\n",
    "        return records"
   ]
  },
  {
   "cell_type": "markdown",
   "metadata": {},
   "source": [
    "### 수행"
   ]
  },
  {
   "cell_type": "code",
   "execution_count": 13,
   "metadata": {},
   "outputs": [],
   "source": [
    "filename = '../../Work/Data/portfolio.csv'\n",
    "select = ['name', 'shares', 'price']\n",
    "types  = [str, int, float]\n",
    "stock = parse_csv(filename, select, types)"
   ]
  },
  {
   "cell_type": "code",
   "execution_count": 15,
   "metadata": {},
   "outputs": [
    {
     "data": {
      "text/plain": [
       "[{'name': 'AA', 'shares': 100, 'price': 32.2},\n",
       " {'name': 'IBM', 'shares': 50, 'price': 91.1},\n",
       " {'name': 'CAT', 'shares': 150, 'price': 83.44},\n",
       " {'name': 'MSFT', 'shares': 200, 'price': 51.23},\n",
       " {'name': 'GE', 'shares': 95, 'price': 40.37},\n",
       " {'name': 'MSFT', 'shares': 50, 'price': 65.1},\n",
       " {'name': 'IBM', 'shares': 100, 'price': 70.44}]"
      ]
     },
     "execution_count": 15,
     "metadata": {},
     "output_type": "execute_result"
    }
   ],
   "source": [
    "stock"
   ]
  },
  {
   "cell_type": "code",
   "execution_count": 18,
   "metadata": {},
   "outputs": [
    {
     "data": {
      "text/plain": [
       "[{'name': 'AA', 'shares': '100', 'price': '32.20'},\n",
       " {'name': 'IBM', 'shares': '50', 'price': '91.10'},\n",
       " {'name': 'CAT', 'shares': '150', 'price': '83.44'},\n",
       " {'name': 'MSFT', 'shares': '200', 'price': '51.23'},\n",
       " {'name': 'GE', 'shares': '95', 'price': '40.37'},\n",
       " {'name': 'MSFT', 'shares': '50', 'price': '65.10'},\n",
       " {'name': 'IBM', 'shares': '100', 'price': '70.44'}]"
      ]
     },
     "metadata": {},
     "output_type": "display_data"
    }
   ],
   "source": [
    "stock = parse_csv(filename, select, None)\n",
    "display(stock)"
   ]
  },
  {
   "cell_type": "markdown",
   "metadata": {},
   "source": [
    "### 연습문제 3.6: 헤더가 없는 CSV\n",
    "* 첫번째 라인을 헤더로 읽으면 안되고,\n",
    "* 리턴타입이 딕셔너리로 리턴하면 안되고, 튜플로 리턴해야 함."
   ]
  },
  {
   "cell_type": "code",
   "execution_count": 21,
   "metadata": {},
   "outputs": [],
   "source": [
    "# fileparse.py\n",
    "import csv\n",
    "\n",
    "def parse_csv(filename,select=None, types=None, has_headers=False):\n",
    "    '''\n",
    "    1.csv파일을 파싱해 레코드의 목록을 생성\n",
    "    2.select - 보여주고자 하는 컬럼\n",
    "    3.types - 형변환하고자 하는 타입을 리스트로 매개변수만들어서 던짐.\n",
    "    4.has_header = False(헤더가 없음), True(헤더가 있음)\n",
    "    '''\n",
    "    with open(filename) as f:\n",
    "        rows = csv.reader(f)\n",
    "        \n",
    "        if has_headers:\n",
    "            # 헤더를 읽음\n",
    "        \theaders = next(rows)\n",
    "        \n",
    "        # 보여주고자 하는 컬럼정보가 있으면 \n",
    "        if select:\n",
    "            indices = [headers.index(name) for name in select]\n",
    "            headers = select\n",
    "        else:  # 없으면.\n",
    "            indices = []        \n",
    "        \n",
    "        records = []\n",
    "        for row in rows:\n",
    "            if not row:\n",
    "                continue  # 다음 루프 진행\n",
    "            \n",
    "            if indices:  # 존재하면 \n",
    "                row = [row[idx] for idx in indices]\n",
    "            if types: #존재하면\n",
    "                row = [fnc(val)for fnc,val in zip(types, row)]\n",
    "                \n",
    "            # 헤더가 있는 경우만 딕셔너리로 리턴해야 되니까.    \n",
    "            if has_headers:\n",
    "                record = dict(zip(headers, row))\n",
    "            else:  # 헤더가 없는 경우는 튜플로 리턴\n",
    "                record = tuple(row)\n",
    "            records.append(record)\n",
    "        return records"
   ]
  },
  {
   "cell_type": "markdown",
   "metadata": {},
   "source": [
    "### 수행"
   ]
  },
  {
   "cell_type": "code",
   "execution_count": 24,
   "metadata": {},
   "outputs": [
    {
     "data": {
      "text/plain": [
       "[('AA', 9.22),\n",
       " ('AXP', 24.85),\n",
       " ('BA', 44.85),\n",
       " ('BAC', 11.27),\n",
       " ('C', 3.72),\n",
       " ('CAT', 35.46),\n",
       " ('CVX', 66.67),\n",
       " ('DD', 28.47),\n",
       " ('DIS', 24.22),\n",
       " ('GE', 13.48),\n",
       " ('GM', 0.75),\n",
       " ('HD', 23.16),\n",
       " ('HPQ', 34.35),\n",
       " ('IBM', 106.28),\n",
       " ('INTC', 15.72),\n",
       " ('JNJ', 55.16),\n",
       " ('JPM', 36.9),\n",
       " ('KFT', 26.11),\n",
       " ('KO', 49.16),\n",
       " ('MCD', 58.99),\n",
       " ('MMM', 57.1),\n",
       " ('MRK', 27.58),\n",
       " ('MSFT', 20.89),\n",
       " ('PFE', 15.19),\n",
       " ('PG', 51.94),\n",
       " ('T', 24.79),\n",
       " ('UTX', 52.61),\n",
       " ('VZ', 29.26),\n",
       " ('WMT', 49.74),\n",
       " ('XOM', 69.35)]"
      ]
     },
     "execution_count": 24,
     "metadata": {},
     "output_type": "execute_result"
    }
   ],
   "source": [
    "prices = parse_csv('../../Work/Data/prices.csv', types=[str,float], has_headers=False)\n",
    "prices"
   ]
  },
  {
   "cell_type": "code",
   "execution_count": 28,
   "metadata": {},
   "outputs": [
    {
     "name": "stdout",
     "output_type": "stream",
     "text": [
      "Help on module csv:\n",
      "\n",
      "NAME\n",
      "    csv - CSV parsing and writing.\n",
      "\n",
      "MODULE REFERENCE\n",
      "    https://docs.python.org/3.8/library/csv\n",
      "    \n",
      "    The following documentation is automatically generated from the Python\n",
      "    source files.  It may be incomplete, incorrect or include features that\n",
      "    are considered implementation detail and may vary between Python\n",
      "    implementations.  When in doubt, consult the module reference at the\n",
      "    location listed above.\n",
      "\n",
      "DESCRIPTION\n",
      "    This module provides classes that assist in the reading and writing\n",
      "    of Comma Separated Value (CSV) files, and implements the interface\n",
      "    described by PEP 305.  Although many CSV files are simple to parse,\n",
      "    the format is not formally defined by a stable specification and\n",
      "    is subtle enough that parsing lines of a CSV file with something\n",
      "    like line.split(\",\") is bound to fail.  The module supports three\n",
      "    basic APIs: reading, writing, and registration of dialects.\n",
      "    \n",
      "    \n",
      "    DIALECT REGISTRATION:\n",
      "    \n",
      "    Readers and writers support a dialect argument, which is a convenient\n",
      "    handle on a group of settings.  When the dialect argument is a string,\n",
      "    it identifies one of the dialects previously registered with the module.\n",
      "    If it is a class or instance, the attributes of the argument are used as\n",
      "    the settings for the reader or writer:\n",
      "    \n",
      "        class excel:\n",
      "            delimiter = ','\n",
      "            quotechar = '\"'\n",
      "            escapechar = None\n",
      "            doublequote = True\n",
      "            skipinitialspace = False\n",
      "            lineterminator = '\\r\\n'\n",
      "            quoting = QUOTE_MINIMAL\n",
      "    \n",
      "    SETTINGS:\n",
      "    \n",
      "        * quotechar - specifies a one-character string to use as the\n",
      "            quoting character.  It defaults to '\"'.\n",
      "        * delimiter - specifies a one-character string to use as the\n",
      "            field separator.  It defaults to ','.\n",
      "        * skipinitialspace - specifies how to interpret whitespace which\n",
      "            immediately follows a delimiter.  It defaults to False, which\n",
      "            means that whitespace immediately following a delimiter is part\n",
      "            of the following field.\n",
      "        * lineterminator -  specifies the character sequence which should\n",
      "            terminate rows.\n",
      "        * quoting - controls when quotes should be generated by the writer.\n",
      "            It can take on any of the following module constants:\n",
      "    \n",
      "            csv.QUOTE_MINIMAL means only when required, for example, when a\n",
      "                field contains either the quotechar or the delimiter\n",
      "            csv.QUOTE_ALL means that quotes are always placed around fields.\n",
      "            csv.QUOTE_NONNUMERIC means that quotes are always placed around\n",
      "                fields which do not parse as integers or floating point\n",
      "                numbers.\n",
      "            csv.QUOTE_NONE means that quotes are never placed around fields.\n",
      "        * escapechar - specifies a one-character string used to escape\n",
      "            the delimiter when quoting is set to QUOTE_NONE.\n",
      "        * doublequote - controls the handling of quotes inside fields.  When\n",
      "            True, two consecutive quotes are interpreted as one during read,\n",
      "            and when writing, each quote character embedded in the data is\n",
      "            written as two quotes\n",
      "\n",
      "CLASSES\n",
      "    builtins.Exception(builtins.BaseException)\n",
      "        _csv.Error\n",
      "    builtins.object\n",
      "        Dialect\n",
      "            excel\n",
      "                excel_tab\n",
      "            unix_dialect\n",
      "        DictReader\n",
      "        DictWriter\n",
      "        Sniffer\n",
      "    \n",
      "    class Dialect(builtins.object)\n",
      "     |  Describe a CSV dialect.\n",
      "     |  \n",
      "     |  This must be subclassed (see csv.excel).  Valid attributes are:\n",
      "     |  delimiter, quotechar, escapechar, doublequote, skipinitialspace,\n",
      "     |  lineterminator, quoting.\n",
      "     |  \n",
      "     |  Methods defined here:\n",
      "     |  \n",
      "     |  __init__(self)\n",
      "     |      Initialize self.  See help(type(self)) for accurate signature.\n",
      "     |  \n",
      "     |  ----------------------------------------------------------------------\n",
      "     |  Data descriptors defined here:\n",
      "     |  \n",
      "     |  __dict__\n",
      "     |      dictionary for instance variables (if defined)\n",
      "     |  \n",
      "     |  __weakref__\n",
      "     |      list of weak references to the object (if defined)\n",
      "     |  \n",
      "     |  ----------------------------------------------------------------------\n",
      "     |  Data and other attributes defined here:\n",
      "     |  \n",
      "     |  delimiter = None\n",
      "     |  \n",
      "     |  doublequote = None\n",
      "     |  \n",
      "     |  escapechar = None\n",
      "     |  \n",
      "     |  lineterminator = None\n",
      "     |  \n",
      "     |  quotechar = None\n",
      "     |  \n",
      "     |  quoting = None\n",
      "     |  \n",
      "     |  skipinitialspace = None\n",
      "    \n",
      "    class DictReader(builtins.object)\n",
      "     |  DictReader(f, fieldnames=None, restkey=None, restval=None, dialect='excel', *args, **kwds)\n",
      "     |  \n",
      "     |  Methods defined here:\n",
      "     |  \n",
      "     |  __init__(self, f, fieldnames=None, restkey=None, restval=None, dialect='excel', *args, **kwds)\n",
      "     |      Initialize self.  See help(type(self)) for accurate signature.\n",
      "     |  \n",
      "     |  __iter__(self)\n",
      "     |  \n",
      "     |  __next__(self)\n",
      "     |  \n",
      "     |  ----------------------------------------------------------------------\n",
      "     |  Data descriptors defined here:\n",
      "     |  \n",
      "     |  __dict__\n",
      "     |      dictionary for instance variables (if defined)\n",
      "     |  \n",
      "     |  __weakref__\n",
      "     |      list of weak references to the object (if defined)\n",
      "     |  \n",
      "     |  fieldnames\n",
      "    \n",
      "    class DictWriter(builtins.object)\n",
      "     |  DictWriter(f, fieldnames, restval='', extrasaction='raise', dialect='excel', *args, **kwds)\n",
      "     |  \n",
      "     |  Methods defined here:\n",
      "     |  \n",
      "     |  __init__(self, f, fieldnames, restval='', extrasaction='raise', dialect='excel', *args, **kwds)\n",
      "     |      Initialize self.  See help(type(self)) for accurate signature.\n",
      "     |  \n",
      "     |  writeheader(self)\n",
      "     |  \n",
      "     |  writerow(self, rowdict)\n",
      "     |  \n",
      "     |  writerows(self, rowdicts)\n",
      "     |  \n",
      "     |  ----------------------------------------------------------------------\n",
      "     |  Data descriptors defined here:\n",
      "     |  \n",
      "     |  __dict__\n",
      "     |      dictionary for instance variables (if defined)\n",
      "     |  \n",
      "     |  __weakref__\n",
      "     |      list of weak references to the object (if defined)\n",
      "    \n",
      "    class Error(builtins.Exception)\n",
      "     |  Common base class for all non-exit exceptions.\n",
      "     |  \n",
      "     |  Method resolution order:\n",
      "     |      Error\n",
      "     |      builtins.Exception\n",
      "     |      builtins.BaseException\n",
      "     |      builtins.object\n",
      "     |  \n",
      "     |  Data descriptors defined here:\n",
      "     |  \n",
      "     |  __weakref__\n",
      "     |      list of weak references to the object (if defined)\n",
      "     |  \n",
      "     |  ----------------------------------------------------------------------\n",
      "     |  Methods inherited from builtins.Exception:\n",
      "     |  \n",
      "     |  __init__(self, /, *args, **kwargs)\n",
      "     |      Initialize self.  See help(type(self)) for accurate signature.\n",
      "     |  \n",
      "     |  ----------------------------------------------------------------------\n",
      "     |  Static methods inherited from builtins.Exception:\n",
      "     |  \n",
      "     |  __new__(*args, **kwargs) from builtins.type\n",
      "     |      Create and return a new object.  See help(type) for accurate signature.\n",
      "     |  \n",
      "     |  ----------------------------------------------------------------------\n",
      "     |  Methods inherited from builtins.BaseException:\n",
      "     |  \n",
      "     |  __delattr__(self, name, /)\n",
      "     |      Implement delattr(self, name).\n",
      "     |  \n",
      "     |  __getattribute__(self, name, /)\n",
      "     |      Return getattr(self, name).\n",
      "     |  \n",
      "     |  __reduce__(...)\n",
      "     |      Helper for pickle.\n",
      "     |  \n",
      "     |  __repr__(self, /)\n",
      "     |      Return repr(self).\n",
      "     |  \n",
      "     |  __setattr__(self, name, value, /)\n",
      "     |      Implement setattr(self, name, value).\n",
      "     |  \n",
      "     |  __setstate__(...)\n",
      "     |  \n",
      "     |  __str__(self, /)\n",
      "     |      Return str(self).\n",
      "     |  \n",
      "     |  with_traceback(...)\n",
      "     |      Exception.with_traceback(tb) --\n",
      "     |      set self.__traceback__ to tb and return self.\n",
      "     |  \n",
      "     |  ----------------------------------------------------------------------\n",
      "     |  Data descriptors inherited from builtins.BaseException:\n",
      "     |  \n",
      "     |  __cause__\n",
      "     |      exception cause\n",
      "     |  \n",
      "     |  __context__\n",
      "     |      exception context\n",
      "     |  \n",
      "     |  __dict__\n",
      "     |  \n",
      "     |  __suppress_context__\n",
      "     |  \n",
      "     |  __traceback__\n",
      "     |  \n",
      "     |  args\n",
      "    \n",
      "    class Sniffer(builtins.object)\n",
      "     |  \"Sniffs\" the format of a CSV file (i.e. delimiter, quotechar)\n",
      "     |  Returns a Dialect object.\n",
      "     |  \n",
      "     |  Methods defined here:\n",
      "     |  \n",
      "     |  __init__(self)\n",
      "     |      Initialize self.  See help(type(self)) for accurate signature.\n",
      "     |  \n",
      "     |  has_header(self, sample)\n",
      "     |  \n",
      "     |  sniff(self, sample, delimiters=None)\n",
      "     |      Returns a dialect (or None) corresponding to the sample\n",
      "     |  \n",
      "     |  ----------------------------------------------------------------------\n",
      "     |  Data descriptors defined here:\n",
      "     |  \n",
      "     |  __dict__\n",
      "     |      dictionary for instance variables (if defined)\n",
      "     |  \n",
      "     |  __weakref__\n",
      "     |      list of weak references to the object (if defined)\n",
      "    \n",
      "    class excel(Dialect)\n",
      "     |  Describe the usual properties of Excel-generated CSV files.\n",
      "     |  \n",
      "     |  Method resolution order:\n",
      "     |      excel\n",
      "     |      Dialect\n",
      "     |      builtins.object\n",
      "     |  \n",
      "     |  Data and other attributes defined here:\n",
      "     |  \n",
      "     |  delimiter = ','\n",
      "     |  \n",
      "     |  doublequote = True\n",
      "     |  \n",
      "     |  lineterminator = '\\r\\n'\n",
      "     |  \n",
      "     |  quotechar = '\"'\n",
      "     |  \n",
      "     |  quoting = 0\n",
      "     |  \n",
      "     |  skipinitialspace = False\n",
      "     |  \n",
      "     |  ----------------------------------------------------------------------\n",
      "     |  Methods inherited from Dialect:\n",
      "     |  \n",
      "     |  __init__(self)\n",
      "     |      Initialize self.  See help(type(self)) for accurate signature.\n",
      "     |  \n",
      "     |  ----------------------------------------------------------------------\n",
      "     |  Data descriptors inherited from Dialect:\n",
      "     |  \n",
      "     |  __dict__\n",
      "     |      dictionary for instance variables (if defined)\n",
      "     |  \n",
      "     |  __weakref__\n",
      "     |      list of weak references to the object (if defined)\n",
      "     |  \n",
      "     |  ----------------------------------------------------------------------\n",
      "     |  Data and other attributes inherited from Dialect:\n",
      "     |  \n",
      "     |  escapechar = None\n",
      "    \n",
      "    class excel_tab(excel)\n",
      "     |  Describe the usual properties of Excel-generated TAB-delimited files.\n",
      "     |  \n",
      "     |  Method resolution order:\n",
      "     |      excel_tab\n",
      "     |      excel\n",
      "     |      Dialect\n",
      "     |      builtins.object\n",
      "     |  \n",
      "     |  Data and other attributes defined here:\n",
      "     |  \n",
      "     |  delimiter = '\\t'\n",
      "     |  \n",
      "     |  ----------------------------------------------------------------------\n",
      "     |  Data and other attributes inherited from excel:\n",
      "     |  \n",
      "     |  doublequote = True\n",
      "     |  \n",
      "     |  lineterminator = '\\r\\n'\n",
      "     |  \n",
      "     |  quotechar = '\"'\n",
      "     |  \n",
      "     |  quoting = 0\n",
      "     |  \n",
      "     |  skipinitialspace = False\n",
      "     |  \n",
      "     |  ----------------------------------------------------------------------\n",
      "     |  Methods inherited from Dialect:\n",
      "     |  \n",
      "     |  __init__(self)\n",
      "     |      Initialize self.  See help(type(self)) for accurate signature.\n",
      "     |  \n",
      "     |  ----------------------------------------------------------------------\n",
      "     |  Data descriptors inherited from Dialect:\n",
      "     |  \n",
      "     |  __dict__\n",
      "     |      dictionary for instance variables (if defined)\n",
      "     |  \n",
      "     |  __weakref__\n",
      "     |      list of weak references to the object (if defined)\n",
      "     |  \n",
      "     |  ----------------------------------------------------------------------\n",
      "     |  Data and other attributes inherited from Dialect:\n",
      "     |  \n",
      "     |  escapechar = None\n",
      "    \n",
      "    class unix_dialect(Dialect)\n",
      "     |  Describe the usual properties of Unix-generated CSV files.\n",
      "     |  \n",
      "     |  Method resolution order:\n",
      "     |      unix_dialect\n",
      "     |      Dialect\n",
      "     |      builtins.object\n",
      "     |  \n",
      "     |  Data and other attributes defined here:\n",
      "     |  \n",
      "     |  delimiter = ','\n",
      "     |  \n",
      "     |  doublequote = True\n",
      "     |  \n",
      "     |  lineterminator = '\\n'\n",
      "     |  \n",
      "     |  quotechar = '\"'\n",
      "     |  \n",
      "     |  quoting = 1\n",
      "     |  \n",
      "     |  skipinitialspace = False\n",
      "     |  \n",
      "     |  ----------------------------------------------------------------------\n",
      "     |  Methods inherited from Dialect:\n",
      "     |  \n",
      "     |  __init__(self)\n",
      "     |      Initialize self.  See help(type(self)) for accurate signature.\n",
      "     |  \n",
      "     |  ----------------------------------------------------------------------\n",
      "     |  Data descriptors inherited from Dialect:\n",
      "     |  \n",
      "     |  __dict__\n",
      "     |      dictionary for instance variables (if defined)\n",
      "     |  \n",
      "     |  __weakref__\n",
      "     |      list of weak references to the object (if defined)\n",
      "     |  \n",
      "     |  ----------------------------------------------------------------------\n",
      "     |  Data and other attributes inherited from Dialect:\n",
      "     |  \n",
      "     |  escapechar = None\n",
      "\n",
      "FUNCTIONS\n",
      "    field_size_limit(...)\n",
      "        Sets an upper limit on parsed fields.\n",
      "            csv.field_size_limit([limit])\n",
      "        \n",
      "        Returns old limit. If limit is not given, no new limit is set and\n",
      "        the old limit is returned\n",
      "    \n",
      "    get_dialect(...)\n",
      "        Return the dialect instance associated with name.\n",
      "        dialect = csv.get_dialect(name)\n",
      "    \n",
      "    list_dialects(...)\n",
      "        Return a list of all know dialect names.\n",
      "        names = csv.list_dialects()\n",
      "    \n",
      "    reader(...)\n",
      "        csv_reader = reader(iterable [, dialect='excel']\n",
      "                                [optional keyword args])\n",
      "            for row in csv_reader:\n",
      "                process(row)\n",
      "        \n",
      "        The \"iterable\" argument can be any object that returns a line\n",
      "        of input for each iteration, such as a file object or a list.  The\n",
      "        optional \"dialect\" parameter is discussed below.  The function\n",
      "        also accepts optional keyword arguments which override settings\n",
      "        provided by the dialect.\n",
      "        \n",
      "        The returned object is an iterator.  Each iteration returns a row\n",
      "        of the CSV file (which can span multiple input lines).\n",
      "    \n",
      "    register_dialect(...)\n",
      "        Create a mapping from a string name to a dialect class.\n",
      "        dialect = csv.register_dialect(name[, dialect[, **fmtparams]])\n",
      "    \n",
      "    unregister_dialect(...)\n",
      "        Delete the name/dialect mapping associated with a string name.\n",
      "        csv.unregister_dialect(name)\n",
      "    \n",
      "    writer(...)\n",
      "        csv_writer = csv.writer(fileobj [, dialect='excel']\n",
      "                                    [optional keyword args])\n",
      "            for row in sequence:\n",
      "                csv_writer.writerow(row)\n",
      "        \n",
      "            [or]\n",
      "        \n",
      "            csv_writer = csv.writer(fileobj [, dialect='excel']\n",
      "                                    [optional keyword args])\n",
      "            csv_writer.writerows(rows)\n",
      "        \n",
      "        The \"fileobj\" argument can be any object that supports the file API.\n",
      "\n",
      "DATA\n",
      "    QUOTE_ALL = 1\n",
      "    QUOTE_MINIMAL = 0\n",
      "    QUOTE_NONE = 3\n",
      "    QUOTE_NONNUMERIC = 2\n",
      "    __all__ = ['QUOTE_MINIMAL', 'QUOTE_ALL', 'QUOTE_NONNUMERIC', 'QUOTE_NO...\n",
      "\n",
      "VERSION\n",
      "    1.0\n",
      "\n",
      "FILE\n",
      "    c:\\anaconda3\\lib\\csv.py\n",
      "\n",
      "\n"
     ]
    }
   ],
   "source": [
    "help(csv)"
   ]
  },
  {
   "cell_type": "markdown",
   "metadata": {},
   "source": [
    "### 연습문제 3.7: 헤더가 없는 CSV"
   ]
  },
  {
   "cell_type": "code",
   "execution_count": 34,
   "metadata": {},
   "outputs": [],
   "source": [
    "# fileparse.py\n",
    "import csv\n",
    "\n",
    "def parse_csv(filename,select=None, types=None, has_headers=False, delimiter = None):\n",
    "    '''\n",
    "    1.csv파일을 파싱해 레코드의 목록을 생성\n",
    "    2.select - 보여주고자 하는 컬럼\n",
    "    3.types - 형변환하고자 하는 타입을 리스트로 매개변수만들어서 던짐.\n",
    "    4.has_header = False(헤더가 없음), True(헤더가 있음)\n",
    "    '''\n",
    "    with open(filename) as f:\n",
    "        if delimiter:\n",
    "            rows = csv.reader(f, delimiter=delimiter)\n",
    "        else:\n",
    "            rows = csv.reader(f)\n",
    "        \n",
    "        headers = next(row) if has_headers else []\n",
    "        \n",
    "        # 보여주고자 하는 컬럼정보가 있으면 \n",
    "        if select:\n",
    "            indices = [headers.index(name) for name in select]\n",
    "            headers = select\n",
    "        else:  # 없으면.\n",
    "            indices = []        \n",
    "        \n",
    "        records = []\n",
    "        for row in rows:\n",
    "            try:                \n",
    "                if not row:\n",
    "                    continue  # 다음 루프 진행\n",
    "\n",
    "                if indices:  # 존재하면 \n",
    "                    row = [row[idx] for idx in indices]\n",
    "                if types: #존재하면\n",
    "                    row = [fnc(val)for fnc,val in zip(types, row)]\n",
    "\n",
    "                # 헤더가 있는 경우만 딕셔너리로 리턴해야 되니까.    \n",
    "                if has_headers:\n",
    "                    record = dict(zip(headers, row))\n",
    "                else:  # 헤더가 없는 경우는 튜플로 리턴\n",
    "                    record = tuple(row)\n",
    "                records.append(record)\n",
    "            except ValueError:\n",
    "                pass\n",
    "        return records"
   ]
  },
  {
   "cell_type": "code",
   "execution_count": 35,
   "metadata": {},
   "outputs": [
    {
     "data": {
      "text/plain": [
       "[('AA', 100, 32.2),\n",
       " ('IBM', 50, 91.1),\n",
       " ('CAT', 150, 83.44),\n",
       " ('MSFT', 200, 51.23),\n",
       " ('GE', 95, 40.37),\n",
       " ('MSFT', 50, 65.1),\n",
       " ('IBM', 100, 70.44)]"
      ]
     },
     "execution_count": 35,
     "metadata": {},
     "output_type": "execute_result"
    }
   ],
   "source": [
    "portfolio = parse_csv('../../Work/Data/portfolio.dat', types=[str, int, float], delimiter=' ')\n",
    "portfolio"
   ]
  }
 ],
 "metadata": {
  "kernelspec": {
   "display_name": "Python 3",
   "language": "python",
   "name": "python3"
  },
  "language_info": {
   "codemirror_mode": {
    "name": "ipython",
    "version": 3
   },
   "file_extension": ".py",
   "mimetype": "text/x-python",
   "name": "python",
   "nbconvert_exporter": "python",
   "pygments_lexer": "ipython3",
   "version": "3.8.3"
  }
 },
 "nbformat": 4,
 "nbformat_minor": 4
}
