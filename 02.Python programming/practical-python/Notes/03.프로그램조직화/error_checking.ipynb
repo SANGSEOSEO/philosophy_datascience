{
 "cells": [
  {
   "cell_type": "markdown",
   "metadata": {},
   "source": [
    "# 예외 처리"
   ]
  },
  {
   "cell_type": "markdown",
   "metadata": {},
   "source": [
    "### 연습문제 3.8: 예외처리\n",
    "* `has_headers`값이 `False`로 넘어온 경우 예외처리 필요"
   ]
  },
  {
   "cell_type": "code",
   "execution_count": 12,
   "metadata": {},
   "outputs": [],
   "source": [
    "# fileparse.py\n",
    "import csv\n",
    "\n",
    "def parse_csv(filename,select=None, types=None, has_headers=False, delimiter = None):\n",
    "    '''\n",
    "    1.csv파일을 파싱해 레코드의 목록을 생성\n",
    "    2.select - 보여주고자 하는 컬럼\n",
    "    3.types - 형변환하고자 하는 타입을 리스트로 매개변수만들어서 던짐.\n",
    "    4.has_header = False(헤더가 없음), True(헤더가 있음) - 예외처리\n",
    "    '''\n",
    "    if (select and not has_headers):\n",
    "        raise RuntimeError(\"헤더값이 잘못넘어왔네요.\")\n",
    "        \n",
    "    with open(filename) as f:\n",
    "        if delimiter:\n",
    "            rows = csv.reader(f, delimiter=delimiter)\n",
    "        else:\n",
    "            rows = csv.reader(f)\n",
    "        \n",
    "        headers = next(row) if has_headers else []\n",
    "        \n",
    "        # 보여주고자 하는 컬럼정보가 있으면 \n",
    "        if select:\n",
    "            indices = [headers.index(name) for name in select]\n",
    "            headers = select\n",
    "        else:  # 없으면.\n",
    "            indices = []        \n",
    "        \n",
    "        records = []\n",
    "        for row in rows:\n",
    "            try:                \n",
    "                if not row:\n",
    "                    continue  # 다음 루프 진행\n",
    "\n",
    "                if indices:  # 존재하면 \n",
    "                    row = [row[idx] for idx in indices]\n",
    "                if types: #존재하면\n",
    "                    row = [fnc(val)for fnc,val in zip(types, row)]\n",
    "\n",
    "                # 헤더가 있는 경우만 딕셔너리로 리턴해야 되니까.    \n",
    "                if has_headers:\n",
    "                    record = dict(zip(headers, row))\n",
    "                else:  # 헤더가 없는 경우는 튜플로 리턴\n",
    "                    record = tuple(row)\n",
    "                records.append(record)\n",
    "            except ValueError:\n",
    "                pass\n",
    "        return records"
   ]
  },
  {
   "cell_type": "code",
   "execution_count": 14,
   "metadata": {},
   "outputs": [
    {
     "ename": "RuntimeError",
     "evalue": "헤더값이 잘못넘어왔네요.",
     "output_type": "error",
     "traceback": [
      "\u001b[1;31m---------------------------------------------------------------------------\u001b[0m",
      "\u001b[1;31mRuntimeError\u001b[0m                              Traceback (most recent call last)",
      "\u001b[1;32m<ipython-input-14-77c1961d1169>\u001b[0m in \u001b[0;36m<module>\u001b[1;34m\u001b[0m\n\u001b[1;32m----> 1\u001b[1;33m \u001b[0mparse_csv\u001b[0m\u001b[1;33m(\u001b[0m\u001b[1;34m'../../Work/Data/prices.csv'\u001b[0m\u001b[1;33m,\u001b[0m \u001b[0mselect\u001b[0m\u001b[1;33m=\u001b[0m\u001b[1;33m[\u001b[0m\u001b[1;34m'name'\u001b[0m\u001b[1;33m,\u001b[0m\u001b[1;34m'price'\u001b[0m\u001b[1;33m]\u001b[0m\u001b[1;33m,\u001b[0m \u001b[0mhas_headers\u001b[0m\u001b[1;33m=\u001b[0m\u001b[1;32mFalse\u001b[0m\u001b[1;33m)\u001b[0m\u001b[1;33m\u001b[0m\u001b[1;33m\u001b[0m\u001b[0m\n\u001b[0m",
      "\u001b[1;32m<ipython-input-12-2b1473f94811>\u001b[0m in \u001b[0;36mparse_csv\u001b[1;34m(filename, select, types, has_headers, delimiter)\u001b[0m\n\u001b[0;32m     10\u001b[0m     '''\n\u001b[0;32m     11\u001b[0m     \u001b[1;32mif\u001b[0m \u001b[1;33m(\u001b[0m\u001b[0mselect\u001b[0m \u001b[1;32mand\u001b[0m \u001b[1;32mnot\u001b[0m \u001b[0mhas_headers\u001b[0m\u001b[1;33m)\u001b[0m\u001b[1;33m:\u001b[0m\u001b[1;33m\u001b[0m\u001b[1;33m\u001b[0m\u001b[0m\n\u001b[1;32m---> 12\u001b[1;33m         \u001b[1;32mraise\u001b[0m \u001b[0mRuntimeError\u001b[0m\u001b[1;33m(\u001b[0m\u001b[1;34m\"헤더값이 잘못넘어왔네요.\"\u001b[0m\u001b[1;33m)\u001b[0m\u001b[1;33m\u001b[0m\u001b[1;33m\u001b[0m\u001b[0m\n\u001b[0m\u001b[0;32m     13\u001b[0m \u001b[1;33m\u001b[0m\u001b[0m\n\u001b[0;32m     14\u001b[0m     \u001b[1;32mwith\u001b[0m \u001b[0mopen\u001b[0m\u001b[1;33m(\u001b[0m\u001b[0mfilename\u001b[0m\u001b[1;33m)\u001b[0m \u001b[1;32mas\u001b[0m \u001b[0mf\u001b[0m\u001b[1;33m:\u001b[0m\u001b[1;33m\u001b[0m\u001b[1;33m\u001b[0m\u001b[0m\n",
      "\u001b[1;31mRuntimeError\u001b[0m: 헤더값이 잘못넘어왔네요."
     ]
    }
   ],
   "source": [
    "parse_csv('../../Work/Data/prices.csv', select=['name','price'], has_headers=False)"
   ]
  },
  {
   "cell_type": "markdown",
   "metadata": {},
   "source": [
    "### 연습문제 3.9 : ValueError처리 "
   ]
  },
  {
   "cell_type": "code",
   "execution_count": 20,
   "metadata": {},
   "outputs": [],
   "source": [
    "# fileparse.py\n",
    "import csv\n",
    "\n",
    "def parse_csv(filename,select=None, types=None, has_headers=False, delimiter = None):\n",
    "    '''\n",
    "    1.csv파일을 파싱해 레코드의 목록을 생성\n",
    "    2.select - 보여주고자 하는 컬럼\n",
    "    3.types - 형변환하고자 하는 타입을 리스트로 매개변수만들어서 던짐.\n",
    "    4.has_header = False(헤더가 없음), True(헤더가 있음) - 예외처리\n",
    "    5.ValueError에 대한 예외처리 추가\n",
    "    '''\n",
    "    if (select and not has_headers):\n",
    "        raise RuntimeError(\"헤더값이 잘못넘어왔네요.\")\n",
    "        \n",
    "    with open(filename) as f:\n",
    "        if delimiter:\n",
    "            rows = csv.reader(f, delimiter=delimiter)\n",
    "        else:\n",
    "            rows = csv.reader(f)\n",
    "        \n",
    "        headers = next(row) if has_headers else []\n",
    "        \n",
    "        # 보여주고자 하는 컬럼정보가 있으면 \n",
    "        if select:\n",
    "            indices = [headers.index(name) for name in select]\n",
    "            headers = select\n",
    "        else:  # 없으면.\n",
    "            indices = []        \n",
    "        \n",
    "        records = []\n",
    "        idx = 1\n",
    "        for row in rows:\n",
    "            try:                \n",
    "                if not row:\n",
    "                    continue  # 다음 루프 진행\n",
    "\n",
    "                if indices:  # 존재하면 \n",
    "                    row = [row[idx] for idx in indices]\n",
    "                if types: #존재하면\n",
    "                    row = [fnc(val)for fnc,val in zip(types, row)]\n",
    "\n",
    "                # 헤더가 있는 경우만 딕셔너리로 리턴해야 되니까.    \n",
    "                if has_headers:\n",
    "                    record = dict(zip(headers, row))\n",
    "                else:  # 헤더가 없는 경우는 튜플로 리턴\n",
    "                    record = tuple(row)\n",
    "                records.append(record)\n",
    "                idx += 1\n",
    "            except ValueError as e:\n",
    "                print(\"Row %d : Couldn't convert %r \" %(idx, row))\n",
    "                print('Row %d : Reason %s' %(idx, e))\n",
    "                idx += 1\n",
    "        return records"
   ]
  },
  {
   "cell_type": "code",
   "execution_count": 22,
   "metadata": {},
   "outputs": [
    {
     "name": "stdout",
     "output_type": "stream",
     "text": [
      "Row 1 : Couldn't convert ['name', 'shares', 'price'] \n",
      "Row 1 : Reason invalid literal for int() with base 10: 'shares'\n",
      "Row 5 : Couldn't convert ['MSFT', '', '51.23'] \n",
      "Row 5 : Reason invalid literal for int() with base 10: ''\n",
      "Row 8 : Couldn't convert ['IBM', '', '70.44'] \n",
      "Row 8 : Reason invalid literal for int() with base 10: ''\n"
     ]
    }
   ],
   "source": [
    "portfolio = parse_csv('../../Work/Data/missing.csv', types=[str, int, float])"
   ]
  },
  {
   "cell_type": "markdown",
   "metadata": {},
   "source": [
    "### 연습문제 3.10 : valueError시 침묵으로 대응하기"
   ]
  },
  {
   "cell_type": "code",
   "execution_count": 5,
   "metadata": {},
   "outputs": [],
   "source": [
    "# fileparse.py\n",
    "import csv\n",
    "\n",
    "def parse_csv(filename,select=None, types=None, has_headers=False, delimiter = None, silence_errors=False):\n",
    "    '''\n",
    "    1.csv파일을 파싱해 레코드의 목록을 생성\n",
    "    2.select - 보여주고자 하는 컬럼\n",
    "    3.types - 형변환하고자 하는 타입을 리스트로 매개변수만들어서 던짐.\n",
    "    4.has_header = False(헤더가 없음), True(헤더가 있음) - 예외처리\n",
    "    5.ValueError에 대한 예외처리 추가\n",
    "    6.ValueError시 예외처리 안하고 다음 루프로 진행하도록 처리(에러건은 무시하고 다음 건 처리)\n",
    "    '''\n",
    "    if (select and not has_headers):\n",
    "        raise RuntimeError(\"헤더값이 잘못넘어왔네요.\")\n",
    "        \n",
    "    with open(filename) as f:\n",
    "        if delimiter:\n",
    "            rows = csv.reader(f, delimiter=delimiter)\n",
    "        else:\n",
    "            rows = csv.reader(f)\n",
    "        \n",
    "        headers = next(row) if has_headers else []\n",
    "        \n",
    "        # 보여주고자 하는 컬럼정보가 있으면 \n",
    "        if select:\n",
    "            indices = [headers.index(name) for name in select]\n",
    "            headers = select\n",
    "        else:  # 없으면.\n",
    "            indices = []        \n",
    "        \n",
    "        records = []\n",
    "        idx = 1\n",
    "        for row in rows:\n",
    "            try:                \n",
    "                if not row:\n",
    "                    continue  # 다음 루프 진행\n",
    "\n",
    "                if indices:  # 존재하면 \n",
    "                    row = [row[idx] for idx in indices]\n",
    "                if types: #존재하면\n",
    "                    row = [fnc(val)for fnc,val in zip(types, row)]\n",
    "\n",
    "                # 헤더가 있는 경우만 딕셔너리로 리턴해야 되니까.    \n",
    "                if has_headers:\n",
    "                    record = dict(zip(headers, row))\n",
    "                else:  # 헤더가 없는 경우는 튜플로 리턴\n",
    "                    record = tuple(row)\n",
    "                records.append(record)\n",
    "                idx += 1\n",
    "            except ValueError as e:\n",
    "                if silence_errors:\n",
    "                    idx += 1\n",
    "                    continue\n",
    "                else:\n",
    "                    print(\"Row %d : Couldn't convert %r \" %(idx, row))\n",
    "                    print('Row %d : Reason %s' %(idx, e))\n",
    "                    idx += 1\n",
    "        return records"
   ]
  },
  {
   "cell_type": "code",
   "execution_count": 7,
   "metadata": {},
   "outputs": [
    {
     "data": {
      "text/plain": [
       "[('AA', 100, 32.2),\n",
       " ('IBM', 50, 91.1),\n",
       " ('CAT', 150, 83.44),\n",
       " ('GE', 95, 40.37),\n",
       " ('MSFT', 50, 65.1)]"
      ]
     },
     "execution_count": 7,
     "metadata": {},
     "output_type": "execute_result"
    }
   ],
   "source": [
    "# 수행하면 익셉션처리가 무시하고 바로 다음 루프를 처리\n",
    "portfolio = parse_csv('../../Work/Data/missing.csv', types=[str,int,float], silence_errors=True)\n",
    "portfolio"
   ]
  }
 ],
 "metadata": {
  "kernelspec": {
   "display_name": "Python 3",
   "language": "python",
   "name": "python3"
  },
  "language_info": {
   "codemirror_mode": {
    "name": "ipython",
    "version": 3
   },
   "file_extension": ".py",
   "mimetype": "text/x-python",
   "name": "python",
   "nbconvert_exporter": "python",
   "pygments_lexer": "ipython3",
   "version": "3.8.3"
  }
 },
 "nbformat": 4,
 "nbformat_minor": 4
}
