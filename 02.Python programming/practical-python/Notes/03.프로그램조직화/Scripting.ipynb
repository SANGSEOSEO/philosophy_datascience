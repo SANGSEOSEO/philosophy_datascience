{
 "cells": [
  {
   "cell_type": "markdown",
   "metadata": {},
   "source": [
    "# 3.1 스크립팅"
   ]
  },
  {
   "cell_type": "markdown",
   "metadata": {},
   "source": [
    "## 함수 정의"
   ]
  },
  {
   "cell_type": "code",
   "execution_count": 25,
   "metadata": {},
   "outputs": [],
   "source": [
    "def read_prices(filename):\n",
    "    import csv\n",
    "    prices = {}\n",
    "    with open(\"../../Work/Data/\"+ filename) as f:\n",
    "        f_csv = csv.reader(f)\n",
    "        for row in f_csv:\n",
    "            try:\n",
    "                prices[row[0]] = float(row[1])\n",
    "            except IndexError:\n",
    "                pass\n",
    "    return prices"
   ]
  },
  {
   "cell_type": "code",
   "execution_count": 28,
   "metadata": {},
   "outputs": [
    {
     "data": {
      "text/plain": [
       "{'AA': 9.22,\n",
       " 'AXP': 24.85,\n",
       " 'BA': 44.85,\n",
       " 'BAC': 11.27,\n",
       " 'C': 3.72,\n",
       " 'CAT': 35.46,\n",
       " 'CVX': 66.67,\n",
       " 'DD': 28.47,\n",
       " 'DIS': 24.22,\n",
       " 'GE': 13.48,\n",
       " 'GM': 0.75,\n",
       " 'HD': 23.16,\n",
       " 'HPQ': 34.35,\n",
       " 'IBM': 106.28,\n",
       " 'INTC': 15.72,\n",
       " 'JNJ': 55.16,\n",
       " 'JPM': 36.9,\n",
       " 'KFT': 26.11,\n",
       " 'KO': 49.16,\n",
       " 'MCD': 58.99,\n",
       " 'MMM': 57.1,\n",
       " 'MRK': 27.58,\n",
       " 'MSFT': 20.89,\n",
       " 'PFE': 15.19,\n",
       " 'PG': 51.94,\n",
       " 'T': 24.79,\n",
       " 'UTX': 52.61,\n",
       " 'VZ': 29.26,\n",
       " 'WMT': 49.74,\n",
       " 'XOM': 69.35}"
      ]
     },
     "execution_count": 28,
     "metadata": {},
     "output_type": "execute_result"
    }
   ],
   "source": [
    "oldprices = read_prices(\"prices.csv\")\n",
    "oldprices"
   ]
  },
  {
   "cell_type": "markdown",
   "metadata": {},
   "source": [
    "## 함수설계"
   ]
  },
  {
   "cell_type": "markdown",
   "metadata": {},
   "source": [
    "* 함수 설계는 `재사용성`과 `모듈화`를 염두에 두고 설계해야 함."
   ]
  },
  {
   "cell_type": "markdown",
   "metadata": {},
   "source": [
    "## 문서 문자열(doc string)"
   ]
  },
  {
   "cell_type": "code",
   "execution_count": 30,
   "metadata": {},
   "outputs": [],
   "source": [
    "def read_prices(filename):\n",
    "    '''\n",
    "    csv파일을 인자로 받아 딕셔너리로 리턴\n",
    "    '''\n",
    "    import csv\n",
    "    prices = {}\n",
    "    with open(\"../../Work/Data/\"+ filename) as f:\n",
    "        f_csv = csv.reader(f)\n",
    "        for row in f_csv:\n",
    "            try:\n",
    "                prices[row[0]] = float(row[1])\n",
    "            except IndexError:\n",
    "                pass\n",
    "    return prices"
   ]
  },
  {
   "cell_type": "code",
   "execution_count": 33,
   "metadata": {},
   "outputs": [
    {
     "name": "stdout",
     "output_type": "stream",
     "text": [
      "Help on function read_prices in module __main__:\n",
      "\n",
      "read_prices(filename)\n",
      "    csv파일을 인자로 받아 딕셔너리로 리턴\n",
      "\n"
     ]
    }
   ],
   "source": [
    "help(read_prices)"
   ]
  },
  {
   "cell_type": "markdown",
   "metadata": {},
   "source": [
    "## Type annotation"
   ]
  },
  {
   "cell_type": "code",
   "execution_count": 35,
   "metadata": {},
   "outputs": [],
   "source": [
    "def read_prices(filename: str):\n",
    "    '''\n",
    "    1.csv파일을 인자로 받아 딕셔너리로 리턴\n",
    "    2.타입 애노테이션\n",
    "    '''\n",
    "    import csv\n",
    "    prices = {}\n",
    "    with open(\"../../Work/Data/\"+ filename) as f:\n",
    "        f_csv = csv.reader(f)\n",
    "        for row in f_csv:\n",
    "            try:\n",
    "                prices[row[0]] = float(row[1])\n",
    "            except IndexError:\n",
    "                pass\n",
    "    return prices"
   ]
  },
  {
   "cell_type": "markdown",
   "metadata": {},
   "source": [
    "## 연습문제"
   ]
  },
  {
   "cell_type": "code",
   "execution_count": 45,
   "metadata": {},
   "outputs": [
    {
     "name": "stdout",
     "output_type": "stream",
     "text": [
      "      Name    Shares     Price    Change\n",
      "________________________________________\n",
      "        AA        100       9.22     -22.98\n",
      "       IBM         50     106.28      15.18\n",
      "       CAT        150      35.46     -47.98\n",
      "      MSFT        200      20.89     -30.34\n",
      "        GE         95      13.48     -26.89\n",
      "      MSFT         50      20.89     -44.21\n",
      "       IBM        100     106.28      35.84\n"
     ]
    }
   ],
   "source": [
    "import csv\n",
    "\n",
    "def read_portfolio(filename: str):\n",
    "    '''\n",
    "    주식 포트폴리오 파일을 읽어 딕셔너리의 리스트를 생성\n",
    "    name,share, price를 키로 사용\n",
    "    '''\n",
    "    portfolio = []\n",
    "    with open(\"../../Work/Data/\"+filename) as f:\n",
    "        rows = csv.reader(f)\n",
    "        headers = next(rows)\n",
    "        \n",
    "        for row in rows:\n",
    "            record = dict(zip(headers, row))\n",
    "            stock = {\n",
    "                'name': record['name'],\n",
    "                'shares': record['shares'],\n",
    "                'price': float(record['price'])\n",
    "            }\n",
    "            portfolio.append(stock)\n",
    "        return portfolio\n",
    "def read_prices(filename):\n",
    "    \"\"\"\n",
    "    Read a CSV file of price data into a dict mapping name to \n",
    "    prices\n",
    "    \"\"\"\n",
    "    prices = {}\n",
    "    with open(\"../../Work/Data/\"+ filename) as f:\n",
    "        rows = csv.reader(f)\n",
    "        for row in rows:\n",
    "            try:\n",
    "                prices[row[0]] = float(row[1])\n",
    "            except IndexError:\n",
    "                pass\n",
    "        return prices\n",
    "    \n",
    "def make_report_data(portfolio, prices):\n",
    "    \"\"\"\n",
    "    Make a list of (name, shares, prices, change) tuples given\n",
    "    a portfolio list and prices dictionary\n",
    "    \"\"\"\n",
    "    rows = []\n",
    "    for stock in portfolio:\n",
    "        current_prices = prices[stock['name']]\n",
    "        change = current_prices - stock['price']\n",
    "        summary = (stock['name'], stock['shares'], current_prices, change) \n",
    "        rows.append(summary)\n",
    "    return rows\n",
    "\n",
    "def print_report(reportdata):\n",
    "    \"\"\"\n",
    "    Print a nicely formatted table from a list of (name, share, price, chage)tuples\n",
    "    \"\"\"\n",
    "    headers = (\"Name\", \"Shares\", \"Price\", \"Change\")\n",
    "    print(\"%10s%10s%10s%10s\" % headers)\n",
    "    print(('_'* 10 + '') * len(headers))\n",
    "    \n",
    "    for row in reportdata:\n",
    "        print('%10s %10s %10.2f %10.2f' % row)\n",
    "        #print(row)\n",
    "\n",
    "def portfolio_report(portfoliofile, pricefile):\n",
    "    \"\"\"\n",
    "    Make a stock report given portfolio and price data files\n",
    "    \"\"\"\n",
    "    # Read datafiles\n",
    "    portfolio = read_portfolio(portfoliofile)\n",
    "    prices = read_prices(pricefile)\n",
    "    \n",
    "    # Create the report data\n",
    "    report = make_report_data(portfolio, prices)\n",
    "    \n",
    "    # Print it out\n",
    "    print_report(report)\n",
    "    \n",
    "portfolio_report(\"portfolio.csv\", \"prices.csv\")"
   ]
  }
 ],
 "metadata": {
  "kernelspec": {
   "display_name": "Python 3",
   "language": "python",
   "name": "python3"
  },
  "language_info": {
   "codemirror_mode": {
    "name": "ipython",
    "version": 3
   },
   "file_extension": ".py",
   "mimetype": "text/x-python",
   "name": "python",
   "nbconvert_exporter": "python",
   "pygments_lexer": "ipython3",
   "version": "3.8.3"
  }
 },
 "nbformat": 4,
 "nbformat_minor": 4
}
