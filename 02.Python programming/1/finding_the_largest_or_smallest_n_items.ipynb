{
 "cells": [
  {
   "cell_type": "markdown",
   "metadata": {},
   "source": [
    "### Example of using heapq to find the N smallest or largest items\n",
    "sorted메소드를 안쓰고 heap의 메소드중 nlargest 혹은 nsmallest를 써서 \n",
    "가장 큰것 몇개 혹은 가장 작은 것 몇개를 확인해야 하는 분석요구가 있을때 \n",
    "사용하면 좋겠다."
   ]
  },
  {
   "cell_type": "code",
   "execution_count": 27,
   "metadata": {},
   "outputs": [
    {
     "name": "stdout",
     "output_type": "stream",
     "text": [
      "동일여부 체크 : True\n",
      "expensive :  [{'name': 'AAPL', 'shares': 50, 'price': 543.22}, {'name': 'ACME', 'shares': 75, 'price': 115.65}, {'name': 'IBM', 'shares': 100, 'price': 91.1}]\n",
      "\n",
      "expensiveItem :  [{'name': 'AAPL', 'shares': 50, 'price': 543.22}, {'name': 'ACME', 'shares': 75, 'price': 115.65}, {'name': 'IBM', 'shares': 100, 'price': 91.1}]\n",
      "\n",
      "Cheap :  [{'name': 'YHOO', 'shares': 45, 'price': 16.35}, {'name': 'FB', 'shares': 200, 'price': 21.09}, {'name': 'HPQ', 'shares': 35, 'price': 31.75}]\n"
     ]
    }
   ],
   "source": [
    "import heapq\n",
    "\n",
    "portfolio = [\n",
    "    {'name': 'IBM', 'shares': 100, 'price': 91.1},\n",
    "    {'name': 'AAPL', 'shares': 50, 'price': 543.22},\n",
    "    {'name': 'FB', 'shares': 200, 'price': 21.09},\n",
    "    {'name': 'HPQ', 'shares': 35, 'price': 31.75},\n",
    "    {'name': 'YHOO', 'shares': 45, 'price': 16.35},\n",
    "    {'name': 'ACME', 'shares': 75, 'price': 115.65}\n",
    "]\n",
    "expensive = heapq.nlargest(3, portfolio, key=lambda x: x['price'])\n",
    "expensiveItem = sorted(portfolio, key = lambda x:x['price'], reverse = True)[:3]\n",
    "\n",
    "print('동일여부 체크 :' , expensive == expensiveItem)\n",
    "print('expensive : ', expensive)\n",
    "print()\n",
    "print('expensiveItem : ', expensiveItem)\n",
    "\n",
    "print()\n",
    "cheap = heapq.nsmallest(3, portfolio, key = lambda x:x['price'])\n",
    "cheapItem = sorted(portfolio, key = lambda x:x['price'], reverse = False)[:3]\n",
    "\n",
    "print('Cheap : ', cheap)"
   ]
  },
  {
   "cell_type": "markdown",
   "metadata": {},
   "source": [
    "##### API설명\n",
    "- 소팅된 반복가능한 객체(iterable객체)에서 지정된 갯수만큼 가져올 수 있다.\n",
    "- 아래에서 DBMS를 예로 들어서 설명해 보겠다."
   ]
  },
  {
   "cell_type": "code",
   "execution_count": 25,
   "metadata": {},
   "outputs": [
    {
     "name": "stdout",
     "output_type": "stream",
     "text": [
      "지원하는 API :  ['__about__', '__all__', '__builtins__', '__cached__', '__doc__', '__file__', '__loader__', '__name__', '__package__', '__spec__', '_heapify_max', '_heappop_max', '_heapreplace_max', '_siftdown', '_siftdown_max', '_siftup', '_siftup_max', 'heapify', 'heappop', 'heappush', 'heappushpop', 'heapreplace', 'merge', 'nlargest', 'nsmallest']\n"
     ]
    }
   ],
   "source": [
    "print('지원하는 API : ', dir(heapq))"
   ]
  },
  {
   "cell_type": "markdown",
   "metadata": {},
   "source": [
    "##### heapq.nlargest, nsmallest 사용법\n",
    " - 사용법 : nlargest(n, iterable, key=None)\n",
    " - sorted(iterable, key=key, reverse=True)[:n] 와 동일"
   ]
  },
  {
   "cell_type": "code",
   "execution_count": 26,
   "metadata": {},
   "outputs": [
    {
     "name": "stdout",
     "output_type": "stream",
     "text": [
      "Help on function nlargest in module heapq:\n",
      "\n",
      "nlargest(n, iterable, key=None)\n",
      "    Find the n largest elements in a dataset.\n",
      "    \n",
      "    Equivalent to:  sorted(iterable, key=key, reverse=True)[:n]\n",
      "\n",
      "nlargest :  None\n",
      "Help on function nsmallest in module heapq:\n",
      "\n",
      "nsmallest(n, iterable, key=None)\n",
      "    Find the n smallest elements in a dataset.\n",
      "    \n",
      "    Equivalent to:  sorted(iterable, key=key)[:n]\n",
      "\n",
      "nsmallest :  None\n"
     ]
    }
   ],
   "source": [
    "print('nlargest : ', help(heapq.nlargest))\n",
    "print('nsmallest : ', help(heapq.nsmallest))"
   ]
  },
  {
   "cell_type": "markdown",
   "metadata": {},
   "source": [
    "##### 오라클 혹은 기타 DBMS\n",
    "- 아래 쿼리는 연봉이 높은 순으로 정렬된 것중에 TOP3를 가져오는 쿼리\n",
    "- ORDER BY SAL DESC | ASC 정렬 후에 바깥쪽에서 3개를 가져오도록 하는것.(nlargest, nsallest와 동일한 로직)\n",
    "- MySQL은 정렬후 LIMIT으로 동일할 효과가 있으며,MS-SQL은 TOP n쿼리로 가능"
   ]
  },
  {
   "cell_type": "code",
   "execution_count": 21,
   "metadata": {},
   "outputs": [
    {
     "data": {
      "image/png": "[encoded data removed]",
      "text/plain": [
       "<IPython.core.display.Image object>"
      ]
     },
     "execution_count": 21,
     "metadata": {},
     "output_type": "execute_result"
    }
   ],
   "source": [
    "from IPython.display import Image\n",
    "Image(\"C:/test_sql/SQL.PNG\")"
   ]
  },
  {
   "cell_type": "markdown",
   "metadata": {},
   "source": []
  }
 ],
 "metadata": {
  "kernelspec": {
   "display_name": "Python 3",
   "language": "python",
   "name": "python3"
  },
  "language_info": {
   "codemirror_mode": {
    "name": "ipython",
    "version": 3
   },
   "file_extension": ".py",
   "mimetype": "text/x-python",
   "name": "python",
   "nbconvert_exporter": "python",
   "pygments_lexer": "ipython3",
   "version": "3.8.3"
  }
 },
 "nbformat": 4,
 "nbformat_minor": 4
}
