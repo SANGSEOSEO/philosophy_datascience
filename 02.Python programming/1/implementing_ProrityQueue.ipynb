{
 "cells": [
  {
   "cell_type": "markdown",
   "metadata": {},
   "source": [
    "### 우선순위 큐(queue)에 대한 예제\n",
    "- heapq의 API참조"
   ]
  },
  {
   "cell_type": "markdown",
   "metadata": {},
   "source": [
    "import heapq"
   ]
  },
  {
   "cell_type": "code",
   "execution_count": 26,
   "metadata": {},
   "outputs": [
    {
     "name": "stdout",
     "output_type": "stream",
     "text": [
      "Help on built-in function heappush in module _heapq:\n",
      "\n",
      "heappush(heap, item, /)\n",
      "    Push item onto heap, maintaining the heap invariant.\n",
      "\n",
      "should be bar: Item('bar')\n",
      "should be spam: Item('spam')\n",
      "should be foo: Item('x')\n",
      "should be grok: Item('z')\n"
     ]
    }
   ],
   "source": [
    "class PriorityQueue:\n",
    "    def __init__(self):\n",
    "        self._queue = []\n",
    "        self._index = 0\n",
    "        \n",
    "    def push(self, item, priority):\n",
    "        heapq.heappush(self._queue, (-priority, self._index, item))\n",
    "        self._index += 1\n",
    "        \n",
    "    def pop(self):\n",
    "        return heapq.heappop(self._queue)[-1]\n",
    "    \n",
    "class Item:\n",
    "    def __init__(self, name):\n",
    "        self.name = name\n",
    "    def __repr__(self):\n",
    "        return 'Item({!r})'.format(self.name)\n",
    "    \n",
    "q = PriorityQueue()\n",
    "q.push(Item('foo'), 1)\n",
    "q.push(Item('bar'), 5)\n",
    "q.push(Item('spam'), 4)\n",
    "q.push(Item('grok'), 1)\n",
    "\n",
    "help(heapq.heappush)\n",
    "\n",
    "print('should be bar:', q.pop())\n",
    "print('should be spam:', q.pop())\n",
    "print('should be foo:', q.pop())\n",
    "print('should be grok:', q.pop())"
   ]
  },
  {
   "cell_type": "markdown",
   "metadata": {},
   "source": [
    "#### Python문서의 기본예제"
   ]
  },
  {
   "cell_type": "code",
   "execution_count": null,
   "metadata": {},
   "outputs": [],
   "source": [
    "import heapq as q\n",
    "def heapsort(iterable):\n",
    "    h = []\n",
    "    for value in iterable:\n",
    "        q.heappush(h, value)  # 리스트에 \n",
    "    return [q.heappop(h) for i in range(len(h))]"
   ]
  },
  {
   "cell_type": "code",
   "execution_count": 13,
   "metadata": {},
   "outputs": [
    {
     "data": {
      "text/plain": [
       "[0, 1, 2, 3, 4, 5, 6, 7, 8, 9]"
      ]
     },
     "execution_count": 13,
     "metadata": {},
     "output_type": "execute_result"
    }
   ],
   "source": [
    "heapsort([1, 3, 5, 7, 9, 2, 4, 6, 8, 0])"
   ]
  },
  {
   "cell_type": "code",
   "execution_count": 21,
   "metadata": {},
   "outputs": [
    {
     "name": "stdout",
     "output_type": "stream",
     "text": [
      "h의 크기 :  4\n",
      "(1, 'write spec')\n"
     ]
    }
   ],
   "source": [
    "h = []\n",
    "q.heappush(h, (5, 'Write code'))\n",
    "q.heappush(h, (7, 'release product'))\n",
    "q.heappush(h, (1, 'write spec'))\n",
    "q.heappush(h, (3, 'create tests'))\n",
    "\n",
    "print('h의 크기 : ', len(h))\n",
    "print(q.heappop(h))"
   ]
  },
  {
   "cell_type": "markdown",
   "metadata": {},
   "source": [
    "#### 결론 \n",
    "- 위에서 보듯이 heappop은 heap에 push된 값들 중에서 **가장 작은 것**을 먼저 리턴.\n",
    "- **우선순위가 같으면 먼저 heap에 queued된 놈**이 먼저 나옴.(heappop()호출시"
   ]
  }
 ],
 "metadata": {
  "kernelspec": {
   "display_name": "Python 3",
   "language": "python",
   "name": "python3"
  },
  "language_info": {
   "codemirror_mode": {
    "name": "ipython",
    "version": 3
   },
   "file_extension": ".py",
   "mimetype": "text/x-python",
   "name": "python",
   "nbconvert_exporter": "python",
   "pygments_lexer": "ipython3",
   "version": "3.8.3"
  }
 },
 "nbformat": 4,
 "nbformat_minor": 4
}
