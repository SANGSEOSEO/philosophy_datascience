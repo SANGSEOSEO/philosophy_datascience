{
 "cells": [
  {
   "cell_type": "markdown",
   "metadata": {},
   "source": [
    "### 명명된 튜플\n",
    "tuple is very convinient,but sometimes we need to name to some fields when tuple() data type.\n",
    " - collections.namedtuple()\n",
    " - Fluent Python의 2부 데이터 구조체."
   ]
  },
  {
   "cell_type": "code",
   "execution_count": 13,
   "metadata": {},
   "outputs": [],
   "source": [
    "from collections import namedtuple"
   ]
  },
  {
   "cell_type": "code",
   "execution_count": 4,
   "metadata": {},
   "outputs": [
    {
     "name": "stdout",
     "output_type": "stream",
     "text": [
      "Help on function namedtuple in module collections:\n",
      "\n",
      "namedtuple(typename, field_names, *, rename=False, defaults=None, module=None)\n",
      "    Returns a new subclass of tuple with named fields.\n",
      "    \n",
      "    >>> Point = namedtuple('Point', ['x', 'y'])\n",
      "    >>> Point.__doc__                   # docstring for the new class\n",
      "    'Point(x, y)'\n",
      "    >>> p = Point(11, y=22)             # instantiate with positional args or keywords\n",
      "    >>> p[0] + p[1]                     # indexable like a plain tuple\n",
      "    33\n",
      "    >>> x, y = p                        # unpack like a regular tuple\n",
      "    >>> x, y\n",
      "    (11, 22)\n",
      "    >>> p.x + p.y                       # fields also accessible by name\n",
      "    33\n",
      "    >>> d = p._asdict()                 # convert to a dictionary\n",
      "    >>> d['x']\n",
      "    11\n",
      "    >>> Point(**d)                      # convert from a dictionary\n",
      "    Point(x=11, y=22)\n",
      "    >>> p._replace(x=100)               # _replace() is like str.replace() but targets named fields\n",
      "    Point(x=100, y=22)\n",
      "\n"
     ]
    }
   ],
   "source": [
    "help(namedtuple)"
   ]
  },
  {
   "cell_type": "code",
   "execution_count": 10,
   "metadata": {},
   "outputs": [
    {
     "name": "stdout",
     "output_type": "stream",
     "text": [
      "x ->  11\n",
      "y ->  22\n",
      "unpacking result :  11 22\n"
     ]
    }
   ],
   "source": [
    "Point = namedtuple('Point', ['x', 'y'])  # Point라는 이름을 가진 튜플을 생성\n",
    "Point.__doc__   # 'Point(x, y)'\n",
    "p = Point(11, 22)\n",
    "\n",
    "# x axis, y axis\n",
    "print('x -> ', p[0])\n",
    "print('y -> ', p[1])\n",
    "\n",
    "# unpacking\n",
    "x, y = p\n",
    "print('unpacking result : ', x, y)"
   ]
  },
  {
   "cell_type": "markdown",
   "metadata": {},
   "source": [
    "#### 1. 명명된 튜플형을 정의하고 사용"
   ]
  },
  {
   "cell_type": "code",
   "execution_count": 20,
   "metadata": {},
   "outputs": [
    {
     "name": "stdout",
     "output_type": "stream",
     "text": [
      "Tokyo :  City(name='Tokyo', country='JP', population=36.933, coordinates=(35.68972, 139.691667))\n",
      "Population :  36.933\n",
      "coordinates :  (35.68972, 139.691667)\n",
      "population :  36.933\n"
     ]
    }
   ],
   "source": [
    "City = namedtuple('City', 'name country population coordinates')  # 클래스명과 필드명의 리스트\n",
    "tokyo =City('Tokyo', 'JP', 36.933, (35.68972, 139.691667))  # 데이터는 위치를 맞추고 콤마로 구분해서 생성자에 전달\n",
    "\n",
    "print('Tokyo : ' , tokyo)  # Tokyo :  City(name='Tokyo', country='JP', population=36.933, coordinates=(35.68972, 139.691667))\n",
    "\n",
    "# 필드 접근\n",
    "print('Population : ', tokyo.population)\n",
    "print('coordinates : ', tokyo.coordinates)\n",
    "\n",
    "\n",
    "# access from index\n",
    "print('population : ', tokyo[2])"
   ]
  },
  {
   "cell_type": "code",
   "execution_count": 22,
   "metadata": {},
   "outputs": [
    {
     "name": "stdout",
     "output_type": "stream",
     "text": [
      "Help on class City in module __main__:\n",
      "\n",
      "class City(builtins.tuple)\n",
      " |  City(name, country, population, coordinates)\n",
      " |  \n",
      " |  City(name, country, population, coordinates)\n",
      " |  \n",
      " |  Method resolution order:\n",
      " |      City\n",
      " |      builtins.tuple\n",
      " |      builtins.object\n",
      " |  \n",
      " |  Methods defined here:\n",
      " |  \n",
      " |  __getnewargs__(self)\n",
      " |      Return self as a plain tuple.  Used by copy and pickle.\n",
      " |  \n",
      " |  __repr__(self)\n",
      " |      Return a nicely formatted representation string\n",
      " |  \n",
      " |  _asdict(self)\n",
      " |      Return a new dict which maps field names to their values.\n",
      " |  \n",
      " |  _replace(self, /, **kwds)\n",
      " |      Return a new City object replacing specified fields with new values\n",
      " |  \n",
      " |  ----------------------------------------------------------------------\n",
      " |  Class methods defined here:\n",
      " |  \n",
      " |  _make(iterable) from builtins.type\n",
      " |      Make a new City object from a sequence or iterable\n",
      " |  \n",
      " |  ----------------------------------------------------------------------\n",
      " |  Static methods defined here:\n",
      " |  \n",
      " |  __new__(_cls, name, country, population, coordinates)\n",
      " |      Create new instance of City(name, country, population, coordinates)\n",
      " |  \n",
      " |  ----------------------------------------------------------------------\n",
      " |  Data descriptors defined here:\n",
      " |  \n",
      " |  name\n",
      " |      Alias for field number 0\n",
      " |  \n",
      " |  country\n",
      " |      Alias for field number 1\n",
      " |  \n",
      " |  population\n",
      " |      Alias for field number 2\n",
      " |  \n",
      " |  coordinates\n",
      " |      Alias for field number 3\n",
      " |  \n",
      " |  ----------------------------------------------------------------------\n",
      " |  Data and other attributes defined here:\n",
      " |  \n",
      " |  _field_defaults = {}\n",
      " |  \n",
      " |  _fields = ('name', 'country', 'population', 'coordinates')\n",
      " |  \n",
      " |  _fields_defaults = {}\n",
      " |  \n",
      " |  ----------------------------------------------------------------------\n",
      " |  Methods inherited from builtins.tuple:\n",
      " |  \n",
      " |  __add__(self, value, /)\n",
      " |      Return self+value.\n",
      " |  \n",
      " |  __contains__(self, key, /)\n",
      " |      Return key in self.\n",
      " |  \n",
      " |  __eq__(self, value, /)\n",
      " |      Return self==value.\n",
      " |  \n",
      " |  __ge__(self, value, /)\n",
      " |      Return self>=value.\n",
      " |  \n",
      " |  __getattribute__(self, name, /)\n",
      " |      Return getattr(self, name).\n",
      " |  \n",
      " |  __getitem__(self, key, /)\n",
      " |      Return self[key].\n",
      " |  \n",
      " |  __gt__(self, value, /)\n",
      " |      Return self>value.\n",
      " |  \n",
      " |  __hash__(self, /)\n",
      " |      Return hash(self).\n",
      " |  \n",
      " |  __iter__(self, /)\n",
      " |      Implement iter(self).\n",
      " |  \n",
      " |  __le__(self, value, /)\n",
      " |      Return self<=value.\n",
      " |  \n",
      " |  __len__(self, /)\n",
      " |      Return len(self).\n",
      " |  \n",
      " |  __lt__(self, value, /)\n",
      " |      Return self<value.\n",
      " |  \n",
      " |  __mul__(self, value, /)\n",
      " |      Return self*value.\n",
      " |  \n",
      " |  __ne__(self, value, /)\n",
      " |      Return self!=value.\n",
      " |  \n",
      " |  __rmul__(self, value, /)\n",
      " |      Return value*self.\n",
      " |  \n",
      " |  count(self, value, /)\n",
      " |      Return number of occurrences of value.\n",
      " |  \n",
      " |  index(self, value, start=0, stop=9223372036854775807, /)\n",
      " |      Return first index of value.\n",
      " |      \n",
      " |      Raises ValueError if the value is not present.\n",
      "\n"
     ]
    }
   ],
   "source": [
    "help(City)"
   ]
  },
  {
   "cell_type": "markdown",
   "metadata": {},
   "source": [
    "* builtins.tuple상속받는 클래스 \n",
    "주요 속성\n",
    " - `_`fields 클래스 속성\n",
    " - `_`make(iterable) 클래스 메소드 \n",
    " - `_`asDict()"
   ]
  },
  {
   "cell_type": "code",
   "execution_count": 32,
   "metadata": {},
   "outputs": [
    {
     "name": "stdout",
     "output_type": "stream",
     "text": [
      "field :  ('name', 'country', 'population', 'coordinates')\n",
      "converted Dic : {'name': 'Dehi NCR', 'country': 'IN', 'population': 21.935, 'coordinates': LatLong(lat=28.613889, long=77.208889)}\n",
      "name :  Dehi NCR\n",
      "country :  IN\n",
      "population :  21.935\n",
      "coordinates :  LatLong(lat=28.613889, long=77.208889)\n"
     ]
    }
   ],
   "source": [
    "print('field : ' ,City._fields)  # field :  ('name', 'country', 'population', 'coordinates')\n",
    "latLong = namedtuple('LatLong', 'lat long')\n",
    "\n",
    "delhi_data = ('Dehi NCR', 'IN', 21.935, latLong(28.613889, 77.208889))\n",
    "delhi = City._make(delhi_data)\n",
    "\n",
    "# {'name': 'Dehi NCR', 'country': 'IN', 'population': 21.935, 'coordinates': LatLong(lat=28.613889, long=77.208889)}\n",
    "print(\"converted Dic :\" , delhi._asdict())\n",
    "\n",
    "for key, value in delhi._asdict().items():\n",
    "    print(key  + ' : ', value)"
   ]
  },
  {
   "cell_type": "code",
   "execution_count": 38,
   "metadata": {},
   "outputs": [
    {
     "name": "stdout",
     "output_type": "stream",
     "text": [
      "total records :  65912.5\n"
     ]
    }
   ],
   "source": [
    "#Some Data\n",
    "records = [\n",
    "    ('GOOD', 100, 490.1),\n",
    "    ('ACME', 100, 123.45),\n",
    "    ('IBM', 50, 91.15)\n",
    "]\n",
    "Stock = namedtuple('Stock', ['name', 'share', 'price'])\n",
    "\n",
    "def compute_cost(records):\n",
    "    pass\n",
    "    total = 0.0\n",
    "    for rec in records:\n",
    "        s = Stock(*rec)  # *rec는 나머지 파라미터를 튜플로 언패킹\n",
    "        total += s.share * s.price\n",
    "    return total\n",
    "\n",
    "print('total records : ', compute_cost(records))"
   ]
  },
  {
   "cell_type": "markdown",
   "metadata": {},
   "source": [
    "참조 : [David Beazley 깃헙](https://github.com/dabeaz)"
   ]
  }
 ],
 "metadata": {
  "kernelspec": {
   "display_name": "Python 3",
   "language": "python",
   "name": "python3"
  },
  "language_info": {
   "codemirror_mode": {
    "name": "ipython",
    "version": 3
   },
   "file_extension": ".py",
   "mimetype": "text/x-python",
   "name": "python",
   "nbconvert_exporter": "python",
   "pygments_lexer": "ipython3",
   "version": "3.8.3"
  }
 },
 "nbformat": 4,
 "nbformat_minor": 4
}
