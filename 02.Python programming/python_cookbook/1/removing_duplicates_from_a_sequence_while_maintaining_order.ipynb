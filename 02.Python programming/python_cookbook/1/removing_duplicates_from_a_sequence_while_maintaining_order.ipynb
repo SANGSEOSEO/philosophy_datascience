{
 "cells": [
  {
   "cell_type": "markdown",
   "metadata": {},
   "source": [
    "# 순서를 유지하면서 시퀀스에 중복 엔트리 제거\n",
    "* `Fluent Python`의 14장 제어흐름 참조\n",
    "* 함수가 아닌 `generator`임을 유의하자."
   ]
  },
  {
   "cell_type": "markdown",
   "metadata": {},
   "source": [
    "## 예제1"
   ]
  },
  {
   "cell_type": "code",
   "execution_count": 3,
   "metadata": {},
   "outputs": [
    {
     "name": "stdout",
     "output_type": "stream",
     "text": [
      "[1, 5, 2, 1, 9, 1, 5, 10]\n",
      "<class 'generator'>\n",
      "[1, 5, 2, 9, 10]\n"
     ]
    }
   ],
   "source": [
    "def dedup(items):\n",
    "    seen  = set()\n",
    "    \n",
    "    for item in items:\n",
    "        if item not in seen:\n",
    "            yield item  # generator로 작동\n",
    "            seen.add(item)    \n",
    "    \n",
    "if __name__ == '__main__':\n",
    "    a = [1, 5, 2, 1, 9, 1, 5, 10]\n",
    "    print(a)\n",
    "    print(type(dedup(a)))  # <class 'generator'>\n",
    "    print(list(dedup(a)))"
   ]
  },
  {
   "cell_type": "markdown",
   "metadata": {},
   "source": [
    "## 예제2"
   ]
  },
  {
   "cell_type": "code",
   "execution_count": 7,
   "metadata": {},
   "outputs": [
    {
     "name": "stdout",
     "output_type": "stream",
     "text": [
      "[{'x': 2, 'y': 3}, {'x': 1, 'y': 4}, {'x': 2, 'y': 3}, {'x': 2, 'y': 3}, {'x': 10, 'y': 15}]\n",
      "{'x': 2, 'y': 3}\n",
      "{'x': 1, 'y': 4}\n",
      "{'x': 2, 'y': 3}\n",
      "{'x': 2, 'y': 3}\n",
      "{'x': 10, 'y': 15}\n",
      "[{'x': 2, 'y': 3}, {'x': 1, 'y': 4}, {'x': 10, 'y': 15}]\n"
     ]
    }
   ],
   "source": [
    "def dedupe(items, key=None):\n",
    "    seen = set()\n",
    "    \n",
    "    for item in items:\n",
    "        print(item)\n",
    "        val = item if key is None else key(item)\n",
    "        \n",
    "        if val not in seen:\n",
    "            yield item\n",
    "            seen.add(val)\n",
    "\n",
    "if __name__ == '__main__':\n",
    "    a = [\n",
    "        {'x': 2, 'y': 3},\n",
    "        {'x': 1, 'y': 4},\n",
    "        {'x': 2, 'y': 3},\n",
    "        {'x': 2, 'y': 3},\n",
    "        {'x': 10, 'y': 15}\n",
    "    ]\n",
    "    \n",
    "    print(a)\n",
    "    print(list(dedupe(a, key = lambda a:(a['x'], a['y']))))"
   ]
  },
  {
   "cell_type": "code",
   "execution_count": null,
   "metadata": {},
   "outputs": [],
   "source": []
  }
 ],
 "metadata": {
  "kernelspec": {
   "display_name": "Python 3",
   "language": "python",
   "name": "python3"
  },
  "language_info": {
   "codemirror_mode": {
    "name": "ipython",
    "version": 3
   },
   "file_extension": ".py",
   "mimetype": "text/x-python",
   "name": "python",
   "nbconvert_exporter": "python",
   "pygments_lexer": "ipython3",
   "version": "3.8.3"
  }
 },
 "nbformat": 4,
 "nbformat_minor": 4
}
