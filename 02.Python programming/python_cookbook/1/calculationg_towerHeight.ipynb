{
 "cells": [
  {
   "cell_type": "code",
   "execution_count": null,
   "metadata": {},
   "outputs": [],
   "source": []
  },
  {
   "cell_type": "code",
   "execution_count": 4,
   "metadata": {},
   "outputs": [
    {
     "name": "stdout",
     "output_type": "stream",
     "text": [
      "1일차  지폐수는 1 이고, 현재 높이는 0.00 입니다. \n",
      "2일차  지폐수는 2 이고, 현재 높이는 0.00 입니다. \n",
      "3일차  지폐수는 4 이고, 현재 높이는 0.00 입니다. \n",
      "4일차  지폐수는 8 이고, 현재 높이는 0.00 입니다. \n",
      "5일차  지폐수는 16 이고, 현재 높이는 0.00 입니다. \n",
      "6일차  지폐수는 32 이고, 현재 높이는 0.00 입니다. \n",
      "7일차  지폐수는 64 이고, 현재 높이는 0.01 입니다. \n",
      "8일차  지폐수는 128 이고, 현재 높이는 0.01 입니다. \n",
      "9일차  지폐수는 256 이고, 현재 높이는 0.03 입니다. \n",
      "10일차  지폐수는 512 이고, 현재 높이는 0.06 입니다. \n",
      "11일차  지폐수는 1024 이고, 현재 높이는 0.11 입니다. \n",
      "12일차  지폐수는 2048 이고, 현재 높이는 0.23 입니다. \n",
      "13일차  지폐수는 4096 이고, 현재 높이는 0.45 입니다. \n",
      "14일차  지폐수는 8192 이고, 현재 높이는 0.90 입니다. \n",
      "15일차  지폐수는 16384 이고, 현재 높이는 1.80 입니다. \n",
      "16일차  지폐수는 32768 이고, 현재 높이는 3.60 입니다. \n",
      "17일차  지폐수는 65536 이고, 현재 높이는 7.21 입니다. \n",
      "18일차  지폐수는 131072 이고, 현재 높이는 14.42 입니다. \n",
      "19일차  지폐수는 262144 이고, 현재 높이는 28.84 입니다. \n",
      "20일차  지폐수는 524288 이고, 현재 높이는 57.67 입니다. \n",
      "21일차  지폐수는 1048576 이고, 현재 높이는 115.34 입니다. \n",
      "22일차  지폐수는 2097152 이고, 현재 높이는 230.69 입니다. \n",
      "최종 지폐수  4194304\n",
      "탑의 높이와 같아진 날짜  23\n",
      "최종 높이  461.37344\n"
     ]
    }
   ],
   "source": [
    "bill_thickness = 0.11 * 0.001  # 0.11은 지폐의 두께, 0.001은 밀리미터를 미터로 환산\n",
    "number_of_bills = 1\n",
    "days = 1\n",
    "tower_height = 442\n",
    "\n",
    "\n",
    "while number_of_bills * bill_thickness < tower_height:\n",
    "    print(\"{0}일차  지폐수는 {1} 이고, 현재 높이는 {2:.2f} 입니다. \".format(days, number_of_bills, number_of_bills * bill_thickness))\n",
    "    days += 1\n",
    "    number_of_bills *= 2\n",
    "\n",
    "print(\"최종 지폐수 \", number_of_bills)\n",
    "print(\"탑의 높이와 같아진 날짜 \", days)\n",
    "print(\"최종 높이 \", bill_thickness * number_of_bills)"
   ]
  }
 ],
 "metadata": {
  "kernelspec": {
   "display_name": "Python 3",
   "language": "python",
   "name": "python3"
  },
  "language_info": {
   "codemirror_mode": {
    "name": "ipython",
    "version": 3
   },
   "file_extension": ".py",
   "mimetype": "text/x-python",
   "name": "python",
   "nbconvert_exporter": "python",
   "pygments_lexer": "ipython3",
   "version": "3.8.3"
  }
 },
 "nbformat": 4,
 "nbformat_minor": 4
}
