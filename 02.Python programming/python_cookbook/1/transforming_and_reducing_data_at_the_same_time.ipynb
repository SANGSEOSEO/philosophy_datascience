{
 "cells": [
  {
   "cell_type": "markdown",
   "metadata": {},
   "source": [
    "# 데이터변환과 축소를 동시에 하기 \n",
    "* 리스트 컴프리헨션 이용"
   ]
  },
  {
   "cell_type": "markdown",
   "metadata": {},
   "source": [
    "## Read Evaluation Print Loop"
   ]
  },
  {
   "cell_type": "code",
   "execution_count": 22,
   "metadata": {},
   "outputs": [],
   "source": [
    "import os"
   ]
  },
  {
   "cell_type": "code",
   "execution_count": 21,
   "metadata": {},
   "outputs": [
    {
     "name": "stdout",
     "output_type": "stream",
     "text": [
      "<class 'list'>\n",
      "파이썬 파일이 없네요.\n"
     ]
    }
   ],
   "source": [
    "files = os.listdir(os.path.expanduser('~')) # 현재 경로의 모든 파일을 리스트타입으로 가져옴.(파일명)\n",
    "print(type(files))  \n",
    "\n",
    "if any(name.endswith('.py') for name in files):\n",
    "    print(\"파이썬 파일이 있습니다.\")\n",
    "else:\n",
    "    print(\"파이썬 파일이 없네요.\")"
   ]
  },
  {
   "cell_type": "code",
   "execution_count": 11,
   "metadata": {},
   "outputs": [
    {
     "name": "stdout",
     "output_type": "stream",
     "text": [
      "ACME,50,123.45\n"
     ]
    }
   ],
   "source": [
    "# Output a tuple as CSV\n",
    "s = ('ACME', 50, 123.45)\n",
    "\n",
    "# 리스트\n",
    "[','.join(str(l) for l in s)]\n",
    "\n",
    "# 튜플을 CSV로 \n",
    "print(','.join(str(l) for l in s))"
   ]
  },
  {
   "cell_type": "code",
   "execution_count": 19,
   "metadata": {},
   "outputs": [
    {
     "name": "stdout",
     "output_type": "stream",
     "text": [
      "50\n",
      "75\n",
      "20\n",
      "65\n",
      "가장 주식이 낮은 주가 20\n"
     ]
    }
   ],
   "source": [
    "# Data reduction across fields of a data structure\n",
    "portfolio = [\n",
    "   {'name':'GOOG', 'shares': 50},\n",
    "   {'name':'YHOO', 'shares': 75},\n",
    "   {'name':'AOL', 'shares': 20},\n",
    "   {'name':'SCOX', 'shares': 65}\n",
    "]\n",
    "\n",
    "\n",
    "# 가장 주가가 낮은것을 가져오기 \n",
    "for d in portfolio:\n",
    "    print(d['shares'])\n",
    "    \n",
    "min_shares = min(d['shares'] for d in portfolio)\n",
    "print('가장 주식이 낮은 주가 {}'.format(min_shares))"
   ]
  }
 ],
 "metadata": {
  "kernelspec": {
   "display_name": "Python 3",
   "language": "python",
   "name": "python3"
  },
  "language_info": {
   "codemirror_mode": {
    "name": "ipython",
    "version": 3
   },
   "file_extension": ".py",
   "mimetype": "text/x-python",
   "name": "python",
   "nbconvert_exporter": "python",
   "pygments_lexer": "ipython3",
   "version": "3.8.3"
  }
 },
 "nbformat": 4,
 "nbformat_minor": 4
}
