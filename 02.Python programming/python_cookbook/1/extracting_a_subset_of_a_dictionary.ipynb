{
 "cells": [
  {
   "cell_type": "markdown",
   "metadata": {},
   "source": [
    "# 딕셔너리에서 부분집합 추출"
   ]
  },
  {
   "cell_type": "code",
   "execution_count": 5,
   "metadata": {},
   "outputs": [
    {
     "data": {
      "text/plain": [
       "{'AAPL': 612.78, 'IBM': 205.55}"
      ]
     },
     "metadata": {},
     "output_type": "display_data"
    },
    {
     "name": "stdout",
     "output_type": "stream",
     "text": [
      "모든 기술주 보기 \n"
     ]
    },
    {
     "data": {
      "text/plain": [
       "{'AAPL': 612.78, 'IBM': 205.55, 'HPQ': 37.2}"
      ]
     },
     "metadata": {},
     "output_type": "display_data"
    }
   ],
   "source": [
    "from pprint import pprint\n",
    "\n",
    "prices = {\n",
    "   'ACME': 45.23,\n",
    "   'AAPL': 612.78,\n",
    "   'IBM': 205.55,\n",
    "   'HPQ': 37.20,\n",
    "   'FB': 10.75\n",
    "}\n",
    "\n",
    "# 가격이 200보다 큰것만 추출해 딕셔너리 만들기\n",
    "p1 = {key:value for key, value in prices.items() if value > 200}\n",
    "display(p1)\n",
    "\n",
    "#기술주만 뽑기\n",
    "tech_names = {'AAPL','IBM', 'HPQ', 'MSFT'}\n",
    "\n",
    "p2 = {key:value for key, value in prices.items() if key in tech_names}\n",
    "print(\"모든 기술주 보기 \")\n",
    "display(p2)"
   ]
  }
 ],
 "metadata": {
  "kernelspec": {
   "display_name": "Python 3",
   "language": "python",
   "name": "python3"
  },
  "language_info": {
   "codemirror_mode": {
    "name": "ipython",
    "version": 3
   },
   "file_extension": ".py",
   "mimetype": "text/x-python",
   "name": "python",
   "nbconvert_exporter": "python",
   "pygments_lexer": "ipython3",
   "version": "3.8.3"
  }
 },
 "nbformat": 4,
 "nbformat_minor": 4
}
