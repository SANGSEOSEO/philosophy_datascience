{
 "cells": [
  {
   "cell_type": "markdown",
   "metadata": {},
   "source": [
    "# 딕셔너리간의 집합연산자 이용\n",
    "* 집합연산자를 이용해 교집합, 차집합 연산"
   ]
  },
  {
   "cell_type": "code",
   "execution_count": 4,
   "metadata": {},
   "outputs": [
    {
     "data": {
      "text/plain": [
       "'공통 키 : '"
      ]
     },
     "metadata": {},
     "output_type": "display_data"
    },
    {
     "data": {
      "text/plain": [
       "{'x', 'y'}"
      ]
     },
     "metadata": {},
     "output_type": "display_data"
    },
    {
     "data": {
      "text/plain": [
       "'차집합 : '"
      ]
     },
     "metadata": {},
     "output_type": "display_data"
    },
    {
     "data": {
      "text/plain": [
       "{'z'}"
      ]
     },
     "metadata": {},
     "output_type": "display_data"
    },
    {
     "data": {
      "text/plain": [
       "'(key, vlaue) ==> '"
      ]
     },
     "metadata": {},
     "output_type": "display_data"
    },
    {
     "data": {
      "text/plain": [
       "{('y', 2)}"
      ]
     },
     "metadata": {},
     "output_type": "display_data"
    }
   ],
   "source": [
    "a = {\n",
    "   'x' : 1,\n",
    "   'y' : 2,\n",
    "   'z' : 3\n",
    "}\n",
    "\n",
    "b = {\n",
    "   'w' : 10,\n",
    "   'x' : 11,\n",
    "   'y' : 2\n",
    "}\n",
    "\n",
    "#공통 키\n",
    "display('공통 키 : ', a.keys() & b.keys())\n",
    "\n",
    "# 차집합\n",
    "display('차집합 : ', a.keys() - b.keys())\n",
    "\n",
    "# 키값이 공통적으로 들어가있는것.\n",
    "display('(key, vlaue) ==> ', a.items() & b.items())"
   ]
  }
 ],
 "metadata": {
  "kernelspec": {
   "display_name": "Python 3",
   "language": "python",
   "name": "python3"
  },
  "language_info": {
   "codemirror_mode": {
    "name": "ipython",
    "version": 3
   },
   "file_extension": ".py",
   "mimetype": "text/x-python",
   "name": "python",
   "nbconvert_exporter": "python",
   "pygments_lexer": "ipython3",
   "version": "3.8.3"
  }
 },
 "nbformat": 4,
 "nbformat_minor": 4
}
