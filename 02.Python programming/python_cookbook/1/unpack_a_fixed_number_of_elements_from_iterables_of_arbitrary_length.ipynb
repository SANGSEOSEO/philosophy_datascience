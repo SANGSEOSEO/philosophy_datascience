{
 "cells": [
  {
   "cell_type": "markdown",
   "metadata": {},
   "source": [
    "# 크기가 서로 다른 튜플의 언패킹\n",
    "* `tuple unpackng` 혹은 `반복형 언패킹(iterable unpacking)`이라고도 함.\n",
    "* `Fluent Python`의 2장 시퀀스 참조\n",
    "* [저자의 깃헙](https://github.com/fluentpython)"
   ]
  },
  {
   "cell_type": "code",
   "execution_count": 38,
   "metadata": {},
   "outputs": [
    {
     "name": "stdout",
     "output_type": "stream",
     "text": [
      "foo 1 - 2\n",
      "'hello'\n",
      "foo 3 - 4\n"
     ]
    }
   ],
   "source": [
    "records = [\n",
    "     ('foo', 1, 2),\n",
    "     ('bar', 'hello'),\n",
    "     ('foo', 3, 4),\n",
    "]\n",
    "def do_foo(x, y):\n",
    "    return 'foo {} - {}'.format(x, y)\n",
    "def do_bar(s):\n",
    "    return repr(s)\n",
    "\n",
    "for tag, *arg in records:\n",
    "    if tag == 'foo':\n",
    "        msg = do_foo(*arg)\n",
    "        print(msg)\n",
    "    elif tag == 'bar':\n",
    "        msg = do_bar(*arg)\n",
    "        print(msg)"
   ]
  },
  {
   "cell_type": "markdown",
   "metadata": {},
   "source": [
    "## REPL - Read Evaluate Print Loop"
   ]
  },
  {
   "cell_type": "code",
   "execution_count": 3,
   "metadata": {},
   "outputs": [],
   "source": [
    "records = [\n",
    "     ('foo', 1, 2),\n",
    "     ('bar', 'hello'),\n",
    "     ('foo', 3, 4),\n",
    "]"
   ]
  },
  {
   "cell_type": "markdown",
   "metadata": {},
   "source": [
    "* 튜플 언패킹이라고 하지.`*`를 인자앞에 두면."
   ]
  },
  {
   "cell_type": "code",
   "execution_count": 18,
   "metadata": {},
   "outputs": [
    {
     "data": {
      "text/plain": [
       "'foo'"
      ]
     },
     "metadata": {},
     "output_type": "display_data"
    },
    {
     "data": {
      "text/plain": [
       "[1, 2]"
      ]
     },
     "metadata": {},
     "output_type": "display_data"
    },
    {
     "data": {
      "text/plain": [
       "'foo'"
      ]
     },
     "metadata": {},
     "output_type": "display_data"
    },
    {
     "data": {
      "text/plain": [
       "list"
      ]
     },
     "metadata": {},
     "output_type": "display_data"
    },
    {
     "name": "stdout",
     "output_type": "stream",
     "text": [
      "\n",
      " 튜플이 언패킹된거야.\n"
     ]
    },
    {
     "data": {
      "text/plain": [
       "1"
      ]
     },
     "metadata": {},
     "output_type": "display_data"
    },
    {
     "data": {
      "text/plain": [
       "2"
      ]
     },
     "metadata": {},
     "output_type": "display_data"
    }
   ],
   "source": [
    "tag, *arg = records[0]\n",
    "display(tag, arg)\n",
    "display(tag, type(arg))\n",
    "\n",
    "print(\"\\n 튜플이 언패킹된거야.\")\n",
    "x, y = arg\n",
    "display(x, y)"
   ]
  },
  {
   "cell_type": "markdown",
   "metadata": {},
   "source": [
    "## 예제1"
   ]
  },
  {
   "cell_type": "code",
   "execution_count": 23,
   "metadata": {},
   "outputs": [],
   "source": [
    "lax_coordinates = (33.9425, -118.40856)\n",
    "city, year, pop, chg, area = ('Tokyo', 2003, 32450, 0.66, 8014)\n",
    "traveler_ids = [('USA', '31195855'), ('BRA', 'CE42567'), ('ESP', 'XDA205856')]"
   ]
  },
  {
   "cell_type": "code",
   "execution_count": 31,
   "metadata": {},
   "outputs": [
    {
     "name": "stdout",
     "output_type": "stream",
     "text": [
      "USA/31195855\n",
      "ESP/XDA205856\n",
      "BRA/CE42567\n"
     ]
    }
   ],
   "source": [
    "from operator import itemgetter\n",
    "for passport in sorted(traveler_ids, key = itemgetter(0), reverse = True):\n",
    "    print('%s/%s' % passport)  # 퍼센트 포맷연산자는 튜플을 이해하고 각 항목을 하나의 필드로 처리함."
   ]
  },
  {
   "cell_type": "code",
   "execution_count": 27,
   "metadata": {},
   "outputs": [
    {
     "data": {
      "text/plain": [
       "'USA'"
      ]
     },
     "metadata": {},
     "output_type": "display_data"
    },
    {
     "data": {
      "text/plain": [
       "'31195855'"
      ]
     },
     "metadata": {},
     "output_type": "display_data"
    }
   ],
   "source": [
    "country,passport = traveler_ids[0]\n",
    "display(country,passport)"
   ]
  },
  {
   "cell_type": "markdown",
   "metadata": {},
   "source": [
    "* `_`는 더미 변수임.(필요하지 않아서 처리안한다는 의미)"
   ]
  },
  {
   "cell_type": "code",
   "execution_count": 33,
   "metadata": {},
   "outputs": [
    {
     "name": "stdout",
     "output_type": "stream",
     "text": [
      "USA\n",
      "ESP\n",
      "BRA\n"
     ]
    }
   ],
   "source": [
    "for country, _ in sorted(traveler_ids, key = itemgetter(0), reverse = True):  # 두번째 항목은 처리안함.\n",
    "    print(country)"
   ]
  },
  {
   "cell_type": "markdown",
   "metadata": {},
   "source": [
    "## 예제2"
   ]
  },
  {
   "cell_type": "code",
   "execution_count": 35,
   "metadata": {},
   "outputs": [
    {
     "data": {
      "text/plain": [
       "33.9425"
      ]
     },
     "metadata": {},
     "output_type": "display_data"
    },
    {
     "data": {
      "text/plain": [
       "-118.408005"
      ]
     },
     "metadata": {},
     "output_type": "display_data"
    }
   ],
   "source": [
    "lax_coordinates = (33.9425, -118.408005)\n",
    "latitude, longitude = lax_coordinates\n",
    "display(latitude, longitude)"
   ]
  },
  {
   "cell_type": "markdown",
   "metadata": {},
   "source": [
    "## 예제3"
   ]
  },
  {
   "cell_type": "code",
   "execution_count": 36,
   "metadata": {},
   "outputs": [
    {
     "data": {
      "text/plain": [
       "(2, 4)"
      ]
     },
     "execution_count": 36,
     "metadata": {},
     "output_type": "execute_result"
    }
   ],
   "source": [
    "divmod(20, 8) # 몫과 나머지를 튜플로 리턴함."
   ]
  },
  {
   "cell_type": "code",
   "execution_count": 37,
   "metadata": {},
   "outputs": [
    {
     "data": {
      "text/plain": [
       "(2, 4)"
      ]
     },
     "execution_count": 37,
     "metadata": {},
     "output_type": "execute_result"
    }
   ],
   "source": [
    "t = (20, 8)  # 튜플\n",
    "divmod(*t)  # divmod(20, 8)의 결과값과 동일"
   ]
  },
  {
   "cell_type": "code",
   "execution_count": 40,
   "metadata": {},
   "outputs": [
    {
     "data": {
      "text/plain": [
       "2"
      ]
     },
     "metadata": {},
     "output_type": "display_data"
    },
    {
     "data": {
      "text/plain": [
       "4"
      ]
     },
     "metadata": {},
     "output_type": "display_data"
    }
   ],
   "source": [
    "quotient, remainder = divmod(*t)\n",
    "display(quotient, remainder)"
   ]
  },
  {
   "cell_type": "code",
   "execution_count": 44,
   "metadata": {},
   "outputs": [
    {
     "name": "stdout",
     "output_type": "stream",
     "text": [
      "파일명 :  evaluation.py\n",
      "파일 경로 :  C:/dataAnalysis/philosophy_datascience/01.ML/03.Scikit-Learn\n"
     ]
    }
   ],
   "source": [
    "import os\n",
    "\n",
    "# 경로와 파일명을 분리해줌\n",
    "path, filename  = os.path.split(\"C:/dataAnalysis/philosophy_datascience/01.ML/03.Scikit-Learn/evaluation.py\")\n",
    "print(\"파일명 : \", filename)\n",
    "print(\"파일 경로 : \", path)"
   ]
  },
  {
   "cell_type": "code",
   "execution_count": null,
   "metadata": {},
   "outputs": [],
   "source": []
  }
 ],
 "metadata": {
  "kernelspec": {
   "display_name": "Python 3",
   "language": "python",
   "name": "python3"
  },
  "language_info": {
   "codemirror_mode": {
    "name": "ipython",
    "version": 3
   },
   "file_extension": ".py",
   "mimetype": "text/x-python",
   "name": "python",
   "nbconvert_exporter": "python",
   "pygments_lexer": "ipython3",
   "version": "3.8.3"
  }
 },
 "nbformat": 4,
 "nbformat_minor": 4
}
