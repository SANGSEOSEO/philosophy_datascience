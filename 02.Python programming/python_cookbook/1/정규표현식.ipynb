{
 "cells": [
  {
   "cell_type": "markdown",
   "metadata": {},
   "source": [
    "# 정규표현식\n",
    "* 사용자가 우편번호나 전화번호 , 이메일 주소를 맞는 형식으로 입력했는지 확인\n",
    "* 크롤링한 자료에서 이메일이나 전화번호 등 추출\n",
    "* 로그파일에서 특정 에러메시지가 들어간 라인을 찾을 때\n",
    "* 텍스트에서 특정 문자열을 검색하거나 치환할 때"
   ]
  },
  {
   "cell_type": "code",
   "execution_count": 2,
   "metadata": {},
   "outputs": [],
   "source": [
    "import re"
   ]
  },
  {
   "cell_type": "markdown",
   "metadata": {},
   "source": [
    "## 파이썬에서 정규표현식 사용\n",
    "* 패턴을 컴파일 후 적용\n",
    "* 패턴 컴파일 없이 바로 적용"
   ]
  },
  {
   "cell_type": "code",
   "execution_count": 3,
   "metadata": {},
   "outputs": [
    {
     "name": "stdout",
     "output_type": "stream",
     "text": [
      "['비', '비', '비']\n"
     ]
    }
   ],
   "source": [
    "pattern = r'비'\n",
    "text = \"하늘에 비가 오고 있습니다.어제도 비가 왔고 오늘도 비가 오고 있습니다\"\n",
    "\n",
    "regex = re.compile(pattern)  # 패턴을 컴파일 시킴\n",
    "result = regex.findall(text)\n",
    "print(result)  # 리스트 타입으로 리턴"
   ]
  },
  {
   "cell_type": "code",
   "execution_count": 6,
   "metadata": {},
   "outputs": [
    {
     "name": "stdout",
     "output_type": "stream",
     "text": [
      "우편번호 입력 : 09000\n",
      "패턴이 일치합니다.\n"
     ]
    }
   ],
   "source": [
    "zipcode = input(\"우편번호 입력 : \")\n",
    "pattern = r\"\\d{5}$\"  # 숫자 5개가 반복되는 숫자로 끝나는것.\n",
    "regex = re.compile(pattern)  #패턴을 컴파일 시킴\n",
    "result = regex.match(zipcode)\n",
    "\n",
    "if result != None:\n",
    "    print(\"패턴이 일치합니다.\")\n",
    "else:\n",
    "    print(\"Zipcode pattern mismatched.\")"
   ]
  },
  {
   "cell_type": "markdown",
   "metadata": {},
   "source": [
    "### 정규식에서 자주 사용하는 함수\n",
    "* `match(pattern, strinng)` - 문자열의 시작부분부터 매치가 되는지 검색\n",
    "* `search(pattern, string)` - 문자열에 패턴과 매치가 되는 부분이 있는지 검색(처음이든, 중간이든 상관없다.)\n",
    "* `findall(pattern, string)` - 정규식과 매칭되는 모든 문자열을 반환(리스트 타입으로 리턴)\n",
    "* `finditer(pattern, string) - 정규식과 매칭되는 모든 문자열을 iterable객체로 반환\n",
    "* `sub(pattern,replace,string,count=0,flag=0)` - 정규식과 매치되는 모든 문자열을 대체 문자열로 교체,결과를 str 타입으로 반환"
   ]
  },
  {
   "cell_type": "markdown",
   "metadata": {},
   "source": [
    "#### match()함수"
   ]
  },
  {
   "cell_type": "code",
   "execution_count": 8,
   "metadata": {},
   "outputs": [
    {
     "name": "stdout",
     "output_type": "stream",
     "text": [
      "None\n",
      "<re.Match object; span=(0, 4), match='star'>\n",
      "star\n",
      "0\n",
      "4\n",
      "(0, 4)\n"
     ]
    }
   ],
   "source": [
    "text1 = \"I like star\"\n",
    "text2 = \"star is beautiful\"\n",
    "pattern = \"star\"\n",
    "\n",
    "print(re.match(pattern, text1))  # 첫부분부터 `star`가 나와야 매칭가능\n",
    "print(re.match(pattern, text2))\n",
    "\n",
    "matchObj = re.match(pattern, text2)\n",
    "print(matchObj.group()) # 매칭된 문자열을 반환\n",
    "print(matchObj.start()) # 매칭된 문자열 시작 위치\n",
    "print(matchObj.end())   # 매칭된 문자열 종료위치\n",
    "print(matchObj.span())  # 매칭된 문자열의 시작위치와 종료위치를 튜플로 반환"
   ]
  },
  {
   "cell_type": "code",
   "execution_count": 10,
   "metadata": {},
   "outputs": [
    {
     "name": "stdout",
     "output_type": "stream",
     "text": [
      "<re.Match object; span=(7, 11), match='star'>\n",
      "<re.Match object; span=(0, 4), match='star'>\n",
      "star\n",
      "7\n",
      "11\n",
      "(7, 11)\n",
      "star\n",
      "0\n",
      "4\n",
      "(0, 4)\n"
     ]
    }
   ],
   "source": [
    "text1 = \"I like star, red star, yellow star\"\n",
    "text2 = \"star is beautiful\"\n",
    "pattern = \"star\"\n",
    "\n",
    "print(re.search(pattern, text1))  # 첫부분부터 `star`가 나와야 매칭가능\n",
    "print(re.search(pattern, text2))\n",
    "\n",
    "matchObj = re.search(pattern, text1)\n",
    "print(matchObj.group()) # 매칭된 문자열을 반환\n",
    "print(matchObj.start()) # 매칭된 문자열 시작 위치\n",
    "print(matchObj.end())   # 매칭된 문자열 종료위치\n",
    "print(matchObj.span())  # 매칭된 문자열의 시작위치와 종료위치를 튜플로 반환\n",
    "\n",
    "\n",
    "matchObj = re.search(pattern, text2)\n",
    "print(matchObj.group()) # 매칭된 문자열을 반환\n",
    "print(matchObj.start()) # 매칭된 문자열 시작 위치\n",
    "print(matchObj.end())   # 매칭된 문자열 종료위치\n",
    "print(matchObj.span())  # 매칭된 문자열의 시작위치와 종료위치를 튜플로 반환"
   ]
  },
  {
   "cell_type": "markdown",
   "metadata": {},
   "source": [
    "#### findall()함수\n",
    "* 문자열에 패턴과 매칭되는 부분에 대하여 string 리스트로 반환\n",
    "* 반환값 일치하는 문자열들의 리스트\n",
    "* 특정한 패턴과 일치하는 문자열만 추출할 때 사용\n",
    "\n",
    "  예 ) 전화번호만 추출하거나 이메일만 추출하고자 할때.\n",
    "   * 전화번호패턴 : r\"\\d{3}-\\d{4}-\\d{4}\"\n",
    "   * 이메일 패턴  r\"\\b[a-zA-Z0-9._%+-]+@[a-zA-Z0-9.-]+\\.[a-zA-Z]{2,4}\\b\"    "
   ]
  },
  {
   "cell_type": "code",
   "execution_count": 7,
   "metadata": {},
   "outputs": [
    {
     "name": "stdout",
     "output_type": "stream",
     "text": [
      "\n",
      "전화번호 추출하기\n",
      "010-0000-0000\n",
      "010-1111-1111\n",
      "010-2222-2222\n",
      "Email추출\n",
      "test1@nate.com\n",
      "test2@naver.com\n",
      "test3@gmail.com\n"
     ]
    }
   ],
   "source": [
    "text = \"\"\"\n",
    "phone = 010-0000-0000 email:test1@nate.com\n",
    "phone = 010-1111-1111 email:test2@naver.com\n",
    "phone = 010-2222-2222 email:test3@gmail.com\n",
    "\"\"\"\n",
    "print()\n",
    "print(\"전화번호 추출하기\")\n",
    "phonepattern = r\"\\d{3}-\\d{4}-\\d{4}\"\n",
    "\n",
    "matchObj = re.findall(phonepattern, text)\n",
    "for item in matchObj:\n",
    "    print(item)\n",
    "    \n",
    "print(\"Email추출\")\n",
    "emailpattern =  r\"\\b[a-zA-Z0-9._%+-]+@[a-zA-Z0-9.-]+.[a-zA-Z]{2,4}\\b\"\n",
    "matchObj = re.findall(emailpattern, text)\n",
    "\n",
    "for item in matchObj:\n",
    "    print(item)"
   ]
  },
  {
   "cell_type": "markdown",
   "metadata": {},
   "source": [
    "### finditer()\n",
    "* 문자열에 패턴과 매칭되는 부분에 대하여 매칭 객체를 리스트로 반환\n",
    "* 반환값은 문자열이 아니라 매칭 객체라는 부분에서 find 함수와 차이가 남\n",
    "* 특정한 패턴과 일치하는 문자열만 추출할 때 사용\n",
    "  \n",
    "   예 ) 전화번호만 추출하거나 이메일만 추출하고자 할"
   ]
  },
  {
   "cell_type": "code",
   "execution_count": 10,
   "metadata": {},
   "outputs": [
    {
     "name": "stdout",
     "output_type": "stream",
     "text": [
      "\n",
      "전화번호 추출하기\n",
      "010-0000-0000\n",
      "(9, 22)\n",
      "010-1111-1111\n",
      "(52, 65)\n",
      "010-2222-2222\n",
      "(96, 109)\n",
      "\n"
     ]
    }
   ],
   "source": [
    "text = \"\"\"\n",
    "phone = 010-0000-0000 email:test1@nate.com\n",
    "phone = 010-1111-1111 email:test2@naver.com\n",
    "phone = 010-2222-2222 email:test3@gmail.com\n",
    "\"\"\"\n",
    "print()\n",
    "print(\"전화번호 추출하기\")\n",
    "phonepattern = r\"\\d{3}-\\d{4}-\\d{4}\"\n",
    "\n",
    "matchObj = re.finditer(phonepattern, text)\n",
    "for item in matchObj:\n",
    "    print(item.group())\n",
    "    print(item.span())\n",
    "print()\n",
    "    "
   ]
  },
  {
   "cell_type": "markdown",
   "metadata": {},
   "source": [
    "* finditer 함수는 패턴과 일치할 경우 MatchObject 형태의 객체 반복자를 반환\n",
    "* 이터레이터 형태이므로 for 구문을 통해 일치한 대상에 대한 정보를 확인할 수 있음"
   ]
  },
  {
   "cell_type": "markdown",
   "metadata": {},
   "source": [
    "### sub(pattern, replace, string, count=0, flag=0)\n",
    "* 문자열에 패턴과 매칭되는 부분에 대하여 매칭 객체를 리스트로 반환\n",
    "* 반환값은 문자열이 아니라 매칭 객체라는 부분에서 find 함수와 차이가 남\n",
    "* 특정한 패턴과 일치하는 문자열만 추출할 때 사용\n",
    "  \n",
    "   예 ) 전화번호만 추출하거나 이메일만 추출하고자 할때\n",
    "* `replace` - 문자열이 될 수도 있고,함수가 될 수도 있음.\n",
    "* `count` - 최대 몇번까지 교체할 것인지를 설정하는 인자,값이 0이면 모두 교체, 0보다 크면 지정된 횟수만큼 교체"
   ]
  },
  {
   "cell_type": "code",
   "execution_count": 12,
   "metadata": {},
   "outputs": [
    {
     "name": "stdout",
     "output_type": "stream",
     "text": [
      "\n",
      "I like moon, red moon, yellow moon\n",
      "I like moon, red moon, yellow star\n"
     ]
    }
   ],
   "source": [
    "text1 = \"I like star, red star, yellow star\"\n",
    "print()\n",
    "pattern = 'star'\n",
    "\n",
    "# text1의 문자열에서 pattern에 해당하는 문제를 'moon'으로 바꾸는것.\n",
    "# count옵션의 디폴트값은 0 - 모두 교체\n",
    "\n",
    "result = re.sub(pattern, 'moon', text1)  \n",
    "print(result)\n",
    "\n",
    "# count = 2의 의미는 2개만 patter에 해당하는 문자를 바꾸고자 하는 문자로 대치.\n",
    "result2 = re.sub(pattern, 'moon', text1, count = 2)\n",
    "print(result2)"
   ]
  },
  {
   "cell_type": "markdown",
   "metadata": {},
   "source": [
    "## 파이썬에서 정규식 패턴사용"
   ]
  },
  {
   "cell_type": "markdown",
   "metadata": {},
   "source": [
    "#### 패턴 `^`\n",
    "- 시작이 이 패턴으로 이루어져야 함.예) ^abc라면 abc로 시작하는 문자열"
   ]
  },
  {
   "cell_type": "markdown",
   "metadata": {},
   "source": [
    "#### 패턴 `$`\n",
    "* 패턴이 abc`$`이라면 abc로 끝나야 함."
   ]
  },
  {
   "cell_type": "markdown",
   "metadata": {},
   "source": [
    "#### 패턴 `[``]`\n",
    "* 꺽쇠 가로안에 들어가는 모든 문자 패턴"
   ]
  },
  {
   "cell_type": "markdown",
   "metadata": {},
   "source": [
    "#### `[^문자들]`\n",
    "* 문자들로 시작하지 않아야 매칭"
   ]
  },
  {
   "cell_type": "markdown",
   "metadata": {},
   "source": [
    "#### `[k|K]`\n",
    "* 소문자 `k` 혹은 대문자 `K`"
   ]
  },
  {
   "cell_type": "code",
   "execution_count": null,
   "metadata": {},
   "outputs": [],
   "source": []
  },
  {
   "cell_type": "code",
   "execution_count": null,
   "metadata": {},
   "outputs": [],
   "source": []
  }
 ],
 "metadata": {
  "kernelspec": {
   "display_name": "Python 3",
   "language": "python",
   "name": "python3"
  },
  "language_info": {
   "codemirror_mode": {
    "name": "ipython",
    "version": 3
   },
   "file_extension": ".py",
   "mimetype": "text/x-python",
   "name": "python",
   "nbconvert_exporter": "python",
   "pygments_lexer": "ipython3",
   "version": "3.8.3"
  }
 },
 "nbformat": 4,
 "nbformat_minor": 4
}
