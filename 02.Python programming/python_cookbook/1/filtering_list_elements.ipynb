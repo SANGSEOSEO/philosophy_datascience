{
 "cells": [
  {
   "cell_type": "markdown",
   "metadata": {},
   "source": [
    "# 데이터 필터링하는 여러가지 방법"
   ]
  },
  {
   "cell_type": "code",
   "execution_count": 8,
   "metadata": {},
   "outputs": [],
   "source": [
    "from itertools import compress"
   ]
  },
  {
   "cell_type": "code",
   "execution_count": 13,
   "metadata": {},
   "outputs": [
    {
     "data": {
      "text/plain": [
       "[1, 4, 10, 2, 3]"
      ]
     },
     "metadata": {},
     "output_type": "display_data"
    },
    {
     "data": {
      "text/plain": [
       "[-5, -7, -1]"
      ]
     },
     "metadata": {},
     "output_type": "display_data"
    },
    {
     "name": "stdout",
     "output_type": "stream",
     "text": [
      "음수인 것은 0으로 보여주기\n"
     ]
    },
    {
     "data": {
      "text/plain": [
       "[1, 4, 0, 10, 0, 2, 3, 0]"
      ]
     },
     "metadata": {},
     "output_type": "display_data"
    },
    {
     "name": "stdout",
     "output_type": "stream",
     "text": [
      "양수인 것은 0으로 보여주기\n"
     ]
    },
    {
     "data": {
      "text/plain": [
       "[0, 0, -5, 0, -7, 0, 0, -1]"
      ]
     },
     "metadata": {},
     "output_type": "display_data"
    },
    {
     "data": {
      "text/plain": [
       "[False, False, True, False, False, True, True, False]"
      ]
     },
     "metadata": {},
     "output_type": "display_data"
    },
    {
     "data": {
      "text/plain": [
       "['5800 E 58TH', '1060 W ADDISON', '4801 N BROADWAY']"
      ]
     },
     "metadata": {},
     "output_type": "display_data"
    }
   ],
   "source": [
    "mylist = [1, 4, -5, 10, -7, 2, 3, -1]\n",
    "\n",
    "# 양수만 가져오기 \n",
    "pos = [n for n in mylist if n > 0]\n",
    "display(pos)\n",
    "\n",
    "# negative(음수)\n",
    "neg = [n for n in mylist if n < 0]\n",
    "display(neg)\n",
    "\n",
    "# 음수(negative) 인것은 0\n",
    "neg_clip = [n if n > 0 else 0 for n in mylist]\n",
    "print(\"음수인 것은 0으로 보여주기\")\n",
    "display(neg_clip)\n",
    "\n",
    "# 양수인것은 0으로 보여주기\n",
    "pos_clip = [0 if n > 0 else n for n in mylist]\n",
    "print(\"양수인 것은 0으로 보여주기\")\n",
    "display(pos_clip)\n",
    "\n",
    "\n",
    "# 압축\n",
    "addresses = [\n",
    "    '5412 N CLARK',\n",
    "    '5148 N CLARK', \n",
    "    '5800 E 58TH',\n",
    "    '2122 N CLARK',\n",
    "    '5645 N RAVENSWOOD',\n",
    "    '1060 W ADDISON',\n",
    "    '4801 N BROADWAY',\n",
    "    '1039 W GRANVILLE',\n",
    "]\n",
    "\n",
    "counts = [ 0, 3, 10, 4, 1, 7, 6, 1]\n",
    "\n",
    "more5 = [n > 5 for n in counts]\n",
    "display(more5)\n",
    "\n",
    "a = list(compress(addresses, more5))  #more5 결과가 참인것만 가져오는구나.\n",
    "display(a)"
   ]
  },
  {
   "cell_type": "code",
   "execution_count": 9,
   "metadata": {},
   "outputs": [
    {
     "name": "stdout",
     "output_type": "stream",
     "text": [
      "Help on class compress in module itertools:\n",
      "\n",
      "class compress(builtins.object)\n",
      " |  compress(data, selectors)\n",
      " |  \n",
      " |  Return data elements corresponding to true selector elements.\n",
      " |  \n",
      " |  Forms a shorter iterator from selected data elements using the selectors to\n",
      " |  choose the data elements.\n",
      " |  \n",
      " |  Methods defined here:\n",
      " |  \n",
      " |  __getattribute__(self, name, /)\n",
      " |      Return getattr(self, name).\n",
      " |  \n",
      " |  __iter__(self, /)\n",
      " |      Implement iter(self).\n",
      " |  \n",
      " |  __next__(self, /)\n",
      " |      Implement next(self).\n",
      " |  \n",
      " |  __reduce__(...)\n",
      " |      Return state information for pickling.\n",
      " |  \n",
      " |  ----------------------------------------------------------------------\n",
      " |  Static methods defined here:\n",
      " |  \n",
      " |  __new__(*args, **kwargs) from builtins.type\n",
      " |      Create and return a new object.  See help(type) for accurate signature.\n",
      "\n"
     ]
    }
   ],
   "source": [
    "help(compress)  # 불린 인덱싱이랑 유사하다."
   ]
  }
 ],
 "metadata": {
  "kernelspec": {
   "display_name": "Python 3",
   "language": "python",
   "name": "python3"
  },
  "language_info": {
   "codemirror_mode": {
    "name": "ipython",
    "version": 3
   },
   "file_extension": ".py",
   "mimetype": "text/x-python",
   "name": "python",
   "nbconvert_exporter": "python",
   "pygments_lexer": "ipython3",
   "version": "3.8.3"
  }
 },
 "nbformat": 4,
 "nbformat_minor": 4
}
