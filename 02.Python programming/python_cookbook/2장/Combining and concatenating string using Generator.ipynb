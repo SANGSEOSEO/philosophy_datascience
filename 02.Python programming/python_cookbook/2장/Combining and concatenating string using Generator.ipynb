{
 "cells": [
  {
   "cell_type": "markdown",
   "metadata": {},
   "source": [
    "# 제너레이터를 이용한 문자열의 조합 및 결합\n",
    "* `yield`문을 이용한 문자열결합\n",
    "* generator내부적으로 `__next__()`메소드가 구현되어있음."
   ]
  },
  {
   "cell_type": "code",
   "execution_count": 16,
   "metadata": {},
   "outputs": [
    {
     "name": "stdout",
     "output_type": "stream",
     "text": [
      "IsChicagoNotChicago?\n",
      "IsChicagoNotChicago?\n"
     ]
    }
   ],
   "source": [
    "def sample():\n",
    "    yield \"Is\"\n",
    "    yield \"Chicago\"\n",
    "    yield \"Not\"\n",
    "    yield \"Chicago?\"\n",
    "    \n",
    "text = \"\".join(sample())  # 호출하는 순간 next()가 호출이된다. \n",
    "print(text)  # 그래서 결과가 제너레이터가 실행되면서 \"IsChicagoNotChicago?\" 이렇게 나오는 것임\n",
    "\n",
    "import sys\n",
    "\n",
    "for part in sample():\n",
    "    sys.stdout.write(part)\n",
    "sys.stdout.write(\"\\n\")  # 위의 결과랑 동일 IsChicagoNotChicago?"
   ]
  },
  {
   "cell_type": "code",
   "execution_count": 6,
   "metadata": {},
   "outputs": [
    {
     "name": "stdout",
     "output_type": "stream",
     "text": [
      "Help on method_descriptor:\n",
      "\n",
      "join(self, iterable, /)\n",
      "    Concatenate any number of strings.\n",
      "    \n",
      "    The string whose method is called is inserted in between each given string.\n",
      "    The result is returned as a new string.\n",
      "    \n",
      "    Example: '.'.join(['ab', 'pq', 'rs']) -> 'ab.pq.rs'\n",
      "\n"
     ]
    }
   ],
   "source": [
    "help(str.join)"
   ]
  },
  {
   "cell_type": "code",
   "execution_count": 7,
   "metadata": {},
   "outputs": [
    {
     "data": {
      "text/plain": [
       "<generator object sample at 0x000000A99A0A0C10>"
      ]
     },
     "execution_count": 7,
     "metadata": {},
     "output_type": "execute_result"
    }
   ],
   "source": [
    "sample()"
   ]
  },
  {
   "cell_type": "code",
   "execution_count": 3,
   "metadata": {},
   "outputs": [],
   "source": [
    "a = sample()"
   ]
  },
  {
   "cell_type": "code",
   "execution_count": 8,
   "metadata": {},
   "outputs": [
    {
     "name": "stdout",
     "output_type": "stream",
     "text": [
      "Help on generator object:\n",
      "\n",
      "sample = class generator(object)\n",
      " |  Methods defined here:\n",
      " |  \n",
      " |  __del__(...)\n",
      " |  \n",
      " |  __getattribute__(self, name, /)\n",
      " |      Return getattr(self, name).\n",
      " |  \n",
      " |  __iter__(self, /)\n",
      " |      Implement iter(self).\n",
      " |  \n",
      " |  __next__(self, /)\n",
      " |      Implement next(self).\n",
      " |  \n",
      " |  __repr__(self, /)\n",
      " |      Return repr(self).\n",
      " |  \n",
      " |  close(...)\n",
      " |      close() -> raise GeneratorExit inside generator.\n",
      " |  \n",
      " |  send(...)\n",
      " |      send(arg) -> send 'arg' into generator,\n",
      " |      return next yielded value or raise StopIteration.\n",
      " |  \n",
      " |  throw(...)\n",
      " |      throw(typ[,val[,tb]]) -> raise exception in generator,\n",
      " |      return next yielded value or raise StopIteration.\n",
      " |  \n",
      " |  ----------------------------------------------------------------------\n",
      " |  Data descriptors defined here:\n",
      " |  \n",
      " |  gi_code\n",
      " |  \n",
      " |  gi_frame\n",
      " |  \n",
      " |  gi_running\n",
      " |  \n",
      " |  gi_yieldfrom\n",
      " |      object being iterated by yield from, or None\n",
      "\n"
     ]
    }
   ],
   "source": [
    "help(a)"
   ]
  },
  {
   "cell_type": "code",
   "execution_count": 12,
   "metadata": {},
   "outputs": [
    {
     "data": {
      "text/plain": [
       "'Chicago'"
      ]
     },
     "execution_count": 12,
     "metadata": {},
     "output_type": "execute_result"
    }
   ],
   "source": [
    "# 제너레이터를 호출해서 값을 얻기\n",
    "next(a)"
   ]
  },
  {
   "cell_type": "code",
   "execution_count": 24,
   "metadata": {},
   "outputs": [],
   "source": [
    "def combine(source, maxsize):\n",
    "    \"\"\"\n",
    "    \n",
    "    \"\"\"\n",
    "    parts = []\n",
    "    size = 0\n",
    "    \n",
    "    for part in source:\n",
    "        print('part : \\n', part,\"\\n\")\n",
    "        parts.append(part)\n",
    "        size += len(part)\n",
    "        \n",
    "        print('size : ', size)\n",
    "        \n",
    "        if size > maxsize:\n",
    "            yield ''.join(parts)\n",
    "            parts = []\n",
    "            size = 0\n",
    "        yield ''.join(parts)"
   ]
  },
  {
   "cell_type": "code",
   "execution_count": 18,
   "metadata": {},
   "outputs": [
    {
     "data": {
      "text/plain": [
       "<generator object combine at 0x000000A99B095510>"
      ]
     },
     "execution_count": 18,
     "metadata": {},
     "output_type": "execute_result"
    }
   ],
   "source": [
    "combine(sample(), 32768)"
   ]
  },
  {
   "cell_type": "code",
   "execution_count": 25,
   "metadata": {},
   "outputs": [
    {
     "name": "stdout",
     "output_type": "stream",
     "text": [
      "part : \n",
      " Is \n",
      "\n",
      "size :  2\n",
      "Ispart : \n",
      " Chicago \n",
      "\n",
      "size :  9\n",
      "IsChicagopart : \n",
      " Not \n",
      "\n",
      "size :  12\n",
      "IsChicagoNotpart : \n",
      " Chicago? \n",
      "\n",
      "size :  20\n",
      "IsChicagoNotChicago?\n"
     ]
    }
   ],
   "source": [
    "# 함수 실행\n",
    "for part in combine(sample(), 32768):\n",
    "    sys.stdout.write(part)\n",
    "sys.stdout.write(\"\\n\")  "
   ]
  }
 ],
 "metadata": {
  "kernelspec": {
   "display_name": "Python 3",
   "language": "python",
   "name": "python3"
  },
  "language_info": {
   "codemirror_mode": {
    "name": "ipython",
    "version": 3
   },
   "file_extension": ".py",
   "mimetype": "text/x-python",
   "name": "python",
   "nbconvert_exporter": "python",
   "pygments_lexer": "ipython3",
   "version": "3.8.3"
  }
 },
 "nbformat": 4,
 "nbformat_minor": 4
}
