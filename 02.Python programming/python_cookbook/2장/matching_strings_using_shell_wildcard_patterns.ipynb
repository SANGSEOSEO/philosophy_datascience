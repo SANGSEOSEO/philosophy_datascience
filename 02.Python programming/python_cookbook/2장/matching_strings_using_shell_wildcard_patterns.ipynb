{
 "cells": [
  {
   "cell_type": "markdown",
   "metadata": {},
   "source": [
    "# 유닉스 셀스타일의 와일드카드 패턴일치\n",
    "* [파이썬 공식문서](https://docs.python.org/ko/3.8/library/fnmatch.html)"
   ]
  },
  {
   "cell_type": "code",
   "execution_count": 15,
   "metadata": {},
   "outputs": [],
   "source": [
    "from fnmatch import fnmatchcase as match\n",
    "import os"
   ]
  },
  {
   "cell_type": "code",
   "execution_count": 16,
   "metadata": {},
   "outputs": [
    {
     "name": "stdout",
     "output_type": "stream",
     "text": [
      "Help on function fnmatchcase in module fnmatch:\n",
      "\n",
      "fnmatchcase(name, pat)\n",
      "    Test whether FILENAME matches PATTERN, including case.\n",
      "    \n",
      "    This is a version of fnmatch() which doesn't case-normalize\n",
      "    its arguments.\n",
      "\n"
     ]
    }
   ],
   "source": [
    "help(match)"
   ]
  },
  {
   "cell_type": "code",
   "execution_count": 9,
   "metadata": {},
   "outputs": [
    {
     "name": "stdout",
     "output_type": "stream",
     "text": [
      "5412 N CLARK ST\n",
      "1060 W ADDISON ST\n",
      "2122 N CLARK ST\n"
     ]
    },
    {
     "data": {
      "text/plain": [
       "['5412 N CLARK ST', '1060 W ADDISON ST', '2122 N CLARK ST']"
      ]
     },
     "metadata": {},
     "output_type": "display_data"
    },
    {
     "data": {
      "text/plain": [
       "['5412 N CLARK ST']"
      ]
     },
     "metadata": {},
     "output_type": "display_data"
    }
   ],
   "source": [
    "addresses = [\n",
    "    '5412 N CLARK ST',\n",
    "    '1060 W ADDISON ST',\n",
    "    '1039 W GRANVILLE AVE',\n",
    "    '2122 N CLARK ST',\n",
    "    '4802 N BROADWAY',\n",
    "]\n",
    "\n",
    "for addr in addresses:\n",
    "    if match(addr, '*ST'):# ST로 끝나는 리스트의 요소를 찾음\n",
    "        print(addr)\n",
    "    else:\n",
    "        pass\n",
    "    \n",
    "a = [addr for addr in addresses if match(addr, '*ST')]    \n",
    "display(a)\n",
    "\n",
    "b = [addr for addr in addresses if match(addr, '54[0-9][0-9]*CLARK*')]  # 54로 시작하고 두 자리숫자가 나오는 바로 다음에 CLARK\n",
    "display(b)"
   ]
  },
  {
   "cell_type": "markdown",
   "metadata": {},
   "source": [
    "## REPL(Read Eval Print Loop)"
   ]
  },
  {
   "cell_type": "code",
   "execution_count": 14,
   "metadata": {},
   "outputs": [
    {
     "data": {
      "text/plain": [
       "['.git',\n",
       " '.ipynb_checkpoints',\n",
       " '01.ML',\n",
       " '02.Python programming',\n",
       " '03.Visualization',\n",
       " '04.Pandas',\n",
       " '05.Tensor-Flow',\n",
       " '06.Tensorflow_Keras',\n",
       " '07.Crawling_Scraping',\n",
       " '08.Kaggle_Dacon',\n",
       " '080228-master',\n",
       " '999.Data Analysis Project',\n",
       " 'books',\n",
       " 'DataScience',\n",
       " 'fastcampus-ds',\n",
       " 'img',\n",
       " 'LawMakerActivity',\n",
       " 'machine-learning-master',\n",
       " 'README.md',\n",
       " 'week1',\n",
       " 'week2',\n",
       " '시계열분석패키지_설치.txt']"
      ]
     },
     "execution_count": 14,
     "metadata": {},
     "output_type": "execute_result"
    }
   ],
   "source": [
    "os.listdir('C:/dataAnalysis/philosophy_datascience')"
   ]
  },
  {
   "cell_type": "code",
   "execution_count": 13,
   "metadata": {},
   "outputs": [
    {
     "name": "stdout",
     "output_type": "stream",
     "text": [
      "시계열분석패키지_설치.txt\n"
     ]
    }
   ],
   "source": [
    "for file in os.listdir('C:/dataAnalysis/philosophy_datascience'):\n",
    "    if match(file,'*.txt'):\n",
    "        print(file)"
   ]
  },
  {
   "cell_type": "code",
   "execution_count": null,
   "metadata": {},
   "outputs": [],
   "source": []
  }
 ],
 "metadata": {
  "kernelspec": {
   "display_name": "Python 3",
   "language": "python",
   "name": "python3"
  },
  "language_info": {
   "codemirror_mode": {
    "name": "ipython",
    "version": 3
   },
   "file_extension": ".py",
   "mimetype": "text/x-python",
   "name": "python",
   "nbconvert_exporter": "python",
   "pygments_lexer": "ipython3",
   "version": "3.8.3"
  }
 },
 "nbformat": 4,
 "nbformat_minor": 4
}
