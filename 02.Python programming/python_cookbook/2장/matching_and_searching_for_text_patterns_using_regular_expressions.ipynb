{
 "cells": [
  {
   "cell_type": "markdown",
   "metadata": {},
   "source": [
    "# 간단한 정규표현식\n",
    "* 점프투 파이썬의 07.정규표현식을 참조\n",
    "* [정규표현식](https://docs.python.org/3/library/re.html#module-re)"
   ]
  },
  {
   "cell_type": "code",
   "execution_count": 1,
   "metadata": {},
   "outputs": [
    {
     "name": "stdout",
     "output_type": "stream",
     "text": [
      "['11/27/2012', '3/13/2013']\n",
      "<re.Match object; span=(9, 19), match='11/27/2012'>\n",
      "None\n",
      "그룹핑 결과 :  re.compile('(\\\\d+)/(\\\\d+)/(\\\\d+)')\n",
      "결과 :  [('11', '27', '2012'), ('3', '13', '2013')]\n",
      "11 - 27 - 2012\n",
      "3 - 13 - 2013\n",
      "11/27/2012 (9, 19)\n",
      "3/13/2013 (34, 43)\n"
     ]
    }
   ],
   "source": [
    "import re\n",
    "\n",
    "text = \"Today is 11/27/2012. PyCon starts 3/13/2013\"\n",
    "\n",
    "datepat = re.compile(r'\\d+/\\d+/\\d+')\n",
    "print(datepat.findall(text))  # 리스트로 리턴함.\n",
    "print(datepat.search(text))  # 첫번째 조건에 맞는 값을 리턴\n",
    "print(datepat.match(text))\n",
    "\n",
    "# 그룹\n",
    "datepat = re.compile(r'(\\d+)/(\\d+)/(\\d+)')\n",
    "print(\"그룹핑 결과 : \",datepat)\n",
    "print(\"결과 : \", datepat.findall(text))\n",
    "for month, day, year in datepat.findall(text):\n",
    "    print('{} - {} - {}'.format(month, day, year))\n",
    "\n",
    "# m.span() 매치된 문자열의 시작과 끝포인트 \n",
    "# m.group() 매치된 문자열 리턴 \n",
    "# finditer()는 반복가능한 객체(iterable object)를 리턴\n",
    "for m in datepat.finditer(text):\n",
    "    print(m.group(), m.span())  "
   ]
  },
  {
   "cell_type": "code",
   "execution_count": 4,
   "metadata": {},
   "outputs": [
    {
     "name": "stdout",
     "output_type": "stream",
     "text": [
      "Help on Pattern object:\n",
      "\n",
      "class Pattern(builtins.object)\n",
      " |  Compiled regular expression object.\n",
      " |  \n",
      " |  Methods defined here:\n",
      " |  \n",
      " |  __copy__(self, /)\n",
      " |  \n",
      " |  __deepcopy__(self, memo, /)\n",
      " |  \n",
      " |  __eq__(self, value, /)\n",
      " |      Return self==value.\n",
      " |  \n",
      " |  __ge__(self, value, /)\n",
      " |      Return self>=value.\n",
      " |  \n",
      " |  __gt__(self, value, /)\n",
      " |      Return self>value.\n",
      " |  \n",
      " |  __hash__(self, /)\n",
      " |      Return hash(self).\n",
      " |  \n",
      " |  __le__(self, value, /)\n",
      " |      Return self<=value.\n",
      " |  \n",
      " |  __lt__(self, value, /)\n",
      " |      Return self<value.\n",
      " |  \n",
      " |  __ne__(self, value, /)\n",
      " |      Return self!=value.\n",
      " |  \n",
      " |  __repr__(self, /)\n",
      " |      Return repr(self).\n",
      " |  \n",
      " |  findall(self, /, string, pos=0, endpos=9223372036854775807)\n",
      " |      Return a list of all non-overlapping matches of pattern in string.\n",
      " |  \n",
      " |  finditer(self, /, string, pos=0, endpos=9223372036854775807)\n",
      " |      Return an iterator over all non-overlapping matches for the RE pattern in string.\n",
      " |      \n",
      " |      For each match, the iterator returns a match object.\n",
      " |  \n",
      " |  fullmatch(self, /, string, pos=0, endpos=9223372036854775807)\n",
      " |      Matches against all of the string.\n",
      " |  \n",
      " |  match(self, /, string, pos=0, endpos=9223372036854775807)\n",
      " |      Matches zero or more characters at the beginning of the string.\n",
      " |  \n",
      " |  scanner(self, /, string, pos=0, endpos=9223372036854775807)\n",
      " |  \n",
      " |  search(self, /, string, pos=0, endpos=9223372036854775807)\n",
      " |      Scan through string looking for a match, and return a corresponding match object instance.\n",
      " |      \n",
      " |      Return None if no position in the string matches.\n",
      " |  \n",
      " |  split(self, /, string, maxsplit=0)\n",
      " |      Split string by the occurrences of pattern.\n",
      " |  \n",
      " |  sub(self, /, repl, string, count=0)\n",
      " |      Return the string obtained by replacing the leftmost non-overlapping occurrences of pattern in string by the replacement repl.\n",
      " |  \n",
      " |  subn(self, /, repl, string, count=0)\n",
      " |      Return the tuple (new_string, number_of_subs_made) found by replacing the leftmost non-overlapping occurrences of pattern with the replacement repl.\n",
      " |  \n",
      " |  ----------------------------------------------------------------------\n",
      " |  Data descriptors defined here:\n",
      " |  \n",
      " |  flags\n",
      " |      The regex matching flags.\n",
      " |  \n",
      " |  groupindex\n",
      " |      A dictionary mapping group names to group numbers.\n",
      " |  \n",
      " |  groups\n",
      " |      The number of capturing groups in the pattern.\n",
      " |  \n",
      " |  pattern\n",
      " |      The pattern string from which the RE object was compiled.\n",
      "\n"
     ]
    }
   ],
   "source": [
    "help(datepat)"
   ]
  },
  {
   "cell_type": "code",
   "execution_count": null,
   "metadata": {},
   "outputs": [],
   "source": []
  }
 ],
 "metadata": {
  "kernelspec": {
   "display_name": "Python 3",
   "language": "python",
   "name": "python3"
  },
  "language_info": {
   "codemirror_mode": {
    "name": "ipython",
    "version": 3
   },
   "file_extension": ".py",
   "mimetype": "text/x-python",
   "name": "python",
   "nbconvert_exporter": "python",
   "pygments_lexer": "ipython3",
   "version": "3.8.3"
  }
 },
 "nbformat": 4,
 "nbformat_minor": 4
}
