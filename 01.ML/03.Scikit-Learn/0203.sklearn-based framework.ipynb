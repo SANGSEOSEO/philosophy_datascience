{
 "cells": [
  {
   "cell_type": "markdown",
   "metadata": {},
   "source": [
    "## 사이킷런으로 시작하는 머신러닝\n"
   ]
  },
  {
   "cell_type": "markdown",
   "metadata": {},
   "source": [
    "### 1. 사이킷런의 주요 모델 설명\n",
    "#### 예제 데이터 \n",
    " * `sklearn.datasets` : 사이킷런에 내장되어 예제로 제공하는 데이터 세트\n",
    "#### 피처처리 \n",
    "* `sklearn.preprocessing` : 데이터 전처리에 필요한 기능 제공(문자열을 숫자형 코드값으로 인코딩, 정규화, 스케일링등)\n",
    "* `sklearn.feature_selection` : 알로리즘에 큰 영향을 미치는 피처를 우선순위대로 선택작업을 수행하는 다양한 기능 제공\n",
    "* `selearn.feature_extraction` : 텍스트 데이터나 이미지 데이터의 벡터화된 피처를 추출\n",
    "  * `sklearn.feature_extraction.text` : 텍스트 데이터의 feature 추출\n",
    "  * `sklearn.feature_extraction.image` : 이미지 데이터의 feature추출\n",
    "#### 피처처리 및 차원축소\n",
    "* `sklearn.decomposition` : 차원 축소와 관련된 알고리즘 제공(PCA, NMF, Truncated SVD)\n",
    "\n",
    "#### 데이터분리 및 검증 , 파라미터 튜닝\n",
    "* `sklearn.model_selection` : 교차 검증을 위한 학습용/테스트용 분리, 그리드 서치로 최적 파라미터 추출등의 API제공\n",
    "#### 평가\n",
    "* `sklearn.metrics ` : 분류, 회귀,클러스터링, 페어와이즈에 대한 다양한 성능 측정 방법 제공(Accuracy, Precision, Recall, ROC-AUC, RMSE)\n",
    "#### ML알고리즘\n",
    "* `sklearn.ensemble` : 앙상블 알고리즘, 렌덤포레스트 에이다 부스트, 그레디언트 부스틍 제공 \n",
    "* `sklearn.linear_model` : 선형회귀, 릿지(Ridge), 라쏘(Lasso) 및 로지스틱 회귀 ,SDG(Stochastic Gradient Descent)알고리즘)\n",
    "* `sklearn.naive_bayes` : 나이브 베이즈 ㅇ라고리즘, 가우시안 NB,다항분포 NB\n",
    "* `sklearn.neighbors` : 최근접 이웃 알고리즘 제공 , K-NN\n",
    "* `sklearn.svm` : 서포트 벡터 머신 알고리즘\n",
    "* `sklearn.tree` : 의사 결정 트리 알고리즘\n",
    "* `sklearn.cluster` : 비기도 클러스터링 알고리즘 제공(k-평균, 계층형, DBSCAN)\n",
    "#### 유틸리티\n",
    "* `sklearn.pipeline` : 피처처리등의 변환과 알고리즘 학습 , 예측등을 함께 묶어서 실행 할 수 있는 유틸리티 제공"
   ]
  },
  {
   "cell_type": "markdown",
   "metadata": {},
   "source": [
    "### 1.1 `Estimator` 이해 및 `fit()`, `predict()`메소드 \n",
    "* 모델학습 - `fit()`\n",
    "* 학습모델의 예측 - `predict()`\n",
    "* 사이킷런에서는 분류알고리즘을 구현한 클래스로 Classifier, 회귀알고리즘은 Regressor가 있고 이 둘을 합쳐서 `Estimator()`라고 한다.\n",
    "`Estimator`클래스또한 내부에서 `fit()`과 `predict()`에서 구현하고 있음."
   ]
  },
  {
   "cell_type": "markdown",
   "metadata": {},
   "source": [
    "### 2.머신러닝 구축 프로세스\n",
    "* 피처 처리 (피처의 가공, 변경 ,추출) -> ML알고리즘 학습/예측/수행 --> 모델평가의 과정으로 이루어지며 이 세가지 과정을 반복함."
   ]
  },
  {
   "cell_type": "markdown",
   "metadata": {},
   "source": [
    "### 3. 내장된 예제 데이터 세트\n",
    "* datasets.load_boston() : 보스톤의 집 피처들과 가격에 대한 데이터세트(회귀용도)\n",
    "* datasets.load_breast_cancer() : 위스콘신 주 유방암 피처들과 악성/ 음성 레이블 데이터 세트(분류용도)\n",
    "* datasets.load_diabets : 피마 인디언들의 당뇨데이터 세트\n",
    "* datasets.load_digits : 분류용도임 , 0에서 9까지 숫자의 이미지 픽셀 데이터 세트\n",
    "* dataset.load_iris()  : 분류용도,붓꽃에 대한 피처를 가진 데이터 세트\n",
    "\n",
    "이 밖에도 회귀분석용 토지 조사, 뉴스그룹 텍스트 자료, 얼굴이미지 자료등이 있으니 이런 데이터는 덩치가 커서 인터넷에 접속해서 다운로드 가능(fetch계열의 명령어)"
   ]
  },
  {
   "cell_type": "markdown",
   "metadata": {},
   "source": [
    "### 4. 분류와 클러스터링을 위한 표본 데이터 생성기\n",
    "* `datasets.make_classifications()` : 분류를 위한 데이터세트 생성\n",
    "* `datasets.make_blobs()` : 클러스터링을 위한 데이터셋트 무작위 생성"
   ]
  },
  {
   "cell_type": "code",
   "execution_count": 1,
   "metadata": {},
   "outputs": [
    {
     "name": "stdout",
     "output_type": "stream",
     "text": [
      "<class 'sklearn.utils.Bunch'>\n"
     ]
    }
   ],
   "source": [
    "from sklearn.datasets import load_iris\n",
    "\n",
    "iris_data = load_iris()\n",
    "print(type(iris_data))   # Dict객체를 상속한 것을 모든 메소드를 지원함."
   ]
  },
  {
   "cell_type": "markdown",
   "metadata": {},
   "source": [
    "### 4.1 load_iris()가 반환하는 객체의 키 출력"
   ]
  },
  {
   "cell_type": "code",
   "execution_count": 5,
   "metadata": {},
   "outputs": [
    {
     "name": "stdout",
     "output_type": "stream",
     "text": [
      "붓꽃 데이터 세트의 키들 :  dict_keys(['data', 'target', 'frame', 'target_names', 'DESCR', 'feature_names', 'filename'])\n"
     ]
    }
   ],
   "source": [
    "keys = iris_data.keys()\n",
    "print('붓꽃 데이터 세트의 키들 : ', keys)"
   ]
  },
  {
   "cell_type": "code",
   "execution_count": 22,
   "metadata": {},
   "outputs": [
    {
     "name": "stdout",
     "output_type": "stream",
     "text": [
      "\n",
      " feature_names의 type :  <class 'list'> ['sepal length (cm)', 'sepal width (cm)', 'petal length (cm)', 'petal width (cm)']\n",
      "\n",
      " feature_names의 shape :  4\n",
      "\n",
      " target_names의 type :  <class 'numpy.ndarray'>\n",
      "\n",
      " target_names의 shape :  3\n",
      "['setosa' 'versicolor' 'virginica']\n",
      "\n",
      " data의 type :  <class 'numpy.ndarray'>\n",
      "\n",
      " data의 shape :  (150, 4)\n",
      "[[5.1 3.5 1.4 0.2]\n",
      " [4.9 3.  1.4 0.2]\n",
      " [4.7 3.2 1.3 0.2]\n",
      " [4.6 3.1 1.5 0.2]\n",
      " [5.  3.6 1.4 0.2]\n",
      " [5.4 3.9 1.7 0.4]\n",
      " [4.6 3.4 1.4 0.3]\n",
      " [5.  3.4 1.5 0.2]\n",
      " [4.4 2.9 1.4 0.2]\n",
      " [4.9 3.1 1.5 0.1]\n",
      " [5.4 3.7 1.5 0.2]\n",
      " [4.8 3.4 1.6 0.2]\n",
      " [4.8 3.  1.4 0.1]\n",
      " [4.3 3.  1.1 0.1]\n",
      " [5.8 4.  1.2 0.2]\n",
      " [5.7 4.4 1.5 0.4]\n",
      " [5.4 3.9 1.3 0.4]\n",
      " [5.1 3.5 1.4 0.3]\n",
      " [5.7 3.8 1.7 0.3]\n",
      " [5.1 3.8 1.5 0.3]\n",
      " [5.4 3.4 1.7 0.2]\n",
      " [5.1 3.7 1.5 0.4]\n",
      " [4.6 3.6 1.  0.2]\n",
      " [5.1 3.3 1.7 0.5]\n",
      " [4.8 3.4 1.9 0.2]\n",
      " [5.  3.  1.6 0.2]\n",
      " [5.  3.4 1.6 0.4]\n",
      " [5.2 3.5 1.5 0.2]\n",
      " [5.2 3.4 1.4 0.2]\n",
      " [4.7 3.2 1.6 0.2]\n",
      " [4.8 3.1 1.6 0.2]\n",
      " [5.4 3.4 1.5 0.4]\n",
      " [5.2 4.1 1.5 0.1]\n",
      " [5.5 4.2 1.4 0.2]\n",
      " [4.9 3.1 1.5 0.2]\n",
      " [5.  3.2 1.2 0.2]\n",
      " [5.5 3.5 1.3 0.2]\n",
      " [4.9 3.6 1.4 0.1]\n",
      " [4.4 3.  1.3 0.2]\n",
      " [5.1 3.4 1.5 0.2]\n",
      " [5.  3.5 1.3 0.3]\n",
      " [4.5 2.3 1.3 0.3]\n",
      " [4.4 3.2 1.3 0.2]\n",
      " [5.  3.5 1.6 0.6]\n",
      " [5.1 3.8 1.9 0.4]\n",
      " [4.8 3.  1.4 0.3]\n",
      " [5.1 3.8 1.6 0.2]\n",
      " [4.6 3.2 1.4 0.2]\n",
      " [5.3 3.7 1.5 0.2]\n",
      " [5.  3.3 1.4 0.2]\n",
      " [7.  3.2 4.7 1.4]\n",
      " [6.4 3.2 4.5 1.5]\n",
      " [6.9 3.1 4.9 1.5]\n",
      " [5.5 2.3 4.  1.3]\n",
      " [6.5 2.8 4.6 1.5]\n",
      " [5.7 2.8 4.5 1.3]\n",
      " [6.3 3.3 4.7 1.6]\n",
      " [4.9 2.4 3.3 1. ]\n",
      " [6.6 2.9 4.6 1.3]\n",
      " [5.2 2.7 3.9 1.4]\n",
      " [5.  2.  3.5 1. ]\n",
      " [5.9 3.  4.2 1.5]\n",
      " [6.  2.2 4.  1. ]\n",
      " [6.1 2.9 4.7 1.4]\n",
      " [5.6 2.9 3.6 1.3]\n",
      " [6.7 3.1 4.4 1.4]\n",
      " [5.6 3.  4.5 1.5]\n",
      " [5.8 2.7 4.1 1. ]\n",
      " [6.2 2.2 4.5 1.5]\n",
      " [5.6 2.5 3.9 1.1]\n",
      " [5.9 3.2 4.8 1.8]\n",
      " [6.1 2.8 4.  1.3]\n",
      " [6.3 2.5 4.9 1.5]\n",
      " [6.1 2.8 4.7 1.2]\n",
      " [6.4 2.9 4.3 1.3]\n",
      " [6.6 3.  4.4 1.4]\n",
      " [6.8 2.8 4.8 1.4]\n",
      " [6.7 3.  5.  1.7]\n",
      " [6.  2.9 4.5 1.5]\n",
      " [5.7 2.6 3.5 1. ]\n",
      " [5.5 2.4 3.8 1.1]\n",
      " [5.5 2.4 3.7 1. ]\n",
      " [5.8 2.7 3.9 1.2]\n",
      " [6.  2.7 5.1 1.6]\n",
      " [5.4 3.  4.5 1.5]\n",
      " [6.  3.4 4.5 1.6]\n",
      " [6.7 3.1 4.7 1.5]\n",
      " [6.3 2.3 4.4 1.3]\n",
      " [5.6 3.  4.1 1.3]\n",
      " [5.5 2.5 4.  1.3]\n",
      " [5.5 2.6 4.4 1.2]\n",
      " [6.1 3.  4.6 1.4]\n",
      " [5.8 2.6 4.  1.2]\n",
      " [5.  2.3 3.3 1. ]\n",
      " [5.6 2.7 4.2 1.3]\n",
      " [5.7 3.  4.2 1.2]\n",
      " [5.7 2.9 4.2 1.3]\n",
      " [6.2 2.9 4.3 1.3]\n",
      " [5.1 2.5 3.  1.1]\n",
      " [5.7 2.8 4.1 1.3]\n",
      " [6.3 3.3 6.  2.5]\n",
      " [5.8 2.7 5.1 1.9]\n",
      " [7.1 3.  5.9 2.1]\n",
      " [6.3 2.9 5.6 1.8]\n",
      " [6.5 3.  5.8 2.2]\n",
      " [7.6 3.  6.6 2.1]\n",
      " [4.9 2.5 4.5 1.7]\n",
      " [7.3 2.9 6.3 1.8]\n",
      " [6.7 2.5 5.8 1.8]\n",
      " [7.2 3.6 6.1 2.5]\n",
      " [6.5 3.2 5.1 2. ]\n",
      " [6.4 2.7 5.3 1.9]\n",
      " [6.8 3.  5.5 2.1]\n",
      " [5.7 2.5 5.  2. ]\n",
      " [5.8 2.8 5.1 2.4]\n",
      " [6.4 3.2 5.3 2.3]\n",
      " [6.5 3.  5.5 1.8]\n",
      " [7.7 3.8 6.7 2.2]\n",
      " [7.7 2.6 6.9 2.3]\n",
      " [6.  2.2 5.  1.5]\n",
      " [6.9 3.2 5.7 2.3]\n",
      " [5.6 2.8 4.9 2. ]\n",
      " [7.7 2.8 6.7 2. ]\n",
      " [6.3 2.7 4.9 1.8]\n",
      " [6.7 3.3 5.7 2.1]\n",
      " [7.2 3.2 6.  1.8]\n",
      " [6.2 2.8 4.8 1.8]\n",
      " [6.1 3.  4.9 1.8]\n",
      " [6.4 2.8 5.6 2.1]\n",
      " [7.2 3.  5.8 1.6]\n",
      " [7.4 2.8 6.1 1.9]\n",
      " [7.9 3.8 6.4 2. ]\n",
      " [6.4 2.8 5.6 2.2]\n",
      " [6.3 2.8 5.1 1.5]\n",
      " [6.1 2.6 5.6 1.4]\n",
      " [7.7 3.  6.1 2.3]\n",
      " [6.3 3.4 5.6 2.4]\n",
      " [6.4 3.1 5.5 1.8]\n",
      " [6.  3.  4.8 1.8]\n",
      " [6.9 3.1 5.4 2.1]\n",
      " [6.7 3.1 5.6 2.4]\n",
      " [6.9 3.1 5.1 2.3]\n",
      " [5.8 2.7 5.1 1.9]\n",
      " [6.8 3.2 5.9 2.3]\n",
      " [6.7 3.3 5.7 2.5]\n",
      " [6.7 3.  5.2 2.3]\n",
      " [6.3 2.5 5.  1.9]\n",
      " [6.5 3.  5.2 2. ]\n",
      " [6.2 3.4 5.4 2.3]\n",
      " [5.9 3.  5.1 1.8]]\n",
      "\n",
      " taget의 type:  <class 'numpy.ndarray'>\n",
      "\n",
      " target의 shape :  (150,)\n",
      "[0 0 0 0 0 0 0 0 0 0 0 0 0 0 0 0 0 0 0 0 0 0 0 0 0 0 0 0 0 0 0 0 0 0 0 0 0\n",
      " 0 0 0 0 0 0 0 0 0 0 0 0 0 1 1 1 1 1 1 1 1 1 1 1 1 1 1 1 1 1 1 1 1 1 1 1 1\n",
      " 1 1 1 1 1 1 1 1 1 1 1 1 1 1 1 1 1 1 1 1 1 1 1 1 1 1 2 2 2 2 2 2 2 2 2 2 2\n",
      " 2 2 2 2 2 2 2 2 2 2 2 2 2 2 2 2 2 2 2 2 2 2 2 2 2 2 2 2 2 2 2 2 2 2 2 2 2\n",
      " 2 2]\n"
     ]
    }
   ],
   "source": [
    "print(\"\\n feature_names의 type : \", type(iris_data.feature_names), iris_data.feature_names)\n",
    "print(\"\\n feature_names의 shape : \", len(iris_data.feature_names))\n",
    "\n",
    "print(\"\\n target_names의 type : \", type(iris_data.target_names))\n",
    "print(\"\\n target_names의 shape : \", len(iris_data.target_names))\n",
    "print(iris_data.target_names)\n",
    "\n",
    "print(\"\\n data의 type : \", type(iris_data.data))\n",
    "print(\"\\n data의 shape : \", iris_data.data.shape) # 150개의 데이터와 4개의 컬럼(변수)\n",
    "print(iris_data['data'])\n",
    "\n",
    "print(\"\\n taget의 type: \", type(iris_data.target))\n",
    "print(\"\\n target의 shape : \", iris_data.target.shape)\n",
    "print(iris_data.target)"
   ]
  },
  {
   "cell_type": "markdown",
   "metadata": {},
   "source": [
    "## 데이터 분석 대상 주제 선정\n",
    "* 인디아 피마 당뇨병\n",
    "* 보스톤 집 피터 데이터 셋"
   ]
  }
 ],
 "metadata": {
  "kernelspec": {
   "display_name": "Python 3",
   "language": "python",
   "name": "python3"
  },
  "language_info": {
   "codemirror_mode": {
    "name": "ipython",
    "version": 3
   },
   "file_extension": ".py",
   "mimetype": "text/x-python",
   "name": "python",
   "nbconvert_exporter": "python",
   "pygments_lexer": "ipython3",
   "version": "3.8.3"
  }
 },
 "nbformat": 4,
 "nbformat_minor": 4
}
