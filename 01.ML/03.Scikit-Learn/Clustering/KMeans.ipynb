{
 "cells": [
  {
   "cell_type": "markdown",
   "metadata": {
    "id": "sAxEyHQBW5OY"
   },
   "source": [
    "### K-Means를 이용한 붓꽃(Iris) 데이터 셋 Clustering"
   ]
  },
  {
   "cell_type": "markdown",
   "metadata": {
    "id": "s12Xb2cvXJ_V"
   },
   "source": [
    "#### 라이브러리 로드 "
   ]
  },
  {
   "cell_type": "code",
   "execution_count": 1,
   "metadata": {},
   "outputs": [],
   "source": [
    "from sklearn.datasets import load_iris\n",
    "from sklearn.cluster import KMeans\n",
    "import matplotlib.pyplot as plt\n",
    "import numpy as np\n",
    "import pandas as pd\n",
    "from sklearn.decomposition import PCA\n",
    "%matplotlib inline"
   ]
  },
  {
   "cell_type": "code",
   "execution_count": 2,
   "metadata": {
    "executionInfo": {
     "elapsed": 271,
     "status": "ok",
     "timestamp": 1631743349021,
     "user": {
      "displayName": "sangseo seo",
      "photoUrl": "https://lh3.googleusercontent.com/a/default-user=s64",
      "userId": "10041771000758060897"
     },
     "user_tz": -540
    },
    "id": "exo09hNKXQYK"
   },
   "outputs": [],
   "source": [
    "def load_dataset():\n",
    "    \"\"\"\n",
    "    붓꽃 데이터셋 리턴\n",
    "    \"\"\"\n",
    "    iris = load_iris()\n",
    "    cols = [feature.replace(' (cm)', '') for feature in iris.feature_names]\n",
    "    irisDF = pd.DataFrame(data=iris.data, columns = cols)\n",
    "    return irisDF, iris\n",
    "\n",
    "irisDF, iris = load_dataset()"
   ]
  },
  {
   "cell_type": "code",
   "execution_count": 3,
   "metadata": {
    "colab": {
     "base_uri": "https://localhost:8080/",
     "height": 203
    },
    "executionInfo": {
     "elapsed": 282,
     "status": "ok",
     "timestamp": 1631743601626,
     "user": {
      "displayName": "sangseo seo",
      "photoUrl": "https://lh3.googleusercontent.com/a/default-user=s64",
      "userId": "10041771000758060897"
     },
     "user_tz": -540
    },
    "id": "KjUFnaF1ZK1M",
    "outputId": "fd311596-cd25-4acd-cbb3-be2a8cff7671"
   },
   "outputs": [
    {
     "data": {
      "text/html": [
       "<div>\n",
       "<style scoped>\n",
       "    .dataframe tbody tr th:only-of-type {\n",
       "        vertical-align: middle;\n",
       "    }\n",
       "\n",
       "    .dataframe tbody tr th {\n",
       "        vertical-align: top;\n",
       "    }\n",
       "\n",
       "    .dataframe thead th {\n",
       "        text-align: right;\n",
       "    }\n",
       "</style>\n",
       "<table border=\"1\" class=\"dataframe\">\n",
       "  <thead>\n",
       "    <tr style=\"text-align: right;\">\n",
       "      <th></th>\n",
       "      <th>sepal length</th>\n",
       "      <th>sepal width</th>\n",
       "      <th>petal length</th>\n",
       "      <th>petal width</th>\n",
       "    </tr>\n",
       "  </thead>\n",
       "  <tbody>\n",
       "    <tr>\n",
       "      <th>0</th>\n",
       "      <td>5.1</td>\n",
       "      <td>3.5</td>\n",
       "      <td>1.4</td>\n",
       "      <td>0.2</td>\n",
       "    </tr>\n",
       "    <tr>\n",
       "      <th>1</th>\n",
       "      <td>4.9</td>\n",
       "      <td>3.0</td>\n",
       "      <td>1.4</td>\n",
       "      <td>0.2</td>\n",
       "    </tr>\n",
       "    <tr>\n",
       "      <th>2</th>\n",
       "      <td>4.7</td>\n",
       "      <td>3.2</td>\n",
       "      <td>1.3</td>\n",
       "      <td>0.2</td>\n",
       "    </tr>\n",
       "    <tr>\n",
       "      <th>3</th>\n",
       "      <td>4.6</td>\n",
       "      <td>3.1</td>\n",
       "      <td>1.5</td>\n",
       "      <td>0.2</td>\n",
       "    </tr>\n",
       "    <tr>\n",
       "      <th>4</th>\n",
       "      <td>5.0</td>\n",
       "      <td>3.6</td>\n",
       "      <td>1.4</td>\n",
       "      <td>0.2</td>\n",
       "    </tr>\n",
       "  </tbody>\n",
       "</table>\n",
       "</div>"
      ],
      "text/plain": [
       "   sepal length  sepal width  petal length  petal width\n",
       "0           5.1          3.5           1.4          0.2\n",
       "1           4.9          3.0           1.4          0.2\n",
       "2           4.7          3.2           1.3          0.2\n",
       "3           4.6          3.1           1.5          0.2\n",
       "4           5.0          3.6           1.4          0.2"
      ]
     },
     "execution_count": 3,
     "metadata": {},
     "output_type": "execute_result"
    }
   ],
   "source": [
    "irisDF.head()"
   ]
  },
  {
   "cell_type": "markdown",
   "metadata": {
    "id": "DRVr8rAgW5Oz"
   },
   "source": [
    "**KMeans 객체를 생성하고 군집화 수행**\n",
    "* n_clusters - 군집화 갯수\n",
    "* 초기화 \n",
    "* 최대 반복 횟수 : 중심점을 구하기 위한 최대한의 반복수를 의미함"
   ]
  },
  {
   "cell_type": "code",
   "execution_count": 5,
   "metadata": {},
   "outputs": [
    {
     "data": {
      "text/plain": [
       "KMeans(n_clusters=3, random_state=0)"
      ]
     },
     "execution_count": 5,
     "metadata": {},
     "output_type": "execute_result"
    }
   ],
   "source": [
    "kmeans = KMeans(n_clusters = 3, init='k-means++', max_iter=300, random_state=0)\n",
    "kmeans.fit(irisDF) # 군집화 수행(비지도 학습임을 기억)"
   ]
  },
  {
   "cell_type": "markdown",
   "metadata": {},
   "source": [
    "**label_속성을 통해 각 데이터 포인트 별로 할당된 군집 중심점(Centroid)확인하고 irisDF에 `cluster`컬럼으로 추가**"
   ]
  },
  {
   "cell_type": "code",
   "execution_count": 6,
   "metadata": {},
   "outputs": [
    {
     "data": {
      "text/plain": [
       "array(['setosa', 'versicolor', 'virginica'], dtype='<U10')"
      ]
     },
     "metadata": {},
     "output_type": "display_data"
    },
    {
     "data": {
      "text/plain": [
       "(150, 4)"
      ]
     },
     "metadata": {},
     "output_type": "display_data"
    },
    {
     "data": {
      "text/plain": [
       "(150,)"
      ]
     },
     "metadata": {},
     "output_type": "display_data"
    },
    {
     "data": {
      "text/plain": [
       "'중심점 : [1 1 1 1 1 1 1 1 1 1 1 1 1 1 1 1 1 1 1 1 1 1 1 1 1 1 1 1 1 1 1 1 1 1 1 1 1\\n 1 1 1 1 1 1 1 1 1 1 1 1 1 0 0 2 0 0 0 0 0 0 0 0 0 0 0 0 0 0 0 0 0 0 0 0 0\\n 0 0 0 2 0 0 0 0 0 0 0 0 0 0 0 0 0 0 0 0 0 0 0 0 0 0 2 0 2 2 2 2 0 2 2 2 2\\n 2 2 0 0 2 2 2 2 0 2 0 2 0 2 2 0 0 2 2 2 2 2 0 2 2 2 2 0 2 2 2 0 2 2 2 0 2\\n 2 0]'"
      ]
     },
     "metadata": {},
     "output_type": "display_data"
    },
    {
     "data": {
      "text/plain": [
       "array([1, 1, 1, 1, 1, 1, 1, 1, 1, 1, 1, 1, 1, 1, 1, 1, 1, 1, 1, 1, 1, 1,\n",
       "       1, 1, 1, 1, 1, 1, 1, 1, 1, 1, 1, 1, 1, 1, 1, 1, 1, 1, 1, 1, 1, 1,\n",
       "       1, 1, 1, 1, 1, 1, 0, 0, 2, 0, 0, 0, 0, 0, 0, 0, 0, 0, 0, 0, 0, 0,\n",
       "       0, 0, 0, 0, 0, 0, 0, 0, 0, 0, 0, 2, 0, 0, 0, 0, 0, 0, 0, 0, 0, 0,\n",
       "       0, 0, 0, 0, 0, 0, 0, 0, 0, 0, 0, 0, 2, 0, 2, 2, 2, 2, 0, 2, 2, 2,\n",
       "       2, 2, 2, 0, 0, 2, 2, 2, 2, 0, 2, 0, 2, 0, 2, 2, 0, 0, 2, 2, 2, 2,\n",
       "       2, 0, 2, 2, 2, 2, 0, 2, 2, 2, 0, 2, 2, 2, 0, 2, 2, 0])"
      ]
     },
     "metadata": {},
     "output_type": "display_data"
    }
   ],
   "source": [
    "display(iris.target_names)\n",
    "# 150개의 데이터 포인트에 맞춰서 Centrold값이 할당되었음을 알 수 있음\n",
    "display(irisDF.shape, kmeans.labels_.shape)\n",
    "display(f\"중심점 : {kmeans.labels_}\")  #\n",
    "display(kmeans.predict(irisDF)) # 레이블 속성값 반환"
   ]
  },
  {
   "cell_type": "code",
   "execution_count": 7,
   "metadata": {},
   "outputs": [
    {
     "data": {
      "text/plain": [
       "target  cluster\n",
       "0       1          50\n",
       "1       0          48\n",
       "        2           2\n",
       "2       0          14\n",
       "        2          36\n",
       "Name: sepal length, dtype: int64"
      ]
     },
     "metadata": {},
     "output_type": "display_data"
    }
   ],
   "source": [
    "irisDF[\"cluster\"] = kmeans.labels_ # 레이블값을 cluster피처에 할당\n",
    "irisDF[\"target\"]  = iris.target\n",
    "\n",
    "# 군집별로 붓꽃의 종류별 군집 정도 확인\n",
    "# 틀러스터의 0,1,2는 임의의 군집 레이블임을 기억, 타겟값과는 다름\n",
    "iris_result = irisDF.groupby([\"target\", \"cluster\"])[\"sepal length\"].count()\n",
    "display(iris_result)"
   ]
  },
  {
   "cell_type": "markdown",
   "metadata": {
    "id": "AYC50x2fW5PE"
   },
   "source": [
    "**2차원 평면에 데이터 포인트별로 군집화된 결과를 나타내기 위해 2차원 PCA값으로 각 데이터 차원축소**"
   ]
  },
  {
   "cell_type": "code",
   "execution_count": 10,
   "metadata": {},
   "outputs": [
    {
     "data": {
      "text/html": [
       "<div>\n",
       "<style scoped>\n",
       "    .dataframe tbody tr th:only-of-type {\n",
       "        vertical-align: middle;\n",
       "    }\n",
       "\n",
       "    .dataframe tbody tr th {\n",
       "        vertical-align: top;\n",
       "    }\n",
       "\n",
       "    .dataframe thead th {\n",
       "        text-align: right;\n",
       "    }\n",
       "</style>\n",
       "<table border=\"1\" class=\"dataframe\">\n",
       "  <thead>\n",
       "    <tr style=\"text-align: right;\">\n",
       "      <th></th>\n",
       "      <th>sepal length</th>\n",
       "      <th>sepal width</th>\n",
       "      <th>petal length</th>\n",
       "      <th>petal width</th>\n",
       "      <th>cluster</th>\n",
       "      <th>target</th>\n",
       "      <th>pca_X</th>\n",
       "      <th>pca_Y</th>\n",
       "    </tr>\n",
       "  </thead>\n",
       "  <tbody>\n",
       "    <tr>\n",
       "      <th>0</th>\n",
       "      <td>5.1</td>\n",
       "      <td>3.5</td>\n",
       "      <td>1.4</td>\n",
       "      <td>0.2</td>\n",
       "      <td>1</td>\n",
       "      <td>0</td>\n",
       "      <td>-2.684126</td>\n",
       "      <td>0.319397</td>\n",
       "    </tr>\n",
       "    <tr>\n",
       "      <th>1</th>\n",
       "      <td>4.9</td>\n",
       "      <td>3.0</td>\n",
       "      <td>1.4</td>\n",
       "      <td>0.2</td>\n",
       "      <td>1</td>\n",
       "      <td>0</td>\n",
       "      <td>-2.714142</td>\n",
       "      <td>-0.177001</td>\n",
       "    </tr>\n",
       "    <tr>\n",
       "      <th>2</th>\n",
       "      <td>4.7</td>\n",
       "      <td>3.2</td>\n",
       "      <td>1.3</td>\n",
       "      <td>0.2</td>\n",
       "      <td>1</td>\n",
       "      <td>0</td>\n",
       "      <td>-2.888991</td>\n",
       "      <td>-0.144949</td>\n",
       "    </tr>\n",
       "  </tbody>\n",
       "</table>\n",
       "</div>"
      ],
      "text/plain": [
       "   sepal length  sepal width  petal length  petal width  cluster  target  \\\n",
       "0           5.1          3.5           1.4          0.2        1       0   \n",
       "1           4.9          3.0           1.4          0.2        1       0   \n",
       "2           4.7          3.2           1.3          0.2        1       0   \n",
       "\n",
       "      pca_X     pca_Y  \n",
       "0 -2.684126  0.319397  \n",
       "1 -2.714142 -0.177001  \n",
       "2 -2.888991 -0.144949  "
      ]
     },
     "metadata": {},
     "output_type": "display_data"
    },
    {
     "data": {
      "image/png": "[encoded data removed]",
      "text/plain": [
       "<Figure size 432x288 with 1 Axes>"
      ]
     },
     "metadata": {
      "needs_background": "light"
     },
     "output_type": "display_data"
    }
   ],
   "source": [
    "# 보통 군집화의 시각화를 위해서는 차원축소 후 시각화\n",
    "from sklearn.decomposition import PCA\n",
    "\n",
    "pca = PCA(n_components=2)\n",
    "pca_transformed = pca.fit_transform(iris.data)\n",
    "#display(pca_transformed[0, :], pca_transformed)\n",
    "display(irisDF.head(3))\n",
    "irisDF[\"pca_X\"] = pca_transformed[:, 0] # 첫번째 피처\n",
    "irisDF[\"pca_Y\"] = pca_transformed[:, 1] # 두번째 피처\n",
    "# cluster별로 색깔 구분, c옵션은 색깔 옵션\n",
    "plt.scatter(x=irisDF.loc[:, \"pca_X\"], y=irisDF.loc[:, \"pca_Y\"], c = irisDF[\"cluster\"])\n",
    "plt.show()"
   ]
  },
  {
   "cell_type": "code",
   "execution_count": 9,
   "metadata": {},
   "outputs": [
    {
     "data": {
      "image/png": "[encoded data removed]",
      "text/plain": [
       "<Figure size 432x288 with 1 Axes>"
      ]
     },
     "metadata": {
      "needs_background": "light"
     },
     "output_type": "display_data"
    }
   ],
   "source": [
    "# 군집값이 0, 1, 2의 인덱스를 찾아서 해당 위치로 피처의 위치를 loc()로 찾음\n",
    "marker0_idx = irisDF[irisDF[\"cluster\"]==0].index\n",
    "marker1_idx = irisDF[irisDF[\"cluster\"]==1].index\n",
    "marker2_idx = irisDF[irisDF[\"cluster\"]==2].index\n",
    "\n",
    "plt.scatter(x=irisDF.loc[marker0_idx, \"pca_X\"], y= irisDF.loc[marker0_idx, \"pca_Y\"], marker='o')\n",
    "plt.scatter(x=irisDF.loc[marker1_idx, \"pca_X\"], y= irisDF.loc[marker1_idx, \"pca_Y\"], marker='s')\n",
    "plt.scatter(x=irisDF.loc[marker2_idx, \"pca_X\"], y= irisDF.loc[marker2_idx, \"pca_Y\"], marker='^')\n",
    "\n",
    "plt.xlabel(\"PCA_1\")\n",
    "plt.ylabel(\"PCA_2\")\n",
    "plt.title(\"3 Cluster Visualization by 2 PCA Components\")\n",
    "plt.show()               "
   ]
  },
  {
   "cell_type": "markdown",
   "metadata": {
    "id": "aI1UCbsUW5PN"
   },
   "source": [
    "### Clustering 알고리즘 테스트를 위한 데이터 생성 \n",
    "* cluster_std값을 변경해보면서 비교"
   ]
  },
  {
   "cell_type": "code",
   "execution_count": 12,
   "metadata": {},
   "outputs": [],
   "source": [
    "import numpy as np\n",
    "import matplotlib.pyplot as plt\n",
    "from sklearn.cluster import KMeans\n",
    "from sklearn.datasets import make_blobs\n",
    "%matplotlib inline"
   ]
  },
  {
   "cell_type": "code",
   "execution_count": 13,
   "metadata": {},
   "outputs": [
    {
     "data": {
      "text/plain": [
       "(200, 2)"
      ]
     },
     "metadata": {},
     "output_type": "display_data"
    },
    {
     "data": {
      "text/plain": [
       "(200,)"
      ]
     },
     "metadata": {},
     "output_type": "display_data"
    },
    {
     "data": {
      "text/plain": [
       "'Unique number: [0 1 2],  Counts : [67 67 66]'"
      ]
     },
     "metadata": {},
     "output_type": "display_data"
    }
   ],
   "source": [
    "X, y = make_blobs(n_samples=200, n_features = 2, centers = 3, cluster_std=0.8, random_state=0)\n",
    "display(X.shape, y.shape)\n",
    "\n",
    "#타겟값의 분포도 확인\n",
    "# return_count=True옵션은 unique, counts를 튜플로 리턴하도록 함\n",
    "unique, counts = np.unique(y, return_counts=True)\n",
    "display(f\"Unique number: {unique},  Counts : {counts}\")"
   ]
  },
  {
   "cell_type": "markdown",
   "metadata": {
    "id": "_8ZxJCgGW5PQ"
   },
   "source": [
    "* n_samples: 생성할 총 데이터의 개수입니다. 디폴트는 100개입니다.  \n",
    "\n",
    "\n",
    "* n_features: 데이터의 피처 개수입니다. 시각화를 목표로 할 경우 2개로 설정해 보통 첫 번째 피처는 x 좌표, 두 번째 피처\n",
    "는 y 좌표상에 표현합니다.  \n",
    "\n",
    "\n",
    "* centers: int 값, 예를 들어 3으로 설정하면 군집의 개수를 나타냅니다. 그렇지 않고 ndarray 형태로 표현할 경우 개별 군\n",
    "집 중심점의 좌표를 의미합니다.  \n",
    "\n",
    "\n",
    "* cluster_std: 생성될 군집 데이터의 표준 편차를 의미합니다. 만일 float 값 0.8과 같은 형태로 지정하면 군집 내에서 데이\n",
    "터가 표준편차 0.8을 가진 값으로 만들어집니다.   \n",
    "[0.8, 1.2, 0.6]과 같은 형태로 표현되면 3개의 군집에서 첫 번째 군집 내 데이터의 표준편차는 0.8, 두 번째 군집 내 데이터의 표준 편차는 1.2, 세 번째 군집 내 데이터의 표준편차는 0.6으로 만듭니다.군집별로 서로 다른 표준 편차를 가진 데이터 세트를 만들 때 사용합니다 "
   ]
  },
  {
   "cell_type": "code",
   "execution_count": 14,
   "metadata": {},
   "outputs": [
    {
     "data": {
      "text/html": [
       "<div>\n",
       "<style scoped>\n",
       "    .dataframe tbody tr th:only-of-type {\n",
       "        vertical-align: middle;\n",
       "    }\n",
       "\n",
       "    .dataframe tbody tr th {\n",
       "        vertical-align: top;\n",
       "    }\n",
       "\n",
       "    .dataframe thead th {\n",
       "        text-align: right;\n",
       "    }\n",
       "</style>\n",
       "<table border=\"1\" class=\"dataframe\">\n",
       "  <thead>\n",
       "    <tr style=\"text-align: right;\">\n",
       "      <th></th>\n",
       "      <th>feature1</th>\n",
       "      <th>feature2</th>\n",
       "      <th>target</th>\n",
       "    </tr>\n",
       "  </thead>\n",
       "  <tbody>\n",
       "    <tr>\n",
       "      <th>0</th>\n",
       "      <td>-1.692427</td>\n",
       "      <td>3.622025</td>\n",
       "      <td>2</td>\n",
       "    </tr>\n",
       "    <tr>\n",
       "      <th>1</th>\n",
       "      <td>0.697940</td>\n",
       "      <td>4.428867</td>\n",
       "      <td>0</td>\n",
       "    </tr>\n",
       "    <tr>\n",
       "      <th>2</th>\n",
       "      <td>1.100228</td>\n",
       "      <td>4.606317</td>\n",
       "      <td>0</td>\n",
       "    </tr>\n",
       "  </tbody>\n",
       "</table>\n",
       "</div>"
      ],
      "text/plain": [
       "   feature1  feature2  target\n",
       "0 -1.692427  3.622025       2\n",
       "1  0.697940  4.428867       0\n",
       "2  1.100228  4.606317       0"
      ]
     },
     "execution_count": 14,
     "metadata": {},
     "output_type": "execute_result"
    }
   ],
   "source": [
    "import pandas as pd\n",
    "\n",
    "clusterDF = pd.DataFrame(data=X, columns=[\"feature1\", \"feature2\"])\n",
    "clusterDF[\"target\"] = y  # 할당된 Centroid(중심점)을 의미\n",
    "clusterDF.head(3)"
   ]
  },
  {
   "cell_type": "markdown",
   "metadata": {
    "id": "zxL6_ZbAW5PV"
   },
   "source": [
    "**make_blob()으로 만들어진 데이터 포인트들을 시각화**"
   ]
  },
  {
   "cell_type": "code",
   "execution_count": 16,
   "metadata": {},
   "outputs": [
    {
     "data": {
      "text/plain": [
       "array([0, 1, 2])"
      ]
     },
     "metadata": {},
     "output_type": "display_data"
    },
    {
     "data": {
      "text/plain": [
       "(3,)"
      ]
     },
     "metadata": {},
     "output_type": "display_data"
    },
    {
     "data": {
      "image/png": "[encoded data removed]",
      "text/plain": [
       "<Figure size 432x288 with 1 Axes>"
      ]
     },
     "metadata": {
      "needs_background": "light"
     },
     "output_type": "display_data"
    }
   ],
   "source": [
    "target_list = np.unique(y) # 0, 1, 2\n",
    "display(target_list, target_list.shape)\n",
    "\n",
    "markers = ['o', 's', '^', 'P', 'D', 'H', 'x']\n",
    "\n",
    "# 3개의 클러스터 영역으로 구분한 데이터셋을 생성했으므로 trarget)\n",
    "# target==0, target==1, target==2로 scatter plot을 marker별로 생성\n",
    "for target in target_list:\n",
    "    target_cluster = clusterDF[clusterDF[\"target\"]==target]\n",
    "    plt.scatter(x=target_cluster[\"feature1\"], y=target_cluster[\"feature2\"], edgecolor='k', marker=markers[target])\n",
    "plt.show()"
   ]
  },
  {
   "cell_type": "code",
   "execution_count": 17,
   "metadata": {},
   "outputs": [
    {
     "data": {
      "text/plain": [
       "array([0, 1, 2])"
      ]
     },
     "metadata": {},
     "output_type": "display_data"
    },
    {
     "data": {
      "text/plain": [
       "<matplotlib.collections.PathCollection at 0x20c00076100>"
      ]
     },
     "execution_count": 17,
     "metadata": {},
     "output_type": "execute_result"
    },
    {
     "data": {
      "image/png": "[encoded data removed]",
      "text/plain": [
       "<Figure size 432x288 with 1 Axes>"
      ]
     },
     "metadata": {
      "needs_background": "light"
     },
     "output_type": "display_data"
    }
   ],
   "source": [
    "target_list = np.unique(y)\n",
    "display(target_list)\n",
    "plt.scatter(x=clusterDF[\"feature1\"], y= clusterDF[\"feature2\"], edgecolor=\"k\", c=y)"
   ]
  },
  {
   "cell_type": "markdown",
   "metadata": {
    "id": "_uskbKrBW5PZ"
   },
   "source": [
    "**K-Means 클러스터링을 수행하고 개별 클러스터의 중심 위치를 시각화**"
   ]
  },
  {
   "cell_type": "code",
   "execution_count": 18,
   "metadata": {},
   "outputs": [
    {
     "data": {
      "text/plain": [
       "array([[-1.69242695,  3.62202539],\n",
       "       [ 0.69794036,  4.4288665 ],\n",
       "       [ 1.10022802,  4.60631734],\n",
       "       [-1.44872404,  3.38424521],\n",
       "       [ 1.21486062,  5.36489604],\n",
       "       [-0.90830163,  1.97077775],\n",
       "       [ 2.47211942,  0.43703328],\n",
       "       [ 1.65684156,  2.4412893 ],\n",
       "       [ 1.07779975,  4.62537882],\n",
       "       [-1.67942681,  2.60200265]])"
      ]
     },
     "metadata": {},
     "output_type": "display_data"
    },
    {
     "data": {
      "text/plain": [
       "(200, 2)"
      ]
     },
     "metadata": {},
     "output_type": "display_data"
    }
   ],
   "source": [
    "display(X[:10,:],X.shape)"
   ]
  },
  {
   "cell_type": "code",
   "execution_count": 22,
   "metadata": {},
   "outputs": [
    {
     "data": {
      "text/plain": [
       "array([1, 0, 0, 1, 0, 1, 2, 2, 0, 1, 0, 1, 0, 0, 0, 1, 2, 2, 0, 1, 1, 2,\n",
       "       0, 0, 1, 0, 2, 1, 1, 1, 0, 0, 1, 0, 2, 2, 0, 2, 2, 1, 2, 1, 1, 1,\n",
       "       0, 0, 0, 1, 0, 0, 0, 2, 1, 1, 1, 1, 2, 2, 0, 0, 1, 1, 0, 2, 2, 1,\n",
       "       2, 2, 1, 2, 2, 0, 0, 1, 0, 1, 2, 2, 2, 1, 1, 0, 0, 2, 2, 0, 0, 1,\n",
       "       0, 2, 1, 1, 2, 0, 2, 0, 0, 1, 1, 2, 2, 0, 1, 0, 1, 0, 2, 0, 1, 2,\n",
       "       0, 1, 2, 1, 0, 0, 0, 2, 1, 1, 2, 2, 1, 0, 2, 0, 1, 2, 1, 0, 1, 2,\n",
       "       2, 2, 0, 2, 2, 0, 2, 1, 1, 1, 0, 2, 2, 0, 1, 1, 2, 0, 2, 1, 1, 1,\n",
       "       0, 2, 2, 2, 0, 0, 2, 1, 1, 1, 0, 0, 2, 1, 2, 2, 0, 2, 0, 2, 1, 1,\n",
       "       0, 1, 0, 2, 0, 1, 2, 2, 2, 0, 1, 2, 0, 0, 1, 1, 2, 2, 2, 2, 1, 2,\n",
       "       0, 2])"
      ]
     },
     "metadata": {},
     "output_type": "display_data"
    },
    {
     "data": {
      "text/plain": [
       "(200,)"
      ]
     },
     "metadata": {},
     "output_type": "display_data"
    },
    {
     "data": {
      "text/plain": [
       "'유니크한 클러스터 레이블 : [0 1 2]'"
      ]
     },
     "metadata": {},
     "output_type": "display_data"
    },
    {
     "data": {
      "text/html": [
       "<div>\n",
       "<style scoped>\n",
       "    .dataframe tbody tr th:only-of-type {\n",
       "        vertical-align: middle;\n",
       "    }\n",
       "\n",
       "    .dataframe tbody tr th {\n",
       "        vertical-align: top;\n",
       "    }\n",
       "\n",
       "    .dataframe thead th {\n",
       "        text-align: right;\n",
       "    }\n",
       "</style>\n",
       "<table border=\"1\" class=\"dataframe\">\n",
       "  <thead>\n",
       "    <tr style=\"text-align: right;\">\n",
       "      <th></th>\n",
       "      <th>feature1</th>\n",
       "      <th>feature2</th>\n",
       "      <th>target</th>\n",
       "      <th>cluster</th>\n",
       "      <th>kmeans_label</th>\n",
       "    </tr>\n",
       "  </thead>\n",
       "  <tbody>\n",
       "    <tr>\n",
       "      <th>0</th>\n",
       "      <td>-1.692427</td>\n",
       "      <td>3.622025</td>\n",
       "      <td>2</td>\n",
       "      <td>1</td>\n",
       "      <td>1</td>\n",
       "    </tr>\n",
       "    <tr>\n",
       "      <th>1</th>\n",
       "      <td>0.697940</td>\n",
       "      <td>4.428867</td>\n",
       "      <td>0</td>\n",
       "      <td>0</td>\n",
       "      <td>0</td>\n",
       "    </tr>\n",
       "    <tr>\n",
       "      <th>2</th>\n",
       "      <td>1.100228</td>\n",
       "      <td>4.606317</td>\n",
       "      <td>0</td>\n",
       "      <td>0</td>\n",
       "      <td>0</td>\n",
       "    </tr>\n",
       "  </tbody>\n",
       "</table>\n",
       "</div>"
      ],
      "text/plain": [
       "   feature1  feature2  target  cluster  kmeans_label\n",
       "0 -1.692427  3.622025       2        1             1\n",
       "1  0.697940  4.428867       0        0             0\n",
       "2  1.100228  4.606317       0        0             0"
      ]
     },
     "metadata": {},
     "output_type": "display_data"
    },
    {
     "data": {
      "image/png": "[encoded data removed]",
      "text/plain": [
       "<Figure size 432x288 with 1 Axes>"
      ]
     },
     "metadata": {
      "needs_background": "light"
     },
     "output_type": "display_data"
    }
   ],
   "source": [
    "kmeans = KMeans(n_clusters=3, init=\"k-means++\", max_iter=200, random_state=0)\n",
    "cluster_label = kmeans.fit_predict(X)  #클러스터링 수행, fit()과 동일함\n",
    "display(cluster_label, cluster_label.shape)\n",
    "\n",
    "clusterDF['kmeans_label'] = cluster_label # 군집 레이블\n",
    "\n",
    "centroid = kmeans.cluster_centers_ #중심위치 \n",
    "unique_labels = np.unique(cluster_label)\n",
    "markers = ['o', 's', '^', 'P', 'D', 'H', 'x']\n",
    "\n",
    "display(f\"유니크한 클러스터 레이블 : {unique_labels}\")\n",
    "display(clusterDF.head(3))\n",
    "for label in unique_labels:\n",
    "    label_cluster = clusterDF[clusterDF[\"cluster\"]==label]\n",
    "    center_X_Y = centroid[label]  # 중심점 무리에서 해당 레이블에 해당하는 중심점 찾기\n",
    "    plt.scatter(x=label_cluster[\"feature1\"], y=label_cluster[\"feature2\"], edgecolor=\"k\", marker=markers[label])\n",
    "    \n",
    "    plt.scatter(x = center_X_Y[0], y= center_X_Y[1], edgecolor='k', s=200, alpha=0.9, marker=markers[label])\n",
    "    plt.scatter(x = center_X_Y[0], y= center_X_Y[1], s=70, edgecolor='k', marker='$%d$' % label) # 레이블을 숫자로 표기\n",
    "plt.show()"
   ]
  },
  {
   "cell_type": "code",
   "execution_count": 23,
   "metadata": {
    "colab": {
     "base_uri": "https://localhost:8080/",
     "height": 265
    },
    "executionInfo": {
     "elapsed": 318,
     "status": "ok",
     "timestamp": 1631743264806,
     "user": {
      "displayName": "sangseo seo",
      "photoUrl": "https://lh3.googleusercontent.com/a/default-user=s64",
      "userId": "10041771000758060897"
     },
     "user_tz": -540
    },
    "id": "ZU4H7j-dW5Pa",
    "outputId": "ee331681-4ef1-4f83-b845-d8b1fc79e9e4"
   },
   "outputs": [
    {
     "data": {
      "text/plain": [
       "'중심점의 좌표 : [[ 0.990103    4.44666506]\\n [-1.70636483  2.92759224]\\n [ 1.95763312  0.81041752]]'"
      ]
     },
     "metadata": {},
     "output_type": "display_data"
    },
    {
     "data": {
      "text/plain": [
       "'군집 레이블 0 좌표: [0.990103   4.44666506]'"
      ]
     },
     "metadata": {},
     "output_type": "display_data"
    },
    {
     "data": {
      "text/plain": [
       "'군집 레이블 1 좌표: [-1.70636483  2.92759224]'"
      ]
     },
     "metadata": {},
     "output_type": "display_data"
    },
    {
     "data": {
      "text/plain": [
       "'군집 레이블 2 좌표: [1.95763312 0.81041752]'"
      ]
     },
     "metadata": {},
     "output_type": "display_data"
    }
   ],
   "source": [
    "display(f\"중심점의 좌표 : {kmeans.cluster_centers_}\")  # 위의 중심점의 위치를 표시한 것.\n",
    "display(f\"군집 레이블 0 좌표: {kmeans.cluster_centers_[0]}\")\n",
    "display(f\"군집 레이블 1 좌표: {kmeans.cluster_centers_[1]}\")\n",
    "display(f\"군집 레이블 2 좌표: {kmeans.cluster_centers_[2]}\")"
   ]
  },
  {
   "cell_type": "code",
   "execution_count": 24,
   "metadata": {},
   "outputs": [
    {
     "data": {
      "text/html": [
       "<div>\n",
       "<style scoped>\n",
       "    .dataframe tbody tr th:only-of-type {\n",
       "        vertical-align: middle;\n",
       "    }\n",
       "\n",
       "    .dataframe tbody tr th {\n",
       "        vertical-align: top;\n",
       "    }\n",
       "\n",
       "    .dataframe thead th {\n",
       "        text-align: right;\n",
       "    }\n",
       "</style>\n",
       "<table border=\"1\" class=\"dataframe\">\n",
       "  <thead>\n",
       "    <tr style=\"text-align: right;\">\n",
       "      <th></th>\n",
       "      <th></th>\n",
       "      <th>cluster</th>\n",
       "    </tr>\n",
       "    <tr>\n",
       "      <th>target</th>\n",
       "      <th>cluster</th>\n",
       "      <th></th>\n",
       "    </tr>\n",
       "  </thead>\n",
       "  <tbody>\n",
       "    <tr>\n",
       "      <th rowspan=\"2\" valign=\"top\">0</th>\n",
       "      <th>0</th>\n",
       "      <td>66</td>\n",
       "    </tr>\n",
       "    <tr>\n",
       "      <th>1</th>\n",
       "      <td>1</td>\n",
       "    </tr>\n",
       "    <tr>\n",
       "      <th>1</th>\n",
       "      <th>2</th>\n",
       "      <td>67</td>\n",
       "    </tr>\n",
       "    <tr>\n",
       "      <th rowspan=\"2\" valign=\"top\">2</th>\n",
       "      <th>1</th>\n",
       "      <td>65</td>\n",
       "    </tr>\n",
       "    <tr>\n",
       "      <th>2</th>\n",
       "      <td>1</td>\n",
       "    </tr>\n",
       "  </tbody>\n",
       "</table>\n",
       "</div>"
      ],
      "text/plain": [
       "                cluster\n",
       "target cluster         \n",
       "0      0             66\n",
       "       1              1\n",
       "1      2             67\n",
       "2      1             65\n",
       "       2              1"
      ]
     },
     "metadata": {},
     "output_type": "display_data"
    }
   ],
   "source": [
    "display(pd.DataFrame(clusterDF.groupby('target')['cluster'].value_counts()))"
   ]
  },
  {
   "cell_type": "markdown",
   "metadata": {},
   "source": [
    "**정리**"
   ]
  },
  {
   "cell_type": "markdown",
   "metadata": {},
   "source": [
    "`make_blobs()`은 `cluster_std`파라미터로 데이터의 분포도를 조정가능합니다. `cluster_std값`이 작을 수록 군집 중심에 데이터가 모여 있으며, 클수록 데이터가 퍼져있음을 알 수 있다."
   ]
  }
 ],
 "metadata": {
  "colab": {
   "collapsed_sections": [],
   "name": "KMeans.ipynb",
   "provenance": [
    {
     "file_id": "17IAnc7bOo82f4T7n9O7qZSONTLlue35Q",
     "timestamp": 1631741258625
    }
   ]
  },
  "kernelspec": {
   "display_name": "Python 3 (ipykernel)",
   "language": "python",
   "name": "python3"
  },
  "language_info": {
   "codemirror_mode": {
    "name": "ipython",
    "version": 3
   },
   "file_extension": ".py",
   "mimetype": "text/x-python",
   "name": "python",
   "nbconvert_exporter": "python",
   "pygments_lexer": "ipython3",
   "version": "3.8.11"
  }
 },
 "nbformat": 4,
 "nbformat_minor": 1
}
