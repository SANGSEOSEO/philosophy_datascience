{
 "cells": [
  {
   "cell_type": "markdown",
   "metadata": {},
   "source": [
    "# 분류(Classification)성능 평가지표\n",
    "- 정확도(Accuracy)\n",
    "- 오차행렬(Confusion Matrix)\n",
    "- 정밀도(Precision)\n",
    "- 재현율(Recall)\n",
    "- F1 스코어 - 정밀도와 재현율이 얼마나 균형잡혀있는지 알수있음.\n",
    "- ROC AUC : 이진분류인 경우 많이 활용"
   ]
  },
  {
   "cell_type": "code",
   "execution_count": 16,
   "metadata": {},
   "outputs": [],
   "source": [
    "# 폰트 및 마이너스 부호 \n",
    "warnings.filterwarnings(\"ignore\")\n",
    "from matplotlib import font_manager, rc\n",
    "font_name  = font_manager.FontProperties(fname = \"c:/Windows/Fonts/malgun.ttf\").get_name()\n",
    "rc('font', family = font_name)\n",
    "# 마이너스 부호 표시 \n",
    "plt.rcParams['axes.unicode_minus'] = False"
   ]
  },
  {
   "cell_type": "markdown",
   "metadata": {},
   "source": [
    "## 01. 정확도(Accuracy)\n",
    "- ${정확도(Accuracy) = \\frac{예측결과가 동일한 데이터 건수}{전체 예측 데이터 건수}}$\n",
    "- 정확도는 직관적으로 모델 예측 성능을 나타내는 평가 지표입니다. 하지만 이진 분류의 경우 데이터 구성에 따라 ML모델의 성능을 왜곡할 수 있기 때문에 정확도 수치 하나만 가지고 성능을 평가하지는 않는다.\n",
    "- 정확도는 불균형한 레이블 값 분포에서 ML모델의 성능을 판단 할 경우, 적합한 평가지표가 아니다.(신용카드 사기검출)"
   ]
  },
  {
   "cell_type": "code",
   "execution_count": 17,
   "metadata": {},
   "outputs": [],
   "source": [
    "# 널처리 함수 \n",
    "def fillna(df):\n",
    "    df['Age'].fillna(df['Age'].mean(), inplace = True)\n",
    "    df['Cabin'].fillna('N', inplace = True)\n",
    "    df['Embarked'].fillna('N', inplace = True)\n",
    "    df['Fare'].fillna(0, inplace  = True)\n",
    "    return df\n",
    "\n",
    "# 머신러닝 알고리즘에 불필요한 속성 제거 \n",
    "def drop_features(df):\n",
    "    \"\"\"\n",
    "    errors = 'ignore'옵션은 에러나도 무시함.\n",
    "             'raise' -     \n",
    "    \"\"\"\n",
    "    df.drop(['PassengerId', 'Name', 'Ticket'], axis = 1, inplace = True,errors = 'ignore')\n",
    "    return df\n",
    "\n",
    "# 레이블 인코딩 수행\n",
    "def format_features(df):\n",
    "    features = ['Cabin', 'Sex', 'Embarked']\n",
    "    from sklearn.preprocessing import LabelEncoder\n",
    "    for feature in features:\n",
    "        le = LabelEncoder()\n",
    "        le = le.fit(df[feature])\n",
    "        df[feature] = le.transform(df[feature])\n",
    "        \n",
    "    return df\n",
    "\n",
    "# 앞에서 설정한 데이터 전처리 함수 호출 \n",
    "def transform_features(df):\n",
    "    \"\"\"\n",
    "    모델적용전 전처리 함수 \n",
    "    \"\"\"\n",
    "    df = fillna(df)\n",
    "    df = drop_features(df)\n",
    "    df = format_features(df)\n",
    "    return df"
   ]
  },
  {
   "cell_type": "markdown",
   "metadata": {},
   "source": [
    "* 남자인 경우는 사망. 즉, 0 \n",
    "* 여자인 경우는 생존 1 <br>\n",
    "아주 이렇게 단순한 Estimator를 만든다.정확도의 오류를 보여주기 위해서임."
   ]
  },
  {
   "cell_type": "code",
   "execution_count": 18,
   "metadata": {},
   "outputs": [],
   "source": [
    "from sklearn.base import BaseEstimator\n",
    "class MyDummyClassifier(BaseEstimator):\n",
    "    '''\n",
    "    extends BaseEstimator and return Prediction\n",
    "    '''\n",
    "    def fit(self, X, y=None):\n",
    "        '''\n",
    "        fit메소드는 아무것도 학습하지 않음.\n",
    "        '''\n",
    "        pass\n",
    "    def predict(self, X):\n",
    "        '''\n",
    "        predict() 메소드는 단순히 Sex 피처가 1(남자)이면 0, 그렇지 않으면 1로 예측함\n",
    "        '''\n",
    "        pred = np.zeros((X.shape[0], 1))  # 입력으로 들어온 데이터프레임의 갯수만큼 1차원 ndarray로 생성\n",
    "        for i in range(X.shape[0]):\n",
    "            if X['Sex'].iloc[i]== 1:\n",
    "                pred[i] = 0\n",
    "            else:\n",
    "                pred[i] = 1\n",
    "        return pred"
   ]
  },
  {
   "cell_type": "code",
   "execution_count": 7,
   "metadata": {},
   "outputs": [
    {
     "name": "stdout",
     "output_type": "stream",
     "text": [
      "Help on class BaseEstimator in module sklearn.base:\n",
      "\n",
      "class BaseEstimator(builtins.object)\n",
      " |  Base class for all estimators in scikit-learn\n",
      " |  \n",
      " |  Notes\n",
      " |  -----\n",
      " |  All estimators should specify all the parameters that can be set\n",
      " |  at the class level in their ``__init__`` as explicit keyword\n",
      " |  arguments (no ``*args`` or ``**kwargs``).\n",
      " |  \n",
      " |  Methods defined here:\n",
      " |  \n",
      " |  __getstate__(self)\n",
      " |  \n",
      " |  __repr__(self, N_CHAR_MAX=700)\n",
      " |      Return repr(self).\n",
      " |  \n",
      " |  __setstate__(self, state)\n",
      " |  \n",
      " |  get_params(self, deep=True)\n",
      " |      Get parameters for this estimator.\n",
      " |      \n",
      " |      Parameters\n",
      " |      ----------\n",
      " |      deep : bool, default=True\n",
      " |          If True, will return the parameters for this estimator and\n",
      " |          contained subobjects that are estimators.\n",
      " |      \n",
      " |      Returns\n",
      " |      -------\n",
      " |      params : mapping of string to any\n",
      " |          Parameter names mapped to their values.\n",
      " |  \n",
      " |  set_params(self, **params)\n",
      " |      Set the parameters of this estimator.\n",
      " |      \n",
      " |      The method works on simple estimators as well as on nested objects\n",
      " |      (such as pipelines). The latter have parameters of the form\n",
      " |      ``<component>__<parameter>`` so that it's possible to update each\n",
      " |      component of a nested object.\n",
      " |      \n",
      " |      Parameters\n",
      " |      ----------\n",
      " |      **params : dict\n",
      " |          Estimator parameters.\n",
      " |      \n",
      " |      Returns\n",
      " |      -------\n",
      " |      self : object\n",
      " |          Estimator instance.\n",
      " |  \n",
      " |  ----------------------------------------------------------------------\n",
      " |  Data descriptors defined here:\n",
      " |  \n",
      " |  __dict__\n",
      " |      dictionary for instance variables (if defined)\n",
      " |  \n",
      " |  __weakref__\n",
      " |      list of weak references to the object (if defined)\n",
      "\n"
     ]
    }
   ],
   "source": [
    "help(BaseEstimator)"
   ]
  },
  {
   "cell_type": "markdown",
   "metadata": {},
   "source": [
    "## 타이타닉 생존자 예측 수행\n",
    "* 단순한 알고리즘으로 예측수행시 문제점"
   ]
  },
  {
   "cell_type": "code",
   "execution_count": 38,
   "metadata": {},
   "outputs": [
    {
     "name": "stdout",
     "output_type": "stream",
     "text": [
      "DummyClassifier의 정확도 : 0.7207\n"
     ]
    }
   ],
   "source": [
    "import pandas as pd\n",
    "from sklearn.model_selection import train_test_split\n",
    "from sklearn.metrics import accuracy_score\n",
    "\n",
    "\n",
    "# 원본 데이터를 재로딩, 데이터 가공, 학습 데이터 / 테스트 데이터 분할\n",
    "titanic_df = pd.read_csv(\"../03.Scikit-Learn/titanic/titanic_train.csv\")\n",
    "\n",
    "X_titanic_df = titanic_df.drop('Survived', axis = 1)\n",
    "y_titanic_df = titanic_df['Survived']\n",
    "X_titanic_df = transform_features(X_titanic_df)\n",
    "\n",
    "X_train, X_test, y_train, y_test = train_test_split(X_titanic_df, y_titanic_df, test_size=0.2, random_state=2021)\n",
    "\n",
    "myclf = MyDummyClassifier()\n",
    "myclf.fit(X_train, y_train)\n",
    "\n",
    "mypredictions = myclf.predict(X_test)\n",
    "print(\"DummyClassifier의 정확도 : {0:.4f}\".format(accuracy_score(y_test, mypredictions)))"
   ]
  },
  {
   "cell_type": "markdown",
   "metadata": {},
   "source": [
    "### 불균형한 MNIST데이터세트를 이용한 예측정확도 측정"
   ]
  },
  {
   "cell_type": "code",
   "execution_count": 33,
   "metadata": {},
   "outputs": [],
   "source": [
    "from sklearn.datasets import load_digits\n",
    "from sklearn.model_selection import train_test_split\n",
    "import numpy as np\n",
    "from sklearn.base import BaseEstimator\n",
    "from sklearn.metrics import accuracy_score\n",
    "import pandas as pd"
   ]
  },
  {
   "cell_type": "code",
   "execution_count": 24,
   "metadata": {},
   "outputs": [],
   "source": [
    "class MyFakeClassifier(BaseEstimator):\n",
    "    '''\n",
    "    No fit, just predict\n",
    "    '''\n",
    "    def fit(self, X, y):\n",
    "        pass\n",
    "    def predict(self, X):\n",
    "        \"\"\"\n",
    "        들어오는 X데이터세트의 크기만큼 모든 값을 0으로 만들어서 반환\n",
    "        \"\"\"\n",
    "        return np.zeros(shape=(len(X), 1), dtype=bool)"
   ]
  },
  {
   "cell_type": "code",
   "execution_count": 28,
   "metadata": {},
   "outputs": [],
   "source": [
    "# 사이킷런의 내장 데이터세트인 load_digits()를 이용해 MINIST데이터 세트 로딩\n",
    "digits = load_digits()"
   ]
  },
  {
   "cell_type": "code",
   "execution_count": 29,
   "metadata": {},
   "outputs": [],
   "source": [
    "# digits번호가 7번이면 True이고 이를 astype(int)로 1로 변환, 7번이 아니면 False이고 0으로 변환\n",
    "y = (digits.target == 7).astype(int)\n",
    "X_train, X_test, y_train, y_test = train_test_split(digits.data, y, random_state = 2021)\n",
    "pd.DataFrame({\"변환값\": y, \"원래값\": digits.target})"
   ]
  },
  {
   "cell_type": "markdown",
   "metadata": {},
   "source": [
    "### 비정상적은 Classifier를 이용한 예측과 평가"
   ]
  },
  {
   "cell_type": "code",
   "execution_count": 34,
   "metadata": {},
   "outputs": [
    {
     "name": "stdout",
     "output_type": "stream",
     "text": [
      "레이블 테스트 세트 크기 :  (450,) <class 'numpy.ndarray'>\n",
      "테스트 세트 레이블 0과 1의 분포도:\n",
      " 0    408\n",
      "1     42\n",
      "dtype: int64\n",
      "모든 예측을 0으로 하여도 정확도는 : 0.9067\n"
     ]
    }
   ],
   "source": [
    "#불균형한 레이블 데이터 분포도 확인\n",
    "print('레이블 테스트 세트 크기 : ', y_test.shape, type(y_test))\n",
    "print('테스트 세트 레이블 0과 1의 분포도:\\n',pd.Series(y_test).value_counts())\n",
    "\n",
    "# Dummy Classifier로 학습/예측/정확도 평가\n",
    "fakeClf = MyFakeClassifier()\n",
    "\n",
    "fakeClf.fit(X_train, y_train)\n",
    "fakepred = fakeClf.predict(X_test)\n",
    "\n",
    "print(\"모든 예측을 0으로 하여도 정확도는 : {0:.4f}\".format(accuracy_score(y_test, fakepred)))"
   ]
  },
  {
   "cell_type": "markdown",
   "metadata": {},
   "source": [
    "## 정리\n",
    "* 정확도 평가 지표는 불균형한 레이블 데이터세트에서는 성능 수치로 사용되서는 안됨.\n",
    "* 정확도가 가지는 분류 평가 지표로서, 이런 한계점을 극복하기 위해 오차행렬(Confusion Matrix)가 적용될수 있음."
   ]
  },
  {
   "cell_type": "markdown",
   "metadata": {},
   "source": [
    "## 02. 오차행렬(Confusion Matrix)\n",
    "* 학습된 분류모델이 예측을 수행하면 얼마나 헛갈리고 있는지도 함께 보여주는 지표\n",
    "* 아래 그림 참조"
   ]
  },
  {
   "cell_type": "code",
   "execution_count": 20,
   "metadata": {},
   "outputs": [],
   "source": [
    "from IPython.display import Image\n",
    "import os"
   ]
  },
  {
   "cell_type": "code",
   "execution_count": 21,
   "metadata": {},
   "outputs": [
    {
     "data": {
      "text/plain": [
       "'C:\\\\dataAnalysis\\\\philosophy_datascience\\\\01.ML\\\\03.Scikit-Learn'"
      ]
     },
     "execution_count": 21,
     "metadata": {},
     "output_type": "execute_result"
    }
   ],
   "source": [
    "os.getcwd()"
   ]
  },
  {
   "cell_type": "code",
   "execution_count": 22,
   "metadata": {},
   "outputs": [
    {
     "data": {
      "image/png": "[encoded data removed]",
      "text/plain": [
       "<IPython.core.display.Image object>"
      ]
     },
     "execution_count": 22,
     "metadata": {},
     "output_type": "execute_result"
    }
   ],
   "source": [
    "Image(\"C:/dataAnalysis/philosophy_datascience/img/confusionmatrix.png\")"
   ]
  },
  {
   "cell_type": "markdown",
   "metadata": {},
   "source": [
    "### MyFakeClassifier을 이용한 오차행렬 출력"
   ]
  },
  {
   "cell_type": "code",
   "execution_count": 36,
   "metadata": {},
   "outputs": [
    {
     "data": {
      "text/plain": [
       "array([[408,   0],\n",
       "       [ 42,   0]], dtype=int64)"
      ]
     },
     "execution_count": 36,
     "metadata": {},
     "output_type": "execute_result"
    }
   ],
   "source": [
    "from sklearn.metrics import confusion_matrix\n",
    "confusion_matrix(y_test, fakepred)"
   ]
  },
  {
   "cell_type": "code",
   "execution_count": 37,
   "metadata": {},
   "outputs": [
    {
     "name": "stdout",
     "output_type": "stream",
     "text": [
      "Help on function confusion_matrix in module sklearn.metrics._classification:\n",
      "\n",
      "confusion_matrix(y_true, y_pred, *, labels=None, sample_weight=None, normalize=None)\n",
      "    Compute confusion matrix to evaluate the accuracy of a classification.\n",
      "    \n",
      "    By definition a confusion matrix :math:`C` is such that :math:`C_{i, j}`\n",
      "    is equal to the number of observations known to be in group :math:`i` and\n",
      "    predicted to be in group :math:`j`.\n",
      "    \n",
      "    Thus in binary classification, the count of true negatives is\n",
      "    :math:`C_{0,0}`, false negatives is :math:`C_{1,0}`, true positives is\n",
      "    :math:`C_{1,1}` and false positives is :math:`C_{0,1}`.\n",
      "    \n",
      "    Read more in the :ref:`User Guide <confusion_matrix>`.\n",
      "    \n",
      "    Parameters\n",
      "    ----------\n",
      "    y_true : array-like of shape (n_samples,)\n",
      "        Ground truth (correct) target values.\n",
      "    \n",
      "    y_pred : array-like of shape (n_samples,)\n",
      "        Estimated targets as returned by a classifier.\n",
      "    \n",
      "    labels : array-like of shape (n_classes), default=None\n",
      "        List of labels to index the matrix. This may be used to reorder\n",
      "        or select a subset of labels.\n",
      "        If ``None`` is given, those that appear at least once\n",
      "        in ``y_true`` or ``y_pred`` are used in sorted order.\n",
      "    \n",
      "    sample_weight : array-like of shape (n_samples,), default=None\n",
      "        Sample weights.\n",
      "    \n",
      "        .. versionadded:: 0.18\n",
      "    \n",
      "    normalize : {'true', 'pred', 'all'}, default=None\n",
      "        Normalizes confusion matrix over the true (rows), predicted (columns)\n",
      "        conditions or all the population. If None, confusion matrix will not be\n",
      "        normalized.\n",
      "    \n",
      "    Returns\n",
      "    -------\n",
      "    C : ndarray of shape (n_classes, n_classes)\n",
      "        Confusion matrix whose i-th row and j-th\n",
      "        column entry indicates the number of\n",
      "        samples with true label being i-th class\n",
      "        and prediced label being j-th class.\n",
      "    \n",
      "    References\n",
      "    ----------\n",
      "    .. [1] `Wikipedia entry for the Confusion matrix\n",
      "           <https://en.wikipedia.org/wiki/Confusion_matrix>`_\n",
      "           (Wikipedia and other references may use a different\n",
      "           convention for axes)\n",
      "    \n",
      "    Examples\n",
      "    --------\n",
      "    >>> from sklearn.metrics import confusion_matrix\n",
      "    >>> y_true = [2, 0, 2, 2, 0, 1]\n",
      "    >>> y_pred = [0, 0, 2, 2, 0, 2]\n",
      "    >>> confusion_matrix(y_true, y_pred)\n",
      "    array([[2, 0, 0],\n",
      "           [0, 0, 1],\n",
      "           [1, 0, 2]])\n",
      "    \n",
      "    >>> y_true = [\"cat\", \"ant\", \"cat\", \"cat\", \"ant\", \"bird\"]\n",
      "    >>> y_pred = [\"ant\", \"ant\", \"cat\", \"cat\", \"ant\", \"cat\"]\n",
      "    >>> confusion_matrix(y_true, y_pred, labels=[\"ant\", \"bird\", \"cat\"])\n",
      "    array([[2, 0, 0],\n",
      "           [0, 0, 1],\n",
      "           [1, 0, 2]])\n",
      "    \n",
      "    In the binary case, we can extract true positives, etc as follows:\n",
      "    \n",
      "    >>> tn, fp, fn, tp = confusion_matrix([0, 1, 0, 1], [1, 1, 1, 0]).ravel()\n",
      "    >>> (tn, fp, fn, tp)\n",
      "    (0, 2, 1, 1)\n",
      "\n"
     ]
    }
   ],
   "source": [
    "help(confusion_matrix)"
   ]
  },
  {
   "cell_type": "markdown",
   "metadata": {},
   "source": [
    "* `정확도`는 데이터가 한쪽으로 편중되어 있는 데이터세트인 경우는 신뢰도가 떨어지기때문에 이를 보완하기 위해서 \n",
    "`정밀도`와 `재현률`에 대해서 알아보기로 한다.\n",
    "* `정확도` = `예측 결과와 실제값이 동일한 건수 / 전체 데이터 건수 = (TN + TP) / (TN + TP + FN + FP)`"
   ]
  },
  {
   "cell_type": "markdown",
   "metadata": {},
   "source": [
    "## 03. 정밀도와 재현율\n",
    "* `정밀도`와 `재현율`은 Positive 데이터 세트의 예측 성능에 더 초점을 맞춘 평가 지표.\n",
    "* **`정밀도 = TP / (FP + TP)`** : 예측을 Positive로 한 대상 중에 예측과 실제 값이 Positive로 일치한 데이터의 비율\n",
    "* **`재현율 = TP / (FN + TP)`** : 실제값이 Positive인 대상 중에 예측과 실제값이 Positive로 일치한 데이터의 비율"
   ]
  },
  {
   "cell_type": "code",
   "execution_count": 140,
   "metadata": {},
   "outputs": [],
   "source": [
    "from sklearn.metrics import accuracy_score, precision_score, recall_score, confusion_matrix, f1_score, roc_auc_score\n",
    "\n",
    "\n",
    "def get_clf_eval(y_test, pred= None, pred_proba = None):\n",
    "    \"\"\"\n",
    "    오차행렬, 정확도, 정밀도, 재현율을 리턴하는 함수\n",
    "    정밀도와 재현율을 결합한 F1 스코어 추가 \n",
    "    ROC AUC커브 추가 \n",
    "    \"\"\"\n",
    "    confusion  = confusion_matrix(y_test, pred)\n",
    "    accuracy = accuracy_score(y_test, pred)\n",
    "    precision = precision_score(y_test, pred)\n",
    "    recall = precision_score(y_test, pred)\n",
    "    f1 = f1_score(y_test, pred)\n",
    "    roc_score = roc_auc_score(y_test, pred_proba)\n",
    "    print(\"오차 행렬\")\n",
    "    print(confusion)\n",
    "    print(\"정확도 : {0:.4f}, 정밀도 : {1:.4f}, 재현율 : {2:.4f}, \\\n",
    "                F1 스코어 : {3:.4f}, FOC AUC값 : {4:.4f}\".format(accuracy, precision, recall, f1, roc_score))"
   ]
  },
  {
   "cell_type": "markdown",
   "metadata": {},
   "source": [
    "### 로지스틱회귀 기반으로 타이타닉 생존자 예측/평가 수행"
   ]
  },
  {
   "cell_type": "code",
   "execution_count": 50,
   "metadata": {},
   "outputs": [
    {
     "name": "stdout",
     "output_type": "stream",
     "text": [
      "오차 행렬\n",
      "[[105  13]\n",
      " [ 12  49]]\n",
      "정확도 : 0.8603, 정밀도 : 0.7903, 재현율 : 0.7903\n"
     ]
    }
   ],
   "source": [
    "import pandas as pd\n",
    "from sklearn.model_selection import train_test_split\n",
    "from sklearn.linear_model import LogisticRegression\n",
    "\n",
    "# 원본 데이터를 재로딩 , 데이터 가공, 전처리, 학습 /테스트 데이터 분할\n",
    "titanic_df = pd.read_csv(\"./titanic/titanic_train.csv\")\n",
    "\n",
    "# 레이블 데이터 \n",
    "y_titanic_df = titanic_df['Survived']\n",
    "\n",
    "# 학습용\n",
    "# .drop()는 해당 컬럼을 제거하고 남은 데이터셋을 리턴한다.\n",
    "X_titanic_df = titanic_df.drop('Survived', axis = 1)\n",
    "\n",
    "# 데이터가공 및 전처리 \n",
    "X_titanic_df = transform_features(X_titanic_df)\n",
    "\n",
    "# 학습/테스트 데이터 분할\n",
    "X_train, X_test, y_train, y_test = train_test_split(X_titanic_df, y_titanic_df, \\\n",
    "                                                    test_size=0.20, random_state=11)\n",
    "\n",
    "lr_clf = LogisticRegression()\n",
    "\n",
    "lr_clf.fit(X_train , y_train)\n",
    "pred = lr_clf.predict(X_test)\n",
    "get_clf_eval(y_test , pred)"
   ]
  },
  {
   "cell_type": "code",
   "execution_count": 55,
   "metadata": {},
   "outputs": [
    {
     "data": {
      "text/plain": [
       "(712,\n",
       " Pclass  Sex  Age        SibSp  Parch  Fare     Cabin  Embarked\n",
       " 3       1    29.699118  0      0      8.0500   146    3           6\n",
       " 2       1    29.699118  0      0      0.0000   146    3           3\n",
       " 3       1    29.699118  0      0      7.8958   146    3           2\n",
       "         0    29.699118  0      0      7.7500   146    2           2\n",
       "         1    29.699118  0      0      7.7500   146    2           2\n",
       "                                                                  ..\n",
       "         0    39.000000  1      5      31.2750  146    3           1\n",
       "                         0      5      29.1250  146    2           1\n",
       "              38.000000  1      5      31.3875  146    3           1\n",
       "              31.000000  0      0      8.6833   146    3           1\n",
       " 1       0    16.000000  0      1      39.4000  99     3           1\n",
       " Length: 165, dtype: int64)"
      ]
     },
     "execution_count": 55,
     "metadata": {},
     "output_type": "execute_result"
    }
   ],
   "source": [
    "X_train.shape[0], X_test.value_counts()"
   ]
  },
  {
   "cell_type": "code",
   "execution_count": 54,
   "metadata": {},
   "outputs": [
    {
     "data": {
      "text/plain": [
       "(0    431\n",
       " 1    281\n",
       " Name: Survived, dtype: int64,\n",
       " 0    118\n",
       " 1     61\n",
       " Name: Survived, dtype: int64)"
      ]
     },
     "execution_count": 54,
     "metadata": {},
     "output_type": "execute_result"
    }
   ],
   "source": [
    "y_train.value_counts(), y_test.value_counts()"
   ]
  },
  {
   "cell_type": "markdown",
   "metadata": {},
   "source": [
    "* 정밀도에 비해서 재현율이 낮게 나왔다.재현율 혹은 정밀도를 높힐수 있는 방법은?"
   ]
  },
  {
   "cell_type": "markdown",
   "metadata": {},
   "source": [
    "### 정밀도 / 재현율 trade-off관계\n",
    "* 정밀도를 올리자니 재현율이 떨어지고, 재현율을 올리자니 정밀도가 떨어지는 관계.\n",
    "* `predict_proba()`를 활용해서 예측확률값을 확인"
   ]
  },
  {
   "cell_type": "code",
   "execution_count": 66,
   "metadata": {},
   "outputs": [
    {
     "name": "stdout",
     "output_type": "stream",
     "text": [
      " pred_proba() 결과 Shape : (179, 2)\n",
      " pred_proba의 결과 앞의 3개만 보기  :\n",
      "  [[0.44555909 0.55444091]\n",
      " [0.84758967 0.15241033]\n",
      " [0.8576123  0.1423877 ]]\n",
      "pred의 타입 :  <class 'numpy.ndarray'>\n",
      " pred의 결가 앞의 3개만 보기 : \n",
      " [1 0 0]\n",
      "\n",
      "두개의 class중에서 더 큰 확률을 클래스 값으로 예측 \n",
      " [[0.44555909 0.55444091 1.        ]\n",
      " [0.84758967 0.15241033 0.        ]\n",
      " [0.8576123  0.1423877  0.        ]]\n"
     ]
    }
   ],
   "source": [
    "# 각각의 개별 데이터별로 예측확률을 리턴\n",
    "pred_proba = lr_clf.predict_proba(X_test)\n",
    "print(\" pred_proba() 결과 Shape : {0}\".format(pred_proba.shape))\n",
    "print(\" pred_proba의 결과 앞의 3개만 보기  :\\n \", pred_proba[:3,:])\n",
    "\n",
    "# 예측결과 값\n",
    "pred = lr_clf.predict(X_test)\n",
    "print(\"pred의 타입 : \", type(pred))\n",
    "print(\" pred의 결가 앞의 3개만 보기 : \\n\", pred[:3])\n",
    "\n",
    "# 예측확률 array와 예측결과값 array를 병합해 한눈에 보기 \n",
    "pred_proba_result = np.concatenate([pred_proba,  pred.reshape(-1,1)], axis = 1)\n",
    "\n",
    "print(\"\\n두개의 class중에서 더 큰 확률을 클래스 값으로 예측 \\n\", pred_proba_result[:3])"
   ]
  },
  {
   "cell_type": "markdown",
   "metadata": {},
   "source": [
    "* 결과값에서 보듯이 `1`로 예측한 경우는 `1`의 **예측확률이 더 크고** `0`으로 예측한 경우는 `0`의 **예측확률이 더 큼**을 알수있다."
   ]
  },
  {
   "cell_type": "markdown",
   "metadata": {},
   "source": [
    "### 사이킷런의 정밀도/재현율 트래이드오프 방식 이해\n",
    "* Binarizer클래스 객체 이용"
   ]
  },
  {
   "cell_type": "code",
   "execution_count": 69,
   "metadata": {},
   "outputs": [
    {
     "name": "stdout",
     "output_type": "stream",
     "text": [
      "[[0. 0. 1.]\n",
      " [1. 0. 0.]\n",
      " [0. 0. 1.]]\n"
     ]
    }
   ],
   "source": [
    "from sklearn.preprocessing import Binarizer\n",
    "\n",
    "\n",
    "X = [[1, -1, 2],\n",
    "    [2, 0, 0],\n",
    "    [0, 1.1, 1.2]\n",
    "    ]\n",
    "\n",
    "# X의 개별 원소들이 threshold값보다 같거나 작으면 0을, 크면 1을 반환\n",
    "binarizer = Binarizer(threshold = 1.1).fit(X)\n",
    "print(binarizer.transform(X))"
   ]
  },
  {
   "cell_type": "code",
   "execution_count": 70,
   "metadata": {},
   "outputs": [
    {
     "name": "stdout",
     "output_type": "stream",
     "text": [
      "[[0. 0. 1.]\n",
      " [1. 0. 0.]\n",
      " [0. 0. 1.]]\n"
     ]
    }
   ],
   "source": [
    "binarizer = Binarizer(threshold = 1.1)\n",
    "print(binarizer.fit_transform(X))"
   ]
  },
  {
   "cell_type": "code",
   "execution_count": 67,
   "metadata": {},
   "outputs": [
    {
     "name": "stdout",
     "output_type": "stream",
     "text": [
      "Help on class Binarizer in module sklearn.preprocessing._data:\n",
      "\n",
      "class Binarizer(sklearn.base.TransformerMixin, sklearn.base.BaseEstimator)\n",
      " |  Binarizer(*, threshold=0.0, copy=True)\n",
      " |  \n",
      " |  Binarize data (set feature values to 0 or 1) according to a threshold\n",
      " |  \n",
      " |  Values greater than the threshold map to 1, while values less than\n",
      " |  or equal to the threshold map to 0. With the default threshold of 0,\n",
      " |  only positive values map to 1.\n",
      " |  \n",
      " |  Binarization is a common operation on text count data where the\n",
      " |  analyst can decide to only consider the presence or absence of a\n",
      " |  feature rather than a quantified number of occurrences for instance.\n",
      " |  \n",
      " |  It can also be used as a pre-processing step for estimators that\n",
      " |  consider boolean random variables (e.g. modelled using the Bernoulli\n",
      " |  distribution in a Bayesian setting).\n",
      " |  \n",
      " |  Read more in the :ref:`User Guide <preprocessing_binarization>`.\n",
      " |  \n",
      " |  Parameters\n",
      " |  ----------\n",
      " |  threshold : float, optional (0.0 by default)\n",
      " |      Feature values below or equal to this are replaced by 0, above it by 1.\n",
      " |      Threshold may not be less than 0 for operations on sparse matrices.\n",
      " |  \n",
      " |  copy : boolean, optional, default True\n",
      " |      set to False to perform inplace binarization and avoid a copy (if\n",
      " |      the input is already a numpy array or a scipy.sparse CSR matrix).\n",
      " |  \n",
      " |  Examples\n",
      " |  --------\n",
      " |  >>> from sklearn.preprocessing import Binarizer\n",
      " |  >>> X = [[ 1., -1.,  2.],\n",
      " |  ...      [ 2.,  0.,  0.],\n",
      " |  ...      [ 0.,  1., -1.]]\n",
      " |  >>> transformer = Binarizer().fit(X)  # fit does nothing.\n",
      " |  >>> transformer\n",
      " |  Binarizer()\n",
      " |  >>> transformer.transform(X)\n",
      " |  array([[1., 0., 1.],\n",
      " |         [1., 0., 0.],\n",
      " |         [0., 1., 0.]])\n",
      " |  \n",
      " |  Notes\n",
      " |  -----\n",
      " |  If the input is a sparse matrix, only the non-zero values are subject\n",
      " |  to update by the Binarizer class.\n",
      " |  \n",
      " |  This estimator is stateless (besides constructor parameters), the\n",
      " |  fit method does nothing but is useful when used in a pipeline.\n",
      " |  \n",
      " |  See also\n",
      " |  --------\n",
      " |  binarize: Equivalent function without the estimator API.\n",
      " |  \n",
      " |  Method resolution order:\n",
      " |      Binarizer\n",
      " |      sklearn.base.TransformerMixin\n",
      " |      sklearn.base.BaseEstimator\n",
      " |      builtins.object\n",
      " |  \n",
      " |  Methods defined here:\n",
      " |  \n",
      " |  __init__(self, *, threshold=0.0, copy=True)\n",
      " |      Initialize self.  See help(type(self)) for accurate signature.\n",
      " |  \n",
      " |  fit(self, X, y=None)\n",
      " |      Do nothing and return the estimator unchanged\n",
      " |      \n",
      " |      This method is just there to implement the usual API and hence\n",
      " |      work in pipelines.\n",
      " |      \n",
      " |      Parameters\n",
      " |      ----------\n",
      " |      X : array-like\n",
      " |  \n",
      " |  transform(self, X, copy=None)\n",
      " |      Binarize each element of X\n",
      " |      \n",
      " |      Parameters\n",
      " |      ----------\n",
      " |      X : {array-like, sparse matrix}, shape [n_samples, n_features]\n",
      " |          The data to binarize, element by element.\n",
      " |          scipy.sparse matrices should be in CSR format to avoid an\n",
      " |          un-necessary copy.\n",
      " |      \n",
      " |      copy : bool\n",
      " |          Copy the input X or not.\n",
      " |  \n",
      " |  ----------------------------------------------------------------------\n",
      " |  Methods inherited from sklearn.base.TransformerMixin:\n",
      " |  \n",
      " |  fit_transform(self, X, y=None, **fit_params)\n",
      " |      Fit to data, then transform it.\n",
      " |      \n",
      " |      Fits transformer to X and y with optional parameters fit_params\n",
      " |      and returns a transformed version of X.\n",
      " |      \n",
      " |      Parameters\n",
      " |      ----------\n",
      " |      X : {array-like, sparse matrix, dataframe} of shape                 (n_samples, n_features)\n",
      " |      \n",
      " |      y : ndarray of shape (n_samples,), default=None\n",
      " |          Target values.\n",
      " |      \n",
      " |      **fit_params : dict\n",
      " |          Additional fit parameters.\n",
      " |      \n",
      " |      Returns\n",
      " |      -------\n",
      " |      X_new : ndarray array of shape (n_samples, n_features_new)\n",
      " |          Transformed array.\n",
      " |  \n",
      " |  ----------------------------------------------------------------------\n",
      " |  Data descriptors inherited from sklearn.base.TransformerMixin:\n",
      " |  \n",
      " |  __dict__\n",
      " |      dictionary for instance variables (if defined)\n",
      " |  \n",
      " |  __weakref__\n",
      " |      list of weak references to the object (if defined)\n",
      " |  \n",
      " |  ----------------------------------------------------------------------\n",
      " |  Methods inherited from sklearn.base.BaseEstimator:\n",
      " |  \n",
      " |  __getstate__(self)\n",
      " |  \n",
      " |  __repr__(self, N_CHAR_MAX=700)\n",
      " |      Return repr(self).\n",
      " |  \n",
      " |  __setstate__(self, state)\n",
      " |  \n",
      " |  get_params(self, deep=True)\n",
      " |      Get parameters for this estimator.\n",
      " |      \n",
      " |      Parameters\n",
      " |      ----------\n",
      " |      deep : bool, default=True\n",
      " |          If True, will return the parameters for this estimator and\n",
      " |          contained subobjects that are estimators.\n",
      " |      \n",
      " |      Returns\n",
      " |      -------\n",
      " |      params : mapping of string to any\n",
      " |          Parameter names mapped to their values.\n",
      " |  \n",
      " |  set_params(self, **params)\n",
      " |      Set the parameters of this estimator.\n",
      " |      \n",
      " |      The method works on simple estimators as well as on nested objects\n",
      " |      (such as pipelines). The latter have parameters of the form\n",
      " |      ``<component>__<parameter>`` so that it's possible to update each\n",
      " |      component of a nested object.\n",
      " |      \n",
      " |      Parameters\n",
      " |      ----------\n",
      " |      **params : dict\n",
      " |          Estimator parameters.\n",
      " |      \n",
      " |      Returns\n",
      " |      -------\n",
      " |      self : object\n",
      " |          Estimator instance.\n",
      "\n"
     ]
    }
   ],
   "source": [
    "help(Binarizer)"
   ]
  },
  {
   "cell_type": "markdown",
   "metadata": {},
   "source": [
    "### Binarizer클래스를 이용한 사이킷런의 예측 코드 작성\n",
    "* 임계치 0.5, 0.4"
   ]
  },
  {
   "cell_type": "markdown",
   "metadata": {},
   "source": [
    "### fit() -> transform()"
   ]
  },
  {
   "cell_type": "code",
   "execution_count": 77,
   "metadata": {},
   "outputs": [
    {
     "name": "stdout",
     "output_type": "stream",
     "text": [
      "오차 행렬\n",
      "[[105  13]\n",
      " [ 12  49]]\n",
      "정확도 : 0.8603, 정밀도 : 0.7903, 재현율 : 0.7903\n"
     ]
    }
   ],
   "source": [
    "from sklearn.preprocessing import Binarizer\n",
    "\n",
    "# Binarizer의 threshold 설정값, 분류결정 임계값\n",
    "custom_threshold = 0.5\n",
    "\n",
    "# predict_proba() 반환값의 두번째 컬럼. 즉, Positive클래스 칼람 하나만 추출해 Binarizer클래스 적용\n",
    "pred_proba_1 = pred_proba[:, 1].reshape(-1, 1)\n",
    "binarizer1 = Binarizer(threshold = custom_threshold).fit(pred_proba_1)\n",
    "custom_predict = binarizer1.transform(pred_proba_1)\n",
    "\n",
    "get_clf_eval(y_test, custom_predict)"
   ]
  },
  {
   "cell_type": "markdown",
   "metadata": {},
   "source": [
    "### fit_transform()"
   ]
  },
  {
   "cell_type": "code",
   "execution_count": 78,
   "metadata": {},
   "outputs": [
    {
     "name": "stdout",
     "output_type": "stream",
     "text": [
      "오차 행렬\n",
      "[[105  13]\n",
      " [ 12  49]]\n",
      "정확도 : 0.8603, 정밀도 : 0.7903, 재현율 : 0.7903\n"
     ]
    }
   ],
   "source": [
    "from sklearn.preprocessing import Binarizer\n",
    "\n",
    "custom_threshold = 0.5\n",
    "pred_proba_1 = pred_proba[:, 1].reshape(-1, 1)\n",
    "\n",
    "binarizer2 = Binarizer(threshold = custom_threshold)\n",
    "custom_predict = binarizer2.fit_transform(pred_proba_1)\n",
    "\n",
    "get_clf_eval(y_test, custom_predict)"
   ]
  },
  {
   "cell_type": "markdown",
   "metadata": {},
   "source": [
    "### 임계치를 0.4로 변경"
   ]
  },
  {
   "cell_type": "code",
   "execution_count": 84,
   "metadata": {},
   "outputs": [],
   "source": []
  },
  {
   "cell_type": "code",
   "execution_count": 85,
   "metadata": {},
   "outputs": [
    {
     "name": "stdout",
     "output_type": "stream",
     "text": [
      "오차 행렬\n",
      "[[103  15]\n",
      " [ 11  50]]\n",
      "정확도 : 0.8547, 정밀도 : 0.7692, 재현율 : 0.7692\n"
     ]
    }
   ],
   "source": [
    "custom_threshold = 0.4\n",
    "pred_proba_1 = pred_proba[:,1].reshape(-1, 1)\n",
    "binarizer04 = Binarizer(threshold = custom_threshold)\n",
    "binarizer04.fit(pred_proba_1)\n",
    "custom_predict = binarizer04.transform(pred_proba_1)\n",
    "\n",
    "get_clf_eval(y_test, custom_predict)"
   ]
  },
  {
   "cell_type": "markdown",
   "metadata": {},
   "source": [
    "**분류결정 임계값**을 낮추면 True가 많아지게 되므로 정밀도는 떨어지고 재현율은 높아진다."
   ]
  },
  {
   "cell_type": "markdown",
   "metadata": {},
   "source": [
    "### 임계치를 통한 평가지표 조사"
   ]
  },
  {
   "cell_type": "code",
   "execution_count": 86,
   "metadata": {},
   "outputs": [
    {
     "name": "stdout",
     "output_type": "stream",
     "text": [
      "임계값 :  0.4\n",
      "오차 행렬\n",
      "[[103  15]\n",
      " [ 11  50]]\n",
      "정확도 : 0.8547, 정밀도 : 0.7692, 재현율 : 0.7692\n",
      "임계값 :  0.45\n",
      "오차 행렬\n",
      "[[103  15]\n",
      " [ 11  50]]\n",
      "정확도 : 0.8547, 정밀도 : 0.7692, 재현율 : 0.7692\n",
      "임계값 :  0.5\n",
      "오차 행렬\n",
      "[[103  15]\n",
      " [ 11  50]]\n",
      "정확도 : 0.8547, 정밀도 : 0.7692, 재현율 : 0.7692\n",
      "임계값 :  0.55\n",
      "오차 행렬\n",
      "[[103  15]\n",
      " [ 11  50]]\n",
      "정확도 : 0.8547, 정밀도 : 0.7692, 재현율 : 0.7692\n",
      "임계값 :  0.6\n",
      "오차 행렬\n",
      "[[103  15]\n",
      " [ 11  50]]\n",
      "정확도 : 0.8547, 정밀도 : 0.7692, 재현율 : 0.7692\n"
     ]
    }
   ],
   "source": [
    "thresholds = [0.4, 0.45, 0.50, 0.55, 0.60]\n",
    "\n",
    "def get_eval_by_threshold(y_test, pred_proba_c1, threshold):\n",
    "    \"\"\"\n",
    "    threshold list객체 내의 값을 차례로 iteration하면서\n",
    "    Evaluation수행\n",
    "    \"\"\"\n",
    "    for custom_threshold in thresholds:\n",
    "        binarizerT = Binarizer(threshold = customer_threshold).fit(pred_proba_c1)\n",
    "        custom_predict = binarizerT.transform(pred_proba_c1)\n",
    "        print(\"임계값 : \", custom_threshold)\n",
    "        get_clf_eval(y_test, custom_predict)\n",
    "        \n",
    "get_eval_by_threshold(y_test, pred_proba[:,1].reshape(-1,1), thresholds)        "
   ]
  },
  {
   "cell_type": "markdown",
   "metadata": {},
   "source": [
    "### Precision_recall_curve()를 이용해 타이타닉 예측모델의 임계값별 정밀도와 재현율 비교"
   ]
  },
  {
   "cell_type": "code",
   "execution_count": 97,
   "metadata": {},
   "outputs": [
    {
     "name": "stdout",
     "output_type": "stream",
     "text": [
      "반환된 분류 결정 임계값 배열의 Shape : (155,)\n",
      "반환된 임계값별 정밀도  [0.36094675 0.35714286 0.35928144]\n",
      "반환된 임계값별 재연률  [1.         0.98360656 0.98360656]\n",
      "<class 'numpy.ndarray'>\n",
      "\n",
      "샘츨 추출을 위한 임계값 배열의 index 20개  [  0  20  40  60  80 100 120 140]\n",
      "\n",
      "샘플 20개의 임계값 : [0.09 0.14 0.15 0.21 0.32 0.57 0.68 0.88]\n",
      "\n",
      " 샘플 임계값별 정밀도 : [0.36 0.4  0.48 0.56 0.68 0.81 0.94 0.94]\n",
      "\n",
      " 샘플 임계값별 재현률 : [1.   0.97 0.93 0.9  0.85 0.75 0.56 0.25]\n"
     ]
    }
   ],
   "source": [
    "from sklearn.metrics import precision_recall_curve\n",
    "\n",
    "# 레이블 값이 1일 때의 예측확률을 추출\n",
    "pred_proba_class1 = lr_clf.predict_proba(X_test)[:,1]\n",
    "\n",
    "# 실제값 데이터 세트와 레이블 값이 1일 때의 예측 확률을 precision_recall_curve()인자로 입력\n",
    "precision, recall, thresholds  = precision_recall_curve(y_test, pred_proba_class1)\n",
    "\n",
    "print(\"반환된 분류 결정 임계값 배열의 Shape :\", thresholds.shape)\n",
    "print(\"반환된 임계값별 정밀도 \", precision[:3])\n",
    "print(\"반환된 임계값별 재연률 \", recall[:3])\n",
    "print(type(thresholds))\n",
    "# 반횐된 임계값 배열 로우가 155이므로 샘플로 20건만 추출하되, 임계값을 20step로 추출 \n",
    "thr_index = np.arange(0,  thresholds.shape[0], 20)\n",
    "\n",
    "print(\"\\n샘츨 추출을 위한 임계값 배열의 index 20개 \", thr_index)\n",
    "print(\"\\n샘플 20개의 임계값 :\", np.round(thresholds[thr_index], 2))\n",
    "\n",
    "# 20step 단위로 추출된 임계값에 따른 정밀도 재현율 값\n",
    "print(\"\\n 샘플 임계값별 정밀도 :\", np.round(precision[thr_index], 2))\n",
    "print(\"\\n 샘플 임계값별 재현률 :\", np.round(recall[thr_index], 2))"
   ]
  },
  {
   "cell_type": "markdown",
   "metadata": {},
   "source": [
    "**위에서 보는 바와 같이 임계값이 증가할수록 정밀도는 높아지나, 재현률은 낮아짐을 보인다.**"
   ]
  },
  {
   "cell_type": "code",
   "execution_count": 35,
   "metadata": {},
   "outputs": [
    {
     "name": "stdout",
     "output_type": "stream",
     "text": [
      "Help on function precision_recall_curve in module sklearn.metrics._ranking:\n",
      "\n",
      "precision_recall_curve(y_true, probas_pred, *, pos_label=None, sample_weight=None)\n",
      "    Compute precision-recall pairs for different probability thresholds\n",
      "    \n",
      "    Note: this implementation is restricted to the binary classification task.\n",
      "    \n",
      "    The precision is the ratio ``tp / (tp + fp)`` where ``tp`` is the number of\n",
      "    true positives and ``fp`` the number of false positives. The precision is\n",
      "    intuitively the ability of the classifier not to label as positive a sample\n",
      "    that is negative.\n",
      "    \n",
      "    The recall is the ratio ``tp / (tp + fn)`` where ``tp`` is the number of\n",
      "    true positives and ``fn`` the number of false negatives. The recall is\n",
      "    intuitively the ability of the classifier to find all the positive samples.\n",
      "    \n",
      "    The last precision and recall values are 1. and 0. respectively and do not\n",
      "    have a corresponding threshold.  This ensures that the graph starts on the\n",
      "    y axis.\n",
      "    \n",
      "    Read more in the :ref:`User Guide <precision_recall_f_measure_metrics>`.\n",
      "    \n",
      "    Parameters\n",
      "    ----------\n",
      "    y_true : array, shape = [n_samples]\n",
      "        True binary labels. If labels are not either {-1, 1} or {0, 1}, then\n",
      "        pos_label should be explicitly given.\n",
      "    \n",
      "    probas_pred : array, shape = [n_samples]\n",
      "        Estimated probabilities or decision function.\n",
      "    \n",
      "    pos_label : int or str, default=None\n",
      "        The label of the positive class.\n",
      "        When ``pos_label=None``, if y_true is in {-1, 1} or {0, 1},\n",
      "        ``pos_label`` is set to 1, otherwise an error will be raised.\n",
      "    \n",
      "    sample_weight : array-like of shape (n_samples,), default=None\n",
      "        Sample weights.\n",
      "    \n",
      "    Returns\n",
      "    -------\n",
      "    precision : array, shape = [n_thresholds + 1]\n",
      "        Precision values such that element i is the precision of\n",
      "        predictions with score >= thresholds[i] and the last element is 1.\n",
      "    \n",
      "    recall : array, shape = [n_thresholds + 1]\n",
      "        Decreasing recall values such that element i is the recall of\n",
      "        predictions with score >= thresholds[i] and the last element is 0.\n",
      "    \n",
      "    thresholds : array, shape = [n_thresholds <= len(np.unique(probas_pred))]\n",
      "        Increasing thresholds on the decision function used to compute\n",
      "        precision and recall.\n",
      "    \n",
      "    See also\n",
      "    --------\n",
      "    average_precision_score : Compute average precision from prediction scores\n",
      "    \n",
      "    roc_curve : Compute Receiver operating characteristic (ROC) curve\n",
      "    \n",
      "    Examples\n",
      "    --------\n",
      "    >>> import numpy as np\n",
      "    >>> from sklearn.metrics import precision_recall_curve\n",
      "    >>> y_true = np.array([0, 0, 1, 1])\n",
      "    >>> y_scores = np.array([0.1, 0.4, 0.35, 0.8])\n",
      "    >>> precision, recall, thresholds = precision_recall_curve(\n",
      "    ...     y_true, y_scores)\n",
      "    >>> precision\n",
      "    array([0.66666667, 0.5       , 1.        , 1.        ])\n",
      "    >>> recall\n",
      "    array([1. , 0.5, 0.5, 0. ])\n",
      "    >>> thresholds\n",
      "    array([0.35, 0.4 , 0.8 ])\n",
      "\n"
     ]
    }
   ],
   "source": [
    "help(precision_recall_curve)"
   ]
  },
  {
   "cell_type": "markdown",
   "metadata": {},
   "source": [
    "### 정밀도 재현율 곡선 시각화"
   ]
  },
  {
   "cell_type": "code",
   "execution_count": 100,
   "metadata": {},
   "outputs": [
    {
     "data": {
      "text/plain": [
       "(0.0, 1.0)"
      ]
     },
     "execution_count": 100,
     "metadata": {},
     "output_type": "execute_result"
    },
    {
     "data": {
      "image/png": "[encoded data removed]",
      "text/plain": [
       "<Figure size 432x288 with 1 Axes>"
      ]
     },
     "metadata": {
      "needs_background": "light"
     },
     "output_type": "display_data"
    }
   ],
   "source": [
    "plt.xlim()  # 시작값: 0.0, 종료값 : 1.0을 갖는 그림을 그림.현재의 눈금을 리턴"
   ]
  },
  {
   "cell_type": "code",
   "execution_count": 102,
   "metadata": {},
   "outputs": [
    {
     "data": {
      "text/plain": [
       "(0.0, 10.0)"
      ]
     },
     "execution_count": 102,
     "metadata": {},
     "output_type": "execute_result"
    },
    {
     "data": {
      "image/png": "[encoded data removed]",
      "text/plain": [
       "<Figure size 432x288 with 1 Axes>"
      ]
     },
     "metadata": {
      "needs_background": "light"
     },
     "output_type": "display_data"
    }
   ],
   "source": [
    "plt.xlim(0, 10)  # 이렇게 값을 지정할수도 있다. \n",
    "plt.ylim(0, 10)"
   ]
  },
  {
   "cell_type": "code",
   "execution_count": 107,
   "metadata": {},
   "outputs": [
    {
     "data": {
      "image/png": "[encoded data removed]",
      "text/plain": [
       "<Figure size 576x432 with 1 Axes>"
      ]
     },
     "metadata": {
      "needs_background": "light"
     },
     "output_type": "display_data"
    }
   ],
   "source": [
    "import matplotlib.pyplot as plt\n",
    "import matplotlib.ticker as ticker\n",
    "%matplotlib inline\n",
    "\n",
    "def precision_recall_curver_plot(y_test, pred_proba_c1):\n",
    "    # threshold ndarray와 threshold에 따른 정밀도, 재현율 ndarray추출\n",
    "    precisions, recalls, thresholds = precision_recall_curve(y_test, pred_proba_c1)\n",
    "    \n",
    "    # X축을 threshold값으로 ,Y축은 정밀도, 재현율값으로 각각 plot수행, 정밀도 점선으로 표시\n",
    "    plt.figure(figsize = (8, 6))\n",
    "    threshold_boundary = thresholds.shape[0]\n",
    "    \n",
    "    plt.plot(thresholds, precisions[0:threshold_boundary], linestyle = '-', label = '정밀도')\n",
    "    plt.plot(thresholds, recalls[0:threshold_boundary], linestyle = 'dotted', label = '재현율')\n",
    "    \n",
    "    # threshold값 X축의 Scale을 0.1단위로 변경\n",
    "    start, end = plt.xlim()\n",
    "    plt.xticks(np.round(np.arange(start, end, 0.1), 2))\n",
    "    plt.legend();plt.grid()\n",
    "    plt.show()\n",
    "    \n",
    "precision_recall_curver_plot(y_test, lr_clf.predict_proba(X_test)[:,1])"
   ]
  },
  {
   "cell_type": "markdown",
   "metadata": {},
   "source": [
    "#### 임계값이 낮을수록 많은 수의 양성 예측으로 인해 재현율이 극도록 높아짐.\n",
    "#### 정밀도 값이 극히 낮아짐.\n",
    "#### 임계값을 계속 증가시킬수록 재현율이  계속 낮아지고, 정밀도는 증가함. 임계값은 마지노선의 의미이다."
   ]
  },
  {
   "cell_type": "markdown",
   "metadata": {},
   "source": [
    "## 04. F1 스코어\n",
    "* F1 스코어는 정밀도와 재현율을 결합한 지표\n",
    "* F1 = 2 * ((precision * recall)/ (precision + recall))"
   ]
  },
  {
   "cell_type": "code",
   "execution_count": 115,
   "metadata": {},
   "outputs": [
    {
     "name": "stdout",
     "output_type": "stream",
     "text": [
      "F1 스코어 : 0.7967\n"
     ]
    }
   ],
   "source": [
    "# 로지스틱회귀 기반으로 타이타닉 생존자 예측치\n",
    "from sklearn.metrics import f1_score\n",
    "f1 = f1_score(y_test, pred)\n",
    "print(\"F1 스코어 : {0:.4f}\".format(f1))"
   ]
  },
  {
   "cell_type": "markdown",
   "metadata": {},
   "source": [
    "### 임계값별 정확도 ,정밀도, 재현율, F1스코어보기"
   ]
  },
  {
   "cell_type": "code",
   "execution_count": 119,
   "metadata": {},
   "outputs": [
    {
     "name": "stdout",
     "output_type": "stream",
     "text": [
      "임계값 :  0.4\n",
      "오차 행렬\n",
      "[[103  15]\n",
      " [ 11  50]]\n",
      "정확도 : 0.8547, 정밀도 : 0.7692, 재현율 : 0.7692, F1 스코어 : 0.7937\n",
      "임계값 :  0.45\n",
      "오차 행렬\n",
      "[[103  15]\n",
      " [ 11  50]]\n",
      "정확도 : 0.8547, 정밀도 : 0.7692, 재현율 : 0.7692, F1 스코어 : 0.7937\n",
      "임계값 :  0.5\n",
      "오차 행렬\n",
      "[[103  15]\n",
      " [ 11  50]]\n",
      "정확도 : 0.8547, 정밀도 : 0.7692, 재현율 : 0.7692, F1 스코어 : 0.7937\n",
      "임계값 :  0.55\n",
      "오차 행렬\n",
      "[[103  15]\n",
      " [ 11  50]]\n",
      "정확도 : 0.8547, 정밀도 : 0.7692, 재현율 : 0.7692, F1 스코어 : 0.7937\n",
      "임계값 :  0.6\n",
      "오차 행렬\n",
      "[[103  15]\n",
      " [ 11  50]]\n",
      "정확도 : 0.8547, 정밀도 : 0.7692, 재현율 : 0.7692, F1 스코어 : 0.7937\n"
     ]
    }
   ],
   "source": [
    "thresholds = [0.4, 0.45, 0.50, 0.55, 0.60]\n",
    "pred_proba = lr_clf.predict_proba(X_test)\n",
    "get_eval_by_threshold(y_test, pred_proba[:,1].reshape(-1,1), thresholds)  "
   ]
  },
  {
   "cell_type": "markdown",
   "metadata": {},
   "source": [
    "## 05. ROC곡선과 AUC\n",
    "* ROC곡선과 이에 기반한 AUC스코어는 이진 분류의 예측 성능 측정에서 중요하게 사용되는 지표\n",
    "* 사이킷런의 roc_curve() API이면 반환값은 FPR, TPR, 임계값이다."
   ]
  },
  {
   "cell_type": "markdown",
   "metadata": {},
   "source": [
    "#### roc_curve() 이용한 타이타닉 생존자 예측모델의 FPR, TPR, 임계값 구하기"
   ]
  },
  {
   "cell_type": "code",
   "execution_count": 123,
   "metadata": {},
   "outputs": [
    {
     "name": "stdout",
     "output_type": "stream",
     "text": [
      "샘플 추출을 위한 임계값 배열 인덱스 :  [ 1  6 11 16 21 26 31 36 41 46 51 56]\n",
      "샘플 인덱스로 추출한 임계값 :  [0.97 0.72 0.64 0.61 0.55 0.35 0.31 0.23 0.15 0.14 0.14 0.09]\n",
      "\n",
      "샘플 임계값 FPR :  [0.    0.017 0.042 0.068 0.093 0.186 0.212 0.305 0.551 0.636 0.695 0.915]\n",
      "샘플 임계값 TPR :  [0.016 0.492 0.59  0.672 0.787 0.82  0.869 0.902 0.934 0.951 0.967 1.   ]\n"
     ]
    }
   ],
   "source": [
    "from sklearn.metrics import roc_curve\n",
    "\n",
    "# 레이블 값이 1일때의 예측확률을 추출\n",
    "pred_proba_class1 = lr_clf.predict_proba(X_test)[:,1]\n",
    "\n",
    "fprs, tprs, thresholds = roc_curve(y_test, pred_proba_class1)\n",
    "\n",
    "#반환된 임계값 배열에서 샘플로 데이터를 추출하되, 임계값을 5 step으로 추출\n",
    "# thresholds[0]은 max(예측확률) + 로 임의설정됨, 이를 제외하기 위해 np.arange는 1부터 시작\n",
    "thr_index = np.arange(1, thresholds.shape[0], 5)\n",
    "\n",
    "print(\"샘플 추출을 위한 임계값 배열 인덱스 : \", thr_index)\n",
    "print(\"샘플 인덱스로 추출한 임계값 : \", np.round(thresholds[thr_index], 2))\n",
    "\n",
    "# 5 steps단위로 추출된 임계값에 따른 FPR, TPR\n",
    "print(\"\\n샘플 임계값 FPR : \", np.round(fprs[thr_index], 3))\n",
    "print(\"샘플 임계값 TPR : \", np.round(tprs[thr_index], 3))"
   ]
  },
  {
   "cell_type": "code",
   "execution_count": 121,
   "metadata": {},
   "outputs": [
    {
     "name": "stdout",
     "output_type": "stream",
     "text": [
      "Help on function roc_curve in module sklearn.metrics._ranking:\n",
      "\n",
      "roc_curve(y_true, y_score, *, pos_label=None, sample_weight=None, drop_intermediate=True)\n",
      "    Compute Receiver operating characteristic (ROC)\n",
      "    \n",
      "    Note: this implementation is restricted to the binary classification task.\n",
      "    \n",
      "    Read more in the :ref:`User Guide <roc_metrics>`.\n",
      "    \n",
      "    Parameters\n",
      "    ----------\n",
      "    \n",
      "    y_true : array, shape = [n_samples]\n",
      "        True binary labels. If labels are not either {-1, 1} or {0, 1}, then\n",
      "        pos_label should be explicitly given.\n",
      "    \n",
      "    y_score : array, shape = [n_samples]\n",
      "        Target scores, can either be probability estimates of the positive\n",
      "        class, confidence values, or non-thresholded measure of decisions\n",
      "        (as returned by \"decision_function\" on some classifiers).\n",
      "    \n",
      "    pos_label : int or str, default=None\n",
      "        The label of the positive class.\n",
      "        When ``pos_label=None``, if y_true is in {-1, 1} or {0, 1},\n",
      "        ``pos_label`` is set to 1, otherwise an error will be raised.\n",
      "    \n",
      "    sample_weight : array-like of shape (n_samples,), default=None\n",
      "        Sample weights.\n",
      "    \n",
      "    drop_intermediate : boolean, optional (default=True)\n",
      "        Whether to drop some suboptimal thresholds which would not appear\n",
      "        on a plotted ROC curve. This is useful in order to create lighter\n",
      "        ROC curves.\n",
      "    \n",
      "        .. versionadded:: 0.17\n",
      "           parameter *drop_intermediate*.\n",
      "    \n",
      "    Returns\n",
      "    -------\n",
      "    fpr : array, shape = [>2]\n",
      "        Increasing false positive rates such that element i is the false\n",
      "        positive rate of predictions with score >= thresholds[i].\n",
      "    \n",
      "    tpr : array, shape = [>2]\n",
      "        Increasing true positive rates such that element i is the true\n",
      "        positive rate of predictions with score >= thresholds[i].\n",
      "    \n",
      "    thresholds : array, shape = [n_thresholds]\n",
      "        Decreasing thresholds on the decision function used to compute\n",
      "        fpr and tpr. `thresholds[0]` represents no instances being predicted\n",
      "        and is arbitrarily set to `max(y_score) + 1`.\n",
      "    \n",
      "    See also\n",
      "    --------\n",
      "    roc_auc_score : Compute the area under the ROC curve\n",
      "    \n",
      "    Notes\n",
      "    -----\n",
      "    Since the thresholds are sorted from low to high values, they\n",
      "    are reversed upon returning them to ensure they correspond to both ``fpr``\n",
      "    and ``tpr``, which are sorted in reversed order during their calculation.\n",
      "    \n",
      "    References\n",
      "    ----------\n",
      "    .. [1] `Wikipedia entry for the Receiver operating characteristic\n",
      "            <https://en.wikipedia.org/wiki/Receiver_operating_characteristic>`_\n",
      "    \n",
      "    .. [2] Fawcett T. An introduction to ROC analysis[J]. Pattern Recognition\n",
      "           Letters, 2006, 27(8):861-874.\n",
      "    \n",
      "    Examples\n",
      "    --------\n",
      "    >>> import numpy as np\n",
      "    >>> from sklearn import metrics\n",
      "    >>> y = np.array([1, 1, 2, 2])\n",
      "    >>> scores = np.array([0.1, 0.4, 0.35, 0.8])\n",
      "    >>> fpr, tpr, thresholds = metrics.roc_curve(y, scores, pos_label=2)\n",
      "    >>> fpr\n",
      "    array([0. , 0. , 0.5, 0.5, 1. ])\n",
      "    >>> tpr\n",
      "    array([0. , 0.5, 0.5, 1. , 1. ])\n",
      "    >>> thresholds\n",
      "    array([1.8 , 0.8 , 0.4 , 0.35, 0.1 ])\n",
      "\n"
     ]
    }
   ],
   "source": [
    "help(roc_curve)"
   ]
  },
  {
   "cell_type": "markdown",
   "metadata": {},
   "source": [
    "### FPR변화에 따른 TPR변환 시각화"
   ]
  },
  {
   "cell_type": "code",
   "execution_count": 130,
   "metadata": {},
   "outputs": [
    {
     "data": {
      "image/png": "[encoded data removed]",
      "text/plain": [
       "<Figure size 720x576 with 1 Axes>"
      ]
     },
     "metadata": {
      "needs_background": "light"
     },
     "output_type": "display_data"
    }
   ],
   "source": [
    "def roc_curve_plot(y_test, pred_proba_c1):\n",
    "    # 임계값에 따른 FPR, TPR값을 반환받음\n",
    "    fprs, tprs, thresholds = roc_curve(y_test, pred_proba_c1)\n",
    "    \n",
    "    # ROC곡선을 그래프 곡선으로 긂.\n",
    "    plt.figure(figsize = (10, 8))\n",
    "    plt.plot(fprs, tprs, label = 'ROC')\n",
    "    \n",
    "    # 가운데 대각선을 그림.\n",
    "    plt.plot([0, 1], [0, 1], 'k--', label = 'Random')\n",
    "    \n",
    "    # FPR X축의 scale을 0.1단위로 변경, X, Y축명 설정등\n",
    "    start, end = plt.xlim()\n",
    "    plt.xticks(np.round(np.arange(start, end, 0.1), 2))\n",
    "    plt.xlim(0, 1)\n",
    "    plt.ylim(0, 1)\n",
    "    plt.xlabel(\"FPR(1 - Sensitivity)\"); plt.ylabel(\"TRR( Recall )\")\n",
    "    plt.legend()\n",
    "    plt.show()\n",
    "    \n",
    "#호출 \n",
    "roc_curve_plot(y_test, pred_proba[:,1])"
   ]
  },
  {
   "cell_type": "markdown",
   "metadata": {},
   "source": [
    "* ROC곡선 자체는 FPR과 TPR의 변화 값을 보는데 이용\n",
    "* 분류의 성능 지표로 사용되는것은 ROC곡선 면적에 기반의 AUC값으로 결정.\n",
    "* AUC(Area Under Curve)값은 ROC곡선 밑의 면적으로 구한것으로 일반적으로 1에 가까울수로고 좋은 수치입니다.\n",
    "* AUC 수치가 커지려면 FPR이 작은 상태애서 얼마나 큰 TPR을 얻을 수 있느냐가 관건입니다.\n",
    "* 가운데 직선에서 멀어지고 왼쪽 상단 모서리쪽으로 가파르게 곡선이 이동할수록 직사각형에 가까운 고건이 되어 면적이 1에 가까워지는 좋은 ROC AUC성능 수치를 얻게 됩니다. \n",
    "* 가운데 대각선은 랜덤수준(동전 던기지) 이진 분류 AUC값으로 0.5입니다.따라서 보통의 분류는 0.5 이상의 AUC값을 갖는다."
   ]
  },
  {
   "cell_type": "code",
   "execution_count": 142,
   "metadata": {},
   "outputs": [
    {
     "name": "stdout",
     "output_type": "stream",
     "text": [
      "[[105  13]\n",
      " [ 12  49]]\n",
      "정확도 :  0.8603\n",
      "정밀도 :  0.7903\n",
      "재현율 :  0.8033\n",
      "RCO AUC값 : 0.8953\n"
     ]
    }
   ],
   "source": [
    "from sklearn.metrics import accuracy_score, confusion_matrix, precision_score\n",
    "from sklearn.metrics import recall_score, f1_score, roc_auc_score\n",
    "\n",
    "print(confusion_matrix(y_test, pred))\n",
    "print(\"정확도 : \", np.round(accuracy_score(y_test, pred), 4))\n",
    "print(\"정밀도 : \", np.round(precision_score(y_test, pred), 4))\n",
    "print(\"재현율 : \", np.round(recall_score(y_test, pred), 4))\n",
    "\n",
    "pred_proba = lr_clf.predict_proba(X_test)[:,1]\n",
    "roc_score = roc_auc_score(y_test, pred_proba)\n",
    "print(\"RCO AUC값 : {0:.4f}\".format(roc_score))"
   ]
  },
  {
   "cell_type": "code",
   "execution_count": null,
   "metadata": {},
   "outputs": [],
   "source": []
  }
 ],
 "metadata": {
  "kernelspec": {
   "display_name": "Python 3",
   "language": "python",
   "name": "python3"
  },
  "language_info": {
   "codemirror_mode": {
    "name": "ipython",
    "version": 3
   },
   "file_extension": ".py",
   "mimetype": "text/x-python",
   "name": "python",
   "nbconvert_exporter": "python",
   "pygments_lexer": "ipython3",
   "version": "3.8.3"
  }
 },
 "nbformat": 4,
 "nbformat_minor": 4
}
