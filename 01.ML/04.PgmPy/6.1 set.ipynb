{
 "cells": [
  {
   "cell_type": "markdown",
   "metadata": {},
   "source": [
    "## 6.1 집합\n",
    "- 파이썬에서 집합을 사용하기 위해서는 <span style='color:red'>set자료형</span>과 <span style='color:red'>frozenset</span>을 알아야 함.\n",
    "- set자료형은 mutable(변경가능)한 집합\n",
    "- frozenset자료형은 immutable(변경불가)한 집합"
   ]
  },
  {
   "cell_type": "code",
   "execution_count": 3,
   "metadata": {},
   "outputs": [
    {
     "data": {
      "text/plain": [
       "{1, 2, 3}"
      ]
     },
     "execution_count": 3,
     "metadata": {},
     "output_type": "execute_result"
    }
   ],
   "source": [
    "A = set([1, 2, 3, 3, 2])  #집합은 중복을 허용하지 않음\n",
    "A"
   ]
  },
  {
   "cell_type": "code",
   "execution_count": 5,
   "metadata": {},
   "outputs": [
    {
     "data": {
      "text/plain": [
       "frozenset({'H', 'T'})"
      ]
     },
     "execution_count": 5,
     "metadata": {},
     "output_type": "execute_result"
    }
   ],
   "source": [
    "B = frozenset(['H', 'T'])\n",
    "B"
   ]
  },
  {
   "cell_type": "markdown",
   "metadata": {},
   "source": [
    "* set자료형은 `{}`기호를 사용해서 생성"
   ]
  },
  {
   "cell_type": "code",
   "execution_count": 8,
   "metadata": {},
   "outputs": [
    {
     "data": {
      "text/plain": [
       "{'♠', '♡', '♢', '♣'}"
      ]
     },
     "metadata": {},
     "output_type": "display_data"
    },
    {
     "data": {
      "text/plain": [
       "set"
      ]
     },
     "metadata": {},
     "output_type": "display_data"
    }
   ],
   "source": [
    "C = {'\\u2660', '\\u2661', '\\u2662', '\\u2663'}\n",
    "display(C, type(C))"
   ]
  },
  {
   "cell_type": "markdown",
   "metadata": {},
   "source": [
    "### 집합의 크기\n",
    "* 집합의 크기는 집합이 가지는 원소 수를 의미하며 $|A| 혹은 card\\$ 기호를 사용하여 나타낸다\n",
    "\n",
    "* $|A| = card(A) = 3\\$\n",
    "* 파이썬에서는 len명령을 사용하여 집합의 원소수를 구한다."
   ]
  },
  {
   "cell_type": "code",
   "execution_count": 10,
   "metadata": {},
   "outputs": [
    {
     "data": {
      "text/plain": [
       "(3, 2, 4)"
      ]
     },
     "execution_count": 10,
     "metadata": {},
     "output_type": "execute_result"
    }
   ],
   "source": [
    "len(A), len(B), len(C)"
   ]
  },
  {
   "cell_type": "markdown",
   "metadata": {},
   "source": [
    "### 합집합과 교집합"
   ]
  },
  {
   "cell_type": "code",
   "execution_count": 11,
   "metadata": {},
   "outputs": [],
   "source": [
    "A1 = set([1, 2, 3, 4])\n",
    "A2 = set([2, 4, 6])\n",
    "A3 = set([1, 2, 3])\n",
    "A4 = set([2, 3, 4, 5, 6])"
   ]
  },
  {
   "cell_type": "code",
   "execution_count": 15,
   "metadata": {},
   "outputs": [
    {
     "data": {
      "text/plain": [
       "{1, 2, 3, 4, 6}"
      ]
     },
     "metadata": {},
     "output_type": "display_data"
    },
    {
     "data": {
      "text/plain": [
       "{1, 2, 3, 4, 6}"
      ]
     },
     "metadata": {},
     "output_type": "display_data"
    }
   ],
   "source": [
    "# 합집합\n",
    "display(A1.union(A2), A1 | A2)"
   ]
  },
  {
   "cell_type": "code",
   "execution_count": 16,
   "metadata": {},
   "outputs": [
    {
     "data": {
      "text/plain": [
       "{2, 4}"
      ]
     },
     "metadata": {},
     "output_type": "display_data"
    },
    {
     "data": {
      "text/plain": [
       "{2, 4}"
      ]
     },
     "metadata": {},
     "output_type": "display_data"
    }
   ],
   "source": [
    "#교집합\n",
    "display(A1.intersection(A2), A1 & A2)"
   ]
  },
  {
   "cell_type": "markdown",
   "metadata": {},
   "source": [
    "### 전체집합, 부분집합, 여집합\n",
    "* 어떤 집합의 원소 중 일부분만을 포함하는 집합을 **부분집합subset**이라고 원래의 집합을 **전체집합**이라고 함\n",
    "* 원소의 크기가 더 작은 집합을 **진부분집합**이라고 함.\n",
    "* 파이썬에서는 두 집합이 부분집합의 관계인지를 판단하는 `issubset()`메소드가 있다."
   ]
  },
  {
   "cell_type": "code",
   "execution_count": 19,
   "metadata": {},
   "outputs": [
    {
     "data": {
      "text/plain": [
       "True"
      ]
     },
     "metadata": {},
     "output_type": "display_data"
    },
    {
     "data": {
      "text/plain": [
       "True"
      ]
     },
     "metadata": {},
     "output_type": "display_data"
    },
    {
     "data": {
      "text/plain": [
       "False"
      ]
     },
     "metadata": {},
     "output_type": "display_data"
    },
    {
     "data": {
      "text/plain": [
       "False"
      ]
     },
     "metadata": {},
     "output_type": "display_data"
    }
   ],
   "source": [
    "# A3가 A1의 부분집합인가?\n",
    "display(A3.issubset(A1), A3 <= A1)\n",
    "\n",
    "# A1이 A3의 부분집합인가?\n",
    "display(A1.issubset(A3), A1 <= A3)"
   ]
  },
  {
   "cell_type": "code",
   "execution_count": 21,
   "metadata": {},
   "outputs": [
    {
     "data": {
      "text/plain": [
       "True"
      ]
     },
     "execution_count": 21,
     "metadata": {},
     "output_type": "execute_result"
    }
   ],
   "source": [
    "# 그렇다면 자기 자신은 부분집합인가?\n",
    "A3.issubset(A3)"
   ]
  },
  {
   "cell_type": "markdown",
   "metadata": {},
   "source": [
    "### 차집합과 여집합\n",
    "* 어떤 집합 A에 속하면서 다른 집합 B에는 속하지 않는 원소로 이루어진 A의 부분집합을 A에서 B를 뺀 차집합difference라고 함.(A - B)\n",
    "* **전체집합 중에서 부분집합 A에서 속하지 않는 원소로만 이루어진 부분집합을 여집합** 이라고 함.\n",
    "* $A^C = 전체집합 - A \\$ \n",
    "* 파이썬에서는 `difference()` 메소드 혹은 `-`연산자로 차집합을 구함"
   ]
  },
  {
   "cell_type": "code",
   "execution_count": 23,
   "metadata": {},
   "outputs": [
    {
     "data": {
      "text/plain": [
       "{1, 3}"
      ]
     },
     "metadata": {},
     "output_type": "display_data"
    },
    {
     "data": {
      "text/plain": [
       "{1, 3}"
      ]
     },
     "metadata": {},
     "output_type": "display_data"
    }
   ],
   "source": [
    "display(A1.difference(A2), A1 - A2)"
   ]
  },
  {
   "cell_type": "markdown",
   "metadata": {},
   "source": [
    "### 공집합"
   ]
  },
  {
   "cell_type": "code",
   "execution_count": 26,
   "metadata": {},
   "outputs": [
    {
     "data": {
      "text/plain": [
       "set()"
      ]
     },
     "execution_count": 26,
     "metadata": {},
     "output_type": "execute_result"
    }
   ],
   "source": [
    "empty_set = set([])\n",
    "empty_set"
   ]
  },
  {
   "cell_type": "code",
   "execution_count": 30,
   "metadata": {},
   "outputs": [
    {
     "data": {
      "text/plain": [
       "(True, {1, 2, 3, 4})"
      ]
     },
     "execution_count": 30,
     "metadata": {},
     "output_type": "execute_result"
    }
   ],
   "source": [
    "empty_set < A1, empty_set.union(A1)"
   ]
  },
  {
   "cell_type": "markdown",
   "metadata": {},
   "source": [
    "### 연습문제 6.11\n",
    "* 가능한 모든 부분집합"
   ]
  },
  {
   "cell_type": "code",
   "execution_count": 31,
   "metadata": {},
   "outputs": [],
   "source": [
    "X = {'HH', 'HT', 'TH', 'TT'}"
   ]
  },
  {
   "cell_type": "code",
   "execution_count": 32,
   "metadata": {},
   "outputs": [],
   "source": [
    "X1 = {}\n",
    "X2 = {'HH'}\n",
    "X3 = {'HT'}\n",
    "X4 = {'TH'}\n",
    "X5 = {'TT'}\n",
    "X6 = {'HH', 'HT', 'TH', 'TT'}\n",
    "X8 = {'HH', 'HT'}\n",
    "X9 = {'HH', 'TH'}\n",
    "X10 = {'HH', 'TT'}\n",
    "X11 = {'HT', 'TH'}\n",
    "X12 = {'HT', 'TT'}\n",
    "X13 = {'TH', 'TT'}\n",
    "X14 = {'HH', 'HT', 'TH'}\n",
    "X15 = {'HH', 'HT', 'TT'}\n",
    "X16 = {'HT', 'TH', 'TT'}"
   ]
  },
  {
   "cell_type": "markdown",
   "metadata": {},
   "source": [
    "위의 부분집합의 갯수 : 16개"
   ]
  },
  {
   "cell_type": "markdown",
   "metadata": {},
   "source": [
    "* 위 집합의 모든 부분집합을 frozenset자료형 객체로 만들고  이 부분집합을 원소로 가지는 하나의 set객체를 만든다."
   ]
  },
  {
   "cell_type": "code",
   "execution_count": 43,
   "metadata": {},
   "outputs": [],
   "source": [
    "from itertools import chain, combinations\n",
    "\n",
    "omega = {'HH', 'HT', 'TH', 'TT'}"
   ]
  },
  {
   "cell_type": "code",
   "execution_count": 54,
   "metadata": {},
   "outputs": [
    {
     "data": {
      "text/plain": [
       "{frozenset(),\n",
       " frozenset({'HH', 'HT'}),\n",
       " frozenset({'HT', 'TT'}),\n",
       " frozenset({'HT', 'TH'}),\n",
       " frozenset({'HH', 'TH'}),\n",
       " frozenset({'HH', 'HT', 'TH'}),\n",
       " frozenset({'TT'}),\n",
       " frozenset({'TH', 'TT'}),\n",
       " frozenset({'HT', 'TH', 'TT'}),\n",
       " frozenset({'HH'}),\n",
       " frozenset({'HH', 'TT'}),\n",
       " frozenset({'HH', 'HT', 'TT'}),\n",
       " frozenset({'HH', 'TH', 'TT'}),\n",
       " frozenset({'HT'}),\n",
       " frozenset({'TH'})}"
      ]
     },
     "execution_count": 54,
     "metadata": {},
     "output_type": "execute_result"
    }
   ],
   "source": [
    "set([frozenset(s) for s in chain.from_iterable((combinations(omega, n) for n in range(len(omega)) ))])"
   ]
  },
  {
   "cell_type": "code",
   "execution_count": 36,
   "metadata": {},
   "outputs": [
    {
     "name": "stdout",
     "output_type": "stream",
     "text": [
      "Help on built-in function from_iterable:\n",
      "\n",
      "from_iterable(iterable, /) method of builtins.type instance\n",
      "    Alternative chain() constructor taking a single iterable argument that evaluates lazily.\n",
      "\n"
     ]
    }
   ],
   "source": [
    "help(chain.from_iterable)"
   ]
  },
  {
   "cell_type": "code",
   "execution_count": 38,
   "metadata": {},
   "outputs": [
    {
     "name": "stdout",
     "output_type": "stream",
     "text": [
      "Help on class combinations in module itertools:\n",
      "\n",
      "class combinations(builtins.object)\n",
      " |  combinations(iterable, r)\n",
      " |  \n",
      " |  Return successive r-length combinations of elements in the iterable.\n",
      " |  \n",
      " |  combinations(range(4), 3) --> (0,1,2), (0,1,3), (0,2,3), (1,2,3)\n",
      " |  \n",
      " |  Methods defined here:\n",
      " |  \n",
      " |  __getattribute__(self, name, /)\n",
      " |      Return getattr(self, name).\n",
      " |  \n",
      " |  __iter__(self, /)\n",
      " |      Implement iter(self).\n",
      " |  \n",
      " |  __next__(self, /)\n",
      " |      Implement next(self).\n",
      " |  \n",
      " |  __reduce__(...)\n",
      " |      Return state information for pickling.\n",
      " |  \n",
      " |  __setstate__(...)\n",
      " |      Set state information for unpickling.\n",
      " |  \n",
      " |  __sizeof__(...)\n",
      " |      Returns size in memory, in bytes.\n",
      " |  \n",
      " |  ----------------------------------------------------------------------\n",
      " |  Static methods defined here:\n",
      " |  \n",
      " |  __new__(*args, **kwargs) from builtins.type\n",
      " |      Create and return a new object.  See help(type) for accurate signature.\n",
      "\n"
     ]
    }
   ],
   "source": [
    "help(combinations)"
   ]
  },
  {
   "cell_type": "code",
   "execution_count": 55,
   "metadata": {},
   "outputs": [
    {
     "data": {
      "text/plain": [
       "[(0, 1, 2), (0, 1, 3), (0, 2, 3), (1, 2, 3)]"
      ]
     },
     "execution_count": 55,
     "metadata": {},
     "output_type": "execute_result"
    }
   ],
   "source": [
    "[r for r in combinations(range(4), 3)]    "
   ]
  },
  {
   "cell_type": "markdown",
   "metadata": {},
   "source": [
    "### 합집합과 교집합의 분배법칙\n",
    "* a * (b + c) = a * b + a * c"
   ]
  },
  {
   "cell_type": "code",
   "execution_count": 61,
   "metadata": {},
   "outputs": [
    {
     "data": {
      "text/plain": [
       "{1, 2, 3, 5}"
      ]
     },
     "metadata": {},
     "output_type": "display_data"
    },
    {
     "data": {
      "text/plain": [
       "{1, 2, 3, 5}"
      ]
     },
     "metadata": {},
     "output_type": "display_data"
    },
    {
     "name": "stdout",
     "output_type": "stream",
     "text": [
      "True\n"
     ]
    }
   ],
   "source": [
    "A = {1, 3, 5}\n",
    "B = {1, 2, 3}\n",
    "C = {2, 4, 6}\n",
    "\n",
    "D = A.union(B.intersection(C))\n",
    "display(D)\n",
    "\n",
    "E = (A.union(B)).intersection(A.union(C))\n",
    "display(E)\n",
    "\n",
    "print(D == E)"
   ]
  }
 ],
 "metadata": {
  "kernelspec": {
   "display_name": "Python 3",
   "language": "python",
   "name": "python3"
  },
  "language_info": {
   "codemirror_mode": {
    "name": "ipython",
    "version": 3
   },
   "file_extension": ".py",
   "mimetype": "text/x-python",
   "name": "python",
   "nbconvert_exporter": "python",
   "pygments_lexer": "ipython3",
   "version": "3.8.3"
  }
 },
 "nbformat": 4,
 "nbformat_minor": 4
}
