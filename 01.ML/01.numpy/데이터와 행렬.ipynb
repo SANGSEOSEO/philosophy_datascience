{
 "cells": [
  {
   "cell_type": "markdown",
   "metadata": {},
   "source": [
    "# 2.1 데이터와 행렬\n",
    "붓꽃 데이터를 통해 데이터 유형을 알아보자\n",
    "\n",
    "* scalar - 숫자 하나로 이루어진 데이터\n",
    "* 벡터 - 여러 숫자로 이루어진 데이터 레코드 \n",
    "* 행렬 - 이러한 벡터가 여러개로 이루어진 데이터 레코드 집합\n",
    "* 텐서 - 같은 크기의 행렬이 여러개 있는것.\n",
    "\n",
    "데이터 분석에서 많이 사용되는 붓꽃 데이터셋을 통해 데이터유형에 대해 알아보자.\n",
    "\n",
    "데이터는 통계학자 피셔(Fisher)의 연구 결과에서 나온 것이다. \n",
    "붓꽃 150송이에 대해 꽃받침의 길이, 꽃받침의 폭, 꽃잎의 길이, 꽃잎의 폭을 각각 측정한 것으로 150송이 중 50송이는 세토사(setosa)라는 종이고, 50송이는 베르시칼라(versicolor), 나머지 50송이는 버지니카(virginica)라는 종."
   ]
  },
  {
   "cell_type": "code",
   "execution_count": 1,
   "metadata": {},
   "outputs": [],
   "source": [
    "# 한글 폰트 설치 \n",
    "path = \"c:/Windows/Fonts/malgun.ttf\"\n",
    "from matplotlib import font_manager, rc\n",
    "\n",
    "font_name = font_manager.FontProperties(fname=path).get_name()\n",
    "rc('font', family=font_name)"
   ]
  },
  {
   "cell_type": "code",
   "execution_count": 2,
   "metadata": {},
   "outputs": [],
   "source": [
    "import numpy as np\n",
    "import pandas as pd\n",
    "import matplotlib.pyplot as plt"
   ]
  },
  {
   "cell_type": "code",
   "execution_count": 3,
   "metadata": {},
   "outputs": [],
   "source": [
    "from sklearn.datasets import load_iris"
   ]
  },
  {
   "cell_type": "code",
   "execution_count": 4,
   "metadata": {},
   "outputs": [],
   "source": [
    "font_list = [f.name for f in mpl.font_manager.fontManager.ttflist if f.name.startswith(\"M\")]        "
   ]
  },
  {
   "cell_type": "code",
   "execution_count": 5,
   "metadata": {},
   "outputs": [
    {
     "data": {
      "text/plain": [
       "dict_keys(['data', 'target', 'frame', 'target_names', 'DESCR', 'feature_names', 'filename'])"
      ]
     },
     "execution_count": 5,
     "metadata": {},
     "output_type": "execute_result"
    }
   ],
   "source": [
    "iris = load_iris()\n",
    "iris.keys()"
   ]
  },
  {
   "cell_type": "code",
   "execution_count": 6,
   "metadata": {},
   "outputs": [
    {
     "data": {
      "text/plain": [
       "array([5.1, 3.5, 1.4, 0.2])"
      ]
     },
     "execution_count": 6,
     "metadata": {},
     "output_type": "execute_result"
    }
   ],
   "source": [
    "iris.data[0, :]  # 첫번째 꽃의 데이터"
   ]
  },
  {
   "cell_type": "markdown",
   "metadata": {},
   "source": [
    "### 벡터\n",
    "* 벡터는 여러개의 숫자가 특정한 순서대로 모여있는것을 말함.\n",
    "* 예를 들어 , 붓꽃의 크기를 측정할때 , 꽃받침의 길이 $x_1$뿐만 아니라, 꽃받침의 폭 $x_2$ , 꽃잎의 길이 $x_3$, 꽃잎의 폭 $x_4$라는 4개의 숫자를 측정할 수 도 있다.이 데이터는 한 송이의 붓꽃에서 나온 데이터이므로 개별관리가 아닌 묶음(튜플)으로 관리가 되어야 한다.\n",
    "이때, 순서가 바뀌면 어떤 숫자가 꽃잎의 길이 혹은 폭인지 알수없므로 순서유지가 중요한 데이터 묶음이 필요하다. \n",
    "이를 선형대수에는 벡터로 표현하면 아래와 같다."
   ]
  },
  {
   "cell_type": "markdown",
   "metadata": {},
   "source": [
    "$x = \\begin{bmatrix}\n",
    "x_1 \\\\\n",
    "x_2\\\\\n",
    "x_3\\\\\n",
    "x_4\\\\\n",
    "\\end{bmatrix} $"
   ]
  },
  {
   "cell_type": "markdown",
   "metadata": {},
   "source": [
    "* 하나의 벡터를 이루는 갯수가 N개이면 **N차원 벡터**라고 한다."
   ]
  },
  {
   "cell_type": "markdown",
   "metadata": {},
   "source": [
    "$x = \\begin{bmatrix}\n",
    "x_1 \\\\\n",
    "x_2\\\\\n",
    "x_3\\\\\n",
    "x_4\\\\\n",
    "\\vdots\\\\\n",
    "x_N\\\\\n",
    "\\end{bmatrix} $"
   ]
  },
  {
   "cell_type": "markdown",
   "metadata": {},
   "source": [
    "### 특징벡터\n",
    "* **데이터벡터** 가 예측문제에서 입력데이터로 사용되면 특징벡터(feature vector)라고 함\n",
    "* 예를 들어, 붓꽃 표본 한 송이를 꺾어 측정하였더니 꽃받침 길이가 5.1cm, 꽃받침 폭이 3.5cm, 꽃잎 길이가 1.4cm, 꽃잎 폭이 0.2cm였다면 이 데이터 레코드를 $x_1$이라고 이름 붙이고 아래와 같이 표시한다."
   ]
  },
  {
   "cell_type": "markdown",
   "metadata": {},
   "source": [
    "$x_1 = \\begin{bmatrix}\n",
    "5.1 \\\\\n",
    "3.4\\\\\n",
    "1.4\\\\\n",
    "0.2\\\\\n",
    "\\end{bmatrix} $"
   ]
  },
  {
   "cell_type": "markdown",
   "metadata": {},
   "source": [
    "또 다른 붓꽃은 이렇게 표현할수있다."
   ]
  },
  {
   "cell_type": "markdown",
   "metadata": {},
   "source": [
    "$x_2 = \\begin{bmatrix}\n",
    "4.9 \\\\\n",
    "3.0\\\\\n",
    "1.4\\\\\n",
    "0.2\\\\\n",
    "\\end{bmatrix} $"
   ]
  },
  {
   "cell_type": "markdown",
   "metadata": {},
   "source": [
    "### 넘파이를 사용한 벡터 표현\n",
    "* 넘파이는 선형대수를 문제를 풀 때 사용하는 파이썬 패키ㅣ\n",
    "* 넘파이를 사용하여 벡터를 표현할때는 다음처럼 열의 갯수가 하나인 2차원 배열 객체로 표현한다.\n",
    "* 위에서 설명한 벡터의 차원은 원소의 갯수를 뜻한다.\n",
    "* 배열은 원소갯수가 몇개이든 한 줄로 나타낼수있다면 1차원 배열이라고 한다.원소를 가로와 세로가 있는 여러줄의 사각형으로 나타낼수 있다면 2차원 배열이라 한다."
   ]
  },
  {
   "cell_type": "code",
   "execution_count": 7,
   "metadata": {},
   "outputs": [
    {
     "data": {
      "text/plain": [
       "(4, 1)"
      ]
     },
     "metadata": {},
     "output_type": "display_data"
    },
    {
     "data": {
      "text/plain": [
       "2"
      ]
     },
     "metadata": {},
     "output_type": "display_data"
    }
   ],
   "source": [
    "x1 = np.array([[5.1],[3.5], [1.4], [0.2]])  # 2차원\n",
    "display(x1.shape, x1.ndim)"
   ]
  },
  {
   "cell_type": "code",
   "execution_count": 27,
   "metadata": {},
   "outputs": [
    {
     "data": {
      "text/plain": [
       "(4,)"
      ]
     },
     "metadata": {},
     "output_type": "display_data"
    },
    {
     "data": {
      "text/plain": [
       "array([5.1, 3.5, 1.4, 0.2])"
      ]
     },
     "metadata": {},
     "output_type": "display_data"
    },
    {
     "data": {
      "text/plain": [
       "1"
      ]
     },
     "metadata": {},
     "output_type": "display_data"
    }
   ],
   "source": [
    "x2 = np.array([5.1, 3.5, 1.4, 0.2])   # 1차원\n",
    "display(x2.shape, x2, x2.ndim)"
   ]
  },
  {
   "cell_type": "markdown",
   "metadata": {},
   "source": [
    "### 2.1.1 연습문제\n",
    "* 넘파이를 사용해서 붓꽃 데이터를 x2에 대한 벡터변수 x2를 만든다."
   ]
  },
  {
   "cell_type": "code",
   "execution_count": 28,
   "metadata": {},
   "outputs": [
    {
     "data": {
      "text/plain": [
       "array([[5.1],\n",
       "       [3.5],\n",
       "       [1.4],\n",
       "       [0.2]])"
      ]
     },
     "metadata": {},
     "output_type": "display_data"
    },
    {
     "data": {
      "text/plain": [
       "(4, 1)"
      ]
     },
     "metadata": {},
     "output_type": "display_data"
    },
    {
     "data": {
      "text/plain": [
       "2"
      ]
     },
     "metadata": {},
     "output_type": "display_data"
    }
   ],
   "source": [
    "x2 = np.array([[5.1], [3.5], [1.4] , [.2]])\n",
    "display(x2, x2.shape, x2.ndim)"
   ]
  },
  {
   "cell_type": "markdown",
   "metadata": {},
   "source": [
    "### MNIST숫자 이미지 데이터셋을 이용한 벡터 표현"
   ]
  },
  {
   "cell_type": "code",
   "execution_count": 30,
   "metadata": {},
   "outputs": [],
   "source": [
    "from sklearn.datasets import load_digits\n",
    "\n",
    "cmaps=['viridis', 'plasma', 'inferno', 'magma', 'cividis','Greys', 'Purples', 'Blues', 'Greens', 'Oranges',\n",
    "       'Reds','YlOrBr', 'YlOrRd', 'OrRd', 'PuRd', 'RdPu', 'BuPu','GnBu', 'PuBu', 'YlGnBu',\n",
    "       'PuBuGn', 'BuGn', 'YlGn','binary','gist_yarg', 'gist_gray', 'gray', 'bone', 'pink','spring',\n",
    "       'summer', 'autumn', 'winter', 'cool', 'Wistia', 'hot','afmhot', 'gist_heat', 'copper','PiYG',\n",
    "       'PRGn', 'BrBG', 'PuOr', 'RdGy', 'RdBu','RdYlBu', 'RdYlGn', 'Spectral','coolwarm', 'bwr',\n",
    "       'seismic','hsv','Pastel1', 'Pastel2', 'Paired', 'Accent','Dark2', 'Set1',\n",
    "       'Set2', 'Set3','tab10', 'tab20', 'tab20b', 'tab20c','flag', 'prism', 'ocean', 'gist_earth',\n",
    "       'terrain', 'gist_stern', 'gnuplot', 'gnuplot2', 'CMRmap', 'cubehelix', 'brg','gist_rainbow', 'rainbow', 'jet',\n",
    "       'nipy_spectral', 'gist_ncar']"
   ]
  },
  {
   "cell_type": "code",
   "execution_count": 33,
   "metadata": {},
   "outputs": [
    {
     "data": {
      "image/png": "[encoded data removed]",
      "text/plain": [
       "<Figure size 576x144 with 8 Axes>"
      ]
     },
     "metadata": {},
     "output_type": "display_data"
    }
   ],
   "source": [
    "digits = load_digits()\n",
    "\n",
    "samples = [0, 10, 20, 30, 1, 11, 21, 31]\n",
    "d = []\n",
    "\n",
    "for i in range(len(samples)):\n",
    "    d.append(digits.images[samples[i]])\n",
    "    \n",
    "plt.figure(figsize = (8, 2))\n",
    "for i in range(len(samples)):\n",
    "    plt.subplot(1, 8, i + 1)\n",
    "    plt.imshow(d[i], interpolation = 'nearest', cmap = cmaps[i])\n",
    "    plt.grid(False)\n",
    "    plt.xticks([]);plt.yticks([])\n",
    "    plt.title(\"image {}\".format(i + 1))\n",
    "plt.suptitle(\"숫자 0과 1 이미지\")\n",
    "plt.tight_layout()\n",
    "plt.show()"
   ]
  },
  {
   "cell_type": "code",
   "execution_count": 34,
   "metadata": {},
   "outputs": [
    {
     "data": {
      "text/plain": [
       "dict_keys(['data', 'target', 'frame', 'feature_names', 'target_names', 'images', 'DESCR'])"
      ]
     },
     "execution_count": 34,
     "metadata": {},
     "output_type": "execute_result"
    }
   ],
   "source": [
    "digits.keys()"
   ]
  },
  {
   "cell_type": "code",
   "execution_count": 35,
   "metadata": {
    "collapsed": true
   },
   "outputs": [
    {
     "data": {
      "text/plain": [
       "(['pixel_0_0',\n",
       "  'pixel_0_1',\n",
       "  'pixel_0_2',\n",
       "  'pixel_0_3',\n",
       "  'pixel_0_4',\n",
       "  'pixel_0_5',\n",
       "  'pixel_0_6',\n",
       "  'pixel_0_7',\n",
       "  'pixel_1_0',\n",
       "  'pixel_1_1',\n",
       "  'pixel_1_2',\n",
       "  'pixel_1_3',\n",
       "  'pixel_1_4',\n",
       "  'pixel_1_5',\n",
       "  'pixel_1_6',\n",
       "  'pixel_1_7',\n",
       "  'pixel_2_0',\n",
       "  'pixel_2_1',\n",
       "  'pixel_2_2',\n",
       "  'pixel_2_3',\n",
       "  'pixel_2_4',\n",
       "  'pixel_2_5',\n",
       "  'pixel_2_6',\n",
       "  'pixel_2_7',\n",
       "  'pixel_3_0',\n",
       "  'pixel_3_1',\n",
       "  'pixel_3_2',\n",
       "  'pixel_3_3',\n",
       "  'pixel_3_4',\n",
       "  'pixel_3_5',\n",
       "  'pixel_3_6',\n",
       "  'pixel_3_7',\n",
       "  'pixel_4_0',\n",
       "  'pixel_4_1',\n",
       "  'pixel_4_2',\n",
       "  'pixel_4_3',\n",
       "  'pixel_4_4',\n",
       "  'pixel_4_5',\n",
       "  'pixel_4_6',\n",
       "  'pixel_4_7',\n",
       "  'pixel_5_0',\n",
       "  'pixel_5_1',\n",
       "  'pixel_5_2',\n",
       "  'pixel_5_3',\n",
       "  'pixel_5_4',\n",
       "  'pixel_5_5',\n",
       "  'pixel_5_6',\n",
       "  'pixel_5_7',\n",
       "  'pixel_6_0',\n",
       "  'pixel_6_1',\n",
       "  'pixel_6_2',\n",
       "  'pixel_6_3',\n",
       "  'pixel_6_4',\n",
       "  'pixel_6_5',\n",
       "  'pixel_6_6',\n",
       "  'pixel_6_7',\n",
       "  'pixel_7_0',\n",
       "  'pixel_7_1',\n",
       "  'pixel_7_2',\n",
       "  'pixel_7_3',\n",
       "  'pixel_7_4',\n",
       "  'pixel_7_5',\n",
       "  'pixel_7_6',\n",
       "  'pixel_7_7'],\n",
       " array([0, 1, 2, 3, 4, 5, 6, 7, 8, 9]),\n",
       " \".. _digits_dataset:\\n\\nOptical recognition of handwritten digits dataset\\n--------------------------------------------------\\n\\n**Data Set Characteristics:**\\n\\n    :Number of Instances: 5620\\n    :Number of Attributes: 64\\n    :Attribute Information: 8x8 image of integer pixels in the range 0..16.\\n    :Missing Attribute Values: None\\n    :Creator: E. Alpaydin (alpaydin '@' boun.edu.tr)\\n    :Date: July; 1998\\n\\nThis is a copy of the test set of the UCI ML hand-written digits datasets\\nhttps://archive.ics.uci.edu/ml/datasets/Optical+Recognition+of+Handwritten+Digits\\n\\nThe data set contains images of hand-written digits: 10 classes where\\neach class refers to a digit.\\n\\nPreprocessing programs made available by NIST were used to extract\\nnormalized bitmaps of handwritten digits from a preprinted form. From a\\ntotal of 43 people, 30 contributed to the training set and different 13\\nto the test set. 32x32 bitmaps are divided into nonoverlapping blocks of\\n4x4 and the number of on pixels are counted in each block. This generates\\nan input matrix of 8x8 where each element is an integer in the range\\n0..16. This reduces dimensionality and gives invariance to small\\ndistortions.\\n\\nFor info on NIST preprocessing routines, see M. D. Garris, J. L. Blue, G.\\nT. Candela, D. L. Dimmick, J. Geist, P. J. Grother, S. A. Janet, and C.\\nL. Wilson, NIST Form-Based Handprint Recognition System, NISTIR 5469,\\n1994.\\n\\n.. topic:: References\\n\\n  - C. Kaynak (1995) Methods of Combining Multiple Classifiers and Their\\n    Applications to Handwritten Digit Recognition, MSc Thesis, Institute of\\n    Graduate Studies in Science and Engineering, Bogazici University.\\n  - E. Alpaydin, C. Kaynak (1998) Cascading Classifiers, Kybernetika.\\n  - Ken Tang and Ponnuthurai N. Suganthan and Xi Yao and A. Kai Qin.\\n    Linear dimensionalityreduction using relevance weighted LDA. School of\\n    Electrical and Electronic Engineering Nanyang Technological University.\\n    2005.\\n  - Claudio Gentile. A New Approximate Maximal Margin Classification\\n    Algorithm. NIPS. 2000.\")"
      ]
     },
     "execution_count": 35,
     "metadata": {},
     "output_type": "execute_result"
    }
   ],
   "source": [
    "digits.feature_names, digits.target_names, digits.DESCR"
   ]
  },
  {
   "cell_type": "code",
   "execution_count": 36,
   "metadata": {},
   "outputs": [
    {
     "data": {
      "text/plain": [
       "(1797, 8, 8)"
      ]
     },
     "execution_count": 36,
     "metadata": {},
     "output_type": "execute_result"
    }
   ],
   "source": [
    "digits.images.shape  # (1797, 8, 8)"
   ]
  },
  {
   "cell_type": "markdown",
   "metadata": {},
   "source": [
    "### 위의 2차원 이미지를 64크기의 1차원 벡터로 펼치면..\n",
    "* 같은 숫자에 대한 벡터가 서로 닮았다는 점에 유의."
   ]
  },
  {
   "cell_type": "code",
   "execution_count": 40,
   "metadata": {},
   "outputs": [
    {
     "data": {
      "text/plain": [
       "((8, 8), (8, 8))"
      ]
     },
     "execution_count": 40,
     "metadata": {},
     "output_type": "execute_result"
    }
   ],
   "source": [
    "d[0].shape, d[1].shape"
   ]
  },
  {
   "cell_type": "code",
   "execution_count": 52,
   "metadata": {},
   "outputs": [
    {
     "data": {
      "image/png": "[encoded data removed]",
      "text/plain": [
       "<Figure size 576x216 with 8 Axes>"
      ]
     },
     "metadata": {},
     "output_type": "display_data"
    }
   ],
   "source": [
    "v = []\n",
    "for i in range(len(samples)):\n",
    "    v.append(d[i].reshape(64, 1)) # 벡터화    \n",
    "             \n",
    "plt.figure(figsize = (8, 3))\n",
    "for i in range(len(samples)):\n",
    "     plt.subplot(1, 8, i + 1)\n",
    "     plt.imshow(v[i], aspect = 0.4, interpolation = 'nearest', cmap = cmaps[i])\n",
    "     plt.grid(False);plt.xticks([]);plt.yticks([])\n",
    "     plt.title(\"벡터 {}\".format(i + 1))\n",
    "plt.suptitle(\"벡터화된 이미지\", y = 1.05)\n",
    "plt.tight_layout()\n",
    "plt.show()          "
   ]
  },
  {
   "cell_type": "markdown",
   "metadata": {},
   "source": [
    "### 행렬\n",
    "* 행렬은 복수의 차원을 가지는 데이터 레코드가 다시 여러 개 있는 경우의 데이터를 합쳐서 표기한것\n",
    "* 예를 들어 앞서 말한 붓꽃 예에서 붓꽃 6송이에 대해 꽃잎과 꽃받침 크기를 측정했다면 4차원 붓꽃 데이터는 6개다. 즉, 4 * 6 = 24개의 실수 숫자가 있는 것.\n",
    "* 데이터를 행렬로 묶어서 표시할 때는 붓꽃 하나에 대한 데이터 레코드, 즉 **하나의 벡터가 열이 아닌 행으로 표시** 붓꽃의 예에서는 하나의 데이터 레코드가 4차원 데이터였다는 것을 기억.\n",
    "* **하나의 데이터 레코드를 단독으로 벡터로 나타낼 때는 하나의 열** 로 나타내고 **복수의 데이터 레코드 집합을 행렬로 나타낼 때는 하나의 데이터 레코드가 하나의 행** 으로 표기하는 것은 얼핏 보기엔 일관성이 없어보이지만 추후 다른 연산을 할때 이런 모양이 필요하기 때문이다."
   ]
  },
  {
   "cell_type": "code",
   "execution_count": 55,
   "metadata": {},
   "outputs": [
    {
     "data": {
      "text/plain": [
       "array([[11, 12, 13],\n",
       "       [21, 22, 23]])"
      ]
     },
     "execution_count": 55,
     "metadata": {},
     "output_type": "execute_result"
    }
   ],
   "source": [
    "A = np.array([[11, 12, 13], [21, 22, 23]])\n",
    "A"
   ]
  },
  {
   "cell_type": "code",
   "execution_count": 57,
   "metadata": {},
   "outputs": [
    {
     "data": {
      "text/plain": [
       "(2, 3)"
      ]
     },
     "metadata": {},
     "output_type": "display_data"
    },
    {
     "data": {
      "text/plain": [
       "2"
      ]
     },
     "metadata": {},
     "output_type": "display_data"
    }
   ],
   "source": [
    "display(A.shape, A.ndim)   # 2차원 행렬"
   ]
  },
  {
   "cell_type": "markdown",
   "metadata": {},
   "source": [
    "### 2.1.2 넘파이를 사용해 붓꽃 데이터 X에 대한 행렬변수 X를 만들자"
   ]
  },
  {
   "cell_type": "code",
   "execution_count": 15,
   "metadata": {},
   "outputs": [
    {
     "data": {
      "text/plain": [
       "(array([[5.1, 3.5, 1.4, 0.2],\n",
       "        [4.9, 3. , 1.4, 0.2]]),\n",
       " (2, 4))"
      ]
     },
     "execution_count": 15,
     "metadata": {},
     "output_type": "execute_result"
    }
   ],
   "source": [
    "X = np.array([[5.1, 3.5, 1.4, 0.2], [4.9, 3.0, 1.4, 0.2]])\n",
    "X, X.shape"
   ]
  },
  {
   "cell_type": "markdown",
   "metadata": {},
   "source": [
    "###  텐서\n",
    "* 텐서는 같은 크기의 행렬이 여러 개 같이 묶여 있는것을 말한다."
   ]
  },
  {
   "cell_type": "code",
   "execution_count": 61,
   "metadata": {},
   "outputs": [
    {
     "data": {
      "text/plain": [
       "(768, 1024, 3)"
      ]
     },
     "metadata": {},
     "output_type": "display_data"
    },
    {
     "data": {
      "text/plain": [
       "3"
      ]
     },
     "metadata": {},
     "output_type": "display_data"
    }
   ],
   "source": [
    "from scipy import misc\n",
    "\n",
    "img_rgb = misc.face()\n",
    "display(img_rgb.shape, img_rgb.ndim)"
   ]
  },
  {
   "cell_type": "code",
   "execution_count": 62,
   "metadata": {},
   "outputs": [
    {
     "data": {
      "image/png": "[encoded data removed]",
      "text/plain": [
       "<Figure size 432x288 with 4 Axes>"
      ]
     },
     "metadata": {
      "needs_background": "light"
     },
     "output_type": "display_data"
    }
   ],
   "source": [
    "plt.subplot(221)\n",
    "plt.imshow(img_rgb, cmap = cmaps[40]) # 컬러 미지 출력\n",
    "plt.axis('off')\n",
    "plt.title(\"RGB 컬러 이미지\")\n",
    "\n",
    "\n",
    "plt.subplot(222)\n",
    "plt.imshow(img_rgb[:,:,0], cmap = cmaps[10]) # 컬러 미지 출력\n",
    "plt.axis('off')\n",
    "plt.title(\"RED채널\")\n",
    "\n",
    "plt.subplot(223)\n",
    "plt.imshow(img_rgb[:,:,1], cmap = cmaps[8]) # 컬러 미지 출력\n",
    "plt.axis('off')\n",
    "plt.title(\"GREEN채널\")\n",
    "\n",
    "plt.subplot(224)\n",
    "plt.imshow(img_rgb[:,:,2], cmap = cmaps[66]) # 컬러 미지 출력\n",
    "plt.axis('off')\n",
    "plt.title(\"BLUE채널\")\n",
    "\n",
    "plt.show()"
   ]
  },
  {
   "cell_type": "code",
   "execution_count": 19,
   "metadata": {
    "collapsed": true
   },
   "outputs": [
    {
     "name": "stdout",
     "output_type": "stream",
     "text": [
      "Help on package scipy.misc in scipy:\n",
      "\n",
      "NAME\n",
      "    scipy.misc\n",
      "\n",
      "DESCRIPTION\n",
      "    ==========================================\n",
      "    Miscellaneous routines (:mod:`scipy.misc`)\n",
      "    ==========================================\n",
      "    \n",
      "    .. currentmodule:: scipy.misc\n",
      "    \n",
      "    Various utilities that don't have another home.\n",
      "    \n",
      "    .. autosummary::\n",
      "       :toctree: generated/\n",
      "    \n",
      "       ascent - Get example image for processing\n",
      "       central_diff_weights - Weights for an n-point central m-th derivative\n",
      "       derivative - Find the n-th derivative of a function at a point\n",
      "       face - Get example image for processing\n",
      "       electrocardiogram - Load an example of a one-dimensional signal.\n",
      "\n",
      "PACKAGE CONTENTS\n",
      "    common\n",
      "    doccer\n",
      "    setup\n",
      "    tests (package)\n",
      "\n",
      "FUNCTIONS\n",
      "    ascent()\n",
      "        Get an 8-bit grayscale bit-depth, 512 x 512 derived image for easy use in demos\n",
      "        \n",
      "        The image is derived from accent-to-the-top.jpg at\n",
      "        http://www.public-domain-image.com/people-public-domain-images-pictures/\n",
      "        \n",
      "        Parameters\n",
      "        ----------\n",
      "        None\n",
      "        \n",
      "        Returns\n",
      "        -------\n",
      "        ascent : ndarray\n",
      "           convenient image to use for testing and demonstration\n",
      "        \n",
      "        Examples\n",
      "        --------\n",
      "        >>> import scipy.misc\n",
      "        >>> ascent = scipy.misc.ascent()\n",
      "        >>> ascent.shape\n",
      "        (512, 512)\n",
      "        >>> ascent.max()\n",
      "        255\n",
      "        \n",
      "        >>> import matplotlib.pyplot as plt\n",
      "        >>> plt.gray()\n",
      "        >>> plt.imshow(ascent)\n",
      "        >>> plt.show()\n",
      "    \n",
      "    central_diff_weights(Np, ndiv=1)\n",
      "        Return weights for an Np-point central derivative.\n",
      "        \n",
      "        Assumes equally-spaced function points.\n",
      "        \n",
      "        If weights are in the vector w, then\n",
      "        derivative is w[0] * f(x-ho*dx) + ... + w[-1] * f(x+h0*dx)\n",
      "        \n",
      "        Parameters\n",
      "        ----------\n",
      "        Np : int\n",
      "            Number of points for the central derivative.\n",
      "        ndiv : int, optional\n",
      "            Number of divisions.  Default is 1.\n",
      "        \n",
      "        Notes\n",
      "        -----\n",
      "        Can be inaccurate for large number of points.\n",
      "    \n",
      "    derivative(func, x0, dx=1.0, n=1, args=(), order=3)\n",
      "        Find the n-th derivative of a function at a point.\n",
      "        \n",
      "        Given a function, use a central difference formula with spacing `dx` to\n",
      "        compute the `n`-th derivative at `x0`.\n",
      "        \n",
      "        Parameters\n",
      "        ----------\n",
      "        func : function\n",
      "            Input function.\n",
      "        x0 : float\n",
      "            The point at which `n`-th derivative is found.\n",
      "        dx : float, optional\n",
      "            Spacing.\n",
      "        n : int, optional\n",
      "            Order of the derivative. Default is 1.\n",
      "        args : tuple, optional\n",
      "            Arguments\n",
      "        order : int, optional\n",
      "            Number of points to use, must be odd.\n",
      "        \n",
      "        Notes\n",
      "        -----\n",
      "        Decreasing the step size too small can result in round-off error.\n",
      "        \n",
      "        Examples\n",
      "        --------\n",
      "        >>> from scipy.misc import derivative\n",
      "        >>> def f(x):\n",
      "        ...     return x**3 + x**2\n",
      "        >>> derivative(f, 1.0, dx=1e-6)\n",
      "        4.9999999999217337\n",
      "    \n",
      "    electrocardiogram()\n",
      "        Load an electrocardiogram as an example for a one-dimensional signal.\n",
      "        \n",
      "        The returned signal is a 5 minute long electrocardiogram (ECG), a medical\n",
      "        recording of the heart's electrical activity, sampled at 360 Hz.\n",
      "        \n",
      "        Returns\n",
      "        -------\n",
      "        ecg : ndarray\n",
      "            The electrocardiogram in millivolt (mV) sampled at 360 Hz.\n",
      "        \n",
      "        Notes\n",
      "        -----\n",
      "        The provided signal is an excerpt (19:35 to 24:35) from the `record 208`_\n",
      "        (lead MLII) provided by the MIT-BIH Arrhythmia Database [1]_ on\n",
      "        PhysioNet [2]_. The excerpt includes noise induced artifacts, typical\n",
      "        heartbeats as well as pathological changes.\n",
      "        \n",
      "        .. _record 208: https://physionet.org/physiobank/database/html/mitdbdir/records.htm#208\n",
      "        \n",
      "        .. versionadded:: 1.1.0\n",
      "        \n",
      "        References\n",
      "        ----------\n",
      "        .. [1] Moody GB, Mark RG. The impact of the MIT-BIH Arrhythmia Database.\n",
      "               IEEE Eng in Med and Biol 20(3):45-50 (May-June 2001).\n",
      "               (PMID: 11446209); :doi:`10.13026/C2F305`\n",
      "        .. [2] Goldberger AL, Amaral LAN, Glass L, Hausdorff JM, Ivanov PCh,\n",
      "               Mark RG, Mietus JE, Moody GB, Peng C-K, Stanley HE. PhysioBank,\n",
      "               PhysioToolkit, and PhysioNet: Components of a New Research Resource\n",
      "               for Complex Physiologic Signals. Circulation 101(23):e215-e220;\n",
      "               :doi:`10.1161/01.CIR.101.23.e215`\n",
      "        \n",
      "        Examples\n",
      "        --------\n",
      "        >>> from scipy.misc import electrocardiogram\n",
      "        >>> ecg = electrocardiogram()\n",
      "        >>> ecg\n",
      "        array([-0.245, -0.215, -0.185, ..., -0.405, -0.395, -0.385])\n",
      "        >>> ecg.shape, ecg.mean(), ecg.std()\n",
      "        ((108000,), -0.16510875, 0.5992473991177294)\n",
      "        \n",
      "        As stated the signal features several areas with a different morphology.\n",
      "        E.g. the first few seconds show the electrical activity of a heart in\n",
      "        normal sinus rhythm as seen below.\n",
      "        \n",
      "        >>> import matplotlib.pyplot as plt\n",
      "        >>> fs = 360\n",
      "        >>> time = np.arange(ecg.size) / fs\n",
      "        >>> plt.plot(time, ecg)\n",
      "        >>> plt.xlabel(\"time in s\")\n",
      "        >>> plt.ylabel(\"ECG in mV\")\n",
      "        >>> plt.xlim(9, 10.2)\n",
      "        >>> plt.ylim(-1, 1.5)\n",
      "        >>> plt.show()\n",
      "        \n",
      "        After second 16 however, the first premature ventricular contractions, also\n",
      "        called extrasystoles, appear. These have a different morphology compared to\n",
      "        typical heartbeats. The difference can easily be observed in the following\n",
      "        plot.\n",
      "        \n",
      "        >>> plt.plot(time, ecg)\n",
      "        >>> plt.xlabel(\"time in s\")\n",
      "        >>> plt.ylabel(\"ECG in mV\")\n",
      "        >>> plt.xlim(46.5, 50)\n",
      "        >>> plt.ylim(-2, 1.5)\n",
      "        >>> plt.show()\n",
      "        \n",
      "        At several points large artifacts disturb the recording, e.g.:\n",
      "        \n",
      "        >>> plt.plot(time, ecg)\n",
      "        >>> plt.xlabel(\"time in s\")\n",
      "        >>> plt.ylabel(\"ECG in mV\")\n",
      "        >>> plt.xlim(207, 215)\n",
      "        >>> plt.ylim(-2, 3.5)\n",
      "        >>> plt.show()\n",
      "        \n",
      "        Finally, examining the power spectrum reveals that most of the biosignal is\n",
      "        made up of lower frequencies. At 60 Hz the noise induced by the mains\n",
      "        electricity can be clearly observed.\n",
      "        \n",
      "        >>> from scipy.signal import welch\n",
      "        >>> f, Pxx = welch(ecg, fs=fs, nperseg=2048, scaling=\"spectrum\")\n",
      "        >>> plt.semilogy(f, Pxx)\n",
      "        >>> plt.xlabel(\"Frequency in Hz\")\n",
      "        >>> plt.ylabel(\"Power spectrum of the ECG in mV**2\")\n",
      "        >>> plt.xlim(f[[0, -1]])\n",
      "        >>> plt.show()\n",
      "    \n",
      "    face(gray=False)\n",
      "        Get a 1024 x 768, color image of a raccoon face.\n",
      "        \n",
      "        raccoon-procyon-lotor.jpg at http://www.public-domain-image.com\n",
      "        \n",
      "        Parameters\n",
      "        ----------\n",
      "        gray : bool, optional\n",
      "            If True return 8-bit grey-scale image, otherwise return a color image\n",
      "        \n",
      "        Returns\n",
      "        -------\n",
      "        face : ndarray\n",
      "            image of a racoon face\n",
      "        \n",
      "        Examples\n",
      "        --------\n",
      "        >>> import scipy.misc\n",
      "        >>> face = scipy.misc.face()\n",
      "        >>> face.shape\n",
      "        (768, 1024, 3)\n",
      "        >>> face.max()\n",
      "        255\n",
      "        >>> face.dtype\n",
      "        dtype('uint8')\n",
      "        \n",
      "        >>> import matplotlib.pyplot as plt\n",
      "        >>> plt.gray()\n",
      "        >>> plt.imshow(face)\n",
      "        >>> plt.show()\n",
      "\n",
      "DATA\n",
      "    __all__ = ['doccer', 'central_diff_weights', 'derivative', 'ascent', '...\n",
      "\n",
      "FILE\n",
      "    c:\\users\\서한나\\appdata\\roaming\\python\\python38\\site-packages\\scipy\\misc\\__init__.py\n",
      "\n",
      "\n"
     ]
    }
   ],
   "source": [
    "help(misc)"
   ]
  },
  {
   "cell_type": "markdown",
   "metadata": {},
   "source": [
    "### 전치연산\n",
    "* `전치(transpose)` 는 **행렬의 행과 열을 바꾸는 연산**"
   ]
  },
  {
   "cell_type": "code",
   "execution_count": 63,
   "metadata": {},
   "outputs": [
    {
     "data": {
      "text/plain": [
       "array([[5.1, 3.5, 1.4, 0.2],\n",
       "       [4.9, 3. , 1.4, 0.2]])"
      ]
     },
     "execution_count": 63,
     "metadata": {},
     "output_type": "execute_result"
    }
   ],
   "source": [
    "X"
   ]
  },
  {
   "cell_type": "code",
   "execution_count": 64,
   "metadata": {},
   "outputs": [
    {
     "data": {
      "text/plain": [
       "array([[5.1, 4.9],\n",
       "       [3.5, 3. ],\n",
       "       [1.4, 1.4],\n",
       "       [0.2, 0.2]])"
      ]
     },
     "execution_count": 64,
     "metadata": {},
     "output_type": "execute_result"
    }
   ],
   "source": [
    "X.T"
   ]
  },
  {
   "cell_type": "code",
   "execution_count": 65,
   "metadata": {},
   "outputs": [
    {
     "data": {
      "text/plain": [
       "array([5.1, 3.5, 1.4, 0.2])"
      ]
     },
     "execution_count": 65,
     "metadata": {},
     "output_type": "execute_result"
    }
   ],
   "source": [
    "x11 = np.array([5.1, 3.5, 1.4, 0.2])\n",
    "\n",
    "# 1차원 ndarray는 전치연산이 정의되 않는다.(동일하다.)\n",
    "x11.T"
   ]
  },
  {
   "cell_type": "code",
   "execution_count": 67,
   "metadata": {},
   "outputs": [
    {
     "data": {
      "text/plain": [
       "array([[11, 12, 13],\n",
       "       [21, 22, 23]])"
      ]
     },
     "metadata": {},
     "output_type": "display_data"
    },
    {
     "data": {
      "text/plain": [
       "array([[11, 21],\n",
       "       [12, 22],\n",
       "       [13, 23]])"
      ]
     },
     "metadata": {},
     "output_type": "display_data"
    }
   ],
   "source": [
    "display(A, A.T)"
   ]
  },
  {
   "cell_type": "markdown",
   "metadata": {},
   "source": [
    "### 2.1.3 연습문제\n",
    "* 붓꽃 데이터 X의 전치행렬 연산.\n",
    "* 전치행렬을 다시 전치한후 이 행렬과 원래 행렬을 비교하면?"
   ]
  },
  {
   "cell_type": "code",
   "execution_count": 69,
   "metadata": {},
   "outputs": [
    {
     "data": {
      "text/plain": [
       "array([[5.1, 3.5, 1.4, 0.2],\n",
       "       [4.9, 3. , 1.4, 0.2]])"
      ]
     },
     "metadata": {},
     "output_type": "display_data"
    },
    {
     "data": {
      "text/plain": [
       "(2, 4)"
      ]
     },
     "metadata": {},
     "output_type": "display_data"
    }
   ],
   "source": [
    "display(X, X.shape)"
   ]
  },
  {
   "cell_type": "code",
   "execution_count": 71,
   "metadata": {},
   "outputs": [
    {
     "data": {
      "text/plain": [
       "array([[5.1, 3.5, 1.4, 0.2],\n",
       "       [4.9, 3. , 1.4, 0.2]])"
      ]
     },
     "metadata": {},
     "output_type": "display_data"
    },
    {
     "data": {
      "text/plain": [
       "array([[5.1, 4.9],\n",
       "       [3.5, 3. ],\n",
       "       [1.4, 1.4],\n",
       "       [0.2, 0.2]])"
      ]
     },
     "metadata": {},
     "output_type": "display_data"
    },
    {
     "data": {
      "text/plain": [
       "(4, 2)"
      ]
     },
     "metadata": {},
     "output_type": "display_data"
    }
   ],
   "source": [
    "# 전치행렬\n",
    "X_T = X.T\n",
    "display(X, X_T, X_T.shape)"
   ]
  },
  {
   "cell_type": "code",
   "execution_count": 72,
   "metadata": {},
   "outputs": [
    {
     "data": {
      "text/plain": [
       "array([[5.1, 3.5, 1.4, 0.2],\n",
       "       [4.9, 3. , 1.4, 0.2]])"
      ]
     },
     "execution_count": 72,
     "metadata": {},
     "output_type": "execute_result"
    }
   ],
   "source": [
    "# 전치한 행렬을 다시 전치하면 원래 행렬과 동일하게 나온다.\n",
    "X_T_T = X_T.T\n",
    "X_T_T"
   ]
  },
  {
   "cell_type": "code",
   "execution_count": 75,
   "metadata": {},
   "outputs": [
    {
     "data": {
      "text/html": [
       "<div>\n",
       "<style scoped>\n",
       "    .dataframe tbody tr th:only-of-type {\n",
       "        vertical-align: middle;\n",
       "    }\n",
       "\n",
       "    .dataframe tbody tr th {\n",
       "        vertical-align: top;\n",
       "    }\n",
       "\n",
       "    .dataframe thead th {\n",
       "        text-align: right;\n",
       "    }\n",
       "</style>\n",
       "<table border=\"1\" class=\"dataframe\">\n",
       "  <thead>\n",
       "    <tr style=\"text-align: right;\">\n",
       "      <th></th>\n",
       "      <th>원본</th>\n",
       "      <th>전치_전치</th>\n",
       "      <th>동일여부</th>\n",
       "    </tr>\n",
       "  </thead>\n",
       "  <tbody>\n",
       "    <tr>\n",
       "      <th>0</th>\n",
       "      <td>[[5.1, 3.5, 1.4, 0.2], [4.9, 3.0, 1.4, 0.2]]</td>\n",
       "      <td>[[5.1, 3.5, 1.4, 0.2], [4.9, 3.0, 1.4, 0.2]]</td>\n",
       "      <td>[[True, True, True, True], [True, True, True, ...</td>\n",
       "    </tr>\n",
       "  </tbody>\n",
       "</table>\n",
       "</div>"
      ],
      "text/plain": [
       "                                             원본  \\\n",
       "0  [[5.1, 3.5, 1.4, 0.2], [4.9, 3.0, 1.4, 0.2]]   \n",
       "\n",
       "                                          전치_전치  \\\n",
       "0  [[5.1, 3.5, 1.4, 0.2], [4.9, 3.0, 1.4, 0.2]]   \n",
       "\n",
       "                                                동일여부  \n",
       "0  [[True, True, True, True], [True, True, True, ...  "
      ]
     },
     "execution_count": 75,
     "metadata": {},
     "output_type": "execute_result"
    }
   ],
   "source": [
    "#비교해보자 \n",
    "import pandas as pd\n",
    "pd.DataFrame([{\"원본\": X, \"전치_전치\": X_T_T, \"동일여부\": X == X_T_T}])"
   ]
  },
  {
   "cell_type": "markdown",
   "metadata": {},
   "source": [
    "**전치된 행렬을 재차 전치하면 원본 행렬과 동일해진다.**"
   ]
  },
  {
   "cell_type": "markdown",
   "metadata": {},
   "source": [
    "### 영벡터\n",
    "* 모든 원소가 0인 N차원 벡터를 영벡터라고 함."
   ]
  },
  {
   "cell_type": "code",
   "execution_count": 78,
   "metadata": {},
   "outputs": [
    {
     "data": {
      "text/plain": [
       "array([[0.],\n",
       "       [0.],\n",
       "       [0.]])"
      ]
     },
     "metadata": {},
     "output_type": "display_data"
    },
    {
     "data": {
      "text/plain": [
       "(3, 1)"
      ]
     },
     "metadata": {},
     "output_type": "display_data"
    },
    {
     "data": {
      "text/plain": [
       "2"
      ]
     },
     "metadata": {},
     "output_type": "display_data"
    }
   ],
   "source": [
    "zerosV = np.zeros((3, 1))\n",
    "display(zerosV, zerosV.shape, zerosV.ndim)"
   ]
  },
  {
   "cell_type": "markdown",
   "metadata": {},
   "source": [
    "### 일벡터\n",
    "* 모든 원소가 1인 n차원 벡터"
   ]
  },
  {
   "cell_type": "code",
   "execution_count": 79,
   "metadata": {},
   "outputs": [
    {
     "data": {
      "text/plain": [
       "array([[1.],\n",
       "       [1.],\n",
       "       [1.]])"
      ]
     },
     "metadata": {},
     "output_type": "display_data"
    },
    {
     "data": {
      "text/plain": [
       "(3, 1)"
      ]
     },
     "metadata": {},
     "output_type": "display_data"
    },
    {
     "data": {
      "text/plain": [
       "2"
      ]
     },
     "metadata": {},
     "output_type": "display_data"
    }
   ],
   "source": [
    "ones = np.ones((3, 1))  # 3행 1열\n",
    "display(ones, ones.shape, ones.ndim)"
   ]
  },
  {
   "cell_type": "markdown",
   "metadata": {},
   "source": [
    "### 정방행렬 \n",
    "- 행 개수와 열 개수가 같은 행렬을 정방행렬이라고 한다.(square matrix)"
   ]
  },
  {
   "cell_type": "markdown",
   "metadata": {},
   "source": [
    "### 대각행렬\n",
    "* 행렬에서 행과 열이 같은 위치에 있는 것을 주 대각(main diagonal)혹은 대각(diagonal)이라고 하는데 대각위치에 있지 않는 것들을 비대각(off-diagonal)이라고 한다.\n",
    "모든 비대각 요소가 0인 행렬을 대각행렬이라고 한다."
   ]
  },
  {
   "cell_type": "code",
   "execution_count": 81,
   "metadata": {},
   "outputs": [
    {
     "data": {
      "text/plain": [
       "array([[1, 0, 0],\n",
       "       [0, 2, 0],\n",
       "       [0, 0, 3]])"
      ]
     },
     "metadata": {},
     "output_type": "display_data"
    },
    {
     "data": {
      "text/plain": [
       "(2, 4)"
      ]
     },
     "metadata": {},
     "output_type": "display_data"
    }
   ],
   "source": [
    "X_diag = np.diag([1, 2, 3])\n",
    "display(X_diag,X.shape)"
   ]
  },
  {
   "cell_type": "markdown",
   "metadata": {},
   "source": [
    "### 항등행렬\n",
    "* **대각행렬중에서도 모든 대각 성분의 값이 1인 것을 항등행렬(identity matrix)** 이라고 함.\n",
    "* np.eye혹은 np.identity()를 사용함."
   ]
  },
  {
   "cell_type": "code",
   "execution_count": 87,
   "metadata": {},
   "outputs": [
    {
     "data": {
      "text/plain": [
       "array([[1., 0., 0.],\n",
       "       [0., 1., 0.],\n",
       "       [0., 0., 1.]])"
      ]
     },
     "metadata": {},
     "output_type": "display_data"
    },
    {
     "data": {
      "text/plain": [
       "(3, 3)"
      ]
     },
     "metadata": {},
     "output_type": "display_data"
    }
   ],
   "source": [
    "I = np.identity(3)\n",
    "display(I, I.shape)"
   ]
  },
  {
   "cell_type": "code",
   "execution_count": 88,
   "metadata": {},
   "outputs": [
    {
     "data": {
      "text/plain": [
       "array([[1., 0., 0.],\n",
       "       [0., 1., 0.],\n",
       "       [0., 0., 1.]])"
      ]
     },
     "metadata": {},
     "output_type": "display_data"
    },
    {
     "data": {
      "text/plain": [
       "(3, 3)"
      ]
     },
     "metadata": {},
     "output_type": "display_data"
    }
   ],
   "source": [
    "I = np.eye(3)\n",
    "display(I, I.shape)"
   ]
  },
  {
   "cell_type": "markdown",
   "metadata": {},
   "source": [
    "### 대칭행렬\n",
    "* 전치연산을 통해 얻은 전치행렬과 원래 행렬이 동일한것을 말함(symetric matrix)\n",
    "* 항등행렬을 전치연산을 한 행렬도 동일하게 이전 행렬과 같다."
   ]
  },
  {
   "cell_type": "code",
   "execution_count": 91,
   "metadata": {},
   "outputs": [
    {
     "data": {
      "text/plain": [
       "array([[1., 0., 0., 0.],\n",
       "       [0., 1., 0., 0.],\n",
       "       [0., 0., 1., 0.],\n",
       "       [0., 0., 0., 1.]])"
      ]
     },
     "metadata": {},
     "output_type": "display_data"
    },
    {
     "data": {
      "text/plain": [
       "array([[1., 0., 0., 0.],\n",
       "       [0., 1., 0., 0.],\n",
       "       [0., 0., 1., 0.],\n",
       "       [0., 0., 0., 1.]])"
      ]
     },
     "metadata": {},
     "output_type": "display_data"
    }
   ],
   "source": [
    "sm = np.eye(4)\n",
    "display(sm, sm.T)"
   ]
  },
  {
   "cell_type": "code",
   "execution_count": null,
   "metadata": {},
   "outputs": [],
   "source": []
  }
 ],
 "metadata": {
  "kernelspec": {
   "display_name": "Python 3",
   "language": "python",
   "name": "python3"
  },
  "language_info": {
   "codemirror_mode": {
    "name": "ipython",
    "version": 3
   },
   "file_extension": ".py",
   "mimetype": "text/x-python",
   "name": "python",
   "nbconvert_exporter": "python",
   "pygments_lexer": "ipython3",
   "version": "3.8.3"
  }
 },
 "nbformat": 4,
 "nbformat_minor": 4
}
