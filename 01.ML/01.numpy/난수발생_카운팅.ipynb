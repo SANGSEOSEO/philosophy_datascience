{
 "cells": [
  {
   "cell_type": "markdown",
   "metadata": {},
   "source": [
    "## 난수발생과 카운팅\n",
    "* random 서브 패키지 \n",
    "* seed값 설정"
   ]
  },
  {
   "cell_type": "code",
   "execution_count": 1,
   "metadata": {},
   "outputs": [],
   "source": [
    "import numpy as np"
   ]
  },
  {
   "cell_type": "markdown",
   "metadata": {},
   "source": [
    "### 시드값 설정\n",
    "* 컴퓨터 프로그램에서 발생하는 무작위 수는 사실 엄격한 무작위 수가 아니다. 어떤 특정한 시작 숫자를 정해주면 컴퓨터가 정해진 알고리즘에 의해 마치 난수처럼 보이는 수열을 생성한다.\n",
    "* 일단 생성된 난수는 다음 번 난수 생성을 위한 시드값이 된다.따라서 시드값은 한 번만 정해주면 된다. 코드의 결과를 재현하기 위해 항상 시드를 설정한다."
   ]
  },
  {
   "cell_type": "code",
   "execution_count": 2,
   "metadata": {},
   "outputs": [],
   "source": [
    "np.random.seed(0)"
   ]
  },
  {
   "cell_type": "code",
   "execution_count": 3,
   "metadata": {},
   "outputs": [
    {
     "data": {
      "text/plain": [
       "array([[0.5488135 , 0.71518937],\n",
       "       [0.60276338, 0.54488318],\n",
       "       [0.4236548 , 0.64589411]])"
      ]
     },
     "execution_count": 3,
     "metadata": {},
     "output_type": "execute_result"
    }
   ],
   "source": [
    "# 0과 1사이의 난수값 5개 발생\n",
    "np.random.rand(3, 2)"
   ]
  },
  {
   "cell_type": "code",
   "execution_count": 4,
   "metadata": {},
   "outputs": [
    {
     "data": {
      "text/plain": [
       "array([0.43758721, 0.891773  , 0.96366276, 0.38344152, 0.79172504,\n",
       "       0.52889492, 0.56804456, 0.92559664, 0.07103606, 0.0871293 ])"
      ]
     },
     "execution_count": 4,
     "metadata": {},
     "output_type": "execute_result"
    }
   ],
   "source": [
    "np.random.rand(10)"
   ]
  },
  {
   "cell_type": "code",
   "execution_count": 5,
   "metadata": {},
   "outputs": [
    {
     "data": {
      "text/plain": [
       "array([0.0202184 , 0.83261985, 0.77815675, 0.87001215, 0.97861834,\n",
       "       0.79915856, 0.46147936, 0.78052918, 0.11827443, 0.63992102])"
      ]
     },
     "execution_count": 5,
     "metadata": {},
     "output_type": "execute_result"
    }
   ],
   "source": [
    "np.random.rand(10)"
   ]
  },
  {
   "cell_type": "code",
   "execution_count": 6,
   "metadata": {},
   "outputs": [],
   "source": [
    "np.random.seed(0)"
   ]
  },
  {
   "cell_type": "code",
   "execution_count": 7,
   "metadata": {},
   "outputs": [
    {
     "data": {
      "text/plain": [
       "array([0.5488135 , 0.71518937, 0.60276338, 0.54488318, 0.4236548 ])"
      ]
     },
     "execution_count": 7,
     "metadata": {},
     "output_type": "execute_result"
    }
   ],
   "source": [
    "np.random.rand(5)"
   ]
  },
  {
   "cell_type": "code",
   "execution_count": 8,
   "metadata": {},
   "outputs": [
    {
     "data": {
      "text/plain": [
       "array([0.64589411, 0.43758721, 0.891773  , 0.96366276, 0.38344152,\n",
       "       0.79172504, 0.52889492, 0.56804456, 0.92559664, 0.07103606])"
      ]
     },
     "execution_count": 8,
     "metadata": {},
     "output_type": "execute_result"
    }
   ],
   "source": [
    "np.random.rand(10)"
   ]
  },
  {
   "cell_type": "code",
   "execution_count": 9,
   "metadata": {},
   "outputs": [
    {
     "data": {
      "text/plain": [
       "array([0.0871293 , 0.0202184 , 0.83261985, 0.77815675, 0.87001215,\n",
       "       0.97861834, 0.79915856, 0.46147936, 0.78052918, 0.11827443])"
      ]
     },
     "execution_count": 9,
     "metadata": {},
     "output_type": "execute_result"
    }
   ],
   "source": [
    "np.random.rand(10)"
   ]
  },
  {
   "cell_type": "markdown",
   "metadata": {},
   "source": [
    "### 데이터의 순서 바꾸기 "
   ]
  },
  {
   "cell_type": "code",
   "execution_count": 10,
   "metadata": {},
   "outputs": [
    {
     "data": {
      "text/plain": [
       "array([0, 1, 2, 3, 4, 5, 6, 7, 8, 9])"
      ]
     },
     "execution_count": 10,
     "metadata": {},
     "output_type": "execute_result"
    }
   ],
   "source": [
    "x = np.arange(10)\n",
    "x"
   ]
  },
  {
   "cell_type": "code",
   "execution_count": 11,
   "metadata": {},
   "outputs": [
    {
     "data": {
      "text/plain": [
       "array([3, 6, 4, 5, 2, 9, 7, 8, 1, 0])"
      ]
     },
     "execution_count": 11,
     "metadata": {},
     "output_type": "execute_result"
    }
   ],
   "source": [
    "np.random.shuffle(x)\n",
    "x"
   ]
  },
  {
   "cell_type": "markdown",
   "metadata": {},
   "source": [
    "## 데이터 샘플링\n",
    "numpy.random.choice(a, size = None, replae = True, p=None)\n",
    "* a: 배열이면 원래의 데이터, 정수이면 arange(a) 명령으로  데이터 생성\n",
    "* size : 정수, 샘플 숫자\n",
    "* replace : booena, True이면 한번 선택한 데이터를 다시 선택\n",
    "* p : 배열, 각 데이터가 선택될 수 있는 확률"
   ]
  },
  {
   "cell_type": "code",
   "execution_count": 12,
   "metadata": {},
   "outputs": [
    {
     "data": {
      "text/plain": [
       "array([1, 4, 0, 3, 2])"
      ]
     },
     "execution_count": 12,
     "metadata": {},
     "output_type": "execute_result"
    }
   ],
   "source": [
    "np.random.choice(5, 5, replace=False)  # shuffle 명령과 같다."
   ]
  },
  {
   "cell_type": "code",
   "execution_count": 13,
   "metadata": {},
   "outputs": [
    {
     "data": {
      "text/plain": [
       "array([2, 1, 3])"
      ]
     },
     "execution_count": 13,
     "metadata": {},
     "output_type": "execute_result"
    }
   ],
   "source": [
    "np.random.choice(5, 3, replace = False)                                                                                                                                                                              \n",
    "    "
   ]
  },
  {
   "cell_type": "code",
   "execution_count": 14,
   "metadata": {},
   "outputs": [
    {
     "data": {
      "text/plain": [
       "array([0, 4, 1, 4, 1, 2, 2, 0, 1, 1])"
      ]
     },
     "execution_count": 14,
     "metadata": {},
     "output_type": "execute_result"
    }
   ],
   "source": [
    "np.random.choice(5, 10) # 0부터 4까지의 숫자를 10개 "
   ]
  },
  {
   "cell_type": "markdown",
   "metadata": {},
   "source": [
    "## 난수 생성\n",
    "* rand : 0부터 1사이의 균일분포\n",
    "* randn : 표준 정규분포(기대값이 0이고 표준편차가 1인 표준 정규분포인 난수 생성)\n",
    "* randint : 균일분포의 정수 난수 "
   ]
  },
  {
   "cell_type": "code",
   "execution_count": 15,
   "metadata": {},
   "outputs": [
    {
     "data": {
      "text/plain": [
       "array([0.09928035, 0.96980907, 0.65314004, 0.17090959, 0.35815217,\n",
       "       0.75068614, 0.60783067, 0.32504723, 0.03842543, 0.63427406])"
      ]
     },
     "execution_count": 15,
     "metadata": {},
     "output_type": "execute_result"
    }
   ],
   "source": [
    "np.random.rand(10) # 0부터 1사이의 실수 난수 10개를 생성"
   ]
  },
  {
   "cell_type": "code",
   "execution_count": 16,
   "metadata": {},
   "outputs": [
    {
     "data": {
      "text/plain": [
       "array([[0.95894927, 0.65279032, 0.63505887, 0.99529957, 0.58185033],\n",
       "       [0.41436859, 0.4746975 , 0.6235101 , 0.33800761, 0.67475232],\n",
       "       [0.31720174, 0.77834548, 0.94957105, 0.66252687, 0.01357164]])"
      ]
     },
     "execution_count": 16,
     "metadata": {},
     "output_type": "execute_result"
    }
   ],
   "source": [
    "np.random.rand(3, 5)   # 3행 5열의 0부터 1사이의 수를 리턴"
   ]
  },
  {
   "cell_type": "code",
   "execution_count": 17,
   "metadata": {},
   "outputs": [
    {
     "data": {
      "text/plain": [
       "array([ 1.50944508,  1.06777513, -0.68658948,  0.01487332, -0.3756659 ,\n",
       "       -0.03822364,  0.36797447, -0.0447237 , -0.30237513, -2.2244036 ])"
      ]
     },
     "execution_count": 17,
     "metadata": {},
     "output_type": "execute_result"
    }
   ],
   "source": [
    "np.random.randn(10)   # 10개의 표준정규분포를 이루는 난수 생성"
   ]
  },
  {
   "cell_type": "code",
   "execution_count": 18,
   "metadata": {},
   "outputs": [
    {
     "data": {
      "text/plain": [
       "array([[ 0.72400636,  0.35900276,  1.07612104,  0.19214083,  0.85292596],\n",
       "       [ 0.01835718,  0.42830357,  0.99627783, -0.49114966,  0.71267817],\n",
       "       [ 1.11334035, -2.15367459, -0.41611148, -1.07089699,  0.22113881]])"
      ]
     },
     "execution_count": 18,
     "metadata": {},
     "output_type": "execute_result"
    }
   ],
   "source": [
    "np.random.randn(3, 5)  # 3행 5열의 표준정규분포를 이루는 난수 생성"
   ]
  },
  {
   "cell_type": "markdown",
   "metadata": {},
   "source": [
    "randint함수는 다음과 같은 인수를 가지낟.\n",
    "* numpy.random.rnadint(low, high=None, size = None)\n",
    "* hight를 입력하지 않으면 0과 low값 사이의 숫자를,hight를 입력하면 low,high값 사이의 숫자를 출력\n",
    "* size는 난수의 갯수"
   ]
  },
  {
   "cell_type": "code",
   "execution_count": 19,
   "metadata": {},
   "outputs": [
    {
     "data": {
      "text/plain": [
       "array([2, 0, 8, 8, 3, 8, 2, 8, 4, 3])"
      ]
     },
     "execution_count": 19,
     "metadata": {},
     "output_type": "execute_result"
    }
   ],
   "source": [
    "np.random.randint(10, size = 10)"
   ]
  },
  {
   "cell_type": "code",
   "execution_count": 20,
   "metadata": {},
   "outputs": [
    {
     "data": {
      "text/plain": [
       "array([10, 14, 13, 16, 19, 18, 10, 18, 15, 19])"
      ]
     },
     "execution_count": 20,
     "metadata": {},
     "output_type": "execute_result"
    }
   ],
   "source": [
    "np.random.randint(10, 20, size = 10)"
   ]
  },
  {
   "cell_type": "code",
   "execution_count": 21,
   "metadata": {},
   "outputs": [
    {
     "data": {
      "text/plain": [
       "array([[10, 19, 16, 15, 13],\n",
       "       [11, 18, 10, 14, 19],\n",
       "       [16, 15, 17, 18, 18]])"
      ]
     },
     "execution_count": 21,
     "metadata": {},
     "output_type": "execute_result"
    }
   ],
   "source": [
    "np.random.randint(10, 20, size = (3, 5))"
   ]
  },
  {
   "cell_type": "markdown",
   "metadata": {},
   "source": [
    "### 연습문제 3.5.1"
   ]
  },
  {
   "cell_type": "markdown",
   "metadata": {},
   "source": [
    "#### 동전을 10번던져 앞면(숫자1), 뒷면(숫자 0)이 나오는 가상시험"
   ]
  },
  {
   "cell_type": "code",
   "execution_count": 22,
   "metadata": {},
   "outputs": [
    {
     "data": {
      "text/plain": [
       "array([1, 1, 0, 0, 0, 1, 1, 0, 1, 1])"
      ]
     },
     "execution_count": 22,
     "metadata": {},
     "output_type": "execute_result"
    }
   ],
   "source": [
    "np.random.randint(0,2 , size = 10)"
   ]
  },
  {
   "cell_type": "markdown",
   "metadata": {},
   "source": [
    "#### 주사위를 100번 던져 나오는 수의 합계 구하기 "
   ]
  },
  {
   "cell_type": "code",
   "execution_count": 23,
   "metadata": {},
   "outputs": [
    {
     "data": {
      "text/plain": [
       "374"
      ]
     },
     "execution_count": 23,
     "metadata": {},
     "output_type": "execute_result"
    }
   ],
   "source": [
    "np.sum(np.random.randint(low = 1, high = 7, size = 100))"
   ]
  },
  {
   "cell_type": "markdown",
   "metadata": {},
   "source": [
    "### 연습문제 3.5.2\n",
    "가격이 10,000원인 주식이 있다. 이 주식의 일간 수익률(%)은 기댓값이 0%이고 표준편차가 1%인 표준 정규 분포를 따른다고 하자. 250일 동안의 주가를 무작위로 생성하라"
   ]
  },
  {
   "cell_type": "code",
   "execution_count": 24,
   "metadata": {
    "scrolled": true
   },
   "outputs": [
    {
     "data": {
      "text/plain": [
       "array([-11230.57115379, -18112.78790918,  -6311.75217748,  -9281.5918457 ,\n",
       "        14907.21916959,   1954.99335275,  -4716.04333548,  18123.54651531,\n",
       "       -22941.37478799,   6512.09345842, -11304.96449502,  -7773.46655762,\n",
       "        11159.38454123,  13394.53016548, -17674.33651389,   4244.12458828,\n",
       "        10893.09045105,  -3841.85680998,   6322.0141416 ,  -5496.5590088 ,\n",
       "         5211.25739509,   1083.49548763,   2616.68476887,  -9147.55330099,\n",
       "         8582.37785355,    943.34289976, -14859.03858648, -19005.84261243,\n",
       "       -11375.79197031, -17620.38885039,  -2886.2321917 ,  10479.82224693,\n",
       "         2499.57540819,    469.04461519, -10322.43036731,   4031.85681555,\n",
       "        -6840.59252016,  12623.22186207, -20055.56590963,  -3320.30396466,\n",
       "        -2961.00402904, -22183.60756564,  -1835.02879002,   3923.08055656,\n",
       "         2416.34806555,   1039.35912278,  -8295.71186637,   4927.59391416,\n",
       "          901.12790984,  -9975.67538838,  -8000.38214395,   2070.75574055,\n",
       "         5234.63027189,  -6993.94821333,   9137.05807417,  -6727.84784439,\n",
       "         1333.24497498,   4268.96020337,   -128.49391727,  -3522.48305923,\n",
       "         8194.66608373,   5219.87729605,  11972.59864858,  -3824.86213414,\n",
       "         6916.6191837 ,   3538.85011475,  10475.85337418,  -4238.96233601,\n",
       "       -35147.68119102, -13431.56730305,  14255.06126613,   2285.82011023,\n",
       "        -2576.63759387,    503.70716189, -13802.1087505 ,  -2616.72066992,\n",
       "        -1793.79692883,  -6927.70576575,  11378.2686563 ,  -1691.57251142,\n",
       "        -7639.13672228,  -4980.73102608,  -3628.91113864,   2639.60308956,\n",
       "        -6296.41909089,  -4722.58404175, -15133.6103725 ,  11076.24678075,\n",
       "         1762.38752316,  -9403.53542215,   9295.94328393, -10627.94920781,\n",
       "        -8864.06267967,  19213.46955361,  -4597.80523696, -10890.34435237,\n",
       "         9841.17293103, -11592.06324773,  -4365.37092643,  10092.44530915,\n",
       "         7133.8957052 ,  -7280.57718828,   8395.16458041,  12390.20979006,\n",
       "       -17848.03886752,  -7961.85839165, -14005.4126735 ,  -1843.50576641,\n",
       "       -13911.93115307,    362.59741694,  -8144.05561358,   6973.72824134,\n",
       "       -17374.29237665,   1158.55697893,   3656.51445709,   -739.23465647,\n",
       "        -4935.17571251,  31015.30584097,   8587.54152992, -11547.75527407,\n",
       "         9418.34338174,  -2821.35141604,  -9756.54665672,    981.86690835,\n",
       "         9054.8995319 ,  10187.414369  ,  -1148.98854028,  17430.38720069,\n",
       "        -3218.79190884,   8295.71093644,  -2073.17997173,  11179.98607395,\n",
       "        10642.4968294 ,  11513.29834608,  -7724.57707025, -12936.34279094,\n",
       "         6770.2681153 ,   4240.55198443,  -4856.76172802,   -516.97237095,\n",
       "         5670.56372034,  10678.33575271,   2715.957408  ,   6193.01766304,\n",
       "         -586.25995166,  12565.71400288,   2967.47196396,   3985.85726833,\n",
       "       -10531.74379947,  -6394.76266695,  -1485.26880507, -15745.82146821,\n",
       "        -4956.88197487,  -1175.74792983,   3731.20160739,  -3860.28771029,\n",
       "       -12305.93116681, -19582.71609505,  -5179.62686133,   5797.98796021,\n",
       "       -13537.32839082,  -7195.26665579,  -1186.16117438,  -8081.16055241,\n",
       "        -7189.10945696,  -5735.43921526,  -3836.77185844,   2916.34040134,\n",
       "          728.56982837,   -185.54245143,   1000.37284811,   4280.80951057,\n",
       "       -10397.87853554,   2912.28379867,    -57.68904401,  -9826.99680318,\n",
       "        -8041.59715942, -11981.86713127,   7667.68766577,   2175.25544535,\n",
       "        20844.41690848,  15134.76090809, -21008.24733036,  10060.72921782,\n",
       "       -10371.14869525, -18052.67627962, -11021.96086916,  10785.79101464,\n",
       "        -5187.34065506,  -2815.26350557,   5603.69332201,   7552.08981316,\n",
       "       -10608.90856671,    544.73849647,  -1042.78632223,  -3516.09683576,\n",
       "         5897.99138784, -14789.68128298, -14229.55967165,  -8264.61120673,\n",
       "         7842.08626234,  -1954.17203582, -12645.95438201,   8569.33175519,\n",
       "        -4939.94345882,    146.36658422, -16064.66458748,   1619.89515184,\n",
       "         5350.38317449,   8305.88609866,  10436.29588801,  -7609.47295351,\n",
       "         -854.31317589,  -7899.6363548 ,  -4708.39625603, -10330.53713572,\n",
       "        -2311.8670958 , -16102.43460016,  14306.01897972, -17253.85721556,\n",
       "         3592.49588642,   8819.3495407 ,   2050.13087719,  12113.6350726 ,\n",
       "       -21694.23192843,  -3350.21039249, -17169.71534872, -14618.65530542,\n",
       "        -5711.02085391, -19679.28201633,    608.83200399,   4487.18882108,\n",
       "       -22815.63673001,  -7888.09508134,  11872.70875039,  -9412.22102533,\n",
       "        -1282.29696995,  12723.86134748,  -8029.94741987,  10223.03203083,\n",
       "        15078.75915568,  -9233.41696247,   6587.77556473,  12859.72561102,\n",
       "       -11550.67030514,   1188.76454152,  10321.44978291,   5399.52432167,\n",
       "       -22512.6118738 ,  -3436.17256262])"
      ]
     },
     "execution_count": 24,
     "metadata": {},
     "output_type": "execute_result"
    }
   ],
   "source": [
    "np.random.randn(250) * 10000"
   ]
  },
  {
   "cell_type": "markdown",
   "metadata": {},
   "source": [
    "### 정수 데이터 카운팅\n",
    "* 난수가 정수값이면 `unique` 이나 `bincount`함수 이용"
   ]
  },
  {
   "cell_type": "code",
   "execution_count": 29,
   "metadata": {},
   "outputs": [],
   "source": [
    "t1 = [11, 11, 2, 2, 34, 34]"
   ]
  },
  {
   "cell_type": "code",
   "execution_count": 30,
   "metadata": {},
   "outputs": [
    {
     "data": {
      "text/plain": [
       "array([ 2, 11, 34])"
      ]
     },
     "execution_count": 30,
     "metadata": {},
     "output_type": "execute_result"
    }
   ],
   "source": [
    "np.unique(t1)  # 고유한 값만 리턴"
   ]
  },
  {
   "cell_type": "code",
   "execution_count": 28,
   "metadata": {},
   "outputs": [
    {
     "name": "stdout",
     "output_type": "stream",
     "text": [
      "Help on function unique in module numpy:\n",
      "\n",
      "unique(ar, return_index=False, return_inverse=False, return_counts=False, axis=None)\n",
      "    Find the unique elements of an array.\n",
      "    \n",
      "    Returns the sorted unique elements of an array. There are three optional\n",
      "    outputs in addition to the unique elements:\n",
      "    \n",
      "    * the indices of the input array that give the unique values\n",
      "    * the indices of the unique array that reconstruct the input array\n",
      "    * the number of times each unique value comes up in the input array\n",
      "    \n",
      "    Parameters\n",
      "    ----------\n",
      "    ar : array_like\n",
      "        Input array. Unless `axis` is specified, this will be flattened if it\n",
      "        is not already 1-D.\n",
      "    return_index : bool, optional\n",
      "        If True, also return the indices of `ar` (along the specified axis,\n",
      "        if provided, or in the flattened array) that result in the unique array.\n",
      "    return_inverse : bool, optional\n",
      "        If True, also return the indices of the unique array (for the specified\n",
      "        axis, if provided) that can be used to reconstruct `ar`.\n",
      "    return_counts : bool, optional\n",
      "        If True, also return the number of times each unique item appears\n",
      "        in `ar`.\n",
      "    \n",
      "        .. versionadded:: 1.9.0\n",
      "    \n",
      "    axis : int or None, optional\n",
      "        The axis to operate on. If None, `ar` will be flattened. If an integer,\n",
      "        the subarrays indexed by the given axis will be flattened and treated\n",
      "        as the elements of a 1-D array with the dimension of the given axis,\n",
      "        see the notes for more details.  Object arrays or structured arrays\n",
      "        that contain objects are not supported if the `axis` kwarg is used. The\n",
      "        default is None.\n",
      "    \n",
      "        .. versionadded:: 1.13.0\n",
      "    \n",
      "    Returns\n",
      "    -------\n",
      "    unique : ndarray\n",
      "        The sorted unique values.\n",
      "    unique_indices : ndarray, optional\n",
      "        The indices of the first occurrences of the unique values in the\n",
      "        original array. Only provided if `return_index` is True.\n",
      "    unique_inverse : ndarray, optional\n",
      "        The indices to reconstruct the original array from the\n",
      "        unique array. Only provided if `return_inverse` is True.\n",
      "    unique_counts : ndarray, optional\n",
      "        The number of times each of the unique values comes up in the\n",
      "        original array. Only provided if `return_counts` is True.\n",
      "    \n",
      "        .. versionadded:: 1.9.0\n",
      "    \n",
      "    See Also\n",
      "    --------\n",
      "    numpy.lib.arraysetops : Module with a number of other functions for\n",
      "                            performing set operations on arrays.\n",
      "    \n",
      "    Notes\n",
      "    -----\n",
      "    When an axis is specified the subarrays indexed by the axis are sorted.\n",
      "    This is done by making the specified axis the first dimension of the array\n",
      "    (move the axis to the first dimension to keep the order of the other axes)\n",
      "    and then flattening the subarrays in C order. The flattened subarrays are\n",
      "    then viewed as a structured type with each element given a label, with the\n",
      "    effect that we end up with a 1-D array of structured types that can be\n",
      "    treated in the same way as any other 1-D array. The result is that the\n",
      "    flattened subarrays are sorted in lexicographic order starting with the\n",
      "    first element.\n",
      "    \n",
      "    Examples\n",
      "    --------\n",
      "    >>> np.unique([1, 1, 2, 2, 3, 3])\n",
      "    array([1, 2, 3])\n",
      "    >>> a = np.array([[1, 1], [2, 3]])\n",
      "    >>> np.unique(a)\n",
      "    array([1, 2, 3])\n",
      "    \n",
      "    Return the unique rows of a 2D array\n",
      "    \n",
      "    >>> a = np.array([[1, 0, 0], [1, 0, 0], [2, 3, 4]])\n",
      "    >>> np.unique(a, axis=0)\n",
      "    array([[1, 0, 0], [2, 3, 4]])\n",
      "    \n",
      "    Return the indices of the original array that give the unique values:\n",
      "    \n",
      "    >>> a = np.array(['a', 'b', 'b', 'c', 'a'])\n",
      "    >>> u, indices = np.unique(a, return_index=True)\n",
      "    >>> u\n",
      "    array(['a', 'b', 'c'], dtype='<U1')\n",
      "    >>> indices\n",
      "    array([0, 1, 3])\n",
      "    >>> a[indices]\n",
      "    array(['a', 'b', 'c'], dtype='<U1')\n",
      "    \n",
      "    Reconstruct the input array from the unique values:\n",
      "    \n",
      "    >>> a = np.array([1, 2, 6, 4, 2, 3, 2])\n",
      "    >>> u, indices = np.unique(a, return_inverse=True)\n",
      "    >>> u\n",
      "    array([1, 2, 3, 4, 6])\n",
      "    >>> indices\n",
      "    array([0, 1, 4, ..., 1, 2, 1])\n",
      "    >>> u[indices]\n",
      "    array([1, 2, 6, ..., 2, 3, 2])\n",
      "\n"
     ]
    }
   ],
   "source": [
    "help(np.unique)"
   ]
  },
  {
   "cell_type": "code",
   "execution_count": 33,
   "metadata": {},
   "outputs": [],
   "source": [
    "index, count = np.unique(t1, return_counts = True)"
   ]
  },
  {
   "cell_type": "code",
   "execution_count": 35,
   "metadata": {},
   "outputs": [
    {
     "data": {
      "text/plain": [
       "array([ 2, 11, 34])"
      ]
     },
     "execution_count": 35,
     "metadata": {},
     "output_type": "execute_result"
    }
   ],
   "source": [
    "index"
   ]
  },
  {
   "cell_type": "code",
   "execution_count": 37,
   "metadata": {},
   "outputs": [
    {
     "data": {
      "text/plain": [
       "array([2, 2, 2], dtype=int64)"
      ]
     },
     "execution_count": 37,
     "metadata": {},
     "output_type": "execute_result"
    }
   ],
   "source": [
    "count"
   ]
  },
  {
   "cell_type": "code",
   "execution_count": 39,
   "metadata": {},
   "outputs": [],
   "source": [
    "t2 = ['a', 'b', 'b', 'c', 'a']"
   ]
  },
  {
   "cell_type": "code",
   "execution_count": 44,
   "metadata": {},
   "outputs": [
    {
     "data": {
      "text/plain": [
       "(array(['a', 'b', 'c'], dtype='<U1'), array([2, 2, 1], dtype=int64))"
      ]
     },
     "execution_count": 44,
     "metadata": {},
     "output_type": "execute_result"
    }
   ],
   "source": [
    "a = np.array(t2)\n",
    "index, count = np.unique(a, return_counts = True)\n",
    "index, count"
   ]
  },
  {
   "cell_type": "markdown",
   "metadata": {},
   "source": [
    "* bincount 함수는 0 부터 minlength - 1 까지의 숫자에 대해 각각 카운트를 한다. 데이터가 없을 경우에는 카운트 값이 0이 됨"
   ]
  },
  {
   "cell_type": "code",
   "execution_count": 45,
   "metadata": {},
   "outputs": [
    {
     "name": "stdout",
     "output_type": "stream",
     "text": [
      "Help on function bincount in module numpy:\n",
      "\n",
      "bincount(...)\n",
      "    bincount(x, weights=None, minlength=0)\n",
      "    \n",
      "    Count number of occurrences of each value in array of non-negative ints.\n",
      "    \n",
      "    The number of bins (of size 1) is one larger than the largest value in\n",
      "    `x`. If `minlength` is specified, there will be at least this number\n",
      "    of bins in the output array (though it will be longer if necessary,\n",
      "    depending on the contents of `x`).\n",
      "    Each bin gives the number of occurrences of its index value in `x`.\n",
      "    If `weights` is specified the input array is weighted by it, i.e. if a\n",
      "    value ``n`` is found at position ``i``, ``out[n] += weight[i]`` instead\n",
      "    of ``out[n] += 1``.\n",
      "    \n",
      "    Parameters\n",
      "    ----------\n",
      "    x : array_like, 1 dimension, nonnegative ints\n",
      "        Input array.\n",
      "    weights : array_like, optional\n",
      "        Weights, array of the same shape as `x`.\n",
      "    minlength : int, optional\n",
      "        A minimum number of bins for the output array.\n",
      "    \n",
      "        .. versionadded:: 1.6.0\n",
      "    \n",
      "    Returns\n",
      "    -------\n",
      "    out : ndarray of ints\n",
      "        The result of binning the input array.\n",
      "        The length of `out` is equal to ``np.amax(x)+1``.\n",
      "    \n",
      "    Raises\n",
      "    ------\n",
      "    ValueError\n",
      "        If the input is not 1-dimensional, or contains elements with negative\n",
      "        values, or if `minlength` is negative.\n",
      "    TypeError\n",
      "        If the type of the input is float or complex.\n",
      "    \n",
      "    See Also\n",
      "    --------\n",
      "    histogram, digitize, unique\n",
      "    \n",
      "    Examples\n",
      "    --------\n",
      "    >>> np.bincount(np.arange(5))\n",
      "    array([1, 1, 1, 1, 1])\n",
      "    >>> np.bincount(np.array([0, 1, 1, 3, 2, 1, 7]))\n",
      "    array([1, 3, 1, 1, 0, 0, 0, 1])\n",
      "    \n",
      "    >>> x = np.array([0, 1, 1, 3, 2, 1, 7, 23])\n",
      "    >>> np.bincount(x).size == np.amax(x)+1\n",
      "    True\n",
      "    \n",
      "    The input array needs to be of integer dtype, otherwise a\n",
      "    TypeError is raised:\n",
      "    \n",
      "    >>> np.bincount(np.arange(5, dtype=float))\n",
      "    Traceback (most recent call last):\n",
      "      File \"<stdin>\", line 1, in <module>\n",
      "    TypeError: array cannot be safely cast to required type\n",
      "    \n",
      "    A possible use of ``bincount`` is to perform sums over\n",
      "    variable-size chunks of an array, using the ``weights`` keyword.\n",
      "    \n",
      "    >>> w = np.array([0.3, 0.5, 0.2, 0.7, 1., -0.6]) # weights\n",
      "    >>> x = np.array([0, 1, 1, 2, 2, 2])\n",
      "    >>> np.bincount(x,  weights=w)\n",
      "    array([ 0.3,  0.7,  1.1])\n",
      "\n"
     ]
    }
   ],
   "source": [
    "help(np.bincount)"
   ]
  },
  {
   "cell_type": "code",
   "execution_count": 47,
   "metadata": {},
   "outputs": [
    {
     "data": {
      "text/plain": [
       "array([1, 1, 1, 1, 1], dtype=int64)"
      ]
     },
     "execution_count": 47,
     "metadata": {},
     "output_type": "execute_result"
    }
   ],
   "source": [
    "np.bincount(np.arange(5))  # 각각의 원소가 등장하는 빈도수를 리턴"
   ]
  },
  {
   "cell_type": "code",
   "execution_count": 49,
   "metadata": {},
   "outputs": [
    {
     "data": {
      "text/plain": [
       "array([1, 3, 1, 1, 0, 0, 0, 1], dtype=int64)"
      ]
     },
     "execution_count": 49,
     "metadata": {},
     "output_type": "execute_result"
    }
   ],
   "source": [
    "np.bincount(np.array([0, 1, 1, 3, 2, 1, 7]))"
   ]
  },
  {
   "cell_type": "code",
   "execution_count": 52,
   "metadata": {},
   "outputs": [
    {
     "data": {
      "text/plain": [
       "array([0, 4, 1, 1, 0, 0, 0, 1, 2], dtype=int64)"
      ]
     },
     "execution_count": 52,
     "metadata": {},
     "output_type": "execute_result"
    }
   ],
   "source": [
    "np.bincount(np.array([1, 1, 1, 3, 2, 1, 7, 8, 8]))  # minlength = 0"
   ]
  }
 ],
 "metadata": {
  "kernelspec": {
   "display_name": "Python 3",
   "language": "python",
   "name": "python3"
  },
  "language_info": {
   "codemirror_mode": {
    "name": "ipython",
    "version": 3
   },
   "file_extension": ".py",
   "mimetype": "text/x-python",
   "name": "python",
   "nbconvert_exporter": "python",
   "pygments_lexer": "ipython3",
   "version": "3.8.3"
  }
 },
 "nbformat": 4,
 "nbformat_minor": 4
}
