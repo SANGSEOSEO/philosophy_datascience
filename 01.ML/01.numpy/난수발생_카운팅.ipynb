{
 "cells": [
  {
   "cell_type": "markdown",
   "metadata": {},
   "source": [
    "## 난수발생과 카운팅\n",
    "* random 서브 패키지 \n",
    "* seed값 설정"
   ]
  },
  {
   "cell_type": "code",
   "execution_count": 1,
   "metadata": {},
   "outputs": [],
   "source": [
    "import numpy as np"
   ]
  },
  {
   "cell_type": "markdown",
   "metadata": {},
   "source": [
    "### 시드값 설정"
   ]
  },
  {
   "cell_type": "code",
   "execution_count": 2,
   "metadata": {},
   "outputs": [],
   "source": [
    "np.random.seed(0)"
   ]
  },
  {
   "cell_type": "code",
   "execution_count": 8,
   "metadata": {},
   "outputs": [
    {
     "data": {
      "text/plain": [
       "array([0.63992102, 0.14335329, 0.94466892, 0.52184832, 0.41466194])"
      ]
     },
     "execution_count": 8,
     "metadata": {},
     "output_type": "execute_result"
    }
   ],
   "source": [
    "# 0과 1사이의 난수값 5개 발생\n",
    "np.random.rand(5)"
   ]
  },
  {
   "cell_type": "code",
   "execution_count": 10,
   "metadata": {},
   "outputs": [
    {
     "data": {
      "text/plain": [
       "array([0.3595079 , 0.43703195, 0.6976312 , 0.06022547, 0.66676672,\n",
       "       0.67063787, 0.21038256, 0.1289263 , 0.31542835, 0.36371077])"
      ]
     },
     "execution_count": 10,
     "metadata": {},
     "output_type": "execute_result"
    }
   ],
   "source": [
    "np.random.rand(10)"
   ]
  },
  {
   "cell_type": "code",
   "execution_count": 12,
   "metadata": {},
   "outputs": [
    {
     "data": {
      "text/plain": [
       "array([0.15896958, 0.11037514, 0.65632959, 0.13818295, 0.19658236,\n",
       "       0.36872517, 0.82099323, 0.09710128, 0.83794491, 0.09609841])"
      ]
     },
     "execution_count": 12,
     "metadata": {},
     "output_type": "execute_result"
    }
   ],
   "source": [
    "np.random.rand(10)"
   ]
  },
  {
   "cell_type": "code",
   "execution_count": 14,
   "metadata": {},
   "outputs": [],
   "source": [
    "np.random.seed(0)"
   ]
  },
  {
   "cell_type": "code",
   "execution_count": 16,
   "metadata": {},
   "outputs": [
    {
     "data": {
      "text/plain": [
       "array([0.64589411, 0.43758721, 0.891773  , 0.96366276, 0.38344152])"
      ]
     },
     "execution_count": 16,
     "metadata": {},
     "output_type": "execute_result"
    }
   ],
   "source": [
    "np.random.rand(5)"
   ]
  },
  {
   "cell_type": "code",
   "execution_count": 18,
   "metadata": {},
   "outputs": [
    {
     "data": {
      "text/plain": [
       "array([0.97861834, 0.79915856, 0.46147936, 0.78052918, 0.11827443,\n",
       "       0.63992102, 0.14335329, 0.94466892, 0.52184832, 0.41466194])"
      ]
     },
     "execution_count": 18,
     "metadata": {},
     "output_type": "execute_result"
    }
   ],
   "source": [
    "np.random.rand(10)"
   ]
  },
  {
   "cell_type": "code",
   "execution_count": 34,
   "metadata": {},
   "outputs": [
    {
     "data": {
      "text/plain": [
       "array([0.16469416, 0.6214784 , 0.57722859, 0.23789282, 0.934214  ,\n",
       "       0.61396596, 0.5356328 , 0.58990998, 0.73012203, 0.311945  ])"
      ]
     },
     "execution_count": 34,
     "metadata": {},
     "output_type": "execute_result"
    }
   ],
   "source": [
    "np.random.rand(10)"
   ]
  },
  {
   "cell_type": "markdown",
   "metadata": {},
   "source": [
    "### 데이터의 순서 바꾸기 "
   ]
  },
  {
   "cell_type": "code",
   "execution_count": 37,
   "metadata": {},
   "outputs": [
    {
     "data": {
      "text/plain": [
       "array([0, 1, 2, 3, 4, 5, 6, 7, 8, 9])"
      ]
     },
     "execution_count": 37,
     "metadata": {},
     "output_type": "execute_result"
    }
   ],
   "source": [
    "x = np.arange(10)\n",
    "x"
   ]
  },
  {
   "cell_type": "code",
   "execution_count": 41,
   "metadata": {},
   "outputs": [
    {
     "data": {
      "text/plain": [
       "array([5, 1, 4, 6, 3, 9, 0, 7, 8, 2])"
      ]
     },
     "execution_count": 41,
     "metadata": {},
     "output_type": "execute_result"
    }
   ],
   "source": [
    "np.random.shuffle(x)\n",
    "x"
   ]
  },
  {
   "cell_type": "markdown",
   "metadata": {},
   "source": [
    "## 데이터 샘플링\n",
    "numpy.random.choice(a, size = None, replae = True, p=None)\n",
    "* a: 배열이면 원래의 데이터, 정수이면 arange(a) 명령으로  데이터 생성\n",
    "* size : 정수, 샘플 숫자\n",
    "* replace : booena, True이면 한번 선택한 데이터를 다시 선택\n",
    "* p : 배열, 각 데이터가 선택될 수 있는 확률"
   ]
  },
  {
   "cell_type": "code",
   "execution_count": 44,
   "metadata": {},
   "outputs": [
    {
     "data": {
      "text/plain": [
       "array([0, 4, 2, 1, 3])"
      ]
     },
     "execution_count": 44,
     "metadata": {},
     "output_type": "execute_result"
    }
   ],
   "source": [
    "np.random.choice(5, 5, replace=False)  # shuffle 명령과 같다."
   ]
  },
  {
   "cell_type": "code",
   "execution_count": 46,
   "metadata": {},
   "outputs": [
    {
     "data": {
      "text/plain": [
       "array([3, 4, 0])"
      ]
     },
     "execution_count": 46,
     "metadata": {},
     "output_type": "execute_result"
    }
   ],
   "source": [
    "np.random.choice(5, 3, replace = False)                                                                                                                                                                              \n",
    "    "
   ]
  },
  {
   "cell_type": "code",
   "execution_count": 66,
   "metadata": {},
   "outputs": [
    {
     "data": {
      "text/plain": [
       "array([0, 0, 4, 4, 0, 4, 4, 2, 0, 4])"
      ]
     },
     "execution_count": 66,
     "metadata": {},
     "output_type": "execute_result"
    }
   ],
   "source": [
    "np.random.choice(5, 10) # 0부터 4까지의 숫자를 10개 "
   ]
  },
  {
   "cell_type": "markdown",
   "metadata": {},
   "source": [
    "## 난수 생성\n",
    "* rand : 0부터 1사이의 균일분포\n",
    "* randn : 표준 정규분포(기대값이 0이고 표준편차가 1인 표준 정규분포인 난수 생성)\n",
    "* randint : 균일분포의 정수 난수 "
   ]
  },
  {
   "cell_type": "code",
   "execution_count": 68,
   "metadata": {},
   "outputs": [
    {
     "data": {
      "text/plain": [
       "array([0.25146379, 0.93229531, 0.99300131, 0.16453272, 0.51290532,\n",
       "       0.86347622, 0.34769799, 0.24263733, 0.73106521, 0.97751782])"
      ]
     },
     "execution_count": 68,
     "metadata": {},
     "output_type": "execute_result"
    }
   ],
   "source": [
    "np.random.rand(10) # 0부터 1사이의 실수 난수 10개를 생성"
   ]
  },
  {
   "cell_type": "code",
   "execution_count": 69,
   "metadata": {},
   "outputs": [
    {
     "data": {
      "text/plain": [
       "array([[0.50374782, 0.39243057, 0.39193287, 0.79450646, 0.70606101],\n",
       "       [0.31891733, 0.97458866, 0.89158049, 0.70092806, 0.44077719],\n",
       "       [0.20729598, 0.6649647 , 0.75389007, 0.60407755, 0.49561678]])"
      ]
     },
     "execution_count": 69,
     "metadata": {},
     "output_type": "execute_result"
    }
   ],
   "source": [
    "np.random.rand(3, 5)   # 3행 5열의 0부터 1사이의 수를 리턴"
   ]
  },
  {
   "cell_type": "code",
   "execution_count": 70,
   "metadata": {},
   "outputs": [
    {
     "data": {
      "text/plain": [
       "array([ 0.26279563, -0.3525333 ,  1.17390053, -0.02787465, -0.79000299,\n",
       "       -0.01625444,  0.5152652 , -0.28143394,  0.10263516, -0.03623992])"
      ]
     },
     "execution_count": 70,
     "metadata": {},
     "output_type": "execute_result"
    }
   ],
   "source": [
    "np.random.randn(10)   # 10개의 표준정규분포를 이루는 난수 생성"
   ]
  },
  {
   "cell_type": "code",
   "execution_count": 72,
   "metadata": {},
   "outputs": [
    {
     "data": {
      "text/plain": [
       "array([[ 0.82293674, -0.42394496, -0.29928932, -0.02557865, -0.5789237 ],\n",
       "       [ 0.88292964,  0.1951693 , -0.2148443 ,  0.67505911,  0.07998473],\n",
       "       [ 0.75275396, -1.25719337,  0.28985118, -0.31398504, -0.47184063]])"
      ]
     },
     "execution_count": 72,
     "metadata": {},
     "output_type": "execute_result"
    }
   ],
   "source": [
    "np.random.randn(3, 5)  # 3행 5열의 표준정규분포를 이루는 난수 생성"
   ]
  },
  {
   "cell_type": "markdown",
   "metadata": {},
   "source": [
    "randint함수는 다음과 같은 인수를 가지낟.\n",
    "* numpy.random.rnadint(low, high=None, size = None)\n",
    "* hight를 입력하지 않으면 0과 low값 사이의 숫자를,hight를 입력하면 low,high값 사이의 숫자를 출력\n",
    "* size는 난수의 갯수"
   ]
  },
  {
   "cell_type": "code",
   "execution_count": 77,
   "metadata": {},
   "outputs": [
    {
     "data": {
      "text/plain": [
       "array([2, 5, 4, 1, 0, 2, 5, 4, 2, 7])"
      ]
     },
     "execution_count": 77,
     "metadata": {},
     "output_type": "execute_result"
    }
   ],
   "source": [
    "np.random.randint(10, size = 10)"
   ]
  },
  {
   "cell_type": "code",
   "execution_count": 79,
   "metadata": {},
   "outputs": [
    {
     "data": {
      "text/plain": [
       "array([11, 15, 19, 15, 12, 13, 13, 13, 18, 15])"
      ]
     },
     "execution_count": 79,
     "metadata": {},
     "output_type": "execute_result"
    }
   ],
   "source": [
    "np.random.randint(10, 20, size = 10)"
   ]
  },
  {
   "cell_type": "code",
   "execution_count": 80,
   "metadata": {},
   "outputs": [
    {
     "data": {
      "text/plain": [
       "array([[19, 15, 11, 18, 17],\n",
       "       [17, 11, 19, 10, 19],\n",
       "       [14, 16, 10, 13, 13]])"
      ]
     },
     "execution_count": 80,
     "metadata": {},
     "output_type": "execute_result"
    }
   ],
   "source": [
    "np.random.randint(10, 20, size = (3, 5))"
   ]
  },
  {
   "cell_type": "markdown",
   "metadata": {},
   "source": [
    "### 연습문제 3.5.1"
   ]
  },
  {
   "cell_type": "markdown",
   "metadata": {},
   "source": [
    "#### 동전을 10번던져 앞면(숫자1), 뒷면(숫자 0)이 나오는 가상시험"
   ]
  },
  {
   "cell_type": "code",
   "execution_count": 54,
   "metadata": {},
   "outputs": [
    {
     "data": {
      "text/plain": [
       "array([0, 0, 1, 1, 1, 0, 0, 1, 0, 0])"
      ]
     },
     "execution_count": 54,
     "metadata": {},
     "output_type": "execute_result"
    }
   ],
   "source": [
    "np.random.randint(0,2 , size = 10)"
   ]
  },
  {
   "cell_type": "markdown",
   "metadata": {},
   "source": [
    "#### 주사위를 100번 던져 나오는 수의 합계 구하기 "
   ]
  },
  {
   "cell_type": "code",
   "execution_count": 65,
   "metadata": {},
   "outputs": [
    {
     "data": {
      "text/plain": [
       "367"
      ]
     },
     "execution_count": 65,
     "metadata": {},
     "output_type": "execute_result"
    }
   ],
   "source": [
    "np.sum(np.random.randint(low = 1, high = 7, size = 100))"
   ]
  },
  {
   "cell_type": "markdown",
   "metadata": {},
   "source": [
    "### 연습문제 3.5.2\n",
    "가격이 10,000원인 주식이 있다. 이 주식의 일간 수익률(%)은 기댓값이 0%이고 표준편차가 1%인 표준 정규 분포를 따른다고 하자. 250일 동안의 주가를 무작위로 생성하라"
   ]
  },
  {
   "cell_type": "code",
   "execution_count": 75,
   "metadata": {
    "scrolled": true
   },
   "outputs": [
    {
     "data": {
      "text/plain": [
       "array([ 14708.09067693, -10770.70900217,  15151.49990838,   -812.53700323,\n",
       "        -8684.14437938,   3452.77163152,   3282.31127502,  10008.36956956,\n",
       "         1238.71826513,   5483.56364566,   -445.83817888,  14867.51116523,\n",
       "        15468.49001079,  18683.91669577,  -1330.96897131,  -5227.68160612,\n",
       "       -10330.7527006 ,  -2167.96526847, -12712.11550145,  -7070.0454494 ,\n",
       "         7847.01215911,   1025.18285009,   -743.98050401,  -5297.69048775,\n",
       "        -6126.98216383,   2470.37248393, -15689.14515665,  13420.13470824,\n",
       "        -7694.94996764,   8087.81352161,  28762.20127455,  -2426.12738847,\n",
       "         2659.16823824, -14720.72815607,  -9660.77163962,   8411.86946985,\n",
       "        -3765.42402519,  10579.63184439,   8885.75346064, -16526.43037314,\n",
       "        -9422.43386252,  -2357.95054021,  11359.87950046,  -2892.98881181,\n",
       "        24008.79049595,   5118.14820217, -10824.04295354,  -4678.41984485,\n",
       "        15717.02520699,  21260.19131332,  -2715.71350479,   2862.03834175,\n",
       "       -10073.27066828, -22193.89467582,  -7619.79363434, -18149.27535104,\n",
       "         2602.73225319, -19476.98486444,    983.42074078,  -4972.64265746,\n",
       "        -2859.30746536,   1850.89356343,   6298.15246665,  19790.85801907,\n",
       "       -12702.93495884,  -2498.66061813,    137.32876668,  -5187.70742352,\n",
       "        -3450.95765302,    103.92931319, -13387.49166899,  13768.64647975,\n",
       "       -28230.84537849, -12898.15929936,    608.62193546,  19256.02857016,\n",
       "       -11844.88300861,  -5071.50708365, -13987.81531239,   7044.819147  ,\n",
       "         4389.8064844 ,   1792.62275093,   8334.50697049,  -7409.23031759,\n",
       "       -10766.83504016,  16743.89225265, -10370.65123382,   9711.72851058,\n",
       "        -7964.63052452, -16057.7255284 ,  14686.55961248, -21430.89090103,\n",
       "        10234.09561929,  -3357.3569448 ,   7121.64796943,   2287.32239653,\n",
       "         9701.71113622,   7642.55326659,   9907.49671783,   2040.08005285,\n",
       "         1634.89748288,  -2349.18681675,   9870.6485442 ,   4402.58541066,\n",
       "         -962.4098587 ,  10391.12328192,  -7188.84807752,  21572.21147281,\n",
       "        13314.04267276,  18371.05967758,   2876.68093511,  15139.36701988,\n",
       "        20628.86438558,  13472.62249561,   6881.66269379, -10560.7392381 ,\n",
       "         -319.80442809,   4430.08554044, -13975.52511145,   7575.00177927,\n",
       "        -2525.83757306, -14264.07909266,   6248.94757964,  -4419.49025949,\n",
       "        -1267.83054675,  -2654.97718499,  11703.2221526 ,    323.21113359,\n",
       "       -16369.2012463 ,  -4483.78879641,  21438.3217598 ,    786.16805725,\n",
       "        -1796.86343753,  -4968.18027204,   1217.00890888, -24542.5102964 ,\n",
       "         3510.56397786,   3953.764339  ,   2303.25091392, -23543.2223296 ,\n",
       "       -10445.58356147,   3142.73758219,   6541.49930416,   3285.83614298,\n",
       "         2181.72213628, -15112.53598972,   1580.3046743 ,  -2351.45716507,\n",
       "       -10066.38859505,    204.28450846,  16349.80946011,    970.64780173,\n",
       "        -3151.75450402,  -8394.60778626,  14352.07840372,  -2253.99540196,\n",
       "         8012.68803668,  17052.7456825 ,   -232.45982766,   3115.61842679,\n",
       "        -2472.65715838,   6283.73889127, -19076.55875391, -13651.89199132,\n",
       "         6804.14792382,   1524.74026602,   6150.40366911,   4931.76220779,\n",
       "          863.06563315,  -1059.04152314,  -1185.67343916,    437.14075642,\n",
       "       -16369.90888047,  -9120.68945887,  -3089.76364023,  -6447.83388877,\n",
       "        -6840.72736177,   -187.12273773,   5874.83932314,   7155.6745709 ,\n",
       "         5695.82686153,   8477.57433211,  -4602.15639474,   7956.6806651 ,\n",
       "        13188.50963087,  -2999.02798891,  10707.09426066,  -6889.60707349,\n",
       "         5376.18231113, -15373.08285442,  -3193.29505327,  -9753.96062145,\n",
       "         2082.28728041,   3424.70736504,  19782.41022537,  -5729.2548291 ,\n",
       "         4459.92142187,  17717.28207673,   9746.91666374,  14167.10808559,\n",
       "        -6750.66536562,   3090.48460399,   -571.84412664,  16277.55195631,\n",
       "        -5841.14410015,  -9646.33887458,   3979.26357854,   1033.90098718,\n",
       "         -380.10689226,  22137.71141978, -10293.91743852,  -3861.20971241,\n",
       "         5393.12504908,  -4157.8900003 ,  -7184.75573603, -12760.18189549,\n",
       "         -347.35133274,   7614.47380113,  11896.55727308,   3332.57795406,\n",
       "         1083.36863095, -11473.39067619,    982.22313813,  -9210.79574374,\n",
       "        10962.84576117,  22448.96713684,  10044.9944219 ,  -3912.48565439,\n",
       "        10630.48007826,  -7667.57200553,  13647.56840992,  -2302.04696486,\n",
       "         5589.77297308,   5078.30588121,  10706.70597487,   7922.09217714,\n",
       "         7133.55648874,   7939.63675549, -12530.16948906,  -4469.40232398,\n",
       "        -4895.14559445,   5548.30960386,  -2323.70322312,  10437.83281883,\n",
       "         2104.41185049,   6283.4601508 ,  27327.64545364,   6650.24647675,\n",
       "       -11161.06234326,   1120.18164047])"
      ]
     },
     "execution_count": 75,
     "metadata": {},
     "output_type": "execute_result"
    }
   ],
   "source": [
    "np.random.randn(250) * 10000"
   ]
  }
 ],
 "metadata": {
  "kernelspec": {
   "display_name": "Python 3",
   "language": "python",
   "name": "python3"
  },
  "language_info": {
   "codemirror_mode": {
    "name": "ipython",
    "version": 3
   },
   "file_extension": ".py",
   "mimetype": "text/x-python",
   "name": "python",
   "nbconvert_exporter": "python",
   "pygments_lexer": "ipython3",
   "version": "3.8.3"
  }
 },
 "nbformat": 4,
 "nbformat_minor": 4
}
