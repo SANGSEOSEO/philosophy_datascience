{
 "cells": [
  {
   "cell_type": "markdown",
   "metadata": {},
   "source": [
    "### Numpy ndarray개념\n",
    "* ndarray생성 - np.array()"
   ]
  },
  {
   "cell_type": "code",
   "execution_count": 1,
   "metadata": {},
   "outputs": [],
   "source": [
    "import numpy as np\n",
    "import matplotlib.pyplot as plt\n",
    "%matplotlib inline"
   ]
  },
  {
   "cell_type": "code",
   "execution_count": 3,
   "metadata": {},
   "outputs": [
    {
     "data": {
      "text/plain": [
       "(array([1., 0., 0., 1., 0., 0., 1., 0., 0., 1.]),\n",
       " array([1. , 1.3, 1.6, 1.9, 2.2, 2.5, 2.8, 3.1, 3.4, 3.7, 4. ]),\n",
       " <BarContainer object of 10 artists>)"
      ]
     },
     "execution_count": 3,
     "metadata": {},
     "output_type": "execute_result"
    },
    {
     "data": {
      "image/png": "[encoded data removed]",
      "text/plain": [
       "<Figure size 432x288 with 1 Axes>"
      ]
     },
     "metadata": {
      "needs_background": "light"
     },
     "output_type": "display_data"
    }
   ],
   "source": [
    "array1 = np.array([1,2,3,4])\n",
    "plt.hist(array1)"
   ]
  },
  {
   "cell_type": "code",
   "execution_count": 96,
   "metadata": {},
   "outputs": [
    {
     "name": "stdout",
     "output_type": "stream",
     "text": [
      "list1 type <class 'list'>\n",
      "array1 type :  <class 'numpy.ndarray'>\n",
      "array1 shape:  (3,)\n",
      "array2 type : <class 'numpy.ndarray'>, array2 shape : (2, 3)\n",
      "array3 type: <class 'numpy.ndarray'>, array3 shape : (1, 3)\n"
     ]
    }
   ],
   "source": [
    "list1 = [1, 2, 3]\n",
    "print('list1 type', type(list1))   # R에서는 typeof\n",
    "array1 = np.array(list1)\n",
    "print('array1 type : ', type(array1))  # <class 'numpy.ndarray'>\n",
    "print('array1 shape: ', array1.shape)  # array1 shape:  (3,) _ 1차원\n",
    "\n",
    "array2 = np.array(\n",
    "                    [\n",
    "                        [1,2,3], [2,3,4]\n",
    "                    ]\n",
    "                 )\n",
    "\n",
    "print(f'array2 type : {type(array2)}, array2 shape : {array2.shape}')   # R에서의 dim과 동일\n",
    "\n",
    "array3 = np.array([[1, 2, 3]]) \n",
    "print(f\"array3 type: {type(array3)}, array3 shape : {array3.shape}\")"
   ]
  },
  {
   "cell_type": "code",
   "execution_count": 97,
   "metadata": {},
   "outputs": [
    {
     "name": "stdout",
     "output_type": "stream",
     "text": [
      "array1: 1 차원, array2 : 2 차원, array2: 2 차원 \n"
     ]
    }
   ],
   "source": [
    "print(f\"array1: {array1.ndim} 차원, array2 : {array2.ndim} 차원, array2: {array3.ndim} 차원 \")"
   ]
  },
  {
   "cell_type": "code",
   "execution_count": 98,
   "metadata": {},
   "outputs": [
    {
     "name": "stdout",
     "output_type": "stream",
     "text": [
      "array1 : 1차원,array2: 2차원, array2:  2차원\n"
     ]
    }
   ],
   "source": [
    "print(\"array1 : {:0}차원,array2: {:1}차원, array2: {:2}차원\".format(array1.ndim, array2.ndim, array3.ndim))"
   ]
  },
  {
   "cell_type": "markdown",
   "metadata": {},
   "source": [
    "### ndarray의 데이터 타입"
   ]
  },
  {
   "cell_type": "code",
   "execution_count": 101,
   "metadata": {},
   "outputs": [
    {
     "name": "stdout",
     "output_type": "stream",
     "text": [
      "<class 'list'>\n",
      "<class 'numpy.ndarray'>\n",
      "[1 2 3] int32\n"
     ]
    }
   ],
   "source": [
    "list1 = [1, 2, 3]\n",
    "print(type(list1))\n",
    "array1 = np.array(list1)\n",
    "print(type(array1))\n",
    "print(array1, array1.dtype)"
   ]
  },
  {
   "cell_type": "code",
   "execution_count": 104,
   "metadata": {},
   "outputs": [
    {
     "name": "stdout",
     "output_type": "stream",
     "text": [
      "['1' '2' 'test'] <U11\n",
      "[1. 2. 3.] float64\n"
     ]
    }
   ],
   "source": [
    "list2 = [1, 2, 'test']\n",
    "array2 = np.array(list2)  # 숫자형은 문자형으로 형변환됨을 확인\n",
    "print(array2, array2.dtype) # '1' '2' 'test'] <U11 (문자열을 의미)\n",
    "\n",
    "list3 = [1, 2, 3.0]  # int와 float타입이 혼재되어 있는데 array3은 데이터타입은 float로 일괄 변경되었음을 알수잇다.\n",
    "array3 = np.array(list3)\n",
    "print(array3, array3.dtype)"
   ]
  },
  {
   "cell_type": "code",
   "execution_count": 105,
   "metadata": {
    "scrolled": true
   },
   "outputs": [
    {
     "name": "stdout",
     "output_type": "stream",
     "text": [
      "[1. 2. 3.] float64\n",
      "[1 2 3] int32\n",
      "[1 2 3] int32\n",
      "[1.  2.  3.3] float64\n"
     ]
    }
   ],
   "source": [
    "array_int = np.array([1, 2,3])\n",
    "array_float = array_int.astype(np.float64) # astype('float64')\n",
    "print(array_float, array_float.dtype)\n",
    "\n",
    "array_int1 = array_float.astype(\"int32\")\n",
    "print(array_int1, array_int1.dtype)\n",
    "\n",
    "array_float1 = np.array([1.1, 2.1, 3.1])\n",
    "array_int2 = array_float1.astype('int32')\n",
    "print(array_int2, array_int2.dtype)\n",
    "\n",
    "array_int_float = np.array([1, 2, 3.3])\n",
    "print(array_int_float, array_int_float.dtype)  # [1.  2.  3.3] float64"
   ]
  },
  {
   "cell_type": "markdown",
   "metadata": {},
   "source": [
    "결과에서 보는 바와 같이 크기가 더 큰 타입으로 변환된다.\n",
    " - 숫자는 더 큰 문자형으로 같은 숫자형이면 더 큰 실수형으로 변경됨을 알 수 있다."
   ]
  },
  {
   "cell_type": "markdown",
   "metadata": {},
   "source": [
    "* **ndarray에서 axis기반의 연산함수 수행**"
   ]
  },
  {
   "attachments": {
    "numpy_axis.png": {
     "image/png": "[encoded data removed]"
    }
   },
   "cell_type": "markdown",
   "metadata": {},
   "source": [
    "![numpy_axis.png](attachment:numpy_axis.png)"
   ]
  },
  {
   "cell_type": "code",
   "execution_count": 18,
   "metadata": {},
   "outputs": [
    {
     "name": "stdout",
     "output_type": "stream",
     "text": [
      "[[0 1 2]\n",
      " [3 4 5]]\n"
     ]
    }
   ],
   "source": [
    "np_array_2d = np.arange(0, 6).reshape(2,3)\n",
    "print(np_array_2d)"
   ]
  },
  {
   "cell_type": "code",
   "execution_count": 19,
   "metadata": {},
   "outputs": [
    {
     "data": {
      "text/plain": [
       "array([3, 5, 7])"
      ]
     },
     "execution_count": 19,
     "metadata": {},
     "output_type": "execute_result"
    }
   ],
   "source": [
    "np.sum(np_array_2d,axis=0)"
   ]
  },
  {
   "cell_type": "code",
   "execution_count": 20,
   "metadata": {},
   "outputs": [
    {
     "data": {
      "text/plain": [
       "array([ 3, 12])"
      ]
     },
     "execution_count": 20,
     "metadata": {},
     "output_type": "execute_result"
    }
   ],
   "source": [
    "np.sum(np_array_2d, axis=1)"
   ]
  },
  {
   "cell_type": "code",
   "execution_count": 21,
   "metadata": {},
   "outputs": [
    {
     "name": "stdout",
     "output_type": "stream",
     "text": [
      "15\n",
      "[3 5 7]\n",
      "[6 9]\n"
     ]
    }
   ],
   "source": [
    "array2 = np.array([[1, 2, 3], [2, 3, 4]])\n",
    "print(array2.sum())  # 아무것도 없으면 전체를 다 더함.\n",
    "print(array2.sum(axis=0))  # 행방향\n",
    "print(array2.sum(axis=1))  # 열방향"
   ]
  },
  {
   "cell_type": "markdown",
   "metadata": {},
   "source": [
    "* **ndarray를 편리하게 생성 - arrange, zeros, ones**\n",
    "- 특정크기와 차원을 가진 ndaaray를 연속값이나 0또는 1로 초기화 생성해야 할 경우 사용(주로 테스트용으로 데이터를 만들거나 대규모의 데이터를 일괄적으로 초기화해야 할 경우 사용)"
   ]
  },
  {
   "cell_type": "markdown",
   "metadata": {},
   "source": [
    "* np.arange - Python's range function "
   ]
  },
  {
   "cell_type": "code",
   "execution_count": 32,
   "metadata": {},
   "outputs": [
    {
     "name": "stdout",
     "output_type": "stream",
     "text": [
      "[0 1 2 3 4 5 6 7 8 9]\n",
      "[0 1 2 3 4 5 6 7 8 9] <class 'numpy.ndarray'>\n",
      "int32 (10,)\n"
     ]
    }
   ],
   "source": [
    "print(np.arange(10)) # list(range(0,10))과 유사하다고 할 수 있음\n",
    "sequence_array = np.arange(10)\n",
    "print(sequence_array, type(sequence_array))\n",
    "print(sequence_array.dtype, sequence_array.shape)"
   ]
  },
  {
   "cell_type": "markdown",
   "metadata": {},
   "source": [
    "* 영행렬 - 모든 원소가 0인 `N`인 영벡터(zeros-vector)"
   ]
  },
  {
   "cell_type": "code",
   "execution_count": 34,
   "metadata": {},
   "outputs": [
    {
     "name": "stdout",
     "output_type": "stream",
     "text": [
      "[[0 0]\n",
      " [0 0]\n",
      " [0 0]]\n",
      "int32 (3, 2)\n"
     ]
    }
   ],
   "source": [
    "zero_array = np.zeros((3,2), dtype='int32')\n",
    "print(zero_array)\n",
    "print(zero_array.dtype, zero_array.shape)"
   ]
  },
  {
   "cell_type": "markdown",
   "metadata": {},
   "source": [
    "* 일벡터 - 모든 원소가 1인 n차원 벡터 - 일벡터(one-vector)"
   ]
  },
  {
   "cell_type": "code",
   "execution_count": 37,
   "metadata": {},
   "outputs": [
    {
     "name": "stdout",
     "output_type": "stream",
     "text": [
      "[[1 1]\n",
      " [1 1]\n",
      " [1 1]]\n",
      "int32 (3, 2)\n"
     ]
    }
   ],
   "source": [
    "one_array = np.ones((3,2), dtype='int32')\n",
    "print(one_array)\n",
    "print(one_array.dtype, one_array.shape)"
   ]
  },
  {
   "cell_type": "code",
   "execution_count": 40,
   "metadata": {},
   "outputs": [
    {
     "name": "stdout",
     "output_type": "stream",
     "text": [
      "[[1. 1. 1.]\n",
      " [1. 1. 1.]\n",
      " [1. 1. 1.]]\n",
      "float64 (3, 3)\n"
     ]
    }
   ],
   "source": [
    "one_array = np.ones((3, 3))  # dtype파라미터가 명시되어 있지 않으면 기본적으로 실수형으로 생성\n",
    "\n",
    "print(one_array)\n",
    "print(one_array.dtype, one_array.shape)"
   ]
  },
  {
   "cell_type": "markdown",
   "metadata": {},
   "source": [
    "#### reshape\n",
    "- ndarray의 차원과 크기를 변경하는 reshape()\n",
    "- 변환 형태를 함수 인자로 부여"
   ]
  },
  {
   "cell_type": "code",
   "execution_count": 51,
   "metadata": {},
   "outputs": [
    {
     "name": "stdout",
     "output_type": "stream",
     "text": [
      "arra1 \n",
      " [0 1 2 3 4 5 6 7 8 9]\n",
      "After reshape \n",
      " [[0 1 2 3 4]\n",
      " [5 6 7 8 9]]\n",
      "After reshape \n",
      " [[0 1]\n",
      " [2 3]\n",
      " [4 5]\n",
      " [6 7]\n",
      " [8 9]]\n"
     ]
    }
   ],
   "source": [
    "array1 = np.arange(10)\n",
    "print(f\"arra1 \\n {array1}\")\n",
    "\n",
    "# (2, 5)행별로 변환\n",
    "array2 = array1.reshape((2, 5))\n",
    "print(f\"After reshape \\n {array2}\")\n",
    "\n",
    "array3 = array1.reshape((5,2))\n",
    "print(f\"After reshape \\n {array3}\")"
   ]
  },
  {
   "cell_type": "markdown",
   "metadata": {},
   "source": [
    "* Value Error exception\n",
    "\n",
    "변환하고자 하는 행과 열의 곲이 변환하기 전의 원소의 갯수와 일치해야만 함"
   ]
  },
  {
   "cell_type": "code",
   "execution_count": 53,
   "metadata": {},
   "outputs": [
    {
     "ename": "ValueError",
     "evalue": "cannot reshape array of size 10 into shape (2,3)",
     "output_type": "error",
     "traceback": [
      "\u001b[1;31m---------------------------------------------------------------------------\u001b[0m",
      "\u001b[1;31mValueError\u001b[0m                                Traceback (most recent call last)",
      "\u001b[1;32m~\\AppData\\Local\\Temp/ipykernel_17924/2693572284.py\u001b[0m in \u001b[0;36m<module>\u001b[1;34m\u001b[0m\n\u001b[1;32m----> 1\u001b[1;33m \u001b[0marray1\u001b[0m\u001b[1;33m.\u001b[0m\u001b[0mreshape\u001b[0m\u001b[1;33m(\u001b[0m\u001b[1;33m(\u001b[0m\u001b[1;36m2\u001b[0m\u001b[1;33m,\u001b[0m\u001b[1;36m3\u001b[0m\u001b[1;33m)\u001b[0m\u001b[1;33m)\u001b[0m  \u001b[1;31m#\u001b[0m\u001b[1;33m\u001b[0m\u001b[1;33m\u001b[0m\u001b[0m\n\u001b[0m",
      "\u001b[1;31mValueError\u001b[0m: cannot reshape array of size 10 into shape (2,3)"
     ]
    }
   ],
   "source": [
    "array1.reshape((2,3))  # "
   ]
  },
  {
   "cell_type": "code",
   "execution_count": 56,
   "metadata": {},
   "outputs": [
    {
     "name": "stdout",
     "output_type": "stream",
     "text": [
      "array2 \n",
      " [[0 1]\n",
      " [2 3]\n",
      " [4 5]\n",
      " [6 7]\n",
      " [8 9]] , array shape : (5, 2)\n"
     ]
    }
   ],
   "source": [
    "array3 = array1.reshape((5, 2))\n",
    "print(f\"array2 \\n {array3} , array shape : {array3.shape}\")"
   ]
  },
  {
   "cell_type": "code",
   "execution_count": 26,
   "metadata": {},
   "outputs": [
    {
     "name": "stdout",
     "output_type": "stream",
     "text": [
      "array3 : \n",
      " [[0 1]\n",
      " [2 3]\n",
      " [4 5]\n",
      " [6 7]\n",
      " [8 9]]\n"
     ]
    }
   ],
   "source": [
    "array3 = array1.reshape(5,2)\n",
    "print('array3 : \\n', array3)"
   ]
  },
  {
   "cell_type": "markdown",
   "metadata": {},
   "source": [
    "**reshape()에 -1 인자값을 부여하여 특정 차원으로 고정된 가변적인 ndarray형태 변환**\n",
    "- reshape(-1, 5)와 같이 인자에 -1을 부여하면 -1에 해당하는 axis의 크기는 가변적이되 -1이 아닌 인자값(여기서는 5)에 해당하는 axis크기는 인자값으로 고정하여 ndarray의 shape를 변환\n",
    "- reshape()는 reshape(-1, 1), reshape(-1,)과 같은 형식으로 변환이 요구되는 경우가 많습니다.\n",
    "주로 머신러닝 API의 인자로 1차원 ndarray을 명확하게 2차원 ndarray로 변환하여 입력하기를 원하거나 , 또는 반대의 경우가 있을 경우 reshape()를 이용하여 ndarray의 형태를 변환시켜 주는데 사용.\n",
    "- reshape(-1,) --> 1차원으로 변환\n",
    "- reshape(-1, 1) --> 2차원으로 변환하되 컬럼 axis크기가 1로 고정."
   ]
  },
  {
   "cell_type": "code",
   "execution_count": 65,
   "metadata": {},
   "outputs": [
    {
     "name": "stdout",
     "output_type": "stream",
     "text": [
      "[0 1 2 3 4 5 6 7 8 9]\n",
      "[[0 1 2 3 4]\n",
      " [5 6 7 8 9]] (2, 5)\n",
      "[[0 1]\n",
      " [2 3]\n",
      " [4 5]\n",
      " [6 7]\n",
      " [8 9]]\n"
     ]
    }
   ],
   "source": [
    "array1 = np.arange(10)\n",
    "print(array1)\n",
    "\n",
    "array2 = array1.reshape((-1, 5))  # array1.reshape(-1,5)\n",
    "print(array2, array2.shape)\n",
    "\n",
    "array3 = array1.reshape((5,-1))\n",
    "print(array3)"
   ]
  },
  {
   "cell_type": "code",
   "execution_count": 71,
   "metadata": {},
   "outputs": [
    {
     "name": "stdout",
     "output_type": "stream",
     "text": [
      "[ 0  1  2  3  4  5  6  7  8  9 10 11]\n",
      "[[ 0  1  2  3]\n",
      " [ 4  5  6  7]\n",
      " [ 8  9 10 11]] (3, 4)\n",
      "[[ 0  1]\n",
      " [ 2  3]\n",
      " [ 4  5]\n",
      " [ 6  7]\n",
      " [ 8  9]\n",
      " [10 11]] (6, 2)\n"
     ]
    }
   ],
   "source": [
    "array1 = np.arange(12)\n",
    "print(array1)\n",
    "array2 = array1.reshape((-1, 4))  # 행의 갯수를 -1로 지정한 것은 열의 갯수 4를 감안해서 자동 계산\n",
    "print(array2, array2.shape)\n",
    "\n",
    "array3 = array1.reshape(6,-1)\n",
    "print(array3, array3.shape)"
   ]
  },
  {
   "cell_type": "code",
   "execution_count": 72,
   "metadata": {},
   "outputs": [
    {
     "ename": "ValueError",
     "evalue": "cannot reshape array of size 12 into shape (5,newaxis)",
     "output_type": "error",
     "traceback": [
      "\u001b[1;31m---------------------------------------------------------------------------\u001b[0m",
      "\u001b[1;31mValueError\u001b[0m                                Traceback (most recent call last)",
      "\u001b[1;32m~\\AppData\\Local\\Temp/ipykernel_17924/4178479990.py\u001b[0m in \u001b[0;36m<module>\u001b[1;34m\u001b[0m\n\u001b[1;32m----> 1\u001b[1;33m \u001b[0marray4\u001b[0m \u001b[1;33m=\u001b[0m \u001b[0marray1\u001b[0m\u001b[1;33m.\u001b[0m\u001b[0mreshape\u001b[0m\u001b[1;33m(\u001b[0m\u001b[1;33m(\u001b[0m\u001b[1;36m5\u001b[0m\u001b[1;33m,\u001b[0m \u001b[1;33m-\u001b[0m\u001b[1;36m1\u001b[0m\u001b[1;33m)\u001b[0m\u001b[1;33m)\u001b[0m\u001b[1;33m\u001b[0m\u001b[1;33m\u001b[0m\u001b[0m\n\u001b[0m\u001b[0;32m      2\u001b[0m \u001b[0mprint\u001b[0m\u001b[1;33m(\u001b[0m\u001b[0marray4\u001b[0m\u001b[1;33m)\u001b[0m\u001b[1;33m\u001b[0m\u001b[1;33m\u001b[0m\u001b[0m\n",
      "\u001b[1;31mValueError\u001b[0m: cannot reshape array of size 12 into shape (5,newaxis)"
     ]
    }
   ],
   "source": [
    "array4 = array1.reshape((5, -1))\n",
    "print(array4)"
   ]
  },
  {
   "cell_type": "code",
   "execution_count": 136,
   "metadata": {},
   "outputs": [
    {
     "name": "stdout",
     "output_type": "stream",
     "text": [
      "array3d: \n",
      " [[[0 1]\n",
      "  [2 3]]\n",
      "\n",
      " [[4 5]\n",
      "  [6 7]]], array3d shape : (2, 2, 2)\n",
      "[[[0, 1], [2, 3]], [[4, 5], [6, 7]]]\n",
      "array5 \n",
      " [[0], [1], [2], [3], [4], [5], [6], [7]]\n",
      "array5 shape : (8, 1)\n",
      "array6:\n",
      " [[0], [1], [2], [3], [4], [5], [6], [7]], array6 shape : (8, 1)\n"
     ]
    }
   ],
   "source": [
    "array1 = np.arange(8)\n",
    "array3d = array1.reshape((2,2,2))\n",
    "print(f\"array3d: \\n {array3d}, array3d shape : {array3d.shape}\")\n",
    "print(array3d.tolist())\n",
    "\n",
    "# 3차원 ndarray를 2차원 ndarray로 변환하되 칼럼갯수는 1\n",
    "array5 = array3d.reshape(-1, 1)\n",
    "print(f\"array5 \\n {array5.tolist()}\")\n",
    "print(f\"array5 shape : {array5.shape}\")\n",
    "\n",
    "# 1차원 ndarray를 2차원 ndarray로 변환하되 칼럼 갯수는 1\n",
    "array6 = array1.reshape(-1,1)\n",
    "print(f\"array6:\\n {array6.tolist()}, array6 shape : {array6.shape}\")"
   ]
  },
  {
   "cell_type": "code",
   "execution_count": 137,
   "metadata": {},
   "outputs": [
    {
     "data": {
      "text/plain": [
       "array([[0, 1, 2, 3, 4],\n",
       "       [5, 6, 7, 8, 9]])"
      ]
     },
     "metadata": {},
     "output_type": "display_data"
    }
   ],
   "source": [
    "# -1을 적용하여도 변환이 불가능한 형태로의 변환을 요구할 경우 오류 발생\n",
    "array1 = np.arange(10)\n",
    "\n",
    "try:\n",
    "    array4 = array1.reshape(-1, 4)   # ValueError: cannot reshape array of size 10 into shape (4)\n",
    "except ValueError as e:\n",
    "    pass\n",
    "finally:\n",
    "    array4 = array1.reshape(-1, 5)  # 2차원으로 변환가능하여 오류 안남, 행의 갯수는 자동 계산\n",
    "    display(array4)"
   ]
  },
  {
   "cell_type": "code",
   "execution_count": 140,
   "metadata": {},
   "outputs": [
    {
     "name": "stdout",
     "output_type": "stream",
     "text": [
      "array :  [0 1 2 3 4 5 6 7 8 9]\n",
      "Finally statement executed :  [0 1 2 3 4 5 6 7 8 9] (10,)\n"
     ]
    }
   ],
   "source": [
    "# 반드시 -1값은 1개의 인자만 입력해야 함\n",
    "array1 = np.arange(10)\n",
    "print('array : ', array1)\n",
    "try:\n",
    "    array4 = array1.reshape(-1, 4)  # ValueError: cannot reshape array of size 10 into shape (4)\n",
    "    print(array4, array4.shape)\n",
    "except ValueError as e:\n",
    "    pass\n",
    "finally:\n",
    "    array4 = array1.reshape((-1,))\n",
    "    print(\"Finally statement executed : \", array4, array4.shape)"
   ]
  },
  {
   "cell_type": "code",
   "execution_count": 139,
   "metadata": {},
   "outputs": [
    {
     "name": "stdout",
     "output_type": "stream",
     "text": [
      "array1 : [0 1 2 3 4 5 6 7 8 9]\n",
      "can only specify one unknown dimension\n",
      "Finally statement executed!!\n",
      "array1 : [0 1 2 3 4 5 6 7 8 9], array1 shape : (10,)\n"
     ]
    }
   ],
   "source": [
    "array1 = np.arange(10)\n",
    "# 반드시 -1 값은 1개의 인자만 입력해야 함.\n",
    "# ValueError: can only specify one unknown dimension\n",
    "try:\n",
    "    print(f\"array1 : {array1}\")\n",
    "    array1.reshape(-1, -1)\n",
    "except ValueError as e:\n",
    "    print(e)\n",
    "finally:\n",
    "    print(\"Finally statement executed!!\")\n",
    "    array1.reshape((-1,))  # 1차원으로 변경\n",
    "    print(f\"array1 : {array1}, array1 shape : {array1.shape}\")"
   ]
  },
  {
   "cell_type": "code",
   "execution_count": 141,
   "metadata": {},
   "outputs": [
    {
     "name": "stdout",
     "output_type": "stream",
     "text": [
      "[[[0 1]\n",
      "  [2 3]]\n",
      "\n",
      " [[4 5]\n",
      "  [6 7]]] (2, 2, 2)\n",
      "array5 shape :  (8, 1)\n"
     ]
    }
   ],
   "source": [
    "# 3차원 ndarray를 2차원 ndarray로 변환\n",
    "print(array3d, array3d.shape)\n",
    "array5 = array3d.reshape(-1, 1)\n",
    "print('array5 shape : ', array5.shape)"
   ]
  },
  {
   "cell_type": "code",
   "execution_count": 127,
   "metadata": {},
   "outputs": [
    {
     "name": "stdout",
     "output_type": "stream",
     "text": [
      "array6: \n",
      " [[1], [2], [3]]\n",
      "array6 shape :  (3, 1)\n"
     ]
    }
   ],
   "source": [
    "# 1차원 ndarray를 2차원 ndarray로 변환\n",
    "array6 = array1.reshape(-1, 1)\n",
    "print('array6: \\n', array6.tolist())\n",
    "print('array6 shape : ', array6.shape)"
   ]
  },
  {
   "cell_type": "code",
   "execution_count": 130,
   "metadata": {},
   "outputs": [
    {
     "name": "stdout",
     "output_type": "stream",
     "text": [
      "array2d shape : (5, 1), array2d : \n",
      " [[0]\n",
      " [1]\n",
      " [2]\n",
      " [3]\n",
      " [4]], \n",
      "2 차원\n"
     ]
    }
   ],
   "source": [
    "array1d = np.array([0, 1, 2, 3, 4])\n",
    "array2d = array1d.reshape((-1, 1))  # 2차원으로 변환하되 컬럼 axis크기가 1로 고정\n",
    "print(f\"array2d shape : {array2d.shape}, array2d : \\n {array2d}, \\n{array2d.ndim} 차원\")"
   ]
  },
  {
   "cell_type": "code",
   "execution_count": 142,
   "metadata": {},
   "outputs": [
    {
     "name": "stdout",
     "output_type": "stream",
     "text": [
      "Array2d : \n",
      " [[0]\n",
      " [1]\n",
      " [2]\n",
      " [3]\n",
      " [4]]\n",
      "변환된 행렬 : [0 1 2 3 4], 변환된 행렬의 shape : (5,), 변환된 행렬의 차원 : 1\n"
     ]
    }
   ],
   "source": [
    "print(f'Array2d : \\n {array2d}')\n",
    "array_conv = array2d.reshape(-1,)    # 1차원으로 변환\n",
    "print(f\"변환된 행렬 : {array_conv}, 변환된 행렬의 shape : {array_conv.shape}, 변환된 행렬의 차원 : {array_conv.ndim}\")"
   ]
  },
  {
   "cell_type": "markdown",
   "metadata": {},
   "source": [
    "### Numpy ndarray의 데이터 세트 선택"
   ]
  },
  {
   "cell_type": "markdown",
   "metadata": {},
   "source": [
    "#### 인덱싱(indexing)\n",
    "- 단일값 추출"
   ]
  },
  {
   "cell_type": "code",
   "execution_count": 180,
   "metadata": {},
   "outputs": [
    {
     "name": "stdout",
     "output_type": "stream",
     "text": [
      "array1 : [1 2 3 4 5 6 7 8 9]\n",
      "Value :  3 Type :  <class 'numpy.int32'>\n"
     ]
    }
   ],
   "source": [
    "array1 = np.arange(start=1, stop=10)  # R에서는 range\n",
    "print(f\"array1 : {array1}\")\n",
    "\n",
    "# index는 0부터 시작하므로 array1[2]는 3번째 인덱스 위치의 데이터 값을 의미\n",
    "value = array1[2]\n",
    "print(\"Value : \", value, \"Type : \", type(value))"
   ]
  },
  {
   "cell_type": "code",
   "execution_count": 181,
   "metadata": {},
   "outputs": [
    {
     "name": "stdout",
     "output_type": "stream",
     "text": [
      "맨 뒤의 값 : 9, 맨 뒤에서 두번째 값 : 8\n"
     ]
    }
   ],
   "source": [
    "# 맨 뒤의 값\n",
    "print(f'맨 뒤의 값 : {array1[-1]}, 맨 뒤에서 두번째 값 : {array1[-2]}')"
   ]
  },
  {
   "cell_type": "code",
   "execution_count": 182,
   "metadata": {},
   "outputs": [
    {
     "name": "stdout",
     "output_type": "stream",
     "text": [
      "array1 : [9 2 3 4 5 6 7 8 0]\n"
     ]
    }
   ],
   "source": [
    "array1[0] = 9\n",
    "array1[8] = 0\n",
    "print(f\"array1 : {array1}\")"
   ]
  },
  {
   "cell_type": "code",
   "execution_count": 185,
   "metadata": {},
   "outputs": [
    {
     "name": "stdout",
     "output_type": "stream",
     "text": [
      "array2d : \n",
      " [[1 2 3]\n",
      " [4 5 6]\n",
      " [7 8 9]], Dimesion : 2\n",
      "(row = 0, col = 0) 인덱스 가리키는 값 : 1\n",
      "(row = 0, col = 1) 인덱스 가리키는 값 : 2\n",
      "(row = 0, col = 2) 인덱스 가리키는 값 : 3\n",
      "(row = 1, col = 0) 인덱스 가리키는 값 : 4\n",
      "(row = 1, col = 1) 인덱스 가리키는 값 : 5\n",
      "(row = 1, col = 2) 인덱스 가리키는 값 : 6\n",
      "(row = 2, col = 0) 인덱스 가리키는 값 : 7\n",
      "(row = 2, col = 1) 인덱스 가리키는 값 : 8\n",
      "(row = 2, col = 2) 인덱스 가리키는 값 : 9\n",
      "Completed.\n"
     ]
    }
   ],
   "source": [
    "array1d = np.arange(start=1, stop=10)\n",
    "array2d = array1d.reshape((3,3))  # 2차원으로 변환\n",
    "print(f\"array2d : \\n {array2d}, Dimesion : {array2d.ndim}\")\n",
    "\n",
    "for i in range(array2d.shape[0]):\n",
    "    for j in range(array2d.shape[1]):\n",
    "        print(f\"(row = {i}, col = {j}) 인덱스 가리키는 값 : {array2d[i, j]}\")\n",
    "else:\n",
    "    print(\"Completed.\")"
   ]
  },
  {
   "cell_type": "markdown",
   "metadata": {},
   "source": [
    "#### slicing\n",
    "* `:` 기호 사이에 시작 인덱스와 종료 인덱스를 표시.시작 인덱스에서 종료 인덱스-1 위치에 있는 ndarray를 반환"
   ]
  },
  {
   "cell_type": "code",
   "execution_count": 189,
   "metadata": {},
   "outputs": [
    {
     "name": "stdout",
     "output_type": "stream",
     "text": [
      "array1 : \n",
      "[1 2 3 4 5 6 7 8 9], array2 :\n",
      " [1 2 3]\n"
     ]
    }
   ],
   "source": [
    "array1 = np.arange(start=1, stop=10)\n",
    "array2 = array1[0:3]\n",
    "print(f\"array1 : \\n{array1}, array2 :\\n {array2}\")"
   ]
  },
  {
   "cell_type": "code",
   "execution_count": 190,
   "metadata": {},
   "outputs": [
    {
     "name": "stdout",
     "output_type": "stream",
     "text": [
      "array2 : [1 2 3]\n",
      "array3 : [4 5 6 7 8 9]\n",
      "array4 : [1 2 3 4 5 6 7 8 9]\n"
     ]
    }
   ],
   "source": [
    "array1 = np.arange(start=1, stop=10)\n",
    "array2 = array1[:3]  # 0인덱스부터 2번 인덱스까지 추출 \n",
    "print(f\"array2 : {array2}\")\n",
    "\n",
    "array3 = array1[3:]  # 3번 인덱스부터 끝까지\n",
    "print(f\"array3 : {array3}\")\n",
    "\n",
    "array4 = array1[:10]  # 처음부터 9번 인덱스까지 \n",
    "print(f\"array4 : {array4}\")"
   ]
  },
  {
   "cell_type": "code",
   "execution_count": 207,
   "metadata": {},
   "outputs": [
    {
     "name": "stdout",
     "output_type": "stream",
     "text": [
      "array2d : \n",
      " [[1 2 3]\n",
      " [4 5 6]\n",
      " [7 8 9]]\n",
      "array2d[0:2, 0:2] \n",
      " [[1 2]\n",
      " [4 5]]\n",
      "array2d[1:3, 0:3] \n",
      " [[4 5 6]\n",
      " [7 8 9]]\n",
      "array2d[1:3, :] \n",
      " [[4 5 6]\n",
      " [7 8 9]]\n",
      "array2d[:, :] \n",
      " [[1 2 3]\n",
      " [4 5 6]\n",
      " [7 8 9]]\n",
      "array2d[:2, 1:] \n",
      " [[2 3]\n",
      " [5 6]]\n",
      "array2d[:2, 0] \n",
      " [1 4]\n"
     ]
    }
   ],
   "source": [
    "array1d = np.arange(start=1, stop=10)\n",
    "array2d = array1d.reshape(3,3)  # 2차원으로 변환 (행열 - 3 * 3)\n",
    "print(f\"array2d : \\n {array2d}\")\n",
    "\n",
    "print(\"array2d[0:2, 0:2] \\n\", array2d[0:2, 0:2])\n",
    "print(\"array2d[1:3, 0:3] \\n\", array2d[1:3, 0:3])\n",
    "print(\"array2d[1:3, :] \\n\", array2d[1:3, :])\n",
    "print('array2d[:, :] \\n', array2d[:, :])\n",
    "print('array2d[:2, 1:] \\n', array2d[:2, 1:])\n",
    "print('array2d[:2, 0] \\n', array2d[:2, 0]) # 컬럼에 대해서 인덱싱하면 1차원이 됨을 확인"
   ]
  },
  {
   "cell_type": "code",
   "execution_count": 206,
   "metadata": {},
   "outputs": [
    {
     "name": "stdout",
     "output_type": "stream",
     "text": [
      "array2d[0] : [1 2 3], array2d[0].shape : (3,)\n",
      "array2d[1] : [4 5 6], array2d[1].shape : (3,)\n",
      "array2d[2] : [7 8 9], array2d[2].shape : (3,)\n"
     ]
    }
   ],
   "source": [
    "print(f\"array2d[0] : {array2d[0]}, array2d[0].shape : {array2d[0].shape}\") # 1차원 ndarray변환 (행을 의미)\n",
    "print(f\"array2d[1] : {array2d[1]}, array2d[1].shape : {array2d[1].shape}\")\n",
    "print(f\"array2d[2] : {array2d[2]}, array2d[2].shape : {array2d[2].shape}\")  # 1차원- (3,)"
   ]
  },
  {
   "cell_type": "markdown",
   "metadata": {},
   "source": [
    "#### 팬시 인덱싱\n",
    "- 리스트나 ndarray로 인덱스 집합을 지정하면 해당위치의 인덱스에 해당하는 ndaaray를 반환하는 인덱싱 방식"
   ]
  },
  {
   "cell_type": "code",
   "execution_count": 208,
   "metadata": {},
   "outputs": [
    {
     "name": "stdout",
     "output_type": "stream",
     "text": [
      "array2d :  [[1 2 3]\n",
      " [4 5 6]\n",
      " [7 8 9]]\n"
     ]
    }
   ],
   "source": [
    "array1d = np.arange(start = 1, stop = 10)\n",
    "array2d = array1d.reshape(3, 3)\n",
    "\n",
    "print('array2d : ', array2d)"
   ]
  },
  {
   "cell_type": "code",
   "execution_count": 210,
   "metadata": {},
   "outputs": [
    {
     "name": "stdout",
     "output_type": "stream",
     "text": [
      "array2d[[0, 1], 2] =>  [3, 6]\n"
     ]
    }
   ],
   "source": [
    "array3 = array2d[[0, 1], 2]\n",
    "print('array2d[[0, 1], 2] => ', array3.tolist())  # 리스트로 변환"
   ]
  },
  {
   "cell_type": "code",
   "execution_count": 211,
   "metadata": {},
   "outputs": [
    {
     "name": "stdout",
     "output_type": "stream",
     "text": [
      "array2d[[0, 1], 0:2] =>  [[1, 2], [4, 5]]\n"
     ]
    }
   ],
   "source": [
    "array4 = array2d[[0, 1], 0:2]\n",
    "print('array2d[[0, 1], 0:2] => ', array4.tolist())"
   ]
  },
  {
   "cell_type": "code",
   "execution_count": 212,
   "metadata": {},
   "outputs": [
    {
     "name": "stdout",
     "output_type": "stream",
     "text": [
      "array2d[[0, 1]] => [[1, 2, 3], [4, 5, 6]]\n"
     ]
    }
   ],
   "source": [
    "array5 = array2d[[0, 1]]\n",
    "print('array2d[[0, 1]] =>', array5.tolist())"
   ]
  },
  {
   "cell_type": "markdown",
   "metadata": {},
   "source": [
    "#### boolean indexing\n",
    "- 조건 필터링과 검색을 동시에 할수 있음."
   ]
  },
  {
   "cell_type": "code",
   "execution_count": 222,
   "metadata": {},
   "outputs": [
    {
     "name": "stdout",
     "output_type": "stream",
     "text": [
      "[0 1 2 3 4 5 6 7 8 9]\n"
     ]
    }
   ],
   "source": [
    "array1d = np.arange(start=0, stop=10)\n",
    "print(array1d)"
   ]
  },
  {
   "cell_type": "code",
   "execution_count": 223,
   "metadata": {},
   "outputs": [
    {
     "name": "stdout",
     "output_type": "stream",
     "text": [
      "boolean index result : [6 7 8 9]\n"
     ]
    }
   ],
   "source": [
    "boolean_idx_r = array1d[array1d > 5]  # []안에 array1d > 5 Boolean Indexing을 적용\n",
    "print(f\"boolean index result : {boolean_idx_r}\")"
   ]
  },
  {
   "cell_type": "code",
   "execution_count": 229,
   "metadata": {},
   "outputs": [
    {
     "name": "stdout",
     "output_type": "stream",
     "text": [
      "<class 'numpy.ndarray'> [False False False False False False  True  True  True  True]\n"
     ]
    }
   ],
   "source": [
    "# 5보다 큰 것이 위치하는 원소는 True, 아니면 False\n",
    "result = array1d > 5\n",
    "print(type(result), result)"
   ]
  },
  {
   "cell_type": "code",
   "execution_count": 230,
   "metadata": {},
   "outputs": [
    {
     "name": "stdout",
     "output_type": "stream",
     "text": [
      "불린 인덱스로 필터링 결과 : [6 7 8 9]\n"
     ]
    }
   ],
   "source": [
    "boolean_indexes = np.array(result)   # True에 해당되는 위치 인덱스의 값만 찾는다.\n",
    "array3 = array1d[boolean_indexes]\n",
    "print('불린 인덱스로 필터링 결과 :', array3)"
   ]
  },
  {
   "cell_type": "markdown",
   "metadata": {},
   "source": [
    "즉, 다음과 같이 직접 인덱스 집합을 만들어 대입한 것과 동일한 결과."
   ]
  },
  {
   "cell_type": "code",
   "execution_count": 231,
   "metadata": {},
   "outputs": [
    {
     "name": "stdout",
     "output_type": "stream",
     "text": [
      "일반 인덱스로 필터링 결과 : [6 7 8 9]\n"
     ]
    }
   ],
   "source": [
    "indexes = np.array([6, 7, 8, 9])\n",
    "array4 = array1d[indexes]\n",
    "print('일반 인덱스로 필터링 결과 :', array4)"
   ]
  },
  {
   "cell_type": "code",
   "execution_count": 232,
   "metadata": {},
   "outputs": [
    {
     "name": "stdout",
     "output_type": "stream",
     "text": [
      "[6 7 8 9]\n"
     ]
    }
   ],
   "source": [
    "# 불린 인덱싱을 사용하지 않는 경우 구현\n",
    "array1d  =np.arange(start = 1, stop = 10)\n",
    "target = []\n",
    "\n",
    "for i in range(0, 9):\n",
    "    if array1d[i] > 5:\n",
    "        target.append(array1d[i])\n",
    "array_selected = np.array(target)\n",
    "print(array_selected)"
   ]
  },
  {
   "cell_type": "code",
   "execution_count": 234,
   "metadata": {},
   "outputs": [
    {
     "name": "stdout",
     "output_type": "stream",
     "text": [
      "[6 7 8 9]\n"
     ]
    }
   ],
   "source": [
    "# boolean indexing적용\n",
    "print(array1d[array1d > 5])"
   ]
  },
  {
   "cell_type": "markdown",
   "metadata": {},
   "source": [
    "### 행렬의 정렬 - sort()와 argsort()\n",
    "- 행렬정렬 : 모두 기본적으로 오름차순으로 행렬 내 원소를 정렬\n",
    "  - np.sort() : 원 행렬은 그대로 유지한 채 원 행렬의 정렬된 행렬을 반환\n",
    "  - ndarray.sort() : 원 행렬 자체를 정렬한 형태로 변환하며 반환 값은 None\n",
    "- 정렬된 행렬의 인덱스 반환 : argsort()  - 원본 행렬 정렬 시 정렬된 행렬의 원래 인덱스를 필요로 할 때 np.argsort()를 이용.\n",
    "  np.argsort()는 정렬 행열의 원본 행렬 인덱스를 ndarray형으로 반환."
   ]
  },
  {
   "cell_type": "markdown",
   "metadata": {},
   "source": [
    "#### 행렬 정렬\n",
    "- np.sort() 나 ndarray.sort() 둘 다 기본적으로 올림차순 소팅"
   ]
  },
  {
   "cell_type": "markdown",
   "metadata": {},
   "source": [
    "#### np.sort()\n",
    "* Preserve the original data and return the sorted data"
   ]
  },
  {
   "cell_type": "code",
   "execution_count": 16,
   "metadata": {},
   "outputs": [
    {
     "name": "stdout",
     "output_type": "stream",
     "text": [
      "org array : [3 1 9 5]\n",
      "np.sort() 후 반환된 정렬 행렬 : [1 3 5 9], 원래행렬 : [3 1 9 5]\n"
     ]
    }
   ],
   "source": [
    "org_array = np.array([3, 1, 9, 5])\n",
    "print(f\"org array : {org_array}\")\n",
    "\n",
    "sort_array = np.sort(org_array)\n",
    "print(f\"np.sort() 후 반환된 정렬 행렬 : {sort_array}, 원래행렬 : {org_array}\")"
   ]
  },
  {
   "cell_type": "markdown",
   "metadata": {},
   "source": [
    "* Descenging order"
   ]
  },
  {
   "cell_type": "code",
   "execution_count": 23,
   "metadata": {},
   "outputs": [
    {
     "name": "stdout",
     "output_type": "stream",
     "text": [
      "Descending sort : [[ 1  7]\n",
      " [ 8 12]]\n",
      "Origianl array : [[ 8 12]\n",
      " [ 7  1]]\n"
     ]
    }
   ],
   "source": [
    "sort_array_desc = np.sort(org_array)[::-1]\n",
    "print(f\"Descending sort : {sort_array_desc}\")\n",
    "print(f\"Origianl array : {org_array}\")"
   ]
  },
  {
   "cell_type": "markdown",
   "metadata": {},
   "source": [
    "* sort using axis"
   ]
  },
  {
   "cell_type": "code",
   "execution_count": 32,
   "metadata": {},
   "outputs": [
    {
     "name": "stdout",
     "output_type": "stream",
     "text": [
      "org_array : \n",
      " [[ 8 12]\n",
      " [ 7  1]], 2 dimension.\n",
      "Axis = 0 : \n",
      " [[ 7  1]\n",
      " [ 8 12]]\n",
      "Axis = 1 : \n",
      " [[ 8 12]\n",
      " [ 1  7]]\n",
      "Original array : \n",
      "[[ 8 12]\n",
      " [ 7  1]]\n"
     ]
    }
   ],
   "source": [
    "org_array = np.array([[8, 12], [7, 1]])\n",
    "print(f\"org_array : \\n {org_array}, {org_array.ndim} dimension.\")\n",
    "sort_array2d_0 = np.sort(org_array, axis = 0)\n",
    "\n",
    "print(f\"Axis = 0 : \\n {sort_array2d_0}\")\n",
    "\n",
    "\n",
    "sort_array_2d_1 = np.sort(org_array, axis = 1)\n",
    "print(f\"Axis = 1 : \\n {sort_array_2d_1}\")\n",
    "\n",
    "print(f\"Original array : \\n{org_array}\")"
   ]
  },
  {
   "cell_type": "markdown",
   "metadata": {},
   "source": [
    "#### ndarray.sort()\n",
    "* Sort the original data and reutrn None"
   ]
  },
  {
   "cell_type": "code",
   "execution_count": 36,
   "metadata": {},
   "outputs": [
    {
     "name": "stdout",
     "output_type": "stream",
     "text": [
      "org array : \n",
      " [[ 8 12]\n",
      " [ 7  1]]\n",
      "ndarray.sort() 사용한 결과  : \n",
      "None\n",
      "org_array : [[ 8 12]\n",
      " [ 1  7]]\n"
     ]
    }
   ],
   "source": [
    "org_array = np.array([[8, 12], [7, 1]])\n",
    "print(f\"org array : \\n {org_array}\")\n",
    "\n",
    "sort_array2 = org_array.sort()\n",
    "print(f\"ndarray.sort() 사용한 결과  : \\n{sort_array2}\")\n",
    "print(f\"org_array : {org_array}\")"
   ]
  },
  {
   "cell_type": "code",
   "execution_count": 39,
   "metadata": {},
   "outputs": [
    {
     "name": "stdout",
     "output_type": "stream",
     "text": [
      "Org array : \n",
      " [[ 7  1]\n",
      " [ 8 12]]\n"
     ]
    }
   ],
   "source": [
    "org_array = np.array([[8, 12], [7, 1]])\n",
    "org_array.sort(axis = 0)\n",
    "print(f\"Org array : \\n {org_array}\")"
   ]
  },
  {
   "cell_type": "markdown",
   "metadata": {},
   "source": [
    "#### 정렬된 행렬의 인덱스를 반환(argsort())\n",
    "- 원본행렬이 정렬되었을 때 원본 행렬의 원소에 대한 인덱스를 필요로 할때 np.argsort()를 이용."
   ]
  },
  {
   "cell_type": "markdown",
   "metadata": {},
   "source": [
    "np.argsort()를 이용해 원본 행렬의 정렬\n",
    "* 정렬 이전의 해당 원소의 인덱스값을 알 필요가 있음"
   ]
  },
  {
   "cell_type": "code",
   "execution_count": 41,
   "metadata": {},
   "outputs": [
    {
     "name": "stdout",
     "output_type": "stream",
     "text": [
      "<class 'numpy.ndarray'>\n",
      "행렬 정렬시 원본 배열의 인덱스 :  [1 0 3 2]\n"
     ]
    }
   ],
   "source": [
    "org_array = np.array([3, 1, 9 ,5])\n",
    "sort_indices = np.argsort(org_array)\n",
    "print(type(sort_indices))\n",
    "print(\"행렬 정렬시 원본 배열의 인덱스 : \", sort_indices)"
   ]
  },
  {
   "cell_type": "code",
   "execution_count": 42,
   "metadata": {},
   "outputs": [
    {
     "name": "stdout",
     "output_type": "stream",
     "text": [
      "행렬 내림차순 정렬 시 원본 배열의 인덱스 :  [2 3 0 1]\n"
     ]
    }
   ],
   "source": [
    "org_array = np.array([3, 1, 9, 5])\n",
    "sort_indices_desc = np.argsort(org_array)[::-1]\n",
    "print(\"행렬 내림차순 정렬 시 원본 배열의 인덱스 : \", sort_indices_desc)"
   ]
  },
  {
   "cell_type": "markdown",
   "metadata": {},
   "source": [
    "**argsort의 응용**"
   ]
  },
  {
   "cell_type": "code",
   "execution_count": 45,
   "metadata": {},
   "outputs": [
    {
     "name": "stdout",
     "output_type": "stream",
     "text": [
      "성적 오름차순 정렬시 score_array의 인덱스 :  [0 2 4 1 3]\n",
      "성적 오름차순으로 name_array의 이름 출력 ['John' 'Sarah' 'Samuel' 'Mike' 'Kate']\n",
      "성적 내림차순 정렬시 score_array의 인덱스 : [3 1 4 2 0]\n",
      "성적 내림차순 정렬시 name_array의 이름 출력 :  ['Kate' 'Mike' 'Samuel' 'Sarah' 'John']\n"
     ]
    }
   ],
   "source": [
    "# \"성적순으로 사람이름을 정렬해서 보고 싶어요\" 라는 요구 사항\n",
    "import numpy as np\n",
    "\n",
    "name_array = np.array(['John', 'Mike', 'Sarah', 'Kate', 'Samuel'])\n",
    "score_array = np.array([78, 95 , 84, 98, 88])\n",
    "\n",
    "sort_indices_asc = np.argsort(score_array)\n",
    "print(\"성적 오름차순 정렬시 score_array의 인덱스 : \", sort_indices_asc)\n",
    "print(\"성적 오름차순으로 name_array의 이름 출력\", name_array[sort_indices_asc])\n",
    "\n",
    "\n",
    "sort_indices_desc = np.argsort(score_array)[::-1]\n",
    "print(\"성적 내림차순 정렬시 score_array의 인덱스 :\", sort_indices_desc)\n",
    "print(\"성적 내림차순 정렬시 name_array의 이름 출력 : \", name_array[sort_indices_desc])"
   ]
  },
  {
   "cell_type": "markdown",
   "metadata": {},
   "source": [
    "#### sort using axis"
   ]
  },
  {
   "cell_type": "code",
   "execution_count": 50,
   "metadata": {},
   "outputs": [
    {
     "name": "stdout",
     "output_type": "stream",
     "text": [
      "(3, 4)\n",
      "\n",
      "\n",
      "[[ 5  6  7  8]\n",
      " [ 4  3  2  1]\n",
      " [10  9 12 11]]\n",
      "[[0 1 2 3]\n",
      " [3 2 1 0]\n",
      " [1 0 3 2]]\n"
     ]
    }
   ],
   "source": [
    "arr2d = np.array([[5, 6, 7, 8],[4, 3, 2, 1],[10, 9 , 12, 11]])\n",
    "print(arr2d.shape)\n",
    "print('\\n')\n",
    "print(arr2d)\n",
    "\n",
    "arr2d_indices = arr2d.argsort()\n",
    "print(arr2d_indices)  # 정렬된 행렬의 각 원소 인덱스를 반환"
   ]
  },
  {
   "cell_type": "code",
   "execution_count": 52,
   "metadata": {},
   "outputs": [
    {
     "data": {
      "text/plain": [
       "array([[ 5,  6,  7,  8],\n",
       "       [ 1,  2,  3,  4],\n",
       "       [ 9, 10, 11, 12]])"
      ]
     },
     "execution_count": 52,
     "metadata": {},
     "output_type": "execute_result"
    }
   ],
   "source": [
    "arr2d.sort(axis = 1)\n",
    "arr2d"
   ]
  },
  {
   "cell_type": "code",
   "execution_count": 58,
   "metadata": {},
   "outputs": [
    {
     "data": {
      "text/plain": [
       "array([[ 5,  6,  7,  8],\n",
       "       [ 1,  2,  3,  4],\n",
       "       [ 9, 10, 11, 12]])"
      ]
     },
     "execution_count": 58,
     "metadata": {},
     "output_type": "execute_result"
    }
   ],
   "source": [
    "arr2d = np.array([[5, 6, 7, 8],[4, 3, 2, 1],[10, 9 , 12, 11]])\n",
    "arr2d.sort()\n",
    "arr2d"
   ]
  },
  {
   "cell_type": "code",
   "execution_count": 63,
   "metadata": {},
   "outputs": [
    {
     "name": "stdout",
     "output_type": "stream",
     "text": [
      "정렬전의 배열 : \n",
      " [[ 5  6  7  8]\n",
      " [ 4  3  2  1]\n",
      " [10  9 12 11]]\n",
      "정렬 후의 배열 : \n",
      " [[ 4  3  2  1]\n",
      " [ 5  6  7  8]\n",
      " [10  9 12 11]]\n"
     ]
    }
   ],
   "source": [
    "arr2d = np.array([[5, 6, 7, 8],[4, 3, 2, 1],[10, 9 , 12, 11]])\n",
    "print(f\"정렬전의 배열 : \\n {arr2d}\")\n",
    "arr2d.sort(axis = 0)\n",
    "print(f\"정렬 후의 배열 : \\n {arr2d}\")"
   ]
  },
  {
   "cell_type": "markdown",
   "metadata": {},
   "source": [
    "### 선형대수 연산 - 행렬 내적과 전치 행렬 구하기 \n",
    "- 행렬 내적 : 오른쪽 행렬의 행 갯수와 왼쪽 행렬의 열갯수가 동일해야 dot product가 에러가 안남"
   ]
  },
  {
   "cell_type": "code",
   "execution_count": 65,
   "metadata": {},
   "outputs": [
    {
     "name": "stdout",
     "output_type": "stream",
     "text": [
      "행렬 내적 곱 \n",
      ":  [[ 58  64]\n",
      " [139 154]]\n"
     ]
    }
   ],
   "source": [
    "A = np.array([[1, 2, 3],\n",
    "             [4, 5, 6]])\n",
    "B = np.array([[7,8],\n",
    "            [9, 10],\n",
    "             [11, 12]])\n",
    "\n",
    "dot_product = np.dot(A, B)\n",
    "print('행렬 내적 곱 \\n: ', dot_product)"
   ]
  },
  {
   "cell_type": "markdown",
   "metadata": {},
   "source": [
    "- 전치 행렬 : 원 행렬에서 행과 열 위치를 교환한 원소로 구성된 행렬을 그 행렬의 전치 행렬이라고 함."
   ]
  },
  {
   "cell_type": "code",
   "execution_count": 66,
   "metadata": {},
   "outputs": [
    {
     "name": "stdout",
     "output_type": "stream",
     "text": [
      "A의 전치행렬 : \n",
      " [[1 3]\n",
      " [2 4]]\n"
     ]
    }
   ],
   "source": [
    "A = np.array([[1, 2],\n",
    "              [3, 4]])\n",
    "              \n",
    "transpose_mat = np.transpose(A)\n",
    "print('A의 전치행렬 : \\n', transpose_mat)              "
   ]
  }
 ],
 "metadata": {
  "kernelspec": {
   "display_name": "Python 3 (ipykernel)",
   "language": "python",
   "name": "python3"
  },
  "language_info": {
   "codemirror_mode": {
    "name": "ipython",
    "version": 3
   },
   "file_extension": ".py",
   "mimetype": "text/x-python",
   "name": "python",
   "nbconvert_exporter": "python",
   "pygments_lexer": "ipython3",
   "version": "3.8.11"
  }
 },
 "nbformat": 4,
 "nbformat_minor": 4
}
