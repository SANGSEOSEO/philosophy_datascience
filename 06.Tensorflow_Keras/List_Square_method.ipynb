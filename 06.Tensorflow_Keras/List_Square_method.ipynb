{
 "cells": [
  {
   "cell_type": "markdown",
   "metadata": {},
   "source": [
    "# 코딩으로 확인하는 최소제곱"
   ]
  },
  {
   "cell_type": "markdown",
   "metadata": {},
   "source": [
    "## REPL"
   ]
  },
  {
   "cell_type": "code",
   "execution_count": 1,
   "metadata": {},
   "outputs": [],
   "source": [
    "import numpy as np"
   ]
  },
  {
   "cell_type": "code",
   "execution_count": 2,
   "metadata": {},
   "outputs": [],
   "source": [
    "x = [2, 4, 6, 8]\n",
    "y = [81, 93, 91, 97]"
   ]
  },
  {
   "cell_type": "code",
   "execution_count": 4,
   "metadata": {},
   "outputs": [],
   "source": [
    "X_mean = np.mean(x)\n",
    "Y_mean = np.mean(y)"
   ]
  },
  {
   "cell_type": "code",
   "execution_count": 8,
   "metadata": {},
   "outputs": [],
   "source": [
    "# 분모값 구하기 \n",
    "divisor = sum([(i- X_mean) ** 2 for i in x])"
   ]
  },
  {
   "cell_type": "code",
   "execution_count": 11,
   "metadata": {},
   "outputs": [
    {
     "data": {
      "text/plain": [
       "46.0"
      ]
     },
     "execution_count": 11,
     "metadata": {},
     "output_type": "execute_result"
    }
   ],
   "source": [
    "d = 0\n",
    "for i in range(len(x)):\n",
    "    d += (x[i] - X_mean) * (y[i] - Y_mean)   \n",
    "d    "
   ]
  },
  {
   "cell_type": "code",
   "execution_count": 14,
   "metadata": {},
   "outputs": [
    {
     "data": {
      "text/plain": [
       "46.0"
      ]
     },
     "execution_count": 14,
     "metadata": {},
     "output_type": "execute_result"
    }
   ],
   "source": [
    "# 분자 값 구하기 \n",
    "sum([(x[i] - X_mean) * (y[i] - Y_mean) for i in range(len(x))])"
   ]
  },
  {
   "cell_type": "code",
   "execution_count": 16,
   "metadata": {},
   "outputs": [],
   "source": [
    "def top(x, mx, y, my):\n",
    "    \"\"\"\n",
    "    1.x의 각원소와 x평균의 차\n",
    "    2.y의 각 원소와 y평균을 뺀 차\n",
    "    3. 1),2)의 곱을 각각 합한 값을 최종 리턴\n",
    "    \"\"\"\n",
    "    result = sum([(x[i] - mx) * (y[i] - my) for i in range(len(x))])\n",
    "    return result"
   ]
  },
  {
   "cell_type": "code",
   "execution_count": 17,
   "metadata": {},
   "outputs": [],
   "source": [
    "#분자\n",
    "dividend = top(x, X_mean, y, Y_mean)"
   ]
  },
  {
   "cell_type": "code",
   "execution_count": 20,
   "metadata": {},
   "outputs": [
    {
     "data": {
      "text/plain": [
       "2.3"
      ]
     },
     "metadata": {},
     "output_type": "display_data"
    }
   ],
   "source": [
    "# 기울기\n",
    "a = dividend / divisor\n",
    "display(a)"
   ]
  },
  {
   "cell_type": "code",
   "execution_count": 21,
   "metadata": {},
   "outputs": [],
   "source": [
    "b = Y_mean - (a * X_mean)"
   ]
  },
  {
   "cell_type": "code",
   "execution_count": 23,
   "metadata": {},
   "outputs": [
    {
     "data": {
      "text/plain": [
       "79.0"
      ]
     },
     "metadata": {},
     "output_type": "display_data"
    }
   ],
   "source": [
    "display(b)"
   ]
  },
  {
   "cell_type": "markdown",
   "metadata": {},
   "source": [
    "### Linear_square_method"
   ]
  },
  {
   "cell_type": "code",
   "execution_count": 27,
   "metadata": {},
   "outputs": [
    {
     "name": "stdout",
     "output_type": "stream",
     "text": [
      "x의 평균 : 5.00  , y의 평균:  90.50\n",
      "분모 : 20.00, 분자 : 46.00\n"
     ]
    },
    {
     "data": {
      "text/plain": [
       "2.3"
      ]
     },
     "metadata": {},
     "output_type": "display_data"
    },
    {
     "name": "stdout",
     "output_type": "stream",
     "text": [
      "기울기 -> a :  2.30, y절편 -> b: 79.00\n"
     ]
    }
   ],
   "source": [
    "import numpy as np\n",
    "\n",
    "# x값과 y값 \n",
    "x = [2, 4, 6, 8]\n",
    "y = [81, 93, 91, 97]\n",
    "\n",
    "# x와 y의 평균\n",
    "mx = np.mean(x)\n",
    "my = np.mean(y)\n",
    "\n",
    "print('x의 평균 : %.2f  , y의 평균: % .2f' % (mx, my))\n",
    "\n",
    "def top(x, mx, y, my):\n",
    "    \"\"\"\n",
    "    1.x의 각원소와 x평균의 차\n",
    "    2.y의 각 원소와 y평균을 뺀 차\n",
    "    3. 1),2)의 곱을 각각 합한 값을 최종 리턴(분자값)\n",
    "    \"\"\"\n",
    "    result = sum([(x[i] - mx) * (y[i] - my) for i in range(len(x))])\n",
    "    return result\n",
    "\n",
    "#분자\n",
    "dividend = top(x, X_mean, y, Y_mean)\n",
    "# 분모값 구하기 \n",
    "divisor = sum([(i- X_mean) ** 2 for i in x])\n",
    "\n",
    "print(\"분모 : {0:.2f}, 분자 : {1:.2f}\".format(divisor, dividend))\n",
    "\n",
    "# 기울기\n",
    "a = dividend / divisor\n",
    "display(a)\n",
    "\n",
    "# 절편\n",
    "b = my - (a * mx)\n",
    "\n",
    "# 기울기와 y절편\n",
    "print(\"기울기 -> a :  %.2f, y절편 -> b: %.2f\" %(a, b))"
   ]
  }
 ],
 "metadata": {
  "kernelspec": {
   "display_name": "Python 3",
   "language": "python",
   "name": "python3"
  },
  "language_info": {
   "codemirror_mode": {
    "name": "ipython",
    "version": 3
   },
   "file_extension": ".py",
   "mimetype": "text/x-python",
   "name": "python",
   "nbconvert_exporter": "python",
   "pygments_lexer": "ipython3",
   "version": "3.8.3"
  }
 },
 "nbformat": 4,
 "nbformat_minor": 4
}
