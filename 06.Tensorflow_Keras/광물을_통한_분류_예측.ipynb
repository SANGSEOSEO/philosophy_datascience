{
 "cells": [
  {
   "cell_type": "markdown",
   "metadata": {
    "id": "0fMh5_ZZJcpT"
   },
   "source": [
    "# 광물을 통한 분류 예측"
   ]
  },
  {
   "cell_type": "markdown",
   "metadata": {
    "id": "9Yj8XNf5JjOX"
   },
   "source": [
    "## 1. 데이터의 확인 및 실행"
   ]
  },
  {
   "cell_type": "code",
   "execution_count": 4,
   "metadata": {
    "id": "KbP4x5zvJpsN"
   },
   "outputs": [],
   "source": [
    "import pandas as pd\n",
    "\n",
    "\n",
    "df = pd.read_csv(\"/content/sample_data/sonar.csv\", header= None)"
   ]
  },
  {
   "cell_type": "code",
   "execution_count": 5,
   "metadata": {
    "colab": {
     "base_uri": "https://localhost:8080/"
    },
    "id": "UB5Gx44pJ4QY",
    "outputId": "95c37107-1d1a-4b82-9e41-8bdca79ad6fd"
   },
   "outputs": [
    {
     "name": "stdout",
     "output_type": "stream",
     "text": [
      "<class 'pandas.core.frame.DataFrame'>\n",
      "RangeIndex: 208 entries, 0 to 207\n",
      "Data columns (total 61 columns):\n",
      " #   Column  Non-Null Count  Dtype  \n",
      "---  ------  --------------  -----  \n",
      " 0   0       208 non-null    float64\n",
      " 1   1       208 non-null    float64\n",
      " 2   2       208 non-null    float64\n",
      " 3   3       208 non-null    float64\n",
      " 4   4       208 non-null    float64\n",
      " 5   5       208 non-null    float64\n",
      " 6   6       208 non-null    float64\n",
      " 7   7       208 non-null    float64\n",
      " 8   8       208 non-null    float64\n",
      " 9   9       208 non-null    float64\n",
      " 10  10      208 non-null    float64\n",
      " 11  11      208 non-null    float64\n",
      " 12  12      208 non-null    float64\n",
      " 13  13      208 non-null    float64\n",
      " 14  14      208 non-null    float64\n",
      " 15  15      208 non-null    float64\n",
      " 16  16      208 non-null    float64\n",
      " 17  17      208 non-null    float64\n",
      " 18  18      208 non-null    float64\n",
      " 19  19      208 non-null    float64\n",
      " 20  20      208 non-null    float64\n",
      " 21  21      208 non-null    float64\n",
      " 22  22      208 non-null    float64\n",
      " 23  23      208 non-null    float64\n",
      " 24  24      208 non-null    float64\n",
      " 25  25      208 non-null    float64\n",
      " 26  26      208 non-null    float64\n",
      " 27  27      208 non-null    float64\n",
      " 28  28      208 non-null    float64\n",
      " 29  29      208 non-null    float64\n",
      " 30  30      208 non-null    float64\n",
      " 31  31      208 non-null    float64\n",
      " 32  32      208 non-null    float64\n",
      " 33  33      208 non-null    float64\n",
      " 34  34      208 non-null    float64\n",
      " 35  35      208 non-null    float64\n",
      " 36  36      208 non-null    float64\n",
      " 37  37      208 non-null    float64\n",
      " 38  38      208 non-null    float64\n",
      " 39  39      208 non-null    float64\n",
      " 40  40      208 non-null    float64\n",
      " 41  41      208 non-null    float64\n",
      " 42  42      208 non-null    float64\n",
      " 43  43      208 non-null    float64\n",
      " 44  44      208 non-null    float64\n",
      " 45  45      208 non-null    float64\n",
      " 46  46      208 non-null    float64\n",
      " 47  47      208 non-null    float64\n",
      " 48  48      208 non-null    float64\n",
      " 49  49      208 non-null    float64\n",
      " 50  50      208 non-null    float64\n",
      " 51  51      208 non-null    float64\n",
      " 52  52      208 non-null    float64\n",
      " 53  53      208 non-null    float64\n",
      " 54  54      208 non-null    float64\n",
      " 55  55      208 non-null    float64\n",
      " 56  56      208 non-null    float64\n",
      " 57  57      208 non-null    float64\n",
      " 58  58      208 non-null    float64\n",
      " 59  59      208 non-null    float64\n",
      " 60  60      208 non-null    object \n",
      "dtypes: float64(60), object(1)\n",
      "memory usage: 99.2+ KB\n"
     ]
    }
   ],
   "source": [
    "df.info()"
   ]
  },
  {
   "cell_type": "code",
   "execution_count": 6,
   "metadata": {
    "colab": {
     "base_uri": "https://localhost:8080/",
     "height": 224
    },
    "id": "foJGAv-DIfH7",
    "outputId": "c05e0fcb-1d63-4a06-825e-10ba270696e6"
   },
   "outputs": [
    {
     "data": {
      "text/html": [
       "<div>\n",
       "<style scoped>\n",
       "    .dataframe tbody tr th:only-of-type {\n",
       "        vertical-align: middle;\n",
       "    }\n",
       "\n",
       "    .dataframe tbody tr th {\n",
       "        vertical-align: top;\n",
       "    }\n",
       "\n",
       "    .dataframe thead th {\n",
       "        text-align: right;\n",
       "    }\n",
       "</style>\n",
       "<table border=\"1\" class=\"dataframe\">\n",
       "  <thead>\n",
       "    <tr style=\"text-align: right;\">\n",
       "      <th></th>\n",
       "      <th>0</th>\n",
       "      <th>1</th>\n",
       "      <th>2</th>\n",
       "      <th>3</th>\n",
       "      <th>4</th>\n",
       "      <th>5</th>\n",
       "      <th>6</th>\n",
       "      <th>7</th>\n",
       "      <th>8</th>\n",
       "      <th>9</th>\n",
       "      <th>10</th>\n",
       "      <th>11</th>\n",
       "      <th>12</th>\n",
       "      <th>13</th>\n",
       "      <th>14</th>\n",
       "      <th>15</th>\n",
       "      <th>16</th>\n",
       "      <th>17</th>\n",
       "      <th>18</th>\n",
       "      <th>19</th>\n",
       "      <th>20</th>\n",
       "      <th>21</th>\n",
       "      <th>22</th>\n",
       "      <th>23</th>\n",
       "      <th>24</th>\n",
       "      <th>25</th>\n",
       "      <th>26</th>\n",
       "      <th>27</th>\n",
       "      <th>28</th>\n",
       "      <th>29</th>\n",
       "      <th>30</th>\n",
       "      <th>31</th>\n",
       "      <th>32</th>\n",
       "      <th>33</th>\n",
       "      <th>34</th>\n",
       "      <th>35</th>\n",
       "      <th>36</th>\n",
       "      <th>37</th>\n",
       "      <th>38</th>\n",
       "      <th>39</th>\n",
       "      <th>40</th>\n",
       "      <th>41</th>\n",
       "      <th>42</th>\n",
       "      <th>43</th>\n",
       "      <th>44</th>\n",
       "      <th>45</th>\n",
       "      <th>46</th>\n",
       "      <th>47</th>\n",
       "      <th>48</th>\n",
       "      <th>49</th>\n",
       "      <th>50</th>\n",
       "      <th>51</th>\n",
       "      <th>52</th>\n",
       "      <th>53</th>\n",
       "      <th>54</th>\n",
       "      <th>55</th>\n",
       "      <th>56</th>\n",
       "      <th>57</th>\n",
       "      <th>58</th>\n",
       "      <th>59</th>\n",
       "      <th>60</th>\n",
       "    </tr>\n",
       "  </thead>\n",
       "  <tbody>\n",
       "    <tr>\n",
       "      <th>0</th>\n",
       "      <td>0.0200</td>\n",
       "      <td>0.0371</td>\n",
       "      <td>0.0428</td>\n",
       "      <td>0.0207</td>\n",
       "      <td>0.0954</td>\n",
       "      <td>0.0986</td>\n",
       "      <td>0.1539</td>\n",
       "      <td>0.1601</td>\n",
       "      <td>0.3109</td>\n",
       "      <td>0.2111</td>\n",
       "      <td>0.1609</td>\n",
       "      <td>0.1582</td>\n",
       "      <td>0.2238</td>\n",
       "      <td>0.0645</td>\n",
       "      <td>0.0660</td>\n",
       "      <td>0.2273</td>\n",
       "      <td>0.3100</td>\n",
       "      <td>0.2999</td>\n",
       "      <td>0.5078</td>\n",
       "      <td>0.4797</td>\n",
       "      <td>0.5783</td>\n",
       "      <td>0.5071</td>\n",
       "      <td>0.4328</td>\n",
       "      <td>0.5550</td>\n",
       "      <td>0.6711</td>\n",
       "      <td>0.6415</td>\n",
       "      <td>0.7104</td>\n",
       "      <td>0.8080</td>\n",
       "      <td>0.6791</td>\n",
       "      <td>0.3857</td>\n",
       "      <td>0.1307</td>\n",
       "      <td>0.2604</td>\n",
       "      <td>0.5121</td>\n",
       "      <td>0.7547</td>\n",
       "      <td>0.8537</td>\n",
       "      <td>0.8507</td>\n",
       "      <td>0.6692</td>\n",
       "      <td>0.6097</td>\n",
       "      <td>0.4943</td>\n",
       "      <td>0.2744</td>\n",
       "      <td>0.0510</td>\n",
       "      <td>0.2834</td>\n",
       "      <td>0.2825</td>\n",
       "      <td>0.4256</td>\n",
       "      <td>0.2641</td>\n",
       "      <td>0.1386</td>\n",
       "      <td>0.1051</td>\n",
       "      <td>0.1343</td>\n",
       "      <td>0.0383</td>\n",
       "      <td>0.0324</td>\n",
       "      <td>0.0232</td>\n",
       "      <td>0.0027</td>\n",
       "      <td>0.0065</td>\n",
       "      <td>0.0159</td>\n",
       "      <td>0.0072</td>\n",
       "      <td>0.0167</td>\n",
       "      <td>0.0180</td>\n",
       "      <td>0.0084</td>\n",
       "      <td>0.0090</td>\n",
       "      <td>0.0032</td>\n",
       "      <td>R</td>\n",
       "    </tr>\n",
       "    <tr>\n",
       "      <th>1</th>\n",
       "      <td>0.0453</td>\n",
       "      <td>0.0523</td>\n",
       "      <td>0.0843</td>\n",
       "      <td>0.0689</td>\n",
       "      <td>0.1183</td>\n",
       "      <td>0.2583</td>\n",
       "      <td>0.2156</td>\n",
       "      <td>0.3481</td>\n",
       "      <td>0.3337</td>\n",
       "      <td>0.2872</td>\n",
       "      <td>0.4918</td>\n",
       "      <td>0.6552</td>\n",
       "      <td>0.6919</td>\n",
       "      <td>0.7797</td>\n",
       "      <td>0.7464</td>\n",
       "      <td>0.9444</td>\n",
       "      <td>1.0000</td>\n",
       "      <td>0.8874</td>\n",
       "      <td>0.8024</td>\n",
       "      <td>0.7818</td>\n",
       "      <td>0.5212</td>\n",
       "      <td>0.4052</td>\n",
       "      <td>0.3957</td>\n",
       "      <td>0.3914</td>\n",
       "      <td>0.3250</td>\n",
       "      <td>0.3200</td>\n",
       "      <td>0.3271</td>\n",
       "      <td>0.2767</td>\n",
       "      <td>0.4423</td>\n",
       "      <td>0.2028</td>\n",
       "      <td>0.3788</td>\n",
       "      <td>0.2947</td>\n",
       "      <td>0.1984</td>\n",
       "      <td>0.2341</td>\n",
       "      <td>0.1306</td>\n",
       "      <td>0.4182</td>\n",
       "      <td>0.3835</td>\n",
       "      <td>0.1057</td>\n",
       "      <td>0.1840</td>\n",
       "      <td>0.1970</td>\n",
       "      <td>0.1674</td>\n",
       "      <td>0.0583</td>\n",
       "      <td>0.1401</td>\n",
       "      <td>0.1628</td>\n",
       "      <td>0.0621</td>\n",
       "      <td>0.0203</td>\n",
       "      <td>0.0530</td>\n",
       "      <td>0.0742</td>\n",
       "      <td>0.0409</td>\n",
       "      <td>0.0061</td>\n",
       "      <td>0.0125</td>\n",
       "      <td>0.0084</td>\n",
       "      <td>0.0089</td>\n",
       "      <td>0.0048</td>\n",
       "      <td>0.0094</td>\n",
       "      <td>0.0191</td>\n",
       "      <td>0.0140</td>\n",
       "      <td>0.0049</td>\n",
       "      <td>0.0052</td>\n",
       "      <td>0.0044</td>\n",
       "      <td>R</td>\n",
       "    </tr>\n",
       "    <tr>\n",
       "      <th>2</th>\n",
       "      <td>0.0262</td>\n",
       "      <td>0.0582</td>\n",
       "      <td>0.1099</td>\n",
       "      <td>0.1083</td>\n",
       "      <td>0.0974</td>\n",
       "      <td>0.2280</td>\n",
       "      <td>0.2431</td>\n",
       "      <td>0.3771</td>\n",
       "      <td>0.5598</td>\n",
       "      <td>0.6194</td>\n",
       "      <td>0.6333</td>\n",
       "      <td>0.7060</td>\n",
       "      <td>0.5544</td>\n",
       "      <td>0.5320</td>\n",
       "      <td>0.6479</td>\n",
       "      <td>0.6931</td>\n",
       "      <td>0.6759</td>\n",
       "      <td>0.7551</td>\n",
       "      <td>0.8929</td>\n",
       "      <td>0.8619</td>\n",
       "      <td>0.7974</td>\n",
       "      <td>0.6737</td>\n",
       "      <td>0.4293</td>\n",
       "      <td>0.3648</td>\n",
       "      <td>0.5331</td>\n",
       "      <td>0.2413</td>\n",
       "      <td>0.5070</td>\n",
       "      <td>0.8533</td>\n",
       "      <td>0.6036</td>\n",
       "      <td>0.8514</td>\n",
       "      <td>0.8512</td>\n",
       "      <td>0.5045</td>\n",
       "      <td>0.1862</td>\n",
       "      <td>0.2709</td>\n",
       "      <td>0.4232</td>\n",
       "      <td>0.3043</td>\n",
       "      <td>0.6116</td>\n",
       "      <td>0.6756</td>\n",
       "      <td>0.5375</td>\n",
       "      <td>0.4719</td>\n",
       "      <td>0.4647</td>\n",
       "      <td>0.2587</td>\n",
       "      <td>0.2129</td>\n",
       "      <td>0.2222</td>\n",
       "      <td>0.2111</td>\n",
       "      <td>0.0176</td>\n",
       "      <td>0.1348</td>\n",
       "      <td>0.0744</td>\n",
       "      <td>0.0130</td>\n",
       "      <td>0.0106</td>\n",
       "      <td>0.0033</td>\n",
       "      <td>0.0232</td>\n",
       "      <td>0.0166</td>\n",
       "      <td>0.0095</td>\n",
       "      <td>0.0180</td>\n",
       "      <td>0.0244</td>\n",
       "      <td>0.0316</td>\n",
       "      <td>0.0164</td>\n",
       "      <td>0.0095</td>\n",
       "      <td>0.0078</td>\n",
       "      <td>R</td>\n",
       "    </tr>\n",
       "    <tr>\n",
       "      <th>3</th>\n",
       "      <td>0.0100</td>\n",
       "      <td>0.0171</td>\n",
       "      <td>0.0623</td>\n",
       "      <td>0.0205</td>\n",
       "      <td>0.0205</td>\n",
       "      <td>0.0368</td>\n",
       "      <td>0.1098</td>\n",
       "      <td>0.1276</td>\n",
       "      <td>0.0598</td>\n",
       "      <td>0.1264</td>\n",
       "      <td>0.0881</td>\n",
       "      <td>0.1992</td>\n",
       "      <td>0.0184</td>\n",
       "      <td>0.2261</td>\n",
       "      <td>0.1729</td>\n",
       "      <td>0.2131</td>\n",
       "      <td>0.0693</td>\n",
       "      <td>0.2281</td>\n",
       "      <td>0.4060</td>\n",
       "      <td>0.3973</td>\n",
       "      <td>0.2741</td>\n",
       "      <td>0.3690</td>\n",
       "      <td>0.5556</td>\n",
       "      <td>0.4846</td>\n",
       "      <td>0.3140</td>\n",
       "      <td>0.5334</td>\n",
       "      <td>0.5256</td>\n",
       "      <td>0.2520</td>\n",
       "      <td>0.2090</td>\n",
       "      <td>0.3559</td>\n",
       "      <td>0.6260</td>\n",
       "      <td>0.7340</td>\n",
       "      <td>0.6120</td>\n",
       "      <td>0.3497</td>\n",
       "      <td>0.3953</td>\n",
       "      <td>0.3012</td>\n",
       "      <td>0.5408</td>\n",
       "      <td>0.8814</td>\n",
       "      <td>0.9857</td>\n",
       "      <td>0.9167</td>\n",
       "      <td>0.6121</td>\n",
       "      <td>0.5006</td>\n",
       "      <td>0.3210</td>\n",
       "      <td>0.3202</td>\n",
       "      <td>0.4295</td>\n",
       "      <td>0.3654</td>\n",
       "      <td>0.2655</td>\n",
       "      <td>0.1576</td>\n",
       "      <td>0.0681</td>\n",
       "      <td>0.0294</td>\n",
       "      <td>0.0241</td>\n",
       "      <td>0.0121</td>\n",
       "      <td>0.0036</td>\n",
       "      <td>0.0150</td>\n",
       "      <td>0.0085</td>\n",
       "      <td>0.0073</td>\n",
       "      <td>0.0050</td>\n",
       "      <td>0.0044</td>\n",
       "      <td>0.0040</td>\n",
       "      <td>0.0117</td>\n",
       "      <td>R</td>\n",
       "    </tr>\n",
       "    <tr>\n",
       "      <th>4</th>\n",
       "      <td>0.0762</td>\n",
       "      <td>0.0666</td>\n",
       "      <td>0.0481</td>\n",
       "      <td>0.0394</td>\n",
       "      <td>0.0590</td>\n",
       "      <td>0.0649</td>\n",
       "      <td>0.1209</td>\n",
       "      <td>0.2467</td>\n",
       "      <td>0.3564</td>\n",
       "      <td>0.4459</td>\n",
       "      <td>0.4152</td>\n",
       "      <td>0.3952</td>\n",
       "      <td>0.4256</td>\n",
       "      <td>0.4135</td>\n",
       "      <td>0.4528</td>\n",
       "      <td>0.5326</td>\n",
       "      <td>0.7306</td>\n",
       "      <td>0.6193</td>\n",
       "      <td>0.2032</td>\n",
       "      <td>0.4636</td>\n",
       "      <td>0.4148</td>\n",
       "      <td>0.4292</td>\n",
       "      <td>0.5730</td>\n",
       "      <td>0.5399</td>\n",
       "      <td>0.3161</td>\n",
       "      <td>0.2285</td>\n",
       "      <td>0.6995</td>\n",
       "      <td>1.0000</td>\n",
       "      <td>0.7262</td>\n",
       "      <td>0.4724</td>\n",
       "      <td>0.5103</td>\n",
       "      <td>0.5459</td>\n",
       "      <td>0.2881</td>\n",
       "      <td>0.0981</td>\n",
       "      <td>0.1951</td>\n",
       "      <td>0.4181</td>\n",
       "      <td>0.4604</td>\n",
       "      <td>0.3217</td>\n",
       "      <td>0.2828</td>\n",
       "      <td>0.2430</td>\n",
       "      <td>0.1979</td>\n",
       "      <td>0.2444</td>\n",
       "      <td>0.1847</td>\n",
       "      <td>0.0841</td>\n",
       "      <td>0.0692</td>\n",
       "      <td>0.0528</td>\n",
       "      <td>0.0357</td>\n",
       "      <td>0.0085</td>\n",
       "      <td>0.0230</td>\n",
       "      <td>0.0046</td>\n",
       "      <td>0.0156</td>\n",
       "      <td>0.0031</td>\n",
       "      <td>0.0054</td>\n",
       "      <td>0.0105</td>\n",
       "      <td>0.0110</td>\n",
       "      <td>0.0015</td>\n",
       "      <td>0.0072</td>\n",
       "      <td>0.0048</td>\n",
       "      <td>0.0107</td>\n",
       "      <td>0.0094</td>\n",
       "      <td>R</td>\n",
       "    </tr>\n",
       "  </tbody>\n",
       "</table>\n",
       "</div>"
      ],
      "text/plain": [
       "       0       1       2       3       4   ...      56      57      58      59  60\n",
       "0  0.0200  0.0371  0.0428  0.0207  0.0954  ...  0.0180  0.0084  0.0090  0.0032   R\n",
       "1  0.0453  0.0523  0.0843  0.0689  0.1183  ...  0.0140  0.0049  0.0052  0.0044   R\n",
       "2  0.0262  0.0582  0.1099  0.1083  0.0974  ...  0.0316  0.0164  0.0095  0.0078   R\n",
       "3  0.0100  0.0171  0.0623  0.0205  0.0205  ...  0.0050  0.0044  0.0040  0.0117   R\n",
       "4  0.0762  0.0666  0.0481  0.0394  0.0590  ...  0.0072  0.0048  0.0107  0.0094   R\n",
       "\n",
       "[5 rows x 61 columns]"
      ]
     },
     "execution_count": 6,
     "metadata": {
      "tags": []
     },
     "output_type": "execute_result"
    }
   ],
   "source": [
    "df.head(5)"
   ]
  },
  {
   "cell_type": "markdown",
   "metadata": {
    "id": "l_uPByRWKLQz"
   },
   "source": [
    "## 2. 초음파 광물 예측 : 데이터확인 및 실행"
   ]
  },
  {
   "cell_type": "markdown",
   "metadata": {
    "id": "7jXNuyp-Kza5"
   },
   "source": [
    "### 관련 패키지 임포트 "
   ]
  },
  {
   "cell_type": "code",
   "execution_count": 7,
   "metadata": {
    "id": "d0VgQigXKQX0"
   },
   "outputs": [],
   "source": [
    "# 모델, 레이어, 전처리 \n",
    "from tensorflow.keras import Sequential\n",
    "from tensorflow.keras.layers import Dense\n",
    "from sklearn.preprocessing import LabelEncoder\n",
    "\n",
    "import pandas as pd\n",
    "import numpy as np\n",
    "import tensorflow as tf\n",
    "\n",
    "# seed값 설정\n",
    "seed = 3\n",
    "np.random.seed(seed)\n",
    "tf.random.set_seed(seed)"
   ]
  },
  {
   "cell_type": "markdown",
   "metadata": {
    "id": "ip4hfNL8KxaH"
   },
   "source": [
    "### 데이터 로그 및 전처리 "
   ]
  },
  {
   "cell_type": "code",
   "execution_count": 15,
   "metadata": {
    "id": "LSwb3yOcLA9o"
   },
   "outputs": [],
   "source": [
    "df = pd.read_csv(\"/content/sample_data/sonar.csv\", header = None)\n",
    "dataset = df.values\n",
    "X = dataset[:, : 60].astype(float)   # ValueError: Failed to convert a NumPy array to a Tensor (Unsupported object type float).\n",
    "Y_obj = dataset[:, 60]"
   ]
  },
  {
   "cell_type": "code",
   "execution_count": 16,
   "metadata": {
    "id": "3wEEO6SdLdKt"
   },
   "outputs": [],
   "source": [
    "# 문자열 변환\n",
    "e = LabelEncoder()\n",
    "e.fit(Y_obj)\n",
    "Y = e.transform(Y_obj)"
   ]
  },
  {
   "cell_type": "markdown",
   "metadata": {
    "id": "_3Tvdjp5Lob7"
   },
   "source": [
    "### 모델 설정 및 컴파일 및 실행"
   ]
  },
  {
   "cell_type": "code",
   "execution_count": 17,
   "metadata": {
    "id": "PdyrsXaBLm7Q"
   },
   "outputs": [],
   "source": [
    "# 모델 설정\n",
    "model = Sequential()\n",
    "model.add(Dense(24, input_dim=60, activation= 'relu'))\n",
    "model.add(Dense(10, activation='relu'))\n",
    "model.add(Dense(1, activation='sigmoid'))"
   ]
  },
  {
   "cell_type": "code",
   "execution_count": 20,
   "metadata": {
    "id": "lHrrSCXLMQij"
   },
   "outputs": [],
   "source": [
    "# 모델 컴파일\n",
    "model.compile(loss = 'binary_crossentropy', optimizer = 'adam', metrics = ['accuracy'])"
   ]
  },
  {
   "cell_type": "code",
   "execution_count": 21,
   "metadata": {
    "colab": {
     "base_uri": "https://localhost:8080/"
    },
    "id": "biWFKhd2MpCm",
    "outputId": "2b8a7518-b1f5-4513-8cd5-b9f8280a9c39"
   },
   "outputs": [
    {
     "name": "stdout",
     "output_type": "stream",
     "text": [
      "Epoch 1/200\n",
      "42/42 [==============================] - 2s 2ms/step - loss: 0.6965 - accuracy: 0.5441\n",
      "Epoch 2/200\n",
      "42/42 [==============================] - 0s 2ms/step - loss: 0.6563 - accuracy: 0.6602\n",
      "Epoch 3/200\n",
      "42/42 [==============================] - 0s 2ms/step - loss: 0.6181 - accuracy: 0.7103\n",
      "Epoch 4/200\n",
      "42/42 [==============================] - 0s 2ms/step - loss: 0.6063 - accuracy: 0.6979\n",
      "Epoch 5/200\n",
      "42/42 [==============================] - 0s 2ms/step - loss: 0.5939 - accuracy: 0.6998\n",
      "Epoch 6/200\n",
      "42/42 [==============================] - 0s 2ms/step - loss: 0.5499 - accuracy: 0.7335\n",
      "Epoch 7/200\n",
      "42/42 [==============================] - 0s 2ms/step - loss: 0.5092 - accuracy: 0.8038\n",
      "Epoch 8/200\n",
      "42/42 [==============================] - 0s 2ms/step - loss: 0.4728 - accuracy: 0.8179\n",
      "Epoch 9/200\n",
      "42/42 [==============================] - 0s 2ms/step - loss: 0.4954 - accuracy: 0.7867\n",
      "Epoch 10/200\n",
      "42/42 [==============================] - 0s 2ms/step - loss: 0.4601 - accuracy: 0.8435\n",
      "Epoch 11/200\n",
      "42/42 [==============================] - 0s 2ms/step - loss: 0.4895 - accuracy: 0.7784\n",
      "Epoch 12/200\n",
      "42/42 [==============================] - 0s 2ms/step - loss: 0.4399 - accuracy: 0.7760\n",
      "Epoch 13/200\n",
      "42/42 [==============================] - 0s 2ms/step - loss: 0.4365 - accuracy: 0.8374\n",
      "Epoch 14/200\n",
      "42/42 [==============================] - 0s 2ms/step - loss: 0.3778 - accuracy: 0.8629\n",
      "Epoch 15/200\n",
      "42/42 [==============================] - 0s 2ms/step - loss: 0.3683 - accuracy: 0.8479\n",
      "Epoch 16/200\n",
      "42/42 [==============================] - 0s 2ms/step - loss: 0.4035 - accuracy: 0.8580\n",
      "Epoch 17/200\n",
      "42/42 [==============================] - 0s 2ms/step - loss: 0.4201 - accuracy: 0.7661\n",
      "Epoch 18/200\n",
      "42/42 [==============================] - 0s 2ms/step - loss: 0.3660 - accuracy: 0.8940\n",
      "Epoch 19/200\n",
      "42/42 [==============================] - 0s 2ms/step - loss: 0.3207 - accuracy: 0.8937\n",
      "Epoch 20/200\n",
      "42/42 [==============================] - 0s 2ms/step - loss: 0.3195 - accuracy: 0.8884\n",
      "Epoch 21/200\n",
      "42/42 [==============================] - 0s 2ms/step - loss: 0.3509 - accuracy: 0.8307\n",
      "Epoch 22/200\n",
      "42/42 [==============================] - 0s 2ms/step - loss: 0.3996 - accuracy: 0.8459\n",
      "Epoch 23/200\n",
      "42/42 [==============================] - 0s 2ms/step - loss: 0.3189 - accuracy: 0.8595\n",
      "Epoch 24/200\n",
      "42/42 [==============================] - 0s 2ms/step - loss: 0.3449 - accuracy: 0.8646\n",
      "Epoch 25/200\n",
      "42/42 [==============================] - 0s 2ms/step - loss: 0.3065 - accuracy: 0.8836\n",
      "Epoch 26/200\n",
      "42/42 [==============================] - 0s 2ms/step - loss: 0.2937 - accuracy: 0.8808\n",
      "Epoch 27/200\n",
      "42/42 [==============================] - 0s 2ms/step - loss: 0.2726 - accuracy: 0.9118\n",
      "Epoch 28/200\n",
      "42/42 [==============================] - 0s 2ms/step - loss: 0.3298 - accuracy: 0.8242\n",
      "Epoch 29/200\n",
      "42/42 [==============================] - 0s 2ms/step - loss: 0.3149 - accuracy: 0.8533\n",
      "Epoch 30/200\n",
      "42/42 [==============================] - 0s 2ms/step - loss: 0.2953 - accuracy: 0.8742\n",
      "Epoch 31/200\n",
      "42/42 [==============================] - 0s 2ms/step - loss: 0.2662 - accuracy: 0.8824\n",
      "Epoch 32/200\n",
      "42/42 [==============================] - 0s 2ms/step - loss: 0.2564 - accuracy: 0.9039\n",
      "Epoch 33/200\n",
      "42/42 [==============================] - 0s 2ms/step - loss: 0.2750 - accuracy: 0.8875\n",
      "Epoch 34/200\n",
      "42/42 [==============================] - 0s 2ms/step - loss: 0.2410 - accuracy: 0.8829\n",
      "Epoch 35/200\n",
      "42/42 [==============================] - 0s 2ms/step - loss: 0.2362 - accuracy: 0.9038\n",
      "Epoch 36/200\n",
      "42/42 [==============================] - 0s 2ms/step - loss: 0.2661 - accuracy: 0.8784\n",
      "Epoch 37/200\n",
      "42/42 [==============================] - 0s 2ms/step - loss: 0.2434 - accuracy: 0.9236\n",
      "Epoch 38/200\n",
      "42/42 [==============================] - 0s 2ms/step - loss: 0.2205 - accuracy: 0.9440\n",
      "Epoch 39/200\n",
      "42/42 [==============================] - 0s 2ms/step - loss: 0.2049 - accuracy: 0.9570\n",
      "Epoch 40/200\n",
      "42/42 [==============================] - 0s 2ms/step - loss: 0.2309 - accuracy: 0.9085\n",
      "Epoch 41/200\n",
      "42/42 [==============================] - 0s 2ms/step - loss: 0.2567 - accuracy: 0.8879\n",
      "Epoch 42/200\n",
      "42/42 [==============================] - 0s 2ms/step - loss: 0.1901 - accuracy: 0.9454\n",
      "Epoch 43/200\n",
      "42/42 [==============================] - 0s 2ms/step - loss: 0.2019 - accuracy: 0.9222\n",
      "Epoch 44/200\n",
      "42/42 [==============================] - 0s 2ms/step - loss: 0.2173 - accuracy: 0.9220\n",
      "Epoch 45/200\n",
      "42/42 [==============================] - 0s 2ms/step - loss: 0.1975 - accuracy: 0.9181\n",
      "Epoch 46/200\n",
      "42/42 [==============================] - 0s 2ms/step - loss: 0.2169 - accuracy: 0.9444\n",
      "Epoch 47/200\n",
      "42/42 [==============================] - 0s 2ms/step - loss: 0.1963 - accuracy: 0.9289\n",
      "Epoch 48/200\n",
      "42/42 [==============================] - 0s 2ms/step - loss: 0.1797 - accuracy: 0.9544\n",
      "Epoch 49/200\n",
      "42/42 [==============================] - 0s 2ms/step - loss: 0.2021 - accuracy: 0.9312\n",
      "Epoch 50/200\n",
      "42/42 [==============================] - 0s 2ms/step - loss: 0.2138 - accuracy: 0.9270\n",
      "Epoch 51/200\n",
      "42/42 [==============================] - 0s 2ms/step - loss: 0.1882 - accuracy: 0.9562\n",
      "Epoch 52/200\n",
      "42/42 [==============================] - 0s 2ms/step - loss: 0.1660 - accuracy: 0.9311\n",
      "Epoch 53/200\n",
      "42/42 [==============================] - 0s 2ms/step - loss: 0.1583 - accuracy: 0.9537\n",
      "Epoch 54/200\n",
      "42/42 [==============================] - 0s 2ms/step - loss: 0.1708 - accuracy: 0.9546\n",
      "Epoch 55/200\n",
      "42/42 [==============================] - 0s 2ms/step - loss: 0.1505 - accuracy: 0.9588\n",
      "Epoch 56/200\n",
      "42/42 [==============================] - 0s 2ms/step - loss: 0.1659 - accuracy: 0.9416\n",
      "Epoch 57/200\n",
      "42/42 [==============================] - 0s 2ms/step - loss: 0.1656 - accuracy: 0.9548\n",
      "Epoch 58/200\n",
      "42/42 [==============================] - 0s 2ms/step - loss: 0.1736 - accuracy: 0.9314\n",
      "Epoch 59/200\n",
      "42/42 [==============================] - 0s 2ms/step - loss: 0.1958 - accuracy: 0.9504\n",
      "Epoch 60/200\n",
      "42/42 [==============================] - 0s 2ms/step - loss: 0.1551 - accuracy: 0.9579\n",
      "Epoch 61/200\n",
      "42/42 [==============================] - 0s 2ms/step - loss: 0.1187 - accuracy: 0.9828\n",
      "Epoch 62/200\n",
      "42/42 [==============================] - 0s 2ms/step - loss: 0.1758 - accuracy: 0.9429\n",
      "Epoch 63/200\n",
      "42/42 [==============================] - 0s 2ms/step - loss: 0.1242 - accuracy: 0.9719\n",
      "Epoch 64/200\n",
      "42/42 [==============================] - 0s 2ms/step - loss: 0.1403 - accuracy: 0.9614\n",
      "Epoch 65/200\n",
      "42/42 [==============================] - 0s 2ms/step - loss: 0.1209 - accuracy: 0.9835\n",
      "Epoch 66/200\n",
      "42/42 [==============================] - 0s 2ms/step - loss: 0.1273 - accuracy: 0.9667\n",
      "Epoch 67/200\n",
      "42/42 [==============================] - 0s 2ms/step - loss: 0.1561 - accuracy: 0.9479\n",
      "Epoch 68/200\n",
      "42/42 [==============================] - 0s 2ms/step - loss: 0.1239 - accuracy: 0.9633\n",
      "Epoch 69/200\n",
      "42/42 [==============================] - 0s 2ms/step - loss: 0.1164 - accuracy: 0.9753\n",
      "Epoch 70/200\n",
      "42/42 [==============================] - 0s 2ms/step - loss: 0.1153 - accuracy: 0.9687\n",
      "Epoch 71/200\n",
      "42/42 [==============================] - 0s 2ms/step - loss: 0.1106 - accuracy: 0.9640\n",
      "Epoch 72/200\n",
      "42/42 [==============================] - 0s 2ms/step - loss: 0.1058 - accuracy: 0.9808\n",
      "Epoch 73/200\n",
      "42/42 [==============================] - 0s 2ms/step - loss: 0.1066 - accuracy: 0.9831\n",
      "Epoch 74/200\n",
      "42/42 [==============================] - 0s 2ms/step - loss: 0.1085 - accuracy: 0.9672\n",
      "Epoch 75/200\n",
      "42/42 [==============================] - 0s 2ms/step - loss: 0.0860 - accuracy: 0.9754\n",
      "Epoch 76/200\n",
      "42/42 [==============================] - 0s 2ms/step - loss: 0.0827 - accuracy: 0.9888\n",
      "Epoch 77/200\n",
      "42/42 [==============================] - 0s 2ms/step - loss: 0.0853 - accuracy: 0.9882\n",
      "Epoch 78/200\n",
      "42/42 [==============================] - 0s 2ms/step - loss: 0.0912 - accuracy: 0.9636\n",
      "Epoch 79/200\n",
      "42/42 [==============================] - 0s 2ms/step - loss: 0.0997 - accuracy: 0.9644\n",
      "Epoch 80/200\n",
      "42/42 [==============================] - 0s 2ms/step - loss: 0.0780 - accuracy: 0.9937\n",
      "Epoch 81/200\n",
      "42/42 [==============================] - 0s 2ms/step - loss: 0.1009 - accuracy: 0.9707\n",
      "Epoch 82/200\n",
      "42/42 [==============================] - 0s 2ms/step - loss: 0.1172 - accuracy: 0.9498\n",
      "Epoch 83/200\n",
      "42/42 [==============================] - 0s 2ms/step - loss: 0.0648 - accuracy: 0.9874\n",
      "Epoch 84/200\n",
      "42/42 [==============================] - 0s 2ms/step - loss: 0.0896 - accuracy: 0.9965\n",
      "Epoch 85/200\n",
      "42/42 [==============================] - 0s 2ms/step - loss: 0.0721 - accuracy: 0.9872\n",
      "Epoch 86/200\n",
      "42/42 [==============================] - 0s 2ms/step - loss: 0.0764 - accuracy: 0.9741\n",
      "Epoch 87/200\n",
      "42/42 [==============================] - 0s 2ms/step - loss: 0.0552 - accuracy: 1.0000\n",
      "Epoch 88/200\n",
      "42/42 [==============================] - 0s 2ms/step - loss: 0.0943 - accuracy: 0.9672\n",
      "Epoch 89/200\n",
      "42/42 [==============================] - 0s 2ms/step - loss: 0.0727 - accuracy: 1.0000\n",
      "Epoch 90/200\n",
      "42/42 [==============================] - 0s 2ms/step - loss: 0.0558 - accuracy: 1.0000\n",
      "Epoch 91/200\n",
      "42/42 [==============================] - 0s 2ms/step - loss: 0.0521 - accuracy: 0.9924\n",
      "Epoch 92/200\n",
      "42/42 [==============================] - 0s 2ms/step - loss: 0.0754 - accuracy: 0.9765\n",
      "Epoch 93/200\n",
      "42/42 [==============================] - 0s 2ms/step - loss: 0.0580 - accuracy: 0.9907\n",
      "Epoch 94/200\n",
      "42/42 [==============================] - 0s 2ms/step - loss: 0.0496 - accuracy: 1.0000\n",
      "Epoch 95/200\n",
      "42/42 [==============================] - 0s 2ms/step - loss: 0.0394 - accuracy: 0.9989\n",
      "Epoch 96/200\n",
      "42/42 [==============================] - 0s 2ms/step - loss: 0.0538 - accuracy: 1.0000\n",
      "Epoch 97/200\n",
      "42/42 [==============================] - 0s 2ms/step - loss: 0.0519 - accuracy: 0.9971\n",
      "Epoch 98/200\n",
      "42/42 [==============================] - 0s 2ms/step - loss: 0.0512 - accuracy: 0.9948\n",
      "Epoch 99/200\n",
      "42/42 [==============================] - 0s 2ms/step - loss: 0.0478 - accuracy: 1.0000\n",
      "Epoch 100/200\n",
      "42/42 [==============================] - 0s 2ms/step - loss: 0.0499 - accuracy: 1.0000\n",
      "Epoch 101/200\n",
      "42/42 [==============================] - 0s 2ms/step - loss: 0.0474 - accuracy: 1.0000\n",
      "Epoch 102/200\n",
      "42/42 [==============================] - 0s 2ms/step - loss: 0.0363 - accuracy: 1.0000\n",
      "Epoch 103/200\n",
      "42/42 [==============================] - 0s 2ms/step - loss: 0.0400 - accuracy: 0.9971\n",
      "Epoch 104/200\n",
      "42/42 [==============================] - 0s 2ms/step - loss: 0.0414 - accuracy: 1.0000\n",
      "Epoch 105/200\n",
      "42/42 [==============================] - 0s 2ms/step - loss: 0.0366 - accuracy: 1.0000\n",
      "Epoch 106/200\n",
      "42/42 [==============================] - 0s 2ms/step - loss: 0.0471 - accuracy: 1.0000\n",
      "Epoch 107/200\n",
      "42/42 [==============================] - 0s 2ms/step - loss: 0.0332 - accuracy: 1.0000\n",
      "Epoch 108/200\n",
      "42/42 [==============================] - 0s 2ms/step - loss: 0.0363 - accuracy: 1.0000\n",
      "Epoch 109/200\n",
      "42/42 [==============================] - 0s 2ms/step - loss: 0.0367 - accuracy: 1.0000\n",
      "Epoch 110/200\n",
      "42/42 [==============================] - 0s 2ms/step - loss: 0.0328 - accuracy: 1.0000\n",
      "Epoch 111/200\n",
      "42/42 [==============================] - 0s 2ms/step - loss: 0.0351 - accuracy: 0.9975\n",
      "Epoch 112/200\n",
      "42/42 [==============================] - 0s 2ms/step - loss: 0.0260 - accuracy: 1.0000\n",
      "Epoch 113/200\n",
      "42/42 [==============================] - 0s 2ms/step - loss: 0.0364 - accuracy: 1.0000\n",
      "Epoch 114/200\n",
      "42/42 [==============================] - 0s 2ms/step - loss: 0.0292 - accuracy: 1.0000\n",
      "Epoch 115/200\n",
      "42/42 [==============================] - 0s 2ms/step - loss: 0.0278 - accuracy: 1.0000\n",
      "Epoch 116/200\n",
      "42/42 [==============================] - 0s 2ms/step - loss: 0.0293 - accuracy: 1.0000\n",
      "Epoch 117/200\n",
      "42/42 [==============================] - 0s 2ms/step - loss: 0.0248 - accuracy: 1.0000\n",
      "Epoch 118/200\n",
      "42/42 [==============================] - 0s 2ms/step - loss: 0.0242 - accuracy: 1.0000\n",
      "Epoch 119/200\n",
      "42/42 [==============================] - 0s 2ms/step - loss: 0.0273 - accuracy: 1.0000\n",
      "Epoch 120/200\n",
      "42/42 [==============================] - 0s 2ms/step - loss: 0.0258 - accuracy: 1.0000\n",
      "Epoch 121/200\n",
      "42/42 [==============================] - 0s 2ms/step - loss: 0.0307 - accuracy: 1.0000\n",
      "Epoch 122/200\n",
      "42/42 [==============================] - 0s 2ms/step - loss: 0.0323 - accuracy: 1.0000\n",
      "Epoch 123/200\n",
      "42/42 [==============================] - 0s 2ms/step - loss: 0.0211 - accuracy: 1.0000\n",
      "Epoch 124/200\n",
      "42/42 [==============================] - 0s 2ms/step - loss: 0.0220 - accuracy: 1.0000\n",
      "Epoch 125/200\n",
      "42/42 [==============================] - 0s 2ms/step - loss: 0.0176 - accuracy: 1.0000\n",
      "Epoch 126/200\n",
      "42/42 [==============================] - 0s 2ms/step - loss: 0.0193 - accuracy: 1.0000\n",
      "Epoch 127/200\n",
      "42/42 [==============================] - 0s 2ms/step - loss: 0.0143 - accuracy: 1.0000\n",
      "Epoch 128/200\n",
      "42/42 [==============================] - 0s 2ms/step - loss: 0.0205 - accuracy: 1.0000\n",
      "Epoch 129/200\n",
      "42/42 [==============================] - 0s 2ms/step - loss: 0.0207 - accuracy: 1.0000\n",
      "Epoch 130/200\n",
      "42/42 [==============================] - 0s 2ms/step - loss: 0.0158 - accuracy: 1.0000\n",
      "Epoch 131/200\n",
      "42/42 [==============================] - 0s 2ms/step - loss: 0.0187 - accuracy: 1.0000\n",
      "Epoch 132/200\n",
      "42/42 [==============================] - 0s 2ms/step - loss: 0.0173 - accuracy: 1.0000\n",
      "Epoch 133/200\n",
      "42/42 [==============================] - 0s 2ms/step - loss: 0.0129 - accuracy: 1.0000\n",
      "Epoch 134/200\n",
      "42/42 [==============================] - 0s 2ms/step - loss: 0.0180 - accuracy: 1.0000\n",
      "Epoch 135/200\n",
      "42/42 [==============================] - 0s 2ms/step - loss: 0.0194 - accuracy: 1.0000\n",
      "Epoch 136/200\n",
      "42/42 [==============================] - 0s 2ms/step - loss: 0.0138 - accuracy: 1.0000\n",
      "Epoch 137/200\n",
      "42/42 [==============================] - 0s 2ms/step - loss: 0.0155 - accuracy: 1.0000\n",
      "Epoch 138/200\n",
      "42/42 [==============================] - 0s 2ms/step - loss: 0.0122 - accuracy: 1.0000\n",
      "Epoch 139/200\n",
      "42/42 [==============================] - 0s 2ms/step - loss: 0.0132 - accuracy: 1.0000\n",
      "Epoch 140/200\n",
      "42/42 [==============================] - 0s 2ms/step - loss: 0.0153 - accuracy: 1.0000\n",
      "Epoch 141/200\n",
      "42/42 [==============================] - 0s 2ms/step - loss: 0.0183 - accuracy: 1.0000\n",
      "Epoch 142/200\n",
      "42/42 [==============================] - 0s 2ms/step - loss: 0.0116 - accuracy: 1.0000\n",
      "Epoch 143/200\n",
      "42/42 [==============================] - 0s 2ms/step - loss: 0.0121 - accuracy: 1.0000\n",
      "Epoch 144/200\n",
      "42/42 [==============================] - 0s 2ms/step - loss: 0.0145 - accuracy: 1.0000\n",
      "Epoch 145/200\n",
      "42/42 [==============================] - 0s 2ms/step - loss: 0.0121 - accuracy: 1.0000\n",
      "Epoch 146/200\n",
      "42/42 [==============================] - 0s 2ms/step - loss: 0.0109 - accuracy: 1.0000\n",
      "Epoch 147/200\n",
      "42/42 [==============================] - 0s 2ms/step - loss: 0.0084 - accuracy: 1.0000\n",
      "Epoch 148/200\n",
      "42/42 [==============================] - 0s 2ms/step - loss: 0.0103 - accuracy: 1.0000\n",
      "Epoch 149/200\n",
      "42/42 [==============================] - 0s 2ms/step - loss: 0.0084 - accuracy: 1.0000\n",
      "Epoch 150/200\n",
      "42/42 [==============================] - 0s 2ms/step - loss: 0.0074 - accuracy: 1.0000\n",
      "Epoch 151/200\n",
      "42/42 [==============================] - 0s 2ms/step - loss: 0.0089 - accuracy: 1.0000\n",
      "Epoch 152/200\n",
      "42/42 [==============================] - 0s 3ms/step - loss: 0.0081 - accuracy: 1.0000\n",
      "Epoch 153/200\n",
      "42/42 [==============================] - 0s 2ms/step - loss: 0.0082 - accuracy: 1.0000\n",
      "Epoch 154/200\n",
      "42/42 [==============================] - 0s 3ms/step - loss: 0.0106 - accuracy: 1.0000\n",
      "Epoch 155/200\n",
      "42/42 [==============================] - 0s 2ms/step - loss: 0.0090 - accuracy: 1.0000\n",
      "Epoch 156/200\n",
      "42/42 [==============================] - 0s 2ms/step - loss: 0.0079 - accuracy: 1.0000\n",
      "Epoch 157/200\n",
      "42/42 [==============================] - 0s 2ms/step - loss: 0.0068 - accuracy: 1.0000\n",
      "Epoch 158/200\n",
      "42/42 [==============================] - 0s 2ms/step - loss: 0.0094 - accuracy: 1.0000\n",
      "Epoch 159/200\n",
      "42/42 [==============================] - 0s 2ms/step - loss: 0.0066 - accuracy: 1.0000\n",
      "Epoch 160/200\n",
      "42/42 [==============================] - 0s 2ms/step - loss: 0.0048 - accuracy: 1.0000\n",
      "Epoch 161/200\n",
      "42/42 [==============================] - 0s 2ms/step - loss: 0.0075 - accuracy: 1.0000\n",
      "Epoch 162/200\n",
      "42/42 [==============================] - 0s 2ms/step - loss: 0.0056 - accuracy: 1.0000\n",
      "Epoch 163/200\n",
      "42/42 [==============================] - 0s 2ms/step - loss: 0.0069 - accuracy: 1.0000\n",
      "Epoch 164/200\n",
      "42/42 [==============================] - 0s 2ms/step - loss: 0.0076 - accuracy: 1.0000\n",
      "Epoch 165/200\n",
      "42/42 [==============================] - 0s 3ms/step - loss: 0.0054 - accuracy: 1.0000\n",
      "Epoch 166/200\n",
      "42/42 [==============================] - 0s 2ms/step - loss: 0.0067 - accuracy: 1.0000\n",
      "Epoch 167/200\n",
      "42/42 [==============================] - 0s 2ms/step - loss: 0.0045 - accuracy: 1.0000\n",
      "Epoch 168/200\n",
      "42/42 [==============================] - 0s 2ms/step - loss: 0.0069 - accuracy: 1.0000\n",
      "Epoch 169/200\n",
      "42/42 [==============================] - 0s 2ms/step - loss: 0.0057 - accuracy: 1.0000\n",
      "Epoch 170/200\n",
      "42/42 [==============================] - 0s 2ms/step - loss: 0.0043 - accuracy: 1.0000\n",
      "Epoch 171/200\n",
      "42/42 [==============================] - 0s 2ms/step - loss: 0.0055 - accuracy: 1.0000\n",
      "Epoch 172/200\n",
      "42/42 [==============================] - 0s 2ms/step - loss: 0.0047 - accuracy: 1.0000\n",
      "Epoch 173/200\n",
      "42/42 [==============================] - 0s 2ms/step - loss: 0.0051 - accuracy: 1.0000\n",
      "Epoch 174/200\n",
      "42/42 [==============================] - 0s 2ms/step - loss: 0.0054 - accuracy: 1.0000\n",
      "Epoch 175/200\n",
      "42/42 [==============================] - 0s 2ms/step - loss: 0.0061 - accuracy: 1.0000\n",
      "Epoch 176/200\n",
      "42/42 [==============================] - 0s 2ms/step - loss: 0.0034 - accuracy: 1.0000\n",
      "Epoch 177/200\n",
      "42/42 [==============================] - 0s 2ms/step - loss: 0.0048 - accuracy: 1.0000\n",
      "Epoch 178/200\n",
      "42/42 [==============================] - 0s 2ms/step - loss: 0.0043 - accuracy: 1.0000\n",
      "Epoch 179/200\n",
      "42/42 [==============================] - 0s 2ms/step - loss: 0.0036 - accuracy: 1.0000\n",
      "Epoch 180/200\n",
      "42/42 [==============================] - 0s 2ms/step - loss: 0.0050 - accuracy: 1.0000\n",
      "Epoch 181/200\n",
      "42/42 [==============================] - 0s 2ms/step - loss: 0.0033 - accuracy: 1.0000\n",
      "Epoch 182/200\n",
      "42/42 [==============================] - 0s 2ms/step - loss: 0.0031 - accuracy: 1.0000\n",
      "Epoch 183/200\n",
      "42/42 [==============================] - 0s 2ms/step - loss: 0.0030 - accuracy: 1.0000\n",
      "Epoch 184/200\n",
      "42/42 [==============================] - 0s 2ms/step - loss: 0.0036 - accuracy: 1.0000\n",
      "Epoch 185/200\n",
      "42/42 [==============================] - 0s 2ms/step - loss: 0.0040 - accuracy: 1.0000\n",
      "Epoch 186/200\n",
      "42/42 [==============================] - 0s 3ms/step - loss: 0.0036 - accuracy: 1.0000\n",
      "Epoch 187/200\n",
      "42/42 [==============================] - 0s 2ms/step - loss: 0.0033 - accuracy: 1.0000\n",
      "Epoch 188/200\n",
      "42/42 [==============================] - 0s 2ms/step - loss: 0.0035 - accuracy: 1.0000\n",
      "Epoch 189/200\n",
      "42/42 [==============================] - 0s 2ms/step - loss: 0.0032 - accuracy: 1.0000\n",
      "Epoch 190/200\n",
      "42/42 [==============================] - 0s 2ms/step - loss: 0.0025 - accuracy: 1.0000\n",
      "Epoch 191/200\n",
      "42/42 [==============================] - 0s 2ms/step - loss: 0.0025 - accuracy: 1.0000\n",
      "Epoch 192/200\n",
      "42/42 [==============================] - 0s 2ms/step - loss: 0.0027 - accuracy: 1.0000\n",
      "Epoch 193/200\n",
      "42/42 [==============================] - 0s 2ms/step - loss: 0.0024 - accuracy: 1.0000\n",
      "Epoch 194/200\n",
      "42/42 [==============================] - 0s 2ms/step - loss: 0.0026 - accuracy: 1.0000\n",
      "Epoch 195/200\n",
      "42/42 [==============================] - 0s 2ms/step - loss: 0.0032 - accuracy: 1.0000\n",
      "Epoch 196/200\n",
      "42/42 [==============================] - 0s 2ms/step - loss: 0.0023 - accuracy: 1.0000\n",
      "Epoch 197/200\n",
      "42/42 [==============================] - 0s 3ms/step - loss: 0.0023 - accuracy: 1.0000\n",
      "Epoch 198/200\n",
      "42/42 [==============================] - 0s 2ms/step - loss: 0.0021 - accuracy: 1.0000\n",
      "Epoch 199/200\n",
      "42/42 [==============================] - 0s 2ms/step - loss: 0.0021 - accuracy: 1.0000\n",
      "Epoch 200/200\n",
      "42/42 [==============================] - 0s 2ms/step - loss: 0.0024 - accuracy: 1.0000\n"
     ]
    },
    {
     "data": {
      "text/plain": [
       "<tensorflow.python.keras.callbacks.History at 0x7fa9455b8278>"
      ]
     },
     "execution_count": 21,
     "metadata": {
      "tags": []
     },
     "output_type": "execute_result"
    }
   ],
   "source": [
    "# 모델 실행\n",
    "model.fit(X, Y, epochs= 200, batch_size = 5)"
   ]
  },
  {
   "cell_type": "code",
   "execution_count": 24,
   "metadata": {
    "colab": {
     "base_uri": "https://localhost:8080/"
    },
    "id": "shJ7MrQ2MxkW",
    "outputId": "f49ad4fa-ed68-4a46-98a7-dcdd1a1bd32c"
   },
   "outputs": [
    {
     "name": "stdout",
     "output_type": "stream",
     "text": [
      "7/7 [==============================] - 0s 2ms/step - loss: 0.0019 - accuracy: 1.0000\n",
      "\n",
      " Accuracy : 1.0000\n"
     ]
    }
   ],
   "source": [
    "# 결과 출력\n",
    "print(\"\\n Accuracy : %.4f\" %(model.evaluate(X, Y))[1])"
   ]
  },
  {
   "cell_type": "markdown",
   "metadata": {
    "id": "L-c_YdW1NrWC"
   },
   "source": [
    "* 모델의 정확도가 100%가 나온다. 정말 정상적으로 예측을 한것일까? 여기서 테스트셋에 최적화되는 문제인 과적합(overfitting)의 문제가 나온다."
   ]
  },
  {
   "cell_type": "markdown",
   "metadata": {
    "id": "Kc_KWEytN2zI"
   },
   "source": [
    "* 과적합을 방지하기 위해서는, 학습을 하는 데이터셋과 이를 테스트 할 데이터셋을 완전 구분한 다음 학습과 동시에 테스트를 병행하며 진행하는 것이 한 방법임."
   ]
  },
  {
   "cell_type": "markdown",
   "metadata": {
    "id": "jWtEzelPOM2a"
   },
   "source": [
    "### 초음과 광물 예측 - 학습셋과 테스트셋 구분"
   ]
  },
  {
   "cell_type": "code",
   "execution_count": 25,
   "metadata": {
    "id": "7ESD7SSwOt5z"
   },
   "outputs": [],
   "source": [
    "from tensorflow.keras.models import Sequential\n",
    "from tensorflow.keras.layers import Dense\n",
    "from sklearn.preprocessing import LabelEncoder\n",
    "from sklearn.model_selection import train_test_split"
   ]
  },
  {
   "cell_type": "code",
   "execution_count": 27,
   "metadata": {
    "id": "p3UvUIIVO95p"
   },
   "outputs": [],
   "source": [
    "import pandas as pd\n",
    "import numpy as np\n",
    "import tensorflow as tf"
   ]
  },
  {
   "cell_type": "code",
   "execution_count": 28,
   "metadata": {
    "id": "9xHmdovBPFqJ"
   },
   "outputs": [],
   "source": [
    "# seed값 설정\n",
    "seed = 0\n",
    "np.random.seed(seed)\n",
    "tf.random.set_seed(seed)"
   ]
  },
  {
   "cell_type": "code",
   "execution_count": 31,
   "metadata": {
    "id": "fMrjZNGpPNbt"
   },
   "outputs": [],
   "source": [
    "# 데이터 로드 \n",
    "df = pd.read_csv(\"/content/sample_data/sonar.csv\", header = None)\n",
    "dataset = df.values\n",
    "X = dataset[:, 0:60].astype(float)\n",
    "Y_obj = dataset[:, 60]"
   ]
  },
  {
   "cell_type": "code",
   "execution_count": 32,
   "metadata": {
    "id": "-uY41wAvPYg8"
   },
   "outputs": [],
   "source": [
    "# LabelEncoder\n",
    "e = LabelEncoder()\n",
    "e.fit(Y_obj)\n",
    "Y = e.transform(Y_obj)"
   ]
  },
  {
   "cell_type": "code",
   "execution_count": 34,
   "metadata": {
    "id": "u__bfQcvQJK5"
   },
   "outputs": [],
   "source": [
    "# 학습과 테스트셋 구분\n",
    "X_train, X_test, Y_train, Y_test  = train_test_split(X, Y, test_size = .3, random_state = seed)"
   ]
  },
  {
   "cell_type": "markdown",
   "metadata": {
    "id": "wbWS8WkoQX_6"
   },
   "source": [
    "### 모델 설정 및 수행 "
   ]
  },
  {
   "cell_type": "code",
   "execution_count": 36,
   "metadata": {
    "id": "W2frHd3zQpFC"
   },
   "outputs": [],
   "source": [
    "model = Sequential()\n",
    "model.add(Dense(24, input_dim = 60, activation='relu'))\n",
    "model.add(Dense(10, activation='relu'))\n",
    "model.add(Dense(1, activation='sigmoid'))"
   ]
  },
  {
   "cell_type": "code",
   "execution_count": 37,
   "metadata": {
    "id": "_Rp9pReaQ8FN"
   },
   "outputs": [],
   "source": [
    "model.compile(optimizer = 'adam', loss = \"mean_squared_error\", metrics = ['accuracy'])"
   ]
  },
  {
   "cell_type": "code",
   "execution_count": 38,
   "metadata": {
    "colab": {
     "base_uri": "https://localhost:8080/"
    },
    "id": "9f8Gz7C8RIWx",
    "outputId": "7033a02c-3f14-4c8c-935d-1621533b4975"
   },
   "outputs": [
    {
     "name": "stdout",
     "output_type": "stream",
     "text": [
      "Epoch 1/130\n",
      "29/29 [==============================] - 0s 2ms/step - loss: 0.2443 - accuracy: 0.5476\n",
      "Epoch 2/130\n",
      "29/29 [==============================] - 0s 1ms/step - loss: 0.2301 - accuracy: 0.6902\n",
      "Epoch 3/130\n",
      "29/29 [==============================] - 0s 1ms/step - loss: 0.2192 - accuracy: 0.6978\n",
      "Epoch 4/130\n",
      "29/29 [==============================] - 0s 1ms/step - loss: 0.2059 - accuracy: 0.7966\n",
      "Epoch 5/130\n",
      "29/29 [==============================] - 0s 2ms/step - loss: 0.2070 - accuracy: 0.7166\n",
      "Epoch 6/130\n",
      "29/29 [==============================] - 0s 1ms/step - loss: 0.1933 - accuracy: 0.7483\n",
      "Epoch 7/130\n",
      "29/29 [==============================] - 0s 1ms/step - loss: 0.1873 - accuracy: 0.7974\n",
      "Epoch 8/130\n",
      "29/29 [==============================] - 0s 1ms/step - loss: 0.1808 - accuracy: 0.7415\n",
      "Epoch 9/130\n",
      "29/29 [==============================] - 0s 1ms/step - loss: 0.1765 - accuracy: 0.7701\n",
      "Epoch 10/130\n",
      "29/29 [==============================] - 0s 1ms/step - loss: 0.1685 - accuracy: 0.7950\n",
      "Epoch 11/130\n",
      "29/29 [==============================] - 0s 1ms/step - loss: 0.1598 - accuracy: 0.7920\n",
      "Epoch 12/130\n",
      "29/29 [==============================] - 0s 2ms/step - loss: 0.1567 - accuracy: 0.8465\n",
      "Epoch 13/130\n",
      "29/29 [==============================] - 0s 1ms/step - loss: 0.1586 - accuracy: 0.7965\n",
      "Epoch 14/130\n",
      "29/29 [==============================] - 0s 1ms/step - loss: 0.1497 - accuracy: 0.8450\n",
      "Epoch 15/130\n",
      "29/29 [==============================] - 0s 2ms/step - loss: 0.1526 - accuracy: 0.8095\n",
      "Epoch 16/130\n",
      "29/29 [==============================] - 0s 1ms/step - loss: 0.1470 - accuracy: 0.8436\n",
      "Epoch 17/130\n",
      "29/29 [==============================] - 0s 1ms/step - loss: 0.1384 - accuracy: 0.8155\n",
      "Epoch 18/130\n",
      "29/29 [==============================] - 0s 1ms/step - loss: 0.1491 - accuracy: 0.8124\n",
      "Epoch 19/130\n",
      "29/29 [==============================] - 0s 2ms/step - loss: 0.1226 - accuracy: 0.8025\n",
      "Epoch 20/130\n",
      "29/29 [==============================] - 0s 1ms/step - loss: 0.1126 - accuracy: 0.8509\n",
      "Epoch 21/130\n",
      "29/29 [==============================] - 0s 2ms/step - loss: 0.1518 - accuracy: 0.7827\n",
      "Epoch 22/130\n",
      "29/29 [==============================] - 0s 2ms/step - loss: 0.1298 - accuracy: 0.8382\n",
      "Epoch 23/130\n",
      "29/29 [==============================] - 0s 1ms/step - loss: 0.1155 - accuracy: 0.8715\n",
      "Epoch 24/130\n",
      "29/29 [==============================] - 0s 1ms/step - loss: 0.1241 - accuracy: 0.8730\n",
      "Epoch 25/130\n",
      "29/29 [==============================] - 0s 1ms/step - loss: 0.0957 - accuracy: 0.9111\n",
      "Epoch 26/130\n",
      "29/29 [==============================] - 0s 2ms/step - loss: 0.1062 - accuracy: 0.8933\n",
      "Epoch 27/130\n",
      "29/29 [==============================] - 0s 1ms/step - loss: 0.1130 - accuracy: 0.8985\n",
      "Epoch 28/130\n",
      "29/29 [==============================] - 0s 1ms/step - loss: 0.1285 - accuracy: 0.8075\n",
      "Epoch 29/130\n",
      "29/29 [==============================] - 0s 1ms/step - loss: 0.1223 - accuracy: 0.8067\n",
      "Epoch 30/130\n",
      "29/29 [==============================] - 0s 1ms/step - loss: 0.0973 - accuracy: 0.8799\n",
      "Epoch 31/130\n",
      "29/29 [==============================] - 0s 1ms/step - loss: 0.1020 - accuracy: 0.8797\n",
      "Epoch 32/130\n",
      "29/29 [==============================] - 0s 2ms/step - loss: 0.1160 - accuracy: 0.8615\n",
      "Epoch 33/130\n",
      "29/29 [==============================] - 0s 2ms/step - loss: 0.0951 - accuracy: 0.8978\n",
      "Epoch 34/130\n",
      "29/29 [==============================] - 0s 2ms/step - loss: 0.1036 - accuracy: 0.8512\n",
      "Epoch 35/130\n",
      "29/29 [==============================] - 0s 2ms/step - loss: 0.0980 - accuracy: 0.8414\n",
      "Epoch 36/130\n",
      "29/29 [==============================] - 0s 2ms/step - loss: 0.0989 - accuracy: 0.8766\n",
      "Epoch 37/130\n",
      "29/29 [==============================] - 0s 2ms/step - loss: 0.0925 - accuracy: 0.8714\n",
      "Epoch 38/130\n",
      "29/29 [==============================] - 0s 2ms/step - loss: 0.1104 - accuracy: 0.8433\n",
      "Epoch 39/130\n",
      "29/29 [==============================] - 0s 1ms/step - loss: 0.0896 - accuracy: 0.9183\n",
      "Epoch 40/130\n",
      "29/29 [==============================] - 0s 1ms/step - loss: 0.0765 - accuracy: 0.9155\n",
      "Epoch 41/130\n",
      "29/29 [==============================] - 0s 2ms/step - loss: 0.0658 - accuracy: 0.9455\n",
      "Epoch 42/130\n",
      "29/29 [==============================] - 0s 2ms/step - loss: 0.0807 - accuracy: 0.9074\n",
      "Epoch 43/130\n",
      "29/29 [==============================] - 0s 2ms/step - loss: 0.0740 - accuracy: 0.9149\n",
      "Epoch 44/130\n",
      "29/29 [==============================] - 0s 2ms/step - loss: 0.0907 - accuracy: 0.8659\n",
      "Epoch 45/130\n",
      "29/29 [==============================] - 0s 2ms/step - loss: 0.0968 - accuracy: 0.8587\n",
      "Epoch 46/130\n",
      "29/29 [==============================] - 0s 2ms/step - loss: 0.0786 - accuracy: 0.9243\n",
      "Epoch 47/130\n",
      "29/29 [==============================] - 0s 2ms/step - loss: 0.0834 - accuracy: 0.8765\n",
      "Epoch 48/130\n",
      "29/29 [==============================] - 0s 1ms/step - loss: 0.0936 - accuracy: 0.8735\n",
      "Epoch 49/130\n",
      "29/29 [==============================] - 0s 2ms/step - loss: 0.0844 - accuracy: 0.8626\n",
      "Epoch 50/130\n",
      "29/29 [==============================] - 0s 2ms/step - loss: 0.0857 - accuracy: 0.9013\n",
      "Epoch 51/130\n",
      "29/29 [==============================] - 0s 1ms/step - loss: 0.0631 - accuracy: 0.9380\n",
      "Epoch 52/130\n",
      "29/29 [==============================] - 0s 1ms/step - loss: 0.0661 - accuracy: 0.9347\n",
      "Epoch 53/130\n",
      "29/29 [==============================] - 0s 1ms/step - loss: 0.0552 - accuracy: 0.9173\n",
      "Epoch 54/130\n",
      "29/29 [==============================] - 0s 1ms/step - loss: 0.0754 - accuracy: 0.8677\n",
      "Epoch 55/130\n",
      "29/29 [==============================] - 0s 2ms/step - loss: 0.0624 - accuracy: 0.9512\n",
      "Epoch 56/130\n",
      "29/29 [==============================] - 0s 1ms/step - loss: 0.0794 - accuracy: 0.8941\n",
      "Epoch 57/130\n",
      "29/29 [==============================] - 0s 1ms/step - loss: 0.0605 - accuracy: 0.9267\n",
      "Epoch 58/130\n",
      "29/29 [==============================] - 0s 1ms/step - loss: 0.0470 - accuracy: 0.9474\n",
      "Epoch 59/130\n",
      "29/29 [==============================] - 0s 1ms/step - loss: 0.0606 - accuracy: 0.9209\n",
      "Epoch 60/130\n",
      "29/29 [==============================] - 0s 1ms/step - loss: 0.0599 - accuracy: 0.9081\n",
      "Epoch 61/130\n",
      "29/29 [==============================] - 0s 1ms/step - loss: 0.0635 - accuracy: 0.9100\n",
      "Epoch 62/130\n",
      "29/29 [==============================] - 0s 2ms/step - loss: 0.0568 - accuracy: 0.9293\n",
      "Epoch 63/130\n",
      "29/29 [==============================] - 0s 2ms/step - loss: 0.0634 - accuracy: 0.9256\n",
      "Epoch 64/130\n",
      "29/29 [==============================] - 0s 1ms/step - loss: 0.0585 - accuracy: 0.9315\n",
      "Epoch 65/130\n",
      "29/29 [==============================] - 0s 1ms/step - loss: 0.0642 - accuracy: 0.9195\n",
      "Epoch 66/130\n",
      "29/29 [==============================] - 0s 1ms/step - loss: 0.0582 - accuracy: 0.9402\n",
      "Epoch 67/130\n",
      "29/29 [==============================] - 0s 2ms/step - loss: 0.0560 - accuracy: 0.9448\n",
      "Epoch 68/130\n",
      "29/29 [==============================] - 0s 1ms/step - loss: 0.0573 - accuracy: 0.9151\n",
      "Epoch 69/130\n",
      "29/29 [==============================] - 0s 2ms/step - loss: 0.0523 - accuracy: 0.9659\n",
      "Epoch 70/130\n",
      "29/29 [==============================] - 0s 1ms/step - loss: 0.0529 - accuracy: 0.9229\n",
      "Epoch 71/130\n",
      "29/29 [==============================] - 0s 1ms/step - loss: 0.0455 - accuracy: 0.9508\n",
      "Epoch 72/130\n",
      "29/29 [==============================] - 0s 1ms/step - loss: 0.0417 - accuracy: 0.9467\n",
      "Epoch 73/130\n",
      "29/29 [==============================] - 0s 1ms/step - loss: 0.0642 - accuracy: 0.9069\n",
      "Epoch 74/130\n",
      "29/29 [==============================] - 0s 1ms/step - loss: 0.0491 - accuracy: 0.9534\n",
      "Epoch 75/130\n",
      "29/29 [==============================] - 0s 2ms/step - loss: 0.0584 - accuracy: 0.9480\n",
      "Epoch 76/130\n",
      "29/29 [==============================] - 0s 2ms/step - loss: 0.0398 - accuracy: 0.9593\n",
      "Epoch 77/130\n",
      "29/29 [==============================] - 0s 2ms/step - loss: 0.0454 - accuracy: 0.9285\n",
      "Epoch 78/130\n",
      "29/29 [==============================] - 0s 2ms/step - loss: 0.0310 - accuracy: 0.9639\n",
      "Epoch 79/130\n",
      "29/29 [==============================] - 0s 1ms/step - loss: 0.0437 - accuracy: 0.9616\n",
      "Epoch 80/130\n",
      "29/29 [==============================] - 0s 2ms/step - loss: 0.0478 - accuracy: 0.9533\n",
      "Epoch 81/130\n",
      "29/29 [==============================] - 0s 1ms/step - loss: 0.0440 - accuracy: 0.9600\n",
      "Epoch 82/130\n",
      "29/29 [==============================] - 0s 2ms/step - loss: 0.0380 - accuracy: 0.9619\n",
      "Epoch 83/130\n",
      "29/29 [==============================] - 0s 1ms/step - loss: 0.0320 - accuracy: 0.9711\n",
      "Epoch 84/130\n",
      "29/29 [==============================] - 0s 1ms/step - loss: 0.0287 - accuracy: 0.9850\n",
      "Epoch 85/130\n",
      "29/29 [==============================] - 0s 1ms/step - loss: 0.0414 - accuracy: 0.9609\n",
      "Epoch 86/130\n",
      "29/29 [==============================] - 0s 1ms/step - loss: 0.0347 - accuracy: 0.9699\n",
      "Epoch 87/130\n",
      "29/29 [==============================] - 0s 2ms/step - loss: 0.0444 - accuracy: 0.9841\n",
      "Epoch 88/130\n",
      "29/29 [==============================] - 0s 2ms/step - loss: 0.0534 - accuracy: 0.9289\n",
      "Epoch 89/130\n",
      "29/29 [==============================] - 0s 2ms/step - loss: 0.0415 - accuracy: 0.9886\n",
      "Epoch 90/130\n",
      "29/29 [==============================] - 0s 2ms/step - loss: 0.0332 - accuracy: 0.9549\n",
      "Epoch 91/130\n",
      "29/29 [==============================] - 0s 1ms/step - loss: 0.0352 - accuracy: 0.9697\n",
      "Epoch 92/130\n",
      "29/29 [==============================] - 0s 1ms/step - loss: 0.0308 - accuracy: 0.9785\n",
      "Epoch 93/130\n",
      "29/29 [==============================] - 0s 2ms/step - loss: 0.0313 - accuracy: 0.9565\n",
      "Epoch 94/130\n",
      "29/29 [==============================] - 0s 1ms/step - loss: 0.0265 - accuracy: 0.9929\n",
      "Epoch 95/130\n",
      "29/29 [==============================] - 0s 1ms/step - loss: 0.0280 - accuracy: 0.9714\n",
      "Epoch 96/130\n",
      "29/29 [==============================] - 0s 1ms/step - loss: 0.0315 - accuracy: 0.9675\n",
      "Epoch 97/130\n",
      "29/29 [==============================] - 0s 2ms/step - loss: 0.0346 - accuracy: 0.9874\n",
      "Epoch 98/130\n",
      "29/29 [==============================] - 0s 1ms/step - loss: 0.0336 - accuracy: 0.9761\n",
      "Epoch 99/130\n",
      "29/29 [==============================] - 0s 2ms/step - loss: 0.0179 - accuracy: 0.9917\n",
      "Epoch 100/130\n",
      "29/29 [==============================] - 0s 2ms/step - loss: 0.0222 - accuracy: 0.9794\n",
      "Epoch 101/130\n",
      "29/29 [==============================] - 0s 2ms/step - loss: 0.0179 - accuracy: 0.9921\n",
      "Epoch 102/130\n",
      "29/29 [==============================] - 0s 2ms/step - loss: 0.0253 - accuracy: 0.9915\n",
      "Epoch 103/130\n",
      "29/29 [==============================] - 0s 1ms/step - loss: 0.0217 - accuracy: 0.9896\n",
      "Epoch 104/130\n",
      "29/29 [==============================] - 0s 1ms/step - loss: 0.0351 - accuracy: 0.9540\n",
      "Epoch 105/130\n",
      "29/29 [==============================] - 0s 2ms/step - loss: 0.0226 - accuracy: 0.9955\n",
      "Epoch 106/130\n",
      "29/29 [==============================] - 0s 1ms/step - loss: 0.0197 - accuracy: 0.9985\n",
      "Epoch 107/130\n",
      "29/29 [==============================] - 0s 2ms/step - loss: 0.0180 - accuracy: 0.9856\n",
      "Epoch 108/130\n",
      "29/29 [==============================] - 0s 2ms/step - loss: 0.0355 - accuracy: 0.9800\n",
      "Epoch 109/130\n",
      "29/29 [==============================] - 0s 2ms/step - loss: 0.0249 - accuracy: 0.9929\n",
      "Epoch 110/130\n",
      "29/29 [==============================] - 0s 2ms/step - loss: 0.0159 - accuracy: 0.9915\n",
      "Epoch 111/130\n",
      "29/29 [==============================] - 0s 2ms/step - loss: 0.0206 - accuracy: 0.9930\n",
      "Epoch 112/130\n",
      "29/29 [==============================] - 0s 2ms/step - loss: 0.0160 - accuracy: 0.9980\n",
      "Epoch 113/130\n",
      "29/29 [==============================] - 0s 1ms/step - loss: 0.0236 - accuracy: 0.9940\n",
      "Epoch 114/130\n",
      "29/29 [==============================] - 0s 2ms/step - loss: 0.0142 - accuracy: 0.9995\n",
      "Epoch 115/130\n",
      "29/29 [==============================] - 0s 1ms/step - loss: 0.0187 - accuracy: 0.9703\n",
      "Epoch 116/130\n",
      "29/29 [==============================] - 0s 1ms/step - loss: 0.0134 - accuracy: 0.9983\n",
      "Epoch 117/130\n",
      "29/29 [==============================] - 0s 1ms/step - loss: 0.0174 - accuracy: 0.9980\n",
      "Epoch 118/130\n",
      "29/29 [==============================] - 0s 2ms/step - loss: 0.0127 - accuracy: 0.9977\n",
      "Epoch 119/130\n",
      "29/29 [==============================] - 0s 2ms/step - loss: 0.0176 - accuracy: 0.9915\n",
      "Epoch 120/130\n",
      "29/29 [==============================] - 0s 2ms/step - loss: 0.0101 - accuracy: 0.9954\n",
      "Epoch 121/130\n",
      "29/29 [==============================] - 0s 1ms/step - loss: 0.0151 - accuracy: 0.9896\n",
      "Epoch 122/130\n",
      "29/29 [==============================] - 0s 2ms/step - loss: 0.0105 - accuracy: 0.9995\n",
      "Epoch 123/130\n",
      "29/29 [==============================] - 0s 2ms/step - loss: 0.0231 - accuracy: 0.9856\n",
      "Epoch 124/130\n",
      "29/29 [==============================] - 0s 1ms/step - loss: 0.0117 - accuracy: 0.9988\n",
      "Epoch 125/130\n",
      "29/29 [==============================] - 0s 1ms/step - loss: 0.0213 - accuracy: 0.9871\n",
      "Epoch 126/130\n",
      "29/29 [==============================] - 0s 2ms/step - loss: 0.0124 - accuracy: 0.9935\n",
      "Epoch 127/130\n",
      "29/29 [==============================] - 0s 2ms/step - loss: 0.0162 - accuracy: 1.0000\n",
      "Epoch 128/130\n",
      "29/29 [==============================] - 0s 2ms/step - loss: 0.0111 - accuracy: 1.0000\n",
      "Epoch 129/130\n",
      "29/29 [==============================] - 0s 2ms/step - loss: 0.0107 - accuracy: 0.9915\n",
      "Epoch 130/130\n",
      "29/29 [==============================] - 0s 2ms/step - loss: 0.0092 - accuracy: 1.0000\n"
     ]
    },
    {
     "data": {
      "text/plain": [
       "<tensorflow.python.keras.callbacks.History at 0x7fa943af0240>"
      ]
     },
     "execution_count": 38,
     "metadata": {
      "tags": []
     },
     "output_type": "execute_result"
    }
   ],
   "source": [
    "model.fit(X_train, Y_train, epochs=130, batch_size = 5)"
   ]
  },
  {
   "cell_type": "markdown",
   "metadata": {
    "id": "nxu2ITtxRTl5"
   },
   "source": [
    "### 테스트셋에 모델 적용 "
   ]
  },
  {
   "cell_type": "code",
   "execution_count": 40,
   "metadata": {
    "colab": {
     "base_uri": "https://localhost:8080/"
    },
    "id": "lgAKUBl3RaxF",
    "outputId": "f7dfb9f6-4c99-4e25-8b8f-98cded3e105a"
   },
   "outputs": [
    {
     "name": "stdout",
     "output_type": "stream",
     "text": [
      "2/2 [==============================] - 0s 5ms/step - loss: 0.1493 - accuracy: 0.7937\n",
      "\n",
      " Test Accuracy : 0.7937\n"
     ]
    }
   ],
   "source": [
    "print(\"\\n Test Accuracy : %.4f\" %(model.evaluate(X_test, Y_test)[1]))"
   ]
  },
  {
   "cell_type": "markdown",
   "metadata": {
    "id": "ayN0xeTXR5cC"
   },
   "source": [
    "### 예측값 테스트 "
   ]
  },
  {
   "cell_type": "code",
   "execution_count": 41,
   "metadata": {
    "colab": {
     "base_uri": "https://localhost:8080/"
    },
    "id": "EdWtP_GMR-1G",
    "outputId": "3c7f2f3b-bd9e-457e-8d6d-72127a122f4c"
   },
   "outputs": [
    {
     "name": "stderr",
     "output_type": "stream",
     "text": [
      "/usr/local/lib/python3.6/dist-packages/tensorflow/python/keras/engine/sequential.py:450: UserWarning: `model.predict_classes()` is deprecated and will be removed after 2021-01-01. Please use instead:* `np.argmax(model.predict(x), axis=-1)`,   if your model does multi-class classification   (e.g. if it uses a `softmax` last-layer activation).* `(model.predict(x) > 0.5).astype(\"int32\")`,   if your model does binary classification   (e.g. if it uses a `sigmoid` last-layer activation).\n",
      "  warnings.warn('`model.predict_classes()` is deprecated and '\n"
     ]
    },
    {
     "data": {
      "text/plain": [
       "array([[0]], dtype=int32)"
      ]
     },
     "execution_count": 41,
     "metadata": {
      "tags": []
     },
     "output_type": "execute_result"
    }
   ],
   "source": [
    "test_data = [[0.0260,0.0363,0.0136,0.0272,0.0214,0.0338,0.0655,0.1400,0.1843,0.2354,0.2720,0.2442,0.1665,0.0336,0.1302,0.1708,0.2177,0.3175,0.3714,0.4552,0.5700,0.7397,0.8062,0.8837,0.9432,1.0000,0.9375,0.7603,0.7123,0.8358,0.7622,0.4567,0.1715,0.1549,0.1641,0.1869,0.2655,0.1713,0.0959,0.0768,0.0847,0.2076,0.2505,0.1862,0.1439,0.1470,0.0991,0.0041,0.0154,0.0116,0.0181,0.0146,0.0129,0.0047,0.0039,0.0061,0.0040,0.0036,0.0061,0.0115]]\n",
    "model.predict_classes(test_data)"
   ]
  },
  {
   "cell_type": "code",
   "execution_count": 42,
   "metadata": {
    "colab": {
     "base_uri": "https://localhost:8080/"
    },
    "id": "DTuWnc40RtGX",
    "outputId": "ffaa47c1-c6b0-4206-a9b8-100bf785b990"
   },
   "outputs": [
    {
     "name": "stderr",
     "output_type": "stream",
     "text": [
      "/usr/local/lib/python3.6/dist-packages/tensorflow/python/keras/engine/sequential.py:450: UserWarning: `model.predict_classes()` is deprecated and will be removed after 2021-01-01. Please use instead:* `np.argmax(model.predict(x), axis=-1)`,   if your model does multi-class classification   (e.g. if it uses a `softmax` last-layer activation).* `(model.predict(x) > 0.5).astype(\"int32\")`,   if your model does binary classification   (e.g. if it uses a `sigmoid` last-layer activation).\n",
      "  warnings.warn('`model.predict_classes()` is deprecated and '\n"
     ]
    },
    {
     "data": {
      "text/plain": [
       "array([[0]], dtype=int32)"
      ]
     },
     "execution_count": 42,
     "metadata": {
      "tags": []
     },
     "output_type": "execute_result"
    }
   ],
   "source": [
    "test_data = [[0.0229,0.0369,0.0040,0.0375,0.0455,0.1452,0.2211,0.1188,0.0750,0.1631,0.2709,0.3358,0.4091,0.4400,0.5485,0.7213,0.8137,0.9185,1.0000,0.9418,0.9116,0.9349,0.7484,0.5146,0.4106,0.3443,0.6981,0.8713,0.9013,0.8014,0.4380,0.1319,0.1709,0.2484,0.3044,0.2312,0.1338,0.2056,0.2474,0.2790,0.1610,0.0056,0.0351,0.1148,0.1331,0.0276,0.0763,0.0631,0.0309,0.0240,0.0115,0.0064,0.0022,0.0122,0.0151,0.0056,0.0026,0.0029,0.0104,0.0163]]\n",
    "model.predict_classes(test_data)"
   ]
  },
  {
   "cell_type": "code",
   "execution_count": 46,
   "metadata": {
    "colab": {
     "base_uri": "https://localhost:8080/"
    },
    "id": "2cBBMOFNOKNw",
    "outputId": "65e6fc0e-6153-4f4e-97fc-43d7327320bf"
   },
   "outputs": [
    {
     "name": "stderr",
     "output_type": "stream",
     "text": [
      "/usr/local/lib/python3.6/dist-packages/tensorflow/python/keras/engine/sequential.py:450: UserWarning: `model.predict_classes()` is deprecated and will be removed after 2021-01-01. Please use instead:* `np.argmax(model.predict(x), axis=-1)`,   if your model does multi-class classification   (e.g. if it uses a `softmax` last-layer activation).* `(model.predict(x) > 0.5).astype(\"int32\")`,   if your model does binary classification   (e.g. if it uses a `sigmoid` last-layer activation).\n",
      "  warnings.warn('`model.predict_classes()` is deprecated and '\n"
     ]
    },
    {
     "data": {
      "text/plain": [
       "array([[1]], dtype=int32)"
      ]
     },
     "execution_count": 46,
     "metadata": {
      "tags": []
     },
     "output_type": "execute_result"
    }
   ],
   "source": [
    "t3 = [[0.0286,0.0453,0.0277,0.0174,0.0384,0.0990,0.1201,0.1833,0.2105,0.3039,0.2988,0.4250,0.6343,0.8198,1.0000,0.9988,0.9508,0.9025,0.7234,0.5122,0.2074,0.3985,0.5890,0.2872,0.2043,0.5782,0.5389,0.3750,0.3411,0.5067,0.5580,0.4778,0.3299,0.2198,0.1407,0.2856,0.3807,0.4158,0.4054,0.3296,0.2707,0.2650,0.0723,0.1238,0.1192,0.1089,0.0623,0.0494,0.0264,0.0081,0.0104,0.0045,0.0014,0.0038,0.0013,0.0089,0.0057,0.0027,0.0051,0.0062]]\n",
    "model.predict_classes(t3)"
   ]
  },
  {
   "cell_type": "markdown",
   "metadata": {
    "id": "OJWQZsXWTdtd"
   },
   "source": [
    "# 초음파 광물 예측 : 모델 저장과 재사용 "
   ]
  },
  {
   "cell_type": "code",
   "execution_count": 47,
   "metadata": {
    "id": "uSOeNG7BTlwl"
   },
   "outputs": [],
   "source": [
    "from tensorflow.keras.models import Sequential, load_model\n",
    "from tensorflow.keras.layers import Dense\n",
    "from sklearn.preprocessing import LabelEncoder\n",
    "\n",
    "import pandas as pd\n",
    "import numpy as np\n",
    "import tensorflow as tf\n",
    "\n",
    "#seed값 설정\n",
    "seed = 0\n",
    "np.random.seed(seed)\n",
    "tf.random.set_seed(seed)"
   ]
  },
  {
   "cell_type": "code",
   "execution_count": 48,
   "metadata": {
    "id": "XLllQ7kGUJji"
   },
   "outputs": [],
   "source": [
    "df = pd.read_csv(\"/content/sample_data/sonar.csv\", header= None)"
   ]
  },
  {
   "cell_type": "code",
   "execution_count": 57,
   "metadata": {
    "id": "TMmI7EdpUPW9"
   },
   "outputs": [],
   "source": [
    "# 데이터셋  분리 \n",
    "dataset = df.values\n",
    "X = dataset[:, :60].astype(float)\n",
    "Y_obj = dataset[:, 60]"
   ]
  },
  {
   "cell_type": "code",
   "execution_count": 58,
   "metadata": {
    "id": "3V2sRm7LUZJd"
   },
   "outputs": [],
   "source": [
    "# LabelEncoder\n",
    "e = LabelEncoder()\n",
    "e.fit(Y_obj)\n",
    "Y = e.transform(Y_obj)"
   ]
  },
  {
   "cell_type": "code",
   "execution_count": 59,
   "metadata": {
    "id": "Kju4vVfsUsGc"
   },
   "outputs": [],
   "source": [
    "# 학습셋과 테스트셋을 분리 \n",
    "X_train, X_test, Y_train, Y_test = train_test_split(X, Y, test_size = .3, random_state = seed)"
   ]
  },
  {
   "cell_type": "code",
   "execution_count": 60,
   "metadata": {
    "id": "c0PMtzqSVG9n"
   },
   "outputs": [],
   "source": [
    "# 모델 설정\n",
    "model = Sequential()\n",
    "model.add(Dense(24, input_dim = 60, activation='relu'))\n",
    "model.add(Dense(10, activation='relu'))\n",
    "model.add(Dense(1, activation='sigmoid'))"
   ]
  },
  {
   "cell_type": "code",
   "execution_count": 61,
   "metadata": {
    "id": "Q4Vhl6_DVeze"
   },
   "outputs": [],
   "source": [
    "# 모델 컴파일 및 수행\n",
    "model.compile(optimizer = 'rmsprop', loss = 'mean_squared_error', metrics = ['accuracy'])"
   ]
  },
  {
   "cell_type": "code",
   "execution_count": 62,
   "metadata": {
    "colab": {
     "base_uri": "https://localhost:8080/"
    },
    "id": "N0OWNxYUV1R5",
    "outputId": "1dbd7b63-38af-4612-b96a-03948ec05666"
   },
   "outputs": [
    {
     "name": "stdout",
     "output_type": "stream",
     "text": [
      "Epoch 1/130\n",
      "29/29 [==============================] - 0s 2ms/step - loss: 0.2546 - accuracy: 0.4188\n",
      "Epoch 2/130\n",
      "29/29 [==============================] - 0s 2ms/step - loss: 0.2430 - accuracy: 0.5651\n",
      "Epoch 3/130\n",
      "29/29 [==============================] - 0s 2ms/step - loss: 0.2343 - accuracy: 0.6921\n",
      "Epoch 4/130\n",
      "29/29 [==============================] - 0s 2ms/step - loss: 0.2246 - accuracy: 0.7493\n",
      "Epoch 5/130\n",
      "29/29 [==============================] - 0s 2ms/step - loss: 0.2288 - accuracy: 0.6562\n",
      "Epoch 6/130\n",
      "29/29 [==============================] - 0s 2ms/step - loss: 0.2146 - accuracy: 0.7418\n",
      "Epoch 7/130\n",
      "29/29 [==============================] - 0s 2ms/step - loss: 0.2173 - accuracy: 0.6561\n",
      "Epoch 8/130\n",
      "29/29 [==============================] - 0s 2ms/step - loss: 0.2011 - accuracy: 0.7555\n",
      "Epoch 9/130\n",
      "29/29 [==============================] - 0s 2ms/step - loss: 0.1993 - accuracy: 0.7493\n",
      "Epoch 10/130\n",
      "29/29 [==============================] - 0s 2ms/step - loss: 0.1957 - accuracy: 0.7869\n",
      "Epoch 11/130\n",
      "29/29 [==============================] - 0s 2ms/step - loss: 0.1912 - accuracy: 0.7039\n",
      "Epoch 12/130\n",
      "29/29 [==============================] - 0s 2ms/step - loss: 0.1803 - accuracy: 0.7606\n",
      "Epoch 13/130\n",
      "29/29 [==============================] - 0s 2ms/step - loss: 0.1836 - accuracy: 0.7439\n",
      "Epoch 14/130\n",
      "29/29 [==============================] - 0s 2ms/step - loss: 0.1784 - accuracy: 0.7172\n",
      "Epoch 15/130\n",
      "29/29 [==============================] - 0s 2ms/step - loss: 0.1800 - accuracy: 0.7449\n",
      "Epoch 16/130\n",
      "29/29 [==============================] - 0s 2ms/step - loss: 0.1651 - accuracy: 0.7930\n",
      "Epoch 17/130\n",
      "29/29 [==============================] - 0s 2ms/step - loss: 0.1644 - accuracy: 0.7851\n",
      "Epoch 18/130\n",
      "29/29 [==============================] - 0s 2ms/step - loss: 0.1755 - accuracy: 0.8215\n",
      "Epoch 19/130\n",
      "29/29 [==============================] - 0s 2ms/step - loss: 0.1461 - accuracy: 0.8177\n",
      "Epoch 20/130\n",
      "29/29 [==============================] - 0s 2ms/step - loss: 0.1389 - accuracy: 0.8350\n",
      "Epoch 21/130\n",
      "29/29 [==============================] - 0s 2ms/step - loss: 0.1693 - accuracy: 0.7408\n",
      "Epoch 22/130\n",
      "29/29 [==============================] - 0s 2ms/step - loss: 0.1568 - accuracy: 0.8339\n",
      "Epoch 23/130\n",
      "29/29 [==============================] - 0s 2ms/step - loss: 0.1414 - accuracy: 0.8012\n",
      "Epoch 24/130\n",
      "29/29 [==============================] - 0s 2ms/step - loss: 0.1491 - accuracy: 0.8389\n",
      "Epoch 25/130\n",
      "29/29 [==============================] - 0s 2ms/step - loss: 0.1235 - accuracy: 0.9107\n",
      "Epoch 26/130\n",
      "29/29 [==============================] - 0s 2ms/step - loss: 0.1365 - accuracy: 0.8689\n",
      "Epoch 27/130\n",
      "29/29 [==============================] - 0s 2ms/step - loss: 0.1410 - accuracy: 0.8424\n",
      "Epoch 28/130\n",
      "29/29 [==============================] - 0s 2ms/step - loss: 0.1489 - accuracy: 0.7919\n",
      "Epoch 29/130\n",
      "29/29 [==============================] - 0s 2ms/step - loss: 0.1497 - accuracy: 0.8086\n",
      "Epoch 30/130\n",
      "29/29 [==============================] - 0s 2ms/step - loss: 0.1294 - accuracy: 0.8564\n",
      "Epoch 31/130\n",
      "29/29 [==============================] - 0s 2ms/step - loss: 0.1400 - accuracy: 0.8125\n",
      "Epoch 32/130\n",
      "29/29 [==============================] - 0s 2ms/step - loss: 0.1494 - accuracy: 0.8101\n",
      "Epoch 33/130\n",
      "29/29 [==============================] - 0s 2ms/step - loss: 0.1236 - accuracy: 0.8308\n",
      "Epoch 34/130\n",
      "29/29 [==============================] - 0s 2ms/step - loss: 0.1280 - accuracy: 0.8669\n",
      "Epoch 35/130\n",
      "29/29 [==============================] - 0s 2ms/step - loss: 0.1228 - accuracy: 0.8449\n",
      "Epoch 36/130\n",
      "29/29 [==============================] - 0s 2ms/step - loss: 0.1256 - accuracy: 0.8300\n",
      "Epoch 37/130\n",
      "29/29 [==============================] - 0s 2ms/step - loss: 0.1319 - accuracy: 0.8323\n",
      "Epoch 38/130\n",
      "29/29 [==============================] - 0s 2ms/step - loss: 0.1343 - accuracy: 0.8065\n",
      "Epoch 39/130\n",
      "29/29 [==============================] - 0s 2ms/step - loss: 0.1241 - accuracy: 0.8334\n",
      "Epoch 40/130\n",
      "29/29 [==============================] - 0s 2ms/step - loss: 0.1084 - accuracy: 0.8913\n",
      "Epoch 41/130\n",
      "29/29 [==============================] - 0s 2ms/step - loss: 0.0954 - accuracy: 0.9388\n",
      "Epoch 42/130\n",
      "29/29 [==============================] - 0s 2ms/step - loss: 0.1168 - accuracy: 0.8695\n",
      "Epoch 43/130\n",
      "29/29 [==============================] - 0s 2ms/step - loss: 0.1174 - accuracy: 0.8202\n",
      "Epoch 44/130\n",
      "29/29 [==============================] - 0s 2ms/step - loss: 0.1227 - accuracy: 0.8543\n",
      "Epoch 45/130\n",
      "29/29 [==============================] - 0s 2ms/step - loss: 0.1368 - accuracy: 0.8038\n",
      "Epoch 46/130\n",
      "29/29 [==============================] - 0s 2ms/step - loss: 0.1131 - accuracy: 0.9079\n",
      "Epoch 47/130\n",
      "29/29 [==============================] - 0s 2ms/step - loss: 0.1174 - accuracy: 0.8487\n",
      "Epoch 48/130\n",
      "29/29 [==============================] - 0s 2ms/step - loss: 0.1283 - accuracy: 0.8840\n",
      "Epoch 49/130\n",
      "29/29 [==============================] - 0s 2ms/step - loss: 0.1185 - accuracy: 0.8619\n",
      "Epoch 50/130\n",
      "29/29 [==============================] - 0s 2ms/step - loss: 0.1213 - accuracy: 0.8543\n",
      "Epoch 51/130\n",
      "29/29 [==============================] - 0s 2ms/step - loss: 0.1006 - accuracy: 0.8875\n",
      "Epoch 52/130\n",
      "29/29 [==============================] - 0s 2ms/step - loss: 0.0923 - accuracy: 0.8965\n",
      "Epoch 53/130\n",
      "29/29 [==============================] - 0s 2ms/step - loss: 0.0923 - accuracy: 0.9051\n",
      "Epoch 54/130\n",
      "29/29 [==============================] - 0s 2ms/step - loss: 0.1151 - accuracy: 0.8420\n",
      "Epoch 55/130\n",
      "29/29 [==============================] - 0s 2ms/step - loss: 0.1119 - accuracy: 0.8346\n",
      "Epoch 56/130\n",
      "29/29 [==============================] - 0s 2ms/step - loss: 0.1109 - accuracy: 0.8545\n",
      "Epoch 57/130\n",
      "29/29 [==============================] - 0s 2ms/step - loss: 0.1052 - accuracy: 0.8831\n",
      "Epoch 58/130\n",
      "29/29 [==============================] - 0s 2ms/step - loss: 0.0806 - accuracy: 0.9332\n",
      "Epoch 59/130\n",
      "29/29 [==============================] - 0s 2ms/step - loss: 0.0932 - accuracy: 0.8727\n",
      "Epoch 60/130\n",
      "29/29 [==============================] - 0s 2ms/step - loss: 0.1126 - accuracy: 0.8630\n",
      "Epoch 61/130\n",
      "29/29 [==============================] - 0s 2ms/step - loss: 0.0963 - accuracy: 0.8465\n",
      "Epoch 62/130\n",
      "29/29 [==============================] - 0s 2ms/step - loss: 0.1044 - accuracy: 0.8650\n",
      "Epoch 63/130\n",
      "29/29 [==============================] - 0s 2ms/step - loss: 0.1011 - accuracy: 0.8768\n",
      "Epoch 64/130\n",
      "29/29 [==============================] - 0s 2ms/step - loss: 0.1137 - accuracy: 0.8368\n",
      "Epoch 65/130\n",
      "29/29 [==============================] - 0s 2ms/step - loss: 0.1108 - accuracy: 0.8501\n",
      "Epoch 66/130\n",
      "29/29 [==============================] - 0s 2ms/step - loss: 0.0969 - accuracy: 0.8743\n",
      "Epoch 67/130\n",
      "29/29 [==============================] - 0s 2ms/step - loss: 0.0979 - accuracy: 0.8745\n",
      "Epoch 68/130\n",
      "29/29 [==============================] - 0s 2ms/step - loss: 0.0856 - accuracy: 0.8900\n",
      "Epoch 69/130\n",
      "29/29 [==============================] - 0s 2ms/step - loss: 0.0977 - accuracy: 0.8988\n",
      "Epoch 70/130\n",
      "29/29 [==============================] - 0s 2ms/step - loss: 0.1069 - accuracy: 0.8615\n",
      "Epoch 71/130\n",
      "29/29 [==============================] - 0s 2ms/step - loss: 0.0909 - accuracy: 0.9010\n",
      "Epoch 72/130\n",
      "29/29 [==============================] - 0s 2ms/step - loss: 0.0951 - accuracy: 0.8840\n",
      "Epoch 73/130\n",
      "29/29 [==============================] - 0s 2ms/step - loss: 0.1173 - accuracy: 0.8425\n",
      "Epoch 74/130\n",
      "29/29 [==============================] - 0s 2ms/step - loss: 0.0888 - accuracy: 0.8709\n",
      "Epoch 75/130\n",
      "29/29 [==============================] - 0s 2ms/step - loss: 0.1046 - accuracy: 0.8460\n",
      "Epoch 76/130\n",
      "29/29 [==============================] - 0s 2ms/step - loss: 0.0915 - accuracy: 0.9047\n",
      "Epoch 77/130\n",
      "29/29 [==============================] - 0s 2ms/step - loss: 0.0738 - accuracy: 0.8823\n",
      "Epoch 78/130\n",
      "29/29 [==============================] - 0s 2ms/step - loss: 0.0663 - accuracy: 0.9207\n",
      "Epoch 79/130\n",
      "29/29 [==============================] - 0s 2ms/step - loss: 0.1093 - accuracy: 0.8541\n",
      "Epoch 80/130\n",
      "29/29 [==============================] - 0s 2ms/step - loss: 0.0923 - accuracy: 0.8645\n",
      "Epoch 81/130\n",
      "29/29 [==============================] - 0s 2ms/step - loss: 0.0916 - accuracy: 0.8940\n",
      "Epoch 82/130\n",
      "29/29 [==============================] - 0s 2ms/step - loss: 0.0768 - accuracy: 0.9117\n",
      "Epoch 83/130\n",
      "29/29 [==============================] - 0s 2ms/step - loss: 0.0792 - accuracy: 0.9218\n",
      "Epoch 84/130\n",
      "29/29 [==============================] - 0s 2ms/step - loss: 0.0649 - accuracy: 0.9138\n",
      "Epoch 85/130\n",
      "29/29 [==============================] - 0s 2ms/step - loss: 0.0855 - accuracy: 0.9027\n",
      "Epoch 86/130\n",
      "29/29 [==============================] - 0s 2ms/step - loss: 0.0891 - accuracy: 0.8678\n",
      "Epoch 87/130\n",
      "29/29 [==============================] - 0s 2ms/step - loss: 0.0955 - accuracy: 0.8759\n",
      "Epoch 88/130\n",
      "29/29 [==============================] - 0s 2ms/step - loss: 0.1142 - accuracy: 0.8749\n",
      "Epoch 89/130\n",
      "29/29 [==============================] - 0s 2ms/step - loss: 0.0974 - accuracy: 0.8539\n",
      "Epoch 90/130\n",
      "29/29 [==============================] - 0s 2ms/step - loss: 0.0768 - accuracy: 0.9115\n",
      "Epoch 91/130\n",
      "29/29 [==============================] - 0s 2ms/step - loss: 0.0835 - accuracy: 0.9106\n",
      "Epoch 92/130\n",
      "29/29 [==============================] - 0s 2ms/step - loss: 0.0828 - accuracy: 0.8815\n",
      "Epoch 93/130\n",
      "29/29 [==============================] - 0s 2ms/step - loss: 0.0790 - accuracy: 0.9078\n",
      "Epoch 94/130\n",
      "29/29 [==============================] - 0s 2ms/step - loss: 0.0956 - accuracy: 0.8795\n",
      "Epoch 95/130\n",
      "29/29 [==============================] - 0s 2ms/step - loss: 0.0707 - accuracy: 0.9052\n",
      "Epoch 96/130\n",
      "29/29 [==============================] - 0s 2ms/step - loss: 0.0865 - accuracy: 0.8759\n",
      "Epoch 97/130\n",
      "29/29 [==============================] - 0s 2ms/step - loss: 0.1029 - accuracy: 0.8396\n",
      "Epoch 98/130\n",
      "29/29 [==============================] - 0s 2ms/step - loss: 0.0933 - accuracy: 0.8930\n",
      "Epoch 99/130\n",
      "29/29 [==============================] - 0s 2ms/step - loss: 0.0729 - accuracy: 0.9247\n",
      "Epoch 100/130\n",
      "29/29 [==============================] - 0s 2ms/step - loss: 0.0546 - accuracy: 0.9345\n",
      "Epoch 101/130\n",
      "29/29 [==============================] - 0s 2ms/step - loss: 0.0581 - accuracy: 0.9377\n",
      "Epoch 102/130\n",
      "29/29 [==============================] - 0s 2ms/step - loss: 0.0866 - accuracy: 0.8797\n",
      "Epoch 103/130\n",
      "29/29 [==============================] - 0s 2ms/step - loss: 0.0617 - accuracy: 0.9083\n",
      "Epoch 104/130\n",
      "29/29 [==============================] - 0s 2ms/step - loss: 0.0862 - accuracy: 0.9144\n",
      "Epoch 105/130\n",
      "29/29 [==============================] - 0s 2ms/step - loss: 0.0657 - accuracy: 0.9142\n",
      "Epoch 106/130\n",
      "29/29 [==============================] - 0s 2ms/step - loss: 0.0601 - accuracy: 0.9508\n",
      "Epoch 107/130\n",
      "29/29 [==============================] - 0s 2ms/step - loss: 0.0612 - accuracy: 0.9290\n",
      "Epoch 108/130\n",
      "29/29 [==============================] - 0s 2ms/step - loss: 0.0928 - accuracy: 0.8970\n",
      "Epoch 109/130\n",
      "29/29 [==============================] - 0s 2ms/step - loss: 0.0682 - accuracy: 0.9088\n",
      "Epoch 110/130\n",
      "29/29 [==============================] - 0s 2ms/step - loss: 0.0542 - accuracy: 0.9435\n",
      "Epoch 111/130\n",
      "29/29 [==============================] - 0s 2ms/step - loss: 0.0799 - accuracy: 0.8944\n",
      "Epoch 112/130\n",
      "29/29 [==============================] - 0s 2ms/step - loss: 0.0724 - accuracy: 0.9000\n",
      "Epoch 113/130\n",
      "29/29 [==============================] - 0s 2ms/step - loss: 0.0751 - accuracy: 0.9177\n",
      "Epoch 114/130\n",
      "29/29 [==============================] - 0s 2ms/step - loss: 0.0593 - accuracy: 0.8949\n",
      "Epoch 115/130\n",
      "29/29 [==============================] - 0s 2ms/step - loss: 0.0643 - accuracy: 0.9436\n",
      "Epoch 116/130\n",
      "29/29 [==============================] - 0s 2ms/step - loss: 0.0525 - accuracy: 0.9437\n",
      "Epoch 117/130\n",
      "29/29 [==============================] - 0s 2ms/step - loss: 0.0539 - accuracy: 0.9255\n",
      "Epoch 118/130\n",
      "29/29 [==============================] - 0s 2ms/step - loss: 0.0676 - accuracy: 0.9232\n",
      "Epoch 119/130\n",
      "29/29 [==============================] - 0s 2ms/step - loss: 0.0649 - accuracy: 0.9160\n",
      "Epoch 120/130\n",
      "29/29 [==============================] - 0s 2ms/step - loss: 0.0516 - accuracy: 0.9298\n",
      "Epoch 121/130\n",
      "29/29 [==============================] - 0s 2ms/step - loss: 0.0654 - accuracy: 0.9203\n",
      "Epoch 122/130\n",
      "29/29 [==============================] - 0s 2ms/step - loss: 0.0627 - accuracy: 0.9239\n",
      "Epoch 123/130\n",
      "29/29 [==============================] - 0s 2ms/step - loss: 0.0800 - accuracy: 0.8969\n",
      "Epoch 124/130\n",
      "29/29 [==============================] - 0s 2ms/step - loss: 0.0617 - accuracy: 0.9041\n",
      "Epoch 125/130\n",
      "29/29 [==============================] - 0s 2ms/step - loss: 0.0469 - accuracy: 0.9579\n",
      "Epoch 126/130\n",
      "29/29 [==============================] - 0s 2ms/step - loss: 0.0733 - accuracy: 0.8983\n",
      "Epoch 127/130\n",
      "29/29 [==============================] - 0s 2ms/step - loss: 0.0655 - accuracy: 0.9483\n",
      "Epoch 128/130\n",
      "29/29 [==============================] - 0s 2ms/step - loss: 0.0597 - accuracy: 0.9336\n",
      "Epoch 129/130\n",
      "29/29 [==============================] - 0s 2ms/step - loss: 0.0564 - accuracy: 0.9312\n",
      "Epoch 130/130\n",
      "29/29 [==============================] - 0s 2ms/step - loss: 0.0540 - accuracy: 0.9155\n"
     ]
    },
    {
     "data": {
      "text/plain": [
       "<tensorflow.python.keras.callbacks.History at 0x7fa943a61cf8>"
      ]
     },
     "execution_count": 62,
     "metadata": {
      "tags": []
     },
     "output_type": "execute_result"
    }
   ],
   "source": [
    "# 모델 수행\n",
    "model.fit(X_train, Y_train, epochs = 130, batch_size=5)"
   ]
  },
  {
   "cell_type": "code",
   "execution_count": 64,
   "metadata": {
    "id": "X-Hxn5DXWEGD"
   },
   "outputs": [],
   "source": [
    "# 모델 저장 및 재사용\n",
    "model.save(\"my_model.h5\")"
   ]
  },
  {
   "cell_type": "code",
   "execution_count": 65,
   "metadata": {
    "id": "Iu7qkWDTWct0"
   },
   "outputs": [],
   "source": [
    "# 테스트를 위해 메모리 내의 모델 삭제\n",
    "del model"
   ]
  },
  {
   "cell_type": "code",
   "execution_count": 68,
   "metadata": {
    "id": "NGpPBZd_Wi4o"
   },
   "outputs": [],
   "source": [
    "# 저장한 모델을 불러옴\n",
    "model = load_model('my_model.h5')"
   ]
  },
  {
   "cell_type": "code",
   "execution_count": 69,
   "metadata": {
    "colab": {
     "base_uri": "https://localhost:8080/"
    },
    "id": "T1Wz2XqwWw67",
    "outputId": "0e0419d0-fa91-4099-f3f7-019aa91e0549"
   },
   "outputs": [
    {
     "name": "stdout",
     "output_type": "stream",
     "text": [
      "2/2 [==============================] - 0s 5ms/step - loss: 0.1352 - accuracy: 0.8571\n",
      "\n",
      " Test Accuracy : 0.8571\n"
     ]
    }
   ],
   "source": [
    "# 불러온 모델로 수행\n",
    "print(\"\\n Test Accuracy : %.4f\" %(model.evaluate(X_test, Y_test)[1]))"
   ]
  },
  {
   "cell_type": "markdown",
   "metadata": {
    "id": "YMf2GmPjXKUV"
   },
   "source": [
    "### 실제값으로 예측 테스트 "
   ]
  },
  {
   "cell_type": "code",
   "execution_count": 70,
   "metadata": {
    "colab": {
     "base_uri": "https://localhost:8080/"
    },
    "id": "7hh7iUTXUlgJ",
    "outputId": "da33650a-af9a-4196-af85-d19810a5d9d9"
   },
   "outputs": [
    {
     "name": "stderr",
     "output_type": "stream",
     "text": [
      "/usr/local/lib/python3.6/dist-packages/tensorflow/python/keras/engine/sequential.py:450: UserWarning: `model.predict_classes()` is deprecated and will be removed after 2021-01-01. Please use instead:* `np.argmax(model.predict(x), axis=-1)`,   if your model does multi-class classification   (e.g. if it uses a `softmax` last-layer activation).* `(model.predict(x) > 0.5).astype(\"int32\")`,   if your model does binary classification   (e.g. if it uses a `sigmoid` last-layer activation).\n",
      "  warnings.warn('`model.predict_classes()` is deprecated and '\n"
     ]
    },
    {
     "data": {
      "text/plain": [
       "array([[0]], dtype=int32)"
      ]
     },
     "execution_count": 70,
     "metadata": {
      "tags": []
     },
     "output_type": "execute_result"
    }
   ],
   "source": [
    "test_data = [[0.0229,0.0369,0.0040,0.0375,0.0455,0.1452,0.2211,0.1188,0.0750,0.1631,0.2709,0.3358,0.4091,0.4400,0.5485,0.7213,0.8137,0.9185,1.0000,0.9418,0.9116,0.9349,0.7484,0.5146,0.4106,0.3443,0.6981,0.8713,0.9013,0.8014,0.4380,0.1319,0.1709,0.2484,0.3044,0.2312,0.1338,0.2056,0.2474,0.2790,0.1610,0.0056,0.0351,0.1148,0.1331,0.0276,0.0763,0.0631,0.0309,0.0240,0.0115,0.0064,0.0022,0.0122,0.0151,0.0056,0.0026,0.0029,0.0104,0.0163]]\n",
    "model.predict_classes(test_data)"
   ]
  },
  {
   "cell_type": "code",
   "execution_count": 71,
   "metadata": {
    "colab": {
     "base_uri": "https://localhost:8080/"
    },
    "id": "sjFQxpIcXFWF",
    "outputId": "20b05961-d103-41db-8bfa-212c72ec60c7"
   },
   "outputs": [
    {
     "name": "stderr",
     "output_type": "stream",
     "text": [
      "/usr/local/lib/python3.6/dist-packages/tensorflow/python/keras/engine/sequential.py:450: UserWarning: `model.predict_classes()` is deprecated and will be removed after 2021-01-01. Please use instead:* `np.argmax(model.predict(x), axis=-1)`,   if your model does multi-class classification   (e.g. if it uses a `softmax` last-layer activation).* `(model.predict(x) > 0.5).astype(\"int32\")`,   if your model does binary classification   (e.g. if it uses a `sigmoid` last-layer activation).\n",
      "  warnings.warn('`model.predict_classes()` is deprecated and '\n"
     ]
    },
    {
     "data": {
      "text/plain": [
       "array([[1]], dtype=int32)"
      ]
     },
     "execution_count": 71,
     "metadata": {
      "tags": []
     },
     "output_type": "execute_result"
    }
   ],
   "source": [
    "t3 = [[0.0286,0.0453,0.0277,0.0174,0.0384,0.0990,0.1201,0.1833,0.2105,0.3039,0.2988,0.4250,0.6343,0.8198,1.0000,0.9988,0.9508,0.9025,0.7234,0.5122,0.2074,0.3985,0.5890,0.2872,0.2043,0.5782,0.5389,0.3750,0.3411,0.5067,0.5580,0.4778,0.3299,0.2198,0.1407,0.2856,0.3807,0.4158,0.4054,0.3296,0.2707,0.2650,0.0723,0.1238,0.1192,0.1089,0.0623,0.0494,0.0264,0.0081,0.0104,0.0045,0.0014,0.0038,0.0013,0.0089,0.0057,0.0027,0.0051,0.0062]]\n",
    "model.predict_classes(t3)"
   ]
  },
  {
   "cell_type": "markdown",
   "metadata": {
    "id": "k1eMza1nXQTV"
   },
   "source": [
    "## 초음파 광물 예측 : Stratified KFold검증"
   ]
  },
  {
   "cell_type": "code",
   "execution_count": 13,
   "metadata": {
    "id": "UXWsazryiNo4"
   },
   "outputs": [],
   "source": [
    "from tensorflow.keras.models import Sequential, load_model\n",
    "from tensorflow.keras.layers import Dense\n",
    "\n",
    "# 전처리\n",
    "from sklearn.preprocessing import LabelEncoder\n",
    "\n",
    "# K겹교차검증\n",
    "from sklearn.model_selection import StratifiedKFold\n",
    "\n",
    "import numpy as np\n",
    "import pandas as pd\n",
    "import tensorflow as tf"
   ]
  },
  {
   "cell_type": "code",
   "execution_count": 2,
   "metadata": {
    "id": "7nNMTC-ri3BZ"
   },
   "outputs": [],
   "source": [
    "# seed값 설정\n",
    "seed = 0\n",
    "np.random.seed(seed)\n",
    "tf.random.set_seed(seed)"
   ]
  },
  {
   "cell_type": "code",
   "execution_count": 3,
   "metadata": {
    "id": "HszU1TA3jBSi"
   },
   "outputs": [],
   "source": [
    "df = pd.read_csv(\"/content/sample_data/sonar.csv\", header = None)"
   ]
  },
  {
   "cell_type": "code",
   "execution_count": 4,
   "metadata": {
    "colab": {
     "base_uri": "https://localhost:8080/"
    },
    "id": "8AkmnfVOjS43",
    "outputId": "5ce09bf7-1051-4c5d-fa81-1ad56c3f7a20"
   },
   "outputs": [
    {
     "name": "stdout",
     "output_type": "stream",
     "text": [
      "<class 'pandas.core.frame.DataFrame'>\n",
      "RangeIndex: 208 entries, 0 to 207\n",
      "Data columns (total 61 columns):\n",
      " #   Column  Non-Null Count  Dtype  \n",
      "---  ------  --------------  -----  \n",
      " 0   0       208 non-null    float64\n",
      " 1   1       208 non-null    float64\n",
      " 2   2       208 non-null    float64\n",
      " 3   3       208 non-null    float64\n",
      " 4   4       208 non-null    float64\n",
      " 5   5       208 non-null    float64\n",
      " 6   6       208 non-null    float64\n",
      " 7   7       208 non-null    float64\n",
      " 8   8       208 non-null    float64\n",
      " 9   9       208 non-null    float64\n",
      " 10  10      208 non-null    float64\n",
      " 11  11      208 non-null    float64\n",
      " 12  12      208 non-null    float64\n",
      " 13  13      208 non-null    float64\n",
      " 14  14      208 non-null    float64\n",
      " 15  15      208 non-null    float64\n",
      " 16  16      208 non-null    float64\n",
      " 17  17      208 non-null    float64\n",
      " 18  18      208 non-null    float64\n",
      " 19  19      208 non-null    float64\n",
      " 20  20      208 non-null    float64\n",
      " 21  21      208 non-null    float64\n",
      " 22  22      208 non-null    float64\n",
      " 23  23      208 non-null    float64\n",
      " 24  24      208 non-null    float64\n",
      " 25  25      208 non-null    float64\n",
      " 26  26      208 non-null    float64\n",
      " 27  27      208 non-null    float64\n",
      " 28  28      208 non-null    float64\n",
      " 29  29      208 non-null    float64\n",
      " 30  30      208 non-null    float64\n",
      " 31  31      208 non-null    float64\n",
      " 32  32      208 non-null    float64\n",
      " 33  33      208 non-null    float64\n",
      " 34  34      208 non-null    float64\n",
      " 35  35      208 non-null    float64\n",
      " 36  36      208 non-null    float64\n",
      " 37  37      208 non-null    float64\n",
      " 38  38      208 non-null    float64\n",
      " 39  39      208 non-null    float64\n",
      " 40  40      208 non-null    float64\n",
      " 41  41      208 non-null    float64\n",
      " 42  42      208 non-null    float64\n",
      " 43  43      208 non-null    float64\n",
      " 44  44      208 non-null    float64\n",
      " 45  45      208 non-null    float64\n",
      " 46  46      208 non-null    float64\n",
      " 47  47      208 non-null    float64\n",
      " 48  48      208 non-null    float64\n",
      " 49  49      208 non-null    float64\n",
      " 50  50      208 non-null    float64\n",
      " 51  51      208 non-null    float64\n",
      " 52  52      208 non-null    float64\n",
      " 53  53      208 non-null    float64\n",
      " 54  54      208 non-null    float64\n",
      " 55  55      208 non-null    float64\n",
      " 56  56      208 non-null    float64\n",
      " 57  57      208 non-null    float64\n",
      " 58  58      208 non-null    float64\n",
      " 59  59      208 non-null    float64\n",
      " 60  60      208 non-null    object \n",
      "dtypes: float64(60), object(1)\n",
      "memory usage: 99.2+ KB\n"
     ]
    }
   ],
   "source": [
    "df.info()"
   ]
  },
  {
   "cell_type": "code",
   "execution_count": 6,
   "metadata": {
    "id": "_tKQOHOojUh7"
   },
   "outputs": [],
   "source": [
    "# 데이터셋 로드 \n",
    "dataset = df.values\n",
    "X = dataset[:, 0: 60].astype(float)\n",
    "Y_obj = dataset[:, 60]"
   ]
  },
  {
   "cell_type": "code",
   "execution_count": 8,
   "metadata": {
    "id": "sqpX8Xt6j3oK"
   },
   "outputs": [],
   "source": [
    "# LabelEncoder\n",
    "e = LabelEncoder()\n",
    "e.fit(Y_obj)\n",
    "Y = e.transform(Y_obj)"
   ]
  },
  {
   "cell_type": "markdown",
   "metadata": {
    "id": "rGwq2Vl2oHnd"
   },
   "source": [
    "### K겹 교차검증 및 모델 설정 및 컴파일 수행\n",
    "* 모델 저장"
   ]
  },
  {
   "cell_type": "code",
   "execution_count": 12,
   "metadata": {
    "colab": {
     "base_uri": "https://localhost:8080/"
    },
    "id": "2bLBdMIkkLws",
    "outputId": "a52e3492-3ecc-4035-d815-ae3dedc604eb"
   },
   "outputs": [
    {
     "name": "stderr",
     "output_type": "stream",
     "text": [
      "/usr/local/lib/python3.6/dist-packages/sklearn/model_selection/_split.py:296: FutureWarning: Setting a random_state has no effect since shuffle is False. This will raise an error in 0.24. You should leave random_state to its default (None), or set shuffle=True.\n",
      "  FutureWarning\n"
     ]
    },
    {
     "name": "stdout",
     "output_type": "stream",
     "text": [
      "Epoch 1/10\n",
      "38/38 [==============================] - 0s 2ms/step - loss: 0.2434 - accuracy: 0.5591\n",
      "Epoch 2/10\n",
      "38/38 [==============================] - 0s 2ms/step - loss: 0.2375 - accuracy: 0.5544\n",
      "Epoch 3/10\n",
      "38/38 [==============================] - 0s 2ms/step - loss: 0.2368 - accuracy: 0.5197\n",
      "Epoch 4/10\n",
      "38/38 [==============================] - 0s 2ms/step - loss: 0.2340 - accuracy: 0.5380\n",
      "Epoch 5/10\n",
      "38/38 [==============================] - 0s 2ms/step - loss: 0.2260 - accuracy: 0.5619\n",
      "Epoch 6/10\n",
      "38/38 [==============================] - 0s 2ms/step - loss: 0.2252 - accuracy: 0.5972\n",
      "Epoch 7/10\n",
      "38/38 [==============================] - 0s 2ms/step - loss: 0.2192 - accuracy: 0.6419\n",
      "Epoch 8/10\n",
      "38/38 [==============================] - 0s 2ms/step - loss: 0.2071 - accuracy: 0.6867\n",
      "Epoch 9/10\n",
      "38/38 [==============================] - 0s 2ms/step - loss: 0.1997 - accuracy: 0.7223\n",
      "Epoch 10/10\n",
      "38/38 [==============================] - 0s 2ms/step - loss: 0.1905 - accuracy: 0.7814\n",
      "1/1 [==============================] - 0s 82ms/step - loss: 0.2798 - accuracy: 0.5238\n",
      "Epoch 1/10\n",
      "38/38 [==============================] - 0s 2ms/step - loss: 0.1830 - accuracy: 0.7594\n",
      "Epoch 2/10\n",
      "38/38 [==============================] - 0s 2ms/step - loss: 0.1709 - accuracy: 0.7701\n",
      "Epoch 3/10\n",
      "38/38 [==============================] - 0s 2ms/step - loss: 0.1675 - accuracy: 0.7701\n",
      "Epoch 4/10\n",
      "38/38 [==============================] - 0s 2ms/step - loss: 0.1574 - accuracy: 0.7701\n",
      "Epoch 5/10\n",
      "38/38 [==============================] - 0s 2ms/step - loss: 0.1513 - accuracy: 0.7701\n",
      "Epoch 6/10\n",
      "38/38 [==============================] - 0s 2ms/step - loss: 0.1442 - accuracy: 0.8289\n",
      "Epoch 7/10\n",
      "38/38 [==============================] - 0s 2ms/step - loss: 0.1409 - accuracy: 0.8128\n",
      "Epoch 8/10\n",
      "38/38 [==============================] - 0s 2ms/step - loss: 0.1371 - accuracy: 0.8235\n",
      "Epoch 9/10\n",
      "38/38 [==============================] - 0s 2ms/step - loss: 0.1318 - accuracy: 0.8128\n",
      "Epoch 10/10\n",
      "38/38 [==============================] - 0s 2ms/step - loss: 0.1300 - accuracy: 0.8396\n",
      "1/1 [==============================] - 0s 13ms/step - loss: 0.1760 - accuracy: 0.8095\n",
      "Epoch 1/10\n",
      "38/38 [==============================] - 0s 2ms/step - loss: 0.1373 - accuracy: 0.8128\n",
      "Epoch 2/10\n",
      "38/38 [==============================] - 0s 2ms/step - loss: 0.1266 - accuracy: 0.8289\n",
      "Epoch 3/10\n",
      "38/38 [==============================] - 0s 2ms/step - loss: 0.1258 - accuracy: 0.8556\n",
      "Epoch 4/10\n",
      "38/38 [==============================] - 0s 2ms/step - loss: 0.1239 - accuracy: 0.8503\n",
      "Epoch 5/10\n",
      "38/38 [==============================] - 0s 2ms/step - loss: 0.1169 - accuracy: 0.8503\n",
      "Epoch 6/10\n",
      "38/38 [==============================] - 0s 2ms/step - loss: 0.1138 - accuracy: 0.8663\n",
      "Epoch 7/10\n",
      "38/38 [==============================] - 0s 2ms/step - loss: 0.1121 - accuracy: 0.8663\n",
      "Epoch 8/10\n",
      "38/38 [==============================] - 0s 2ms/step - loss: 0.1080 - accuracy: 0.8984\n",
      "Epoch 9/10\n",
      "38/38 [==============================] - 0s 2ms/step - loss: 0.1060 - accuracy: 0.8930\n",
      "Epoch 10/10\n",
      "38/38 [==============================] - 0s 2ms/step - loss: 0.1046 - accuracy: 0.8717\n",
      "1/1 [==============================] - 0s 13ms/step - loss: 0.1892 - accuracy: 0.7143\n",
      "Epoch 1/10\n",
      "38/38 [==============================] - 0s 2ms/step - loss: 0.1246 - accuracy: 0.8449\n",
      "Epoch 2/10\n",
      "38/38 [==============================] - 0s 2ms/step - loss: 0.1155 - accuracy: 0.8717\n",
      "Epoch 3/10\n",
      "38/38 [==============================] - 0s 2ms/step - loss: 0.1123 - accuracy: 0.8877\n",
      "Epoch 4/10\n",
      "38/38 [==============================] - 0s 2ms/step - loss: 0.1124 - accuracy: 0.8556\n",
      "Epoch 5/10\n",
      "38/38 [==============================] - 0s 2ms/step - loss: 0.1085 - accuracy: 0.8556\n",
      "Epoch 6/10\n",
      "38/38 [==============================] - 0s 2ms/step - loss: 0.1053 - accuracy: 0.8877\n",
      "Epoch 7/10\n",
      "38/38 [==============================] - 0s 2ms/step - loss: 0.1030 - accuracy: 0.8824\n",
      "Epoch 8/10\n",
      "38/38 [==============================] - 0s 2ms/step - loss: 0.1009 - accuracy: 0.8984\n",
      "Epoch 9/10\n",
      "38/38 [==============================] - 0s 2ms/step - loss: 0.1001 - accuracy: 0.8984\n",
      "Epoch 10/10\n",
      "38/38 [==============================] - 0s 2ms/step - loss: 0.0994 - accuracy: 0.8984\n",
      "1/1 [==============================] - 0s 13ms/step - loss: 0.0683 - accuracy: 0.9048\n",
      "Epoch 1/10\n",
      "38/38 [==============================] - 0s 2ms/step - loss: 0.1043 - accuracy: 0.8717\n",
      "Epoch 2/10\n",
      "38/38 [==============================] - 0s 2ms/step - loss: 0.1014 - accuracy: 0.8824\n",
      "Epoch 3/10\n",
      "38/38 [==============================] - 0s 2ms/step - loss: 0.0952 - accuracy: 0.8984\n",
      "Epoch 4/10\n",
      "38/38 [==============================] - 0s 2ms/step - loss: 0.0968 - accuracy: 0.8877\n",
      "Epoch 5/10\n",
      "38/38 [==============================] - 0s 2ms/step - loss: 0.0919 - accuracy: 0.8824\n",
      "Epoch 6/10\n",
      "38/38 [==============================] - 0s 2ms/step - loss: 0.0910 - accuracy: 0.8930\n",
      "Epoch 7/10\n",
      "38/38 [==============================] - 0s 2ms/step - loss: 0.0888 - accuracy: 0.8930\n",
      "Epoch 8/10\n",
      "38/38 [==============================] - 0s 2ms/step - loss: 0.0880 - accuracy: 0.9037\n",
      "Epoch 9/10\n",
      "38/38 [==============================] - 0s 2ms/step - loss: 0.0864 - accuracy: 0.8930\n",
      "Epoch 10/10\n",
      "38/38 [==============================] - 0s 2ms/step - loss: 0.0868 - accuracy: 0.8984\n",
      "1/1 [==============================] - 0s 13ms/step - loss: 0.0922 - accuracy: 0.8571\n",
      "Epoch 1/10\n",
      "38/38 [==============================] - 0s 2ms/step - loss: 0.0923 - accuracy: 0.8824\n",
      "Epoch 2/10\n",
      "38/38 [==============================] - 0s 2ms/step - loss: 0.0890 - accuracy: 0.8824\n",
      "Epoch 3/10\n",
      "38/38 [==============================] - 0s 2ms/step - loss: 0.0820 - accuracy: 0.9037\n",
      "Epoch 4/10\n",
      "38/38 [==============================] - 0s 2ms/step - loss: 0.0841 - accuracy: 0.9037\n",
      "Epoch 5/10\n",
      "38/38 [==============================] - 0s 2ms/step - loss: 0.0814 - accuracy: 0.8877\n",
      "Epoch 6/10\n",
      "38/38 [==============================] - 0s 2ms/step - loss: 0.0797 - accuracy: 0.8930\n",
      "Epoch 7/10\n",
      "38/38 [==============================] - 0s 2ms/step - loss: 0.0761 - accuracy: 0.9037\n",
      "Epoch 8/10\n",
      "38/38 [==============================] - 0s 2ms/step - loss: 0.0763 - accuracy: 0.9037\n",
      "Epoch 9/10\n",
      "38/38 [==============================] - 0s 3ms/step - loss: 0.0758 - accuracy: 0.8930\n",
      "Epoch 10/10\n",
      "38/38 [==============================] - 0s 2ms/step - loss: 0.0731 - accuracy: 0.9091\n",
      "1/1 [==============================] - 0s 13ms/step - loss: 0.0953 - accuracy: 0.9048\n",
      "Epoch 1/10\n",
      "38/38 [==============================] - 0s 2ms/step - loss: 0.0752 - accuracy: 0.9144\n",
      "Epoch 2/10\n",
      "38/38 [==============================] - 0s 2ms/step - loss: 0.0738 - accuracy: 0.9198\n",
      "Epoch 3/10\n",
      "38/38 [==============================] - 0s 2ms/step - loss: 0.0687 - accuracy: 0.9251\n",
      "Epoch 4/10\n",
      "38/38 [==============================] - 0s 2ms/step - loss: 0.0696 - accuracy: 0.9144\n",
      "Epoch 5/10\n",
      "38/38 [==============================] - 0s 2ms/step - loss: 0.0691 - accuracy: 0.9251\n",
      "Epoch 6/10\n",
      "38/38 [==============================] - 0s 2ms/step - loss: 0.0660 - accuracy: 0.9358\n",
      "Epoch 7/10\n",
      "38/38 [==============================] - 0s 2ms/step - loss: 0.0655 - accuracy: 0.9144\n",
      "Epoch 8/10\n",
      "38/38 [==============================] - 0s 2ms/step - loss: 0.0607 - accuracy: 0.9412\n",
      "Epoch 9/10\n",
      "38/38 [==============================] - 0s 2ms/step - loss: 0.0614 - accuracy: 0.9305\n",
      "Epoch 10/10\n",
      "38/38 [==============================] - 0s 2ms/step - loss: 0.0601 - accuracy: 0.9465\n",
      "1/1 [==============================] - 0s 18ms/step - loss: 0.1189 - accuracy: 0.7619\n",
      "Epoch 1/10\n",
      "38/38 [==============================] - 0s 2ms/step - loss: 0.0700 - accuracy: 0.9091\n",
      "Epoch 2/10\n",
      "38/38 [==============================] - 0s 2ms/step - loss: 0.0696 - accuracy: 0.9144\n",
      "Epoch 3/10\n",
      "38/38 [==============================] - 0s 2ms/step - loss: 0.0637 - accuracy: 0.9198\n",
      "Epoch 4/10\n",
      "38/38 [==============================] - 0s 2ms/step - loss: 0.0618 - accuracy: 0.9465\n",
      "Epoch 5/10\n",
      "38/38 [==============================] - 0s 2ms/step - loss: 0.0649 - accuracy: 0.9305\n",
      "Epoch 6/10\n",
      "38/38 [==============================] - 0s 2ms/step - loss: 0.0606 - accuracy: 0.9412\n",
      "Epoch 7/10\n",
      "38/38 [==============================] - 0s 2ms/step - loss: 0.0576 - accuracy: 0.9465\n",
      "Epoch 8/10\n",
      "38/38 [==============================] - 0s 2ms/step - loss: 0.0570 - accuracy: 0.9358\n",
      "Epoch 9/10\n",
      "38/38 [==============================] - 0s 2ms/step - loss: 0.0545 - accuracy: 0.9412\n",
      "Epoch 10/10\n",
      "38/38 [==============================] - 0s 2ms/step - loss: 0.0565 - accuracy: 0.9358\n",
      "1/1 [==============================] - 0s 13ms/step - loss: 0.0600 - accuracy: 0.9048\n",
      "Epoch 1/10\n",
      "38/38 [==============================] - 0s 2ms/step - loss: 0.0580 - accuracy: 0.9255\n",
      "Epoch 2/10\n",
      "38/38 [==============================] - 0s 2ms/step - loss: 0.0634 - accuracy: 0.9309\n",
      "Epoch 3/10\n",
      "38/38 [==============================] - 0s 2ms/step - loss: 0.0571 - accuracy: 0.9309\n",
      "Epoch 4/10\n",
      "38/38 [==============================] - 0s 2ms/step - loss: 0.0615 - accuracy: 0.9255\n",
      "Epoch 5/10\n",
      "38/38 [==============================] - 0s 2ms/step - loss: 0.0532 - accuracy: 0.9415\n",
      "Epoch 6/10\n",
      "38/38 [==============================] - 0s 2ms/step - loss: 0.0524 - accuracy: 0.9415\n",
      "Epoch 7/10\n",
      "38/38 [==============================] - 0s 2ms/step - loss: 0.0551 - accuracy: 0.9415\n",
      "Epoch 8/10\n",
      "38/38 [==============================] - 0s 2ms/step - loss: 0.0558 - accuracy: 0.9415\n",
      "Epoch 9/10\n",
      "38/38 [==============================] - 0s 2ms/step - loss: 0.0485 - accuracy: 0.9521\n",
      "Epoch 10/10\n",
      "38/38 [==============================] - 0s 2ms/step - loss: 0.0474 - accuracy: 0.9521\n",
      "1/1 [==============================] - 0s 13ms/step - loss: 0.0310 - accuracy: 0.9500\n",
      "Epoch 1/10\n",
      "38/38 [==============================] - 0s 2ms/step - loss: 0.0483 - accuracy: 0.9628\n",
      "Epoch 2/10\n",
      "38/38 [==============================] - 0s 2ms/step - loss: 0.0535 - accuracy: 0.9468\n",
      "Epoch 3/10\n",
      "38/38 [==============================] - 0s 2ms/step - loss: 0.0470 - accuracy: 0.9468\n",
      "Epoch 4/10\n",
      "38/38 [==============================] - 0s 2ms/step - loss: 0.0479 - accuracy: 0.9415\n",
      "Epoch 5/10\n",
      "38/38 [==============================] - 0s 2ms/step - loss: 0.0437 - accuracy: 0.9628\n",
      "Epoch 6/10\n",
      "38/38 [==============================] - 0s 2ms/step - loss: 0.0434 - accuracy: 0.9521\n",
      "Epoch 7/10\n",
      "38/38 [==============================] - 0s 2ms/step - loss: 0.0425 - accuracy: 0.9681\n",
      "Epoch 8/10\n",
      "38/38 [==============================] - 0s 2ms/step - loss: 0.0459 - accuracy: 0.9574\n",
      "Epoch 9/10\n",
      "38/38 [==============================] - 0s 2ms/step - loss: 0.0389 - accuracy: 0.9681\n",
      "Epoch 10/10\n",
      "38/38 [==============================] - 0s 2ms/step - loss: 0.0372 - accuracy: 0.9681\n",
      "1/1 [==============================] - 0s 13ms/step - loss: 0.0269 - accuracy: 1.0000\n",
      "\n",
      " 10 fold accuracy :  ['0.5238', '0.8095', '0.7143', '0.9048', '0.8571', '0.9048', '0.7619', '0.9048', '0.9500', '1.0000']\n"
     ]
    }
   ],
   "source": [
    "# 10개의 폴드로 쪼갬\n",
    "n_folds = 10\n",
    "skf  = StratifiedKFold(n_splits= n_folds, shuffle=False, random_state=seed)\n",
    "\n",
    "# train index와 test index를 리턴\n",
    "model = Sequential()\n",
    "model.add(Dense(24, input_dim = 60, activation= 'relu'))\n",
    "model.add(Dense(10, activation='relu'))\n",
    "model.add(Dense(1, activation='sigmoid'))\n",
    "model.compile(loss = 'mean_squared_error', optimizer = 'adam', metrics = ['accuracy'])\n",
    "\n",
    "# accuracy리스트 \n",
    "accuracy = []\n",
    "\n",
    "for train, test in skf.split(X, Y): \n",
    "  model.fit(X[train], Y[train], epochs = 10, batch_size = 5)\n",
    "  k_accuracy = \"%.4f\" %(model.evaluate(X[test], Y[test])[1])\n",
    "  accuracy.append(k_accuracy)\n",
    "\n",
    "model.save(\"kfold_model.h5\")\n",
    "# 결과 출력\n",
    "print(\"\\n %.f fold accuracy : \" %n_folds, accuracy)"
   ]
  },
  {
   "cell_type": "markdown",
   "metadata": {
    "id": "DtRyH7uCq32M"
   },
   "source": [
    "### 모델로드 및 재수행 "
   ]
  },
  {
   "cell_type": "code",
   "execution_count": 19,
   "metadata": {
    "id": "RvmExnXPoTAc"
   },
   "outputs": [],
   "source": [
    "# 메모리내의 모델 삭제\n",
    "del model "
   ]
  },
  {
   "cell_type": "code",
   "execution_count": 18,
   "metadata": {
    "colab": {
     "base_uri": "https://localhost:8080/"
    },
    "id": "7PQn75q3jxml",
    "outputId": "289ad96f-9071-46e4-cd51-76bea0fe0d8f"
   },
   "outputs": [
    {
     "name": "stdout",
     "output_type": "stream",
     "text": [
      "1/1 [==============================] - 0s 78ms/step - loss: 0.0935 - accuracy: 0.9048\n",
      "1/1 [==============================] - 0s 13ms/step - loss: 0.0703 - accuracy: 0.9524\n",
      "1/1 [==============================] - 0s 13ms/step - loss: 0.0380 - accuracy: 1.0000\n",
      "1/1 [==============================] - 0s 12ms/step - loss: 0.0164 - accuracy: 1.0000\n",
      "1/1 [==============================] - 0s 14ms/step - loss: 0.0190 - accuracy: 1.0000\n",
      "1/1 [==============================] - 0s 13ms/step - loss: 0.0216 - accuracy: 1.0000\n",
      "1/1 [==============================] - 0s 13ms/step - loss: 0.0174 - accuracy: 1.0000\n",
      "1/1 [==============================] - 0s 13ms/step - loss: 0.0329 - accuracy: 0.9524\n",
      "1/1 [==============================] - 0s 14ms/step - loss: 0.0142 - accuracy: 1.0000\n",
      "1/1 [==============================] - 0s 18ms/step - loss: 0.0269 - accuracy: 1.0000\n",
      "10 fold's accuracy :  ['0.9048', '0.9524', '1.0000', '1.0000', '1.0000', '1.0000', '1.0000', '0.9524', '1.0000', '1.0000']\n"
     ]
    }
   ],
   "source": [
    "# 저장된 모델 로드 및 재수행\n",
    "model = load_model(\"kfold_model.h5\")\n",
    "accuracy = []\n",
    "for train, test in skf.split(X, Y): \n",
    "  k_accuracy = \"%.4f\" %(model.evaluate(X[test], Y[test])[1])\n",
    "  accuracy.append(k_accuracy)\n",
    "\n",
    "print(\"%.f fold's accuracy : \" % n_folds , accuracy)"
   ]
  }
 ],
 "metadata": {
  "accelerator": "GPU",
  "colab": {
   "collapsed_sections": [],
   "name": "광물을 통한 분류 예측.ipynb",
   "provenance": []
  },
  "kernelspec": {
   "display_name": "Python 3",
   "language": "python",
   "name": "python3"
  },
  "language_info": {
   "codemirror_mode": {
    "name": "ipython",
    "version": 3
   },
   "file_extension": ".py",
   "mimetype": "text/x-python",
   "name": "python",
   "nbconvert_exporter": "python",
   "pygments_lexer": "ipython3",
   "version": "3.8.3"
  }
 },
 "nbformat": 4,
 "nbformat_minor": 1
}
