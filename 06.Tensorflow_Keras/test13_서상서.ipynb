{
 "cells": [
  {
   "cell_type": "markdown",
   "metadata": {
    "id": "OJS5za1dD46X"
   },
   "source": [
    "# test13_서상서"
   ]
  },
  {
   "cell_type": "code",
   "execution_count": null,
   "metadata": {
    "id": "miMb7U0OECZ3"
   },
   "outputs": [],
   "source": [
    "from tensorflow.keras.models import Sequential\n",
    "from tensorflow.keras.layers import Dense\n",
    "from tensorflow.keras.callbacks import ModelCheckpoint, EarlyStopping\n",
    "\n",
    "from sklearn.model_selection import train_test_split\n",
    "from sklearn.preprocessing import LabelEncoder\n",
    "\n",
    "import numpy as np\n",
    "import pandas as pd\n",
    "import tensorflow as tf\n",
    "\n",
    "import matplotlib.pyplot as plt \n",
    "\n",
    "plt.rc('font', family='NanumBarunGothic') \n",
    "\n",
    "seed = 156\n",
    "np.random.seed(seed)\n",
    "tf.random.set_seed(seed)"
   ]
  },
  {
   "cell_type": "markdown",
   "metadata": {
    "id": "CmQJcRw4Fwui"
   },
   "source": [
    "## 1. 데이터를 로드 "
   ]
  },
  {
   "cell_type": "code",
   "execution_count": null,
   "metadata": {
    "id": "ecjieUCiF0Jy"
   },
   "outputs": [],
   "source": [
    "fd = pd.read_csv(\"/content/sample_data/test13.csv\",)\n",
    "display(df.info(), df.head(6))"
   ]
  },
  {
   "cell_type": "code",
   "execution_count": null,
   "metadata": {
    "id": "3IcdoLvRR94w"
   },
   "outputs": [],
   "source": [
    "df.drop(columns = [\"id\", \"Unnamed: 32\"], axis = 1,inplace = True)"
   ]
  },
  {
   "cell_type": "code",
   "execution_count": null,
   "metadata": {
    "id": "Mk4wDhKzS6Y4"
   },
   "outputs": [],
   "source": [
    "df.head()"
   ]
  },
  {
   "cell_type": "code",
   "execution_count": null,
   "metadata": {
    "colab": {
     "base_uri": "https://localhost:8080/"
    },
    "id": "EPvb2MGLTEuV",
    "outputId": "c43bbb18-3734-45b4-af03-c0b5032d7813"
   },
   "outputs": [
    {
     "data": {
      "text/plain": [
       "(569, 30)"
      ]
     },
     "execution_count": 6,
     "metadata": {
      "tags": []
     },
     "output_type": "execute_result"
    }
   ],
   "source": [
    "dataset = df.values\n",
    "X = dataset[:, 1:].astype(float)\n",
    "Y_obj = dataset[:, 0]\n",
    "X.shape"
   ]
  },
  {
   "cell_type": "code",
   "execution_count": null,
   "metadata": {
    "id": "zsqTczqETh8c"
   },
   "outputs": [],
   "source": [
    "e = LabelEncoder()\n",
    "e.fit(Y_obj)\n",
    "Y = e.transform(Y_obj)\n",
    "Y"
   ]
  },
  {
   "cell_type": "markdown",
   "metadata": {
    "id": "D8R-6eIgFvaB"
   },
   "source": [
    "## 2. train,test으로 분리 "
   ]
  },
  {
   "cell_type": "code",
   "execution_count": null,
   "metadata": {
    "id": "m57_2CwiP9Pc"
   },
   "outputs": [],
   "source": [
    "X_train, X_test, Y_train, Y_test = train_test_split(X, Y, test_size = .3, random_state = seed)"
   ]
  },
  {
   "cell_type": "markdown",
   "metadata": {
    "id": "HhHl4WhTUKX9"
   },
   "source": [
    "## 3. 딥러닝 모델을 업데이트 하고, 베스트 모델 생성"
   ]
  },
  {
   "cell_type": "code",
   "execution_count": null,
   "metadata": {
    "id": "zemO-Kf7VlnC"
   },
   "outputs": [],
   "source": [
    "model = Sequential()\n",
    "model.add(Dense(60, input_dim = 30, activation='relu')) # 입력층 + 은닉층 , 입력값은 17개\n",
    "model.add(Dense(25, activation='relu'))\n",
    "model.add(Dense(10, activation='relu'))\n",
    "model.add(Dense(1, activation='sigmoid'))  # 출력층, 출력값은 1가지."
   ]
  },
  {
   "cell_type": "code",
   "execution_count": null,
   "metadata": {
    "id": "dxPCc2n0W2-S"
   },
   "outputs": [],
   "source": [
    "model.compile(optimizer = 'adam',loss = 'binary_crossentropy', metrics = ['accuracy'])"
   ]
  },
  {
   "cell_type": "code",
   "execution_count": null,
   "metadata": {
    "id": "PAud77vuZBNY"
   },
   "outputs": [],
   "source": [
    "import os\n",
    "MODEL_DIR = \"/content/sample_data/model/\"\n",
    "\n",
    "if not os.path.exists(MODEL_DIR):\n",
    "  os.mkdir(MODEL_DIR)"
   ]
  },
  {
   "cell_type": "code",
   "execution_count": null,
   "metadata": {
    "id": "5FpmmojvXbpP"
   },
   "outputs": [],
   "source": [
    "modelpath = MODEL_DIR+\"{epoch:02d}-{val_loss:.4f}.hdf5\"\n",
    "modelcheckpoint = ModelCheckpoint(filepath = modelpath, monitor = 'val_loss', save_best_only=True, verbose=1)\n",
    "\n",
    "history = model.fit(X_train, Y_train, batch_size=10, epochs = 100, verbose =1,validation_data=(X_test, Y_test), \\\n",
    "                    callbacks=[modelcheckpoint])"
   ]
  },
  {
   "cell_type": "markdown",
   "metadata": {
    "id": "BGMRbAifYwU0"
   },
   "source": [
    "## 4. 그래프로 출력"
   ]
  },
  {
   "cell_type": "code",
   "execution_count": null,
   "metadata": {
    "id": "wdxm5je0gLvX"
   },
   "outputs": [],
   "source": [
    "y_vloss=  history.history['val_loss']\n",
    "y_acc   =  history.history['accuracy']\n",
    "loss =  history.history['loss']\n",
    "val_accuracy =  history.history['val_accuracy']"
   ]
  },
  {
   "cell_type": "code",
   "execution_count": null,
   "metadata": {
    "colab": {
     "base_uri": "https://localhost:8080/",
     "height": 282
    },
    "id": "UwBjCG5whf2s",
    "outputId": "c42b81fd-d75a-4991-d7d8-772ff79e69c7"
   },
   "outputs": [
    {
     "data": {
      "text/plain": [
       "[<matplotlib.lines.Line2D at 0x7fade0204198>]"
      ]
     },
     "execution_count": 14,
     "metadata": {
      "tags": []
     },
     "output_type": "execute_result"
    },
    {
     "name": "stderr",
     "output_type": "stream",
     "text": [
      "findfont: Font family ['NanumBarunGothic'] not found. Falling back to DejaVu Sans.\n"
     ]
    },
    {
     "data": {
      "image/png": "[encoded data removed]",
      "text/plain": [
       "<Figure size 432x288 with 1 Axes>"
      ]
     },
     "metadata": {
      "needs_background": "light",
      "tags": []
     },
     "output_type": "display_data"
    }
   ],
   "source": [
    "x_len = np.arange(len(y_acc))\n",
    "plt.plot(x_len, y_vloss, \"o\", c = \"red\", markersize = 3, label ='테스트')\n",
    "plt.plot(x_len, y_acc, \"o\", c = \"blue\", markersize = 3)"
   ]
  },
  {
   "cell_type": "markdown",
   "metadata": {
    "id": "7mVHNGK8jtJY"
   },
   "source": [
    "## 5. EarlyStopping"
   ]
  },
  {
   "cell_type": "code",
   "execution_count": null,
   "metadata": {
    "id": "ulLpI9xsj3e3"
   },
   "outputs": [],
   "source": [
    "earlyStopping = EarlyStopping(monitor = 'val_loss', patience = 10)"
   ]
  },
  {
   "cell_type": "code",
   "execution_count": null,
   "metadata": {
    "id": "S79OyLcjmd6K"
   },
   "outputs": [],
   "source": [
    "history = model.fit(X_train, Y_train, batch_size=10, epochs = 100, verbose =1,validation_data=(X_test, Y_test), \\\n",
    "                    callbacks=[modelcheckpoint, earlyStopping])"
   ]
  },
  {
   "cell_type": "markdown",
   "metadata": {
    "id": "H9z8-i1mSCUu"
   },
   "source": [
    "## 6. 실제값과 예측값 보기 "
   ]
  },
  {
   "cell_type": "code",
   "execution_count": 35,
   "metadata": {
    "colab": {
     "base_uri": "https://localhost:8080/"
    },
    "id": "-9kGptBtSLY8",
    "outputId": "9dc54eaa-5776-42d0-c103-e6eb35146ca1"
   },
   "outputs": [
    {
     "name": "stdout",
     "output_type": "stream",
     "text": [
      "실제 판정 : 0, 예측 : 0\n",
      "실제 판정 : 1, 예측 : 1\n",
      "실제 판정 : 0, 예측 : 0\n",
      "실제 판정 : 1, 예측 : 1\n",
      "실제 판정 : 0, 예측 : 0\n",
      "실제 판정 : 0, 예측 : 0\n",
      "실제 판정 : 0, 예측 : 0\n",
      "실제 판정 : 0, 예측 : 0\n",
      "실제 판정 : 0, 예측 : 0\n",
      "실제 판정 : 1, 예측 : 1\n"
     ]
    }
   ],
   "source": [
    "Y_prediction = model.predict(X_test).flatten()\n",
    "\n",
    "Y_prediction\n",
    "\n",
    "for i in range(10):\n",
    "  label = Y_test[i]\n",
    "  prediction = Y_prediction[i]\n",
    "  print(\"실제 판정 : {:.0f}, 예측 : {:.0f}\".format(label, prediction))"
   ]
  },
  {
   "cell_type": "code",
   "execution_count": null,
   "metadata": {
    "colab": {
     "base_uri": "https://localhost:8080/"
    },
    "id": "Oc0un3hBfb_6",
    "outputId": "c44d6942-bc39-407a-be4c-bbfc987222d6"
   },
   "outputs": [
    {
     "name": "stdout",
     "output_type": "stream",
     "text": [
      "['B' 'M']\n"
     ]
    }
   ],
   "source": [
    "print(e.classes_)"
   ]
  },
  {
   "cell_type": "code",
   "execution_count": null,
   "metadata": {
    "colab": {
     "base_uri": "https://localhost:8080/"
    },
    "id": "AIcr4kKFf7db",
    "outputId": "d4437c8f-d3b6-4277-b86f-77bb9c1c4e59"
   },
   "outputs": [
    {
     "name": "stdout",
     "output_type": "stream",
     "text": [
      "['B' 'M']\n"
     ]
    }
   ],
   "source": [
    "print(e.inverse_transform([0,1]))"
   ]
  }
 ],
 "metadata": {
  "accelerator": "GPU",
  "colab": {
   "collapsed_sections": [],
   "name": "test13_서상서.ipynb",
   "provenance": [],
   "toc_visible": true
  },
  "kernelspec": {
   "display_name": "Python 3",
   "language": "python",
   "name": "python3"
  },
  "language_info": {
   "codemirror_mode": {
    "name": "ipython",
    "version": 3
   },
   "file_extension": ".py",
   "mimetype": "text/x-python",
   "name": "python",
   "nbconvert_exporter": "python",
   "pygments_lexer": "ipython3",
   "version": "3.8.3"
  }
 },
 "nbformat": 4,
 "nbformat_minor": 1
}
