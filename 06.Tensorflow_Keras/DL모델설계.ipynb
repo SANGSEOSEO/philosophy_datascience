{
 "cells": [
  {
   "cell_type": "markdown",
   "metadata": {
    "id": "Gn7AGPQhY8AI"
   },
   "source": [
    "# 폐암 수술환자의 생존율 예측"
   ]
  },
  {
   "cell_type": "markdown",
   "metadata": {
    "id": "HVTt4ERGZA3X"
   },
   "source": [
    "#### 딥러닝을 구동하는데 필요한 케라스 패키지 호출"
   ]
  },
  {
   "cell_type": "code",
   "execution_count": 1,
   "metadata": {
    "id": "M-5gdgrHZbGi"
   },
   "outputs": [],
   "source": [
    "from tensorflow.keras.models import Sequential\n",
    "from tensorflow.keras.layers import Dense"
   ]
  },
  {
   "cell_type": "code",
   "execution_count": 2,
   "metadata": {
    "id": "4c7QoDC0Zr1p"
   },
   "outputs": [],
   "source": [
    "# 필요한 라이브러리 호출\n",
    "import numpy as np\n",
    "import tensorflow as tf\n",
    "\n",
    "# 실행할때마다 같은 결과를 위해 설정\n",
    "seed = 3\n",
    "np.random.seed(seed)\n",
    "tf.random.set_seed(seed)"
   ]
  },
  {
   "cell_type": "markdown",
   "metadata": {
    "id": "AokEF7QwagFL"
   },
   "source": [
    "#### 수술환자 데이터 로드 "
   ]
  },
  {
   "cell_type": "code",
   "execution_count": 5,
   "metadata": {
    "id": "tqemLy7QZYFs"
   },
   "outputs": [],
   "source": [
    "Data_set = np.loadtxt(\"/content/sample_data/ThoraricSurgery.csv\", delimiter=\",\")"
   ]
  },
  {
   "cell_type": "code",
   "execution_count": 7,
   "metadata": {
    "colab": {
     "base_uri": "https://localhost:8080/"
    },
    "id": "grYjsI9YbEoo",
    "outputId": "ab0e92b7-256a-4ac4-bc16-263db3c1b32c"
   },
   "outputs": [
    {
     "data": {
      "text/plain": [
       "(470, 18)"
      ]
     },
     "execution_count": 7,
     "metadata": {
      "tags": []
     },
     "output_type": "execute_result"
    }
   ],
   "source": [
    "Data_set.shape"
   ]
  },
  {
   "cell_type": "code",
   "execution_count": 9,
   "metadata": {
    "colab": {
     "base_uri": "https://localhost:8080/"
    },
    "id": "-AefwFjEbLSM",
    "outputId": "40b20420-219c-461d-b46f-5b7cfcef07b7"
   },
   "outputs": [
    {
     "data": {
      "text/plain": [
       "array([[293.  ,   1.  ,   3.8 ,   2.8 ,   0.  ,   0.  ,   0.  ,   0.  ,\n",
       "          0.  ,   0.  ,  12.  ,   0.  ,   0.  ,   0.  ,   1.  ,   0.  ,\n",
       "         62.  ,   0.  ],\n",
       "       [  1.  ,   2.  ,   2.88,   2.16,   1.  ,   0.  ,   0.  ,   0.  ,\n",
       "          1.  ,   1.  ,  14.  ,   0.  ,   0.  ,   0.  ,   1.  ,   0.  ,\n",
       "         60.  ,   0.  ]])"
      ]
     },
     "execution_count": 9,
     "metadata": {
      "tags": []
     },
     "output_type": "execute_result"
    }
   ],
   "source": [
    "Data_set[:2, :]"
   ]
  },
  {
   "cell_type": "code",
   "execution_count": 11,
   "metadata": {
    "id": "fVPIdsfybdYf"
   },
   "outputs": [],
   "source": [
    "# 환자의 기록과 수술결과를 분리\n",
    "X = Data_set[:, :17]\n",
    "Y = Data_set[:, -1]  # Data_set[:, 18]"
   ]
  },
  {
   "cell_type": "markdown",
   "metadata": {
    "id": "b8q9QcZ8bs8Y"
   },
   "source": [
    "#### 모델설계"
   ]
  },
  {
   "cell_type": "code",
   "execution_count": 12,
   "metadata": {
    "id": "hD3sVLrab_NP"
   },
   "outputs": [],
   "source": [
    "model = Sequential()\n",
    "model.add(Dense(30, input_dim = 17, activation='relu')) # 입력층 + 은닉층 , 입력값은 17개\n",
    "model.add(Dense(1, activation='sigmoid'))  # 출력층, 출력값은 1가지."
   ]
  },
  {
   "cell_type": "markdown",
   "metadata": {
    "id": "AvOAJH4hc9Lv"
   },
   "source": [
    "#### 모델 컴파일"
   ]
  },
  {
   "cell_type": "code",
   "execution_count": 13,
   "metadata": {
    "id": "_dblxbcjc9uW"
   },
   "outputs": [],
   "source": [
    "# loss - `mean_squared_error (평균제곱오차)`\n",
    "#         `binary_crossentropy` - 예측값이 참과 거짓 혹은 생존(1), 사망(0)과 같이 명확한 이분법적 결과를 원한다면..\n",
    "# mean_absolue_error : 평균절대오차(실제값과 예측값과의 차이의 절대값)\n",
    "# mean_squared_logarithm_error - 평균제곱 로그오차(실제 갑소가 예측 값에 로그를 적용한 값의 차이를 제곱한 값의 평균)\n",
    "# categorical_crossentropy - 범주형교차 엔트로피(일반분류)\n",
    "model.compile(loss = 'binary_crossentropy', optimizer='rmsprop', metrics = ['accuracy'])"
   ]
  },
  {
   "cell_type": "code",
   "execution_count": 14,
   "metadata": {
    "colab": {
     "base_uri": "https://localhost:8080/"
    },
    "id": "m1NsgfuOegh4",
    "outputId": "3dbabcba-1d64-4e89-84fd-8f1267436dbb"
   },
   "outputs": [
    {
     "name": "stdout",
     "output_type": "stream",
     "text": [
      "Epoch 1/100\n",
      "47/47 [==============================] - 2s 2ms/step - loss: 0.7792 - accuracy: 0.7818\n",
      "Epoch 2/100\n",
      "47/47 [==============================] - 0s 2ms/step - loss: 0.4359 - accuracy: 0.8573\n",
      "Epoch 3/100\n",
      "47/47 [==============================] - 0s 2ms/step - loss: 0.4978 - accuracy: 0.8057\n",
      "Epoch 4/100\n",
      "47/47 [==============================] - 0s 2ms/step - loss: 0.5354 - accuracy: 0.7988\n",
      "Epoch 5/100\n",
      "47/47 [==============================] - 0s 2ms/step - loss: 0.4774 - accuracy: 0.8484\n",
      "Epoch 6/100\n",
      "47/47 [==============================] - 0s 2ms/step - loss: 0.4890 - accuracy: 0.8430\n",
      "Epoch 7/100\n",
      "47/47 [==============================] - 0s 2ms/step - loss: 0.5195 - accuracy: 0.8049\n",
      "Epoch 8/100\n",
      "47/47 [==============================] - 0s 2ms/step - loss: 0.5024 - accuracy: 0.8258\n",
      "Epoch 9/100\n",
      "47/47 [==============================] - 0s 2ms/step - loss: 0.4481 - accuracy: 0.8566\n",
      "Epoch 10/100\n",
      "47/47 [==============================] - 0s 2ms/step - loss: 0.4407 - accuracy: 0.8596\n",
      "Epoch 11/100\n",
      "47/47 [==============================] - 0s 2ms/step - loss: 0.4372 - accuracy: 0.8470\n",
      "Epoch 12/100\n",
      "47/47 [==============================] - 0s 2ms/step - loss: 0.4845 - accuracy: 0.8156\n",
      "Epoch 13/100\n",
      "47/47 [==============================] - 0s 2ms/step - loss: 0.5004 - accuracy: 0.8199\n",
      "Epoch 14/100\n",
      "47/47 [==============================] - 0s 2ms/step - loss: 0.4916 - accuracy: 0.8352\n",
      "Epoch 15/100\n",
      "47/47 [==============================] - 0s 2ms/step - loss: 0.4630 - accuracy: 0.8278\n",
      "Epoch 16/100\n",
      "47/47 [==============================] - 0s 2ms/step - loss: 0.4094 - accuracy: 0.8576\n",
      "Epoch 17/100\n",
      "47/47 [==============================] - 0s 2ms/step - loss: 0.4471 - accuracy: 0.8479\n",
      "Epoch 18/100\n",
      "47/47 [==============================] - 0s 2ms/step - loss: 0.4440 - accuracy: 0.8435\n",
      "Epoch 19/100\n",
      "47/47 [==============================] - 0s 2ms/step - loss: 0.4368 - accuracy: 0.8427\n",
      "Epoch 20/100\n",
      "47/47 [==============================] - 0s 2ms/step - loss: 0.4126 - accuracy: 0.8686\n",
      "Epoch 21/100\n",
      "47/47 [==============================] - 0s 2ms/step - loss: 0.4507 - accuracy: 0.8499\n",
      "Epoch 22/100\n",
      "47/47 [==============================] - 0s 2ms/step - loss: 0.4567 - accuracy: 0.8318\n",
      "Epoch 23/100\n",
      "47/47 [==============================] - 0s 2ms/step - loss: 0.4615 - accuracy: 0.8132\n",
      "Epoch 24/100\n",
      "47/47 [==============================] - 0s 2ms/step - loss: 0.4517 - accuracy: 0.8423\n",
      "Epoch 25/100\n",
      "47/47 [==============================] - 0s 2ms/step - loss: 0.4418 - accuracy: 0.8244\n",
      "Epoch 26/100\n",
      "47/47 [==============================] - 0s 2ms/step - loss: 0.4625 - accuracy: 0.8497\n",
      "Epoch 27/100\n",
      "47/47 [==============================] - 0s 2ms/step - loss: 0.4271 - accuracy: 0.8369\n",
      "Epoch 28/100\n",
      "47/47 [==============================] - 0s 2ms/step - loss: 0.4699 - accuracy: 0.8352\n",
      "Epoch 29/100\n",
      "47/47 [==============================] - 0s 2ms/step - loss: 0.4144 - accuracy: 0.8670\n",
      "Epoch 30/100\n",
      "47/47 [==============================] - 0s 2ms/step - loss: 0.3758 - accuracy: 0.8854\n",
      "Epoch 31/100\n",
      "47/47 [==============================] - 0s 2ms/step - loss: 0.3861 - accuracy: 0.8712\n",
      "Epoch 32/100\n",
      "47/47 [==============================] - 0s 2ms/step - loss: 0.4714 - accuracy: 0.8385\n",
      "Epoch 33/100\n",
      "47/47 [==============================] - 0s 2ms/step - loss: 0.4222 - accuracy: 0.8545\n",
      "Epoch 34/100\n",
      "47/47 [==============================] - 0s 2ms/step - loss: 0.4191 - accuracy: 0.8395\n",
      "Epoch 35/100\n",
      "47/47 [==============================] - 0s 2ms/step - loss: 0.4512 - accuracy: 0.8315\n",
      "Epoch 36/100\n",
      "47/47 [==============================] - 0s 2ms/step - loss: 0.4777 - accuracy: 0.8433\n",
      "Epoch 37/100\n",
      "47/47 [==============================] - 0s 2ms/step - loss: 0.4420 - accuracy: 0.8412\n",
      "Epoch 38/100\n",
      "47/47 [==============================] - 0s 2ms/step - loss: 0.4645 - accuracy: 0.8269\n",
      "Epoch 39/100\n",
      "47/47 [==============================] - 0s 2ms/step - loss: 0.4449 - accuracy: 0.8305\n",
      "Epoch 40/100\n",
      "47/47 [==============================] - 0s 2ms/step - loss: 0.4600 - accuracy: 0.8142\n",
      "Epoch 41/100\n",
      "47/47 [==============================] - 0s 2ms/step - loss: 0.4615 - accuracy: 0.8384\n",
      "Epoch 42/100\n",
      "47/47 [==============================] - 0s 2ms/step - loss: 0.4110 - accuracy: 0.8486\n",
      "Epoch 43/100\n",
      "47/47 [==============================] - 0s 2ms/step - loss: 0.3865 - accuracy: 0.8577\n",
      "Epoch 44/100\n",
      "47/47 [==============================] - 0s 2ms/step - loss: 0.4003 - accuracy: 0.8723\n",
      "Epoch 45/100\n",
      "47/47 [==============================] - 0s 2ms/step - loss: 0.3918 - accuracy: 0.8455\n",
      "Epoch 46/100\n",
      "47/47 [==============================] - 0s 2ms/step - loss: 0.4433 - accuracy: 0.8552\n",
      "Epoch 47/100\n",
      "47/47 [==============================] - 0s 2ms/step - loss: 0.3854 - accuracy: 0.8784\n",
      "Epoch 48/100\n",
      "47/47 [==============================] - 0s 2ms/step - loss: 0.4084 - accuracy: 0.8617\n",
      "Epoch 49/100\n",
      "47/47 [==============================] - 0s 2ms/step - loss: 0.4496 - accuracy: 0.8259\n",
      "Epoch 50/100\n",
      "47/47 [==============================] - 0s 2ms/step - loss: 0.3837 - accuracy: 0.8777\n",
      "Epoch 51/100\n",
      "47/47 [==============================] - 0s 2ms/step - loss: 0.4484 - accuracy: 0.8304\n",
      "Epoch 52/100\n",
      "47/47 [==============================] - 0s 2ms/step - loss: 0.4698 - accuracy: 0.8114\n",
      "Epoch 53/100\n",
      "47/47 [==============================] - 0s 2ms/step - loss: 0.4650 - accuracy: 0.8289\n",
      "Epoch 54/100\n",
      "47/47 [==============================] - 0s 2ms/step - loss: 0.4686 - accuracy: 0.8298\n",
      "Epoch 55/100\n",
      "47/47 [==============================] - 0s 2ms/step - loss: 0.4119 - accuracy: 0.8598\n",
      "Epoch 56/100\n",
      "47/47 [==============================] - 0s 2ms/step - loss: 0.4420 - accuracy: 0.8339\n",
      "Epoch 57/100\n",
      "47/47 [==============================] - 0s 2ms/step - loss: 0.4385 - accuracy: 0.8385\n",
      "Epoch 58/100\n",
      "47/47 [==============================] - 0s 2ms/step - loss: 0.3841 - accuracy: 0.8679\n",
      "Epoch 59/100\n",
      "47/47 [==============================] - 0s 2ms/step - loss: 0.4434 - accuracy: 0.8335\n",
      "Epoch 60/100\n",
      "47/47 [==============================] - 0s 2ms/step - loss: 0.3819 - accuracy: 0.8681\n",
      "Epoch 61/100\n",
      "47/47 [==============================] - 0s 2ms/step - loss: 0.4086 - accuracy: 0.8600\n",
      "Epoch 62/100\n",
      "47/47 [==============================] - 0s 2ms/step - loss: 0.4310 - accuracy: 0.8391\n",
      "Epoch 63/100\n",
      "47/47 [==============================] - 0s 2ms/step - loss: 0.4168 - accuracy: 0.8572\n",
      "Epoch 64/100\n",
      "47/47 [==============================] - 0s 2ms/step - loss: 0.4094 - accuracy: 0.8511\n",
      "Epoch 65/100\n",
      "47/47 [==============================] - 0s 2ms/step - loss: 0.4221 - accuracy: 0.8600\n",
      "Epoch 66/100\n",
      "47/47 [==============================] - 0s 2ms/step - loss: 0.4055 - accuracy: 0.8392\n",
      "Epoch 67/100\n",
      "47/47 [==============================] - 0s 2ms/step - loss: 0.4165 - accuracy: 0.8524\n",
      "Epoch 68/100\n",
      "47/47 [==============================] - 0s 2ms/step - loss: 0.4122 - accuracy: 0.8634\n",
      "Epoch 69/100\n",
      "47/47 [==============================] - 0s 2ms/step - loss: 0.4540 - accuracy: 0.8092\n",
      "Epoch 70/100\n",
      "47/47 [==============================] - 0s 2ms/step - loss: 0.4342 - accuracy: 0.8282\n",
      "Epoch 71/100\n",
      "47/47 [==============================] - 0s 2ms/step - loss: 0.4532 - accuracy: 0.8227\n",
      "Epoch 72/100\n",
      "47/47 [==============================] - 0s 2ms/step - loss: 0.3930 - accuracy: 0.8572\n",
      "Epoch 73/100\n",
      "47/47 [==============================] - 0s 2ms/step - loss: 0.4336 - accuracy: 0.8453\n",
      "Epoch 74/100\n",
      "47/47 [==============================] - 0s 2ms/step - loss: 0.4102 - accuracy: 0.8494\n",
      "Epoch 75/100\n",
      "47/47 [==============================] - 0s 2ms/step - loss: 0.3733 - accuracy: 0.8656\n",
      "Epoch 76/100\n",
      "47/47 [==============================] - 0s 2ms/step - loss: 0.4121 - accuracy: 0.8543\n",
      "Epoch 77/100\n",
      "47/47 [==============================] - 0s 2ms/step - loss: 0.4555 - accuracy: 0.8275\n",
      "Epoch 78/100\n",
      "47/47 [==============================] - 0s 2ms/step - loss: 0.4133 - accuracy: 0.8579\n",
      "Epoch 79/100\n",
      "47/47 [==============================] - 0s 2ms/step - loss: 0.4338 - accuracy: 0.8259\n",
      "Epoch 80/100\n",
      "47/47 [==============================] - 0s 2ms/step - loss: 0.4801 - accuracy: 0.8257\n",
      "Epoch 81/100\n",
      "47/47 [==============================] - 0s 2ms/step - loss: 0.3865 - accuracy: 0.8713\n",
      "Epoch 82/100\n",
      "47/47 [==============================] - 0s 2ms/step - loss: 0.4278 - accuracy: 0.8410\n",
      "Epoch 83/100\n",
      "47/47 [==============================] - 0s 2ms/step - loss: 0.4410 - accuracy: 0.8311\n",
      "Epoch 84/100\n",
      "47/47 [==============================] - 0s 2ms/step - loss: 0.3451 - accuracy: 0.8682\n",
      "Epoch 85/100\n",
      "47/47 [==============================] - 0s 2ms/step - loss: 0.3947 - accuracy: 0.8432\n",
      "Epoch 86/100\n",
      "47/47 [==============================] - 0s 2ms/step - loss: 0.3762 - accuracy: 0.8723\n",
      "Epoch 87/100\n",
      "47/47 [==============================] - 0s 2ms/step - loss: 0.4197 - accuracy: 0.8556\n",
      "Epoch 88/100\n",
      "47/47 [==============================] - 0s 2ms/step - loss: 0.3952 - accuracy: 0.8550\n",
      "Epoch 89/100\n",
      "47/47 [==============================] - 0s 2ms/step - loss: 0.4575 - accuracy: 0.8091\n",
      "Epoch 90/100\n",
      "47/47 [==============================] - 0s 2ms/step - loss: 0.3867 - accuracy: 0.8549\n",
      "Epoch 91/100\n",
      "47/47 [==============================] - 0s 2ms/step - loss: 0.4227 - accuracy: 0.8462\n",
      "Epoch 92/100\n",
      "47/47 [==============================] - 0s 2ms/step - loss: 0.4420 - accuracy: 0.8220\n",
      "Epoch 93/100\n",
      "47/47 [==============================] - 0s 2ms/step - loss: 0.4645 - accuracy: 0.8267\n",
      "Epoch 94/100\n",
      "47/47 [==============================] - 0s 2ms/step - loss: 0.4213 - accuracy: 0.8308\n",
      "Epoch 95/100\n",
      "47/47 [==============================] - 0s 2ms/step - loss: 0.4308 - accuracy: 0.8351\n",
      "Epoch 96/100\n",
      "47/47 [==============================] - 0s 2ms/step - loss: 0.3886 - accuracy: 0.8640\n",
      "Epoch 97/100\n",
      "47/47 [==============================] - 0s 2ms/step - loss: 0.4685 - accuracy: 0.8141\n",
      "Epoch 98/100\n",
      "47/47 [==============================] - 0s 2ms/step - loss: 0.3993 - accuracy: 0.8595\n",
      "Epoch 99/100\n",
      "47/47 [==============================] - 0s 2ms/step - loss: 0.3777 - accuracy: 0.8624\n",
      "Epoch 100/100\n",
      "47/47 [==============================] - 0s 2ms/step - loss: 0.4627 - accuracy: 0.8218\n"
     ]
    },
    {
     "data": {
      "text/plain": [
       "<tensorflow.python.keras.callbacks.History at 0x7f06101bb8d0>"
      ]
     },
     "execution_count": 14,
     "metadata": {
      "tags": []
     },
     "output_type": "execute_result"
    }
   ],
   "source": [
    "# epochs - 100 각 샘플이 처음부터 끝까지 100번 재사용될때까지 실행을 반복\n",
    "# batch_size - 샘플을 한 번에 몇개씩 처리할지를 정하는 부분\n",
    "model.fit(X, Y, epochs= 100, batch_size= 10)"
   ]
  },
  {
   "cell_type": "markdown",
   "metadata": {
    "id": "EKuIYKfUf8Yt"
   },
   "source": [
    "# 피마 인디언 당뇨병 예측"
   ]
  },
  {
   "cell_type": "markdown",
   "metadata": {
    "id": "dgBHd7KagFi4"
   },
   "source": [
    "## 변수 설명\n",
    "* pregnant - 과거 임신 횟수\n",
    "* plasma - 포도당 부하검사 2시간 후 공보 혈당 농도\n",
    "* pressure - 확장기 혈압\n",
    "* thickness - 삼두근 피부 주름 두께\n",
    "* insulin -  혈청 인슐린\n",
    "* BMI -  체질량 지수(체중 대비 몸무게 비율)\n",
    "* pedigree : 당뇨병 가족력\n",
    "* age : 나이\n",
    "* class - 1(당뇨), 0(당뇨아님)"
   ]
  },
  {
   "cell_type": "code",
   "execution_count": 51,
   "metadata": {
    "colab": {
     "base_uri": "https://localhost:8080/",
     "height": 204
    },
    "id": "Qe8FP4wbgDiD",
    "outputId": "e8f4761c-e31c-4c7e-85c2-376e1dfdca51"
   },
   "outputs": [
    {
     "data": {
      "text/html": [
       "<div>\n",
       "<style scoped>\n",
       "    .dataframe tbody tr th:only-of-type {\n",
       "        vertical-align: middle;\n",
       "    }\n",
       "\n",
       "    .dataframe tbody tr th {\n",
       "        vertical-align: top;\n",
       "    }\n",
       "\n",
       "    .dataframe thead th {\n",
       "        text-align: right;\n",
       "    }\n",
       "</style>\n",
       "<table border=\"1\" class=\"dataframe\">\n",
       "  <thead>\n",
       "    <tr style=\"text-align: right;\">\n",
       "      <th></th>\n",
       "      <th>pregnant</th>\n",
       "      <th>plasma</th>\n",
       "      <th>pressure</th>\n",
       "      <th>thickness</th>\n",
       "      <th>insulin</th>\n",
       "      <th>BMI</th>\n",
       "      <th>pdigree</th>\n",
       "      <th>age</th>\n",
       "      <th>class</th>\n",
       "    </tr>\n",
       "  </thead>\n",
       "  <tbody>\n",
       "    <tr>\n",
       "      <th>0</th>\n",
       "      <td>6</td>\n",
       "      <td>148</td>\n",
       "      <td>72</td>\n",
       "      <td>35</td>\n",
       "      <td>0</td>\n",
       "      <td>33.6</td>\n",
       "      <td>0.627</td>\n",
       "      <td>50</td>\n",
       "      <td>1</td>\n",
       "    </tr>\n",
       "    <tr>\n",
       "      <th>1</th>\n",
       "      <td>1</td>\n",
       "      <td>85</td>\n",
       "      <td>66</td>\n",
       "      <td>29</td>\n",
       "      <td>0</td>\n",
       "      <td>26.6</td>\n",
       "      <td>0.351</td>\n",
       "      <td>31</td>\n",
       "      <td>0</td>\n",
       "    </tr>\n",
       "    <tr>\n",
       "      <th>2</th>\n",
       "      <td>8</td>\n",
       "      <td>183</td>\n",
       "      <td>64</td>\n",
       "      <td>0</td>\n",
       "      <td>0</td>\n",
       "      <td>23.3</td>\n",
       "      <td>0.672</td>\n",
       "      <td>32</td>\n",
       "      <td>1</td>\n",
       "    </tr>\n",
       "    <tr>\n",
       "      <th>3</th>\n",
       "      <td>1</td>\n",
       "      <td>89</td>\n",
       "      <td>66</td>\n",
       "      <td>23</td>\n",
       "      <td>94</td>\n",
       "      <td>28.1</td>\n",
       "      <td>0.167</td>\n",
       "      <td>21</td>\n",
       "      <td>0</td>\n",
       "    </tr>\n",
       "    <tr>\n",
       "      <th>4</th>\n",
       "      <td>0</td>\n",
       "      <td>137</td>\n",
       "      <td>40</td>\n",
       "      <td>35</td>\n",
       "      <td>168</td>\n",
       "      <td>43.1</td>\n",
       "      <td>2.288</td>\n",
       "      <td>33</td>\n",
       "      <td>1</td>\n",
       "    </tr>\n",
       "  </tbody>\n",
       "</table>\n",
       "</div>"
      ],
      "text/plain": [
       "   pregnant  plasma  pressure  thickness  insulin   BMI  pdigree  age  class\n",
       "0         6     148        72         35        0  33.6    0.627   50      1\n",
       "1         1      85        66         29        0  26.6    0.351   31      0\n",
       "2         8     183        64          0        0  23.3    0.672   32      1\n",
       "3         1      89        66         23       94  28.1    0.167   21      0\n",
       "4         0     137        40         35      168  43.1    2.288   33      1"
      ]
     },
     "execution_count": 51,
     "metadata": {
      "tags": []
     },
     "output_type": "execute_result"
    }
   ],
   "source": [
    "import pandas as pd\n",
    "df = pd.read_csv(\"/content/sample_data/pima-indians-diabetes.csv\", header = None,\n",
    "                 names = [\"pregnant\", \"plasma\", \"pressure\", \"thickness\", \"insulin\", \"BMI\", \"pdigree\", \"age\", \"class\"])\n",
    "df.head(5)"
   ]
  },
  {
   "cell_type": "code",
   "execution_count": 55,
   "metadata": {
    "id": "S1LIyIN4oc0k"
   },
   "outputs": [],
   "source": [
    "dataset = np.loadtxt(\"/content/sample_data/pima-indians-diabetes.csv\", delimiter=\",\")\n",
    "X = dataset[:, 0:8]\n",
    "Y = dataset[:, 8]"
   ]
  },
  {
   "cell_type": "markdown",
   "metadata": {
    "id": "dStQ1e_6iLzc"
   },
   "source": [
    "## 데이터 탐색(EDA)"
   ]
  },
  {
   "cell_type": "code",
   "execution_count": 21,
   "metadata": {
    "colab": {
     "base_uri": "https://localhost:8080/",
     "height": 323
    },
    "id": "R0irLRqfg74_",
    "outputId": "c7833f7c-1874-44eb-c607-1274692d1305"
   },
   "outputs": [
    {
     "name": "stdout",
     "output_type": "stream",
     "text": [
      "<class 'pandas.core.frame.DataFrame'>\n",
      "RangeIndex: 768 entries, 0 to 767\n",
      "Data columns (total 9 columns):\n",
      " #   Column     Non-Null Count  Dtype  \n",
      "---  ------     --------------  -----  \n",
      " 0   pregnant   768 non-null    int64  \n",
      " 1   plasma     768 non-null    int64  \n",
      " 2   pressure   768 non-null    int64  \n",
      " 3   thickness  768 non-null    int64  \n",
      " 4   insulin    768 non-null    int64  \n",
      " 5   BMI        768 non-null    float64\n",
      " 6   pdigree    768 non-null    float64\n",
      " 7   age        768 non-null    int64  \n",
      " 8   class      768 non-null    int64  \n",
      "dtypes: float64(2), int64(7)\n",
      "memory usage: 54.1 KB\n"
     ]
    },
    {
     "data": {
      "text/plain": [
       "(768, 9)"
      ]
     },
     "metadata": {
      "tags": []
     },
     "output_type": "display_data"
    },
    {
     "data": {
      "text/plain": [
       "None"
      ]
     },
     "metadata": {
      "tags": []
     },
     "output_type": "display_data"
    }
   ],
   "source": [
    "display(df.shape, df.info())"
   ]
  },
  {
   "cell_type": "code",
   "execution_count": 23,
   "metadata": {
    "colab": {
     "base_uri": "https://localhost:8080/",
     "height": 297
    },
    "id": "dIIm_eNVhy_6",
    "outputId": "2a492399-cf32-4cc9-930a-ba78dc3a016e"
   },
   "outputs": [
    {
     "data": {
      "text/html": [
       "<div>\n",
       "<style scoped>\n",
       "    .dataframe tbody tr th:only-of-type {\n",
       "        vertical-align: middle;\n",
       "    }\n",
       "\n",
       "    .dataframe tbody tr th {\n",
       "        vertical-align: top;\n",
       "    }\n",
       "\n",
       "    .dataframe thead th {\n",
       "        text-align: right;\n",
       "    }\n",
       "</style>\n",
       "<table border=\"1\" class=\"dataframe\">\n",
       "  <thead>\n",
       "    <tr style=\"text-align: right;\">\n",
       "      <th></th>\n",
       "      <th>pregnant</th>\n",
       "      <th>plasma</th>\n",
       "      <th>pressure</th>\n",
       "      <th>thickness</th>\n",
       "      <th>insulin</th>\n",
       "      <th>BMI</th>\n",
       "      <th>pdigree</th>\n",
       "      <th>age</th>\n",
       "      <th>class</th>\n",
       "    </tr>\n",
       "  </thead>\n",
       "  <tbody>\n",
       "    <tr>\n",
       "      <th>count</th>\n",
       "      <td>768.000000</td>\n",
       "      <td>768.000000</td>\n",
       "      <td>768.000000</td>\n",
       "      <td>768.000000</td>\n",
       "      <td>768.000000</td>\n",
       "      <td>768.000000</td>\n",
       "      <td>768.000000</td>\n",
       "      <td>768.000000</td>\n",
       "      <td>768.000000</td>\n",
       "    </tr>\n",
       "    <tr>\n",
       "      <th>mean</th>\n",
       "      <td>3.845052</td>\n",
       "      <td>120.894531</td>\n",
       "      <td>69.105469</td>\n",
       "      <td>20.536458</td>\n",
       "      <td>79.799479</td>\n",
       "      <td>31.992578</td>\n",
       "      <td>0.471876</td>\n",
       "      <td>33.240885</td>\n",
       "      <td>0.348958</td>\n",
       "    </tr>\n",
       "    <tr>\n",
       "      <th>std</th>\n",
       "      <td>3.369578</td>\n",
       "      <td>31.972618</td>\n",
       "      <td>19.355807</td>\n",
       "      <td>15.952218</td>\n",
       "      <td>115.244002</td>\n",
       "      <td>7.884160</td>\n",
       "      <td>0.331329</td>\n",
       "      <td>11.760232</td>\n",
       "      <td>0.476951</td>\n",
       "    </tr>\n",
       "    <tr>\n",
       "      <th>min</th>\n",
       "      <td>0.000000</td>\n",
       "      <td>0.000000</td>\n",
       "      <td>0.000000</td>\n",
       "      <td>0.000000</td>\n",
       "      <td>0.000000</td>\n",
       "      <td>0.000000</td>\n",
       "      <td>0.078000</td>\n",
       "      <td>21.000000</td>\n",
       "      <td>0.000000</td>\n",
       "    </tr>\n",
       "    <tr>\n",
       "      <th>25%</th>\n",
       "      <td>1.000000</td>\n",
       "      <td>99.000000</td>\n",
       "      <td>62.000000</td>\n",
       "      <td>0.000000</td>\n",
       "      <td>0.000000</td>\n",
       "      <td>27.300000</td>\n",
       "      <td>0.243750</td>\n",
       "      <td>24.000000</td>\n",
       "      <td>0.000000</td>\n",
       "    </tr>\n",
       "    <tr>\n",
       "      <th>50%</th>\n",
       "      <td>3.000000</td>\n",
       "      <td>117.000000</td>\n",
       "      <td>72.000000</td>\n",
       "      <td>23.000000</td>\n",
       "      <td>30.500000</td>\n",
       "      <td>32.000000</td>\n",
       "      <td>0.372500</td>\n",
       "      <td>29.000000</td>\n",
       "      <td>0.000000</td>\n",
       "    </tr>\n",
       "    <tr>\n",
       "      <th>75%</th>\n",
       "      <td>6.000000</td>\n",
       "      <td>140.250000</td>\n",
       "      <td>80.000000</td>\n",
       "      <td>32.000000</td>\n",
       "      <td>127.250000</td>\n",
       "      <td>36.600000</td>\n",
       "      <td>0.626250</td>\n",
       "      <td>41.000000</td>\n",
       "      <td>1.000000</td>\n",
       "    </tr>\n",
       "    <tr>\n",
       "      <th>max</th>\n",
       "      <td>17.000000</td>\n",
       "      <td>199.000000</td>\n",
       "      <td>122.000000</td>\n",
       "      <td>99.000000</td>\n",
       "      <td>846.000000</td>\n",
       "      <td>67.100000</td>\n",
       "      <td>2.420000</td>\n",
       "      <td>81.000000</td>\n",
       "      <td>1.000000</td>\n",
       "    </tr>\n",
       "  </tbody>\n",
       "</table>\n",
       "</div>"
      ],
      "text/plain": [
       "         pregnant      plasma    pressure  ...     pdigree         age       class\n",
       "count  768.000000  768.000000  768.000000  ...  768.000000  768.000000  768.000000\n",
       "mean     3.845052  120.894531   69.105469  ...    0.471876   33.240885    0.348958\n",
       "std      3.369578   31.972618   19.355807  ...    0.331329   11.760232    0.476951\n",
       "min      0.000000    0.000000    0.000000  ...    0.078000   21.000000    0.000000\n",
       "25%      1.000000   99.000000   62.000000  ...    0.243750   24.000000    0.000000\n",
       "50%      3.000000  117.000000   72.000000  ...    0.372500   29.000000    0.000000\n",
       "75%      6.000000  140.250000   80.000000  ...    0.626250   41.000000    1.000000\n",
       "max     17.000000  199.000000  122.000000  ...    2.420000   81.000000    1.000000\n",
       "\n",
       "[8 rows x 9 columns]"
      ]
     },
     "execution_count": 23,
     "metadata": {
      "tags": []
     },
     "output_type": "execute_result"
    }
   ],
   "source": [
    "df.describe()"
   ]
  },
  {
   "cell_type": "code",
   "execution_count": 25,
   "metadata": {
    "colab": {
     "base_uri": "https://localhost:8080/",
     "height": 419
    },
    "id": "DOK3cooYh7Pk",
    "outputId": "23e449af-976e-4dca-9456-c51ba7627dbe"
   },
   "outputs": [
    {
     "data": {
      "text/html": [
       "<div>\n",
       "<style scoped>\n",
       "    .dataframe tbody tr th:only-of-type {\n",
       "        vertical-align: middle;\n",
       "    }\n",
       "\n",
       "    .dataframe tbody tr th {\n",
       "        vertical-align: top;\n",
       "    }\n",
       "\n",
       "    .dataframe thead th {\n",
       "        text-align: right;\n",
       "    }\n",
       "</style>\n",
       "<table border=\"1\" class=\"dataframe\">\n",
       "  <thead>\n",
       "    <tr style=\"text-align: right;\">\n",
       "      <th></th>\n",
       "      <th>pregnant</th>\n",
       "      <th>class</th>\n",
       "    </tr>\n",
       "  </thead>\n",
       "  <tbody>\n",
       "    <tr>\n",
       "      <th>0</th>\n",
       "      <td>6</td>\n",
       "      <td>1</td>\n",
       "    </tr>\n",
       "    <tr>\n",
       "      <th>1</th>\n",
       "      <td>1</td>\n",
       "      <td>0</td>\n",
       "    </tr>\n",
       "    <tr>\n",
       "      <th>2</th>\n",
       "      <td>8</td>\n",
       "      <td>1</td>\n",
       "    </tr>\n",
       "    <tr>\n",
       "      <th>3</th>\n",
       "      <td>1</td>\n",
       "      <td>0</td>\n",
       "    </tr>\n",
       "    <tr>\n",
       "      <th>4</th>\n",
       "      <td>0</td>\n",
       "      <td>1</td>\n",
       "    </tr>\n",
       "    <tr>\n",
       "      <th>...</th>\n",
       "      <td>...</td>\n",
       "      <td>...</td>\n",
       "    </tr>\n",
       "    <tr>\n",
       "      <th>763</th>\n",
       "      <td>10</td>\n",
       "      <td>0</td>\n",
       "    </tr>\n",
       "    <tr>\n",
       "      <th>764</th>\n",
       "      <td>2</td>\n",
       "      <td>0</td>\n",
       "    </tr>\n",
       "    <tr>\n",
       "      <th>765</th>\n",
       "      <td>5</td>\n",
       "      <td>0</td>\n",
       "    </tr>\n",
       "    <tr>\n",
       "      <th>766</th>\n",
       "      <td>1</td>\n",
       "      <td>1</td>\n",
       "    </tr>\n",
       "    <tr>\n",
       "      <th>767</th>\n",
       "      <td>1</td>\n",
       "      <td>0</td>\n",
       "    </tr>\n",
       "  </tbody>\n",
       "</table>\n",
       "<p>768 rows × 2 columns</p>\n",
       "</div>"
      ],
      "text/plain": [
       "     pregnant  class\n",
       "0           6      1\n",
       "1           1      0\n",
       "2           8      1\n",
       "3           1      0\n",
       "4           0      1\n",
       "..        ...    ...\n",
       "763        10      0\n",
       "764         2      0\n",
       "765         5      0\n",
       "766         1      1\n",
       "767         1      0\n",
       "\n",
       "[768 rows x 2 columns]"
      ]
     },
     "execution_count": 25,
     "metadata": {
      "tags": []
     },
     "output_type": "execute_result"
    }
   ],
   "source": [
    "df[['pregnant', 'class']]"
   ]
  },
  {
   "cell_type": "code",
   "execution_count": 30,
   "metadata": {
    "colab": {
     "base_uri": "https://localhost:8080/",
     "height": 576
    },
    "id": "afAOaoP9ifMJ",
    "outputId": "997effa8-60d0-4397-f0dc-3c719ac7baa4"
   },
   "outputs": [
    {
     "data": {
      "text/html": [
       "<div>\n",
       "<style scoped>\n",
       "    .dataframe tbody tr th:only-of-type {\n",
       "        vertical-align: middle;\n",
       "    }\n",
       "\n",
       "    .dataframe tbody tr th {\n",
       "        vertical-align: top;\n",
       "    }\n",
       "\n",
       "    .dataframe thead th {\n",
       "        text-align: right;\n",
       "    }\n",
       "</style>\n",
       "<table border=\"1\" class=\"dataframe\">\n",
       "  <thead>\n",
       "    <tr style=\"text-align: right;\">\n",
       "      <th></th>\n",
       "      <th>pregnant</th>\n",
       "      <th>class</th>\n",
       "    </tr>\n",
       "  </thead>\n",
       "  <tbody>\n",
       "    <tr>\n",
       "      <th>16</th>\n",
       "      <td>17</td>\n",
       "      <td>1.000000</td>\n",
       "    </tr>\n",
       "    <tr>\n",
       "      <th>15</th>\n",
       "      <td>15</td>\n",
       "      <td>1.000000</td>\n",
       "    </tr>\n",
       "    <tr>\n",
       "      <th>14</th>\n",
       "      <td>14</td>\n",
       "      <td>1.000000</td>\n",
       "    </tr>\n",
       "    <tr>\n",
       "      <th>13</th>\n",
       "      <td>13</td>\n",
       "      <td>0.500000</td>\n",
       "    </tr>\n",
       "    <tr>\n",
       "      <th>12</th>\n",
       "      <td>12</td>\n",
       "      <td>0.444444</td>\n",
       "    </tr>\n",
       "    <tr>\n",
       "      <th>11</th>\n",
       "      <td>11</td>\n",
       "      <td>0.636364</td>\n",
       "    </tr>\n",
       "    <tr>\n",
       "      <th>10</th>\n",
       "      <td>10</td>\n",
       "      <td>0.416667</td>\n",
       "    </tr>\n",
       "    <tr>\n",
       "      <th>9</th>\n",
       "      <td>9</td>\n",
       "      <td>0.642857</td>\n",
       "    </tr>\n",
       "    <tr>\n",
       "      <th>8</th>\n",
       "      <td>8</td>\n",
       "      <td>0.578947</td>\n",
       "    </tr>\n",
       "    <tr>\n",
       "      <th>7</th>\n",
       "      <td>7</td>\n",
       "      <td>0.555556</td>\n",
       "    </tr>\n",
       "    <tr>\n",
       "      <th>6</th>\n",
       "      <td>6</td>\n",
       "      <td>0.320000</td>\n",
       "    </tr>\n",
       "    <tr>\n",
       "      <th>5</th>\n",
       "      <td>5</td>\n",
       "      <td>0.368421</td>\n",
       "    </tr>\n",
       "    <tr>\n",
       "      <th>4</th>\n",
       "      <td>4</td>\n",
       "      <td>0.338235</td>\n",
       "    </tr>\n",
       "    <tr>\n",
       "      <th>3</th>\n",
       "      <td>3</td>\n",
       "      <td>0.360000</td>\n",
       "    </tr>\n",
       "    <tr>\n",
       "      <th>2</th>\n",
       "      <td>2</td>\n",
       "      <td>0.184466</td>\n",
       "    </tr>\n",
       "    <tr>\n",
       "      <th>1</th>\n",
       "      <td>1</td>\n",
       "      <td>0.214815</td>\n",
       "    </tr>\n",
       "    <tr>\n",
       "      <th>0</th>\n",
       "      <td>0</td>\n",
       "      <td>0.342342</td>\n",
       "    </tr>\n",
       "  </tbody>\n",
       "</table>\n",
       "</div>"
      ],
      "text/plain": [
       "    pregnant     class\n",
       "16        17  1.000000\n",
       "15        15  1.000000\n",
       "14        14  1.000000\n",
       "13        13  0.500000\n",
       "12        12  0.444444\n",
       "11        11  0.636364\n",
       "10        10  0.416667\n",
       "9          9  0.642857\n",
       "8          8  0.578947\n",
       "7          7  0.555556\n",
       "6          6  0.320000\n",
       "5          5  0.368421\n",
       "4          4  0.338235\n",
       "3          3  0.360000\n",
       "2          2  0.184466\n",
       "1          1  0.214815\n",
       "0          0  0.342342"
      ]
     },
     "execution_count": 30,
     "metadata": {
      "tags": []
     },
     "output_type": "execute_result"
    }
   ],
   "source": [
    "# as_index = False를 하면 다시 reset_index해서 할 필요없이 바로 groupby단계에서 볼수가 있네.\n",
    "# 내림차순 정렬\n",
    "df[['pregnant', 'class']].groupby(['pregnant'], as_index = False)['class'].mean().sort_values(by = 'pregnant', ascending = False)"
   ]
  },
  {
   "cell_type": "code",
   "execution_count": 31,
   "metadata": {
    "colab": {
     "base_uri": "https://localhost:8080/",
     "height": 576
    },
    "id": "iEHPshFWjmy8",
    "outputId": "7b10a047-44d6-450f-a0db-3b016cbc6ba1"
   },
   "outputs": [
    {
     "data": {
      "text/html": [
       "<div>\n",
       "<style scoped>\n",
       "    .dataframe tbody tr th:only-of-type {\n",
       "        vertical-align: middle;\n",
       "    }\n",
       "\n",
       "    .dataframe tbody tr th {\n",
       "        vertical-align: top;\n",
       "    }\n",
       "\n",
       "    .dataframe thead th {\n",
       "        text-align: right;\n",
       "    }\n",
       "</style>\n",
       "<table border=\"1\" class=\"dataframe\">\n",
       "  <thead>\n",
       "    <tr style=\"text-align: right;\">\n",
       "      <th></th>\n",
       "      <th>pregnant</th>\n",
       "      <th>class</th>\n",
       "    </tr>\n",
       "  </thead>\n",
       "  <tbody>\n",
       "    <tr>\n",
       "      <th>0</th>\n",
       "      <td>0</td>\n",
       "      <td>0.342342</td>\n",
       "    </tr>\n",
       "    <tr>\n",
       "      <th>1</th>\n",
       "      <td>1</td>\n",
       "      <td>0.214815</td>\n",
       "    </tr>\n",
       "    <tr>\n",
       "      <th>2</th>\n",
       "      <td>2</td>\n",
       "      <td>0.184466</td>\n",
       "    </tr>\n",
       "    <tr>\n",
       "      <th>3</th>\n",
       "      <td>3</td>\n",
       "      <td>0.360000</td>\n",
       "    </tr>\n",
       "    <tr>\n",
       "      <th>4</th>\n",
       "      <td>4</td>\n",
       "      <td>0.338235</td>\n",
       "    </tr>\n",
       "    <tr>\n",
       "      <th>5</th>\n",
       "      <td>5</td>\n",
       "      <td>0.368421</td>\n",
       "    </tr>\n",
       "    <tr>\n",
       "      <th>6</th>\n",
       "      <td>6</td>\n",
       "      <td>0.320000</td>\n",
       "    </tr>\n",
       "    <tr>\n",
       "      <th>7</th>\n",
       "      <td>7</td>\n",
       "      <td>0.555556</td>\n",
       "    </tr>\n",
       "    <tr>\n",
       "      <th>8</th>\n",
       "      <td>8</td>\n",
       "      <td>0.578947</td>\n",
       "    </tr>\n",
       "    <tr>\n",
       "      <th>9</th>\n",
       "      <td>9</td>\n",
       "      <td>0.642857</td>\n",
       "    </tr>\n",
       "    <tr>\n",
       "      <th>10</th>\n",
       "      <td>10</td>\n",
       "      <td>0.416667</td>\n",
       "    </tr>\n",
       "    <tr>\n",
       "      <th>11</th>\n",
       "      <td>11</td>\n",
       "      <td>0.636364</td>\n",
       "    </tr>\n",
       "    <tr>\n",
       "      <th>12</th>\n",
       "      <td>12</td>\n",
       "      <td>0.444444</td>\n",
       "    </tr>\n",
       "    <tr>\n",
       "      <th>13</th>\n",
       "      <td>13</td>\n",
       "      <td>0.500000</td>\n",
       "    </tr>\n",
       "    <tr>\n",
       "      <th>14</th>\n",
       "      <td>14</td>\n",
       "      <td>1.000000</td>\n",
       "    </tr>\n",
       "    <tr>\n",
       "      <th>15</th>\n",
       "      <td>15</td>\n",
       "      <td>1.000000</td>\n",
       "    </tr>\n",
       "    <tr>\n",
       "      <th>16</th>\n",
       "      <td>17</td>\n",
       "      <td>1.000000</td>\n",
       "    </tr>\n",
       "  </tbody>\n",
       "</table>\n",
       "</div>"
      ],
      "text/plain": [
       "    pregnant     class\n",
       "0          0  0.342342\n",
       "1          1  0.214815\n",
       "2          2  0.184466\n",
       "3          3  0.360000\n",
       "4          4  0.338235\n",
       "5          5  0.368421\n",
       "6          6  0.320000\n",
       "7          7  0.555556\n",
       "8          8  0.578947\n",
       "9          9  0.642857\n",
       "10        10  0.416667\n",
       "11        11  0.636364\n",
       "12        12  0.444444\n",
       "13        13  0.500000\n",
       "14        14  1.000000\n",
       "15        15  1.000000\n",
       "16        17  1.000000"
      ]
     },
     "execution_count": 31,
     "metadata": {
      "tags": []
     },
     "output_type": "execute_result"
    }
   ],
   "source": [
    "df[['pregnant', 'class']].groupby(['pregnant'], as_index = False)['class'].mean().sort_values(by = 'pregnant', ascending = True)"
   ]
  },
  {
   "cell_type": "markdown",
   "metadata": {
    "id": "SlWOQjvtju8B"
   },
   "source": [
    "## 그래프 시각화"
   ]
  },
  {
   "cell_type": "code",
   "execution_count": 32,
   "metadata": {
    "id": "wU3mYMb4jz4x"
   },
   "outputs": [],
   "source": [
    "import matplotlib.pyplot as plt  \n",
    "import seaborn as sns"
   ]
  },
  {
   "cell_type": "code",
   "execution_count": 39,
   "metadata": {
    "colab": {
     "base_uri": "https://localhost:8080/",
     "height": 34
    },
    "id": "t0f3Nn4RkBLc",
    "outputId": "37c2588a-35e0-425d-b45e-f3ea45cbf685"
   },
   "outputs": [
    {
     "data": {
      "text/plain": [
       "<Figure size 864x864 with 0 Axes>"
      ]
     },
     "metadata": {
      "tags": []
     },
     "output_type": "display_data"
    }
   ],
   "source": [
    "#그래프 크기 결정\n",
    "plt.figure(figsize = (12, 12))\n",
    "cmaps = [ 'Accent', 'Accent_r', 'Blues', 'Blues_r', 'BrBG', 'BrBG_r', 'BuGn', 'BuGn_r', 'BuPu', 'BuPu_r', 'CMRmap', 'CMRmap_r', 'Dark2', 'Dark2_r', 'GnBu', 'GnBu_r', 'Greens', 'Greens_r', 'Greys', 'Greys_r', 'OrRd', 'OrRd_r', 'Oranges', 'Oranges_r', 'PRGn', 'PRGn_r', 'Paired', 'Paired_r', 'Pastel1', 'Pastel1_r', 'Pastel2', 'Pastel2_r', 'PiYG', 'PiYG_r', 'PuBu', 'PuBuGn', 'PuBuGn_r', 'PuBu_r', 'PuOr', 'PuOr_r', 'PuRd', 'PuRd_r', 'Purples', 'Purples_r', 'RdBu', 'RdBu_r', 'RdGy', 'RdGy_r', 'RdPu', 'RdPu_r', 'RdYlBu', 'RdYlBu_r', 'RdYlGn', 'RdYlGn_r', 'Reds', 'Reds_r', 'Set1', 'Set1_r', 'Set2', 'Set2_r', 'Set3', 'Set3_r', 'Spectral', 'Spectral_r', 'Wistia', 'Wistia_r', 'YlGn', 'YlGnBu', 'YlGnBu_r', 'YlGn_r', 'YlOrBr', 'YlOrBr_r', 'YlOrRd', 'YlOrRd_r', 'afmhot', 'afmhot_r', 'autumn', 'autumn_r', 'binary', 'binary_r', 'bone', 'bone_r', 'brg', 'brg_r', 'bwr', 'bwr_r', 'cividis', 'cividis_r', 'cool', 'cool_r', 'coolwarm', 'coolwarm_r', 'copper', 'copper_r', 'crest', 'crest_r', 'cubehelix', 'cubehelix_r', 'flag', 'flag_r', 'flare', 'flare_r', 'gist_earth', 'gist_earth_r', 'gist_gray', 'gist_gray_r', 'gist_heat', 'gist_heat_r', 'gist_ncar', 'gist_ncar_r', 'gist_rainbow', 'gist_rainbow_r', 'gist_stern', 'gist_stern_r', 'gist_yarg', 'gist_yarg_r', 'gnuplot', 'gnuplot2', 'gnuplot2_r', 'gnuplot_r', 'gray', 'gray_r', 'hot', 'hot_r', 'hsv', 'hsv_r', 'icefire', 'icefire_r', 'inferno', 'inferno_r', 'jet', 'jet_r']"
   ]
  },
  {
   "cell_type": "code",
   "execution_count": 47,
   "metadata": {
    "colab": {
     "base_uri": "https://localhost:8080/",
     "height": 307
    },
    "id": "7oqCclrdkJTI",
    "outputId": "13a84ab3-55ef-49eb-e0a4-13bc0c14a2c3"
   },
   "outputs": [
    {
     "data": {
      "image/png": "[encoded data removed]",
      "text/plain": [
       "<Figure size 432x288 with 2 Axes>"
      ]
     },
     "metadata": {
      "needs_background": "light",
      "tags": []
     },
     "output_type": "display_data"
    }
   ],
   "source": [
    "# 변수간 상관관계\n",
    "np.random.seed(10)\n",
    "color = np.random.randint(low = 0, high = 40, size = 1)\n",
    "sns.heatmap(data = df.corr(), linewidths= 0.1, vmax = 0.5, cmap = cmaps[int(color)], linecolor='white', annot = True)\n",
    "plt.show()"
   ]
  },
  {
   "cell_type": "code",
   "execution_count": 48,
   "metadata": {
    "colab": {
     "base_uri": "https://localhost:8080/",
     "height": 242
    },
    "id": "dZA3-FKqmdz1",
    "outputId": "0e2f5373-be0f-4c51-eac4-29731df4eec6"
   },
   "outputs": [
    {
     "data": {
      "text/plain": [
       "<seaborn.axisgrid.FacetGrid at 0x7f059aae78d0>"
      ]
     },
     "execution_count": 48,
     "metadata": {
      "tags": []
     },
     "output_type": "execute_result"
    },
    {
     "data": {
      "image/png": "[encoded data removed]",
      "text/plain": [
       "<Figure size 432x216 with 2 Axes>"
      ]
     },
     "metadata": {
      "needs_background": "light",
      "tags": []
     },
     "output_type": "display_data"
    }
   ],
   "source": [
    "# plasma와 class항목만 따로 떼어 두 항목간의 관계 보기\n",
    "grid = sns.FacetGrid(df, col = 'class')\n",
    "grid.map(plt.hist, 'plasma', bins = 10) "
   ]
  },
  {
   "cell_type": "markdown",
   "metadata": {
    "id": "XDV9GsT9m0hM"
   },
   "source": [
    "## 당뇨병 예측 실행 "
   ]
  },
  {
   "cell_type": "code",
   "execution_count": 49,
   "metadata": {
    "id": "qq7cJkwKnQpr"
   },
   "outputs": [],
   "source": [
    "# seed값 생성\n",
    "np.random.seed(seed)\n",
    "tf.random.set_seed(seed)\n",
    "\n",
    "# 모델 설정\n",
    "model = Sequential()\n",
    "model.add(Dense(12, input_dim = 8, activation= 'relu'))\n",
    "model.add(Dense(8, activation='relu'))\n",
    "model.add(Dense(1, activation='sigmoid'))"
   ]
  },
  {
   "cell_type": "code",
   "execution_count": 50,
   "metadata": {
    "id": "dooUbmK8oFOv"
   },
   "outputs": [],
   "source": [
    "# 모델 컴파일\n",
    "model.compile(loss = 'binary_crossentropy', optimizer = 'adam', metrics=['accuracy'])"
   ]
  },
  {
   "cell_type": "code",
   "execution_count": 58,
   "metadata": {
    "colab": {
     "base_uri": "https://localhost:8080/"
    },
    "id": "jbvwu2sZoRpE",
    "outputId": "c5c801d6-bb3a-4ccc-ed99-c67d43d1ad0c"
   },
   "outputs": [
    {
     "name": "stdout",
     "output_type": "stream",
     "text": [
      "Epoch 1/200\n",
      "77/77 [==============================] - 0s 2ms/step - loss: 0.4653 - accuracy: 0.7812\n",
      "Epoch 2/200\n",
      "77/77 [==============================] - 0s 2ms/step - loss: 0.4652 - accuracy: 0.7799\n",
      "Epoch 3/200\n",
      "77/77 [==============================] - 0s 2ms/step - loss: 0.4614 - accuracy: 0.7682\n",
      "Epoch 4/200\n",
      "77/77 [==============================] - 0s 2ms/step - loss: 0.4608 - accuracy: 0.7760\n",
      "Epoch 5/200\n",
      "77/77 [==============================] - 0s 3ms/step - loss: 0.4652 - accuracy: 0.7747\n",
      "Epoch 6/200\n",
      "77/77 [==============================] - 0s 3ms/step - loss: 0.4653 - accuracy: 0.7721\n",
      "Epoch 7/200\n",
      "77/77 [==============================] - 0s 2ms/step - loss: 0.4727 - accuracy: 0.7591\n",
      "Epoch 8/200\n",
      "77/77 [==============================] - 0s 2ms/step - loss: 0.4756 - accuracy: 0.7682\n",
      "Epoch 9/200\n",
      "77/77 [==============================] - 0s 2ms/step - loss: 0.4696 - accuracy: 0.7643\n",
      "Epoch 10/200\n",
      "77/77 [==============================] - 0s 2ms/step - loss: 0.4615 - accuracy: 0.7708\n",
      "Epoch 11/200\n",
      "77/77 [==============================] - 0s 2ms/step - loss: 0.4620 - accuracy: 0.7812\n",
      "Epoch 12/200\n",
      "77/77 [==============================] - 0s 2ms/step - loss: 0.4593 - accuracy: 0.7865\n",
      "Epoch 13/200\n",
      "77/77 [==============================] - 0s 2ms/step - loss: 0.4538 - accuracy: 0.7747\n",
      "Epoch 14/200\n",
      "77/77 [==============================] - 0s 2ms/step - loss: 0.4779 - accuracy: 0.7630\n",
      "Epoch 15/200\n",
      "77/77 [==============================] - 0s 2ms/step - loss: 0.4585 - accuracy: 0.7747\n",
      "Epoch 16/200\n",
      "77/77 [==============================] - 0s 2ms/step - loss: 0.4538 - accuracy: 0.7773\n",
      "Epoch 17/200\n",
      "77/77 [==============================] - 0s 2ms/step - loss: 0.4582 - accuracy: 0.7839\n",
      "Epoch 18/200\n",
      "77/77 [==============================] - 0s 3ms/step - loss: 0.4610 - accuracy: 0.7747\n",
      "Epoch 19/200\n",
      "77/77 [==============================] - 0s 3ms/step - loss: 0.4625 - accuracy: 0.7708\n",
      "Epoch 20/200\n",
      "77/77 [==============================] - 0s 3ms/step - loss: 0.4580 - accuracy: 0.7760\n",
      "Epoch 21/200\n",
      "77/77 [==============================] - 0s 3ms/step - loss: 0.4575 - accuracy: 0.7826\n",
      "Epoch 22/200\n",
      "77/77 [==============================] - 0s 2ms/step - loss: 0.4577 - accuracy: 0.7734\n",
      "Epoch 23/200\n",
      "77/77 [==============================] - 0s 3ms/step - loss: 0.4622 - accuracy: 0.7812\n",
      "Epoch 24/200\n",
      "77/77 [==============================] - 0s 3ms/step - loss: 0.4552 - accuracy: 0.7747\n",
      "Epoch 25/200\n",
      "77/77 [==============================] - 0s 3ms/step - loss: 0.4602 - accuracy: 0.7708\n",
      "Epoch 26/200\n",
      "77/77 [==============================] - 0s 3ms/step - loss: 0.4555 - accuracy: 0.7760\n",
      "Epoch 27/200\n",
      "77/77 [==============================] - 0s 3ms/step - loss: 0.4642 - accuracy: 0.7643\n",
      "Epoch 28/200\n",
      "77/77 [==============================] - 0s 3ms/step - loss: 0.4557 - accuracy: 0.7878\n",
      "Epoch 29/200\n",
      "77/77 [==============================] - 0s 3ms/step - loss: 0.4601 - accuracy: 0.7708\n",
      "Epoch 30/200\n",
      "77/77 [==============================] - 0s 3ms/step - loss: 0.4581 - accuracy: 0.7734\n",
      "Epoch 31/200\n",
      "77/77 [==============================] - 0s 3ms/step - loss: 0.4568 - accuracy: 0.7839\n",
      "Epoch 32/200\n",
      "77/77 [==============================] - 0s 2ms/step - loss: 0.4611 - accuracy: 0.7708\n",
      "Epoch 33/200\n",
      "77/77 [==============================] - 0s 2ms/step - loss: 0.4629 - accuracy: 0.7708\n",
      "Epoch 34/200\n",
      "77/77 [==============================] - 0s 2ms/step - loss: 0.4570 - accuracy: 0.7812\n",
      "Epoch 35/200\n",
      "77/77 [==============================] - 0s 2ms/step - loss: 0.4517 - accuracy: 0.7930\n",
      "Epoch 36/200\n",
      "77/77 [==============================] - 0s 2ms/step - loss: 0.4590 - accuracy: 0.7656\n",
      "Epoch 37/200\n",
      "77/77 [==============================] - 0s 2ms/step - loss: 0.4550 - accuracy: 0.7812\n",
      "Epoch 38/200\n",
      "77/77 [==============================] - 0s 2ms/step - loss: 0.4522 - accuracy: 0.7865\n",
      "Epoch 39/200\n",
      "77/77 [==============================] - 0s 2ms/step - loss: 0.4584 - accuracy: 0.7721\n",
      "Epoch 40/200\n",
      "77/77 [==============================] - 0s 2ms/step - loss: 0.4613 - accuracy: 0.7643\n",
      "Epoch 41/200\n",
      "77/77 [==============================] - 0s 2ms/step - loss: 0.4550 - accuracy: 0.7786\n",
      "Epoch 42/200\n",
      "77/77 [==============================] - 0s 2ms/step - loss: 0.4545 - accuracy: 0.7799\n",
      "Epoch 43/200\n",
      "77/77 [==============================] - 0s 3ms/step - loss: 0.4640 - accuracy: 0.7656\n",
      "Epoch 44/200\n",
      "77/77 [==============================] - 0s 3ms/step - loss: 0.4494 - accuracy: 0.7878\n",
      "Epoch 45/200\n",
      "77/77 [==============================] - 0s 3ms/step - loss: 0.4799 - accuracy: 0.7513\n",
      "Epoch 46/200\n",
      "77/77 [==============================] - 0s 2ms/step - loss: 0.4584 - accuracy: 0.7799\n",
      "Epoch 47/200\n",
      "77/77 [==============================] - 0s 2ms/step - loss: 0.4536 - accuracy: 0.7773\n",
      "Epoch 48/200\n",
      "77/77 [==============================] - 0s 3ms/step - loss: 0.4484 - accuracy: 0.7786\n",
      "Epoch 49/200\n",
      "77/77 [==============================] - 0s 2ms/step - loss: 0.4549 - accuracy: 0.7773\n",
      "Epoch 50/200\n",
      "77/77 [==============================] - 0s 2ms/step - loss: 0.4640 - accuracy: 0.7865\n",
      "Epoch 51/200\n",
      "77/77 [==============================] - 0s 2ms/step - loss: 0.4499 - accuracy: 0.7852\n",
      "Epoch 52/200\n",
      "77/77 [==============================] - 0s 2ms/step - loss: 0.4469 - accuracy: 0.7747\n",
      "Epoch 53/200\n",
      "77/77 [==============================] - 0s 2ms/step - loss: 0.4525 - accuracy: 0.7760\n",
      "Epoch 54/200\n",
      "77/77 [==============================] - 0s 2ms/step - loss: 0.4481 - accuracy: 0.7904\n",
      "Epoch 55/200\n",
      "77/77 [==============================] - 0s 2ms/step - loss: 0.4510 - accuracy: 0.7812\n",
      "Epoch 56/200\n",
      "77/77 [==============================] - 0s 2ms/step - loss: 0.4579 - accuracy: 0.7812\n",
      "Epoch 57/200\n",
      "77/77 [==============================] - 0s 2ms/step - loss: 0.4716 - accuracy: 0.7669\n",
      "Epoch 58/200\n",
      "77/77 [==============================] - 0s 2ms/step - loss: 0.4482 - accuracy: 0.7865\n",
      "Epoch 59/200\n",
      "77/77 [==============================] - 0s 2ms/step - loss: 0.4573 - accuracy: 0.7799\n",
      "Epoch 60/200\n",
      "77/77 [==============================] - 0s 2ms/step - loss: 0.4485 - accuracy: 0.7904\n",
      "Epoch 61/200\n",
      "77/77 [==============================] - 0s 3ms/step - loss: 0.4587 - accuracy: 0.7839\n",
      "Epoch 62/200\n",
      "77/77 [==============================] - 0s 2ms/step - loss: 0.4688 - accuracy: 0.7826\n",
      "Epoch 63/200\n",
      "77/77 [==============================] - 0s 2ms/step - loss: 0.4534 - accuracy: 0.7839\n",
      "Epoch 64/200\n",
      "77/77 [==============================] - 0s 2ms/step - loss: 0.4520 - accuracy: 0.7891\n",
      "Epoch 65/200\n",
      "77/77 [==============================] - 0s 3ms/step - loss: 0.4561 - accuracy: 0.7812\n",
      "Epoch 66/200\n",
      "77/77 [==============================] - 0s 2ms/step - loss: 0.4596 - accuracy: 0.7656\n",
      "Epoch 67/200\n",
      "77/77 [==============================] - 0s 2ms/step - loss: 0.4557 - accuracy: 0.7826\n",
      "Epoch 68/200\n",
      "77/77 [==============================] - 0s 2ms/step - loss: 0.4557 - accuracy: 0.7747\n",
      "Epoch 69/200\n",
      "77/77 [==============================] - 0s 2ms/step - loss: 0.4451 - accuracy: 0.7891\n",
      "Epoch 70/200\n",
      "77/77 [==============================] - 0s 2ms/step - loss: 0.4540 - accuracy: 0.7891\n",
      "Epoch 71/200\n",
      "77/77 [==============================] - 0s 2ms/step - loss: 0.4525 - accuracy: 0.7812\n",
      "Epoch 72/200\n",
      "77/77 [==============================] - 0s 2ms/step - loss: 0.4508 - accuracy: 0.7760\n",
      "Epoch 73/200\n",
      "77/77 [==============================] - 0s 2ms/step - loss: 0.4550 - accuracy: 0.7826\n",
      "Epoch 74/200\n",
      "77/77 [==============================] - 0s 2ms/step - loss: 0.4509 - accuracy: 0.7917\n",
      "Epoch 75/200\n",
      "77/77 [==============================] - 0s 3ms/step - loss: 0.4533 - accuracy: 0.7826\n",
      "Epoch 76/200\n",
      "77/77 [==============================] - 0s 2ms/step - loss: 0.4572 - accuracy: 0.7773\n",
      "Epoch 77/200\n",
      "77/77 [==============================] - 0s 3ms/step - loss: 0.4505 - accuracy: 0.7878\n",
      "Epoch 78/200\n",
      "77/77 [==============================] - 0s 3ms/step - loss: 0.4488 - accuracy: 0.7891\n",
      "Epoch 79/200\n",
      "77/77 [==============================] - 0s 3ms/step - loss: 0.4577 - accuracy: 0.7747\n",
      "Epoch 80/200\n",
      "77/77 [==============================] - 0s 3ms/step - loss: 0.4470 - accuracy: 0.7917\n",
      "Epoch 81/200\n",
      "77/77 [==============================] - 0s 3ms/step - loss: 0.4488 - accuracy: 0.7839\n",
      "Epoch 82/200\n",
      "77/77 [==============================] - 0s 3ms/step - loss: 0.4483 - accuracy: 0.7891\n",
      "Epoch 83/200\n",
      "77/77 [==============================] - 0s 3ms/step - loss: 0.4513 - accuracy: 0.7812\n",
      "Epoch 84/200\n",
      "77/77 [==============================] - 0s 3ms/step - loss: 0.4501 - accuracy: 0.7760\n",
      "Epoch 85/200\n",
      "77/77 [==============================] - 0s 2ms/step - loss: 0.4500 - accuracy: 0.7852\n",
      "Epoch 86/200\n",
      "77/77 [==============================] - 0s 2ms/step - loss: 0.4486 - accuracy: 0.7865\n",
      "Epoch 87/200\n",
      "77/77 [==============================] - 0s 3ms/step - loss: 0.4451 - accuracy: 0.7865\n",
      "Epoch 88/200\n",
      "77/77 [==============================] - 0s 3ms/step - loss: 0.4509 - accuracy: 0.7930\n",
      "Epoch 89/200\n",
      "77/77 [==============================] - 0s 3ms/step - loss: 0.4506 - accuracy: 0.7786\n",
      "Epoch 90/200\n",
      "77/77 [==============================] - 0s 3ms/step - loss: 0.4582 - accuracy: 0.7760\n",
      "Epoch 91/200\n",
      "77/77 [==============================] - 0s 3ms/step - loss: 0.4600 - accuracy: 0.7708\n",
      "Epoch 92/200\n",
      "77/77 [==============================] - 0s 3ms/step - loss: 0.4515 - accuracy: 0.7891\n",
      "Epoch 93/200\n",
      "77/77 [==============================] - 0s 3ms/step - loss: 0.4451 - accuracy: 0.7812\n",
      "Epoch 94/200\n",
      "77/77 [==============================] - 0s 3ms/step - loss: 0.4393 - accuracy: 0.7878\n",
      "Epoch 95/200\n",
      "77/77 [==============================] - 0s 3ms/step - loss: 0.4628 - accuracy: 0.7852\n",
      "Epoch 96/200\n",
      "77/77 [==============================] - 0s 3ms/step - loss: 0.4465 - accuracy: 0.7708\n",
      "Epoch 97/200\n",
      "77/77 [==============================] - 0s 3ms/step - loss: 0.4451 - accuracy: 0.7891\n",
      "Epoch 98/200\n",
      "77/77 [==============================] - 0s 2ms/step - loss: 0.4519 - accuracy: 0.7917\n",
      "Epoch 99/200\n",
      "77/77 [==============================] - 0s 2ms/step - loss: 0.4511 - accuracy: 0.7786\n",
      "Epoch 100/200\n",
      "77/77 [==============================] - 0s 2ms/step - loss: 0.4431 - accuracy: 0.7943\n",
      "Epoch 101/200\n",
      "77/77 [==============================] - 0s 2ms/step - loss: 0.4492 - accuracy: 0.7708\n",
      "Epoch 102/200\n",
      "77/77 [==============================] - 0s 2ms/step - loss: 0.4432 - accuracy: 0.7943\n",
      "Epoch 103/200\n",
      "77/77 [==============================] - 0s 2ms/step - loss: 0.4440 - accuracy: 0.7904\n",
      "Epoch 104/200\n",
      "77/77 [==============================] - 0s 2ms/step - loss: 0.4462 - accuracy: 0.7956\n",
      "Epoch 105/200\n",
      "77/77 [==============================] - 0s 2ms/step - loss: 0.4357 - accuracy: 0.7930\n",
      "Epoch 106/200\n",
      "77/77 [==============================] - 0s 3ms/step - loss: 0.4460 - accuracy: 0.7878\n",
      "Epoch 107/200\n",
      "77/77 [==============================] - 0s 3ms/step - loss: 0.4386 - accuracy: 0.7930\n",
      "Epoch 108/200\n",
      "77/77 [==============================] - 0s 3ms/step - loss: 0.4421 - accuracy: 0.7943\n",
      "Epoch 109/200\n",
      "77/77 [==============================] - 0s 2ms/step - loss: 0.4461 - accuracy: 0.7747\n",
      "Epoch 110/200\n",
      "77/77 [==============================] - 0s 2ms/step - loss: 0.4524 - accuracy: 0.7760\n",
      "Epoch 111/200\n",
      "77/77 [==============================] - 0s 3ms/step - loss: 0.4408 - accuracy: 0.7969\n",
      "Epoch 112/200\n",
      "77/77 [==============================] - 0s 3ms/step - loss: 0.4388 - accuracy: 0.7943\n",
      "Epoch 113/200\n",
      "77/77 [==============================] - 0s 2ms/step - loss: 0.4415 - accuracy: 0.7839\n",
      "Epoch 114/200\n",
      "77/77 [==============================] - 0s 2ms/step - loss: 0.4392 - accuracy: 0.7839\n",
      "Epoch 115/200\n",
      "77/77 [==============================] - 0s 2ms/step - loss: 0.4448 - accuracy: 0.7930\n",
      "Epoch 116/200\n",
      "77/77 [==============================] - 0s 3ms/step - loss: 0.4383 - accuracy: 0.7852\n",
      "Epoch 117/200\n",
      "77/77 [==============================] - 0s 2ms/step - loss: 0.4438 - accuracy: 0.8060\n",
      "Epoch 118/200\n",
      "77/77 [==============================] - 0s 2ms/step - loss: 0.4369 - accuracy: 0.7943\n",
      "Epoch 119/200\n",
      "77/77 [==============================] - 0s 2ms/step - loss: 0.4409 - accuracy: 0.7982\n",
      "Epoch 120/200\n",
      "77/77 [==============================] - 0s 2ms/step - loss: 0.4370 - accuracy: 0.7891\n",
      "Epoch 121/200\n",
      "77/77 [==============================] - 0s 2ms/step - loss: 0.4356 - accuracy: 0.7891\n",
      "Epoch 122/200\n",
      "77/77 [==============================] - 0s 2ms/step - loss: 0.4404 - accuracy: 0.7891\n",
      "Epoch 123/200\n",
      "77/77 [==============================] - 0s 2ms/step - loss: 0.4380 - accuracy: 0.7878\n",
      "Epoch 124/200\n",
      "77/77 [==============================] - 0s 2ms/step - loss: 0.4352 - accuracy: 0.7812\n",
      "Epoch 125/200\n",
      "77/77 [==============================] - 0s 2ms/step - loss: 0.4426 - accuracy: 0.7891\n",
      "Epoch 126/200\n",
      "77/77 [==============================] - 0s 3ms/step - loss: 0.4470 - accuracy: 0.8034\n",
      "Epoch 127/200\n",
      "77/77 [==============================] - 0s 3ms/step - loss: 0.4352 - accuracy: 0.7878\n",
      "Epoch 128/200\n",
      "77/77 [==============================] - 0s 2ms/step - loss: 0.4461 - accuracy: 0.7943\n",
      "Epoch 129/200\n",
      "77/77 [==============================] - 0s 2ms/step - loss: 0.4513 - accuracy: 0.7799\n",
      "Epoch 130/200\n",
      "77/77 [==============================] - 0s 2ms/step - loss: 0.4363 - accuracy: 0.7956\n",
      "Epoch 131/200\n",
      "77/77 [==============================] - 0s 2ms/step - loss: 0.4351 - accuracy: 0.8008\n",
      "Epoch 132/200\n",
      "77/77 [==============================] - 0s 2ms/step - loss: 0.4352 - accuracy: 0.7969\n",
      "Epoch 133/200\n",
      "77/77 [==============================] - 0s 2ms/step - loss: 0.4351 - accuracy: 0.7930\n",
      "Epoch 134/200\n",
      "77/77 [==============================] - 0s 3ms/step - loss: 0.4450 - accuracy: 0.7891\n",
      "Epoch 135/200\n",
      "77/77 [==============================] - 0s 2ms/step - loss: 0.4399 - accuracy: 0.7956\n",
      "Epoch 136/200\n",
      "77/77 [==============================] - 0s 2ms/step - loss: 0.4409 - accuracy: 0.7878\n",
      "Epoch 137/200\n",
      "77/77 [==============================] - 0s 3ms/step - loss: 0.4461 - accuracy: 0.7930\n",
      "Epoch 138/200\n",
      "77/77 [==============================] - 0s 2ms/step - loss: 0.4537 - accuracy: 0.7865\n",
      "Epoch 139/200\n",
      "77/77 [==============================] - 0s 2ms/step - loss: 0.4424 - accuracy: 0.8008\n",
      "Epoch 140/200\n",
      "77/77 [==============================] - 0s 2ms/step - loss: 0.4412 - accuracy: 0.7943\n",
      "Epoch 141/200\n",
      "77/77 [==============================] - 0s 2ms/step - loss: 0.4340 - accuracy: 0.7891\n",
      "Epoch 142/200\n",
      "77/77 [==============================] - 0s 2ms/step - loss: 0.4384 - accuracy: 0.7956\n",
      "Epoch 143/200\n",
      "77/77 [==============================] - 0s 3ms/step - loss: 0.4505 - accuracy: 0.7812\n",
      "Epoch 144/200\n",
      "77/77 [==============================] - 0s 2ms/step - loss: 0.4369 - accuracy: 0.7852\n",
      "Epoch 145/200\n",
      "77/77 [==============================] - 0s 2ms/step - loss: 0.4420 - accuracy: 0.7826\n",
      "Epoch 146/200\n",
      "77/77 [==============================] - 0s 2ms/step - loss: 0.4358 - accuracy: 0.7969\n",
      "Epoch 147/200\n",
      "77/77 [==============================] - 0s 3ms/step - loss: 0.4350 - accuracy: 0.7826\n",
      "Epoch 148/200\n",
      "77/77 [==============================] - 0s 2ms/step - loss: 0.4433 - accuracy: 0.7891\n",
      "Epoch 149/200\n",
      "77/77 [==============================] - 0s 3ms/step - loss: 0.4360 - accuracy: 0.7930\n",
      "Epoch 150/200\n",
      "77/77 [==============================] - 0s 2ms/step - loss: 0.4304 - accuracy: 0.7943\n",
      "Epoch 151/200\n",
      "77/77 [==============================] - 0s 2ms/step - loss: 0.4449 - accuracy: 0.8099\n",
      "Epoch 152/200\n",
      "77/77 [==============================] - 0s 2ms/step - loss: 0.4372 - accuracy: 0.7773\n",
      "Epoch 153/200\n",
      "77/77 [==============================] - 0s 2ms/step - loss: 0.4339 - accuracy: 0.7969\n",
      "Epoch 154/200\n",
      "77/77 [==============================] - 0s 2ms/step - loss: 0.4369 - accuracy: 0.7982\n",
      "Epoch 155/200\n",
      "77/77 [==============================] - 0s 2ms/step - loss: 0.4342 - accuracy: 0.7878\n",
      "Epoch 156/200\n",
      "77/77 [==============================] - 0s 2ms/step - loss: 0.4321 - accuracy: 0.7969\n",
      "Epoch 157/200\n",
      "77/77 [==============================] - 0s 2ms/step - loss: 0.4336 - accuracy: 0.7969\n",
      "Epoch 158/200\n",
      "77/77 [==============================] - 0s 3ms/step - loss: 0.4344 - accuracy: 0.7904\n",
      "Epoch 159/200\n",
      "77/77 [==============================] - 0s 2ms/step - loss: 0.4334 - accuracy: 0.7969\n",
      "Epoch 160/200\n",
      "77/77 [==============================] - 0s 2ms/step - loss: 0.4373 - accuracy: 0.7878\n",
      "Epoch 161/200\n",
      "77/77 [==============================] - 0s 2ms/step - loss: 0.4365 - accuracy: 0.7917\n",
      "Epoch 162/200\n",
      "77/77 [==============================] - 0s 2ms/step - loss: 0.4350 - accuracy: 0.7917\n",
      "Epoch 163/200\n",
      "77/77 [==============================] - 0s 2ms/step - loss: 0.4377 - accuracy: 0.7995\n",
      "Epoch 164/200\n",
      "77/77 [==============================] - 0s 2ms/step - loss: 0.4351 - accuracy: 0.8086\n",
      "Epoch 165/200\n",
      "77/77 [==============================] - 0s 2ms/step - loss: 0.4350 - accuracy: 0.7930\n",
      "Epoch 166/200\n",
      "77/77 [==============================] - 0s 2ms/step - loss: 0.4256 - accuracy: 0.8086\n",
      "Epoch 167/200\n",
      "77/77 [==============================] - 0s 2ms/step - loss: 0.4374 - accuracy: 0.7917\n",
      "Epoch 168/200\n",
      "77/77 [==============================] - 0s 2ms/step - loss: 0.4297 - accuracy: 0.8034\n",
      "Epoch 169/200\n",
      "77/77 [==============================] - 0s 3ms/step - loss: 0.4262 - accuracy: 0.7982\n",
      "Epoch 170/200\n",
      "77/77 [==============================] - 0s 3ms/step - loss: 0.4281 - accuracy: 0.8060\n",
      "Epoch 171/200\n",
      "77/77 [==============================] - 0s 2ms/step - loss: 0.4241 - accuracy: 0.7904\n",
      "Epoch 172/200\n",
      "77/77 [==============================] - 0s 2ms/step - loss: 0.4303 - accuracy: 0.7917\n",
      "Epoch 173/200\n",
      "77/77 [==============================] - 0s 2ms/step - loss: 0.4356 - accuracy: 0.7943\n",
      "Epoch 174/200\n",
      "77/77 [==============================] - 0s 2ms/step - loss: 0.4465 - accuracy: 0.7982\n",
      "Epoch 175/200\n",
      "77/77 [==============================] - 0s 2ms/step - loss: 0.4394 - accuracy: 0.7943\n",
      "Epoch 176/200\n",
      "77/77 [==============================] - 0s 2ms/step - loss: 0.4325 - accuracy: 0.8034\n",
      "Epoch 177/200\n",
      "77/77 [==============================] - 0s 2ms/step - loss: 0.4359 - accuracy: 0.7891\n",
      "Epoch 178/200\n",
      "77/77 [==============================] - 0s 2ms/step - loss: 0.4357 - accuracy: 0.7904\n",
      "Epoch 179/200\n",
      "77/77 [==============================] - 0s 2ms/step - loss: 0.4378 - accuracy: 0.7878\n",
      "Epoch 180/200\n",
      "77/77 [==============================] - 0s 2ms/step - loss: 0.4290 - accuracy: 0.7852\n",
      "Epoch 181/200\n",
      "77/77 [==============================] - 0s 2ms/step - loss: 0.4442 - accuracy: 0.7943\n",
      "Epoch 182/200\n",
      "77/77 [==============================] - 0s 3ms/step - loss: 0.4335 - accuracy: 0.8034\n",
      "Epoch 183/200\n",
      "77/77 [==============================] - 0s 3ms/step - loss: 0.4212 - accuracy: 0.8112\n",
      "Epoch 184/200\n",
      "77/77 [==============================] - 0s 2ms/step - loss: 0.4229 - accuracy: 0.7969\n",
      "Epoch 185/200\n",
      "77/77 [==============================] - 0s 2ms/step - loss: 0.4256 - accuracy: 0.8008\n",
      "Epoch 186/200\n",
      "77/77 [==============================] - 0s 3ms/step - loss: 0.4274 - accuracy: 0.7865\n",
      "Epoch 187/200\n",
      "77/77 [==============================] - 0s 2ms/step - loss: 0.4389 - accuracy: 0.7904\n",
      "Epoch 188/200\n",
      "77/77 [==============================] - 0s 3ms/step - loss: 0.4272 - accuracy: 0.7982\n",
      "Epoch 189/200\n",
      "77/77 [==============================] - 0s 2ms/step - loss: 0.4256 - accuracy: 0.7982\n",
      "Epoch 190/200\n",
      "77/77 [==============================] - 0s 2ms/step - loss: 0.4350 - accuracy: 0.8060\n",
      "Epoch 191/200\n",
      "77/77 [==============================] - 0s 3ms/step - loss: 0.4303 - accuracy: 0.7956\n",
      "Epoch 192/200\n",
      "77/77 [==============================] - 0s 3ms/step - loss: 0.4230 - accuracy: 0.8073\n",
      "Epoch 193/200\n",
      "77/77 [==============================] - 0s 3ms/step - loss: 0.4257 - accuracy: 0.8086\n",
      "Epoch 194/200\n",
      "77/77 [==============================] - 0s 2ms/step - loss: 0.4422 - accuracy: 0.7904\n",
      "Epoch 195/200\n",
      "77/77 [==============================] - 0s 3ms/step - loss: 0.4299 - accuracy: 0.7969\n",
      "Epoch 196/200\n",
      "77/77 [==============================] - 0s 3ms/step - loss: 0.4357 - accuracy: 0.7891\n",
      "Epoch 197/200\n",
      "77/77 [==============================] - 0s 3ms/step - loss: 0.4296 - accuracy: 0.7982\n",
      "Epoch 198/200\n",
      "77/77 [==============================] - 0s 3ms/step - loss: 0.4304 - accuracy: 0.8021\n",
      "Epoch 199/200\n",
      "77/77 [==============================] - 0s 2ms/step - loss: 0.4356 - accuracy: 0.8021\n",
      "Epoch 200/200\n",
      "77/77 [==============================] - 0s 2ms/step - loss: 0.4318 - accuracy: 0.7904\n"
     ]
    },
    {
     "data": {
      "text/plain": [
       "<tensorflow.python.keras.callbacks.History at 0x7f059ab89320>"
      ]
     },
     "execution_count": 58,
     "metadata": {
      "tags": []
     },
     "output_type": "execute_result"
    }
   ],
   "source": [
    "# 모델 실행\n",
    "model.fit(X, Y, epochs = 200, batch_size= 10)"
   ]
  },
  {
   "cell_type": "code",
   "execution_count": 59,
   "metadata": {
    "colab": {
     "base_uri": "https://localhost:8080/"
    },
    "id": "Zrjd0nkYqN0v",
    "outputId": "01d30e76-3e49-44d4-f548-5e4d7edaacca"
   },
   "outputs": [
    {
     "name": "stdout",
     "output_type": "stream",
     "text": [
      "24/24 [==============================] - 0s 2ms/step - loss: 0.4382 - accuracy: 0.7839\n",
      "\n",
      " 정확도 : 0.7839\n"
     ]
    }
   ],
   "source": [
    "print(\"\\n 정확도 : %.4f\" % (model.evaluate(X, Y)[1]))"
   ]
  },
  {
   "cell_type": "markdown",
   "metadata": {
    "id": "UwlBabdHrTzw"
   },
   "source": [
    "## 예측값 테스트"
   ]
  },
  {
   "cell_type": "code",
   "execution_count": 62,
   "metadata": {
    "colab": {
     "base_uri": "https://localhost:8080/"
    },
    "id": "2YeRauEbpbq-",
    "outputId": "13e3b8f1-9b47-420c-c54a-37cb8a4d3b85"
   },
   "outputs": [
    {
     "name": "stderr",
     "output_type": "stream",
     "text": [
      "/usr/local/lib/python3.6/dist-packages/tensorflow/python/keras/engine/sequential.py:450: UserWarning: `model.predict_classes()` is deprecated and will be removed after 2021-01-01. Please use instead:* `np.argmax(model.predict(x), axis=-1)`,   if your model does multi-class classification   (e.g. if it uses a `softmax` last-layer activation).* `(model.predict(x) > 0.5).astype(\"int32\")`,   if your model does binary classification   (e.g. if it uses a `sigmoid` last-layer activation).\n",
      "  warnings.warn('`model.predict_classes()` is deprecated and '\n",
      "/usr/local/lib/python3.6/dist-packages/tensorflow/python/keras/engine/sequential.py:425: UserWarning: `model.predict_proba()` is deprecated and will be removed after 2021-01-01. Please use `model.predict()` instead.\n",
      "  warnings.warn('`model.predict_proba()` is deprecated and '\n"
     ]
    },
    {
     "data": {
      "text/plain": [
       "array([[0.8223256]], dtype=float32)"
      ]
     },
     "execution_count": 62,
     "metadata": {
      "tags": []
     },
     "output_type": "execute_result"
    }
   ],
   "source": [
    "# 첫번째 당뇨병 걸린 환자\n",
    "x = [[6,148,72,35,0,33.6,0.627,50]]\n",
    "model.predict_classes(x)   # 클래스 예측값(맞게 예측)\n",
    "model.predict_proba(x)     # 더 큰 확률"
   ]
  },
  {
   "cell_type": "code",
   "execution_count": 63,
   "metadata": {
    "colab": {
     "base_uri": "https://localhost:8080/"
    },
    "id": "U6aTwEuUr_z-",
    "outputId": "47bb704b-9d35-407b-8024-2be39e087210"
   },
   "outputs": [
    {
     "name": "stderr",
     "output_type": "stream",
     "text": [
      "/usr/local/lib/python3.6/dist-packages/tensorflow/python/keras/engine/sequential.py:450: UserWarning: `model.predict_classes()` is deprecated and will be removed after 2021-01-01. Please use instead:* `np.argmax(model.predict(x), axis=-1)`,   if your model does multi-class classification   (e.g. if it uses a `softmax` last-layer activation).* `(model.predict(x) > 0.5).astype(\"int32\")`,   if your model does binary classification   (e.g. if it uses a `sigmoid` last-layer activation).\n",
      "  warnings.warn('`model.predict_classes()` is deprecated and '\n"
     ]
    },
    {
     "data": {
      "text/plain": [
       "array([[0]], dtype=int32)"
      ]
     },
     "execution_count": 63,
     "metadata": {
      "tags": []
     },
     "output_type": "execute_result"
    }
   ],
   "source": [
    "x = [[1,85,66,29,0,26.6,0.351,31]]\n",
    "model.predict_classes(x)   # 클래스 예측값(맞게 예측)"
   ]
  }
 ],
 "metadata": {
  "accelerator": "GPU",
  "colab": {
   "collapsed_sections": [],
   "name": "DL모델설계.ipynb",
   "provenance": [],
   "toc_visible": true
  },
  "kernelspec": {
   "display_name": "Python 3",
   "language": "python",
   "name": "python3"
  },
  "language_info": {
   "codemirror_mode": {
    "name": "ipython",
    "version": 3
   },
   "file_extension": ".py",
   "mimetype": "text/x-python",
   "name": "python",
   "nbconvert_exporter": "python",
   "pygments_lexer": "ipython3",
   "version": "3.8.3"
  }
 },
 "nbformat": 4,
 "nbformat_minor": 1
}
