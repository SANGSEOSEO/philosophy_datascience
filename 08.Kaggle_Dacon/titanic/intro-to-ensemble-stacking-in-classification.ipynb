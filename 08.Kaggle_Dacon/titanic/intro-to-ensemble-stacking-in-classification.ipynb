{
 "cells": [
  {
   "cell_type": "markdown",
   "metadata": {
    "_cell_guid": "bc64948f-5d6a-078d-085d-1beb58687bd3",
    "_uuid": "e919d1161f20999e599ba1fd66a5a45b9c82f229"
   },
   "source": [
    "# 앙상블 및 스태킹 소개\n",
    "\n",
    "이 캐글 노트북은 스태킹으로 알려진 앙상블 기법을 소개하고자 합니다.\n",
    "\n",
    "앙상블 기법은 좀 덜 떨어지는 여러 대의 분류기가 학습 데이터를 학습 및 예측하여 나온 예측 결과를 다수결로 결정하는 방식과 동일한 분류기\n",
    "\n",
    "를 사용하지만 각각의 학습 데이터를 샘플링을 달리하여 예측한 결과를 평균값으로 결정하는 방식이 있다.\n",
    "\n",
    "스태킹기법은 각각의 분류기가 학습 후 예측한 결과를 볏짚 쌓듯이 차곡차곡 쌓아서 이를 다시 최종 메타 분류기가 다시 한번 학습 및 예측하는 기법.\n",
    "\n",
    "해당 노트북은 [Stacking Starter][1]: by Faron  , [arthurtok][2] : by arthurtok 에 의해 쓰여진 캐글 노트북을 참고했습니다.\n",
    "\n",
    "또한 최근의 [Introduction to Ensembling/Stacking in Python][3] 을 바탕으로 작성된 캐글임을 밝힙니다. \n",
    "\n",
    "피처엔지니어링에 대한 좋은 캐글은 [Titanic Best Working Classfier][4] 이 글을 참고하셔도 좋습니다.\n",
    "\n",
    "\"책을 읽는다는 것은 단순히 활자를 읽는다는 것이 아니라 , 그 시대를 읽는것이다\"\n",
    "\n",
    "  [1]: https://www.kaggle.com/mmueller/allstate-claims-severity/stacking-starter/run/390867\n",
    "  [2]: https://www.kaggle.com/arthurtok/titanic/simple-stacking-with-xgboost-0-808\n",
    "  [3]: https://www.kaggle.com/arthurtok/introduction-to-ensembling-stacking-in-python\n",
    "  [4]: https://www.kaggle.com/sinakhorami/titanic/titanic-best-working-classifier"
   ]
  },
  {
   "cell_type": "markdown",
   "metadata": {},
   "source": [
    "# Load library"
   ]
  },
  {
   "cell_type": "code",
   "execution_count": 1,
   "metadata": {
    "execution": {
     "iopub.execute_input": "2021-08-05T21:32:21.954698Z",
     "iopub.status.busy": "2021-08-05T21:32:21.954194Z",
     "iopub.status.idle": "2021-08-05T21:32:23.256364Z",
     "shell.execute_reply": "2021-08-05T21:32:23.255585Z",
     "shell.execute_reply.started": "2021-08-05T21:32:21.954655Z"
    }
   },
   "outputs": [
    {
     "data": {
      "text/html": [
       "<script>requirejs.config({paths: { 'plotly': ['https://cdn.plot.ly/plotly-latest.min']},});if(!window.Plotly) {{require(['plotly'],function(plotly) {window.Plotly=plotly;});}}</script>"
      ],
      "text/vnd.plotly.v1+html": [
       "<script>requirejs.config({paths: { 'plotly': ['https://cdn.plot.ly/plotly-latest.min']},});if(!window.Plotly) {{require(['plotly'],function(plotly) {window.Plotly=plotly;});}}</script>"
      ]
     },
     "metadata": {},
     "output_type": "display_data"
    }
   ],
   "source": [
    "import pandas as pd\n",
    "import numpy as np\n",
    "import sklearn \n",
    "import numpy as np\n",
    "import re\n",
    "import matplotlib.pyplot as plt\n",
    "import seaborn as sns\n",
    "%matplotlib inline\n",
    "\n",
    "from sklearn.ensemble import (RandomForestClassifier, AdaBoostClassifier, GradientBoostingClassifier, ExtraTreesClassifier)\n",
    "from sklearn.svm import SVC\n",
    "from xgboost import XGBClassifier\n",
    "\n",
    "# plotly를 이용한 시각화\n",
    "import plotly.offline as py\n",
    "py.init_notebook_mode(connected=True)\n",
    "import plotly.graph_objs as go\n",
    "import plotly.tools as tls\n",
    "\n",
    "import warnings \n",
    "warnings.filterwarnings('ignore')\n",
    "\n",
    "# target directory for submission file\n",
    "target_dir = '/kaggle/working/'"
   ]
  },
  {
   "cell_type": "markdown",
   "metadata": {
    "_cell_guid": "d647b74c-099b-851a-dcd2-3a58c9e8f10c",
    "_uuid": "8b590aafe06a2ac55daae9d2456155e457914f5f"
   },
   "source": [
    "# Feature Exploration, Engineering and Cleaning \n",
    "\n",
    "범주형 피처에 대해서 숫자형으로 인코딩, 피처 엔지니어링, EDA및 데이터 정제 진행"
   ]
  },
  {
   "cell_type": "code",
   "execution_count": 2,
   "metadata": {
    "execution": {
     "iopub.execute_input": "2021-08-05T21:32:26.894299Z",
     "iopub.status.busy": "2021-08-05T21:32:26.893666Z",
     "iopub.status.idle": "2021-08-05T21:32:26.901357Z",
     "shell.execute_reply": "2021-08-05T21:32:26.900745Z",
     "shell.execute_reply.started": "2021-08-05T21:32:26.894249Z"
    }
   },
   "outputs": [
    {
     "name": "stdout",
     "output_type": "stream",
     "text": [
      "/kaggle/input/titanic\n"
     ]
    }
   ],
   "source": [
    "%cd ../input/titanic"
   ]
  },
  {
   "cell_type": "code",
   "execution_count": 3,
   "metadata": {
    "execution": {
     "iopub.execute_input": "2021-08-05T21:32:29.510617Z",
     "iopub.status.busy": "2021-08-05T21:32:29.510269Z",
     "iopub.status.idle": "2021-08-05T21:32:29.622939Z",
     "shell.execute_reply": "2021-08-05T21:32:29.622256Z",
     "shell.execute_reply.started": "2021-08-05T21:32:29.510566Z"
    }
   },
   "outputs": [
    {
     "data": {
      "text/html": [
       "<div>\n",
       "<style scoped>\n",
       "    .dataframe tbody tr th:only-of-type {\n",
       "        vertical-align: middle;\n",
       "    }\n",
       "\n",
       "    .dataframe tbody tr th {\n",
       "        vertical-align: top;\n",
       "    }\n",
       "\n",
       "    .dataframe thead th {\n",
       "        text-align: right;\n",
       "    }\n",
       "</style>\n",
       "<table border=\"1\" class=\"dataframe\">\n",
       "  <thead>\n",
       "    <tr style=\"text-align: right;\">\n",
       "      <th></th>\n",
       "      <th>PassengerId</th>\n",
       "      <th>Survived</th>\n",
       "      <th>Pclass</th>\n",
       "      <th>Name</th>\n",
       "      <th>Sex</th>\n",
       "      <th>Age</th>\n",
       "      <th>SibSp</th>\n",
       "      <th>Parch</th>\n",
       "      <th>Ticket</th>\n",
       "      <th>Fare</th>\n",
       "      <th>Cabin</th>\n",
       "      <th>Embarked</th>\n",
       "    </tr>\n",
       "  </thead>\n",
       "  <tbody>\n",
       "    <tr>\n",
       "      <th>0</th>\n",
       "      <td>1</td>\n",
       "      <td>0</td>\n",
       "      <td>3</td>\n",
       "      <td>Braund, Mr. Owen Harris</td>\n",
       "      <td>male</td>\n",
       "      <td>22.0</td>\n",
       "      <td>1</td>\n",
       "      <td>0</td>\n",
       "      <td>A/5 21171</td>\n",
       "      <td>7.2500</td>\n",
       "      <td>NaN</td>\n",
       "      <td>S</td>\n",
       "    </tr>\n",
       "    <tr>\n",
       "      <th>1</th>\n",
       "      <td>2</td>\n",
       "      <td>1</td>\n",
       "      <td>1</td>\n",
       "      <td>Cumings, Mrs. John Bradley (Florence Briggs Th...</td>\n",
       "      <td>female</td>\n",
       "      <td>38.0</td>\n",
       "      <td>1</td>\n",
       "      <td>0</td>\n",
       "      <td>PC 17599</td>\n",
       "      <td>71.2833</td>\n",
       "      <td>C85</td>\n",
       "      <td>C</td>\n",
       "    </tr>\n",
       "  </tbody>\n",
       "</table>\n",
       "</div>"
      ],
      "text/plain": [
       "   PassengerId  Survived  Pclass    ...        Fare Cabin  Embarked\n",
       "0            1         0       3    ...      7.2500   NaN         S\n",
       "1            2         1       1    ...     71.2833   C85         C\n",
       "\n",
       "[2 rows x 12 columns]"
      ]
     },
     "metadata": {},
     "output_type": "display_data"
    },
    {
     "data": {
      "text/plain": [
       "'\\n'"
      ]
     },
     "metadata": {},
     "output_type": "display_data"
    },
    {
     "data": {
      "text/plain": [
       "(891, 12)"
      ]
     },
     "metadata": {},
     "output_type": "display_data"
    },
    {
     "data": {
      "text/plain": [
       "(418, 11)"
      ]
     },
     "metadata": {},
     "output_type": "display_data"
    },
    {
     "name": "stdout",
     "output_type": "stream",
     "text": [
      "<class 'pandas.core.frame.DataFrame'>\n",
      "RangeIndex: 891 entries, 0 to 890\n",
      "Data columns (total 12 columns):\n",
      "PassengerId    891 non-null int64\n",
      "Survived       891 non-null int64\n",
      "Pclass         891 non-null int64\n",
      "Name           891 non-null object\n",
      "Sex            891 non-null object\n",
      "Age            714 non-null float64\n",
      "SibSp          891 non-null int64\n",
      "Parch          891 non-null int64\n",
      "Ticket         891 non-null object\n",
      "Fare           891 non-null float64\n",
      "Cabin          204 non-null object\n",
      "Embarked       889 non-null object\n",
      "dtypes: float64(2), int64(5), object(5)\n",
      "memory usage: 83.6+ KB\n"
     ]
    },
    {
     "data": {
      "text/plain": [
       "None"
      ]
     },
     "metadata": {},
     "output_type": "display_data"
    },
    {
     "name": "stdout",
     "output_type": "stream",
     "text": [
      "<class 'pandas.core.frame.DataFrame'>\n",
      "RangeIndex: 418 entries, 0 to 417\n",
      "Data columns (total 11 columns):\n",
      "PassengerId    418 non-null int64\n",
      "Pclass         418 non-null int64\n",
      "Name           418 non-null object\n",
      "Sex            418 non-null object\n",
      "Age            332 non-null float64\n",
      "SibSp          418 non-null int64\n",
      "Parch          418 non-null int64\n",
      "Ticket         418 non-null object\n",
      "Fare           417 non-null float64\n",
      "Cabin          91 non-null object\n",
      "Embarked       418 non-null object\n",
      "dtypes: float64(2), int64(4), object(5)\n",
      "memory usage: 36.0+ KB\n"
     ]
    },
    {
     "data": {
      "text/plain": [
       "None"
      ]
     },
     "metadata": {},
     "output_type": "display_data"
    }
   ],
   "source": [
    "def load_dataset():\n",
    "    \"\"\"\n",
    "    데이터셋 로드\n",
    "    \"\"\"\n",
    "    train = pd.read_csv(\"train.csv\")\n",
    "    test  = pd.read_csv(\"test.csv\")\n",
    "    \n",
    "    PassengerId = test[\"PassengerId\"]\n",
    "    \n",
    "    display(train.head(n=2), \"\\n\", train.shape, test.shape)\n",
    "    display(train.info())\n",
    "    display(test.info())\n",
    "    \n",
    "    full_data = [train, test]\n",
    "    \n",
    "    return train, test, PassengerId, full_data\n",
    "\n",
    "# 데이터셋로드 \n",
    "train, test, PassengerId, full_data = load_dataset()"
   ]
  },
  {
   "cell_type": "markdown",
   "metadata": {
    "_cell_guid": "dff1c1dd-1e59-3907-88fa-1a1d699122be",
    "_uuid": "81378834770e55c76751347588322fe32acf5737"
   },
   "source": [
    "범주형 변수(categorical variables)에서 인사이트를 찾아 새로운 파생변수를 생성하는 것이 피처 엔지니어링이라고 할 수 있다.\n",
    "\n",
    "**피처 엔지니어링**\n",
    "\n",
    "피처 엔지니어링에 대해서 아래 케글의 노트북을 참고하시면 좋을 것 같습니다.\n",
    "\n",
    "[Titanic Best Working Classfier][1] : by Sina\n",
    "\n",
    "  [1]: https://www.kaggle.com/sinakhorami/titanic/titanic-best-working-classifier"
   ]
  },
  {
   "cell_type": "code",
   "execution_count": 4,
   "metadata": {
    "execution": {
     "iopub.execute_input": "2021-08-05T21:36:09.464787Z",
     "iopub.status.busy": "2021-08-05T21:36:09.464332Z",
     "iopub.status.idle": "2021-08-05T21:36:09.476044Z",
     "shell.execute_reply": "2021-08-05T21:36:09.475438Z",
     "shell.execute_reply.started": "2021-08-05T21:36:09.464745Z"
    }
   },
   "outputs": [
    {
     "data": {
      "text/plain": [
       "(16.336, 32.252]    346\n",
       "(32.252, 48.168]    188\n",
       "(0.34, 16.336]      100\n",
       "(48.168, 64.084]     69\n",
       "(64.084, 80.0]       11\n",
       "Name: Age, dtype: int64"
      ]
     },
     "execution_count": 4,
     "metadata": {},
     "output_type": "execute_result"
    }
   ],
   "source": [
    "# Age피처를 5개의 범주형 데이터로 나눈 결과르 빈도수 확인\n",
    "pd.cut(train['Age'], 5).value_counts()"
   ]
  },
  {
   "cell_type": "code",
   "execution_count": 5,
   "metadata": {
    "execution": {
     "iopub.execute_input": "2021-08-05T21:35:55.726167Z",
     "iopub.status.busy": "2021-08-05T21:35:55.725898Z",
     "iopub.status.idle": "2021-08-05T21:35:55.739938Z",
     "shell.execute_reply": "2021-08-05T21:35:55.739354Z",
     "shell.execute_reply.started": "2021-08-05T21:35:55.726133Z"
    }
   },
   "outputs": [
    {
     "data": {
      "text/plain": [
       "(-0.512, 128.082]     853\n",
       "(128.082, 256.165]     29\n",
       "(256.165, 384.247]      6\n",
       "(384.247, 512.329]      3\n",
       "Name: Fare, dtype: int64"
      ]
     },
     "execution_count": 5,
     "metadata": {},
     "output_type": "execute_result"
    }
   ],
   "source": [
    "# Fare피처를 4개의 범주형 데이터로 나눈 결과를 빈도수 확인\n",
    "pd.cut(train['Fare'], 4).value_counts()"
   ]
  },
  {
   "cell_type": "code",
   "execution_count": 6,
   "metadata": {
    "execution": {
     "iopub.execute_input": "2021-08-05T21:37:11.466686Z",
     "iopub.status.busy": "2021-08-05T21:37:11.466069Z",
     "iopub.status.idle": "2021-08-05T21:37:12.114175Z",
     "shell.execute_reply": "2021-08-05T21:37:12.113302Z",
     "shell.execute_reply.started": "2021-08-05T21:37:11.466635Z"
    }
   },
   "outputs": [],
   "source": [
    "full_data = [train, test]\n",
    "\n",
    "# Some features of my own that I have added in\n",
    "# Gives the length of the name\n",
    "train['Name_length'] = train['Name'].apply(len)\n",
    "test['Name_length'] = test['Name'].apply(len)\n",
    "# Feature that tells whether a passenger had a cabin on the Titanic\n",
    "train['Has_Cabin'] = train[\"Cabin\"].apply(lambda x: 0 if type(x) == float else 1)\n",
    "test['Has_Cabin'] = test[\"Cabin\"].apply(lambda x: 0 if type(x) == float else 1)\n",
    "\n",
    "# Feature engineering steps taken from Sina\n",
    "# Create new feature FamilySize as a combination of SibSp and Parch\n",
    "for dataset in full_data:\n",
    "    dataset['FamilySize'] = dataset['SibSp'] + dataset['Parch'] + 1\n",
    "# Create new feature IsAlone from FamilySize\n",
    "for dataset in full_data:\n",
    "    dataset['IsAlone'] = 0\n",
    "    dataset.loc[dataset['FamilySize'] == 1, 'IsAlone'] = 1\n",
    "# Remove all NULLS in the Embarked column\n",
    "for dataset in full_data:\n",
    "    dataset['Embarked'] = dataset['Embarked'].fillna('S')\n",
    "# Remove all NULLS in the Fare column and create a new feature CategoricalFare\n",
    "for dataset in full_data:\n",
    "    dataset['Fare'] = dataset['Fare'].fillna(train['Fare'].median())\n",
    "train['CategoricalFare'] = pd.qcut(train['Fare'], 4)\n",
    "# Create a New feature CategoricalAge\n",
    "for dataset in full_data:\n",
    "    age_avg = dataset['Age'].mean()\n",
    "    age_std = dataset['Age'].std()\n",
    "    age_null_count = dataset['Age'].isnull().sum()\n",
    "    age_null_random_list = np.random.randint(age_avg - age_std, age_avg + age_std, size=age_null_count)\n",
    "    dataset['Age'][np.isnan(dataset['Age'])] = age_null_random_list\n",
    "    dataset['Age'] = dataset['Age'].astype(int)\n",
    "train['CategoricalAge'] = pd.cut(train['Age'], 5)\n",
    "# Define function to extract titles from passenger names\n",
    "def get_title(name):\n",
    "    title_search = re.search(' ([A-Za-z]+)\\.', name)\n",
    "    # If the title exists, extract and return it.\n",
    "    if title_search:\n",
    "        return title_search.group(1)\n",
    "    return \"\"\n",
    "# Create a new feature Title, containing the titles of passenger names\n",
    "for dataset in full_data:\n",
    "    dataset['Title'] = dataset['Name'].apply(get_title)\n",
    "# Group all non-common titles into one single grouping \"Rare\"\n",
    "for dataset in full_data:\n",
    "    dataset['Title'] = dataset['Title'].replace(['Lady', 'Countess','Capt', 'Col','Don', 'Dr', 'Major', 'Rev', 'Sir', 'Jonkheer', 'Dona'], 'Rare')\n",
    "\n",
    "    dataset['Title'] = dataset['Title'].replace('Mlle', 'Miss')\n",
    "    dataset['Title'] = dataset['Title'].replace('Ms', 'Miss')\n",
    "    dataset['Title'] = dataset['Title'].replace('Mme', 'Mrs')\n",
    "\n",
    "for dataset in full_data:\n",
    "    # Mapping Sex\n",
    "    dataset['Sex'] = dataset['Sex'].map( {'female': 0, 'male': 1} ).astype(int)\n",
    "    \n",
    "    # Mapping titles\n",
    "    title_mapping = {\"Mr\": 1, \"Miss\": 2, \"Mrs\": 3, \"Master\": 4, \"Rare\": 5}\n",
    "    dataset['Title'] = dataset['Title'].map(title_mapping)\n",
    "    dataset['Title'] = dataset['Title'].fillna(0)\n",
    "    \n",
    "    # Mapping Embarked\n",
    "    dataset['Embarked'] = dataset['Embarked'].map( {'S': 0, 'C': 1, 'Q': 2} ).astype(int)\n",
    "    \n",
    "    # Mapping Fare\n",
    "    dataset.loc[ dataset['Fare'] <= 7.91, 'Fare'] \t\t\t\t\t\t        = 0\n",
    "    dataset.loc[(dataset['Fare'] > 7.91) & (dataset['Fare'] <= 14.454), 'Fare'] = 1\n",
    "    dataset.loc[(dataset['Fare'] > 14.454) & (dataset['Fare'] <= 31), 'Fare']   = 2\n",
    "    dataset.loc[ dataset['Fare'] > 31, 'Fare'] \t\t\t\t\t\t\t        = 3\n",
    "    dataset['Fare'] = dataset['Fare'].astype(int)\n",
    "    \n",
    "    # Mapping Age\n",
    "    dataset.loc[ dataset['Age'] <= 16, 'Age'] \t\t\t\t\t       = 0\n",
    "    dataset.loc[(dataset['Age'] > 16) & (dataset['Age'] <= 32), 'Age'] = 1\n",
    "    dataset.loc[(dataset['Age'] > 32) & (dataset['Age'] <= 48), 'Age'] = 2\n",
    "    dataset.loc[(dataset['Age'] > 48) & (dataset['Age'] <= 64), 'Age'] = 3\n",
    "    dataset.loc[ dataset['Age'] > 64, 'Age'] = 4 ;"
   ]
  },
  {
   "cell_type": "code",
   "execution_count": 7,
   "metadata": {
    "execution": {
     "iopub.execute_input": "2021-08-05T21:37:20.482818Z",
     "iopub.status.busy": "2021-08-05T21:37:20.482523Z",
     "iopub.status.idle": "2021-08-05T21:37:20.493391Z",
     "shell.execute_reply": "2021-08-05T21:37:20.492558Z",
     "shell.execute_reply.started": "2021-08-05T21:37:20.482774Z"
    }
   },
   "outputs": [],
   "source": [
    "# Feature selection\n",
    "drop_elements = ['PassengerId', 'Name', 'Ticket', 'Cabin', 'SibSp']\n",
    "train = train.drop(drop_elements, axis = 1)\n",
    "train = train.drop(['CategoricalAge', 'CategoricalFare'], axis = 1)\n",
    "test  = test.drop(drop_elements, axis = 1)"
   ]
  },
  {
   "cell_type": "markdown",
   "metadata": {
    "_cell_guid": "e9814168-b7cd-d4e4-1b1d-e21c6637a663",
    "_uuid": "dd288776321804d99e4e4a7e88594c1d631e4409"
   },
   "source": [
    "## 시각화 "
   ]
  },
  {
   "cell_type": "markdown",
   "metadata": {
    "_cell_guid": "41102927-8218-415a-0b73-5129c8f5dd0c",
    "_uuid": "3544b03040a1d691f6c48433c84d1e57f3c15e3d"
   },
   "source": [
    "**Pearson Correlation Heatmap**\n",
    "\n",
    "피처간의 상관관계를 한번 보도록 하자"
   ]
  },
  {
   "cell_type": "code",
   "execution_count": 8,
   "metadata": {
    "execution": {
     "iopub.execute_input": "2021-08-05T21:37:26.605042Z",
     "iopub.status.busy": "2021-08-05T21:37:26.604524Z",
     "iopub.status.idle": "2021-08-05T21:37:26.616130Z",
     "shell.execute_reply": "2021-08-05T21:37:26.615525Z",
     "shell.execute_reply.started": "2021-08-05T21:37:26.604972Z"
    }
   },
   "outputs": [],
   "source": [
    "cmaps = ['Accent', 'Accent_r', 'Blues', 'Blues_r', 'BrBG', 'BrBG_r', 'BuGn', 'BuGn_r', 'BuPu', 'BuPu_r', 'CMRmap', 'CMRmap_r', 'Dark2', 'Dark2_r', 'GnBu', 'GnBu_r', 'Greens', 'Greens_r', 'Greys', 'Greys_r', 'OrRd', 'OrRd_r', 'Oranges', 'Oranges_r', 'PRGn', 'PRGn_r', 'Paired', 'Paired_r', 'Pastel1', 'Pastel1_r', 'Pastel2', 'Pastel2_r', 'PiYG', 'PiYG_r', 'PuBu', 'PuBuGn', 'PuBuGn_r', 'PuBu_r', 'PuOr', 'PuOr_r', 'PuRd', 'PuRd_r', 'Purples', 'Purples_r', 'RdBu', 'RdBu_r', 'RdGy', 'RdGy_r', 'RdPu', 'RdPu_r', 'RdYlBu', 'RdYlBu_r', 'RdYlGn', 'RdYlGn_r', 'Reds', 'Reds_r', 'Set1', 'Set1_r', 'Set2', 'Set2_r', 'Set3', 'Set3_r', 'Spectral', 'Spectral_r', 'Wistia', 'Wistia_r', 'YlGn', 'YlGnBu', 'YlGnBu_r', 'YlGn_r', 'YlOrBr', 'YlOrBr_r', 'YlOrRd', 'YlOrRd_r', 'afmhot', 'afmhot_r', 'autumn', 'autumn_r', 'binary', 'binary_r', 'bone', 'bone_r', 'brg', 'brg_r', 'bwr', 'bwr_r', 'cividis', 'cividis_r', 'cool', 'cool_r', 'coolwarm', 'coolwarm_r', 'copper', 'copper_r', 'crest', 'crest_r', 'cubehelix', 'cubehelix_r', 'flag', 'flag_r', 'flare', 'flare_r', 'gist_earth', 'gist_earth_r', 'gist_gray', 'gist_gray_r', 'gist_heat', 'gist_heat_r', 'gist_ncar', 'gist_ncar_r', 'gist_rainbow', 'gist_rainbow_r', 'gist_stern', 'gist_stern_r', 'gist_yarg', 'gist_yarg_r', 'gnuplot', 'gnuplot2', 'gnuplot2_r', 'gnuplot_r', 'gray', 'gray_r', 'hot', 'hot_r', 'hsv', 'hsv_r', 'icefire', 'icefire_r', 'inferno', 'inferno_r', 'jet', 'jet_r', 'magma', 'magma_r', 'mako', 'mako_r', 'nipy_spectral', 'nipy_spectral_r', 'ocean', 'ocean_r', 'pink', 'pink_r', 'plasma', 'plasma_r', 'prism', 'prism_r', 'rainbow', 'rainbow_r', 'rocket', 'rocket_r', 'seismic', 'seismic_r', 'spring', 'spring_r', 'summer', 'summer_r', 'tab10', 'tab10_r', 'tab20', 'tab20_r', 'tab20b', 'tab20b_r', 'tab20c', 'tab20c_r', 'terrain', 'terrain_r', 'turbo', 'turbo_r', 'twilight', 'twilight_r', 'twilight_shifted', 'twilight_shifted_r', 'viridis', 'viridis_r', 'vlag', 'vlag_r', 'winter', 'winter_r']"
   ]
  },
  {
   "cell_type": "code",
   "execution_count": 9,
   "metadata": {
    "execution": {
     "iopub.execute_input": "2021-08-05T21:37:27.975782Z",
     "iopub.status.busy": "2021-08-05T21:37:27.975441Z",
     "iopub.status.idle": "2021-08-05T21:37:28.648808Z",
     "shell.execute_reply": "2021-08-05T21:37:28.647912Z",
     "shell.execute_reply.started": "2021-08-05T21:37:27.975735Z"
    }
   },
   "outputs": [
    {
     "data": {
      "text/plain": [
       "<matplotlib.axes._subplots.AxesSubplot at 0x7ff2e771a668>"
      ]
     },
     "execution_count": 9,
     "metadata": {},
     "output_type": "execute_result"
    },
    {
     "data": {
      "image/png": "[encoded data removed]",
      "text/plain": [
       "<matplotlib.figure.Figure at 0x7ff2e771a4a8>"
      ]
     },
     "metadata": {},
     "output_type": "display_data"
    }
   ],
   "source": [
    "plt.figure(figsize=(14, 12))\n",
    "plt.title(\"Person Correlation of Features\", y = 1.05, size = 15)\n",
    "sns.heatmap(train.astype(float).corr(), linewidth=0.1, vmax=1.0, square=True, cmap=\"summer_r\", linecolor=\"white\", annot=True)"
   ]
  },
  {
   "cell_type": "markdown",
   "metadata": {
    "_cell_guid": "ccc92745-0680-df4d-d709-10003475d8e3",
    "_uuid": "b6c7a1ea3866d177016a1e13c5d9e7341c49c147"
   },
   "source": [
    "**Takeaway from the Plots**\n",
    "\n",
    "FamilySize와 가장 연관이 있는 피처는 Parch(Parents and Children)이다. \n",
    "\n",
    "히트맵을 보면, 강한 상관관계를 갖는 피처들이 그렇게 많이 보이지 않는다는 점이다. ML모델을 학습하기에는 좋은 데이터의 분포라고 할수있다.(중복되는 피처가 적고, 학습세트에 과적합되는 사례가 줄어듬)\n",
    "\n",
    "\n",
    "**Pairplots**\n",
    "\n",
    "Pairplots는 한 피처와 다른 피처와의 데이터 분포도를 확인하는 것\n",
    "\n",
    "[PairPlot Document](https://seaborn.pydata.org/generated/seaborn.pairplot.html?highlight=pairplot#seaborn.pairplot)"
   ]
  },
  {
   "cell_type": "code",
   "execution_count": 10,
   "metadata": {
    "execution": {
     "iopub.execute_input": "2021-08-05T21:37:38.525318Z",
     "iopub.status.busy": "2021-08-05T21:37:38.525040Z",
     "iopub.status.idle": "2021-08-05T21:37:45.058666Z",
     "shell.execute_reply": "2021-08-05T21:37:45.057816Z",
     "shell.execute_reply.started": "2021-08-05T21:37:38.525275Z"
    }
   },
   "outputs": [
    {
     "data": {
      "text/plain": [
       "<seaborn.axisgrid.PairGrid at 0x7ff2e3ddada0>"
      ]
     },
     "execution_count": 10,
     "metadata": {},
     "output_type": "execute_result"
    },
    {
     "data": {
      "image/png": "[encoded data removed]",
      "text/plain": [
       "<matplotlib.figure.Figure at 0x7ff2e3dda9e8>"
      ]
     },
     "metadata": {},
     "output_type": "display_data"
    }
   ],
   "source": [
    "data  =train[[u'Survived', u'Pclass', u'Sex', u'Age', u'Parch', u'Embarked', u'FamilySize', u'Title']]\n",
    "g = sns.pairplot(data = data, hue='Survived', palette='seismic', size = 1.5, diag_kind='kde', diag_kws=dict(shade=True), plot_kws=dict(s=10))\n",
    "g.set(xticklabels=[])"
   ]
  },
  {
   "cell_type": "markdown",
   "metadata": {
    "_cell_guid": "32ac3ce1-42bc-9a7d-44f3-4b7c025a921c",
    "_uuid": "b74f445f5d9fb9622c4609c00679254abb3c91b1"
   },
   "source": [
    "# 앙상블 및 스태킹 모델\n",
    "\n",
    "* 스태킹 앙상블 모델 "
   ]
  },
  {
   "cell_type": "markdown",
   "metadata": {
    "_cell_guid": "3e922821-5a10-040b-305a-c2d47d633c49",
    "_uuid": "4e5fda8c6c92fc3cdf8e906089494f80e7c37245"
   },
   "source": [
    "### Helpers via Python Classes\n",
    "\n",
    "sklearnHelper클래스를 생성하여 학습 및 예측을 수행하는 메소드 생성"
   ]
  },
  {
   "cell_type": "code",
   "execution_count": 11,
   "metadata": {
    "execution": {
     "iopub.execute_input": "2021-08-05T21:37:51.107281Z",
     "iopub.status.busy": "2021-08-05T21:37:51.106961Z",
     "iopub.status.idle": "2021-08-05T21:37:51.131010Z",
     "shell.execute_reply": "2021-08-05T21:37:51.130324Z",
     "shell.execute_reply.started": "2021-08-05T21:37:51.107220Z"
    }
   },
   "outputs": [
    {
     "data": {
      "text/plain": [
       "'ntrain : '"
      ]
     },
     "metadata": {},
     "output_type": "display_data"
    },
    {
     "data": {
      "text/plain": [
       "891"
      ]
     },
     "metadata": {},
     "output_type": "display_data"
    },
    {
     "data": {
      "text/plain": [
       "'ntest : '"
      ]
     },
     "metadata": {},
     "output_type": "display_data"
    },
    {
     "data": {
      "text/plain": [
       "418"
      ]
     },
     "metadata": {},
     "output_type": "display_data"
    }
   ],
   "source": [
    "version  = sklearn.__version__\n",
    "versionChk = True\n",
    "\n",
    "ntrain = train.shape[0]\n",
    "ntest  = test.shape[0]\n",
    "SEED = 0\n",
    "NFOLDS = 5\n",
    "\n",
    "display(\"ntrain : \", ntrain)  # 891\n",
    "display(\"ntest : \", ntest)    # 418\n",
    "if version.split('.')[1] == '20':  #  # 0.20 Use this API\n",
    "    from sklearn.model_selection import KFold  \n",
    "    kf = KFold(n_splits = NFOLDS, random_state= SEED)\n",
    "else:\n",
    "    from sklearn.cross_validation import KFold  # 0.18 will be removed\n",
    "    kf = KFold(ntrain, n_folds = NFOLDS, random_state=SEED)\n",
    "    versionChk = False"
   ]
  },
  {
   "cell_type": "code",
   "execution_count": 12,
   "metadata": {
    "execution": {
     "iopub.execute_input": "2021-08-05T21:37:56.466174Z",
     "iopub.status.busy": "2021-08-05T21:37:56.465600Z",
     "iopub.status.idle": "2021-08-05T21:37:56.495886Z",
     "shell.execute_reply": "2021-08-05T21:37:56.494967Z",
     "shell.execute_reply.started": "2021-08-05T21:37:56.466107Z"
    }
   },
   "outputs": [],
   "source": [
    "class SklearnHelper(object):\n",
    "    \"\"\"\n",
    "    사이킷런의 객체를 상속받고, 사이킷런에서 제공하는 메소드를 구현하여 학습, 예측, feature_importance구현\n",
    "    \"\"\"\n",
    "    def __init__(self, clf, seed, params):\n",
    "        params['random_state'] = seed\n",
    "        self.clf = clf(**params)\n",
    "        \n",
    "    def get_name(self):\n",
    "        return self.clf.__class__.__name__\n",
    "    \n",
    "    def train(self, X_train, y_train):\n",
    "        self.clf.fit(X_train, y_train)\n",
    "        \n",
    "    def predict(self, X):\n",
    "        \"\"\"\n",
    "        인자 - 테스트 데이터셋트\n",
    "        \"\"\"\n",
    "        return self.clf.predict(X)\n",
    "    \n",
    "    def feature_importances(self, X, y):\n",
    "        \"\"\"\n",
    "        ML모델의 feature importance_출력\n",
    "        \"\"\"\n",
    "        model = self.clf\n",
    "        model.fit(X, y)\n",
    "        display(model.feature_importances_)\n",
    "        return model.feature_importances_   "
   ]
  },
  {
   "cell_type": "markdown",
   "metadata": {
    "_cell_guid": "6f67620d-b531-a2fa-c297-e951970c3c28",
    "_uuid": "4d193c581df258e823aff2796bf015cf906aac99"
   },
   "source": [
    "### Out-of-Fold Predictions\n",
    "\n",
    "학습 세트에만 최적화되는 오버피팅을 방지하기 위한 OOF Predict구현"
   ]
  },
  {
   "cell_type": "code",
   "execution_count": 13,
   "metadata": {
    "execution": {
     "iopub.execute_input": "2021-08-05T21:38:01.769593Z",
     "iopub.status.busy": "2021-08-05T21:38:01.769290Z",
     "iopub.status.idle": "2021-08-05T21:38:01.778808Z",
     "shell.execute_reply": "2021-08-05T21:38:01.777896Z",
     "shell.execute_reply.started": "2021-08-05T21:38:01.769546Z"
    }
   },
   "outputs": [],
   "source": [
    "def loop_get_oof(clfs, X_train, y_train, X_test):\n",
    "    \"\"\"\n",
    "    Out Of Fold Prediction를 모델의 갯수만큼 반복 수행\n",
    "    \"\"\"\n",
    "    \n",
    "    result = dict()\n",
    "    for clf in clfs:\n",
    "        print(clf.get_name())\n",
    "        oof_train, oof_test = get_oof(clf, X_train, y_train, X_test)\n",
    "        result[clf] = (oof_train, oof_test)\n",
    "    return result"
   ]
  },
  {
   "cell_type": "code",
   "execution_count": 14,
   "metadata": {
    "execution": {
     "iopub.execute_input": "2021-08-05T21:38:06.593743Z",
     "iopub.status.busy": "2021-08-05T21:38:06.593442Z",
     "iopub.status.idle": "2021-08-05T21:38:06.612222Z",
     "shell.execute_reply": "2021-08-05T21:38:06.611550Z",
     "shell.execute_reply.started": "2021-08-05T21:38:06.593698Z"
    }
   },
   "outputs": [
    {
     "data": {
      "text/plain": [
       "'oof_train  :'"
      ]
     },
     "metadata": {},
     "output_type": "display_data"
    },
    {
     "data": {
      "text/plain": [
       "(891,)"
      ]
     },
     "metadata": {},
     "output_type": "display_data"
    },
    {
     "data": {
      "text/plain": [
       "'oof_test  :'"
      ]
     },
     "metadata": {},
     "output_type": "display_data"
    },
    {
     "data": {
      "text/plain": [
       "(481,)"
      ]
     },
     "metadata": {},
     "output_type": "display_data"
    },
    {
     "data": {
      "text/plain": [
       "'oof_test_skf  :'"
      ]
     },
     "metadata": {},
     "output_type": "display_data"
    },
    {
     "data": {
      "text/plain": [
       "(5, 481)"
      ]
     },
     "metadata": {},
     "output_type": "display_data"
    },
    {
     "data": {
      "text/plain": [
       "array([[  4.04738577e-320,   2.17388884e-321,   0.00000000e+000, ...,\n",
       "          9.66779993e+199,   7.69095741e+281,   1.06804202e+200],\n",
       "       [  8.43573909e+222,   2.54357827e+232,   3.25081503e+055, ...,\n",
       "          3.56202601e+108,   1.18683984e+017,   5.35575370e+039],\n",
       "       [  2.65088687e+093,   1.57043831e+098,   1.00703312e+070, ...,\n",
       "          4.70051906e-100,   1.32197820e-065,   2.13228649e+078],\n",
       "       [  5.71491875e-038,   1.34704917e+065,   5.04199166e+122, ...,\n",
       "          3.68105456e+223,   1.10702475e+122,   5.19874325e+262],\n",
       "       [  4.45544638e+107,   9.88472012e+247,   1.65387518e+113, ...,\n",
       "          1.04949168e-041,   4.38234142e-056,   7.10537240e-033]])"
      ]
     },
     "metadata": {},
     "output_type": "display_data"
    }
   ],
   "source": [
    "oof_train = np.zeros((891,))\n",
    "display('oof_train  :', oof_train.shape)\n",
    "\n",
    "oof_test  = np.zeros((481, ))\n",
    "display('oof_test  :', oof_test.shape)\n",
    "\n",
    "oof_test_skf = np.empty((5, 481))\n",
    "display('oof_test_skf  :', oof_test_skf.shape, oof_test_skf)"
   ]
  },
  {
   "cell_type": "code",
   "execution_count": 15,
   "metadata": {
    "execution": {
     "iopub.execute_input": "2021-08-05T21:38:08.863113Z",
     "iopub.status.busy": "2021-08-05T21:38:08.862786Z",
     "iopub.status.idle": "2021-08-05T21:38:08.894344Z",
     "shell.execute_reply": "2021-08-05T21:38:08.893625Z",
     "shell.execute_reply.started": "2021-08-05T21:38:08.863047Z"
    }
   },
   "outputs": [],
   "source": [
    "def get_oof(clf, X_train, y_train, X_test):\n",
    "    \"\"\"\n",
    "    oof Prediction\n",
    "    \"\"\"\n",
    "    oof_train = np.zeros((ntrain,))\n",
    "    oof_test  = np.zeros((ntest, ))\n",
    "    oof_test_skf = np.empty((NFOLDS, ntest))\n",
    "    \n",
    "    # scikitlearn버전 0.18과 0.20버전에서 지원하는 API가 처리방식이 다름\n",
    "    for i, (train_index, test_index) in enumerate(kf.split(X_train, y_train) if versionChk else kf):\n",
    "        x_tr = X_train[train_index]\n",
    "        y_tr = y_train[train_index]\n",
    "        X_te = X_train[test_index]\n",
    "        \n",
    "        clf.train(x_tr, y_tr)\n",
    "        \n",
    "        # 학습데이터에서 검증용 데이터로 예측한 결과를 최종 학습데이터로 사용\n",
    "        oof_train[test_index] = clf.predict(X_te)\n",
    "        # 테스트 데이터로 예측한 결과를 최종 검증된 테스트 데이터로 사용\n",
    "        oof_test_skf[i,:] = clf.predict(X_test)\n",
    "        \n",
    "    oof_test[:] = oof_test_skf.mean(axis=0) # 최종 평균값을 Out Of Fold 테스트 데이터로 사용\n",
    "    return oof_train.reshape(-1, 1), oof_test.reshape(-1, 1)"
   ]
  },
  {
   "cell_type": "markdown",
   "metadata": {
    "_cell_guid": "3cd92196-f7ba-4f14-0fc4-36520fbcb2ca",
    "_uuid": "7b1a7767ae61b6b217a3311e89190b05ab0a4891"
   },
   "source": [
    "# Generating our Base First-Level Models \n",
    "\n",
    "먼저 앙상블의 첫번째 단계로 5개의 ML모델을 대상으로 한다.\n",
    "\n",
    " 1. Random Forest classifier\n",
    " 2. Extra Trees classifier\n",
    " 3. AdaBoost classifer\n",
    " 4. Gradient Boosting classifer\n",
    " 5. Support Vector Machine"
   ]
  },
  {
   "cell_type": "markdown",
   "metadata": {
    "_cell_guid": "0ef6862a-b5cc-6829-f040-d2b2b2c817f3",
    "_uuid": "12e3a5f76fb118ff6906431fc60e7010e33106ad"
   },
   "source": [
    "**Parameters**\n",
    "\n",
    "**n_jobs** : 학습시에 사용할 CPU코어 수.  -1의 의미는 모든 CPU코아를 다 사용\n",
    "\n",
    "**n_estimators** : ML모델 분류기의 수 ( 디폴트는 10)\n",
    "\n",
    "**max_depth** : 트리의 최대 깊이 수(크게 설정될수록 오버피팅이 위험이 존재함을 유념)\n",
    "\n",
    "**verbose** : 학습이 진행될 동안 출력결과를 보고 싶을 경우 설정( 0 - 결과를 보이지 않음, 1- 결과보기)"
   ]
  },
  {
   "cell_type": "code",
   "execution_count": 16,
   "metadata": {
    "execution": {
     "iopub.execute_input": "2021-08-05T21:38:17.537549Z",
     "iopub.status.busy": "2021-08-05T21:38:17.537187Z",
     "iopub.status.idle": "2021-08-05T21:38:17.561069Z",
     "shell.execute_reply": "2021-08-05T21:38:17.560114Z",
     "shell.execute_reply.started": "2021-08-05T21:38:17.537455Z"
    }
   },
   "outputs": [],
   "source": [
    "# hyper parameter for RandomForestClassifier\n",
    "rf_params = {\n",
    "    'n_jobs': -1,\n",
    "    'n_estimators': 500,\n",
    "    'warm_start': True,\n",
    "    #'max_features': 0.2,\n",
    "    'max_depth': 6,\n",
    "    'min_samples_leaf': 2,\n",
    "    'max_features': 'sqrt',\n",
    "    'verbose': 0\n",
    "}\n",
    "\n",
    "# hyper parameter for ExtraTreesClassifier\n",
    "et_params = {\n",
    "    'n_jobs': -1,\n",
    "    'n_estimators': 500,\n",
    "    #'max_features': 0.2,\n",
    "    'max_depth': 6,\n",
    "    'min_samples_leaf': 2,\n",
    "    'max_features':'sqrt',\n",
    "    'verbose': 0\n",
    "}\n",
    "\n",
    "# AdaBoost parameters\n",
    "ada_params = {\n",
    "    'n_estimators': 500,\n",
    "    'learning_rate' : 0.75\n",
    "}\n",
    "\n",
    "\n",
    "# Gradient Boosting parameters\n",
    "gb_params = {\n",
    "    'n_estimators': 500,\n",
    "     #'max_features': 0.2,\n",
    "    'max_depth': 5,\n",
    "    'min_samples_leaf': 2,\n",
    "    'verbose': 0\n",
    "}\n",
    "\n",
    "# Support Vector Classifier parameters \n",
    "svc_params = {\n",
    "    'kernel' : 'linear',\n",
    "    'C' : 0.025\n",
    "    }"
   ]
  },
  {
   "cell_type": "code",
   "execution_count": 17,
   "metadata": {
    "_cell_guid": "6e634aba-90b6-0620-eceb-3e1a39fbfedc",
    "_uuid": "d77772886c0125e022d1fbb39cd484c95121d74d",
    "execution": {
     "iopub.execute_input": "2021-08-05T21:38:20.499234Z",
     "iopub.status.busy": "2021-08-05T21:38:20.498962Z",
     "iopub.status.idle": "2021-08-05T21:38:20.508795Z",
     "shell.execute_reply": "2021-08-05T21:38:20.507489Z",
     "shell.execute_reply.started": "2021-08-05T21:38:20.499201Z"
    }
   },
   "outputs": [],
   "source": [
    "# Create 5 objects that represent our 4 models\n",
    "rf = SklearnHelper(clf=RandomForestClassifier, seed=SEED, params=rf_params)\n",
    "et = SklearnHelper(clf=ExtraTreesClassifier, seed=SEED, params=et_params)\n",
    "ada = SklearnHelper(clf=AdaBoostClassifier, seed=SEED, params=ada_params)\n",
    "gb = SklearnHelper(clf=GradientBoostingClassifier, seed=SEED, params=gb_params)\n",
    "svm = SklearnHelper(clf=SVC, seed=SEED, params=svc_params)"
   ]
  },
  {
   "cell_type": "markdown",
   "metadata": {
    "_cell_guid": "46e1e6fc-92e2-e7e2-1ab9-470e6c7039ce",
    "_uuid": "cd3f527543e61b3841f242b744c3c5d9af608941"
   },
   "source": [
    "**Creating NumPy arrays out of our train and test sets**\n",
    "\n",
    "학습 및 테스트 세트로 부터 모델을 학습시킬 데이터세트 생성"
   ]
  },
  {
   "cell_type": "code",
   "execution_count": 18,
   "metadata": {
    "execution": {
     "iopub.execute_input": "2021-08-05T21:38:24.398837Z",
     "iopub.status.busy": "2021-08-05T21:38:24.398539Z",
     "iopub.status.idle": "2021-08-05T21:38:24.407264Z",
     "shell.execute_reply": "2021-08-05T21:38:24.406434Z",
     "shell.execute_reply.started": "2021-08-05T21:38:24.398788Z"
    }
   },
   "outputs": [],
   "source": [
    "# Create Numpy arrays of train, test and target ( Survived) dataframes to feed into our models\n",
    "y_train = train[\"Survived\"].ravel()  # ravel()으로 pd.Series타입으로 1차원 ndarray타입으로 변환, 타겟값을 1차원배열로 ML모델에 학습시 이렇게 들어감\n",
    "train = train.drop(['Survived'], axis=1, errors='ignore')\n",
    "\n",
    "# ML모델을 학습시키기 위해서는 ndarray로 변환이 필요\n",
    "X_train = train.values  #  DataFrame을 ndarray로 변환  - (891, 11)   \n",
    "X_test  = test.values   #  DataFrame를 ndarray로 변환  - (481, 11)"
   ]
  },
  {
   "cell_type": "markdown",
   "metadata": {
    "_cell_guid": "606b619c-2301-8aaa-a5de-781d981c4a6f",
    "_uuid": "d30ac9528b69cdaec565b647fee98a92391112c9"
   },
   "source": [
    "**Output of the First level Predictions** \n",
    "\n",
    "학습 및 테스트 데이터를 5개의 ML모델을 학습시키고, OOF Prediction을 수행"
   ]
  },
  {
   "cell_type": "code",
   "execution_count": 19,
   "metadata": {
    "execution": {
     "iopub.execute_input": "2021-08-05T21:38:35.014988Z",
     "iopub.status.busy": "2021-08-05T21:38:35.014708Z",
     "iopub.status.idle": "2021-08-05T21:38:49.995073Z",
     "shell.execute_reply": "2021-08-05T21:38:49.994247Z",
     "shell.execute_reply.started": "2021-08-05T21:38:35.014945Z"
    }
   },
   "outputs": [
    {
     "name": "stdout",
     "output_type": "stream",
     "text": [
      "RandomForestClassifier\n",
      "ExtraTreesClassifier\n",
      "AdaBoostClassifier\n",
      "GradientBoostingClassifier\n",
      "SVC\n"
     ]
    }
   ],
   "source": [
    "# Create our OOF train and test predictions. These base results will be used as new features\n",
    "clfs = [rf, et, ada, gb, svm]\n",
    "result = loop_get_oof(clfs, X_train, y_train, X_test)"
   ]
  },
  {
   "cell_type": "code",
   "execution_count": 20,
   "metadata": {
    "execution": {
     "iopub.execute_input": "2021-08-05T21:38:54.210765Z",
     "iopub.status.busy": "2021-08-05T21:38:54.210399Z",
     "iopub.status.idle": "2021-08-05T21:38:54.219839Z",
     "shell.execute_reply": "2021-08-05T21:38:54.219008Z",
     "shell.execute_reply.started": "2021-08-05T21:38:54.210701Z"
    }
   },
   "outputs": [],
   "source": [
    "def get_oof_train_test(clf):\n",
    "    \"\"\"\n",
    "    OOF결과 리턴 받은 결과값에서 필요로 하는 분류기의 최종 학습 및 테스트 데이터셋 \n",
    "    결과 가져오기 \n",
    "    \"\"\"\n",
    "    r0 = [v[0] for k,v in result.items() if k.clf.__class__.__name__==clf]\n",
    "    r1 = [v[1] for k,v in result.items() if k.clf.__class__.__name__==clf]\n",
    "    \n",
    "    return r0, r1"
   ]
  },
  {
   "cell_type": "code",
   "execution_count": 21,
   "metadata": {
    "execution": {
     "iopub.execute_input": "2021-08-05T21:38:56.814724Z",
     "iopub.status.busy": "2021-08-05T21:38:56.814418Z",
     "iopub.status.idle": "2021-08-05T21:38:56.820903Z",
     "shell.execute_reply": "2021-08-05T21:38:56.820336Z",
     "shell.execute_reply.started": "2021-08-05T21:38:56.814681Z"
    }
   },
   "outputs": [],
   "source": [
    "rf_oof_train, rf_oof_test = get_oof_train_test('RandomForestClassifier')\n",
    "et_oof_train, et_oof_test = get_oof_train_test('ExtraTreesClassifier')\n",
    "ada_oof_train, ada_oof_test = get_oof_train_test('AdaBoostClassifier')\n",
    "gb_oof_train, gb_oof_test = get_oof_train_test('GradientBoostingClassifier')\n",
    "svm_oof_train, svm_oof_test = get_oof_train_test('SVC')"
   ]
  },
  {
   "cell_type": "markdown",
   "metadata": {},
   "source": [
    "**Feature importances generated from the different classifiers**\n",
    "\n",
    "* feature_importances_를 통해서 피처의 중요도 보기"
   ]
  },
  {
   "cell_type": "code",
   "execution_count": 22,
   "metadata": {
    "execution": {
     "iopub.execute_input": "2021-08-05T21:38:59.984762Z",
     "iopub.status.busy": "2021-08-05T21:38:59.984432Z",
     "iopub.status.idle": "2021-08-05T21:39:02.670171Z",
     "shell.execute_reply": "2021-08-05T21:39:02.669321Z",
     "shell.execute_reply.started": "2021-08-05T21:38:59.984723Z"
    }
   },
   "outputs": [
    {
     "data": {
      "text/plain": [
       "array([ 0.12355096,  0.20040096,  0.03201276,  0.02167797,  0.07153751,\n",
       "        0.02323289,  0.10925333,  0.06554644,  0.06769053,  0.01339449,\n",
       "        0.27170217])"
      ]
     },
     "metadata": {},
     "output_type": "display_data"
    },
    {
     "data": {
      "text/plain": [
       "array([ 0.11650981,  0.41603302,  0.02096991,  0.01341694,  0.04830161,\n",
       "        0.02200821,  0.03608872,  0.09238351,  0.03568736,  0.02137254,\n",
       "        0.17722836])"
      ]
     },
     "metadata": {},
     "output_type": "display_data"
    },
    {
     "data": {
      "text/plain": [
       "array([ 0.03 ,  0.012,  0.016,  0.06 ,  0.034,  0.008,  0.71 ,  0.014,\n",
       "        0.044,  0.006,  0.066])"
      ]
     },
     "metadata": {},
     "output_type": "display_data"
    },
    {
     "data": {
      "text/plain": [
       "array([ 0.07967901,  0.0357937 ,  0.10961561,  0.02784908,  0.10007449,\n",
       "        0.04458393,  0.40925668,  0.02355365,  0.06948762,  0.02104317,\n",
       "        0.07906306])"
      ]
     },
     "metadata": {},
     "output_type": "display_data"
    }
   ],
   "source": [
    "rf_feature = rf.feature_importances(X_train, y_train)\n",
    "et_feature = et.feature_importances(X_train, y_train)\n",
    "ada_feature = ada.feature_importances(X_train, y_train)\n",
    "gb_feature = gb.feature_importances(X_train, y_train)"
   ]
  },
  {
   "cell_type": "code",
   "execution_count": 23,
   "metadata": {
    "execution": {
     "iopub.execute_input": "2021-08-05T21:39:05.148130Z",
     "iopub.status.busy": "2021-08-05T21:39:05.147826Z",
     "iopub.status.idle": "2021-08-05T21:39:05.381961Z",
     "shell.execute_reply": "2021-08-05T21:39:05.381235Z",
     "shell.execute_reply.started": "2021-08-05T21:39:05.148094Z"
    }
   },
   "outputs": [],
   "source": [
    "rf_feature = rf.clf.feature_importances_\n",
    "et_feature = et.clf.feature_importances_\n",
    "ada_feature = ada.clf.feature_importances_\n",
    "gb_feature = gb.clf.feature_importances_"
   ]
  },
  {
   "cell_type": "markdown",
   "metadata": {
    "_cell_guid": "f1be8fbb-34c0-3f92-c7d2-757fceced507",
    "_uuid": "b0c66aa58b45b917157f47c811e7d222513ddb0d"
   },
   "source": [
    "* 위의 결과값을 변수에 할당 - 위의 형태로 바로 클래스객체 바로 호출해봄."
   ]
  },
  {
   "cell_type": "code",
   "execution_count": 24,
   "metadata": {
    "_cell_guid": "bde9b5fd-3100-8f21-053e-45015b99cf65",
    "_uuid": "527425374ec8cd66edc015842f352a95041821c6",
    "execution": {
     "iopub.execute_input": "2021-08-05T21:39:07.855677Z",
     "iopub.status.busy": "2021-08-05T21:39:07.855310Z",
     "iopub.status.idle": "2021-08-05T21:39:07.861982Z",
     "shell.execute_reply": "2021-08-05T21:39:07.861415Z",
     "shell.execute_reply.started": "2021-08-05T21:39:07.855616Z"
    }
   },
   "outputs": [
    {
     "data": {
      "text/plain": [
       "(array([ 0.12355096,  0.20040096,  0.03201276,  0.02167797,  0.07153751,\n",
       "         0.02323289,  0.10925333,  0.06554644,  0.06769053,  0.01339449,\n",
       "         0.27170217]),\n",
       " array([ 0.11650981,  0.41603302,  0.02096991,  0.01341694,  0.04830161,\n",
       "         0.02200821,  0.03608872,  0.09238351,  0.03568736,  0.02137254,\n",
       "         0.17722836]),\n",
       " array([ 0.03 ,  0.012,  0.016,  0.06 ,  0.034,  0.008,  0.71 ,  0.014,\n",
       "         0.044,  0.006,  0.066]),\n",
       " array([ 0.07967901,  0.0357937 ,  0.10961561,  0.02784908,  0.10007449,\n",
       "         0.04458393,  0.40925668,  0.02355365,  0.06948762,  0.02104317,\n",
       "         0.07906306]))"
      ]
     },
     "execution_count": 24,
     "metadata": {},
     "output_type": "execute_result"
    }
   ],
   "source": [
    "rf_feature, et_feature, ada_feature, gb_feature"
   ]
  },
  {
   "cell_type": "markdown",
   "metadata": {
    "_cell_guid": "2a03ad8f-0ea1-5afa-a6e8-56284482c646",
    "_uuid": "d59169f89c5541177f537200a90805420b449001"
   },
   "source": [
    "* 피처 중요도를 DataFrame형태로 생성"
   ]
  },
  {
   "cell_type": "code",
   "execution_count": 25,
   "metadata": {
    "_cell_guid": "635a063f-281d-66d4-6572-587ebecd6b4b",
    "_uuid": "6f68b3033a8f185f61d83e80323c2486024f5d4d",
    "execution": {
     "iopub.execute_input": "2021-08-05T21:39:12.713491Z",
     "iopub.status.busy": "2021-08-05T21:39:12.713032Z",
     "iopub.status.idle": "2021-08-05T21:39:12.719712Z",
     "shell.execute_reply": "2021-08-05T21:39:12.718966Z",
     "shell.execute_reply.started": "2021-08-05T21:39:12.713440Z"
    }
   },
   "outputs": [],
   "source": [
    "cols = train.columns.values\n",
    "# Create a dataframe with features\n",
    "feature_dataframe = pd.DataFrame( {'features': cols,\n",
    "     'Random Forest feature importances': rf_feature,\n",
    "     'Extra Trees  feature importances': et_feature,\n",
    "      'AdaBoost feature importances': ada_feature,\n",
    "      'Gradient Boost feature importances': gb_feature\n",
    "    })"
   ]
  },
  {
   "cell_type": "code",
   "execution_count": 26,
   "metadata": {
    "execution": {
     "iopub.execute_input": "2021-08-05T21:39:16.083858Z",
     "iopub.status.busy": "2021-08-05T21:39:16.083560Z",
     "iopub.status.idle": "2021-08-05T21:39:16.104208Z",
     "shell.execute_reply": "2021-08-05T21:39:16.103424Z",
     "shell.execute_reply.started": "2021-08-05T21:39:16.083806Z"
    }
   },
   "outputs": [
    {
     "data": {
      "text/html": [
       "<div>\n",
       "<style scoped>\n",
       "    .dataframe tbody tr th:only-of-type {\n",
       "        vertical-align: middle;\n",
       "    }\n",
       "\n",
       "    .dataframe tbody tr th {\n",
       "        vertical-align: top;\n",
       "    }\n",
       "\n",
       "    .dataframe thead th {\n",
       "        text-align: right;\n",
       "    }\n",
       "</style>\n",
       "<table border=\"1\" class=\"dataframe\">\n",
       "  <thead>\n",
       "    <tr style=\"text-align: right;\">\n",
       "      <th></th>\n",
       "      <th>features</th>\n",
       "      <th>Random Forest feature importances</th>\n",
       "      <th>Extra Trees  feature importances</th>\n",
       "      <th>AdaBoost feature importances</th>\n",
       "      <th>Gradient Boost feature importances</th>\n",
       "    </tr>\n",
       "  </thead>\n",
       "  <tbody>\n",
       "    <tr>\n",
       "      <th>0</th>\n",
       "      <td>Pclass</td>\n",
       "      <td>0.123551</td>\n",
       "      <td>0.116510</td>\n",
       "      <td>0.030</td>\n",
       "      <td>0.079679</td>\n",
       "    </tr>\n",
       "    <tr>\n",
       "      <th>1</th>\n",
       "      <td>Sex</td>\n",
       "      <td>0.200401</td>\n",
       "      <td>0.416033</td>\n",
       "      <td>0.012</td>\n",
       "      <td>0.035794</td>\n",
       "    </tr>\n",
       "    <tr>\n",
       "      <th>2</th>\n",
       "      <td>Age</td>\n",
       "      <td>0.032013</td>\n",
       "      <td>0.020970</td>\n",
       "      <td>0.016</td>\n",
       "      <td>0.109616</td>\n",
       "    </tr>\n",
       "    <tr>\n",
       "      <th>3</th>\n",
       "      <td>Parch</td>\n",
       "      <td>0.021678</td>\n",
       "      <td>0.013417</td>\n",
       "      <td>0.060</td>\n",
       "      <td>0.027849</td>\n",
       "    </tr>\n",
       "    <tr>\n",
       "      <th>4</th>\n",
       "      <td>Fare</td>\n",
       "      <td>0.071538</td>\n",
       "      <td>0.048302</td>\n",
       "      <td>0.034</td>\n",
       "      <td>0.100074</td>\n",
       "    </tr>\n",
       "    <tr>\n",
       "      <th>5</th>\n",
       "      <td>Embarked</td>\n",
       "      <td>0.023233</td>\n",
       "      <td>0.022008</td>\n",
       "      <td>0.008</td>\n",
       "      <td>0.044584</td>\n",
       "    </tr>\n",
       "    <tr>\n",
       "      <th>6</th>\n",
       "      <td>Name_length</td>\n",
       "      <td>0.109253</td>\n",
       "      <td>0.036089</td>\n",
       "      <td>0.710</td>\n",
       "      <td>0.409257</td>\n",
       "    </tr>\n",
       "    <tr>\n",
       "      <th>7</th>\n",
       "      <td>Has_Cabin</td>\n",
       "      <td>0.065546</td>\n",
       "      <td>0.092384</td>\n",
       "      <td>0.014</td>\n",
       "      <td>0.023554</td>\n",
       "    </tr>\n",
       "    <tr>\n",
       "      <th>8</th>\n",
       "      <td>FamilySize</td>\n",
       "      <td>0.067691</td>\n",
       "      <td>0.035687</td>\n",
       "      <td>0.044</td>\n",
       "      <td>0.069488</td>\n",
       "    </tr>\n",
       "    <tr>\n",
       "      <th>9</th>\n",
       "      <td>IsAlone</td>\n",
       "      <td>0.013394</td>\n",
       "      <td>0.021373</td>\n",
       "      <td>0.006</td>\n",
       "      <td>0.021043</td>\n",
       "    </tr>\n",
       "    <tr>\n",
       "      <th>10</th>\n",
       "      <td>Title</td>\n",
       "      <td>0.271702</td>\n",
       "      <td>0.177228</td>\n",
       "      <td>0.066</td>\n",
       "      <td>0.079063</td>\n",
       "    </tr>\n",
       "  </tbody>\n",
       "</table>\n",
       "</div>"
      ],
      "text/plain": [
       "   ...\n",
       "0  ...\n",
       "1  ...\n",
       "2  ...\n",
       "3  ...\n",
       "4  ...\n",
       "5  ...\n",
       "6  ...\n",
       "7  ...\n",
       "8  ...\n",
       "9  ...\n",
       "10 ...\n",
       "\n",
       "[11 rows x 5 columns]"
      ]
     },
     "execution_count": 26,
     "metadata": {},
     "output_type": "execute_result"
    }
   ],
   "source": [
    "feature_dataframe"
   ]
  },
  {
   "cell_type": "code",
   "execution_count": 27,
   "metadata": {
    "execution": {
     "iopub.execute_input": "2021-08-05T21:39:17.812782Z",
     "iopub.status.busy": "2021-08-05T21:39:17.812386Z",
     "iopub.status.idle": "2021-08-05T21:39:17.821823Z",
     "shell.execute_reply": "2021-08-05T21:39:17.820962Z",
     "shell.execute_reply.started": "2021-08-05T21:39:17.812706Z"
    }
   },
   "outputs": [
    {
     "name": "stdout",
     "output_type": "stream",
     "text": [
      "<class 'pandas.core.frame.DataFrame'>\n",
      "RangeIndex: 11 entries, 0 to 10\n",
      "Data columns (total 5 columns):\n",
      "features                              11 non-null object\n",
      "Random Forest feature importances     11 non-null float64\n",
      "Extra Trees  feature importances      11 non-null float64\n",
      "AdaBoost feature importances          11 non-null float64\n",
      "Gradient Boost feature importances    11 non-null float64\n",
      "dtypes: float64(4), object(1)\n",
      "memory usage: 520.0+ bytes\n"
     ]
    }
   ],
   "source": [
    "feature_dataframe.info()"
   ]
  },
  {
   "cell_type": "markdown",
   "metadata": {
    "_cell_guid": "06b9f410-f93e-0206-b029-24df035eea2b",
    "_uuid": "7e25675f239b0ab008e0264917abff497795681a"
   },
   "source": [
    "**Interactive feature importances via Plotly scatterplots**\n",
    "\n",
    "* Potly를 이용해 Scatter그리기\n",
    "* [plotly tutorial for Python](https://plotly.com/python/)"
   ]
  },
  {
   "cell_type": "markdown",
   "metadata": {},
   "source": [
    "* Scatter Plot using Plotly"
   ]
  },
  {
   "cell_type": "code",
   "execution_count": 28,
   "metadata": {
    "execution": {
     "iopub.execute_input": "2021-08-05T21:39:36.132647Z",
     "iopub.status.busy": "2021-08-05T21:39:36.132202Z",
     "iopub.status.idle": "2021-08-05T21:39:36.178517Z",
     "shell.execute_reply": "2021-08-05T21:39:36.177585Z",
     "shell.execute_reply.started": "2021-08-05T21:39:36.132569Z"
    }
   },
   "outputs": [
    {
     "data": {
      "application/vnd.plotly.v1+json": {
       "data": [
        {
         "marker": {
          "color": [
           0.12355095637750209,
           0.20040096032261545,
           0.03201276177524234,
           0.02167797320870748,
           0.07153750611085491,
           0.023232889510061923,
           0.10925332675616822,
           0.06554643760678722,
           0.06769052973818464,
           0.01339448504807705,
           0.27170217354579845
          ],
          "colorscale": "Portland",
          "showscale": true,
          "size": 25,
          "sizemode": "diameter",
          "sizeref": 1
         },
         "mode": "markers",
         "text": [
          "Pclass",
          "Sex",
          "Age",
          "Parch",
          "Fare",
          "Embarked",
          "Name_length",
          "Has_Cabin",
          "FamilySize",
          "IsAlone",
          "Title"
         ],
         "type": "scatter",
         "x": [
          "Pclass",
          "Sex",
          "Age",
          "Parch",
          "Fare",
          "Embarked",
          "Name_length",
          "Has_Cabin",
          "FamilySize",
          "IsAlone",
          "Title"
         ],
         "y": [
          0.12355095637750209,
          0.20040096032261545,
          0.03201276177524234,
          0.02167797320870748,
          0.07153750611085491,
          0.023232889510061923,
          0.10925332675616822,
          0.06554643760678722,
          0.06769052973818464,
          0.01339448504807705,
          0.27170217354579845
         ]
        }
       ],
       "layout": {
        "autosize": true,
        "hovermode": "closest",
        "showlegend": false,
        "title": "Random Forest feature importances",
        "yaxis": {
         "gridwidth": 2,
         "ticklen": 5,
         "title": "Feature Importances"
        }
       }
      },
      "text/html": [
       "<div id=\"a4feffe6-0363-4d26-adca-f1c07d8edcf4\" style=\"height: 525px; width: 100%;\" class=\"plotly-graph-div\"></div><script type=\"text/javascript\">require([\"plotly\"], function(Plotly) { window.PLOTLYENV=window.PLOTLYENV || {};window.PLOTLYENV.BASE_URL=\"https://plot.ly\";Plotly.newPlot(\"a4feffe6-0363-4d26-adca-f1c07d8edcf4\", [{\"type\": \"scatter\", \"y\": [0.12355095637750209, 0.20040096032261545, 0.03201276177524234, 0.02167797320870748, 0.07153750611085491, 0.023232889510061923, 0.10925332675616822, 0.06554643760678722, 0.06769052973818464, 0.01339448504807705, 0.27170217354579845], \"x\": [\"Pclass\", \"Sex\", \"Age\", \"Parch\", \"Fare\", \"Embarked\", \"Name_length\", \"Has_Cabin\", \"FamilySize\", \"IsAlone\", \"Title\"], \"mode\": \"markers\", \"marker\": {\"sizemode\": \"diameter\", \"sizeref\": 1, \"size\": 25, \"color\": [0.12355095637750209, 0.20040096032261545, 0.03201276177524234, 0.02167797320870748, 0.07153750611085491, 0.023232889510061923, 0.10925332675616822, 0.06554643760678722, 0.06769052973818464, 0.01339448504807705, 0.27170217354579845], \"colorscale\": \"Portland\", \"showscale\": true}, \"text\": [\"Pclass\", \"Sex\", \"Age\", \"Parch\", \"Fare\", \"Embarked\", \"Name_length\", \"Has_Cabin\", \"FamilySize\", \"IsAlone\", \"Title\"]}], {\"autosize\": true, \"title\": \"Random Forest feature importances\", \"hovermode\": \"closest\", \"yaxis\": {\"title\": \"Feature Importances\", \"ticklen\": 5, \"gridwidth\": 2}, \"showlegend\": false}, {\"showLink\": true, \"linkText\": \"Export to plot.ly\"})});</script>"
      ],
      "text/vnd.plotly.v1+html": [
       "<div id=\"a4feffe6-0363-4d26-adca-f1c07d8edcf4\" style=\"height: 525px; width: 100%;\" class=\"plotly-graph-div\"></div><script type=\"text/javascript\">require([\"plotly\"], function(Plotly) { window.PLOTLYENV=window.PLOTLYENV || {};window.PLOTLYENV.BASE_URL=\"https://plot.ly\";Plotly.newPlot(\"a4feffe6-0363-4d26-adca-f1c07d8edcf4\", [{\"type\": \"scatter\", \"y\": [0.12355095637750209, 0.20040096032261545, 0.03201276177524234, 0.02167797320870748, 0.07153750611085491, 0.023232889510061923, 0.10925332675616822, 0.06554643760678722, 0.06769052973818464, 0.01339448504807705, 0.27170217354579845], \"x\": [\"Pclass\", \"Sex\", \"Age\", \"Parch\", \"Fare\", \"Embarked\", \"Name_length\", \"Has_Cabin\", \"FamilySize\", \"IsAlone\", \"Title\"], \"mode\": \"markers\", \"marker\": {\"sizemode\": \"diameter\", \"sizeref\": 1, \"size\": 25, \"color\": [0.12355095637750209, 0.20040096032261545, 0.03201276177524234, 0.02167797320870748, 0.07153750611085491, 0.023232889510061923, 0.10925332675616822, 0.06554643760678722, 0.06769052973818464, 0.01339448504807705, 0.27170217354579845], \"colorscale\": \"Portland\", \"showscale\": true}, \"text\": [\"Pclass\", \"Sex\", \"Age\", \"Parch\", \"Fare\", \"Embarked\", \"Name_length\", \"Has_Cabin\", \"FamilySize\", \"IsAlone\", \"Title\"]}], {\"autosize\": true, \"title\": \"Random Forest feature importances\", \"hovermode\": \"closest\", \"yaxis\": {\"title\": \"Feature Importances\", \"ticklen\": 5, \"gridwidth\": 2}, \"showlegend\": false}, {\"showLink\": true, \"linkText\": \"Export to plot.ly\"})});</script>"
      ]
     },
     "metadata": {},
     "output_type": "display_data"
    },
    {
     "data": {
      "application/vnd.plotly.v1+json": {
       "data": [
        {
         "marker": {
          "color": [
           0.11650980789855064,
           0.41603301562149647,
           0.02096991190658897,
           0.013416942338273516,
           0.04830161459463655,
           0.022008213976742453,
           0.036088722614860694,
           0.09238351395048686,
           0.03568735977741336,
           0.021372538862362626,
           0.17722835845858803
          ],
          "colorscale": "Portland",
          "showscale": true,
          "size": 25,
          "sizemode": "diameter",
          "sizeref": 1
         },
         "mode": "markers",
         "text": [
          "Pclass",
          "Sex",
          "Age",
          "Parch",
          "Fare",
          "Embarked",
          "Name_length",
          "Has_Cabin",
          "FamilySize",
          "IsAlone",
          "Title"
         ],
         "type": "scatter",
         "x": [
          "Pclass",
          "Sex",
          "Age",
          "Parch",
          "Fare",
          "Embarked",
          "Name_length",
          "Has_Cabin",
          "FamilySize",
          "IsAlone",
          "Title"
         ],
         "y": [
          0.11650980789855064,
          0.41603301562149647,
          0.02096991190658897,
          0.013416942338273516,
          0.04830161459463655,
          0.022008213976742453,
          0.036088722614860694,
          0.09238351395048686,
          0.03568735977741336,
          0.021372538862362626,
          0.17722835845858803
         ]
        }
       ],
       "layout": {
        "autosize": true,
        "hovermode": "closest",
        "showlegend": false,
        "title": "Extra Trees  feature importances",
        "yaxis": {
         "gridwidth": 2,
         "ticklen": 5,
         "title": "Feature Importances"
        }
       }
      },
      "text/html": [
       "<div id=\"77393210-0cdd-406a-b21a-b60fdfa1b128\" style=\"height: 525px; width: 100%;\" class=\"plotly-graph-div\"></div><script type=\"text/javascript\">require([\"plotly\"], function(Plotly) { window.PLOTLYENV=window.PLOTLYENV || {};window.PLOTLYENV.BASE_URL=\"https://plot.ly\";Plotly.newPlot(\"77393210-0cdd-406a-b21a-b60fdfa1b128\", [{\"type\": \"scatter\", \"y\": [0.11650980789855064, 0.41603301562149647, 0.02096991190658897, 0.013416942338273516, 0.04830161459463655, 0.022008213976742453, 0.036088722614860694, 0.09238351395048686, 0.03568735977741336, 0.021372538862362626, 0.17722835845858803], \"x\": [\"Pclass\", \"Sex\", \"Age\", \"Parch\", \"Fare\", \"Embarked\", \"Name_length\", \"Has_Cabin\", \"FamilySize\", \"IsAlone\", \"Title\"], \"mode\": \"markers\", \"marker\": {\"sizemode\": \"diameter\", \"sizeref\": 1, \"size\": 25, \"color\": [0.11650980789855064, 0.41603301562149647, 0.02096991190658897, 0.013416942338273516, 0.04830161459463655, 0.022008213976742453, 0.036088722614860694, 0.09238351395048686, 0.03568735977741336, 0.021372538862362626, 0.17722835845858803], \"colorscale\": \"Portland\", \"showscale\": true}, \"text\": [\"Pclass\", \"Sex\", \"Age\", \"Parch\", \"Fare\", \"Embarked\", \"Name_length\", \"Has_Cabin\", \"FamilySize\", \"IsAlone\", \"Title\"]}], {\"autosize\": true, \"title\": \"Extra Trees  feature importances\", \"hovermode\": \"closest\", \"yaxis\": {\"title\": \"Feature Importances\", \"ticklen\": 5, \"gridwidth\": 2}, \"showlegend\": false}, {\"showLink\": true, \"linkText\": \"Export to plot.ly\"})});</script>"
      ],
      "text/vnd.plotly.v1+html": [
       "<div id=\"77393210-0cdd-406a-b21a-b60fdfa1b128\" style=\"height: 525px; width: 100%;\" class=\"plotly-graph-div\"></div><script type=\"text/javascript\">require([\"plotly\"], function(Plotly) { window.PLOTLYENV=window.PLOTLYENV || {};window.PLOTLYENV.BASE_URL=\"https://plot.ly\";Plotly.newPlot(\"77393210-0cdd-406a-b21a-b60fdfa1b128\", [{\"type\": \"scatter\", \"y\": [0.11650980789855064, 0.41603301562149647, 0.02096991190658897, 0.013416942338273516, 0.04830161459463655, 0.022008213976742453, 0.036088722614860694, 0.09238351395048686, 0.03568735977741336, 0.021372538862362626, 0.17722835845858803], \"x\": [\"Pclass\", \"Sex\", \"Age\", \"Parch\", \"Fare\", \"Embarked\", \"Name_length\", \"Has_Cabin\", \"FamilySize\", \"IsAlone\", \"Title\"], \"mode\": \"markers\", \"marker\": {\"sizemode\": \"diameter\", \"sizeref\": 1, \"size\": 25, \"color\": [0.11650980789855064, 0.41603301562149647, 0.02096991190658897, 0.013416942338273516, 0.04830161459463655, 0.022008213976742453, 0.036088722614860694, 0.09238351395048686, 0.03568735977741336, 0.021372538862362626, 0.17722835845858803], \"colorscale\": \"Portland\", \"showscale\": true}, \"text\": [\"Pclass\", \"Sex\", \"Age\", \"Parch\", \"Fare\", \"Embarked\", \"Name_length\", \"Has_Cabin\", \"FamilySize\", \"IsAlone\", \"Title\"]}], {\"autosize\": true, \"title\": \"Extra Trees  feature importances\", \"hovermode\": \"closest\", \"yaxis\": {\"title\": \"Feature Importances\", \"ticklen\": 5, \"gridwidth\": 2}, \"showlegend\": false}, {\"showLink\": true, \"linkText\": \"Export to plot.ly\"})});</script>"
      ]
     },
     "metadata": {},
     "output_type": "display_data"
    },
    {
     "data": {
      "application/vnd.plotly.v1+json": {
       "data": [
        {
         "marker": {
          "color": [
           0.03,
           0.012,
           0.016,
           0.06,
           0.034,
           0.008,
           0.71,
           0.014,
           0.044,
           0.006,
           0.066
          ],
          "colorscale": "Portland",
          "showscale": true,
          "size": 25,
          "sizemode": "diameter",
          "sizeref": 1
         },
         "mode": "markers",
         "text": [
          "Pclass",
          "Sex",
          "Age",
          "Parch",
          "Fare",
          "Embarked",
          "Name_length",
          "Has_Cabin",
          "FamilySize",
          "IsAlone",
          "Title"
         ],
         "type": "scatter",
         "x": [
          "Pclass",
          "Sex",
          "Age",
          "Parch",
          "Fare",
          "Embarked",
          "Name_length",
          "Has_Cabin",
          "FamilySize",
          "IsAlone",
          "Title"
         ],
         "y": [
          0.03,
          0.012,
          0.016,
          0.06,
          0.034,
          0.008,
          0.71,
          0.014,
          0.044,
          0.006,
          0.066
         ]
        }
       ],
       "layout": {
        "autosize": true,
        "hovermode": "closest",
        "showlegend": false,
        "title": "AdaBoost feature importances",
        "yaxis": {
         "gridwidth": 2,
         "ticklen": 5,
         "title": "Feature Importances"
        }
       }
      },
      "text/html": [
       "<div id=\"d10cb69e-f5e5-4252-ae08-5cc4f428b284\" style=\"height: 525px; width: 100%;\" class=\"plotly-graph-div\"></div><script type=\"text/javascript\">require([\"plotly\"], function(Plotly) { window.PLOTLYENV=window.PLOTLYENV || {};window.PLOTLYENV.BASE_URL=\"https://plot.ly\";Plotly.newPlot(\"d10cb69e-f5e5-4252-ae08-5cc4f428b284\", [{\"type\": \"scatter\", \"y\": [0.03, 0.012, 0.016, 0.06, 0.034, 0.008, 0.71, 0.014, 0.044, 0.006, 0.066], \"x\": [\"Pclass\", \"Sex\", \"Age\", \"Parch\", \"Fare\", \"Embarked\", \"Name_length\", \"Has_Cabin\", \"FamilySize\", \"IsAlone\", \"Title\"], \"mode\": \"markers\", \"marker\": {\"sizemode\": \"diameter\", \"sizeref\": 1, \"size\": 25, \"color\": [0.03, 0.012, 0.016, 0.06, 0.034, 0.008, 0.71, 0.014, 0.044, 0.006, 0.066], \"colorscale\": \"Portland\", \"showscale\": true}, \"text\": [\"Pclass\", \"Sex\", \"Age\", \"Parch\", \"Fare\", \"Embarked\", \"Name_length\", \"Has_Cabin\", \"FamilySize\", \"IsAlone\", \"Title\"]}], {\"autosize\": true, \"title\": \"AdaBoost feature importances\", \"hovermode\": \"closest\", \"yaxis\": {\"title\": \"Feature Importances\", \"ticklen\": 5, \"gridwidth\": 2}, \"showlegend\": false}, {\"showLink\": true, \"linkText\": \"Export to plot.ly\"})});</script>"
      ],
      "text/vnd.plotly.v1+html": [
       "<div id=\"d10cb69e-f5e5-4252-ae08-5cc4f428b284\" style=\"height: 525px; width: 100%;\" class=\"plotly-graph-div\"></div><script type=\"text/javascript\">require([\"plotly\"], function(Plotly) { window.PLOTLYENV=window.PLOTLYENV || {};window.PLOTLYENV.BASE_URL=\"https://plot.ly\";Plotly.newPlot(\"d10cb69e-f5e5-4252-ae08-5cc4f428b284\", [{\"type\": \"scatter\", \"y\": [0.03, 0.012, 0.016, 0.06, 0.034, 0.008, 0.71, 0.014, 0.044, 0.006, 0.066], \"x\": [\"Pclass\", \"Sex\", \"Age\", \"Parch\", \"Fare\", \"Embarked\", \"Name_length\", \"Has_Cabin\", \"FamilySize\", \"IsAlone\", \"Title\"], \"mode\": \"markers\", \"marker\": {\"sizemode\": \"diameter\", \"sizeref\": 1, \"size\": 25, \"color\": [0.03, 0.012, 0.016, 0.06, 0.034, 0.008, 0.71, 0.014, 0.044, 0.006, 0.066], \"colorscale\": \"Portland\", \"showscale\": true}, \"text\": [\"Pclass\", \"Sex\", \"Age\", \"Parch\", \"Fare\", \"Embarked\", \"Name_length\", \"Has_Cabin\", \"FamilySize\", \"IsAlone\", \"Title\"]}], {\"autosize\": true, \"title\": \"AdaBoost feature importances\", \"hovermode\": \"closest\", \"yaxis\": {\"title\": \"Feature Importances\", \"ticklen\": 5, \"gridwidth\": 2}, \"showlegend\": false}, {\"showLink\": true, \"linkText\": \"Export to plot.ly\"})});</script>"
      ]
     },
     "metadata": {},
     "output_type": "display_data"
    },
    {
     "data": {
      "application/vnd.plotly.v1+json": {
       "data": [
        {
         "marker": {
          "color": [
           0.07967900860570938,
           0.035793698780057025,
           0.10961561319790417,
           0.027849080830292212,
           0.10007449128113777,
           0.04458392882268819,
           0.4092566820549075,
           0.023553654171969075,
           0.06948761570191185,
           0.02104316662174624,
           0.07906305993167649
          ],
          "colorscale": "Portland",
          "showscale": true,
          "size": 25,
          "sizemode": "diameter",
          "sizeref": 1
         },
         "mode": "markers",
         "text": [
          "Pclass",
          "Sex",
          "Age",
          "Parch",
          "Fare",
          "Embarked",
          "Name_length",
          "Has_Cabin",
          "FamilySize",
          "IsAlone",
          "Title"
         ],
         "type": "scatter",
         "x": [
          "Pclass",
          "Sex",
          "Age",
          "Parch",
          "Fare",
          "Embarked",
          "Name_length",
          "Has_Cabin",
          "FamilySize",
          "IsAlone",
          "Title"
         ],
         "y": [
          0.07967900860570938,
          0.035793698780057025,
          0.10961561319790417,
          0.027849080830292212,
          0.10007449128113777,
          0.04458392882268819,
          0.4092566820549075,
          0.023553654171969075,
          0.06948761570191185,
          0.02104316662174624,
          0.07906305993167649
         ]
        }
       ],
       "layout": {
        "autosize": true,
        "hovermode": "closest",
        "showlegend": false,
        "title": "Gradient Boost feature importances",
        "yaxis": {
         "gridwidth": 2,
         "ticklen": 5,
         "title": "Feature Importances"
        }
       }
      },
      "text/html": [
       "<div id=\"f473c1ed-febd-4510-8438-f9021c24357d\" style=\"height: 525px; width: 100%;\" class=\"plotly-graph-div\"></div><script type=\"text/javascript\">require([\"plotly\"], function(Plotly) { window.PLOTLYENV=window.PLOTLYENV || {};window.PLOTLYENV.BASE_URL=\"https://plot.ly\";Plotly.newPlot(\"f473c1ed-febd-4510-8438-f9021c24357d\", [{\"type\": \"scatter\", \"y\": [0.07967900860570938, 0.035793698780057025, 0.10961561319790417, 0.027849080830292212, 0.10007449128113777, 0.04458392882268819, 0.4092566820549075, 0.023553654171969075, 0.06948761570191185, 0.02104316662174624, 0.07906305993167649], \"x\": [\"Pclass\", \"Sex\", \"Age\", \"Parch\", \"Fare\", \"Embarked\", \"Name_length\", \"Has_Cabin\", \"FamilySize\", \"IsAlone\", \"Title\"], \"mode\": \"markers\", \"marker\": {\"sizemode\": \"diameter\", \"sizeref\": 1, \"size\": 25, \"color\": [0.07967900860570938, 0.035793698780057025, 0.10961561319790417, 0.027849080830292212, 0.10007449128113777, 0.04458392882268819, 0.4092566820549075, 0.023553654171969075, 0.06948761570191185, 0.02104316662174624, 0.07906305993167649], \"colorscale\": \"Portland\", \"showscale\": true}, \"text\": [\"Pclass\", \"Sex\", \"Age\", \"Parch\", \"Fare\", \"Embarked\", \"Name_length\", \"Has_Cabin\", \"FamilySize\", \"IsAlone\", \"Title\"]}], {\"autosize\": true, \"title\": \"Gradient Boost feature importances\", \"hovermode\": \"closest\", \"yaxis\": {\"title\": \"Feature Importances\", \"ticklen\": 5, \"gridwidth\": 2}, \"showlegend\": false}, {\"showLink\": true, \"linkText\": \"Export to plot.ly\"})});</script>"
      ],
      "text/vnd.plotly.v1+html": [
       "<div id=\"f473c1ed-febd-4510-8438-f9021c24357d\" style=\"height: 525px; width: 100%;\" class=\"plotly-graph-div\"></div><script type=\"text/javascript\">require([\"plotly\"], function(Plotly) { window.PLOTLYENV=window.PLOTLYENV || {};window.PLOTLYENV.BASE_URL=\"https://plot.ly\";Plotly.newPlot(\"f473c1ed-febd-4510-8438-f9021c24357d\", [{\"type\": \"scatter\", \"y\": [0.07967900860570938, 0.035793698780057025, 0.10961561319790417, 0.027849080830292212, 0.10007449128113777, 0.04458392882268819, 0.4092566820549075, 0.023553654171969075, 0.06948761570191185, 0.02104316662174624, 0.07906305993167649], \"x\": [\"Pclass\", \"Sex\", \"Age\", \"Parch\", \"Fare\", \"Embarked\", \"Name_length\", \"Has_Cabin\", \"FamilySize\", \"IsAlone\", \"Title\"], \"mode\": \"markers\", \"marker\": {\"sizemode\": \"diameter\", \"sizeref\": 1, \"size\": 25, \"color\": [0.07967900860570938, 0.035793698780057025, 0.10961561319790417, 0.027849080830292212, 0.10007449128113777, 0.04458392882268819, 0.4092566820549075, 0.023553654171969075, 0.06948761570191185, 0.02104316662174624, 0.07906305993167649], \"colorscale\": \"Portland\", \"showscale\": true}, \"text\": [\"Pclass\", \"Sex\", \"Age\", \"Parch\", \"Fare\", \"Embarked\", \"Name_length\", \"Has_Cabin\", \"FamilySize\", \"IsAlone\", \"Title\"]}], {\"autosize\": true, \"title\": \"Gradient Boost feature importances\", \"hovermode\": \"closest\", \"yaxis\": {\"title\": \"Feature Importances\", \"ticklen\": 5, \"gridwidth\": 2}, \"showlegend\": false}, {\"showLink\": true, \"linkText\": \"Export to plot.ly\"})});</script>"
      ]
     },
     "metadata": {},
     "output_type": "display_data"
    }
   ],
   "source": [
    "cols = feature_dataframe.columns.values[1:].tolist()  # features컬럼은 상수로 고정시키고 그 다음부터만 가져옴\n",
    "\n",
    "for col in cols:\n",
    "    \n",
    "    trace = go.Scatter(\n",
    "    y = feature_dataframe[col].values,\n",
    "    x = feature_dataframe[\"features\"].values,\n",
    "    mode=\"markers\",\n",
    "    marker=dict(\n",
    "        sizemode=\"diameter\",\n",
    "        sizeref = 1,\n",
    "        size = 25,\n",
    "        #       size= feature_dataframe['AdaBoost feature importances'].values,\n",
    "        #color = np.random.randn(500), #set color equal to a variable\n",
    "        color = feature_dataframe[col].values,\n",
    "        colorscale = \"Portland\",\n",
    "        showscale=True\n",
    "    ),\n",
    "    text = feature_dataframe[\"features\"].values    \n",
    "    )\n",
    "    data = [trace]\n",
    "    layout = go.Layout(\n",
    "        autosize = True,\n",
    "        title = col,\n",
    "        hovermode=\"closest\",\n",
    "        #     xaxis= dict(\n",
    "        #         title= 'Pop',\n",
    "        #         ticklen= 5,\n",
    "        #         zeroline= False,\n",
    "        #         gridwidth= 2,\n",
    "        #     ),\n",
    "        yaxis = dict(\n",
    "            title=\"Feature Importances\",\n",
    "            ticklen = 5,\n",
    "            gridwidth = 2\n",
    "        ),\n",
    "        showlegend = False    \n",
    "    )\n",
    "\n",
    "    fig = go.Figure(data = data, layout =layout)\n",
    "    py.iplot(fig, filename='Scatter2010')"
   ]
  },
  {
   "cell_type": "markdown",
   "metadata": {
    "_cell_guid": "553828f0-c994-5ee1-695f-9373f11a1a7b",
    "_uuid": "9d7b8fdd0c3102d7e3ddcffaf26ce19b02e5ad74"
   },
   "source": [
    "* Feature Importance값의 평균값을 새로운 피처로 생성"
   ]
  },
  {
   "cell_type": "code",
   "execution_count": 29,
   "metadata": {
    "execution": {
     "iopub.execute_input": "2021-08-05T21:39:47.741363Z",
     "iopub.status.busy": "2021-08-05T21:39:47.741048Z",
     "iopub.status.idle": "2021-08-05T21:39:47.764820Z",
     "shell.execute_reply": "2021-08-05T21:39:47.763890Z",
     "shell.execute_reply.started": "2021-08-05T21:39:47.741304Z"
    }
   },
   "outputs": [
    {
     "data": {
      "text/html": [
       "<div>\n",
       "<style scoped>\n",
       "    .dataframe tbody tr th:only-of-type {\n",
       "        vertical-align: middle;\n",
       "    }\n",
       "\n",
       "    .dataframe tbody tr th {\n",
       "        vertical-align: top;\n",
       "    }\n",
       "\n",
       "    .dataframe thead th {\n",
       "        text-align: right;\n",
       "    }\n",
       "</style>\n",
       "<table border=\"1\" class=\"dataframe\">\n",
       "  <thead>\n",
       "    <tr style=\"text-align: right;\">\n",
       "      <th></th>\n",
       "      <th>features</th>\n",
       "      <th>Random Forest feature importances</th>\n",
       "      <th>Extra Trees  feature importances</th>\n",
       "      <th>AdaBoost feature importances</th>\n",
       "      <th>Gradient Boost feature importances</th>\n",
       "      <th>mean</th>\n",
       "    </tr>\n",
       "  </thead>\n",
       "  <tbody>\n",
       "    <tr>\n",
       "      <th>0</th>\n",
       "      <td>Pclass</td>\n",
       "      <td>0.123551</td>\n",
       "      <td>0.116510</td>\n",
       "      <td>0.030</td>\n",
       "      <td>0.079679</td>\n",
       "      <td>0.087435</td>\n",
       "    </tr>\n",
       "    <tr>\n",
       "      <th>1</th>\n",
       "      <td>Sex</td>\n",
       "      <td>0.200401</td>\n",
       "      <td>0.416033</td>\n",
       "      <td>0.012</td>\n",
       "      <td>0.035794</td>\n",
       "      <td>0.166057</td>\n",
       "    </tr>\n",
       "    <tr>\n",
       "      <th>2</th>\n",
       "      <td>Age</td>\n",
       "      <td>0.032013</td>\n",
       "      <td>0.020970</td>\n",
       "      <td>0.016</td>\n",
       "      <td>0.109616</td>\n",
       "      <td>0.044650</td>\n",
       "    </tr>\n",
       "  </tbody>\n",
       "</table>\n",
       "</div>"
      ],
      "text/plain": [
       "  features    ...         mean\n",
       "0   Pclass    ...     0.087435\n",
       "1      Sex    ...     0.166057\n",
       "2      Age    ...     0.044650\n",
       "\n",
       "[3 rows x 6 columns]"
      ]
     },
     "execution_count": 29,
     "metadata": {},
     "output_type": "execute_result"
    }
   ],
   "source": [
    "feature_dataframe[\"mean\"] = feature_dataframe.mean(axis=1)\n",
    "feature_dataframe.head(n=3)"
   ]
  },
  {
   "cell_type": "markdown",
   "metadata": {
    "_cell_guid": "5645e647-c517-7822-f881-b8d7e38ef5da",
    "_uuid": "1f0aff0896fef90b326fff7816393fef0e0cb992"
   },
   "source": [
    "**Plotly Barplot of Average Feature Importances**\n",
    "\n",
    "피처 중요도의 평균을 바차트로 표시"
   ]
  },
  {
   "cell_type": "code",
   "execution_count": 30,
   "metadata": {
    "execution": {
     "iopub.execute_input": "2021-08-05T21:40:51.383388Z",
     "iopub.status.busy": "2021-08-05T21:40:51.383124Z",
     "iopub.status.idle": "2021-08-05T21:40:51.409973Z",
     "shell.execute_reply": "2021-08-05T21:40:51.409270Z",
     "shell.execute_reply.started": "2021-08-05T21:40:51.383354Z"
    }
   },
   "outputs": [
    {
     "data": {
      "application/vnd.plotly.v1+json": {
       "data": [
        {
         "marker": {
          "color": [
           0.08743494322044053,
           0.16605691868104225,
           0.04464957171993387,
           0.0307359990943183,
           0.0634784029966573,
           0.024456258077373144,
           0.3161496828564841,
           0.04887090143231079,
           0.054216376304377464,
           0.015452547633046479,
           0.14849839798401573
          ],
          "colorscale": "Portland",
          "reversescale": false,
          "showscale": true
         },
         "opacity": 0.6,
         "type": "bar",
         "x": [
          "Pclass",
          "Sex",
          "Age",
          "Parch",
          "Fare",
          "Embarked",
          "Name_length",
          "Has_Cabin",
          "FamilySize",
          "IsAlone",
          "Title"
         ],
         "y": [
          0.08743494322044053,
          0.16605691868104225,
          0.04464957171993387,
          0.0307359990943183,
          0.0634784029966573,
          0.024456258077373144,
          0.3161496828564841,
          0.04887090143231079,
          0.054216376304377464,
          0.015452547633046479,
          0.14849839798401573
         ]
        }
       ],
       "layout": {
        "autosize": true,
        "hovermode": "closest",
        "showlegend": false,
        "title": "BarPlots of Mean Feature Importances",
        "xaxis": {
         "gridwidth": 2,
         "ticklen": 5,
         "title": "Feature mean",
         "zeroline": false
        },
        "yaxis": {
         "gridwidth": 2,
         "ticklen": 5,
         "title": "Feature Imporances"
        }
       }
      },
      "text/html": [
       "<div id=\"68e28a3c-e587-4cbb-907b-8652a5e1e8d0\" style=\"height: 525px; width: 100%;\" class=\"plotly-graph-div\"></div><script type=\"text/javascript\">require([\"plotly\"], function(Plotly) { window.PLOTLYENV=window.PLOTLYENV || {};window.PLOTLYENV.BASE_URL=\"https://plot.ly\";Plotly.newPlot(\"68e28a3c-e587-4cbb-907b-8652a5e1e8d0\", [{\"type\": \"bar\", \"x\": [\"Pclass\", \"Sex\", \"Age\", \"Parch\", \"Fare\", \"Embarked\", \"Name_length\", \"Has_Cabin\", \"FamilySize\", \"IsAlone\", \"Title\"], \"y\": [0.08743494322044053, 0.16605691868104225, 0.04464957171993387, 0.0307359990943183, 0.0634784029966573, 0.024456258077373144, 0.3161496828564841, 0.04887090143231079, 0.054216376304377464, 0.015452547633046479, 0.14849839798401573], \"marker\": {\"color\": [0.08743494322044053, 0.16605691868104225, 0.04464957171993387, 0.0307359990943183, 0.0634784029966573, 0.024456258077373144, 0.3161496828564841, 0.04887090143231079, 0.054216376304377464, 0.015452547633046479, 0.14849839798401573], \"colorscale\": \"Portland\", \"showscale\": true, \"reversescale\": false}, \"opacity\": 0.6}], {\"autosize\": true, \"title\": \"BarPlots of Mean Feature Importances\", \"hovermode\": \"closest\", \"xaxis\": {\"title\": \"Feature mean\", \"ticklen\": 5, \"zeroline\": false, \"gridwidth\": 2}, \"yaxis\": {\"title\": \"Feature Imporances\", \"ticklen\": 5, \"gridwidth\": 2}, \"showlegend\": false}, {\"showLink\": true, \"linkText\": \"Export to plot.ly\"})});</script>"
      ],
      "text/vnd.plotly.v1+html": [
       "<div id=\"68e28a3c-e587-4cbb-907b-8652a5e1e8d0\" style=\"height: 525px; width: 100%;\" class=\"plotly-graph-div\"></div><script type=\"text/javascript\">require([\"plotly\"], function(Plotly) { window.PLOTLYENV=window.PLOTLYENV || {};window.PLOTLYENV.BASE_URL=\"https://plot.ly\";Plotly.newPlot(\"68e28a3c-e587-4cbb-907b-8652a5e1e8d0\", [{\"type\": \"bar\", \"x\": [\"Pclass\", \"Sex\", \"Age\", \"Parch\", \"Fare\", \"Embarked\", \"Name_length\", \"Has_Cabin\", \"FamilySize\", \"IsAlone\", \"Title\"], \"y\": [0.08743494322044053, 0.16605691868104225, 0.04464957171993387, 0.0307359990943183, 0.0634784029966573, 0.024456258077373144, 0.3161496828564841, 0.04887090143231079, 0.054216376304377464, 0.015452547633046479, 0.14849839798401573], \"marker\": {\"color\": [0.08743494322044053, 0.16605691868104225, 0.04464957171993387, 0.0307359990943183, 0.0634784029966573, 0.024456258077373144, 0.3161496828564841, 0.04887090143231079, 0.054216376304377464, 0.015452547633046479, 0.14849839798401573], \"colorscale\": \"Portland\", \"showscale\": true, \"reversescale\": false}, \"opacity\": 0.6}], {\"autosize\": true, \"title\": \"BarPlots of Mean Feature Importances\", \"hovermode\": \"closest\", \"xaxis\": {\"title\": \"Feature mean\", \"ticklen\": 5, \"zeroline\": false, \"gridwidth\": 2}, \"yaxis\": {\"title\": \"Feature Imporances\", \"ticklen\": 5, \"gridwidth\": 2}, \"showlegend\": false}, {\"showLink\": true, \"linkText\": \"Export to plot.ly\"})});</script>"
      ]
     },
     "metadata": {},
     "output_type": "display_data"
    }
   ],
   "source": [
    "y = feature_dataframe[\"mean\"].values\n",
    "x = feature_dataframe[\"features\"].values\n",
    "\n",
    "# data region\n",
    "data = [\n",
    "    go.Bar(\n",
    "            x = x,\n",
    "            y = y,\n",
    "            marker=dict(\n",
    "                color = feature_dataframe[\"mean\"].values,\n",
    "                colorscale=\"Portland\",\n",
    "                showscale=True,\n",
    "                reversescale=False\n",
    "            ),\n",
    "            opacity=0.6\n",
    "    )    \n",
    "]\n",
    "\n",
    "#그래프의 배치 및 눈금 \n",
    "layout = go.Layout(\n",
    "    autosize=True,\n",
    "    title=\"BarPlots of Mean Feature Importances\",\n",
    "    hovermode=\"closest\",\n",
    "    xaxis = dict(\n",
    "        title=\"Feature mean\",\n",
    "        ticklen= 5,\n",
    "        zeroline = False,\n",
    "        gridwidth= 2\n",
    "    ),\n",
    "    yaxis = dict(\n",
    "        title= \"Feature Imporances\",\n",
    "        ticklen= 5,\n",
    "        gridwidth=  2\n",
    "    ),\n",
    "    showlegend = False\n",
    ")\n",
    "fig = go.Figure(data = data, layout = layout)\n",
    "py.iplot(fig, filename='bar-direct-labels')"
   ]
  },
  {
   "cell_type": "markdown",
   "metadata": {
    "_cell_guid": "c1201ecc-b07d-f8a1-0870-b8d78c89ebc0",
    "_uuid": "bbb76d189e8d03921caaacfa9545cef894348c7d"
   },
   "source": [
    "# Second-Level Predictions from the First-level Output"
   ]
  },
  {
   "cell_type": "markdown",
   "metadata": {
    "_cell_guid": "6b901750-ccdd-38ca-d8ea-1c361121ec4f",
    "_uuid": "fed132782b73dda8d265065867e7f57c0aed7f50"
   },
   "source": [
    "**First-level output as new features**"
   ]
  },
  {
   "cell_type": "code",
   "execution_count": 31,
   "metadata": {
    "_cell_guid": "7330a71c-0b71-87c2-1f4d-dd0f6d6fa586",
    "_uuid": "a5945e93337b87a1a8ee5580856768bbb14c07cd",
    "execution": {
     "iopub.execute_input": "2021-08-05T21:45:10.443201Z",
     "iopub.status.busy": "2021-08-05T21:45:10.442912Z",
     "iopub.status.idle": "2021-08-05T21:45:10.464274Z",
     "shell.execute_reply": "2021-08-05T21:45:10.463513Z",
     "shell.execute_reply.started": "2021-08-05T21:45:10.443158Z"
    }
   },
   "outputs": [
    {
     "data": {
      "text/html": [
       "<div>\n",
       "<style scoped>\n",
       "    .dataframe tbody tr th:only-of-type {\n",
       "        vertical-align: middle;\n",
       "    }\n",
       "\n",
       "    .dataframe tbody tr th {\n",
       "        vertical-align: top;\n",
       "    }\n",
       "\n",
       "    .dataframe thead th {\n",
       "        text-align: right;\n",
       "    }\n",
       "</style>\n",
       "<table border=\"1\" class=\"dataframe\">\n",
       "  <thead>\n",
       "    <tr style=\"text-align: right;\">\n",
       "      <th></th>\n",
       "      <th>RandomForest</th>\n",
       "      <th>ExtraTrees</th>\n",
       "      <th>AdaBoost</th>\n",
       "      <th>GradientBoost</th>\n",
       "    </tr>\n",
       "  </thead>\n",
       "  <tbody>\n",
       "    <tr>\n",
       "      <th>0</th>\n",
       "      <td>0.0</td>\n",
       "      <td>0.0</td>\n",
       "      <td>0.0</td>\n",
       "      <td>0.0</td>\n",
       "    </tr>\n",
       "    <tr>\n",
       "      <th>1</th>\n",
       "      <td>1.0</td>\n",
       "      <td>1.0</td>\n",
       "      <td>1.0</td>\n",
       "      <td>1.0</td>\n",
       "    </tr>\n",
       "    <tr>\n",
       "      <th>2</th>\n",
       "      <td>0.0</td>\n",
       "      <td>0.0</td>\n",
       "      <td>1.0</td>\n",
       "      <td>1.0</td>\n",
       "    </tr>\n",
       "    <tr>\n",
       "      <th>3</th>\n",
       "      <td>1.0</td>\n",
       "      <td>1.0</td>\n",
       "      <td>1.0</td>\n",
       "      <td>1.0</td>\n",
       "    </tr>\n",
       "    <tr>\n",
       "      <th>4</th>\n",
       "      <td>0.0</td>\n",
       "      <td>0.0</td>\n",
       "      <td>0.0</td>\n",
       "      <td>0.0</td>\n",
       "    </tr>\n",
       "  </tbody>\n",
       "</table>\n",
       "</div>"
      ],
      "text/plain": [
       "   RandomForest  ExtraTrees  AdaBoost  GradientBoost\n",
       "0           0.0         0.0       0.0            0.0\n",
       "1           1.0         1.0       1.0            1.0\n",
       "2           0.0         0.0       1.0            1.0\n",
       "3           1.0         1.0       1.0            1.0\n",
       "4           0.0         0.0       0.0            0.0"
      ]
     },
     "execution_count": 31,
     "metadata": {},
     "output_type": "execute_result"
    }
   ],
   "source": [
    "base_predictions_train = pd.DataFrame( {'RandomForest': np.array(rf_oof_train).ravel(),\n",
    "     'ExtraTrees': np.array(et_oof_train).ravel(),\n",
    "     'AdaBoost': np.array(ada_oof_train).ravel(),\n",
    "      'GradientBoost': np.array(gb_oof_train).ravel()\n",
    "    })\n",
    "base_predictions_train.head()"
   ]
  },
  {
   "cell_type": "markdown",
   "metadata": {
    "_cell_guid": "f69c11db-d84e-8536-4c7e-382fbe67483e",
    "_uuid": "2a6f987bd9b8ffc32a72e21cb8c43a6bc43ba200"
   },
   "source": [
    "** Correlation Heatmap of the Second Level Training set**"
   ]
  },
  {
   "cell_type": "code",
   "execution_count": 32,
   "metadata": {
    "execution": {
     "iopub.execute_input": "2021-08-05T21:45:51.776498Z",
     "iopub.status.busy": "2021-08-05T21:45:51.776160Z",
     "iopub.status.idle": "2021-08-05T21:45:51.790176Z",
     "shell.execute_reply": "2021-08-05T21:45:51.789229Z",
     "shell.execute_reply.started": "2021-08-05T21:45:51.776413Z"
    }
   },
   "outputs": [
    {
     "data": {
      "application/vnd.plotly.v1+json": {
       "data": [
        {
         "colorscale": "Viridis",
         "reversescale": true,
         "showscale": true,
         "type": "heatmap",
         "x": [
          "RandomForest",
          "ExtraTrees",
          "AdaBoost",
          "GradientBoost"
         ],
         "y": [
          "RandomForest",
          "ExtraTrees",
          "AdaBoost",
          "GradientBoost"
         ],
         "z": [
          [
           1.0,
           0.8601354765887815,
           0.7819121726613367,
           0.7370490349650781
          ],
          [
           0.8601354765887815,
           1.0,
           0.812778171156294,
           0.7025033739171489
          ],
          [
           0.7819121726613367,
           0.812778171156294,
           1.0,
           0.6561828650685883
          ],
          [
           0.7370490349650781,
           0.7025033739171489,
           0.6561828650685883,
           1.0
          ]
         ]
        }
       ],
       "layout": {}
      },
      "text/html": [
       "<div id=\"1469312b-aa9f-4316-bb34-48d3ed93eabe\" style=\"height: 525px; width: 100%;\" class=\"plotly-graph-div\"></div><script type=\"text/javascript\">require([\"plotly\"], function(Plotly) { window.PLOTLYENV=window.PLOTLYENV || {};window.PLOTLYENV.BASE_URL=\"https://plot.ly\";Plotly.newPlot(\"1469312b-aa9f-4316-bb34-48d3ed93eabe\", [{\"type\": \"heatmap\", \"z\": [[1.0, 0.8601354765887815, 0.7819121726613367, 0.7370490349650781], [0.8601354765887815, 1.0, 0.812778171156294, 0.7025033739171489], [0.7819121726613367, 0.812778171156294, 1.0, 0.6561828650685883], [0.7370490349650781, 0.7025033739171489, 0.6561828650685883, 1.0]], \"x\": [\"RandomForest\", \"ExtraTrees\", \"AdaBoost\", \"GradientBoost\"], \"y\": [\"RandomForest\", \"ExtraTrees\", \"AdaBoost\", \"GradientBoost\"], \"colorscale\": \"Viridis\", \"showscale\": true, \"reversescale\": true}], {}, {\"showLink\": true, \"linkText\": \"Export to plot.ly\"})});</script>"
      ],
      "text/vnd.plotly.v1+html": [
       "<div id=\"1469312b-aa9f-4316-bb34-48d3ed93eabe\" style=\"height: 525px; width: 100%;\" class=\"plotly-graph-div\"></div><script type=\"text/javascript\">require([\"plotly\"], function(Plotly) { window.PLOTLYENV=window.PLOTLYENV || {};window.PLOTLYENV.BASE_URL=\"https://plot.ly\";Plotly.newPlot(\"1469312b-aa9f-4316-bb34-48d3ed93eabe\", [{\"type\": \"heatmap\", \"z\": [[1.0, 0.8601354765887815, 0.7819121726613367, 0.7370490349650781], [0.8601354765887815, 1.0, 0.812778171156294, 0.7025033739171489], [0.7819121726613367, 0.812778171156294, 1.0, 0.6561828650685883], [0.7370490349650781, 0.7025033739171489, 0.6561828650685883, 1.0]], \"x\": [\"RandomForest\", \"ExtraTrees\", \"AdaBoost\", \"GradientBoost\"], \"y\": [\"RandomForest\", \"ExtraTrees\", \"AdaBoost\", \"GradientBoost\"], \"colorscale\": \"Viridis\", \"showscale\": true, \"reversescale\": true}], {}, {\"showLink\": true, \"linkText\": \"Export to plot.ly\"})});</script>"
      ]
     },
     "metadata": {},
     "output_type": "display_data"
    }
   ],
   "source": [
    "data = [\n",
    "    go.Heatmap(\n",
    "        z = base_predictions_train.astype(float).corr().values,\n",
    "        x = base_predictions_train.columns.values,\n",
    "        y = base_predictions_train.columns.values,\n",
    "        colorscale='Viridis',\n",
    "        showscale=True,\n",
    "        reversescale=True\n",
    "    )\n",
    "]\n",
    "py.iplot(data, filename='labelled-heatmap')"
   ]
  },
  {
   "cell_type": "code",
   "execution_count": 33,
   "metadata": {
    "execution": {
     "iopub.execute_input": "2021-08-05T21:46:19.155274Z",
     "iopub.status.busy": "2021-08-05T21:46:19.154991Z",
     "iopub.status.idle": "2021-08-05T21:46:19.160225Z",
     "shell.execute_reply": "2021-08-05T21:46:19.159615Z",
     "shell.execute_reply.started": "2021-08-05T21:46:19.155230Z"
    }
   },
   "outputs": [
    {
     "data": {
      "text/plain": [
       "numpy.ndarray"
      ]
     },
     "execution_count": 33,
     "metadata": {},
     "output_type": "execute_result"
    }
   ],
   "source": [
    "type(rf_oof_train[0])"
   ]
  },
  {
   "cell_type": "code",
   "execution_count": 34,
   "metadata": {
    "execution": {
     "iopub.execute_input": "2021-08-05T21:46:32.690155Z",
     "iopub.status.busy": "2021-08-05T21:46:32.689880Z",
     "iopub.status.idle": "2021-08-05T21:46:32.696341Z",
     "shell.execute_reply": "2021-08-05T21:46:32.695486Z",
     "shell.execute_reply.started": "2021-08-05T21:46:32.690113Z"
    }
   },
   "outputs": [],
   "source": [
    "# 리턴한 한 타입이 리스트안에 배열로 들어가있으니까...ndarray타입으로 해야 하니 인덱스 [0]을 취한 것.\n",
    "X_train = np.concatenate((et_oof_train[0], rf_oof_train[0], ada_oof_train[0], gb_oof_train[0], svm_oof_train[0]), axis = 1)\n",
    "X_test  = np.concatenate((et_oof_test[0], rf_oof_test[0], ada_oof_test[0], gb_oof_test[0], svm_oof_test[0]), axis= 1)"
   ]
  },
  {
   "cell_type": "markdown",
   "metadata": {
    "_cell_guid": "a02a94ab-3c9c-a824-7168-e964c5a0f5d5",
    "_uuid": "65727ae393d3f7118215fde76e4fd5a9d0e9dd6c"
   },
   "source": [
    "1차 base estimator에서 나온 학습 및 테스트 세트를 병합해 메타 머신 러닝 모델에서 사용"
   ]
  },
  {
   "cell_type": "markdown",
   "metadata": {
    "_cell_guid": "628a03ea-933c-7075-a589-0ff7af237dfd",
    "_uuid": "dc4a32e9a8e7c9e611124cba676e5d28240b38be"
   },
   "source": [
    "### XGBoost를 이용한 메타모델 학습 및 예측\n",
    "\n",
    "XGBoost를 최종 메타모델 분류기로 사용 할 것이고 자세한 내용은 공식 사이트를 참조하기 바랍니다.\n",
    "\n",
    "[official Documentation][1].\n",
    "\n",
    "  [1]: https://xgboost.readthedocs.io/en/latest/"
   ]
  },
  {
   "cell_type": "code",
   "execution_count": 35,
   "metadata": {
    "execution": {
     "iopub.execute_input": "2021-08-05T21:47:15.834212Z",
     "iopub.status.busy": "2021-08-05T21:47:15.833878Z",
     "iopub.status.idle": "2021-08-05T21:47:16.367185Z",
     "shell.execute_reply": "2021-08-05T21:47:16.366542Z",
     "shell.execute_reply.started": "2021-08-05T21:47:15.834141Z"
    }
   },
   "outputs": [],
   "source": [
    "gbm = XGBClassifier(n_estimators = 2000,\n",
    "                   learning_rate = 0.02,\n",
    "                   max_depth=4,\n",
    "                   min_child_weight=2,\n",
    "                   gamma=0.9,\n",
    "                   subsample=0.8,\n",
    "                   colsample_bytree=0.8,\n",
    "                   objective='binary:logistic',\n",
    "                   nthreads=-1,\n",
    "                   scale_pos_weight=1)\n",
    "gbm.fit(X_train, y_train)\n",
    "predictions = gbm.predict(X_test)"
   ]
  },
  {
   "cell_type": "markdown",
   "metadata": {
    "_cell_guid": "0a8152d8-6842-ed00-6bc5-47a511adce1c",
    "_uuid": "0101e6b843f6378838874ccfb844ed464b81d627"
   },
   "source": [
    "XGBoost 대표적인 파라미터:\n",
    "\n",
    "**max_depth** : 트리의 깊이 제어(related to the machine learning model overfitting)\n",
    "**gamma** : 오버피팅을 위한 제어값\n",
    "\n",
    "**eta** : learning_rate와 유사하다고 보면 됨"
   ]
  },
  {
   "cell_type": "markdown",
   "metadata": {
    "_cell_guid": "6b4a5c81-e968-d41e-27e4-871481019867",
    "_uuid": "52ac0cd99cee0099d86a180127da42ff7fff960a"
   },
   "source": [
    "**최종 결과 제출 파일**"
   ]
  },
  {
   "cell_type": "code",
   "execution_count": 36,
   "metadata": {
    "execution": {
     "iopub.execute_input": "2021-08-05T21:47:22.141632Z",
     "iopub.status.busy": "2021-08-05T21:47:22.141247Z",
     "iopub.status.idle": "2021-08-05T21:47:22.155873Z",
     "shell.execute_reply": "2021-08-05T21:47:22.154972Z",
     "shell.execute_reply.started": "2021-08-05T21:47:22.141574Z"
    }
   },
   "outputs": [
    {
     "data": {
      "text/html": [
       "<div>\n",
       "<style scoped>\n",
       "    .dataframe tbody tr th:only-of-type {\n",
       "        vertical-align: middle;\n",
       "    }\n",
       "\n",
       "    .dataframe tbody tr th {\n",
       "        vertical-align: top;\n",
       "    }\n",
       "\n",
       "    .dataframe thead th {\n",
       "        text-align: right;\n",
       "    }\n",
       "</style>\n",
       "<table border=\"1\" class=\"dataframe\">\n",
       "  <thead>\n",
       "    <tr style=\"text-align: right;\">\n",
       "      <th></th>\n",
       "      <th>PassengerId</th>\n",
       "      <th>Survived</th>\n",
       "    </tr>\n",
       "  </thead>\n",
       "  <tbody>\n",
       "    <tr>\n",
       "      <th>0</th>\n",
       "      <td>892</td>\n",
       "      <td>0</td>\n",
       "    </tr>\n",
       "    <tr>\n",
       "      <th>1</th>\n",
       "      <td>893</td>\n",
       "      <td>1</td>\n",
       "    </tr>\n",
       "    <tr>\n",
       "      <th>2</th>\n",
       "      <td>894</td>\n",
       "      <td>0</td>\n",
       "    </tr>\n",
       "  </tbody>\n",
       "</table>\n",
       "</div>"
      ],
      "text/plain": [
       "   PassengerId  Survived\n",
       "0          892         0\n",
       "1          893         1\n",
       "2          894         0"
      ]
     },
     "metadata": {},
     "output_type": "display_data"
    }
   ],
   "source": [
    "StackingSubmission = pd.DataFrame(\n",
    "    {\n",
    "                \"PassengerId\": PassengerId,\n",
    "                \"Survived\": predictions\n",
    "    }\n",
    ")\n",
    "display(StackingSubmission.head(n=3))"
   ]
  },
  {
   "cell_type": "code",
   "execution_count": 37,
   "metadata": {
    "execution": {
     "iopub.execute_input": "2021-08-05T21:47:27.303227Z",
     "iopub.status.busy": "2021-08-05T21:47:27.302781Z",
     "iopub.status.idle": "2021-08-05T21:47:27.525528Z",
     "shell.execute_reply": "2021-08-05T21:47:27.524702Z",
     "shell.execute_reply.started": "2021-08-05T21:47:27.303186Z"
    }
   },
   "outputs": [],
   "source": [
    "StackingSubmission.to_csv(target_dir+ \"StackingSubmission.csv\", index=False)"
   ]
  },
  {
   "cell_type": "markdown",
   "metadata": {
    "_cell_guid": "9a8f83fd-d0e8-035a-cf7f-25c9012e9373",
    "_uuid": "c32d1d64e1a5f8fbe5f51a0a7afd952ccfdec57e"
   },
   "source": [
    "### 결론\n",
    "\n",
    "스태킹 및 앙상블 기법에 대한 좋은 자료 참조 \n",
    "\n",
    "website MLWave: [Kaggle Ensembling Guide][1]. \n",
    "\n",
    "[1]: http://mlwave.com/kaggle-ensembling-guide/"
   ]
  },
  {
   "cell_type": "code",
   "execution_count": 38,
   "metadata": {
    "_cell_guid": "74641376-e124-e46f-0e7c-8cbee2a1321b",
    "_uuid": "8549710f41f2ca55f11400e7914ed2f15c380964"
   },
   "outputs": [],
   "source": []
  }
 ],
 "metadata": {
  "kernelspec": {
   "display_name": "Python 3",
   "language": "python",
   "name": "python3"
  },
  "language_info": {
   "codemirror_mode": {
    "name": "ipython",
    "version": 3
   },
   "file_extension": ".py",
   "mimetype": "text/x-python",
   "name": "python",
   "nbconvert_exporter": "python",
   "pygments_lexer": "ipython3",
   "version": "3.6.4"
  }
 },
 "nbformat": 4,
 "nbformat_minor": 4
}
