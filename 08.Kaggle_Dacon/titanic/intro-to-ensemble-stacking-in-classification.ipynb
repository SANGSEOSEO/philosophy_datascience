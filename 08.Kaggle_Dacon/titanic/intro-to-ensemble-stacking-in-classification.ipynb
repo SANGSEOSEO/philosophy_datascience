{
 "cells": [
  {
   "cell_type": "markdown",
   "metadata": {
    "_cell_guid": "bc64948f-5d6a-078d-085d-1beb58687bd3",
    "_uuid": "e919d1161f20999e599ba1fd66a5a45b9c82f229"
   },
   "source": [
    "# 앙상블 및 스태킹 소개\n",
    "\n",
    "이 캐글 노트북은 스태킹으로 알려진 앙상블 기법을 소개하고자 합니다.\n",
    "\n",
    "앙상블 기법은 좀 덜 떨어지는 여러 대의 분류기가 학습 데이터를 학습 및 예측하여 나온 예측 결과를 다수결로 결정하는 방식과 동일한 분류기\n",
    "\n",
    "를 사용하지만 각각의 학습 데이터를 샘플링을 달리하여 예측한 결과를 평균값으로 결정하는 방식이 있다.\n",
    "\n",
    "스태킹기법은 각각의 분류기가 학습 후 예측한 결과를 볏짚 쌓듯이 차곡차곡 쌓아서 이를 다시 최종 메타 분류기가 다시 한번 학습 및 예측하는 기법.\n",
    "\n",
    "해당 노트북은 [Stacking Starter][1]: by Faron  , [arthurtok][2] : by arthurtok 에 의해 쓰여진 캐글 노트북을 참고했습니다.\n",
    "\n",
    "또한 최근의 [Introduction to Ensembling/Stacking in Python][3] 을 바탕으로 작성된 캐글임을 밝힙니다. \n",
    "\n",
    "피처엔지니어링에 대한 좋은 캐글은 [Titanic Best Working Classfier][4] 이 글을 참고하셔도 좋습니다.\n",
    "\n",
    "\"책을 읽는다는 것은 단순히 활자를 읽는다는 것이 아니라 , 그 시대를 읽는것이다\"\n",
    "\n",
    "  [1]: https://www.kaggle.com/mmueller/allstate-claims-severity/stacking-starter/run/390867\n",
    "  [2]: https://www.kaggle.com/arthurtok/titanic/simple-stacking-with-xgboost-0-808\n",
    "  [3]: https://www.kaggle.com/arthurtok/introduction-to-ensembling-stacking-in-python\n",
    "  [4]: https://www.kaggle.com/sinakhorami/titanic/titanic-best-working-classifier"
   ]
  },
  {
   "cell_type": "markdown",
   "metadata": {},
   "source": [
    "# Load library"
   ]
  },
  {
   "cell_type": "code",
   "execution_count": 1,
   "metadata": {
    "execution": {
     "iopub.execute_input": "2021-08-20T00:25:20.119906Z",
     "iopub.status.busy": "2021-08-20T00:25:20.119612Z",
     "iopub.status.idle": "2021-08-20T00:25:21.177277Z",
     "shell.execute_reply": "2021-08-20T00:25:21.176596Z",
     "shell.execute_reply.started": "2021-08-20T00:25:20.119852Z"
    }
   },
   "outputs": [],
   "source": [
    "import pandas as pd\n",
    "import numpy as np\n",
    "import sklearn\n",
    "import re\n",
    "import xgboost as xgb\n",
    "import seaborn as sns\n",
    "import matplotlib.pyplot as plt\n",
    "%matplotlib inline\n",
    "\n",
    "import warnings\n",
    "warnings.filterwarnings(\"ignore\")\n",
    "\n",
    "# 스태킹을 위해 5개의 ML모델을 사용\n",
    "from sklearn.ensemble import (RandomForestClassifier,AdaBoostClassifier, GradientBoostingClassifier, ExtraTreesClassifier)\n",
    "from sklearn.svm import SVC\n",
    "from xgboost import XGBClassifier\n",
    "from sklearn.cross_validation import KFold\n",
    "\n",
    "# target directory for submission file\n",
    "target_dir = '/kaggle/working/'"
   ]
  },
  {
   "cell_type": "code",
   "execution_count": 2,
   "metadata": {
    "execution": {
     "iopub.execute_input": "2021-08-20T00:27:29.230489Z",
     "iopub.status.busy": "2021-08-20T00:27:29.230134Z",
     "iopub.status.idle": "2021-08-20T00:27:29.236879Z",
     "shell.execute_reply": "2021-08-20T00:27:29.235878Z",
     "shell.execute_reply.started": "2021-08-20T00:27:29.230407Z"
    }
   },
   "outputs": [
    {
     "data": {
      "text/html": [
       "<script>requirejs.config({paths: { 'plotly': ['https://cdn.plot.ly/plotly-latest.min']},});if(!window.Plotly) {{require(['plotly'],function(plotly) {window.Plotly=plotly;});}}</script>"
      ],
      "text/vnd.plotly.v1+html": [
       "<script>requirejs.config({paths: { 'plotly': ['https://cdn.plot.ly/plotly-latest.min']},});if(!window.Plotly) {{require(['plotly'],function(plotly) {window.Plotly=plotly;});}}</script>"
      ]
     },
     "metadata": {},
     "output_type": "display_data"
    }
   ],
   "source": [
    "# plotly를 이용한 시각화\n",
    "import plotly.offline as py\n",
    "py.init_notebook_mode(connected=True)  # 캐글 및 코랩에서 사용가능하도록 셋업\n",
    "\n",
    "import plotly.graph_objs as go\n",
    "import plotly.tools as tls"
   ]
  },
  {
   "cell_type": "markdown",
   "metadata": {
    "_cell_guid": "d647b74c-099b-851a-dcd2-3a58c9e8f10c",
    "_uuid": "8b590aafe06a2ac55daae9d2456155e457914f5f"
   },
   "source": [
    "# Feature Exploration, Engineering and Cleaning \n",
    "\n",
    "범주형 피처에 대해서 숫자형으로 인코딩, 피처 엔지니어링, EDA및 데이터 정제 진행"
   ]
  },
  {
   "cell_type": "code",
   "execution_count": 3,
   "metadata": {
    "execution": {
     "iopub.execute_input": "2021-08-20T00:27:45.368785Z",
     "iopub.status.busy": "2021-08-20T00:27:45.36847Z",
     "iopub.status.idle": "2021-08-20T00:27:45.375395Z",
     "shell.execute_reply": "2021-08-20T00:27:45.37467Z",
     "shell.execute_reply.started": "2021-08-20T00:27:45.368727Z"
    }
   },
   "outputs": [
    {
     "name": "stdout",
     "output_type": "stream",
     "text": [
      "/kaggle/input/titanic\n"
     ]
    }
   ],
   "source": [
    "%cd ../input/titanic"
   ]
  },
  {
   "cell_type": "code",
   "execution_count": 4,
   "metadata": {
    "execution": {
     "iopub.execute_input": "2021-08-20T00:28:24.272369Z",
     "iopub.status.busy": "2021-08-20T00:28:24.27202Z",
     "iopub.status.idle": "2021-08-20T00:28:24.388381Z",
     "shell.execute_reply": "2021-08-20T00:28:24.38752Z",
     "shell.execute_reply.started": "2021-08-20T00:28:24.27232Z"
    }
   },
   "outputs": [
    {
     "data": {
      "text/html": [
       "<div>\n",
       "<style scoped>\n",
       "    .dataframe tbody tr th:only-of-type {\n",
       "        vertical-align: middle;\n",
       "    }\n",
       "\n",
       "    .dataframe tbody tr th {\n",
       "        vertical-align: top;\n",
       "    }\n",
       "\n",
       "    .dataframe thead th {\n",
       "        text-align: right;\n",
       "    }\n",
       "</style>\n",
       "<table border=\"1\" class=\"dataframe\">\n",
       "  <thead>\n",
       "    <tr style=\"text-align: right;\">\n",
       "      <th></th>\n",
       "      <th>PassengerId</th>\n",
       "      <th>Survived</th>\n",
       "      <th>Pclass</th>\n",
       "      <th>Name</th>\n",
       "      <th>Sex</th>\n",
       "      <th>Age</th>\n",
       "      <th>SibSp</th>\n",
       "      <th>Parch</th>\n",
       "      <th>Ticket</th>\n",
       "      <th>Fare</th>\n",
       "      <th>Cabin</th>\n",
       "      <th>Embarked</th>\n",
       "    </tr>\n",
       "  </thead>\n",
       "  <tbody>\n",
       "    <tr>\n",
       "      <th>0</th>\n",
       "      <td>1</td>\n",
       "      <td>0</td>\n",
       "      <td>3</td>\n",
       "      <td>Braund, Mr. Owen Harris</td>\n",
       "      <td>male</td>\n",
       "      <td>22.0</td>\n",
       "      <td>1</td>\n",
       "      <td>0</td>\n",
       "      <td>A/5 21171</td>\n",
       "      <td>7.2500</td>\n",
       "      <td>NaN</td>\n",
       "      <td>S</td>\n",
       "    </tr>\n",
       "    <tr>\n",
       "      <th>1</th>\n",
       "      <td>2</td>\n",
       "      <td>1</td>\n",
       "      <td>1</td>\n",
       "      <td>Cumings, Mrs. John Bradley (Florence Briggs Th...</td>\n",
       "      <td>female</td>\n",
       "      <td>38.0</td>\n",
       "      <td>1</td>\n",
       "      <td>0</td>\n",
       "      <td>PC 17599</td>\n",
       "      <td>71.2833</td>\n",
       "      <td>C85</td>\n",
       "      <td>C</td>\n",
       "    </tr>\n",
       "  </tbody>\n",
       "</table>\n",
       "</div>"
      ],
      "text/plain": [
       "   PassengerId  Survived  Pclass    ...        Fare Cabin  Embarked\n",
       "0            1         0       3    ...      7.2500   NaN         S\n",
       "1            2         1       1    ...     71.2833   C85         C\n",
       "\n",
       "[2 rows x 12 columns]"
      ]
     },
     "metadata": {},
     "output_type": "display_data"
    },
    {
     "data": {
      "text/plain": [
       "'\\n'"
      ]
     },
     "metadata": {},
     "output_type": "display_data"
    },
    {
     "data": {
      "text/plain": [
       "(891, 12)"
      ]
     },
     "metadata": {},
     "output_type": "display_data"
    },
    {
     "data": {
      "text/plain": [
       "(418, 11)"
      ]
     },
     "metadata": {},
     "output_type": "display_data"
    },
    {
     "name": "stdout",
     "output_type": "stream",
     "text": [
      "<class 'pandas.core.frame.DataFrame'>\n",
      "RangeIndex: 891 entries, 0 to 890\n",
      "Data columns (total 12 columns):\n",
      "PassengerId    891 non-null int64\n",
      "Survived       891 non-null int64\n",
      "Pclass         891 non-null int64\n",
      "Name           891 non-null object\n",
      "Sex            891 non-null object\n",
      "Age            714 non-null float64\n",
      "SibSp          891 non-null int64\n",
      "Parch          891 non-null int64\n",
      "Ticket         891 non-null object\n",
      "Fare           891 non-null float64\n",
      "Cabin          204 non-null object\n",
      "Embarked       889 non-null object\n",
      "dtypes: float64(2), int64(5), object(5)\n",
      "memory usage: 83.6+ KB\n"
     ]
    },
    {
     "data": {
      "text/plain": [
       "None"
      ]
     },
     "metadata": {},
     "output_type": "display_data"
    },
    {
     "name": "stdout",
     "output_type": "stream",
     "text": [
      "<class 'pandas.core.frame.DataFrame'>\n",
      "RangeIndex: 418 entries, 0 to 417\n",
      "Data columns (total 11 columns):\n",
      "PassengerId    418 non-null int64\n",
      "Pclass         418 non-null int64\n",
      "Name           418 non-null object\n",
      "Sex            418 non-null object\n",
      "Age            332 non-null float64\n",
      "SibSp          418 non-null int64\n",
      "Parch          418 non-null int64\n",
      "Ticket         418 non-null object\n",
      "Fare           417 non-null float64\n",
      "Cabin          91 non-null object\n",
      "Embarked       418 non-null object\n",
      "dtypes: float64(2), int64(4), object(5)\n",
      "memory usage: 36.0+ KB\n"
     ]
    },
    {
     "data": {
      "text/plain": [
       "None"
      ]
     },
     "metadata": {},
     "output_type": "display_data"
    }
   ],
   "source": [
    "def load_dataset():\n",
    "    \"\"\"\n",
    "    데이터셋 로드\n",
    "    \"\"\"\n",
    "    train = pd.read_csv(\"train.csv\")\n",
    "    test  = pd.read_csv(\"test.csv\")\n",
    "    \n",
    "    PassengerId = test[\"PassengerId\"]\n",
    "    \n",
    "    display(train.head(n=2), \"\\n\", train.shape, test.shape)\n",
    "    display(train.info())\n",
    "    display(test.info())\n",
    "    \n",
    "    full_data = [train, test]\n",
    "    \n",
    "    return train, test, PassengerId, full_data\n",
    "\n",
    "# 데이터셋로드 \n",
    "train, test, PassengerId, full_data = load_dataset()"
   ]
  },
  {
   "cell_type": "markdown",
   "metadata": {
    "_cell_guid": "dff1c1dd-1e59-3907-88fa-1a1d699122be",
    "_uuid": "81378834770e55c76751347588322fe32acf5737"
   },
   "source": [
    "범주형 변수(categorical variables)에서 인사이트를 찾아 새로운 파생변수를 생성하는 것이 피처 엔지니어링이라고 할 수 있다.\n",
    "\n",
    "**피처 엔지니어링**\n",
    "\n",
    "피처 엔지니어링에 대해서 아래 케글의 노트북을 참고하시면 좋을 것 같습니다.\n",
    "\n",
    "[Titanic Best Working Classfier][1] : by Sina\n",
    "\n",
    "  [1]: https://www.kaggle.com/sinakhorami/titanic/titanic-best-working-classifier"
   ]
  },
  {
   "cell_type": "code",
   "execution_count": 5,
   "metadata": {
    "execution": {
     "iopub.execute_input": "2021-08-19T22:31:46.971349Z",
     "iopub.status.busy": "2021-08-19T22:31:46.971071Z",
     "iopub.status.idle": "2021-08-19T22:31:46.98154Z",
     "shell.execute_reply": "2021-08-19T22:31:46.981037Z",
     "shell.execute_reply.started": "2021-08-19T22:31:46.971307Z"
    }
   },
   "outputs": [
    {
     "data": {
      "text/plain": [
       "(16.336, 32.252]    346\n",
       "(32.252, 48.168]    188\n",
       "(0.34, 16.336]      100\n",
       "(48.168, 64.084]     69\n",
       "(64.084, 80.0]       11\n",
       "Name: Age, dtype: int64"
      ]
     },
     "execution_count": 5,
     "metadata": {},
     "output_type": "execute_result"
    }
   ],
   "source": [
    "# Age피처를 5개의 범주형 데이터로 나눈 결과르 빈도수 확인\n",
    "pd.cut(train['Age'], 5).value_counts()"
   ]
  },
  {
   "cell_type": "code",
   "execution_count": 6,
   "metadata": {
    "execution": {
     "iopub.execute_input": "2021-08-19T22:31:46.994125Z",
     "iopub.status.busy": "2021-08-19T22:31:46.993685Z",
     "iopub.status.idle": "2021-08-19T22:31:47.004186Z",
     "shell.execute_reply": "2021-08-19T22:31:47.003621Z",
     "shell.execute_reply.started": "2021-08-19T22:31:46.994086Z"
    }
   },
   "outputs": [
    {
     "data": {
      "text/plain": [
       "(-0.512, 128.082]     853\n",
       "(128.082, 256.165]     29\n",
       "(256.165, 384.247]      6\n",
       "(384.247, 512.329]      3\n",
       "Name: Fare, dtype: int64"
      ]
     },
     "execution_count": 6,
     "metadata": {},
     "output_type": "execute_result"
    }
   ],
   "source": [
    "# Fare피처를 4개의 범주형 데이터로 나눈 결과를 빈도수 확인\n",
    "pd.cut(train['Fare'], 4).value_counts()"
   ]
  },
  {
   "cell_type": "code",
   "execution_count": 7,
   "metadata": {
    "execution": {
     "iopub.execute_input": "2021-08-20T00:29:23.347884Z",
     "iopub.status.busy": "2021-08-20T00:29:23.347572Z",
     "iopub.status.idle": "2021-08-20T00:29:24.030783Z",
     "shell.execute_reply": "2021-08-20T00:29:24.029859Z",
     "shell.execute_reply.started": "2021-08-20T00:29:23.347841Z"
    }
   },
   "outputs": [],
   "source": [
    "full_data = [train, test]\n",
    "train[\"Name_length\"] = train[\"Name\"].apply(len)\n",
    "test[\"Name_length\"] = test[\"Name\"].apply(len)\n",
    "\n",
    "# Cabin owns?\n",
    "train[\"Has_Cabin\"] = train[\"Cabin\"].apply(lambda x: 0 if type(x) ==float else 1)\n",
    "test[\"Has_Cabin\"] = test[\"Cabin\"].apply(lambda x: 0 if type(x) == float else 1)\n",
    "\n",
    "\n",
    "# New feature - 10 FamilySize\n",
    "for dataset in full_data:\n",
    "    dataset[\"FamilySize\"] = dataset[\"Parch\"] + dataset[\"SibSp\"] + 1\n",
    "\n",
    "# New Feature derived from FamilySize feature.\n",
    "for dataset in full_data:\n",
    "    dataset[\"IsAlone\"] = 0\n",
    "    dataset.loc[dataset[\"FamilySize\"] ==1, \"IsAlone\"] = 1\n",
    "    \n",
    "# Removed null value from Embarked feature\n",
    "for dataset in full_data:\n",
    "    dataset[\"Embarked\"] = dataset[\"Embarked\"].fillna(\"S\")\n",
    "    \n",
    "# Remove null value from Fare feature and create a new feature  - Fare_Band\n",
    "for dataset in full_data:\n",
    "    dataset[\"Fare\"] = dataset[\"Fare\"].fillna(train[\"Fare\"].median())\n",
    "    \n",
    "train[\"CategoricalFare\"] = pd.cut(train[\"Fare\"], 4)\n",
    "\n",
    "# Create a new feature CategoricalAge\n",
    "# fill NaN value for Age feature into random value\n",
    "for dataset in full_data:\n",
    "    avg_age = dataset[\"Age\"].mean()\n",
    "    std_age = dataset[\"Age\"].std()\n",
    "    age_null_count = dataset[\"Age\"].isnull().sum()\n",
    "    age_null_random_list = np.random.randint(avg_age - std_age, avg_age + std_age, age_null_count)\n",
    "    dataset[\"Age\"][np.isnan(dataset[\"Age\"])] = age_null_random_list\n",
    "    dataset[\"Age\"] = dataset[\"Age\"].astype(int)\n",
    "    \n",
    "train[\"CategoricalAge\"] = pd.cut(train[\"Age\"], 5)  # Age피처의 값을 5개의 구간으로 분할\n",
    "\n",
    "# Title피처에 대한 처리 \n",
    "def get_title(name):\n",
    "    \"\"\"\n",
    "    승선자의 이름을 인자로 존칭을 리턴\n",
    "    \"\"\"\n",
    "    title = None\n",
    "    title_search = re.search(\"([a-zA-Z]+)\\.\", name)\n",
    "    if title_search:\n",
    "        title = title_search.group(1)\n",
    "    return title\n",
    "\n",
    "for dataset in full_data:\n",
    "    dataset[\"Title\"] = dataset[\"Name\"].apply(get_title)\n",
    "    \n",
    "for dataset in full_data:\n",
    "    title_list = dataset[\"Title\"].value_counts().index.tolist()\n",
    "    # ['Mr','Miss','Mrs','Master',     'Dr',  'Rev',  'Major','Col',  'Mlle', 'Lady','Countess','Ms', 'Don', 'Mme', 'Jonkheer','Sir','Capt']\n",
    "    dataset[\"Title\"] = dataset[\"Title\"].replace(['Lady', 'Countess','Capt', 'Col','Don', 'Dr', 'Major', 'Rev', 'Sir', 'Jonkheer', 'Dona'], 'Rare')\n",
    "    dataset[\"Title\"] = dataset[\"Title\"].replace(\"Mlle\", \"Miss\")\n",
    "    dataset[\"Title\"] = dataset[\"Title\"].replace(\"Ms\", \"Miss\")\n",
    "    dataset[\"Title\"] = dataset[\"Title\"].replace(\"Mme\", \"Mrs\")\n",
    "\n",
    "for dataset in full_data:\n",
    "    dataset[\"Sex\"] = dataset[\"Sex\"].map({\"female\": 0, \"male\":1})\n",
    "    \n",
    "    mapping_titles = {\"Mr\": 1, \"Miss\": 2, \"Mrs\": 3, \"Master\": 4, \"Rare\": 5}\n",
    "    dataset[\"Title\"] = dataset[\"Title\"].map(mapping_titles)\n",
    "    dataset[\"Title\"] = dataset[\"Title\"].fillna(0)\n",
    "    \n",
    "    # Embarked mapping\n",
    "    dataset[\"Embarked\"] = dataset[\"Embarked\"].map({\"S\": 0, \"C\": 1, \"Q\": 2}).astype(int)\n",
    "    \n",
    "    # Age mapping\n",
    "    dataset.loc[ dataset['Age'] <= 16, 'Age'] = 0\n",
    "    dataset.loc[(dataset['Age'] > 16) & (dataset['Age'] <= 32), 'Age'] = 1\n",
    "    dataset.loc[(dataset['Age'] > 32) & (dataset['Age'] <= 48), 'Age'] = 2\n",
    "    dataset.loc[(dataset['Age'] > 48) & (dataset['Age'] <= 64), 'Age'] = 3\n",
    "    dataset.loc[ dataset['Age'] > 64, 'Age'] = 4    \n",
    "    \n",
    "    # Fare mapping\n",
    "    dataset.loc[ dataset['Fare'] <= 7.91, 'Fare'] = 0\n",
    "    dataset.loc[(dataset['Fare'] > 7.91) & (dataset['Fare'] <= 14.454), 'Fare'] = 1\n",
    "    dataset.loc[(dataset['Fare'] > 14.454) & (dataset['Fare'] <= 31), 'Fare']   = 2\n",
    "    dataset.loc[ dataset['Fare'] > 31, 'Fare'] = 3\n",
    "    dataset['Fare'] = dataset['Fare'].astype(int)"
   ]
  },
  {
   "cell_type": "code",
   "execution_count": 8,
   "metadata": {
    "execution": {
     "iopub.execute_input": "2021-08-20T00:29:25.586521Z",
     "iopub.status.busy": "2021-08-20T00:29:25.586193Z",
     "iopub.status.idle": "2021-08-20T00:29:25.598878Z",
     "shell.execute_reply": "2021-08-20T00:29:25.598189Z",
     "shell.execute_reply.started": "2021-08-20T00:29:25.586474Z"
    }
   },
   "outputs": [],
   "source": [
    "# feature drop\n",
    "drop_features = [\"PassengerId\", \"Name\", \"Ticket\", \"Cabin\", \"SibSp\"]\n",
    "train = train.drop(drop_features, axis = 1)\n",
    "train = train.drop([\"CategoricalFare\", \"CategoricalAge\"], axis = 1)\n",
    "test  = test.drop(drop_features,  axis = 1)"
   ]
  },
  {
   "cell_type": "markdown",
   "metadata": {
    "_cell_guid": "e9814168-b7cd-d4e4-1b1d-e21c6637a663",
    "_uuid": "dd288776321804d99e4e4a7e88594c1d631e4409"
   },
   "source": [
    "## 시각화 "
   ]
  },
  {
   "cell_type": "markdown",
   "metadata": {
    "_cell_guid": "41102927-8218-415a-0b73-5129c8f5dd0c",
    "_uuid": "3544b03040a1d691f6c48433c84d1e57f3c15e3d"
   },
   "source": [
    "**Pearson Correlation Heatmap**\n",
    "\n",
    "피처간의 상관관계를 한번 보도록 하자"
   ]
  },
  {
   "cell_type": "code",
   "execution_count": 9,
   "metadata": {
    "execution": {
     "iopub.execute_input": "2021-08-20T00:29:28.922145Z",
     "iopub.status.busy": "2021-08-20T00:29:28.921708Z",
     "iopub.status.idle": "2021-08-20T00:29:28.931266Z",
     "shell.execute_reply": "2021-08-20T00:29:28.930439Z",
     "shell.execute_reply.started": "2021-08-20T00:29:28.922101Z"
    }
   },
   "outputs": [
    {
     "name": "stdout",
     "output_type": "stream",
     "text": [
      "<class 'pandas.core.frame.DataFrame'>\n",
      "RangeIndex: 891 entries, 0 to 890\n",
      "Data columns (total 12 columns):\n",
      "Survived       891 non-null int64\n",
      "Pclass         891 non-null int64\n",
      "Sex            891 non-null int64\n",
      "Age            891 non-null int64\n",
      "Parch          891 non-null int64\n",
      "Fare           891 non-null int64\n",
      "Embarked       891 non-null int64\n",
      "Name_length    891 non-null int64\n",
      "Has_Cabin      891 non-null int64\n",
      "FamilySize     891 non-null int64\n",
      "IsAlone        891 non-null int64\n",
      "Title          891 non-null int64\n",
      "dtypes: int64(12)\n",
      "memory usage: 83.6 KB\n"
     ]
    }
   ],
   "source": [
    "train.info()"
   ]
  },
  {
   "cell_type": "code",
   "execution_count": 10,
   "metadata": {
    "execution": {
     "iopub.execute_input": "2021-08-20T00:29:30.952266Z",
     "iopub.status.busy": "2021-08-20T00:29:30.951942Z",
     "iopub.status.idle": "2021-08-20T00:29:31.656981Z",
     "shell.execute_reply": "2021-08-20T00:29:31.656291Z",
     "shell.execute_reply.started": "2021-08-20T00:29:30.952218Z"
    }
   },
   "outputs": [
    {
     "data": {
      "text/plain": [
       "<matplotlib.axes._subplots.AxesSubplot at 0x7f64c7839e48>"
      ]
     },
     "execution_count": 10,
     "metadata": {},
     "output_type": "execute_result"
    },
    {
     "data": {
      "image/png": "[encoded data removed]",
      "text/plain": [
       "<matplotlib.figure.Figure at 0x7f64c782a940>"
      ]
     },
     "metadata": {},
     "output_type": "display_data"
    }
   ],
   "source": [
    "colormap = plt.cm.RdBu\n",
    "y_position = 1.05\n",
    "plt.figure(figsize = (14, 12))\n",
    "\n",
    "plt.title(\"Person Correlation of features\", y=y_position, size = 15)\n",
    "sns.heatmap(train.astype(float).corr(), linewidth=0.1, vmax=1.0, square=True, cmap=colormap, linecolor=\"white\", annot=True)"
   ]
  },
  {
   "cell_type": "markdown",
   "metadata": {
    "_cell_guid": "ccc92745-0680-df4d-d709-10003475d8e3",
    "_uuid": "b6c7a1ea3866d177016a1e13c5d9e7341c49c147"
   },
   "source": [
    "**Takeaway from the Plots**\n",
    "\n",
    "One thing that the Person Correlation plot can tell us is that there are not too many features strongly correlated with one another. \n",
    "\n",
    "This is good from a point of view of feeding these features into your learning model because this means that there isn't much redundant of superfluous data in out training set and we are happy that each feature carries with it some unique information.\n",
    "\n",
    "Here are two most correlated features are thart of Famil Size and Parch(Parents and Children).\n",
    "\n",
    "FamilySize와 가장 연관이 있는 피처는 Parch(Parents and Children)이다. \n",
    "\n",
    "히트맵을 보면, 강한 상관관계를 갖는 피처들이 그렇게 많이 보이지 않는다는 점이다. ML모델을 학습하기에는 좋은 데이터의 분포라고 할수있다.(중복되는 피처가 적고, 학습세트에 과적합되는 사례가 줄어듬)\n",
    "\n",
    "\n",
    "**Pairplots**\n",
    "\n",
    "Pairplots는 한 피처와 다른 피처와의 데이터 분포도를 확인하는 것\n",
    "\n",
    "[PairPlot Document](https://seaborn.pydata.org/generated/seaborn.pairplot.html?highlight=pairplot#seaborn.pairplot)"
   ]
  },
  {
   "cell_type": "code",
   "execution_count": 11,
   "metadata": {
    "execution": {
     "iopub.execute_input": "2021-08-20T00:29:34.453944Z",
     "iopub.status.busy": "2021-08-20T00:29:34.453637Z",
     "iopub.status.idle": "2021-08-20T00:29:41.006949Z",
     "shell.execute_reply": "2021-08-20T00:29:41.006128Z",
     "shell.execute_reply.started": "2021-08-20T00:29:34.453887Z"
    }
   },
   "outputs": [
    {
     "data": {
      "image/png": "[encoded data removed]",
      "text/plain": [
       "<matplotlib.figure.Figure at 0x7f64c17f5048>"
      ]
     },
     "metadata": {},
     "output_type": "display_data"
    }
   ],
   "source": [
    "data = train[[u'Survived', u'Pclass', u'Sex', u'Age', u'Parch', u'Embarked', u'FamilySize', u'Title']]\n",
    "g = sns.pairplot(data = data, hue=\"Survived\", palette=\"seismic\", size = 1.5, diag_kind=\"kde\", diag_kws=dict(shade=True), plot_kws=dict(s=5))\n",
    "#g.set(xticklabels=[])"
   ]
  },
  {
   "cell_type": "code",
   "execution_count": 12,
   "metadata": {
    "execution": {
     "iopub.execute_input": "2021-08-20T00:29:41.008605Z",
     "iopub.status.busy": "2021-08-20T00:29:41.00815Z",
     "iopub.status.idle": "2021-08-20T00:29:47.495782Z",
     "shell.execute_reply": "2021-08-20T00:29:47.495054Z",
     "shell.execute_reply.started": "2021-08-20T00:29:41.008551Z"
    }
   },
   "outputs": [
    {
     "data": {
      "text/plain": [
       "<seaborn.axisgrid.PairGrid at 0x7f64bb1ee080>"
      ]
     },
     "execution_count": 12,
     "metadata": {},
     "output_type": "execute_result"
    },
    {
     "data": {
      "image/png": "[encoded data removed]",
      "text/plain": [
       "<matplotlib.figure.Figure at 0x7f64bb781048>"
      ]
     },
     "metadata": {},
     "output_type": "display_data"
    }
   ],
   "source": [
    "data  =train[[u'Survived', u'Pclass', u'Sex', u'Age', u'Parch', u'Embarked', u'FamilySize', u'Title']]\n",
    "g = sns.pairplot(data = data, hue='Survived', palette='seismic', size = 1.5, diag_kind='kde', diag_kws=dict(shade=True), plot_kws=dict(s=10))\n",
    "g.set(xticklabels=[])  # X축의 눈금 스케일을 보여주지 않는군"
   ]
  },
  {
   "cell_type": "markdown",
   "metadata": {
    "_cell_guid": "32ac3ce1-42bc-9a7d-44f3-4b7c025a921c",
    "_uuid": "b74f445f5d9fb9622c4609c00679254abb3c91b1"
   },
   "source": [
    "# 앙상블 및 스태킹 모델\n",
    "\n",
    "* 스태킹 앙상블 모델 "
   ]
  },
  {
   "cell_type": "markdown",
   "metadata": {
    "_cell_guid": "3e922821-5a10-040b-305a-c2d47d633c49",
    "_uuid": "4e5fda8c6c92fc3cdf8e906089494f80e7c37245"
   },
   "source": [
    "### Helpers via Python Classes\n",
    "\n",
    "sklearnHelper클래스를 생성하여 학습 및 예측을 수행하는 메소드 생성"
   ]
  },
  {
   "cell_type": "code",
   "execution_count": 13,
   "metadata": {
    "execution": {
     "iopub.execute_input": "2021-08-20T00:29:47.497032Z",
     "iopub.status.busy": "2021-08-20T00:29:47.496818Z",
     "iopub.status.idle": "2021-08-20T00:29:47.515375Z",
     "shell.execute_reply": "2021-08-20T00:29:47.514667Z",
     "shell.execute_reply.started": "2021-08-20T00:29:47.496993Z"
    }
   },
   "outputs": [
    {
     "data": {
      "text/plain": [
       "891"
      ]
     },
     "metadata": {},
     "output_type": "display_data"
    },
    {
     "data": {
      "text/plain": [
       "418"
      ]
     },
     "metadata": {},
     "output_type": "display_data"
    }
   ],
   "source": [
    "version = sklearn.__version__\n",
    "versionChk = True\n",
    "\n",
    "ntrain = train.shape[0]\n",
    "ntest = test.shape[0]\n",
    "SEED = 0\n",
    "NFOLDS = 5\n",
    "\n",
    "if version.split(\".\")[1] == \"20\":\n",
    "    from sklearn.model_selection import KFold # 0.20 Use this API\n",
    "    kf = KFold(n_splits = NFOLDS, random_state=SEED)\n",
    "else:\n",
    "    from sklearn.cross_validation import KFold # 0.18 will be removed\n",
    "    kf = KFold(n_train, n_folds = NFOLDS, random_state = SEED)\n",
    "    versionChk = False\n",
    "display(ntrain, ntest)"
   ]
  },
  {
   "cell_type": "markdown",
   "metadata": {},
   "source": [
    "**사이킷런의 객체를 상속받아 학습및 예측 객체 생성**"
   ]
  },
  {
   "cell_type": "code",
   "execution_count": 14,
   "metadata": {
    "execution": {
     "iopub.execute_input": "2021-08-20T00:29:47.516694Z",
     "iopub.status.busy": "2021-08-20T00:29:47.516475Z",
     "iopub.status.idle": "2021-08-20T00:29:47.546409Z",
     "shell.execute_reply": "2021-08-20T00:29:47.545378Z",
     "shell.execute_reply.started": "2021-08-20T00:29:47.516653Z"
    }
   },
   "outputs": [],
   "source": [
    "class SklearnHelper(object):\n",
    "    \"\"\"\n",
    "    사이킷런의 객체를 상속받고, 사이킷런에서 제공하는 메소드를 구현하여 \n",
    "    학습, 예측, 피처 중요도 구현\n",
    "    \"\"\"\n",
    "    def __init__(self, clf, seed, params):\n",
    "        params[\"random_state\"] = seed\n",
    "        self.clf = clf(**params)\n",
    "        \n",
    "    def get_name(self):\n",
    "        return self.clf.__class__.__name__\n",
    "    \n",
    "    def train(self, X_train, y_train):\n",
    "        self.clf.fit(X_train, y_train)\n",
    "        \n",
    "    def predict(self, X):\n",
    "        \"\"\"\n",
    "        인자 - 테스트세트\n",
    "        \"\"\"\n",
    "        return self.clf.predict(X)\n",
    "    \n",
    "    def feature_importance(self, X, y):\n",
    "        \"\"\"\n",
    "        피처의 중요도를 출력\n",
    "        X - 피처 데이터\n",
    "        y - 레이블 데이터 \n",
    "        \"\"\"\n",
    "        model = self.clf\n",
    "        model.fit(X, y)\n",
    "        display(model.feature_importances_)\n",
    "        return model.feature_importances_"
   ]
  },
  {
   "cell_type": "markdown",
   "metadata": {
    "_cell_guid": "6f67620d-b531-a2fa-c297-e951970c3c28",
    "_uuid": "4d193c581df258e823aff2796bf015cf906aac99"
   },
   "source": [
    "### Out-of-Fold Predictions\n",
    "\n",
    "학습 세트에만 최적화되는 오버피팅을 방지하기 위한 OOF Predict구현"
   ]
  },
  {
   "cell_type": "code",
   "execution_count": 15,
   "metadata": {
    "execution": {
     "iopub.execute_input": "2021-08-20T00:29:47.547979Z",
     "iopub.status.busy": "2021-08-20T00:29:47.547697Z",
     "iopub.status.idle": "2021-08-20T00:29:47.558705Z",
     "shell.execute_reply": "2021-08-20T00:29:47.557816Z",
     "shell.execute_reply.started": "2021-08-20T00:29:47.547923Z"
    }
   },
   "outputs": [],
   "source": [
    "def loop_get_oof(clfs, X_train, y_train, X_test):\n",
    "    \"\"\"\n",
    "    Out Of Fold Prediction를 모델의 갯수만큼 반복 수행\n",
    "    \"\"\"\n",
    "    result = dict()\n",
    "    \n",
    "    for clf in clfs:\n",
    "        display(clf.get_name())\n",
    "        oof_train,oof_test = get_oof(clf, X_train, y_train, X_test)\n",
    "        result[clf] = (oof_train, oof_test)\n",
    "    return result"
   ]
  },
  {
   "cell_type": "markdown",
   "metadata": {},
   "source": [
    "**[ML OOF Prediciton](https://techblog-history-younghunjo1.tistory.com/142)**"
   ]
  },
  {
   "cell_type": "code",
   "execution_count": 16,
   "metadata": {
    "execution": {
     "iopub.execute_input": "2021-08-20T00:29:48.605035Z",
     "iopub.status.busy": "2021-08-20T00:29:48.604715Z",
     "iopub.status.idle": "2021-08-20T00:29:48.623993Z",
     "shell.execute_reply": "2021-08-20T00:29:48.623223Z",
     "shell.execute_reply.started": "2021-08-20T00:29:48.604989Z"
    }
   },
   "outputs": [
    {
     "data": {
      "text/plain": [
       "'oof_train  :'"
      ]
     },
     "metadata": {},
     "output_type": "display_data"
    },
    {
     "data": {
      "text/plain": [
       "(891,)"
      ]
     },
     "metadata": {},
     "output_type": "display_data"
    },
    {
     "data": {
      "text/plain": [
       "'oof_test  :'"
      ]
     },
     "metadata": {},
     "output_type": "display_data"
    },
    {
     "data": {
      "text/plain": [
       "(481,)"
      ]
     },
     "metadata": {},
     "output_type": "display_data"
    },
    {
     "data": {
      "text/plain": [
       "'oof_test_skf  :'"
      ]
     },
     "metadata": {},
     "output_type": "display_data"
    },
    {
     "data": {
      "text/plain": [
       "(5, 481)"
      ]
     },
     "metadata": {},
     "output_type": "display_data"
    },
    {
     "data": {
      "text/plain": [
       "array([[  4.04738577e-320,   2.17388884e-321,   0.00000000e+000, ...,\n",
       "          1.80664124e+217,   4.39554125e+257,   2.47885710e-056],\n",
       "       [  1.71339615e-046,   1.39524223e+045,   1.22487779e+165, ...,\n",
       "          3.31113415e-047,   1.73012977e-066,   6.30567275e+275],\n",
       "       [  6.62023103e+025,   1.26926295e+059,   5.25363127e+122, ...,\n",
       "          1.02129271e-041,   8.45273184e+281,   4.32394222e+271],\n",
       "       [  3.05099310e+035,   3.94439116e+252,   7.37564282e+011, ...,\n",
       "          7.97574337e+035,   4.15795766e+203,   5.00083822e+107],\n",
       "       [  2.79330544e+276,   6.40077176e+020,   2.10667566e-099, ...,\n",
       "          1.15165398e+021,   2.61565507e+029,   3.29473044e+074]])"
      ]
     },
     "metadata": {},
     "output_type": "display_data"
    }
   ],
   "source": [
    "oof_train = np.zeros((891,))\n",
    "display('oof_train  :', oof_train.shape)\n",
    "\n",
    "oof_test  = np.zeros((481, ))\n",
    "display('oof_test  :', oof_test.shape)\n",
    "\n",
    "oof_test_skf = np.empty((5, 481))\n",
    "display('oof_test_skf  :', oof_test_skf.shape, oof_test_skf)"
   ]
  },
  {
   "cell_type": "code",
   "execution_count": 17,
   "metadata": {
    "execution": {
     "iopub.execute_input": "2021-08-20T00:29:50.603289Z",
     "iopub.status.busy": "2021-08-20T00:29:50.602962Z",
     "iopub.status.idle": "2021-08-20T00:29:50.636448Z",
     "shell.execute_reply": "2021-08-20T00:29:50.635535Z",
     "shell.execute_reply.started": "2021-08-20T00:29:50.603232Z"
    }
   },
   "outputs": [],
   "source": [
    "def get_oof(clf, X_train, y_train, X_test):\n",
    "    \"\"\"\n",
    "    OOF Prediction\n",
    "    \"\"\"\n",
    "    oof_train = np.zeros((ntrain, )) # 891\n",
    "    oof_test  = np.zeros((ntest,))   # 418\n",
    "    oof_test_skf = np.empty((NFOLDS, ntest))\n",
    "    \n",
    "    # scikitlearn버전 0.18과 0.20버전에서 지원하는 API가 처리방식이 다름\n",
    "    for i, (train_index, test_index) in enumerate(kf.split(X_train,y_train) if versionChk else kf):\n",
    "        X_tr = X_train[train_index]\n",
    "        y_tr = y_train[train_index]\n",
    "        X_te = X_train[test_index]\n",
    "        \n",
    "        clf.train(X_tr, y_tr)\n",
    "        \n",
    "        # 검증폴드를 이용해 예측한 결과를 학습데이터로 생성\n",
    "        oof_train[test_index] = clf.predict(X_te)\n",
    "        \n",
    "        # 테스트 데이터세트를 이용해 예측한 결과를 테스트데이터로생성\n",
    "        oof_test_skf[i,:] = clf.predict(X_test)\n",
    "        \n",
    "    oof_test[:] = oof_test_skf.mean(axis = 0) #최종 평균값을 OOF테스트 데이터로 생성\n",
    "    return oof_train.reshape(-1, 1), oof_test.reshape(-1, 1)"
   ]
  },
  {
   "cell_type": "markdown",
   "metadata": {
    "_cell_guid": "3cd92196-f7ba-4f14-0fc4-36520fbcb2ca",
    "_uuid": "7b1a7767ae61b6b217a3311e89190b05ab0a4891"
   },
   "source": [
    "# Generating our Base First-Level Models \n",
    "\n",
    "먼저 앙상블의 첫번째 단계로 5개의 ML모델을 대상으로 한다.\n",
    "\n",
    " 1. Random Forest classifier\n",
    " 2. Extra Trees classifier\n",
    " 3. AdaBoost classifer\n",
    " 4. Gradient Boosting classifer\n",
    " 5. Support Vector Machine"
   ]
  },
  {
   "cell_type": "markdown",
   "metadata": {
    "_cell_guid": "0ef6862a-b5cc-6829-f040-d2b2b2c817f3",
    "_uuid": "12e3a5f76fb118ff6906431fc60e7010e33106ad"
   },
   "source": [
    "**Parameters**\n",
    "\n",
    "**n_jobs** : 학습시에 사용할 CPU코어 수.  -1의 의미는 모든 CPU코아를 다 사용\n",
    "\n",
    "**n_estimators** : ML모델 분류기의 수 ( 디폴트는 10)\n",
    "\n",
    "**max_depth** : 트리의 최대 깊이 수(크게 설정될수록 오버피팅이 위험이 존재함을 유념)\n",
    "\n",
    "**verbose** : 학습이 진행될 동안 출력결과를 보고 싶을 경우 설정( 0 - 결과를 보이지 않음, 1- 결과보기)"
   ]
  },
  {
   "cell_type": "code",
   "execution_count": 18,
   "metadata": {
    "execution": {
     "iopub.execute_input": "2021-08-20T00:29:54.23665Z",
     "iopub.status.busy": "2021-08-20T00:29:54.23637Z",
     "iopub.status.idle": "2021-08-20T00:29:54.259056Z",
     "shell.execute_reply": "2021-08-20T00:29:54.258244Z",
     "shell.execute_reply.started": "2021-08-20T00:29:54.2366Z"
    }
   },
   "outputs": [],
   "source": [
    "#hyper parameter for RandomForestClassifier\n",
    "rf_params = {\n",
    "    \"n_jobs\": -1,\n",
    "    \"n_estimators\":500,\n",
    "    \"warm_start\": True,  # 객체 생성한 것을 재사용,\n",
    "    #\"max_feature\":0.2,\n",
    "    \"max_depth\":6,\n",
    "    \"min_samples_leaf\": 2,\n",
    "    \"max_features\": \"sqrt\",\n",
    "    \"verbose\": 0\n",
    "}\n",
    "\n",
    "# hyper parameter for ExtraTreeClassifier\n",
    "ext_params = {\n",
    "    \"n_jobs\": -1,\n",
    "    \"n_estimators\": 500,\n",
    "    #\"max_features\": 0.2,\n",
    "    \"max_depth\": 6,\n",
    "    \"min_samples_leaf\": 2,\n",
    "    \"max_features\": \"sqrt\",\n",
    "    \"verbose\": True\n",
    "}\n",
    "\n",
    "#hyper parameter for AdaBoostClassifer\n",
    "ada_params = {\n",
    "    \"n_estimators\": 500,\n",
    "    \"learning_rate\": 0.75\n",
    "}\n",
    "\n",
    "#hyper parameter for GradientBoost\n",
    "gb_params = {\n",
    "    'n_estimators': 500,\n",
    "     #'max_features': 0.2,\n",
    "    'max_depth': 5,\n",
    "    'min_samples_leaf': 2,\n",
    "    'verbose': 0\n",
    "}\n",
    "\n",
    "# hyper parameter for SVC\n",
    "svc_params = {\n",
    "    'kernel' : 'linear',\n",
    "    'C' : 0.025\n",
    "}"
   ]
  },
  {
   "cell_type": "code",
   "execution_count": 19,
   "metadata": {
    "execution": {
     "iopub.execute_input": "2021-08-20T00:29:56.544008Z",
     "iopub.status.busy": "2021-08-20T00:29:56.543672Z",
     "iopub.status.idle": "2021-08-20T00:29:56.55287Z",
     "shell.execute_reply": "2021-08-20T00:29:56.552014Z",
     "shell.execute_reply.started": "2021-08-20T00:29:56.543935Z"
    }
   },
   "outputs": [],
   "source": [
    "# Create 5 objects that represent our 4 models\n",
    "rf = SklearnHelper(clf = RandomForestClassifier, seed = SEED, params = rf_params)\n",
    "et = SklearnHelper(clf = ExtraTreesClassifier, seed = SEED, params = ext_params)\n",
    "ada = SklearnHelper(clf = AdaBoostClassifier, seed = SEED, params = ada_params)\n",
    "gb  = SklearnHelper(clf = GradientBoostingClassifier, seed = SEED, params = gb_params)\n",
    "svm = SklearnHelper(clf = SVC, seed = SEED, params = svc_params)"
   ]
  },
  {
   "cell_type": "markdown",
   "metadata": {
    "_cell_guid": "46e1e6fc-92e2-e7e2-1ab9-470e6c7039ce",
    "_uuid": "cd3f527543e61b3841f242b744c3c5d9af608941"
   },
   "source": [
    "**Creating NumPy arrays out of our train and test sets**\n",
    "\n",
    "학습 및 테스트 세트로 부터 모델을 학습시킬 데이터세트 생성"
   ]
  },
  {
   "cell_type": "code",
   "execution_count": 20,
   "metadata": {
    "execution": {
     "iopub.execute_input": "2021-08-20T00:29:59.0819Z",
     "iopub.status.busy": "2021-08-20T00:29:59.081442Z",
     "iopub.status.idle": "2021-08-20T00:29:59.09055Z",
     "shell.execute_reply": "2021-08-20T00:29:59.089783Z",
     "shell.execute_reply.started": "2021-08-20T00:29:59.081703Z"
    }
   },
   "outputs": [],
   "source": [
    "# Create Numpy arrays of train, test and target ( Survived) dataframes to feed into our models\n",
    "y_train = train[\"Survived\"].ravel() # ravel()으로 pd.Series타입으로 1차원 ndarray타입으로 변환, 타겟값을 1차원배열로 ML모델에 학습시 이렇게 들어감\n",
    "train = train.drop([\"Survived\"], axis=1, errors='ignore')\n",
    "\n",
    "# ML모델을 학습시키기 위해서는 ndarray로 변환이 필요\n",
    "X_train = train.values  #  DataFrame을 ndarray로 변환  - (891, 11)   \n",
    "X_test  = test.values   #  DataFrame를 ndarray로 변환  - (481, 11)"
   ]
  },
  {
   "cell_type": "markdown",
   "metadata": {
    "_cell_guid": "606b619c-2301-8aaa-a5de-781d981c4a6f",
    "_uuid": "d30ac9528b69cdaec565b647fee98a92391112c9"
   },
   "source": [
    "**Output of the First level Predictions** \n",
    "\n",
    "학습 및 테스트 데이터를 5개의 ML모델을 학습시키고, OOF Prediction을 수행"
   ]
  },
  {
   "cell_type": "code",
   "execution_count": 21,
   "metadata": {
    "execution": {
     "iopub.execute_input": "2021-08-20T00:30:01.758927Z",
     "iopub.status.busy": "2021-08-20T00:30:01.758578Z",
     "iopub.status.idle": "2021-08-20T00:30:16.993111Z",
     "shell.execute_reply": "2021-08-20T00:30:16.992356Z",
     "shell.execute_reply.started": "2021-08-20T00:30:01.758865Z"
    }
   },
   "outputs": [
    {
     "data": {
      "text/plain": [
       "'RandomForestClassifier'"
      ]
     },
     "metadata": {},
     "output_type": "display_data"
    },
    {
     "data": {
      "text/plain": [
       "'ExtraTreesClassifier'"
      ]
     },
     "metadata": {},
     "output_type": "display_data"
    },
    {
     "name": "stderr",
     "output_type": "stream",
     "text": [
      "[Parallel(n_jobs=-1)]: Done  42 tasks      | elapsed:    0.0s\n",
      "[Parallel(n_jobs=-1)]: Done 192 tasks      | elapsed:    0.2s\n",
      "[Parallel(n_jobs=-1)]: Done 442 tasks      | elapsed:    0.5s\n",
      "[Parallel(n_jobs=-1)]: Done 500 out of 500 | elapsed:    0.5s finished\n",
      "[Parallel(n_jobs=4)]: Done  42 tasks      | elapsed:    0.0s\n",
      "[Parallel(n_jobs=4)]: Done 192 tasks      | elapsed:    0.1s\n",
      "[Parallel(n_jobs=4)]: Done 442 tasks      | elapsed:    0.1s\n",
      "[Parallel(n_jobs=4)]: Done 500 out of 500 | elapsed:    0.2s finished\n",
      "[Parallel(n_jobs=4)]: Done  42 tasks      | elapsed:    0.0s\n",
      "[Parallel(n_jobs=4)]: Done 192 tasks      | elapsed:    0.1s\n",
      "[Parallel(n_jobs=4)]: Done 442 tasks      | elapsed:    0.2s\n",
      "[Parallel(n_jobs=4)]: Done 500 out of 500 | elapsed:    0.2s finished\n",
      "[Parallel(n_jobs=-1)]: Done  42 tasks      | elapsed:    0.1s\n",
      "[Parallel(n_jobs=-1)]: Done 192 tasks      | elapsed:    0.2s\n",
      "[Parallel(n_jobs=-1)]: Done 442 tasks      | elapsed:    0.5s\n",
      "[Parallel(n_jobs=-1)]: Done 500 out of 500 | elapsed:    0.6s finished\n",
      "[Parallel(n_jobs=4)]: Done  42 tasks      | elapsed:    0.0s\n",
      "[Parallel(n_jobs=4)]: Done 192 tasks      | elapsed:    0.1s\n",
      "[Parallel(n_jobs=4)]: Done 442 tasks      | elapsed:    0.1s\n",
      "[Parallel(n_jobs=4)]: Done 500 out of 500 | elapsed:    0.2s finished\n",
      "[Parallel(n_jobs=4)]: Done  42 tasks      | elapsed:    0.0s\n",
      "[Parallel(n_jobs=4)]: Done 192 tasks      | elapsed:    0.1s\n",
      "[Parallel(n_jobs=4)]: Done 442 tasks      | elapsed:    0.2s\n",
      "[Parallel(n_jobs=4)]: Done 500 out of 500 | elapsed:    0.2s finished\n",
      "[Parallel(n_jobs=-1)]: Done  42 tasks      | elapsed:    0.1s\n",
      "[Parallel(n_jobs=-1)]: Done 192 tasks      | elapsed:    0.2s\n",
      "[Parallel(n_jobs=-1)]: Done 442 tasks      | elapsed:    0.5s\n",
      "[Parallel(n_jobs=-1)]: Done 500 out of 500 | elapsed:    0.6s finished\n",
      "[Parallel(n_jobs=4)]: Done  42 tasks      | elapsed:    0.0s\n",
      "[Parallel(n_jobs=4)]: Done 192 tasks      | elapsed:    0.1s\n",
      "[Parallel(n_jobs=4)]: Done 442 tasks      | elapsed:    0.1s\n",
      "[Parallel(n_jobs=4)]: Done 500 out of 500 | elapsed:    0.2s finished\n",
      "[Parallel(n_jobs=4)]: Done  42 tasks      | elapsed:    0.0s\n",
      "[Parallel(n_jobs=4)]: Done 192 tasks      | elapsed:    0.1s\n",
      "[Parallel(n_jobs=4)]: Done 442 tasks      | elapsed:    0.2s\n",
      "[Parallel(n_jobs=4)]: Done 500 out of 500 | elapsed:    0.2s finished\n",
      "[Parallel(n_jobs=-1)]: Done  42 tasks      | elapsed:    0.0s\n",
      "[Parallel(n_jobs=-1)]: Done 192 tasks      | elapsed:    0.2s\n",
      "[Parallel(n_jobs=-1)]: Done 442 tasks      | elapsed:    0.5s\n",
      "[Parallel(n_jobs=-1)]: Done 500 out of 500 | elapsed:    0.5s finished\n",
      "[Parallel(n_jobs=4)]: Done  42 tasks      | elapsed:    0.0s\n",
      "[Parallel(n_jobs=4)]: Done 192 tasks      | elapsed:    0.1s\n",
      "[Parallel(n_jobs=4)]: Done 442 tasks      | elapsed:    0.1s\n",
      "[Parallel(n_jobs=4)]: Done 500 out of 500 | elapsed:    0.2s finished\n",
      "[Parallel(n_jobs=4)]: Done  42 tasks      | elapsed:    0.0s\n",
      "[Parallel(n_jobs=4)]: Done 192 tasks      | elapsed:    0.1s\n",
      "[Parallel(n_jobs=4)]: Done 442 tasks      | elapsed:    0.2s\n",
      "[Parallel(n_jobs=4)]: Done 500 out of 500 | elapsed:    0.2s finished\n",
      "[Parallel(n_jobs=-1)]: Done  42 tasks      | elapsed:    0.1s\n",
      "[Parallel(n_jobs=-1)]: Done 192 tasks      | elapsed:    0.2s\n",
      "[Parallel(n_jobs=-1)]: Done 442 tasks      | elapsed:    0.5s\n",
      "[Parallel(n_jobs=-1)]: Done 500 out of 500 | elapsed:    0.5s finished\n",
      "[Parallel(n_jobs=4)]: Done  42 tasks      | elapsed:    0.0s\n",
      "[Parallel(n_jobs=4)]: Done 192 tasks      | elapsed:    0.1s\n",
      "[Parallel(n_jobs=4)]: Done 442 tasks      | elapsed:    0.1s\n",
      "[Parallel(n_jobs=4)]: Done 500 out of 500 | elapsed:    0.2s finished\n",
      "[Parallel(n_jobs=4)]: Done  42 tasks      | elapsed:    0.0s\n",
      "[Parallel(n_jobs=4)]: Done 192 tasks      | elapsed:    0.1s\n",
      "[Parallel(n_jobs=4)]: Done 442 tasks      | elapsed:    0.2s\n",
      "[Parallel(n_jobs=4)]: Done 500 out of 500 | elapsed:    0.2s finished\n"
     ]
    },
    {
     "data": {
      "text/plain": [
       "'AdaBoostClassifier'"
      ]
     },
     "metadata": {},
     "output_type": "display_data"
    },
    {
     "data": {
      "text/plain": [
       "'GradientBoostingClassifier'"
      ]
     },
     "metadata": {},
     "output_type": "display_data"
    },
    {
     "data": {
      "text/plain": [
       "'SVC'"
      ]
     },
     "metadata": {},
     "output_type": "display_data"
    }
   ],
   "source": [
    "# Create our OOF train and test predictions. These base results will be used as new features\n",
    "clfs = [rf, et, ada, gb, svm]\n",
    "result = loop_get_oof(clfs, X_train, y_train, X_test)"
   ]
  },
  {
   "cell_type": "markdown",
   "metadata": {},
   "source": [
    "**결과를 담고있는 변수에서 최종학습 및 테스트데이터셋 추출**"
   ]
  },
  {
   "cell_type": "code",
   "execution_count": 22,
   "metadata": {
    "execution": {
     "iopub.execute_input": "2021-08-20T02:33:15.6342Z",
     "iopub.status.busy": "2021-08-20T02:33:15.63392Z",
     "iopub.status.idle": "2021-08-20T02:33:15.642116Z",
     "shell.execute_reply": "2021-08-20T02:33:15.641527Z",
     "shell.execute_reply.started": "2021-08-20T02:33:15.634148Z"
    }
   },
   "outputs": [
    {
     "name": "stdout",
     "output_type": "stream",
     "text": [
      "OOF Train :  [[ 1.]\n",
      " [ 0.]\n",
      " [ 1.]\n",
      " [ 0.]]\n",
      "OOF Test :  [[ 1.]\n",
      " [ 0.]\n",
      " [ 0.]\n",
      " [ 1.]]\n"
     ]
    }
   ],
   "source": [
    "for k, v in result.items():\n",
    "    clf_name = k.clf.__class__.__name__\n",
    "    if clf_name ==\"RandomForestClassifier\":\n",
    "        print(\"OOF Train : \", v[0][1:5])\n",
    "        print(\"OOF Test : \", v[1][1: 5])"
   ]
  },
  {
   "cell_type": "code",
   "execution_count": 23,
   "metadata": {
    "execution": {
     "iopub.execute_input": "2021-08-20T02:34:42.419566Z",
     "iopub.status.busy": "2021-08-20T02:34:42.418848Z",
     "iopub.status.idle": "2021-08-20T02:34:42.431641Z",
     "shell.execute_reply": "2021-08-20T02:34:42.430858Z",
     "shell.execute_reply.started": "2021-08-20T02:34:42.419494Z"
    }
   },
   "outputs": [],
   "source": [
    "def get_oof_train_test(clf):\n",
    "    \"\"\"\n",
    "    OOF결과 리턴 받은 결과값에서 필요로 하는 분류기의 최종 학습 및 테스트 데이터세트 \n",
    "    결과 가져오기\n",
    "    \"\"\"\n",
    "    r0 = [v[0] for k, v in result.items() if k.clf.__class__.__name__ == clf]\n",
    "    r1 = [v[1] for k, v in result.items() if k.clf.__class__.__name__ == clf]\n",
    "    \n",
    "    return r0, r1  "
   ]
  },
  {
   "cell_type": "markdown",
   "metadata": {},
   "source": [
    "**각각의 분류기에 대한 학습 및 테스트 결과값**"
   ]
  },
  {
   "cell_type": "code",
   "execution_count": 24,
   "metadata": {
    "execution": {
     "iopub.execute_input": "2021-08-20T02:34:45.480789Z",
     "iopub.status.busy": "2021-08-20T02:34:45.48051Z",
     "iopub.status.idle": "2021-08-20T02:34:45.487514Z",
     "shell.execute_reply": "2021-08-20T02:34:45.486811Z",
     "shell.execute_reply.started": "2021-08-20T02:34:45.480744Z"
    }
   },
   "outputs": [],
   "source": [
    "rf_oof_train, rf_oof_test = get_oof_train_test('RandomForestClassifier')\n",
    "et_oof_train, et_oof_test = get_oof_train_test('ExtraTreesClassifier')\n",
    "ada_oof_train, ada_oof_test = get_oof_train_test('AdaBoostClassifier')\n",
    "gb_oof_train, gb_oof_test = get_oof_train_test('GradientBoostingClassifier')\n",
    "svm_oof_train, svm_oof_test = get_oof_train_test('SVC')"
   ]
  },
  {
   "cell_type": "markdown",
   "metadata": {},
   "source": [
    "**Feature importances generated from the different classifiers**\n",
    "\n",
    "* feature_importances_를 통해서 피처의 중요도 보기"
   ]
  },
  {
   "cell_type": "code",
   "execution_count": 25,
   "metadata": {
    "execution": {
     "iopub.execute_input": "2021-08-20T00:47:36.709937Z",
     "iopub.status.busy": "2021-08-20T00:47:36.709652Z",
     "iopub.status.idle": "2021-08-20T00:47:39.44372Z",
     "shell.execute_reply": "2021-08-20T00:47:39.442835Z",
     "shell.execute_reply.started": "2021-08-20T00:47:36.709895Z"
    }
   },
   "outputs": [
    {
     "data": {
      "text/plain": [
       "array([ 0.12522177,  0.19798888,  0.03022962,  0.02109786,  0.0720267 ,\n",
       "        0.02324097,  0.10864929,  0.06545899,  0.0676153 ,  0.01360018,\n",
       "        0.27487044])"
      ]
     },
     "metadata": {},
     "output_type": "display_data"
    },
    {
     "name": "stderr",
     "output_type": "stream",
     "text": [
      "[Parallel(n_jobs=-1)]: Done  42 tasks      | elapsed:    0.1s\n",
      "[Parallel(n_jobs=-1)]: Done 192 tasks      | elapsed:    0.2s\n",
      "[Parallel(n_jobs=-1)]: Done 442 tasks      | elapsed:    0.5s\n",
      "[Parallel(n_jobs=-1)]: Done 500 out of 500 | elapsed:    0.6s finished\n"
     ]
    },
    {
     "data": {
      "text/plain": [
       "array([ 0.11683491,  0.41546949,  0.01944531,  0.01344735,  0.04891303,\n",
       "        0.02165059,  0.03542929,  0.09294054,  0.03525167,  0.02186699,\n",
       "        0.17875084])"
      ]
     },
     "metadata": {},
     "output_type": "display_data"
    },
    {
     "data": {
      "text/plain": [
       "array([ 0.03 ,  0.008,  0.016,  0.066,  0.04 ,  0.01 ,  0.69 ,  0.014,\n",
       "        0.052,  0.006,  0.068])"
      ]
     },
     "metadata": {},
     "output_type": "display_data"
    },
    {
     "data": {
      "text/plain": [
       "array([ 0.07822052,  0.026892  ,  0.11303381,  0.03277065,  0.0903747 ,\n",
       "        0.05030455,  0.41629782,  0.02100433,  0.07182882,  0.02014478,\n",
       "        0.07912803])"
      ]
     },
     "metadata": {},
     "output_type": "display_data"
    }
   ],
   "source": [
    "rf_feature = rf.feature_importance(X_train, y_train)\n",
    "et_feature = et.feature_importance(X_train, y_train)\n",
    "ada_feature = ada.feature_importance(X_train, y_train)\n",
    "gb_feature = gb.feature_importance(X_train, y_train)"
   ]
  },
  {
   "cell_type": "code",
   "execution_count": 26,
   "metadata": {
    "execution": {
     "iopub.execute_input": "2021-08-20T00:47:58.955963Z",
     "iopub.status.busy": "2021-08-20T00:47:58.955708Z",
     "iopub.status.idle": "2021-08-20T00:47:59.189271Z",
     "shell.execute_reply": "2021-08-20T00:47:59.18841Z",
     "shell.execute_reply.started": "2021-08-20T00:47:58.955927Z"
    }
   },
   "outputs": [],
   "source": [
    "rf_feature = rf.clf.feature_importances_\n",
    "et_feature = et.clf.feature_importances_\n",
    "ada_feature = ada.clf.feature_importances_\n",
    "gb_feature = gb.clf.feature_importances_"
   ]
  },
  {
   "cell_type": "markdown",
   "metadata": {
    "_cell_guid": "f1be8fbb-34c0-3f92-c7d2-757fceced507",
    "_uuid": "b0c66aa58b45b917157f47c811e7d222513ddb0d"
   },
   "source": [
    "* 위의 결과값을 변수에 할당 - 위의 형태로 바로 클래스객체 바로 호출해봄."
   ]
  },
  {
   "cell_type": "code",
   "execution_count": 27,
   "metadata": {
    "_cell_guid": "bde9b5fd-3100-8f21-053e-45015b99cf65",
    "_uuid": "527425374ec8cd66edc015842f352a95041821c6",
    "execution": {
     "iopub.execute_input": "2021-08-20T00:48:09.276142Z",
     "iopub.status.busy": "2021-08-20T00:48:09.275839Z",
     "iopub.status.idle": "2021-08-20T00:48:09.282443Z",
     "shell.execute_reply": "2021-08-20T00:48:09.281814Z",
     "shell.execute_reply.started": "2021-08-20T00:48:09.27607Z"
    }
   },
   "outputs": [
    {
     "data": {
      "text/plain": [
       "(array([ 0.12522177,  0.19798888,  0.03022962,  0.02109786,  0.0720267 ,\n",
       "         0.02324097,  0.10864929,  0.06545899,  0.0676153 ,  0.01360018,\n",
       "         0.27487044]),\n",
       " array([ 0.11683491,  0.41546949,  0.01944531,  0.01344735,  0.04891303,\n",
       "         0.02165059,  0.03542929,  0.09294054,  0.03525167,  0.02186699,\n",
       "         0.17875084]),\n",
       " array([ 0.03 ,  0.008,  0.016,  0.066,  0.04 ,  0.01 ,  0.69 ,  0.014,\n",
       "         0.052,  0.006,  0.068]),\n",
       " array([ 0.07822052,  0.026892  ,  0.11303381,  0.03277065,  0.0903747 ,\n",
       "         0.05030455,  0.41629782,  0.02100433,  0.07182882,  0.02014478,\n",
       "         0.07912803]))"
      ]
     },
     "execution_count": 27,
     "metadata": {},
     "output_type": "execute_result"
    }
   ],
   "source": [
    "rf_feature, et_feature, ada_feature, gb_feature"
   ]
  },
  {
   "cell_type": "markdown",
   "metadata": {
    "_cell_guid": "2a03ad8f-0ea1-5afa-a6e8-56284482c646",
    "_uuid": "d59169f89c5541177f537200a90805420b449001"
   },
   "source": [
    "**피처 중요도를 DataFrame형태로 생성**"
   ]
  },
  {
   "cell_type": "code",
   "execution_count": 28,
   "metadata": {
    "execution": {
     "iopub.execute_input": "2021-08-20T00:55:06.68703Z",
     "iopub.status.busy": "2021-08-20T00:55:06.686748Z",
     "iopub.status.idle": "2021-08-20T00:55:06.713006Z",
     "shell.execute_reply": "2021-08-20T00:55:06.712261Z",
     "shell.execute_reply.started": "2021-08-20T00:55:06.686983Z"
    }
   },
   "outputs": [
    {
     "data": {
      "text/html": [
       "<div>\n",
       "<style scoped>\n",
       "    .dataframe tbody tr th:only-of-type {\n",
       "        vertical-align: middle;\n",
       "    }\n",
       "\n",
       "    .dataframe tbody tr th {\n",
       "        vertical-align: top;\n",
       "    }\n",
       "\n",
       "    .dataframe thead th {\n",
       "        text-align: right;\n",
       "    }\n",
       "</style>\n",
       "<table border=\"1\" class=\"dataframe\">\n",
       "  <thead>\n",
       "    <tr style=\"text-align: right;\">\n",
       "      <th></th>\n",
       "      <th>feature</th>\n",
       "      <th>Ranfom Forest Feature Importances</th>\n",
       "      <th>Extra Tree Feature Imortances</th>\n",
       "      <th>AdaBoost Feature Importances</th>\n",
       "      <th>Gradient Boost Feature Imortances</th>\n",
       "    </tr>\n",
       "  </thead>\n",
       "  <tbody>\n",
       "    <tr>\n",
       "      <th>0</th>\n",
       "      <td>Pclass</td>\n",
       "      <td>0.125222</td>\n",
       "      <td>0.116835</td>\n",
       "      <td>0.030</td>\n",
       "      <td>0.078221</td>\n",
       "    </tr>\n",
       "    <tr>\n",
       "      <th>1</th>\n",
       "      <td>Sex</td>\n",
       "      <td>0.197989</td>\n",
       "      <td>0.415469</td>\n",
       "      <td>0.008</td>\n",
       "      <td>0.026892</td>\n",
       "    </tr>\n",
       "    <tr>\n",
       "      <th>2</th>\n",
       "      <td>Age</td>\n",
       "      <td>0.030230</td>\n",
       "      <td>0.019445</td>\n",
       "      <td>0.016</td>\n",
       "      <td>0.113034</td>\n",
       "    </tr>\n",
       "    <tr>\n",
       "      <th>3</th>\n",
       "      <td>Parch</td>\n",
       "      <td>0.021098</td>\n",
       "      <td>0.013447</td>\n",
       "      <td>0.066</td>\n",
       "      <td>0.032771</td>\n",
       "    </tr>\n",
       "    <tr>\n",
       "      <th>4</th>\n",
       "      <td>Fare</td>\n",
       "      <td>0.072027</td>\n",
       "      <td>0.048913</td>\n",
       "      <td>0.040</td>\n",
       "      <td>0.090375</td>\n",
       "    </tr>\n",
       "    <tr>\n",
       "      <th>5</th>\n",
       "      <td>Embarked</td>\n",
       "      <td>0.023241</td>\n",
       "      <td>0.021651</td>\n",
       "      <td>0.010</td>\n",
       "      <td>0.050305</td>\n",
       "    </tr>\n",
       "    <tr>\n",
       "      <th>6</th>\n",
       "      <td>Name_length</td>\n",
       "      <td>0.108649</td>\n",
       "      <td>0.035429</td>\n",
       "      <td>0.690</td>\n",
       "      <td>0.416298</td>\n",
       "    </tr>\n",
       "    <tr>\n",
       "      <th>7</th>\n",
       "      <td>Has_Cabin</td>\n",
       "      <td>0.065459</td>\n",
       "      <td>0.092941</td>\n",
       "      <td>0.014</td>\n",
       "      <td>0.021004</td>\n",
       "    </tr>\n",
       "    <tr>\n",
       "      <th>8</th>\n",
       "      <td>FamilySize</td>\n",
       "      <td>0.067615</td>\n",
       "      <td>0.035252</td>\n",
       "      <td>0.052</td>\n",
       "      <td>0.071829</td>\n",
       "    </tr>\n",
       "    <tr>\n",
       "      <th>9</th>\n",
       "      <td>IsAlone</td>\n",
       "      <td>0.013600</td>\n",
       "      <td>0.021867</td>\n",
       "      <td>0.006</td>\n",
       "      <td>0.020145</td>\n",
       "    </tr>\n",
       "    <tr>\n",
       "      <th>10</th>\n",
       "      <td>Title</td>\n",
       "      <td>0.274870</td>\n",
       "      <td>0.178751</td>\n",
       "      <td>0.068</td>\n",
       "      <td>0.079128</td>\n",
       "    </tr>\n",
       "  </tbody>\n",
       "</table>\n",
       "</div>"
      ],
      "text/plain": [
       "   ...\n",
       "0  ...\n",
       "1  ...\n",
       "2  ...\n",
       "3  ...\n",
       "4  ...\n",
       "5  ...\n",
       "6  ...\n",
       "7  ...\n",
       "8  ...\n",
       "9  ...\n",
       "10 ...\n",
       "\n",
       "[11 rows x 5 columns]"
      ]
     },
     "metadata": {},
     "output_type": "display_data"
    }
   ],
   "source": [
    "cols = train.columns.values\n",
    "data = {\n",
    "    \"feature\": cols, \n",
    "    \"Ranfom Forest Feature Importances\": rf_feature,\n",
    "    \"Extra Tree Feature Imortances\": et_feature,\n",
    "    \"AdaBoost Feature Importances\": ada_feature,\n",
    "    \"Gradient Boost Feature Imortances\": gb_feature\n",
    "}\n",
    "\n",
    "feature_dataframe = pd.DataFrame(data)\n",
    "display(feature_dataframe)"
   ]
  },
  {
   "cell_type": "code",
   "execution_count": 29,
   "metadata": {
    "execution": {
     "iopub.execute_input": "2021-08-20T00:55:38.226232Z",
     "iopub.status.busy": "2021-08-20T00:55:38.225896Z",
     "iopub.status.idle": "2021-08-20T00:55:38.238545Z",
     "shell.execute_reply": "2021-08-20T00:55:38.237621Z",
     "shell.execute_reply.started": "2021-08-20T00:55:38.226143Z"
    }
   },
   "outputs": [
    {
     "name": "stdout",
     "output_type": "stream",
     "text": [
      "<class 'pandas.core.frame.DataFrame'>\n",
      "RangeIndex: 11 entries, 0 to 10\n",
      "Data columns (total 5 columns):\n",
      "feature                              11 non-null object\n",
      "Ranfom Forest Feature Importances    11 non-null float64\n",
      "Extra Tree Feature Imortances        11 non-null float64\n",
      "AdaBoost Feature Importances         11 non-null float64\n",
      "Gradient Boost Feature Imortances    11 non-null float64\n",
      "dtypes: float64(4), object(1)\n",
      "memory usage: 520.0+ bytes\n"
     ]
    }
   ],
   "source": [
    "feature_dataframe.info()"
   ]
  },
  {
   "cell_type": "markdown",
   "metadata": {
    "_cell_guid": "06b9f410-f93e-0206-b029-24df035eea2b",
    "_uuid": "7e25675f239b0ab008e0264917abff497795681a"
   },
   "source": [
    "**Interactive feature importances via Plotly scatterplots**\n",
    "\n",
    "* Potly를 이용해 Scatter그리기\n",
    "* [plotly tutorial for Python](https://plotly.com/python/)"
   ]
  },
  {
   "cell_type": "markdown",
   "metadata": {},
   "source": [
    "* Scatter Plot using Plotly"
   ]
  },
  {
   "cell_type": "code",
   "execution_count": 30,
   "metadata": {
    "execution": {
     "iopub.execute_input": "2021-08-20T01:26:04.057679Z",
     "iopub.status.busy": "2021-08-20T01:26:04.057415Z",
     "iopub.status.idle": "2021-08-20T01:26:04.099939Z",
     "shell.execute_reply": "2021-08-20T01:26:04.099308Z",
     "shell.execute_reply.started": "2021-08-20T01:26:04.057645Z"
    }
   },
   "outputs": [
    {
     "data": {
      "application/vnd.plotly.v1+json": {
       "data": [
        {
         "marker": {
          "color": [
           0.1252217719710843,
           0.19798887637046766,
           0.030229624149416975,
           0.021097860814640487,
           0.07202669838186593,
           0.023240969818224436,
           0.10864928676978515,
           0.06545898810431965,
           0.06761530484620441,
           0.013600178955248923,
           0.2748704398187419
          ],
          "colorscale": "Portland",
          "showscale": true,
          "size": 25,
          "sizemode": "diameter",
          "sizeref": 1
         },
         "mode": "markers",
         "text": [
          "Pclass",
          "Sex",
          "Age",
          "Parch",
          "Fare",
          "Embarked",
          "Name_length",
          "Has_Cabin",
          "FamilySize",
          "IsAlone",
          "Title"
         ],
         "type": "scatter",
         "x": [
          "Pclass",
          "Sex",
          "Age",
          "Parch",
          "Fare",
          "Embarked",
          "Name_length",
          "Has_Cabin",
          "FamilySize",
          "IsAlone",
          "Title"
         ],
         "y": [
          0.1252217719710843,
          0.19798887637046766,
          0.030229624149416975,
          0.021097860814640487,
          0.07202669838186593,
          0.023240969818224436,
          0.10864928676978515,
          0.06545898810431965,
          0.06761530484620441,
          0.013600178955248923,
          0.2748704398187419
         ]
        }
       ],
       "layout": {
        "autosize": true,
        "hovermode": "closest",
        "showlegend": false,
        "title": "Ranfom Forest Feature Importances",
        "yaxis": {
         "gridwidth": 2,
         "ticklen": 5,
         "title": "Feature Importances"
        }
       }
      },
      "text/html": [
       "<div id=\"e60956fe-b663-4e91-a735-d8a6b5328218\" style=\"height: 525px; width: 100%;\" class=\"plotly-graph-div\"></div><script type=\"text/javascript\">require([\"plotly\"], function(Plotly) { window.PLOTLYENV=window.PLOTLYENV || {};window.PLOTLYENV.BASE_URL=\"https://plot.ly\";Plotly.newPlot(\"e60956fe-b663-4e91-a735-d8a6b5328218\", [{\"type\": \"scatter\", \"y\": [0.1252217719710843, 0.19798887637046766, 0.030229624149416975, 0.021097860814640487, 0.07202669838186593, 0.023240969818224436, 0.10864928676978515, 0.06545898810431965, 0.06761530484620441, 0.013600178955248923, 0.2748704398187419], \"x\": [\"Pclass\", \"Sex\", \"Age\", \"Parch\", \"Fare\", \"Embarked\", \"Name_length\", \"Has_Cabin\", \"FamilySize\", \"IsAlone\", \"Title\"], \"mode\": \"markers\", \"marker\": {\"sizemode\": \"diameter\", \"sizeref\": 1, \"size\": 25, \"color\": [0.1252217719710843, 0.19798887637046766, 0.030229624149416975, 0.021097860814640487, 0.07202669838186593, 0.023240969818224436, 0.10864928676978515, 0.06545898810431965, 0.06761530484620441, 0.013600178955248923, 0.2748704398187419], \"colorscale\": \"Portland\", \"showscale\": true}, \"text\": [\"Pclass\", \"Sex\", \"Age\", \"Parch\", \"Fare\", \"Embarked\", \"Name_length\", \"Has_Cabin\", \"FamilySize\", \"IsAlone\", \"Title\"]}], {\"autosize\": true, \"title\": \"Ranfom Forest Feature Importances\", \"hovermode\": \"closest\", \"yaxis\": {\"title\": \"Feature Importances\", \"ticklen\": 5, \"gridwidth\": 2}, \"showlegend\": false}, {\"showLink\": true, \"linkText\": \"Export to plot.ly\"})});</script>"
      ],
      "text/vnd.plotly.v1+html": [
       "<div id=\"e60956fe-b663-4e91-a735-d8a6b5328218\" style=\"height: 525px; width: 100%;\" class=\"plotly-graph-div\"></div><script type=\"text/javascript\">require([\"plotly\"], function(Plotly) { window.PLOTLYENV=window.PLOTLYENV || {};window.PLOTLYENV.BASE_URL=\"https://plot.ly\";Plotly.newPlot(\"e60956fe-b663-4e91-a735-d8a6b5328218\", [{\"type\": \"scatter\", \"y\": [0.1252217719710843, 0.19798887637046766, 0.030229624149416975, 0.021097860814640487, 0.07202669838186593, 0.023240969818224436, 0.10864928676978515, 0.06545898810431965, 0.06761530484620441, 0.013600178955248923, 0.2748704398187419], \"x\": [\"Pclass\", \"Sex\", \"Age\", \"Parch\", \"Fare\", \"Embarked\", \"Name_length\", \"Has_Cabin\", \"FamilySize\", \"IsAlone\", \"Title\"], \"mode\": \"markers\", \"marker\": {\"sizemode\": \"diameter\", \"sizeref\": 1, \"size\": 25, \"color\": [0.1252217719710843, 0.19798887637046766, 0.030229624149416975, 0.021097860814640487, 0.07202669838186593, 0.023240969818224436, 0.10864928676978515, 0.06545898810431965, 0.06761530484620441, 0.013600178955248923, 0.2748704398187419], \"colorscale\": \"Portland\", \"showscale\": true}, \"text\": [\"Pclass\", \"Sex\", \"Age\", \"Parch\", \"Fare\", \"Embarked\", \"Name_length\", \"Has_Cabin\", \"FamilySize\", \"IsAlone\", \"Title\"]}], {\"autosize\": true, \"title\": \"Ranfom Forest Feature Importances\", \"hovermode\": \"closest\", \"yaxis\": {\"title\": \"Feature Importances\", \"ticklen\": 5, \"gridwidth\": 2}, \"showlegend\": false}, {\"showLink\": true, \"linkText\": \"Export to plot.ly\"})});</script>"
      ]
     },
     "metadata": {},
     "output_type": "display_data"
    },
    {
     "data": {
      "application/vnd.plotly.v1+json": {
       "data": [
        {
         "marker": {
          "color": [
           0.1168349117280486,
           0.4154694911459551,
           0.019445306965347322,
           0.013447345735997327,
           0.04891302754737906,
           0.02165058791695076,
           0.0354292858889288,
           0.09294054019023007,
           0.035251670254983464,
           0.02186699048205618,
           0.1787508421441233
          ],
          "colorscale": "Portland",
          "showscale": true,
          "size": 25,
          "sizemode": "diameter",
          "sizeref": 1
         },
         "mode": "markers",
         "text": [
          "Pclass",
          "Sex",
          "Age",
          "Parch",
          "Fare",
          "Embarked",
          "Name_length",
          "Has_Cabin",
          "FamilySize",
          "IsAlone",
          "Title"
         ],
         "type": "scatter",
         "x": [
          "Pclass",
          "Sex",
          "Age",
          "Parch",
          "Fare",
          "Embarked",
          "Name_length",
          "Has_Cabin",
          "FamilySize",
          "IsAlone",
          "Title"
         ],
         "y": [
          0.1168349117280486,
          0.4154694911459551,
          0.019445306965347322,
          0.013447345735997327,
          0.04891302754737906,
          0.02165058791695076,
          0.0354292858889288,
          0.09294054019023007,
          0.035251670254983464,
          0.02186699048205618,
          0.1787508421441233
         ]
        }
       ],
       "layout": {
        "autosize": true,
        "hovermode": "closest",
        "showlegend": false,
        "title": "Extra Tree Feature Imortances",
        "yaxis": {
         "gridwidth": 2,
         "ticklen": 5,
         "title": "Feature Importances"
        }
       }
      },
      "text/html": [
       "<div id=\"a8b2eeff-1286-4de4-979e-5377ed348700\" style=\"height: 525px; width: 100%;\" class=\"plotly-graph-div\"></div><script type=\"text/javascript\">require([\"plotly\"], function(Plotly) { window.PLOTLYENV=window.PLOTLYENV || {};window.PLOTLYENV.BASE_URL=\"https://plot.ly\";Plotly.newPlot(\"a8b2eeff-1286-4de4-979e-5377ed348700\", [{\"type\": \"scatter\", \"y\": [0.1168349117280486, 0.4154694911459551, 0.019445306965347322, 0.013447345735997327, 0.04891302754737906, 0.02165058791695076, 0.0354292858889288, 0.09294054019023007, 0.035251670254983464, 0.02186699048205618, 0.1787508421441233], \"x\": [\"Pclass\", \"Sex\", \"Age\", \"Parch\", \"Fare\", \"Embarked\", \"Name_length\", \"Has_Cabin\", \"FamilySize\", \"IsAlone\", \"Title\"], \"mode\": \"markers\", \"marker\": {\"sizemode\": \"diameter\", \"sizeref\": 1, \"size\": 25, \"color\": [0.1168349117280486, 0.4154694911459551, 0.019445306965347322, 0.013447345735997327, 0.04891302754737906, 0.02165058791695076, 0.0354292858889288, 0.09294054019023007, 0.035251670254983464, 0.02186699048205618, 0.1787508421441233], \"colorscale\": \"Portland\", \"showscale\": true}, \"text\": [\"Pclass\", \"Sex\", \"Age\", \"Parch\", \"Fare\", \"Embarked\", \"Name_length\", \"Has_Cabin\", \"FamilySize\", \"IsAlone\", \"Title\"]}], {\"autosize\": true, \"title\": \"Extra Tree Feature Imortances\", \"hovermode\": \"closest\", \"yaxis\": {\"title\": \"Feature Importances\", \"ticklen\": 5, \"gridwidth\": 2}, \"showlegend\": false}, {\"showLink\": true, \"linkText\": \"Export to plot.ly\"})});</script>"
      ],
      "text/vnd.plotly.v1+html": [
       "<div id=\"a8b2eeff-1286-4de4-979e-5377ed348700\" style=\"height: 525px; width: 100%;\" class=\"plotly-graph-div\"></div><script type=\"text/javascript\">require([\"plotly\"], function(Plotly) { window.PLOTLYENV=window.PLOTLYENV || {};window.PLOTLYENV.BASE_URL=\"https://plot.ly\";Plotly.newPlot(\"a8b2eeff-1286-4de4-979e-5377ed348700\", [{\"type\": \"scatter\", \"y\": [0.1168349117280486, 0.4154694911459551, 0.019445306965347322, 0.013447345735997327, 0.04891302754737906, 0.02165058791695076, 0.0354292858889288, 0.09294054019023007, 0.035251670254983464, 0.02186699048205618, 0.1787508421441233], \"x\": [\"Pclass\", \"Sex\", \"Age\", \"Parch\", \"Fare\", \"Embarked\", \"Name_length\", \"Has_Cabin\", \"FamilySize\", \"IsAlone\", \"Title\"], \"mode\": \"markers\", \"marker\": {\"sizemode\": \"diameter\", \"sizeref\": 1, \"size\": 25, \"color\": [0.1168349117280486, 0.4154694911459551, 0.019445306965347322, 0.013447345735997327, 0.04891302754737906, 0.02165058791695076, 0.0354292858889288, 0.09294054019023007, 0.035251670254983464, 0.02186699048205618, 0.1787508421441233], \"colorscale\": \"Portland\", \"showscale\": true}, \"text\": [\"Pclass\", \"Sex\", \"Age\", \"Parch\", \"Fare\", \"Embarked\", \"Name_length\", \"Has_Cabin\", \"FamilySize\", \"IsAlone\", \"Title\"]}], {\"autosize\": true, \"title\": \"Extra Tree Feature Imortances\", \"hovermode\": \"closest\", \"yaxis\": {\"title\": \"Feature Importances\", \"ticklen\": 5, \"gridwidth\": 2}, \"showlegend\": false}, {\"showLink\": true, \"linkText\": \"Export to plot.ly\"})});</script>"
      ]
     },
     "metadata": {},
     "output_type": "display_data"
    },
    {
     "data": {
      "application/vnd.plotly.v1+json": {
       "data": [
        {
         "marker": {
          "color": [
           0.03,
           0.008,
           0.016,
           0.066,
           0.04,
           0.01,
           0.69,
           0.014,
           0.052,
           0.006,
           0.068
          ],
          "colorscale": "Portland",
          "showscale": true,
          "size": 25,
          "sizemode": "diameter",
          "sizeref": 1
         },
         "mode": "markers",
         "text": [
          "Pclass",
          "Sex",
          "Age",
          "Parch",
          "Fare",
          "Embarked",
          "Name_length",
          "Has_Cabin",
          "FamilySize",
          "IsAlone",
          "Title"
         ],
         "type": "scatter",
         "x": [
          "Pclass",
          "Sex",
          "Age",
          "Parch",
          "Fare",
          "Embarked",
          "Name_length",
          "Has_Cabin",
          "FamilySize",
          "IsAlone",
          "Title"
         ],
         "y": [
          0.03,
          0.008,
          0.016,
          0.066,
          0.04,
          0.01,
          0.69,
          0.014,
          0.052,
          0.006,
          0.068
         ]
        }
       ],
       "layout": {
        "autosize": true,
        "hovermode": "closest",
        "showlegend": false,
        "title": "AdaBoost Feature Importances",
        "yaxis": {
         "gridwidth": 2,
         "ticklen": 5,
         "title": "Feature Importances"
        }
       }
      },
      "text/html": [
       "<div id=\"15aaec92-1a69-45d7-906e-c57ed6f14746\" style=\"height: 525px; width: 100%;\" class=\"plotly-graph-div\"></div><script type=\"text/javascript\">require([\"plotly\"], function(Plotly) { window.PLOTLYENV=window.PLOTLYENV || {};window.PLOTLYENV.BASE_URL=\"https://plot.ly\";Plotly.newPlot(\"15aaec92-1a69-45d7-906e-c57ed6f14746\", [{\"type\": \"scatter\", \"y\": [0.03, 0.008, 0.016, 0.066, 0.04, 0.01, 0.69, 0.014, 0.052, 0.006, 0.068], \"x\": [\"Pclass\", \"Sex\", \"Age\", \"Parch\", \"Fare\", \"Embarked\", \"Name_length\", \"Has_Cabin\", \"FamilySize\", \"IsAlone\", \"Title\"], \"mode\": \"markers\", \"marker\": {\"sizemode\": \"diameter\", \"sizeref\": 1, \"size\": 25, \"color\": [0.03, 0.008, 0.016, 0.066, 0.04, 0.01, 0.69, 0.014, 0.052, 0.006, 0.068], \"colorscale\": \"Portland\", \"showscale\": true}, \"text\": [\"Pclass\", \"Sex\", \"Age\", \"Parch\", \"Fare\", \"Embarked\", \"Name_length\", \"Has_Cabin\", \"FamilySize\", \"IsAlone\", \"Title\"]}], {\"autosize\": true, \"title\": \"AdaBoost Feature Importances\", \"hovermode\": \"closest\", \"yaxis\": {\"title\": \"Feature Importances\", \"ticklen\": 5, \"gridwidth\": 2}, \"showlegend\": false}, {\"showLink\": true, \"linkText\": \"Export to plot.ly\"})});</script>"
      ],
      "text/vnd.plotly.v1+html": [
       "<div id=\"15aaec92-1a69-45d7-906e-c57ed6f14746\" style=\"height: 525px; width: 100%;\" class=\"plotly-graph-div\"></div><script type=\"text/javascript\">require([\"plotly\"], function(Plotly) { window.PLOTLYENV=window.PLOTLYENV || {};window.PLOTLYENV.BASE_URL=\"https://plot.ly\";Plotly.newPlot(\"15aaec92-1a69-45d7-906e-c57ed6f14746\", [{\"type\": \"scatter\", \"y\": [0.03, 0.008, 0.016, 0.066, 0.04, 0.01, 0.69, 0.014, 0.052, 0.006, 0.068], \"x\": [\"Pclass\", \"Sex\", \"Age\", \"Parch\", \"Fare\", \"Embarked\", \"Name_length\", \"Has_Cabin\", \"FamilySize\", \"IsAlone\", \"Title\"], \"mode\": \"markers\", \"marker\": {\"sizemode\": \"diameter\", \"sizeref\": 1, \"size\": 25, \"color\": [0.03, 0.008, 0.016, 0.066, 0.04, 0.01, 0.69, 0.014, 0.052, 0.006, 0.068], \"colorscale\": \"Portland\", \"showscale\": true}, \"text\": [\"Pclass\", \"Sex\", \"Age\", \"Parch\", \"Fare\", \"Embarked\", \"Name_length\", \"Has_Cabin\", \"FamilySize\", \"IsAlone\", \"Title\"]}], {\"autosize\": true, \"title\": \"AdaBoost Feature Importances\", \"hovermode\": \"closest\", \"yaxis\": {\"title\": \"Feature Importances\", \"ticklen\": 5, \"gridwidth\": 2}, \"showlegend\": false}, {\"showLink\": true, \"linkText\": \"Export to plot.ly\"})});</script>"
      ]
     },
     "metadata": {},
     "output_type": "display_data"
    },
    {
     "data": {
      "application/vnd.plotly.v1+json": {
       "data": [
        {
         "marker": {
          "color": [
           0.07822051798154507,
           0.02689199729164752,
           0.1130338097257584,
           0.03277064591324163,
           0.0903747038045083,
           0.050304554573512614,
           0.4162978151840055,
           0.0210043257068263,
           0.07182881735220081,
           0.020144780069692635,
           0.07912803239706094
          ],
          "colorscale": "Portland",
          "showscale": true,
          "size": 25,
          "sizemode": "diameter",
          "sizeref": 1
         },
         "mode": "markers",
         "text": [
          "Pclass",
          "Sex",
          "Age",
          "Parch",
          "Fare",
          "Embarked",
          "Name_length",
          "Has_Cabin",
          "FamilySize",
          "IsAlone",
          "Title"
         ],
         "type": "scatter",
         "x": [
          "Pclass",
          "Sex",
          "Age",
          "Parch",
          "Fare",
          "Embarked",
          "Name_length",
          "Has_Cabin",
          "FamilySize",
          "IsAlone",
          "Title"
         ],
         "y": [
          0.07822051798154507,
          0.02689199729164752,
          0.1130338097257584,
          0.03277064591324163,
          0.0903747038045083,
          0.050304554573512614,
          0.4162978151840055,
          0.0210043257068263,
          0.07182881735220081,
          0.020144780069692635,
          0.07912803239706094
         ]
        }
       ],
       "layout": {
        "autosize": true,
        "hovermode": "closest",
        "showlegend": false,
        "title": "Gradient Boost Feature Imortances",
        "yaxis": {
         "gridwidth": 2,
         "ticklen": 5,
         "title": "Feature Importances"
        }
       }
      },
      "text/html": [
       "<div id=\"76d9f7bf-8b69-411e-bdb6-6bd4671ea9ef\" style=\"height: 525px; width: 100%;\" class=\"plotly-graph-div\"></div><script type=\"text/javascript\">require([\"plotly\"], function(Plotly) { window.PLOTLYENV=window.PLOTLYENV || {};window.PLOTLYENV.BASE_URL=\"https://plot.ly\";Plotly.newPlot(\"76d9f7bf-8b69-411e-bdb6-6bd4671ea9ef\", [{\"type\": \"scatter\", \"y\": [0.07822051798154507, 0.02689199729164752, 0.1130338097257584, 0.03277064591324163, 0.0903747038045083, 0.050304554573512614, 0.4162978151840055, 0.0210043257068263, 0.07182881735220081, 0.020144780069692635, 0.07912803239706094], \"x\": [\"Pclass\", \"Sex\", \"Age\", \"Parch\", \"Fare\", \"Embarked\", \"Name_length\", \"Has_Cabin\", \"FamilySize\", \"IsAlone\", \"Title\"], \"mode\": \"markers\", \"marker\": {\"sizemode\": \"diameter\", \"sizeref\": 1, \"size\": 25, \"color\": [0.07822051798154507, 0.02689199729164752, 0.1130338097257584, 0.03277064591324163, 0.0903747038045083, 0.050304554573512614, 0.4162978151840055, 0.0210043257068263, 0.07182881735220081, 0.020144780069692635, 0.07912803239706094], \"colorscale\": \"Portland\", \"showscale\": true}, \"text\": [\"Pclass\", \"Sex\", \"Age\", \"Parch\", \"Fare\", \"Embarked\", \"Name_length\", \"Has_Cabin\", \"FamilySize\", \"IsAlone\", \"Title\"]}], {\"autosize\": true, \"title\": \"Gradient Boost Feature Imortances\", \"hovermode\": \"closest\", \"yaxis\": {\"title\": \"Feature Importances\", \"ticklen\": 5, \"gridwidth\": 2}, \"showlegend\": false}, {\"showLink\": true, \"linkText\": \"Export to plot.ly\"})});</script>"
      ],
      "text/vnd.plotly.v1+html": [
       "<div id=\"76d9f7bf-8b69-411e-bdb6-6bd4671ea9ef\" style=\"height: 525px; width: 100%;\" class=\"plotly-graph-div\"></div><script type=\"text/javascript\">require([\"plotly\"], function(Plotly) { window.PLOTLYENV=window.PLOTLYENV || {};window.PLOTLYENV.BASE_URL=\"https://plot.ly\";Plotly.newPlot(\"76d9f7bf-8b69-411e-bdb6-6bd4671ea9ef\", [{\"type\": \"scatter\", \"y\": [0.07822051798154507, 0.02689199729164752, 0.1130338097257584, 0.03277064591324163, 0.0903747038045083, 0.050304554573512614, 0.4162978151840055, 0.0210043257068263, 0.07182881735220081, 0.020144780069692635, 0.07912803239706094], \"x\": [\"Pclass\", \"Sex\", \"Age\", \"Parch\", \"Fare\", \"Embarked\", \"Name_length\", \"Has_Cabin\", \"FamilySize\", \"IsAlone\", \"Title\"], \"mode\": \"markers\", \"marker\": {\"sizemode\": \"diameter\", \"sizeref\": 1, \"size\": 25, \"color\": [0.07822051798154507, 0.02689199729164752, 0.1130338097257584, 0.03277064591324163, 0.0903747038045083, 0.050304554573512614, 0.4162978151840055, 0.0210043257068263, 0.07182881735220081, 0.020144780069692635, 0.07912803239706094], \"colorscale\": \"Portland\", \"showscale\": true}, \"text\": [\"Pclass\", \"Sex\", \"Age\", \"Parch\", \"Fare\", \"Embarked\", \"Name_length\", \"Has_Cabin\", \"FamilySize\", \"IsAlone\", \"Title\"]}], {\"autosize\": true, \"title\": \"Gradient Boost Feature Imortances\", \"hovermode\": \"closest\", \"yaxis\": {\"title\": \"Feature Importances\", \"ticklen\": 5, \"gridwidth\": 2}, \"showlegend\": false}, {\"showLink\": true, \"linkText\": \"Export to plot.ly\"})});</script>"
      ]
     },
     "metadata": {},
     "output_type": "display_data"
    }
   ],
   "source": [
    "# 분류기별로 피처 중요도를 그리기위함\n",
    "# ['Ranfom Forest Feature Importances','Extra Tree Feature Imortances', 'AdaBoost Feature Importances', 'Gradient Boost Feature Imortances']\n",
    "cols = feature_dataframe.columns.values[1:].tolist()\n",
    "\n",
    "for col in cols:\n",
    "    trace = go.Scatter(\n",
    "        y = feature_dataframe[col].values,\n",
    "        x = feature_dataframe[\"feature\"].values,\n",
    "        mode = \"markers\",\n",
    "        marker = dict(\n",
    "            sizemode=\"diameter\",\n",
    "            sizeref = 1,\n",
    "            size = 25,\n",
    "            #       size= feature_dataframe['AdaBoost feature importances'].values,\n",
    "            #color = np.random.randn(500), #set color equal to a variable\n",
    "            color = feature_dataframe[col].values,\n",
    "            colorscale=\"Portland\",\n",
    "            showscale=True\n",
    "        ),\n",
    "        text = feature_dataframe[\"feature\"].values\n",
    "    )\n",
    "    data = [trace]\n",
    "    layout  = go.Layout(autosize = True, title = col, hovermode='closest', \n",
    "                        #     xaxis= dict(\n",
    "                        #         title= 'Pop',\n",
    "                        #         ticklen= 5,\n",
    "                        #         zeroline= False,\n",
    "                        #         gridwidth= 2,\n",
    "                        #     ),\n",
    "                        yaxis = dict(\n",
    "                            title=\"Feature Importances\",\n",
    "                            ticklen =5,\n",
    "                            gridwidth=2\n",
    "                        ),\n",
    "                        showlegend = False\n",
    "                       )\n",
    "    fig = go.Figure(data = data , layout=layout)\n",
    "    py.iplot(fig, filename=\"Scatter2010\")"
   ]
  },
  {
   "cell_type": "markdown",
   "metadata": {
    "_cell_guid": "553828f0-c994-5ee1-695f-9373f11a1a7b",
    "_uuid": "9d7b8fdd0c3102d7e3ddcffaf26ce19b02e5ad74"
   },
   "source": [
    "* Feature Importance값의 평균값을 새로운 피처로 생성"
   ]
  },
  {
   "cell_type": "code",
   "execution_count": 31,
   "metadata": {
    "execution": {
     "iopub.execute_input": "2021-08-20T01:38:41.796236Z",
     "iopub.status.busy": "2021-08-20T01:38:41.795833Z",
     "iopub.status.idle": "2021-08-20T01:38:41.81957Z",
     "shell.execute_reply": "2021-08-20T01:38:41.818979Z",
     "shell.execute_reply.started": "2021-08-20T01:38:41.796154Z"
    }
   },
   "outputs": [
    {
     "data": {
      "text/html": [
       "<div>\n",
       "<style scoped>\n",
       "    .dataframe tbody tr th:only-of-type {\n",
       "        vertical-align: middle;\n",
       "    }\n",
       "\n",
       "    .dataframe tbody tr th {\n",
       "        vertical-align: top;\n",
       "    }\n",
       "\n",
       "    .dataframe thead th {\n",
       "        text-align: right;\n",
       "    }\n",
       "</style>\n",
       "<table border=\"1\" class=\"dataframe\">\n",
       "  <thead>\n",
       "    <tr style=\"text-align: right;\">\n",
       "      <th></th>\n",
       "      <th>feature</th>\n",
       "      <th>Ranfom Forest Feature Importances</th>\n",
       "      <th>Extra Tree Feature Imortances</th>\n",
       "      <th>AdaBoost Feature Importances</th>\n",
       "      <th>Gradient Boost Feature Imortances</th>\n",
       "      <th>mean</th>\n",
       "    </tr>\n",
       "  </thead>\n",
       "  <tbody>\n",
       "    <tr>\n",
       "      <th>0</th>\n",
       "      <td>Pclass</td>\n",
       "      <td>0.125222</td>\n",
       "      <td>0.116835</td>\n",
       "      <td>0.030</td>\n",
       "      <td>0.078221</td>\n",
       "      <td>0.087569</td>\n",
       "    </tr>\n",
       "    <tr>\n",
       "      <th>1</th>\n",
       "      <td>Sex</td>\n",
       "      <td>0.197989</td>\n",
       "      <td>0.415469</td>\n",
       "      <td>0.008</td>\n",
       "      <td>0.026892</td>\n",
       "      <td>0.162088</td>\n",
       "    </tr>\n",
       "    <tr>\n",
       "      <th>2</th>\n",
       "      <td>Age</td>\n",
       "      <td>0.030230</td>\n",
       "      <td>0.019445</td>\n",
       "      <td>0.016</td>\n",
       "      <td>0.113034</td>\n",
       "      <td>0.044677</td>\n",
       "    </tr>\n",
       "    <tr>\n",
       "      <th>3</th>\n",
       "      <td>Parch</td>\n",
       "      <td>0.021098</td>\n",
       "      <td>0.013447</td>\n",
       "      <td>0.066</td>\n",
       "      <td>0.032771</td>\n",
       "      <td>0.033329</td>\n",
       "    </tr>\n",
       "    <tr>\n",
       "      <th>4</th>\n",
       "      <td>Fare</td>\n",
       "      <td>0.072027</td>\n",
       "      <td>0.048913</td>\n",
       "      <td>0.040</td>\n",
       "      <td>0.090375</td>\n",
       "      <td>0.062829</td>\n",
       "    </tr>\n",
       "  </tbody>\n",
       "</table>\n",
       "</div>"
      ],
      "text/plain": [
       "  feature    ...         mean\n",
       "0  Pclass    ...     0.087569\n",
       "1     Sex    ...     0.162088\n",
       "2     Age    ...     0.044677\n",
       "3   Parch    ...     0.033329\n",
       "4    Fare    ...     0.062829\n",
       "\n",
       "[5 rows x 6 columns]"
      ]
     },
     "execution_count": 31,
     "metadata": {},
     "output_type": "execute_result"
    }
   ],
   "source": [
    "feature_dataframe[\"mean\"] = feature_dataframe.mean(axis = 1)\n",
    "feature_dataframe.head()"
   ]
  },
  {
   "cell_type": "markdown",
   "metadata": {
    "_cell_guid": "5645e647-c517-7822-f881-b8d7e38ef5da",
    "_uuid": "1f0aff0896fef90b326fff7816393fef0e0cb992"
   },
   "source": [
    "**Plotly Barplot of Average Feature Importances**\n",
    "\n",
    "피처 중요도의 평균을 바차트로 표시"
   ]
  },
  {
   "cell_type": "code",
   "execution_count": 32,
   "metadata": {
    "execution": {
     "iopub.execute_input": "2021-08-20T02:07:50.537326Z",
     "iopub.status.busy": "2021-08-20T02:07:50.536967Z",
     "iopub.status.idle": "2021-08-20T02:07:50.563662Z",
     "shell.execute_reply": "2021-08-20T02:07:50.562974Z",
     "shell.execute_reply.started": "2021-08-20T02:07:50.537268Z"
    }
   },
   "outputs": [
    {
     "data": {
      "application/vnd.plotly.v1+json": {
       "data": [
        {
         "marker": {
          "color": [
           0.0875693004201695,
           0.16208759120201757,
           0.04467718521013067,
           0.03332896311596986,
           0.06282860743343832,
           0.02629902807717195,
           0.31259409696067986,
           0.04835096350034401,
           0.056673948113347174,
           0.015402987376749434,
           0.15018732858998152
          ],
          "colorscale": "Portland",
          "reversescale": false,
          "showscale": true
         },
         "opacity": 0.6,
         "type": "bar",
         "x": [
          "Pclass",
          "Sex",
          "Age",
          "Parch",
          "Fare",
          "Embarked",
          "Name_length",
          "Has_Cabin",
          "FamilySize",
          "IsAlone",
          "Title"
         ],
         "y": [
          0.0875693004201695,
          0.16208759120201757,
          0.04467718521013067,
          0.03332896311596986,
          0.06282860743343832,
          0.02629902807717195,
          0.31259409696067986,
          0.04835096350034401,
          0.056673948113347174,
          0.015402987376749434,
          0.15018732858998152
         ]
        }
       ],
       "layout": {
        "autosize": true,
        "hovermode": "Closest",
        "showlegend": false,
        "title": "BarPlot of Mean Feature Importance",
        "yaxis": {
         "gridwidth": 2,
         "ticklen": 5,
         "title": "Feature Importances"
        }
       }
      },
      "text/html": [
       "<div id=\"9f6a3328-3e70-4008-b39a-a670424fa14f\" style=\"height: 525px; width: 100%;\" class=\"plotly-graph-div\"></div><script type=\"text/javascript\">require([\"plotly\"], function(Plotly) { window.PLOTLYENV=window.PLOTLYENV || {};window.PLOTLYENV.BASE_URL=\"https://plot.ly\";Plotly.newPlot(\"9f6a3328-3e70-4008-b39a-a670424fa14f\", [{\"type\": \"bar\", \"x\": [\"Pclass\", \"Sex\", \"Age\", \"Parch\", \"Fare\", \"Embarked\", \"Name_length\", \"Has_Cabin\", \"FamilySize\", \"IsAlone\", \"Title\"], \"y\": [0.0875693004201695, 0.16208759120201757, 0.04467718521013067, 0.03332896311596986, 0.06282860743343832, 0.02629902807717195, 0.31259409696067986, 0.04835096350034401, 0.056673948113347174, 0.015402987376749434, 0.15018732858998152], \"marker\": {\"color\": [0.0875693004201695, 0.16208759120201757, 0.04467718521013067, 0.03332896311596986, 0.06282860743343832, 0.02629902807717195, 0.31259409696067986, 0.04835096350034401, 0.056673948113347174, 0.015402987376749434, 0.15018732858998152], \"colorscale\": \"Portland\", \"showscale\": true, \"reversescale\": false}, \"opacity\": 0.6}], {\"autosize\": true, \"title\": \"BarPlot of Mean Feature Importance\", \"hovermode\": \"Closest\", \"yaxis\": {\"title\": \"Feature Importances\", \"ticklen\": 5, \"gridwidth\": 2}, \"showlegend\": false}, {\"showLink\": true, \"linkText\": \"Export to plot.ly\"})});</script>"
      ],
      "text/vnd.plotly.v1+html": [
       "<div id=\"9f6a3328-3e70-4008-b39a-a670424fa14f\" style=\"height: 525px; width: 100%;\" class=\"plotly-graph-div\"></div><script type=\"text/javascript\">require([\"plotly\"], function(Plotly) { window.PLOTLYENV=window.PLOTLYENV || {};window.PLOTLYENV.BASE_URL=\"https://plot.ly\";Plotly.newPlot(\"9f6a3328-3e70-4008-b39a-a670424fa14f\", [{\"type\": \"bar\", \"x\": [\"Pclass\", \"Sex\", \"Age\", \"Parch\", \"Fare\", \"Embarked\", \"Name_length\", \"Has_Cabin\", \"FamilySize\", \"IsAlone\", \"Title\"], \"y\": [0.0875693004201695, 0.16208759120201757, 0.04467718521013067, 0.03332896311596986, 0.06282860743343832, 0.02629902807717195, 0.31259409696067986, 0.04835096350034401, 0.056673948113347174, 0.015402987376749434, 0.15018732858998152], \"marker\": {\"color\": [0.0875693004201695, 0.16208759120201757, 0.04467718521013067, 0.03332896311596986, 0.06282860743343832, 0.02629902807717195, 0.31259409696067986, 0.04835096350034401, 0.056673948113347174, 0.015402987376749434, 0.15018732858998152], \"colorscale\": \"Portland\", \"showscale\": true, \"reversescale\": false}, \"opacity\": 0.6}], {\"autosize\": true, \"title\": \"BarPlot of Mean Feature Importance\", \"hovermode\": \"Closest\", \"yaxis\": {\"title\": \"Feature Importances\", \"ticklen\": 5, \"gridwidth\": 2}, \"showlegend\": false}, {\"showLink\": true, \"linkText\": \"Export to plot.ly\"})});</script>"
      ]
     },
     "metadata": {},
     "output_type": "display_data"
    }
   ],
   "source": [
    "y = feature_dataframe[\"mean\"].values # 분류기별 피처중요도의 평균값\n",
    "x = feature_dataframe[\"feature\"].values # 피처명\n",
    "\n",
    "# data region\n",
    "data = [\n",
    "    go.Bar(\n",
    "        x = x,\n",
    "        y = y,\n",
    "        marker = dict(\n",
    "            color=feature_dataframe[\"mean\"].values,\n",
    "            colorscale=\"Portland\",\n",
    "            showscale=True,\n",
    "            reversescale=False  # False이면 피처중요도가 높은 피처가 색깔이 밝은 색 계열로 시작, True이면 이와 반대임\n",
    "        ),\n",
    "        opacity=0.6\n",
    "    )\n",
    "]\n",
    "\n",
    "#그래프의 배치 및 눈금 \n",
    "layout = go.Layout(\n",
    "    autosize=True,\n",
    "    title = \"BarPlot of Mean Feature Importance\",\n",
    "    hovermode=\"Closest\",\n",
    "    #xaxis=dict(\n",
    "     #   title=\"Feature Mean\",\n",
    "     #   ticklen=5,\n",
    "     #   zeroline=False,\n",
    "     #   gridwidth=2\n",
    "    #),\n",
    "    yaxis=dict(\n",
    "        title=\"Feature Importances\",\n",
    "        ticklen=5,\n",
    "        gridwidth=2        \n",
    "    ),\n",
    "    showlegend=False\n",
    ")\n",
    "\n",
    "fig = go.Figure(data = data, layout=layout)\n",
    "py.iplot(fig, filename=\"barplot_featureimportance\")"
   ]
  },
  {
   "cell_type": "markdown",
   "metadata": {
    "_cell_guid": "c1201ecc-b07d-f8a1-0870-b8d78c89ebc0",
    "_uuid": "bbb76d189e8d03921caaacfa9545cef894348c7d"
   },
   "source": [
    "# Second-Level Predictions from the First-level Output"
   ]
  },
  {
   "cell_type": "markdown",
   "metadata": {
    "_cell_guid": "6b901750-ccdd-38ca-d8ea-1c361121ec4f",
    "_uuid": "fed132782b73dda8d265065867e7f57c0aed7f50"
   },
   "source": [
    "**First-level output as new features**"
   ]
  },
  {
   "cell_type": "code",
   "execution_count": 33,
   "metadata": {
    "execution": {
     "iopub.execute_input": "2021-08-20T02:37:57.213623Z",
     "iopub.status.busy": "2021-08-20T02:37:57.213363Z",
     "iopub.status.idle": "2021-08-20T02:37:57.221303Z",
     "shell.execute_reply": "2021-08-20T02:37:57.220358Z",
     "shell.execute_reply.started": "2021-08-20T02:37:57.21359Z"
    }
   },
   "outputs": [
    {
     "data": {
      "text/plain": [
       "numpy.ndarray"
      ]
     },
     "metadata": {},
     "output_type": "display_data"
    },
    {
     "data": {
      "text/plain": [
       "(891, 1)"
      ]
     },
     "metadata": {},
     "output_type": "display_data"
    }
   ],
   "source": [
    "display(type(rf_oof_train[0]))\n",
    "display(rf_oof_train[0].shape)"
   ]
  },
  {
   "cell_type": "code",
   "execution_count": 34,
   "metadata": {
    "execution": {
     "iopub.execute_input": "2021-08-20T02:42:37.935854Z",
     "iopub.status.busy": "2021-08-20T02:42:37.935546Z",
     "iopub.status.idle": "2021-08-20T02:42:37.956333Z",
     "shell.execute_reply": "2021-08-20T02:42:37.955633Z",
     "shell.execute_reply.started": "2021-08-20T02:42:37.935791Z"
    }
   },
   "outputs": [
    {
     "data": {
      "text/html": [
       "<div>\n",
       "<style scoped>\n",
       "    .dataframe tbody tr th:only-of-type {\n",
       "        vertical-align: middle;\n",
       "    }\n",
       "\n",
       "    .dataframe tbody tr th {\n",
       "        vertical-align: top;\n",
       "    }\n",
       "\n",
       "    .dataframe thead th {\n",
       "        text-align: right;\n",
       "    }\n",
       "</style>\n",
       "<table border=\"1\" class=\"dataframe\">\n",
       "  <thead>\n",
       "    <tr style=\"text-align: right;\">\n",
       "      <th></th>\n",
       "      <th>RandomForest</th>\n",
       "      <th>ExtraTrees</th>\n",
       "      <th>AdaBoost</th>\n",
       "      <th>GradientBoost</th>\n",
       "    </tr>\n",
       "  </thead>\n",
       "  <tbody>\n",
       "    <tr>\n",
       "      <th>0</th>\n",
       "      <td>0.0</td>\n",
       "      <td>0.0</td>\n",
       "      <td>0.0</td>\n",
       "      <td>0.0</td>\n",
       "    </tr>\n",
       "    <tr>\n",
       "      <th>1</th>\n",
       "      <td>1.0</td>\n",
       "      <td>1.0</td>\n",
       "      <td>1.0</td>\n",
       "      <td>1.0</td>\n",
       "    </tr>\n",
       "    <tr>\n",
       "      <th>2</th>\n",
       "      <td>0.0</td>\n",
       "      <td>0.0</td>\n",
       "      <td>1.0</td>\n",
       "      <td>1.0</td>\n",
       "    </tr>\n",
       "    <tr>\n",
       "      <th>3</th>\n",
       "      <td>1.0</td>\n",
       "      <td>1.0</td>\n",
       "      <td>1.0</td>\n",
       "      <td>1.0</td>\n",
       "    </tr>\n",
       "    <tr>\n",
       "      <th>4</th>\n",
       "      <td>0.0</td>\n",
       "      <td>0.0</td>\n",
       "      <td>0.0</td>\n",
       "      <td>0.0</td>\n",
       "    </tr>\n",
       "  </tbody>\n",
       "</table>\n",
       "</div>"
      ],
      "text/plain": [
       "   RandomForest  ExtraTrees  AdaBoost  GradientBoost\n",
       "0           0.0         0.0       0.0            0.0\n",
       "1           1.0         1.0       1.0            1.0\n",
       "2           0.0         0.0       1.0            1.0\n",
       "3           1.0         1.0       1.0            1.0\n",
       "4           0.0         0.0       0.0            0.0"
      ]
     },
     "execution_count": 34,
     "metadata": {},
     "output_type": "execute_result"
    }
   ],
   "source": [
    "data = {\n",
    "        \"RandomForest\": rf_oof_train[0].ravel(),\"ExtraTrees\": et_oof_train[0].ravel(),\"AdaBoost\": ada_oof_train[0].ravel(),\"GradientBoost\": gb_oof_train[0].ravel()\n",
    "    }\n",
    "base_predicitons_train = pd.DataFrame(data)\n",
    "base_predicitons_train.head()"
   ]
  },
  {
   "cell_type": "markdown",
   "metadata": {
    "_cell_guid": "f69c11db-d84e-8536-4c7e-382fbe67483e",
    "_uuid": "2a6f987bd9b8ffc32a72e21cb8c43a6bc43ba200"
   },
   "source": [
    "** Correlation Heatmap of the Second Level Training set**"
   ]
  },
  {
   "cell_type": "code",
   "execution_count": 35,
   "metadata": {
    "execution": {
     "iopub.execute_input": "2021-08-20T02:45:32.979629Z",
     "iopub.status.busy": "2021-08-20T02:45:32.979338Z",
     "iopub.status.idle": "2021-08-20T02:45:32.991251Z",
     "shell.execute_reply": "2021-08-20T02:45:32.990606Z",
     "shell.execute_reply.started": "2021-08-20T02:45:32.979571Z"
    }
   },
   "outputs": [
    {
     "data": {
      "application/vnd.plotly.v1+json": {
       "data": [
        {
         "colorscale": "Viridis",
         "reversescale": true,
         "showscale": true,
         "type": "heatmap",
         "x": [
          "RandomForest",
          "ExtraTrees",
          "AdaBoost",
          "GradientBoost"
         ],
         "y": [
          "RandomForest",
          "ExtraTrees",
          "AdaBoost",
          "GradientBoost"
         ],
         "z": [
          [
           1.0,
           0.8652764360776422,
           0.7892879344231157,
           0.7624380256316908
          ],
          [
           0.8652764360776422,
           1.0,
           0.8299427180395668,
           0.7240977119180563
          ],
          [
           0.7892879344231157,
           0.8299427180395668,
           1.0,
           0.7030768833981018
          ],
          [
           0.7624380256316908,
           0.7240977119180563,
           0.7030768833981018,
           1.0
          ]
         ]
        }
       ],
       "layout": {}
      },
      "text/html": [
       "<div id=\"308fedd4-c411-4692-aa10-c642c489c4fa\" style=\"height: 525px; width: 100%;\" class=\"plotly-graph-div\"></div><script type=\"text/javascript\">require([\"plotly\"], function(Plotly) { window.PLOTLYENV=window.PLOTLYENV || {};window.PLOTLYENV.BASE_URL=\"https://plot.ly\";Plotly.newPlot(\"308fedd4-c411-4692-aa10-c642c489c4fa\", [{\"type\": \"heatmap\", \"z\": [[1.0, 0.8652764360776422, 0.7892879344231157, 0.7624380256316908], [0.8652764360776422, 1.0, 0.8299427180395668, 0.7240977119180563], [0.7892879344231157, 0.8299427180395668, 1.0, 0.7030768833981018], [0.7624380256316908, 0.7240977119180563, 0.7030768833981018, 1.0]], \"x\": [\"RandomForest\", \"ExtraTrees\", \"AdaBoost\", \"GradientBoost\"], \"y\": [\"RandomForest\", \"ExtraTrees\", \"AdaBoost\", \"GradientBoost\"], \"colorscale\": \"Viridis\", \"showscale\": true, \"reversescale\": true}], {}, {\"showLink\": true, \"linkText\": \"Export to plot.ly\"})});</script>"
      ],
      "text/vnd.plotly.v1+html": [
       "<div id=\"308fedd4-c411-4692-aa10-c642c489c4fa\" style=\"height: 525px; width: 100%;\" class=\"plotly-graph-div\"></div><script type=\"text/javascript\">require([\"plotly\"], function(Plotly) { window.PLOTLYENV=window.PLOTLYENV || {};window.PLOTLYENV.BASE_URL=\"https://plot.ly\";Plotly.newPlot(\"308fedd4-c411-4692-aa10-c642c489c4fa\", [{\"type\": \"heatmap\", \"z\": [[1.0, 0.8652764360776422, 0.7892879344231157, 0.7624380256316908], [0.8652764360776422, 1.0, 0.8299427180395668, 0.7240977119180563], [0.7892879344231157, 0.8299427180395668, 1.0, 0.7030768833981018], [0.7624380256316908, 0.7240977119180563, 0.7030768833981018, 1.0]], \"x\": [\"RandomForest\", \"ExtraTrees\", \"AdaBoost\", \"GradientBoost\"], \"y\": [\"RandomForest\", \"ExtraTrees\", \"AdaBoost\", \"GradientBoost\"], \"colorscale\": \"Viridis\", \"showscale\": true, \"reversescale\": true}], {}, {\"showLink\": true, \"linkText\": \"Export to plot.ly\"})});</script>"
      ]
     },
     "metadata": {},
     "output_type": "display_data"
    }
   ],
   "source": [
    "data = [\n",
    "    go.Heatmap(\n",
    "        z = base_predicitons_train.astype(float).corr().values,\n",
    "        x = base_predicitons_train.columns.values,\n",
    "        y = base_predicitons_train.columns.values,\n",
    "        colorscale=\"Viridis\",\n",
    "        showscale=True,\n",
    "        reversescale=True  # 색깔이 밝을수록 피처의 영향도는 적음을 의미\n",
    "    )\n",
    "]\n",
    "py.iplot(data, filename=\"labelled-heatmap\")"
   ]
  },
  {
   "cell_type": "code",
   "execution_count": 36,
   "metadata": {
    "execution": {
     "iopub.execute_input": "2021-08-20T02:47:27.652358Z",
     "iopub.status.busy": "2021-08-20T02:47:27.65206Z",
     "iopub.status.idle": "2021-08-20T02:47:27.658907Z",
     "shell.execute_reply": "2021-08-20T02:47:27.657992Z",
     "shell.execute_reply.started": "2021-08-20T02:47:27.652321Z"
    }
   },
   "outputs": [],
   "source": [
    "# 리턴한 한 타입이 리스트안에 배열로 들어가있으니까...ndarray타입으로 해야 하니 인덱스 [0]을 취한 것.\n",
    "X_train = np.concatenate((et_oof_train[0], rf_oof_train[0], ada_oof_train[0], gb_oof_train[0], svm_oof_train[0]), axis = 1)\n",
    "X_test  = np.concatenate((et_oof_test[0], rf_oof_test[0], ada_oof_test[0], gb_oof_test[0], svm_oof_test[0]), axis= 1)"
   ]
  },
  {
   "cell_type": "markdown",
   "metadata": {
    "_cell_guid": "a02a94ab-3c9c-a824-7168-e964c5a0f5d5",
    "_uuid": "65727ae393d3f7118215fde76e4fd5a9d0e9dd6c"
   },
   "source": [
    "1차 base estimator에서 나온 학습 및 테스트 세트를 병합해 메타 머신 러닝 모델에서 사용"
   ]
  },
  {
   "cell_type": "markdown",
   "metadata": {
    "_cell_guid": "628a03ea-933c-7075-a589-0ff7af237dfd",
    "_uuid": "dc4a32e9a8e7c9e611124cba676e5d28240b38be"
   },
   "source": [
    "### XGBoost를 이용한 메타모델 학습 및 예측\n",
    "\n",
    "XGBoost를 최종 메타모델 분류기로 사용 할 것이고 자세한 내용은 공식 사이트를 참조하기 바랍니다.\n",
    "\n",
    "[official Documentation][1].\n",
    "\n",
    "  [1]: https://xgboost.readthedocs.io/en/latest/"
   ]
  },
  {
   "cell_type": "code",
   "execution_count": 37,
   "metadata": {
    "execution": {
     "iopub.execute_input": "2021-08-20T02:51:05.635395Z",
     "iopub.status.busy": "2021-08-20T02:51:05.634875Z",
     "iopub.status.idle": "2021-08-20T02:51:06.241566Z",
     "shell.execute_reply": "2021-08-20T02:51:06.24068Z",
     "shell.execute_reply.started": "2021-08-20T02:51:05.635349Z"
    }
   },
   "outputs": [],
   "source": [
    "gbm = XGBClassifier(n_estimators=2000,\n",
    "                   learning_rate=0.02,\n",
    "                   max_depth=4,\n",
    "                   min_child_weight=2,\n",
    "                   gamma=0.9,\n",
    "                   subsample=0.8,\n",
    "                   colspample_bytree=0.8,\n",
    "                   objective=\"binary:logistic\",\n",
    "                   nthreads=-1,\n",
    "                   scale_pos_weight=1)\n",
    "gbm.fit(X_train, y_train)\n",
    "predictions = gbm.predict(X_test)"
   ]
  },
  {
   "cell_type": "markdown",
   "metadata": {
    "_cell_guid": "0a8152d8-6842-ed00-6bc5-47a511adce1c",
    "_uuid": "0101e6b843f6378838874ccfb844ed464b81d627"
   },
   "source": [
    "XGBoost 대표적인 파라미터:\n",
    "\n",
    "**max_depth** : 트리의 깊이 제어(related to the machine learning model overfitting)\n",
    "\n",
    "**gamma** : 오버피팅을 위한 제어값\n",
    "\n",
    "**eta** : learning_rate와 유사하다고 보면 됨"
   ]
  },
  {
   "cell_type": "markdown",
   "metadata": {
    "_cell_guid": "6b4a5c81-e968-d41e-27e4-871481019867",
    "_uuid": "52ac0cd99cee0099d86a180127da42ff7fff960a"
   },
   "source": [
    "**최종 결과 제출 파일**"
   ]
  },
  {
   "cell_type": "code",
   "execution_count": 38,
   "metadata": {
    "execution": {
     "iopub.execute_input": "2021-08-20T02:51:14.930775Z",
     "iopub.status.busy": "2021-08-20T02:51:14.930349Z",
     "iopub.status.idle": "2021-08-20T02:51:14.944421Z",
     "shell.execute_reply": "2021-08-20T02:51:14.943606Z",
     "shell.execute_reply.started": "2021-08-20T02:51:14.930734Z"
    }
   },
   "outputs": [
    {
     "data": {
      "text/html": [
       "<div>\n",
       "<style scoped>\n",
       "    .dataframe tbody tr th:only-of-type {\n",
       "        vertical-align: middle;\n",
       "    }\n",
       "\n",
       "    .dataframe tbody tr th {\n",
       "        vertical-align: top;\n",
       "    }\n",
       "\n",
       "    .dataframe thead th {\n",
       "        text-align: right;\n",
       "    }\n",
       "</style>\n",
       "<table border=\"1\" class=\"dataframe\">\n",
       "  <thead>\n",
       "    <tr style=\"text-align: right;\">\n",
       "      <th></th>\n",
       "      <th>PassengerId</th>\n",
       "      <th>Survived</th>\n",
       "    </tr>\n",
       "  </thead>\n",
       "  <tbody>\n",
       "    <tr>\n",
       "      <th>0</th>\n",
       "      <td>892</td>\n",
       "      <td>0</td>\n",
       "    </tr>\n",
       "    <tr>\n",
       "      <th>1</th>\n",
       "      <td>893</td>\n",
       "      <td>1</td>\n",
       "    </tr>\n",
       "    <tr>\n",
       "      <th>2</th>\n",
       "      <td>894</td>\n",
       "      <td>0</td>\n",
       "    </tr>\n",
       "  </tbody>\n",
       "</table>\n",
       "</div>"
      ],
      "text/plain": [
       "   PassengerId  Survived\n",
       "0          892         0\n",
       "1          893         1\n",
       "2          894         0"
      ]
     },
     "metadata": {},
     "output_type": "display_data"
    }
   ],
   "source": [
    "StackingSubmission = pd.DataFrame(\n",
    "    {\n",
    "                \"PassengerId\": PassengerId,\n",
    "                \"Survived\": predictions\n",
    "    }\n",
    ")\n",
    "display(StackingSubmission.head(n=3))"
   ]
  },
  {
   "cell_type": "code",
   "execution_count": 39,
   "metadata": {
    "execution": {
     "iopub.execute_input": "2021-08-20T02:52:47.328058Z",
     "iopub.status.busy": "2021-08-20T02:52:47.327793Z",
     "iopub.status.idle": "2021-08-20T02:52:47.545949Z",
     "shell.execute_reply": "2021-08-20T02:52:47.545244Z",
     "shell.execute_reply.started": "2021-08-20T02:52:47.328022Z"
    }
   },
   "outputs": [],
   "source": [
    "StackingSubmission.to_csv(target_dir + \"StackingSubmission.csv\", index = False)"
   ]
  },
  {
   "cell_type": "code",
   "execution_count": 40,
   "metadata": {},
   "outputs": [],
   "source": []
  },
  {
   "cell_type": "markdown",
   "metadata": {
    "_cell_guid": "9a8f83fd-d0e8-035a-cf7f-25c9012e9373",
    "_uuid": "c32d1d64e1a5f8fbe5f51a0a7afd952ccfdec57e"
   },
   "source": [
    "### 결론\n",
    "\n",
    "스태킹 및 앙상블 기법에 대한 좋은 자료 참조 \n",
    "\n",
    "website MLWave: [Kaggle Ensembling Guide][1]. \n",
    "\n",
    "[1]: http://mlwave.com/kaggle-ensembling-guide/"
   ]
  },
  {
   "cell_type": "code",
   "execution_count": 40,
   "metadata": {
    "_cell_guid": "74641376-e124-e46f-0e7c-8cbee2a1321b",
    "_uuid": "8549710f41f2ca55f11400e7914ed2f15c380964"
   },
   "outputs": [],
   "source": []
  }
 ],
 "metadata": {
  "kernelspec": {
   "display_name": "Python 3",
   "language": "python",
   "name": "python3"
  },
  "language_info": {
   "codemirror_mode": {
    "name": "ipython",
    "version": 3
   },
   "file_extension": ".py",
   "mimetype": "text/x-python",
   "name": "python",
   "nbconvert_exporter": "python",
   "pygments_lexer": "ipython3",
   "version": "3.6.4"
  }
 },
 "nbformat": 4,
 "nbformat_minor": 4
}
