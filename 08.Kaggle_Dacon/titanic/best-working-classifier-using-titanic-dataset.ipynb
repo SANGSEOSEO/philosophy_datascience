{
 "cells": [
  {
   "cell_type": "markdown",
   "id": "9f4d8b6e",
   "metadata": {
    "_cell_guid": "25b1e1db-8bc5-7029-f719-91da523bd121",
    "execution": {
     "iopub.execute_input": "2021-08-06T02:36:37.955612Z",
     "iopub.status.busy": "2021-08-06T02:36:37.955101Z",
     "iopub.status.idle": "2021-08-06T02:36:37.969695Z",
     "shell.execute_reply": "2021-08-06T02:36:37.968663Z",
     "shell.execute_reply.started": "2021-08-06T02:36:37.955491Z"
    },
    "papermill": {
     "duration": 0.03847,
     "end_time": "2021-08-07T07:39:57.382772",
     "exception": false,
     "start_time": "2021-08-07T07:39:57.344302",
     "status": "completed"
    },
    "tags": []
   },
   "source": [
    "## 소개 ##\n",
    "\n",
    "머신러닝을 연구하기 위해 진행하는 캐글 필사 프로젝트로 이 케글의 영감은 아래 글로부터 얻었습니다.\n",
    "\n",
    "R을 빅데이터 분석 강의를 들을때 이후에는 만지지 않았는데 시간이 된다면 R로도 해보면 괜찮을 것 같습니다.\n",
    "\n",
    "판다스의 기능 대부분이 R로부터 나온것이고 , RDBMS에서 제공하는 모든 쿼리문의 기능도 다 R에서 지원된다고 보면 됩니다.\n",
    "\n",
    "[\"Exploring Survival on Titanic\" by Megan Risdal, a Kernel in R on Kaggle][1]\n",
    "\n",
    "I am going to try the following code on R tool as far as I could.\n",
    "\n",
    "  [1]: https://www.kaggle.com/mrisdal/titanic/exploring-survival-on-the-titanic"
   ]
  },
  {
   "cell_type": "markdown",
   "id": "50d1f156",
   "metadata": {
    "papermill": {
     "duration": 0.045027,
     "end_time": "2021-08-07T07:39:57.465858",
     "exception": false,
     "start_time": "2021-08-07T07:39:57.420831",
     "status": "completed"
    },
    "tags": []
   },
   "source": [
    "## 변수 설명 ##\n",
    "\n",
    "* Survived: 생존 여부 => 0 = No, 1 = Yes\n",
    "* pclass: 티켓 등급 => 1 = 1st, 2 = 2nd, 3 = 3rd\n",
    "* Sex: 성별\n",
    "* Age: 나이\n",
    "* SibSp: 함께 탑승한 형제자매(Siblings), 배우자의 수(Spouse)\n",
    "* Parch: 함께 탑승한 부모(Parents), 자식의 수(Children)\n",
    "* Ticket: 티켓 번호\n",
    "* Fare: 운임\n",
    "* Cabin: 객실 번호\n",
    "* Embarked: 탑승 항구 => C = Cherbourg, Q = Queenstown, S = Southampton"
   ]
  },
  {
   "cell_type": "code",
   "execution_count": 1,
   "id": "1cd35b61",
   "metadata": {
    "execution": {
     "iopub.execute_input": "2021-08-07T07:39:57.563275Z",
     "iopub.status.busy": "2021-08-07T07:39:57.561222Z",
     "iopub.status.idle": "2021-08-07T07:39:57.575171Z",
     "shell.execute_reply": "2021-08-07T07:39:57.575728Z",
     "shell.execute_reply.started": "2021-08-07T07:25:58.764978Z"
    },
    "papermill": {
     "duration": 0.062158,
     "end_time": "2021-08-07T07:39:57.576050",
     "exception": false,
     "start_time": "2021-08-07T07:39:57.513892",
     "status": "completed"
    },
    "tags": []
   },
   "outputs": [],
   "source": [
    "import numpy as np\n",
    "import pandas as pd\n",
    "import re as re\n",
    "%matplotlib inline\n",
    "\n",
    "\n",
    "# target directory for submission file\n",
    "target_dir = '/kaggle/working/'"
   ]
  },
  {
   "cell_type": "code",
   "execution_count": 2,
   "id": "b3ef7d95",
   "metadata": {
    "execution": {
     "iopub.execute_input": "2021-08-07T07:39:57.663630Z",
     "iopub.status.busy": "2021-08-07T07:39:57.662816Z",
     "iopub.status.idle": "2021-08-07T07:39:57.798125Z",
     "shell.execute_reply": "2021-08-07T07:39:57.797464Z",
     "shell.execute_reply.started": "2021-08-07T07:22:26.831958Z"
    },
    "papermill": {
     "duration": 0.18238,
     "end_time": "2021-08-07T07:39:57.798299",
     "exception": false,
     "start_time": "2021-08-07T07:39:57.615919",
     "status": "completed"
    },
    "tags": []
   },
   "outputs": [],
   "source": [
    "def load_dataset():\n",
    "    \"\"\"\n",
    "    Load Dataset\n",
    "    \"\"\"\n",
    "    train = pd.read_csv(\"../input/train.csv\", header=0, dtype={\"Age\": np.float64})\n",
    "    test  = pd.read_csv(\"../input/test.csv\", header = 0,dtype={\"Age\": np.float64})\n",
    "    \n",
    "    full_data = [train, test]\n",
    "    PassengerId = test[\"PassengerId\"]\n",
    "    return train, test, full_data, PassengerId\n",
    "\n",
    "# revoked load_dataset()\n",
    "train, test, full_data, PassengerId = load_dataset()"
   ]
  },
  {
   "cell_type": "code",
   "execution_count": 3,
   "id": "f26eda65",
   "metadata": {
    "execution": {
     "iopub.execute_input": "2021-08-07T07:39:57.904760Z",
     "iopub.status.busy": "2021-08-07T07:39:57.884649Z",
     "iopub.status.idle": "2021-08-07T07:39:57.912989Z",
     "shell.execute_reply": "2021-08-07T07:39:57.912130Z",
     "shell.execute_reply.started": "2021-08-07T07:22:26.860755Z"
    },
    "papermill": {
     "duration": 0.076544,
     "end_time": "2021-08-07T07:39:57.913176",
     "exception": false,
     "start_time": "2021-08-07T07:39:57.836632",
     "status": "completed"
    },
    "tags": []
   },
   "outputs": [
    {
     "name": "stdout",
     "output_type": "stream",
     "text": [
      "<class 'pandas.core.frame.DataFrame'>\n",
      "RangeIndex: 891 entries, 0 to 890\n",
      "Data columns (total 12 columns):\n",
      " #   Column       Non-Null Count  Dtype  \n",
      "---  ------       --------------  -----  \n",
      " 0   PassengerId  891 non-null    int64  \n",
      " 1   Survived     891 non-null    int64  \n",
      " 2   Pclass       891 non-null    int64  \n",
      " 3   Name         891 non-null    object \n",
      " 4   Sex          891 non-null    object \n",
      " 5   Age          714 non-null    float64\n",
      " 6   SibSp        891 non-null    int64  \n",
      " 7   Parch        891 non-null    int64  \n",
      " 8   Ticket       891 non-null    object \n",
      " 9   Fare         891 non-null    float64\n",
      " 10  Cabin        204 non-null    object \n",
      " 11  Embarked     889 non-null    object \n",
      "dtypes: float64(2), int64(5), object(5)\n",
      "memory usage: 83.7+ KB\n"
     ]
    },
    {
     "data": {
      "text/plain": [
       "None"
      ]
     },
     "metadata": {},
     "output_type": "display_data"
    }
   ],
   "source": [
    "display(train.info())"
   ]
  },
  {
   "cell_type": "markdown",
   "id": "a5e0c22d",
   "metadata": {
    "_cell_guid": "f9595646-65c9-6fc4-395f-0befc4d122ce",
    "papermill": {
     "duration": 0.037714,
     "end_time": "2021-08-07T07:39:57.991277",
     "exception": false,
     "start_time": "2021-08-07T07:39:57.953563",
     "status": "completed"
    },
    "tags": []
   },
   "source": [
    "# 피처 엔지니어링 #"
   ]
  },
  {
   "cell_type": "code",
   "execution_count": 4,
   "id": "174cbca1",
   "metadata": {
    "execution": {
     "iopub.execute_input": "2021-08-07T07:39:58.073018Z",
     "iopub.status.busy": "2021-08-07T07:39:58.072239Z",
     "iopub.status.idle": "2021-08-07T07:39:58.077423Z",
     "shell.execute_reply": "2021-08-07T07:39:58.078024Z",
     "shell.execute_reply.started": "2021-08-07T07:22:26.879549Z"
    },
    "papermill": {
     "duration": 0.048625,
     "end_time": "2021-08-07T07:39:58.078222",
     "exception": false,
     "start_time": "2021-08-07T07:39:58.029597",
     "status": "completed"
    },
    "tags": []
   },
   "outputs": [],
   "source": [
    "def get_suvival_ratio(df, selectList:None, groupbyCol:None):\n",
    "    \"\"\"\n",
    "    집계 피처에 대해서 생존률을 리턴\n",
    "    \"\"\"\n",
    "    display(df[selectList].groupby([groupbyCol], as_index=False).mean())"
   ]
  },
  {
   "cell_type": "markdown",
   "id": "b493f0e3",
   "metadata": {
    "_cell_guid": "9b4c278b-aaca-e92c-ba77-b9b48379d1f1",
    "papermill": {
     "duration": 0.038263,
     "end_time": "2021-08-07T07:39:58.154370",
     "exception": false,
     "start_time": "2021-08-07T07:39:58.116107",
     "status": "completed"
    },
    "tags": []
   },
   "source": [
    "## 1. Pclass ##\n",
    "널값이 존재하지 않으며,숫자형 타입"
   ]
  },
  {
   "cell_type": "code",
   "execution_count": 5,
   "id": "c60c2b8c",
   "metadata": {
    "execution": {
     "iopub.execute_input": "2021-08-07T07:39:58.235666Z",
     "iopub.status.busy": "2021-08-07T07:39:58.234935Z",
     "iopub.status.idle": "2021-08-07T07:39:58.258185Z",
     "shell.execute_reply": "2021-08-07T07:39:58.257600Z",
     "shell.execute_reply.started": "2021-08-07T07:22:26.889919Z"
    },
    "papermill": {
     "duration": 0.063847,
     "end_time": "2021-08-07T07:39:58.258352",
     "exception": false,
     "start_time": "2021-08-07T07:39:58.194505",
     "status": "completed"
    },
    "tags": []
   },
   "outputs": [
    {
     "data": {
      "text/html": [
       "<div>\n",
       "<style scoped>\n",
       "    .dataframe tbody tr th:only-of-type {\n",
       "        vertical-align: middle;\n",
       "    }\n",
       "\n",
       "    .dataframe tbody tr th {\n",
       "        vertical-align: top;\n",
       "    }\n",
       "\n",
       "    .dataframe thead th {\n",
       "        text-align: right;\n",
       "    }\n",
       "</style>\n",
       "<table border=\"1\" class=\"dataframe\">\n",
       "  <thead>\n",
       "    <tr style=\"text-align: right;\">\n",
       "      <th></th>\n",
       "      <th>Pclass</th>\n",
       "      <th>Survived</th>\n",
       "    </tr>\n",
       "  </thead>\n",
       "  <tbody>\n",
       "    <tr>\n",
       "      <th>0</th>\n",
       "      <td>1</td>\n",
       "      <td>0.629630</td>\n",
       "    </tr>\n",
       "    <tr>\n",
       "      <th>1</th>\n",
       "      <td>2</td>\n",
       "      <td>0.472826</td>\n",
       "    </tr>\n",
       "    <tr>\n",
       "      <th>2</th>\n",
       "      <td>3</td>\n",
       "      <td>0.242363</td>\n",
       "    </tr>\n",
       "  </tbody>\n",
       "</table>\n",
       "</div>"
      ],
      "text/plain": [
       "   Pclass  Survived\n",
       "0       1  0.629630\n",
       "1       2  0.472826\n",
       "2       3  0.242363"
      ]
     },
     "metadata": {},
     "output_type": "display_data"
    }
   ],
   "source": [
    "get_suvival_ratio(train, [\"Pclass\",\"Survived\"], \"Pclass\")"
   ]
  },
  {
   "cell_type": "markdown",
   "id": "0af92a69",
   "metadata": {
    "_cell_guid": "5e70f81c-d4e2-1823-f0ba-a7c9b46984ff",
    "papermill": {
     "duration": 0.039344,
     "end_time": "2021-08-07T07:39:58.336947",
     "exception": false,
     "start_time": "2021-08-07T07:39:58.297603",
     "status": "completed"
    },
    "tags": []
   },
   "source": [
    "## 2. Sex ##"
   ]
  },
  {
   "cell_type": "code",
   "execution_count": 6,
   "id": "96e84e7b",
   "metadata": {
    "_cell_guid": "6729681d-7915-1631-78d2-ddf3c35a424c",
    "execution": {
     "iopub.execute_input": "2021-08-07T07:39:58.431863Z",
     "iopub.status.busy": "2021-08-07T07:39:58.430923Z",
     "iopub.status.idle": "2021-08-07T07:39:58.434622Z",
     "shell.execute_reply": "2021-08-07T07:39:58.435184Z",
     "shell.execute_reply.started": "2021-08-07T07:22:26.912221Z"
    },
    "papermill": {
     "duration": 0.059722,
     "end_time": "2021-08-07T07:39:58.435380",
     "exception": false,
     "start_time": "2021-08-07T07:39:58.375658",
     "status": "completed"
    },
    "tags": []
   },
   "outputs": [
    {
     "data": {
      "text/html": [
       "<div>\n",
       "<style scoped>\n",
       "    .dataframe tbody tr th:only-of-type {\n",
       "        vertical-align: middle;\n",
       "    }\n",
       "\n",
       "    .dataframe tbody tr th {\n",
       "        vertical-align: top;\n",
       "    }\n",
       "\n",
       "    .dataframe thead th {\n",
       "        text-align: right;\n",
       "    }\n",
       "</style>\n",
       "<table border=\"1\" class=\"dataframe\">\n",
       "  <thead>\n",
       "    <tr style=\"text-align: right;\">\n",
       "      <th></th>\n",
       "      <th>Sex</th>\n",
       "      <th>Survived</th>\n",
       "    </tr>\n",
       "  </thead>\n",
       "  <tbody>\n",
       "    <tr>\n",
       "      <th>0</th>\n",
       "      <td>female</td>\n",
       "      <td>0.742038</td>\n",
       "    </tr>\n",
       "    <tr>\n",
       "      <th>1</th>\n",
       "      <td>male</td>\n",
       "      <td>0.188908</td>\n",
       "    </tr>\n",
       "  </tbody>\n",
       "</table>\n",
       "</div>"
      ],
      "text/plain": [
       "      Sex  Survived\n",
       "0  female  0.742038\n",
       "1    male  0.188908"
      ]
     },
     "metadata": {},
     "output_type": "display_data"
    }
   ],
   "source": [
    "#display(train[[\"Sex\", \"Survived\"]].groupby([\"Sex\"]).mean())\n",
    "get_suvival_ratio(train, [\"Sex\", \"Survived\"], \"Sex\")"
   ]
  },
  {
   "cell_type": "markdown",
   "id": "92f149e8",
   "metadata": {
    "_cell_guid": "7c58b7ee-d6a1-0cc9-2346-81c47846a54a",
    "papermill": {
     "duration": 0.059703,
     "end_time": "2021-08-07T07:39:58.547065",
     "exception": false,
     "start_time": "2021-08-07T07:39:58.487362",
     "status": "completed"
    },
    "tags": []
   },
   "source": [
    "## 3. SibSp and Parch ##\n",
    "SibSp - 자손 및 배우자, Parch - 아이들/부모님 - 이 두 피처를 이용해 가족의 규모를 유추해볼 수 있는 FamilySize피처를 생성"
   ]
  },
  {
   "cell_type": "code",
   "execution_count": 7,
   "id": "dec22ae9",
   "metadata": {
    "execution": {
     "iopub.execute_input": "2021-08-07T07:39:58.628991Z",
     "iopub.status.busy": "2021-08-07T07:39:58.628300Z",
     "iopub.status.idle": "2021-08-07T07:39:58.662529Z",
     "shell.execute_reply": "2021-08-07T07:39:58.661912Z",
     "shell.execute_reply.started": "2021-08-07T07:22:26.927945Z"
    },
    "papermill": {
     "duration": 0.076558,
     "end_time": "2021-08-07T07:39:58.662685",
     "exception": false,
     "start_time": "2021-08-07T07:39:58.586127",
     "status": "completed"
    },
    "tags": []
   },
   "outputs": [
    {
     "data": {
      "text/html": [
       "<div>\n",
       "<style scoped>\n",
       "    .dataframe tbody tr th:only-of-type {\n",
       "        vertical-align: middle;\n",
       "    }\n",
       "\n",
       "    .dataframe tbody tr th {\n",
       "        vertical-align: top;\n",
       "    }\n",
       "\n",
       "    .dataframe thead th {\n",
       "        text-align: right;\n",
       "    }\n",
       "</style>\n",
       "<table border=\"1\" class=\"dataframe\">\n",
       "  <thead>\n",
       "    <tr style=\"text-align: right;\">\n",
       "      <th></th>\n",
       "      <th>FamilySize</th>\n",
       "      <th>Survived</th>\n",
       "    </tr>\n",
       "  </thead>\n",
       "  <tbody>\n",
       "    <tr>\n",
       "      <th>0</th>\n",
       "      <td>1</td>\n",
       "      <td>0.303538</td>\n",
       "    </tr>\n",
       "    <tr>\n",
       "      <th>1</th>\n",
       "      <td>2</td>\n",
       "      <td>0.552795</td>\n",
       "    </tr>\n",
       "    <tr>\n",
       "      <th>2</th>\n",
       "      <td>3</td>\n",
       "      <td>0.578431</td>\n",
       "    </tr>\n",
       "    <tr>\n",
       "      <th>3</th>\n",
       "      <td>4</td>\n",
       "      <td>0.724138</td>\n",
       "    </tr>\n",
       "    <tr>\n",
       "      <th>4</th>\n",
       "      <td>5</td>\n",
       "      <td>0.200000</td>\n",
       "    </tr>\n",
       "    <tr>\n",
       "      <th>5</th>\n",
       "      <td>6</td>\n",
       "      <td>0.136364</td>\n",
       "    </tr>\n",
       "    <tr>\n",
       "      <th>6</th>\n",
       "      <td>7</td>\n",
       "      <td>0.333333</td>\n",
       "    </tr>\n",
       "    <tr>\n",
       "      <th>7</th>\n",
       "      <td>8</td>\n",
       "      <td>0.000000</td>\n",
       "    </tr>\n",
       "    <tr>\n",
       "      <th>8</th>\n",
       "      <td>11</td>\n",
       "      <td>0.000000</td>\n",
       "    </tr>\n",
       "  </tbody>\n",
       "</table>\n",
       "</div>"
      ],
      "text/plain": [
       "   FamilySize  Survived\n",
       "0           1  0.303538\n",
       "1           2  0.552795\n",
       "2           3  0.578431\n",
       "3           4  0.724138\n",
       "4           5  0.200000\n",
       "5           6  0.136364\n",
       "6           7  0.333333\n",
       "7           8  0.000000\n",
       "8          11  0.000000"
      ]
     },
     "metadata": {},
     "output_type": "display_data"
    }
   ],
   "source": [
    "for dataset in full_data:\n",
    "    dataset[\"FamilySize\"] = dataset[\"SibSp\"] + dataset[\"Parch\"] + 1\n",
    "    \n",
    "get_suvival_ratio(train, [\"FamilySize\", \"Survived\"], \"FamilySize\")"
   ]
  },
  {
   "cell_type": "markdown",
   "id": "aa0cefe3",
   "metadata": {
    "_cell_guid": "e4861d3e-10db-1a23-8728-44e4d5251844",
    "papermill": {
     "duration": 0.039397,
     "end_time": "2021-08-07T07:39:58.741424",
     "exception": false,
     "start_time": "2021-08-07T07:39:58.702027",
     "status": "completed"
    },
    "tags": []
   },
   "source": [
    "가족의 규모가 클수록 생존률이 떨어짐을 알 수 있다.\n",
    "\n",
    "It seems that the family size feature has a meaningful effect on the survival ratio."
   ]
  },
  {
   "cell_type": "markdown",
   "id": "ce4002b9",
   "metadata": {
    "papermill": {
     "duration": 0.039057,
     "end_time": "2021-08-07T07:39:58.820163",
     "exception": false,
     "start_time": "2021-08-07T07:39:58.781106",
     "status": "completed"
    },
    "tags": []
   },
   "source": [
    "* 동반승객여부 피처 생성 - IsAlone"
   ]
  },
  {
   "cell_type": "code",
   "execution_count": 8,
   "id": "1541caa3",
   "metadata": {
    "execution": {
     "iopub.execute_input": "2021-08-07T07:39:58.910638Z",
     "iopub.status.busy": "2021-08-07T07:39:58.909519Z",
     "iopub.status.idle": "2021-08-07T07:39:58.923687Z",
     "shell.execute_reply": "2021-08-07T07:39:58.922994Z",
     "shell.execute_reply.started": "2021-08-07T07:22:26.948718Z"
    },
    "papermill": {
     "duration": 0.063699,
     "end_time": "2021-08-07T07:39:58.923844",
     "exception": false,
     "start_time": "2021-08-07T07:39:58.860145",
     "status": "completed"
    },
    "tags": []
   },
   "outputs": [
    {
     "data": {
      "text/html": [
       "<div>\n",
       "<style scoped>\n",
       "    .dataframe tbody tr th:only-of-type {\n",
       "        vertical-align: middle;\n",
       "    }\n",
       "\n",
       "    .dataframe tbody tr th {\n",
       "        vertical-align: top;\n",
       "    }\n",
       "\n",
       "    .dataframe thead th {\n",
       "        text-align: right;\n",
       "    }\n",
       "</style>\n",
       "<table border=\"1\" class=\"dataframe\">\n",
       "  <thead>\n",
       "    <tr style=\"text-align: right;\">\n",
       "      <th></th>\n",
       "      <th>IsAlone</th>\n",
       "      <th>Survived</th>\n",
       "    </tr>\n",
       "  </thead>\n",
       "  <tbody>\n",
       "    <tr>\n",
       "      <th>0</th>\n",
       "      <td>0</td>\n",
       "      <td>0.505650</td>\n",
       "    </tr>\n",
       "    <tr>\n",
       "      <th>1</th>\n",
       "      <td>1</td>\n",
       "      <td>0.303538</td>\n",
       "    </tr>\n",
       "  </tbody>\n",
       "</table>\n",
       "</div>"
      ],
      "text/plain": [
       "   IsAlone  Survived\n",
       "0        0  0.505650\n",
       "1        1  0.303538"
      ]
     },
     "metadata": {},
     "output_type": "display_data"
    }
   ],
   "source": [
    "for dataset in full_data:\n",
    "    dataset[\"IsAlone\"] = 0\n",
    "    dataset.loc[dataset[\"FamilySize\"]==1, 'IsAlone'] = 1\n",
    "\n",
    "#display(train[[\"IsAlone\", \"Survived\"]].groupby([\"IsAlone\"], as_index=False).mean())    \n",
    "get_suvival_ratio(train, [\"IsAlone\", \"Survived\"], \"IsAlone\")"
   ]
  },
  {
   "cell_type": "markdown",
   "id": "47c1229f",
   "metadata": {
    "_cell_guid": "2780ca4e-7923-b845-0b6b-5f68a45f6b93",
    "papermill": {
     "duration": 0.041629,
     "end_time": "2021-08-07T07:39:59.005873",
     "exception": false,
     "start_time": "2021-08-07T07:39:58.964244",
     "status": "completed"
    },
    "tags": []
   },
   "source": [
    "IsAlone - 0(동행승객이 없는 경우) - 생존률이 그렇지 않은 경우보다 낮다.(의미있는 결과)"
   ]
  },
  {
   "cell_type": "markdown",
   "id": "9f54ff43",
   "metadata": {
    "_cell_guid": "8aa419c0-6614-7efc-7797-97f4a5158b19",
    "papermill": {
     "duration": 0.041313,
     "end_time": "2021-08-07T07:39:59.088826",
     "exception": false,
     "start_time": "2021-08-07T07:39:59.047513",
     "status": "completed"
    },
    "tags": []
   },
   "source": [
    "## 4. Embarked ##"
   ]
  },
  {
   "cell_type": "code",
   "execution_count": 9,
   "id": "473fd3f8",
   "metadata": {
    "execution": {
     "iopub.execute_input": "2021-08-07T07:39:59.173835Z",
     "iopub.status.busy": "2021-08-07T07:39:59.173086Z",
     "iopub.status.idle": "2021-08-07T07:39:59.183654Z",
     "shell.execute_reply": "2021-08-07T07:39:59.184277Z",
     "shell.execute_reply.started": "2021-08-07T07:22:26.966725Z"
    },
    "papermill": {
     "duration": 0.053985,
     "end_time": "2021-08-07T07:39:59.184496",
     "exception": false,
     "start_time": "2021-08-07T07:39:59.130511",
     "status": "completed"
    },
    "tags": []
   },
   "outputs": [
    {
     "data": {
      "text/plain": [
       "S    644\n",
       "C    168\n",
       "Q     77\n",
       "Name: Embarked, dtype: int64"
      ]
     },
     "metadata": {},
     "output_type": "display_data"
    },
    {
     "data": {
      "text/plain": [
       "2"
      ]
     },
     "metadata": {},
     "output_type": "display_data"
    }
   ],
   "source": [
    "display(train[\"Embarked\"].value_counts())  # 70퍼센트 가까운 승객이 사우스햄튼발 승객\n",
    "display(train[\"Embarked\"].isnull().sum())"
   ]
  },
  {
   "cell_type": "code",
   "execution_count": 10,
   "id": "533a4515",
   "metadata": {
    "_cell_guid": "0e70e9af-d7cc-8c40-b7d4-2643889c376d",
    "execution": {
     "iopub.execute_input": "2021-08-07T07:39:59.273006Z",
     "iopub.status.busy": "2021-08-07T07:39:59.272284Z",
     "iopub.status.idle": "2021-08-07T07:39:59.292576Z",
     "shell.execute_reply": "2021-08-07T07:39:59.291842Z",
     "shell.execute_reply.started": "2021-08-07T07:22:26.992041Z"
    },
    "papermill": {
     "duration": 0.06506,
     "end_time": "2021-08-07T07:39:59.292735",
     "exception": false,
     "start_time": "2021-08-07T07:39:59.227675",
     "status": "completed"
    },
    "tags": []
   },
   "outputs": [
    {
     "data": {
      "text/html": [
       "<div>\n",
       "<style scoped>\n",
       "    .dataframe tbody tr th:only-of-type {\n",
       "        vertical-align: middle;\n",
       "    }\n",
       "\n",
       "    .dataframe tbody tr th {\n",
       "        vertical-align: top;\n",
       "    }\n",
       "\n",
       "    .dataframe thead th {\n",
       "        text-align: right;\n",
       "    }\n",
       "</style>\n",
       "<table border=\"1\" class=\"dataframe\">\n",
       "  <thead>\n",
       "    <tr style=\"text-align: right;\">\n",
       "      <th></th>\n",
       "      <th>Embarked</th>\n",
       "      <th>Survived</th>\n",
       "    </tr>\n",
       "  </thead>\n",
       "  <tbody>\n",
       "    <tr>\n",
       "      <th>0</th>\n",
       "      <td>C</td>\n",
       "      <td>0.553571</td>\n",
       "    </tr>\n",
       "    <tr>\n",
       "      <th>1</th>\n",
       "      <td>Q</td>\n",
       "      <td>0.389610</td>\n",
       "    </tr>\n",
       "    <tr>\n",
       "      <th>2</th>\n",
       "      <td>S</td>\n",
       "      <td>0.339009</td>\n",
       "    </tr>\n",
       "  </tbody>\n",
       "</table>\n",
       "</div>"
      ],
      "text/plain": [
       "  Embarked  Survived\n",
       "0        C  0.553571\n",
       "1        Q  0.389610\n",
       "2        S  0.339009"
      ]
     },
     "metadata": {},
     "output_type": "display_data"
    }
   ],
   "source": [
    "# 2개의 널값을 사우스햄튼으로 대치\n",
    "for dataset in full_data:\n",
    "    dataset[\"Embarked\"] = dataset[\"Embarked\"].fillna('S')\n",
    "    \n",
    "get_suvival_ratio(train, [\"Embarked\", \"Survived\"], \"Embarked\")    "
   ]
  },
  {
   "cell_type": "markdown",
   "id": "89f5cd5f",
   "metadata": {
    "papermill": {
     "duration": 0.041742,
     "end_time": "2021-08-07T07:39:59.377440",
     "exception": false,
     "start_time": "2021-08-07T07:39:59.335698",
     "status": "completed"
    },
    "tags": []
   },
   "source": [
    "* 사우스햄튼 발 승객의 생존률이 프랑스 체르보르그(C) 및 뉴질랜드 퀸즈타운(Q) 항구에서 탑승한 승객의 생존률보다 낮음을 알수있다."
   ]
  },
  {
   "cell_type": "markdown",
   "id": "21882dd5",
   "metadata": {
    "_cell_guid": "e08c9ee8-d6d1-99b7-38bd-f0042c18a5d9",
    "papermill": {
     "duration": 0.042156,
     "end_time": "2021-08-07T07:39:59.462337",
     "exception": false,
     "start_time": "2021-08-07T07:39:59.420181",
     "status": "completed"
    },
    "tags": []
   },
   "source": [
    "## 5. Fare ##\n",
    "Fare also has some missing value and we will replace it with the median. then we categorize it into 4 ranges."
   ]
  },
  {
   "cell_type": "code",
   "execution_count": 11,
   "id": "c6f073c5",
   "metadata": {
    "execution": {
     "iopub.execute_input": "2021-08-07T07:39:59.554769Z",
     "iopub.status.busy": "2021-08-07T07:39:59.553964Z",
     "iopub.status.idle": "2021-08-07T07:39:59.587388Z",
     "shell.execute_reply": "2021-08-07T07:39:59.587988Z",
     "shell.execute_reply.started": "2021-08-07T07:22:27.049665Z"
    },
    "papermill": {
     "duration": 0.083566,
     "end_time": "2021-08-07T07:39:59.588187",
     "exception": false,
     "start_time": "2021-08-07T07:39:59.504621",
     "status": "completed"
    },
    "tags": []
   },
   "outputs": [
    {
     "data": {
      "text/plain": [
       "0"
      ]
     },
     "metadata": {},
     "output_type": "display_data"
    },
    {
     "data": {
      "text/plain": [
       "0      (-0.512, 102.466]\n",
       "1      (-0.512, 102.466]\n",
       "2      (-0.512, 102.466]\n",
       "3      (-0.512, 102.466]\n",
       "4      (-0.512, 102.466]\n",
       "             ...        \n",
       "886    (-0.512, 102.466]\n",
       "887    (-0.512, 102.466]\n",
       "888    (-0.512, 102.466]\n",
       "889    (-0.512, 102.466]\n",
       "890    (-0.512, 102.466]\n",
       "Name: Fare, Length: 891, dtype: category\n",
       "Categories (5, interval[float64]): [(-0.512, 102.466] < (102.466, 204.932] < (204.932, 307.398] < (307.398, 409.863] < (409.863, 512.329]]"
      ]
     },
     "metadata": {},
     "output_type": "display_data"
    },
    {
     "data": {
      "text/plain": [
       "(-0.512, 102.466]     838\n",
       "(102.466, 204.932]     33\n",
       "(204.932, 307.398]     17\n",
       "(409.863, 512.329]      3\n",
       "(307.398, 409.863]      0\n",
       "Name: Fare, dtype: int64"
      ]
     },
     "metadata": {},
     "output_type": "display_data"
    },
    {
     "data": {
      "text/plain": [
       "'NaN값 체크'"
      ]
     },
     "metadata": {},
     "output_type": "display_data"
    },
    {
     "data": {
      "text/plain": [
       "0"
      ]
     },
     "metadata": {},
     "output_type": "display_data"
    }
   ],
   "source": [
    "display(train[\"Fare\"].isnull().sum())\n",
    "display(pd.cut(train[\"Fare\"], 5))\n",
    "display(pd.cut(train[\"Fare\"], 5).value_counts())\n",
    "display(\"NaN값 체크\", train[\"Fare\"].isna().sum())"
   ]
  },
  {
   "cell_type": "code",
   "execution_count": 12,
   "id": "3e111fb5",
   "metadata": {
    "execution": {
     "iopub.execute_input": "2021-08-07T07:39:59.679955Z",
     "iopub.status.busy": "2021-08-07T07:39:59.679236Z",
     "iopub.status.idle": "2021-08-07T07:39:59.689190Z",
     "shell.execute_reply": "2021-08-07T07:39:59.689723Z",
     "shell.execute_reply.started": "2021-08-07T07:22:27.083845Z"
    },
    "papermill": {
     "duration": 0.057255,
     "end_time": "2021-08-07T07:39:59.689929",
     "exception": false,
     "start_time": "2021-08-07T07:39:59.632674",
     "status": "completed"
    },
    "tags": []
   },
   "outputs": [],
   "source": [
    "# replace nan into median\n",
    "for dataset in full_data:\n",
    "    dataset[\"Fare\"] = dataset[\"Fare\"].fillna(train[\"Fare\"].median())\n",
    "    \n",
    "train[\"CategoricalFare\"] = pd.cut(dataset[\"Fare\"], 5)"
   ]
  },
  {
   "cell_type": "code",
   "execution_count": 13,
   "id": "150c7983",
   "metadata": {
    "execution": {
     "iopub.execute_input": "2021-08-07T07:39:59.780987Z",
     "iopub.status.busy": "2021-08-07T07:39:59.780294Z",
     "iopub.status.idle": "2021-08-07T07:39:59.795520Z",
     "shell.execute_reply": "2021-08-07T07:39:59.796070Z",
     "shell.execute_reply.started": "2021-08-07T07:22:27.09721Z"
    },
    "papermill": {
     "duration": 0.062637,
     "end_time": "2021-08-07T07:39:59.796258",
     "exception": false,
     "start_time": "2021-08-07T07:39:59.733621",
     "status": "completed"
    },
    "tags": []
   },
   "outputs": [
    {
     "data": {
      "text/html": [
       "<div>\n",
       "<style scoped>\n",
       "    .dataframe tbody tr th:only-of-type {\n",
       "        vertical-align: middle;\n",
       "    }\n",
       "\n",
       "    .dataframe tbody tr th {\n",
       "        vertical-align: top;\n",
       "    }\n",
       "\n",
       "    .dataframe thead th {\n",
       "        text-align: right;\n",
       "    }\n",
       "</style>\n",
       "<table border=\"1\" class=\"dataframe\">\n",
       "  <thead>\n",
       "    <tr style=\"text-align: right;\">\n",
       "      <th></th>\n",
       "      <th>CategoricalFare</th>\n",
       "      <th>Survived</th>\n",
       "    </tr>\n",
       "  </thead>\n",
       "  <tbody>\n",
       "    <tr>\n",
       "      <th>0</th>\n",
       "      <td>(-0.512, 102.466]</td>\n",
       "      <td>0.382429</td>\n",
       "    </tr>\n",
       "    <tr>\n",
       "      <th>1</th>\n",
       "      <td>(102.466, 204.932]</td>\n",
       "      <td>0.461538</td>\n",
       "    </tr>\n",
       "    <tr>\n",
       "      <th>2</th>\n",
       "      <td>(204.932, 307.398]</td>\n",
       "      <td>0.529412</td>\n",
       "    </tr>\n",
       "    <tr>\n",
       "      <th>3</th>\n",
       "      <td>(307.398, 409.863]</td>\n",
       "      <td>NaN</td>\n",
       "    </tr>\n",
       "    <tr>\n",
       "      <th>4</th>\n",
       "      <td>(409.863, 512.329]</td>\n",
       "      <td>0.000000</td>\n",
       "    </tr>\n",
       "  </tbody>\n",
       "</table>\n",
       "</div>"
      ],
      "text/plain": [
       "      CategoricalFare  Survived\n",
       "0   (-0.512, 102.466]  0.382429\n",
       "1  (102.466, 204.932]  0.461538\n",
       "2  (204.932, 307.398]  0.529412\n",
       "3  (307.398, 409.863]       NaN\n",
       "4  (409.863, 512.329]  0.000000"
      ]
     },
     "metadata": {},
     "output_type": "display_data"
    }
   ],
   "source": [
    "get_suvival_ratio(train, [\"CategoricalFare\", \"Survived\"], \"CategoricalFare\")    "
   ]
  },
  {
   "cell_type": "markdown",
   "id": "8f7e3a8b",
   "metadata": {
    "papermill": {
     "duration": 0.043928,
     "end_time": "2021-08-07T07:39:59.884302",
     "exception": false,
     "start_time": "2021-08-07T07:39:59.840374",
     "status": "completed"
    },
    "tags": []
   },
   "source": [
    "요금대가 384달러에서 512달러대의 승객은 전부 사망했고 또한 요금대가 128달러 이하인 승객들의 생존률도 높지 않다."
   ]
  },
  {
   "cell_type": "markdown",
   "id": "283f8b47",
   "metadata": {
    "_cell_guid": "ec8d1b22-a95f-9f16-77ab-7b60d2103852",
    "papermill": {
     "duration": 0.044079,
     "end_time": "2021-08-07T07:39:59.972264",
     "exception": false,
     "start_time": "2021-08-07T07:39:59.928185",
     "status": "completed"
    },
    "tags": []
   },
   "source": [
    "## 6. Age ##\n",
    "\n",
    "결측치를 대치하기 위해 평균값과 표준편차를 이용해서 무작위의 값을 결측치 갯수만큼 생성해서 대치함.좋은 방법!!\n",
    "\n",
    "Age피처의 범주형 숫자값으로 변환키위해 pd.cut()이용해 5개 범위로 분할"
   ]
  },
  {
   "cell_type": "code",
   "execution_count": 14,
   "id": "5c226b01",
   "metadata": {
    "execution": {
     "iopub.execute_input": "2021-08-07T07:40:00.064822Z",
     "iopub.status.busy": "2021-08-07T07:40:00.064105Z",
     "iopub.status.idle": "2021-08-07T07:40:00.071346Z",
     "shell.execute_reply": "2021-08-07T07:40:00.071935Z",
     "shell.execute_reply.started": "2021-08-07T07:22:27.120398Z"
    },
    "papermill": {
     "duration": 0.055384,
     "end_time": "2021-08-07T07:40:00.072136",
     "exception": false,
     "start_time": "2021-08-07T07:40:00.016752",
     "status": "completed"
    },
    "tags": []
   },
   "outputs": [
    {
     "data": {
      "text/plain": [
       "'나이정보가 없는 승객 : '"
      ]
     },
     "metadata": {},
     "output_type": "display_data"
    },
    {
     "data": {
      "text/plain": [
       "177"
      ]
     },
     "metadata": {},
     "output_type": "display_data"
    }
   ],
   "source": [
    "display(\"나이정보가 없는 승객 : \", train[\"Age\"].isnull().sum())"
   ]
  },
  {
   "cell_type": "code",
   "execution_count": 15,
   "id": "25e7ec10",
   "metadata": {
    "execution": {
     "iopub.execute_input": "2021-08-07T07:40:00.166871Z",
     "iopub.status.busy": "2021-08-07T07:40:00.166149Z",
     "iopub.status.idle": "2021-08-07T07:40:00.184210Z",
     "shell.execute_reply": "2021-08-07T07:40:00.184736Z",
     "shell.execute_reply.started": "2021-08-07T07:22:27.132396Z"
    },
    "papermill": {
     "duration": 0.06716,
     "end_time": "2021-08-07T07:40:00.184946",
     "exception": false,
     "start_time": "2021-08-07T07:40:00.117786",
     "status": "completed"
    },
    "tags": []
   },
   "outputs": [
    {
     "name": "stderr",
     "output_type": "stream",
     "text": [
      "/opt/conda/lib/python3.7/site-packages/ipykernel_launcher.py:7: SettingWithCopyWarning: \n",
      "A value is trying to be set on a copy of a slice from a DataFrame\n",
      "\n",
      "See the caveats in the documentation: https://pandas.pydata.org/pandas-docs/stable/user_guide/indexing.html#returning-a-view-versus-a-copy\n",
      "  import sys\n"
     ]
    }
   ],
   "source": [
    "for dataset in full_data:\n",
    "    avg_age = dataset[\"Age\"].mean()\n",
    "    std_age = dataset[\"Age\"].std()\n",
    "    age_null_count = dataset[\"Age\"].isnull().sum()\n",
    "    \n",
    "    age_null_random_list = np.random.randint(avg_age - std_age, avg_age + std_age, age_null_count)\n",
    "    dataset[\"Age\"][np.isnan(dataset[\"Age\"])] = age_null_random_list\n",
    "    dataset[\"Age\"] = dataset[\"Age\"].astype(int)\n",
    "    \n",
    "    \n",
    "train[\"CategoricalAge\"] = pd.cut(train[\"Age\"], 5)    "
   ]
  },
  {
   "cell_type": "code",
   "execution_count": 16,
   "id": "397214bd",
   "metadata": {
    "execution": {
     "iopub.execute_input": "2021-08-07T07:40:00.279128Z",
     "iopub.status.busy": "2021-08-07T07:40:00.278458Z",
     "iopub.status.idle": "2021-08-07T07:40:00.294063Z",
     "shell.execute_reply": "2021-08-07T07:40:00.294685Z",
     "shell.execute_reply.started": "2021-08-07T07:22:27.151991Z"
    },
    "papermill": {
     "duration": 0.06461,
     "end_time": "2021-08-07T07:40:00.294893",
     "exception": false,
     "start_time": "2021-08-07T07:40:00.230283",
     "status": "completed"
    },
    "tags": []
   },
   "outputs": [
    {
     "data": {
      "text/html": [
       "<div>\n",
       "<style scoped>\n",
       "    .dataframe tbody tr th:only-of-type {\n",
       "        vertical-align: middle;\n",
       "    }\n",
       "\n",
       "    .dataframe tbody tr th {\n",
       "        vertical-align: top;\n",
       "    }\n",
       "\n",
       "    .dataframe thead th {\n",
       "        text-align: right;\n",
       "    }\n",
       "</style>\n",
       "<table border=\"1\" class=\"dataframe\">\n",
       "  <thead>\n",
       "    <tr style=\"text-align: right;\">\n",
       "      <th></th>\n",
       "      <th>CategoricalAge</th>\n",
       "      <th>Survived</th>\n",
       "    </tr>\n",
       "  </thead>\n",
       "  <tbody>\n",
       "    <tr>\n",
       "      <th>0</th>\n",
       "      <td>(-0.08, 16.0]</td>\n",
       "      <td>0.522523</td>\n",
       "    </tr>\n",
       "    <tr>\n",
       "      <th>1</th>\n",
       "      <td>(16.0, 32.0]</td>\n",
       "      <td>0.354839</td>\n",
       "    </tr>\n",
       "    <tr>\n",
       "      <th>2</th>\n",
       "      <td>(32.0, 48.0]</td>\n",
       "      <td>0.372180</td>\n",
       "    </tr>\n",
       "    <tr>\n",
       "      <th>3</th>\n",
       "      <td>(48.0, 64.0]</td>\n",
       "      <td>0.434783</td>\n",
       "    </tr>\n",
       "    <tr>\n",
       "      <th>4</th>\n",
       "      <td>(64.0, 80.0]</td>\n",
       "      <td>0.090909</td>\n",
       "    </tr>\n",
       "  </tbody>\n",
       "</table>\n",
       "</div>"
      ],
      "text/plain": [
       "  CategoricalAge  Survived\n",
       "0  (-0.08, 16.0]  0.522523\n",
       "1   (16.0, 32.0]  0.354839\n",
       "2   (32.0, 48.0]  0.372180\n",
       "3   (48.0, 64.0]  0.434783\n",
       "4   (64.0, 80.0]  0.090909"
      ]
     },
     "metadata": {},
     "output_type": "display_data"
    }
   ],
   "source": [
    "get_suvival_ratio(train, [\"CategoricalAge\", \"Survived\"], \"CategoricalAge\")   "
   ]
  },
  {
   "cell_type": "markdown",
   "id": "08db2c29",
   "metadata": {
    "_cell_guid": "bd25ec3f-b601-c1cc-d701-991fac1621f9",
    "papermill": {
     "duration": 0.046024,
     "end_time": "2021-08-07T07:40:00.388366",
     "exception": false,
     "start_time": "2021-08-07T07:40:00.342342",
     "status": "completed"
    },
    "tags": []
   },
   "source": [
    "## 7. Name ##\n",
    "이름으로 부터 존칭 정보를 추출"
   ]
  },
  {
   "cell_type": "code",
   "execution_count": 17,
   "id": "9efce575",
   "metadata": {
    "execution": {
     "iopub.execute_input": "2021-08-07T07:40:00.485093Z",
     "iopub.status.busy": "2021-08-07T07:40:00.484380Z",
     "iopub.status.idle": "2021-08-07T07:40:00.528607Z",
     "shell.execute_reply": "2021-08-07T07:40:00.529288Z",
     "shell.execute_reply.started": "2021-08-07T07:22:27.168696Z"
    },
    "papermill": {
     "duration": 0.09341,
     "end_time": "2021-08-07T07:40:00.529509",
     "exception": false,
     "start_time": "2021-08-07T07:40:00.436099",
     "status": "completed"
    },
    "tags": []
   },
   "outputs": [
    {
     "data": {
      "text/html": [
       "<div>\n",
       "<style scoped>\n",
       "    .dataframe tbody tr th:only-of-type {\n",
       "        vertical-align: middle;\n",
       "    }\n",
       "\n",
       "    .dataframe tbody tr th {\n",
       "        vertical-align: top;\n",
       "    }\n",
       "\n",
       "    .dataframe thead th {\n",
       "        text-align: right;\n",
       "    }\n",
       "</style>\n",
       "<table border=\"1\" class=\"dataframe\">\n",
       "  <thead>\n",
       "    <tr style=\"text-align: right;\">\n",
       "      <th>Sex</th>\n",
       "      <th>female</th>\n",
       "      <th>male</th>\n",
       "    </tr>\n",
       "    <tr>\n",
       "      <th>Title</th>\n",
       "      <th></th>\n",
       "      <th></th>\n",
       "    </tr>\n",
       "  </thead>\n",
       "  <tbody>\n",
       "    <tr>\n",
       "      <th>Capt</th>\n",
       "      <td>0</td>\n",
       "      <td>1</td>\n",
       "    </tr>\n",
       "    <tr>\n",
       "      <th>Col</th>\n",
       "      <td>0</td>\n",
       "      <td>2</td>\n",
       "    </tr>\n",
       "    <tr>\n",
       "      <th>Countess</th>\n",
       "      <td>1</td>\n",
       "      <td>0</td>\n",
       "    </tr>\n",
       "    <tr>\n",
       "      <th>Don</th>\n",
       "      <td>0</td>\n",
       "      <td>1</td>\n",
       "    </tr>\n",
       "    <tr>\n",
       "      <th>Dr</th>\n",
       "      <td>1</td>\n",
       "      <td>6</td>\n",
       "    </tr>\n",
       "    <tr>\n",
       "      <th>Jonkheer</th>\n",
       "      <td>0</td>\n",
       "      <td>1</td>\n",
       "    </tr>\n",
       "    <tr>\n",
       "      <th>Lady</th>\n",
       "      <td>1</td>\n",
       "      <td>0</td>\n",
       "    </tr>\n",
       "    <tr>\n",
       "      <th>Major</th>\n",
       "      <td>0</td>\n",
       "      <td>2</td>\n",
       "    </tr>\n",
       "    <tr>\n",
       "      <th>Master</th>\n",
       "      <td>0</td>\n",
       "      <td>40</td>\n",
       "    </tr>\n",
       "    <tr>\n",
       "      <th>Miss</th>\n",
       "      <td>182</td>\n",
       "      <td>0</td>\n",
       "    </tr>\n",
       "    <tr>\n",
       "      <th>Mlle</th>\n",
       "      <td>2</td>\n",
       "      <td>0</td>\n",
       "    </tr>\n",
       "    <tr>\n",
       "      <th>Mme</th>\n",
       "      <td>1</td>\n",
       "      <td>0</td>\n",
       "    </tr>\n",
       "    <tr>\n",
       "      <th>Mr</th>\n",
       "      <td>0</td>\n",
       "      <td>517</td>\n",
       "    </tr>\n",
       "    <tr>\n",
       "      <th>Mrs</th>\n",
       "      <td>125</td>\n",
       "      <td>0</td>\n",
       "    </tr>\n",
       "    <tr>\n",
       "      <th>Ms</th>\n",
       "      <td>1</td>\n",
       "      <td>0</td>\n",
       "    </tr>\n",
       "    <tr>\n",
       "      <th>Rev</th>\n",
       "      <td>0</td>\n",
       "      <td>6</td>\n",
       "    </tr>\n",
       "    <tr>\n",
       "      <th>Sir</th>\n",
       "      <td>0</td>\n",
       "      <td>1</td>\n",
       "    </tr>\n",
       "  </tbody>\n",
       "</table>\n",
       "</div>"
      ],
      "text/plain": [
       "Sex       female  male\n",
       "Title                 \n",
       "Capt           0     1\n",
       "Col            0     2\n",
       "Countess       1     0\n",
       "Don            0     1\n",
       "Dr             1     6\n",
       "Jonkheer       0     1\n",
       "Lady           1     0\n",
       "Major          0     2\n",
       "Master         0    40\n",
       "Miss         182     0\n",
       "Mlle           2     0\n",
       "Mme            1     0\n",
       "Mr             0   517\n",
       "Mrs          125     0\n",
       "Ms             1     0\n",
       "Rev            0     6\n",
       "Sir            0     1"
      ]
     },
     "execution_count": 17,
     "metadata": {},
     "output_type": "execute_result"
    }
   ],
   "source": [
    "def get_title(name):\n",
    "    \"\"\"\n",
    "    이름정보에서 해당 승객의 존칭정보를 가져오기\n",
    "    \"\"\"\n",
    "    title  = \"\"\n",
    "    title_search = re.search('([A-Za-z]+)\\.', name)\n",
    "    \n",
    "    if title_search:\n",
    "        title = title_search.group(1)\n",
    "    return title\n",
    "\n",
    "for dataset in full_data:\n",
    "    dataset[\"Title\"] = dataset[\"Name\"].apply(get_title)\n",
    "    \n",
    "pd.DataFrame(pd.crosstab(index=train[\"Title\"], columns=train[\"Sex\"]))"
   ]
  },
  {
   "cell_type": "markdown",
   "id": "378d498f",
   "metadata": {
    "_cell_guid": "ca5fff8c-7a0d-6c18-2173-b8df6293c50a",
    "papermill": {
     "duration": 0.047,
     "end_time": "2021-08-07T07:40:00.623660",
     "exception": false,
     "start_time": "2021-08-07T07:40:00.576660",
     "status": "completed"
    },
    "tags": []
   },
   "source": [
    " * Title피처의 범주형 피처로 변환 후 생존률 확인"
   ]
  },
  {
   "cell_type": "code",
   "execution_count": 18,
   "id": "5e4a9e8c",
   "metadata": {
    "execution": {
     "iopub.execute_input": "2021-08-07T07:40:00.722826Z",
     "iopub.status.busy": "2021-08-07T07:40:00.721737Z",
     "iopub.status.idle": "2021-08-07T07:40:00.730003Z",
     "shell.execute_reply": "2021-08-07T07:40:00.730702Z",
     "shell.execute_reply.started": "2021-08-07T07:22:27.200411Z"
    },
    "papermill": {
     "duration": 0.059205,
     "end_time": "2021-08-07T07:40:00.730893",
     "exception": false,
     "start_time": "2021-08-07T07:40:00.671688",
     "status": "completed"
    },
    "tags": []
   },
   "outputs": [
    {
     "data": {
      "text/plain": [
       "array(['Mr', 'Miss', 'Mrs', 'Master', 'Dr', 'Rev', 'Col', 'Major', 'Mlle',\n",
       "       'Jonkheer', 'Lady', 'Mme', 'Countess', 'Capt', 'Ms', 'Don', 'Sir'],\n",
       "      dtype=object)"
      ]
     },
     "execution_count": 18,
     "metadata": {},
     "output_type": "execute_result"
    }
   ],
   "source": [
    "stnd_title = [\"Mr\", \"Miss\", \"Mrs\", \"Mlle\", \"Mme\",]\n",
    "train[\"Title\"].value_counts().index.values"
   ]
  },
  {
   "cell_type": "code",
   "execution_count": 19,
   "id": "e5d44ce2",
   "metadata": {
    "execution": {
     "iopub.execute_input": "2021-08-07T07:40:00.830922Z",
     "iopub.status.busy": "2021-08-07T07:40:00.829837Z",
     "iopub.status.idle": "2021-08-07T07:40:00.855871Z",
     "shell.execute_reply": "2021-08-07T07:40:00.855284Z",
     "shell.execute_reply.started": "2021-08-07T07:22:27.210226Z"
    },
    "papermill": {
     "duration": 0.077028,
     "end_time": "2021-08-07T07:40:00.856044",
     "exception": false,
     "start_time": "2021-08-07T07:40:00.779016",
     "status": "completed"
    },
    "tags": []
   },
   "outputs": [
    {
     "data": {
      "text/html": [
       "<div>\n",
       "<style scoped>\n",
       "    .dataframe tbody tr th:only-of-type {\n",
       "        vertical-align: middle;\n",
       "    }\n",
       "\n",
       "    .dataframe tbody tr th {\n",
       "        vertical-align: top;\n",
       "    }\n",
       "\n",
       "    .dataframe thead th {\n",
       "        text-align: right;\n",
       "    }\n",
       "</style>\n",
       "<table border=\"1\" class=\"dataframe\">\n",
       "  <thead>\n",
       "    <tr style=\"text-align: right;\">\n",
       "      <th></th>\n",
       "      <th>Title</th>\n",
       "      <th>Survived</th>\n",
       "    </tr>\n",
       "  </thead>\n",
       "  <tbody>\n",
       "    <tr>\n",
       "      <th>0</th>\n",
       "      <td>Master</td>\n",
       "      <td>0.575000</td>\n",
       "    </tr>\n",
       "    <tr>\n",
       "      <th>1</th>\n",
       "      <td>Miss</td>\n",
       "      <td>0.702703</td>\n",
       "    </tr>\n",
       "    <tr>\n",
       "      <th>2</th>\n",
       "      <td>Mr</td>\n",
       "      <td>0.156673</td>\n",
       "    </tr>\n",
       "    <tr>\n",
       "      <th>3</th>\n",
       "      <td>Mrs</td>\n",
       "      <td>0.793651</td>\n",
       "    </tr>\n",
       "    <tr>\n",
       "      <th>4</th>\n",
       "      <td>Rare</td>\n",
       "      <td>0.347826</td>\n",
       "    </tr>\n",
       "  </tbody>\n",
       "</table>\n",
       "</div>"
      ],
      "text/plain": [
       "    Title  Survived\n",
       "0  Master  0.575000\n",
       "1    Miss  0.702703\n",
       "2      Mr  0.156673\n",
       "3     Mrs  0.793651\n",
       "4    Rare  0.347826"
      ]
     },
     "metadata": {},
     "output_type": "display_data"
    }
   ],
   "source": [
    "for dataset in full_data:\n",
    "    dataset['Title'] = dataset['Title'].replace(['Lady', 'Countess','Capt', 'Col',\\\n",
    " \t'Don', 'Dr', 'Major', 'Rev', 'Sir', 'Jonkheer', 'Dona'], 'Rare')\n",
    "\n",
    "    dataset['Title'] = dataset['Title'].replace('Mlle', 'Miss')\n",
    "    dataset['Title'] = dataset['Title'].replace('Ms', 'Miss')\n",
    "    dataset['Title'] = dataset['Title'].replace('Mme', 'Mrs')\n",
    "    \n",
    "get_suvival_ratio(train, [\"Title\", \"Survived\"], \"Title\")    "
   ]
  },
  {
   "cell_type": "markdown",
   "id": "e4d8075d",
   "metadata": {
    "_cell_guid": "68fa2057-e27a-e252-0d1b-869c00a303ba",
    "papermill": {
     "duration": 0.047494,
     "end_time": "2021-08-07T07:40:00.952100",
     "exception": false,
     "start_time": "2021-08-07T07:40:00.904606",
     "status": "completed"
    },
    "tags": []
   },
   "source": [
    "# Data Cleaning #\n",
    "데이터정제 및 범주형 타입의 데이터를 숫자형으로 변환"
   ]
  },
  {
   "cell_type": "code",
   "execution_count": 20,
   "id": "3d80bbc1",
   "metadata": {
    "execution": {
     "iopub.execute_input": "2021-08-07T07:40:01.057955Z",
     "iopub.status.busy": "2021-08-07T07:40:01.057193Z",
     "iopub.status.idle": "2021-08-07T07:40:01.070811Z",
     "shell.execute_reply": "2021-08-07T07:40:01.071421Z",
     "shell.execute_reply.started": "2021-08-07T07:22:27.240866Z"
    },
    "papermill": {
     "duration": 0.071326,
     "end_time": "2021-08-07T07:40:01.071612",
     "exception": false,
     "start_time": "2021-08-07T07:40:01.000286",
     "status": "completed"
    },
    "tags": []
   },
   "outputs": [
    {
     "data": {
      "text/plain": [
       "(16.0, 32.0]     434\n",
       "(32.0, 48.0]     266\n",
       "(-0.08, 16.0]    111\n",
       "(48.0, 64.0]      69\n",
       "(64.0, 80.0]      11\n",
       "Name: CategoricalAge, dtype: int64"
      ]
     },
     "metadata": {},
     "output_type": "display_data"
    },
    {
     "data": {
      "text/plain": [
       "count    891.000000\n",
       "mean      29.718294\n",
       "std       13.559038\n",
       "min        0.000000\n",
       "25%       21.000000\n",
       "50%       29.000000\n",
       "75%       38.000000\n",
       "max       80.000000\n",
       "Name: Age, dtype: float64"
      ]
     },
     "metadata": {},
     "output_type": "display_data"
    }
   ],
   "source": [
    "display(train[\"CategoricalAge\"].value_counts(), train[\"Age\"].describe())"
   ]
  },
  {
   "cell_type": "code",
   "execution_count": 21,
   "id": "95c7f1f0",
   "metadata": {
    "execution": {
     "iopub.execute_input": "2021-08-07T07:40:01.172654Z",
     "iopub.status.busy": "2021-08-07T07:40:01.171990Z",
     "iopub.status.idle": "2021-08-07T07:40:01.181557Z",
     "shell.execute_reply": "2021-08-07T07:40:01.182211Z",
     "shell.execute_reply.started": "2021-08-07T07:22:27.264406Z"
    },
    "papermill": {
     "duration": 0.06175,
     "end_time": "2021-08-07T07:40:01.182398",
     "exception": false,
     "start_time": "2021-08-07T07:40:01.120648",
     "status": "completed"
    },
    "tags": []
   },
   "outputs": [
    {
     "data": {
      "text/plain": [
       "count    891.000000\n",
       "mean      32.204208\n",
       "std       49.693429\n",
       "min        0.000000\n",
       "25%        7.910400\n",
       "50%       14.454200\n",
       "75%       31.000000\n",
       "max      512.329200\n",
       "Name: Fare, dtype: float64"
      ]
     },
     "execution_count": 21,
     "metadata": {},
     "output_type": "execute_result"
    }
   ],
   "source": [
    "train[\"Fare\"].describe()"
   ]
  },
  {
   "cell_type": "code",
   "execution_count": 22,
   "id": "875b9560",
   "metadata": {
    "_cell_guid": "2502bb70-ce6f-2497-7331-7d1f80521470",
    "execution": {
     "iopub.execute_input": "2021-08-07T07:40:01.284258Z",
     "iopub.status.busy": "2021-08-07T07:40:01.283567Z",
     "iopub.status.idle": "2021-08-07T07:40:01.340952Z",
     "shell.execute_reply": "2021-08-07T07:40:01.341633Z",
     "shell.execute_reply.started": "2021-08-07T07:22:27.277287Z"
    },
    "papermill": {
     "duration": 0.11047,
     "end_time": "2021-08-07T07:40:01.341830",
     "exception": false,
     "start_time": "2021-08-07T07:40:01.231360",
     "status": "completed"
    },
    "tags": []
   },
   "outputs": [
    {
     "data": {
      "text/html": [
       "<div>\n",
       "<style scoped>\n",
       "    .dataframe tbody tr th:only-of-type {\n",
       "        vertical-align: middle;\n",
       "    }\n",
       "\n",
       "    .dataframe tbody tr th {\n",
       "        vertical-align: top;\n",
       "    }\n",
       "\n",
       "    .dataframe thead th {\n",
       "        text-align: right;\n",
       "    }\n",
       "</style>\n",
       "<table border=\"1\" class=\"dataframe\">\n",
       "  <thead>\n",
       "    <tr style=\"text-align: right;\">\n",
       "      <th></th>\n",
       "      <th>Survived</th>\n",
       "      <th>Pclass</th>\n",
       "      <th>Sex</th>\n",
       "      <th>Age</th>\n",
       "      <th>Fare</th>\n",
       "      <th>Embarked</th>\n",
       "      <th>IsAlone</th>\n",
       "      <th>Title</th>\n",
       "    </tr>\n",
       "  </thead>\n",
       "  <tbody>\n",
       "    <tr>\n",
       "      <th>0</th>\n",
       "      <td>0</td>\n",
       "      <td>3</td>\n",
       "      <td>1</td>\n",
       "      <td>1</td>\n",
       "      <td>0</td>\n",
       "      <td>0</td>\n",
       "      <td>0</td>\n",
       "      <td>1</td>\n",
       "    </tr>\n",
       "    <tr>\n",
       "      <th>1</th>\n",
       "      <td>1</td>\n",
       "      <td>1</td>\n",
       "      <td>0</td>\n",
       "      <td>2</td>\n",
       "      <td>3</td>\n",
       "      <td>1</td>\n",
       "      <td>0</td>\n",
       "      <td>3</td>\n",
       "    </tr>\n",
       "    <tr>\n",
       "      <th>2</th>\n",
       "      <td>1</td>\n",
       "      <td>3</td>\n",
       "      <td>0</td>\n",
       "      <td>1</td>\n",
       "      <td>1</td>\n",
       "      <td>0</td>\n",
       "      <td>1</td>\n",
       "      <td>2</td>\n",
       "    </tr>\n",
       "  </tbody>\n",
       "</table>\n",
       "</div>"
      ],
      "text/plain": [
       "   Survived  Pclass  Sex  Age  Fare  Embarked  IsAlone  Title\n",
       "0         0       3    1    1     0         0        0      1\n",
       "1         1       1    0    2     3         1        0      3\n",
       "2         1       3    0    1     1         0        1      2"
      ]
     },
     "metadata": {},
     "output_type": "display_data"
    },
    {
     "data": {
      "text/html": [
       "<div>\n",
       "<style scoped>\n",
       "    .dataframe tbody tr th:only-of-type {\n",
       "        vertical-align: middle;\n",
       "    }\n",
       "\n",
       "    .dataframe tbody tr th {\n",
       "        vertical-align: top;\n",
       "    }\n",
       "\n",
       "    .dataframe thead th {\n",
       "        text-align: right;\n",
       "    }\n",
       "</style>\n",
       "<table border=\"1\" class=\"dataframe\">\n",
       "  <thead>\n",
       "    <tr style=\"text-align: right;\">\n",
       "      <th></th>\n",
       "      <th>Pclass</th>\n",
       "      <th>Sex</th>\n",
       "      <th>Age</th>\n",
       "      <th>Fare</th>\n",
       "      <th>Embarked</th>\n",
       "      <th>IsAlone</th>\n",
       "      <th>Title</th>\n",
       "    </tr>\n",
       "  </thead>\n",
       "  <tbody>\n",
       "    <tr>\n",
       "      <th>0</th>\n",
       "      <td>3</td>\n",
       "      <td>1</td>\n",
       "      <td>2</td>\n",
       "      <td>0</td>\n",
       "      <td>2</td>\n",
       "      <td>1</td>\n",
       "      <td>1</td>\n",
       "    </tr>\n",
       "    <tr>\n",
       "      <th>1</th>\n",
       "      <td>3</td>\n",
       "      <td>0</td>\n",
       "      <td>2</td>\n",
       "      <td>0</td>\n",
       "      <td>0</td>\n",
       "      <td>0</td>\n",
       "      <td>3</td>\n",
       "    </tr>\n",
       "    <tr>\n",
       "      <th>2</th>\n",
       "      <td>2</td>\n",
       "      <td>1</td>\n",
       "      <td>3</td>\n",
       "      <td>1</td>\n",
       "      <td>2</td>\n",
       "      <td>1</td>\n",
       "      <td>1</td>\n",
       "    </tr>\n",
       "  </tbody>\n",
       "</table>\n",
       "</div>"
      ],
      "text/plain": [
       "   Pclass  Sex  Age  Fare  Embarked  IsAlone  Title\n",
       "0       3    1    2     0         2        1      1\n",
       "1       3    0    2     0         0        0      3\n",
       "2       2    1    3     1         2        1      1"
      ]
     },
     "metadata": {},
     "output_type": "display_data"
    }
   ],
   "source": [
    "for dataset in full_data:\n",
    "    # Mapping Sex\n",
    "    dataset[\"Sex\"] = dataset[\"Sex\"].map({\"female\": 0 , \"male\": 1}).astype(int)\n",
    "    \n",
    "    # Mapping titles\n",
    "    title_mapping = {\"Mr\": 1, \"Miss\": 2, \"Mrs\": 3, \"Master\": 4, \"Rare\": 5}\n",
    "    dataset[\"Title\"] = dataset[\"Title\"].map(title_mapping)\n",
    "    dataset[\"Title\"] = dataset[\"Title\"].fillna(0)\n",
    "    \n",
    "    # Mapping Embarked\n",
    "    dataset['Embarked'] = dataset['Embarked'].map( {'S': 0, 'C': 1, 'Q': 2} ).astype(int)\n",
    "    \n",
    "    # Mapping Fare based on 1st quartile, 2nd quartile, 3rd quatile\n",
    "    dataset.loc[dataset[\"Fare\"] <= 7.91, 'Fare'] = 0\n",
    "    dataset.loc[(dataset[\"Fare\"] > 7.91) & (dataset[\"Fare\"] <= 14.454), \"Fare\"] = 1\n",
    "    dataset.loc[(dataset[\"Fare\"] > 14.454) & (dataset[\"Fare\"] <= 31), \"Fare\"] = 2\n",
    "    dataset.loc[ dataset['Fare'] > 31, 'Fare'] \t\t\t\t\t\t        = 3\n",
    "    dataset['Fare'] = dataset['Fare'].astype(int)\n",
    "    \n",
    "    # Mapping Age\n",
    "    dataset.loc[ dataset['Age'] <= 16, 'Age'] \t\t\t\t\t       = 0\n",
    "    dataset.loc[(dataset['Age'] > 16) & (dataset['Age'] <= 32), 'Age'] = 1\n",
    "    dataset.loc[(dataset['Age'] > 32) & (dataset['Age'] <= 48), 'Age'] = 2\n",
    "    dataset.loc[(dataset['Age'] > 48) & (dataset['Age'] <= 64), 'Age'] = 3\n",
    "    dataset.loc[ dataset['Age'] > 64, 'Age']                           = 4\n",
    "\n",
    "# Feature Selection\n",
    "drop_elements = [\"PassengerId\", \"Name\", \"Ticket\", \"Cabin\", \"SibSp\", \"Parch\", \"FamilySize\"]\n",
    "train = train.drop(drop_elements, axis = 1)\n",
    "train = train.drop([\"CategoricalAge\", \"CategoricalFare\"], axis = 1)\n",
    "test  = test.drop(drop_elements, axis = 1)\n",
    "\n",
    "display (train.head(n=3))\n",
    "display(test.head(n=3))\n",
    "\n",
    "train = train.values\n",
    "test  = test.values"
   ]
  },
  {
   "cell_type": "markdown",
   "id": "79c98666",
   "metadata": {
    "_cell_guid": "23b55b45-572b-7276-32e7-8f7a0dcfd25e",
    "papermill": {
     "duration": 0.050901,
     "end_time": "2021-08-07T07:40:01.443535",
     "exception": false,
     "start_time": "2021-08-07T07:40:01.392634",
     "status": "completed"
    },
    "tags": []
   },
   "source": [
    "# 분류기 비교 #"
   ]
  },
  {
   "cell_type": "markdown",
   "id": "2e44f4e0",
   "metadata": {
    "papermill": {
     "duration": 0.05129,
     "end_time": "2021-08-07T07:40:01.546083",
     "exception": false,
     "start_time": "2021-08-07T07:40:01.494793",
     "status": "completed"
    },
    "tags": []
   },
   "source": [
    "## 관련 라이브러리"
   ]
  },
  {
   "cell_type": "code",
   "execution_count": 23,
   "id": "eaa86152",
   "metadata": {
    "execution": {
     "iopub.execute_input": "2021-08-07T07:40:01.652012Z",
     "iopub.status.busy": "2021-08-07T07:40:01.651303Z",
     "iopub.status.idle": "2021-08-07T07:40:02.954361Z",
     "shell.execute_reply": "2021-08-07T07:40:02.954963Z",
     "shell.execute_reply.started": "2021-08-07T07:22:27.332249Z"
    },
    "papermill": {
     "duration": 1.357509,
     "end_time": "2021-08-07T07:40:02.955158",
     "exception": false,
     "start_time": "2021-08-07T07:40:01.597649",
     "status": "completed"
    },
    "tags": []
   },
   "outputs": [],
   "source": [
    "import matplotlib.pyplot as plt\n",
    "import seaborn as sns\n",
    "\n",
    "# StraifiedKFold와 ShuffleSplit의 결합\n",
    "from sklearn.model_selection import StratifiedShuffleSplit\n",
    "from sklearn.metrics import accuracy_score, log_loss\n",
    "from sklearn.neighbors import KNeighborsClassifier\n",
    "from sklearn.svm import SVC\n",
    "from sklearn.tree import DecisionTreeClassifier\n",
    "\n",
    "# 분류\n",
    "from sklearn.ensemble import RandomForestClassifier, AdaBoostClassifier, GradientBoostingClassifier\n",
    "from sklearn.naive_bayes import GaussianNB\n",
    "\n",
    "# 차원축소\n",
    "from sklearn.discriminant_analysis import LinearDiscriminantAnalysis, QuadraticDiscriminantAnalysis\n",
    "\n",
    "# 회귀\n",
    "from sklearn.linear_model import LogisticRegression"
   ]
  },
  {
   "cell_type": "markdown",
   "id": "ea75c8d2",
   "metadata": {
    "papermill": {
     "duration": 0.052759,
     "end_time": "2021-08-07T07:40:03.058868",
     "exception": false,
     "start_time": "2021-08-07T07:40:03.006109",
     "status": "completed"
    },
    "tags": []
   },
   "source": [
    "* Modulization"
   ]
  },
  {
   "cell_type": "code",
   "execution_count": 24,
   "id": "a786b1cb",
   "metadata": {
    "execution": {
     "iopub.execute_input": "2021-08-07T07:40:03.165281Z",
     "iopub.status.busy": "2021-08-07T07:40:03.164260Z",
     "iopub.status.idle": "2021-08-07T07:40:03.175715Z",
     "shell.execute_reply": "2021-08-07T07:40:03.176273Z",
     "shell.execute_reply.started": "2021-08-07T07:22:27.340254Z"
    },
    "papermill": {
     "duration": 0.066552,
     "end_time": "2021-08-07T07:40:03.176520",
     "exception": false,
     "start_time": "2021-08-07T07:40:03.109968",
     "status": "completed"
    },
    "tags": []
   },
   "outputs": [],
   "source": [
    "def train_predict(X, y, classifiers: list):\n",
    "    \"\"\"\n",
    "    학습 피처와 레이블 값을 인자로 받아서  정확도와 분류기별 정확도를 DataFrame으로 리턴\n",
    "    \"\"\"\n",
    "    # StratifiedKFold와 ShuffleSplit의 기능을 갖고있음\n",
    "    # 검증 인덱스와 학습인덱스를 나누어서 리턴함\n",
    "    # 인자는 피처배열과 레이블 배열을 1차원 배열의 형태로 전달\n",
    "    sss = StratifiedShuffleSplit(n_splits = 10, test_size = .3, random_state=0)\n",
    "    \n",
    "    accuracy = {}\n",
    "    log_cols = ['Classifiers', 'Accuracy']\n",
    "    log = pd.DataFrame(columns = log_cols)\n",
    "    \n",
    "    for train_index, test_index in sss.split(X, y):\n",
    "        X_train, X_test = X[train_index], X[test_index]\n",
    "        y_train, y_test = y[train_index], y[test_index]\n",
    "        \n",
    "        for clf in classifiers:\n",
    "            clf.fit(X_train, y_train)\n",
    "            train_prediction = clf.predict(X_test)\n",
    "            \n",
    "            acc = accuracy_score(y_test, train_prediction)\n",
    "            \n",
    "            model = clf.__class__.__name__\n",
    "            \n",
    "            if model in accuracy:\n",
    "                accuracy[model] += acc\n",
    "            else:\n",
    "                accuracy[model] = acc\n",
    "                \n",
    "    for k,  v in accuracy.items():\n",
    "        accuracy[k] = accuracy[k] / 10.0\n",
    "        log_entry = pd.DataFrame([[k, accuracy[k]]], columns = log_cols)\n",
    "        log = log.append(log_entry)        \n",
    "    display(\"최종결과\", log)        \n",
    "    return accuracy, log\n",
    "\n",
    "def visualize_accuracy(log):\n",
    "    \"\"\"\n",
    "    분류기별 정확도를 시각화(barplot)\n",
    "    \"\"\"\n",
    "    plt.xlabel(\"Accuracy\")\n",
    "    plt.ylabel(\"Classifiers Accuracy\")\n",
    "    sns.set_color_codes(\"muted\")\n",
    "    \n",
    "    sns.barplot(x=\"Accuracy\", y = 'Classifiers', data = log, color='b')\n",
    "def main_process(X, y, classifiers):\n",
    "    accuracy, log = train_predict(X, y, classifiers)\n",
    "    visualize_accuracy(log)"
   ]
  },
  {
   "cell_type": "markdown",
   "id": "7831c410",
   "metadata": {
    "papermill": {
     "duration": 0.054167,
     "end_time": "2021-08-07T07:40:03.282159",
     "exception": false,
     "start_time": "2021-08-07T07:40:03.227992",
     "status": "completed"
    },
    "tags": []
   },
   "source": [
    "* REPL(Read Evaluate Print Loop)"
   ]
  },
  {
   "cell_type": "code",
   "execution_count": 25,
   "id": "229c9915",
   "metadata": {
    "execution": {
     "iopub.execute_input": "2021-08-07T07:40:03.391926Z",
     "iopub.status.busy": "2021-08-07T07:40:03.390768Z",
     "iopub.status.idle": "2021-08-07T07:40:09.756860Z",
     "shell.execute_reply": "2021-08-07T07:40:09.756170Z",
     "shell.execute_reply.started": "2021-08-07T07:22:27.355758Z"
    },
    "papermill": {
     "duration": 6.421799,
     "end_time": "2021-08-07T07:40:09.757040",
     "exception": false,
     "start_time": "2021-08-07T07:40:03.335241",
     "status": "completed"
    },
    "tags": []
   },
   "outputs": [
    {
     "data": {
      "text/plain": [
       "'최종 결과 값 : '"
      ]
     },
     "metadata": {},
     "output_type": "display_data"
    },
    {
     "data": {
      "text/html": [
       "<div>\n",
       "<style scoped>\n",
       "    .dataframe tbody tr th:only-of-type {\n",
       "        vertical-align: middle;\n",
       "    }\n",
       "\n",
       "    .dataframe tbody tr th {\n",
       "        vertical-align: top;\n",
       "    }\n",
       "\n",
       "    .dataframe thead th {\n",
       "        text-align: right;\n",
       "    }\n",
       "</style>\n",
       "<table border=\"1\" class=\"dataframe\">\n",
       "  <thead>\n",
       "    <tr style=\"text-align: right;\">\n",
       "      <th></th>\n",
       "      <th>Classifiers</th>\n",
       "      <th>accuracy</th>\n",
       "    </tr>\n",
       "  </thead>\n",
       "  <tbody>\n",
       "    <tr>\n",
       "      <th>0</th>\n",
       "      <td>KNeighborsClassifier</td>\n",
       "      <td>0.822222</td>\n",
       "    </tr>\n",
       "    <tr>\n",
       "      <th>0</th>\n",
       "      <td>SVC</td>\n",
       "      <td>0.790000</td>\n",
       "    </tr>\n",
       "    <tr>\n",
       "      <th>0</th>\n",
       "      <td>DecisionTreeClassifier</td>\n",
       "      <td>0.808889</td>\n",
       "    </tr>\n",
       "    <tr>\n",
       "      <th>0</th>\n",
       "      <td>RandomForestClassifier</td>\n",
       "      <td>0.818889</td>\n",
       "    </tr>\n",
       "    <tr>\n",
       "      <th>0</th>\n",
       "      <td>AdaBoostClassifier</td>\n",
       "      <td>0.806667</td>\n",
       "    </tr>\n",
       "    <tr>\n",
       "      <th>0</th>\n",
       "      <td>GradientBoostingClassifier</td>\n",
       "      <td>0.818889</td>\n",
       "    </tr>\n",
       "    <tr>\n",
       "      <th>0</th>\n",
       "      <td>GaussianNB</td>\n",
       "      <td>0.775556</td>\n",
       "    </tr>\n",
       "    <tr>\n",
       "      <th>0</th>\n",
       "      <td>LinearDiscriminantAnalysis</td>\n",
       "      <td>0.785556</td>\n",
       "    </tr>\n",
       "    <tr>\n",
       "      <th>0</th>\n",
       "      <td>QuadraticDiscriminantAnalysis</td>\n",
       "      <td>0.798889</td>\n",
       "    </tr>\n",
       "    <tr>\n",
       "      <th>0</th>\n",
       "      <td>LogisticRegression</td>\n",
       "      <td>0.797778</td>\n",
       "    </tr>\n",
       "  </tbody>\n",
       "</table>\n",
       "</div>"
      ],
      "text/plain": [
       "                     Classifiers  accuracy\n",
       "0           KNeighborsClassifier  0.822222\n",
       "0                            SVC  0.790000\n",
       "0         DecisionTreeClassifier  0.808889\n",
       "0         RandomForestClassifier  0.818889\n",
       "0             AdaBoostClassifier  0.806667\n",
       "0     GradientBoostingClassifier  0.818889\n",
       "0                     GaussianNB  0.775556\n",
       "0     LinearDiscriminantAnalysis  0.785556\n",
       "0  QuadraticDiscriminantAnalysis  0.798889\n",
       "0             LogisticRegression  0.797778"
      ]
     },
     "metadata": {},
     "output_type": "display_data"
    },
    {
     "data": {
      "text/plain": [
       "<AxesSubplot:title={'center':'Classifier Accuracy'}, xlabel='accuracy', ylabel='Classifiers'>"
      ]
     },
     "execution_count": 25,
     "metadata": {},
     "output_type": "execute_result"
    },
    {
     "data": {
      "image/png": "[encoded data removed]",
      "text/plain": [
       "<Figure size 432x288 with 1 Axes>"
      ]
     },
     "metadata": {
      "needs_background": "light"
     },
     "output_type": "display_data"
    }
   ],
   "source": [
    "classifiers = [\n",
    "    KNeighborsClassifier(n_neighbors = 5),\n",
    "    SVC(C= 0.05, gamma='auto', probability=True),\n",
    "    DecisionTreeClassifier(),\n",
    "    RandomForestClassifier(),\n",
    "    AdaBoostClassifier(),\n",
    "    GradientBoostingClassifier(),\n",
    "    GaussianNB(),\n",
    "    LinearDiscriminantAnalysis(),\n",
    "    QuadraticDiscriminantAnalysis(),\n",
    "    LogisticRegression()\n",
    "]\n",
    "\n",
    "log_cols = ['Classifiers', 'accuracy']\n",
    "log = pd.DataFrame(columns = log_cols)\n",
    "\n",
    "# StratifiedKFold와 ShuffleSplit의 기능을 갖고있음\n",
    "# 검증 인덱스와 학습인덱스를 나누어서 리턴함\n",
    "# 인자는 피처배열과 레이블 배열을 1차원 배열의 형태로 전달\n",
    "sss = StratifiedShuffleSplit(n_splits = 10, test_size = 0.1, random_state = 0)\n",
    "\n",
    "X = train[:, 1:]\n",
    "y = train[:, 0]\n",
    "\n",
    "accuracy = {}\n",
    "\n",
    "for train_index, test_index in sss.split(X, y):\n",
    "    X_train, X_test = X[train_index], X[test_index]\n",
    "    y_train, y_test = y[train_index], y[test_index]\n",
    "    \n",
    "    for clf in classifiers:\n",
    "        clf.fit(X_train, y_train)\n",
    "        train_prediction = clf.predict(X_test)\n",
    "        acc = accuracy_score(y_test, train_prediction)\n",
    "        \n",
    "        model = clf.__class__.__name__\n",
    "        \n",
    "        if model in accuracy:\n",
    "            accuracy[model] += acc\n",
    "        else:\n",
    "            accuracy[model] = acc            \n",
    "#display(accuracy)\n",
    "for k, v in accuracy.items():\n",
    "    accuracy[k] = accuracy[k] / 10.0\n",
    "    log_entry = pd.DataFrame([[k, accuracy[k]]], columns=log_cols)\n",
    "    log = log.append(log_entry)\n",
    "    \n",
    "display(\"최종 결과 값 : \", log)\n",
    "\n",
    "\n",
    "# barplot으로 시각화\n",
    "plt.xlabel(\"Accuracy\")\n",
    "plt.title(\"Classifier Accuracy\")\n",
    "sns.set_color_codes(\"muted\")\n",
    "sns.barplot(x='accuracy', y='Classifiers', data = log, color='b')"
   ]
  },
  {
   "cell_type": "code",
   "execution_count": 26,
   "id": "cfa6b282",
   "metadata": {
    "execution": {
     "iopub.execute_input": "2021-08-07T07:40:09.872595Z",
     "iopub.status.busy": "2021-08-07T07:40:09.871384Z",
     "iopub.status.idle": "2021-08-07T07:40:15.581888Z",
     "shell.execute_reply": "2021-08-07T07:40:15.582465Z",
     "shell.execute_reply.started": "2021-08-07T07:22:32.281179Z"
    },
    "papermill": {
     "duration": 5.772093,
     "end_time": "2021-08-07T07:40:15.582655",
     "exception": false,
     "start_time": "2021-08-07T07:40:09.810562",
     "status": "completed"
    },
    "tags": []
   },
   "outputs": [
    {
     "data": {
      "text/plain": [
       "'최종결과'"
      ]
     },
     "metadata": {},
     "output_type": "display_data"
    },
    {
     "data": {
      "text/html": [
       "<div>\n",
       "<style scoped>\n",
       "    .dataframe tbody tr th:only-of-type {\n",
       "        vertical-align: middle;\n",
       "    }\n",
       "\n",
       "    .dataframe tbody tr th {\n",
       "        vertical-align: top;\n",
       "    }\n",
       "\n",
       "    .dataframe thead th {\n",
       "        text-align: right;\n",
       "    }\n",
       "</style>\n",
       "<table border=\"1\" class=\"dataframe\">\n",
       "  <thead>\n",
       "    <tr style=\"text-align: right;\">\n",
       "      <th></th>\n",
       "      <th>Classifiers</th>\n",
       "      <th>Accuracy</th>\n",
       "    </tr>\n",
       "  </thead>\n",
       "  <tbody>\n",
       "    <tr>\n",
       "      <th>0</th>\n",
       "      <td>KNeighborsClassifier</td>\n",
       "      <td>0.801119</td>\n",
       "    </tr>\n",
       "    <tr>\n",
       "      <th>0</th>\n",
       "      <td>SVC</td>\n",
       "      <td>0.780224</td>\n",
       "    </tr>\n",
       "    <tr>\n",
       "      <th>0</th>\n",
       "      <td>DecisionTreeClassifier</td>\n",
       "      <td>0.798881</td>\n",
       "    </tr>\n",
       "    <tr>\n",
       "      <th>0</th>\n",
       "      <td>RandomForestClassifier</td>\n",
       "      <td>0.807836</td>\n",
       "    </tr>\n",
       "    <tr>\n",
       "      <th>0</th>\n",
       "      <td>AdaBoostClassifier</td>\n",
       "      <td>0.792164</td>\n",
       "    </tr>\n",
       "    <tr>\n",
       "      <th>0</th>\n",
       "      <td>GradientBoostingClassifier</td>\n",
       "      <td>0.809701</td>\n",
       "    </tr>\n",
       "    <tr>\n",
       "      <th>0</th>\n",
       "      <td>GaussianNB</td>\n",
       "      <td>0.769403</td>\n",
       "    </tr>\n",
       "    <tr>\n",
       "      <th>0</th>\n",
       "      <td>LinearDiscriminantAnalysis</td>\n",
       "      <td>0.789552</td>\n",
       "    </tr>\n",
       "    <tr>\n",
       "      <th>0</th>\n",
       "      <td>QuadraticDiscriminantAnalysis</td>\n",
       "      <td>0.803731</td>\n",
       "    </tr>\n",
       "    <tr>\n",
       "      <th>0</th>\n",
       "      <td>LogisticRegression</td>\n",
       "      <td>0.791045</td>\n",
       "    </tr>\n",
       "  </tbody>\n",
       "</table>\n",
       "</div>"
      ],
      "text/plain": [
       "                     Classifiers  Accuracy\n",
       "0           KNeighborsClassifier  0.801119\n",
       "0                            SVC  0.780224\n",
       "0         DecisionTreeClassifier  0.798881\n",
       "0         RandomForestClassifier  0.807836\n",
       "0             AdaBoostClassifier  0.792164\n",
       "0     GradientBoostingClassifier  0.809701\n",
       "0                     GaussianNB  0.769403\n",
       "0     LinearDiscriminantAnalysis  0.789552\n",
       "0  QuadraticDiscriminantAnalysis  0.803731\n",
       "0             LogisticRegression  0.791045"
      ]
     },
     "metadata": {},
     "output_type": "display_data"
    },
    {
     "data": {
      "image/png": "[encoded data removed]",
      "text/plain": [
       "<Figure size 432x288 with 1 Axes>"
      ]
     },
     "metadata": {
      "needs_background": "light"
     },
     "output_type": "display_data"
    }
   ],
   "source": [
    "# 함수로 재작성 후 수행\n",
    "main_process(X, y, classifiers)"
   ]
  },
  {
   "cell_type": "markdown",
   "id": "7be504f6",
   "metadata": {
    "_cell_guid": "438585cf-b7ad-73ba-49aa-87688ff21233",
    "papermill": {
     "duration": 0.056176,
     "end_time": "2021-08-07T07:40:15.693999",
     "exception": false,
     "start_time": "2021-08-07T07:40:15.637823",
     "status": "completed"
    },
    "tags": []
   },
   "source": [
    "# Prediction #\n",
    "SVM를 최종 사용해서 학습 및 예측"
   ]
  },
  {
   "cell_type": "code",
   "execution_count": 27,
   "id": "b23dbf66",
   "metadata": {
    "execution": {
     "iopub.execute_input": "2021-08-07T07:40:15.808622Z",
     "iopub.status.busy": "2021-08-07T07:40:15.807579Z",
     "iopub.status.idle": "2021-08-07T07:40:15.851495Z",
     "shell.execute_reply": "2021-08-07T07:40:15.850872Z",
     "shell.execute_reply.started": "2021-08-07T07:26:34.332724Z"
    },
    "papermill": {
     "duration": 0.102069,
     "end_time": "2021-08-07T07:40:15.851654",
     "exception": false,
     "start_time": "2021-08-07T07:40:15.749585",
     "status": "completed"
    },
    "tags": []
   },
   "outputs": [
    {
     "data": {
      "text/html": [
       "<div>\n",
       "<style scoped>\n",
       "    .dataframe tbody tr th:only-of-type {\n",
       "        vertical-align: middle;\n",
       "    }\n",
       "\n",
       "    .dataframe tbody tr th {\n",
       "        vertical-align: top;\n",
       "    }\n",
       "\n",
       "    .dataframe thead th {\n",
       "        text-align: right;\n",
       "    }\n",
       "</style>\n",
       "<table border=\"1\" class=\"dataframe\">\n",
       "  <thead>\n",
       "    <tr style=\"text-align: right;\">\n",
       "      <th></th>\n",
       "      <th>PassengerId</th>\n",
       "      <th>Survived</th>\n",
       "    </tr>\n",
       "  </thead>\n",
       "  <tbody>\n",
       "    <tr>\n",
       "      <th>0</th>\n",
       "      <td>892</td>\n",
       "      <td>0</td>\n",
       "    </tr>\n",
       "    <tr>\n",
       "      <th>1</th>\n",
       "      <td>893</td>\n",
       "      <td>1</td>\n",
       "    </tr>\n",
       "    <tr>\n",
       "      <th>2</th>\n",
       "      <td>894</td>\n",
       "      <td>0</td>\n",
       "    </tr>\n",
       "  </tbody>\n",
       "</table>\n",
       "</div>"
      ],
      "text/plain": [
       "   PassengerId  Survived\n",
       "0          892         0\n",
       "1          893         1\n",
       "2          894         0"
      ]
     },
     "metadata": {},
     "output_type": "display_data"
    }
   ],
   "source": [
    "final_clf = SVC()\n",
    "final_clf.fit(X, y)\n",
    "\n",
    "result = final_clf.predict(test)\n",
    "\n",
    "final_submission = pd.DataFrame(data = {\"PassengerId\": PassengerId, \"Survived\": result})\n",
    "\n",
    "display(final_submission.head(n=3))\n",
    "\n",
    "final_submission.to_csv(target_dir + \"titanic_survival_prediction.csv\")"
   ]
  },
  {
   "cell_type": "code",
   "execution_count": 28,
   "id": "99ec57d3",
   "metadata": {
    "_cell_guid": "24967b57-732b-7180-bfd5-005beff75974",
    "execution": {
     "iopub.execute_input": "2021-08-07T07:40:15.969552Z",
     "iopub.status.busy": "2021-08-07T07:40:15.968799Z",
     "iopub.status.idle": "2021-08-07T07:40:15.985106Z",
     "shell.execute_reply": "2021-08-07T07:40:15.985662Z",
     "shell.execute_reply.started": "2021-08-07T07:28:21.177486Z"
    },
    "papermill": {
     "duration": 0.077919,
     "end_time": "2021-08-07T07:40:15.985859",
     "exception": false,
     "start_time": "2021-08-07T07:40:15.907940",
     "status": "completed"
    },
    "tags": []
   },
   "outputs": [
    {
     "data": {
      "text/html": [
       "<div>\n",
       "<style scoped>\n",
       "    .dataframe tbody tr th:only-of-type {\n",
       "        vertical-align: middle;\n",
       "    }\n",
       "\n",
       "    .dataframe tbody tr th {\n",
       "        vertical-align: top;\n",
       "    }\n",
       "\n",
       "    .dataframe thead th {\n",
       "        text-align: right;\n",
       "    }\n",
       "</style>\n",
       "<table border=\"1\" class=\"dataframe\">\n",
       "  <thead>\n",
       "    <tr style=\"text-align: right;\">\n",
       "      <th></th>\n",
       "      <th>Unnamed: 0</th>\n",
       "      <th>PassengerId</th>\n",
       "      <th>Survived</th>\n",
       "    </tr>\n",
       "  </thead>\n",
       "  <tbody>\n",
       "    <tr>\n",
       "      <th>0</th>\n",
       "      <td>0</td>\n",
       "      <td>892</td>\n",
       "      <td>0</td>\n",
       "    </tr>\n",
       "    <tr>\n",
       "      <th>1</th>\n",
       "      <td>1</td>\n",
       "      <td>893</td>\n",
       "      <td>1</td>\n",
       "    </tr>\n",
       "    <tr>\n",
       "      <th>2</th>\n",
       "      <td>2</td>\n",
       "      <td>894</td>\n",
       "      <td>0</td>\n",
       "    </tr>\n",
       "  </tbody>\n",
       "</table>\n",
       "</div>"
      ],
      "text/plain": [
       "   Unnamed: 0  PassengerId  Survived\n",
       "0           0          892         0\n",
       "1           1          893         1\n",
       "2           2          894         0"
      ]
     },
     "metadata": {},
     "output_type": "display_data"
    },
    {
     "data": {
      "text/html": [
       "<div>\n",
       "<style scoped>\n",
       "    .dataframe tbody tr th:only-of-type {\n",
       "        vertical-align: middle;\n",
       "    }\n",
       "\n",
       "    .dataframe tbody tr th {\n",
       "        vertical-align: top;\n",
       "    }\n",
       "\n",
       "    .dataframe thead th {\n",
       "        text-align: right;\n",
       "    }\n",
       "</style>\n",
       "<table border=\"1\" class=\"dataframe\">\n",
       "  <thead>\n",
       "    <tr style=\"text-align: right;\">\n",
       "      <th></th>\n",
       "      <th>Unnamed: 0</th>\n",
       "      <th>PassengerId</th>\n",
       "      <th>Survived</th>\n",
       "    </tr>\n",
       "  </thead>\n",
       "  <tbody>\n",
       "    <tr>\n",
       "      <th>415</th>\n",
       "      <td>415</td>\n",
       "      <td>1307</td>\n",
       "      <td>0</td>\n",
       "    </tr>\n",
       "    <tr>\n",
       "      <th>416</th>\n",
       "      <td>416</td>\n",
       "      <td>1308</td>\n",
       "      <td>0</td>\n",
       "    </tr>\n",
       "    <tr>\n",
       "      <th>417</th>\n",
       "      <td>417</td>\n",
       "      <td>1309</td>\n",
       "      <td>0</td>\n",
       "    </tr>\n",
       "  </tbody>\n",
       "</table>\n",
       "</div>"
      ],
      "text/plain": [
       "     Unnamed: 0  PassengerId  Survived\n",
       "415         415         1307         0\n",
       "416         416         1308         0\n",
       "417         417         1309         0"
      ]
     },
     "metadata": {},
     "output_type": "display_data"
    }
   ],
   "source": [
    "survivor_prediction = pd.read_csv(target_dir + \"titanic_survival_prediction.csv\")\n",
    "display(survivor_prediction.head(n=3))\n",
    "display(survivor_prediction.tail(n=3))"
   ]
  }
 ],
 "metadata": {
  "kernelspec": {
   "display_name": "Python 3",
   "language": "python",
   "name": "python3"
  },
  "language_info": {
   "codemirror_mode": {
    "name": "ipython",
    "version": 3
   },
   "file_extension": ".py",
   "mimetype": "text/x-python",
   "name": "python",
   "nbconvert_exporter": "python",
   "pygments_lexer": "ipython3",
   "version": "3.7.10"
  },
  "papermill": {
   "default_parameters": {},
   "duration": 28.933182,
   "end_time": "2021-08-07T07:40:17.664098",
   "environment_variables": {},
   "exception": null,
   "input_path": "__notebook__.ipynb",
   "output_path": "__notebook__.ipynb",
   "parameters": {},
   "start_time": "2021-08-07T07:39:48.730916",
   "version": "2.3.3"
  }
 },
 "nbformat": 4,
 "nbformat_minor": 5
}
