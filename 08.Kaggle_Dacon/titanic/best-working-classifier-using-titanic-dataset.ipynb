{
 "cells": [
  {
   "cell_type": "markdown",
   "id": "35011f5c",
   "metadata": {
    "_cell_guid": "25b1e1db-8bc5-7029-f719-91da523bd121",
    "execution": {
     "iopub.execute_input": "2021-08-06T02:36:37.955612Z",
     "iopub.status.busy": "2021-08-06T02:36:37.955101Z",
     "iopub.status.idle": "2021-08-06T02:36:37.969695Z",
     "shell.execute_reply": "2021-08-06T02:36:37.968663Z",
     "shell.execute_reply.started": "2021-08-06T02:36:37.955491Z"
    },
    "papermill": {
     "duration": 0.041671,
     "end_time": "2021-08-20T13:04:07.078462",
     "exception": false,
     "start_time": "2021-08-20T13:04:07.036791",
     "status": "completed"
    },
    "tags": []
   },
   "source": [
    "## 소개 ##\n",
    "\n",
    "머신러닝을 연구하기 위해 진행하는 캐글 필사 프로젝트로 이 케글의 영감은 아래 글로부터 얻었습니다.\n",
    "\n",
    "R을 빅데이터 분석 강의를 들을때 이후에는 만지지 않았는데 시간이 된다면 R로도 해보면 괜찮을 것 같습니다.\n",
    "\n",
    "판다스의 기능 대부분이 R로부터 나온것이고 , RDBMS에서 제공하는 모든 쿼리문의 기능도 다 R에서 지원된다고 보면 됩니다.\n",
    "\n",
    "[\"Exploring Survival on Titanic\" by Megan Risdal, a Kernel in R on Kaggle][1]\n",
    "\n",
    "I am going to try the following code on R tool as far as I could.\n",
    "\n",
    "  [1]: https://www.kaggle.com/mrisdal/titanic/exploring-survival-on-the-titanic"
   ]
  },
  {
   "cell_type": "markdown",
   "id": "6de3cd3c",
   "metadata": {
    "papermill": {
     "duration": 0.041665,
     "end_time": "2021-08-20T13:04:07.162623",
     "exception": false,
     "start_time": "2021-08-20T13:04:07.120958",
     "status": "completed"
    },
    "tags": []
   },
   "source": [
    "## 변수 설명 ##\n",
    "\n",
    "* Survived: 생존 여부 => 0 = No, 1 = Yes\n",
    "* pclass: 티켓 등급 => 1 = 1st, 2 = 2nd, 3 = 3rd\n",
    "* Sex: 성별\n",
    "* Age: 나이\n",
    "* SibSp: 함께 탑승한 형제자매(Siblings), 배우자의 수(Spouse)\n",
    "* Parch: 함께 탑승한 부모(Parents), 자식의 수(Children)\n",
    "* Ticket: 티켓 번호\n",
    "* Fare: 운임\n",
    "* Cabin: 객실 번호\n",
    "* Embarked: 탑승 항구 => C = Cherbourg, Q = Queenstown, S = Southampton"
   ]
  },
  {
   "cell_type": "code",
   "execution_count": 1,
   "id": "077367ef",
   "metadata": {
    "execution": {
     "iopub.execute_input": "2021-08-20T13:04:07.250609Z",
     "iopub.status.busy": "2021-08-20T13:04:07.249297Z",
     "iopub.status.idle": "2021-08-20T13:04:07.270776Z",
     "shell.execute_reply": "2021-08-20T13:04:07.271881Z",
     "shell.execute_reply.started": "2021-08-20T12:52:49.717873Z"
    },
    "papermill": {
     "duration": 0.068811,
     "end_time": "2021-08-20T13:04:07.272433",
     "exception": false,
     "start_time": "2021-08-20T13:04:07.203622",
     "status": "completed"
    },
    "tags": []
   },
   "outputs": [
    {
     "name": "stdout",
     "output_type": "stream",
     "text": [
      "/kaggle/input/titanic-machine-learning-from-disaster\n"
     ]
    }
   ],
   "source": [
    "import numpy as np\n",
    "import pandas as pd\n",
    "import re as re\n",
    "%matplotlib inline\n",
    "\n",
    "# targert dir for submission file\n",
    "target_dir = '/kaggle/working/'\n",
    "%cd ../input/titanic-machine-learning-from-disaster/"
   ]
  },
  {
   "cell_type": "markdown",
   "id": "d055ce4d",
   "metadata": {
    "papermill": {
     "duration": 0.040244,
     "end_time": "2021-08-20T13:04:07.357651",
     "exception": false,
     "start_time": "2021-08-20T13:04:07.317407",
     "status": "completed"
    },
    "tags": []
   },
   "source": [
    "**Read Evaluate Print Loop**"
   ]
  },
  {
   "cell_type": "code",
   "execution_count": 2,
   "id": "5f46df66",
   "metadata": {
    "execution": {
     "iopub.execute_input": "2021-08-20T13:04:07.444702Z",
     "iopub.status.busy": "2021-08-20T13:04:07.443934Z",
     "iopub.status.idle": "2021-08-20T13:04:07.632263Z",
     "shell.execute_reply": "2021-08-20T13:04:07.631589Z",
     "shell.execute_reply.started": "2021-08-20T12:52:49.733615Z"
    },
    "papermill": {
     "duration": 0.234537,
     "end_time": "2021-08-20T13:04:07.632435",
     "exception": false,
     "start_time": "2021-08-20T13:04:07.397898",
     "status": "completed"
    },
    "tags": []
   },
   "outputs": [],
   "source": [
    "train = pd.read_csv(\"train.csv\", header=0, dtype={\"Age\": np.float64})\n",
    "test  = pd.read_csv(\"test.csv\", header=0, dtype={\"Age\": np.float64})\n",
    "full_data = [train, test]\n",
    "PassengerId = test[\"PassengerId\"]"
   ]
  },
  {
   "cell_type": "markdown",
   "id": "5b7b8009",
   "metadata": {
    "papermill": {
     "duration": 0.043629,
     "end_time": "2021-08-20T13:04:07.719005",
     "exception": false,
     "start_time": "2021-08-20T13:04:07.675376",
     "status": "completed"
    },
    "tags": []
   },
   "source": [
    "**함수**"
   ]
  },
  {
   "cell_type": "code",
   "execution_count": 3,
   "id": "e55f8f05",
   "metadata": {
    "execution": {
     "iopub.execute_input": "2021-08-20T13:04:07.812800Z",
     "iopub.status.busy": "2021-08-20T13:04:07.811346Z",
     "iopub.status.idle": "2021-08-20T13:04:07.854827Z",
     "shell.execute_reply": "2021-08-20T13:04:07.854108Z",
     "shell.execute_reply.started": "2021-08-20T12:52:49.761757Z"
    },
    "papermill": {
     "duration": 0.093682,
     "end_time": "2021-08-20T13:04:07.855002",
     "exception": false,
     "start_time": "2021-08-20T13:04:07.761320",
     "status": "completed"
    },
    "tags": []
   },
   "outputs": [
    {
     "name": "stdout",
     "output_type": "stream",
     "text": [
      "<class 'pandas.core.frame.DataFrame'>\n",
      "RangeIndex: 891 entries, 0 to 890\n",
      "Data columns (total 12 columns):\n",
      " #   Column       Non-Null Count  Dtype  \n",
      "---  ------       --------------  -----  \n",
      " 0   PassengerId  891 non-null    int64  \n",
      " 1   Survived     891 non-null    int64  \n",
      " 2   Pclass       891 non-null    int64  \n",
      " 3   Name         891 non-null    object \n",
      " 4   Sex          891 non-null    object \n",
      " 5   Age          714 non-null    float64\n",
      " 6   SibSp        891 non-null    int64  \n",
      " 7   Parch        891 non-null    int64  \n",
      " 8   Ticket       891 non-null    object \n",
      " 9   Fare         891 non-null    float64\n",
      " 10  Cabin        204 non-null    object \n",
      " 11  Embarked     889 non-null    object \n",
      "dtypes: float64(2), int64(5), object(5)\n",
      "memory usage: 83.7+ KB\n"
     ]
    },
    {
     "data": {
      "text/plain": [
       "None"
      ]
     },
     "metadata": {},
     "output_type": "display_data"
    }
   ],
   "source": [
    "def load_dataset():\n",
    "    \"\"\"\n",
    "    Load Dataset\n",
    "    \"\"\"\n",
    "    train = pd.read_csv(\"train.csv\", header=0, dtype={\"Age\": np.float64})\n",
    "    test  = pd.read_csv(\"test.csv\", header = 0,dtype={\"Age\": np.float64})\n",
    "    \n",
    "    full_data = [train, test]\n",
    "    PassengerId = test[\"PassengerId\"]\n",
    "    display(train.info())\n",
    "    return train, test, full_data, PassengerId\n",
    "\n",
    "# revoked load_dataset()\n",
    "train, test, full_data, PassengerId = load_dataset()"
   ]
  },
  {
   "cell_type": "markdown",
   "id": "085522ff",
   "metadata": {
    "_cell_guid": "f9595646-65c9-6fc4-395f-0befc4d122ce",
    "papermill": {
     "duration": 0.041666,
     "end_time": "2021-08-20T13:04:07.938055",
     "exception": false,
     "start_time": "2021-08-20T13:04:07.896389",
     "status": "completed"
    },
    "tags": []
   },
   "source": [
    "# 피처 엔지니어링 #"
   ]
  },
  {
   "cell_type": "markdown",
   "id": "ff8b8071",
   "metadata": {
    "papermill": {
     "duration": 0.041349,
     "end_time": "2021-08-20T13:04:08.022745",
     "exception": false,
     "start_time": "2021-08-20T13:04:07.981396",
     "status": "completed"
    },
    "tags": []
   },
   "source": [
    "* 객실등급별 생존률"
   ]
  },
  {
   "cell_type": "code",
   "execution_count": 4,
   "id": "4497c890",
   "metadata": {
    "execution": {
     "iopub.execute_input": "2021-08-20T13:04:08.120652Z",
     "iopub.status.busy": "2021-08-20T13:04:08.119868Z",
     "iopub.status.idle": "2021-08-20T13:04:08.133657Z",
     "shell.execute_reply": "2021-08-20T13:04:08.132957Z",
     "shell.execute_reply.started": "2021-08-20T12:52:49.792991Z"
    },
    "papermill": {
     "duration": 0.069108,
     "end_time": "2021-08-20T13:04:08.133816",
     "exception": false,
     "start_time": "2021-08-20T13:04:08.064708",
     "status": "completed"
    },
    "tags": []
   },
   "outputs": [
    {
     "data": {
      "text/html": [
       "<div>\n",
       "<style scoped>\n",
       "    .dataframe tbody tr th:only-of-type {\n",
       "        vertical-align: middle;\n",
       "    }\n",
       "\n",
       "    .dataframe tbody tr th {\n",
       "        vertical-align: top;\n",
       "    }\n",
       "\n",
       "    .dataframe thead th {\n",
       "        text-align: right;\n",
       "    }\n",
       "</style>\n",
       "<table border=\"1\" class=\"dataframe\">\n",
       "  <thead>\n",
       "    <tr style=\"text-align: right;\">\n",
       "      <th></th>\n",
       "      <th>Pclass</th>\n",
       "      <th>Survived</th>\n",
       "    </tr>\n",
       "  </thead>\n",
       "  <tbody>\n",
       "    <tr>\n",
       "      <th>0</th>\n",
       "      <td>1</td>\n",
       "      <td>0.629630</td>\n",
       "    </tr>\n",
       "    <tr>\n",
       "      <th>1</th>\n",
       "      <td>2</td>\n",
       "      <td>0.472826</td>\n",
       "    </tr>\n",
       "    <tr>\n",
       "      <th>2</th>\n",
       "      <td>3</td>\n",
       "      <td>0.242363</td>\n",
       "    </tr>\n",
       "  </tbody>\n",
       "</table>\n",
       "</div>"
      ],
      "text/plain": [
       "   Pclass  Survived\n",
       "0       1  0.629630\n",
       "1       2  0.472826\n",
       "2       3  0.242363"
      ]
     },
     "execution_count": 4,
     "metadata": {},
     "output_type": "execute_result"
    }
   ],
   "source": [
    "train[[\"Pclass\", \"Survived\"]].groupby(\"Pclass\", as_index=False).mean()"
   ]
  },
  {
   "cell_type": "code",
   "execution_count": 5,
   "id": "61429329",
   "metadata": {
    "execution": {
     "iopub.execute_input": "2021-08-20T13:04:08.227350Z",
     "iopub.status.busy": "2021-08-20T13:04:08.226538Z",
     "iopub.status.idle": "2021-08-20T13:04:08.229500Z",
     "shell.execute_reply": "2021-08-20T13:04:08.230067Z",
     "shell.execute_reply.started": "2021-08-20T12:52:49.809411Z"
    },
    "papermill": {
     "duration": 0.053352,
     "end_time": "2021-08-20T13:04:08.230290",
     "exception": false,
     "start_time": "2021-08-20T13:04:08.176938",
     "status": "completed"
    },
    "tags": []
   },
   "outputs": [],
   "source": [
    "def get_suvival_ratio(df, selectList:None, groupbyCol:None):\n",
    "    \"\"\"\n",
    "    집계 피처에 대해서 생존률을 리턴\n",
    "    \"\"\"\n",
    "    display(df[selectList].groupby([groupbyCol], as_index=False).mean())"
   ]
  },
  {
   "cell_type": "markdown",
   "id": "6f932046",
   "metadata": {
    "_cell_guid": "9b4c278b-aaca-e92c-ba77-b9b48379d1f1",
    "papermill": {
     "duration": 0.043708,
     "end_time": "2021-08-20T13:04:08.316936",
     "exception": false,
     "start_time": "2021-08-20T13:04:08.273228",
     "status": "completed"
    },
    "tags": []
   },
   "source": [
    "## 1. Pclass ##\n",
    "널값이 존재하지 않으며,숫자형 타입"
   ]
  },
  {
   "cell_type": "code",
   "execution_count": 6,
   "id": "c89cc3bb",
   "metadata": {
    "execution": {
     "iopub.execute_input": "2021-08-20T13:04:08.417412Z",
     "iopub.status.busy": "2021-08-20T13:04:08.416407Z",
     "iopub.status.idle": "2021-08-20T13:04:08.421811Z",
     "shell.execute_reply": "2021-08-20T13:04:08.421269Z",
     "shell.execute_reply.started": "2021-08-20T12:52:49.821675Z"
    },
    "papermill": {
     "duration": 0.06295,
     "end_time": "2021-08-20T13:04:08.422005",
     "exception": false,
     "start_time": "2021-08-20T13:04:08.359055",
     "status": "completed"
    },
    "tags": []
   },
   "outputs": [
    {
     "data": {
      "text/html": [
       "<div>\n",
       "<style scoped>\n",
       "    .dataframe tbody tr th:only-of-type {\n",
       "        vertical-align: middle;\n",
       "    }\n",
       "\n",
       "    .dataframe tbody tr th {\n",
       "        vertical-align: top;\n",
       "    }\n",
       "\n",
       "    .dataframe thead th {\n",
       "        text-align: right;\n",
       "    }\n",
       "</style>\n",
       "<table border=\"1\" class=\"dataframe\">\n",
       "  <thead>\n",
       "    <tr style=\"text-align: right;\">\n",
       "      <th></th>\n",
       "      <th>Pclass</th>\n",
       "      <th>Survived</th>\n",
       "    </tr>\n",
       "  </thead>\n",
       "  <tbody>\n",
       "    <tr>\n",
       "      <th>0</th>\n",
       "      <td>1</td>\n",
       "      <td>0.629630</td>\n",
       "    </tr>\n",
       "    <tr>\n",
       "      <th>1</th>\n",
       "      <td>2</td>\n",
       "      <td>0.472826</td>\n",
       "    </tr>\n",
       "    <tr>\n",
       "      <th>2</th>\n",
       "      <td>3</td>\n",
       "      <td>0.242363</td>\n",
       "    </tr>\n",
       "  </tbody>\n",
       "</table>\n",
       "</div>"
      ],
      "text/plain": [
       "   Pclass  Survived\n",
       "0       1  0.629630\n",
       "1       2  0.472826\n",
       "2       3  0.242363"
      ]
     },
     "metadata": {},
     "output_type": "display_data"
    }
   ],
   "source": [
    "get_suvival_ratio(train, [\"Pclass\",\"Survived\"], \"Pclass\")"
   ]
  },
  {
   "cell_type": "markdown",
   "id": "7b0df9a1",
   "metadata": {
    "_cell_guid": "5e70f81c-d4e2-1823-f0ba-a7c9b46984ff",
    "papermill": {
     "duration": 0.044825,
     "end_time": "2021-08-20T13:04:08.511329",
     "exception": false,
     "start_time": "2021-08-20T13:04:08.466504",
     "status": "completed"
    },
    "tags": []
   },
   "source": [
    "## 2. Sex ##"
   ]
  },
  {
   "cell_type": "code",
   "execution_count": 7,
   "id": "1d7aff9a",
   "metadata": {
    "_cell_guid": "6729681d-7915-1631-78d2-ddf3c35a424c",
    "execution": {
     "iopub.execute_input": "2021-08-20T13:04:08.612490Z",
     "iopub.status.busy": "2021-08-20T13:04:08.611660Z",
     "iopub.status.idle": "2021-08-20T13:04:08.622796Z",
     "shell.execute_reply": "2021-08-20T13:04:08.623330Z",
     "shell.execute_reply.started": "2021-08-20T12:52:49.843242Z"
    },
    "papermill": {
     "duration": 0.066379,
     "end_time": "2021-08-20T13:04:08.623564",
     "exception": false,
     "start_time": "2021-08-20T13:04:08.557185",
     "status": "completed"
    },
    "tags": []
   },
   "outputs": [
    {
     "data": {
      "text/html": [
       "<div>\n",
       "<style scoped>\n",
       "    .dataframe tbody tr th:only-of-type {\n",
       "        vertical-align: middle;\n",
       "    }\n",
       "\n",
       "    .dataframe tbody tr th {\n",
       "        vertical-align: top;\n",
       "    }\n",
       "\n",
       "    .dataframe thead th {\n",
       "        text-align: right;\n",
       "    }\n",
       "</style>\n",
       "<table border=\"1\" class=\"dataframe\">\n",
       "  <thead>\n",
       "    <tr style=\"text-align: right;\">\n",
       "      <th></th>\n",
       "      <th>Sex</th>\n",
       "      <th>Survived</th>\n",
       "    </tr>\n",
       "  </thead>\n",
       "  <tbody>\n",
       "    <tr>\n",
       "      <th>0</th>\n",
       "      <td>female</td>\n",
       "      <td>0.742038</td>\n",
       "    </tr>\n",
       "    <tr>\n",
       "      <th>1</th>\n",
       "      <td>male</td>\n",
       "      <td>0.188908</td>\n",
       "    </tr>\n",
       "  </tbody>\n",
       "</table>\n",
       "</div>"
      ],
      "text/plain": [
       "      Sex  Survived\n",
       "0  female  0.742038\n",
       "1    male  0.188908"
      ]
     },
     "metadata": {},
     "output_type": "display_data"
    }
   ],
   "source": [
    "#display(train[[\"Sex\", \"Survived\"]].groupby([\"Sex\"]).mean())\n",
    "get_suvival_ratio(train, [\"Sex\", \"Survived\"], \"Sex\")"
   ]
  },
  {
   "cell_type": "markdown",
   "id": "333e1f8c",
   "metadata": {
    "_cell_guid": "7c58b7ee-d6a1-0cc9-2346-81c47846a54a",
    "papermill": {
     "duration": 0.042007,
     "end_time": "2021-08-20T13:04:08.708550",
     "exception": false,
     "start_time": "2021-08-20T13:04:08.666543",
     "status": "completed"
    },
    "tags": []
   },
   "source": [
    "## 3. SibSp and Parch ##\n",
    "SibSp - 자손 및 배우자, Parch - 아이들/부모님 - 이 두 피처를 이용해 가족의 규모를 유추해볼 수 있는 FamilySize피처를 생성"
   ]
  },
  {
   "cell_type": "code",
   "execution_count": 8,
   "id": "56e4ca62",
   "metadata": {
    "execution": {
     "iopub.execute_input": "2021-08-20T13:04:08.796654Z",
     "iopub.status.busy": "2021-08-20T13:04:08.795895Z",
     "iopub.status.idle": "2021-08-20T13:04:08.843001Z",
     "shell.execute_reply": "2021-08-20T13:04:08.843523Z",
     "shell.execute_reply.started": "2021-08-20T12:52:49.867728Z"
    },
    "papermill": {
     "duration": 0.093212,
     "end_time": "2021-08-20T13:04:08.843756",
     "exception": false,
     "start_time": "2021-08-20T13:04:08.750544",
     "status": "completed"
    },
    "tags": []
   },
   "outputs": [
    {
     "data": {
      "text/html": [
       "<div>\n",
       "<style scoped>\n",
       "    .dataframe tbody tr th:only-of-type {\n",
       "        vertical-align: middle;\n",
       "    }\n",
       "\n",
       "    .dataframe tbody tr th {\n",
       "        vertical-align: top;\n",
       "    }\n",
       "\n",
       "    .dataframe thead th {\n",
       "        text-align: right;\n",
       "    }\n",
       "</style>\n",
       "<table border=\"1\" class=\"dataframe\">\n",
       "  <thead>\n",
       "    <tr style=\"text-align: right;\">\n",
       "      <th></th>\n",
       "      <th>FamilySize</th>\n",
       "      <th>Survived</th>\n",
       "    </tr>\n",
       "  </thead>\n",
       "  <tbody>\n",
       "    <tr>\n",
       "      <th>0</th>\n",
       "      <td>1</td>\n",
       "      <td>0.303538</td>\n",
       "    </tr>\n",
       "    <tr>\n",
       "      <th>1</th>\n",
       "      <td>2</td>\n",
       "      <td>0.552795</td>\n",
       "    </tr>\n",
       "    <tr>\n",
       "      <th>2</th>\n",
       "      <td>3</td>\n",
       "      <td>0.578431</td>\n",
       "    </tr>\n",
       "    <tr>\n",
       "      <th>3</th>\n",
       "      <td>4</td>\n",
       "      <td>0.724138</td>\n",
       "    </tr>\n",
       "    <tr>\n",
       "      <th>4</th>\n",
       "      <td>5</td>\n",
       "      <td>0.200000</td>\n",
       "    </tr>\n",
       "    <tr>\n",
       "      <th>5</th>\n",
       "      <td>6</td>\n",
       "      <td>0.136364</td>\n",
       "    </tr>\n",
       "    <tr>\n",
       "      <th>6</th>\n",
       "      <td>7</td>\n",
       "      <td>0.333333</td>\n",
       "    </tr>\n",
       "    <tr>\n",
       "      <th>7</th>\n",
       "      <td>8</td>\n",
       "      <td>0.000000</td>\n",
       "    </tr>\n",
       "    <tr>\n",
       "      <th>8</th>\n",
       "      <td>11</td>\n",
       "      <td>0.000000</td>\n",
       "    </tr>\n",
       "  </tbody>\n",
       "</table>\n",
       "</div>"
      ],
      "text/plain": [
       "   FamilySize  Survived\n",
       "0           1  0.303538\n",
       "1           2  0.552795\n",
       "2           3  0.578431\n",
       "3           4  0.724138\n",
       "4           5  0.200000\n",
       "5           6  0.136364\n",
       "6           7  0.333333\n",
       "7           8  0.000000\n",
       "8          11  0.000000"
      ]
     },
     "metadata": {},
     "output_type": "display_data"
    }
   ],
   "source": [
    "for dataset in full_data:\n",
    "    dataset[\"FamilySize\"] = dataset[\"SibSp\"] + dataset[\"Parch\"] + 1\n",
    "    \n",
    "get_suvival_ratio(train, [\"FamilySize\", \"Survived\"], \"FamilySize\")"
   ]
  },
  {
   "cell_type": "code",
   "execution_count": 9,
   "id": "ac913e77",
   "metadata": {
    "execution": {
     "iopub.execute_input": "2021-08-20T13:04:08.933527Z",
     "iopub.status.busy": "2021-08-20T13:04:08.932794Z",
     "iopub.status.idle": "2021-08-20T13:04:08.950452Z",
     "shell.execute_reply": "2021-08-20T13:04:08.950980Z",
     "shell.execute_reply.started": "2021-08-20T12:52:49.894315Z"
    },
    "papermill": {
     "duration": 0.064402,
     "end_time": "2021-08-20T13:04:08.951233",
     "exception": false,
     "start_time": "2021-08-20T13:04:08.886831",
     "status": "completed"
    },
    "tags": []
   },
   "outputs": [
    {
     "data": {
      "text/html": [
       "<div>\n",
       "<style scoped>\n",
       "    .dataframe tbody tr th:only-of-type {\n",
       "        vertical-align: middle;\n",
       "    }\n",
       "\n",
       "    .dataframe tbody tr th {\n",
       "        vertical-align: top;\n",
       "    }\n",
       "\n",
       "    .dataframe thead th {\n",
       "        text-align: right;\n",
       "    }\n",
       "</style>\n",
       "<table border=\"1\" class=\"dataframe\">\n",
       "  <thead>\n",
       "    <tr style=\"text-align: right;\">\n",
       "      <th></th>\n",
       "      <th>FamilySize</th>\n",
       "      <th>Survived</th>\n",
       "    </tr>\n",
       "  </thead>\n",
       "  <tbody>\n",
       "    <tr>\n",
       "      <th>0</th>\n",
       "      <td>1</td>\n",
       "      <td>0.303538</td>\n",
       "    </tr>\n",
       "    <tr>\n",
       "      <th>1</th>\n",
       "      <td>2</td>\n",
       "      <td>0.552795</td>\n",
       "    </tr>\n",
       "    <tr>\n",
       "      <th>2</th>\n",
       "      <td>3</td>\n",
       "      <td>0.578431</td>\n",
       "    </tr>\n",
       "    <tr>\n",
       "      <th>3</th>\n",
       "      <td>4</td>\n",
       "      <td>0.724138</td>\n",
       "    </tr>\n",
       "    <tr>\n",
       "      <th>4</th>\n",
       "      <td>5</td>\n",
       "      <td>0.200000</td>\n",
       "    </tr>\n",
       "    <tr>\n",
       "      <th>5</th>\n",
       "      <td>6</td>\n",
       "      <td>0.136364</td>\n",
       "    </tr>\n",
       "    <tr>\n",
       "      <th>6</th>\n",
       "      <td>7</td>\n",
       "      <td>0.333333</td>\n",
       "    </tr>\n",
       "    <tr>\n",
       "      <th>7</th>\n",
       "      <td>8</td>\n",
       "      <td>0.000000</td>\n",
       "    </tr>\n",
       "    <tr>\n",
       "      <th>8</th>\n",
       "      <td>11</td>\n",
       "      <td>0.000000</td>\n",
       "    </tr>\n",
       "  </tbody>\n",
       "</table>\n",
       "</div>"
      ],
      "text/plain": [
       "   FamilySize  Survived\n",
       "0           1  0.303538\n",
       "1           2  0.552795\n",
       "2           3  0.578431\n",
       "3           4  0.724138\n",
       "4           5  0.200000\n",
       "5           6  0.136364\n",
       "6           7  0.333333\n",
       "7           8  0.000000\n",
       "8          11  0.000000"
      ]
     },
     "metadata": {},
     "output_type": "display_data"
    }
   ],
   "source": [
    "for dataset in full_data:\n",
    "    dataset[\"FamilySize\"] = dataset[\"SibSp\"] + dataset[\"Parch\"] + 1\n",
    "    \n",
    "get_suvival_ratio(train, [\"FamilySize\", \"Survived\"], \"FamilySize\")"
   ]
  },
  {
   "cell_type": "markdown",
   "id": "24dcc62d",
   "metadata": {
    "_cell_guid": "e4861d3e-10db-1a23-8728-44e4d5251844",
    "papermill": {
     "duration": 0.047173,
     "end_time": "2021-08-20T13:04:09.045699",
     "exception": false,
     "start_time": "2021-08-20T13:04:08.998526",
     "status": "completed"
    },
    "tags": []
   },
   "source": [
    "가족의 규모가 클수록 생존률이 떨어짐을 알 수 있다.\n",
    "\n",
    "It seems that the family size feature has a meaningful effect on the survival ratio."
   ]
  },
  {
   "cell_type": "markdown",
   "id": "67293f79",
   "metadata": {
    "papermill": {
     "duration": 0.043502,
     "end_time": "2021-08-20T13:04:09.137567",
     "exception": false,
     "start_time": "2021-08-20T13:04:09.094065",
     "status": "completed"
    },
    "tags": []
   },
   "source": [
    "* 동반승객여부 피처 생성 - IsAlone"
   ]
  },
  {
   "cell_type": "code",
   "execution_count": 10,
   "id": "9e977787",
   "metadata": {
    "execution": {
     "iopub.execute_input": "2021-08-20T13:04:09.233794Z",
     "iopub.status.busy": "2021-08-20T13:04:09.232871Z",
     "iopub.status.idle": "2021-08-20T13:04:09.253005Z",
     "shell.execute_reply": "2021-08-20T13:04:09.252267Z",
     "shell.execute_reply.started": "2021-08-20T12:52:49.919531Z"
    },
    "papermill": {
     "duration": 0.06959,
     "end_time": "2021-08-20T13:04:09.253197",
     "exception": false,
     "start_time": "2021-08-20T13:04:09.183607",
     "status": "completed"
    },
    "tags": []
   },
   "outputs": [
    {
     "data": {
      "text/html": [
       "<div>\n",
       "<style scoped>\n",
       "    .dataframe tbody tr th:only-of-type {\n",
       "        vertical-align: middle;\n",
       "    }\n",
       "\n",
       "    .dataframe tbody tr th {\n",
       "        vertical-align: top;\n",
       "    }\n",
       "\n",
       "    .dataframe thead th {\n",
       "        text-align: right;\n",
       "    }\n",
       "</style>\n",
       "<table border=\"1\" class=\"dataframe\">\n",
       "  <thead>\n",
       "    <tr style=\"text-align: right;\">\n",
       "      <th></th>\n",
       "      <th>IsAlone</th>\n",
       "      <th>Survived</th>\n",
       "    </tr>\n",
       "  </thead>\n",
       "  <tbody>\n",
       "    <tr>\n",
       "      <th>0</th>\n",
       "      <td>0</td>\n",
       "      <td>0.505650</td>\n",
       "    </tr>\n",
       "    <tr>\n",
       "      <th>1</th>\n",
       "      <td>1</td>\n",
       "      <td>0.303538</td>\n",
       "    </tr>\n",
       "  </tbody>\n",
       "</table>\n",
       "</div>"
      ],
      "text/plain": [
       "   IsAlone  Survived\n",
       "0        0  0.505650\n",
       "1        1  0.303538"
      ]
     },
     "metadata": {},
     "output_type": "display_data"
    }
   ],
   "source": [
    "for dataset in full_data:\n",
    "    dataset[\"IsAlone\"] = 0\n",
    "    dataset.loc[dataset[\"FamilySize\"]==1, \"IsAlone\"] = 1\n",
    "    \n",
    "# 동승여부에 따른 생존률\n",
    "get_suvival_ratio(train, [\"IsAlone\", \"Survived\"], \"IsAlone\")"
   ]
  },
  {
   "cell_type": "markdown",
   "id": "04caedf2",
   "metadata": {
    "_cell_guid": "2780ca4e-7923-b845-0b6b-5f68a45f6b93",
    "papermill": {
     "duration": 0.046553,
     "end_time": "2021-08-20T13:04:09.344707",
     "exception": false,
     "start_time": "2021-08-20T13:04:09.298154",
     "status": "completed"
    },
    "tags": []
   },
   "source": [
    "**IsAlone - 0(동행승객이 없는 경우) - 생존률이 그렇지 않은 경우보다 낮다.(의미있는 결과)**"
   ]
  },
  {
   "cell_type": "markdown",
   "id": "a5fef4c1",
   "metadata": {
    "_cell_guid": "8aa419c0-6614-7efc-7797-97f4a5158b19",
    "papermill": {
     "duration": 0.044882,
     "end_time": "2021-08-20T13:04:09.438584",
     "exception": false,
     "start_time": "2021-08-20T13:04:09.393702",
     "status": "completed"
    },
    "tags": []
   },
   "source": [
    "## 4. Embarked ##"
   ]
  },
  {
   "cell_type": "code",
   "execution_count": 11,
   "id": "55532ae8",
   "metadata": {
    "execution": {
     "iopub.execute_input": "2021-08-20T13:04:09.543596Z",
     "iopub.status.busy": "2021-08-20T13:04:09.542742Z",
     "iopub.status.idle": "2021-08-20T13:04:09.553735Z",
     "shell.execute_reply": "2021-08-20T13:04:09.554314Z",
     "shell.execute_reply.started": "2021-08-20T12:52:49.940646Z"
    },
    "papermill": {
     "duration": 0.067188,
     "end_time": "2021-08-20T13:04:09.554534",
     "exception": false,
     "start_time": "2021-08-20T13:04:09.487346",
     "status": "completed"
    },
    "tags": []
   },
   "outputs": [
    {
     "data": {
      "text/plain": [
       "S    644\n",
       "C    168\n",
       "Q     77\n",
       "Name: Embarked, dtype: int64"
      ]
     },
     "metadata": {},
     "output_type": "display_data"
    },
    {
     "data": {
      "text/plain": [
       "2"
      ]
     },
     "metadata": {},
     "output_type": "display_data"
    },
    {
     "data": {
      "text/plain": [
       "S    0.722783\n",
       "C    0.188552\n",
       "Q    0.086420\n",
       "Name: Embarked, dtype: float64"
      ]
     },
     "metadata": {},
     "output_type": "display_data"
    }
   ],
   "source": [
    "display(train[\"Embarked\"].value_counts())  # 72퍼센트 가까운 승객이 사우스햄튼발 승객\n",
    "display(train[\"Embarked\"].isnull().sum())\n",
    "\n",
    "display(train[\"Embarked\"].value_counts() / train.shape[0])"
   ]
  },
  {
   "cell_type": "code",
   "execution_count": 12,
   "id": "987917ca",
   "metadata": {
    "execution": {
     "iopub.execute_input": "2021-08-20T13:04:09.651108Z",
     "iopub.status.busy": "2021-08-20T13:04:09.650319Z",
     "iopub.status.idle": "2021-08-20T13:04:09.668142Z",
     "shell.execute_reply": "2021-08-20T13:04:09.668630Z",
     "shell.execute_reply.started": "2021-08-20T12:52:49.958005Z"
    },
    "papermill": {
     "duration": 0.067971,
     "end_time": "2021-08-20T13:04:09.668859",
     "exception": false,
     "start_time": "2021-08-20T13:04:09.600888",
     "status": "completed"
    },
    "tags": []
   },
   "outputs": [
    {
     "data": {
      "text/html": [
       "<div>\n",
       "<style scoped>\n",
       "    .dataframe tbody tr th:only-of-type {\n",
       "        vertical-align: middle;\n",
       "    }\n",
       "\n",
       "    .dataframe tbody tr th {\n",
       "        vertical-align: top;\n",
       "    }\n",
       "\n",
       "    .dataframe thead th {\n",
       "        text-align: right;\n",
       "    }\n",
       "</style>\n",
       "<table border=\"1\" class=\"dataframe\">\n",
       "  <thead>\n",
       "    <tr style=\"text-align: right;\">\n",
       "      <th></th>\n",
       "      <th>Embarked</th>\n",
       "      <th>Survived</th>\n",
       "    </tr>\n",
       "  </thead>\n",
       "  <tbody>\n",
       "    <tr>\n",
       "      <th>0</th>\n",
       "      <td>C</td>\n",
       "      <td>0.553571</td>\n",
       "    </tr>\n",
       "    <tr>\n",
       "      <th>1</th>\n",
       "      <td>Q</td>\n",
       "      <td>0.389610</td>\n",
       "    </tr>\n",
       "    <tr>\n",
       "      <th>2</th>\n",
       "      <td>S</td>\n",
       "      <td>0.339009</td>\n",
       "    </tr>\n",
       "  </tbody>\n",
       "</table>\n",
       "</div>"
      ],
      "text/plain": [
       "  Embarked  Survived\n",
       "0        C  0.553571\n",
       "1        Q  0.389610\n",
       "2        S  0.339009"
      ]
     },
     "metadata": {},
     "output_type": "display_data"
    }
   ],
   "source": [
    "# 2개의 널값을 사우스햄튼으로 대치\n",
    "for dataset in full_data:\n",
    "    dataset[\"Embarked\"] = dataset[\"Embarked\"].fillna(\"S\")\n",
    "    \n",
    "get_suvival_ratio(train, [\"Embarked\", \"Survived\"], \"Embarked\")"
   ]
  },
  {
   "cell_type": "markdown",
   "id": "c434ddfe",
   "metadata": {
    "papermill": {
     "duration": 0.046684,
     "end_time": "2021-08-20T13:04:09.761323",
     "exception": false,
     "start_time": "2021-08-20T13:04:09.714639",
     "status": "completed"
    },
    "tags": []
   },
   "source": [
    "* 사우스햄튼 발 승객의 생존률이 프랑스 체르보르그(C) 및 뉴질랜드 퀸즈타운(Q) 항구에서 탑승한 승객의 생존률보다 낮음을 알수있다."
   ]
  },
  {
   "cell_type": "markdown",
   "id": "d2d54422",
   "metadata": {
    "_cell_guid": "e08c9ee8-d6d1-99b7-38bd-f0042c18a5d9",
    "papermill": {
     "duration": 0.045662,
     "end_time": "2021-08-20T13:04:09.853598",
     "exception": false,
     "start_time": "2021-08-20T13:04:09.807936",
     "status": "completed"
    },
    "tags": []
   },
   "source": [
    "## 5. Fare ##\n",
    "Fare also has some missing value and we will replace it with the median. then we categorize it into 4 ranges."
   ]
  },
  {
   "cell_type": "code",
   "execution_count": 13,
   "id": "99f5e9e6",
   "metadata": {
    "execution": {
     "iopub.execute_input": "2021-08-20T13:04:09.950004Z",
     "iopub.status.busy": "2021-08-20T13:04:09.949142Z",
     "iopub.status.idle": "2021-08-20T13:04:09.993367Z",
     "shell.execute_reply": "2021-08-20T13:04:09.992658Z",
     "shell.execute_reply.started": "2021-08-20T12:52:49.978821Z"
    },
    "papermill": {
     "duration": 0.093778,
     "end_time": "2021-08-20T13:04:09.993541",
     "exception": false,
     "start_time": "2021-08-20T13:04:09.899763",
     "status": "completed"
    },
    "tags": []
   },
   "outputs": [
    {
     "data": {
      "text/plain": [
       "0"
      ]
     },
     "metadata": {},
     "output_type": "display_data"
    },
    {
     "data": {
      "text/plain": [
       "0      (-0.512, 102.466]\n",
       "1      (-0.512, 102.466]\n",
       "2      (-0.512, 102.466]\n",
       "3      (-0.512, 102.466]\n",
       "4      (-0.512, 102.466]\n",
       "             ...        \n",
       "886    (-0.512, 102.466]\n",
       "887    (-0.512, 102.466]\n",
       "888    (-0.512, 102.466]\n",
       "889    (-0.512, 102.466]\n",
       "890    (-0.512, 102.466]\n",
       "Name: Fare, Length: 891, dtype: category\n",
       "Categories (5, interval[float64]): [(-0.512, 102.466] < (102.466, 204.932] < (204.932, 307.398] < (307.398, 409.863] < (409.863, 512.329]]"
      ]
     },
     "metadata": {},
     "output_type": "display_data"
    },
    {
     "data": {
      "text/plain": [
       "(-0.512, 102.466]     838\n",
       "(102.466, 204.932]     33\n",
       "(204.932, 307.398]     17\n",
       "(409.863, 512.329]      3\n",
       "(307.398, 409.863]      0\n",
       "Name: Fare, dtype: int64"
      ]
     },
     "metadata": {},
     "output_type": "display_data"
    },
    {
     "data": {
      "text/plain": [
       "'NaN값 체크 : '"
      ]
     },
     "metadata": {},
     "output_type": "display_data"
    },
    {
     "data": {
      "text/plain": [
       "0"
      ]
     },
     "metadata": {},
     "output_type": "display_data"
    }
   ],
   "source": [
    "display(train[\"Fare\"].isnull().sum())\n",
    "\n",
    "# 요금을 5개의 구간으로 분할\n",
    "display(pd.cut(train[\"Fare\"], 5))\n",
    "display(pd.cut(train[\"Fare\"], 5).value_counts())\n",
    "display(\"NaN값 체크 : \", train[\"Fare\"].isna().sum())"
   ]
  },
  {
   "cell_type": "code",
   "execution_count": 14,
   "id": "7b40d9c1",
   "metadata": {
    "execution": {
     "iopub.execute_input": "2021-08-20T13:04:10.098068Z",
     "iopub.status.busy": "2021-08-20T13:04:10.097274Z",
     "iopub.status.idle": "2021-08-20T13:04:10.115938Z",
     "shell.execute_reply": "2021-08-20T13:04:10.114764Z",
     "shell.execute_reply.started": "2021-08-20T12:52:50.015331Z"
    },
    "papermill": {
     "duration": 0.07379,
     "end_time": "2021-08-20T13:04:10.116185",
     "exception": false,
     "start_time": "2021-08-20T13:04:10.042395",
     "status": "completed"
    },
    "tags": []
   },
   "outputs": [
    {
     "data": {
      "text/plain": [
       "(-0.512, 102.466]     387\n",
       "(204.932, 307.398]     17\n",
       "(102.466, 204.932]     13\n",
       "(409.863, 512.329]      1\n",
       "(307.398, 409.863]      0\n",
       "Name: CategoricalFare, dtype: int64"
      ]
     },
     "metadata": {},
     "output_type": "display_data"
    }
   ],
   "source": [
    "for dataset in full_data:\n",
    "    dataset[\"Fare\"] = dataset[\"Fare\"].fillna(train[\"Fare\"].median())\n",
    "    \n",
    "# 범주형 Fare피처 \n",
    "train[\"CategoricalFare\"] = pd.cut(dataset[\"Fare\"], 5)\n",
    "\n",
    "display(train[\"CategoricalFare\"].value_counts())"
   ]
  },
  {
   "cell_type": "code",
   "execution_count": 15,
   "id": "913da72b",
   "metadata": {
    "execution": {
     "iopub.execute_input": "2021-08-20T13:04:10.231833Z",
     "iopub.status.busy": "2021-08-20T13:04:10.231062Z",
     "iopub.status.idle": "2021-08-20T13:04:10.234369Z",
     "shell.execute_reply": "2021-08-20T13:04:10.234943Z",
     "shell.execute_reply.started": "2021-08-20T12:52:50.036579Z"
    },
    "papermill": {
     "duration": 0.070653,
     "end_time": "2021-08-20T13:04:10.235175",
     "exception": false,
     "start_time": "2021-08-20T13:04:10.164522",
     "status": "completed"
    },
    "tags": []
   },
   "outputs": [
    {
     "data": {
      "text/html": [
       "<div>\n",
       "<style scoped>\n",
       "    .dataframe tbody tr th:only-of-type {\n",
       "        vertical-align: middle;\n",
       "    }\n",
       "\n",
       "    .dataframe tbody tr th {\n",
       "        vertical-align: top;\n",
       "    }\n",
       "\n",
       "    .dataframe thead th {\n",
       "        text-align: right;\n",
       "    }\n",
       "</style>\n",
       "<table border=\"1\" class=\"dataframe\">\n",
       "  <thead>\n",
       "    <tr style=\"text-align: right;\">\n",
       "      <th></th>\n",
       "      <th>CategoricalFare</th>\n",
       "      <th>Survived</th>\n",
       "    </tr>\n",
       "  </thead>\n",
       "  <tbody>\n",
       "    <tr>\n",
       "      <th>0</th>\n",
       "      <td>(-0.512, 102.466]</td>\n",
       "      <td>0.382429</td>\n",
       "    </tr>\n",
       "    <tr>\n",
       "      <th>1</th>\n",
       "      <td>(102.466, 204.932]</td>\n",
       "      <td>0.461538</td>\n",
       "    </tr>\n",
       "    <tr>\n",
       "      <th>2</th>\n",
       "      <td>(204.932, 307.398]</td>\n",
       "      <td>0.529412</td>\n",
       "    </tr>\n",
       "    <tr>\n",
       "      <th>3</th>\n",
       "      <td>(307.398, 409.863]</td>\n",
       "      <td>NaN</td>\n",
       "    </tr>\n",
       "    <tr>\n",
       "      <th>4</th>\n",
       "      <td>(409.863, 512.329]</td>\n",
       "      <td>0.000000</td>\n",
       "    </tr>\n",
       "  </tbody>\n",
       "</table>\n",
       "</div>"
      ],
      "text/plain": [
       "      CategoricalFare  Survived\n",
       "0   (-0.512, 102.466]  0.382429\n",
       "1  (102.466, 204.932]  0.461538\n",
       "2  (204.932, 307.398]  0.529412\n",
       "3  (307.398, 409.863]       NaN\n",
       "4  (409.863, 512.329]  0.000000"
      ]
     },
     "metadata": {},
     "output_type": "display_data"
    }
   ],
   "source": [
    "# 범주형 Fare에 대한 생존률 비교\n",
    "get_suvival_ratio(train, [\"CategoricalFare\", \"Survived\"], \"CategoricalFare\")"
   ]
  },
  {
   "cell_type": "markdown",
   "id": "18f3bbcd",
   "metadata": {
    "papermill": {
     "duration": 0.051927,
     "end_time": "2021-08-20T13:04:10.338191",
     "exception": false,
     "start_time": "2021-08-20T13:04:10.286264",
     "status": "completed"
    },
    "tags": []
   },
   "source": [
    "요금대가 384달러에서 512달러대의 승객은 전부 사망했고 또한 요금대가 128달러 이하인 승객들의 생존률도 높지 않다."
   ]
  },
  {
   "cell_type": "markdown",
   "id": "cbb46065",
   "metadata": {
    "_cell_guid": "ec8d1b22-a95f-9f16-77ab-7b60d2103852",
    "papermill": {
     "duration": 0.048677,
     "end_time": "2021-08-20T13:04:10.436079",
     "exception": false,
     "start_time": "2021-08-20T13:04:10.387402",
     "status": "completed"
    },
    "tags": []
   },
   "source": [
    "## 6. Age ##\n",
    "\n",
    "결측치를 대치하기 위해 평균값과 표준편차를 이용해서 무작위의 값을 결측치 갯수만큼 생성해서 대치함.좋은 방법!!\n",
    "\n",
    "Age피처의 범주형 숫자값으로 변환키위해 pd.cut()이용해 5개 범위로 분할"
   ]
  },
  {
   "cell_type": "code",
   "execution_count": 16,
   "id": "34d17ccb",
   "metadata": {
    "execution": {
     "iopub.execute_input": "2021-08-20T13:04:10.542382Z",
     "iopub.status.busy": "2021-08-20T13:04:10.541626Z",
     "iopub.status.idle": "2021-08-20T13:04:10.549064Z",
     "shell.execute_reply": "2021-08-20T13:04:10.549570Z",
     "shell.execute_reply.started": "2021-08-20T12:52:50.056428Z"
    },
    "papermill": {
     "duration": 0.062414,
     "end_time": "2021-08-20T13:04:10.549766",
     "exception": false,
     "start_time": "2021-08-20T13:04:10.487352",
     "status": "completed"
    },
    "tags": []
   },
   "outputs": [
    {
     "data": {
      "text/plain": [
       "'나이정보가 없는 승객 : '"
      ]
     },
     "metadata": {},
     "output_type": "display_data"
    },
    {
     "data": {
      "text/plain": [
       "177"
      ]
     },
     "metadata": {},
     "output_type": "display_data"
    }
   ],
   "source": [
    "display(\"나이정보가 없는 승객 : \", train[\"Age\"].isnull().sum())"
   ]
  },
  {
   "cell_type": "code",
   "execution_count": 17,
   "id": "6fbca03f",
   "metadata": {
    "execution": {
     "iopub.execute_input": "2021-08-20T13:04:10.657414Z",
     "iopub.status.busy": "2021-08-20T13:04:10.656614Z",
     "iopub.status.idle": "2021-08-20T13:04:10.676614Z",
     "shell.execute_reply": "2021-08-20T13:04:10.677341Z",
     "shell.execute_reply.started": "2021-08-20T12:52:50.068968Z"
    },
    "papermill": {
     "duration": 0.075203,
     "end_time": "2021-08-20T13:04:10.677556",
     "exception": false,
     "start_time": "2021-08-20T13:04:10.602353",
     "status": "completed"
    },
    "tags": []
   },
   "outputs": [
    {
     "name": "stderr",
     "output_type": "stream",
     "text": [
      "/opt/conda/lib/python3.7/site-packages/ipykernel_launcher.py:8: SettingWithCopyWarning: \n",
      "A value is trying to be set on a copy of a slice from a DataFrame\n",
      "\n",
      "See the caveats in the documentation: https://pandas.pydata.org/pandas-docs/stable/user_guide/indexing.html#returning-a-view-versus-a-copy\n",
      "  \n"
     ]
    }
   ],
   "source": [
    "for dataset in full_data:\n",
    "    avg_age = dataset[\"Age\"].mean()\n",
    "    std_age = dataset[\"Age\"].std()\n",
    "    age_null_count = dataset[\"Age\"].isnull().sum()\n",
    "    \n",
    "    # np.random.randint(low, high, size) - low값과 hight값에서 size만큼 무작위의 숫자값 리턴\n",
    "    age_null_random_list = np.random.randint(avg_age - std_age, avg_age + std_age, age_null_count)\n",
    "    dataset[\"Age\"][np.isnan(dataset[\"Age\"])] = age_null_random_list\n",
    "    dataset[\"Age\"] = dataset[\"Age\"].astype(int)\n",
    "    \n",
    "# Age를 5개 구간으로 분할\n",
    "train[\"CategoricalAge\"] = pd.cut(train[\"Age\"], 5)"
   ]
  },
  {
   "cell_type": "code",
   "execution_count": 18,
   "id": "898c838b",
   "metadata": {
    "execution": {
     "iopub.execute_input": "2021-08-20T13:04:10.783743Z",
     "iopub.status.busy": "2021-08-20T13:04:10.782948Z",
     "iopub.status.idle": "2021-08-20T13:04:10.800385Z",
     "shell.execute_reply": "2021-08-20T13:04:10.800841Z",
     "shell.execute_reply.started": "2021-08-20T12:52:50.096838Z"
    },
    "papermill": {
     "duration": 0.071266,
     "end_time": "2021-08-20T13:04:10.801099",
     "exception": false,
     "start_time": "2021-08-20T13:04:10.729833",
     "status": "completed"
    },
    "tags": []
   },
   "outputs": [
    {
     "data": {
      "text/html": [
       "<div>\n",
       "<style scoped>\n",
       "    .dataframe tbody tr th:only-of-type {\n",
       "        vertical-align: middle;\n",
       "    }\n",
       "\n",
       "    .dataframe tbody tr th {\n",
       "        vertical-align: top;\n",
       "    }\n",
       "\n",
       "    .dataframe thead th {\n",
       "        text-align: right;\n",
       "    }\n",
       "</style>\n",
       "<table border=\"1\" class=\"dataframe\">\n",
       "  <thead>\n",
       "    <tr style=\"text-align: right;\">\n",
       "      <th></th>\n",
       "      <th>CategoricalAge</th>\n",
       "      <th>Survived</th>\n",
       "    </tr>\n",
       "  </thead>\n",
       "  <tbody>\n",
       "    <tr>\n",
       "      <th>0</th>\n",
       "      <td>(-0.08, 16.0]</td>\n",
       "      <td>0.513761</td>\n",
       "    </tr>\n",
       "    <tr>\n",
       "      <th>1</th>\n",
       "      <td>(16.0, 32.0]</td>\n",
       "      <td>0.346847</td>\n",
       "    </tr>\n",
       "    <tr>\n",
       "      <th>2</th>\n",
       "      <td>(32.0, 48.0]</td>\n",
       "      <td>0.391473</td>\n",
       "    </tr>\n",
       "    <tr>\n",
       "      <th>3</th>\n",
       "      <td>(48.0, 64.0]</td>\n",
       "      <td>0.434783</td>\n",
       "    </tr>\n",
       "    <tr>\n",
       "      <th>4</th>\n",
       "      <td>(64.0, 80.0]</td>\n",
       "      <td>0.090909</td>\n",
       "    </tr>\n",
       "  </tbody>\n",
       "</table>\n",
       "</div>"
      ],
      "text/plain": [
       "  CategoricalAge  Survived\n",
       "0  (-0.08, 16.0]  0.513761\n",
       "1   (16.0, 32.0]  0.346847\n",
       "2   (32.0, 48.0]  0.391473\n",
       "3   (48.0, 64.0]  0.434783\n",
       "4   (64.0, 80.0]  0.090909"
      ]
     },
     "metadata": {},
     "output_type": "display_data"
    }
   ],
   "source": [
    "get_suvival_ratio(train, [\"CategoricalAge\", \"Survived\"], \"CategoricalAge\")"
   ]
  },
  {
   "cell_type": "markdown",
   "id": "9e959ab5",
   "metadata": {
    "papermill": {
     "duration": 0.050664,
     "end_time": "2021-08-20T13:04:10.904099",
     "exception": false,
     "start_time": "2021-08-20T13:04:10.853435",
     "status": "completed"
    },
    "tags": []
   },
   "source": [
    "**Age lower than 15 have more chance to survive than other Age band.**"
   ]
  },
  {
   "cell_type": "markdown",
   "id": "78beb89f",
   "metadata": {
    "_cell_guid": "bd25ec3f-b601-c1cc-d701-991fac1621f9",
    "papermill": {
     "duration": 0.051046,
     "end_time": "2021-08-20T13:04:11.005891",
     "exception": false,
     "start_time": "2021-08-20T13:04:10.954845",
     "status": "completed"
    },
    "tags": []
   },
   "source": [
    "## 7. Name ##\n",
    "이름으로 부터 존칭 정보를 추출"
   ]
  },
  {
   "cell_type": "code",
   "execution_count": 19,
   "id": "c24661a1",
   "metadata": {
    "execution": {
     "iopub.execute_input": "2021-08-20T13:04:11.114829Z",
     "iopub.status.busy": "2021-08-20T13:04:11.113953Z",
     "iopub.status.idle": "2021-08-20T13:04:11.128338Z",
     "shell.execute_reply": "2021-08-20T13:04:11.128968Z",
     "shell.execute_reply.started": "2021-08-20T12:52:50.120615Z"
    },
    "papermill": {
     "duration": 0.071202,
     "end_time": "2021-08-20T13:04:11.129205",
     "exception": false,
     "start_time": "2021-08-20T13:04:11.058003",
     "status": "completed"
    },
    "tags": []
   },
   "outputs": [],
   "source": [
    "def get_title(name):\n",
    "    \"\"\"\n",
    "    이름에서 해당 승객의 존칭 정보 추출\n",
    "    \"\"\"\n",
    "    title = None\n",
    "    title_search = re.search('([A-Za-z]+)\\.', name)\n",
    "    \n",
    "    if title_search:\n",
    "        title = title_search.group(1)\n",
    "    return title\n",
    "\n",
    "# 존칭 추출\n",
    "for dataset in full_data:\n",
    "    dataset[\"Title\"] = dataset[\"Name\"].apply(get_title)"
   ]
  },
  {
   "cell_type": "code",
   "execution_count": 20,
   "id": "50bdeb3d",
   "metadata": {
    "execution": {
     "iopub.execute_input": "2021-08-20T13:04:11.238051Z",
     "iopub.status.busy": "2021-08-20T13:04:11.237270Z",
     "iopub.status.idle": "2021-08-20T13:04:11.275587Z",
     "shell.execute_reply": "2021-08-20T13:04:11.276192Z",
     "shell.execute_reply.started": "2021-08-20T12:52:50.141962Z"
    },
    "papermill": {
     "duration": 0.093731,
     "end_time": "2021-08-20T13:04:11.276398",
     "exception": false,
     "start_time": "2021-08-20T13:04:11.182667",
     "status": "completed"
    },
    "tags": []
   },
   "outputs": [
    {
     "data": {
      "text/html": [
       "<div>\n",
       "<style scoped>\n",
       "    .dataframe tbody tr th:only-of-type {\n",
       "        vertical-align: middle;\n",
       "    }\n",
       "\n",
       "    .dataframe tbody tr th {\n",
       "        vertical-align: top;\n",
       "    }\n",
       "\n",
       "    .dataframe thead th {\n",
       "        text-align: right;\n",
       "    }\n",
       "</style>\n",
       "<table border=\"1\" class=\"dataframe\">\n",
       "  <thead>\n",
       "    <tr style=\"text-align: right;\">\n",
       "      <th>Sex</th>\n",
       "      <th>female</th>\n",
       "      <th>male</th>\n",
       "    </tr>\n",
       "    <tr>\n",
       "      <th>Title</th>\n",
       "      <th></th>\n",
       "      <th></th>\n",
       "    </tr>\n",
       "  </thead>\n",
       "  <tbody>\n",
       "    <tr>\n",
       "      <th>Capt</th>\n",
       "      <td>0</td>\n",
       "      <td>1</td>\n",
       "    </tr>\n",
       "    <tr>\n",
       "      <th>Col</th>\n",
       "      <td>0</td>\n",
       "      <td>2</td>\n",
       "    </tr>\n",
       "    <tr>\n",
       "      <th>Countess</th>\n",
       "      <td>1</td>\n",
       "      <td>0</td>\n",
       "    </tr>\n",
       "    <tr>\n",
       "      <th>Don</th>\n",
       "      <td>0</td>\n",
       "      <td>1</td>\n",
       "    </tr>\n",
       "    <tr>\n",
       "      <th>Dr</th>\n",
       "      <td>1</td>\n",
       "      <td>6</td>\n",
       "    </tr>\n",
       "    <tr>\n",
       "      <th>Jonkheer</th>\n",
       "      <td>0</td>\n",
       "      <td>1</td>\n",
       "    </tr>\n",
       "    <tr>\n",
       "      <th>Lady</th>\n",
       "      <td>1</td>\n",
       "      <td>0</td>\n",
       "    </tr>\n",
       "    <tr>\n",
       "      <th>Major</th>\n",
       "      <td>0</td>\n",
       "      <td>2</td>\n",
       "    </tr>\n",
       "    <tr>\n",
       "      <th>Master</th>\n",
       "      <td>0</td>\n",
       "      <td>40</td>\n",
       "    </tr>\n",
       "    <tr>\n",
       "      <th>Miss</th>\n",
       "      <td>182</td>\n",
       "      <td>0</td>\n",
       "    </tr>\n",
       "    <tr>\n",
       "      <th>Mlle</th>\n",
       "      <td>2</td>\n",
       "      <td>0</td>\n",
       "    </tr>\n",
       "    <tr>\n",
       "      <th>Mme</th>\n",
       "      <td>1</td>\n",
       "      <td>0</td>\n",
       "    </tr>\n",
       "    <tr>\n",
       "      <th>Mr</th>\n",
       "      <td>0</td>\n",
       "      <td>517</td>\n",
       "    </tr>\n",
       "    <tr>\n",
       "      <th>Mrs</th>\n",
       "      <td>125</td>\n",
       "      <td>0</td>\n",
       "    </tr>\n",
       "    <tr>\n",
       "      <th>Ms</th>\n",
       "      <td>1</td>\n",
       "      <td>0</td>\n",
       "    </tr>\n",
       "    <tr>\n",
       "      <th>Rev</th>\n",
       "      <td>0</td>\n",
       "      <td>6</td>\n",
       "    </tr>\n",
       "    <tr>\n",
       "      <th>Sir</th>\n",
       "      <td>0</td>\n",
       "      <td>1</td>\n",
       "    </tr>\n",
       "  </tbody>\n",
       "</table>\n",
       "</div>"
      ],
      "text/plain": [
       "Sex       female  male\n",
       "Title                 \n",
       "Capt           0     1\n",
       "Col            0     2\n",
       "Countess       1     0\n",
       "Don            0     1\n",
       "Dr             1     6\n",
       "Jonkheer       0     1\n",
       "Lady           1     0\n",
       "Major          0     2\n",
       "Master         0    40\n",
       "Miss         182     0\n",
       "Mlle           2     0\n",
       "Mme            1     0\n",
       "Mr             0   517\n",
       "Mrs          125     0\n",
       "Ms             1     0\n",
       "Rev            0     6\n",
       "Sir            0     1"
      ]
     },
     "execution_count": 20,
     "metadata": {},
     "output_type": "execute_result"
    }
   ],
   "source": [
    "pd.DataFrame(pd.crosstab(index = train[\"Title\"], columns=train[\"Sex\"]))"
   ]
  },
  {
   "cell_type": "markdown",
   "id": "091cd356",
   "metadata": {
    "_cell_guid": "ca5fff8c-7a0d-6c18-2173-b8df6293c50a",
    "papermill": {
     "duration": 0.055491,
     "end_time": "2021-08-20T13:04:11.384348",
     "exception": false,
     "start_time": "2021-08-20T13:04:11.328857",
     "status": "completed"
    },
    "tags": []
   },
   "source": [
    " * Title피처의 범주형 피처로 변환 후 생존률 확인"
   ]
  },
  {
   "cell_type": "code",
   "execution_count": 21,
   "id": "b58c0bc7",
   "metadata": {
    "execution": {
     "iopub.execute_input": "2021-08-20T13:04:11.499592Z",
     "iopub.status.busy": "2021-08-20T13:04:11.498430Z",
     "iopub.status.idle": "2021-08-20T13:04:11.507556Z",
     "shell.execute_reply": "2021-08-20T13:04:11.508179Z",
     "shell.execute_reply.started": "2021-08-20T12:52:50.187023Z"
    },
    "papermill": {
     "duration": 0.067021,
     "end_time": "2021-08-20T13:04:11.508410",
     "exception": false,
     "start_time": "2021-08-20T13:04:11.441389",
     "status": "completed"
    },
    "tags": []
   },
   "outputs": [],
   "source": [
    "train[\"Title\"].nunique()  # 17개의 유일한 갯수\n",
    "title_list = train[\"Title\"].value_counts().index.tolist()\n",
    "\n",
    "all_title = set(title_list)\n",
    "stnd_title = set([\"Mr\", \"Miss\", \"Mrs\", \"Mlle\", \"Mme\", \"Ms\"])\n",
    "\n",
    "rare_title = list(all_title.difference(stnd_title))"
   ]
  },
  {
   "cell_type": "code",
   "execution_count": 22,
   "id": "41badcda",
   "metadata": {
    "execution": {
     "iopub.execute_input": "2021-08-20T13:04:11.619214Z",
     "iopub.status.busy": "2021-08-20T13:04:11.618005Z",
     "iopub.status.idle": "2021-08-20T13:04:11.643811Z",
     "shell.execute_reply": "2021-08-20T13:04:11.644350Z",
     "shell.execute_reply.started": "2021-08-20T12:52:50.196990Z"
    },
    "papermill": {
     "duration": 0.083185,
     "end_time": "2021-08-20T13:04:11.644574",
     "exception": false,
     "start_time": "2021-08-20T13:04:11.561389",
     "status": "completed"
    },
    "tags": []
   },
   "outputs": [
    {
     "data": {
      "text/html": [
       "<div>\n",
       "<style scoped>\n",
       "    .dataframe tbody tr th:only-of-type {\n",
       "        vertical-align: middle;\n",
       "    }\n",
       "\n",
       "    .dataframe tbody tr th {\n",
       "        vertical-align: top;\n",
       "    }\n",
       "\n",
       "    .dataframe thead th {\n",
       "        text-align: right;\n",
       "    }\n",
       "</style>\n",
       "<table border=\"1\" class=\"dataframe\">\n",
       "  <thead>\n",
       "    <tr style=\"text-align: right;\">\n",
       "      <th></th>\n",
       "      <th>Title</th>\n",
       "      <th>Survived</th>\n",
       "    </tr>\n",
       "  </thead>\n",
       "  <tbody>\n",
       "    <tr>\n",
       "      <th>0</th>\n",
       "      <td>Miss</td>\n",
       "      <td>0.702703</td>\n",
       "    </tr>\n",
       "    <tr>\n",
       "      <th>1</th>\n",
       "      <td>Mr</td>\n",
       "      <td>0.156673</td>\n",
       "    </tr>\n",
       "    <tr>\n",
       "      <th>2</th>\n",
       "      <td>Mrs</td>\n",
       "      <td>0.793651</td>\n",
       "    </tr>\n",
       "    <tr>\n",
       "      <th>3</th>\n",
       "      <td>Rare</td>\n",
       "      <td>0.492063</td>\n",
       "    </tr>\n",
       "  </tbody>\n",
       "</table>\n",
       "</div>"
      ],
      "text/plain": [
       "  Title  Survived\n",
       "0  Miss  0.702703\n",
       "1    Mr  0.156673\n",
       "2   Mrs  0.793651\n",
       "3  Rare  0.492063"
      ]
     },
     "metadata": {},
     "output_type": "display_data"
    }
   ],
   "source": [
    "for dataset in full_data:\n",
    "    dataset[\"Title\"] = dataset[\"Title\"].replace(rare_title, 'Rare')\n",
    "    dataset['Title'] = dataset['Title'].replace('Mlle', 'Miss')\n",
    "    dataset['Title'] = dataset['Title'].replace('Ms', 'Miss')\n",
    "    dataset['Title'] = dataset['Title'].replace('Mme', 'Mrs')\n",
    "\n",
    "    # 존칭 타이틀로 알아보는 생존률\n",
    "get_suvival_ratio(train, [\"Title\", \"Survived\"], \"Title\")    "
   ]
  },
  {
   "cell_type": "markdown",
   "id": "e61ee327",
   "metadata": {
    "papermill": {
     "duration": 0.052963,
     "end_time": "2021-08-20T13:04:11.752068",
     "exception": false,
     "start_time": "2021-08-20T13:04:11.699105",
     "status": "completed"
    },
    "tags": []
   },
   "source": [
    "**Miss, Mrs의 생존률이 Mr보다 5배 가까이 높음. 특이한 점은 Rare가 Mr보다 높음**\n",
    "\n",
    "**Miss, Mrs title has more chance to survive than Mr, Rare title by 5 times.**"
   ]
  },
  {
   "cell_type": "markdown",
   "id": "2f40feb2",
   "metadata": {
    "_cell_guid": "68fa2057-e27a-e252-0d1b-869c00a303ba",
    "papermill": {
     "duration": 0.055469,
     "end_time": "2021-08-20T13:04:11.859934",
     "exception": false,
     "start_time": "2021-08-20T13:04:11.804465",
     "status": "completed"
    },
    "tags": []
   },
   "source": [
    "# Data Cleaning #\n",
    "데이터정제 및 범주형 타입의 데이터를 숫자형으로 변환"
   ]
  },
  {
   "cell_type": "code",
   "execution_count": 23,
   "id": "c5b6073a",
   "metadata": {
    "execution": {
     "iopub.execute_input": "2021-08-20T13:04:11.980337Z",
     "iopub.status.busy": "2021-08-20T13:04:11.979145Z",
     "iopub.status.idle": "2021-08-20T13:04:12.000987Z",
     "shell.execute_reply": "2021-08-20T13:04:12.001554Z",
     "shell.execute_reply.started": "2021-08-20T12:52:50.225124Z"
    },
    "papermill": {
     "duration": 0.08605,
     "end_time": "2021-08-20T13:04:12.001777",
     "exception": false,
     "start_time": "2021-08-20T13:04:11.915727",
     "status": "completed"
    },
    "tags": []
   },
   "outputs": [
    {
     "data": {
      "text/plain": [
       "(16.0, 32.0]     444\n",
       "(32.0, 48.0]     258\n",
       "(-0.08, 16.0]    109\n",
       "(48.0, 64.0]      69\n",
       "(64.0, 80.0]      11\n",
       "Name: CategoricalAge, dtype: int64"
      ]
     },
     "metadata": {},
     "output_type": "display_data"
    },
    {
     "data": {
      "text/plain": [
       "count    891.000000\n",
       "mean      29.608305\n",
       "std       13.499243\n",
       "min        0.000000\n",
       "25%       21.000000\n",
       "50%       29.000000\n",
       "75%       37.000000\n",
       "max       80.000000\n",
       "Name: Age, dtype: float64"
      ]
     },
     "metadata": {},
     "output_type": "display_data"
    },
    {
     "data": {
      "text/plain": [
       "count    891.000000\n",
       "mean      32.204208\n",
       "std       49.693429\n",
       "min        0.000000\n",
       "25%        7.910400\n",
       "50%       14.454200\n",
       "75%       31.000000\n",
       "max      512.329200\n",
       "Name: Fare, dtype: float64"
      ]
     },
     "metadata": {},
     "output_type": "display_data"
    }
   ],
   "source": [
    "display(train[\"CategoricalAge\"].value_counts())\n",
    "display(train[\"Age\"].describe())\n",
    "display(train[\"Fare\"].describe())"
   ]
  },
  {
   "cell_type": "code",
   "execution_count": 24,
   "id": "282d2ad4",
   "metadata": {
    "execution": {
     "iopub.execute_input": "2021-08-20T13:04:12.118134Z",
     "iopub.status.busy": "2021-08-20T13:04:12.117335Z",
     "iopub.status.idle": "2021-08-20T13:04:12.142117Z",
     "shell.execute_reply": "2021-08-20T13:04:12.143092Z",
     "shell.execute_reply.started": "2021-08-20T12:52:50.252817Z"
    },
    "papermill": {
     "duration": 0.08609,
     "end_time": "2021-08-20T13:04:12.143327",
     "exception": false,
     "start_time": "2021-08-20T13:04:12.057237",
     "status": "completed"
    },
    "tags": []
   },
   "outputs": [
    {
     "data": {
      "text/html": [
       "<div>\n",
       "<style scoped>\n",
       "    .dataframe tbody tr th:only-of-type {\n",
       "        vertical-align: middle;\n",
       "    }\n",
       "\n",
       "    .dataframe tbody tr th {\n",
       "        vertical-align: top;\n",
       "    }\n",
       "\n",
       "    .dataframe thead th {\n",
       "        text-align: right;\n",
       "    }\n",
       "</style>\n",
       "<table border=\"1\" class=\"dataframe\">\n",
       "  <thead>\n",
       "    <tr style=\"text-align: right;\">\n",
       "      <th></th>\n",
       "      <th>PassengerId</th>\n",
       "      <th>Survived</th>\n",
       "      <th>Pclass</th>\n",
       "      <th>Name</th>\n",
       "      <th>Sex</th>\n",
       "      <th>Age</th>\n",
       "      <th>SibSp</th>\n",
       "      <th>Parch</th>\n",
       "      <th>Ticket</th>\n",
       "      <th>Fare</th>\n",
       "      <th>Cabin</th>\n",
       "      <th>Embarked</th>\n",
       "      <th>FamilySize</th>\n",
       "      <th>IsAlone</th>\n",
       "      <th>CategoricalFare</th>\n",
       "      <th>CategoricalAge</th>\n",
       "      <th>Title</th>\n",
       "    </tr>\n",
       "  </thead>\n",
       "  <tbody>\n",
       "    <tr>\n",
       "      <th>0</th>\n",
       "      <td>1</td>\n",
       "      <td>0</td>\n",
       "      <td>3</td>\n",
       "      <td>Braund, Mr. Owen Harris</td>\n",
       "      <td>male</td>\n",
       "      <td>22</td>\n",
       "      <td>1</td>\n",
       "      <td>0</td>\n",
       "      <td>A/5 21171</td>\n",
       "      <td>7.2500</td>\n",
       "      <td>NaN</td>\n",
       "      <td>S</td>\n",
       "      <td>2</td>\n",
       "      <td>0</td>\n",
       "      <td>(-0.512, 102.466]</td>\n",
       "      <td>(16.0, 32.0]</td>\n",
       "      <td>Mr</td>\n",
       "    </tr>\n",
       "    <tr>\n",
       "      <th>1</th>\n",
       "      <td>2</td>\n",
       "      <td>1</td>\n",
       "      <td>1</td>\n",
       "      <td>Cumings, Mrs. John Bradley (Florence Briggs Th...</td>\n",
       "      <td>female</td>\n",
       "      <td>38</td>\n",
       "      <td>1</td>\n",
       "      <td>0</td>\n",
       "      <td>PC 17599</td>\n",
       "      <td>71.2833</td>\n",
       "      <td>C85</td>\n",
       "      <td>C</td>\n",
       "      <td>2</td>\n",
       "      <td>0</td>\n",
       "      <td>(-0.512, 102.466]</td>\n",
       "      <td>(32.0, 48.0]</td>\n",
       "      <td>Mrs</td>\n",
       "    </tr>\n",
       "    <tr>\n",
       "      <th>2</th>\n",
       "      <td>3</td>\n",
       "      <td>1</td>\n",
       "      <td>3</td>\n",
       "      <td>Heikkinen, Miss. Laina</td>\n",
       "      <td>female</td>\n",
       "      <td>26</td>\n",
       "      <td>0</td>\n",
       "      <td>0</td>\n",
       "      <td>STON/O2. 3101282</td>\n",
       "      <td>7.9250</td>\n",
       "      <td>NaN</td>\n",
       "      <td>S</td>\n",
       "      <td>1</td>\n",
       "      <td>1</td>\n",
       "      <td>(-0.512, 102.466]</td>\n",
       "      <td>(16.0, 32.0]</td>\n",
       "      <td>Miss</td>\n",
       "    </tr>\n",
       "    <tr>\n",
       "      <th>3</th>\n",
       "      <td>4</td>\n",
       "      <td>1</td>\n",
       "      <td>1</td>\n",
       "      <td>Futrelle, Mrs. Jacques Heath (Lily May Peel)</td>\n",
       "      <td>female</td>\n",
       "      <td>35</td>\n",
       "      <td>1</td>\n",
       "      <td>0</td>\n",
       "      <td>113803</td>\n",
       "      <td>53.1000</td>\n",
       "      <td>C123</td>\n",
       "      <td>S</td>\n",
       "      <td>2</td>\n",
       "      <td>0</td>\n",
       "      <td>(-0.512, 102.466]</td>\n",
       "      <td>(32.0, 48.0]</td>\n",
       "      <td>Mrs</td>\n",
       "    </tr>\n",
       "    <tr>\n",
       "      <th>4</th>\n",
       "      <td>5</td>\n",
       "      <td>0</td>\n",
       "      <td>3</td>\n",
       "      <td>Allen, Mr. William Henry</td>\n",
       "      <td>male</td>\n",
       "      <td>35</td>\n",
       "      <td>0</td>\n",
       "      <td>0</td>\n",
       "      <td>373450</td>\n",
       "      <td>8.0500</td>\n",
       "      <td>NaN</td>\n",
       "      <td>S</td>\n",
       "      <td>1</td>\n",
       "      <td>1</td>\n",
       "      <td>(-0.512, 102.466]</td>\n",
       "      <td>(32.0, 48.0]</td>\n",
       "      <td>Mr</td>\n",
       "    </tr>\n",
       "  </tbody>\n",
       "</table>\n",
       "</div>"
      ],
      "text/plain": [
       "   PassengerId  Survived  Pclass  \\\n",
       "0            1         0       3   \n",
       "1            2         1       1   \n",
       "2            3         1       3   \n",
       "3            4         1       1   \n",
       "4            5         0       3   \n",
       "\n",
       "                                                Name     Sex  Age  SibSp  \\\n",
       "0                            Braund, Mr. Owen Harris    male   22      1   \n",
       "1  Cumings, Mrs. John Bradley (Florence Briggs Th...  female   38      1   \n",
       "2                             Heikkinen, Miss. Laina  female   26      0   \n",
       "3       Futrelle, Mrs. Jacques Heath (Lily May Peel)  female   35      1   \n",
       "4                           Allen, Mr. William Henry    male   35      0   \n",
       "\n",
       "   Parch            Ticket     Fare Cabin Embarked  FamilySize  IsAlone  \\\n",
       "0      0         A/5 21171   7.2500   NaN        S           2        0   \n",
       "1      0          PC 17599  71.2833   C85        C           2        0   \n",
       "2      0  STON/O2. 3101282   7.9250   NaN        S           1        1   \n",
       "3      0            113803  53.1000  C123        S           2        0   \n",
       "4      0            373450   8.0500   NaN        S           1        1   \n",
       "\n",
       "     CategoricalFare CategoricalAge Title  \n",
       "0  (-0.512, 102.466]   (16.0, 32.0]    Mr  \n",
       "1  (-0.512, 102.466]   (32.0, 48.0]   Mrs  \n",
       "2  (-0.512, 102.466]   (16.0, 32.0]  Miss  \n",
       "3  (-0.512, 102.466]   (32.0, 48.0]   Mrs  \n",
       "4  (-0.512, 102.466]   (32.0, 48.0]    Mr  "
      ]
     },
     "execution_count": 24,
     "metadata": {},
     "output_type": "execute_result"
    }
   ],
   "source": [
    "train.head()"
   ]
  },
  {
   "cell_type": "code",
   "execution_count": 25,
   "id": "f4fb53e3",
   "metadata": {
    "_cell_guid": "2502bb70-ce6f-2497-7331-7d1f80521470",
    "execution": {
     "iopub.execute_input": "2021-08-20T13:04:12.256462Z",
     "iopub.status.busy": "2021-08-20T13:04:12.255679Z",
     "iopub.status.idle": "2021-08-20T13:04:12.317030Z",
     "shell.execute_reply": "2021-08-20T13:04:12.316425Z",
     "shell.execute_reply.started": "2021-08-20T12:52:50.279041Z"
    },
    "papermill": {
     "duration": 0.118926,
     "end_time": "2021-08-20T13:04:12.317195",
     "exception": false,
     "start_time": "2021-08-20T13:04:12.198269",
     "status": "completed"
    },
    "tags": []
   },
   "outputs": [
    {
     "data": {
      "text/html": [
       "<div>\n",
       "<style scoped>\n",
       "    .dataframe tbody tr th:only-of-type {\n",
       "        vertical-align: middle;\n",
       "    }\n",
       "\n",
       "    .dataframe tbody tr th {\n",
       "        vertical-align: top;\n",
       "    }\n",
       "\n",
       "    .dataframe thead th {\n",
       "        text-align: right;\n",
       "    }\n",
       "</style>\n",
       "<table border=\"1\" class=\"dataframe\">\n",
       "  <thead>\n",
       "    <tr style=\"text-align: right;\">\n",
       "      <th></th>\n",
       "      <th>Survived</th>\n",
       "      <th>Pclass</th>\n",
       "      <th>Sex</th>\n",
       "      <th>Age</th>\n",
       "      <th>Fare</th>\n",
       "      <th>Embarked</th>\n",
       "      <th>IsAlone</th>\n",
       "      <th>Title</th>\n",
       "    </tr>\n",
       "  </thead>\n",
       "  <tbody>\n",
       "    <tr>\n",
       "      <th>0</th>\n",
       "      <td>0</td>\n",
       "      <td>3</td>\n",
       "      <td>1</td>\n",
       "      <td>1</td>\n",
       "      <td>0</td>\n",
       "      <td>0</td>\n",
       "      <td>0</td>\n",
       "      <td>1</td>\n",
       "    </tr>\n",
       "    <tr>\n",
       "      <th>1</th>\n",
       "      <td>1</td>\n",
       "      <td>1</td>\n",
       "      <td>0</td>\n",
       "      <td>2</td>\n",
       "      <td>3</td>\n",
       "      <td>1</td>\n",
       "      <td>0</td>\n",
       "      <td>3</td>\n",
       "    </tr>\n",
       "    <tr>\n",
       "      <th>2</th>\n",
       "      <td>1</td>\n",
       "      <td>3</td>\n",
       "      <td>0</td>\n",
       "      <td>1</td>\n",
       "      <td>1</td>\n",
       "      <td>0</td>\n",
       "      <td>1</td>\n",
       "      <td>2</td>\n",
       "    </tr>\n",
       "  </tbody>\n",
       "</table>\n",
       "</div>"
      ],
      "text/plain": [
       "   Survived  Pclass  Sex  Age  Fare  Embarked  IsAlone  Title\n",
       "0         0       3    1    1     0         0        0      1\n",
       "1         1       1    0    2     3         1        0      3\n",
       "2         1       3    0    1     1         0        1      2"
      ]
     },
     "metadata": {},
     "output_type": "display_data"
    },
    {
     "data": {
      "text/html": [
       "<div>\n",
       "<style scoped>\n",
       "    .dataframe tbody tr th:only-of-type {\n",
       "        vertical-align: middle;\n",
       "    }\n",
       "\n",
       "    .dataframe tbody tr th {\n",
       "        vertical-align: top;\n",
       "    }\n",
       "\n",
       "    .dataframe thead th {\n",
       "        text-align: right;\n",
       "    }\n",
       "</style>\n",
       "<table border=\"1\" class=\"dataframe\">\n",
       "  <thead>\n",
       "    <tr style=\"text-align: right;\">\n",
       "      <th></th>\n",
       "      <th>Pclass</th>\n",
       "      <th>Sex</th>\n",
       "      <th>Age</th>\n",
       "      <th>Fare</th>\n",
       "      <th>Embarked</th>\n",
       "      <th>IsAlone</th>\n",
       "      <th>Title</th>\n",
       "    </tr>\n",
       "  </thead>\n",
       "  <tbody>\n",
       "    <tr>\n",
       "      <th>0</th>\n",
       "      <td>3</td>\n",
       "      <td>1</td>\n",
       "      <td>2</td>\n",
       "      <td>0</td>\n",
       "      <td>2</td>\n",
       "      <td>1</td>\n",
       "      <td>1.0</td>\n",
       "    </tr>\n",
       "    <tr>\n",
       "      <th>1</th>\n",
       "      <td>3</td>\n",
       "      <td>0</td>\n",
       "      <td>2</td>\n",
       "      <td>0</td>\n",
       "      <td>0</td>\n",
       "      <td>0</td>\n",
       "      <td>3.0</td>\n",
       "    </tr>\n",
       "    <tr>\n",
       "      <th>2</th>\n",
       "      <td>2</td>\n",
       "      <td>1</td>\n",
       "      <td>3</td>\n",
       "      <td>1</td>\n",
       "      <td>2</td>\n",
       "      <td>1</td>\n",
       "      <td>1.0</td>\n",
       "    </tr>\n",
       "  </tbody>\n",
       "</table>\n",
       "</div>"
      ],
      "text/plain": [
       "   Pclass  Sex  Age  Fare  Embarked  IsAlone  Title\n",
       "0       3    1    2     0         2        1    1.0\n",
       "1       3    0    2     0         0        0    3.0\n",
       "2       2    1    3     1         2        1    1.0"
      ]
     },
     "metadata": {},
     "output_type": "display_data"
    }
   ],
   "source": [
    "for dataset in full_data:    \n",
    "    try:        \n",
    "        # Mapping Sex\n",
    "        dataset[\"Sex\"] = dataset[\"Sex\"].map({\"female\": 0 , \"male\": 1}).astype(int)\n",
    "\n",
    "        # Mapping titles\n",
    "        title_mapping = {\"Mr\": 1, \"Miss\": 2, \"Mrs\": 3, \"Master\": 4, \"Rare\": 5}\n",
    "        dataset[\"Title\"] = dataset[\"Title\"].map(title_mapping)\n",
    "        dataset[\"Title\"] = dataset[\"Title\"].fillna(0)\n",
    "\n",
    "        # Mapping Embarked\n",
    "        dataset['Embarked'] = dataset['Embarked'].map( {'S': 0, 'C': 1, 'Q': 2} ).astype(int)\n",
    "\n",
    "        # Mapping Fare based on 1st quartile, 2nd quartile, 3rd quatile\n",
    "        dataset.loc[dataset[\"Fare\"] <= 7.91, 'Fare'] = 0\n",
    "        dataset.loc[(dataset[\"Fare\"] > 7.91) & (dataset[\"Fare\"] <= 14.454), \"Fare\"] = 1\n",
    "        dataset.loc[(dataset[\"Fare\"] > 14.454) & (dataset[\"Fare\"] <= 31), \"Fare\"] = 2\n",
    "        dataset.loc[ dataset['Fare'] > 31, 'Fare'] = 3\n",
    "        dataset['Fare'] = dataset['Fare'].astype(int)\n",
    "\n",
    "        # Mapping Age\n",
    "        dataset.loc[ dataset['Age'] <= 16, 'Age'] = 0\n",
    "        dataset.loc[(dataset['Age'] > 16) & (dataset['Age'] <= 32), 'Age'] = 1\n",
    "        dataset.loc[(dataset['Age'] > 32) & (dataset['Age'] <= 48), 'Age'] = 2\n",
    "        dataset.loc[(dataset['Age'] > 48) & (dataset['Age'] <= 64), 'Age'] = 3\n",
    "        dataset.loc[ dataset['Age'] > 64, 'Age'] = 4\n",
    "    except ValueError:\n",
    "        pass\n",
    "    except IndexError:\n",
    "        pass\n",
    "\n",
    "# Feature drop\n",
    "drop_elements = [\"PassengerId\", \"Name\", \"Ticket\", \"Cabin\", \"SibSp\", \"Parch\", \"FamilySize\"]\n",
    "train = train.drop(drop_elements, axis = 1, errors = \"ignore\")\n",
    "train = train.drop([\"CategoricalAge\", \"CategoricalFare\"], axis = 1, errors = \"ignore\")\n",
    "test  = test.drop(drop_elements, axis = 1, errors = \"ignore\")\n",
    "\n",
    "display (train.head(n=3))\n",
    "display(test.head(n=3))\n",
    "\n",
    "train = train.values\n",
    "test  = test.values"
   ]
  },
  {
   "cell_type": "markdown",
   "id": "b1a0ed1e",
   "metadata": {
    "_cell_guid": "23b55b45-572b-7276-32e7-8f7a0dcfd25e",
    "papermill": {
     "duration": 0.062716,
     "end_time": "2021-08-20T13:04:12.438300",
     "exception": false,
     "start_time": "2021-08-20T13:04:12.375584",
     "status": "completed"
    },
    "tags": []
   },
   "source": [
    "# 분류기 비교 #\n",
    "## 관련 라이브러리"
   ]
  },
  {
   "cell_type": "code",
   "execution_count": 26,
   "id": "d4acb6a2",
   "metadata": {
    "execution": {
     "iopub.execute_input": "2021-08-20T13:04:12.559624Z",
     "iopub.status.busy": "2021-08-20T13:04:12.558306Z",
     "iopub.status.idle": "2021-08-20T13:04:14.113697Z",
     "shell.execute_reply": "2021-08-20T13:04:14.113100Z",
     "shell.execute_reply.started": "2021-08-20T12:52:50.346657Z"
    },
    "papermill": {
     "duration": 1.617621,
     "end_time": "2021-08-20T13:04:14.113891",
     "exception": false,
     "start_time": "2021-08-20T13:04:12.496270",
     "status": "completed"
    },
    "tags": []
   },
   "outputs": [],
   "source": [
    "import matplotlib.pyplot as plt\n",
    "import seaborn as sns\n",
    "\n",
    "from sklearn.model_selection import StratifiedShuffleSplit\n",
    "from sklearn.metrics import accuracy_score, log_loss\n",
    "from sklearn.neighbors import KNeighborsClassifier\n",
    "from sklearn.svm import SVC\n",
    "from sklearn.tree import DecisionTreeClassifier\n",
    "\n",
    "# classification\n",
    "from sklearn.ensemble import RandomForestClassifier, AdaBoostClassifier, GradientBoostingClassifier\n",
    "from sklearn.naive_bayes import GaussianNB\n",
    "\n",
    "# decomposition\n",
    "from sklearn.discriminant_analysis import LinearDiscriminantAnalysis, QuadraticDiscriminantAnalysis\n",
    "\n",
    "#회귀\n",
    "from sklearn.linear_model import LogisticRegression"
   ]
  },
  {
   "cell_type": "markdown",
   "id": "c0cb6300",
   "metadata": {
    "papermill": {
     "duration": 0.054814,
     "end_time": "2021-08-20T13:04:14.224576",
     "exception": false,
     "start_time": "2021-08-20T13:04:14.169762",
     "status": "completed"
    },
    "tags": []
   },
   "source": [
    "* Modulization\n",
    "* [StratifiedKFold Official Document](https://scikit-learn.org/stable/modules/generated/sklearn.model_selection.StratifiedShuffleSplit.html)"
   ]
  },
  {
   "cell_type": "markdown",
   "id": "c2b04444",
   "metadata": {
    "papermill": {
     "duration": 0.057501,
     "end_time": "2021-08-20T13:04:14.337620",
     "exception": false,
     "start_time": "2021-08-20T13:04:14.280119",
     "status": "completed"
    },
    "tags": []
   },
   "source": [
    "**모듈화**"
   ]
  },
  {
   "cell_type": "code",
   "execution_count": 27,
   "id": "e3425d83",
   "metadata": {
    "execution": {
     "iopub.execute_input": "2021-08-20T13:04:14.467446Z",
     "iopub.status.busy": "2021-08-20T13:04:14.466628Z",
     "iopub.status.idle": "2021-08-20T13:04:14.470158Z",
     "shell.execute_reply": "2021-08-20T13:04:14.469458Z",
     "shell.execute_reply.started": "2021-08-20T12:52:50.353824Z"
    },
    "papermill": {
     "duration": 0.074842,
     "end_time": "2021-08-20T13:04:14.470327",
     "exception": false,
     "start_time": "2021-08-20T13:04:14.395485",
     "status": "completed"
    },
    "tags": []
   },
   "outputs": [],
   "source": [
    "def train_predict(X, y, classifiers: list):\n",
    "    \"\"\"\n",
    "    학습 피처와 레이블 값을 인자로 받아서  정확도와 분류기별 정확도를 DataFrame으로 리턴\n",
    "    \"\"\"\n",
    "    # StratifiedKFold와 ShuffleSplit의 기능을 갖고있음\n",
    "    # 검증 인덱스와 학습인덱스를 나누어서 리턴함\n",
    "    # 인자는 피처배열과 레이블 배열을 1차원 배열의 형태로 전달\n",
    "    sss = StratifiedShuffleSplit(n_splits = 10, test_size = .3, random_state=0)\n",
    "    \n",
    "    accuracy = {}\n",
    "    log_cols = ['Classifiers', 'Accuracy']\n",
    "    \n",
    "    for train_index, test_index in sss.split(X, y):\n",
    "        X_train, X_test = X[train_index], X[test_index]\n",
    "        y_train, y_test = y[train_index], y[test_index]\n",
    "        \n",
    "        for clf in classifiers:\n",
    "            clf.fit(X_train, y_train)\n",
    "            train_prediction = clf.predict(X_test)\n",
    "            \n",
    "            acc = accuracy_score(y_test, train_prediction)\n",
    "            \n",
    "            model = clf.__class__.__name__\n",
    "            \n",
    "            if model in accuracy:\n",
    "                accuracy[model] += acc\n",
    "            else:\n",
    "                accuracy[model] = acc\n",
    "                \n",
    "    for k, _ in accuracy.items():\n",
    "        accuracy[k] = accuracy[k] / 10.0\n",
    "        \n",
    "    # 리턴할 데이터프레임 생성    \n",
    "    accuracy_df = pd.DataFrame([[k, v] for k, v in accuracy.items()], columns = log_cols)\n",
    "    \n",
    "    return accuracy, accuracy_df\n",
    "\n",
    "def visualize_accuracy(accuracy_df):\n",
    "    \"\"\"\n",
    "    분류기별 정확도를 시각화(barplot)\n",
    "    \"\"\"\n",
    "    # 시각화\n",
    "    plt.xlabel(\"Accuracy\")\n",
    "    plt.title(\"Accuracy by Classifiers\")\n",
    "\n",
    "    # color='b'옵션을 주면 색이 파란색 하나로 통일\n",
    "    sns.barplot(x = \"Accuracy\", y=\"Classifiers\", data = accuracy_df)\n",
    "    sns.set_color_codes(\"muted\")\n",
    "def main_process(X, y, classifiers):\n",
    "    accuracy, accuracy_df = train_predict(X, y, classifiers)\n",
    "    visualize_accuracy(accuracy_df)"
   ]
  },
  {
   "cell_type": "markdown",
   "id": "4edb8fd9",
   "metadata": {
    "papermill": {
     "duration": 0.059807,
     "end_time": "2021-08-20T13:04:14.590387",
     "exception": false,
     "start_time": "2021-08-20T13:04:14.530580",
     "status": "completed"
    },
    "tags": []
   },
   "source": [
    "**REPL(Read Evaluate Print Loop)**"
   ]
  },
  {
   "cell_type": "code",
   "execution_count": 28,
   "id": "d4871849",
   "metadata": {
    "execution": {
     "iopub.execute_input": "2021-08-20T13:04:14.709002Z",
     "iopub.status.busy": "2021-08-20T13:04:14.708229Z",
     "iopub.status.idle": "2021-08-20T13:04:44.695458Z",
     "shell.execute_reply": "2021-08-20T13:04:44.694754Z",
     "shell.execute_reply.started": "2021-08-20T12:52:50.369838Z"
    },
    "papermill": {
     "duration": 30.047028,
     "end_time": "2021-08-20T13:04:44.695671",
     "exception": false,
     "start_time": "2021-08-20T13:04:14.648643",
     "status": "completed"
    },
    "tags": []
   },
   "outputs": [],
   "source": [
    "classifiers = [\n",
    "    KNeighborsClassifier(n_neighbors = 10),\n",
    "    SVC(C = 0.05, gamma=\"auto\", probability=True),\n",
    "    DecisionTreeClassifier(),\n",
    "    RandomForestClassifier(n_estimators=500),\n",
    "    AdaBoostClassifier(n_estimators=500, learning_rate = 0.5),\n",
    "    GradientBoostingClassifier(learning_rate=0.5, n_estimators = 500),\n",
    "    GaussianNB(),\n",
    "    LinearDiscriminantAnalysis(),\n",
    "    QuadraticDiscriminantAnalysis(),\n",
    "    LogisticRegression()\n",
    "]\n",
    "\n",
    "log_cols = [\"Classifiers\", \"Accuracy\"]\n",
    "\n",
    "# train_index와 test_index를 리턴함\n",
    "sss= StratifiedShuffleSplit(n_splits = 10, test_size = .1, random_state = 0)\n",
    "\n",
    "X = train[:, 1:]\n",
    "y = train[:, 0]\n",
    "\n",
    "accuracy = {}\n",
    "\n",
    "for train_idx, test_idx in sss.split(X, y):\n",
    "    X_train, X_test = X[train_idx], X[test_idx]\n",
    "    y_train, y_test = y[train_idx], y[test_idx]\n",
    "    \n",
    "    for clf in classifiers:\n",
    "        clf.fit(X_train, y_train)\n",
    "        train_prediction = clf.predict(X_test)\n",
    "        \n",
    "        acc = accuracy_score(y_test, train_prediction)\n",
    "        \n",
    "        model = clf.__class__.__name__\n",
    "        if model in accuracy:\n",
    "            accuracy[model] += acc\n",
    "        else:\n",
    "            accuracy[model] = acc\n",
    "\n",
    "for k, _ in accuracy.items():\n",
    "    accuracy[k] = accuracy[k] / 10.0\n",
    "    \n",
    "accuracy_df = pd.DataFrame([[k, v] for k, v in accuracy.items()], columns = log_cols)"
   ]
  },
  {
   "cell_type": "code",
   "execution_count": 29,
   "id": "f6d2b608",
   "metadata": {
    "execution": {
     "iopub.execute_input": "2021-08-20T13:04:44.859749Z",
     "iopub.status.busy": "2021-08-20T13:04:44.845833Z",
     "iopub.status.idle": "2021-08-20T13:04:45.137444Z",
     "shell.execute_reply": "2021-08-20T13:04:45.137973Z",
     "shell.execute_reply.started": "2021-08-20T12:53:18.360960Z"
    },
    "papermill": {
     "duration": 0.384851,
     "end_time": "2021-08-20T13:04:45.138221",
     "exception": false,
     "start_time": "2021-08-20T13:04:44.753370",
     "status": "completed"
    },
    "tags": []
   },
   "outputs": [
    {
     "data": {
      "image/png": "[encoded data removed]",
      "text/plain": [
       "<Figure size 432x288 with 1 Axes>"
      ]
     },
     "metadata": {
      "needs_background": "light"
     },
     "output_type": "display_data"
    }
   ],
   "source": [
    "# 시각화\n",
    "plt.xlabel(\"Accuracy\")\n",
    "plt.title(\"Accuracy by Classifiers\")\n",
    "\n",
    "# color='b'옵션을 주면 색이 파란색 하나로 통일\n",
    "sns.barplot(x = \"Accuracy\", y=\"Classifiers\", data = accuracy_df)\n",
    "sns.set_color_codes(\"muted\")"
   ]
  },
  {
   "cell_type": "markdown",
   "id": "25b9737e",
   "metadata": {
    "papermill": {
     "duration": 0.05771,
     "end_time": "2021-08-20T13:04:45.254378",
     "exception": false,
     "start_time": "2021-08-20T13:04:45.196668",
     "status": "completed"
    },
    "tags": []
   },
   "source": [
    "**함수 호출**"
   ]
  },
  {
   "cell_type": "code",
   "execution_count": 30,
   "id": "7a99f749",
   "metadata": {
    "execution": {
     "iopub.execute_input": "2021-08-20T13:04:45.376506Z",
     "iopub.status.busy": "2021-08-20T13:04:45.375703Z",
     "iopub.status.idle": "2021-08-20T13:05:14.360037Z",
     "shell.execute_reply": "2021-08-20T13:05:14.358898Z",
     "shell.execute_reply.started": "2021-08-20T12:53:18.634178Z"
    },
    "papermill": {
     "duration": 29.04885,
     "end_time": "2021-08-20T13:05:14.360230",
     "exception": false,
     "start_time": "2021-08-20T13:04:45.311380",
     "status": "completed"
    },
    "tags": []
   },
   "outputs": [
    {
     "data": {
      "image/png": "[encoded data removed]",
      "text/plain": [
       "<Figure size 432x288 with 1 Axes>"
      ]
     },
     "metadata": {
      "needs_background": "light"
     },
     "output_type": "display_data"
    }
   ],
   "source": [
    "# 함수로 재작성 후 수행\n",
    "main_process(X, y, classifiers)"
   ]
  },
  {
   "cell_type": "markdown",
   "id": "291065a6",
   "metadata": {
    "_cell_guid": "438585cf-b7ad-73ba-49aa-87688ff21233",
    "papermill": {
     "duration": 0.057107,
     "end_time": "2021-08-20T13:05:14.475687",
     "exception": false,
     "start_time": "2021-08-20T13:05:14.418580",
     "status": "completed"
    },
    "tags": []
   },
   "source": [
    "# Prediction #\n",
    "SVM를 최종 사용해서 학습 및 예측"
   ]
  },
  {
   "cell_type": "code",
   "execution_count": 31,
   "id": "798c88d5",
   "metadata": {
    "execution": {
     "iopub.execute_input": "2021-08-20T13:05:14.605303Z",
     "iopub.status.busy": "2021-08-20T13:05:14.604552Z",
     "iopub.status.idle": "2021-08-20T13:05:14.650790Z",
     "shell.execute_reply": "2021-08-20T13:05:14.651357Z",
     "shell.execute_reply.started": "2021-08-20T12:53:45.593892Z"
    },
    "papermill": {
     "duration": 0.114528,
     "end_time": "2021-08-20T13:05:14.651584",
     "exception": false,
     "start_time": "2021-08-20T13:05:14.537056",
     "status": "completed"
    },
    "tags": []
   },
   "outputs": [
    {
     "data": {
      "text/html": [
       "<div>\n",
       "<style scoped>\n",
       "    .dataframe tbody tr th:only-of-type {\n",
       "        vertical-align: middle;\n",
       "    }\n",
       "\n",
       "    .dataframe tbody tr th {\n",
       "        vertical-align: top;\n",
       "    }\n",
       "\n",
       "    .dataframe thead th {\n",
       "        text-align: right;\n",
       "    }\n",
       "</style>\n",
       "<table border=\"1\" class=\"dataframe\">\n",
       "  <thead>\n",
       "    <tr style=\"text-align: right;\">\n",
       "      <th></th>\n",
       "      <th>PassengerId</th>\n",
       "      <th>Survived</th>\n",
       "    </tr>\n",
       "  </thead>\n",
       "  <tbody>\n",
       "    <tr>\n",
       "      <th>0</th>\n",
       "      <td>892</td>\n",
       "      <td>0</td>\n",
       "    </tr>\n",
       "    <tr>\n",
       "      <th>1</th>\n",
       "      <td>893</td>\n",
       "      <td>1</td>\n",
       "    </tr>\n",
       "    <tr>\n",
       "      <th>2</th>\n",
       "      <td>894</td>\n",
       "      <td>0</td>\n",
       "    </tr>\n",
       "  </tbody>\n",
       "</table>\n",
       "</div>"
      ],
      "text/plain": [
       "   PassengerId  Survived\n",
       "0          892         0\n",
       "1          893         1\n",
       "2          894         0"
      ]
     },
     "metadata": {},
     "output_type": "display_data"
    }
   ],
   "source": [
    "final_clf = SVC()\n",
    "final_clf.fit(X, y)\n",
    "\n",
    "result = final_clf.predict(test)\n",
    "\n",
    "final_submission = pd.DataFrame(data = {\"PassengerId\": PassengerId, \"Survived\": result})\n",
    "\n",
    "display(final_submission.head(n=3))\n",
    "\n",
    "final_submission.to_csv(target_dir + \"titanic_survival_prediction.csv\")"
   ]
  },
  {
   "cell_type": "code",
   "execution_count": 32,
   "id": "09e7e222",
   "metadata": {
    "_cell_guid": "24967b57-732b-7180-bfd5-005beff75974",
    "execution": {
     "iopub.execute_input": "2021-08-20T13:05:14.777289Z",
     "iopub.status.busy": "2021-08-20T13:05:14.776246Z",
     "iopub.status.idle": "2021-08-20T13:05:14.797475Z",
     "shell.execute_reply": "2021-08-20T13:05:14.796733Z",
     "shell.execute_reply.started": "2021-08-20T12:53:45.639331Z"
    },
    "papermill": {
     "duration": 0.087138,
     "end_time": "2021-08-20T13:05:14.797646",
     "exception": false,
     "start_time": "2021-08-20T13:05:14.710508",
     "status": "completed"
    },
    "tags": []
   },
   "outputs": [
    {
     "data": {
      "text/html": [
       "<div>\n",
       "<style scoped>\n",
       "    .dataframe tbody tr th:only-of-type {\n",
       "        vertical-align: middle;\n",
       "    }\n",
       "\n",
       "    .dataframe tbody tr th {\n",
       "        vertical-align: top;\n",
       "    }\n",
       "\n",
       "    .dataframe thead th {\n",
       "        text-align: right;\n",
       "    }\n",
       "</style>\n",
       "<table border=\"1\" class=\"dataframe\">\n",
       "  <thead>\n",
       "    <tr style=\"text-align: right;\">\n",
       "      <th></th>\n",
       "      <th>Unnamed: 0</th>\n",
       "      <th>PassengerId</th>\n",
       "      <th>Survived</th>\n",
       "    </tr>\n",
       "  </thead>\n",
       "  <tbody>\n",
       "    <tr>\n",
       "      <th>0</th>\n",
       "      <td>0</td>\n",
       "      <td>892</td>\n",
       "      <td>0</td>\n",
       "    </tr>\n",
       "    <tr>\n",
       "      <th>1</th>\n",
       "      <td>1</td>\n",
       "      <td>893</td>\n",
       "      <td>1</td>\n",
       "    </tr>\n",
       "    <tr>\n",
       "      <th>2</th>\n",
       "      <td>2</td>\n",
       "      <td>894</td>\n",
       "      <td>0</td>\n",
       "    </tr>\n",
       "  </tbody>\n",
       "</table>\n",
       "</div>"
      ],
      "text/plain": [
       "   Unnamed: 0  PassengerId  Survived\n",
       "0           0          892         0\n",
       "1           1          893         1\n",
       "2           2          894         0"
      ]
     },
     "metadata": {},
     "output_type": "display_data"
    },
    {
     "data": {
      "text/html": [
       "<div>\n",
       "<style scoped>\n",
       "    .dataframe tbody tr th:only-of-type {\n",
       "        vertical-align: middle;\n",
       "    }\n",
       "\n",
       "    .dataframe tbody tr th {\n",
       "        vertical-align: top;\n",
       "    }\n",
       "\n",
       "    .dataframe thead th {\n",
       "        text-align: right;\n",
       "    }\n",
       "</style>\n",
       "<table border=\"1\" class=\"dataframe\">\n",
       "  <thead>\n",
       "    <tr style=\"text-align: right;\">\n",
       "      <th></th>\n",
       "      <th>Unnamed: 0</th>\n",
       "      <th>PassengerId</th>\n",
       "      <th>Survived</th>\n",
       "    </tr>\n",
       "  </thead>\n",
       "  <tbody>\n",
       "    <tr>\n",
       "      <th>415</th>\n",
       "      <td>415</td>\n",
       "      <td>1307</td>\n",
       "      <td>0</td>\n",
       "    </tr>\n",
       "    <tr>\n",
       "      <th>416</th>\n",
       "      <td>416</td>\n",
       "      <td>1308</td>\n",
       "      <td>0</td>\n",
       "    </tr>\n",
       "    <tr>\n",
       "      <th>417</th>\n",
       "      <td>417</td>\n",
       "      <td>1309</td>\n",
       "      <td>0</td>\n",
       "    </tr>\n",
       "  </tbody>\n",
       "</table>\n",
       "</div>"
      ],
      "text/plain": [
       "     Unnamed: 0  PassengerId  Survived\n",
       "415         415         1307         0\n",
       "416         416         1308         0\n",
       "417         417         1309         0"
      ]
     },
     "metadata": {},
     "output_type": "display_data"
    }
   ],
   "source": [
    "survivor_prediction = pd.read_csv(target_dir + \"titanic_survival_prediction.csv\")\n",
    "display(survivor_prediction.head(n=3))\n",
    "display(survivor_prediction.tail(n=3))"
   ]
  }
 ],
 "metadata": {
  "kernelspec": {
   "display_name": "Python 3",
   "language": "python",
   "name": "python3"
  },
  "language_info": {
   "codemirror_mode": {
    "name": "ipython",
    "version": 3
   },
   "file_extension": ".py",
   "mimetype": "text/x-python",
   "name": "python",
   "nbconvert_exporter": "python",
   "pygments_lexer": "ipython3",
   "version": "3.7.10"
  },
  "papermill": {
   "default_parameters": {},
   "duration": 80.044713,
   "end_time": "2021-08-20T13:05:16.538004",
   "environment_variables": {},
   "exception": null,
   "input_path": "__notebook__.ipynb",
   "output_path": "__notebook__.ipynb",
   "parameters": {},
   "start_time": "2021-08-20T13:03:56.493291",
   "version": "2.3.3"
  }
 },
 "nbformat": 4,
 "nbformat_minor": 5
}
