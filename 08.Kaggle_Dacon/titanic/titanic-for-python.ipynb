{
 "cells": [
  {
   "cell_type": "markdown",
   "metadata": {
    "_cell_guid": "79351222-d991-7342-0b79-68fe267e117b",
    "_uuid": "a17b5278ce402f8e198c64c17a380065c2653df3"
   },
   "source": [
    "# 타이타닉 데이터분석을 위한 파이썬 뚜벅이."
   ]
  },
  {
   "cell_type": "markdown",
   "metadata": {
    "_cell_guid": "f1ea4a4b-59ec-5579-4d67-b4112cb92107",
    "_uuid": "a35d23b51c3ffb5fa87f81e31021b147a5769d03"
   },
   "source": [
    "## *해당 커널은 [Pytanic by Heads and Tails](https://www.kaggle.com/headsortails/pytanic)을 참조하였습니다*"
   ]
  },
  {
   "cell_type": "markdown",
   "metadata": {
    "_cell_guid": "aa364a4f-d786-4d4b-dc81-7cb19b89fab1",
    "_uuid": "857887640881a6bd9a32045d23c13437b70bafbf"
   },
   "source": [
    "**Note:** \n",
    "\n",
    "데이터 분석을 위해 [Titanic Tutorials](https://www.kaggle.com/c/titanic#tutorials)을 추천합니다\n",
    "\n",
    "R을 통한 타이타닉 데이터분석도 시도해볼만 합니다.\n",
    "\n",
    "[R kernel for Titanic](https://www.kaggle.com/headsortails/tidy-titarnic/)"
   ]
  },
  {
   "cell_type": "markdown",
   "metadata": {
    "_cell_guid": "964dd890-bc7a-6a01-13af-0a38dcd154b5",
    "_uuid": "9b72764f836f0e2138d38213fc1f100edfa1644f"
   },
   "source": [
    "## Outline:\n",
    "\n",
    "1. [Load Data and Modules](#load) (complete)\n",
    "1. [Initial Exploration](#explore) (complete)\n",
    "1. [Relations between features](#relations) (complete)\n",
    "1. [Missing values](#missing) (complete)\n",
    "1. [Derived (engineered) features](#derived) (largely complete)\n",
    "1. [Preparing for modelling](#encode) (complete)\n",
    "1. [Modelling](#model) (medium completeness; to be extended)\n",
    "1. [Preparing our prediction for submission](#submit) (complete)"
   ]
  },
  {
   "cell_type": "markdown",
   "metadata": {
    "_cell_guid": "3e96630b-da9a-36be-eb3e-7f81e3f900a6",
    "_uuid": "e1a8feaceafaa9a9609e5870d073458a1a87a3bf"
   },
   "source": [
    "# **1. Load Data and Modules**"
   ]
  },
  {
   "cell_type": "markdown",
   "metadata": {
    "_cell_guid": "42032e5e-a550-1e30-e29b-b9af2ea4195c",
    "_uuid": "90360c27e90d1a71fa3de4c10f41d92a70162ca8"
   },
   "source": [
    "**Load Python modules:** \n",
    "\n",
    "* [빅카인즈 뉴스데이터를 이용한 geosciene](https://blog.daum.net/geoscience/1407)\n",
    "\n",
    "* [MLxtend - Machine Learnng Extendsion](https://github.com/rasbt/mlxtend)"
   ]
  },
  {
   "cell_type": "markdown",
   "metadata": {},
   "source": [
    "* Library Load"
   ]
  },
  {
   "cell_type": "code",
   "execution_count": 1,
   "metadata": {},
   "outputs": [
    {
     "name": "stdout",
     "output_type": "stream",
     "text": [
      "Requirement already satisfied: xgboost in c:\\anaconda3\\lib\\site-packages (1.4.2)\n",
      "Requirement already satisfied: numpy in c:\\anaconda3\\lib\\site-packages (from xgboost) (1.20.3)\n",
      "Requirement already satisfied: scipy in c:\\anaconda3\\lib\\site-packages (from xgboost) (1.7.1)\n"
     ]
    }
   ],
   "source": [
    "!pip install xgboost"
   ]
  },
  {
   "cell_type": "code",
   "execution_count": 2,
   "metadata": {},
   "outputs": [
    {
     "name": "stdout",
     "output_type": "stream",
     "text": [
      "Requirement already satisfied: lightgbm in c:\\anaconda3\\lib\\site-packages (3.2.1)\n",
      "Requirement already satisfied: scikit-learn!=0.22.0 in c:\\anaconda3\\lib\\site-packages (from lightgbm) (0.24.2)\n",
      "Requirement already satisfied: numpy in c:\\anaconda3\\lib\\site-packages (from lightgbm) (1.20.3)\n",
      "Requirement already satisfied: wheel in c:\\anaconda3\\lib\\site-packages (from lightgbm) (0.37.0)\n",
      "Requirement already satisfied: scipy in c:\\anaconda3\\lib\\site-packages (from lightgbm) (1.7.1)\n",
      "Requirement already satisfied: threadpoolctl>=2.0.0 in c:\\anaconda3\\lib\\site-packages (from scikit-learn!=0.22.0->lightgbm) (2.2.0)\n",
      "Requirement already satisfied: joblib>=0.11 in c:\\anaconda3\\lib\\site-packages (from scikit-learn!=0.22.0->lightgbm) (1.0.1)\n"
     ]
    }
   ],
   "source": [
    "!pip install lightgbm"
   ]
  },
  {
   "cell_type": "code",
   "execution_count": 3,
   "metadata": {},
   "outputs": [
    {
     "name": "stdout",
     "output_type": "stream",
     "text": [
      "Requirement already satisfied: mlxtend in c:\\anaconda3\\lib\\site-packages (0.19.0)\n",
      "Requirement already satisfied: matplotlib>=3.0.0 in c:\\anaconda3\\lib\\site-packages (from mlxtend) (3.4.2)\n",
      "Requirement already satisfied: pandas>=0.24.2 in c:\\anaconda3\\lib\\site-packages (from mlxtend) (1.3.2)\n",
      "Requirement already satisfied: numpy>=1.16.2 in c:\\anaconda3\\lib\\site-packages (from mlxtend) (1.20.3)\n",
      "Requirement already satisfied: scipy>=1.2.1 in c:\\anaconda3\\lib\\site-packages (from mlxtend) (1.7.1)\n",
      "Requirement already satisfied: scikit-learn>=0.20.3 in c:\\anaconda3\\lib\\site-packages (from mlxtend) (0.24.2)\n",
      "Requirement already satisfied: setuptools in c:\\anaconda3\\lib\\site-packages (from mlxtend) (58.0.4)\n",
      "Requirement already satisfied: joblib>=0.13.2 in c:\\anaconda3\\lib\\site-packages (from mlxtend) (1.0.1)\n",
      "Requirement already satisfied: pillow>=6.2.0 in c:\\anaconda3\\lib\\site-packages (from matplotlib>=3.0.0->mlxtend) (8.3.1)\n",
      "Requirement already satisfied: cycler>=0.10 in c:\\anaconda3\\lib\\site-packages (from matplotlib>=3.0.0->mlxtend) (0.10.0)\n",
      "Requirement already satisfied: python-dateutil>=2.7 in c:\\anaconda3\\lib\\site-packages (from matplotlib>=3.0.0->mlxtend) (2.8.2)\n",
      "Requirement already satisfied: kiwisolver>=1.0.1 in c:\\anaconda3\\lib\\site-packages (from matplotlib>=3.0.0->mlxtend) (1.3.1)\n",
      "Requirement already satisfied: pyparsing>=2.2.1 in c:\\anaconda3\\lib\\site-packages (from matplotlib>=3.0.0->mlxtend) (2.4.7)\n",
      "Requirement already satisfied: six in c:\\anaconda3\\lib\\site-packages (from cycler>=0.10->matplotlib>=3.0.0->mlxtend) (1.16.0)\n",
      "Requirement already satisfied: pytz>=2017.3 in c:\\anaconda3\\lib\\site-packages (from pandas>=0.24.2->mlxtend) (2021.1)\n",
      "Requirement already satisfied: threadpoolctl>=2.0.0 in c:\\anaconda3\\lib\\site-packages (from scikit-learn>=0.20.3->mlxtend) (2.2.0)\n"
     ]
    }
   ],
   "source": [
    "!pip install mlxtend"
   ]
  },
  {
   "cell_type": "code",
   "execution_count": 4,
   "metadata": {
    "execution": {
     "iopub.execute_input": "2021-09-14T15:02:37.869412Z",
     "iopub.status.busy": "2021-09-14T15:02:37.868937Z",
     "iopub.status.idle": "2021-09-14T15:02:39.184933Z",
     "shell.execute_reply": "2021-09-14T15:02:39.184190Z",
     "shell.execute_reply.started": "2021-09-14T15:02:37.869346Z"
    }
   },
   "outputs": [],
   "source": [
    "import pandas as pd\n",
    "import numpy as np\n",
    "import seaborn as sns\n",
    "from scipy import stats  # 이항분포 계산을 위해.\n",
    "import sklearn as sk\n",
    "import itertools \n",
    "import matplotlib.pyplot as plt\n",
    "import matplotlib.gridspec as gridspec\n",
    "from statsmodels.graphics.mosaicplot import mosaic\n",
    "sns.set(style=\"white\",context=\"notebook\", palette=\"deep\")\n",
    "\n",
    "#ML\n",
    "from sklearn.linear_model import LogisticRegression\n",
    "#다층신경망\n",
    "from sklearn.linear_model import Perceptron\n",
    "# tree - 주피터 노트북환경에서 아래와 같이 임포트\n",
    "import sklearn.tree as tree\n",
    "#Gausian\n",
    "from sklearn.naive_bayes import GaussianNB\n",
    "#KNN최근접 이웃기법\n",
    "from sklearn.neighbors import KNeighborsClassifier\n",
    "# Ensemble\n",
    "from sklearn.ensemble import (RandomForestClassifier, AdaBoostClassifier, BaggingClassifier, GradientBoostingClassifier, VotingClassifier)\n",
    "#SVM\n",
    "from sklearn.svm import SVC\n",
    "\n",
    "# xgboost\n",
    "import xgboost as xgb\n",
    "import lightgbm as lgbm\n",
    "\n",
    "#mlxtend\n",
    "from mlxtend.classifier import StackingClassifier\n",
    "\n",
    "# 교차검증 및 평가\n",
    "from sklearn.model_selection import cross_val_score\n",
    "from sklearn.model_selection import KFold\n",
    "#오차행렬\n",
    "from sklearn.metrics import confusion_matrix\n",
    "#학습및 테스트 데이터셋 분리 \n",
    "from sklearn.model_selection import train_test_split\n",
    "#GridSearchCV\n",
    "from sklearn.model_selection import GridSearchCV\n",
    "import warnings\n",
    "warnings.filterwarnings(\"ignore\")"
   ]
  },
  {
   "cell_type": "markdown",
   "metadata": {
    "_cell_guid": "b8968e1d-3e20-3421-e0dd-1e4fc2a986d0",
    "_uuid": "7c94a8abe66bf3b98914935a4d293133ab2d1268"
   },
   "source": [
    "**Load input data.** "
   ]
  },
  {
   "cell_type": "code",
   "execution_count": 5,
   "metadata": {
    "execution": {
     "iopub.execute_input": "2021-09-14T15:02:39.186337Z",
     "iopub.status.busy": "2021-09-14T15:02:39.186072Z",
     "iopub.status.idle": "2021-09-14T15:02:39.217899Z",
     "shell.execute_reply": "2021-09-14T15:02:39.216852Z",
     "shell.execute_reply.started": "2021-09-14T15:02:39.186287Z"
    }
   },
   "outputs": [],
   "source": [
    "def load_dataset():\n",
    "    \"\"\"\n",
    "    load dataset\n",
    "    \"\"\"\n",
    "    train = pd.read_csv(\"input/train.csv\")\n",
    "    test = pd.read_csv(\"input/test.csv\")\n",
    "    full_data = pd.concat([train.drop(\"Survived\", axis = 1), test])\n",
    "    return train, test, full_data\n",
    "\n",
    "# 수행\n",
    "train, test, full_data = load_dataset()"
   ]
  },
  {
   "cell_type": "markdown",
   "metadata": {
    "_cell_guid": "d76edf43-c0a9-1075-ec1d-15a7c1cc0066",
    "_uuid": "067057dcd73bf321818acc9a5fe9010b88f354a0"
   },
   "source": [
    "<a id='explore'></a>"
   ]
  },
  {
   "cell_type": "markdown",
   "metadata": {
    "_cell_guid": "0ee4aa3d-2246-a1a1-6754-171b321c58e7",
    "_uuid": "4efaf2a2cc33cfe9168d47516a3f9345bb2524ce"
   },
   "source": [
    "# 2. 데이터 탐색"
   ]
  },
  {
   "cell_type": "markdown",
   "metadata": {
    "_cell_guid": "1a6272d5-47a9-8e21-31a2-c915d68719fd",
    "_uuid": "e85bfedd7412c452f48bb6f14b85f6f8bb9be701"
   },
   "source": [
    "**Look at your data in as many different ways as possible** \n",
    "\n",
    "Some properties and connections will be immeiately obvious.Others will require you to examine the data or parts of it, in more specific ways.\n",
    "Metaphorically speaking: this is the part where the detective finds the clues.\n",
    "\n",
    "First a broad overview. What are the types of data and their typical shape and content?\n",
    "\n",
    "철학자가 사유하는 것처럼, 탐정이 사건현장에서 단서를 발견하는 것처럼.."
   ]
  },
  {
   "cell_type": "code",
   "execution_count": 6,
   "metadata": {
    "_cell_guid": "a5404688-cd54-5fe5-431f-b8722d0eab85",
    "_execution_state": "idle",
    "_uuid": "8e2e21a986251c2b86c06d7c188e2819067d196a",
    "execution": {
     "iopub.execute_input": "2021-09-14T15:02:39.219409Z",
     "iopub.status.busy": "2021-09-14T15:02:39.219138Z",
     "iopub.status.idle": "2021-09-14T15:02:39.262855Z",
     "shell.execute_reply": "2021-09-14T15:02:39.261756Z",
     "shell.execute_reply.started": "2021-09-14T15:02:39.219359Z"
    }
   },
   "outputs": [
    {
     "data": {
      "text/html": [
       "<div>\n",
       "<style scoped>\n",
       "    .dataframe tbody tr th:only-of-type {\n",
       "        vertical-align: middle;\n",
       "    }\n",
       "\n",
       "    .dataframe tbody tr th {\n",
       "        vertical-align: top;\n",
       "    }\n",
       "\n",
       "    .dataframe thead th {\n",
       "        text-align: right;\n",
       "    }\n",
       "</style>\n",
       "<table border=\"1\" class=\"dataframe\">\n",
       "  <thead>\n",
       "    <tr style=\"text-align: right;\">\n",
       "      <th></th>\n",
       "      <th>PassengerId</th>\n",
       "      <th>Survived</th>\n",
       "      <th>Pclass</th>\n",
       "      <th>Name</th>\n",
       "      <th>Sex</th>\n",
       "      <th>Age</th>\n",
       "      <th>SibSp</th>\n",
       "      <th>Parch</th>\n",
       "      <th>Ticket</th>\n",
       "      <th>Fare</th>\n",
       "      <th>Cabin</th>\n",
       "      <th>Embarked</th>\n",
       "    </tr>\n",
       "  </thead>\n",
       "  <tbody>\n",
       "    <tr>\n",
       "      <th>0</th>\n",
       "      <td>1</td>\n",
       "      <td>0</td>\n",
       "      <td>3</td>\n",
       "      <td>Braund, Mr. Owen Harris</td>\n",
       "      <td>male</td>\n",
       "      <td>22.0</td>\n",
       "      <td>1</td>\n",
       "      <td>0</td>\n",
       "      <td>A/5 21171</td>\n",
       "      <td>7.2500</td>\n",
       "      <td>NaN</td>\n",
       "      <td>S</td>\n",
       "    </tr>\n",
       "    <tr>\n",
       "      <th>1</th>\n",
       "      <td>2</td>\n",
       "      <td>1</td>\n",
       "      <td>1</td>\n",
       "      <td>Cumings, Mrs. John Bradley (Florence Briggs Th...</td>\n",
       "      <td>female</td>\n",
       "      <td>38.0</td>\n",
       "      <td>1</td>\n",
       "      <td>0</td>\n",
       "      <td>PC 17599</td>\n",
       "      <td>71.2833</td>\n",
       "      <td>C85</td>\n",
       "      <td>C</td>\n",
       "    </tr>\n",
       "    <tr>\n",
       "      <th>2</th>\n",
       "      <td>3</td>\n",
       "      <td>1</td>\n",
       "      <td>3</td>\n",
       "      <td>Heikkinen, Miss. Laina</td>\n",
       "      <td>female</td>\n",
       "      <td>26.0</td>\n",
       "      <td>0</td>\n",
       "      <td>0</td>\n",
       "      <td>STON/O2. 3101282</td>\n",
       "      <td>7.9250</td>\n",
       "      <td>NaN</td>\n",
       "      <td>S</td>\n",
       "    </tr>\n",
       "    <tr>\n",
       "      <th>3</th>\n",
       "      <td>4</td>\n",
       "      <td>1</td>\n",
       "      <td>1</td>\n",
       "      <td>Futrelle, Mrs. Jacques Heath (Lily May Peel)</td>\n",
       "      <td>female</td>\n",
       "      <td>35.0</td>\n",
       "      <td>1</td>\n",
       "      <td>0</td>\n",
       "      <td>113803</td>\n",
       "      <td>53.1000</td>\n",
       "      <td>C123</td>\n",
       "      <td>S</td>\n",
       "    </tr>\n",
       "    <tr>\n",
       "      <th>4</th>\n",
       "      <td>5</td>\n",
       "      <td>0</td>\n",
       "      <td>3</td>\n",
       "      <td>Allen, Mr. William Henry</td>\n",
       "      <td>male</td>\n",
       "      <td>35.0</td>\n",
       "      <td>0</td>\n",
       "      <td>0</td>\n",
       "      <td>373450</td>\n",
       "      <td>8.0500</td>\n",
       "      <td>NaN</td>\n",
       "      <td>S</td>\n",
       "    </tr>\n",
       "    <tr>\n",
       "      <th>5</th>\n",
       "      <td>6</td>\n",
       "      <td>0</td>\n",
       "      <td>3</td>\n",
       "      <td>Moran, Mr. James</td>\n",
       "      <td>male</td>\n",
       "      <td>NaN</td>\n",
       "      <td>0</td>\n",
       "      <td>0</td>\n",
       "      <td>330877</td>\n",
       "      <td>8.4583</td>\n",
       "      <td>NaN</td>\n",
       "      <td>Q</td>\n",
       "    </tr>\n",
       "    <tr>\n",
       "      <th>6</th>\n",
       "      <td>7</td>\n",
       "      <td>0</td>\n",
       "      <td>1</td>\n",
       "      <td>McCarthy, Mr. Timothy J</td>\n",
       "      <td>male</td>\n",
       "      <td>54.0</td>\n",
       "      <td>0</td>\n",
       "      <td>0</td>\n",
       "      <td>17463</td>\n",
       "      <td>51.8625</td>\n",
       "      <td>E46</td>\n",
       "      <td>S</td>\n",
       "    </tr>\n",
       "    <tr>\n",
       "      <th>7</th>\n",
       "      <td>8</td>\n",
       "      <td>0</td>\n",
       "      <td>3</td>\n",
       "      <td>Palsson, Master. Gosta Leonard</td>\n",
       "      <td>male</td>\n",
       "      <td>2.0</td>\n",
       "      <td>3</td>\n",
       "      <td>1</td>\n",
       "      <td>349909</td>\n",
       "      <td>21.0750</td>\n",
       "      <td>NaN</td>\n",
       "      <td>S</td>\n",
       "    </tr>\n",
       "  </tbody>\n",
       "</table>\n",
       "</div>"
      ],
      "text/plain": [
       "   PassengerId  Survived  Pclass  \\\n",
       "0            1         0       3   \n",
       "1            2         1       1   \n",
       "2            3         1       3   \n",
       "3            4         1       1   \n",
       "4            5         0       3   \n",
       "5            6         0       3   \n",
       "6            7         0       1   \n",
       "7            8         0       3   \n",
       "\n",
       "                                                Name     Sex   Age  SibSp  \\\n",
       "0                            Braund, Mr. Owen Harris    male  22.0      1   \n",
       "1  Cumings, Mrs. John Bradley (Florence Briggs Th...  female  38.0      1   \n",
       "2                             Heikkinen, Miss. Laina  female  26.0      0   \n",
       "3       Futrelle, Mrs. Jacques Heath (Lily May Peel)  female  35.0      1   \n",
       "4                           Allen, Mr. William Henry    male  35.0      0   \n",
       "5                                   Moran, Mr. James    male   NaN      0   \n",
       "6                            McCarthy, Mr. Timothy J    male  54.0      0   \n",
       "7                     Palsson, Master. Gosta Leonard    male   2.0      3   \n",
       "\n",
       "   Parch            Ticket     Fare Cabin Embarked  \n",
       "0      0         A/5 21171   7.2500   NaN        S  \n",
       "1      0          PC 17599  71.2833   C85        C  \n",
       "2      0  STON/O2. 3101282   7.9250   NaN        S  \n",
       "3      0            113803  53.1000  C123        S  \n",
       "4      0            373450   8.0500   NaN        S  \n",
       "5      0            330877   8.4583   NaN        Q  \n",
       "6      0             17463  51.8625   E46        S  \n",
       "7      1            349909  21.0750   NaN        S  "
      ]
     },
     "metadata": {},
     "output_type": "display_data"
    },
    {
     "name": "stdout",
     "output_type": "stream",
     "text": [
      "<class 'pandas.core.frame.DataFrame'>\n",
      "RangeIndex: 891 entries, 0 to 890\n",
      "Data columns (total 12 columns):\n",
      " #   Column       Non-Null Count  Dtype  \n",
      "---  ------       --------------  -----  \n",
      " 0   PassengerId  891 non-null    int64  \n",
      " 1   Survived     891 non-null    int64  \n",
      " 2   Pclass       891 non-null    int64  \n",
      " 3   Name         891 non-null    object \n",
      " 4   Sex          891 non-null    object \n",
      " 5   Age          714 non-null    float64\n",
      " 6   SibSp        891 non-null    int64  \n",
      " 7   Parch        891 non-null    int64  \n",
      " 8   Ticket       891 non-null    object \n",
      " 9   Fare         891 non-null    float64\n",
      " 10  Cabin        204 non-null    object \n",
      " 11  Embarked     889 non-null    object \n",
      "dtypes: float64(2), int64(5), object(5)\n",
      "memory usage: 83.7+ KB\n"
     ]
    },
    {
     "data": {
      "text/plain": [
       "None"
      ]
     },
     "metadata": {},
     "output_type": "display_data"
    }
   ],
   "source": [
    "display(train.head(8))\n",
    "display(train.info())"
   ]
  },
  {
   "cell_type": "markdown",
   "metadata": {
    "_cell_guid": "29c47f4d-3b65-863a-501a-4ddb4c9b0847",
    "_uuid": "e55878c2034608d4443e788b8202d4624024eb01"
   },
   "source": [
    "Together with the PassengerId which is just a running index and the indication whether this passenger survived(1) or not (0) we have the following information for each person:\n",
    "\n",
    "- *Pclass* is the Ticket-class: first (1), second (2), and third (3) class tickets were used. This is and ordinal integer feature.\n",
    "\n",
    "- *Name* is the name of passenger. The names also contain titles and some persons might share the same surname; indicating family relations. We know that some titles can indicate a certain age group.\n",
    "For instance *Master* is a boy while *Mr* is a man. This feature is a charactrer string of variable lengthe but similar format.\n",
    "\n",
    "- *Sex* is an indicator whether the passenger was female or male. This is a categorical text stirng feature.\n",
    "\n",
    "- *Age* is the intefer age of the passenger. There are NaN values in this column.\n",
    "\n",
    "- *SibSp* is another ordinal integer feature describing the number of siblings or spouses travelling with each passenger.\n",
    "\n",
    "- *Parch* is another ordinal integer features that gives the number of parents or children travelling with each passenger.\n",
    "\n",
    "- *Ticket* is a character string of variable length that gives the ticket number.\n",
    "\n",
    "- *Fare* is a float feature showing how much each passenger paid for their rather memorable journey.\n",
    "\n",
    "- *Cabin* gives the cabin number of each passenger. There are NaN in this column. This is another string feature.\n",
    "\n",
    "- *Embarked* shows the port of embarkation as a categorical character value.\n",
    "\n",
    "In summary we have 1 floating point feature (*Fare*), 1 intefer variable (*Age*), 3 ordinal integer features (*Pclass, SibSp, Parch*), 2 categorical text features (*Sex, Embarked*), and 3 text string features (*Ticket, Cabin, Name*)\n",
    "\n",
    "정리하면, 실수형타입으로 Fare피처, Age피처 - 정수형, 3개의 순서가 있는 정수형 피처(*Pclas, SibSp, Parch*) , 2개의 범주형 텍스트타입의 피처(*Sex, Embarked*) 마지막으로 3개의 문자형 피처(*Ticket, Cabin, Name*)"
   ]
  },
  {
   "cell_type": "markdown",
   "metadata": {},
   "source": [
    "* Descriptive Statistics"
   ]
  },
  {
   "cell_type": "code",
   "execution_count": 7,
   "metadata": {
    "_cell_guid": "b8ebaedd-b0dd-e983-138b-68e49e82e3eb",
    "_execution_state": "idle",
    "_uuid": "3e69591d30f4da8b5e05cd37baa4d7c88c1a57d0",
    "execution": {
     "iopub.execute_input": "2021-09-14T15:02:39.264064Z",
     "iopub.status.busy": "2021-09-14T15:02:39.263849Z",
     "iopub.status.idle": "2021-09-14T15:02:39.308039Z",
     "shell.execute_reply": "2021-09-14T15:02:39.307131Z",
     "shell.execute_reply.started": "2021-09-14T15:02:39.264022Z"
    }
   },
   "outputs": [
    {
     "data": {
      "text/html": [
       "<div>\n",
       "<style scoped>\n",
       "    .dataframe tbody tr th:only-of-type {\n",
       "        vertical-align: middle;\n",
       "    }\n",
       "\n",
       "    .dataframe tbody tr th {\n",
       "        vertical-align: top;\n",
       "    }\n",
       "\n",
       "    .dataframe thead th {\n",
       "        text-align: right;\n",
       "    }\n",
       "</style>\n",
       "<table border=\"1\" class=\"dataframe\">\n",
       "  <thead>\n",
       "    <tr style=\"text-align: right;\">\n",
       "      <th></th>\n",
       "      <th>PassengerId</th>\n",
       "      <th>Survived</th>\n",
       "      <th>Pclass</th>\n",
       "      <th>Age</th>\n",
       "      <th>SibSp</th>\n",
       "      <th>Parch</th>\n",
       "      <th>Fare</th>\n",
       "    </tr>\n",
       "  </thead>\n",
       "  <tbody>\n",
       "    <tr>\n",
       "      <th>count</th>\n",
       "      <td>891.000000</td>\n",
       "      <td>891.000000</td>\n",
       "      <td>891.000000</td>\n",
       "      <td>714.000000</td>\n",
       "      <td>891.000000</td>\n",
       "      <td>891.000000</td>\n",
       "      <td>891.000000</td>\n",
       "    </tr>\n",
       "    <tr>\n",
       "      <th>mean</th>\n",
       "      <td>446.000000</td>\n",
       "      <td>0.383838</td>\n",
       "      <td>2.308642</td>\n",
       "      <td>29.699118</td>\n",
       "      <td>0.523008</td>\n",
       "      <td>0.381594</td>\n",
       "      <td>32.204208</td>\n",
       "    </tr>\n",
       "    <tr>\n",
       "      <th>std</th>\n",
       "      <td>257.353842</td>\n",
       "      <td>0.486592</td>\n",
       "      <td>0.836071</td>\n",
       "      <td>14.526497</td>\n",
       "      <td>1.102743</td>\n",
       "      <td>0.806057</td>\n",
       "      <td>49.693429</td>\n",
       "    </tr>\n",
       "    <tr>\n",
       "      <th>min</th>\n",
       "      <td>1.000000</td>\n",
       "      <td>0.000000</td>\n",
       "      <td>1.000000</td>\n",
       "      <td>0.420000</td>\n",
       "      <td>0.000000</td>\n",
       "      <td>0.000000</td>\n",
       "      <td>0.000000</td>\n",
       "    </tr>\n",
       "    <tr>\n",
       "      <th>25%</th>\n",
       "      <td>223.500000</td>\n",
       "      <td>0.000000</td>\n",
       "      <td>2.000000</td>\n",
       "      <td>20.125000</td>\n",
       "      <td>0.000000</td>\n",
       "      <td>0.000000</td>\n",
       "      <td>7.910400</td>\n",
       "    </tr>\n",
       "    <tr>\n",
       "      <th>50%</th>\n",
       "      <td>446.000000</td>\n",
       "      <td>0.000000</td>\n",
       "      <td>3.000000</td>\n",
       "      <td>28.000000</td>\n",
       "      <td>0.000000</td>\n",
       "      <td>0.000000</td>\n",
       "      <td>14.454200</td>\n",
       "    </tr>\n",
       "    <tr>\n",
       "      <th>75%</th>\n",
       "      <td>668.500000</td>\n",
       "      <td>1.000000</td>\n",
       "      <td>3.000000</td>\n",
       "      <td>38.000000</td>\n",
       "      <td>1.000000</td>\n",
       "      <td>0.000000</td>\n",
       "      <td>31.000000</td>\n",
       "    </tr>\n",
       "    <tr>\n",
       "      <th>max</th>\n",
       "      <td>891.000000</td>\n",
       "      <td>1.000000</td>\n",
       "      <td>3.000000</td>\n",
       "      <td>80.000000</td>\n",
       "      <td>8.000000</td>\n",
       "      <td>6.000000</td>\n",
       "      <td>512.329200</td>\n",
       "    </tr>\n",
       "  </tbody>\n",
       "</table>\n",
       "</div>"
      ],
      "text/plain": [
       "       PassengerId    Survived      Pclass         Age       SibSp  \\\n",
       "count   891.000000  891.000000  891.000000  714.000000  891.000000   \n",
       "mean    446.000000    0.383838    2.308642   29.699118    0.523008   \n",
       "std     257.353842    0.486592    0.836071   14.526497    1.102743   \n",
       "min       1.000000    0.000000    1.000000    0.420000    0.000000   \n",
       "25%     223.500000    0.000000    2.000000   20.125000    0.000000   \n",
       "50%     446.000000    0.000000    3.000000   28.000000    0.000000   \n",
       "75%     668.500000    1.000000    3.000000   38.000000    1.000000   \n",
       "max     891.000000    1.000000    3.000000   80.000000    8.000000   \n",
       "\n",
       "            Parch        Fare  \n",
       "count  891.000000  891.000000  \n",
       "mean     0.381594   32.204208  \n",
       "std      0.806057   49.693429  \n",
       "min      0.000000    0.000000  \n",
       "25%      0.000000    7.910400  \n",
       "50%      0.000000   14.454200  \n",
       "75%      0.000000   31.000000  \n",
       "max      6.000000  512.329200  "
      ]
     },
     "execution_count": 7,
     "metadata": {},
     "output_type": "execute_result"
    }
   ],
   "source": [
    "train.describe()"
   ]
  },
  {
   "cell_type": "markdown",
   "metadata": {
    "_cell_guid": "1f01c055-94c4-bc7e-e492-bd37746b8019",
    "_uuid": "3056b7bfa53e6eeedf22bee35f9681dc18b907b8"
   },
   "source": [
    "The minimum/maximum values for pclass, age, sibsb, parch shows us the range of these features. Also we see that there's quite a range in fares."
   ]
  },
  {
   "cell_type": "markdown",
   "metadata": {
    "_cell_guid": "82391281-5669-47fb-39de-a6460223ffcc",
    "_uuid": "6138b25d1627ace70d4c8571dfb44b361b6babd8"
   },
   "source": [
    "### *Missing values* \n",
    "* 결측치"
   ]
  },
  {
   "cell_type": "code",
   "execution_count": 8,
   "metadata": {},
   "outputs": [
    {
     "data": {
      "text/plain": [
       "PassengerId      0\n",
       "Survived         0\n",
       "Pclass           0\n",
       "Name             0\n",
       "Sex              0\n",
       "Age            177\n",
       "SibSp            0\n",
       "Parch            0\n",
       "Ticket           0\n",
       "Fare             0\n",
       "Cabin          687\n",
       "Embarked         2\n",
       "dtype: int64"
      ]
     },
     "metadata": {},
     "output_type": "display_data"
    },
    {
     "name": "stdout",
     "output_type": "stream",
     "text": [
      "<class 'pandas.core.frame.DataFrame'>\n",
      "RangeIndex: 418 entries, 0 to 417\n",
      "Data columns (total 11 columns):\n",
      " #   Column       Non-Null Count  Dtype  \n",
      "---  ------       --------------  -----  \n",
      " 0   PassengerId  418 non-null    int64  \n",
      " 1   Pclass       418 non-null    int64  \n",
      " 2   Name         418 non-null    object \n",
      " 3   Sex          418 non-null    object \n",
      " 4   Age          332 non-null    float64\n",
      " 5   SibSp        418 non-null    int64  \n",
      " 6   Parch        418 non-null    int64  \n",
      " 7   Ticket       418 non-null    object \n",
      " 8   Fare         417 non-null    float64\n",
      " 9   Cabin        91 non-null     object \n",
      " 10  Embarked     418 non-null    object \n",
      "dtypes: float64(2), int64(4), object(5)\n",
      "memory usage: 36.0+ KB\n"
     ]
    },
    {
     "data": {
      "text/plain": [
       "None"
      ]
     },
     "metadata": {},
     "output_type": "display_data"
    }
   ],
   "source": [
    "display(train.isnull().sum())\n",
    "display(test.info())"
   ]
  },
  {
   "cell_type": "markdown",
   "metadata": {
    "_cell_guid": "0b174398-7143-e60e-576f-83202ea9131e",
    "_uuid": "77618d861ab71628a530f1990293ed3282586168"
   },
   "source": [
    "Knowing about missing values is important because they indicate how much we don't know about our data. Making inferences based on just a few cases is often unwise.In addition ,  many modelling procedures break down when missing values are involved and the corresponding rows will either have to be removed completely or the values need to be estimated somehow.\n",
    "\n",
    "집 나간 자식, 보이지 않는 자식의 중요성은 이루 말할 필요가 없다. 집 나간 자식을 고려함이 없이 성급히 재산분할하게 되면은 집안이 풍비박산나듯이 ML을 이용한 데이터분석에서도 결측치를 고려하지 않은 추론은  잘못된 분석의 길로 이끌게 된다.\n",
    "\n",
    "**We learn:**\n",
    "\n",
    "* In the **training data** a large majority of *Cabin* numbers are missing, together with 177 *Age* values and 2 *Embarked* values.\n",
    "* Also, in the **test** data there is one *Fare* missing (cheeky selection), almost 100 *Age* values are unknown, and only 91 *Cabin* numbers were preserved, Best to keep that in mind."
   ]
  },
  {
   "cell_type": "code",
   "execution_count": 9,
   "metadata": {},
   "outputs": [
    {
     "name": "stdout",
     "output_type": "stream",
     "text": [
      "Survived : 342, (38.4%) Not Survived : 549, (61.6%), Total : 891\n"
     ]
    }
   ],
   "source": [
    "surv = train[train[\"Survived\"]==1]\n",
    "nosurv = train[train[\"Survived\"]==0]\n",
    "\n",
    "surv_col = \"blue\"\n",
    "nosurv_col = \"red\"\n",
    "surv_percent = 1.0 * surv.shape[0] / train.shape[0] * 100.0\n",
    "nosurv_percent = 1.0 * nosurv.shape[0] / train.shape[0] * 100.0\n",
    "\n",
    "print(f\"Survived : {surv.shape[0]}, ({surv_percent:.1f}%) \\\n",
    "Not Survived : {nosurv.shape[0]}, ({nosurv_percent:.1f}%), Total : {train.shape[0]}\")"
   ]
  },
  {
   "cell_type": "markdown",
   "metadata": {
    "_cell_guid": "a887777e-bd45-cea2-1ead-0597e83baedd",
    "_uuid": "f82530d1f57535078a58d0c232934b22a12afd98"
   },
   "source": [
    "In our training data set about 60% of the passengers didn't survive. By flat out predicting that everyone in the testing data set died we would get a 60% accuracy. Let's try to do better than that.\n",
    "\n",
    "Here we also define a consistent colour scheme for the distingushing between survived / not survived. This scheme will(soon) be used throughout this kernel."
   ]
  },
  {
   "cell_type": "markdown",
   "metadata": {},
   "source": [
    "OK, Let's go through the features one by one to see what we find. Here we will see how the distributions of survivors and non-survivors compare.\n",
    "\n",
    "Personally, I like histogram for first look at comparing two or more populations in case of scaled features.\n",
    "\n",
    "For categorical features we will use barplots plus standard deviation bars, to better judge the significance."
   ]
  },
  {
   "cell_type": "markdown",
   "metadata": {},
   "source": [
    "* Age피처의 널값을 제외하고 historgram와 Density보기"
   ]
  },
  {
   "cell_type": "code",
   "execution_count": 10,
   "metadata": {},
   "outputs": [
    {
     "name": "stdout",
     "output_type": "stream",
     "text": [
      "생존자의 나이 중앙값 :28.0, 사망자의 나이 중앙값 : 28.0\n"
     ]
    },
    {
     "data": {
      "image/png": "[encoded data removed]",
      "text/plain": [
       "<Figure size 864x720 with 7 Axes>"
      ]
     },
     "metadata": {},
     "output_type": "display_data"
    }
   ],
   "source": [
    "plt.figure(figsize=[12, 10])\n",
    "plt.subplot(331)  #행 - 3, 열 - 3, 1 - 첫번째 열\n",
    "sns.distplot(surv['Age'].dropna(), bins = range(0, 81, 1), kde=False, color=surv_col)\n",
    "sns.distplot(nosurv['Age'].dropna(), bins = range(0, 81, 1), kde=False, color=nosurv_col, axlabel='Age')\n",
    "\n",
    "plt.subplot(332)\n",
    "sns.barplot(x=\"Sex\", y=\"Survived\", data=train)\n",
    "\n",
    "plt.subplot(333)\n",
    "sns.barplot(x=\"Pclass\", y=\"Survived\", data=train)\n",
    "\n",
    "plt.subplot(334)\n",
    "sns.barplot(x=\"Embarked\", y=\"Survived\", data=train)\n",
    "\n",
    "plt.subplot(335)\n",
    "sns.barplot(x=\"SibSp\", y=\"Survived\", data=train)\n",
    "\n",
    "plt.subplot(336)\n",
    "sns.barplot(\"Parch\", \"Survived\", data=train)\n",
    "\n",
    "plt.subplot(337)\n",
    "sns.distplot(np.log10(surv[\"Fare\"].dropna()+1), kde=False, color=surv_col)\n",
    "sns.distplot(np.log10(nosurv[\"Fare\"].dropna()+1), kde=False, color=nosurv_col, axlabel='Fare')\n",
    "\n",
    "plt.subplots_adjust(top=0.92, bottom=0.08, left=0.10, right=0.95, hspace=0.25, wspace=0.35)\n",
    "\n",
    "print(f\"생존자의 나이 중앙값 :{np.median(surv['Age'].dropna())}, \\\n",
    "사망자의 나이 중앙값 : {np.median(nosurv['Age'].dropna())}\")"
   ]
  },
  {
   "cell_type": "markdown",
   "metadata": {
    "_cell_guid": "7cd2d16c-9991-d451-34f9-775a2ac76a8d",
    "_uuid": "868444b9dbb41c14c0a80025ae495d9414c89874"
   },
   "source": [
    "Above we are creating a kind of summary dashboard, where we collect relevant visualization to study the distributions of the individual features.\n",
    "\n",
    "We use the matplotlib subplot tool to line up the individual plots in a grid.\n",
    "We use overlapping histograms for ordinal features and barplots for categorical features.\n",
    "\n",
    "The barplots show the fraction of people(per group) who survived.\n",
    "There's a lot going on in this feature, so take your time to look at all the details.\n",
    "\n",
    "**We learn** the following things from studying the individual featues:\n",
    "\n",
    "* *Age*: The medians are identical. However, it's noticeable that fewer young adults have survived(age 18-30-ish) whereas **children younger than 10-ish had a better survival rate.** \n",
    "Also, there are no obvious outliers that would indicate problematic input data.The highest ages are well consistent with the oveall distribution. There is a notable shortage of teenagers compared to the crowd of younger kids. But this could have  natural reasons.\n",
    "\n",
    "* *Pclas*: There's a clear trend that **being a 1st class passenger gives you better chances of survival.** Life just isn't fair.\n",
    "\n",
    "* *SibSp & Parch* : **Having 1-3 sibslings/spouses/parents/children on board(Sibsp = 1-2, Parch = 1-3) suggests proportionally better survival numbers than being alone (SibS + Parch = 0) or having a large family travelling with you.**\n",
    "\n",
    "* *Embarked*: Well, that does look more interesting thatn expected. \n",
    "**Embarking at \"C\" resulted in a hightest survival rate than embarking at \"S\".** There might be a correlation with other variables, here through.\n",
    "\n",
    "* *Fare*: This is case where a linear scaling isn't of much help becuase there is a smaller number of more extreme numbers. A natural choice in this case is to transform the values logarithmically. For this to work we need to adjust for the zero-fare entries. The plot tells us that the **survival changes were much lower thatn the cheaper cabins.** Naively, one would assume that those cheap cabins were mostly located deeper inside the ship, i.e. further away from the life boats.\n",
    "Profit maximization theory prevaled everything,\n",
    "\n",
    "\n",
    "A little follow up:\n",
    "\n",
    "For *SibSp* we see in the plot that most of the differences are not very significant (overlapping error bars). Another way of checking the actual numberes are through *cross tables*:."
   ]
  },
  {
   "cell_type": "markdown",
   "metadata": {},
   "source": [
    "* crosstab을 이용한 피처와 타겟컬럼"
   ]
  },
  {
   "cell_type": "markdown",
   "metadata": {
    "_cell_guid": "e7b3f4bc-f7e9-d229-3417-f7f0fe684d14",
    "_uuid": "d0c1e9fde265e5dd568189fb0bef3704a863fe76"
   },
   "source": [
    "A little follow up: **SibSp** we see in the plot that most of the differences are not very significant(overlappring erros bars).\n",
    "\n",
    "Another way of checking the actual numbers are through **cross tables**."
   ]
  },
  {
   "cell_type": "code",
   "execution_count": 11,
   "metadata": {},
   "outputs": [
    {
     "data": {
      "text/html": [
       "<div>\n",
       "<style scoped>\n",
       "    .dataframe tbody tr th:only-of-type {\n",
       "        vertical-align: middle;\n",
       "    }\n",
       "\n",
       "    .dataframe tbody tr th {\n",
       "        vertical-align: top;\n",
       "    }\n",
       "\n",
       "    .dataframe thead th {\n",
       "        text-align: right;\n",
       "    }\n",
       "</style>\n",
       "<table border=\"1\" class=\"dataframe\">\n",
       "  <thead>\n",
       "    <tr style=\"text-align: right;\">\n",
       "      <th>Survived</th>\n",
       "      <th>0</th>\n",
       "      <th>1</th>\n",
       "    </tr>\n",
       "    <tr>\n",
       "      <th>SibSp</th>\n",
       "      <th></th>\n",
       "      <th></th>\n",
       "    </tr>\n",
       "  </thead>\n",
       "  <tbody>\n",
       "    <tr>\n",
       "      <th>0</th>\n",
       "      <td>398</td>\n",
       "      <td>210</td>\n",
       "    </tr>\n",
       "    <tr>\n",
       "      <th>1</th>\n",
       "      <td>97</td>\n",
       "      <td>112</td>\n",
       "    </tr>\n",
       "    <tr>\n",
       "      <th>2</th>\n",
       "      <td>15</td>\n",
       "      <td>13</td>\n",
       "    </tr>\n",
       "    <tr>\n",
       "      <th>3</th>\n",
       "      <td>12</td>\n",
       "      <td>4</td>\n",
       "    </tr>\n",
       "    <tr>\n",
       "      <th>4</th>\n",
       "      <td>15</td>\n",
       "      <td>3</td>\n",
       "    </tr>\n",
       "    <tr>\n",
       "      <th>5</th>\n",
       "      <td>5</td>\n",
       "      <td>0</td>\n",
       "    </tr>\n",
       "    <tr>\n",
       "      <th>8</th>\n",
       "      <td>7</td>\n",
       "      <td>0</td>\n",
       "    </tr>\n",
       "  </tbody>\n",
       "</table>\n",
       "</div>"
      ],
      "text/plain": [
       "Survived    0    1\n",
       "SibSp             \n",
       "0         398  210\n",
       "1          97  112\n",
       "2          15   13\n",
       "3          12    4\n",
       "4          15    3\n",
       "5           5    0\n",
       "8           7    0"
      ]
     },
     "metadata": {},
     "output_type": "display_data"
    }
   ],
   "source": [
    "tab = pd.crosstab(train[\"SibSp\"], train[\"Survived\"])\n",
    "display(tab)"
   ]
  },
  {
   "cell_type": "code",
   "execution_count": 12,
   "metadata": {},
   "outputs": [
    {
     "data": {
      "text/plain": [
       "SibSp\n",
       "0    608\n",
       "1    209\n",
       "2     28\n",
       "3     16\n",
       "4     18\n",
       "5      5\n",
       "8      7\n",
       "dtype: int64"
      ]
     },
     "metadata": {},
     "output_type": "display_data"
    },
    {
     "data": {
      "text/plain": [
       "pandas.core.frame.DataFrame"
      ]
     },
     "metadata": {},
     "output_type": "display_data"
    }
   ],
   "source": [
    "# (자손 + 배우자 )수 별 승객수\n",
    "display(tab.sum(axis=1), type(tab))"
   ]
  },
  {
   "cell_type": "code",
   "execution_count": 13,
   "metadata": {},
   "outputs": [
    {
     "data": {
      "text/html": [
       "<div>\n",
       "<style scoped>\n",
       "    .dataframe tbody tr th:only-of-type {\n",
       "        vertical-align: middle;\n",
       "    }\n",
       "\n",
       "    .dataframe tbody tr th {\n",
       "        vertical-align: top;\n",
       "    }\n",
       "\n",
       "    .dataframe thead th {\n",
       "        text-align: right;\n",
       "    }\n",
       "</style>\n",
       "<table border=\"1\" class=\"dataframe\">\n",
       "  <thead>\n",
       "    <tr style=\"text-align: right;\">\n",
       "      <th>Survived</th>\n",
       "      <th>0</th>\n",
       "      <th>1</th>\n",
       "    </tr>\n",
       "    <tr>\n",
       "      <th>SibSp</th>\n",
       "      <th></th>\n",
       "      <th></th>\n",
       "    </tr>\n",
       "  </thead>\n",
       "  <tbody>\n",
       "    <tr>\n",
       "      <th>0</th>\n",
       "      <td>0.654605</td>\n",
       "      <td>0.345395</td>\n",
       "    </tr>\n",
       "    <tr>\n",
       "      <th>1</th>\n",
       "      <td>0.464115</td>\n",
       "      <td>0.535885</td>\n",
       "    </tr>\n",
       "    <tr>\n",
       "      <th>2</th>\n",
       "      <td>0.535714</td>\n",
       "      <td>0.464286</td>\n",
       "    </tr>\n",
       "    <tr>\n",
       "      <th>3</th>\n",
       "      <td>0.750000</td>\n",
       "      <td>0.250000</td>\n",
       "    </tr>\n",
       "    <tr>\n",
       "      <th>4</th>\n",
       "      <td>0.833333</td>\n",
       "      <td>0.166667</td>\n",
       "    </tr>\n",
       "    <tr>\n",
       "      <th>5</th>\n",
       "      <td>1.000000</td>\n",
       "      <td>0.000000</td>\n",
       "    </tr>\n",
       "    <tr>\n",
       "      <th>8</th>\n",
       "      <td>1.000000</td>\n",
       "      <td>0.000000</td>\n",
       "    </tr>\n",
       "  </tbody>\n",
       "</table>\n",
       "</div>"
      ],
      "text/plain": [
       "Survived         0         1\n",
       "SibSp                       \n",
       "0         0.654605  0.345395\n",
       "1         0.464115  0.535885\n",
       "2         0.535714  0.464286\n",
       "3         0.750000  0.250000\n",
       "4         0.833333  0.166667\n",
       "5         1.000000  0.000000\n",
       "8         1.000000  0.000000"
      ]
     },
     "metadata": {},
     "output_type": "display_data"
    }
   ],
   "source": [
    "# (자손+배우자)수 별 사망, 생존 비율\n",
    "display(tab.div(tab.sum(axis=1).astype(float), axis=0))"
   ]
  },
  {
   "cell_type": "code",
   "execution_count": 14,
   "metadata": {},
   "outputs": [
    {
     "data": {
      "image/png": "[encoded data removed]",
      "text/plain": [
       "<Figure size 432x288 with 1 Axes>"
      ]
     },
     "metadata": {},
     "output_type": "display_data"
    }
   ],
   "source": [
    "sibsp_survivor_ratio = tab.div(tab.sum(axis=1).astype(float), axis=0)\n",
    "sibsp_survivor_ratio.plot(kind='bar', stacked=True, color=[nosurv_col, surv_col])\n",
    "plt.xlabel(\"SibSp\")\n",
    "plt.ylabel(\"Survivor ratio vs SibSp\")\n",
    "plt.show()"
   ]
  },
  {
   "cell_type": "markdown",
   "metadata": {},
   "source": [
    "Passengers with more thatn 3 children+parents on board has low survivial chances. However the corresponding number are not very large.\n",
    "For SibSp we have 15 vs 3, 5 vs 0, and 7 vs 0.\n",
    "\n",
    "Random outcomes with 2 possibilities(like head or tails when flipping a coin) follow the binomial distribution. We can use a binomial test to estimate the probability that 5 non-survivors out of a total 5 passengers with SibSp = 5 happended due to chance assuming the overall 38% survival change for the entire sample."
   ]
  },
  {
   "cell_type": "code",
   "execution_count": 15,
   "metadata": {
    "execution": {
     "iopub.execute_input": "2021-09-14T15:02:40.990909Z",
     "iopub.status.busy": "2021-09-14T15:02:40.990364Z",
     "iopub.status.idle": "2021-09-14T15:02:41.000498Z",
     "shell.execute_reply": "2021-09-14T15:02:40.999605Z",
     "shell.execute_reply.started": "2021-09-14T15:02:40.990849Z"
    }
   },
   "outputs": [
    {
     "data": {
      "text/plain": [
       "0.16417601600000004"
      ]
     },
     "execution_count": 15,
     "metadata": {},
     "output_type": "execute_result"
    }
   ],
   "source": [
    "# p - 생존할 확률, n  - the number of trials, x - 생존자로 판명되는 횟수\n",
    "stats.binom_test(x=5, n=5, p=0.62)"
   ]
  },
  {
   "cell_type": "markdown",
   "metadata": {
    "_cell_guid": "2b2c444d-e6b8-2249-4e2e-c7d9ef0a382e",
    "_uuid": "cbdf6a5be1b5ed0b1046f8c7d056a40c795708c4"
   },
   "source": [
    "Anything above 0.05 is usually not significant and therefore solely based on these numbers we cannot say whether the SibSp=5 sample behaves differencet than the rest.\n",
    "\n",
    "For larger numbers of Parch we have 4 vs 0, 4 vs 1, and 1 vs0. Just by themselves, the last two are definetely not impressive.\n",
    "Combining them into parch >= 4 gives us 9 vs 1 which is much better.\n",
    "\n",
    "**We learn:** parch<=4 and sibSp >= 3 is bad. So is parch + sibsp = 0(i.e. both 0). Parch in 1-3 SibSp in 1-2 is good."
   ]
  },
  {
   "cell_type": "markdown",
   "metadata": {
    "_cell_guid": "e39d131f-ee82-c8c4-11bb-5e6ee9118b44",
    "_uuid": "143b0e604f610b335371a3f4778c9c3fab461195"
   },
   "source": [
    "### *Cabin numbers*"
   ]
  },
  {
   "cell_type": "markdown",
   "metadata": {
    "_cell_guid": "ee1d9941-0794-a2ac-a23d-7392d993edd9",
    "_uuid": "498608b1815b51fc99d500ebe8671b41c66332ad"
   },
   "source": [
    "This is a tricky feature because there are so many missing values and the strings don't all have the same number or formatting."
   ]
  },
  {
   "cell_type": "code",
   "execution_count": 16,
   "metadata": {},
   "outputs": [
    {
     "name": "stdout",
     "output_type": "stream",
     "text": [
      "891개의 학습 데이터세트 피처중에 204개의 널값이 존재\n",
      "418개의 테스트 데이터셋 피처중에 91개의 널값이 존재\n"
     ]
    },
    {
     "data": {
      "text/html": [
       "<div>\n",
       "<style scoped>\n",
       "    .dataframe tbody tr th:only-of-type {\n",
       "        vertical-align: middle;\n",
       "    }\n",
       "\n",
       "    .dataframe tbody tr th {\n",
       "        vertical-align: top;\n",
       "    }\n",
       "\n",
       "    .dataframe thead th {\n",
       "        text-align: right;\n",
       "    }\n",
       "</style>\n",
       "<table border=\"1\" class=\"dataframe\">\n",
       "  <thead>\n",
       "    <tr style=\"text-align: right;\">\n",
       "      <th></th>\n",
       "      <th>Survived</th>\n",
       "      <th>Cabin</th>\n",
       "    </tr>\n",
       "  </thead>\n",
       "  <tbody>\n",
       "    <tr>\n",
       "      <th>1</th>\n",
       "      <td>1</td>\n",
       "      <td>C85</td>\n",
       "    </tr>\n",
       "    <tr>\n",
       "      <th>3</th>\n",
       "      <td>1</td>\n",
       "      <td>C123</td>\n",
       "    </tr>\n",
       "    <tr>\n",
       "      <th>6</th>\n",
       "      <td>0</td>\n",
       "      <td>E46</td>\n",
       "    </tr>\n",
       "    <tr>\n",
       "      <th>10</th>\n",
       "      <td>1</td>\n",
       "      <td>G6</td>\n",
       "    </tr>\n",
       "    <tr>\n",
       "      <th>11</th>\n",
       "      <td>1</td>\n",
       "      <td>C103</td>\n",
       "    </tr>\n",
       "    <tr>\n",
       "      <th>21</th>\n",
       "      <td>1</td>\n",
       "      <td>D56</td>\n",
       "    </tr>\n",
       "    <tr>\n",
       "      <th>23</th>\n",
       "      <td>1</td>\n",
       "      <td>A6</td>\n",
       "    </tr>\n",
       "    <tr>\n",
       "      <th>27</th>\n",
       "      <td>0</td>\n",
       "      <td>C23 C25 C27</td>\n",
       "    </tr>\n",
       "  </tbody>\n",
       "</table>\n",
       "</div>"
      ],
      "text/plain": [
       "    Survived        Cabin\n",
       "1          1          C85\n",
       "3          1         C123\n",
       "6          0          E46\n",
       "10         1           G6\n",
       "11         1         C103\n",
       "21         1          D56\n",
       "23         1           A6\n",
       "27         0  C23 C25 C27"
      ]
     },
     "metadata": {},
     "output_type": "display_data"
    }
   ],
   "source": [
    "non_null_cnt = train[\"Cabin\"].dropna().shape[0]\n",
    "tot_cnt = train[\"Cabin\"].shape[0]\n",
    "print(f\"{tot_cnt}개의 학습 데이터세트 피처중에 {non_null_cnt}개의 널값이 존재\")\n",
    "print(f\"{test['Cabin'].shape[0]}개의 테스트 데이터셋 피처중에 {test['Cabin'].dropna().shape[0]}개의 널값이 존재\")\n",
    "\n",
    "# Cabin피처중에 널값을 제외하고 8개만 보여줘\n",
    "display(train.loc[:, [\"Survived\", \"Cabin\"]].dropna().head(8))"
   ]
  },
  {
   "cell_type": "markdown",
   "metadata": {
    "execution": {
     "iopub.execute_input": "2021-09-14T15:02:41.002587Z",
     "iopub.status.busy": "2021-09-14T15:02:41.002054Z",
     "iopub.status.idle": "2021-09-14T15:02:41.068780Z",
     "shell.execute_reply": "2021-09-14T15:02:41.067870Z",
     "shell.execute_reply.started": "2021-09-14T15:02:41.002529Z"
    }
   },
   "source": [
    "**We can try out:**\n",
    "* I suppose one could take the starting letters, which might indicate specific decks on the ship, and use them as an additional classifier. But for less than 25% of cabins known this might not be very useful.\n",
    "We'll see.\n",
    "* Also, given that so few cabin numbers are known it doesn't seem that there are good records of them.\n",
    "Therefore, one should assume that it's more likely to know someone's cabin number if they survived.\n",
    "Let's see about that in the derived features.\n",
    "\n",
    "*TODO*: Why do some people have multiple cabin numbers? What does that mean?"
   ]
  },
  {
   "cell_type": "markdown",
   "metadata": {
    "_cell_guid": "73a58036-92fd-0383-f3c2-68246872f139",
    "_uuid": "6d1cf819fb80eb9a919b596b96910693bcc8a0a5"
   },
   "source": [
    "## *Ticket numbers*"
   ]
  },
  {
   "cell_type": "markdown",
   "metadata": {
    "_cell_guid": "ad417d32-f31b-7613-37b4-f84a88977ce6",
    "_uuid": "595b971285ff1c4e5dd6c3972f6e6f171083746f"
   },
   "source": [
    "That seems to be a hopeless variable at first because it just looks like random strings. But in these days, when you were travelling as a group/family did everyone really get their own ticket? Let's find out how many unique ticket numbers there are:"
   ]
  },
  {
   "cell_type": "code",
   "execution_count": 17,
   "metadata": {},
   "outputs": [
    {
     "name": "stdout",
     "output_type": "stream",
     "text": [
      "총 891개의 티켓중에 유니크한 티켓 수는 681입니다.\n"
     ]
    }
   ],
   "source": [
    "print(f\"총 {train['Ticket'].count()}개의 티켓중에 유니크한 티켓 수는 {train['Ticket'].nunique()}입니다.\")"
   ]
  },
  {
   "cell_type": "markdown",
   "metadata": {
    "_cell_guid": "b8d790ab-02b1-8553-426e-7a006a19b7e4",
    "_uuid": "3e73b9303cbe396157bff25ad953de83df0cf03b"
   },
   "source": [
    "Interesting. Sharing a ticket is not uncommon. Let's follow that up a bit."
   ]
  },
  {
   "cell_type": "code",
   "execution_count": 18,
   "metadata": {},
   "outputs": [
    {
     "name": "stdout",
     "output_type": "stream",
     "text": [
      "     Survived                                               Name  Fare Cabin\n",
      "257         1                               Cherry, Miss. Gladys  86.5   B77\n",
      "504         1                              Maioni, Miss. Roberta  86.5   B79\n",
      "759         1  Rothes, the Countess. of (Lucy Noel Martha Dye...  86.5   B77\n",
      "     Survived                                    Name   Fare Cabin\n",
      "262         0                       Taussig, Mr. Emil  79.65   E67\n",
      "558         1  Taussig, Mrs. Emil (Tillie Mandelbaum)  79.65   E67\n",
      "585         1                     Taussig, Miss. Ruth  79.65   E68\n",
      "     Survived                            Name  Fare Cabin\n",
      "110         0  Porter, Mr. Walter Chamberlain  52.0  C110\n",
      "475         0     Clifford, Mr. George Quincy  52.0   A14\n",
      "     Survived                                             Name     Fare Cabin\n",
      "329         1                     Hippach, Miss. Jean Gertrude  57.9792   B18\n",
      "523         1  Hippach, Mrs. Louis Albert (Ida Sophia Fischer)  57.9792   B18\n",
      "     Survived                                    Name  Fare Cabin\n",
      "166         1  Chibnall, Mrs. (Edith Martha Bowerman)  55.0   E33\n",
      "356         1             Bowerman, Miss. Elsie Edith  55.0   E33\n",
      "     Survived                                       Name  Fare Cabin\n",
      "61          1                        Icard, Miss. Amelie  80.0   B28\n",
      "829         1  Stone, Mrs. George Nelson (Martha Evelyn)  80.0   B28\n",
      "     Survived                                       Name   Fare    Cabin\n",
      "390         1                 Carter, Mr. William Ernest  120.0  B96 B98\n",
      "435         1                  Carter, Miss. Lucile Polk  120.0  B96 B98\n",
      "763         1  Carter, Mrs. William Ernest (Lucile Polk)  120.0  B96 B98\n",
      "802         1        Carter, Master. William Thornton II  120.0  B96 B98\n",
      "     Survived                               Name  Fare Cabin\n",
      "151         1  Pears, Mrs. Thomas (Edith Wearne)  66.6    C2\n",
      "336         0          Pears, Mr. Thomas Clinton  66.6    C2\n",
      "     Survived                                             Name    Fare  \\\n",
      "297         0                     Allison, Miss. Helen Loraine  151.55   \n",
      "305         1                   Allison, Master. Hudson Trevor  151.55   \n",
      "498         0  Allison, Mrs. Hudson J C (Bessie Waldo Daniels)  151.55   \n",
      "708         1                             Cleaver, Miss. Alice  151.55   \n",
      "\n",
      "       Cabin  \n",
      "297  C22 C26  \n",
      "305  C22 C26  \n",
      "498  C22 C26  \n",
      "708      NaN  \n",
      "     Survived                                               Name  Fare Cabin\n",
      "35          0                     Holverson, Mr. Alexander Oskar  52.0   NaN\n",
      "383         1  Holverson, Mrs. Alexander Oskar (Mary Aline To...  52.0   NaN\n",
      "     Survived                     Name  Fare Cabin\n",
      "270         0    Cairns, Mr. Alexander  31.0   NaN\n",
      "842         1  Serepeca, Miss. Augusta  31.0   NaN\n"
     ]
    }
   ],
   "source": [
    "grouped = train.groupby(\"Ticket\")\n",
    "#dir(grouped)  # 리스트 타입으로 사용가능한 함수 및 피처를 보여줌\n",
    "k = 0\n",
    "# name - Groupby한 피처의 개별 값. group - name에 groupby된 피처들 데이터, grouped.get_group(name) - group에 속한 피처명\n",
    "for name, group in grouped:\n",
    "    if len(grouped.get_group(name)) > 1:\n",
    "        #print(f\" k 가 {k}일때이 name - {name}, group - {group}, group name : {grouped.get_group(name)}\")\n",
    "        print(group.loc[:, [\"Survived\", \"Name\", \"Fare\", \"Cabin\"]])\n",
    "        k += 1\n",
    "    if k > 10:\n",
    "        break"
   ]
  },
  {
   "cell_type": "markdown",
   "metadata": {
    "execution": {
     "iopub.execute_input": "2021-09-14T15:02:41.078300Z",
     "iopub.status.busy": "2021-09-14T15:02:41.077831Z",
     "iopub.status.idle": "2021-09-14T15:02:41.400959Z",
     "shell.execute_reply": "2021-09-14T15:02:41.400057Z",
     "shell.execute_reply.started": "2021-09-14T15:02:41.078243Z"
    }
   },
   "source": [
    "**We can try out:**\n",
    "\n",
    "Working hypothesis: If your group(mostly family) survived then you survived as well, unless you were a man(and presumably helped your wife/daughter/lady friend). We could go through the trouble here to identify families by last name. However\n",
    "\n",
    "1. Common last names might not be unique in the passenger list.\n",
    "2. As we see above a ticket is not always shared by people with a common name.\n",
    "\n",
    "Therefore, a shared ticket might actually be a stronger predictor.\n",
    "Of course this assumption should be tested by doing the last-name thing too.\n",
    "In addition, we see that the *Fare* was identical for all the passengers in each ticket group.This is something we will explore in more details below."
   ]
  },
  {
   "cell_type": "markdown",
   "metadata": {
    "_cell_guid": "67729bcd-5d2b-5ae1-0772-b9dc4267cfcd",
    "_uuid": "54988a8a9c747d599ba63b96c234d7d69e9516f8"
   },
   "source": [
    "[Go to the top of the page](#top)"
   ]
  },
  {
   "cell_type": "markdown",
   "metadata": {
    "_cell_guid": "f9e59726-ac1c-ab90-22d1-f95ac8cd5086",
    "_uuid": "12c568c952dbdb356417d27588571b29f2a47a75"
   },
   "source": [
    "# 3. Relations between features"
   ]
  },
  {
   "cell_type": "markdown",
   "metadata": {},
   "source": [
    "After inspecting the available features individually you might have realized that some of them are likely to be connected. Does the age-dependent survival change with Sex?  How are *Pclass* and *Fare* related?\n",
    "Are they strongly enough connected so that one of them is superfluous? Let's find out.\n",
    "\n",
    "Now we are connecting individual clues to get a glimpse of the bigger picture.\n",
    "\n",
    "We start with an **overview plot of the feature relations:** Here we show a *correlation matrix* for each numerical variable with all the other numerical variables. We excluded *PassengerID*, which is merely a row index. \n",
    "In the plot, stronger correlations have brighter colours in either red(positive correlation) or blue(negative correlation). \n",
    "The closer to white a colour is the weaker the correlation."
   ]
  },
  {
   "cell_type": "markdown",
   "metadata": {},
   "source": [
    "#### Heatmap"
   ]
  },
  {
   "cell_type": "code",
   "execution_count": 19,
   "metadata": {},
   "outputs": [],
   "source": [
    "cmaps = ['Accent', 'Accent_r', 'Blues', 'Blues_r', 'BrBG', 'BrBG_r', 'BuGn', 'BuGn_r', 'BuPu', 'BuPu_r', 'CMRmap', 'CMRmap_r', 'Dark2', 'Dark2_r', 'GnBu', 'GnBu_r', 'Greens', 'Greens_r', 'Greys', 'Greys_r', 'OrRd', 'OrRd_r', 'Oranges', 'Oranges_r', 'PRGn', 'PRGn_r', 'Paired', 'Paired_r', 'Pastel1', 'Pastel1_r', 'Pastel2', 'Pastel2_r', 'PiYG', 'PiYG_r', 'PuBu', 'PuBuGn', 'PuBuGn_r', 'PuBu_r', 'PuOr', 'PuOr_r', 'PuRd', 'PuRd_r', 'Purples', 'Purples_r', 'RdBu', 'RdBu_r', 'RdGy', 'RdGy_r', 'RdPu', 'RdPu_r', 'RdYlBu', 'RdYlBu_r', 'RdYlGn', 'RdYlGn_r', 'Reds', 'Reds_r', 'Set1', 'Set1_r', 'Set2', 'Set2_r', 'Set3', 'Set3_r', 'Spectral', 'Spectral_r', 'Wistia', 'Wistia_r', 'YlGn', 'YlGnBu', 'YlGnBu_r', 'YlGn_r', 'YlOrBr', 'YlOrBr_r', 'YlOrRd', 'YlOrRd_r', 'afmhot', 'afmhot_r', 'autumn', 'autumn_r', 'binary', 'binary_r', 'bone', 'bone_r', 'brg', 'brg_r', 'bwr', 'bwr_r', 'cividis', 'cividis_r', 'cool', 'cool_r', 'coolwarm', 'coolwarm_r', 'copper', 'copper_r', 'crest', 'crest_r', 'cubehelix', 'cubehelix_r', 'flag', 'flag_r', 'flare', 'flare_r', 'gist_earth', 'gist_earth_r', 'gist_gray', 'gist_gray_r', 'gist_heat', 'gist_heat_r', 'gist_ncar', 'gist_ncar_r', 'gist_rainbow', 'gist_rainbow_r', 'gist_stern', 'gist_stern_r', 'gist_yarg', 'gist_yarg_r', 'gnuplot', 'gnuplot2', 'gnuplot2_r', 'gnuplot_r', 'gray', 'gray_r', 'hot', 'hot_r', 'hsv', 'hsv_r', 'icefire', 'icefire_r', 'inferno', 'inferno_r', 'jet', 'jet_r', 'magma', 'magma_r', 'mako', 'mako_r', 'nipy_spectral', 'nipy_spectral_r', 'ocean', 'ocean_r', 'pink', 'pink_r', 'plasma', 'plasma_r', 'prism', 'prism_r', 'rainbow', 'rainbow_r', 'rocket', 'rocket_r', 'seismic', 'seismic_r', 'spring', 'spring_r', 'summer', 'summer_r', 'tab10', 'tab10_r', 'tab20', 'tab20_r', 'tab20b', 'tab20b_r', 'tab20c', 'tab20c_r', 'terrain', 'terrain_r', 'turbo', 'turbo_r', 'twilight', 'twilight_r', 'twilight_shifted', 'twilight_shifted_r', 'viridis', 'viridis_r', 'vlag', 'vlag_r', 'winter', 'winter_r']\n",
    "color_maps = np.random.randint(0, 179)"
   ]
  },
  {
   "cell_type": "code",
   "execution_count": 20,
   "metadata": {},
   "outputs": [
    {
     "data": {
      "image/png": "[encoded data removed]",
      "text/plain": [
       "<Figure size 1008x864 with 2 Axes>"
      ]
     },
     "metadata": {},
     "output_type": "display_data"
    }
   ],
   "source": [
    "plt.figure(figsize=(14, 12))\n",
    "featuremap = sns.heatmap(train.drop(\"PassengerId\", axis = 1).corr(), vmax=0.6, square=True, annot=True)"
   ]
  },
  {
   "cell_type": "markdown",
   "metadata": {},
   "source": [
    "*Positive vs negative correlation* needs to be understood in terms of whether an increase on one feature leads to an increase(positive) or decrease(negative) in the correlated feature. \n",
    "\n",
    "Perfect correlation would have a correlation index of 1; pefect anti-correlation(=negative correlation) would have -1 (obviously each feature is perfectly correlated with itself; leading to the deep red diagonal). \n",
    "\n",
    "The upper right vs lower left triangle that make up this plot contain the same information, since the corresponsing cells show the correlation coefficients of the same features.\n",
    "\n",
    "The matrix gives us an overview as to which features are particularly interesting for our analysis. Both strongly positive or negative correlations with the *Survived* feature are valuable. Strong correlations between two other features would suggest that only one of them is necessary for our model(and including the other would in fact induce noise and potentially lead to over-fitting).\n",
    "\n",
    "**We learn:**\n",
    "\n",
    "* *Pclass* is somewhat correlated with *Fare*(1st class tickets would be more expensive than 3rd class ones)\n",
    "* *SibSp* and *Parch* are weakly correlated (large families would have high values for both;solo travellers would have zero for both)\n",
    "* *Pclass* already correlates with *Survived* in a noticeable way"
   ]
  },
  {
   "cell_type": "markdown",
   "metadata": {},
   "source": [
    "#### Pairplot"
   ]
  },
  {
   "cell_type": "markdown",
   "metadata": {},
   "source": [
    "In addtion, we plot a **Pairplot** of the numerical features. This kind of plot is a more detailed visualization of relationship between variables.\n",
    "\n",
    "It shows scatter plots for the different feature combinations plus a distribution of each feature on the diagonal.\n",
    "\n",
    "Again, the upper right and lower left triangle contrain the same information. This kind of plot is vastly more useful for a set of continous variables, instead of the categorical or integer values we have here.\n",
    "\n",
    "Nonetheless, it is a valuable exploratory tool that has a place in everyone's toolbox.\n",
    "\n",
    "This plot is inspired by , and realized much more aesthetically in, the [comprehensive Ensemble Stacking Kernel by Anisotropic](https://www.kaggle.com/arthurtok/introduction-to-ensembling-stacking-in-python)  "
   ]
  },
  {
   "cell_type": "code",
   "execution_count": 21,
   "metadata": {},
   "outputs": [
    {
     "data": {
      "text/plain": [
       "<seaborn.axisgrid.PairGrid at 0x274f000c550>"
      ]
     },
     "execution_count": 21,
     "metadata": {},
     "output_type": "execute_result"
    },
    {
     "data": {
      "image/png": "[encoded data removed]",
      "text/plain": [
       "<Figure size 703.55x648 with 42 Axes>"
      ]
     },
     "metadata": {},
     "output_type": "display_data"
    }
   ],
   "source": [
    "cols = train.dtypes[train.dtypes != object].drop(\"PassengerId\").index.values.tolist()\n",
    "g = sns.pairplot(data=train.dropna(), vars = cols, size=1.5, hue=\"Survived\", palette=[nosurv_col, surv_col])\n",
    "g.set(xticklabels=[])  #x축의 눈금 초기화"
   ]
  },
  {
   "cell_type": "markdown",
   "metadata": {
    "_cell_guid": "19f7f705-6433-fc57-48cc-ce19890bbdc3",
    "_execution_state": "idle",
    "_uuid": "a24861729ecff4d112b6d162e8284d94585f7206",
    "execution": {
     "iopub.execute_input": "2021-09-14T15:02:41.921104Z",
     "iopub.status.busy": "2021-09-14T15:02:41.920510Z",
     "iopub.status.idle": "2021-09-14T15:02:47.227461Z",
     "shell.execute_reply": "2021-09-14T15:02:47.226379Z",
     "shell.execute_reply.started": "2021-09-14T15:02:41.920801Z"
    }
   },
   "source": [
    "Now we continue to examine these initial indications im more detail.\n",
    "Earlier, we had a look at the *Survived* statistics of the individual features in the overview figure. Here, we want to look at correlations beteen the predictor features and how they coud affect the target *Survived* behaviour.\n",
    "\n",
    "Usually It's most interesting to start with the strong signals in the correlation plot and to examine them more in detail."
   ]
  },
  {
   "cell_type": "code",
   "execution_count": 22,
   "metadata": {},
   "outputs": [
    {
     "data": {
      "text/plain": [
       "<AxesSubplot:xlabel='Male Age'>"
      ]
     },
     "execution_count": 22,
     "metadata": {},
     "output_type": "execute_result"
    },
    {
     "data": {
      "image/png": "[encoded data removed]",
      "text/plain": [
       "<Figure size 936x360 with 2 Axes>"
      ]
     },
     "metadata": {},
     "output_type": "display_data"
    }
   ],
   "source": [
    "male_surv = train[(train[\"Survived\"]==1) & (train[\"Sex\"]==\"male\")]\n",
    "female_surv = train[(train[\"Survived\"]==1) & (train[\"Sex\"]==\"female\")]\n",
    "male_nonsurv = train[(train[\"Survived\"]==0) & (train[\"Sex\"]==\"male\")]\n",
    "female_nonsurv = train[(train[\"Survived\"]==0) & (train[\"Sex\"]==\"female\")]\n",
    "\n",
    "plt.figure(figsize=(13, 5))\n",
    "plt.subplot(121)\n",
    "sns.distplot(female_surv[\"Age\"].dropna().values, bins=range(0, 81, 1), kde=False, color=surv_col)\n",
    "sns.distplot(female_nonsurv[\"Age\"].dropna().values, bins=range(0, 81, 1), kde=False, color=nosurv_col,axlabel=\"Female Age\" )\n",
    "\n",
    "plt.subplot(122)\n",
    "sns.distplot(male_surv[\"Age\"].dropna().values, bins=range(0, 81, 1), kde=False, color=surv_col)\n",
    "sns.distplot(male_nonsurv[\"Age\"].dropna().values, bins=range(0, 81, 1), kde=False, color=nosurv_col,axlabel=\"Male Age\" )"
   ]
  },
  {
   "cell_type": "markdown",
   "metadata": {
    "execution": {
     "iopub.execute_input": "2021-09-14T15:02:47.229177Z",
     "iopub.status.busy": "2021-09-14T15:02:47.228839Z",
     "iopub.status.idle": "2021-09-14T15:02:48.237983Z",
     "shell.execute_reply": "2021-09-14T15:02:48.237006Z",
     "shell.execute_reply.started": "2021-09-14T15:02:47.229121Z"
    }
   },
   "source": [
    "**We learn**:\n",
    "\n",
    "* For females the survival chances appear to be higher between 18 and 40, wheres for men in that age range the odds are flipped.This differences between 18-40 years olds might be a better feature than *Sex* and *Age* by themselves.\n",
    "\n",
    "* Boys have proportional better survival chances than men, whereas girls have similar chances as women have. Rather small numbers, though."
   ]
  },
  {
   "cell_type": "markdown",
   "metadata": {},
   "source": [
    "#### Violin Plot"
   ]
  },
  {
   "cell_type": "markdown",
   "metadata": {},
   "source": [
    "We study the correlation of *Age* with *Pclass* using a violin plot, which is also split between survived(right half) and not survived(left half). \n",
    "Check out the other visualizations in your forked copy."
   ]
  },
  {
   "cell_type": "code",
   "execution_count": 23,
   "metadata": {},
   "outputs": [
    {
     "data": {
      "text/plain": [
       "<matplotlib.collections.LineCollection at 0x274f77e9640>"
      ]
     },
     "execution_count": 23,
     "metadata": {},
     "output_type": "execute_result"
    },
    {
     "data": {
      "image/png": "[encoded data removed]",
      "text/plain": [
       "<Figure size 432x288 with 1 Axes>"
      ]
     },
     "metadata": {},
     "output_type": "display_data"
    }
   ],
   "source": [
    "sns.violinplot(x=\"Pclass\", y=\"Age\", hue=\"Survived\", data = train, split=True)\n",
    "plt.hlines([0, 10], xmin = -1, xmax=3, linestyle=\"dotted\")"
   ]
  },
  {
   "cell_type": "markdown",
   "metadata": {},
   "source": [
    "Violin plots are a modified version of boxplots, where the shape is a \"kernel density estimate\" of the underlying distribution. \n",
    "These estimates are smoothed and therefore extends beyond the actual values (look closely at the dotted zero level). I have alson indicated *Age* == 10, which we will use to define children (vs teenages) in the engineering part below.\n",
    "\n",
    "**We learn:**\n",
    "* Age decreases progressively as Pclass decreases from 1st to 3rd.\n",
    "* Most older passengers are 1st class, but very few children are. This conflates the impact of *Age* and *Pclass* on the survival chances.\n",
    "* In 1st class, younger adults had better survival chances than older ones.\n",
    "* Most children in 2nd class survived, and the majority in 3rd class did too."
   ]
  },
  {
   "cell_type": "markdown",
   "metadata": {},
   "source": [
    "#### Mosaic plot"
   ]
  },
  {
   "cell_type": "markdown",
   "metadata": {},
   "source": [
    "For a view into *Pclass vs Sex*. let's use a mosaic plot for a 2-dimensional overview."
   ]
  },
  {
   "cell_type": "code",
   "execution_count": 24,
   "metadata": {},
   "outputs": [
    {
     "data": {
      "image/png": "[encoded data removed]",
      "text/plain": [
       "<Figure size 432x288 with 3 Axes>"
      ]
     },
     "metadata": {},
     "output_type": "display_data"
    }
   ],
   "source": [
    "dummy = mosaic(data= train, index = [\"Survived\", \"Sex\", \"Pclass\"], gap = 0.02 ,title=\"Survival comparison for Sex vs Pclas\")"
   ]
  },
  {
   "cell_type": "markdown",
   "metadata": {},
   "source": [
    "#### Factor plot"
   ]
  },
  {
   "cell_type": "markdown",
   "metadata": {},
   "source": [
    "Also, we will start to use **factorplots**, i.e. groups of **pointplots**, from the seaborn"
   ]
  },
  {
   "cell_type": "code",
   "execution_count": 25,
   "metadata": {},
   "outputs": [
    {
     "data": {
      "image/png": "[encoded data removed]",
      "text/plain": [
       "<Figure size 753.25x252 with 3 Axes>"
      ]
     },
     "metadata": {},
     "output_type": "display_data"
    }
   ],
   "source": [
    "g = sns.factorplot(x=\"Pclass\", y=\"Survived\", data=train, hue=\"Sex\", col= \"Embarked\", aspect=0.9, size=3.5, ci=95.0)"
   ]
  },
  {
   "cell_type": "code",
   "execution_count": 26,
   "metadata": {},
   "outputs": [
    {
     "data": {
      "text/plain": [
       "<seaborn.axisgrid.FacetGrid at 0x274f79365b0>"
      ]
     },
     "execution_count": 26,
     "metadata": {},
     "output_type": "execute_result"
    },
    {
     "data": {
      "image/png": "[encoded data removed]",
      "text/plain": [
       "<Figure size 833.17x158.4 with 3 Axes>"
      ]
     },
     "metadata": {},
     "output_type": "display_data"
    }
   ],
   "source": [
    "grid = sns.FacetGrid(train, col=\"Embarked\", size=2.2, aspect=1.6)\n",
    "grid.map(sns.pointplot, \"Pclass\", \"Survived\", \"Sex\", ci=95.0, palette=\"deep\")\n",
    "grid.add_legend()"
   ]
  },
  {
   "cell_type": "markdown",
   "metadata": {
    "_cell_guid": "a0316d89-6196-5f3e-1a3d-88870a39bf3d",
    "_execution_state": "idle",
    "_uuid": "521670fc2593e52d22370469a72888a217c5eb06"
   },
   "source": [
    "**We learn:**\n",
    "\n",
    "* Both the factorplot and the mosaicplot indicate that almost all females that died were 3rd class passengers.\n",
    "* For males being in 1st class gives a survival boost, otherwise the proportions look roughly similar.\n",
    "* Except for 3rd class, the survivor for *Embarked == Q* is close t0  100% split between male and female.\n",
    "\n",
    "Let's follow up the numbers for *Pclass vs Embarked* with a pandas *crosstab plot*"
   ]
  },
  {
   "cell_type": "markdown",
   "metadata": {},
   "source": [
    "#### Pandas crosstab"
   ]
  },
  {
   "cell_type": "code",
   "execution_count": 27,
   "metadata": {},
   "outputs": [
    {
     "data": {
      "text/html": [
       "<div>\n",
       "<style scoped>\n",
       "    .dataframe tbody tr th:only-of-type {\n",
       "        vertical-align: middle;\n",
       "    }\n",
       "\n",
       "    .dataframe tbody tr th {\n",
       "        vertical-align: top;\n",
       "    }\n",
       "\n",
       "    .dataframe thead th {\n",
       "        text-align: right;\n",
       "    }\n",
       "</style>\n",
       "<table border=\"1\" class=\"dataframe\">\n",
       "  <thead>\n",
       "    <tr style=\"text-align: right;\">\n",
       "      <th>Pclass</th>\n",
       "      <th>1</th>\n",
       "      <th>2</th>\n",
       "      <th>3</th>\n",
       "    </tr>\n",
       "    <tr>\n",
       "      <th>Embarked</th>\n",
       "      <th></th>\n",
       "      <th></th>\n",
       "      <th></th>\n",
       "    </tr>\n",
       "  </thead>\n",
       "  <tbody>\n",
       "    <tr>\n",
       "      <th>C</th>\n",
       "      <td>141</td>\n",
       "      <td>28</td>\n",
       "      <td>101</td>\n",
       "    </tr>\n",
       "    <tr>\n",
       "      <th>Q</th>\n",
       "      <td>3</td>\n",
       "      <td>7</td>\n",
       "      <td>113</td>\n",
       "    </tr>\n",
       "    <tr>\n",
       "      <th>S</th>\n",
       "      <td>177</td>\n",
       "      <td>242</td>\n",
       "      <td>495</td>\n",
       "    </tr>\n",
       "  </tbody>\n",
       "</table>\n",
       "</div>"
      ],
      "text/plain": [
       "Pclass      1    2    3\n",
       "Embarked               \n",
       "C         141   28  101\n",
       "Q           3    7  113\n",
       "S         177  242  495"
      ]
     },
     "metadata": {},
     "output_type": "display_data"
    },
    {
     "data": {
      "text/html": [
       "<div>\n",
       "<style scoped>\n",
       "    .dataframe tbody tr th:only-of-type {\n",
       "        vertical-align: middle;\n",
       "    }\n",
       "\n",
       "    .dataframe tbody tr th {\n",
       "        vertical-align: top;\n",
       "    }\n",
       "\n",
       "    .dataframe thead th {\n",
       "        text-align: right;\n",
       "    }\n",
       "</style>\n",
       "<table border=\"1\" class=\"dataframe\">\n",
       "  <thead>\n",
       "    <tr style=\"text-align: right;\">\n",
       "      <th>Pclass</th>\n",
       "      <th>1</th>\n",
       "      <th>2</th>\n",
       "      <th>3</th>\n",
       "    </tr>\n",
       "    <tr>\n",
       "      <th>Embarked</th>\n",
       "      <th></th>\n",
       "      <th></th>\n",
       "      <th></th>\n",
       "    </tr>\n",
       "  </thead>\n",
       "  <tbody>\n",
       "    <tr>\n",
       "      <th>C</th>\n",
       "      <td>0.522222</td>\n",
       "      <td>0.103704</td>\n",
       "      <td>0.374074</td>\n",
       "    </tr>\n",
       "    <tr>\n",
       "      <th>Q</th>\n",
       "      <td>0.024390</td>\n",
       "      <td>0.056911</td>\n",
       "      <td>0.918699</td>\n",
       "    </tr>\n",
       "    <tr>\n",
       "      <th>S</th>\n",
       "      <td>0.193654</td>\n",
       "      <td>0.264770</td>\n",
       "      <td>0.541575</td>\n",
       "    </tr>\n",
       "  </tbody>\n",
       "</table>\n",
       "</div>"
      ],
      "text/plain": [
       "Pclass           1         2         3\n",
       "Embarked                              \n",
       "C         0.522222  0.103704  0.374074\n",
       "Q         0.024390  0.056911  0.918699\n",
       "S         0.193654  0.264770  0.541575"
      ]
     },
     "metadata": {},
     "output_type": "display_data"
    },
    {
     "data": {
      "image/png": "[encoded data removed]",
      "text/plain": [
       "<Figure size 432x288 with 1 Axes>"
      ]
     },
     "metadata": {},
     "output_type": "display_data"
    }
   ],
   "source": [
    "tab = pd.crosstab(index=full_data[\"Embarked\"], columns=full_data[\"Pclass\"])\n",
    "display(tab)\n",
    "\n",
    "# 경유항구별 좌석등급 분포\n",
    "dummy = tab.div(tab.sum(axis = 1).astype(float), axis=0)\n",
    "display(dummy)\n",
    "\n",
    "dummy.plot(kind='bar', stacked=True)\n",
    "dummy = plt.xlabel(\"Port embarked\")\n",
    "dummy = plt.ylabel(\"Percentage\")"
   ]
  },
  {
   "cell_type": "markdown",
   "metadata": {
    "execution": {
     "iopub.execute_input": "2021-09-14T15:02:49.861793Z",
     "iopub.status.busy": "2021-09-14T15:02:49.861462Z",
     "iopub.status.idle": "2021-09-14T15:02:50.140207Z",
     "shell.execute_reply": "2021-09-14T15:02:50.138815Z",
     "shell.execute_reply.started": "2021-09-14T15:02:49.861740Z"
    }
   },
   "source": [
    "**We learn:**\n",
    "* A high percentage of those embarked at \"C\" were 1st class passengers.\n",
    "* Almost eveyone who emarked at \"Q\" went to 3rd class (this means that the clear separation in the factorplot for \"Q\" isn't very meaningfule, unfortunately).\n",
    "\n",
    "The 2nd point is somewhat curious, since we recall form above that the survival chances for \"Q\" were actually slightly better than for \"S\". \n",
    "Not significantly so, of course , but certainly not worse event though \"S\" had a higher percentage of 1st and 2nd class passengers.\n",
    "\n",
    "It seems that embarking at \"Q\" improved your chances for survival if you were a 3rd class passenger. Let's investigate that a bit more."
   ]
  },
  {
   "cell_type": "markdown",
   "metadata": {},
   "source": [
    "#### barplot"
   ]
  },
  {
   "cell_type": "code",
   "execution_count": 28,
   "metadata": {},
   "outputs": [
    {
     "data": {
      "text/plain": [
       "<AxesSubplot:xlabel='Embarked', ylabel='Survived'>"
      ]
     },
     "execution_count": 28,
     "metadata": {},
     "output_type": "execute_result"
    },
    {
     "data": {
      "image/png": "[encoded data removed]",
      "text/plain": [
       "<Figure size 432x288 with 1 Axes>"
      ]
     },
     "metadata": {},
     "output_type": "display_data"
    }
   ],
   "source": [
    "sns.barplot(x=\"Embarked\", y=\"Survived\", hue=\"Pclass\", data=train)"
   ]
  },
  {
   "cell_type": "markdown",
   "metadata": {},
   "source": [
    "Ok, now from here it looks more like \"S\" is the interesting port since survival is less probably for that one if you are a 3rd class passengers.\n",
    "Otherwise there is no significant difference within each class.\n",
    "\n",
    "There seems to be some impact here that isn't captures by the passenger class.\n",
    "What about the other storng featues, Sex?"
   ]
  },
  {
   "cell_type": "markdown",
   "metadata": {},
   "source": [
    "#### crosstab for Embarked vs Sex"
   ]
  },
  {
   "cell_type": "code",
   "execution_count": 29,
   "metadata": {},
   "outputs": [
    {
     "data": {
      "text/html": [
       "<div>\n",
       "<style scoped>\n",
       "    .dataframe tbody tr th:only-of-type {\n",
       "        vertical-align: middle;\n",
       "    }\n",
       "\n",
       "    .dataframe tbody tr th {\n",
       "        vertical-align: top;\n",
       "    }\n",
       "\n",
       "    .dataframe thead th {\n",
       "        text-align: right;\n",
       "    }\n",
       "</style>\n",
       "<table border=\"1\" class=\"dataframe\">\n",
       "  <thead>\n",
       "    <tr style=\"text-align: right;\">\n",
       "      <th>Sex</th>\n",
       "      <th>female</th>\n",
       "      <th>male</th>\n",
       "    </tr>\n",
       "    <tr>\n",
       "      <th>Embarked</th>\n",
       "      <th></th>\n",
       "      <th></th>\n",
       "    </tr>\n",
       "  </thead>\n",
       "  <tbody>\n",
       "    <tr>\n",
       "      <th>C</th>\n",
       "      <td>113</td>\n",
       "      <td>157</td>\n",
       "    </tr>\n",
       "    <tr>\n",
       "      <th>Q</th>\n",
       "      <td>60</td>\n",
       "      <td>63</td>\n",
       "    </tr>\n",
       "    <tr>\n",
       "      <th>S</th>\n",
       "      <td>291</td>\n",
       "      <td>623</td>\n",
       "    </tr>\n",
       "  </tbody>\n",
       "</table>\n",
       "</div>"
      ],
      "text/plain": [
       "Sex       female  male\n",
       "Embarked              \n",
       "C            113   157\n",
       "Q             60    63\n",
       "S            291   623"
      ]
     },
     "metadata": {},
     "output_type": "display_data"
    },
    {
     "data": {
      "text/html": [
       "<div>\n",
       "<style scoped>\n",
       "    .dataframe tbody tr th:only-of-type {\n",
       "        vertical-align: middle;\n",
       "    }\n",
       "\n",
       "    .dataframe tbody tr th {\n",
       "        vertical-align: top;\n",
       "    }\n",
       "\n",
       "    .dataframe thead th {\n",
       "        text-align: right;\n",
       "    }\n",
       "</style>\n",
       "<table border=\"1\" class=\"dataframe\">\n",
       "  <thead>\n",
       "    <tr style=\"text-align: right;\">\n",
       "      <th>Sex</th>\n",
       "      <th>female</th>\n",
       "      <th>male</th>\n",
       "    </tr>\n",
       "    <tr>\n",
       "      <th>Embarked</th>\n",
       "      <th></th>\n",
       "      <th></th>\n",
       "    </tr>\n",
       "  </thead>\n",
       "  <tbody>\n",
       "    <tr>\n",
       "      <th>C</th>\n",
       "      <td>0.418519</td>\n",
       "      <td>0.581481</td>\n",
       "    </tr>\n",
       "    <tr>\n",
       "      <th>Q</th>\n",
       "      <td>0.487805</td>\n",
       "      <td>0.512195</td>\n",
       "    </tr>\n",
       "    <tr>\n",
       "      <th>S</th>\n",
       "      <td>0.318381</td>\n",
       "      <td>0.681619</td>\n",
       "    </tr>\n",
       "  </tbody>\n",
       "</table>\n",
       "</div>"
      ],
      "text/plain": [
       "Sex         female      male\n",
       "Embarked                    \n",
       "C         0.418519  0.581481\n",
       "Q         0.487805  0.512195\n",
       "S         0.318381  0.681619"
      ]
     },
     "metadata": {},
     "output_type": "display_data"
    },
    {
     "data": {
      "image/png": "[encoded data removed]",
      "text/plain": [
       "<Figure size 432x288 with 1 Axes>"
      ]
     },
     "metadata": {},
     "output_type": "display_data"
    }
   ],
   "source": [
    "tab = pd.crosstab(index=full_data[\"Embarked\"], columns=full_data[\"Sex\"])\n",
    "display(tab)\n",
    "\n",
    "dummy = tab.div(tab.sum(axis=1).astype(float), axis=0)\n",
    "display(dummy)\n",
    "\n",
    "dummy.plot(kind='bar', stacked=True)\n",
    "dummy = plt.xlabel(\"Port Embarked\")\n",
    "dummy = plt.ylabel(\"Percentage\")"
   ]
  },
  {
   "cell_type": "markdown",
   "metadata": {},
   "source": [
    "Now this is somewhat expected since it explains the difference between \"S\" and the other ports. Therefore, it seems that between more 1st class passengers embarking at \"C\" and more men at \"S\" there doesn't seem to be much actual influence in the port of embarkation.\n",
    "\n",
    "However, the last plot should alson indicate that...."
   ]
  },
  {
   "cell_type": "markdown",
   "metadata": {},
   "source": [
    "#### crosstab for Pclas vs Sex"
   ]
  },
  {
   "cell_type": "code",
   "execution_count": 30,
   "metadata": {},
   "outputs": [
    {
     "data": {
      "text/html": [
       "<div>\n",
       "<style scoped>\n",
       "    .dataframe tbody tr th:only-of-type {\n",
       "        vertical-align: middle;\n",
       "    }\n",
       "\n",
       "    .dataframe tbody tr th {\n",
       "        vertical-align: top;\n",
       "    }\n",
       "\n",
       "    .dataframe thead th {\n",
       "        text-align: right;\n",
       "    }\n",
       "</style>\n",
       "<table border=\"1\" class=\"dataframe\">\n",
       "  <thead>\n",
       "    <tr style=\"text-align: right;\">\n",
       "      <th>Sex</th>\n",
       "      <th>female</th>\n",
       "      <th>male</th>\n",
       "    </tr>\n",
       "    <tr>\n",
       "      <th>Pclass</th>\n",
       "      <th></th>\n",
       "      <th></th>\n",
       "    </tr>\n",
       "  </thead>\n",
       "  <tbody>\n",
       "    <tr>\n",
       "      <th>1</th>\n",
       "      <td>144</td>\n",
       "      <td>179</td>\n",
       "    </tr>\n",
       "    <tr>\n",
       "      <th>2</th>\n",
       "      <td>106</td>\n",
       "      <td>171</td>\n",
       "    </tr>\n",
       "    <tr>\n",
       "      <th>3</th>\n",
       "      <td>216</td>\n",
       "      <td>493</td>\n",
       "    </tr>\n",
       "  </tbody>\n",
       "</table>\n",
       "</div>"
      ],
      "text/plain": [
       "Sex     female  male\n",
       "Pclass              \n",
       "1          144   179\n",
       "2          106   171\n",
       "3          216   493"
      ]
     },
     "metadata": {},
     "output_type": "display_data"
    },
    {
     "data": {
      "text/html": [
       "<div>\n",
       "<style scoped>\n",
       "    .dataframe tbody tr th:only-of-type {\n",
       "        vertical-align: middle;\n",
       "    }\n",
       "\n",
       "    .dataframe tbody tr th {\n",
       "        vertical-align: top;\n",
       "    }\n",
       "\n",
       "    .dataframe thead th {\n",
       "        text-align: right;\n",
       "    }\n",
       "</style>\n",
       "<table border=\"1\" class=\"dataframe\">\n",
       "  <thead>\n",
       "    <tr style=\"text-align: right;\">\n",
       "      <th>Sex</th>\n",
       "      <th>female</th>\n",
       "      <th>male</th>\n",
       "    </tr>\n",
       "    <tr>\n",
       "      <th>Pclass</th>\n",
       "      <th></th>\n",
       "      <th></th>\n",
       "    </tr>\n",
       "  </thead>\n",
       "  <tbody>\n",
       "    <tr>\n",
       "      <th>1</th>\n",
       "      <td>0.445820</td>\n",
       "      <td>0.554180</td>\n",
       "    </tr>\n",
       "    <tr>\n",
       "      <th>2</th>\n",
       "      <td>0.382671</td>\n",
       "      <td>0.617329</td>\n",
       "    </tr>\n",
       "    <tr>\n",
       "      <th>3</th>\n",
       "      <td>0.304654</td>\n",
       "      <td>0.695346</td>\n",
       "    </tr>\n",
       "  </tbody>\n",
       "</table>\n",
       "</div>"
      ],
      "text/plain": [
       "Sex       female      male\n",
       "Pclass                    \n",
       "1       0.445820  0.554180\n",
       "2       0.382671  0.617329\n",
       "3       0.304654  0.695346"
      ]
     },
     "metadata": {},
     "output_type": "display_data"
    },
    {
     "data": {
      "image/png": "[encoded data removed]",
      "text/plain": [
       "<Figure size 432x288 with 1 Axes>"
      ]
     },
     "metadata": {},
     "output_type": "display_data"
    }
   ],
   "source": [
    "tab = pd.crosstab(index=full_data[\"Pclass\"], columns=full_data[\"Sex\"])\n",
    "display(tab)\n",
    "\n",
    "dummy = tab.div(tab.sum(axis=1).astype(float), axis=0)\n",
    "display(dummy)\n",
    "\n",
    "dummy.plot(kind='bar', stacked=True)\n",
    "dummy = plt.xlabel(\"Pclass\")\n",
    "dummy = plt.ylabel(\"Percentage\")"
   ]
  },
  {
   "cell_type": "markdown",
   "metadata": {},
   "source": [
    "There were more males among the 3rd class passengers. Possibly travelling alone?"
   ]
  },
  {
   "cell_type": "markdown",
   "metadata": {},
   "source": [
    "#### crosstab for Parch vs SibSp(Siblings + Spouse)"
   ]
  },
  {
   "cell_type": "code",
   "execution_count": 31,
   "metadata": {},
   "outputs": [
    {
     "data": {
      "text/html": [
       "<div>\n",
       "<style scoped>\n",
       "    .dataframe tbody tr th:only-of-type {\n",
       "        vertical-align: middle;\n",
       "    }\n",
       "\n",
       "    .dataframe tbody tr th {\n",
       "        vertical-align: top;\n",
       "    }\n",
       "\n",
       "    .dataframe thead th {\n",
       "        text-align: right;\n",
       "    }\n",
       "</style>\n",
       "<table border=\"1\" class=\"dataframe\">\n",
       "  <thead>\n",
       "    <tr style=\"text-align: right;\">\n",
       "      <th>Sex</th>\n",
       "      <th>female</th>\n",
       "      <th>male</th>\n",
       "    </tr>\n",
       "    <tr>\n",
       "      <th>SibSp</th>\n",
       "      <th></th>\n",
       "      <th></th>\n",
       "    </tr>\n",
       "  </thead>\n",
       "  <tbody>\n",
       "    <tr>\n",
       "      <th>0</th>\n",
       "      <td>174</td>\n",
       "      <td>434</td>\n",
       "    </tr>\n",
       "    <tr>\n",
       "      <th>1</th>\n",
       "      <td>106</td>\n",
       "      <td>103</td>\n",
       "    </tr>\n",
       "    <tr>\n",
       "      <th>2</th>\n",
       "      <td>13</td>\n",
       "      <td>15</td>\n",
       "    </tr>\n",
       "    <tr>\n",
       "      <th>3</th>\n",
       "      <td>11</td>\n",
       "      <td>5</td>\n",
       "    </tr>\n",
       "    <tr>\n",
       "      <th>4</th>\n",
       "      <td>6</td>\n",
       "      <td>12</td>\n",
       "    </tr>\n",
       "    <tr>\n",
       "      <th>5</th>\n",
       "      <td>1</td>\n",
       "      <td>4</td>\n",
       "    </tr>\n",
       "    <tr>\n",
       "      <th>8</th>\n",
       "      <td>3</td>\n",
       "      <td>4</td>\n",
       "    </tr>\n",
       "  </tbody>\n",
       "</table>\n",
       "</div>"
      ],
      "text/plain": [
       "Sex    female  male\n",
       "SibSp              \n",
       "0         174   434\n",
       "1         106   103\n",
       "2          13    15\n",
       "3          11     5\n",
       "4           6    12\n",
       "5           1     4\n",
       "8           3     4"
      ]
     },
     "metadata": {},
     "output_type": "display_data"
    },
    {
     "data": {
      "text/html": [
       "<div>\n",
       "<style scoped>\n",
       "    .dataframe tbody tr th:only-of-type {\n",
       "        vertical-align: middle;\n",
       "    }\n",
       "\n",
       "    .dataframe tbody tr th {\n",
       "        vertical-align: top;\n",
       "    }\n",
       "\n",
       "    .dataframe thead th {\n",
       "        text-align: right;\n",
       "    }\n",
       "</style>\n",
       "<table border=\"1\" class=\"dataframe\">\n",
       "  <thead>\n",
       "    <tr style=\"text-align: right;\">\n",
       "      <th>Sex</th>\n",
       "      <th>female</th>\n",
       "      <th>male</th>\n",
       "    </tr>\n",
       "    <tr>\n",
       "      <th>SibSp</th>\n",
       "      <th></th>\n",
       "      <th></th>\n",
       "    </tr>\n",
       "  </thead>\n",
       "  <tbody>\n",
       "    <tr>\n",
       "      <th>0</th>\n",
       "      <td>0.286184</td>\n",
       "      <td>0.713816</td>\n",
       "    </tr>\n",
       "    <tr>\n",
       "      <th>1</th>\n",
       "      <td>0.507177</td>\n",
       "      <td>0.492823</td>\n",
       "    </tr>\n",
       "    <tr>\n",
       "      <th>2</th>\n",
       "      <td>0.464286</td>\n",
       "      <td>0.535714</td>\n",
       "    </tr>\n",
       "    <tr>\n",
       "      <th>3</th>\n",
       "      <td>0.687500</td>\n",
       "      <td>0.312500</td>\n",
       "    </tr>\n",
       "    <tr>\n",
       "      <th>4</th>\n",
       "      <td>0.333333</td>\n",
       "      <td>0.666667</td>\n",
       "    </tr>\n",
       "    <tr>\n",
       "      <th>5</th>\n",
       "      <td>0.200000</td>\n",
       "      <td>0.800000</td>\n",
       "    </tr>\n",
       "    <tr>\n",
       "      <th>8</th>\n",
       "      <td>0.428571</td>\n",
       "      <td>0.571429</td>\n",
       "    </tr>\n",
       "  </tbody>\n",
       "</table>\n",
       "</div>"
      ],
      "text/plain": [
       "Sex      female      male\n",
       "SibSp                    \n",
       "0      0.286184  0.713816\n",
       "1      0.507177  0.492823\n",
       "2      0.464286  0.535714\n",
       "3      0.687500  0.312500\n",
       "4      0.333333  0.666667\n",
       "5      0.200000  0.800000\n",
       "8      0.428571  0.571429"
      ]
     },
     "metadata": {},
     "output_type": "display_data"
    },
    {
     "data": {
      "text/html": [
       "<div>\n",
       "<style scoped>\n",
       "    .dataframe tbody tr th:only-of-type {\n",
       "        vertical-align: middle;\n",
       "    }\n",
       "\n",
       "    .dataframe tbody tr th {\n",
       "        vertical-align: top;\n",
       "    }\n",
       "\n",
       "    .dataframe thead th {\n",
       "        text-align: right;\n",
       "    }\n",
       "</style>\n",
       "<table border=\"1\" class=\"dataframe\">\n",
       "  <thead>\n",
       "    <tr style=\"text-align: right;\">\n",
       "      <th>Sex</th>\n",
       "      <th>female</th>\n",
       "      <th>male</th>\n",
       "    </tr>\n",
       "    <tr>\n",
       "      <th>Parch</th>\n",
       "      <th></th>\n",
       "      <th></th>\n",
       "    </tr>\n",
       "  </thead>\n",
       "  <tbody>\n",
       "    <tr>\n",
       "      <th>0</th>\n",
       "      <td>194</td>\n",
       "      <td>484</td>\n",
       "    </tr>\n",
       "    <tr>\n",
       "      <th>1</th>\n",
       "      <td>60</td>\n",
       "      <td>58</td>\n",
       "    </tr>\n",
       "    <tr>\n",
       "      <th>2</th>\n",
       "      <td>49</td>\n",
       "      <td>31</td>\n",
       "    </tr>\n",
       "    <tr>\n",
       "      <th>3</th>\n",
       "      <td>4</td>\n",
       "      <td>1</td>\n",
       "    </tr>\n",
       "    <tr>\n",
       "      <th>4</th>\n",
       "      <td>2</td>\n",
       "      <td>2</td>\n",
       "    </tr>\n",
       "    <tr>\n",
       "      <th>5</th>\n",
       "      <td>4</td>\n",
       "      <td>1</td>\n",
       "    </tr>\n",
       "    <tr>\n",
       "      <th>6</th>\n",
       "      <td>1</td>\n",
       "      <td>0</td>\n",
       "    </tr>\n",
       "  </tbody>\n",
       "</table>\n",
       "</div>"
      ],
      "text/plain": [
       "Sex    female  male\n",
       "Parch              \n",
       "0         194   484\n",
       "1          60    58\n",
       "2          49    31\n",
       "3           4     1\n",
       "4           2     2\n",
       "5           4     1\n",
       "6           1     0"
      ]
     },
     "metadata": {},
     "output_type": "display_data"
    },
    {
     "data": {
      "image/png": "[encoded data removed]",
      "text/plain": [
       "<Figure size 432x288 with 1 Axes>"
      ]
     },
     "metadata": {},
     "output_type": "display_data"
    },
    {
     "data": {
      "image/png": "[encoded data removed]",
      "text/plain": [
       "<Figure size 432x288 with 1 Axes>"
      ]
     },
     "metadata": {},
     "output_type": "display_data"
    }
   ],
   "source": [
    "sib = pd.crosstab(index=train[\"SibSp\"], columns=train[\"Sex\"])\n",
    "display(sib)\n",
    "\n",
    "# 성별로 알아보는 자손 + 배우자 비율\n",
    "dummy = sib.div(sib.sum(axis=1).astype(float), axis=0)\n",
    "display(dummy)\n",
    "\n",
    "dummy.plot(kind=\"bar\", stacked=True)\n",
    "dummy = plt.xlabel(\"Siblings + Spouse\")\n",
    "dummy = plt.ylabel(\"Percentage\")\n",
    "\n",
    "# 성별로 알아보는 부모동반 자식 비율\n",
    "parch = pd.crosstab(train[\"Parch\"], train[\"Sex\"])\n",
    "display(parch)\n",
    "\n",
    "dummy = parch.div(parch.sum(axis=1).astype(float), axis=0)\n",
    "dummy.plot(kind=\"bar\", stacked=True)\n",
    "dummy = plt.xlabel(\"Parent + Child\")\n",
    "dummy = plt.ylabel(\"Percentage\")"
   ]
  },
  {
   "cell_type": "markdown",
   "metadata": {},
   "source": [
    "Sort of, yes. This goes some way to explain features like better.\n",
    "survival for SibSp = 1-3. But I think that it doesn't cover all the signal in the Parch feature.\n",
    "\n",
    "**We learn:**\n",
    "* Different percentages of passengers classes and sexes have embarked from different ports, which is reflected in the lower survival rates for \"S\"(more men, fewer 1st class) compared to \"C\"(more women and 1st class)\n",
    "\n",
    "* It's hard to say at this stage whethere there is any real impact left for the *Embarked* feature once we correct for these connections.\n",
    "We will come back to this in the modelling state when we will study feature importances and siginificances (soon).\n",
    "\n",
    "Finally, Let's check what's going on between *Age* and *Embarked*."
   ]
  },
  {
   "cell_type": "markdown",
   "metadata": {
    "_cell_guid": "0e23a889-f35a-3785-9dc0-bfc6b1c47c79",
    "_uuid": "a38aecd1bfbe93c56f19e48d78dd0df228c68e94"
   },
   "source": [
    "***Age* and *Embarked***"
   ]
  },
  {
   "cell_type": "code",
   "execution_count": 32,
   "metadata": {},
   "outputs": [
    {
     "data": {
      "text/plain": [
       "<matplotlib.collections.LineCollection at 0x274f8da2040>"
      ]
     },
     "execution_count": 32,
     "metadata": {},
     "output_type": "execute_result"
    },
    {
     "data": {
      "image/png": "[encoded data removed]",
      "text/plain": [
       "<Figure size 432x288 with 1 Axes>"
      ]
     },
     "metadata": {},
     "output_type": "display_data"
    }
   ],
   "source": [
    "sns.violinplot(x=\"Embarked\", y=\"Age\", hue=\"Survived\", data=train, split=True)\n",
    "plt.hlines([0, 10], xmin=-1, xmax=3, linestyle=\"dotted\")"
   ]
  },
  {
   "cell_type": "markdown",
   "metadata": {},
   "source": [
    "The curious ditribution for the survivors from Queentown somewhat follows the overall trend for 3rd class passengers(which make up the vast majority of Queenstown) but is notably narrower.\n",
    "\n",
    "Not many of the children there survived, but there were not many children to begin with .Let's come back to this point in discussing the derived features.\n",
    "\n",
    "**We learn:**\n",
    "There don't seem to be strong diffrences in *Age* among the *Embarked* categories that would point at an imbalance that goes beyond the influence of *Pclass* and *Sex*."
   ]
  },
  {
   "cell_type": "markdown",
   "metadata": {},
   "source": [
    "#### The relation between *Fare* and *Pclass*"
   ]
  },
  {
   "cell_type": "markdown",
   "metadata": {
    "_cell_guid": "dae584a9-4565-3ca0-2d9a-726e248d14ec",
    "_uuid": "5aea788ab2926ddde632fffc0ae301965b2c71cd"
   },
   "source": [
    "Let's study the relation between *Fare* and *Pclass* in more detail:"
   ]
  },
  {
   "cell_type": "code",
   "execution_count": 33,
   "metadata": {},
   "outputs": [
    {
     "data": {
      "image/png": "[encoded data removed]",
      "text/plain": [
       "<Figure size 864x720 with 3 Axes>"
      ]
     },
     "metadata": {},
     "output_type": "display_data"
    }
   ],
   "source": [
    "surv_fare_pclass_1 = surv[\"Fare\"][surv[\"Pclass\"]==1]\n",
    "nosurv_fare_pclass_1 = nosurv[\"Fare\"][nosurv[\"Pclass\"]==1]\n",
    "\n",
    "surv_fare_pclass_2 = surv[\"Fare\"][surv[\"Pclass\"]==2]\n",
    "nosurv_fare_pclass_2 = nosurv[\"Fare\"][nosurv[\"Pclass\"]==2]\n",
    "\n",
    "surv_fare_pclass_3 = surv[\"Fare\"][surv[\"Pclass\"]==3]\n",
    "nosurv_fare_pclass_3 = nosurv[\"Fare\"][nosurv[\"Pclass\"]==3]\n",
    "\n",
    "plt.figure(figsize=(12, 10))\n",
    "\n",
    "plt.subplot(311)\n",
    "\n",
    "ax1 = sns.distplot(np.log10(surv_fare_pclass_1.dropna().values + 1), kde=False, color=surv_col)\n",
    "ax1 = sns.distplot(np.log10(nosurv_fare_pclass_1.dropna().values + 1), kde=False, color=nosurv_col, axlabel=\"Fare\")\n",
    "ax1.set_xlim(0, np.max(np.log10(train[\"Fare\"].dropna().values))) # matplotlib Axes를 리턴받아 눈금 표시 \n",
    "ax1.set_title(\"Pclass=1 Fare Distribution\")\n",
    "\n",
    "plt.subplot(312)\n",
    "ax2 = sns.distplot(np.log10(surv_fare_pclass_2.dropna().values + 1), kde=False, color=surv_col)\n",
    "ax2 = sns.distplot(np.log10(nosurv_fare_pclass_2.dropna().values + 1), kde=False, color=nosurv_col, axlabel='Fare')\n",
    "ax2.set_xlim(0, np.max(np.log10(train[\"Fare\"].dropna().values)))\n",
    "ax2.set_title(\"Pclass=2 Fare Distribution\")\n",
    "\n",
    "plt.subplot(313)\n",
    "ax3 = sns.distplot(np.log10(surv_fare_pclass_3.dropna().values + 1), kde=False, color=surv_col)\n",
    "ax3 = sns.distplot(np.log10(nosurv_fare_pclass_3.dropna().values + 1), kde=False, color=nosurv_col, axlabel='Fare')\n",
    "ax3.set_xlim(0, np.max(np.log10(train[\"Fare\"].dropna().values)))\n",
    "ax3.set_title(\"Pclass=3 Fare Distribution\")\n",
    "\n",
    "plt.subplots_adjust(wspace=0.35, hspace=0.35, left=0.10, right=0.95)"
   ]
  },
  {
   "cell_type": "markdown",
   "metadata": {},
   "source": [
    "**We Learn:**\n",
    "* There is a broad distribution between the 1st class passenger fares (rich -> super rich)\n",
    "* There's an interesting bimodality in the 2nd class cabins and a long tail in the 3rd class ones.(*TODO: check cumulative fare question*)\n",
    "* For each calss there is strong evidence that the cheaper cabins were worse for survival. A similar effect can be seen in a *boxplot:*"
   ]
  },
  {
   "cell_type": "code",
   "execution_count": 34,
   "metadata": {},
   "outputs": [
    {
     "data": {
      "image/png": "[encoded data removed]",
      "text/plain": [
       "<Figure size 432x288 with 1 Axes>"
      ]
     },
     "metadata": {},
     "output_type": "display_data"
    }
   ],
   "source": [
    "ax = sns.boxplot(x=\"Pclass\", y=\"Fare\", hue=\"Survived\", data=train)\n",
    "ax.set_yscale(\"log\")"
   ]
  },
  {
   "cell_type": "markdown",
   "metadata": {
    "_cell_guid": "b9420e3a-a1d4-2c7c-feff-adf27c8e1c4e",
    "_uuid": "3c0c85f4cf63faad69d31b4be57fdbca5c3b1a23"
   },
   "source": [
    "<a id='missing'></a>"
   ]
  },
  {
   "cell_type": "markdown",
   "metadata": {
    "_cell_guid": "8ac6dc35-5a86-d15e-5c5c-fa1725cf82f3",
    "_uuid": "f038b01d0c54e357656e5e6cbee2eb549e32d1ca"
   },
   "source": [
    "[Go to the top of the page](#top)"
   ]
  },
  {
   "cell_type": "markdown",
   "metadata": {
    "_cell_guid": "4f905063-3002-d268-cb25-6715476141b7",
    "_uuid": "f6cd4445f33925cd07531252749bd69be6a74a45"
   },
   "source": [
    "# 4. Filling in missing values"
   ]
  },
  {
   "cell_type": "markdown",
   "metadata": {},
   "source": [
    "After studying the relations between the different features let's fill in a few missing values based on what we learned.\n",
    "\n",
    "In my opinion, the only training feature for which it makes sense to fill in the NAs is *Embarked*.  Too many *Cabin* numbers are missing.\n",
    "And for *Age* we will choose a different approach below. \n",
    "We fill in the 1 missing *Fare* value in the test data frame accordingly.\n",
    "\n",
    "Let's find the two passengers and assign the most likely port based on what we found so far:"
   ]
  },
  {
   "cell_type": "code",
   "execution_count": 35,
   "metadata": {
    "execution": {
     "iopub.execute_input": "2021-09-14T15:02:53.292904Z",
     "iopub.status.busy": "2021-09-14T15:02:53.292360Z",
     "iopub.status.idle": "2021-09-14T15:02:53.302616Z",
     "shell.execute_reply": "2021-09-14T15:02:53.301630Z",
     "shell.execute_reply.started": "2021-09-14T15:02:53.292656Z"
    }
   },
   "outputs": [
    {
     "name": "stdout",
     "output_type": "stream",
     "text": [
      "<class 'pandas.core.frame.DataFrame'>\n",
      "RangeIndex: 891 entries, 0 to 890\n",
      "Data columns (total 12 columns):\n",
      " #   Column       Non-Null Count  Dtype  \n",
      "---  ------       --------------  -----  \n",
      " 0   PassengerId  891 non-null    int64  \n",
      " 1   Survived     891 non-null    int64  \n",
      " 2   Pclass       891 non-null    int64  \n",
      " 3   Name         891 non-null    object \n",
      " 4   Sex          891 non-null    object \n",
      " 5   Age          714 non-null    float64\n",
      " 6   SibSp        891 non-null    int64  \n",
      " 7   Parch        891 non-null    int64  \n",
      " 8   Ticket       891 non-null    object \n",
      " 9   Fare         891 non-null    float64\n",
      " 10  Cabin        204 non-null    object \n",
      " 11  Embarked     889 non-null    object \n",
      "dtypes: float64(2), int64(5), object(5)\n",
      "memory usage: 83.7+ KB\n"
     ]
    }
   ],
   "source": [
    "train.info()"
   ]
  },
  {
   "cell_type": "code",
   "execution_count": 36,
   "metadata": {},
   "outputs": [
    {
     "data": {
      "text/plain": [
       "2"
      ]
     },
     "metadata": {},
     "output_type": "display_data"
    },
    {
     "data": {
      "text/html": [
       "<div>\n",
       "<style scoped>\n",
       "    .dataframe tbody tr th:only-of-type {\n",
       "        vertical-align: middle;\n",
       "    }\n",
       "\n",
       "    .dataframe tbody tr th {\n",
       "        vertical-align: top;\n",
       "    }\n",
       "\n",
       "    .dataframe thead th {\n",
       "        text-align: right;\n",
       "    }\n",
       "</style>\n",
       "<table border=\"1\" class=\"dataframe\">\n",
       "  <thead>\n",
       "    <tr style=\"text-align: right;\">\n",
       "      <th></th>\n",
       "      <th>PassengerId</th>\n",
       "      <th>Survived</th>\n",
       "      <th>Pclass</th>\n",
       "      <th>Name</th>\n",
       "      <th>Sex</th>\n",
       "      <th>Age</th>\n",
       "      <th>SibSp</th>\n",
       "      <th>Parch</th>\n",
       "      <th>Ticket</th>\n",
       "      <th>Fare</th>\n",
       "      <th>Cabin</th>\n",
       "      <th>Embarked</th>\n",
       "    </tr>\n",
       "  </thead>\n",
       "  <tbody>\n",
       "    <tr>\n",
       "      <th>61</th>\n",
       "      <td>62</td>\n",
       "      <td>1</td>\n",
       "      <td>1</td>\n",
       "      <td>Icard, Miss. Amelie</td>\n",
       "      <td>female</td>\n",
       "      <td>38.0</td>\n",
       "      <td>0</td>\n",
       "      <td>0</td>\n",
       "      <td>113572</td>\n",
       "      <td>80.0</td>\n",
       "      <td>B28</td>\n",
       "      <td>NaN</td>\n",
       "    </tr>\n",
       "    <tr>\n",
       "      <th>829</th>\n",
       "      <td>830</td>\n",
       "      <td>1</td>\n",
       "      <td>1</td>\n",
       "      <td>Stone, Mrs. George Nelson (Martha Evelyn)</td>\n",
       "      <td>female</td>\n",
       "      <td>62.0</td>\n",
       "      <td>0</td>\n",
       "      <td>0</td>\n",
       "      <td>113572</td>\n",
       "      <td>80.0</td>\n",
       "      <td>B28</td>\n",
       "      <td>NaN</td>\n",
       "    </tr>\n",
       "  </tbody>\n",
       "</table>\n",
       "</div>"
      ],
      "text/plain": [
       "     PassengerId  Survived  Pclass                                       Name  \\\n",
       "61            62         1       1                        Icard, Miss. Amelie   \n",
       "829          830         1       1  Stone, Mrs. George Nelson (Martha Evelyn)   \n",
       "\n",
       "        Sex   Age  SibSp  Parch  Ticket  Fare Cabin Embarked  \n",
       "61   female  38.0      0      0  113572  80.0   B28      NaN  \n",
       "829  female  62.0      0      0  113572  80.0   B28      NaN  "
      ]
     },
     "metadata": {},
     "output_type": "display_data"
    }
   ],
   "source": [
    "display(train[\"Embarked\"].isnull().sum())  # 2개가 널값\n",
    "display(train[train[\"Embarked\"].isnull()])"
   ]
  },
  {
   "cell_type": "markdown",
   "metadata": {},
   "source": [
    "There are two women that travelled together in 1st class, were 38 and 62 years old, and had no family on board."
   ]
  },
  {
   "cell_type": "code",
   "execution_count": 37,
   "metadata": {},
   "outputs": [
    {
     "data": {
      "text/plain": [
       "Embarked  Pclass  Sex     Parch  SibSp\n",
       "C         1.0     female  0.0    0.0      30\n",
       "                                 1.0      20\n",
       "                          1.0    0.0      10\n",
       "                                 1.0       6\n",
       "                          2.0    0.0       2\n",
       "                                 2.0       2\n",
       "                          3.0    1.0       1\n",
       "S         1.0     female  0.0    0.0      20\n",
       "                                 1.0      20\n",
       "                                 2.0       3\n",
       "                          1.0    0.0       7\n",
       "                                 1.0       6\n",
       "                          2.0    0.0       4\n",
       "                                 1.0       5\n",
       "                                 3.0       3\n",
       "                          4.0    1.0       1\n",
       "dtype: int64"
      ]
     },
     "execution_count": 37,
     "metadata": {},
     "output_type": "execute_result"
    }
   ],
   "source": [
    "embarked_q = full_data[\"Embarked\"] != 'Q'\n",
    "pclass_1   = full_data[\"Pclass\"] < 1.5\n",
    "f_sex = full_data[\"Sex\"] ==\"female\"\n",
    "\n",
    "# 여자이고 1등급 객실이고 Queenstown이외에서 탑승한 승객\n",
    "full_data.where(embarked_q & pclass_1 & f_sex).groupby([\"Embarked\", \"Pclass\", \"Sex\", \"Parch\", \"SibSp\"]).size()"
   ]
  },
  {
   "cell_type": "markdown",
   "metadata": {},
   "source": [
    "Admittedly, these are quite a few grouping levels, but 30(\"C\") vs 20(\"S\") are numbers that are still large enough to be useful in this context.\n",
    "In addition, already a grouping without the *Parch and SibSp* features suggests similar numbers for women in 1st class embarking from \"C\"(71) vs \"S\"(69) ( in constrast to the larger overall number of all 1st class passengers leaving from \"S\")\n",
    "\n",
    "Another recent kernel([definitely worth checking out](https://www.kaggle.com/varimp/a-mostly-tidyverse-tour-of-the-titanic) makes a convincing case for predicting *Embarked==\"S\"* for these two passengers(see also the comments). However, in my opinion we have better reasons to impute \"C\" instead. I recommend that you weigh the arguments and make your own decision.\n",
    "\n",
    "(*How much does it actually matter? Well, in the big picture these are only 2 passengers and their impact on out model accuracy won't be large. However, since the main point of this challenge is to practice data analysis it is certainly worth to take your time to examine the question in a bit more detail.*)"
   ]
  },
  {
   "cell_type": "code",
   "execution_count": 38,
   "metadata": {
    "execution": {
     "iopub.execute_input": "2021-09-14T15:02:53.383664Z",
     "iopub.status.busy": "2021-09-14T15:02:53.383413Z",
     "iopub.status.idle": "2021-09-14T15:02:53.413484Z",
     "shell.execute_reply": "2021-09-14T15:02:53.412664Z",
     "shell.execute_reply.started": "2021-09-14T15:02:53.383611Z"
    }
   },
   "outputs": [
    {
     "data": {
      "text/html": [
       "<div>\n",
       "<style scoped>\n",
       "    .dataframe tbody tr th:only-of-type {\n",
       "        vertical-align: middle;\n",
       "    }\n",
       "\n",
       "    .dataframe tbody tr th {\n",
       "        vertical-align: top;\n",
       "    }\n",
       "\n",
       "    .dataframe thead th {\n",
       "        text-align: right;\n",
       "    }\n",
       "</style>\n",
       "<table border=\"1\" class=\"dataframe\">\n",
       "  <thead>\n",
       "    <tr style=\"text-align: right;\">\n",
       "      <th></th>\n",
       "      <th>PassengerId</th>\n",
       "      <th>Survived</th>\n",
       "      <th>Pclass</th>\n",
       "      <th>Name</th>\n",
       "      <th>Sex</th>\n",
       "      <th>Age</th>\n",
       "      <th>SibSp</th>\n",
       "      <th>Parch</th>\n",
       "      <th>Ticket</th>\n",
       "      <th>Fare</th>\n",
       "      <th>Cabin</th>\n",
       "      <th>Embarked</th>\n",
       "    </tr>\n",
       "  </thead>\n",
       "  <tbody>\n",
       "    <tr>\n",
       "      <th>61</th>\n",
       "      <td>62</td>\n",
       "      <td>1</td>\n",
       "      <td>1</td>\n",
       "      <td>Icard, Miss. Amelie</td>\n",
       "      <td>female</td>\n",
       "      <td>38.0</td>\n",
       "      <td>0</td>\n",
       "      <td>0</td>\n",
       "      <td>113572</td>\n",
       "      <td>80.0</td>\n",
       "      <td>B28</td>\n",
       "      <td>NaN</td>\n",
       "    </tr>\n",
       "    <tr>\n",
       "      <th>829</th>\n",
       "      <td>830</td>\n",
       "      <td>1</td>\n",
       "      <td>1</td>\n",
       "      <td>Stone, Mrs. George Nelson (Martha Evelyn)</td>\n",
       "      <td>female</td>\n",
       "      <td>62.0</td>\n",
       "      <td>0</td>\n",
       "      <td>0</td>\n",
       "      <td>113572</td>\n",
       "      <td>80.0</td>\n",
       "      <td>B28</td>\n",
       "      <td>NaN</td>\n",
       "    </tr>\n",
       "  </tbody>\n",
       "</table>\n",
       "</div>"
      ],
      "text/plain": [
       "     PassengerId  Survived  Pclass                                       Name  \\\n",
       "61            62         1       1                        Icard, Miss. Amelie   \n",
       "829          830         1       1  Stone, Mrs. George Nelson (Martha Evelyn)   \n",
       "\n",
       "        Sex   Age  SibSp  Parch  Ticket  Fare Cabin Embarked  \n",
       "61   female  38.0      0      0  113572  80.0   B28      NaN  \n",
       "829  female  62.0      0      0  113572  80.0   B28      NaN  "
      ]
     },
     "execution_count": 38,
     "metadata": {},
     "output_type": "execute_result"
    }
   ],
   "source": [
    "train[train[\"Embarked\"].isnull()]"
   ]
  },
  {
   "cell_type": "code",
   "execution_count": 39,
   "metadata": {},
   "outputs": [],
   "source": [
    "# replace missing values for Embarked into meaning value\n",
    "# Embarked \"C\" \n",
    "train[\"Embarked\"].iloc[61] = \"C\"\n",
    "\n",
    "train[\"Embarked\"].iloc[829]= \"C\""
   ]
  },
  {
   "cell_type": "code",
   "execution_count": 40,
   "metadata": {
    "execution": {
     "iopub.execute_input": "2021-09-14T15:02:53.415078Z",
     "iopub.status.busy": "2021-09-14T15:02:53.414833Z",
     "iopub.status.idle": "2021-09-14T15:02:53.676631Z",
     "shell.execute_reply": "2021-09-14T15:02:53.675536Z",
     "shell.execute_reply.started": "2021-09-14T15:02:53.415028Z"
    }
   },
   "outputs": [
    {
     "data": {
      "text/html": [
       "<div>\n",
       "<style scoped>\n",
       "    .dataframe tbody tr th:only-of-type {\n",
       "        vertical-align: middle;\n",
       "    }\n",
       "\n",
       "    .dataframe tbody tr th {\n",
       "        vertical-align: top;\n",
       "    }\n",
       "\n",
       "    .dataframe thead th {\n",
       "        text-align: right;\n",
       "    }\n",
       "</style>\n",
       "<table border=\"1\" class=\"dataframe\">\n",
       "  <thead>\n",
       "    <tr style=\"text-align: right;\">\n",
       "      <th></th>\n",
       "      <th>PassengerId</th>\n",
       "      <th>Pclass</th>\n",
       "      <th>Name</th>\n",
       "      <th>Sex</th>\n",
       "      <th>Age</th>\n",
       "      <th>SibSp</th>\n",
       "      <th>Parch</th>\n",
       "      <th>Ticket</th>\n",
       "      <th>Fare</th>\n",
       "      <th>Cabin</th>\n",
       "      <th>Embarked</th>\n",
       "    </tr>\n",
       "  </thead>\n",
       "  <tbody>\n",
       "    <tr>\n",
       "      <th>152</th>\n",
       "      <td>1044</td>\n",
       "      <td>3</td>\n",
       "      <td>Storey, Mr. Thomas</td>\n",
       "      <td>male</td>\n",
       "      <td>60.5</td>\n",
       "      <td>0</td>\n",
       "      <td>0</td>\n",
       "      <td>3701</td>\n",
       "      <td>NaN</td>\n",
       "      <td>NaN</td>\n",
       "      <td>S</td>\n",
       "    </tr>\n",
       "  </tbody>\n",
       "</table>\n",
       "</div>"
      ],
      "text/plain": [
       "     PassengerId  Pclass                Name   Sex   Age  SibSp  Parch Ticket  \\\n",
       "152         1044       3  Storey, Mr. Thomas  male  60.5      0      0   3701   \n",
       "\n",
       "     Fare Cabin Embarked  \n",
       "152   NaN   NaN        S  "
      ]
     },
     "metadata": {},
     "output_type": "display_data"
    },
    {
     "data": {
      "text/html": [
       "<div>\n",
       "<style scoped>\n",
       "    .dataframe tbody tr th:only-of-type {\n",
       "        vertical-align: middle;\n",
       "    }\n",
       "\n",
       "    .dataframe tbody tr th {\n",
       "        vertical-align: top;\n",
       "    }\n",
       "\n",
       "    .dataframe thead th {\n",
       "        text-align: right;\n",
       "    }\n",
       "</style>\n",
       "<table border=\"1\" class=\"dataframe\">\n",
       "  <thead>\n",
       "    <tr style=\"text-align: right;\">\n",
       "      <th></th>\n",
       "      <th>PassengerId</th>\n",
       "      <th>Survived</th>\n",
       "      <th>Pclass</th>\n",
       "      <th>Name</th>\n",
       "      <th>Sex</th>\n",
       "      <th>Age</th>\n",
       "      <th>SibSp</th>\n",
       "      <th>Parch</th>\n",
       "      <th>Ticket</th>\n",
       "      <th>Fare</th>\n",
       "      <th>Cabin</th>\n",
       "      <th>Embarked</th>\n",
       "    </tr>\n",
       "  </thead>\n",
       "  <tbody>\n",
       "  </tbody>\n",
       "</table>\n",
       "</div>"
      ],
      "text/plain": [
       "Empty DataFrame\n",
       "Columns: [PassengerId, Survived, Pclass, Name, Sex, Age, SibSp, Parch, Ticket, Fare, Cabin, Embarked]\n",
       "Index: []"
      ]
     },
     "metadata": {},
     "output_type": "display_data"
    }
   ],
   "source": [
    "display(test[test[\"Fare\"].isnull()])\n",
    "display(train[train[\"Fare\"].isnull()])"
   ]
  },
  {
   "cell_type": "code",
   "execution_count": 41,
   "metadata": {},
   "outputs": [],
   "source": [
    "test[\"Embarked\"].iloc[152]= \"C\""
   ]
  },
  {
   "cell_type": "code",
   "execution_count": 42,
   "metadata": {
    "_cell_guid": "c46dce10-1e68-7f07-7185-88c58e2fe141",
    "_execution_state": "idle",
    "_uuid": "a9b7b724a19cb83454d52e34b78704152a64b12f",
    "execution": {
     "iopub.execute_input": "2021-09-14T15:02:53.677908Z",
     "iopub.status.busy": "2021-09-14T15:02:53.677686Z",
     "iopub.status.idle": "2021-09-14T15:02:53.717266Z",
     "shell.execute_reply": "2021-09-14T15:02:53.715954Z",
     "shell.execute_reply.started": "2021-09-14T15:02:53.677863Z"
    }
   },
   "outputs": [
    {
     "data": {
      "text/html": [
       "<div>\n",
       "<style scoped>\n",
       "    .dataframe tbody tr th:only-of-type {\n",
       "        vertical-align: middle;\n",
       "    }\n",
       "\n",
       "    .dataframe tbody tr th {\n",
       "        vertical-align: top;\n",
       "    }\n",
       "\n",
       "    .dataframe thead th {\n",
       "        text-align: right;\n",
       "    }\n",
       "</style>\n",
       "<table border=\"1\" class=\"dataframe\">\n",
       "  <thead>\n",
       "    <tr style=\"text-align: right;\">\n",
       "      <th></th>\n",
       "      <th>PassengerId</th>\n",
       "      <th>Pclass</th>\n",
       "      <th>Name</th>\n",
       "      <th>Sex</th>\n",
       "      <th>Age</th>\n",
       "      <th>SibSp</th>\n",
       "      <th>Parch</th>\n",
       "      <th>Ticket</th>\n",
       "      <th>Fare</th>\n",
       "      <th>Cabin</th>\n",
       "      <th>Embarked</th>\n",
       "    </tr>\n",
       "  </thead>\n",
       "  <tbody>\n",
       "    <tr>\n",
       "      <th>152</th>\n",
       "      <td>1044</td>\n",
       "      <td>3</td>\n",
       "      <td>Storey, Mr. Thomas</td>\n",
       "      <td>male</td>\n",
       "      <td>60.5</td>\n",
       "      <td>0</td>\n",
       "      <td>0</td>\n",
       "      <td>3701</td>\n",
       "      <td>NaN</td>\n",
       "      <td>NaN</td>\n",
       "      <td>C</td>\n",
       "    </tr>\n",
       "  </tbody>\n",
       "</table>\n",
       "</div>"
      ],
      "text/plain": [
       "     PassengerId  Pclass                Name   Sex   Age  SibSp  Parch Ticket  \\\n",
       "152         1044       3  Storey, Mr. Thomas  male  60.5      0      0   3701   \n",
       "\n",
       "     Fare Cabin Embarked  \n",
       "152   NaN   NaN        C  "
      ]
     },
     "metadata": {},
     "output_type": "display_data"
    },
    {
     "data": {
      "text/html": [
       "<div>\n",
       "<style scoped>\n",
       "    .dataframe tbody tr th:only-of-type {\n",
       "        vertical-align: middle;\n",
       "    }\n",
       "\n",
       "    .dataframe tbody tr th {\n",
       "        vertical-align: top;\n",
       "    }\n",
       "\n",
       "    .dataframe thead th {\n",
       "        text-align: right;\n",
       "    }\n",
       "</style>\n",
       "<table border=\"1\" class=\"dataframe\">\n",
       "  <thead>\n",
       "    <tr style=\"text-align: right;\">\n",
       "      <th></th>\n",
       "      <th>PassengerId</th>\n",
       "      <th>Survived</th>\n",
       "      <th>Pclass</th>\n",
       "      <th>Name</th>\n",
       "      <th>Sex</th>\n",
       "      <th>Age</th>\n",
       "      <th>SibSp</th>\n",
       "      <th>Parch</th>\n",
       "      <th>Ticket</th>\n",
       "      <th>Fare</th>\n",
       "      <th>Cabin</th>\n",
       "      <th>Embarked</th>\n",
       "    </tr>\n",
       "  </thead>\n",
       "  <tbody>\n",
       "  </tbody>\n",
       "</table>\n",
       "</div>"
      ],
      "text/plain": [
       "Empty DataFrame\n",
       "Columns: [PassengerId, Survived, Pclass, Name, Sex, Age, SibSp, Parch, Ticket, Fare, Cabin, Embarked]\n",
       "Index: []"
      ]
     },
     "metadata": {},
     "output_type": "display_data"
    }
   ],
   "source": [
    "display(test[test[\"Fare\"].isnull()])\n",
    "display(train[train[\"Fare\"].isnull()])"
   ]
  },
  {
   "cell_type": "markdown",
   "metadata": {
    "_cell_guid": "7c37657f-9bbd-2174-38ba-cb68b9a0ad5f",
    "_uuid": "c4ff25cb6a21fd4866207e1fe5ac69e6633d7955"
   },
   "source": [
    "A 60-yr old 3rd class passenger without family on board. We will base our *Fare* prediction on the median of the 3rd-class fares:"
   ]
  },
  {
   "cell_type": "code",
   "execution_count": 43,
   "metadata": {},
   "outputs": [
    {
     "data": {
      "text/plain": [
       "'Median for Fare -  8.05'"
      ]
     },
     "metadata": {},
     "output_type": "display_data"
    }
   ],
   "source": [
    "fare_median = full_data.loc[full_data[\"Pclass\"]==3, \"Fare\"].dropna().median()\n",
    "display(f\"Median for Fare - {fare_median: .2f}\")"
   ]
  },
  {
   "cell_type": "code",
   "execution_count": 44,
   "metadata": {
    "execution": {
     "iopub.execute_input": "2021-09-14T15:02:53.719042Z",
     "iopub.status.busy": "2021-09-14T15:02:53.718238Z",
     "iopub.status.idle": "2021-09-14T15:02:53.725141Z",
     "shell.execute_reply": "2021-09-14T15:02:53.724218Z",
     "shell.execute_reply.started": "2021-09-14T15:02:53.718427Z"
    }
   },
   "outputs": [
    {
     "data": {
      "text/html": [
       "<div>\n",
       "<style scoped>\n",
       "    .dataframe tbody tr th:only-of-type {\n",
       "        vertical-align: middle;\n",
       "    }\n",
       "\n",
       "    .dataframe tbody tr th {\n",
       "        vertical-align: top;\n",
       "    }\n",
       "\n",
       "    .dataframe thead th {\n",
       "        text-align: right;\n",
       "    }\n",
       "</style>\n",
       "<table border=\"1\" class=\"dataframe\">\n",
       "  <thead>\n",
       "    <tr style=\"text-align: right;\">\n",
       "      <th></th>\n",
       "      <th>152</th>\n",
       "    </tr>\n",
       "  </thead>\n",
       "  <tbody>\n",
       "    <tr>\n",
       "      <th>PassengerId</th>\n",
       "      <td>1044</td>\n",
       "    </tr>\n",
       "    <tr>\n",
       "      <th>Pclass</th>\n",
       "      <td>3</td>\n",
       "    </tr>\n",
       "    <tr>\n",
       "      <th>Name</th>\n",
       "      <td>Storey, Mr. Thomas</td>\n",
       "    </tr>\n",
       "    <tr>\n",
       "      <th>Sex</th>\n",
       "      <td>male</td>\n",
       "    </tr>\n",
       "    <tr>\n",
       "      <th>Age</th>\n",
       "      <td>60.5</td>\n",
       "    </tr>\n",
       "    <tr>\n",
       "      <th>SibSp</th>\n",
       "      <td>0</td>\n",
       "    </tr>\n",
       "    <tr>\n",
       "      <th>Parch</th>\n",
       "      <td>0</td>\n",
       "    </tr>\n",
       "    <tr>\n",
       "      <th>Ticket</th>\n",
       "      <td>3701</td>\n",
       "    </tr>\n",
       "    <tr>\n",
       "      <th>Fare</th>\n",
       "      <td>8.05</td>\n",
       "    </tr>\n",
       "    <tr>\n",
       "      <th>Cabin</th>\n",
       "      <td>NaN</td>\n",
       "    </tr>\n",
       "    <tr>\n",
       "      <th>Embarked</th>\n",
       "      <td>C</td>\n",
       "    </tr>\n",
       "  </tbody>\n",
       "</table>\n",
       "</div>"
      ],
      "text/plain": [
       "                            152\n",
       "PassengerId                1044\n",
       "Pclass                        3\n",
       "Name         Storey, Mr. Thomas\n",
       "Sex                        male\n",
       "Age                        60.5\n",
       "SibSp                         0\n",
       "Parch                         0\n",
       "Ticket                     3701\n",
       "Fare                       8.05\n",
       "Cabin                       NaN\n",
       "Embarked                      C"
      ]
     },
     "metadata": {},
     "output_type": "display_data"
    }
   ],
   "source": [
    "test[\"Fare\"].iloc[152]= fare_median\n",
    "display(pd.DataFrame(test.loc[152]))"
   ]
  },
  {
   "cell_type": "markdown",
   "metadata": {
    "_cell_guid": "d09ffea4-0fea-ff91-e7f6-47ca49012567",
    "_uuid": "355cec8e5c51215196282c3d1bbcbf365ecf0094"
   },
   "source": [
    "[Go to the top of the page](#top)"
   ]
  },
  {
   "cell_type": "markdown",
   "metadata": {
    "_cell_guid": "bb188bc8-725b-f36c-8340-554063a36fdc",
    "_uuid": "0cb33d7ca6b845fb1935ed246e25f0967f26443c"
   },
   "source": [
    "# 5. Derived (engineered) features"
   ]
  },
  {
   "cell_type": "markdown",
   "metadata": {},
   "source": [
    "The next idea is to define new features based on the existing ones that allow for a split into survived/not-survived with higher confidence than the existing features. \n",
    "An example would be \"rich woman\" vs \"poor man\", but this particular distinction should be handled well by most classifiers.\n",
    "We're looking for something a bit more subtle here.\n",
    "This is the part where the detective puts individual clues together to see whether their sum is more than its parts.\n",
    "\n",
    "This part of the analysis is called *Feature Engineering.* I prefer the approach to list all the new features that we define together in one place, to keep an overview.\n",
    "\n",
    "Everytime we can think of a new feature, we come back here to define it and then study it further down.\n",
    "We compute the new features in the combined data set, to make sure that all feature realizations are complete, and then split the combine data again into train and test.\n",
    "\n",
    "The clever way of computting the *Shared_ticket* values (using *group_by and np.where*) was contributed by [GeorgeChou](https://www.kaggle.com/georgechou) in the comments.\n",
    "Many thanks!"
   ]
  },
  {
   "cell_type": "code",
   "execution_count": 45,
   "metadata": {},
   "outputs": [
    {
     "data": {
      "text/plain": [
       "0                            [Braund, Mr. Owen Harris]\n",
       "1    [Cumings, Mrs. John Bradley (Florence Briggs T...\n",
       "2                             [Heikkinen, Miss. Laina]\n",
       "3       [Futrelle, Mrs. Jacques Heath (Lily May Peel)]\n",
       "4                           [Allen, Mr. William Henry]\n",
       "Name: Name, dtype: object"
      ]
     },
     "execution_count": 45,
     "metadata": {},
     "output_type": "execute_result"
    }
   ],
   "source": [
    "full_data[\"Name\"].str.split(\", \", expand=False).head(5)"
   ]
  },
  {
   "cell_type": "code",
   "execution_count": 46,
   "metadata": {},
   "outputs": [
    {
     "data": {
      "text/html": [
       "<div>\n",
       "<style scoped>\n",
       "    .dataframe tbody tr th:only-of-type {\n",
       "        vertical-align: middle;\n",
       "    }\n",
       "\n",
       "    .dataframe tbody tr th {\n",
       "        vertical-align: top;\n",
       "    }\n",
       "\n",
       "    .dataframe thead th {\n",
       "        text-align: right;\n",
       "    }\n",
       "</style>\n",
       "<table border=\"1\" class=\"dataframe\">\n",
       "  <thead>\n",
       "    <tr style=\"text-align: right;\">\n",
       "      <th></th>\n",
       "      <th>0</th>\n",
       "      <th>1</th>\n",
       "    </tr>\n",
       "  </thead>\n",
       "  <tbody>\n",
       "    <tr>\n",
       "      <th>0</th>\n",
       "      <td>Braund</td>\n",
       "      <td>Mr. Owen Harris</td>\n",
       "    </tr>\n",
       "    <tr>\n",
       "      <th>1</th>\n",
       "      <td>Cumings</td>\n",
       "      <td>Mrs. John Bradley (Florence Briggs Thayer)</td>\n",
       "    </tr>\n",
       "    <tr>\n",
       "      <th>2</th>\n",
       "      <td>Heikkinen</td>\n",
       "      <td>Miss. Laina</td>\n",
       "    </tr>\n",
       "  </tbody>\n",
       "</table>\n",
       "</div>"
      ],
      "text/plain": [
       "           0                                           1\n",
       "0     Braund                             Mr. Owen Harris\n",
       "1    Cumings  Mrs. John Bradley (Florence Briggs Thayer)\n",
       "2  Heikkinen                                 Miss. Laina"
      ]
     },
     "execution_count": 46,
     "metadata": {},
     "output_type": "execute_result"
    }
   ],
   "source": [
    "full_data[\"Name\"].str.split(\", \", expand=True).head(3)"
   ]
  },
  {
   "cell_type": "code",
   "execution_count": 47,
   "metadata": {},
   "outputs": [
    {
     "data": {
      "text/html": [
       "<div>\n",
       "<style scoped>\n",
       "    .dataframe tbody tr th:only-of-type {\n",
       "        vertical-align: middle;\n",
       "    }\n",
       "\n",
       "    .dataframe tbody tr th {\n",
       "        vertical-align: top;\n",
       "    }\n",
       "\n",
       "    .dataframe thead th {\n",
       "        text-align: right;\n",
       "    }\n",
       "</style>\n",
       "<table border=\"1\" class=\"dataframe\">\n",
       "  <thead>\n",
       "    <tr style=\"text-align: right;\">\n",
       "      <th></th>\n",
       "      <th>0</th>\n",
       "      <th>1</th>\n",
       "      <th>2</th>\n",
       "    </tr>\n",
       "  </thead>\n",
       "  <tbody>\n",
       "    <tr>\n",
       "      <th>0</th>\n",
       "      <td>Mr</td>\n",
       "      <td>Owen Harris</td>\n",
       "      <td>None</td>\n",
       "    </tr>\n",
       "    <tr>\n",
       "      <th>1</th>\n",
       "      <td>Mrs</td>\n",
       "      <td>John Bradley (Florence Briggs Thayer)</td>\n",
       "      <td>None</td>\n",
       "    </tr>\n",
       "    <tr>\n",
       "      <th>2</th>\n",
       "      <td>Miss</td>\n",
       "      <td>Laina</td>\n",
       "      <td>None</td>\n",
       "    </tr>\n",
       "    <tr>\n",
       "      <th>3</th>\n",
       "      <td>Mrs</td>\n",
       "      <td>Jacques Heath (Lily May Peel)</td>\n",
       "      <td>None</td>\n",
       "    </tr>\n",
       "    <tr>\n",
       "      <th>4</th>\n",
       "      <td>Mr</td>\n",
       "      <td>William Henry</td>\n",
       "      <td>None</td>\n",
       "    </tr>\n",
       "  </tbody>\n",
       "</table>\n",
       "</div>"
      ],
      "text/plain": [
       "      0                                       1     2\n",
       "0    Mr                             Owen Harris  None\n",
       "1   Mrs   John Bradley (Florence Briggs Thayer)  None\n",
       "2  Miss                                   Laina  None\n",
       "3   Mrs           Jacques Heath (Lily May Peel)  None\n",
       "4    Mr                           William Henry  None"
      ]
     },
     "metadata": {},
     "output_type": "display_data"
    },
    {
     "data": {
      "text/html": [
       "<div>\n",
       "<style scoped>\n",
       "    .dataframe tbody tr th:only-of-type {\n",
       "        vertical-align: middle;\n",
       "    }\n",
       "\n",
       "    .dataframe tbody tr th {\n",
       "        vertical-align: top;\n",
       "    }\n",
       "\n",
       "    .dataframe thead th {\n",
       "        text-align: right;\n",
       "    }\n",
       "</style>\n",
       "<table border=\"1\" class=\"dataframe\">\n",
       "  <thead>\n",
       "    <tr style=\"text-align: right;\">\n",
       "      <th></th>\n",
       "      <th>Fare</th>\n",
       "    </tr>\n",
       "  </thead>\n",
       "  <tbody>\n",
       "    <tr>\n",
       "      <th>0</th>\n",
       "      <td>0</td>\n",
       "    </tr>\n",
       "    <tr>\n",
       "      <th>1</th>\n",
       "      <td>1</td>\n",
       "    </tr>\n",
       "    <tr>\n",
       "      <th>2</th>\n",
       "      <td>0</td>\n",
       "    </tr>\n",
       "    <tr>\n",
       "      <th>3</th>\n",
       "      <td>1</td>\n",
       "    </tr>\n",
       "    <tr>\n",
       "      <th>4</th>\n",
       "      <td>0</td>\n",
       "    </tr>\n",
       "    <tr>\n",
       "      <th>5</th>\n",
       "      <td>0</td>\n",
       "    </tr>\n",
       "    <tr>\n",
       "      <th>6</th>\n",
       "      <td>1</td>\n",
       "    </tr>\n",
       "    <tr>\n",
       "      <th>7</th>\n",
       "      <td>1</td>\n",
       "    </tr>\n",
       "    <tr>\n",
       "      <th>8</th>\n",
       "      <td>1</td>\n",
       "    </tr>\n",
       "    <tr>\n",
       "      <th>9</th>\n",
       "      <td>1</td>\n",
       "    </tr>\n",
       "  </tbody>\n",
       "</table>\n",
       "</div>"
      ],
      "text/plain": [
       "   Fare\n",
       "0     0\n",
       "1     1\n",
       "2     0\n",
       "3     1\n",
       "4     0\n",
       "5     0\n",
       "6     1\n",
       "7     1\n",
       "8     1\n",
       "9     1"
      ]
     },
     "metadata": {},
     "output_type": "display_data"
    }
   ],
   "source": [
    "display(full_data[\"Name\"].str.split(\", \", expand=True)[1].str.split(\".\", expand=True).head(5))\n",
    "display(pd.DataFrame(np.floor(np.log10(full_data[\"Fare\"].dropna() + 1))).astype(int).head(10))"
   ]
  },
  {
   "cell_type": "code",
   "execution_count": 56,
   "metadata": {},
   "outputs": [],
   "source": [
    "# 티겟피처로 집계해서 Name을 가져와서 그것의 카운트를 구하면 같은 티겟번호로 공유된 갯수를 알수있다.\n",
    "groupby_ticket_name = full_data.groupby(\"Ticket\")[\"Name\"]\n",
    "share_ticket_flag = groupby_ticket_name.transform('count')"
   ]
  },
  {
   "cell_type": "code",
   "execution_count": 53,
   "metadata": {},
   "outputs": [
    {
     "data": {
      "text/plain": [
       "Mr              757\n",
       "Miss            260\n",
       "Mrs             197\n",
       "Master           61\n",
       "Rev               8\n",
       "Dr                8\n",
       "Col               4\n",
       "Mlle              2\n",
       "Major             2\n",
       "Ms                2\n",
       "Lady              1\n",
       "Sir               1\n",
       "Mme               1\n",
       "Don               1\n",
       "Capt              1\n",
       "the Countess      1\n",
       "Jonkheer          1\n",
       "Dona              1\n",
       "Name: 0, dtype: int64"
      ]
     },
     "execution_count": 53,
     "metadata": {},
     "output_type": "execute_result"
    }
   ],
   "source": [
    "x = full_data[\"Name\"].str.split(\", \", expand=True)[1].str.split(\".\", expand=True)[0]\n",
    "x.value_counts()"
   ]
  },
  {
   "cell_type": "code",
   "execution_count": 61,
   "metadata": {
    "execution": {
     "iopub.execute_input": "2021-09-14T15:02:53.916716Z",
     "iopub.status.busy": "2021-09-14T15:02:53.916443Z",
     "iopub.status.idle": "2021-09-14T15:02:54.113776Z",
     "shell.execute_reply": "2021-09-14T15:02:54.113151Z",
     "shell.execute_reply.started": "2021-09-14T15:02:53.916664Z"
    }
   },
   "outputs": [
    {
     "data": {
      "text/html": [
       "<div>\n",
       "<style scoped>\n",
       "    .dataframe tbody tr th:only-of-type {\n",
       "        vertical-align: middle;\n",
       "    }\n",
       "\n",
       "    .dataframe tbody tr th {\n",
       "        vertical-align: top;\n",
       "    }\n",
       "\n",
       "    .dataframe thead th {\n",
       "        text-align: right;\n",
       "    }\n",
       "</style>\n",
       "<table border=\"1\" class=\"dataframe\">\n",
       "  <thead>\n",
       "    <tr style=\"text-align: right;\">\n",
       "      <th></th>\n",
       "      <th>PassengerId</th>\n",
       "      <th>Pclass</th>\n",
       "      <th>Name</th>\n",
       "      <th>Sex</th>\n",
       "      <th>Age</th>\n",
       "      <th>SibSp</th>\n",
       "      <th>Parch</th>\n",
       "      <th>Ticket</th>\n",
       "      <th>Fare</th>\n",
       "      <th>Cabin</th>\n",
       "      <th>...</th>\n",
       "      <th>Deck</th>\n",
       "      <th>Ttype</th>\n",
       "      <th>Title</th>\n",
       "      <th>Fare_cat</th>\n",
       "      <th>Bad_ticket</th>\n",
       "      <th>Young</th>\n",
       "      <th>Shared_ticket</th>\n",
       "      <th>Ticket_group</th>\n",
       "      <th>Fare_eff</th>\n",
       "      <th>Fare_eff_cat</th>\n",
       "    </tr>\n",
       "  </thead>\n",
       "  <tbody>\n",
       "    <tr>\n",
       "      <th>0</th>\n",
       "      <td>1</td>\n",
       "      <td>3</td>\n",
       "      <td>Braund, Mr. Owen Harris</td>\n",
       "      <td>male</td>\n",
       "      <td>22.0</td>\n",
       "      <td>1</td>\n",
       "      <td>0</td>\n",
       "      <td>A/5 21171</td>\n",
       "      <td>7.2500</td>\n",
       "      <td>NaN</td>\n",
       "      <td>...</td>\n",
       "      <td>U</td>\n",
       "      <td>A</td>\n",
       "      <td>Mr</td>\n",
       "      <td>0</td>\n",
       "      <td>True</td>\n",
       "      <td>True</td>\n",
       "      <td>0</td>\n",
       "      <td>1</td>\n",
       "      <td>7.25000</td>\n",
       "      <td>0</td>\n",
       "    </tr>\n",
       "    <tr>\n",
       "      <th>1</th>\n",
       "      <td>2</td>\n",
       "      <td>1</td>\n",
       "      <td>Cumings, Mrs. John Bradley (Florence Briggs Th...</td>\n",
       "      <td>female</td>\n",
       "      <td>38.0</td>\n",
       "      <td>1</td>\n",
       "      <td>0</td>\n",
       "      <td>PC 17599</td>\n",
       "      <td>71.2833</td>\n",
       "      <td>C85</td>\n",
       "      <td>...</td>\n",
       "      <td>C</td>\n",
       "      <td>P</td>\n",
       "      <td>Mrs</td>\n",
       "      <td>1</td>\n",
       "      <td>False</td>\n",
       "      <td>False</td>\n",
       "      <td>1</td>\n",
       "      <td>2</td>\n",
       "      <td>35.64165</td>\n",
       "      <td>2</td>\n",
       "    </tr>\n",
       "  </tbody>\n",
       "</table>\n",
       "<p>2 rows × 27 columns</p>\n",
       "</div>"
      ],
      "text/plain": [
       "   PassengerId  Pclass                                               Name  \\\n",
       "0            1       3                            Braund, Mr. Owen Harris   \n",
       "1            2       1  Cumings, Mrs. John Bradley (Florence Briggs Th...   \n",
       "\n",
       "      Sex   Age  SibSp  Parch     Ticket     Fare Cabin  ... Deck  Ttype  \\\n",
       "0    male  22.0      1      0  A/5 21171   7.2500   NaN  ...    U      A   \n",
       "1  female  38.0      1      0   PC 17599  71.2833   C85  ...    C      P   \n",
       "\n",
       "   Title  Fare_cat  Bad_ticket  Young  Shared_ticket Ticket_group  Fare_eff  \\\n",
       "0     Mr         0        True   True              0            1   7.25000   \n",
       "1    Mrs         1       False  False              1            2  35.64165   \n",
       "\n",
       "  Fare_eff_cat  \n",
       "0            0  \n",
       "1            2  \n",
       "\n",
       "[2 rows x 27 columns]"
      ]
     },
     "metadata": {},
     "output_type": "display_data"
    }
   ],
   "source": [
    "full_data = pd.concat([train.drop(labels=[\"Survived\"], axis=1), test])\n",
    "survived = train[\"Survived\"]\n",
    "\n",
    "# Child boolean\n",
    "full_data[\"Child\"] = full_data[\"Age\"].apply(lambda x:1 if x <= 10 else 0)\n",
    "full_data[\"Cabin_known\"] = full_data[\"Cabin\"].isnull() == False\n",
    "full_data[\"Age_known\"] = full_data[\"Age\"].isnull() == False\n",
    "full_data[\"Family\"] = full_data[\"SibSp\"] + full_data[\"Parch\"]\n",
    "full_data[\"Alone\"] = full_data[\"Family\"].apply(lambda  x : 0 if x ==0 else 1)\n",
    "full_data[\"Large_Family\"] = full_data[\"Family\"].apply(lambda x : 1 if x > 2 else 0 )\n",
    "full_data[\"Deck\"] = full_data[\"Cabin\"].str[0]\n",
    "full_data[\"Deck\"] = full_data[\"Deck\"].fillna(value=\"U\")\n",
    "full_data[\"Ttype\"] = full_data[\"Ticket\"].str[0]\n",
    "full_data[\"Title\"] = full_data[\"Name\"].str.split(\", \", expand=True)[1].str.split(\".\", expand=True)[0]\n",
    "full_data[\"Fare_cat\"] = pd.DataFrame(np.floor(np.log10(full_data[\"Fare\"]+1))).astype(int)\n",
    "full_data[\"Bad_ticket\"] = full_data[\"Ttype\"].isin(['3', '4', '5', '6', '7', '8', 'A', 'L', 'W'])\n",
    "full_data[\"Young\"] = (full_data[\"Age\"]<=30) | (full_data[\"Title\"].isin(['Master', 'Miss', \"Mlle\"]))\n",
    "#티겟이 공유되었으면 1아니면 0\n",
    "full_data[\"Shared_ticket\"] = np.where(full_data.groupby(\"Ticket\")[\"Name\"].transform('count') > 1, 1, 0)\n",
    "full_data[\"Ticket_group\"]  = full_data.groupby(\"Ticket\")[\"Name\"].transform('count') \n",
    "full_data[\"Fare_eff\"] = full_data[\"Fare\"] / full_data[\"Ticket_group\"]\n",
    "full_data[\"Fare_eff_cat\"] = np.where(full_data[\"Fare_eff\"]>16.0, 2, 1)\n",
    "full_data[\"Fare_eff_cat\"] = np.where(full_data[\"Fare_eff\"] < 8.5, 0, full_data[\"Fare_eff_cat\"])\n",
    "\n",
    "test = full_data.iloc[len(train):]\n",
    "train = full_data.iloc[:len(train)]\n",
    "train[\"Survived\"] = survived\n",
    "\n",
    "surv = train[train[\"Survived\"]==1]\n",
    "nonsurv = train[train[\"Survived\"]==0]\n",
    "\n",
    "display(full_data.head(n=2))"
   ]
  },
  {
   "cell_type": "markdown",
   "metadata": {
    "_cell_guid": "07f87284-54fb-bc9c-a612-3430aaf4ac2d",
    "_uuid": "efd3f915e179eb683130e0ecf74d2af7e1513502"
   },
   "source": [
    "Now let's study the new features and see how they relate to the survival chances:"
   ]
  },
  {
   "cell_type": "markdown",
   "metadata": {
    "_cell_guid": "a918a3c4-d254-aa06-34d8-35a05aeacd8c",
    "_uuid": "38050054bfc4ba623dcbebc8f343870b2a3bc45f"
   },
   "source": [
    "### *Child*"
   ]
  },
  {
   "cell_type": "code",
   "execution_count": 62,
   "metadata": {},
   "outputs": [
    {
     "data": {
      "text/plain": [
       "'객실등급별 아이 분포 : Pclass    1    2    3\\nChild                \\n0       213  167  447\\n1         3   17   44'"
      ]
     },
     "metadata": {},
     "output_type": "display_data"
    },
    {
     "data": {
      "text/plain": [
       "'성별 아이 분포 : Sex    female  male\\nChild              \\n0         283   544\\n1          31    33'"
      ]
     },
     "metadata": {},
     "output_type": "display_data"
    },
    {
     "data": {
      "image/png": "[encoded data removed]",
      "text/plain": [
       "<Figure size 726.125x252 with 3 Axes>"
      ]
     },
     "metadata": {},
     "output_type": "display_data"
    }
   ],
   "source": [
    "g = sns.factorplot(x=\"Sex\", y= \"Survived\", hue=\"Child\", col=\"Pclass\", data=train, aspect=0.9, size=3.5, ci=95.0)\n",
    "\n",
    "#객실등급별 아이들 수 \n",
    "tab = pd.crosstab(train[\"Child\"], train[\"Pclass\"])\n",
    "display(f\"객실등급별 아이 분포 : {tab}\")\n",
    "\n",
    "tab = pd.crosstab(train[\"Child\"], train[\"Sex\"])\n",
    "display(f\"성별 아이 분포 : {tab}\")"
   ]
  },
  {
   "cell_type": "code",
   "execution_count": null,
   "metadata": {
    "execution": {
     "iopub.execute_input": "2021-09-14T15:02:54.115111Z",
     "iopub.status.busy": "2021-09-14T15:02:54.114726Z",
     "iopub.status.idle": "2021-09-14T15:02:55.115124Z",
     "shell.execute_reply": "2021-09-14T15:02:55.113663Z",
     "shell.execute_reply.started": "2021-09-14T15:02:54.115052Z"
    }
   },
   "outputs": [],
   "source": []
  },
  {
   "cell_type": "markdown",
   "metadata": {
    "_cell_guid": "d55bc4af-b5ce-db0d-8b33-ae08f532f62a",
    "_execution_state": "idle",
    "_uuid": "cc74f223a0d821b7606408213f3a9b72f5bb8e35",
    "execution": {
     "iopub.status.busy": "2021-09-11T13:44:42.161603Z",
     "iopub.status.idle": "2021-09-11T13:44:42.161963Z"
    }
   },
   "source": [
    "The Pclass ==1 plot looks interesting at first, but there are only 3 children in this group which makes the apparent pattern just random noise.\n",
    "Ther other two passenger classes are more interesting, especially for the male children.\n",
    "\n",
    "Note, that since we are sleecting by Age, whick has many missing values, a number of children will be in the Child==False group. Nonetheless, this seems useful.\n",
    "\n",
    "**We learn:**\n",
    "Male children appear to have a survival advantage in 2nd and 3rd class.\n",
    "We should include the Child Feature in our modeling testing."
   ]
  },
  {
   "cell_type": "markdown",
   "metadata": {
    "_cell_guid": "42dc3e0d-74b6-48eb-96ba-40dbb7b27308",
    "_uuid": "2697154852135c113a4d207bf9446741632705ad"
   },
   "source": [
    "### *Cabin\\_known*"
   ]
  },
  {
   "cell_type": "code",
   "execution_count": null,
   "metadata": {
    "execution": {
     "iopub.execute_input": "2021-09-14T15:02:55.117587Z",
     "iopub.status.busy": "2021-09-14T15:02:55.116973Z",
     "iopub.status.idle": "2021-09-14T15:02:55.362046Z",
     "shell.execute_reply": "2021-09-14T15:02:55.360661Z",
     "shell.execute_reply.started": "2021-09-14T15:02:55.117311Z"
    }
   },
   "outputs": [],
   "source": [
    "cab = pd.crosstab(index=train[\"Cabin_known\"], columns = train[\"Survived\"])\n",
    "display(cab)\n",
    "\n",
    "dummy = cab.div(cab.sum(axis = 1).astype(float), axis=0)\n",
    "display(dummy)\n",
    "\n",
    "dummy.plot(kind='bar', stacked=True, alpha=0.95)\n",
    "plt.xlabel(\"Cabin Known\")\n",
    "plt.ylabel(\"Percentage\")"
   ]
  },
  {
   "cell_type": "markdown",
   "metadata": {
    "_cell_guid": "307c1b1b-ff16-dd48-2ceb-13a229b8b773",
    "_execution_state": "idle",
    "_uuid": "0dee1af63f7e2baffc0ffeda95755cb2e513d254"
   },
   "source": [
    "As suspected, it is more likely to know the cabin of as passenger whod survived.This could be usefule."
   ]
  },
  {
   "cell_type": "code",
   "execution_count": null,
   "metadata": {
    "execution": {
     "iopub.execute_input": "2021-09-14T15:02:55.364323Z",
     "iopub.status.busy": "2021-09-14T15:02:55.363750Z",
     "iopub.status.idle": "2021-09-14T15:02:56.355728Z",
     "shell.execute_reply": "2021-09-14T15:02:56.354212Z",
     "shell.execute_reply.started": "2021-09-14T15:02:55.364060Z"
    }
   },
   "outputs": [],
   "source": [
    "g = sns.factorplot(x=\"Sex\", y=\"Survived\", hue=\"Cabin_known\", col=\"Pclass\", data=train, aspect=0.9, size=3.5, ci=95.0)"
   ]
  },
  {
   "cell_type": "markdown",
   "metadata": {},
   "source": [
    "However, we see again that a large part of this effect disappears once we control for **Sex and Pclass**.\n",
    "\n",
    "**We learn:**\n",
    "There remains a potential trend for males and for 3rd class passengers but the uncertainities are large.\n",
    "This feature should be tested in the modeling state."
   ]
  },
  {
   "cell_type": "markdown",
   "metadata": {
    "_cell_guid": "35193e00-c7cd-e426-8abb-1f2be1c50c6a",
    "_uuid": "f122fb1d64e306a9f633db989f2ba36495aef353"
   },
   "source": [
    "### *Deck*"
   ]
  },
  {
   "cell_type": "code",
   "execution_count": null,
   "metadata": {
    "execution": {
     "iopub.execute_input": "2021-09-14T15:02:56.358051Z",
     "iopub.status.busy": "2021-09-14T15:02:56.357433Z",
     "iopub.status.idle": "2021-09-14T15:02:56.668901Z",
     "shell.execute_reply": "2021-09-14T15:02:56.668004Z",
     "shell.execute_reply.started": "2021-09-14T15:02:56.357745Z"
    }
   },
   "outputs": [],
   "source": [
    "tab = pd.crosstab(index=train[\"Deck\"], columns=train[\"Survived\"])\n",
    "display(tab)\n",
    "dummy = tab.div(tab.sum(axis =1).astype(float), axis = 0)\n",
    "display(dummy)\n",
    "dummy.plot(kind=\"bar\", stacked=True)\n",
    "dummy = plt.xlabel(\"Deck\")\n",
    "dummy = plt.ylabel(\"Survival Ratio\")"
   ]
  },
  {
   "cell_type": "markdown",
   "metadata": {
    "_cell_guid": "4e95d93b-5474-61cf-58d6-7c25b42fb43c",
    "_execution_state": "idle",
    "_uuid": "bd2dcc50b618dcbb02d19e3f738f75662b9d65c9"
   },
   "source": [
    "OK.so what can we tell from the Deck(derived from the Cabin number)? First of all, the overall survial statistics much better than for the full sample, which is what we found above.\n",
    "Beyond that, the best decks for survival where B, D and E with abount 66% chance.\n",
    "\n",
    "C and F are around 60%. A and G at 50%. The only on deck T died, but that's hardly robust statitstics.\n",
    "\n",
    "The largest number of cases we have is for B vs C. Let's see whether that's significant:"
   ]
  },
  {
   "cell_type": "markdown",
   "metadata": {},
   "source": [
    "* binom_test"
   ]
  },
  {
   "cell_type": "code",
   "execution_count": null,
   "metadata": {
    "execution": {
     "iopub.execute_input": "2021-09-14T15:02:56.670769Z",
     "iopub.status.busy": "2021-09-14T15:02:56.670270Z",
     "iopub.status.idle": "2021-09-14T15:02:56.676566Z",
     "shell.execute_reply": "2021-09-14T15:02:56.675662Z",
     "shell.execute_reply.started": "2021-09-14T15:02:56.670713Z"
    }
   },
   "outputs": [],
   "source": [
    "help(stats.binom_test)"
   ]
  },
  {
   "cell_type": "code",
   "execution_count": null,
   "metadata": {
    "execution": {
     "iopub.execute_input": "2021-09-14T15:02:56.678515Z",
     "iopub.status.busy": "2021-09-14T15:02:56.677958Z",
     "iopub.status.idle": "2021-09-14T15:02:56.691945Z",
     "shell.execute_reply": "2021-09-14T15:02:56.690896Z",
     "shell.execute_reply.started": "2021-09-14T15:02:56.678456Z"
    }
   },
   "outputs": [],
   "source": [
    "stats.binom_test(x=12, n = 12 + 35, p=24/ (24. + 35.))"
   ]
  },
  {
   "cell_type": "markdown",
   "metadata": {},
   "source": [
    "Just abount formally significant(i.e. < 5%). It might be worth our while to include this feature in at least the initial stages of modeling to see how it perfomrs."
   ]
  },
  {
   "cell_type": "code",
   "execution_count": null,
   "metadata": {
    "execution": {
     "iopub.execute_input": "2021-09-14T15:02:56.694025Z",
     "iopub.status.busy": "2021-09-14T15:02:56.693385Z",
     "iopub.status.idle": "2021-09-14T15:02:58.041736Z",
     "shell.execute_reply": "2021-09-14T15:02:58.040783Z",
     "shell.execute_reply.started": "2021-09-14T15:02:56.693950Z"
    }
   },
   "outputs": [],
   "source": [
    "g = sns.factorplot(x=\"Deck\", y=\"Survived\", hue=\"Sex\", col=\"Pclass\", data=train, aspect=0.98, size=3.5, ci=95.0)"
   ]
  },
  {
   "cell_type": "markdown",
   "metadata": {
    "_cell_guid": "4e75d6f9-ca10-a99f-5cc0-f755c4051702",
    "_execution_state": "idle",
    "_uuid": "809181f1c20096f2a9e6587c20c28a717d58efd0",
    "execution": {
     "iopub.status.busy": "2021-09-12T12:45:46.513523Z",
     "iopub.status.idle": "2021-09-12T12:45:46.513959Z"
    }
   },
   "source": [
    "In addition, there is some variation between the 1st class male passengers, but it doesn't look overly significant."
   ]
  },
  {
   "cell_type": "markdown",
   "metadata": {
    "_cell_guid": "4083f7a9-ffe5-8617-8ea3-2656eb568bbd",
    "_uuid": "379ad1b7f4c2c06d0c179412cfb21f985d0bfe22"
   },
   "source": [
    "### *Ttype and Bad\\_ticket*"
   ]
  },
  {
   "cell_type": "markdown",
   "metadata": {},
   "source": [
    "Let's have a look at the ticket numbers and see whether we can extract some additional deck information from them. Above, we created a new feature called *Ttype* whick defines the type of a ticket through the first digit of the ticket number."
   ]
  },
  {
   "cell_type": "code",
   "execution_count": null,
   "metadata": {
    "execution": {
     "iopub.execute_input": "2021-09-14T15:02:58.043687Z",
     "iopub.status.busy": "2021-09-14T15:02:58.043121Z",
     "iopub.status.idle": "2021-09-14T15:02:58.054596Z",
     "shell.execute_reply": "2021-09-14T15:02:58.053264Z",
     "shell.execute_reply.started": "2021-09-14T15:02:58.043628Z"
    }
   },
   "outputs": [],
   "source": [
    "display(train[\"Ttype\"].unique())\n",
    "display(test[\"Ttype\"].unique())"
   ]
  },
  {
   "cell_type": "code",
   "execution_count": null,
   "metadata": {
    "_cell_guid": "9938627f-4492-bbe5-9e38-c50749b9cfce",
    "_execution_state": "idle",
    "_uuid": "9bd2d3d6c7af8e61d7574cd694401f5296081383",
    "execution": {
     "iopub.execute_input": "2021-09-14T15:02:58.061416Z",
     "iopub.status.busy": "2021-09-14T15:02:58.056517Z",
     "iopub.status.idle": "2021-09-14T15:02:58.572981Z",
     "shell.execute_reply": "2021-09-14T15:02:58.566302Z",
     "shell.execute_reply.started": "2021-09-14T15:02:58.061335Z"
    }
   },
   "outputs": [],
   "source": [
    "tab = pd.crosstab(train[\"Ttype\"], train[\"Survived\"])\n",
    "display(tab)\n",
    "sns.barplot(x=\"Ttype\", y=\"Survived\", data = train, ci=95.0, color=\"blue\")"
   ]
  },
  {
   "cell_type": "markdown",
   "metadata": {
    "_cell_guid": "dd810358-15a2-0d56-768a-682965101505",
    "_execution_state": "idle",
    "_uuid": "55bcd2c9c442ded84ba1066867ae9b9b6694b1f1",
    "execution": {
     "iopub.status.busy": "2021-09-12T12:45:46.515806Z",
     "iopub.status.idle": "2021-09-12T12:45:46.516187Z"
    }
   },
   "source": [
    "Based on this plot we define a new feature called **Bad_ticket** under which we collect all the ticket numbers that start with digits which suggest less than 25% survival(e.g. 4, 5 or A). We are aware that some of the survival fractions we see above are based on small numbers statistics (e.g. 2 vs 0 for 8). It is well possible that some of our \"bad tickets\" are merely statistical fluctuations from the base survival rate of 38%.\n",
    "The barplot shows mean survival fractions and the associcated 95% confidence limits , which are large for the sparse samples.\n",
    "\n",
    "However. the significant differences between e.g. **1 and 3**(based on large enough numbers) suggested that this new feature could still contain some useful information.\n",
    "I think that without external information, which we are avoiding in this notebook, we can't do much better in trying to tie the ticket number to the survival statistics.\n",
    "\n",
    "Of course, it's not the tikets themselves thart are \"bad\" for survival, but the possibility that the tikcet numbers might encode certain areas of the ship that would have led to higher or lower survial changes.\n",
    "\n",
    "In Korean, we  call it **이상치 제거 - removal of outlier**."
   ]
  },
  {
   "cell_type": "code",
   "execution_count": null,
   "metadata": {
    "execution": {
     "iopub.execute_input": "2021-09-14T15:02:58.575161Z",
     "iopub.status.busy": "2021-09-14T15:02:58.574796Z",
     "iopub.status.idle": "2021-09-14T15:02:59.179865Z",
     "shell.execute_reply": "2021-09-14T15:02:59.177613Z",
     "shell.execute_reply.started": "2021-09-14T15:02:58.575107Z"
    }
   },
   "outputs": [],
   "source": [
    "tab = pd.crosstab(train[\"Bad_ticket\"], train[\"Survived\"])\n",
    "display(tab)\n",
    "g = sns.factorplot(x=\"Bad_ticket\", y=\"Survived\", hue=\"Sex\", col=\"Pclass\", data = train, aspect=0.9, size=3.5, ci=95.0)"
   ]
  },
  {
   "cell_type": "markdown",
   "metadata": {
    "_cell_guid": "bb739f45-940e-4f60-b832-444917a4a272",
    "_execution_state": "idle",
    "_uuid": "c4682b1d0ff260e13ec17abf7982dcac613e0085",
    "execution": {
     "iopub.status.busy": "2021-09-12T12:45:46.516801Z",
     "iopub.status.idle": "2021-09-12T12:45:46.517429Z"
    }
   },
   "source": [
    "The factorplot suggests that bad tickets are worse for male passengers, and 3rd class passengers. The individual significances are not overwhelming, but the trend itself might be useful."
   ]
  },
  {
   "cell_type": "code",
   "execution_count": null,
   "metadata": {
    "execution": {
     "iopub.execute_input": "2021-09-14T15:02:59.181495Z",
     "iopub.status.busy": "2021-09-14T15:02:59.181174Z",
     "iopub.status.idle": "2021-09-14T15:02:59.370522Z",
     "shell.execute_reply": "2021-09-14T15:02:59.369869Z",
     "shell.execute_reply.started": "2021-09-14T15:02:59.181441Z"
    }
   },
   "outputs": [],
   "source": [
    "tab = pd.crosstab(train[\"Deck\"], train[\"Bad_ticket\"])\n",
    "display(tab)\n",
    "\n",
    "\n",
    "dummy = tab.div(tab.sum(1).astype(float), axis=0).plot(kind=\"bar\", stacked =True)\n",
    "dummy = plt.xlabel(\"Deck\")\n",
    "dummy = plt.ylabel(\"Percentage\")"
   ]
  },
  {
   "cell_type": "markdown",
   "metadata": {
    "_cell_guid": "27b2118d-ecff-2a3a-3232-6fcdc6f8757d",
    "_execution_state": "idle",
    "_uuid": "5d4bf4698c7779fd7fdc1414a2d2e616720dad2e",
    "execution": {
     "iopub.status.busy": "2021-09-12T12:45:46.518101Z",
     "iopub.status.idle": "2021-09-12T12:45:46.518611Z"
    }
   },
   "source": [
    "The last plot deosn't inspire much confidence in a strong correlation between **Deck and Bad_ticket**, but maybe it will be usefule otherwise.\n",
    "\n",
    "**We learn**: **Bad_ticket** might be a lower order effect that could give us some additional accuracy.We should test it out in the modelling state."
   ]
  },
  {
   "cell_type": "markdown",
   "metadata": {
    "_cell_guid": "57b33f91-c37b-10df-de5f-42de3685f5f8",
    "_uuid": "4dede2da43aca2d229c982ba1aa540fe637a1ed7"
   },
   "source": [
    "### *Age\\_known*"
   ]
  },
  {
   "cell_type": "markdown",
   "metadata": {},
   "source": [
    "Similiar to the known Cabin numbers, what about the *Passengers for which we know the age?*"
   ]
  },
  {
   "cell_type": "code",
   "execution_count": null,
   "metadata": {
    "execution": {
     "iopub.execute_input": "2021-09-14T15:02:59.372095Z",
     "iopub.status.busy": "2021-09-14T15:02:59.371634Z",
     "iopub.status.idle": "2021-09-14T15:02:59.524084Z",
     "shell.execute_reply": "2021-09-14T15:02:59.523401Z",
     "shell.execute_reply.started": "2021-09-14T15:02:59.372039Z"
    }
   },
   "outputs": [],
   "source": [
    "tab = pd.crosstab(train[\"Age_known\"], train[\"Survived\"])\n",
    "display(tab)\n",
    "dummy = tab.div(tab.sum(axis = 1).astype(float), axis = 0)\n",
    "display(dummy)\n",
    "dummy.plot(kind=\"bar\", stacked=True)\n",
    "dummy = plt.xlabel(\"Age known\")\n",
    "dummy = plt.ylabel(\"Survival ratio\")"
   ]
  },
  {
   "cell_type": "markdown",
   "metadata": {
    "_cell_guid": "3521831a-441d-89f0-94af-cd7d08b30744",
    "_execution_state": "idle",
    "_uuid": "dac2f74bc8ca18224c48c7a0d89e2b1c9a045931"
   },
   "source": [
    "As we would expect intuitively, it appears that we are more likely to know someones' age if the survived the disaster. There's a difference of about 30% vs 40% and it should be significant."
   ]
  },
  {
   "cell_type": "code",
   "execution_count": null,
   "metadata": {
    "_cell_guid": "464e5a01-7f47-4bb9-451b-5534a04554a9",
    "_execution_state": "idle",
    "_uuid": "ab3f23ca18171c929654fa6a3213fd330a0852eb",
    "execution": {
     "iopub.execute_input": "2021-09-14T15:02:59.525711Z",
     "iopub.status.busy": "2021-09-14T15:02:59.525229Z",
     "iopub.status.idle": "2021-09-14T15:02:59.533366Z",
     "shell.execute_reply": "2021-09-14T15:02:59.532549Z",
     "shell.execute_reply.started": "2021-09-14T15:02:59.525654Z"
    }
   },
   "outputs": [],
   "source": [
    "stats.binom_test(x=424,n=424+290,p=125/(125.+52.))"
   ]
  },
  {
   "cell_type": "markdown",
   "metadata": {},
   "source": [
    "Very much so. However, we have seen before that there might be imbalances in the dominating feature **Sex and Pclass** that create an apparent signal. Is this another of these cases?"
   ]
  },
  {
   "cell_type": "code",
   "execution_count": null,
   "metadata": {
    "execution": {
     "iopub.execute_input": "2021-09-14T15:02:59.535102Z",
     "iopub.status.busy": "2021-09-14T15:02:59.534633Z",
     "iopub.status.idle": "2021-09-14T15:03:00.196537Z",
     "shell.execute_reply": "2021-09-14T15:03:00.195669Z",
     "shell.execute_reply.started": "2021-09-14T15:02:59.535047Z"
    }
   },
   "outputs": [],
   "source": [
    "g = sns.factorplot(x=\"Sex\", y=\"Age_known\", data=train, hue=\"Embarked\", col=\"Pclass\", aspect=0.9, size=3.5, ci=95.0)"
   ]
  },
  {
   "cell_type": "markdown",
   "metadata": {
    "_cell_guid": "fe153347-144f-9be5-0bf7-c129000f6726",
    "_execution_state": "idle",
    "_uuid": "62b9ed7f2b2e34c556e0c5dca19aa6c1f4b717c3",
    "execution": {
     "iopub.status.busy": "2021-09-12T12:45:46.521856Z",
     "iopub.status.idle": "2021-09-12T12:45:46.522346Z"
    }
   },
   "source": [
    "It actually is. Turns out that we are more likely to know the age of higher class passengers or women, which are the strongest survival predictiors we have found. so far.(Of course, the casualty might as well go to other way, but that's not really the question here. What we want to find are the best predictors for survival.)\n",
    "\n",
    "**We learn:** There is a strong impact of *Sex and Pclass* on this new feature. This might be enough to explain all the variance in the *Age_known* variable. We should test the predictive power in our modeling."
   ]
  },
  {
   "cell_type": "markdown",
   "metadata": {
    "_cell_guid": "7d426740-74f1-260c-3d02-1b51fa1ad9eb",
    "_uuid": "02e15c376a1efe43abed6deaf8cedffd5b771df2"
   },
   "source": [
    "### *Family*"
   ]
  },
  {
   "cell_type": "code",
   "execution_count": null,
   "metadata": {
    "execution": {
     "iopub.execute_input": "2021-09-14T15:03:00.198325Z",
     "iopub.status.busy": "2021-09-14T15:03:00.197849Z",
     "iopub.status.idle": "2021-09-14T15:03:00.385146Z",
     "shell.execute_reply": "2021-09-14T15:03:00.384547Z",
     "shell.execute_reply.started": "2021-09-14T15:03:00.198267Z"
    }
   },
   "outputs": [],
   "source": [
    "tab = pd.crosstab(train[\"Family\"], train[\"Survived\"])\n",
    "display(tab)\n",
    "dummy = tab.div(tab.sum(1).astype(float), axis=0).plot(kind='bar', stacked=True)\n",
    "dummy = plt.xlabel(\"Family members\")\n",
    "dummy = plt.ylabel(\"Survival probability\")"
   ]
  },
  {
   "cell_type": "markdown",
   "metadata": {
    "_cell_guid": "bdfda814-ec89-24ee-3e52-f19a646beb5a",
    "_execution_state": "idle",
    "_uuid": "4c9b11d6fc8887cd18dd64d0d398f39df51de11b",
    "execution": {
     "iopub.status.busy": "2021-09-12T12:45:46.523014Z",
     "iopub.status.idle": "2021-09-12T12:45:46.52355Z"
    }
   },
   "source": [
    "**We learn:** Again, we find that having 1-3 family members works best for survival. This feature is a mix of *SibSp and Parh*, which increases the overall numbers we can work with, but might smooth out some more subtle effects."
   ]
  },
  {
   "cell_type": "markdown",
   "metadata": {
    "_cell_guid": "9cdd4598-4f9b-830a-7bb4-ebe76df02ea2",
    "_uuid": "2f028598aa1880d88954cde1cfb8e21715cbd7d7"
   },
   "source": [
    "### *Alone*"
   ]
  },
  {
   "cell_type": "code",
   "execution_count": null,
   "metadata": {
    "execution": {
     "iopub.execute_input": "2021-09-14T15:03:58.600448Z",
     "iopub.status.busy": "2021-09-14T15:03:58.599985Z",
     "iopub.status.idle": "2021-09-14T15:03:58.766941Z",
     "shell.execute_reply": "2021-09-14T15:03:58.765870Z",
     "shell.execute_reply.started": "2021-09-14T15:03:58.600223Z"
    }
   },
   "outputs": [],
   "source": [
    "tab = pd.crosstab(index= train[\"Alone\"], columns=train[\"Survived\"])\n",
    "display(tab)\n",
    "sns.barplot(x=\"Alone\", y=\"Survived\", data=train)"
   ]
  },
  {
   "cell_type": "markdown",
   "metadata": {
    "_cell_guid": "4f24c2c3-dfb1-e52d-05a9-28c39ea0c094",
    "_uuid": "2714021aa964e9fd55c430b96ae3cc745dac8ef3"
   },
   "source": [
    "Travelling alone appreas bar enough to be significant."
   ]
  },
  {
   "cell_type": "code",
   "execution_count": null,
   "metadata": {
    "execution": {
     "iopub.execute_input": "2021-09-14T15:09:01.828991Z",
     "iopub.status.busy": "2021-09-14T15:09:01.828666Z",
     "iopub.status.idle": "2021-09-14T15:09:02.897187Z",
     "shell.execute_reply": "2021-09-14T15:09:02.896246Z",
     "shell.execute_reply.started": "2021-09-14T15:09:01.828936Z"
    }
   },
   "outputs": [],
   "source": [
    "g = sns.factorplot(x=\"Sex\", y=\"Alone\", hue=\"Embarked\", col=\"Pclass\",data=train, aspect=0.9, size=3.5, ci=95.0)"
   ]
  },
  {
   "cell_type": "markdown",
   "metadata": {},
   "source": [
    "But more men were travelling alone than women did. Especially among the 3rd class passengers.Alson this feature should be evaluated in our modeling step, to see if it's still significant of the **Sex feature**."
   ]
  },
  {
   "cell_type": "markdown",
   "metadata": {
    "_cell_guid": "01049f4b-c64e-024c-a0c5-87045fecc4ea",
    "_uuid": "f165841d949c4e87c0e0ab88a2541529f4f4b793"
   },
   "source": [
    "### *Large\\_Family*"
   ]
  },
  {
   "cell_type": "code",
   "execution_count": null,
   "metadata": {
    "execution": {
     "iopub.execute_input": "2021-09-14T15:17:36.570173Z",
     "iopub.status.busy": "2021-09-14T15:17:36.569877Z",
     "iopub.status.idle": "2021-09-14T15:17:36.776885Z",
     "shell.execute_reply": "2021-09-14T15:17:36.775712Z",
     "shell.execute_reply.started": "2021-09-14T15:17:36.570106Z"
    }
   },
   "outputs": [],
   "source": [
    "tab= pd.crosstab(train[\"Large_Family\"], train[\"Survived\"])\n",
    "display(tab)\n",
    "sns.barplot(\"Large_Family\", \"Survived\", data=train)"
   ]
  },
  {
   "cell_type": "markdown",
   "metadata": {
    "_cell_guid": "7be81ed2-30c6-0b44-c5c8-149d08cdd18a",
    "_uuid": "77b90b56788e2910e2ddee3d9144901cb64bb0f2"
   },
   "source": [
    "In the same way, having a large family appears to be not good for survival."
   ]
  },
  {
   "cell_type": "code",
   "execution_count": null,
   "metadata": {
    "_cell_guid": "ebd10af1-10cf-6e58-9125-a9d2c94b2373",
    "_execution_state": "idle",
    "_uuid": "66300f7b64d42747d8827c4463f1f0f65b510cff",
    "execution": {
     "iopub.execute_input": "2021-09-14T15:20:05.712643Z",
     "iopub.status.busy": "2021-09-14T15:20:05.712319Z",
     "iopub.status.idle": "2021-09-14T15:20:06.372682Z",
     "shell.execute_reply": "2021-09-14T15:20:06.371677Z",
     "shell.execute_reply.started": "2021-09-14T15:20:05.712601Z"
    }
   },
   "outputs": [],
   "source": [
    "#어느 객실에 대가족이 많이 있는것인가?\n",
    "g = sns.factorplot(x=\"Sex\", y=\"Large_Family\", col=\"Pclass\",\n",
    "                   data=train, aspect=0.9, size=3.5, ci=95.0)"
   ]
  },
  {
   "cell_type": "markdown",
   "metadata": {
    "_cell_guid": "14c3513d-44ab-3feb-c181-e98a476e9e31",
    "_uuid": "70fc844e98a0bab2154bc9719837a6116b87ca7a"
   },
   "source": [
    "But most large families were travelling in 3rd class. The tentative imbalance between male and female 3rd class probably refelct the observation wer mad earlier that men were more likely to travel alone."
   ]
  },
  {
   "cell_type": "markdown",
   "metadata": {
    "_cell_guid": "d000a88b-f8ef-7e39-6a19-7e9c9c084cf2",
    "_uuid": "b4ec9ed3bcaf4c3878a6f4503ed4d8ac4a68d983"
   },
   "source": [
    "### *Shared\\_ticket*"
   ]
  },
  {
   "cell_type": "code",
   "execution_count": null,
   "metadata": {
    "execution": {
     "iopub.execute_input": "2021-09-14T15:28:07.924031Z",
     "iopub.status.busy": "2021-09-14T15:28:07.923535Z",
     "iopub.status.idle": "2021-09-14T15:28:08.124881Z",
     "shell.execute_reply": "2021-09-14T15:28:08.123925Z",
     "shell.execute_reply.started": "2021-09-14T15:28:07.923967Z"
    }
   },
   "outputs": [],
   "source": [
    "tab = pd.crosstab(train[\"Shared_ticket\"],train[\"Survived\"])\n",
    "display(tab)\n",
    "sns.barplot(x=\"Shared_ticket\", y=\"Survived\", data=train)"
   ]
  },
  {
   "cell_type": "markdown",
   "metadata": {
    "_cell_guid": "7050b1a5-7bb6-49b8-1017-18203a7219f3",
    "_execution_state": "idle",
    "_uuid": "d00ba6bc9f6e5c196fe16a702b4be2627f2ef24a"
   },
   "source": [
    "Sharing a ticket appreas to be goof for survival"
   ]
  },
  {
   "cell_type": "code",
   "execution_count": null,
   "metadata": {
    "_cell_guid": "ba3be89c-ccb9-3b24-0008-8f42365fdfed",
    "_execution_state": "idle",
    "_uuid": "14f8f0f06d3be1da88da0b63083b9ee8e863f4bd",
    "execution": {
     "iopub.execute_input": "2021-09-14T15:36:00.772646Z",
     "iopub.status.busy": "2021-09-14T15:36:00.772374Z",
     "iopub.status.idle": "2021-09-14T15:36:02.080740Z",
     "shell.execute_reply": "2021-09-14T15:36:02.079679Z",
     "shell.execute_reply.started": "2021-09-14T15:36:00.772611Z"
    }
   },
   "outputs": [],
   "source": [
    "tab = pd.crosstab(train['Shared_ticket'], train['Sex'])\n",
    "print(tab)\n",
    "g = sns.factorplot(x=\"Sex\", y=\"Shared_ticket\", hue=\"Embarked\", col=\"Pclass\", data=train, aspect=0.9, size=3.5, ci=95.0)"
   ]
  },
  {
   "cell_type": "code",
   "execution_count": null,
   "metadata": {},
   "outputs": [],
   "source": [
    "tab = pd.crosstab(train[\"Shared_ticket\"], train[\"Sex\"])\n",
    "display(tab)\n",
    "\n",
    "g = sns.factorplot(x=\"Sex\", y=\"Shared_ticket\", hue=\"Embarked\")"
   ]
  },
  {
   "cell_type": "code",
   "execution_count": null,
   "metadata": {
    "execution": {
     "iopub.execute_input": "2021-09-14T15:39:39.413986Z",
     "iopub.status.busy": "2021-09-14T15:39:39.413416Z",
     "iopub.status.idle": "2021-09-14T15:39:39.898038Z",
     "shell.execute_reply": "2021-09-14T15:39:39.896880Z",
     "shell.execute_reply.started": "2021-09-14T15:39:39.413918Z"
    }
   },
   "outputs": [],
   "source": [
    "tab = pd.crosstab(train[\"Shared_ticket\"], train[\"Sex\"])\n",
    "display(tab)\n",
    "\n",
    "g = sns.factorplot(x=\"Sex\", y=\"Shared_ticket\", data=train, hue=\"Embarked\")"
   ]
  },
  {
   "cell_type": "markdown",
   "metadata": {},
   "source": [
    "But again the sharing of tickets is more frequent with females and 1st class passengers. This is consistent with the other statistics that show that that women were more ikely to travel together families.\n",
    "\n",
    "**We learn:** Several of these derived parameters are strongly correlated with **Sex and Pclass**. Whether there is actual signal in them that a model can use to imporve the learnng accuracy needs to be investigated."
   ]
  },
  {
   "cell_type": "markdown",
   "metadata": {
    "_cell_guid": "07103c35-f460-0682-9f38-f4e067ac1012",
    "_uuid": "5da5f9e916e72b557788766762512a2de573e315"
   },
   "source": [
    "### *Title*"
   ]
  },
  {
   "cell_type": "markdown",
   "metadata": {},
   "source": [
    "What can we learn from the titles in the passenger names? These could give us a direct, independent way to estimate missing age values, so let's look at all the available titles, their frequency, and mean age.\n",
    "For this, we lik at the combined data set ot make sure that we don't miss any titles that might be in train or test only."
   ]
  },
  {
   "cell_type": "code",
   "execution_count": null,
   "metadata": {
    "_cell_guid": "93a4478f-4f11-7329-369d-11334b001f4b",
    "_execution_state": "idle",
    "_uuid": "b14551a5adb54281b6c2c56aa53eec1e7e5010a4",
    "execution": {
     "iopub.status.busy": "2021-09-14T15:03:00.403872Z",
     "iopub.status.idle": "2021-09-14T15:03:00.404526Z"
    }
   },
   "outputs": [],
   "source": [
    "print(combine['Age'].groupby(combine['Title']).count())\n",
    "print(combine['Age'].groupby(combine['Title']).mean())\n",
    "\n",
    "print(\"There are %i unique titles in total.\"%(len(combine['Title'].unique())))\n"
   ]
  },
  {
   "cell_type": "code",
   "execution_count": null,
   "metadata": {
    "execution": {
     "iopub.execute_input": "2021-09-14T15:54:50.698926Z",
     "iopub.status.busy": "2021-09-14T15:54:50.698665Z",
     "iopub.status.idle": "2021-09-14T15:54:50.717320Z",
     "shell.execute_reply": "2021-09-14T15:54:50.716397Z",
     "shell.execute_reply.started": "2021-09-14T15:54:50.698892Z"
    }
   },
   "outputs": [],
   "source": [
    "display(full_data[\"Age\"].groupby(full_data[\"Title\"]).count())\n",
    "display(full_data[\"Age\"].groupby(full_data[\"Title\"]).mean())\n",
    "display(\"There are %d unique titles in total.\" %(len(full_data[\"Title\"].unique())))"
   ]
  },
  {
   "cell_type": "markdown",
   "metadata": {
    "_cell_guid": "83c5c264-e4c1-2afc-c336-37363fff89ed",
    "_uuid": "dac61793c8af25bda4d0b671f77e125730088baf"
   },
   "source": [
    "OK, so we have 18 diffrenct titles, but many of them only apply to a handful of people. The dominating ones are Mr(581), Miss(210), Mrs(170), and master (53); with the number referring to the full data.\n",
    "Here are the age of distributions for those."
   ]
  },
  {
   "cell_type": "code",
   "execution_count": null,
   "metadata": {
    "execution": {
     "iopub.execute_input": "2021-09-14T16:04:16.670970Z",
     "iopub.status.busy": "2021-09-14T16:04:16.670702Z",
     "iopub.status.idle": "2021-09-14T16:04:17.737864Z",
     "shell.execute_reply": "2021-09-14T16:04:17.736907Z",
     "shell.execute_reply.started": "2021-09-14T16:04:16.670923Z"
    }
   },
   "outputs": [],
   "source": [
    "cond_1 = full_data[\"Title\"].isin(['Mr', 'Miss', 'Mrs', 'Master'])\n",
    "dummy = full_data[cond_1]\n",
    "display(dummy.head(2))\n",
    "\n",
    "dummy[\"Age\"].hist(by=dummy[\"Title\"], bins = np.arange(0, 81, 1))"
   ]
  },
  {
   "cell_type": "markdown",
   "metadata": {
    "_cell_guid": "55a7e876-61fb-2c86-c3e2-f4ac5fdb8fd7",
    "_execution_state": "idle",
    "_uuid": "12aa976f05bf33ee0cd1abcc1adb5f9f74a7e1bb"
   },
   "source": [
    "We see that Master is capturing the male children/teenages very well, whereas Miss applies to girls as well as younger women up to about 40. Mrs does not contain many teenagers, but has sizeable overlap with Miss; especially in the range of 20-30 years old.\n",
    "\n",
    "Nevertheless, Miss is more likely to indicate a younger woman. Overall, there is a certain amount of variance and we're not going to be able to pinpoint a certain age based on the title.\n",
    "\n",
    "Therefore, we will use 2 Age Grous, updating to the youn variable we defined above.\n",
    "The idea is to address the issue of missing Age values by combining the **Age and title** feautures into a single feature that should still conftain some of the signal regarding survival.\n",
    "\n",
    "For this, we define everyone under 30 or with a title of **Master, Miss, or Mlle** as young. All the other titles we group into Not young, This is a bit of a generalization.\n",
    "This is a bit of a generalization in terms of how **Miss and Mrs overlap**, but it might be a useful starting point. All the other rare titles(like Don or Lady) have average ages thart are high enough to count as **Not Young**."
   ]
  },
  {
   "cell_type": "code",
   "execution_count": null,
   "metadata": {
    "execution": {
     "iopub.execute_input": "2021-09-14T16:29:23.311912Z",
     "iopub.status.busy": "2021-09-14T16:29:23.311604Z",
     "iopub.status.idle": "2021-09-14T16:29:23.514393Z",
     "shell.execute_reply": "2021-09-14T16:29:23.513344Z",
     "shell.execute_reply.started": "2021-09-14T16:29:23.311852Z"
    }
   },
   "outputs": [],
   "source": [
    "tab = pd.crosstab(index=train[\"Young\"], columns=train[\"Survived\"])\n",
    "display(tab)\n",
    "sns.barplot(x=\"Young\", y=\"Survived\", data = train)"
   ]
  },
  {
   "cell_type": "markdown",
   "metadata": {
    "_cell_guid": "48a3de26-e117-d892-a38a-10bd0c5690c2",
    "_execution_state": "idle",
    "_uuid": "f6994b8da08c059bdc59b2c0130b75ef3420e492",
    "execution": {
     "iopub.status.busy": "2021-09-14T15:03:00.407647Z",
     "iopub.status.idle": "2021-09-14T15:03:00.408374Z"
    }
   },
   "source": [
    "Finally, we model a fare category, Fare_cat, as an ordinal integer variable based on the logarithmic fare values:"
   ]
  },
  {
   "cell_type": "code",
   "execution_count": null,
   "metadata": {
    "execution": {
     "iopub.execute_input": "2021-09-14T16:36:56.788536Z",
     "iopub.status.busy": "2021-09-14T16:36:56.787911Z",
     "iopub.status.idle": "2021-09-14T16:36:57.090751Z",
     "shell.execute_reply": "2021-09-14T16:36:57.090044Z",
     "shell.execute_reply.started": "2021-09-14T16:36:56.788473Z"
    }
   },
   "outputs": [],
   "source": [
    "tab = pd.crosstab(train[\"Young\"], columns=train[\"Pclass\"])\n",
    "display(tab)\n",
    "g = sns.factorplot(x=\"Sex\", y=\"Young\", data=train, ascpect=0.9, size=3.5, ci=95.0)"
   ]
  },
  {
   "cell_type": "markdown",
   "metadata": {},
   "source": [
    "Because of the larger number of \"Miss\" vs \"Master\" mostly women are classified as \"Young\". We also recover the age diffrence between the ticket classeds that was already obvious in earlier plots.\n",
    "\n",
    "Both factors mean that the impact of Young has to be studied carefully."
   ]
  },
  {
   "cell_type": "markdown",
   "metadata": {
    "_cell_guid": "9e673dfb-f5a9-720c-21e1-527727822b33",
    "_uuid": "e6adae15f07f7be7d1af35de18612f270381392f"
   },
   "source": [
    "### *Fare\\_cat*"
   ]
  },
  {
   "cell_type": "markdown",
   "metadata": {
    "_cell_guid": "23e95aa2-9711-e58d-bede-64530d710480",
    "_uuid": "d9440062109c6b79cc3637a200fd274fcd75fffb"
   },
   "source": [
    "Let's remind ourselves of the distribution of *Fare* with respect to *Pclass*:"
   ]
  },
  {
   "cell_type": "code",
   "execution_count": null,
   "metadata": {
    "_cell_guid": "eb5372d6-4f85-7d09-1091-165f6c4dcf43",
    "_execution_state": "idle",
    "_uuid": "53db8cd34e5cd7964aa4ea150a91a34e5182b8c1",
    "execution": {
     "iopub.status.busy": "2021-09-14T15:03:00.410939Z",
     "iopub.status.idle": "2021-09-14T15:03:00.411620Z"
    }
   },
   "outputs": [],
   "source": [
    "plt.figure(figsize=[12,10])\n",
    "plt.subplot(311)\n",
    "ax1 = sns.distplot(np.log10(surv['Fare'][surv['Pclass']==1].dropna().values+1), kde=False, color=surv_col)\n",
    "ax1 = sns.distplot(np.log10(nosurv['Fare'][nosurv['Pclass']==1].dropna().values+1), kde=False, color=nosurv_col,axlabel='Fare')\n",
    "ax1.set_xlim(0,np.max(np.log10(train['Fare'].dropna().values+1)))\n",
    "plt.subplot(312)\n",
    "ax2 = sns.distplot(np.log10(surv['Fare'][surv['Pclass']==2].dropna().values+1), kde=False, color=surv_col)\n",
    "ax2 = sns.distplot(np.log10(nosurv['Fare'][nosurv['Pclass']==2].dropna().values+1), kde=False, color=nosurv_col,axlabel='Fare')\n",
    "ax2.set_xlim(0,np.max(np.log10(train['Fare'].dropna().values+1)))\n",
    "plt.subplot(313)\n",
    "ax3 = sns.distplot(np.log10(surv['Fare'][surv['Pclass']==3].dropna().values+1), kde=False, color=surv_col)\n",
    "ax3 = sns.distplot(np.log10(nosurv['Fare'][nosurv['Pclass']==3].dropna().values+1), kde=False, color=nosurv_col,axlabel='Fare')\n",
    "ax3.set_xlim(0,np.max(np.log10(train['Fare'].dropna().values+1)))\n",
    "plt.subplots_adjust(top=0.92, bottom=0.08, left=0.10, right=0.95, hspace=0.25, wspace=0.35)"
   ]
  },
  {
   "cell_type": "markdown",
   "metadata": {
    "_cell_guid": "4154a123-ff3e-997a-08ea-61e83b133e25",
    "_uuid": "6535bb28ba927352729a01f9c2e8de358c5360d5"
   },
   "source": [
    "To simplify this broad distribution, we decide to classify the fares into *3 fare categories*: 0-10, 10-100, and above 100. This transformation can be easily achieved using the base 10 logarithm:"
   ]
  },
  {
   "cell_type": "code",
   "execution_count": null,
   "metadata": {
    "_cell_guid": "58284bcd-0f62-c71a-b0fe-a9fac8f3ec65",
    "_execution_state": "idle",
    "_uuid": "aa4e6ec78ccca42fce22032df1c4237cd8d1b4e9",
    "execution": {
     "iopub.status.busy": "2021-09-14T15:03:00.412676Z",
     "iopub.status.idle": "2021-09-14T15:03:00.413415Z"
    }
   },
   "outputs": [],
   "source": [
    "pd.DataFrame(np.floor(np.log10(train['Fare'] + 1))).astype('int').head(5)"
   ]
  },
  {
   "cell_type": "markdown",
   "metadata": {
    "_cell_guid": "5cbb852b-186a-3f63-bd5e-c4d97e61e3e9",
    "_uuid": "118540c5e5439a359978a9e79449a1eb7df4bc88"
   },
   "source": [
    "The \"+1\" means that our boundaries are slightly shifted in terms of the \"real\" *Fare*. However, this shift avoids computing issues for the zero-fare passengers and it makes little difference for our understanding of the fare groups. In fact, in the plot above the offset had already been applied as well.\n",
    "\n",
    "At the start of this section we define a new feature, *Fare\\_cat*, as fare categories in the same way. Let's try it out:"
   ]
  },
  {
   "cell_type": "code",
   "execution_count": null,
   "metadata": {
    "_cell_guid": "9f04b2ba-98e7-ec53-b6bd-1ab925a5ceb7",
    "_execution_state": "idle",
    "_uuid": "c8acb60509c11743b3dadedf7f25eb8a94f3e7c9",
    "execution": {
     "iopub.status.busy": "2021-09-14T15:03:00.414372Z",
     "iopub.status.idle": "2021-09-14T15:03:00.415093Z"
    }
   },
   "outputs": [],
   "source": [
    "tab = pd.crosstab(train['Fare_cat'], train['Survived'])\n",
    "print(tab)\n",
    "sns.barplot('Fare_cat', 'Survived', data=train)"
   ]
  },
  {
   "cell_type": "code",
   "execution_count": null,
   "metadata": {
    "_cell_guid": "cb0f41a2-1494-fc15-e713-4a0db8977ab0",
    "_execution_state": "idle",
    "_uuid": "25e1999571ce9c0a2171948f9697839f6c89bf9d",
    "execution": {
     "iopub.status.busy": "2021-09-14T15:03:00.415979Z",
     "iopub.status.idle": "2021-09-14T15:03:00.416725Z"
    }
   },
   "outputs": [],
   "source": [
    "g = sns.factorplot(x=\"Sex\", y=\"Fare_cat\", hue=\"Embarked\", col=\"Pclass\",\n",
    "                   data=train, aspect=0.9, size=3.5, ci=95.0)"
   ]
  },
  {
   "cell_type": "markdown",
   "metadata": {
    "_cell_guid": "3e9c319b-695b-0cf4-ce24-d259ce3d7d84",
    "_uuid": "7e4ba314c646f0ba370a81af00e88a7ff885ec6b"
   },
   "source": [
    "Our \"usual\" factorplot examination highlights the differences between *Pclass* (as expected) but also shows some interesting variations within the *Sex* feature. This might be related to the fact that women were more likely to share a cabin, and it would therefore indicate that the *Fare* might be a fare per cabin and not per passenger."
   ]
  },
  {
   "cell_type": "markdown",
   "metadata": {
    "_cell_guid": "5bcaff81-492e-46ab-f852-cf3b0aab4988",
    "_uuid": "94a19f72032fab67b0a17a1e83d7f5a7be996a6b"
   },
   "source": [
    "### *Fare\\_eff\\_cat*"
   ]
  },
  {
   "cell_type": "markdown",
   "metadata": {
    "_cell_guid": "cd096469-e879-3d60-e109-db5377ad98e6",
    "_uuid": "52e7d1e7400afd30cf02e493ca9fb1a55687bba8"
   },
   "source": [
    "Let's investigate the *Fare affair* in more detail. First, we make sure that the passengers in each group really had the same *Fare* values:"
   ]
  },
  {
   "cell_type": "code",
   "execution_count": null,
   "metadata": {
    "_cell_guid": "8c87c3cf-ffbb-0306-74a5-4400a245519e",
    "_execution_state": "idle",
    "_uuid": "8af439eff8770873c3ad160f6d73f16597d7ac4e",
    "execution": {
     "iopub.status.busy": "2021-09-14T15:03:00.417700Z",
     "iopub.status.idle": "2021-09-14T15:03:00.418411Z"
    }
   },
   "outputs": [],
   "source": [
    "combine.groupby('Ticket')['Fare'].transform('std').hist()\n",
    "np.sum(combine.groupby('Ticket')['Fare'].transform('std') > 0)"
   ]
  },
  {
   "cell_type": "markdown",
   "metadata": {
    "_cell_guid": "eb37b8cc-613a-a4dd-bd7a-d9e84838e74d",
    "_uuid": "ec83b88d3f684c7e6b0c5a5a83721695cd80e394"
   },
   "source": [
    "Almost 100% yes. Above, we extract the standard deviation of the *Fares* among the ticket groups. A standard deviation of zero means that there's no difference. Only 2 values stand out. This is a small number that we could ignore, but we are curious, aren't we?"
   ]
  },
  {
   "cell_type": "code",
   "execution_count": null,
   "metadata": {
    "_cell_guid": "88bb79be-ca5d-a186-81cd-4fc974300a7f",
    "_execution_state": "idle",
    "_uuid": "7e411caa4cd295e29ea5e522715adf40d622649a",
    "execution": {
     "iopub.status.busy": "2021-09-14T15:03:00.419310Z",
     "iopub.status.idle": "2021-09-14T15:03:00.419968Z"
    }
   },
   "outputs": [],
   "source": [
    "combine.iloc[np.where(combine.groupby('Ticket')['Fare'].transform('std') > 0)]"
   ]
  },
  {
   "cell_type": "markdown",
   "metadata": {
    "_cell_guid": "6bc59155-6821-47d9-8fd8-e926442e014f",
    "_uuid": "7617aeb2477957d0a33f190d26bcb0d43e7dde23"
   },
   "source": [
    "It's Mr Osen and Mr Gustafsson on Ticket 7534. Their *Fares* are close enough, though, to include them in the general treatment.\n",
    "\n",
    "Now, let's think for a moment: Identical fares could mean that the fare for a cabin was shared equally among the passengers, in which case our previous treatment would have been justified. However, it *could* also mean that the listed value is the *cumulative fare per cabin* and it was simply recorded as the same value for each passenger. Intuitively, this doesn't seem so plausible, since you typically record what is paid for a ticket and not for a cabin. But let's investigate this for a moment and check how it would transform the *Fare* distribution. For this, we create a *Fare_eff* feature above, which we derive by dividing *Fare* by the number of people sharing a ticket (*Ticket_group*; which we also newly created)."
   ]
  },
  {
   "cell_type": "code",
   "execution_count": null,
   "metadata": {
    "_cell_guid": "bcf57661-23b8-fae5-31cd-b0005e7f6bec",
    "_execution_state": "idle",
    "_uuid": "d53af23cfa7474df24e04550f4238a63005b8ec9",
    "execution": {
     "iopub.status.busy": "2021-09-14T15:03:00.420991Z",
     "iopub.status.idle": "2021-09-14T15:03:00.421665Z"
    }
   },
   "outputs": [],
   "source": [
    "plt.figure(figsize=[12,10])\n",
    "plt.subplot(311)\n",
    "ax1 = sns.distplot(np.log10(surv['Fare_eff'][surv['Pclass']==1].dropna().values+1), kde=False, color=surv_col)\n",
    "ax1 = sns.distplot(np.log10(nosurv['Fare_eff'][nosurv['Pclass']==1].dropna().values+1), kde=False, color=nosurv_col,axlabel='Fare')\n",
    "ax1.set_xlim(0,np.max(np.log10(train['Fare_eff'].dropna().values+1)))\n",
    "plt.subplot(312)\n",
    "ax2 = sns.distplot(np.log10(surv['Fare_eff'][surv['Pclass']==2].dropna().values+1), kde=False, color=surv_col)\n",
    "ax2 = sns.distplot(np.log10(nosurv['Fare_eff'][nosurv['Pclass']==2].dropna().values+1), kde=False, color=nosurv_col,axlabel='Fare')\n",
    "ax2.set_xlim(0,np.max(np.log10(train['Fare_eff'].dropna().values+1)))\n",
    "plt.subplot(313)\n",
    "ax3 = sns.distplot(np.log10(surv['Fare_eff'][surv['Pclass']==3].dropna().values+1), kde=False, color=surv_col)\n",
    "ax3 = sns.distplot(np.log10(nosurv['Fare_eff'][nosurv['Pclass']==3].dropna().values+1), kde=False, color=nosurv_col,axlabel='Fare')\n",
    "ax3.set_xlim(0,np.max(np.log10(train['Fare_eff'].dropna().values+1)))\n",
    "plt.subplots_adjust(top=0.92, bottom=0.08, left=0.10, right=0.95, hspace=0.25, wspace=0.35)"
   ]
  },
  {
   "cell_type": "markdown",
   "metadata": {
    "_cell_guid": "6e73052c-cd39-1667-d9b0-606aa31f1b16",
    "_uuid": "41b53fb8c047f3e9455aaa8da0f69833c8bc6494"
   },
   "source": [
    "Now **that** is interesting. We see that the distributions become significantly narrower and that the tails and bimodality become much weaker (after getting rid of the zero-fare values for both groups). The really expensive *Fares* in *Pclass == 1* are pretty much all gone. Here's how the standard deviations compare:"
   ]
  },
  {
   "cell_type": "code",
   "execution_count": null,
   "metadata": {
    "_cell_guid": "9040f93b-f0e2-ecde-3388-e9e813de9168",
    "_execution_state": "idle",
    "_uuid": "ee896def32b2b811930f96053156b8c9e4718c79",
    "execution": {
     "iopub.status.busy": "2021-09-14T15:03:00.422702Z",
     "iopub.status.idle": "2021-09-14T15:03:00.423443Z"
    }
   },
   "outputs": [],
   "source": [
    "print(combine[combine['Fare']>1].groupby('Pclass')['Fare'].std())\n",
    "print(combine[combine['Fare_eff']>1].groupby('Pclass')['Fare_eff'].std())"
   ]
  },
  {
   "cell_type": "markdown",
   "metadata": {
    "_cell_guid": "1e55173d-c027-1907-c29a-064b80eec57b",
    "_uuid": "a2f9fb48dbdeb805407da5a5d14b9c66d329d57b"
   },
   "source": [
    "We might even be at a stage now where we can investigate the few outliers more in detail:"
   ]
  },
  {
   "cell_type": "code",
   "execution_count": null,
   "metadata": {
    "_cell_guid": "f088bb0c-1226-eca3-5c71-c68259faa7dd",
    "_execution_state": "idle",
    "_uuid": "0587717c4ceff6403fdfd3b874031b061fd67177",
    "execution": {
     "iopub.status.busy": "2021-09-14T15:03:00.424289Z",
     "iopub.status.idle": "2021-09-14T15:03:00.425110Z"
    }
   },
   "outputs": [],
   "source": [
    "combine[(combine['Pclass']==1) & (combine['Fare_eff']>0) & (combine['Fare_eff']<10)]"
   ]
  },
  {
   "cell_type": "markdown",
   "metadata": {
    "_cell_guid": "a1958276-063f-a789-94d4-c068f0be8d75",
    "_uuid": "2fd5563f9063d59debdf2db68956ef697266c751"
   },
   "source": [
    "That's really cheap for a 1st class cabin. Maybe a transcription error in the data itself?"
   ]
  },
  {
   "cell_type": "code",
   "execution_count": null,
   "metadata": {
    "_cell_guid": "3bb3f97b-f068-0c61-c1ab-596199c0498d",
    "_execution_state": "idle",
    "_uuid": "064893b69172722453fb52e2fa6048d5fd8485d2",
    "execution": {
     "iopub.status.busy": "2021-09-14T15:03:00.425976Z",
     "iopub.status.idle": "2021-09-14T15:03:00.426651Z"
    }
   },
   "outputs": [],
   "source": [
    "combine[(combine['Pclass']==3) & (np.log10(combine['Fare_eff'])>1.2)]"
   ]
  },
  {
   "cell_type": "markdown",
   "metadata": {
    "_cell_guid": "23234b4f-923f-401e-0bfd-0f62d7650c72",
    "_uuid": "a23acca4d0e884978b9cf744d6c21410be8ded14"
   },
   "source": [
    "And that's quite expensive for a 3rd class ticket. Maybe these two actually shared a ticket / cabin and we have another transcription / data entry error? The ticket numbers are very similar and someone could easily write \"303\" instead of \"304\". Will we ever know? Maybe not. Does it matter much? Probably not.\n",
    "\n",
    "More importantly, there is a reasonable argument to be made for this new *Fare_eff* feature to represent the actual fare better than the original feature. For once, it splits much cleaner between the *Pclasses*:"
   ]
  },
  {
   "cell_type": "code",
   "execution_count": null,
   "metadata": {
    "_cell_guid": "b49bf7bd-ba08-c18d-22f9-0c2d42c54f86",
    "_execution_state": "idle",
    "_uuid": "40c9557878b452c4304ba2a546eb43e744aa1b20",
    "execution": {
     "iopub.status.busy": "2021-09-14T15:03:00.427656Z",
     "iopub.status.idle": "2021-09-14T15:03:00.428515Z"
    }
   },
   "outputs": [],
   "source": [
    "ax = sns.boxplot(x=\"Pclass\", y=\"Fare_eff\", hue=\"Survived\", data=train)\n",
    "ax.set_yscale('log')\n",
    "ax.hlines([8.5,16],-1,4, linestyles='dashed')"
   ]
  },
  {
   "cell_type": "markdown",
   "metadata": {
    "_cell_guid": "41f3e873-18ef-16ae-5f1e-1b510aa99750",
    "_uuid": "f0cb66e332856ad0b7fe8cde190b7318abcec80a"
   },
   "source": [
    "So well, in fact that defining new fare categories seems almost redundant because *Pclass* already captures most of this signal. Nonetheless, we'll try; because we are optimistic people at heart. We use the dashed lines in the plot above for an (empirical) division into 3 classes, which separate the cheaper *Fare_eff* of a *Pclass* group from the more expensive ones of the next one. The new feature is called *Fare_eff_cat* and behaves as follows:"
   ]
  },
  {
   "cell_type": "code",
   "execution_count": null,
   "metadata": {
    "_cell_guid": "e4b51190-5996-80fe-8d37-2be29a90ba83",
    "_execution_state": "idle",
    "_uuid": "c5a9b6a3a870fbc9d05a2683a4cdb78141c900b3",
    "execution": {
     "iopub.status.busy": "2021-09-14T15:03:00.429455Z",
     "iopub.status.idle": "2021-09-14T15:03:00.430151Z"
    }
   },
   "outputs": [],
   "source": [
    "tab = pd.crosstab(train['Fare_eff_cat'], train['Survived'])\n",
    "print(tab)\n",
    "sns.barplot('Fare_eff_cat', 'Survived', data=train)"
   ]
  },
  {
   "cell_type": "code",
   "execution_count": null,
   "metadata": {
    "_cell_guid": "b8a09758-fee4-7979-9885-497e13cf8ccd",
    "_execution_state": "idle",
    "_uuid": "090d744649c43eaded6097bc9c6a99f7e21952ca",
    "execution": {
     "iopub.status.busy": "2021-09-14T15:03:00.431025Z",
     "iopub.status.idle": "2021-09-14T15:03:00.431867Z"
    }
   },
   "outputs": [],
   "source": [
    "g = sns.factorplot(x=\"Sex\", y=\"Fare_eff_cat\", hue=\"Embarked\", col=\"Pclass\",\n",
    "                   data=train, aspect=0.9, size=3.5, ci=95.0)"
   ]
  },
  {
   "cell_type": "markdown",
   "metadata": {
    "_cell_guid": "74446dd0-69cc-1672-b977-2969350575d7",
    "_uuid": "a1e6a9cc24071495c87de2a50c9a062de0935436"
   },
   "source": [
    "<a id='encode'></a>"
   ]
  },
  {
   "cell_type": "markdown",
   "metadata": {
    "_cell_guid": "a48ee0b2-cca4-23ee-c307-87eeae561921",
    "_uuid": "767806125771a4424c54894525cda2433e723b81"
   },
   "source": [
    "[Go to the top of the page](#top)"
   ]
  },
  {
   "cell_type": "markdown",
   "metadata": {
    "_cell_guid": "3355e330-5e71-64dc-34cc-196e42b6e101",
    "_uuid": "095c168f145a5b71434aecbb89b9ef5fccaa75d7"
   },
   "source": [
    "# 6. Preparing for modelling"
   ]
  },
  {
   "cell_type": "markdown",
   "metadata": {
    "_cell_guid": "44a75d5f-5f9a-f499-539e-707a4ab0cf8f",
    "_uuid": "513d8fa985ffc2e8891087eca98d9f19271c6879"
   },
   "source": [
    "Before we start exploring the different models we are modifying the categorical string column types to integer. This is necessary since not all classifiers can handle string input."
   ]
  },
  {
   "cell_type": "code",
   "execution_count": null,
   "metadata": {
    "_cell_guid": "aa2246d9-610f-7e68-28fa-64a1605ec11a",
    "_execution_state": "idle",
    "_uuid": "a044460229dc275201b26c2bcd5b1d9959904566",
    "execution": {
     "iopub.status.busy": "2021-09-14T15:03:00.432830Z",
     "iopub.status.idle": "2021-09-14T15:03:00.433589Z"
    }
   },
   "outputs": [],
   "source": [
    "combine = pd.concat([train.drop('Survived',1),test])\n",
    "survived = train['Survived']\n",
    "\n",
    "combine[\"Sex\"] = combine[\"Sex\"].astype(\"category\")\n",
    "combine[\"Sex\"].cat.categories = [0,1]\n",
    "combine[\"Sex\"] = combine[\"Sex\"].astype(\"int\")\n",
    "combine[\"Embarked\"] = combine[\"Embarked\"].astype(\"category\")\n",
    "combine[\"Embarked\"].cat.categories = [0,1,2]\n",
    "combine[\"Embarked\"] = combine[\"Embarked\"].astype(\"int\")\n",
    "combine[\"Deck\"] = combine[\"Deck\"].astype(\"category\")\n",
    "combine[\"Deck\"].cat.categories = [0,1,2,3,4,5,6,7,8]\n",
    "combine[\"Deck\"] = combine[\"Deck\"].astype(\"int\")\n",
    "\n",
    "test = combine.iloc[len(train):]\n",
    "train = combine.iloc[:len(train)]\n",
    "train['Survived'] = survived\n",
    "\n",
    "train.loc[:,[\"Sex\",\"Embarked\"]].head()"
   ]
  },
  {
   "cell_type": "markdown",
   "metadata": {
    "_cell_guid": "315d9529-cae3-1e61-e84f-5e21c8384ab0",
    "_uuid": "565a22d900ac9a3a8682067277042badf71493de"
   },
   "source": [
    "For a final overview before the modelling stage we have another look at the correlation matrix between all old and new features:"
   ]
  },
  {
   "cell_type": "code",
   "execution_count": null,
   "metadata": {
    "_cell_guid": "9a736262-8997-3454-403c-a6325911465f",
    "_execution_state": "idle",
    "_uuid": "34162590737461fbd26656b8b261f09fee59f11f",
    "execution": {
     "iopub.status.busy": "2021-09-14T15:03:00.434524Z",
     "iopub.status.idle": "2021-09-14T15:03:00.435175Z"
    }
   },
   "outputs": [],
   "source": [
    "ax = plt.subplots( figsize =( 12 , 10 ) )\n",
    "foo = sns.heatmap(train.drop('PassengerId',axis=1).corr(), vmax=1.0, square=True, annot=True)"
   ]
  },
  {
   "cell_type": "markdown",
   "metadata": {
    "_cell_guid": "4316170b-528f-17b4-7c48-0648624cfba7",
    "_uuid": "948cfb7fbc41a464e6b49e72e38f6ba92f65a9cd"
   },
   "source": [
    "We designed a number of new features, and unsurprisingly several of those are correlated with the original features we used to create them. For instance *Fare\\_cat* and *Fare*. Or *Family* and *SibSp/Parch*. In the modelling step, we will first determine which of the features carry the most signal (*to be done*) and then use them to train a number of different classifiers."
   ]
  },
  {
   "cell_type": "markdown",
   "metadata": {
    "_cell_guid": "b41a7cd8-dfd8-8aff-4781-7aea5fb511cb",
    "_uuid": "0687fc7e80d7411e9f6b25cf5c8f3625f0c80603"
   },
   "source": [
    "<a id='model'></a>"
   ]
  },
  {
   "cell_type": "markdown",
   "metadata": {
    "_cell_guid": "f6b70dab-6ef4-c120-8bad-08123614e83f",
    "_uuid": "52b1149be05c9e8e2196e5b92cf315e519641aed"
   },
   "source": [
    "[Go to the top of the page](#top)"
   ]
  },
  {
   "cell_type": "markdown",
   "metadata": {
    "_cell_guid": "519ee551-e952-fe31-7b1f-ea3cadd12473",
    "_uuid": "73d159e9a7585dc46eee2f5c094ac93fcd2f7641"
   },
   "source": [
    "# 7. Modelling"
   ]
  },
  {
   "cell_type": "markdown",
   "metadata": {
    "_cell_guid": "d2db89f6-0260-ddbb-b4c6-77c835351cf9",
    "_uuid": "d6ea81afc97b300467d17216335151b4d3c06b9c"
   },
   "source": [
    "Let's summarise briefly what we found in our data exploration:\n",
    "\n",
    "- sex and ticket class are the main factors\n",
    "\n",
    "- there seem to be additional impacts from:\n",
    "    - age: young men vs young women; (male) children\n",
    "    - relatives: parch = 1-3, sibsp = 1-2 (somewhat explained by sex but not completely)\n",
    "    - maybe the cabin deck, but not many are known\n",
    "\n",
    "- other apparent effects appear to be strongly connected to the sex/class features:\n",
    "    - port of embarkation\n",
    "    - fare\n",
    "    - sharing a ticket\n",
    "    - large family\n",
    "    - travelling alone\n",
    "    - known cabin number\n",
    "    - known age"
   ]
  },
  {
   "cell_type": "markdown",
   "metadata": {
    "_cell_guid": "1126438b-38de-f38d-36d5-03d5eb0fc31c",
    "_uuid": "c5b35e1885aec93283e8fe66ff4d5e4e69e5600e"
   },
   "source": [
    "## *Splitting the train sample into two sub-samples: training and testing*\n",
    "\n",
    "This is best practice for evaluating the performance of our models, which should not be tested on the same data they are trained on. This avoids overfitting."
   ]
  },
  {
   "cell_type": "code",
   "execution_count": null,
   "metadata": {
    "_cell_guid": "97d7e5f9-5954-ff8a-380a-4ab6d11157b7",
    "_execution_state": "idle",
    "_uuid": "e7ed4d791f1a8ddd43e58536ea7bdb8560d501e3",
    "execution": {
     "iopub.status.busy": "2021-09-14T15:03:00.436117Z",
     "iopub.status.idle": "2021-09-14T15:03:00.436939Z"
    }
   },
   "outputs": [],
   "source": [
    "training, testing = train_test_split(train, test_size=0.2, random_state=0)\n",
    "print(\"Total sample size = %i; training sample size = %i, testing sample size = %i\"\\\n",
    "     %(train.shape[0],training.shape[0],testing.shape[0]))"
   ]
  },
  {
   "cell_type": "markdown",
   "metadata": {
    "_cell_guid": "63449732-4360-c89e-853d-fd7c93098553",
    "_uuid": "1c762663eed8a40c5332582095be804d64159b9e"
   },
   "source": [
    "## *Test and select the model features*\n",
    "\n",
    "Now we are ready to model. We start with a *Logistic Regression* to assess the importance of the individual model features. We know that by definition some of our engineered features will have a *high collinearity* (i.e. behave similarly) with other new or existing features. For instance, *Young* was designed to replace *Age* and *Title* as a combination of the two. Other correlations are visible in the heatmap above. The initial modelling will allow us to decide which features are worth to take to the next step.\n",
    "\n",
    "This is an iterative process in which you improve your model step by step, until you have found the largest feature combination which still has significant impact. Removing less important features will help you to reduce the noise in your prediction and allow your model to generalise to new data (which is our priority goal in machine learning.)\n",
    "\n",
    "*TODO: This part is still quite rudimentary and will be expanded in future versions. For now, we just continue with a rather intuitive set of important features.*  "
   ]
  },
  {
   "cell_type": "code",
   "execution_count": null,
   "metadata": {
    "_cell_guid": "0a3d94f1-c2ba-ce4d-1bfd-826f6e7ef0b1",
    "_execution_state": "idle",
    "_uuid": "af3946b49885997995281c01ebcc276065e396e5",
    "execution": {
     "iopub.status.busy": "2021-09-14T15:03:00.437889Z",
     "iopub.status.idle": "2021-09-14T15:03:00.438594Z"
    }
   },
   "outputs": [],
   "source": [
    "cols = ['Sex','Pclass','Cabin_known','Large_Family','Parch',\n",
    "        'SibSp','Young','Alone','Shared_ticket','Child']\n",
    "tcols = np.append(['Survived'],cols)\n",
    "\n",
    "df = training.loc[:,tcols].dropna()\n",
    "X = df.loc[:,cols]\n",
    "y = np.ravel(df.loc[:,['Survived']])"
   ]
  },
  {
   "cell_type": "code",
   "execution_count": null,
   "metadata": {
    "_cell_guid": "c4946e7e-bab2-2d56-3ded-e8d4ed208467",
    "_execution_state": "idle",
    "_uuid": "e75572c7d66c065bd143d866bc5250b6270d2929",
    "execution": {
     "iopub.status.busy": "2021-09-14T15:03:00.439448Z",
     "iopub.status.idle": "2021-09-14T15:03:00.440334Z"
    }
   },
   "outputs": [],
   "source": [
    "clf_log = LogisticRegression()\n",
    "clf_log = clf_log.fit(X,y)\n",
    "score_log = clf_log.score(X,y)\n",
    "print(score_log)"
   ]
  },
  {
   "cell_type": "code",
   "execution_count": null,
   "metadata": {
    "_cell_guid": "dfe387b6-ff9e-ca20-a5f0-7e16c34c919a",
    "_execution_state": "idle",
    "_uuid": "fedf289432f878b19eda2b4353ca62065aa7cb2e",
    "execution": {
     "iopub.status.busy": "2021-09-14T15:03:00.441492Z",
     "iopub.status.idle": "2021-09-14T15:03:00.442247Z"
    }
   },
   "outputs": [],
   "source": [
    "pd.DataFrame(list(zip(X.columns, np.transpose(clf_log.coef_))))"
   ]
  },
  {
   "cell_type": "markdown",
   "metadata": {
    "_cell_guid": "48c2d30b-52f9-9c7f-c826-b93ef1d1268b",
    "_uuid": "3f5d26801c97f443ab57ac89dcbd38384f5f6322"
   },
   "source": [
    "TODO: Say something about the contributions and follow up with some ANOVA-like analysis"
   ]
  },
  {
   "cell_type": "markdown",
   "metadata": {
    "_cell_guid": "1d544a19-eb27-50bf-7bb3-282815d7d499",
    "_uuid": "3a8e435fbd9a7e6f90a0f82ad6594ec0dffcb5e7"
   },
   "source": [
    "## *Run and describe several different classifiers*"
   ]
  },
  {
   "cell_type": "markdown",
   "metadata": {
    "_cell_guid": "4ebffde5-6951-3fe6-f84b-065122b5ad12",
    "_uuid": "44dc360adecb643f2c6b61a2a7eda3f4836b56ce"
   },
   "source": [
    "Based on the first look we define the input columns we'll be working with. We also create our training and testing feature sets."
   ]
  },
  {
   "cell_type": "code",
   "execution_count": null,
   "metadata": {
    "_cell_guid": "92ff1ed1-3d0f-468f-2d3a-8539ae5fbffe",
    "_execution_state": "idle",
    "_uuid": "9da36e819d87275284bee4001f420f8a3f55affc",
    "execution": {
     "iopub.status.busy": "2021-09-14T15:03:00.443177Z",
     "iopub.status.idle": "2021-09-14T15:03:00.443908Z"
    }
   },
   "outputs": [],
   "source": [
    "cols = ['Sex','Pclass','Cabin_known','Large_Family','Shared_ticket','Young','Alone','Child']\n",
    "tcols = np.append(['Survived'],cols)\n",
    "\n",
    "df = training.loc[:,tcols].dropna()\n",
    "X = df.loc[:,cols]\n",
    "y = np.ravel(df.loc[:,['Survived']])\n",
    "\n",
    "df_test = testing.loc[:,tcols].dropna()\n",
    "X_test = df_test.loc[:,cols]\n",
    "y_test = np.ravel(df_test.loc[:,['Survived']])"
   ]
  },
  {
   "cell_type": "markdown",
   "metadata": {
    "_cell_guid": "ce151c57-8210-c302-802d-70e88c815260",
    "_uuid": "5a166aaf1373fab86c9616389af905fbacdb412c"
   },
   "source": [
    "**Logistic Regression** again, this time with only the selected columns"
   ]
  },
  {
   "cell_type": "code",
   "execution_count": null,
   "metadata": {
    "_cell_guid": "e3ede98f-a6ba-c66f-cec9-424ea5117e5f",
    "_execution_state": "idle",
    "_uuid": "1a9528ccc0cf1128f9a5ff1c7b9a1ab645e6a21f",
    "execution": {
     "iopub.status.busy": "2021-09-14T15:03:00.444911Z",
     "iopub.status.idle": "2021-09-14T15:03:00.445648Z"
    }
   },
   "outputs": [],
   "source": [
    "clf_log = LogisticRegression()\n",
    "clf_log = clf_log.fit(X,y)\n",
    "score_log = cross_val_score(clf_log, X, y, cv=5).mean()\n",
    "print(score_log)"
   ]
  },
  {
   "cell_type": "markdown",
   "metadata": {
    "_cell_guid": "6f4cc183-bd51-578e-45f7-075a4ae85b78",
    "_uuid": "d8f3929dcd8ad1e7c032e4c098b7170946966b57"
   },
   "source": [
    "**Perceptron**"
   ]
  },
  {
   "cell_type": "code",
   "execution_count": null,
   "metadata": {
    "_cell_guid": "85a0d56f-9ef8-7e23-2ea0-02548550097b",
    "_execution_state": "idle",
    "_uuid": "9ce5fba4e44dec5b297f31fac8c224b43f528c70",
    "execution": {
     "iopub.status.busy": "2021-09-14T15:03:00.446569Z",
     "iopub.status.idle": "2021-09-14T15:03:00.447346Z"
    }
   },
   "outputs": [],
   "source": [
    "clf_pctr = Perceptron(\n",
    "    class_weight='balanced'\n",
    "    )\n",
    "clf_pctr = clf_pctr.fit(X,y)\n",
    "score_pctr = cross_val_score(clf_pctr, X, y, cv=5).mean()\n",
    "print(score_pctr)"
   ]
  },
  {
   "cell_type": "markdown",
   "metadata": {
    "_cell_guid": "49244afd-a1b3-faed-96f1-353b954810eb",
    "_uuid": "489ba86b63405a6a2aad45a1e2a4ea9cc3094400"
   },
   "source": [
    "*Perceptron:* This is a binary classifier that creates a linear decision boundary based on a (hyper-) plane in the parameter space.\n",
    "\n",
    "[Source](https://en.wikipedia.org/wiki/Perceptron)"
   ]
  },
  {
   "cell_type": "markdown",
   "metadata": {
    "_cell_guid": "a4358c94-d775-5925-a5e3-9b7d4022f3d6",
    "_uuid": "7bbe628c02b562f972f6f5ff788b67c35a2a2517"
   },
   "source": [
    "**K Nearest Neighbours:**"
   ]
  },
  {
   "cell_type": "code",
   "execution_count": null,
   "metadata": {
    "_cell_guid": "0971daf0-5837-dfe7-b502-a665ddd49ebe",
    "_execution_state": "idle",
    "_uuid": "aa76c6a2883446c02864712788e8f5ab90487f5b",
    "execution": {
     "iopub.status.busy": "2021-09-14T15:03:00.448324Z",
     "iopub.status.idle": "2021-09-14T15:03:00.449137Z"
    }
   },
   "outputs": [],
   "source": [
    "clf_knn = KNeighborsClassifier(\n",
    "    n_neighbors=10,\n",
    "    weights='distance'\n",
    "    )\n",
    "clf_knn = clf_knn.fit(X,y)\n",
    "score_knn = cross_val_score(clf_knn, X, y, cv=5).mean()\n",
    "print(score_knn)"
   ]
  },
  {
   "cell_type": "markdown",
   "metadata": {
    "_cell_guid": "933aa0b4-326e-ce91-4124-1875886bf168",
    "_uuid": "2ee8137cad15b11ca79af167f142ffd995c9c6d2"
   },
   "source": [
    "*Nearest Neighbours*: a non-parametric classifier that uses the training data closest to each test data point to classify it. *K* is simply the number of neighbours that are making the decision by majority vote. This is a simple yet powerful method that works well for irregular decision boundaries.\n",
    "\n",
    "Important parameters:\n",
    "\n",
    "- n_neighbors: choosing the right *k* depends heavily on the data. Larger values suppress noise but smooth out decision boundaries. Default: 5.\n",
    "\n",
    "- weights: *uniform* assigns equal weight to each neighbour, whereas *distance* gives more weight to neighbours that are closer.\n",
    "\n",
    "[Source](http://scikit-learn.org/stable/modules/neighbors.html)"
   ]
  },
  {
   "cell_type": "markdown",
   "metadata": {
    "_cell_guid": "9f24ef1b-f4d1-29ec-3e2f-bf240374efea",
    "_uuid": "ca3fab2db90886f92d298712aebfa3adf7d16215"
   },
   "source": [
    "**Support Vector Machine:**"
   ]
  },
  {
   "cell_type": "code",
   "execution_count": null,
   "metadata": {
    "_cell_guid": "32343188-1302-39ca-ed5e-cbab9e4cc38e",
    "_execution_state": "idle",
    "_uuid": "ec44ce97a5ec3b33c98d17374bbc3e7e7116f4d3",
    "execution": {
     "iopub.status.busy": "2021-09-14T15:03:00.450087Z",
     "iopub.status.idle": "2021-09-14T15:03:00.450791Z"
    }
   },
   "outputs": [],
   "source": [
    "clf_svm = svm.SVC(\n",
    "    class_weight='balanced'\n",
    "    )\n",
    "clf_svm.fit(X, y)\n",
    "score_svm = cross_val_score(clf_svm, X, y, cv=5).mean()\n",
    "print(score_svm)"
   ]
  },
  {
   "cell_type": "markdown",
   "metadata": {
    "_cell_guid": "c32469fc-4da0-c651-58b9-02b03d7eca4a",
    "_uuid": "6209943f1cd68e4e6ef14764e4a8f0a58a69f664"
   },
   "source": [
    "*Support Vector Machine:* This classifier fits a (set of) hyper-plane(s) in the high-dimensional space of the training features so that this plane has the largest distance to any training data points. This is easy to visualise in 2 dimensions as e.g. 1 line that separates 2 classes (see the link below). In higher dimensions only mathematics can save you.\n",
    "\n",
    "The *support vectors* are a subset of training data points used in the decision function. For unbalanced problems setting *class\\_weight='balanced'* might be helpful (compare decision tree notes).\n",
    "\n",
    "Advantages: Effectiv in high dimensions and versatile with different kernel options.\n",
    "\n",
    "[Source](http://scikit-learn.org/stable/modules/svm.html)"
   ]
  },
  {
   "cell_type": "markdown",
   "metadata": {
    "_cell_guid": "ac4dc51d-a640-489a-a2a7-7f51464e5469",
    "_uuid": "9e1ab6df1ecb7317cae9db609f6276ab9c1b08a7"
   },
   "source": [
    "**Naive Bayes**"
   ]
  },
  {
   "cell_type": "code",
   "execution_count": null,
   "metadata": {
    "_cell_guid": "682a4906-9aeb-4bee-bb0a-f00d5fd25486",
    "_uuid": "383ff668e34401ff8dfb756490af7e061385cd61",
    "execution": {
     "iopub.status.busy": "2021-09-14T15:03:00.451739Z",
     "iopub.status.idle": "2021-09-14T15:03:00.452515Z"
    }
   },
   "outputs": [],
   "source": [
    "clf_bay = GaussianNB()\n",
    "clf_bay.fit(X,y)\n",
    "score_bay = cross_val_score(clf_bay, X, y, cv=5).mean()\n",
    "print(score_bay)"
   ]
  },
  {
   "cell_type": "markdown",
   "metadata": {
    "_cell_guid": "725975e1-2876-46ff-a229-a0864de6c1f2",
    "_uuid": "5b550f13dfb502bc773f85a764ee76271c3e5ef1"
   },
   "source": [
    "[*Naive Bayes*](http://scikit-learn.org/stable/modules/naive_bayes.html) is a rapid classification method. It uses the famous [Bayes Theorem](https://en.wikipedia.org/wiki/Bayes%27_theorem) under the 'naive' assumption that all predictor features are independent from each other (and only related to the target variable).\n",
    "\n",
    "Despite this oversimplification Naive Bayes classifiers are performing well in many cases. In addition, they are fast to compute and only require relatively little data to perform well."
   ]
  },
  {
   "cell_type": "markdown",
   "metadata": {
    "_cell_guid": "cd8408bb-7878-1637-c398-02e394f5e564",
    "_uuid": "18aa6d47b72f643d2dba9209fdb7a61e947b0779"
   },
   "source": [
    "**Bagging:**"
   ]
  },
  {
   "cell_type": "code",
   "execution_count": null,
   "metadata": {
    "_cell_guid": "c35edbe5-cb91-6e24-24f4-02e6bad4254d",
    "_execution_state": "idle",
    "_uuid": "41ee6e941c2715da6946956e10dbb94985a2ac38",
    "execution": {
     "iopub.status.busy": "2021-09-14T15:03:00.453531Z",
     "iopub.status.idle": "2021-09-14T15:03:00.454218Z"
    }
   },
   "outputs": [],
   "source": [
    "bagging = BaggingClassifier(\n",
    "    KNeighborsClassifier(\n",
    "        n_neighbors=2,\n",
    "        weights='distance'\n",
    "        ),\n",
    "    oob_score=True,\n",
    "    max_samples=0.5,\n",
    "    max_features=1.0\n",
    "    )\n",
    "clf_bag = bagging.fit(X,y)\n",
    "score_bag = clf_bag.oob_score_\n",
    "print(score_bag)"
   ]
  },
  {
   "cell_type": "markdown",
   "metadata": {
    "_cell_guid": "2f226eb3-e628-d777-908c-74c59a9c4028",
    "_uuid": "0991d8ec85563a8626466755e14fb6c876c77af2"
   },
   "source": [
    "*Bagging* is a general ensemble method. This means it's a way to average over a (large) number of individual classifiers to improve their accuracy by reducing the variance (= noise). The estimator (above it's a KNN) is used multiple times on *subsets* of the training sample and then it uses the average vote.\n",
    "\n",
    "Bagging for a decision tree classifier should be the same as using a *Random Forest* (see below).\n",
    "\n",
    "Strictly speaking, bagging is only the correct term if the sub samples are drawn with *replacement* (i.e. put back into the bag, I suppose). Otherwise it's called *Pasting*.\n",
    "\n",
    "If sub-samples are used then the remaining samples (the ones not in the bag we're drawing the data from) can be used in *out-of-bag (oob)* estimates (-> *oob\\_score=True*). This is a kind of inbuilt cross-validation step, since the accuracy (score) of the classifier is estimated on data it wasn't trained on.\n",
    "\n",
    "[Source](http://scikit-learn.org/stable/modules/ensemble.html#bagging-meta-estimator)"
   ]
  },
  {
   "cell_type": "markdown",
   "metadata": {
    "_cell_guid": "18ac6562-7249-82b8-8a6c-050189b326ec",
    "_uuid": "3e969c38474eb95ad062017f1c8e3496dbc53ac5"
   },
   "source": [
    "**Decision Tree:**"
   ]
  },
  {
   "cell_type": "code",
   "execution_count": null,
   "metadata": {
    "_cell_guid": "bc833b25-e0c9-5bf5-4344-8f000e75b2d0",
    "_execution_state": "idle",
    "_uuid": "0b4b948182ab2a343438c2250c7c6ddfa39460cb",
    "execution": {
     "iopub.status.busy": "2021-09-14T15:03:00.455252Z",
     "iopub.status.idle": "2021-09-14T15:03:00.455983Z"
    }
   },
   "outputs": [],
   "source": [
    "clf_tree = tree.DecisionTreeClassifier(\n",
    "    #max_depth=3,\\\n",
    "    class_weight=\"balanced\",\\\n",
    "    min_weight_fraction_leaf=0.01\\\n",
    "    )\n",
    "clf_tree = clf_tree.fit(X,y)\n",
    "score_tree = cross_val_score(clf_tree, X, y, cv=5).mean()\n",
    "print(score_tree)"
   ]
  },
  {
   "cell_type": "markdown",
   "metadata": {
    "_cell_guid": "aeb03cf8-1536-e2b6-3e1b-80f8e790ada7",
    "_uuid": "60d430b03a191e9af7d22a4d956b229fd033a990"
   },
   "source": [
    "*Decision Tree:* One of the classifiers that's easiest to visualise. Each tree is a series of if-then-else decisions. Example: *if* sex ==  male *then* go left *else* go right. Here, *left* and *right* defines a split at a so called *node* - the decision itself. The first split can be followed up by additional ones to narrow down the decision criteria (based on the subset defined by each previous split).\n",
    "\n",
    "One visualisation of this process is a tree trunk *branching off* into successively smaller structures. Hence: decision *tree*. Consequently, the result of the final splits are called *leaf notes* - on a tree, it doesn't get smaller than leafs.\n",
    "\n",
    "Advantages of decision trees are that they can deal with both numerical and categorical data, are able to handle multi-output problems, and are easy to follow and interpret.\n",
    "\n",
    "Disadvantages include:\n",
    "\n",
    "- Problem: A tendency to overfitting. Solution: pruning, setting maximum depth, or PCA beforehand to find the right number of features. Visualising the tree helps to understand how well it is fitting the data.\n",
    "\n",
    "- Problem: Unstable to small variations in the data. Solution: ensembles.\n",
    "\n",
    "- Problem: Creating biased trees if some classes dominate. Solution: balance the data set by either sampling the same number of samples from each class or by adjusting the *sample_weight* parameter to normalise the sum of the class weights to the same value. Following that, parameter *min_weight_fraction_leaf* is less biased towards dominating classes.\n",
    "\n",
    "- Problem: Being just not easy to fit to certain concepts that don't lend themselves to clear yes-or-no decisions. Solution: Use a different classifier.\n",
    "\n",
    "Additional notes:\n",
    "\n",
    "- Parameters *min_samples_split* and *min_samples_leaf* control the number of samples at a leaf note. min_samples_leaf=5 is a useful initial value. A small number will lead to overfitting, a large number prevents learning.\n",
    "\n",
    "- For sparse X convert to sparse *csc_matrix* to speed up the learning\n",
    "\n",
    "All of the information above is digested from the [sklearn documentation](http://scikit-learn.org/stable/modules/tree.html)"
   ]
  },
  {
   "cell_type": "markdown",
   "metadata": {
    "_cell_guid": "fd7cca01-9753-6809-3c41-dd14309713f4",
    "_uuid": "46a6e0b8da32d394dff275b8345960d24793e9c9"
   },
   "source": [
    "**Random Forest**"
   ]
  },
  {
   "cell_type": "code",
   "execution_count": null,
   "metadata": {
    "_cell_guid": "172745d2-9423-0547-3b8f-7403ebf6664e",
    "_execution_state": "idle",
    "_uuid": "889fa1c229c5f7371174d489a30b8e6efc5e9e94",
    "execution": {
     "iopub.status.busy": "2021-09-14T15:03:00.456876Z",
     "iopub.status.idle": "2021-09-14T15:03:00.457499Z"
    }
   },
   "outputs": [],
   "source": [
    "clf_rf = RandomForestClassifier(\n",
    "    n_estimators=1000, \\\n",
    "    max_depth=None, \\\n",
    "    min_samples_split=10 \\\n",
    "    #class_weight=\"balanced\", \\\n",
    "    #min_weight_fraction_leaf=0.02 \\\n",
    "    )\n",
    "clf_rf = clf_rf.fit(X,y)\n",
    "score_rf = cross_val_score(clf_rf, X, y, cv=5).mean()\n",
    "print(score_rf)"
   ]
  },
  {
   "cell_type": "markdown",
   "metadata": {
    "_cell_guid": "fa026b30-36e6-06c7-5e99-a72c625882a4",
    "_uuid": "c3c55258895121efa276492ee72522d70c9ca831"
   },
   "source": [
    "*Random Forest:* As the name suggests, this classifier is using a number of decision trees instead of just a single one. Thereby, this is an *ensemble method* which combines the results of individual classifiers to improve the accuracy. Think of it as an average of estimators. An individual estimator may have a poor accuracy but if you combine several of them the resulting mean (or median) average will have a reduced uncertainty. Similar to the standard error of the mean for sampling normal distributions.\n",
    "\n",
    "There are two types of ensemble methods: *boosting*, used below, and *averaging* (or *bagging*; see above). A random forest is an averaging classifier for which we train several estimators independently and then average over their individual predictions. Boosting works best for weak learners (e.g. decision stumps) whereas for Bagging/Averaging to be successful we want to overfit a little\n",
    "\n",
    "The *random* in *random forest* comes from the method of training each tree using a random bootstrap sample (i.e. one with replacement) of the original training set. Further randomness is introduced by making the node split dependent on a random subset of features instead of all of them. Here single trees are combined through the average of the prediction probabilities.\n",
    "\n",
    "In addition to the tree parameters, the most important settings are:\n",
    "\n",
    "- n_estimators: number of trees. The larger the better, although improvements become marginal eventually\n",
    "\n",
    "- max_features: number of random features per subset. Lower numbers decrease variance and increase bias. Rule of thumb for classification: max_features = sqrt(all_features). This is the default setting.\n",
    "\n",
    "One suggestion is to use a large number of highly overfitted trees with small split limits and no depth limit.\n",
    "\n",
    "Once more, this info was digested from the [sklearn documentation](http://scikit-learn.org/stable/modules/ensemble.html#forest)"
   ]
  },
  {
   "cell_type": "markdown",
   "metadata": {
    "_cell_guid": "f5faf933-3180-db48-bcff-2d2d1ac9aeaf",
    "_uuid": "a1adfae591942ff4be242301d7e7ca943752be39"
   },
   "source": [
    "**Extremely Randomised Trees**"
   ]
  },
  {
   "cell_type": "code",
   "execution_count": null,
   "metadata": {
    "_cell_guid": "c6a175e5-49cd-f7a5-481a-d6847f0d95ad",
    "_execution_state": "idle",
    "_uuid": "e5506b0e9fdf4153fef3de90050bb0e71e11f1e0",
    "execution": {
     "iopub.status.busy": "2021-09-14T15:03:00.458285Z",
     "iopub.status.idle": "2021-09-14T15:03:00.458893Z"
    }
   },
   "outputs": [],
   "source": [
    "clf_ext = ExtraTreesClassifier(\n",
    "    max_features='auto',\n",
    "    bootstrap=True,\n",
    "    oob_score=True,\n",
    "    n_estimators=1000,\n",
    "    max_depth=None,\n",
    "    min_samples_split=10\n",
    "    #class_weight=\"balanced\",\n",
    "    #min_weight_fraction_leaf=0.02\n",
    "    )\n",
    "clf_ext = clf_ext.fit(X,y)\n",
    "score_ext = cross_val_score(clf_ext, X, y, cv=5).mean()\n",
    "print(score_ext)"
   ]
  },
  {
   "cell_type": "markdown",
   "metadata": {
    "_cell_guid": "4546719b-087e-1a0e-707e-cfba213426c5",
    "_uuid": "901245f395a4b69766725f182796221284e9d732"
   },
   "source": [
    "*Extremely Randomised Trees* is an ensemble classifier similar to random forests. An additional randomness is introduced by selecting random thresholds for each feature and using the best-performing threshold.\n",
    "\n",
    "Here we also use an \"Out-of-bag score\" (*oob\\_score = True*). This means that we grow our trees from a sub-sample of the training sample (using bootstrapping: *boostrap = True*) and estimate the accuracy based on those entries that were not picked (i.e. \"left out of the bag\"). This gives us a better impression how robust our results are towards generalisation, i.e. how well the classifier that was trained on a particular sample can be applied to new data. \n",
    "\n",
    "Because this is ultimately our goal: to apply the classification method we \"learn\" from the training data to any data (in particular the one that is used to judge this competition). There is little use in having a classifier that replicates perfectly the training data by following every random noise feature in that data (called *overfitting*) but doesn't perform well with new data.\n",
    "\n",
    "The principles of *bootstrapping* and the *out-of-bag score* can be applied to most classifiers and we already used them in the *bagging* classifier above. Here we just focus a bit on the underlying idea."
   ]
  },
  {
   "cell_type": "markdown",
   "metadata": {
    "_cell_guid": "08d81f06-a660-9fa7-e1b6-9b6c56348b96",
    "_uuid": "846daed2cfb1901c8b882999c07095e9a5bcce8c"
   },
   "source": [
    "**Gradient Boosting:**"
   ]
  },
  {
   "cell_type": "code",
   "execution_count": null,
   "metadata": {
    "_cell_guid": "e17b7d22-3bc3-3804-01f1-da8abeb637b6",
    "_execution_state": "idle",
    "_uuid": "1b51489d370b648d405e314c67a80ebf45fa475e",
    "execution": {
     "iopub.status.busy": "2021-09-14T15:03:00.459684Z",
     "iopub.status.idle": "2021-09-14T15:03:00.460315Z"
    }
   },
   "outputs": [],
   "source": [
    "import warnings\n",
    "warnings.filterwarnings(\"ignore\")\n",
    "\n",
    "clf_gb = GradientBoostingClassifier(\n",
    "            #loss='exponential',\n",
    "            n_estimators=1000,\n",
    "            learning_rate=0.1,\n",
    "            max_depth=3,\n",
    "            subsample=0.5,\n",
    "            random_state=0).fit(X, y)\n",
    "clf_gb.fit(X,y)\n",
    "score_gb = cross_val_score(clf_gb, X, y, cv=5).mean()\n",
    "print(score_gb)"
   ]
  },
  {
   "cell_type": "markdown",
   "metadata": {
    "_cell_guid": "2436ca7c-d2c7-502a-9869-f430bffae66a",
    "_uuid": "3f26a4e9017b302727a78c21ff91ff0ca1d84586"
   },
   "source": [
    "*Gradient boosting:* This is what we call the step-by-step improvement of a weak classifier (like a tree with only 1 node) by successively applying this classifier to the residuals of the previous classifier's results. \n",
    "\n",
    "For example: we fit a tree, determine its results (prediction: survived vs not survived), compute the residuals of this prediction vs the real survival numbers (all in the training data, of course), and then fit another tree to these residuals. This tree can now consider the full number of training samples for splitting a node at another feature, instead of having to deal with the decreased sample after the first original node (and the resulting impact of random fluctuations). This can be done again and again for n_estimator number of times.\n",
    "\n",
    "The weak classifier itself does not necessarily have to be a tree, but a tree seems to be the favourite approach to use here. Another convention is to initialise this sequence of models with a single prediction value (like the mean of the training survival values).\n",
    "\n",
    "Instead of reducing the residuals (and the corresponding squared errors) Gradient Boosting focusses on minimising the *Loss Function* by training the classifier on the *gradient* of this function. The Loss Function describes how much the prediction is improved when shifting the predicted values by a certain amount. The method of *Gradient Decent* uses this Loss Function to iteratively move into the direction of its greatest decent (i.e. most negative first derivative). The step sizes can vary from iteration to iteration.\n",
    "\n",
    "An additional concept is *Shrinkage*. Here, the size of each step multiplied by a factor (0,1]. In the model parameters, this factor is called the *learning_rate*. Lower learning rates make for a slower decent which seems to be empirically more effective. \n",
    "\n",
    "One more step is to provide a sampling of rows and features, like in the random forest discussed above, to increase the diversity in tree splits and thereby a larger amount of information for the method to work with.\n",
    "\n",
    "The important parameters are:\n",
    "\n",
    "- n_estimators: number of boosting stages; more is better\n",
    "\n",
    "- learning_rate: smaller steps need more stages\n",
    "\n",
    "- max_depth: tune for best performance; depends on interaction of features\n",
    "\n",
    "- subsample: only train on a sub sample of the data set drawn without replacement. This is called *Stochastic Gradient Decent*\n",
    "\n",
    "[Source 1](http://blog.kaggle.com/2017/01/23/a-kaggle-master-explains-gradient-boosting/)\n",
    "\n",
    "[Source 2](<http://scikit-learn.org/stable/modules/ensemble.html#gradient-tree-boosting)\n",
    "\n",
    "\n",
    "\n",
    "\n",
    "In addition: This is the only instance where we import a module right when it's needed instead of up top. Normally, I would recommend not to ignore warnings but to fix what's causing them. However, here we get 1 warning per n_estimators from a depreciation warning in the inner workings of the classifier, over which we have no control. Therefore: ignore."
   ]
  },
  {
   "cell_type": "markdown",
   "metadata": {
    "_cell_guid": "fb57e1ad-1ea6-62d0-15f5-af3768f9bc2b",
    "_uuid": "936d1b68af1edff0bcf90fb98eee33ffcd097cd8"
   },
   "source": [
    "**Ada Boost:**"
   ]
  },
  {
   "cell_type": "code",
   "execution_count": null,
   "metadata": {
    "_cell_guid": "4d7f72e9-d6c7-69f6-1f13-e9eb3cb22086",
    "_execution_state": "idle",
    "_uuid": "8110f9e967474631ee82902904c6947f87e4b23e",
    "execution": {
     "iopub.status.busy": "2021-09-14T15:03:00.461091Z",
     "iopub.status.idle": "2021-09-14T15:03:00.461725Z"
    }
   },
   "outputs": [],
   "source": [
    "clf_ada = AdaBoostClassifier(n_estimators=400, learning_rate=0.1)\n",
    "clf_ada.fit(X,y)\n",
    "score_ada = cross_val_score(clf_ada, X, y, cv=5).mean()\n",
    "print(score_ada)"
   ]
  },
  {
   "cell_type": "markdown",
   "metadata": {
    "_cell_guid": "796fa059-b829-d979-a506-11c24d6f1232",
    "_uuid": "9b261667d8628ce16cd16a4e14d0ce13e32b31bd"
   },
   "source": [
    "*AdaBoost*: A boosting classifier that fits sequences of weak learners that are progressively weighted toward those features that the previous weak learners misclassified."
   ]
  },
  {
   "cell_type": "markdown",
   "metadata": {
    "_cell_guid": "5e57d269-c552-f6bb-04be-27f126bbdc22",
    "_uuid": "05afb937505275cac4a9f4ff1b82949b15bd8075"
   },
   "source": [
    "**eXtreme Gradient Boosting - XGBoost:**"
   ]
  },
  {
   "cell_type": "code",
   "execution_count": null,
   "metadata": {
    "_cell_guid": "51bf7603-a8c5-29b7-7907-8a594eca7eb1",
    "_execution_state": "idle",
    "_uuid": "615462f01e2bb53790c562ffd93be6159f1d9007",
    "execution": {
     "iopub.status.busy": "2021-09-14T15:03:00.462518Z",
     "iopub.status.idle": "2021-09-14T15:03:00.463131Z"
    }
   },
   "outputs": [],
   "source": [
    "clf_xgb = xgb.XGBClassifier(\n",
    "    max_depth=2,\n",
    "    n_estimators=500,\n",
    "    subsample=0.5,\n",
    "    learning_rate=0.1\n",
    "    )\n",
    "clf_xgb.fit(X,y)\n",
    "score_xgb = cross_val_score(clf_xgb, X, y, cv=5).mean()\n",
    "print(score_xgb)"
   ]
  },
  {
   "cell_type": "markdown",
   "metadata": {
    "_cell_guid": "df04fa2a-c278-d1ae-79a5-c413e6753d6d",
    "_uuid": "95a547969d1282072098ae8aec3baf9d8b5e20ab"
   },
   "source": [
    "*eXtreme Gradient Boosting:* It's not just a good name for a band, but XGBoost was also the flavour of the month tool for kaggle competitions in 2016."
   ]
  },
  {
   "cell_type": "markdown",
   "metadata": {
    "_cell_guid": "19f078a6-80fd-4c46-964c-1594c3193ebc",
    "_uuid": "c6e98a6cf97b5f50d61f23b944a8a8b18310122e"
   },
   "source": [
    "**LightGBM:**"
   ]
  },
  {
   "cell_type": "code",
   "execution_count": null,
   "metadata": {
    "_cell_guid": "76bbcd4a-798b-4e3c-86dc-466c66af702e",
    "_uuid": "ba0177be49ddd0eb39d66fd0deca06b64c382171",
    "execution": {
     "iopub.status.busy": "2021-09-14T15:03:00.463932Z",
     "iopub.status.idle": "2021-09-14T15:03:00.464651Z"
    }
   },
   "outputs": [],
   "source": [
    "clf_lgb = lgb.LGBMClassifier(\n",
    "    max_depth=2,\n",
    "    n_estimators=500,\n",
    "    subsample=0.5,\n",
    "    learning_rate=0.1\n",
    "    )\n",
    "clf_lgb.fit(X,y)\n",
    "score_lgb = cross_val_score(clf_lgb, X, y, cv=5).mean()\n",
    "print(score_lgb)"
   ]
  },
  {
   "cell_type": "markdown",
   "metadata": {
    "_cell_guid": "60b911b3-4270-4075-a67e-f0548ccd8e6e",
    "_uuid": "18ef6986ecb31506f8ef8236bdf23f7df9da2d60"
   },
   "source": [
    "The [LightGBM](https://github.com/Microsoft/LightGBM) is another gradient boosting tool which in 2017 was beginning to eclipse the XGBoost as Kaggle's go-to method for efficient boosting. LightGBM is often signficantly faster than XGBoost and achieves at least a similar accuracy."
   ]
  },
  {
   "cell_type": "markdown",
   "metadata": {
    "_cell_guid": "55829776-3c77-9b74-83bc-3f4daa1dcef9",
    "_uuid": "4ed480324a54408ec6eb6fec6c17c21d640d7969"
   },
   "source": [
    "## *Examining/Optimising one classifier in more detail:*"
   ]
  },
  {
   "cell_type": "markdown",
   "metadata": {
    "_cell_guid": "eab41c76-81d1-4aae-f381-f4305dc158e2",
    "_uuid": "2298f65862fe5507b0971f0c906eec68f079ca3e"
   },
   "source": [
    "For each of these various classifiers we can have a closer look to improve their performance and understand their output. As an example we'll be using the *Extremely Randomized Trees*, but any other classifier can be substituted instead.\n",
    "\n",
    "We will start with a *grid search algorithm* to find the best parameters to run our classifier. This is called [*tuning of the hyper-parameters*](http://scikit-learn.org/stable/modules/grid_search.html). The idea is to define a number of possible values for each hyper-parameter. Together, these sets of values define a grid (which is quite easy to visualise in two dimensions). Then, we evaluate the score of the classifier at each grid point and pick the one parameter combination that gives us the best score."
   ]
  },
  {
   "cell_type": "code",
   "execution_count": null,
   "metadata": {
    "_cell_guid": "73f65246-13cc-2465-f9ff-3c2410409c88",
    "_execution_state": "idle",
    "_uuid": "69f6f9438cefa8d5b2b6f4d34fc44a9209ab1a58",
    "execution": {
     "iopub.status.busy": "2021-09-14T15:03:00.465450Z",
     "iopub.status.idle": "2021-09-14T15:03:00.466058Z"
    }
   },
   "outputs": [],
   "source": [
    "clf_ext = ExtraTreesClassifier(max_features='auto',bootstrap=True,oob_score=True)\n",
    "param_grid = { \"criterion\" : [\"gini\", \"entropy\"],\n",
    "              \"min_samples_leaf\" : [1, 5, 10],\n",
    "              \"min_samples_split\" : [8, 10, 12],\n",
    "              \"n_estimators\": [20, 50, 100]}\n",
    "gs = GridSearchCV(estimator=clf_ext, param_grid=param_grid, scoring='accuracy', cv=3)\n",
    "gs = gs.fit(X,y)\n",
    "print(gs.best_score_)\n",
    "print(gs.best_params_)"
   ]
  },
  {
   "cell_type": "markdown",
   "metadata": {
    "_cell_guid": "b65aa8af-c616-0df9-6a32-de438454b534",
    "_uuid": "0ed54ecd9f3f3e975ff1ea09be78d6389e555368"
   },
   "source": [
    "With these optimised parameters let's have a look at the feature importance that this classifier gives us:"
   ]
  },
  {
   "cell_type": "code",
   "execution_count": null,
   "metadata": {
    "_cell_guid": "6e9da46d-a09e-adf7-a178-1c684fd9a4ef",
    "_execution_state": "idle",
    "_uuid": "6bd93bce05ada5eb8974400aeee51d937af0bb5a",
    "execution": {
     "iopub.status.busy": "2021-09-14T15:03:00.466871Z",
     "iopub.status.idle": "2021-09-14T15:03:00.467481Z"
    }
   },
   "outputs": [],
   "source": [
    "clf_ext = ExtraTreesClassifier(\n",
    "    max_features='auto',\n",
    "    bootstrap=True,\n",
    "    oob_score=True,\n",
    "    criterion='gini',\n",
    "    min_samples_leaf=5,\n",
    "    min_samples_split=8,\n",
    "    n_estimators=50\n",
    "    )\n",
    "clf_ext = clf_ext.fit(X,y)\n",
    "score_ext = clf_ext.score(X,y)\n",
    "print(score_ext)\n",
    "pd.DataFrame(list(zip(X.columns, np.transpose(clf_ext.feature_importances_))) \\\n",
    "            ).sort_values(1, ascending=False)"
   ]
  },
  {
   "cell_type": "markdown",
   "metadata": {
    "_cell_guid": "95c989aa-87d0-9816-2cae-7504a6fc2335",
    "_uuid": "90229b4dd76fd6d588742bfb292a3efdca9f4f36"
   },
   "source": [
    "As expected, *Pclass* and *Sex* have the most impact, but our engineered features are doing not bad either."
   ]
  },
  {
   "cell_type": "markdown",
   "metadata": {
    "_cell_guid": "1ba0864a-5006-f5f2-35dc-3f3199768032",
    "_uuid": "24a61a21d0131ab10b43c2385fda57e46ca32da1"
   },
   "source": [
    "Following a suggestion by [Taner](https://www.kaggle.com/kiralt) in the comments we also use a *Confusion Matrix* to evaluate the performance of our classifier. A confusion matrix contains more information than a simple score because it shows how many data points of each class were correctly/incorrectly classified. It's like a correlation matrix, in a sense. A plot will explain it better than 1000 words. First we define some plotting function; then we plot."
   ]
  },
  {
   "cell_type": "code",
   "execution_count": null,
   "metadata": {
    "_cell_guid": "4d2114e3-e47c-5e6b-bc77-8cbb59e9ba4d",
    "_execution_state": "idle",
    "_uuid": "b8600496402609713b4fbf5c718c2dd36d042b6d",
    "execution": {
     "iopub.status.busy": "2021-09-14T15:03:00.468587Z",
     "iopub.status.idle": "2021-09-14T15:03:00.469246Z"
    }
   },
   "outputs": [],
   "source": [
    "# Taner's code\n",
    "def show_confusion_matrix(cnf_matrix, class_labels):\n",
    "    plt.matshow(cnf_matrix,cmap=plt.cm.YlGn,alpha=0.7)\n",
    "    ax = plt.gca()\n",
    "    ax.set_xlabel('Predicted Label', fontsize=16)\n",
    "    ax.set_xticks(range(0,len(class_labels)))\n",
    "    ax.set_xticklabels(class_labels,rotation=45)\n",
    "    ax.set_ylabel('Actual Label', fontsize=16, rotation=90)\n",
    "    ax.set_yticks(range(0,len(class_labels)))\n",
    "    ax.set_yticklabels(class_labels)\n",
    "    ax.xaxis.set_label_position('top')\n",
    "    ax.xaxis.tick_top()\n",
    "\n",
    "    for row in range(len(cnf_matrix)):\n",
    "        for col in range(len(cnf_matrix[row])):\n",
    "            ax.text(col, row, cnf_matrix[row][col], va='center', ha='center', fontsize=16)\n",
    "\n",
    "# sklearn example code\n",
    "def plot_confusion_matrix(cm, classes,\n",
    "                          normalize=False,\n",
    "                          title='Confusion matrix',\n",
    "                          cmap=plt.cm.Blues):\n",
    "    \"\"\"\n",
    "    This function prints and plots the confusion matrix.\n",
    "    Normalization can be applied by setting `normalize=True`.\n",
    "    \"\"\"\n",
    "    plt.imshow(cm, interpolation='nearest', cmap=cmap)\n",
    "    plt.title(title)\n",
    "    plt.colorbar()\n",
    "    tick_marks = np.arange(len(classes))\n",
    "    plt.xticks(tick_marks, classes, rotation=45)\n",
    "    plt.yticks(tick_marks, classes)\n",
    "\n",
    "    if normalize:\n",
    "        cm = cm.astype('float') / cm.sum(axis=1)[:, np.newaxis]\n",
    "        print(\"Normalized confusion matrix\")\n",
    "    else:\n",
    "        print('Confusion matrix, without normalization')\n",
    "\n",
    "    print(cm)\n",
    "\n",
    "    thresh = cm.max() / 2.\n",
    "    for i, j in itertools.product(range(cm.shape[0]), range(cm.shape[1])):\n",
    "        plt.text(j, i, cm[i, j],\n",
    "                 horizontalalignment=\"center\",\n",
    "                 color=\"white\" if cm[i, j] > thresh else \"black\")\n",
    "\n",
    "    plt.tight_layout()\n",
    "    plt.ylabel('True label')\n",
    "    plt.xlabel('Predicted label')\n",
    "\n",
    "class_names = [\"Dead\", \"Alive\"]\n",
    "cnf_matrix = confusion_matrix(clf_ext.predict(X_test),y_test)\n",
    "\n",
    "# from: http://notmatthancock.github.io/2015/10/28/confusion-matrix.html\n",
    "def show_confusion_matrix2(C,class_labels=['0','1']):\n",
    "    \"\"\"\n",
    "    C: ndarray, shape (2,2) as given by scikit-learn confusion_matrix function\n",
    "    class_labels: list of strings, default simply labels 0 and 1.\n",
    "\n",
    "    Draws confusion matrix with associated metrics.\n",
    "    \"\"\"\n",
    "    import matplotlib.pyplot as plt\n",
    "    import numpy as np\n",
    "    \n",
    "    assert C.shape == (2,2), \"Confusion matrix should be from binary classification only.\"\n",
    "    \n",
    "    # true negative, false positive, etc...\n",
    "    tn = C[0,0]; fp = C[0,1]; fn = C[1,0]; tp = C[1,1];\n",
    "\n",
    "    NP = fn+tp # Num positive examples\n",
    "    NN = tn+fp # Num negative examples\n",
    "    N  = NP+NN\n",
    "\n",
    "    fig = plt.figure(figsize=(8,8))\n",
    "    ax  = fig.add_subplot(111)\n",
    "    ax.imshow(C, interpolation='nearest', cmap=plt.cm.gray)\n",
    "\n",
    "    # Draw the grid boxes\n",
    "    ax.set_xlim(-0.5,2.5)\n",
    "    ax.set_ylim(2.5,-0.5)\n",
    "    ax.plot([-0.5,2.5],[0.5,0.5], '-k', lw=2)\n",
    "    ax.plot([-0.5,2.5],[1.5,1.5], '-k', lw=2)\n",
    "    ax.plot([0.5,0.5],[-0.5,2.5], '-k', lw=2)\n",
    "    ax.plot([1.5,1.5],[-0.5,2.5], '-k', lw=2)\n",
    "\n",
    "    # Set xlabels\n",
    "    ax.set_xlabel('Predicted Label', fontsize=16)\n",
    "    ax.set_xticks([0,1,2])\n",
    "    ax.set_xticklabels(class_labels + [''])\n",
    "    ax.xaxis.set_label_position('top')\n",
    "    ax.xaxis.tick_top()\n",
    "    # These coordinate might require some tinkering. Ditto for y, below.\n",
    "    ax.xaxis.set_label_coords(0.34,1.06)\n",
    "\n",
    "    # Set ylabels\n",
    "    ax.set_ylabel('True Label', fontsize=16, rotation=90)\n",
    "    ax.set_yticklabels(class_labels + [''],rotation=90)\n",
    "    ax.set_yticks([0,1,2])\n",
    "    ax.yaxis.set_label_coords(-0.09,0.65)\n",
    "\n",
    "\n",
    "    # Fill in initial metrics: tp, tn, etc...\n",
    "    ax.text(0,0,\n",
    "            'True Neg: %d\\n(Num Neg: %d)'%(tn,NN),\n",
    "            va='center',\n",
    "            ha='center',\n",
    "            bbox=dict(fc='w',boxstyle='round,pad=1'))\n",
    "\n",
    "    ax.text(0,1,\n",
    "            'False Neg: %d'%fn,\n",
    "            va='center',\n",
    "            ha='center',\n",
    "            bbox=dict(fc='w',boxstyle='round,pad=1'))\n",
    "\n",
    "    ax.text(1,0,\n",
    "            'False Pos: %d'%fp,\n",
    "            va='center',\n",
    "            ha='center',\n",
    "            bbox=dict(fc='w',boxstyle='round,pad=1'))\n",
    "\n",
    "\n",
    "    ax.text(1,1,\n",
    "            'True Pos: %d\\n(Num Pos: %d)'%(tp,NP),\n",
    "            va='center',\n",
    "            ha='center',\n",
    "            bbox=dict(fc='w',boxstyle='round,pad=1'))\n",
    "\n",
    "    # Fill in secondary metrics: accuracy, true pos rate, etc...\n",
    "    ax.text(2,0,\n",
    "            'False Pos Rate: %.2f'%(fp / (fp+tn+0.)),\n",
    "            va='center',\n",
    "            ha='center',\n",
    "            bbox=dict(fc='w',boxstyle='round,pad=1'))\n",
    "\n",
    "    ax.text(2,1,\n",
    "            'True Pos Rate: %.2f'%(tp / (tp+fn+0.)),\n",
    "            va='center',\n",
    "            ha='center',\n",
    "            bbox=dict(fc='w',boxstyle='round,pad=1'))\n",
    "\n",
    "    ax.text(2,2,\n",
    "            'Accuracy: %.2f'%((tp+tn+0.)/N),\n",
    "            va='center',\n",
    "            ha='center',\n",
    "            bbox=dict(fc='w',boxstyle='round,pad=1'))\n",
    "\n",
    "    ax.text(0,2,\n",
    "            'Neg Pre Val: %.2f'%(1-fn/(fn+tn+0.)),\n",
    "            va='center',\n",
    "            ha='center',\n",
    "            bbox=dict(fc='w',boxstyle='round,pad=1'))\n",
    "\n",
    "    ax.text(1,2,\n",
    "            'Pos Pred Val: %.2f'%(tp/(tp+fp+0.)),\n",
    "            va='center',\n",
    "            ha='center',\n",
    "            bbox=dict(fc='w',boxstyle='round,pad=1'))\n",
    "\n",
    "\n",
    "    plt.tight_layout()\n",
    "    plt.show()"
   ]
  },
  {
   "cell_type": "code",
   "execution_count": null,
   "metadata": {
    "_cell_guid": "7347025d-d458-2394-0445-3ca7c3808604",
    "_execution_state": "idle",
    "_uuid": "2d984b7b8c968d1e1f0cb1509929a745b1c065ee",
    "execution": {
     "iopub.status.busy": "2021-09-14T15:03:00.470004Z",
     "iopub.status.idle": "2021-09-14T15:03:00.470630Z"
    }
   },
   "outputs": [],
   "source": [
    "show_confusion_matrix(cnf_matrix,class_names)\n",
    "#show_confusion_matrix2(cnf_matrix,class_names)\n",
    "#plot_confusion_matrix(cnf_matrix, classes=class_names, normalize=True,\n",
    "#                     title='Normalized confusion matrix')\n",
    "#sns.heatmap(cnf_matrix, annot=True)"
   ]
  },
  {
   "cell_type": "markdown",
   "metadata": {
    "_cell_guid": "46daf2a8-c179-413e-1ea1-3a28d09b7644",
    "_uuid": "ba506b36c446b24623fcfc3815bdab2fe569c921"
   },
   "source": [
    "Here we see that in the testing data set (based on our train/test split) 12 people who survived were misclassified as dead, whereas 21 who died were misclassified as having survived. That is roughly 20% of the cases that were classified correctly. The confusion matrix plot would allow us to identify significant *imbalances* in our prediction between the false positives and the false negatives. For instance if the off-diagonal elements were 0 and 30. For our case there doesn't seem to be an imbalance.\n",
    "\n",
    "Here we use Taner's function and also include the \"official\" [sklearn example](http://scikit-learn.org/stable/auto_examples/model_selection/plot_confusion_matrix.html) for plotting confusion matrices. The latter one, which you can comment also includes the possibility to plot a *normalised* confusion matrix. In addition, we include the option to use a confusion matrix from [this website](http://notmatthancock.github.io/2015/10/28/confusion-matrix.html) which shows more information if we need it. Alternatively, you can use a seaborn heatmap for a quick and easy (but less pretty) plot. Just change the comment tags to switch between the options. Admittedly, 4 different ones are a bit of an overkill, but why not document what we found."
   ]
  },
  {
   "cell_type": "markdown",
   "metadata": {
    "_cell_guid": "def2bd8f-4d53-b1be-dcd4-9d314fafaf5f",
    "_uuid": "a59f2bc9c7738c5c04548137a4ed3af09c4f82b5"
   },
   "source": [
    "## *Model validation*"
   ]
  },
  {
   "cell_type": "markdown",
   "metadata": {
    "_cell_guid": "f8d45619-a23c-7a9f-4702-e4d11d162ac2",
    "_uuid": "388d60c8cfb4e5d23ea74dd6f375f077fd495ae2"
   },
   "source": [
    "We want to make sure that our classifiers are not overfitting random data features. One of the most popular ways to check a model for robustness is called *cross validation*.\n",
    "\n",
    "It's an approach similar to bootstrapping, where we use smaller samples from our data set to check whether the classifier gives similar results for each of them.\n",
    "\n",
    "First a simple cross-validation using the helper function *cross\\_val\\_score*. By default, the data is divided up into *k* equally sized sub-samples (or *folds*) and the classifier is trained on *k-1* of them and evaluated on the remaining one (e.g. for k = 4 we use 4 samples, leave each of them out once and train on the other 3, then evaluate on the one we've left out). This process is called *K-fold cross validation*.  The parameter *cv* here defines the*number* of folds (or alternatively something more complex as described in the [docs](http://scikit-learn.org/stable/modules/generated/sklearn.model_selection.cross_val_score.html) ).  The method used for computing the scores is by default the native scoring method of the classifier (but can be changed).\n",
    "\n",
    "More background info [here](http://scikit-learn.org/stable/modules/cross_validation.html).\n",
    "\n",
    "*We've already used this cross-validation above to compute the scores for the individual classifiers.*"
   ]
  },
  {
   "cell_type": "code",
   "execution_count": null,
   "metadata": {
    "_cell_guid": "57814cf7-fffd-2f03-69bd-82c58a8ac32d",
    "_execution_state": "idle",
    "_uuid": "a679b195ddb56af6006798eedaf65b54b7942001",
    "execution": {
     "iopub.status.busy": "2021-09-14T15:03:00.471408Z",
     "iopub.status.idle": "2021-09-14T15:03:00.472025Z"
    }
   },
   "outputs": [],
   "source": [
    "clf = clf_ext\n",
    "scores = cross_val_score(clf, X, y, cv=5)\n",
    "print(scores)\n",
    "print(\"Mean score = %.3f, Std deviation = %.3f\"%(np.mean(scores),np.std(scores)))"
   ]
  },
  {
   "cell_type": "markdown",
   "metadata": {
    "_cell_guid": "301f7c0d-8f75-cf16-b2d9-6f19b0d27ce8",
    "_uuid": "7d78f540ff8083e7f40eb1902012902e9a4889c8"
   },
   "source": [
    "As far as I can see, there's still quite a bit of variation here."
   ]
  },
  {
   "cell_type": "markdown",
   "metadata": {
    "_cell_guid": "3bdb75bd-35a3-ee2f-27a4-93f9c54d1529",
    "_uuid": "fb7cf177c8278b3f4ee04e2d893c659d6b6e3330"
   },
   "source": [
    "Final validation with the testing data set:"
   ]
  },
  {
   "cell_type": "code",
   "execution_count": null,
   "metadata": {
    "_cell_guid": "30dc03e3-7b5f-8d43-1a62-5e17f2b124f7",
    "_execution_state": "idle",
    "_uuid": "a092b2e895be6c4df379b7f45704fd0f2ed8bb2c",
    "execution": {
     "iopub.status.busy": "2021-09-14T15:03:00.472781Z",
     "iopub.status.idle": "2021-09-14T15:03:00.473414Z"
    }
   },
   "outputs": [],
   "source": [
    "score_ext_test = clf_ext.score(X_test,y_test)\n",
    "print(score_ext_test)"
   ]
  },
  {
   "cell_type": "markdown",
   "metadata": {
    "_cell_guid": "64407831-55c3-8d39-34f3-e47d459ceac6",
    "_uuid": "2297d92fc30e52ff35fb17653cbc357f55635844"
   },
   "source": [
    "TODO: Expand this section"
   ]
  },
  {
   "cell_type": "markdown",
   "metadata": {
    "_cell_guid": "41d076b6-b060-c877-d0bb-f5d7292ce7a7",
    "_uuid": "f4e87aa1081b5b39465e21619d0861509e86697f"
   },
   "source": [
    "## *Ranking of models and features*"
   ]
  },
  {
   "cell_type": "markdown",
   "metadata": {
    "_cell_guid": "e5dac8cd-39e6-75f4-c3a1-c0b45ad39ddd",
    "_uuid": "8d5db1527202c851bd971aab5c00684cb7600453"
   },
   "source": [
    "**Ranking of models.** I've 'borrowed' that one straight from this very nice kernel, because it's a useful summary display of how our models perform:\n",
    "<https://www.kaggle.com/startupsci/titanic/titanic-data-science-solutions>"
   ]
  },
  {
   "cell_type": "code",
   "execution_count": null,
   "metadata": {
    "_cell_guid": "9c453b09-4f5d-9e20-6827-8fa632da93c7",
    "_execution_state": "idle",
    "_uuid": "2c72148cc51ae89f769392e7be170acbf9e14010",
    "execution": {
     "iopub.status.busy": "2021-09-14T15:03:00.474284Z",
     "iopub.status.idle": "2021-09-14T15:03:00.474913Z"
    }
   },
   "outputs": [],
   "source": [
    "models = pd.DataFrame({\n",
    "    'Model': ['Support Vector Machines', 'KNN', 'Logistic Regression', \n",
    "              'Random Forest', 'Gradient Boosting', 'Bagging KNN', \n",
    "              'Decision Tree','XGBoost','LightGBM','ExtraTree','Perceptron', 'Naive Bayes'],\n",
    "    'Score': [score_svm, score_knn, score_log, score_rf, score_gb, score_bag,\n",
    "              score_tree,score_xgb,score_lgb,score_ext,score_pctr, score_bay]})\n",
    "models.sort_values(by='Score', ascending=False)"
   ]
  },
  {
   "cell_type": "markdown",
   "metadata": {
    "_cell_guid": "3c695e45-abf0-7bc6-2a48-43d505ade20c",
    "_uuid": "8ade265e85507f9c0ee3eb1beb001f0ab9446126"
   },
   "source": [
    "At face value, some classifiers perform better than others. However, the differences between the methods are relatively small and more likely due to more or less over-fitting than anything else. (Except, possibly, for the Perceptron. There a bit more tuning might be appropriate.)"
   ]
  },
  {
   "cell_type": "markdown",
   "metadata": {
    "_cell_guid": "37cfaf4d-9329-4f17-f6e2-f999577b282b",
    "_uuid": "1c980e2e1fc36e6948c2f66030e56e79894bf96d"
   },
   "source": [
    "For additional insight we compare the *feature\\_importance* output of all the classifiers for which it exists:"
   ]
  },
  {
   "cell_type": "code",
   "execution_count": null,
   "metadata": {
    "_cell_guid": "35a9c955-a015-5674-8e46-e086125dab0f",
    "_execution_state": "idle",
    "_uuid": "891d22109edac86b97fe461a8b9a4461ed8b7e95",
    "execution": {
     "iopub.status.busy": "2021-09-14T15:03:00.475676Z",
     "iopub.status.idle": "2021-09-14T15:03:00.476338Z"
    }
   },
   "outputs": [],
   "source": [
    "summary = pd.DataFrame(list(zip(X.columns, \\\n",
    "    np.transpose(clf_tree.feature_importances_), \\\n",
    "    np.transpose(clf_rf.feature_importances_), \\\n",
    "    np.transpose(clf_ext.feature_importances_), \\\n",
    "    np.transpose(clf_gb.feature_importances_), \\\n",
    "    np.transpose(clf_ada.feature_importances_), \\\n",
    "    np.transpose(clf_xgb.feature_importances_), \\\n",
    "    np.transpose(clf_lgb.feature_importances_), \\\n",
    "    )), columns=['Feature','Tree','RF','Extra','GB','Ada','XGBoost','LightGBM'])\n",
    "  \n",
    "summary['Median'] = summary.median(1)\n",
    "summary.sort_values('Median', ascending=False)"
   ]
  },
  {
   "cell_type": "markdown",
   "metadata": {
    "_cell_guid": "48871258-e5c5-d170-1f0b-22c3cebcd486",
    "_uuid": "db2b672e7c320e05816908fb017e1d16b1bc2069"
   },
   "source": [
    "The *feature importance* tells us how much impact an individual feature has on the decisions within the classifier. Alongside the individual features we also compute a *median* importance.\n",
    "\n",
    "The overall result is not very surprising: *Sex* and *Pclass* are the dominant features while everything else is of similar, significantly lower importance.\n",
    "\n",
    "The devil here is in the details:\n",
    "\n",
    "- Why is *Sex* so much weaker for the boosting algorithms? And why have features like *Alone* more impact when boosted? Is it because of the lower tree depth?\n",
    "- What can we learn from these discrepancies with respect to parameter optimisation for the individual classifiers?"
   ]
  },
  {
   "cell_type": "markdown",
   "metadata": {
    "_cell_guid": "97c78415-8594-0d52-6064-b3467ce98508",
    "_uuid": "7334f1ec0c0d315d14f171d26e9a7d75a5f6c6e7"
   },
   "source": [
    "## *Stacking / Ensemble methods*"
   ]
  },
  {
   "cell_type": "markdown",
   "metadata": {
    "_cell_guid": "8de2c835-4dd2-e308-1bae-db7991c42196",
    "_uuid": "9525bc554ece9ffbefcbfa3073ff1a776fe8ac6f"
   },
   "source": [
    "Each of the individual classifiers we have used above has its strengths and weaknesses, and we should always choose the classifier that's best equipped to handle a certain problem and/or has been found to perform with the highest accuracy. But wouldn't it be nice to combine all these different classifiers to get a more accurate overall prediction? This is possible through an approach called *Ensemble methods*. We have already encountered this strategy in our Random Forests or Bagging estimators above, where the aim was to get a more accurate estimate from combining multiple runs of a single classifier (like a Decision Tree; for instance).\n",
    "\n",
    "Now, we want to combine the results of *different kinds of classifiers* to improve our prediction."
   ]
  },
  {
   "cell_type": "markdown",
   "metadata": {
    "_cell_guid": "3ff88ebf-832c-9ef5-1e91-ff7557a89bf7",
    "_uuid": "5392f47a6dd418f22e876a78f0e77874148119ca"
   },
   "source": [
    "The easiest method to combine different classifiers is through a **Voting Classifier**. It does exactly what the name suggests: each individual classifier makes a certain prediction and then the *majority vote* is used for each row. This majority process can either give all individual votes the same importance or assign different weights to make some classifiers have more impact than others.\n",
    "\n",
    "Voting can be more powerful when used with weights, so that several weaker classifiers can only successfully vote against one/two stronger ones if they consistently agree on a specific prediction. This is expected to increase the accuracy of the final prediction. Read more in the extensive [Kaggle Ensemble Guide](https://mlwave.com/kaggle-ensembling-guide/).\n",
    "\n",
    "Below, we decide to assign different, somewhat arbitrary weight according to how we think each classifier performs. "
   ]
  },
  {
   "cell_type": "code",
   "execution_count": null,
   "metadata": {
    "_cell_guid": "2107691b-d32b-875d-87c8-d04ce15678b5",
    "_execution_state": "idle",
    "_uuid": "69c39ace653224aec50501e0a9ad215e98ed9671",
    "execution": {
     "iopub.status.busy": "2021-09-14T15:03:00.477117Z",
     "iopub.status.idle": "2021-09-14T15:03:00.477694Z"
    }
   },
   "outputs": [],
   "source": [
    "clf_vote = VotingClassifier(\n",
    "    estimators=[\n",
    "        #('tree', clf_tree),\n",
    "        ('knn', clf_knn),\n",
    "        ('svm', clf_svm),\n",
    "        ('extra', clf_ext),\n",
    "       #('gb', clf_gb),\n",
    "        ('xgb', clf_xgb),\n",
    "        ('percep', clf_pctr),\n",
    "        ('logistic', clf_log),\n",
    "        #('RF', clf_rf),\n",
    "        ],\n",
    "    weights=[2,2,3,3,1,2],\n",
    "    voting='hard')\n",
    "clf_vote.fit(X,y)\n",
    "\n",
    "scores = cross_val_score(clf_vote, X, y, cv=5, scoring='accuracy')\n",
    "print(\"Voting: Accuracy: %0.2f (+/- %0.2f)\" % (scores.mean(), scores.std()))\n",
    "\n",
    "#for clf, label in zip(\n",
    "#    [clf_tree,clf_knn,clf_svm,clf_ext,clf_gb,clf_xgb,clf_pctr,clf_log,clf_rf,clf_bag,clf_vote],\n",
    "#    ['tree','knn','svm','extra','gb','xgb','percep','logistic','RF','Bag','Ensemble']):\n",
    "#    scores = cross_val_score(clf, X, y, cv=5, scoring='accuracy')\n",
    "#    print(\"Accuracy: %0.2f (+/- %0.2f) [%s]\" % (scores.mean(), scores.std(), label))"
   ]
  },
  {
   "cell_type": "markdown",
   "metadata": {
    "_cell_guid": "307d71be-e72e-e74c-8e91-c84de290338b",
    "_uuid": "18fbd1bce4d00a0e7b0417a18552fae055f5329e"
   },
   "source": [
    "In the next step, we will try to incorporate the information from the great [Introduction to Ensembling/Stacking in Python by Anisotropic](https://www.kaggle.com/arthurtok/introduction-to-ensembling-stacking-in-python) into our script.\n",
    "\n",
    "We start out by copying the relevant parts of the script verbatim (standing on the shoulders of giants, and so on ...) and making it run in our environment. Afterwards, we will try to gradually adapt and simplify the approach, to make use of the work we have already done above for all the individual classifiers. Hopefully, this will result in a better understanding of stacking.\n",
    "\n",
    "*If you want a step by step overview then have a good look at [Anisotropic's Kernel](https://www.kaggle.com/arthurtok/introduction-to-ensembling-stacking-in-python) and the references therein. Seriously, you should check it out. It's great.*"
   ]
  },
  {
   "cell_type": "code",
   "execution_count": null,
   "metadata": {
    "_cell_guid": "5b6fa9e1-686b-6e86-6fc2-bf58dda3b16c",
    "_execution_state": "idle",
    "_uuid": "dac3a6686a5f54a6f7b9d9cc43e1cb0486e473f6",
    "execution": {
     "iopub.status.busy": "2021-09-14T15:03:00.478295Z",
     "iopub.status.idle": "2021-09-14T15:03:00.478664Z"
    }
   },
   "outputs": [],
   "source": [
    "# adjust these methods to my notation:\n",
    "train = X\n",
    "\n",
    "# training and train/test split parameters\n",
    "ntrain = train.shape[0]\n",
    "ntest = test.shape[0]\n",
    "SEED = 0 # for reproducibility\n",
    "NFOLDS = 5 # set folds for out-of-fold prediction\n",
    "kf = KFold(n_splits=NFOLDS, random_state=SEED)\n",
    "\n",
    "# Class to extend the Sklearn classifier; this basically unifies the way we call each classifier \n",
    "class SklearnHelper(object):\n",
    "    def __init__(self, clf, seed=0, params=None):\n",
    "        params['random_state'] = seed\n",
    "        self.clf = clf(**params)\n",
    "\n",
    "    def train(self, x_train, y_train):\n",
    "        self.clf.fit(x_train, y_train)\n",
    "\n",
    "    def predict(self, x):\n",
    "        return self.clf.predict(x)\n",
    "    \n",
    "    def fit(self,x,y):\n",
    "        return self.clf.fit(x,y)"
   ]
  },
  {
   "cell_type": "code",
   "execution_count": null,
   "metadata": {
    "_cell_guid": "3d60204c-8ae5-460b-b041-aca245b693e7",
    "_execution_state": "idle",
    "_uuid": "eabb9a4c15c479416156f1715595a514658b0a24",
    "execution": {
     "iopub.status.busy": "2021-09-14T15:03:00.479423Z",
     "iopub.status.idle": "2021-09-14T15:03:00.479771Z"
    }
   },
   "outputs": [],
   "source": [
    "# function for out-of-fold prediction\n",
    "def get_oof(clf, x_train, y_train, x_test):\n",
    "    oof_train = np.zeros((ntrain,))\n",
    "    oof_test = np.zeros((ntest,))\n",
    "    oof_test_skf = np.empty((NFOLDS, ntest))\n",
    "    \n",
    "    # split data in NFOLDS training vs testing samples\n",
    "    for i, (train_index, test_index) in enumerate(kf.split(x_train)):\n",
    "        # select train and test sample\n",
    "        x_tr = x_train[train_index]\n",
    "        y_tr = y_train[train_index]\n",
    "        x_te = x_train[test_index]\n",
    "        \n",
    "        # train classifier on training sample\n",
    "        clf.train(x_tr, y_tr)\n",
    "        \n",
    "        # predict classifier for testing sample\n",
    "        oof_train[test_index] = clf.predict(x_te)\n",
    "        # predict classifier for original test sample\n",
    "        oof_test_skf[i, :] = clf.predict(x_test)\n",
    "    \n",
    "    # take the median of all NFOLD test sample predictions\n",
    "    # (changed from mean to preserve binary classification)\n",
    "    oof_test[:] = np.median(oof_test_skf,axis=0)\n",
    "    return oof_train.reshape(-1, 1), oof_test.reshape(-1, 1)"
   ]
  },
  {
   "cell_type": "code",
   "execution_count": null,
   "metadata": {
    "_cell_guid": "1469fbd1-3c96-b30e-4e36-4b8a04772ca8",
    "_execution_state": "idle",
    "_uuid": "57d8c0804696ff2ba7a86fd8729cba012705667e",
    "execution": {
     "iopub.status.busy": "2021-09-14T15:03:00.480360Z",
     "iopub.status.idle": "2021-09-14T15:03:00.480765Z"
    }
   },
   "outputs": [],
   "source": [
    "# Put in our parameters for selected classifiers\n",
    "# Random Forest parameters\n",
    "rf_params = {\n",
    "    'n_estimators': 500,\n",
    "     'warm_start': True, \n",
    "     #'max_features': 0.2,\n",
    "    'max_depth': 6,\n",
    "    'min_samples_leaf': 2,\n",
    "    'max_features' : 'sqrt',\n",
    "}\n",
    "\n",
    "# Extra Trees Parameters\n",
    "et_params = {\n",
    "    'n_estimators':500,\n",
    "    #'max_features': 0.5,\n",
    "    'max_depth': 8,\n",
    "    'min_samples_leaf': 2,\n",
    "}\n",
    "\n",
    "# AdaBoost parameters\n",
    "ada_params = {\n",
    "    'n_estimators': 500,\n",
    "    'learning_rate' : 0.75\n",
    "}\n",
    "\n",
    "# Gradient Boosting parameters\n",
    "gb_params = {\n",
    "    'n_estimators': 500,\n",
    "     #'max_features': 0.2,\n",
    "    'max_depth': 5,\n",
    "    'min_samples_leaf': 2,\n",
    "}\n",
    "\n",
    "# Support Vector Classifier parameters \n",
    "svc_params = {\n",
    "    'kernel' : 'linear',\n",
    "    'C' : 0.025\n",
    "    }"
   ]
  },
  {
   "cell_type": "code",
   "execution_count": null,
   "metadata": {
    "_cell_guid": "f96e94a5-14f5-8b2d-4760-4fe7d4671533",
    "_execution_state": "idle",
    "_uuid": "7f844f9f418a88afcf8dcfc242ca1e76979cd03f",
    "execution": {
     "iopub.status.busy": "2021-09-14T15:03:00.481595Z",
     "iopub.status.idle": "2021-09-14T15:03:00.481959Z"
    }
   },
   "outputs": [],
   "source": [
    "# Create objects for each classifier\n",
    "rf = SklearnHelper(clf=RandomForestClassifier, seed=SEED, params=rf_params)\n",
    "et = SklearnHelper(clf=ExtraTreesClassifier, seed=SEED, params=et_params)\n",
    "ada = SklearnHelper(clf=AdaBoostClassifier, seed=SEED, params=ada_params)\n",
    "gb = SklearnHelper(clf=GradientBoostingClassifier, seed=SEED, params=gb_params)\n",
    "svc = SklearnHelper(clf=svm.SVC, seed=SEED, params=svc_params)"
   ]
  },
  {
   "cell_type": "code",
   "execution_count": null,
   "metadata": {
    "_cell_guid": "6fa98b41-b7e7-ac60-38ab-0c5d6d3731e2",
    "_execution_state": "idle",
    "_uuid": "0246187ef633460deb2a41106d6adfe34e70070f",
    "execution": {
     "iopub.status.busy": "2021-09-14T15:03:00.482765Z",
     "iopub.status.idle": "2021-09-14T15:03:00.483137Z"
    }
   },
   "outputs": [],
   "source": [
    "# Create Numpy arrays of train, test and target dataframes to feed into our models\n",
    "y_train = y\n",
    "train = X\n",
    "foo = test.loc[:,cols]\n",
    "x_train = train.values \n",
    "x_test = foo.values"
   ]
  },
  {
   "cell_type": "code",
   "execution_count": null,
   "metadata": {
    "_cell_guid": "8187da31-282d-af3b-8ffb-c1b32521da58",
    "_execution_state": "idle",
    "_uuid": "8e247e9f87a21dc6a9b268ea58d0abfa3e2942f0",
    "execution": {
     "iopub.status.busy": "2021-09-14T15:03:00.483715Z",
     "iopub.status.idle": "2021-09-14T15:03:00.484052Z"
    }
   },
   "outputs": [],
   "source": [
    "# Create our OOF train and test predictions. These base results will be used as new features\n",
    "et_oof_train, et_oof_test = get_oof(et, x_train, y_train, x_test) # Extra Trees\n",
    "rf_oof_train, rf_oof_test = get_oof(rf,x_train, y_train, x_test) # Random Forest\n",
    "ada_oof_train, ada_oof_test = get_oof(ada, x_train, y_train, x_test) # AdaBoost \n",
    "gb_oof_train, gb_oof_test = get_oof(gb,x_train, y_train, x_test) # Gradient Boost\n",
    "svc_oof_train, svc_oof_test = get_oof(svc,x_train, y_train, x_test) # Support Vector Classifier\n",
    "\n",
    "print(\"Training is complete\")"
   ]
  },
  {
   "cell_type": "code",
   "execution_count": null,
   "metadata": {
    "_cell_guid": "93ddf5ed-80d4-d88f-1202-32d027a0c8e0",
    "_execution_state": "idle",
    "_uuid": "eb9f480976236cd2e37ac5c047500dfd445172dd",
    "execution": {
     "iopub.status.busy": "2021-09-14T15:03:00.484729Z",
     "iopub.status.idle": "2021-09-14T15:03:00.485118Z"
    }
   },
   "outputs": [],
   "source": [
    "base_predictions_train = pd.DataFrame( {'RandomForest': rf_oof_train.ravel(),\n",
    "     'ExtraTrees': et_oof_train.ravel(),\n",
    "     'AdaBoost': ada_oof_train.ravel(),\n",
    "      'SVM' : svc_oof_train.ravel(),\n",
    "      'GradientBoost': gb_oof_train.ravel()\n",
    "    })\n",
    "base_predictions_train.head()"
   ]
  },
  {
   "cell_type": "code",
   "execution_count": null,
   "metadata": {
    "_cell_guid": "fa802ef4-2dc0-87d2-6fd3-8aa79b4b1085",
    "_execution_state": "idle",
    "_uuid": "194e696b36817085444ff5be48b210484e6d110b",
    "execution": {
     "iopub.status.busy": "2021-09-14T15:03:00.485894Z",
     "iopub.status.idle": "2021-09-14T15:03:00.486257Z"
    }
   },
   "outputs": [],
   "source": [
    "plt.figure(figsize=(12,10))\n",
    "foo = sns.heatmap(base_predictions_train.corr(), vmax=1.0, square=True, annot=True)"
   ]
  },
  {
   "cell_type": "markdown",
   "metadata": {
    "_cell_guid": "dbeb1bc6-d2c0-1f51-5fe4-f50358001b3b",
    "_uuid": "c701721e547f72f7279f361a5b2e342fb7a1cd21"
   },
   "source": [
    "Stacking of classifiers that have less correlation gives better results. Intuitively, classifiers that are highly correlated, like *ExtraTrees* and *GradientBoost* above, are already so similar that stacking doesn't change the result in a significant way. This is reflected in the relatively low correlation index of the SVM with everything else.\n",
    "\n",
    "Therefore, it would be more useful to replace the predominantly tree-based sample of classifiers with a more diverse set. "
   ]
  },
  {
   "cell_type": "code",
   "execution_count": null,
   "metadata": {
    "_cell_guid": "477ed08e-832e-ba08-8cd6-892e81ef77ab",
    "_execution_state": "idle",
    "_uuid": "3856d5d0e8bdb7f3534bbccb5736bb7423cd9c4c",
    "execution": {
     "iopub.status.busy": "2021-09-14T15:03:00.486879Z",
     "iopub.status.idle": "2021-09-14T15:03:00.487237Z"
    }
   },
   "outputs": [],
   "source": [
    "x_train = np.concatenate(( et_oof_train, rf_oof_train, ada_oof_train, gb_oof_train, svc_oof_train), axis=1)\n",
    "x_test = np.concatenate(( et_oof_test, rf_oof_test, ada_oof_test, gb_oof_test, svc_oof_test), axis=1)"
   ]
  },
  {
   "cell_type": "code",
   "execution_count": null,
   "metadata": {
    "_cell_guid": "6ccc177c-e1ad-b33d-655a-f9e05dbfec25",
    "_execution_state": "idle",
    "_uuid": "985702ee116de924c597b01dd660795291c9cac5",
    "execution": {
     "iopub.status.busy": "2021-09-14T15:03:00.487832Z",
     "iopub.status.idle": "2021-09-14T15:03:00.488374Z"
    }
   },
   "outputs": [],
   "source": [
    "x_train"
   ]
  },
  {
   "cell_type": "code",
   "execution_count": null,
   "metadata": {
    "_cell_guid": "ac7817b8-5842-e5d7-befa-bc0db0f5e421",
    "_execution_state": "idle",
    "_uuid": "2fd29260b55578d992fcedf055dd9a46f7628e9e",
    "execution": {
     "iopub.status.busy": "2021-09-14T15:03:00.488935Z",
     "iopub.status.idle": "2021-09-14T15:03:00.489323Z"
    }
   },
   "outputs": [],
   "source": [
    "clf_stack = xgb.XGBClassifier(\n",
    "    #learning_rate = 0.02,\n",
    " n_estimators= 2000,\n",
    " max_depth= 4,\n",
    " min_child_weight= 2,\n",
    " #gamma=1,\n",
    " gamma=0.9,                        \n",
    " subsample=0.8,\n",
    " colsample_bytree=0.8,\n",
    " objective= 'binary:logistic',\n",
    " scale_pos_weight=1)\n",
    "clf_stack = clf_stack.fit(x_train, y_train)\n",
    "stack_pred = clf_stack.predict(x_test)"
   ]
  },
  {
   "cell_type": "code",
   "execution_count": null,
   "metadata": {
    "_cell_guid": "83547795-ca8c-c4cf-86a0-3cc4092816de",
    "_execution_state": "idle",
    "_uuid": "06abe76ba7bcffcf6f9b185c0e072c5855d7fa2c",
    "execution": {
     "iopub.status.busy": "2021-09-14T15:03:00.489891Z",
     "iopub.status.idle": "2021-09-14T15:03:00.490252Z"
    }
   },
   "outputs": [],
   "source": [
    "scores = cross_val_score(clf_stack, x_train, y_train, cv=5)\n",
    "print(scores)\n",
    "print(\"Mean score = %.3f, Std deviation = %.3f\"%(np.mean(scores),np.std(scores)))"
   ]
  },
  {
   "cell_type": "markdown",
   "metadata": {
    "_cell_guid": "8dd24167-7fb9-1f2f-73ac-fca0ed0572b3",
    "_uuid": "06469a7ddf920b46b4974a409f4a389cf25babf7"
   },
   "source": [
    "Coming soon: The next step will use the pre-packaged stacking classifier of the mlxtend package. "
   ]
  },
  {
   "cell_type": "markdown",
   "metadata": {
    "_cell_guid": "16a30923-b40f-b7f8-25f6-0846068cda7c",
    "_uuid": "78befb879be6e66a2e32cd74e6e1d4bb1f0d5998"
   },
   "source": [
    "<a id='submit'></a>"
   ]
  },
  {
   "cell_type": "markdown",
   "metadata": {
    "_cell_guid": "cfc1b106-998d-129a-9a8a-e4ff51a053d8",
    "_uuid": "05d35f7837b4fc2ed7a06bd2415219ba8e41d8f8"
   },
   "source": [
    "[Go to the top of the page](#top)"
   ]
  },
  {
   "cell_type": "markdown",
   "metadata": {
    "_cell_guid": "c4ba30af-2d5f-319d-2965-37a6e67d848f",
    "_uuid": "51f82e967aabbbc5b16cbf93848df5535f33e82d"
   },
   "source": [
    "# 8. Preparing our prediction for submission"
   ]
  },
  {
   "cell_type": "markdown",
   "metadata": {
    "_cell_guid": "9566b05e-e801-93bd-9dd8-fbf2ad79df66",
    "_uuid": "23dc21633ad54baa8c194d1c22fa7cbb5e4c3217"
   },
   "source": [
    "**Finally**, we pick our favourite classifier and **predict** the expected survival for the passengers in the *test* data set. The result is **written to a submission file** according to the competition rules (418 rows; only include the columns *PassengerId* and *Survived*). "
   ]
  },
  {
   "cell_type": "code",
   "execution_count": null,
   "metadata": {
    "_cell_guid": "07f03241-91f3-6fc5-7964-4f0d109c3b07",
    "_execution_state": "idle",
    "_uuid": "32a4c04f9dbe393fb26bcfa208548cb5bf54f309",
    "execution": {
     "iopub.status.busy": "2021-09-14T15:03:00.490804Z",
     "iopub.status.idle": "2021-09-14T15:03:00.491170Z"
    }
   },
   "outputs": [],
   "source": [
    "clf = clf_vote\n",
    "df2 = test.loc[:,cols].fillna(method='pad')\n",
    "surv_pred = clf.predict(df2)"
   ]
  },
  {
   "cell_type": "code",
   "execution_count": null,
   "metadata": {
    "_cell_guid": "12c77376-6b7f-854b-18c2-6af5b1669e20",
    "_execution_state": "idle",
    "_uuid": "3eaa5007c248a3058b3c90ef394d205f6ef466fd",
    "execution": {
     "iopub.status.busy": "2021-09-14T15:03:00.491780Z",
     "iopub.status.idle": "2021-09-14T15:03:00.492177Z"
    }
   },
   "outputs": [],
   "source": [
    "submit = pd.DataFrame({'PassengerId' : test.loc[:,'PassengerId'],\n",
    "                       #'Survived': surv_pred.T})\n",
    "                       'Survived': stack_pred.T})\n",
    "submit.to_csv(\"../working/submit.csv\", index=False)\n",
    "#submit.to_csv(\"submit.csv\", index=False)"
   ]
  },
  {
   "cell_type": "code",
   "execution_count": null,
   "metadata": {
    "_cell_guid": "14abd93e-401b-bde2-26f7-d20922f44023",
    "_execution_state": "idle",
    "_uuid": "eb43f4d9337acc5dd9755f4cb47499aaf2b3029b",
    "execution": {
     "iopub.status.busy": "2021-09-14T15:03:00.492790Z",
     "iopub.status.idle": "2021-09-14T15:03:00.493214Z"
    }
   },
   "outputs": [],
   "source": [
    "submit.head()"
   ]
  },
  {
   "cell_type": "code",
   "execution_count": null,
   "metadata": {
    "_cell_guid": "11322953-947e-d6b1-762f-c82203986202",
    "_execution_state": "idle",
    "_uuid": "380fd84064beeac00daeae2a6e44f1089fb4706a",
    "execution": {
     "iopub.status.busy": "2021-09-14T15:03:00.493761Z",
     "iopub.status.idle": "2021-09-14T15:03:00.494164Z"
    }
   },
   "outputs": [],
   "source": [
    "submit.shape"
   ]
  },
  {
   "cell_type": "markdown",
   "metadata": {
    "_cell_guid": "494ca6ec-85bd-70d3-fa10-4875e79295ff",
    "_uuid": "52dc0721acdde9b51c0f74ee04a4eee0e143b035"
   },
   "source": [
    "The file *submit.csv* will now appear in the *Output* tab of this kernel. From there you can download it and submit it by going to \"Leaderboard\" -> \"Submit Predictions\" in the tab list below the competition header. \n",
    "\n",
    "I recommend to briefly describe the details of your submission (e.g. which classifier, which meta-parameters, ...) in the corresponding text field, so that you remember the model for this score and don't have to re-submit something that you had done already.\n",
    "\n",
    "&nbsp;\n",
    "\n",
    "*Best of success and enjoy learning!*"
   ]
  },
  {
   "cell_type": "code",
   "execution_count": null,
   "metadata": {
    "_cell_guid": "39680d9f-de9c-c8dc-7ea7-85e1d1b1c220",
    "_execution_state": "idle",
    "_uuid": "6d74c57bdbafae260f32260c2147a97b0664c342",
    "jupyter": {
     "outputs_hidden": true
    }
   },
   "outputs": [],
   "source": []
  }
 ],
 "metadata": {
  "kernelspec": {
   "display_name": "Python 3 (ipykernel)",
   "language": "python",
   "name": "python3"
  },
  "language_info": {
   "codemirror_mode": {
    "name": "ipython",
    "version": 3
   },
   "file_extension": ".py",
   "mimetype": "text/x-python",
   "name": "python",
   "nbconvert_exporter": "python",
   "pygments_lexer": "ipython3",
   "version": "3.8.11"
  }
 },
 "nbformat": 4,
 "nbformat_minor": 4
}
