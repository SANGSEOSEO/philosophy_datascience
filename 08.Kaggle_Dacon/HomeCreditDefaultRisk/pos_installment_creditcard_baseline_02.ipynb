{
 "cells": [
  {
   "cell_type": "markdown",
   "metadata": {
    "id": "L-IyEJbo7oMz"
   },
   "source": [
    "#### data cleansing, EDA, model creation\n",
    " - POS_CASH_balance, installments_payments, credit_card_balance "
   ]
  },
  {
   "cell_type": "code",
   "execution_count": 12,
   "metadata": {
    "executionInfo": {
     "elapsed": 1078,
     "status": "ok",
     "timestamp": 1617091661339,
     "user": {
      "displayName": "sangseo seo",
      "photoUrl": "",
      "userId": "10041771000758060897"
     },
     "user_tz": -540
    },
    "id": "iv1bHaOK7oM2"
   },
   "outputs": [],
   "source": [
    "import pandas as pd\n",
    "import numpy as np\n",
    "import matplotlib.pyplot as plt\n",
    "import seaborn as sns\n",
    "%matplotlib inline"
   ]
  },
  {
   "cell_type": "markdown",
   "metadata": {
    "id": "pc4uy1NyAbNP"
   },
   "source": [
    "##### load dataset under colab"
   ]
  },
  {
   "cell_type": "code",
   "execution_count": 13,
   "metadata": {
    "colab": {
     "base_uri": "https://localhost:8080/"
    },
    "executionInfo": {
     "elapsed": 769,
     "status": "ok",
     "timestamp": 1617091663976,
     "user": {
      "displayName": "sangseo seo",
      "photoUrl": "",
      "userId": "10041771000758060897"
     },
     "user_tz": -540
    },
    "id": "xx7HdPp1zm4F",
    "outputId": "ff2fa0ee-2236-435b-e055-732ae8736115"
   },
   "outputs": [],
   "source": [
    "import os, sys"
   ]
  },
  {
   "cell_type": "code",
   "execution_count": 14,
   "metadata": {
    "executionInfo": {
     "elapsed": 779,
     "status": "ok",
     "timestamp": 1617091666325,
     "user": {
      "displayName": "sangseo seo",
      "photoUrl": "",
      "userId": "10041771000758060897"
     },
     "user_tz": -540
    },
    "id": "1X1nR8MzztF3"
   },
   "outputs": [],
   "source": [
    "default_dir = \"../home-credit-default-risk/\""
   ]
  },
  {
   "cell_type": "markdown",
   "metadata": {
    "id": "2qVqrmAx7oNA"
   },
   "source": [
    "##### column data type convert to reduce memory allocated size"
   ]
  },
  {
   "cell_type": "code",
   "execution_count": 15,
   "metadata": {
    "executionInfo": {
     "elapsed": 53847,
     "status": "ok",
     "timestamp": 1617091723503,
     "user": {
      "displayName": "sangseo seo",
      "photoUrl": "",
      "userId": "10041771000758060897"
     },
     "user_tz": -540
    },
    "id": "AVD8cqcv7oNE"
   },
   "outputs": [],
   "source": [
    "def get_balance_data():\n",
    "    pos_dtype = {\n",
    "        'SK_ID_PREV':np.uint32, 'SK_ID_CURR':np.uint32, 'MONTHS_BALANCE':np.int32, 'SK_DPD':np.int32,\n",
    "        'SK_DPD_DEF':np.int32, 'CNT_INSTALMENT':np.float32,'CNT_INSTALMENT_FUTURE':np.float32\n",
    "    }\n",
    "    \n",
    "    install_dtype = {\n",
    "        'SK_ID_PREV':np.uint32, 'SK_ID_CURR':np.uint32, 'NUM_INSTALMENT_NUMBER':np.int32, 'NUM_INSTALMENT_VERSION':np.float32,\n",
    "        'DAYS_INSTALMENT':np.float32, 'DAYS_ENTRY_PAYMENT':np.float32, 'AMT_INSTALMENT':np.float32, 'AMT_PAYMENT':np.float32\n",
    "    }\n",
    "    \n",
    "    card_dtype = {\n",
    "        'SK_ID_PREV':np.uint32, 'SK_ID_CURR':np.uint32, 'MONTHS_BALANCE':np.int16,\n",
    "        'AMT_CREDIT_LIMIT_ACTUAL':np.int32, 'CNT_DRAWINGS_CURRENT':np.int32, 'SK_DPD':np.int32,'SK_DPD_DEF':np.int32,\n",
    "        'AMT_BALANCE':np.float32, 'AMT_DRAWINGS_ATM_CURRENT':np.float32, 'AMT_DRAWINGS_CURRENT':np.float32,\n",
    "        'AMT_DRAWINGS_OTHER_CURRENT':np.float32, 'AMT_DRAWINGS_POS_CURRENT':np.float32, 'AMT_INST_MIN_REGULARITY':np.float32,\n",
    "        'AMT_PAYMENT_CURRENT':np.float32, 'AMT_PAYMENT_TOTAL_CURRENT':np.float32, 'AMT_RECEIVABLE_PRINCIPAL':np.float32,\n",
    "        'AMT_RECIVABLE':np.float32, 'AMT_TOTAL_RECEIVABLE':np.float32, 'CNT_DRAWINGS_ATM_CURRENT':np.float32,\n",
    "        'CNT_DRAWINGS_OTHER_CURRENT':np.float32, 'CNT_DRAWINGS_POS_CURRENT':np.float32, 'CNT_INSTALMENT_MATURE_CUM':np.float32\n",
    "    }\n",
    "        \n",
    "    pos_bal = pd.read_csv(os.path.join(default_dir,'POS_CASH_balance.csv'), dtype=pos_dtype)\n",
    "    install = pd.read_csv(os.path.join(default_dir,'installments_payments.csv'), dtype=install_dtype)\n",
    "    card_bal = pd.read_csv(os.path.join(default_dir, 'credit_card_balance.csv'), dtype=card_dtype)\n",
    "    \n",
    "    return pos_bal, install, card_bal\n",
    "\n",
    "pos_bal, install, card_bal = get_balance_data()"
   ]
  },
  {
   "cell_type": "code",
   "execution_count": 10,
   "metadata": {
    "colab": {
     "base_uri": "https://localhost:8080/"
    },
    "executionInfo": {
     "elapsed": 40994,
     "status": "ok",
     "timestamp": 1617091179602,
     "user": {
      "displayName": "sangseo seo",
      "photoUrl": "",
      "userId": "10041771000758060897"
     },
     "user_tz": -540
    },
    "id": "GBJCdDLB7oNN",
    "outputId": "18e5c087-20a9-49bf-9485-c7d5ae77b72c"
   },
   "outputs": [
    {
     "data": {
      "text/plain": [
       "((10001358, 8), (13605401, 8), (3840312, 23))"
      ]
     },
     "execution_count": 10,
     "metadata": {},
     "output_type": "execute_result"
    }
   ],
   "source": [
    "pos_bal.shape, install.shape, card_bal.shape"
   ]
  },
  {
   "cell_type": "markdown",
   "metadata": {
    "id": "0cFrO--E0aFF"
   },
   "source": [
    "#### load package"
   ]
  },
  {
   "cell_type": "code",
   "execution_count": 16,
   "metadata": {
    "executionInfo": {
     "elapsed": 1336,
     "status": "ok",
     "timestamp": 1617091746573,
     "user": {
      "displayName": "sangseo seo",
      "photoUrl": "",
      "userId": "10041771000758060897"
     },
     "user_tz": -540
    },
    "id": "tVw3yM5S0YUB"
   },
   "outputs": [],
   "source": [
    "from sklearn.model_selection import train_test_split\n",
    "from lightgbm import LGBMClassifier"
   ]
  },
  {
   "cell_type": "markdown",
   "metadata": {
    "id": "Ccpi4fK752Km"
   },
   "source": [
    "#### EDA , Feature Engineering"
   ]
  },
  {
   "cell_type": "code",
   "execution_count": 18,
   "metadata": {
    "executionInfo": {
     "elapsed": 1515,
     "status": "ok",
     "timestamp": 1617091750265,
     "user": {
      "displayName": "sangseo seo",
      "photoUrl": "",
      "userId": "10041771000758060897"
     },
     "user_tz": -540
    },
    "id": "a06Rh50x7oNU"
   },
   "outputs": [],
   "source": [
    "def get_apps_processed(apps):\n",
    "    \"\"\"\n",
    "    feature engineering for apps\n",
    "    \"\"\"\n",
    "\n",
    "    # 1.EXT_SOURCE_X FEATURE \n",
    "    apps['APPS_EXT_SOURCE_MEAN'] = apps[['EXT_SOURCE_1', 'EXT_SOURCE_2', 'EXT_SOURCE_3']].mean(axis = 1)\n",
    "    apps['APPS_EXT_SOURCE_STD'] = apps[['EXT_SOURCE_1', 'EXT_SOURCE_2', 'EXT_SOURCE_3']].std(axis=1)\n",
    "    apps['APPS_EXT_SOURCE_STD'] = apps['APPS_EXT_SOURCE_STD'].fillna(apps['APPS_EXT_SOURCE_STD'].mean())\n",
    "    \n",
    "    # AMT_CREDIT 비율로 Feature 가공\n",
    "    apps['APPS_ANNUITY_CREDIT_RATIO'] = apps['AMT_ANNUITY']/apps['AMT_CREDIT']\n",
    "    apps['APPS_GOODS_CREDIT_RATIO'] = apps['AMT_GOODS_PRICE']/apps['AMT_CREDIT']\n",
    "    \n",
    "    # AMT_INCOME_TOTAL 비율로 Feature 가공\n",
    "    apps['APPS_ANNUITY_INCOME_RATIO'] = apps['AMT_ANNUITY']/apps['AMT_INCOME_TOTAL']\n",
    "    apps['APPS_CREDIT_INCOME_RATIO'] = apps['AMT_CREDIT']/apps['AMT_INCOME_TOTAL']\n",
    "    apps['APPS_GOODS_INCOME_RATIO'] = apps['AMT_GOODS_PRICE']/apps['AMT_INCOME_TOTAL']\n",
    "    apps['APPS_CNT_FAM_INCOME_RATIO'] = apps['AMT_INCOME_TOTAL']/apps['CNT_FAM_MEMBERS']\n",
    "    \n",
    "    # DAYS_BIRTH, DAYS_EMPLOYED 비율로 Feature 가공\n",
    "    apps['APPS_EMPLOYED_BIRTH_RATIO'] = apps['DAYS_EMPLOYED']/apps['DAYS_BIRTH']\n",
    "    apps['APPS_INCOME_EMPLOYED_RATIO'] = apps['AMT_INCOME_TOTAL']/apps['DAYS_EMPLOYED']\n",
    "    apps['APPS_INCOME_BIRTH_RATIO'] = apps['AMT_INCOME_TOTAL']/apps['DAYS_BIRTH']\n",
    "    apps['APPS_CAR_BIRTH_RATIO'] = apps['OWN_CAR_AGE'] / apps['DAYS_BIRTH']\n",
    "    apps['APPS_CAR_EMPLOYED_RATIO'] = apps['OWN_CAR_AGE'] / apps['DAYS_EMPLOYED']\n",
    "    \n",
    "    return apps\n",
    "\n",
    "def get_prev_processed(prev):\n",
    "  \"\"\"\n",
    "  feature engineering \n",
    "  for previouse application credit history\n",
    "  \"\"\"\n",
    "  prev['PREV_CREDIT_DIFF'] = prev['AMT_APPLICATION'] - prev['AMT_CREDIT']\n",
    "  prev['PREV_GOODS_DIFF'] = prev['AMT_APPLICATION'] - prev['AMT_GOODS_PRICE']\n",
    "  prev['PREV_CREDIT_APPL_RATIO'] = prev['AMT_CREDIT']/prev['AMT_APPLICATION']\n",
    "  # prev['PREV_ANNUITY_APPL_RATIO'] = prev['AMT_ANNUITY']/prev['AMT_APPLICATION']\n",
    "  prev['PREV_GOODS_APPL_RATIO'] = prev['AMT_GOODS_PRICE']/prev['AMT_APPLICATION']\n",
    "  \n",
    "  # Data Cleansing\n",
    "  prev['DAYS_FIRST_DRAWING'].replace(365243, np.nan, inplace= True)\n",
    "  prev['DAYS_FIRST_DUE'].replace(365243, np.nan, inplace= True)\n",
    "  prev['DAYS_LAST_DUE_1ST_VERSION'].replace(365243, np.nan, inplace= True)\n",
    "  prev['DAYS_LAST_DUE'].replace(365243, np.nan, inplace= True)\n",
    "  prev['DAYS_TERMINATION'].replace(365243, np.nan, inplace= True)\n",
    "\n",
    "  # substraction between DAYS_LAST_DUE_1ST_VERSION and DAYS_LAST_DUE\n",
    "  prev['PREV_DAYS_LAST_DUE_DIFF'] = prev['DAYS_LAST_DUE_1ST_VERSION'] - prev['DAYS_LAST_DUE']\n",
    "  \n",
    "  # 1.Calculate the interest rate\n",
    "  all_pay = prev['AMT_ANNUITY'] * prev['CNT_PAYMENT']\n",
    "  prev['PREV_INTERESTS_RATE'] = (all_pay/prev['AMT_CREDIT'] - 1)/prev['CNT_PAYMENT']\n",
    "      \n",
    "  return prev\n",
    "    \n",
    "    \n",
    "def get_prev_amt_agg(prev):\n",
    "  \"\"\"\n",
    "  feature engineering for the previous credit appliction\n",
    "  \"\"\"\n",
    "  # 새롭게 생성된 대출 신청액 대비 다른 금액 차이 및 비율로 aggregation 수행. \n",
    "  agg_dict = {\n",
    "        # 기존 컬럼 aggregation. \n",
    "      'SK_ID_CURR':['count'],\n",
    "      'AMT_CREDIT':['mean', 'max', 'sum'],\n",
    "      'AMT_ANNUITY':['mean', 'max', 'sum'], \n",
    "      'AMT_APPLICATION':['mean', 'max', 'sum'],\n",
    "      'AMT_DOWN_PAYMENT':['mean', 'max', 'sum'],\n",
    "      'AMT_GOODS_PRICE':['mean', 'max', 'sum'],\n",
    "      'RATE_DOWN_PAYMENT': ['min', 'max', 'mean'],\n",
    "      'DAYS_DECISION': ['min', 'max', 'mean'],\n",
    "      'CNT_PAYMENT': ['mean', 'sum'],\n",
    "      # 가공 컬럼 aggregation\n",
    "      'PREV_CREDIT_DIFF':['mean', 'max', 'sum'], \n",
    "      'PREV_CREDIT_APPL_RATIO':['mean', 'max'],\n",
    "      'PREV_GOODS_DIFF':['mean', 'max', 'sum'],\n",
    "      'PREV_GOODS_APPL_RATIO':['mean', 'max'],\n",
    "      'PREV_DAYS_LAST_DUE_DIFF':['mean', 'max', 'sum'],\n",
    "      'PREV_INTERESTS_RATE':['mean', 'max']\n",
    "  }\n",
    "\n",
    "  prev_group = prev.groupby('SK_ID_CURR')\n",
    "  prev_amt_agg = prev_group.agg(agg_dict)\n",
    "\n",
    "  # multi index 컬럼을 '_'로 연결하여 컬럼명 변경\n",
    "  prev_amt_agg.columns = [\"PREV_\"+ \"_\".join(x).upper() for x in prev_amt_agg.columns.ravel()]\n",
    "  \n",
    "  return prev_amt_agg\n",
    "\n",
    "def get_prev_refused_appr_agg(prev):\n",
    "  \"\"\"\n",
    "  PREV_APPROVED_COUNT : Credit application approved count\n",
    "  PREV_REFUSED_COUNT :  Credit application refused count\n",
    "  \"\"\"\n",
    "  prev_refused_appr_group = prev[prev['NAME_CONTRACT_STATUS'].isin(['Approved', 'Refused'])].groupby([ 'SK_ID_CURR', 'NAME_CONTRACT_STATUS'])\n",
    "  # unstack() \n",
    "  prev_refused_appr_agg = prev_refused_appr_group['SK_ID_CURR'].count().unstack()\n",
    "\n",
    "  # rename column \n",
    "  prev_refused_appr_agg.columns = ['PREV_APPROVED_COUNT', 'PREV_REFUSED_COUNT' ]\n",
    "  \n",
    "  # NaN값은 모두 0으로 변경. \n",
    "  prev_refused_appr_agg = prev_refused_appr_agg.fillna(0)\n",
    "  \n",
    "  return prev_refused_appr_agg\n",
    "\n",
    "#### DAYS_DECISION이 -365일 이전 데이터 세트 추가 가공. \n",
    "\n",
    "def get_prev_days365_agg(prev):\n",
    "  \"\"\"\n",
    "  DAYS_DESCISION means How many days have been take since the previous credit application made.\n",
    "  Somewhat this feature is important.\n",
    "  \"\"\"\n",
    "  cond_days365 = prev['DAYS_DECISION'] > -365\n",
    "  prev_days365_group = prev[cond_days365].groupby('SK_ID_CURR')\n",
    "  agg_dict = {\n",
    "        # 기존 컬럼 aggregation. \n",
    "      'SK_ID_CURR':['count'],\n",
    "      'AMT_CREDIT':['mean', 'max', 'sum'],\n",
    "      'AMT_ANNUITY':['mean', 'max', 'sum'], \n",
    "      'AMT_APPLICATION':['mean', 'max', 'sum'],\n",
    "      'AMT_DOWN_PAYMENT':['mean', 'max', 'sum'],\n",
    "      'AMT_GOODS_PRICE':['mean', 'max', 'sum'],\n",
    "      'RATE_DOWN_PAYMENT': ['min', 'max', 'mean'],\n",
    "      'DAYS_DECISION': ['min', 'max', 'mean'],\n",
    "      'CNT_PAYMENT': ['mean', 'sum'],\n",
    "      # 가공 컬럼 aggregation\n",
    "      'PREV_CREDIT_DIFF':['mean', 'max', 'sum'], \n",
    "      'PREV_CREDIT_APPL_RATIO':['mean', 'max'],\n",
    "      'PREV_GOODS_DIFF':['mean', 'max', 'sum'],\n",
    "      'PREV_GOODS_APPL_RATIO':['mean', 'max'],\n",
    "      'PREV_DAYS_LAST_DUE_DIFF':['mean', 'max', 'sum'],\n",
    "      'PREV_INTERESTS_RATE':['mean', 'max']\n",
    "  }\n",
    "  \n",
    "  prev_days365_agg = prev_days365_group.agg(agg_dict)\n",
    "\n",
    "  # multi index 컬럼을 '_'로 연결하여 컬럼명 변경\n",
    "  prev_days365_agg.columns = [\"PREV_D365_\"+ \"_\".join(x).upper() for x in prev_days365_agg.columns.ravel()]\n",
    "  \n",
    "  return prev_days365_agg\n",
    "    \n",
    "def get_prev_agg(prev):\n",
    "    prev = get_prev_processed(prev)\n",
    "    prev_amt_agg = get_prev_amt_agg(prev)\n",
    "    prev_refused_appr_agg = get_prev_refused_appr_agg(prev)\n",
    "    prev_days365_agg = get_prev_days365_agg(prev)\n",
    "    \n",
    "    # prev_amt_agg와 조인. \n",
    "    prev_agg = prev_amt_agg.merge(prev_refused_appr_agg, on='SK_ID_CURR', how='left')\n",
    "    prev_agg = prev_agg.merge(prev_days365_agg, on='SK_ID_CURR', how='left')\n",
    "    # SK_ID_CURR별 과거 대출건수 대비 APPROVED_COUNT 및 REFUSED_COUNT 비율 생성. \n",
    "    prev_agg['PREV_REFUSED_RATIO'] = prev_agg['PREV_REFUSED_COUNT']/prev_agg['PREV_SK_ID_CURR_COUNT']\n",
    "    prev_agg['PREV_APPROVED_RATIO'] = prev_agg['PREV_APPROVED_COUNT']/prev_agg['PREV_SK_ID_CURR_COUNT']\n",
    "    # 'PREV_REFUSED_COUNT', 'PREV_APPROVED_COUNT' 컬럼 drop \n",
    "    prev_agg = prev_agg.drop(['PREV_REFUSED_COUNT', 'PREV_APPROVED_COUNT'], axis=1)\n",
    "    \n",
    "    return prev_agg\n",
    "\n",
    "# bureau 채무 완료 날짜 및 대출 금액 대비 채무 금액 관련 컬럼 가공.\n",
    "def get_bureau_processed(bureau):\n",
    "    # 예정 채무 시작 및 완료일과 실제 채무 완료일간의 차이 및 날짜 비율 가공.  \n",
    "    bureau['BUREAU_ENDDATE_FACT_DIFF'] = bureau['DAYS_CREDIT_ENDDATE'] - bureau['DAYS_ENDDATE_FACT']\n",
    "    bureau['BUREAU_CREDIT_FACT_DIFF'] = bureau['DAYS_CREDIT'] - bureau['DAYS_ENDDATE_FACT']\n",
    "    bureau['BUREAU_CREDIT_ENDDATE_DIFF'] = bureau['DAYS_CREDIT'] - bureau['DAYS_CREDIT_ENDDATE']\n",
    "  \n",
    "    # 채무 금액 대비/대출 금액 비율 및 차이 가공\n",
    "    bureau['BUREAU_CREDIT_DEBT_RATIO']=bureau['AMT_CREDIT_SUM_DEBT']/bureau['AMT_CREDIT_SUM']\n",
    "    #bureau['BUREAU_CREDIT_DEBT_DIFF'] = bureau['AMT_CREDIT_SUM'] - bureau['AMT_CREDIT_SUM_DEBT']\n",
    "    bureau['BUREAU_CREDIT_DEBT_DIFF'] = bureau['AMT_CREDIT_SUM_DEBT'] - bureau['AMT_CREDIT_SUM']\n",
    "    \n",
    "    # 연체 여부 및 120일 이상 연체 여부 가공\n",
    "    bureau['BUREAU_IS_DPD'] = bureau['CREDIT_DAY_OVERDUE'].apply(lambda x: 1 if x > 0 else 0)\n",
    "    bureau['BUREAU_IS_DPD_OVER120'] = bureau['CREDIT_DAY_OVERDUE'].apply(lambda x: 1 if x >120 else 0)\n",
    "    \n",
    "    return bureau\n",
    "\n",
    "\n",
    "def get_bureau_day_amt_agg(bureau):\n",
    "  '''\n",
    "  bureau 주요 컬럼 및 앞에서 채무 및 대출금액 관련 컬럼들로 SK_ID_CURR 레벨의 aggregation 컬럼 생성 \n",
    "  '''      \n",
    "  bureau_agg_dict = {\n",
    "  'SK_ID_BUREAU':['count'],\n",
    "  'DAYS_CREDIT':['min', 'max', 'mean'],\n",
    "  'CREDIT_DAY_OVERDUE':['min', 'max', 'mean'],\n",
    "  'DAYS_CREDIT_ENDDATE':['min', 'max', 'mean'],\n",
    "  'DAYS_ENDDATE_FACT':['min', 'max', 'mean'],\n",
    "  'AMT_CREDIT_MAX_OVERDUE': ['max', 'mean'],\n",
    "  'AMT_CREDIT_SUM': ['max', 'mean', 'sum'],\n",
    "  'AMT_CREDIT_SUM_DEBT': ['max', 'mean', 'sum'],\n",
    "  'AMT_CREDIT_SUM_OVERDUE': ['max', 'mean', 'sum'],\n",
    "  'AMT_ANNUITY': ['max', 'mean', 'sum'],\n",
    "  # 추가 가공 컬럼\n",
    "  'BUREAU_ENDDATE_FACT_DIFF':['min', 'max', 'mean'],\n",
    "  'BUREAU_CREDIT_FACT_DIFF':['min', 'max', 'mean'],\n",
    "  'BUREAU_CREDIT_ENDDATE_DIFF':['min', 'max', 'mean'],\n",
    "  'BUREAU_CREDIT_DEBT_RATIO':['min', 'max', 'mean'],\n",
    "  'BUREAU_CREDIT_DEBT_DIFF':['min', 'max', 'mean'],\n",
    "  'BUREAU_IS_DPD':['mean', 'sum'],\n",
    "  'BUREAU_IS_DPD_OVER120':['mean', 'sum']\n",
    "  }\n",
    "\n",
    "  bureau_grp = bureau.groupby('SK_ID_CURR')\n",
    "  bureau_day_amt_agg = bureau_grp.agg(bureau_agg_dict)\n",
    "  bureau_day_amt_agg.columns = ['BUREAU_'+('_').join(column).upper() for column in bureau_day_amt_agg.columns.ravel()]\n",
    "  # 조인을 위해 SK_ID_CURR을 reset_index()로 컬럼화 \n",
    "  bureau_day_amt_agg = bureau_day_amt_agg.reset_index()\n",
    "  #print('bureau_day_amt_agg shape:', bureau_day_amt_agg.shape)\n",
    "  return bureau_day_amt_agg\n",
    "\n",
    "\n",
    "def get_bureau_active_agg(bureau):\n",
    "  '''\n",
    "  Bureau의 CREDIT_ACTIVE='Active' 인 데이터만 filtering 후 \n",
    "  주요 컬럼 및 앞에서 채무 및 대출금액 관련 컬럼들로 SK_ID_CURR 레벨의 aggregation 컬럼 생성\n",
    "  '''\n",
    "  # CREDIT_ACTIVE='Active' 인 데이터만 filtering\n",
    "  cond_active = bureau['CREDIT_ACTIVE'] == 'Active'\n",
    "  bureau_active_grp = bureau[cond_active].groupby(['SK_ID_CURR'])\n",
    "  bureau_agg_dict = {\n",
    "      'SK_ID_BUREAU':['count'],\n",
    "      'DAYS_CREDIT':['min', 'max', 'mean'],\n",
    "      'CREDIT_DAY_OVERDUE':['min', 'max', 'mean'],\n",
    "      'DAYS_CREDIT_ENDDATE':['min', 'max', 'mean'],\n",
    "      'DAYS_ENDDATE_FACT':['min', 'max', 'mean'],\n",
    "      'AMT_CREDIT_MAX_OVERDUE': ['max', 'mean'],\n",
    "      'AMT_CREDIT_SUM': ['max', 'mean', 'sum'],\n",
    "      'AMT_CREDIT_SUM_DEBT': ['max', 'mean', 'sum'],\n",
    "      'AMT_CREDIT_SUM_OVERDUE': ['max', 'mean', 'sum'],\n",
    "      'AMT_ANNUITY': ['max', 'mean', 'sum'],\n",
    "      # 추가 가공 컬럼\n",
    "      'BUREAU_ENDDATE_FACT_DIFF':['min', 'max', 'mean'],\n",
    "      'BUREAU_CREDIT_FACT_DIFF':['min', 'max', 'mean'],\n",
    "      'BUREAU_CREDIT_ENDDATE_DIFF':['min', 'max', 'mean'],\n",
    "      'BUREAU_CREDIT_DEBT_RATIO':['min', 'max', 'mean'],\n",
    "      'BUREAU_CREDIT_DEBT_DIFF':['min', 'max', 'mean'],\n",
    "      'BUREAU_IS_DPD':['mean', 'sum'],\n",
    "      'BUREAU_IS_DPD_OVER120':['mean', 'sum']\n",
    "      }\n",
    "\n",
    "  bureau_active_agg = bureau_active_grp.agg(bureau_agg_dict)\n",
    "  bureau_active_agg.columns = ['BUREAU_ACT_'+('_').join(column).upper() for column in bureau_active_agg.columns.ravel()]\n",
    "  # 조인을 위해 SK_ID_CURR을 reset_index()로 컬럼화 \n",
    "  bureau_active_agg = bureau_active_agg.reset_index()\n",
    "  #print('bureau_active_agg shape:', bureau_active_agg.shape)\n",
    "  return bureau_active_agg\n",
    "\n",
    "# BUREAU의 DAYS_CREDIT 가 -750보다 최근 데이터 별도 가공. \n",
    "def get_bureau_days750_agg(bureau):\n",
    "    cond_days750 = bureau['DAYS_CREDIT'] > -750\n",
    "    bureau_days750_group = bureau[cond_days750].groupby('SK_ID_CURR')\n",
    "    bureau_agg_dict = {\n",
    "        'SK_ID_BUREAU':['count'],\n",
    "        'DAYS_CREDIT':['min', 'max', 'mean'],\n",
    "        'CREDIT_DAY_OVERDUE':['min', 'max', 'mean'],\n",
    "        'DAYS_CREDIT_ENDDATE':['min', 'max', 'mean'],\n",
    "        'DAYS_ENDDATE_FACT':['min', 'max', 'mean'],\n",
    "        'AMT_CREDIT_MAX_OVERDUE': ['max', 'mean'],\n",
    "        'AMT_CREDIT_SUM': ['max', 'mean', 'sum'],\n",
    "        'AMT_CREDIT_SUM_DEBT': ['max', 'mean', 'sum'],\n",
    "        'AMT_CREDIT_SUM_OVERDUE': ['max', 'mean', 'sum'],\n",
    "        'AMT_ANNUITY': ['max', 'mean', 'sum'],\n",
    "        # 추가 가공 컬럼\n",
    "        'BUREAU_ENDDATE_FACT_DIFF':['min', 'max', 'mean'],\n",
    "        'BUREAU_CREDIT_FACT_DIFF':['min', 'max', 'mean'],\n",
    "        'BUREAU_CREDIT_ENDDATE_DIFF':['min', 'max', 'mean'],\n",
    "        'BUREAU_CREDIT_DEBT_RATIO':['min', 'max', 'mean'],\n",
    "        'BUREAU_CREDIT_DEBT_DIFF':['min', 'max', 'mean'],\n",
    "        'BUREAU_IS_DPD':['mean', 'sum'],\n",
    "        'BUREAU_IS_DPD_OVER120':['mean', 'sum']\n",
    "        }\n",
    "\n",
    "    bureau_days750_agg = bureau_days750_group.agg(bureau_agg_dict)\n",
    "    bureau_days750_agg.columns = ['BUREAU_ACT_'+('_').join(column).upper() for column in bureau_days750_agg.columns.ravel()]\n",
    "    bureau_days750_agg = bureau_days750_agg.reset_index()\n",
    "    \n",
    "    return bureau_days750_agg\n",
    "\n",
    "\n",
    "# bureau_bal을 SK_ID_CURR 레벨로 건수와 MONTHS_BALANCE의 aggregation 가공 \n",
    "def get_bureau_bal_agg(bureau, bureau_bal):\n",
    "    # SK_ID_CURR레벨로 Group by하기 위해 bureau에서 SK_ID_CURR 컬럼을 가져오는 조인 수행. \n",
    "    bureau_bal = bureau_bal.merge(bureau[['SK_ID_CURR', 'SK_ID_BUREAU']], on='SK_ID_BUREAU', how='left')\n",
    "    \n",
    "    # STATUS에 따라 월별 연체 여부 및 120일 이상 연체 여부 속성 가공. \n",
    "    bureau_bal['BUREAU_BAL_IS_DPD'] = bureau_bal['STATUS'].apply(lambda x: 1 if x in['1','2','3','4','5']  else 0)\n",
    "    bureau_bal['BUREAU_BAL_IS_DPD_OVER120'] = bureau_bal['STATUS'].apply(lambda x: 1 if x =='5'  else 0)\n",
    "    bureau_bal_grp = bureau_bal.groupby('SK_ID_CURR')\n",
    "    # SK_ID_CURR 레벨로 건수와 MONTHS_BALANCE의 aggregation 가공 \n",
    "    bureau_bal_agg_dict = {\n",
    "        'SK_ID_CURR':['count'],\n",
    "        'MONTHS_BALANCE':['min', 'max', 'mean'],\n",
    "        'BUREAU_BAL_IS_DPD':['mean', 'sum'],\n",
    "        'BUREAU_BAL_IS_DPD_OVER120':['mean', 'sum']\n",
    "    }\n",
    "\n",
    "    bureau_bal_agg = bureau_bal_grp.agg(bureau_bal_agg_dict)\n",
    "    bureau_bal_agg.columns = [ 'BUREAU_BAL_'+('_').join(column).upper() for column in bureau_bal_agg.columns.ravel() ]\n",
    "    # 조인을 위해 SK_ID_CURR을 reset_index()로 컬럼화 \n",
    "    bureau_bal_agg = bureau_bal_agg.reset_index()\n",
    "    #print('bureau_bal_agg shape:', bureau_bal_agg.shape)\n",
    "    return bureau_bal_agg\n",
    "    \n",
    "# 가공된 bureau관련 aggregation 컬럼들을 모두 결합   \n",
    "def get_bureau_agg(bureau, bureau_bal):\n",
    "    \n",
    "    bureau = get_bureau_processed(bureau)\n",
    "    bureau_day_amt_agg = get_bureau_day_amt_agg(bureau)\n",
    "    bureau_active_agg = get_bureau_active_agg(bureau)\n",
    "    bureau_days750_agg = get_bureau_days750_agg(bureau)\n",
    "    bureau_bal_agg = get_bureau_bal_agg(bureau, bureau_bal)\n",
    "    \n",
    "    # bureau_day_amt_agg와 bureau_active_agg 조인.  \n",
    "    bureau_agg = bureau_day_amt_agg.merge(bureau_active_agg, on='SK_ID_CURR', how='left')\n",
    "    # STATUS가 ACTIVE IS_DPD RATIO관련 비율 재가공. \n",
    "    #bureau_agg['BUREAU_IS_DPD_RATIO'] = bureau_agg['BUREAU_BUREAU_IS_DPD_SUM']/bureau_agg['BUREAU_SK_ID_BUREAU_COUNT']\n",
    "    #bureau_agg['BUREAU_IS_DPD_OVER120_RATIO'] = bureau_agg['BUREAU_BUREAU_IS_DPD_OVER120_SUM']/bureau_agg['BUREAU_SK_ID_BUREAU_COUNT']\n",
    "    bureau_agg['BUREAU_ACT_IS_DPD_RATIO'] = bureau_agg['BUREAU_ACT_BUREAU_IS_DPD_SUM']/bureau_agg['BUREAU_SK_ID_BUREAU_COUNT']\n",
    "    bureau_agg['BUREAU_ACT_IS_DPD_OVER120_RATIO'] = bureau_agg['BUREAU_ACT_BUREAU_IS_DPD_OVER120_SUM']/bureau_agg['BUREAU_SK_ID_BUREAU_COUNT']\n",
    "    \n",
    "    # bureau_agg와 bureau_bal_agg 조인. \n",
    "    bureau_agg = bureau_agg.merge(bureau_bal_agg, on='SK_ID_CURR', how='left')\n",
    "    bureau_agg = bureau_agg.merge(bureau_days750_agg, on='SK_ID_CURR', how='left') \n",
    "    #bureau_bal_agg['BUREAU_BAL_IS_DPD_RATIO'] = bureau_bal_agg['BUREAU_BAL_BUREAU_BAL_IS_DPD_SUM']/bureau_bal_agg['BUREAU_BAL_SK_ID_CURR_COUNT']\n",
    "    #bureau_bal_agg['BUREAU_BAL_IS_DPD_OVER120_RATIO'] = bureau_bal_agg['BUREAU_BAL_BUREAU_BAL_IS_DPD_OVER120_SUM']/bureau_bal_agg['BUREAU_BAL_SK_ID_CURR_COUNT']\n",
    "\n",
    "    #print('bureau_agg shape:', bureau_agg.shape)\n",
    "    \n",
    "    return bureau_agg\n",
    "\n",
    "def get_apps_all_with_prev_agg(apps, prev):\n",
    "    apps_all =  get_apps_processed(apps)\n",
    "    prev_agg = get_prev_agg(prev)\n",
    "    print('prev_agg shape:', prev_agg.shape)\n",
    "    print('apps_all before merge shape:', apps_all.shape)\n",
    "    apps_all = apps_all.merge(prev_agg, on='SK_ID_CURR', how='left')\n",
    "    print('apps_all after merge with prev_agg shape:', apps_all.shape)\n",
    "    \n",
    "    return apps_all\n",
    "\n",
    "def get_apps_all_encoded(apps_all):\n",
    "    object_columns = apps_all.dtypes[apps_all.dtypes == 'object'].index.tolist()\n",
    "    for column in object_columns:\n",
    "        apps_all[column] = pd.factorize(apps_all[column])[0]\n",
    "    \n",
    "    return apps_all\n",
    "\n",
    "def get_apps_all_train_test(apps_all):\n",
    "    apps_all_train = apps_all[~apps_all['TARGET'].isnull()]\n",
    "    apps_all_test = apps_all[apps_all['TARGET'].isnull()]\n",
    "\n",
    "    apps_all_test = apps_all_test.drop('TARGET', axis=1)\n",
    "    \n",
    "    return apps_all_train, apps_all_test\n",
    "    \n",
    "def train_apps_all(apps_all_train):\n",
    "    ftr_app = apps_all_train.drop(['SK_ID_CURR', 'TARGET'], axis=1)\n",
    "    target_app = apps_all_train['TARGET']\n",
    "\n",
    "    train_x, valid_x, train_y, valid_y = train_test_split(ftr_app, target_app, test_size=0.3, random_state=2020)\n",
    "    print('train shape:', train_x.shape, 'valid shape:', valid_x.shape)\n",
    "    clf = LGBMClassifier(\n",
    "                nthread=4,\n",
    "                n_estimators=2000,\n",
    "                learning_rate=0.02,\n",
    "                max_depth = 11,\n",
    "                num_leaves=58,\n",
    "                colsample_bytree=0.613,\n",
    "                subsample=0.708,\n",
    "                max_bin=407,\n",
    "                reg_alpha=3.564,\n",
    "                reg_lambda=4.930,\n",
    "                min_child_weight= 6,\n",
    "                min_child_samples=165,\n",
    "                silent=-1,\n",
    "                verbose=-1,\n",
    "                )\n",
    "   \n",
    "    clf.fit(train_x, train_y, eval_set=[(train_x, train_y), (valid_x, valid_y)], eval_metric= 'auc', verbose= 100, \n",
    "                early_stopping_rounds= 200)\n",
    "    \n",
    "    return clf"
   ]
  },
  {
   "cell_type": "markdown",
   "metadata": {
    "id": "nofQVAtLLo38"
   },
   "source": [
    "#### aggregation for pos, install, credit card"
   ]
  },
  {
   "cell_type": "code",
   "execution_count": 19,
   "metadata": {
    "executionInfo": {
     "elapsed": 786,
     "status": "ok",
     "timestamp": 1617091825990,
     "user": {
      "displayName": "sangseo seo",
      "photoUrl": "",
      "userId": "10041771000758060897"
     },
     "user_tz": -540
    },
    "id": "oacivi847oNb"
   },
   "outputs": [],
   "source": [
    "def get_pos_bal_agg(pos_bal):\n",
    "    # 연체 일자(SK_DPD)가 0 보다 큰 경우, 0~ 100 사이, 100보다 큰 경우 조사 \n",
    "    cond_over_0 = pos_bal['SK_DPD'] > 0\n",
    "    cond_100 = (pos_bal['SK_DPD'] < 100) & (pos_bal['SK_DPD'] > 0)\n",
    "    cond_over_100 = (pos_bal['SK_DPD'] >= 100)\n",
    "\n",
    "    # 연체여부,  연체일수 0~ 120 사이 여부, 연체 일수 120보다 큰 여부 \n",
    "    pos_bal['POS_IS_DPD'] = pos_bal['SK_DPD'].apply(lambda x: 1 if x > 0 else 0)\n",
    "    pos_bal['POS_IS_DPD_UNDER_120'] = pos_bal['SK_DPD'].apply(lambda x:1 if (x > 0) & (x <120) else 0 )\n",
    "    pos_bal['POS_IS_DPD_OVER_120'] = pos_bal['SK_DPD'].apply(lambda x:1 if x >= 120 else 0)\n",
    "\n",
    "    # 기존 컬럼과 신규 컬럼으로 SK_ID_CURR 레벨로 신규 aggregation 컬럼 생성\n",
    "    pos_bal_grp = pos_bal.groupby('SK_ID_CURR')\n",
    "    pos_bal_agg_dict = {\n",
    "        'SK_ID_CURR':['count'], \n",
    "        'MONTHS_BALANCE':['min', 'mean', 'max'], \n",
    "        'SK_DPD':['min', 'max', 'mean', 'sum'],\n",
    "        'CNT_INSTALMENT':['min', 'max', 'mean', 'sum'],\n",
    "        'CNT_INSTALMENT_FUTURE':['min', 'max', 'mean', 'sum'],\n",
    "        # 추가 컬럼. \n",
    "        'POS_IS_DPD':['mean', 'sum'],\n",
    "        'POS_IS_DPD_UNDER_120':['mean', 'sum'],\n",
    "        'POS_IS_DPD_OVER_120':['mean', 'sum']\n",
    "    }\n",
    "\n",
    "    pos_bal_agg = pos_bal_grp.agg(pos_bal_agg_dict)\n",
    "    # 컬럼명 변경 \n",
    "    pos_bal_agg.columns = [('POS_')+('_').join(column).upper() for column in pos_bal_agg.columns.ravel()]\n",
    "    \n",
    "    # MONTHS_BALANCE가 최근(20개월 이하)인 데이터 세트 별도 가공. \n",
    "    cond_months = pos_bal['MONTHS_BALANCE'] > -20\n",
    "    pos_bal_m20_grp = pos_bal[cond_months].groupby('SK_ID_CURR')\n",
    "    pos_bal_m20_agg_dict = {\n",
    "        'SK_ID_CURR':['count'], \n",
    "        'MONTHS_BALANCE':['min', 'mean', 'max'], \n",
    "        'SK_DPD':['min', 'max', 'mean', 'sum'],\n",
    "        'CNT_INSTALMENT':['min', 'max', 'mean', 'sum'],\n",
    "        'CNT_INSTALMENT_FUTURE':['min', 'max', 'mean', 'sum'],\n",
    "        # 추가 컬럼. \n",
    "        'POS_IS_DPD':['mean', 'sum'],\n",
    "        'POS_IS_DPD_UNDER_120':['mean', 'sum'],\n",
    "        'POS_IS_DPD_OVER_120':['mean', 'sum']\n",
    "    }\n",
    "\n",
    "    pos_bal_m20_agg = pos_bal_m20_grp.agg(pos_bal_m20_agg_dict)\n",
    "    # 컬럼 변경 \n",
    "    pos_bal_m20_agg.columns = [('POS_M20')+('_').join(column).upper() for column in pos_bal_m20_agg.columns.ravel()]\n",
    "    pos_bal_agg = pos_bal_agg.merge(pos_bal_m20_agg, on='SK_ID_CURR', how='left')\n",
    "    \n",
    "    # SK_ID_CURR을 reset_index()를 이용하여 컬럼으로 변환\n",
    "    pos_bal_agg = pos_bal_agg.reset_index()\n",
    "    \n",
    "    \n",
    "    return pos_bal_agg\n",
    "\n",
    "def get_install_agg(install):\n",
    "    # 예정 납부 금액 대비 실제 납부 금액 관련 데이터 가공. 예정 납부 일자 대비 실제 납부 일자 비교를 DPD 일자 생성  \n",
    "    install['AMT_DIFF'] = install['AMT_INSTALMENT'] - install['AMT_PAYMENT']\n",
    "    install['AMT_RATIO'] =  (install['AMT_PAYMENT'] +1)/ (install['AMT_INSTALMENT'] + 1)\n",
    "    install['SK_DPD'] = install['DAYS_ENTRY_PAYMENT'] - install['DAYS_INSTALMENT']\n",
    "\n",
    "    # 연체여부,  연체일수 30~ 120 사이 여부, 연체 일수 100보다 큰 여부 데이터 가공. \n",
    "    install['INS_IS_DPD'] = install['SK_DPD'].apply(lambda x: 1 if x > 0 else 0)\n",
    "    install['INS_IS_DPD_UNDER_120'] = install['SK_DPD'].apply(lambda x:1 if (x > 0) & (x <120) else 0 )\n",
    "    install['INS_IS_DPD_OVER_120'] = install['SK_DPD'].apply(lambda x:1 if x >= 120 else 0)\n",
    "\n",
    "    # 기존 컬럼과 신규 컬럼으로 SK_ID_CURR 레벨로 신규 aggregation 컬럼 생성. \n",
    "    install_grp = install.groupby('SK_ID_CURR')\n",
    "\n",
    "    install_agg_dict = {\n",
    "        'SK_ID_CURR':['count'],\n",
    "        'NUM_INSTALMENT_VERSION':['nunique'], \n",
    "        'DAYS_ENTRY_PAYMENT':['mean', 'max', 'sum'],\n",
    "        'DAYS_INSTALMENT':['mean', 'max', 'sum'],\n",
    "        'AMT_INSTALMENT':['mean', 'max', 'sum'],\n",
    "        'AMT_PAYMENT':['mean', 'max','sum'],\n",
    "        #  추가 컬럼\n",
    "        'AMT_DIFF':['mean','min', 'max','sum'],\n",
    "        'AMT_RATIO':['mean', 'max'],\n",
    "        'SK_DPD':['mean', 'min', 'max'],\n",
    "        'INS_IS_DPD':['mean', 'sum'],\n",
    "        'INS_IS_DPD_UNDER_120':['mean', 'sum'],\n",
    "        'INS_IS_DPD_OVER_120':['mean', 'sum']    \n",
    "    }\n",
    "\n",
    "    install_agg = install_grp.agg(install_agg_dict)\n",
    "    install_agg.columns = ['INS_'+('_').join(column).upper() for column in install_agg.columns.ravel()]\n",
    "\n",
    "    \n",
    "    # 실제 납부 일자(DAYS_ENTRY_PAYMENT)가 비교적 최근(1년 이내) 데이터만 별도로 가공\n",
    "    cond_day = install['DAYS_ENTRY_PAYMENT'] >= -365\n",
    "    install_d365_grp = install[cond_day].groupby('SK_ID_CURR')\n",
    "    install_d365_agg_dict = {\n",
    "        'SK_ID_CURR':['count'],\n",
    "        'NUM_INSTALMENT_VERSION':['nunique'], \n",
    "        'DAYS_ENTRY_PAYMENT':['mean', 'max', 'sum'],\n",
    "        'DAYS_INSTALMENT':['mean', 'max', 'sum'],\n",
    "        'AMT_INSTALMENT':['mean', 'max', 'sum'],\n",
    "        'AMT_PAYMENT':['mean', 'max','sum'],\n",
    "        #  추가 컬럼\n",
    "        'AMT_DIFF':['mean','min', 'max','sum'],\n",
    "        'AMT_RATIO':['mean', 'max'],\n",
    "        'SK_DPD':['mean', 'min', 'max'],\n",
    "        'INS_IS_DPD':['mean', 'sum'],\n",
    "        'INS_IS_DPD_UNDER_120':['mean', 'sum'],\n",
    "        'INS_IS_DPD_OVER_120':['mean', 'sum']    \n",
    "    }\n",
    "    \n",
    "    install_d365_agg = install_d365_grp.agg(install_d365_agg_dict)\n",
    "    install_d365_agg.columns = ['INS_D365'+('_').join(column).upper() for column in install_d365_agg.columns.ravel()]\n",
    "    \n",
    "    install_agg = install_agg.merge(install_d365_agg, on='SK_ID_CURR', how='left')\n",
    "    install_agg = install_agg.reset_index()\n",
    "    \n",
    "    return install_agg\n",
    "\n",
    "def get_card_bal_agg(card_bal):\n",
    "    # 월별 카드 허용한도에 따른 잔고와 인출 금액 비율 \n",
    "    card_bal['BALANCE_LIMIT_RATIO'] = card_bal['AMT_BALANCE']/card_bal['AMT_CREDIT_LIMIT_ACTUAL']\n",
    "    card_bal['DRAWING_LIMIT_RATIO'] = card_bal['AMT_DRAWINGS_CURRENT'] / card_bal['AMT_CREDIT_LIMIT_ACTUAL']\n",
    "\n",
    "    # DPD에 따른 가공 컬럼 생성.\n",
    "    card_bal['CARD_IS_DPD'] = card_bal['SK_DPD'].apply(lambda x: 1 if x > 0 else 0)\n",
    "    card_bal['CARD_IS_DPD_UNDER_120'] = card_bal['SK_DPD'].apply(lambda x:1 if (x > 0) & (x <120) else 0 )\n",
    "    card_bal['CARD_IS_DPD_OVER_120'] = card_bal['SK_DPD'].apply(lambda x:1 if x >= 120 else 0)\n",
    "\n",
    "    # 기존 컬럼과 가공 컬럼으로 SK_ID_CURR 레벨로 aggregation 신규 컬럼 생성. \n",
    "    card_bal_grp = card_bal.groupby('SK_ID_CURR')\n",
    "    card_bal_agg_dict = {\n",
    "        'SK_ID_CURR':['count'],\n",
    "         #'MONTHS_BALANCE':['min', 'max', 'mean'],\n",
    "        'AMT_BALANCE':['max'],\n",
    "        'AMT_CREDIT_LIMIT_ACTUAL':['max'],\n",
    "        'AMT_DRAWINGS_ATM_CURRENT': ['max', 'sum'],\n",
    "        'AMT_DRAWINGS_CURRENT': ['max', 'sum'],\n",
    "        'AMT_DRAWINGS_POS_CURRENT': ['max', 'sum'],\n",
    "        'AMT_INST_MIN_REGULARITY': ['max', 'mean'],\n",
    "        'AMT_PAYMENT_TOTAL_CURRENT': ['max','sum'],\n",
    "        'AMT_TOTAL_RECEIVABLE': ['max', 'mean'],\n",
    "        'CNT_DRAWINGS_ATM_CURRENT': ['max','sum'],\n",
    "        'CNT_DRAWINGS_CURRENT': ['max', 'mean', 'sum'],\n",
    "        'CNT_DRAWINGS_POS_CURRENT': ['mean'],\n",
    "        'SK_DPD': ['mean', 'max', 'sum'],\n",
    "        #  추가 컬럼\n",
    "        'BALANCE_LIMIT_RATIO':['min','max'],\n",
    "        'DRAWING_LIMIT_RATIO':['min', 'max'],\n",
    "        'CARD_IS_DPD':['mean', 'sum'],\n",
    "        'CARD_IS_DPD_UNDER_120':['mean', 'sum'],\n",
    "        'CARD_IS_DPD_OVER_120':['mean', 'sum']    \n",
    "    }\n",
    "    card_bal_agg = card_bal_grp.agg(card_bal_agg_dict)\n",
    "    card_bal_agg.columns = ['CARD_'+('_').join(column).upper() for column in card_bal_agg.columns.ravel()]\n",
    "\n",
    "    card_bal_agg = card_bal_agg.reset_index()\n",
    "    \n",
    "    # MONTHS_BALANCE가 비교적 최근 데이터( 3개월 이하)만 별도로 가공.  \n",
    "    cond_month = card_bal.MONTHS_BALANCE >= -3\n",
    "    card_bal_m3_grp = card_bal[cond_month].groupby('SK_ID_CURR')\n",
    "    card_bal_m3_agg = card_bal_m3_grp.agg(card_bal_agg_dict)\n",
    "    card_bal_m3_agg.columns = ['CARD_M3'+('_').join(column).upper() for column in card_bal_m3_agg.columns.ravel()]\n",
    "    \n",
    "    card_bal_agg = card_bal_agg.merge(card_bal_m3_agg, on='SK_ID_CURR', how='left')\n",
    "    card_bal_agg = card_bal_agg.reset_index()\n",
    "    \n",
    "    return card_bal_agg"
   ]
  },
  {
   "cell_type": "markdown",
   "metadata": {
    "id": "N4nLdQwqBZ-u"
   },
   "source": [
    "#### datasets concatenation and Join"
   ]
  },
  {
   "cell_type": "code",
   "execution_count": 20,
   "metadata": {
    "executionInfo": {
     "elapsed": 790,
     "status": "ok",
     "timestamp": 1617091832610,
     "user": {
      "displayName": "sangseo seo",
      "photoUrl": "",
      "userId": "10041771000758060897"
     },
     "user_tz": -540
    },
    "id": "16Lrek077oNi"
   },
   "outputs": [],
   "source": [
    "# apps와 prev_agg, bureau_agg, pos_bal_agg, install_agg, card_bal_agg를 개별 함수 호출하여 생성후 조인 결합\n",
    "def get_apps_all_with_all_agg(apps, prev, bureau, bureau_bal, pos_bal, install, card_bal):\n",
    "  \"\"\"\n",
    "  Description :\n",
    "  1.Data preparation , aggregation \n",
    "  2.produce the finalized result\n",
    "  \"\"\"\n",
    "  apps_all =  get_apps_processed(apps)\n",
    "  prev_agg = get_prev_agg(prev)\n",
    "  bureau_agg = get_bureau_agg(bureau, bureau_bal)\n",
    "  pos_bal_agg = get_pos_bal_agg(pos_bal)\n",
    "  install_agg = get_install_agg(install)\n",
    "  card_bal_agg = get_card_bal_agg(card_bal)\n",
    "  print('prev_agg shape:', prev_agg.shape, 'bureau_agg shape:', bureau_agg.shape )\n",
    "  print('pos_bal_agg shape:', pos_bal_agg.shape, 'install_agg shape:', install_agg.shape, 'card_bal_agg shape:', card_bal_agg.shape)\n",
    "  print('apps_all before merge shape:', apps_all.shape)\n",
    "  \n",
    "  # Join with apps_all\n",
    "  apps_all = apps_all.merge(prev_agg, on='SK_ID_CURR', how='left')\n",
    "  apps_all = apps_all.merge(bureau_agg, on='SK_ID_CURR', how='left')\n",
    "  apps_all = apps_all.merge(pos_bal_agg, on='SK_ID_CURR', how='left')\n",
    "  apps_all = apps_all.merge(install_agg, on='SK_ID_CURR', how='left')\n",
    "  apps_all = apps_all.merge(card_bal_agg, on='SK_ID_CURR', how='left')\n",
    "    \n",
    "  print('apps_all after merge with all shape:', apps_all.shape)\n",
    "  \n",
    "  return apps_all"
   ]
  },
  {
   "cell_type": "markdown",
   "metadata": {
    "id": "9VrMwbKWBUP4"
   },
   "source": [
    "#### reload the original *datasets*"
   ]
  },
  {
   "cell_type": "code",
   "execution_count": 21,
   "metadata": {
    "executionInfo": {
     "elapsed": 860,
     "status": "ok",
     "timestamp": 1617091835747,
     "user": {
      "displayName": "sangseo seo",
      "photoUrl": "",
      "userId": "10041771000758060897"
     },
     "user_tz": -540
    },
    "id": "VXpd2hgZBR73"
   },
   "outputs": [],
   "source": [
    "def get_dataset():\n",
    "  \"\"\"\n",
    "  load datasets\n",
    "  1.app_train - train dataset \n",
    "  2.app_test - test datasets\n",
    "  3.apps - concatenated app_train, app_test\n",
    "  4.pos_bal - POS_CACHE\n",
    "  5.install - installments_payments\n",
    "  6.card_bal - Credit Card\n",
    "  \"\"\"\n",
    "  app_train = pd.read_csv(os.path.join(default_dir,'application_train.csv'))\n",
    "  app_test = pd.read_csv(os.path.join(default_dir,'application_test.csv'))\n",
    "  apps = pd.concat([app_train, app_test])\n",
    "  \n",
    "  prev = pd.read_csv(os.path.join(default_dir,'previous_application.csv'))\n",
    "  bureau = pd.read_csv(os.path.join(default_dir,'bureau.csv'))\n",
    "  bureau_bal = pd.read_csv(os.path.join(default_dir,'bureau_balance.csv'))\n",
    "  \n",
    "  pos_bal, install, card_bal = get_balance_data()\n",
    "      \n",
    "  return apps, prev, bureau, bureau_bal, pos_bal, install, card_bal"
   ]
  },
  {
   "cell_type": "code",
   "execution_count": 22,
   "metadata": {
    "executionInfo": {
     "elapsed": 50452,
     "status": "ok",
     "timestamp": 1617091890976,
     "user": {
      "displayName": "sangseo seo",
      "photoUrl": "",
      "userId": "10041771000758060897"
     },
     "user_tz": -540
    },
    "id": "Es_8-WTcBgq9"
   },
   "outputs": [],
   "source": [
    "apps, prev, bureau, bureau_bal, pos_bal, install, card_bal = get_dataset()"
   ]
  },
  {
   "cell_type": "markdown",
   "metadata": {
    "id": "vqCQf7dABkHe"
   },
   "source": [
    "#### Data preparation, encodeing, datasets split, fit"
   ]
  },
  {
   "cell_type": "code",
   "execution_count": 23,
   "metadata": {
    "colab": {
     "base_uri": "https://localhost:8080/"
    },
    "id": "mmwX8sE67oNp",
    "outputId": "68e981aa-a651-4ea3-80fd-0736f617e169"
   },
   "outputs": [
    {
     "name": "stdout",
     "output_type": "stream",
     "text": [
      "prev_agg shape: (338857, 80) bureau_agg shape: (305811, 149)\n",
      "pos_bal_agg shape: (337252, 45) install_agg shape: (339587, 59) card_bal_agg shape: (103558, 70)\n",
      "apps_all before merge shape: (356255, 135)\n",
      "apps_all after merge with all shape: (356255, 534)\n",
      "train shape: (215257, 532) valid shape: (92254, 532)\n",
      "[LightGBM] [Warning] num_threads is set with n_jobs=-1, nthread=4 will be ignored. Current value: num_threads=-1\n",
      "Training until validation scores don't improve for 200 rounds\n",
      "[100]\ttraining's auc: 0.798096\ttraining's binary_logloss: 0.238337\tvalid_1's auc: 0.770583\tvalid_1's binary_logloss: 0.244916\n",
      "[200]\ttraining's auc: 0.821732\ttraining's binary_logloss: 0.226589\tvalid_1's auc: 0.782339\tvalid_1's binary_logloss: 0.239014\n",
      "[300]\ttraining's auc: 0.838886\ttraining's binary_logloss: 0.218872\tvalid_1's auc: 0.787892\tvalid_1's binary_logloss: 0.236685\n",
      "[400]\ttraining's auc: 0.852944\ttraining's binary_logloss: 0.212656\tvalid_1's auc: 0.79065\tvalid_1's binary_logloss: 0.235579\n",
      "[500]\ttraining's auc: 0.865604\ttraining's binary_logloss: 0.207117\tvalid_1's auc: 0.792237\tvalid_1's binary_logloss: 0.234962\n",
      "[600]\ttraining's auc: 0.876594\ttraining's binary_logloss: 0.202152\tvalid_1's auc: 0.793298\tvalid_1's binary_logloss: 0.234589\n",
      "[700]\ttraining's auc: 0.886491\ttraining's binary_logloss: 0.197555\tvalid_1's auc: 0.793903\tvalid_1's binary_logloss: 0.234373\n",
      "[800]\ttraining's auc: 0.895641\ttraining's binary_logloss: 0.193243\tvalid_1's auc: 0.79423\tvalid_1's binary_logloss: 0.234235\n",
      "[900]\ttraining's auc: 0.903923\ttraining's binary_logloss: 0.189183\tvalid_1's auc: 0.7944\tvalid_1's binary_logloss: 0.234176\n",
      "[1000]\ttraining's auc: 0.911491\ttraining's binary_logloss: 0.185308\tvalid_1's auc: 0.794388\tvalid_1's binary_logloss: 0.234172\n",
      "[1100]\ttraining's auc: 0.918296\ttraining's binary_logloss: 0.181625\tvalid_1's auc: 0.794445\tvalid_1's binary_logloss: 0.234158\n",
      "[1200]\ttraining's auc: 0.924599\ttraining's binary_logloss: 0.17812\tvalid_1's auc: 0.794504\tvalid_1's binary_logloss: 0.234163\n",
      "[1300]\ttraining's auc: 0.930419\ttraining's binary_logloss: 0.17473\tvalid_1's auc: 0.7944\tvalid_1's binary_logloss: 0.234205\n",
      "Early stopping, best iteration is:\n",
      "[1170]\ttraining's auc: 0.922699\ttraining's binary_logloss: 0.179164\tvalid_1's auc: 0.794595\tvalid_1's binary_logloss: 0.234121\n"
     ]
    },
    {
     "data": {
      "text/plain": [
       "'\\nPrivate Score:0.79033 Public Score:0.79920\\n'"
      ]
     },
     "execution_count": 23,
     "metadata": {},
     "output_type": "execute_result"
    }
   ],
   "source": [
    "# application, previous, bureau, bureau_bal 관련 데이터셋 가공 및 취합. \n",
    "apps_all = get_apps_all_with_all_agg(apps, prev, bureau, bureau_bal, pos_bal, install, card_bal)\n",
    "\n",
    "\n",
    "# Category 컬럼을 모두 Label 인코딩 수행. \n",
    "apps_all = get_apps_all_encoded(apps_all)\n",
    "\n",
    "# 학습과 테스트 데이터로 분리. \n",
    "apps_all_train, apps_all_test = get_apps_all_train_test(apps_all)\n",
    "\n",
    "#학습수행. \n",
    "clf = train_apps_all(apps_all_train)\n",
    "'''\n",
    "Private Score:0.79033 Public Score:0.79920\n",
    "'''"
   ]
  },
  {
   "cell_type": "markdown",
   "metadata": {
    "id": "28J6-etiBorc"
   },
   "source": [
    "#### CSV for Predicted result"
   ]
  },
  {
   "cell_type": "code",
   "execution_count": 24,
   "metadata": {
    "id": "6djwCNxM7oNu"
   },
   "outputs": [],
   "source": [
    "preds = clf.predict_proba(apps_all_test.drop(['SK_ID_CURR'], axis=1))[:, 1 ]\n",
    "apps_all_test['TARGET'] = preds\n",
    "apps_all_test[['SK_ID_CURR', 'TARGET']].to_csv(os.path.join(default_dir,'pos_install_credit_02.csv'), index=False)"
   ]
  },
  {
   "cell_type": "code",
   "execution_count": 2,
   "metadata": {
    "id": "UItWIn4R7oNz"
   },
   "outputs": [],
   "source": [
    "from IPython.display import Image"
   ]
  },
  {
   "cell_type": "code",
   "execution_count": 3,
   "metadata": {},
   "outputs": [
    {
     "data": {
      "image/png": "[encoded data removed]",
      "text/plain": [
       "<IPython.core.display.Image object>"
      ]
     },
     "execution_count": 3,
     "metadata": {},
     "output_type": "execute_result"
    }
   ],
   "source": [
    "Image(\"../HomeCreditDefaultRisk/Home Credit Default Risk_20210331.PNG\")"
   ]
  }
 ],
 "metadata": {
  "colab": {
   "collapsed_sections": [],
   "name": "pos_installment_creditcard_baseline_02.ipynb",
   "provenance": [],
   "toc_visible": true
  },
  "kernelspec": {
   "display_name": "Python 3",
   "language": "python",
   "name": "python3"
  },
  "language_info": {
   "codemirror_mode": {
    "name": "ipython",
    "version": 3
   },
   "file_extension": ".py",
   "mimetype": "text/x-python",
   "name": "python",
   "nbconvert_exporter": "python",
   "pygments_lexer": "ipython3",
   "version": "3.8.3"
  }
 },
 "nbformat": 4,
 "nbformat_minor": 1
}
