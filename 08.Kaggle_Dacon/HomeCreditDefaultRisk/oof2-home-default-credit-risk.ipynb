{
 "cells": [
  {
   "cell_type": "markdown",
   "id": "demanding-compilation",
   "metadata": {
    "id": "vrQjaAQaZ-9i",
    "papermill": {
     "duration": 0.023974,
     "end_time": "2021-04-08T06:01:16.711123",
     "exception": false,
     "start_time": "2021-04-08T06:01:16.687149",
     "status": "completed"
    },
    "tags": []
   },
   "source": [
    "# Out of Fold Prediction for Home Credit Default Risk with feature addition"
   ]
  },
  {
   "cell_type": "markdown",
   "id": "suffering-muslim",
   "metadata": {
    "id": "zLc0sdWEZ65t",
    "papermill": {
     "duration": 0.022354,
     "end_time": "2021-04-08T06:01:16.756105",
     "exception": false,
     "start_time": "2021-04-08T06:01:16.733751",
     "status": "completed"
    },
    "tags": []
   },
   "source": [
    "## Load Package"
   ]
  },
  {
   "cell_type": "code",
   "execution_count": 1,
   "id": "unlimited-effect",
   "metadata": {
    "execution": {
     "iopub.execute_input": "2021-04-08T06:01:16.812849Z",
     "iopub.status.busy": "2021-04-08T06:01:16.812097Z",
     "iopub.status.idle": "2021-04-08T06:01:18.067222Z",
     "shell.execute_reply": "2021-04-08T06:01:18.066377Z"
    },
    "id": "Wk6WawwEEPoq",
    "papermill": {
     "duration": 1.288413,
     "end_time": "2021-04-08T06:01:18.067439",
     "exception": false,
     "start_time": "2021-04-08T06:01:16.779026",
     "status": "completed"
    },
    "tags": []
   },
   "outputs": [],
   "source": [
    "import pandas as pd\n",
    "import numpy as np\n",
    "import matplotlib.pyplot as plt\n",
    "import seaborn as sns\n",
    "import os, sys \n",
    "\n",
    "%matplotlib inline\n",
    "\n",
    "pd.set_option('display.max_rows', 300)\n",
    "pd.set_option('display.max_columns', 200)"
   ]
  },
  {
   "cell_type": "markdown",
   "id": "approximate-murder",
   "metadata": {
    "id": "5EMwmUtHETu0",
    "papermill": {
     "duration": 0.024875,
     "end_time": "2021-04-08T06:01:18.115724",
     "exception": false,
     "start_time": "2021-04-08T06:01:18.090849",
     "status": "completed"
    },
    "tags": []
   },
   "source": [
    "## Load Datasets"
   ]
  },
  {
   "cell_type": "code",
   "execution_count": 2,
   "id": "tamil-professor",
   "metadata": {
    "execution": {
     "iopub.execute_input": "2021-04-08T06:01:18.167737Z",
     "iopub.status.busy": "2021-04-08T06:01:18.166781Z",
     "iopub.status.idle": "2021-04-08T06:01:18.254868Z",
     "shell.execute_reply": "2021-04-08T06:01:18.255580Z"
    },
    "id": "LUT5c8mnaazJ",
    "papermill": {
     "duration": 0.117769,
     "end_time": "2021-04-08T06:01:18.255896",
     "exception": false,
     "start_time": "2021-04-08T06:01:18.138127",
     "status": "completed"
    },
    "tags": []
   },
   "outputs": [
    {
     "ename": "StdinNotImplementedError",
     "evalue": "raw_input was called, but this frontend does not support input requests.",
     "output_type": "error",
     "traceback": [
      "\u001b[0;31m---------------------------------------------------------------------------\u001b[0m",
      "\u001b[0;31mStdinNotImplementedError\u001b[0m                  Traceback (most recent call last)",
      "\u001b[0;32m<ipython-input-2-26a676403bc4>\u001b[0m in \u001b[0;36m<module>\u001b[0;34m\u001b[0m\n\u001b[1;32m      2\u001b[0m \u001b[0mdefault_dir\u001b[0m \u001b[0;34m=\u001b[0m \u001b[0;32mNone\u001b[0m\u001b[0;34m\u001b[0m\u001b[0;34m\u001b[0m\u001b[0m\n\u001b[1;32m      3\u001b[0m \u001b[0;34m\u001b[0m\u001b[0m\n\u001b[0;32m----> 4\u001b[0;31m \u001b[0mplatform\u001b[0m \u001b[0;34m=\u001b[0m \u001b[0minput\u001b[0m\u001b[0;34m(\u001b[0m\u001b[0;34m\"Input Platform : \"\u001b[0m\u001b[0;34m)\u001b[0m\u001b[0;34m\u001b[0m\u001b[0;34m\u001b[0m\u001b[0m\n\u001b[0m",
      "\u001b[0;32m/opt/conda/lib/python3.7/site-packages/ipykernel/kernelbase.py\u001b[0m in \u001b[0;36mraw_input\u001b[0;34m(self, prompt)\u001b[0m\n\u001b[1;32m    853\u001b[0m         \u001b[0;32mif\u001b[0m \u001b[0;32mnot\u001b[0m \u001b[0mself\u001b[0m\u001b[0;34m.\u001b[0m\u001b[0m_allow_stdin\u001b[0m\u001b[0;34m:\u001b[0m\u001b[0;34m\u001b[0m\u001b[0;34m\u001b[0m\u001b[0m\n\u001b[1;32m    854\u001b[0m             raise StdinNotImplementedError(\n\u001b[0;32m--> 855\u001b[0;31m                 \u001b[0;34m\"raw_input was called, but this frontend does not support input requests.\"\u001b[0m\u001b[0;34m\u001b[0m\u001b[0;34m\u001b[0m\u001b[0m\n\u001b[0m\u001b[1;32m    856\u001b[0m             )\n\u001b[1;32m    857\u001b[0m         return self._input_request(str(prompt),\n",
      "\u001b[0;31mStdinNotImplementedError\u001b[0m: raw_input was called, but this frontend does not support input requests."
     ]
    }
   ],
   "source": [
    "platform = None\n",
    "default_dir = None\n",
    "\n",
    "platform = input(\"Input Platform : \")"
   ]
  },
  {
   "cell_type": "code",
   "execution_count": 3,
   "id": "legendary-compound",
   "metadata": {
    "execution": {
     "iopub.execute_input": "2021-04-08T06:01:18.310402Z",
     "iopub.status.busy": "2021-04-08T06:01:18.309581Z",
     "iopub.status.idle": "2021-04-08T06:01:18.313075Z",
     "shell.execute_reply": "2021-04-08T06:01:18.312327Z"
    },
    "executionInfo": {
     "elapsed": 22227,
     "status": "ok",
     "timestamp": 1617349645034,
     "user": {
      "displayName": "sangseo seo",
      "photoUrl": "",
      "userId": "10041771000758060897"
     },
     "user_tz": -540
    },
    "id": "sxrIHc27aYNj",
    "outputId": "cfe01008-de03-4726-b271-3c6171ccacf0",
    "papermill": {
     "duration": 0.033656,
     "end_time": "2021-04-08T06:01:18.313253",
     "exception": false,
     "start_time": "2021-04-08T06:01:18.279597",
     "status": "completed"
    },
    "tags": []
   },
   "outputs": [],
   "source": [
    "if platform == 'google':\n",
    "    # google drive\n",
    "    from google.colab import drive \n",
    "    drive.mount('/content/gdrive')\n",
    "    default_dir = \"/content/gdrive/My Drive\"\n",
    "else:\n",
    "    default_dir = \"../input/home-credit-default-risk/\""
   ]
  },
  {
   "cell_type": "markdown",
   "id": "dangerous-tamil",
   "metadata": {
    "id": "Kx5ERHy6EPo1",
    "papermill": {
     "duration": 0.023075,
     "end_time": "2021-04-08T06:01:18.359909",
     "exception": false,
     "start_time": "2021-04-08T06:01:18.336834",
     "status": "completed"
    },
    "tags": []
   },
   "source": [
    "### load data as pandas DataFrame"
   ]
  },
  {
   "cell_type": "code",
   "execution_count": 4,
   "id": "widespread-retailer",
   "metadata": {
    "execution": {
     "iopub.execute_input": "2021-04-08T06:01:18.429255Z",
     "iopub.status.busy": "2021-04-08T06:01:18.428382Z",
     "iopub.status.idle": "2021-04-08T06:01:18.433581Z",
     "shell.execute_reply": "2021-04-08T06:01:18.432860Z"
    },
    "id": "WshRWQU1EPo3",
    "papermill": {
     "duration": 0.05007,
     "end_time": "2021-04-08T06:01:18.433756",
     "exception": false,
     "start_time": "2021-04-08T06:01:18.383686",
     "status": "completed"
    },
    "tags": []
   },
   "outputs": [],
   "source": [
    "def get_dataset():\n",
    "    \"\"\"\n",
    "    1.optimize for memory allocation usage\n",
    "    2.read CSV and make DataFrames \n",
    "    \"\"\"\n",
    "    prev_dtype = {\n",
    "        'SK_ID_PREV':np.uint32, 'SK_ID_CURR':np.uint32, 'HOUR_APPR_PROCESS_START':np.int32, 'NFLAG_LAST_APPL_IN_DAY':np.int32,\n",
    "        'DAYS_DECISION':np.int32, 'SELLERPLACE_AREA':np.int32, 'AMT_ANNUITY':np.float32, 'AMT_APPLICATION':np.float32,\n",
    "        'AMT_CREDIT':np.float32, 'AMT_DOWN_PAYMENT':np.float32, 'AMT_GOODS_PRICE':np.float32, 'RATE_DOWN_PAYMENT':np.float32,\n",
    "        'RATE_INTEREST_PRIMARY':np.float32, 'RATE_INTEREST_PRIVILEGED':np.float32, 'CNT_PAYMENT':np.float32,\n",
    "        'DAYS_FIRST_DRAWING':np.float32, 'DAYS_FIRST_DUE':np.float32, 'DAYS_LAST_DUE_1ST_VERSION':np.float32,\n",
    "        'DAYS_LAST_DUE':np.float32, 'DAYS_TERMINATION':np.float32, 'NFLAG_INSURED_ON_APPROVAL':np.float32\n",
    "    }\n",
    "    breau_dtype = {\n",
    "        'SK_ID_CURR':np.uint32, 'SK_ID_BUREAU':np.uint32, 'DAYS_CREDIT':np.int32,'CREDIT_DAY_OVERDUE':np.int32,\n",
    "        'CNT_CREDIT_PROLONG':np.int32, 'DAYS_CREDIT_UPDATE':np.int32, 'DAYS_CREDIT_ENDDATE':np.float32,\n",
    "        'DAYS_ENDDATE_FACT':np.float32, 'AMT_CREDIT_MAX_OVERDUE':np.float32, 'AMT_CREDIT_SUM':np.float32,\n",
    "        'AMT_CREDIT_SUM_DEBT':np.float32, 'AMT_CREDIT_SUM_LIMIT':np.float32, 'AMT_CREDIT_SUM_OVERDUE':np.float32,\n",
    "        'AMT_ANNUITY':np.float32\n",
    "    }\n",
    "    bureau_bal_dtype = {\n",
    "        'SK_ID_BUREAU':np.int32, 'MONTHS_BALANCE':np.int32,\n",
    "    }\n",
    "    pos_type = {\n",
    "        'SK_ID_PREV':np.uint32, 'SK_ID_CURR':np.uint32, 'MONTHS_BALANCE':np.int32, 'SK_DPD':np.int32,\n",
    "        'SK_DPD_DEF':np.int32, 'CNT_INSTALMENT':np.float32,'CNT_INSTALMENT_FUTURE':np.float32\n",
    "    }\n",
    "    card_type = {\n",
    "        'SK_ID_PREV':np.uint32, 'SK_ID_CURR':np.uint32, 'MONTHS_BALANCE':np.int16,\n",
    "        'AMT_CREDIT_LIMIT_ACTUAL':np.int32, 'CNT_DRAWINGS_CURRENT':np.int32, 'SK_DPD':np.int32,'SK_DPD_DEF':np.int32,\n",
    "        'AMT_BALANCE':np.float32, 'AMT_DRAWINGS_ATM_CURRENT':np.float32, 'AMT_DRAWINGS_CURRENT':np.float32,\n",
    "        'AMT_DRAWINGS_OTHER_CURRENT':np.float32, 'AMT_DRAWINGS_POS_CURRENT':np.float32, 'AMT_INST_MIN_REGULARITY':np.float32,\n",
    "        'AMT_PAYMENT_CURRENT':np.float32, 'AMT_PAYMENT_TOTAL_CURRENT':np.float32, 'AMT_RECEIVABLE_PRINCIPAL':np.float32,\n",
    "        'AMT_RECIVABLE':np.float32, 'AMT_TOTAL_RECEIVABLE':np.float32, 'CNT_DRAWINGS_ATM_CURRENT':np.float32,\n",
    "        'CNT_DRAWINGS_OTHER_CURRENT':np.float32, 'CNT_DRAWINGS_POS_CURRENT':np.float32, 'CNT_INSTALMENT_MATURE_CUM':np.float32\n",
    "    }\n",
    "    app_train = pd.read_csv(os.path.join(default_dir, 'application_train.csv'))\n",
    "    app_test  = pd.read_csv(os.path.join(default_dir, 'application_test.csv'))\n",
    "    apps = pd.concat([app_train, app_test])\n",
    "    prev = pd.read_csv(os.path.join(default_dir, 'previous_application.csv'))\n",
    "    bureau = pd.read_csv(os.path.join(default_dir, 'bureau.csv'))\n",
    "    bureau_bal = pd.read_csv(os.path.join(default_dir, 'bureau_balance.csv'))\n",
    "    pos_bal = pd.read_csv(os.path.join(default_dir, 'POS_CASH_balance.csv'))\n",
    "    install = pd.read_csv(os.path.join(default_dir, 'installments_payments.csv'))\n",
    "    card_bal = pd.read_csv(os.path.join(default_dir, 'credit_card_balance.csv'))\n",
    "    \n",
    "    return apps, prev, bureau, bureau_bal, pos_bal, install, card_bal"
   ]
  },
  {
   "cell_type": "markdown",
   "id": "residential-david",
   "metadata": {
    "id": "uug5P0sIEPpC",
    "papermill": {
     "duration": 0.023213,
     "end_time": "2021-04-08T06:01:18.480547",
     "exception": false,
     "start_time": "2021-04-08T06:01:18.457334",
     "status": "completed"
    },
    "tags": []
   },
   "source": [
    "### Modulization for Feature Engineering"
   ]
  },
  {
   "cell_type": "code",
   "execution_count": 5,
   "id": "median-ireland",
   "metadata": {
    "execution": {
     "iopub.execute_input": "2021-04-08T06:01:18.533863Z",
     "iopub.status.busy": "2021-04-08T06:01:18.533065Z",
     "iopub.status.idle": "2021-04-08T06:01:18.854625Z",
     "shell.execute_reply": "2021-04-08T06:01:18.853801Z"
    },
    "id": "8NOqG5o_bXd1",
    "papermill": {
     "duration": 0.351117,
     "end_time": "2021-04-08T06:01:18.854806",
     "exception": false,
     "start_time": "2021-04-08T06:01:18.503689",
     "status": "completed"
    },
    "tags": []
   },
   "outputs": [],
   "source": [
    "from sklearn.model_selection import train_test_split"
   ]
  },
  {
   "cell_type": "code",
   "execution_count": 6,
   "id": "genetic-wesley",
   "metadata": {
    "execution": {
     "iopub.execute_input": "2021-04-08T06:01:18.930597Z",
     "iopub.status.busy": "2021-04-08T06:01:18.908667Z",
     "iopub.status.idle": "2021-04-08T06:01:19.006644Z",
     "shell.execute_reply": "2021-04-08T06:01:19.007198Z"
    },
    "papermill": {
     "duration": 0.12892,
     "end_time": "2021-04-08T06:01:19.007468",
     "exception": false,
     "start_time": "2021-04-08T06:01:18.878548",
     "status": "completed"
    },
    "tags": []
   },
   "outputs": [],
   "source": [
    "def get_apps_processed(apps):\n",
    "    '''\n",
    "    feature engineering for apps\n",
    "    '''    \n",
    "    # EXT_SOURCE_X_1...N Feature eng\n",
    "    apps['APPS_EXT_SOURCE_MEAN'] = apps[['EXT_SOURCE_1', 'EXT_SOURCE_2', 'EXT_SOURCE_3']].mean(axis = 1)\n",
    "    apps['APPS_EXT_SOURE_STD'] = apps[['EXT_SOURCE_1', 'EXT_SOURCE_2', 'EXT_SOURCE_3']].std(axis=1)\n",
    "    apps['APPS_EXT_SOURE_STD'] = apps['APPS_EXT_SOURE_STD'].fillna(apps['APPS_EXT_SOURE_STD'].mean())\n",
    "    \n",
    "    # AMT_CREDIT RATIO\n",
    "    # AMT_ANNUITY : loan annuity(For consumer loans it is the price of the goods for which the loan is given)\n",
    "    apps['APPS_ANNUITY_CREDIT_RATIO'] = apps['AMT_ANNUITY'] / apps['AMT_CREDIT']\n",
    "    apps['APPS_GOODS_CREDIT_RATIO'] = apps['AMT_GOODS_PRICE'] / apps['AMT_CREDIT']\n",
    "    \n",
    "    # AMT_ANNUITY ratio relative to AMT_INCOME_TOTAL\n",
    "    # AMT_CREDIT ratio realtive to AMT_INCOME_TOTAL\n",
    "    # AMT_GOODS_PRICE ratio relative to AMT_INCOME_TOTAL\n",
    "    apps['APPS_ANNUITY_INCOME_RATIO'] = apps['AMT_ANNUITY']/ apps['AMT_INCOME_TOTAL']\n",
    "    apps['APPS_CREDIT_INCOME_RATIO'] = apps['AMT_CREDIT'] / apps['AMT_INCOME_TOTAL']\n",
    "    apps['APPS_GOODS_INCOME_RATIO'] = apps['AMT_GOODS_PRICE'] / apps['AMT_INCOME_TOTAL']\n",
    "    apps['APPS_CNT_FAM_INCOME_RATIO'] = apps['AMT_INCOME_TOTAL']/apps['CNT_FAM_MEMBERS']\n",
    "    \n",
    "    # DAYS_BIRTH, DAYS_EMPLOYED\n",
    "    apps['APPS_EMPLOYED_BIRTH_RATIO'] = apps['DAYS_EMPLOYED'] / apps['DAYS_BIRTH']\n",
    "    apps['APPS_INCOME_EMPLOYED_RATIO'] = apps['AMT_INCOME_TOTAL'] / apps['DAYS_EMPLOYED']\n",
    "    apps['APPS_INCOME_BIETH_RATIO'] = apps['AMT_INCOME_TOTAL'] / apps['DAYS_BIRTH']\n",
    "    apps['APPS_CAR_BIRTH_RATIO'] = apps['OWN_CAR_AGE'] / apps['DAYS_BIRTH']\n",
    "    apps['APPS_CAR_EMPLOYED_RATIO'] = apps['OWN_CAR_AGE'] / apps['DAYS_EMPLOYED']\n",
    "    \n",
    "    return apps\n",
    "    \n",
    "def get_prev_processed(prev):\n",
    "    '''\n",
    "    feature engineering for previois_application.csv\n",
    "    '''\n",
    "    prev['PREV_CREDIT_DIFF'] = prev['AMT_APPLICATION'] - prev['AMT_CREDIT']\n",
    "    prev['PREV_GOODS_DIFF'] =  prev['AMT_APPLICATION'] - prev['AMT_GOODS_PRICE']\n",
    "    prev['PREV_CREDIT_APPL_RATIO'] = prev['AMT_CREDIT'] / prev['AMT_APPLICATION']\n",
    "    \n",
    "    \n",
    "    #prev['PREV_ANNUITY_APPL_RATIO'] = prev['AMT_ANNUITY'] / prev['AMT_APPLICATION']\n",
    "    prev['PREV_GOODS_APPL_RATIO']  = prev['AMT_GOODS_PRICE'] / prev['AMT_APPLICATION']\n",
    "    \n",
    "    # replace `365243' value into np.nan\n",
    "    prev['DAYS_FIRST_DRAWING'].replace(365243, np.nan, inplace= True)\n",
    "    prev['DAYS_FIRST_DUE'].replace(365243, np.nan, inplace= True)\n",
    "    prev['DAYS_LAST_DUE_1ST_VERSION'].replace(365243, np.nan, inplace= True)\n",
    "    prev['DAYS_LAST_DUE'].replace(365243, np.nan, inplace= True)\n",
    "    prev['DAYS_TERMINATION'].replace(365243, np.nan, inplace= True)\n",
    "    \n",
    "    # 첫번째 만기일자와 마지막 만기일자의 차\n",
    "    # Difference between 1st due date and last due date\n",
    "    prev['PREV_DAYS_LAST_DUE_DIFF'] = prev['DAYS_LAST_DUE_1ST_VERSION'] - prev['DAYS_LAST_DUE']\n",
    "    \n",
    "    # Interest ratio\n",
    "    all_pay = prev['AMT_ANNUITY'] * prev['CNT_PAYMENT']\n",
    "    prev['PREV_INTERESTS_RATE'] = (all_pay / prev['AMT_CREDIT'] - 1) / prev['CNT_PAYMENT']\n",
    "    return prev  \n",
    "\n",
    "def get_prev_amt_agg(prev):\n",
    "    '''\n",
    "    aggregation for the newly added column including the as is feature.\n",
    "    '''\n",
    "    agg_dict = {\n",
    "        'SK_ID_CURR':['count'],\n",
    "        'AMT_CREDIT':['mean', 'max', 'sum'],\n",
    "        'AMT_ANNUITY':['mean', 'max', 'sum'], \n",
    "        'AMT_APPLICATION':['mean', 'max', 'sum'],\n",
    "        'AMT_DOWN_PAYMENT':['mean', 'max', 'sum'],  # Down payment on the previous application(이전 대출시 납부한 선금액)\n",
    "        'AMT_GOODS_PRICE':['mean', 'max', 'sum'],  \n",
    "        'RATE_DOWN_PAYMENT': ['min', 'max', 'mean'], # Down payment rate normalized on previous credit(납부한 선금액 비율)\n",
    "        'DAYS_DECISION': ['min', 'max', 'mean'],   # 과거 신청 대비 현재 신청 결정 기간 0 Relative to current application when was the decision about previous application made\n",
    "        'CNT_PAYMENT': ['mean', 'sum'],        \n",
    "        'PREV_CREDIT_DIFF':['mean', 'max', 'sum'], \n",
    "        'PREV_CREDIT_APPL_RATIO':['mean', 'max'],\n",
    "        'PREV_GOODS_DIFF':['mean', 'max', 'sum'],\n",
    "        'PREV_GOODS_APPL_RATIO':['mean', 'max'],\n",
    "        'PREV_DAYS_LAST_DUE_DIFF':['mean', 'max', 'sum'],\n",
    "        'PREV_INTERESTS_RATE':['mean', 'max']\n",
    "         \n",
    "    }\n",
    "    prev_group = prev.groupby('SK_ID_CURR')\n",
    "    prev_amt_agg = prev_group.agg(agg_dict)    \n",
    "    prev_amt_agg.columns = ['PREV_'+ '_'.join(column).upper() for column in prev_amt_agg.columns.ravel()]\n",
    "    \n",
    "    return prev_amt_agg\n",
    "\n",
    "def get_prev_refused_appr_agg(prev):\n",
    "    '''\n",
    "    aggregation with group of SK_ID_CURR, NAME_CONTRACT_STATUS\n",
    "    '''\n",
    "    prev_refused_appr_group = prev[prev['NAME_CONTRACT_STATUS'].isin(['Approved', 'Refused'])].groupby(['SK_ID_CURR', 'NAME_CONTRACT_STATUS'])\n",
    "    prev_refused_appr_agg = prev_refused_appr_group['SK_ID_CURR'].count().unstack()\n",
    "    #rename column\n",
    "    prev_refused_appr_agg.columns = ['PREV_APPROVED_COUNT', 'PREV_REFUSED_COUNT']  \n",
    "    prev_refused_appr_agg = prev_refused_appr_agg.fillna(0)\n",
    "    \n",
    "    return prev_refused_appr_agg\n",
    "\n",
    "def get_prev_days365_agg(prev):\n",
    "    '''\n",
    "    Aggregation for Days passed that relative to current application when was the decision about previous application made\n",
    "    '''\n",
    "    cond_days365 = prev['DAYS_DECISION'] > -365\n",
    "    prev_days365_group = prev[cond_days365].groupby('SK_ID_CURR')\n",
    "    \n",
    "    agg_dict = {\n",
    "        # 기존 컬럼 aggregation. \n",
    "        'SK_ID_CURR':['count'],\n",
    "        'AMT_CREDIT':['mean', 'max', 'sum'],\n",
    "        'AMT_ANNUITY':['mean', 'max', 'sum'], \n",
    "        'AMT_APPLICATION':['mean', 'max', 'sum'],\n",
    "        'AMT_DOWN_PAYMENT':['mean', 'max', 'sum'],\n",
    "        'AMT_GOODS_PRICE':['mean', 'max', 'sum'],\n",
    "        'RATE_DOWN_PAYMENT': ['min', 'max', 'mean'],\n",
    "        'DAYS_DECISION': ['min', 'max', 'mean'],\n",
    "        'CNT_PAYMENT': ['mean', 'sum'],\n",
    "         #가공 컬럼 aggregation\n",
    "        'PREV_CREDIT_DIFF':['mean', 'max', 'sum'], \n",
    "        'PREV_CREDIT_APPL_RATIO':['mean', 'max'],\n",
    "        'PREV_GOODS_DIFF':['mean', 'max', 'sum'],\n",
    "        'PREV_GOODS_APPL_RATIO':['mean', 'max'],\n",
    "        'PREV_DAYS_LAST_DUE_DIFF':['mean', 'max', 'sum'],\n",
    "        'PREV_INTERESTS_RATE':['mean', 'max']\n",
    "          \n",
    "    }\n",
    "    prev_days365_agg = prev_days365_group.agg(agg_dict)\n",
    "    prev_days365_agg.columns = [\"PREV_D365_\"+\"_\".join(column).upper() for column in prev_days365_agg.columns.ravel()]\n",
    "    return prev_days365_agg\n",
    "\n",
    "def get_prev_agg(prev):\n",
    "    '''\n",
    "    aggregation for previous appication \n",
    "    '''    \n",
    "    prev = get_prev_processed(prev)\n",
    "    prev_amt_agg = get_prev_amt_agg(prev)\n",
    "    prev_refused_appr_agg = get_prev_refused_appr_agg(prev)\n",
    "    prev_days365_agg = get_prev_days365_agg(prev)\n",
    "    \n",
    "    # prev_amt_agg와 조인. \n",
    "    prev_agg = prev_amt_agg.merge(prev_refused_appr_agg, on='SK_ID_CURR', how='left')\n",
    "    prev_agg = prev_agg.merge(prev_days365_agg, on='SK_ID_CURR', how='left')\n",
    "    \n",
    "    prev_agg['PREV_REFUSED_RATIO'] = prev_agg['PREV_REFUSED_COUNT'] / prev_agg['PREV_SK_ID_CURR_COUNT']\n",
    "    prev_agg['PREV_APPROVED_RATIO'] = prev_agg['PREV_APPROVED_COUNT'] / prev_agg['PREV_SK_ID_CURR_COUNT']\n",
    "    \n",
    "    # Drop column\n",
    "    prev_agg = prev_agg.drop(['PREV_REFUSED_COUNT', 'PREV_APPROVED_COUNT'], axis = 1)\n",
    "    return prev_agg\n",
    "\n",
    "\n",
    "def get_bureau_processed(bureau):\n",
    "    '''\n",
    "    feature engineering for bureau\n",
    "    '''    \n",
    "    # 채무완료 예정일자와 실제 채무완료일자의 차이.\n",
    "    bureau['BUREAU_ENDDATE_FACT_DIFF'] = bureau['DAYS_CREDIT_ENDDATE'] - bureau['DAYS_ENDDATE_FACT']\n",
    "    \n",
    "    # How many days before current application did client apply for Credit Bureau credit - DAYS_CREDIT\n",
    "    bureau['BUREAU_CREDIT_FACT_DIFF'] = bureau['DAYS_CREDIT'] - bureau['DAYS_ENDDATE_FACT']\n",
    "    bureau['BUREAU_CREDIT_ENDDATE_DIFF'] = bureau['DAYS_CREDIT'] - bureau['DAYS_CREDIT_ENDDATE']\n",
    "    \n",
    "    # Current debt on Credit Bureau credit - AMT_CREDIT_SUM_DEBT\n",
    "    # Current credit amount for the Credit Bureau credit - AMT_CREDIT_SUM\n",
    "    # debt ratio , debt differecne betweeb the sum of debt and the current sum of debt\n",
    "    bureau['BUREAU_CREDIT_DEBT_RATIO'] = bureau['AMT_CREDIT_SUM_DEBT'] / bureau['AMT_CREDIT_SUM']\n",
    "    bureau['BUREAU_CREDIT_DEBT_DIFF'] = bureau['AMT_CREDIT_SUM_DEBT'] - bureau['AMT_CREDIT_SUM']\n",
    "    \n",
    "    # Number of days past due on CB credit at the time of application for related loan in our sample\n",
    "    bureau['BUREAU_IS_DPD'] = bureau['CREDIT_DAY_OVERDUE'].apply(lambda x : 1 if x > 0 else 0)\n",
    "    bureau['BUREAU_IS_DPD_OVER120'] = bureau['CREDIT_DAY_OVERDUE'].apply(lambda x : 1 if x > 120 else 0)\n",
    "    \n",
    "    return bureau\n",
    "\n",
    "def get_bureau_day_amt_agg(bureau):\n",
    "    '''\n",
    "    Aggregation for bureau\n",
    "    '''\n",
    "    bureau_agg_dict = {\n",
    "    'SK_ID_BUREAU':['count'],\n",
    "    'DAYS_CREDIT':['min', 'max', 'mean'],\n",
    "    'CREDIT_DAY_OVERDUE':['min', 'max', 'mean'],\n",
    "    'DAYS_CREDIT_ENDDATE':['min', 'max', 'mean'],\n",
    "    'DAYS_ENDDATE_FACT':['min', 'max', 'mean'],\n",
    "    'AMT_CREDIT_MAX_OVERDUE': ['max', 'mean'],\n",
    "    'AMT_CREDIT_SUM': ['max', 'mean', 'sum'],\n",
    "    'AMT_CREDIT_SUM_DEBT': ['max', 'mean', 'sum'],\n",
    "    'AMT_CREDIT_SUM_OVERDUE': ['max', 'mean', 'sum'],\n",
    "    'AMT_ANNUITY': ['max', 'mean', 'sum'],\n",
    "    # 추가 가공 컬럼\n",
    "    'BUREAU_ENDDATE_FACT_DIFF':['min', 'max', 'mean'],\n",
    "    'BUREAU_CREDIT_FACT_DIFF':['min', 'max', 'mean'],\n",
    "    'BUREAU_CREDIT_ENDDATE_DIFF':['min', 'max', 'mean'],\n",
    "    'BUREAU_CREDIT_DEBT_RATIO':['min', 'max', 'mean'],\n",
    "    'BUREAU_CREDIT_DEBT_DIFF':['min', 'max', 'mean'],\n",
    "    'BUREAU_IS_DPD':['mean', 'sum'],\n",
    "    'BUREAU_IS_DPD_OVER120':['mean', 'sum']\n",
    "    }\n",
    "    \n",
    "    bureau_group = bureau.groupby('SK_ID_CURR')\n",
    "    bureau_day_amt_agg = bureau_group.agg(bureau_agg_dict)\n",
    "    bureau_day_amt_agg.columns = ['BUREAU_'+ '_'.join(column).upper() for column in bureau_day_amt_agg.columns.ravel()]\n",
    "    bureau_day_amt_agg = bureau_day_amt_agg.reset_index()\n",
    "    return bureau_day_amt_agg\n",
    "\n",
    "def get_bureau_active_agg(bureau):\n",
    "    '''\n",
    "    Aggregation for actvie - credit status\n",
    "    '''\n",
    "    cond_active = bureau['CREDIT_ACTIVE']=='Active'\n",
    "    bureau_active_group = bureau[cond_active].groupby('SK_ID_CURR')\n",
    "    \n",
    "    agg_dict = {\n",
    "        'SK_ID_BUREAU':['count'],\n",
    "        'DAYS_CREDIT':['min', 'max', 'mean'],\n",
    "        'CREDIT_DAY_OVERDUE':['min', 'max', 'mean'],\n",
    "        'DAYS_CREDIT_ENDDATE':['min', 'max', 'mean'],\n",
    "        'DAYS_ENDDATE_FACT':['min', 'max', 'mean'],\n",
    "        'AMT_CREDIT_MAX_OVERDUE': ['max', 'mean'],\n",
    "        'AMT_CREDIT_SUM': ['max', 'mean', 'sum'],\n",
    "        'AMT_CREDIT_SUM_DEBT': ['max', 'mean', 'sum'],\n",
    "        'AMT_CREDIT_SUM_OVERDUE': ['max', 'mean', 'sum'],\n",
    "        'AMT_ANNUITY': ['max', 'mean', 'sum'],\n",
    "        # 추가 가공 컬럼\n",
    "        'BUREAU_ENDDATE_FACT_DIFF':['min', 'max', 'mean'],\n",
    "        'BUREAU_CREDIT_FACT_DIFF':['min', 'max', 'mean'],\n",
    "        'BUREAU_CREDIT_ENDDATE_DIFF':['min', 'max', 'mean'],\n",
    "        'BUREAU_CREDIT_DEBT_RATIO':['min', 'max', 'mean'],\n",
    "        'BUREAU_CREDIT_DEBT_DIFF':['min', 'max', 'mean'],\n",
    "        'BUREAU_IS_DPD':['mean', 'sum'],\n",
    "        'BUREAU_IS_DPD_OVER120':['mean', 'sum']\n",
    "    }\n",
    "    bureau_active_agg = bureau_active_group.agg(agg_dict)\n",
    "    bureau_active_agg.columns = ['BUREAU_ACT_'+'_'.join(column).upper() for column in bureau_active_agg.columns.ravel()]\n",
    "    bureau_active_agg = bureau_active_agg.reset_index()\n",
    "    \n",
    "    return bureau_active_agg\n",
    "\n",
    "def get_bureau_days750_agg(bureau):\n",
    "    '''\n",
    "    \n",
    "    '''\n",
    "    cond_days750 = bureau['DAYS_CREDIT']> -750\n",
    "    bureau_days750_group = bureau[cond_days750].groupby('SK_ID_CURR')\n",
    "    \n",
    "    agg_dict = {\n",
    "        'SK_ID_BUREAU':['count'],\n",
    "        'DAYS_CREDIT':['min', 'max', 'mean'],\n",
    "        'CREDIT_DAY_OVERDUE':['min', 'max', 'mean'],\n",
    "        'DAYS_CREDIT_ENDDATE':['min', 'max', 'mean'],\n",
    "        'DAYS_ENDDATE_FACT':['min', 'max', 'mean'],\n",
    "        'AMT_CREDIT_MAX_OVERDUE': ['max', 'mean'],\n",
    "        'AMT_CREDIT_SUM': ['max', 'mean', 'sum'],\n",
    "        'AMT_CREDIT_SUM_DEBT': ['max', 'mean', 'sum'],\n",
    "        'AMT_CREDIT_SUM_OVERDUE': ['max', 'mean', 'sum'],\n",
    "        'AMT_ANNUITY': ['max', 'mean', 'sum'],\n",
    "        # 추가 가공 컬럼\n",
    "        'BUREAU_ENDDATE_FACT_DIFF':['min', 'max', 'mean'],\n",
    "        'BUREAU_CREDIT_FACT_DIFF':['min', 'max', 'mean'],\n",
    "        'BUREAU_CREDIT_ENDDATE_DIFF':['min', 'max', 'mean'],\n",
    "        'BUREAU_CREDIT_DEBT_RATIO':['min', 'max', 'mean'],\n",
    "        'BUREAU_CREDIT_DEBT_DIFF':['min', 'max', 'mean'],\n",
    "        'BUREAU_IS_DPD':['mean', 'sum'],\n",
    "        'BUREAU_IS_DPD_OVER120':['mean', 'sum']\n",
    "    }\n",
    "    bureau_days750_agg = bureau_days750_group.agg(agg_dict)\n",
    "    bureau_days750_agg.columns = ['BUREAU_ACT_'+'_'.join(column).upper() for column in bureau_days750_agg.columns.ravel()]\n",
    "    bureau_days750_agg = bureau_days750_agg.reset_index()\n",
    "    return bureau_days750_agg\n",
    "\n",
    "def get_bureau_bal_agg(bureau, bureau_bal):\n",
    "    '''\n",
    "    chronic overdue case classification \n",
    "    '''\n",
    "    bureau_bal = bureau_bal.merge(bureau[['SK_ID_CURR', 'SK_ID_BUREAU']], on='SK_ID_BUREAU', how='left')\n",
    "    bureau_bal['BUREAU_BAL_IS_DPD'] = bureau_bal['STATUS'].apply(lambda x: 1 if x in ['1', '2', '3', '4', '5'] else 0)\n",
    "    bureau_bal['BUREAU_BAL_IS_DPD_OVER120'] = bureau_bal['STATUS'].apply(lambda x: 1 if x =='5' else 0)  \n",
    "    bureau_bal_group = bureau_bal.groupby('SK_ID_CURR')\n",
    "    \n",
    "    bureau_bal_agg_dict = {\n",
    "        'SK_ID_CURR':['count'],\n",
    "        'MONTHS_BALANCE':['min', 'max', 'mean'],\n",
    "        'BUREAU_BAL_IS_DPD':['mean', 'sum'],\n",
    "        'BUREAU_BAL_IS_DPD_OVER120':['mean', 'sum']\n",
    "    }\n",
    "    bureau_bal_agg = bureau_bal_group.agg(bureau_bal_agg_dict)\n",
    "    bureau_bal_agg.columns = ['BUREAU_BAL_'+'_'.join(column).upper() for column in bureau_bal_agg.columns.ravel()]\n",
    "    bureau_bal_agg = bureau_bal_agg.reset_index()\n",
    "    \n",
    "    return bureau_bal_agg\n",
    "\n",
    "def get_bureau_agg(bureau, bureau_bal):\n",
    "    '''\n",
    "    Merge bureau, bureau_bal\n",
    "    '''\n",
    "    bureau = get_bureau_processed(bureau)\n",
    "    bureau_day_amt_agg = get_bureau_day_amt_agg(bureau)\n",
    "    bureau_active_agg  = get_bureau_active_agg(bureau)\n",
    "    bureau_days750_agg = get_bureau_days750_agg(bureau)\n",
    "    bureau_bal_agg = get_bureau_bal_agg(bureau, bureau_bal)\n",
    "    \n",
    "    bureau_agg = bureau_day_amt_agg.merge(bureau_active_agg, on='SK_ID_CURR')\n",
    "    bureau_agg['BUREAU_ACT_IS_DPD_RATIO'] = bureau_agg['BUREAU_ACT_BUREAU_IS_DPD_SUM']/bureau_agg['BUREAU_SK_ID_BUREAU_COUNT']\n",
    "    bureau_agg['BUREAU_ACT_IS_DPD_OVER120_RATIO'] = bureau_agg['BUREAU_ACT_BUREAU_IS_DPD_OVER120_SUM']/bureau_agg['BUREAU_SK_ID_BUREAU_COUNT']\n",
    "    \n",
    "    bureau_agg = bureau_agg.merge(bureau_bal_agg, on='SK_ID_CURR', how='left')\n",
    "    bureau_agg = bureau_agg.merge(bureau_days750_agg, on='SK_ID_CURR', how='left')    \n",
    "    \n",
    "    return bureau_agg\n",
    "\n",
    "def get_pos_bal_agg(pos_bal):\n",
    "    pos_bal['POS_IS_DPD'] = pos_bal['SK_DPD'].apply(lambda x: 1 if x > 0 else 0)\n",
    "    pos_bal['POS_IS_DPD_UNDER_120'] = pos_bal['SK_DPD'].apply(lambda x: 1 if (x > 0) & (x < 120) else 0 )\n",
    "    pos_bal['POS_IS_DPD_OVER_120'] = pos_bal['SK_DPD'].apply(lambda x: 1 if x >= 120 else 0)\n",
    "    \n",
    "    pos_bal_group = pos_bal.groupby('SK_ID_CURR')\n",
    "    pos_bal_agg_dict = {\n",
    "        'SK_ID_CURR':['count'], \n",
    "        'MONTHS_BALANCE':['min', 'mean', 'max'], \n",
    "        'SK_DPD':['min', 'max', 'mean', 'sum'],\n",
    "        'CNT_INSTALMENT':['min', 'max', 'mean', 'sum'],\n",
    "        'CNT_INSTALMENT_FUTURE':['min', 'max', 'mean', 'sum'],\n",
    "        'POS_IS_DPD':['mean', 'sum'],\n",
    "        'POS_IS_DPD_UNDER_120':['mean', 'sum'],\n",
    "        'POS_IS_DPD_OVER_120':['mean', 'sum']\n",
    "    }\n",
    "    pos_bal_agg = pos_bal_group.agg(pos_bal_agg_dict)\n",
    "    pos_bal_agg.columns = [\"POS_\"+\"_\".join(column).upper() for column in pos_bal_agg.columns.ravel()]\n",
    "    \n",
    "    cond_months = pos_bal['MONTHS_BALANCE'] > -20\n",
    "    pos_bal_m20_group = pos_bal[cond_months].groupby('SK_ID_CURR')\n",
    "    \n",
    "    pos_bal_m20_agg_dict = {\n",
    "        'SK_ID_CURR':['count'], \n",
    "        'MONTHS_BALANCE':['min', 'mean', 'max'], \n",
    "        'SK_DPD':['min', 'max', 'mean', 'sum'],\n",
    "        'CNT_INSTALMENT':['min', 'max', 'mean', 'sum'],\n",
    "        'CNT_INSTALMENT_FUTURE':['min', 'max', 'mean', 'sum'],\n",
    "        # 추가 컬럼. \n",
    "        'POS_IS_DPD':['mean', 'sum'],\n",
    "        'POS_IS_DPD_UNDER_120':['mean', 'sum'],\n",
    "        'POS_IS_DPD_OVER_120':['mean', 'sum']\n",
    "    }\n",
    "    pos_bal_m20_agg = pos_bal_m20_group.agg(pos_bal_m20_agg_dict)\n",
    "    pos_bal_m20_agg.columns = [\"POS_M20\"+\"_\".join(column).upper() for column in pos_bal_m20_agg.columns.ravel()]\n",
    "    \n",
    "    pos_bal_agg = pos_bal_agg.merge(pos_bal_m20_agg, on='SK_ID_CURR', how='left')\n",
    "    pos_bal_agg = pos_bal_agg.reset_index()\n",
    "    \n",
    "    return pos_bal_agg\n",
    "\n",
    "def get_install_agg(install):\n",
    "    # 예정 납부 금액 대비 실제 납부 금액 관련 데이터 가공. 예정 납부 일자 대비 실제 납부 일자 비교를 DPD 일자 생성  \n",
    "    install['AMT_DIFF'] = install['AMT_INSTALMENT'] - install['AMT_PAYMENT']\n",
    "    install['AMT_RATIO'] =  (install['AMT_PAYMENT'] +1)/ (install['AMT_INSTALMENT'] + 1)\n",
    "    install['SK_DPD'] = install['DAYS_ENTRY_PAYMENT'] - install['DAYS_INSTALMENT']\n",
    "\n",
    "    # 연체여부,  연체일수 30~ 120 사이 여부, 연체 일수 100보다 큰 여부 데이터 가공. \n",
    "    install['INS_IS_DPD'] = install['SK_DPD'].apply(lambda x: 1 if x > 0 else 0)\n",
    "    install['INS_IS_DPD_UNDER_120'] = install['SK_DPD'].apply(lambda x:1 if (x > 0) & (x <120) else 0 )\n",
    "    install['INS_IS_DPD_OVER_120'] = install['SK_DPD'].apply(lambda x:1 if x >= 120 else 0)\n",
    "\n",
    "    # 기존 컬럼과 신규 컬럼으로 SK_ID_CURR 레벨로 신규 aggregation 컬럼 생성. \n",
    "    install_grp = install.groupby('SK_ID_CURR')\n",
    "\n",
    "    install_agg_dict = {\n",
    "        'SK_ID_CURR':['count'],\n",
    "        'NUM_INSTALMENT_VERSION':['nunique'], \n",
    "        'DAYS_ENTRY_PAYMENT':['mean', 'max', 'sum'],\n",
    "        'DAYS_INSTALMENT':['mean', 'max', 'sum'],\n",
    "        'AMT_INSTALMENT':['mean', 'max', 'sum'],\n",
    "        'AMT_PAYMENT':['mean', 'max','sum'],\n",
    "        #  추가 컬럼\n",
    "        'AMT_DIFF':['mean','min', 'max','sum'],\n",
    "        'AMT_RATIO':['mean', 'max'],\n",
    "        'SK_DPD':['mean', 'min', 'max'],\n",
    "        'INS_IS_DPD':['mean', 'sum'],\n",
    "        'INS_IS_DPD_UNDER_120':['mean', 'sum'],\n",
    "        'INS_IS_DPD_OVER_120':['mean', 'sum']    \n",
    "    }\n",
    "\n",
    "    install_agg = install_grp.agg(install_agg_dict)\n",
    "    install_agg.columns = ['INS_'+('_').join(column).upper() for column in install_agg.columns.ravel()]\n",
    "\n",
    "    \n",
    "    # 실제 납부 일자(DAYS_ENTRY_PAYMENT)가 비교적 최근(1년 이내) 데이터만 별도로 가공\n",
    "    cond_day = install['DAYS_ENTRY_PAYMENT'] >= -365\n",
    "    install_d365_grp = install[cond_day].groupby('SK_ID_CURR')\n",
    "    install_d365_agg_dict = {\n",
    "        'SK_ID_CURR':['count'],\n",
    "        'NUM_INSTALMENT_VERSION':['nunique'], \n",
    "        'DAYS_ENTRY_PAYMENT':['mean', 'max', 'sum'],\n",
    "        'DAYS_INSTALMENT':['mean', 'max', 'sum'],\n",
    "        'AMT_INSTALMENT':['mean', 'max', 'sum'],\n",
    "        'AMT_PAYMENT':['mean', 'max','sum'],\n",
    "        #  추가 컬럼\n",
    "        'AMT_DIFF':['mean','min', 'max','sum'],\n",
    "        'AMT_RATIO':['mean', 'max'],\n",
    "        'SK_DPD':['mean', 'min', 'max'],\n",
    "        'INS_IS_DPD':['mean', 'sum'],\n",
    "        'INS_IS_DPD_UNDER_120':['mean', 'sum'],\n",
    "        'INS_IS_DPD_OVER_120':['mean', 'sum']    \n",
    "    }\n",
    "    \n",
    "    install_d365_agg = install_d365_grp.agg(install_d365_agg_dict)\n",
    "    install_d365_agg.columns = ['INS_D365'+('_').join(column).upper() for column in install_d365_agg.columns.ravel()]\n",
    "    \n",
    "    install_agg = install_agg.merge(install_d365_agg, on='SK_ID_CURR', how='left')\n",
    "    install_agg = install_agg.reset_index()\n",
    "    \n",
    "    return install_agg\n",
    "\n",
    "def get_card_bal_agg(card_bal):\n",
    "    # 월별 카드 허용한도에 따른 잔고와 인출 금액 비율 \n",
    "    card_bal['BALANCE_LIMIT_RATIO'] = card_bal['AMT_BALANCE']/card_bal['AMT_CREDIT_LIMIT_ACTUAL']\n",
    "    card_bal['DRAWING_LIMIT_RATIO'] = card_bal['AMT_DRAWINGS_CURRENT'] / card_bal['AMT_CREDIT_LIMIT_ACTUAL']\n",
    "\n",
    "    # DPD에 따른 가공 컬럼 생성.\n",
    "    card_bal['CARD_IS_DPD'] = card_bal['SK_DPD'].apply(lambda x: 1 if x > 0 else 0)\n",
    "    card_bal['CARD_IS_DPD_UNDER_120'] = card_bal['SK_DPD'].apply(lambda x:1 if (x > 0) & (x <120) else 0 )\n",
    "    card_bal['CARD_IS_DPD_OVER_120'] = card_bal['SK_DPD'].apply(lambda x:1 if x >= 120 else 0)\n",
    "\n",
    "    # 기존 컬럼과 가공 컬럼으로 SK_ID_CURR 레벨로 aggregation 신규 컬럼 생성. \n",
    "    card_bal_grp = card_bal.groupby('SK_ID_CURR')\n",
    "    card_bal_agg_dict = {\n",
    "        'SK_ID_CURR':['count'],\n",
    "         #'MONTHS_BALANCE':['min', 'max', 'mean'],\n",
    "        'AMT_BALANCE':['max'],\n",
    "        'AMT_CREDIT_LIMIT_ACTUAL':['max'],\n",
    "        'AMT_DRAWINGS_ATM_CURRENT': ['max', 'sum'],\n",
    "        'AMT_DRAWINGS_CURRENT': ['max', 'sum'],\n",
    "        'AMT_DRAWINGS_POS_CURRENT': ['max', 'sum'],\n",
    "        'AMT_INST_MIN_REGULARITY': ['max', 'mean'],\n",
    "        'AMT_PAYMENT_TOTAL_CURRENT': ['max','sum'],\n",
    "        'AMT_TOTAL_RECEIVABLE': ['max', 'mean'],\n",
    "        'CNT_DRAWINGS_ATM_CURRENT': ['max','sum'],\n",
    "        'CNT_DRAWINGS_CURRENT': ['max', 'mean', 'sum'],\n",
    "        'CNT_DRAWINGS_POS_CURRENT': ['mean'],\n",
    "        'SK_DPD': ['mean', 'max', 'sum'],\n",
    "        #  추가 컬럼\n",
    "        'BALANCE_LIMIT_RATIO':['min','max'],\n",
    "        'DRAWING_LIMIT_RATIO':['min', 'max'],\n",
    "        'CARD_IS_DPD':['mean', 'sum'],\n",
    "        'CARD_IS_DPD_UNDER_120':['mean', 'sum'],\n",
    "        'CARD_IS_DPD_OVER_120':['mean', 'sum']    \n",
    "    }\n",
    "    card_bal_agg = card_bal_grp.agg(card_bal_agg_dict)\n",
    "    card_bal_agg.columns = ['CARD_'+('_').join(column).upper() for column in card_bal_agg.columns.ravel()]\n",
    "\n",
    "    card_bal_agg = card_bal_agg.reset_index()\n",
    "    \n",
    "    # MONTHS_BALANCE가 비교적 최근 데이터( 3개월 이하)만 별도로 가공.  \n",
    "    cond_month = card_bal.MONTHS_BALANCE >= -3\n",
    "    card_bal_m3_grp = card_bal[cond_month].groupby('SK_ID_CURR')\n",
    "    card_bal_m3_agg = card_bal_m3_grp.agg(card_bal_agg_dict)\n",
    "    card_bal_m3_agg.columns = ['CARD_M3'+('_').join(column).upper() for column in card_bal_m3_agg.columns.ravel()]\n",
    "    \n",
    "    card_bal_agg = card_bal_agg.merge(card_bal_m3_agg, on='SK_ID_CURR', how='left')\n",
    "    card_bal_agg = card_bal_agg.reset_index()\n",
    "    \n",
    "    return card_bal_agg\n",
    "\n",
    "def get_apps_all_encoded(apps_all):\n",
    "    '''\n",
    "    encode feature\n",
    "    '''\n",
    "    object_columns = apps_all.dtypes[apps_all.dtypes == 'object'].index.to_list()\n",
    "    for column in object_columns:\n",
    "        apps_all[column] = pd.factorize(apps_all[column])[0]\n",
    "    return apps_all\n",
    "\n",
    "def get_apps_all_train_test(apps_all):\n",
    "    '''\n",
    "    split train or test datasets\n",
    "    return the two of datasets\n",
    "    '''\n",
    "    apps_all_train = apps_all[~apps_all['TARGET'].isnull()]\n",
    "    apps_all_test  = apps_all[apps_all['TARGET'].isnull()]\n",
    "    \n",
    "    apps_all_test = apps_all_test.drop('TARGET', axis = 1)\n",
    "    \n",
    "    return apps_all_train, apps_all_test"
   ]
  },
  {
   "cell_type": "code",
   "execution_count": 7,
   "id": "distinguished-mongolia",
   "metadata": {
    "execution": {
     "iopub.execute_input": "2021-04-08T06:01:19.066507Z",
     "iopub.status.busy": "2021-04-08T06:01:19.065340Z",
     "iopub.status.idle": "2021-04-08T06:01:19.070871Z",
     "shell.execute_reply": "2021-04-08T06:01:19.070243Z"
    },
    "papermill": {
     "duration": 0.039815,
     "end_time": "2021-04-08T06:01:19.071064",
     "exception": false,
     "start_time": "2021-04-08T06:01:19.031249",
     "status": "completed"
    },
    "tags": []
   },
   "outputs": [],
   "source": [
    "def get_apps_all_with_all_agg(apps, prev, bureau, bureau_bal, pos_bal, install, card_bal):\n",
    "    '''\n",
    "    return the single dataset after merging apps, prev, bureau,\n",
    "    bureau_bal, pos_bal, install, card_bal\n",
    "    '''\n",
    "    apps_all = get_apps_processed(apps)\n",
    "    prev_agg = get_prev_agg(prev)\n",
    "    bureau_agg = get_bureau_agg(bureau, bureau_bal)\n",
    "    pos_bal_agg = get_pos_bal_agg(pos_bal)\n",
    "    install_agg = get_install_agg(install)\n",
    "    card_bal_agg = get_card_bal_agg(card_bal)\n",
    "    \n",
    "    print('prev_agg shape:', prev_agg.shape, 'bureau_agg shape:', bureau_agg.shape )\n",
    "    print('pos_bal_agg shape:', pos_bal_agg.shape, 'install_agg shape:', install_agg.shape, 'card_bal_agg shape:', card_bal_agg.shape)\n",
    "    print('apps_all before merge shape:', apps_all.shape)\n",
    "    \n",
    "    apps_all = apps_all.merge(prev_agg, on='SK_ID_CURR', how='left')\n",
    "    apps_all = apps_all.merge(bureau_agg, on='SK_ID_CURR', how='left')\n",
    "    apps_all = apps_all.merge(pos_bal_agg, on='SK_ID_CURR', how='left')\n",
    "    apps_all = apps_all.merge(install_agg, on='SK_ID_CURR', how='left')\n",
    "    apps_all = apps_all.merge(card_bal_agg, on='SK_ID_CURR', how='left')\n",
    "    \n",
    "    print('apps_all after merge with all shape:', apps_all.shape)\n",
    "    \n",
    "    return apps_all "
   ]
  },
  {
   "cell_type": "markdown",
   "id": "defined-storage",
   "metadata": {
    "papermill": {
     "duration": 0.023822,
     "end_time": "2021-04-08T06:01:19.118719",
     "exception": false,
     "start_time": "2021-04-08T06:01:19.094897",
     "status": "completed"
    },
    "tags": []
   },
   "source": [
    "#### Read Eval Loop Print"
   ]
  },
  {
   "cell_type": "code",
   "execution_count": 8,
   "id": "czech-synthetic",
   "metadata": {
    "execution": {
     "iopub.execute_input": "2021-04-08T06:01:19.174065Z",
     "iopub.status.busy": "2021-04-08T06:01:19.173218Z",
     "iopub.status.idle": "2021-04-08T06:03:00.384489Z",
     "shell.execute_reply": "2021-04-08T06:03:00.383161Z"
    },
    "papermill": {
     "duration": 101.242232,
     "end_time": "2021-04-08T06:03:00.384718",
     "exception": false,
     "start_time": "2021-04-08T06:01:19.142486",
     "status": "completed"
    },
    "tags": []
   },
   "outputs": [],
   "source": [
    "apps, prev, bureau, bureau_bal, pos_bal, install, card_bal = get_dataset()"
   ]
  },
  {
   "cell_type": "code",
   "execution_count": 9,
   "id": "respective-anxiety",
   "metadata": {
    "execution": {
     "iopub.execute_input": "2021-04-08T06:03:00.442058Z",
     "iopub.status.busy": "2021-04-08T06:03:00.441229Z",
     "iopub.status.idle": "2021-04-08T06:03:03.612410Z",
     "shell.execute_reply": "2021-04-08T06:03:03.613203Z"
    },
    "papermill": {
     "duration": 3.20347,
     "end_time": "2021-04-08T06:03:03.613503",
     "exception": false,
     "start_time": "2021-04-08T06:03:00.410033",
     "status": "completed"
    },
    "tags": []
   },
   "outputs": [
    {
     "name": "stderr",
     "output_type": "stream",
     "text": [
      "/opt/conda/lib/python3.7/site-packages/ipykernel_launcher.py:84: FutureWarning: Index.ravel returning ndarray is deprecated; in a future version this will return a view on self.\n"
     ]
    }
   ],
   "source": [
    "prev = get_prev_processed(prev)\n",
    "prev_amt_agg = get_prev_amt_agg(prev)"
   ]
  },
  {
   "cell_type": "code",
   "execution_count": 10,
   "id": "known-ending",
   "metadata": {
    "execution": {
     "iopub.execute_input": "2021-04-08T06:03:03.671374Z",
     "iopub.status.busy": "2021-04-08T06:03:03.669903Z",
     "iopub.status.idle": "2021-04-08T06:03:05.320431Z",
     "shell.execute_reply": "2021-04-08T06:03:05.319380Z"
    },
    "papermill": {
     "duration": 1.681412,
     "end_time": "2021-04-08T06:03:05.320641",
     "exception": false,
     "start_time": "2021-04-08T06:03:03.639229",
     "status": "completed"
    },
    "tags": []
   },
   "outputs": [],
   "source": [
    "prev_refused_appr_agg = get_prev_refused_appr_agg(prev)"
   ]
  },
  {
   "cell_type": "code",
   "execution_count": 11,
   "id": "absolute-poland",
   "metadata": {
    "execution": {
     "iopub.execute_input": "2021-04-08T06:03:05.379431Z",
     "iopub.status.busy": "2021-04-08T06:03:05.378563Z",
     "iopub.status.idle": "2021-04-08T06:03:12.273336Z",
     "shell.execute_reply": "2021-04-08T06:03:12.272230Z"
    },
    "papermill": {
     "duration": 6.928341,
     "end_time": "2021-04-08T06:03:12.273546",
     "exception": false,
     "start_time": "2021-04-08T06:03:05.345205",
     "status": "completed"
    },
    "tags": []
   },
   "outputs": [
    {
     "name": "stderr",
     "output_type": "stream",
     "text": [
      "/opt/conda/lib/python3.7/site-packages/ipykernel_launcher.py:84: FutureWarning: Index.ravel returning ndarray is deprecated; in a future version this will return a view on self.\n",
      "/opt/conda/lib/python3.7/site-packages/ipykernel_launcher.py:128: FutureWarning: Index.ravel returning ndarray is deprecated; in a future version this will return a view on self.\n"
     ]
    }
   ],
   "source": [
    "prev_agg = get_prev_agg(prev)"
   ]
  },
  {
   "cell_type": "code",
   "execution_count": 12,
   "id": "copyrighted-bridge",
   "metadata": {
    "execution": {
     "iopub.execute_input": "2021-04-08T06:03:12.334027Z",
     "iopub.status.busy": "2021-04-08T06:03:12.333121Z",
     "iopub.status.idle": "2021-04-08T06:03:12.428007Z",
     "shell.execute_reply": "2021-04-08T06:03:12.427267Z"
    },
    "papermill": {
     "duration": 0.128997,
     "end_time": "2021-04-08T06:03:12.428209",
     "exception": false,
     "start_time": "2021-04-08T06:03:12.299212",
     "status": "completed"
    },
    "tags": []
   },
   "outputs": [
    {
     "name": "stdout",
     "output_type": "stream",
     "text": [
      "<class 'pandas.core.frame.DataFrame'>\n",
      "Int64Index: 338857 entries, 100001 to 456255\n",
      "Data columns (total 80 columns):\n",
      " #   Column                                  Non-Null Count   Dtype  \n",
      "---  ------                                  --------------   -----  \n",
      " 0   PREV_SK_ID_CURR_COUNT                   338857 non-null  int64  \n",
      " 1   PREV_AMT_CREDIT_MEAN                    338857 non-null  float64\n",
      " 2   PREV_AMT_CREDIT_MAX                     338857 non-null  float64\n",
      " 3   PREV_AMT_CREDIT_SUM                     338857 non-null  float64\n",
      " 4   PREV_AMT_ANNUITY_MEAN                   338377 non-null  float64\n",
      " 5   PREV_AMT_ANNUITY_MAX                    338377 non-null  float64\n",
      " 6   PREV_AMT_ANNUITY_SUM                    338857 non-null  float64\n",
      " 7   PREV_AMT_APPLICATION_MEAN               338857 non-null  float64\n",
      " 8   PREV_AMT_APPLICATION_MAX                338857 non-null  float64\n",
      " 9   PREV_AMT_APPLICATION_SUM                338857 non-null  float64\n",
      " 10  PREV_AMT_DOWN_PAYMENT_MEAN              318753 non-null  float64\n",
      " 11  PREV_AMT_DOWN_PAYMENT_MAX               318753 non-null  float64\n",
      " 12  PREV_AMT_DOWN_PAYMENT_SUM               338857 non-null  float64\n",
      " 13  PREV_AMT_GOODS_PRICE_MEAN               337793 non-null  float64\n",
      " 14  PREV_AMT_GOODS_PRICE_MAX                337793 non-null  float64\n",
      " 15  PREV_AMT_GOODS_PRICE_SUM                338857 non-null  float64\n",
      " 16  PREV_RATE_DOWN_PAYMENT_MIN              318753 non-null  float64\n",
      " 17  PREV_RATE_DOWN_PAYMENT_MAX              318753 non-null  float64\n",
      " 18  PREV_RATE_DOWN_PAYMENT_MEAN             318753 non-null  float64\n",
      " 19  PREV_DAYS_DECISION_MIN                  338857 non-null  int64  \n",
      " 20  PREV_DAYS_DECISION_MAX                  338857 non-null  int64  \n",
      " 21  PREV_DAYS_DECISION_MEAN                 338857 non-null  float64\n",
      " 22  PREV_CNT_PAYMENT_MEAN                   338379 non-null  float64\n",
      " 23  PREV_CNT_PAYMENT_SUM                    338857 non-null  float64\n",
      " 24  PREV_PREV_CREDIT_DIFF_MEAN              338857 non-null  float64\n",
      " 25  PREV_PREV_CREDIT_DIFF_MAX               338857 non-null  float64\n",
      " 26  PREV_PREV_CREDIT_DIFF_SUM               338857 non-null  float64\n",
      " 27  PREV_PREV_CREDIT_APPL_RATIO_MEAN        338605 non-null  float64\n",
      " 28  PREV_PREV_CREDIT_APPL_RATIO_MAX         338605 non-null  float64\n",
      " 29  PREV_PREV_GOODS_DIFF_MEAN               337793 non-null  float64\n",
      " 30  PREV_PREV_GOODS_DIFF_MAX                337793 non-null  float64\n",
      " 31  PREV_PREV_GOODS_DIFF_SUM                338857 non-null  float64\n",
      " 32  PREV_PREV_GOODS_APPL_RATIO_MEAN         337752 non-null  float64\n",
      " 33  PREV_PREV_GOODS_APPL_RATIO_MAX          337752 non-null  float64\n",
      " 34  PREV_PREV_DAYS_LAST_DUE_DIFF_MEAN       312263 non-null  float64\n",
      " 35  PREV_PREV_DAYS_LAST_DUE_DIFF_MAX        312263 non-null  float64\n",
      " 36  PREV_PREV_DAYS_LAST_DUE_DIFF_SUM        338857 non-null  float64\n",
      " 37  PREV_PREV_INTERESTS_RATE_MEAN           338376 non-null  float64\n",
      " 38  PREV_PREV_INTERESTS_RATE_MAX            338376 non-null  float64\n",
      " 39  PREV_D365_SK_ID_CURR_COUNT              195158 non-null  float64\n",
      " 40  PREV_D365_AMT_CREDIT_MEAN               195158 non-null  float64\n",
      " 41  PREV_D365_AMT_CREDIT_MAX                195158 non-null  float64\n",
      " 42  PREV_D365_AMT_CREDIT_SUM                195158 non-null  float64\n",
      " 43  PREV_D365_AMT_ANNUITY_MEAN              162864 non-null  float64\n",
      " 44  PREV_D365_AMT_ANNUITY_MAX               162864 non-null  float64\n",
      " 45  PREV_D365_AMT_ANNUITY_SUM               195158 non-null  float64\n",
      " 46  PREV_D365_AMT_APPLICATION_MEAN          195158 non-null  float64\n",
      " 47  PREV_D365_AMT_APPLICATION_MAX           195158 non-null  float64\n",
      " 48  PREV_D365_AMT_APPLICATION_SUM           195158 non-null  float64\n",
      " 49  PREV_D365_AMT_DOWN_PAYMENT_MEAN         92632 non-null   float64\n",
      " 50  PREV_D365_AMT_DOWN_PAYMENT_MAX          92632 non-null   float64\n",
      " 51  PREV_D365_AMT_DOWN_PAYMENT_SUM          195158 non-null  float64\n",
      " 52  PREV_D365_AMT_GOODS_PRICE_MEAN          165391 non-null  float64\n",
      " 53  PREV_D365_AMT_GOODS_PRICE_MAX           165391 non-null  float64\n",
      " 54  PREV_D365_AMT_GOODS_PRICE_SUM           195158 non-null  float64\n",
      " 55  PREV_D365_RATE_DOWN_PAYMENT_MIN         92632 non-null   float64\n",
      " 56  PREV_D365_RATE_DOWN_PAYMENT_MAX         92632 non-null   float64\n",
      " 57  PREV_D365_RATE_DOWN_PAYMENT_MEAN        92632 non-null   float64\n",
      " 58  PREV_D365_DAYS_DECISION_MIN             195158 non-null  float64\n",
      " 59  PREV_D365_DAYS_DECISION_MAX             195158 non-null  float64\n",
      " 60  PREV_D365_DAYS_DECISION_MEAN            195158 non-null  float64\n",
      " 61  PREV_D365_CNT_PAYMENT_MEAN              162864 non-null  float64\n",
      " 62  PREV_D365_CNT_PAYMENT_SUM               195158 non-null  float64\n",
      " 63  PREV_D365_PREV_CREDIT_DIFF_MEAN         195158 non-null  float64\n",
      " 64  PREV_D365_PREV_CREDIT_DIFF_MAX          195158 non-null  float64\n",
      " 65  PREV_D365_PREV_CREDIT_DIFF_SUM          195158 non-null  float64\n",
      " 66  PREV_D365_PREV_CREDIT_APPL_RATIO_MEAN   165596 non-null  float64\n",
      " 67  PREV_D365_PREV_CREDIT_APPL_RATIO_MAX    165596 non-null  float64\n",
      " 68  PREV_D365_PREV_GOODS_DIFF_MEAN          165391 non-null  float64\n",
      " 69  PREV_D365_PREV_GOODS_DIFF_MAX           165391 non-null  float64\n",
      " 70  PREV_D365_PREV_GOODS_DIFF_SUM           195158 non-null  float64\n",
      " 71  PREV_D365_PREV_GOODS_APPL_RATIO_MEAN    165382 non-null  float64\n",
      " 72  PREV_D365_PREV_GOODS_APPL_RATIO_MAX     165382 non-null  float64\n",
      " 73  PREV_D365_PREV_DAYS_LAST_DUE_DIFF_MEAN  49453 non-null   float64\n",
      " 74  PREV_D365_PREV_DAYS_LAST_DUE_DIFF_MAX   49453 non-null   float64\n",
      " 75  PREV_D365_PREV_DAYS_LAST_DUE_DIFF_SUM   195158 non-null  float64\n",
      " 76  PREV_D365_PREV_INTERESTS_RATE_MEAN      162855 non-null  float64\n",
      " 77  PREV_D365_PREV_INTERESTS_RATE_MAX       162855 non-null  float64\n",
      " 78  PREV_REFUSED_RATIO                      338402 non-null  float64\n",
      " 79  PREV_APPROVED_RATIO                     338402 non-null  float64\n",
      "dtypes: float64(77), int64(3)\n",
      "memory usage: 209.4 MB\n"
     ]
    }
   ],
   "source": [
    "prev_agg.info()"
   ]
  },
  {
   "cell_type": "markdown",
   "id": "widespread-content",
   "metadata": {
    "id": "2LSOelUcEPpS",
    "papermill": {
     "duration": 0.026031,
     "end_time": "2021-04-08T06:03:12.480707",
     "exception": false,
     "start_time": "2021-04-08T06:03:12.454676",
     "status": "completed"
    },
    "tags": []
   },
   "source": [
    "#### Creation of the final train and test datasets"
   ]
  },
  {
   "cell_type": "markdown",
   "id": "broken-option",
   "metadata": {
    "papermill": {
     "duration": 0.025726,
     "end_time": "2021-04-08T06:03:12.532696",
     "exception": false,
     "start_time": "2021-04-08T06:03:12.506970",
     "status": "completed"
    },
    "tags": []
   },
   "source": [
    "##### memory clear"
   ]
  },
  {
   "cell_type": "code",
   "execution_count": 13,
   "id": "brutal-headset",
   "metadata": {
    "collapsed": true,
    "execution": {
     "iopub.execute_input": "2021-04-08T06:03:12.606917Z",
     "iopub.status.busy": "2021-04-08T06:03:12.605996Z",
     "iopub.status.idle": "2021-04-08T06:03:12.777688Z",
     "shell.execute_reply": "2021-04-08T06:03:12.776970Z"
    },
    "jupyter": {
     "outputs_hidden": true
    },
    "papermill": {
     "duration": 0.21814,
     "end_time": "2021-04-08T06:03:12.777884",
     "exception": false,
     "start_time": "2021-04-08T06:03:12.559744",
     "status": "completed"
    },
    "tags": []
   },
   "outputs": [
    {
     "ename": "NameError",
     "evalue": "name 'pos_ball' is not defined",
     "output_type": "error",
     "traceback": [
      "\u001b[0;31m---------------------------------------------------------------------------\u001b[0m",
      "\u001b[0;31mNameError\u001b[0m                                 Traceback (most recent call last)",
      "\u001b[0;32m<ipython-input-13-3e637bda1f8f>\u001b[0m in \u001b[0;36m<module>\u001b[0;34m\u001b[0m\n\u001b[0;32m----> 1\u001b[0;31m \u001b[0;32mdel\u001b[0m \u001b[0mapps\u001b[0m\u001b[0;34m,\u001b[0m \u001b[0mprev\u001b[0m\u001b[0;34m,\u001b[0m \u001b[0mbureau\u001b[0m\u001b[0;34m,\u001b[0m \u001b[0mbureau_bal\u001b[0m\u001b[0;34m,\u001b[0m \u001b[0mpos_ball\u001b[0m\u001b[0;34m,\u001b[0m \u001b[0minstall\u001b[0m\u001b[0;34m,\u001b[0m \u001b[0mcard_bal\u001b[0m\u001b[0;34m,\u001b[0m \u001b[0mapps_all\u001b[0m\u001b[0;34m,\u001b[0m \u001b[0mapps_all_train\u001b[0m\u001b[0;34m,\u001b[0m \u001b[0mapps_all_test\u001b[0m\u001b[0;34m\u001b[0m\u001b[0;34m\u001b[0m\u001b[0m\n\u001b[0m",
      "\u001b[0;31mNameError\u001b[0m: name 'pos_ball' is not defined"
     ]
    }
   ],
   "source": [
    "del apps, prev, bureau, bureau_bal, pos_ball, install, card_bal, apps_all, apps_all_train, apps_all_test"
   ]
  },
  {
   "cell_type": "code",
   "execution_count": 14,
   "id": "understanding-dallas",
   "metadata": {
    "execution": {
     "iopub.execute_input": "2021-04-08T06:03:12.840314Z",
     "iopub.status.busy": "2021-04-08T06:03:12.839490Z",
     "iopub.status.idle": "2021-04-08T06:07:21.069669Z",
     "shell.execute_reply": "2021-04-08T06:07:21.068790Z"
    },
    "id": "jNVA-JP_EPpU",
    "papermill": {
     "duration": 248.26475,
     "end_time": "2021-04-08T06:07:21.069872",
     "exception": false,
     "start_time": "2021-04-08T06:03:12.805122",
     "status": "completed"
    },
    "tags": []
   },
   "outputs": [
    {
     "name": "stderr",
     "output_type": "stream",
     "text": [
      "/opt/conda/lib/python3.7/site-packages/ipykernel_launcher.py:84: FutureWarning: Index.ravel returning ndarray is deprecated; in a future version this will return a view on self.\n",
      "/opt/conda/lib/python3.7/site-packages/ipykernel_launcher.py:128: FutureWarning: Index.ravel returning ndarray is deprecated; in a future version this will return a view on self.\n",
      "/opt/conda/lib/python3.7/site-packages/ipykernel_launcher.py:202: FutureWarning: Index.ravel returning ndarray is deprecated; in a future version this will return a view on self.\n",
      "/opt/conda/lib/python3.7/site-packages/ipykernel_launcher.py:234: FutureWarning: Index.ravel returning ndarray is deprecated; in a future version this will return a view on self.\n",
      "/opt/conda/lib/python3.7/site-packages/ipykernel_launcher.py:267: FutureWarning: Index.ravel returning ndarray is deprecated; in a future version this will return a view on self.\n",
      "/opt/conda/lib/python3.7/site-packages/ipykernel_launcher.py:287: FutureWarning: Index.ravel returning ndarray is deprecated; in a future version this will return a view on self.\n",
      "/opt/conda/lib/python3.7/site-packages/ipykernel_launcher.py:328: FutureWarning: Index.ravel returning ndarray is deprecated; in a future version this will return a view on self.\n",
      "/opt/conda/lib/python3.7/site-packages/ipykernel_launcher.py:345: FutureWarning: Index.ravel returning ndarray is deprecated; in a future version this will return a view on self.\n",
      "/opt/conda/lib/python3.7/site-packages/ipykernel_launcher.py:383: FutureWarning: Index.ravel returning ndarray is deprecated; in a future version this will return a view on self.\n",
      "/opt/conda/lib/python3.7/site-packages/ipykernel_launcher.py:406: FutureWarning: Index.ravel returning ndarray is deprecated; in a future version this will return a view on self.\n",
      "/opt/conda/lib/python3.7/site-packages/ipykernel_launcher.py:448: FutureWarning: Index.ravel returning ndarray is deprecated; in a future version this will return a view on self.\n",
      "/opt/conda/lib/python3.7/site-packages/ipykernel_launcher.py:456: FutureWarning: Index.ravel returning ndarray is deprecated; in a future version this will return a view on self.\n"
     ]
    },
    {
     "name": "stdout",
     "output_type": "stream",
     "text": [
      "prev_agg shape: (338857, 80) bureau_agg shape: (251815, 149)\n",
      "pos_bal_agg shape: (337252, 45) install_agg shape: (339587, 59) card_bal_agg shape: (103558, 70)\n",
      "apps_all before merge shape: (356255, 135)\n",
      "apps_all after merge with all shape: (356255, 534)\n"
     ]
    }
   ],
   "source": [
    "apps, prev, bureau, bureau_bal, pos_ball, install, card_bal = get_dataset()\n",
    "\n",
    "apps_all = get_apps_all_with_all_agg(apps, prev, bureau, bureau_bal, pos_ball, install, card_bal)\n",
    "\n",
    "# proceed The label encoding\n",
    "apps_all = get_apps_all_encoded(apps_all)\n",
    "\n",
    "apps_all_train, apps_all_test = get_apps_all_train_test(apps_all)"
   ]
  },
  {
   "cell_type": "markdown",
   "id": "laden-month",
   "metadata": {
    "id": "YOSqCnCZerKa",
    "papermill": {
     "duration": 0.030845,
     "end_time": "2021-04-08T06:07:21.132168",
     "exception": false,
     "start_time": "2021-04-08T06:07:21.101323",
     "status": "completed"
    },
    "tags": []
   },
   "source": [
    "#### OOF Prediction"
   ]
  },
  {
   "cell_type": "code",
   "execution_count": 15,
   "id": "owned-parameter",
   "metadata": {
    "execution": {
     "iopub.execute_input": "2021-04-08T06:07:21.201323Z",
     "iopub.status.busy": "2021-04-08T06:07:21.200052Z",
     "iopub.status.idle": "2021-04-08T06:07:21.389058Z",
     "shell.execute_reply": "2021-04-08T06:07:21.387387Z"
    },
    "id": "P6w04O0zEPpb",
    "papermill": {
     "duration": 0.226142,
     "end_time": "2021-04-08T06:07:21.389312",
     "exception": false,
     "start_time": "2021-04-08T06:07:21.163170",
     "status": "completed"
    },
    "tags": []
   },
   "outputs": [
    {
     "data": {
      "text/html": [
       "<style type='text/css'>\n",
       ".datatable table.frame { margin-bottom: 0; }\n",
       ".datatable table.frame thead { border-bottom: none; }\n",
       ".datatable table.frame tr.coltypes td {  color: #FFFFFF;  line-height: 6px;  padding: 0 0.5em;}\n",
       ".datatable .bool    { background: #DDDD99; }\n",
       ".datatable .object  { background: #565656; }\n",
       ".datatable .int     { background: #5D9E5D; }\n",
       ".datatable .float   { background: #4040CC; }\n",
       ".datatable .str     { background: #CC4040; }\n",
       ".datatable .row_index {  background: var(--jp-border-color3);  border-right: 1px solid var(--jp-border-color0);  color: var(--jp-ui-font-color3);  font-size: 9px;}\n",
       ".datatable .frame tr.coltypes .row_index {  background: var(--jp-border-color0);}\n",
       ".datatable th:nth-child(2) { padding-left: 12px; }\n",
       ".datatable .hellipsis {  color: var(--jp-cell-editor-border-color);}\n",
       ".datatable .vellipsis {  background: var(--jp-layout-color0);  color: var(--jp-cell-editor-border-color);}\n",
       ".datatable .na {  color: var(--jp-cell-editor-border-color);  font-size: 80%;}\n",
       ".datatable .footer { font-size: 9px; }\n",
       ".datatable .frame_dimensions {  background: var(--jp-border-color3);  border-top: 1px solid var(--jp-border-color0);  color: var(--jp-ui-font-color3);  display: inline-block;  opacity: 0.6;  padding: 1px 10px 1px 5px;}\n",
       "</style>\n"
      ],
      "text/plain": [
       "<IPython.core.display.HTML object>"
      ]
     },
     "metadata": {},
     "output_type": "display_data"
    }
   ],
   "source": [
    "from sklearn.model_selection import KFold\n",
    "from lightgbm import LGBMClassifier"
   ]
  },
  {
   "cell_type": "code",
   "execution_count": 16,
   "id": "corrected-immigration",
   "metadata": {
    "execution": {
     "iopub.execute_input": "2021-04-08T06:07:21.472067Z",
     "iopub.status.busy": "2021-04-08T06:07:21.471235Z",
     "iopub.status.idle": "2021-04-08T06:07:21.475966Z",
     "shell.execute_reply": "2021-04-08T06:07:21.475185Z"
    },
    "papermill": {
     "duration": 0.052414,
     "end_time": "2021-04-08T06:07:21.476151",
     "exception": false,
     "start_time": "2021-04-08T06:07:21.423737",
     "status": "completed"
    },
    "tags": []
   },
   "outputs": [],
   "source": [
    "def train_apps_all_with_oof(apps_all_train, apps_all_test, nfolds = 5):\n",
    "    '''\n",
    "    Out of Fold prediction\n",
    "    '''\n",
    "    ftr_app = apps_all_train.drop(['SK_ID_CURR', 'TARGET'], axis = 1)\n",
    "    target_app = apps_all_train['TARGET']\n",
    "    \n",
    "    #KFold object declaration \n",
    "    folds = KFold(n_splits=nfolds, shuffle=True, random_state = 2020)\n",
    "    \n",
    "    oof_preds = np.zeros(ftr_app.shape[0])\n",
    "    \n",
    "    # should be test dataset\n",
    "    test_preds = np.zeros(apps_all_test.shape[0])\n",
    "    \n",
    "    # the size of n_estimator scale up 4000\n",
    "    clf = LGBMClassifier(\n",
    "                nthread=4,\n",
    "                n_estimators=4000,\n",
    "                learning_rate=0.01,\n",
    "                max_depth = 11,\n",
    "                num_leaves=58,\n",
    "                colsample_bytree=0.613,\n",
    "                subsample=0.708,\n",
    "                max_bin=407,\n",
    "                reg_alpha=3.564,\n",
    "                reg_lambda=4.930,\n",
    "                min_child_weight= 6,\n",
    "                min_child_samples=165,\n",
    "                silent=-1,\n",
    "                verbose=-1,)\n",
    "    for fold_idx, (train_idx, valid_idx) in enumerate(folds.split(ftr_app)):\n",
    "        print(\"##### Iteration  {} starts \".format(fold_idx))\n",
    "        \n",
    "        # get train dataset, valid dataset\n",
    "        train_X = ftr_app.iloc[train_idx, :]  \n",
    "        train_Y = target_app.iloc[train_idx]\n",
    "        \n",
    "        valid_X = ftr_app.iloc[valid_idx, :]\n",
    "        valid_Y = target_app.iloc[valid_idx]\n",
    "        \n",
    "        # fit\n",
    "        clf.fit(train_X, train_Y, eval_set=[(train_X, train_Y), (valid_X, valid_Y)], eval_metric = 'auc', verbose=200, early_stopping_rounds=200)\n",
    "        oof_preds[valid_idx] = clf.predict_proba(valid_X, num_iteration = clf.best_iteration_)[: , 1]\n",
    "        \n",
    "        test_preds += clf.predict_proba(apps_all_test.drop('SK_ID_CURR', axis=1), num_iteration=clf.best_iteration_)[:, 1]/folds.n_splits\n",
    "    return clf, test_preds"
   ]
  },
  {
   "cell_type": "code",
   "execution_count": 17,
   "id": "forbidden-nature",
   "metadata": {
    "execution": {
     "iopub.execute_input": "2021-04-08T06:07:21.547585Z",
     "iopub.status.busy": "2021-04-08T06:07:21.546512Z",
     "iopub.status.idle": "2021-04-08T07:36:10.982787Z",
     "shell.execute_reply": "2021-04-08T07:36:10.983686Z"
    },
    "papermill": {
     "duration": 5329.475884,
     "end_time": "2021-04-08T07:36:10.985788",
     "exception": false,
     "start_time": "2021-04-08T06:07:21.509904",
     "status": "completed"
    },
    "tags": []
   },
   "outputs": [
    {
     "name": "stdout",
     "output_type": "stream",
     "text": [
      "2021-04-08 06:07:21.547877\n",
      "##### Iteration  0 starts \n",
      "[LightGBM] [Warning] num_threads is set with nthread=4, will be overridden by n_jobs=-1. Current value: num_threads=-1\n",
      "Training until validation scores don't improve for 200 rounds\n",
      "[200]\ttraining's auc: 0.794418\ttraining's binary_logloss: 0.239796\tvalid_1's auc: 0.771814\tvalid_1's binary_logloss: 0.242425\n",
      "[400]\ttraining's auc: 0.817113\ttraining's binary_logloss: 0.228711\tvalid_1's auc: 0.782985\tvalid_1's binary_logloss: 0.236552\n",
      "[600]\ttraining's auc: 0.832842\ttraining's binary_logloss: 0.22159\tvalid_1's auc: 0.787889\tvalid_1's binary_logloss: 0.234311\n",
      "[800]\ttraining's auc: 0.845996\ttraining's binary_logloss: 0.215867\tvalid_1's auc: 0.790464\tvalid_1's binary_logloss: 0.233207\n",
      "[1000]\ttraining's auc: 0.857427\ttraining's binary_logloss: 0.2109\tvalid_1's auc: 0.792035\tvalid_1's binary_logloss: 0.232537\n",
      "[1200]\ttraining's auc: 0.867764\ttraining's binary_logloss: 0.206419\tvalid_1's auc: 0.792908\tvalid_1's binary_logloss: 0.232175\n",
      "[1400]\ttraining's auc: 0.877078\ttraining's binary_logloss: 0.202252\tvalid_1's auc: 0.793514\tvalid_1's binary_logloss: 0.231906\n",
      "[1600]\ttraining's auc: 0.885467\ttraining's binary_logloss: 0.198419\tvalid_1's auc: 0.793827\tvalid_1's binary_logloss: 0.231748\n",
      "[1800]\ttraining's auc: 0.892969\ttraining's binary_logloss: 0.194788\tvalid_1's auc: 0.794051\tvalid_1's binary_logloss: 0.231647\n",
      "[2000]\ttraining's auc: 0.899982\ttraining's binary_logloss: 0.191316\tvalid_1's auc: 0.794163\tvalid_1's binary_logloss: 0.231597\n",
      "[2200]\ttraining's auc: 0.906557\ttraining's binary_logloss: 0.187977\tvalid_1's auc: 0.794152\tvalid_1's binary_logloss: 0.231586\n",
      "Early stopping, best iteration is:\n",
      "[2026]\ttraining's auc: 0.900834\ttraining's binary_logloss: 0.190877\tvalid_1's auc: 0.794203\tvalid_1's binary_logloss: 0.231577\n",
      "##### Iteration  1 starts \n",
      "[LightGBM] [Warning] num_threads is set with nthread=4, will be overridden by n_jobs=-1. Current value: num_threads=-1\n",
      "Training until validation scores don't improve for 200 rounds\n",
      "[200]\ttraining's auc: 0.794948\ttraining's binary_logloss: 0.238347\tvalid_1's auc: 0.768928\tvalid_1's binary_logloss: 0.247915\n",
      "[400]\ttraining's auc: 0.817415\ttraining's binary_logloss: 0.227292\tvalid_1's auc: 0.78155\tvalid_1's binary_logloss: 0.241831\n",
      "[600]\ttraining's auc: 0.833001\ttraining's binary_logloss: 0.220228\tvalid_1's auc: 0.787677\tvalid_1's binary_logloss: 0.23937\n",
      "[800]\ttraining's auc: 0.845794\ttraining's binary_logloss: 0.214631\tvalid_1's auc: 0.790663\tvalid_1's binary_logloss: 0.238206\n",
      "[1000]\ttraining's auc: 0.857316\ttraining's binary_logloss: 0.209634\tvalid_1's auc: 0.792485\tvalid_1's binary_logloss: 0.237503\n",
      "[1200]\ttraining's auc: 0.867401\ttraining's binary_logloss: 0.205168\tvalid_1's auc: 0.793752\tvalid_1's binary_logloss: 0.237032\n",
      "[1400]\ttraining's auc: 0.876417\ttraining's binary_logloss: 0.201096\tvalid_1's auc: 0.794474\tvalid_1's binary_logloss: 0.236759\n",
      "[1600]\ttraining's auc: 0.884666\ttraining's binary_logloss: 0.197266\tvalid_1's auc: 0.794902\tvalid_1's binary_logloss: 0.236617\n",
      "[1800]\ttraining's auc: 0.892276\ttraining's binary_logloss: 0.19365\tvalid_1's auc: 0.795134\tvalid_1's binary_logloss: 0.236541\n",
      "[2000]\ttraining's auc: 0.899363\ttraining's binary_logloss: 0.190168\tvalid_1's auc: 0.795386\tvalid_1's binary_logloss: 0.23645\n",
      "[2200]\ttraining's auc: 0.905871\ttraining's binary_logloss: 0.186835\tvalid_1's auc: 0.795667\tvalid_1's binary_logloss: 0.236372\n",
      "[2400]\ttraining's auc: 0.911852\ttraining's binary_logloss: 0.183636\tvalid_1's auc: 0.795746\tvalid_1's binary_logloss: 0.23636\n",
      "[2600]\ttraining's auc: 0.917546\ttraining's binary_logloss: 0.180549\tvalid_1's auc: 0.795822\tvalid_1's binary_logloss: 0.236354\n",
      "[2800]\ttraining's auc: 0.922989\ttraining's binary_logloss: 0.177513\tvalid_1's auc: 0.795916\tvalid_1's binary_logloss: 0.236358\n",
      "[3000]\ttraining's auc: 0.928096\ttraining's binary_logloss: 0.174572\tvalid_1's auc: 0.796114\tvalid_1's binary_logloss: 0.236307\n",
      "Early stopping, best iteration is:\n",
      "[2923]\ttraining's auc: 0.926195\ttraining's binary_logloss: 0.175687\tvalid_1's auc: 0.796103\tvalid_1's binary_logloss: 0.236295\n",
      "##### Iteration  2 starts \n",
      "[LightGBM] [Warning] num_threads is set with nthread=4, will be overridden by n_jobs=-1. Current value: num_threads=-1\n",
      "Training until validation scores don't improve for 200 rounds\n",
      "[200]\ttraining's auc: 0.795134\ttraining's binary_logloss: 0.238919\tvalid_1's auc: 0.767113\tvalid_1's binary_logloss: 0.245692\n",
      "[400]\ttraining's auc: 0.817494\ttraining's binary_logloss: 0.227838\tvalid_1's auc: 0.779954\tvalid_1's binary_logloss: 0.239759\n",
      "[600]\ttraining's auc: 0.833124\ttraining's binary_logloss: 0.220714\tvalid_1's auc: 0.786067\tvalid_1's binary_logloss: 0.237359\n",
      "[800]\ttraining's auc: 0.845763\ttraining's binary_logloss: 0.21507\tvalid_1's auc: 0.789272\tvalid_1's binary_logloss: 0.236173\n",
      "[1000]\ttraining's auc: 0.856966\ttraining's binary_logloss: 0.210127\tvalid_1's auc: 0.791094\tvalid_1's binary_logloss: 0.235514\n",
      "[1200]\ttraining's auc: 0.867277\ttraining's binary_logloss: 0.205626\tvalid_1's auc: 0.792238\tvalid_1's binary_logloss: 0.235124\n",
      "[1400]\ttraining's auc: 0.876609\ttraining's binary_logloss: 0.201489\tvalid_1's auc: 0.792683\tvalid_1's binary_logloss: 0.234939\n",
      "[1600]\ttraining's auc: 0.885168\ttraining's binary_logloss: 0.197621\tvalid_1's auc: 0.793151\tvalid_1's binary_logloss: 0.234763\n",
      "[1800]\ttraining's auc: 0.89297\ttraining's binary_logloss: 0.193944\tvalid_1's auc: 0.79354\tvalid_1's binary_logloss: 0.23463\n",
      "[2000]\ttraining's auc: 0.900072\ttraining's binary_logloss: 0.190464\tvalid_1's auc: 0.793667\tvalid_1's binary_logloss: 0.234575\n",
      "[2200]\ttraining's auc: 0.906704\ttraining's binary_logloss: 0.187129\tvalid_1's auc: 0.793826\tvalid_1's binary_logloss: 0.234518\n",
      "[2400]\ttraining's auc: 0.912819\ttraining's binary_logloss: 0.183887\tvalid_1's auc: 0.793952\tvalid_1's binary_logloss: 0.234498\n",
      "[2600]\ttraining's auc: 0.918579\ttraining's binary_logloss: 0.180767\tvalid_1's auc: 0.794138\tvalid_1's binary_logloss: 0.234453\n",
      "[2800]\ttraining's auc: 0.923916\ttraining's binary_logloss: 0.17777\tvalid_1's auc: 0.794135\tvalid_1's binary_logloss: 0.234472\n",
      "Early stopping, best iteration is:\n",
      "[2626]\ttraining's auc: 0.919276\ttraining's binary_logloss: 0.180372\tvalid_1's auc: 0.794165\tvalid_1's binary_logloss: 0.234448\n",
      "##### Iteration  3 starts \n",
      "[LightGBM] [Warning] num_threads is set with nthread=4, will be overridden by n_jobs=-1. Current value: num_threads=-1\n",
      "Training until validation scores don't improve for 200 rounds\n",
      "[200]\ttraining's auc: 0.79548\ttraining's binary_logloss: 0.239242\tvalid_1's auc: 0.767225\tvalid_1's binary_logloss: 0.244224\n",
      "[400]\ttraining's auc: 0.817948\ttraining's binary_logloss: 0.228092\tvalid_1's auc: 0.778734\tvalid_1's binary_logloss: 0.238515\n",
      "[600]\ttraining's auc: 0.833453\ttraining's binary_logloss: 0.220966\tvalid_1's auc: 0.784557\tvalid_1's binary_logloss: 0.236267\n",
      "[800]\ttraining's auc: 0.846054\ttraining's binary_logloss: 0.215367\tvalid_1's auc: 0.787711\tvalid_1's binary_logloss: 0.235128\n",
      "[1000]\ttraining's auc: 0.857238\ttraining's binary_logloss: 0.210426\tvalid_1's auc: 0.789549\tvalid_1's binary_logloss: 0.234485\n",
      "[1200]\ttraining's auc: 0.867397\ttraining's binary_logloss: 0.205934\tvalid_1's auc: 0.790832\tvalid_1's binary_logloss: 0.234066\n",
      "[1400]\ttraining's auc: 0.876639\ttraining's binary_logloss: 0.201824\tvalid_1's auc: 0.791525\tvalid_1's binary_logloss: 0.233846\n",
      "[1600]\ttraining's auc: 0.88485\ttraining's binary_logloss: 0.198007\tvalid_1's auc: 0.791859\tvalid_1's binary_logloss: 0.233723\n",
      "[1800]\ttraining's auc: 0.89252\ttraining's binary_logloss: 0.194387\tvalid_1's auc: 0.792116\tvalid_1's binary_logloss: 0.233641\n",
      "[2000]\ttraining's auc: 0.899723\ttraining's binary_logloss: 0.190893\tvalid_1's auc: 0.792315\tvalid_1's binary_logloss: 0.233592\n",
      "[2200]\ttraining's auc: 0.906459\ttraining's binary_logloss: 0.187536\tvalid_1's auc: 0.792504\tvalid_1's binary_logloss: 0.233553\n",
      "[2400]\ttraining's auc: 0.912877\ttraining's binary_logloss: 0.184237\tvalid_1's auc: 0.792462\tvalid_1's binary_logloss: 0.233589\n",
      "Early stopping, best iteration is:\n",
      "[2219]\ttraining's auc: 0.907041\ttraining's binary_logloss: 0.187222\tvalid_1's auc: 0.792534\tvalid_1's binary_logloss: 0.233542\n",
      "##### Iteration  4 starts \n",
      "[LightGBM] [Warning] num_threads is set with nthread=4, will be overridden by n_jobs=-1. Current value: num_threads=-1\n",
      "Training until validation scores don't improve for 200 rounds\n",
      "[200]\ttraining's auc: 0.793966\ttraining's binary_logloss: 0.238678\tvalid_1's auc: 0.775713\tvalid_1's binary_logloss: 0.246953\n",
      "[400]\ttraining's auc: 0.816663\ttraining's binary_logloss: 0.227605\tvalid_1's auc: 0.787333\tvalid_1's binary_logloss: 0.24072\n",
      "[600]\ttraining's auc: 0.832211\ttraining's binary_logloss: 0.220556\tvalid_1's auc: 0.792735\tvalid_1's binary_logloss: 0.238276\n",
      "[800]\ttraining's auc: 0.845155\ttraining's binary_logloss: 0.214902\tvalid_1's auc: 0.795741\tvalid_1's binary_logloss: 0.237106\n",
      "[1000]\ttraining's auc: 0.856586\ttraining's binary_logloss: 0.209958\tvalid_1's auc: 0.797561\tvalid_1's binary_logloss: 0.236408\n",
      "[1200]\ttraining's auc: 0.866747\ttraining's binary_logloss: 0.205468\tvalid_1's auc: 0.798771\tvalid_1's binary_logloss: 0.235952\n",
      "[1400]\ttraining's auc: 0.875806\ttraining's binary_logloss: 0.201404\tvalid_1's auc: 0.799562\tvalid_1's binary_logloss: 0.235657\n",
      "[1600]\ttraining's auc: 0.884123\ttraining's binary_logloss: 0.19759\tvalid_1's auc: 0.800112\tvalid_1's binary_logloss: 0.235454\n",
      "[1800]\ttraining's auc: 0.891911\ttraining's binary_logloss: 0.193958\tvalid_1's auc: 0.800467\tvalid_1's binary_logloss: 0.235308\n",
      "[2000]\ttraining's auc: 0.899112\ttraining's binary_logloss: 0.190491\tvalid_1's auc: 0.800805\tvalid_1's binary_logloss: 0.235179\n",
      "[2200]\ttraining's auc: 0.905854\ttraining's binary_logloss: 0.187137\tvalid_1's auc: 0.801117\tvalid_1's binary_logloss: 0.23507\n",
      "[2400]\ttraining's auc: 0.912111\ttraining's binary_logloss: 0.183901\tvalid_1's auc: 0.801162\tvalid_1's binary_logloss: 0.235038\n",
      "[2600]\ttraining's auc: 0.917968\ttraining's binary_logloss: 0.180772\tvalid_1's auc: 0.801263\tvalid_1's binary_logloss: 0.23501\n",
      "[2800]\ttraining's auc: 0.923461\ttraining's binary_logloss: 0.177711\tvalid_1's auc: 0.80121\tvalid_1's binary_logloss: 0.235034\n",
      "Early stopping, best iteration is:\n",
      "[2618]\ttraining's auc: 0.918461\ttraining's binary_logloss: 0.180497\tvalid_1's auc: 0.8013\tvalid_1's binary_logloss: 0.234996\n",
      "2021-04-08 07:36:10.968484\n"
     ]
    }
   ],
   "source": [
    "import datetime\n",
    "\n",
    "print(datetime.datetime.now())\n",
    "\n",
    "clf, test_preds = train_apps_all_with_oof(apps_all_train, apps_all_test, nfolds=5)\n",
    "print(datetime.datetime.now())"
   ]
  },
  {
   "cell_type": "markdown",
   "id": "large-sapphire",
   "metadata": {
    "papermill": {
     "duration": 0.060392,
     "end_time": "2021-04-08T07:36:11.106084",
     "exception": false,
     "start_time": "2021-04-08T07:36:11.045692",
     "status": "completed"
    },
    "tags": []
   },
   "source": [
    "#### CSV for the predicted result"
   ]
  },
  {
   "cell_type": "code",
   "execution_count": 18,
   "id": "tender-membership",
   "metadata": {
    "execution": {
     "iopub.execute_input": "2021-04-08T07:36:11.253629Z",
     "iopub.status.busy": "2021-04-08T07:36:11.250775Z",
     "iopub.status.idle": "2021-04-08T07:36:18.174421Z",
     "shell.execute_reply": "2021-04-08T07:36:18.175033Z"
    },
    "papermill": {
     "duration": 7.009991,
     "end_time": "2021-04-08T07:36:18.175338",
     "exception": false,
     "start_time": "2021-04-08T07:36:11.165347",
     "status": "completed"
    },
    "tags": []
   },
   "outputs": [],
   "source": [
    "preds = clf.predict_proba(apps_all_test.drop('SK_ID_CURR', axis=1))[:, 1 ]"
   ]
  },
  {
   "cell_type": "code",
   "execution_count": 19,
   "id": "vital-massage",
   "metadata": {
    "execution": {
     "iopub.execute_input": "2021-04-08T07:36:18.312910Z",
     "iopub.status.busy": "2021-04-08T07:36:18.312083Z",
     "iopub.status.idle": "2021-04-08T07:36:18.316231Z",
     "shell.execute_reply": "2021-04-08T07:36:18.316794Z"
    },
    "papermill": {
     "duration": 0.08049,
     "end_time": "2021-04-08T07:36:18.317052",
     "exception": false,
     "start_time": "2021-04-08T07:36:18.236562",
     "status": "completed"
    },
    "tags": []
   },
   "outputs": [],
   "source": [
    "apps_all_test['TARGET'] = preds"
   ]
  },
  {
   "cell_type": "code",
   "execution_count": 20,
   "id": "clear-holiday",
   "metadata": {
    "execution": {
     "iopub.execute_input": "2021-04-08T07:36:18.444369Z",
     "iopub.status.busy": "2021-04-08T07:36:18.443488Z",
     "iopub.status.idle": "2021-04-08T07:36:18.803857Z",
     "shell.execute_reply": "2021-04-08T07:36:18.802844Z"
    },
    "papermill": {
     "duration": 0.42695,
     "end_time": "2021-04-08T07:36:18.804059",
     "exception": false,
     "start_time": "2021-04-08T07:36:18.377109",
     "status": "completed"
    },
    "tags": []
   },
   "outputs": [],
   "source": [
    "apps_all_test[['SK_ID_CURR', 'TARGET']]\n",
    "apps_all_test[['SK_ID_CURR', 'TARGET']].to_csv('submission.csv', index=False)"
   ]
  },
  {
   "cell_type": "code",
   "execution_count": 21,
   "id": "adjustable-statistics",
   "metadata": {
    "collapsed": true,
    "execution": {
     "iopub.execute_input": "2021-04-08T07:36:19.018889Z",
     "iopub.status.busy": "2021-04-08T07:36:18.946873Z",
     "iopub.status.idle": "2021-04-08T07:36:19.162177Z",
     "shell.execute_reply": "2021-04-08T07:36:19.161471Z"
    },
    "executionInfo": {
     "elapsed": 260442,
     "status": "ok",
     "timestamp": 1599725885175,
     "user": {
      "displayName": "권철민",
      "photoUrl": "",
      "userId": "03917677622451543916"
     },
     "user_tz": -540
    },
    "id": "FtqlKFBOEPpi",
    "jupyter": {
     "outputs_hidden": true
    },
    "outputId": "572a7299-90b2-4d0d-84e4-763f5a747ea7",
    "papermill": {
     "duration": 0.29555,
     "end_time": "2021-04-08T07:36:19.162416",
     "exception": false,
     "start_time": "2021-04-08T07:36:18.866866",
     "status": "completed"
    },
    "tags": []
   },
   "outputs": [
    {
     "ename": "ValueError",
     "evalue": "Number of features of the model must match the input. Model n_features_ is 532 and input n_features is 533 ",
     "output_type": "error",
     "traceback": [
      "\u001b[0;31m---------------------------------------------------------------------------\u001b[0m",
      "\u001b[0;31mValueError\u001b[0m                                Traceback (most recent call last)",
      "\u001b[0;32m<ipython-input-21-1d874fc2cde3>\u001b[0m in \u001b[0;36m<module>\u001b[0;34m\u001b[0m\n\u001b[0;32m----> 1\u001b[0;31m \u001b[0mpreds\u001b[0m \u001b[0;34m=\u001b[0m \u001b[0mclf\u001b[0m\u001b[0;34m.\u001b[0m\u001b[0mpredict_proba\u001b[0m\u001b[0;34m(\u001b[0m\u001b[0mapps_all_test\u001b[0m\u001b[0;34m.\u001b[0m\u001b[0mdrop\u001b[0m\u001b[0;34m(\u001b[0m\u001b[0;34m'SK_ID_CURR'\u001b[0m\u001b[0;34m,\u001b[0m \u001b[0maxis\u001b[0m\u001b[0;34m=\u001b[0m\u001b[0;36m1\u001b[0m\u001b[0;34m)\u001b[0m\u001b[0;34m)\u001b[0m\u001b[0;34m[\u001b[0m\u001b[0;34m:\u001b[0m\u001b[0;34m,\u001b[0m \u001b[0;36m1\u001b[0m \u001b[0;34m]\u001b[0m\u001b[0;34m\u001b[0m\u001b[0;34m\u001b[0m\u001b[0m\n\u001b[0m\u001b[1;32m      2\u001b[0m \u001b[0mapps_all_test\u001b[0m\u001b[0;34m[\u001b[0m\u001b[0;34m'TARGET'\u001b[0m\u001b[0;34m]\u001b[0m \u001b[0;34m=\u001b[0m \u001b[0mpreds\u001b[0m\u001b[0;34m\u001b[0m\u001b[0;34m\u001b[0m\u001b[0m\n\u001b[1;32m      3\u001b[0m \u001b[0;31m#if plaform =='google':\u001b[0m\u001b[0;34m\u001b[0m\u001b[0;34m\u001b[0m\u001b[0;34m\u001b[0m\u001b[0m\n\u001b[1;32m      4\u001b[0m     \u001b[0;31m#default_dir = \"/content/gdrive/My Drive\"\u001b[0m\u001b[0;34m\u001b[0m\u001b[0;34m\u001b[0m\u001b[0;34m\u001b[0m\u001b[0m\n\u001b[1;32m      5\u001b[0m \u001b[0mapps_all_test\u001b[0m\u001b[0;34m[\u001b[0m\u001b[0;34m[\u001b[0m\u001b[0;34m'SK_ID_CURR'\u001b[0m\u001b[0;34m,\u001b[0m \u001b[0;34m'TARGET'\u001b[0m\u001b[0;34m]\u001b[0m\u001b[0;34m]\u001b[0m\u001b[0;34m.\u001b[0m\u001b[0mto_csv\u001b[0m\u001b[0;34m(\u001b[0m\u001b[0;34m'submission.csv'\u001b[0m\u001b[0;34m,\u001b[0m \u001b[0mindex\u001b[0m\u001b[0;34m=\u001b[0m\u001b[0;32mFalse\u001b[0m\u001b[0;34m)\u001b[0m\u001b[0;34m\u001b[0m\u001b[0;34m\u001b[0m\u001b[0m\n",
      "\u001b[0;32m/opt/conda/lib/python3.7/site-packages/lightgbm/sklearn.py\u001b[0m in \u001b[0;36mpredict_proba\u001b[0;34m(self, X, raw_score, start_iteration, num_iteration, pred_leaf, pred_contrib, **kwargs)\u001b[0m\n\u001b[1;32m    921\u001b[0m         \"\"\"\n\u001b[1;32m    922\u001b[0m         result = super(LGBMClassifier, self).predict(X, raw_score, start_iteration, num_iteration,\n\u001b[0;32m--> 923\u001b[0;31m                                                      pred_leaf, pred_contrib, **kwargs)\n\u001b[0m\u001b[1;32m    924\u001b[0m         \u001b[0;32mif\u001b[0m \u001b[0mcallable\u001b[0m\u001b[0;34m(\u001b[0m\u001b[0mself\u001b[0m\u001b[0;34m.\u001b[0m\u001b[0m_objective\u001b[0m\u001b[0;34m)\u001b[0m \u001b[0;32mand\u001b[0m \u001b[0;32mnot\u001b[0m \u001b[0;34m(\u001b[0m\u001b[0mraw_score\u001b[0m \u001b[0;32mor\u001b[0m \u001b[0mpred_leaf\u001b[0m \u001b[0;32mor\u001b[0m \u001b[0mpred_contrib\u001b[0m\u001b[0;34m)\u001b[0m\u001b[0;34m:\u001b[0m\u001b[0;34m\u001b[0m\u001b[0;34m\u001b[0m\u001b[0m\n\u001b[1;32m    925\u001b[0m             warnings.warn(\"Cannot compute class probabilities or labels \"\n",
      "\u001b[0;32m/opt/conda/lib/python3.7/site-packages/lightgbm/sklearn.py\u001b[0m in \u001b[0;36mpredict\u001b[0;34m(self, X, raw_score, start_iteration, num_iteration, pred_leaf, pred_contrib, **kwargs)\u001b[0m\n\u001b[1;32m    684\u001b[0m                              \u001b[0;34m\"match the input. Model n_features_ is %s and \"\u001b[0m\u001b[0;34m\u001b[0m\u001b[0;34m\u001b[0m\u001b[0m\n\u001b[1;32m    685\u001b[0m                              \u001b[0;34m\"input n_features is %s \"\u001b[0m\u001b[0;34m\u001b[0m\u001b[0;34m\u001b[0m\u001b[0m\n\u001b[0;32m--> 686\u001b[0;31m                              % (self._n_features, n_features))\n\u001b[0m\u001b[1;32m    687\u001b[0m         return self._Booster.predict(X, raw_score=raw_score, start_iteration=start_iteration, num_iteration=num_iteration,\n\u001b[1;32m    688\u001b[0m                                      pred_leaf=pred_leaf, pred_contrib=pred_contrib, **kwargs)\n",
      "\u001b[0;31mValueError\u001b[0m: Number of features of the model must match the input. Model n_features_ is 532 and input n_features is 533 "
     ]
    }
   ],
   "source": [
    "preds = clf.predict_proba(apps_all_test.drop('SK_ID_CURR', axis=1))[:, 1 ]\n",
    "apps_all_test['TARGET'] = preds\n",
    "#if plaform =='google':\n",
    "    #default_dir = \"/content/gdrive/My Drive\"\n",
    "apps_all_test[['SK_ID_CURR', 'TARGET']].to_csv('submission.csv', index=False)"
   ]
  },
  {
   "cell_type": "code",
   "execution_count": 22,
   "id": "cordless-providence",
   "metadata": {
    "execution": {
     "iopub.execute_input": "2021-04-08T07:36:19.303507Z",
     "iopub.status.busy": "2021-04-08T07:36:19.296344Z",
     "iopub.status.idle": "2021-04-08T07:36:19.332375Z",
     "shell.execute_reply": "2021-04-08T07:36:19.331542Z"
    },
    "papermill": {
     "duration": 0.109172,
     "end_time": "2021-04-08T07:36:19.332560",
     "exception": false,
     "start_time": "2021-04-08T07:36:19.223388",
     "status": "completed"
    },
    "tags": []
   },
   "outputs": [
    {
     "ename": "FileNotFoundError",
     "evalue": "[Errno 2] No such file or directory: '../working/oof_all_02.csv'",
     "output_type": "error",
     "traceback": [
      "\u001b[0;31m---------------------------------------------------------------------------\u001b[0m",
      "\u001b[0;31mFileNotFoundError\u001b[0m                         Traceback (most recent call last)",
      "\u001b[0;32m<ipython-input-22-b878b08a8768>\u001b[0m in \u001b[0;36m<module>\u001b[0;34m\u001b[0m\n\u001b[0;32m----> 1\u001b[0;31m \u001b[0mpd\u001b[0m\u001b[0;34m.\u001b[0m\u001b[0mread_csv\u001b[0m\u001b[0;34m(\u001b[0m\u001b[0;34m'../working/oof_all_02.csv'\u001b[0m\u001b[0;34m)\u001b[0m\u001b[0;34m\u001b[0m\u001b[0;34m\u001b[0m\u001b[0m\n\u001b[0m",
      "\u001b[0;32m/opt/conda/lib/python3.7/site-packages/pandas/io/parsers.py\u001b[0m in \u001b[0;36mread_csv\u001b[0;34m(filepath_or_buffer, sep, delimiter, header, names, index_col, usecols, squeeze, prefix, mangle_dupe_cols, dtype, engine, converters, true_values, false_values, skipinitialspace, skiprows, skipfooter, nrows, na_values, keep_default_na, na_filter, verbose, skip_blank_lines, parse_dates, infer_datetime_format, keep_date_col, date_parser, dayfirst, cache_dates, iterator, chunksize, compression, thousands, decimal, lineterminator, quotechar, quoting, doublequote, escapechar, comment, encoding, dialect, error_bad_lines, warn_bad_lines, delim_whitespace, low_memory, memory_map, float_precision, storage_options)\u001b[0m\n\u001b[1;32m    608\u001b[0m     \u001b[0mkwds\u001b[0m\u001b[0;34m.\u001b[0m\u001b[0mupdate\u001b[0m\u001b[0;34m(\u001b[0m\u001b[0mkwds_defaults\u001b[0m\u001b[0;34m)\u001b[0m\u001b[0;34m\u001b[0m\u001b[0;34m\u001b[0m\u001b[0m\n\u001b[1;32m    609\u001b[0m \u001b[0;34m\u001b[0m\u001b[0m\n\u001b[0;32m--> 610\u001b[0;31m     \u001b[0;32mreturn\u001b[0m \u001b[0m_read\u001b[0m\u001b[0;34m(\u001b[0m\u001b[0mfilepath_or_buffer\u001b[0m\u001b[0;34m,\u001b[0m \u001b[0mkwds\u001b[0m\u001b[0;34m)\u001b[0m\u001b[0;34m\u001b[0m\u001b[0;34m\u001b[0m\u001b[0m\n\u001b[0m\u001b[1;32m    611\u001b[0m \u001b[0;34m\u001b[0m\u001b[0m\n\u001b[1;32m    612\u001b[0m \u001b[0;34m\u001b[0m\u001b[0m\n",
      "\u001b[0;32m/opt/conda/lib/python3.7/site-packages/pandas/io/parsers.py\u001b[0m in \u001b[0;36m_read\u001b[0;34m(filepath_or_buffer, kwds)\u001b[0m\n\u001b[1;32m    460\u001b[0m \u001b[0;34m\u001b[0m\u001b[0m\n\u001b[1;32m    461\u001b[0m     \u001b[0;31m# Create the parser.\u001b[0m\u001b[0;34m\u001b[0m\u001b[0;34m\u001b[0m\u001b[0;34m\u001b[0m\u001b[0m\n\u001b[0;32m--> 462\u001b[0;31m     \u001b[0mparser\u001b[0m \u001b[0;34m=\u001b[0m \u001b[0mTextFileReader\u001b[0m\u001b[0;34m(\u001b[0m\u001b[0mfilepath_or_buffer\u001b[0m\u001b[0;34m,\u001b[0m \u001b[0;34m**\u001b[0m\u001b[0mkwds\u001b[0m\u001b[0;34m)\u001b[0m\u001b[0;34m\u001b[0m\u001b[0;34m\u001b[0m\u001b[0m\n\u001b[0m\u001b[1;32m    463\u001b[0m \u001b[0;34m\u001b[0m\u001b[0m\n\u001b[1;32m    464\u001b[0m     \u001b[0;32mif\u001b[0m \u001b[0mchunksize\u001b[0m \u001b[0;32mor\u001b[0m \u001b[0miterator\u001b[0m\u001b[0;34m:\u001b[0m\u001b[0;34m\u001b[0m\u001b[0;34m\u001b[0m\u001b[0m\n",
      "\u001b[0;32m/opt/conda/lib/python3.7/site-packages/pandas/io/parsers.py\u001b[0m in \u001b[0;36m__init__\u001b[0;34m(self, f, engine, **kwds)\u001b[0m\n\u001b[1;32m    817\u001b[0m             \u001b[0mself\u001b[0m\u001b[0;34m.\u001b[0m\u001b[0moptions\u001b[0m\u001b[0;34m[\u001b[0m\u001b[0;34m\"has_index_names\"\u001b[0m\u001b[0;34m]\u001b[0m \u001b[0;34m=\u001b[0m \u001b[0mkwds\u001b[0m\u001b[0;34m[\u001b[0m\u001b[0;34m\"has_index_names\"\u001b[0m\u001b[0;34m]\u001b[0m\u001b[0;34m\u001b[0m\u001b[0;34m\u001b[0m\u001b[0m\n\u001b[1;32m    818\u001b[0m \u001b[0;34m\u001b[0m\u001b[0m\n\u001b[0;32m--> 819\u001b[0;31m         \u001b[0mself\u001b[0m\u001b[0;34m.\u001b[0m\u001b[0m_engine\u001b[0m \u001b[0;34m=\u001b[0m \u001b[0mself\u001b[0m\u001b[0;34m.\u001b[0m\u001b[0m_make_engine\u001b[0m\u001b[0;34m(\u001b[0m\u001b[0mself\u001b[0m\u001b[0;34m.\u001b[0m\u001b[0mengine\u001b[0m\u001b[0;34m)\u001b[0m\u001b[0;34m\u001b[0m\u001b[0;34m\u001b[0m\u001b[0m\n\u001b[0m\u001b[1;32m    820\u001b[0m \u001b[0;34m\u001b[0m\u001b[0m\n\u001b[1;32m    821\u001b[0m     \u001b[0;32mdef\u001b[0m \u001b[0mclose\u001b[0m\u001b[0;34m(\u001b[0m\u001b[0mself\u001b[0m\u001b[0;34m)\u001b[0m\u001b[0;34m:\u001b[0m\u001b[0;34m\u001b[0m\u001b[0;34m\u001b[0m\u001b[0m\n",
      "\u001b[0;32m/opt/conda/lib/python3.7/site-packages/pandas/io/parsers.py\u001b[0m in \u001b[0;36m_make_engine\u001b[0;34m(self, engine)\u001b[0m\n\u001b[1;32m   1048\u001b[0m             )\n\u001b[1;32m   1049\u001b[0m         \u001b[0;31m# error: Too many arguments for \"ParserBase\"\u001b[0m\u001b[0;34m\u001b[0m\u001b[0;34m\u001b[0m\u001b[0;34m\u001b[0m\u001b[0m\n\u001b[0;32m-> 1050\u001b[0;31m         \u001b[0;32mreturn\u001b[0m \u001b[0mmapping\u001b[0m\u001b[0;34m[\u001b[0m\u001b[0mengine\u001b[0m\u001b[0;34m]\u001b[0m\u001b[0;34m(\u001b[0m\u001b[0mself\u001b[0m\u001b[0;34m.\u001b[0m\u001b[0mf\u001b[0m\u001b[0;34m,\u001b[0m \u001b[0;34m**\u001b[0m\u001b[0mself\u001b[0m\u001b[0;34m.\u001b[0m\u001b[0moptions\u001b[0m\u001b[0;34m)\u001b[0m  \u001b[0;31m# type: ignore[call-arg]\u001b[0m\u001b[0;34m\u001b[0m\u001b[0;34m\u001b[0m\u001b[0m\n\u001b[0m\u001b[1;32m   1051\u001b[0m \u001b[0;34m\u001b[0m\u001b[0m\n\u001b[1;32m   1052\u001b[0m     \u001b[0;32mdef\u001b[0m \u001b[0m_failover_to_python\u001b[0m\u001b[0;34m(\u001b[0m\u001b[0mself\u001b[0m\u001b[0;34m)\u001b[0m\u001b[0;34m:\u001b[0m\u001b[0;34m\u001b[0m\u001b[0;34m\u001b[0m\u001b[0m\n",
      "\u001b[0;32m/opt/conda/lib/python3.7/site-packages/pandas/io/parsers.py\u001b[0m in \u001b[0;36m__init__\u001b[0;34m(self, src, **kwds)\u001b[0m\n\u001b[1;32m   1865\u001b[0m \u001b[0;34m\u001b[0m\u001b[0m\n\u001b[1;32m   1866\u001b[0m         \u001b[0;31m# open handles\u001b[0m\u001b[0;34m\u001b[0m\u001b[0;34m\u001b[0m\u001b[0;34m\u001b[0m\u001b[0m\n\u001b[0;32m-> 1867\u001b[0;31m         \u001b[0mself\u001b[0m\u001b[0;34m.\u001b[0m\u001b[0m_open_handles\u001b[0m\u001b[0;34m(\u001b[0m\u001b[0msrc\u001b[0m\u001b[0;34m,\u001b[0m \u001b[0mkwds\u001b[0m\u001b[0;34m)\u001b[0m\u001b[0;34m\u001b[0m\u001b[0;34m\u001b[0m\u001b[0m\n\u001b[0m\u001b[1;32m   1868\u001b[0m         \u001b[0;32massert\u001b[0m \u001b[0mself\u001b[0m\u001b[0;34m.\u001b[0m\u001b[0mhandles\u001b[0m \u001b[0;32mis\u001b[0m \u001b[0;32mnot\u001b[0m \u001b[0;32mNone\u001b[0m\u001b[0;34m\u001b[0m\u001b[0;34m\u001b[0m\u001b[0m\n\u001b[1;32m   1869\u001b[0m         \u001b[0;32mfor\u001b[0m \u001b[0mkey\u001b[0m \u001b[0;32min\u001b[0m \u001b[0;34m(\u001b[0m\u001b[0;34m\"storage_options\"\u001b[0m\u001b[0;34m,\u001b[0m \u001b[0;34m\"encoding\"\u001b[0m\u001b[0;34m,\u001b[0m \u001b[0;34m\"memory_map\"\u001b[0m\u001b[0;34m,\u001b[0m \u001b[0;34m\"compression\"\u001b[0m\u001b[0;34m)\u001b[0m\u001b[0;34m:\u001b[0m\u001b[0;34m\u001b[0m\u001b[0;34m\u001b[0m\u001b[0m\n",
      "\u001b[0;32m/opt/conda/lib/python3.7/site-packages/pandas/io/parsers.py\u001b[0m in \u001b[0;36m_open_handles\u001b[0;34m(self, src, kwds)\u001b[0m\n\u001b[1;32m   1366\u001b[0m             \u001b[0mcompression\u001b[0m\u001b[0;34m=\u001b[0m\u001b[0mkwds\u001b[0m\u001b[0;34m.\u001b[0m\u001b[0mget\u001b[0m\u001b[0;34m(\u001b[0m\u001b[0;34m\"compression\"\u001b[0m\u001b[0;34m,\u001b[0m \u001b[0;32mNone\u001b[0m\u001b[0;34m)\u001b[0m\u001b[0;34m,\u001b[0m\u001b[0;34m\u001b[0m\u001b[0;34m\u001b[0m\u001b[0m\n\u001b[1;32m   1367\u001b[0m             \u001b[0mmemory_map\u001b[0m\u001b[0;34m=\u001b[0m\u001b[0mkwds\u001b[0m\u001b[0;34m.\u001b[0m\u001b[0mget\u001b[0m\u001b[0;34m(\u001b[0m\u001b[0;34m\"memory_map\"\u001b[0m\u001b[0;34m,\u001b[0m \u001b[0;32mFalse\u001b[0m\u001b[0;34m)\u001b[0m\u001b[0;34m,\u001b[0m\u001b[0;34m\u001b[0m\u001b[0;34m\u001b[0m\u001b[0m\n\u001b[0;32m-> 1368\u001b[0;31m             \u001b[0mstorage_options\u001b[0m\u001b[0;34m=\u001b[0m\u001b[0mkwds\u001b[0m\u001b[0;34m.\u001b[0m\u001b[0mget\u001b[0m\u001b[0;34m(\u001b[0m\u001b[0;34m\"storage_options\"\u001b[0m\u001b[0;34m,\u001b[0m \u001b[0;32mNone\u001b[0m\u001b[0;34m)\u001b[0m\u001b[0;34m,\u001b[0m\u001b[0;34m\u001b[0m\u001b[0;34m\u001b[0m\u001b[0m\n\u001b[0m\u001b[1;32m   1369\u001b[0m         )\n\u001b[1;32m   1370\u001b[0m \u001b[0;34m\u001b[0m\u001b[0m\n",
      "\u001b[0;32m/opt/conda/lib/python3.7/site-packages/pandas/io/common.py\u001b[0m in \u001b[0;36mget_handle\u001b[0;34m(path_or_buf, mode, encoding, compression, memory_map, is_text, errors, storage_options)\u001b[0m\n\u001b[1;32m    645\u001b[0m                 \u001b[0mencoding\u001b[0m\u001b[0;34m=\u001b[0m\u001b[0mioargs\u001b[0m\u001b[0;34m.\u001b[0m\u001b[0mencoding\u001b[0m\u001b[0;34m,\u001b[0m\u001b[0;34m\u001b[0m\u001b[0;34m\u001b[0m\u001b[0m\n\u001b[1;32m    646\u001b[0m                 \u001b[0merrors\u001b[0m\u001b[0;34m=\u001b[0m\u001b[0merrors\u001b[0m\u001b[0;34m,\u001b[0m\u001b[0;34m\u001b[0m\u001b[0;34m\u001b[0m\u001b[0m\n\u001b[0;32m--> 647\u001b[0;31m                 \u001b[0mnewline\u001b[0m\u001b[0;34m=\u001b[0m\u001b[0;34m\"\"\u001b[0m\u001b[0;34m,\u001b[0m\u001b[0;34m\u001b[0m\u001b[0;34m\u001b[0m\u001b[0m\n\u001b[0m\u001b[1;32m    648\u001b[0m             )\n\u001b[1;32m    649\u001b[0m         \u001b[0;32melse\u001b[0m\u001b[0;34m:\u001b[0m\u001b[0;34m\u001b[0m\u001b[0;34m\u001b[0m\u001b[0m\n",
      "\u001b[0;31mFileNotFoundError\u001b[0m: [Errno 2] No such file or directory: '../working/oof_all_02.csv'"
     ]
    }
   ],
   "source": [
    "pd.read_csv('../working/oof_all_02.csv')"
   ]
  }
 ],
 "metadata": {
  "kernelspec": {
   "display_name": "Python 3",
   "language": "python",
   "name": "python3"
  },
  "language_info": {
   "codemirror_mode": {
    "name": "ipython",
    "version": 3
   },
   "file_extension": ".py",
   "mimetype": "text/x-python",
   "name": "python",
   "nbconvert_exporter": "python",
   "pygments_lexer": "ipython3",
   "version": "3.7.9"
  },
  "papermill": {
   "default_parameters": {},
   "duration": 5714.086207,
   "end_time": "2021-04-08T07:36:22.455859",
   "environment_variables": {},
   "exception": null,
   "input_path": "__notebook__.ipynb",
   "output_path": "__notebook__.ipynb",
   "parameters": {},
   "start_time": "2021-04-08T06:01:08.369652",
   "version": "2.3.2"
  }
 },
 "nbformat": 4,
 "nbformat_minor": 5
}
