{
  "nbformat": 4,
  "nbformat_minor": 0,
  "metadata": {
    "colab": {
      "name": "[실습]Ch02.pandas_데이터전처리 - 06~07.Series~datatime.ipynb의 사본",
      "provenance": [],
      "collapsed_sections": [],
      "toc_visible": true,
      "include_colab_link": true
    },
    "kernelspec": {
      "name": "python3",
      "display_name": "Python 3"
    }
  },
  "cells": [
    {
      "cell_type": "markdown",
      "metadata": {
        "id": "view-in-github",
        "colab_type": "text"
      },
      "source": [
        "<a href=\"https://colab.research.google.com/github/SANGSEOSEO/philosophy_datascience/blob/master/%5B%EC%8B%A4%EC%8A%B5%5DCh02_pandas_%EB%8D%B0%EC%9D%B4%ED%84%B0%EC%A0%84%EC%B2%98%EB%A6%AC_06~07_Series~datatime_ipynb%EC%9D%98_%EC%82%AC%EB%B3%B8.ipynb\" target=\"_parent\"><img src=\"https://colab.research.google.com/assets/colab-badge.svg\" alt=\"Open In Colab\"/></a>"
      ]
    },
    {
      "cell_type": "code",
      "metadata": {
        "id": "EmsNKlAMHRS8",
        "colab_type": "code",
        "colab": {}
      },
      "source": [
        "import pandas as pd"
      ],
      "execution_count": 2,
      "outputs": []
    },
    {
      "cell_type": "markdown",
      "metadata": {
        "id": "3mRYTNGoxRxG",
        "colab_type": "text"
      },
      "source": [
        "## 실습에 사용할 예제 파일"
      ]
    },
    {
      "cell_type": "markdown",
      "metadata": {
        "id": "lXUT8XqPxRqI",
        "colab_type": "text"
      },
      "source": [
        "[국내 아이돌 평판지수 (csv)](http://bit.ly/ds-korean-idol)"
      ]
    },
    {
      "cell_type": "markdown",
      "metadata": {
        "id": "v2wx_FBF0--v",
        "colab_type": "text"
      },
      "source": [
        "## 데이터프레임 로드"
      ]
    },
    {
      "cell_type": "code",
      "metadata": {
        "id": "bPKhlsW7xrjN",
        "colab_type": "code",
        "colab": {}
      },
      "source": [
        "df = pd.read_csv('http://bit.ly/ds-korean-idol')"
      ],
      "execution_count": 29,
      "outputs": []
    },
    {
      "cell_type": "code",
      "metadata": {
        "id": "8KOEwu0dxrqA",
        "colab_type": "code",
        "colab": {
          "base_uri": "https://localhost:8080/",
          "height": 204
        },
        "outputId": "5ebb0767-da50-4c3d-cd29-4e2b2db121df"
      },
      "source": [
        "df.head()"
      ],
      "execution_count": 30,
      "outputs": [
        {
          "output_type": "execute_result",
          "data": {
            "text/html": [
              "<div>\n",
              "<style scoped>\n",
              "    .dataframe tbody tr th:only-of-type {\n",
              "        vertical-align: middle;\n",
              "    }\n",
              "\n",
              "    .dataframe tbody tr th {\n",
              "        vertical-align: top;\n",
              "    }\n",
              "\n",
              "    .dataframe thead th {\n",
              "        text-align: right;\n",
              "    }\n",
              "</style>\n",
              "<table border=\"1\" class=\"dataframe\">\n",
              "  <thead>\n",
              "    <tr style=\"text-align: right;\">\n",
              "      <th></th>\n",
              "      <th>이름</th>\n",
              "      <th>그룹</th>\n",
              "      <th>소속사</th>\n",
              "      <th>성별</th>\n",
              "      <th>생년월일</th>\n",
              "      <th>키</th>\n",
              "      <th>혈액형</th>\n",
              "      <th>브랜드평판지수</th>\n",
              "    </tr>\n",
              "  </thead>\n",
              "  <tbody>\n",
              "    <tr>\n",
              "      <th>0</th>\n",
              "      <td>지민</td>\n",
              "      <td>방탄소년단</td>\n",
              "      <td>빅히트</td>\n",
              "      <td>남자</td>\n",
              "      <td>1995-10-13</td>\n",
              "      <td>173.6</td>\n",
              "      <td>A</td>\n",
              "      <td>10523260</td>\n",
              "    </tr>\n",
              "    <tr>\n",
              "      <th>1</th>\n",
              "      <td>지드래곤</td>\n",
              "      <td>빅뱅</td>\n",
              "      <td>YG</td>\n",
              "      <td>남자</td>\n",
              "      <td>1988-08-18</td>\n",
              "      <td>177.0</td>\n",
              "      <td>A</td>\n",
              "      <td>9916947</td>\n",
              "    </tr>\n",
              "    <tr>\n",
              "      <th>2</th>\n",
              "      <td>강다니엘</td>\n",
              "      <td>NaN</td>\n",
              "      <td>커넥트</td>\n",
              "      <td>남자</td>\n",
              "      <td>1996-12-10</td>\n",
              "      <td>180.0</td>\n",
              "      <td>A</td>\n",
              "      <td>8273745</td>\n",
              "    </tr>\n",
              "    <tr>\n",
              "      <th>3</th>\n",
              "      <td>뷔</td>\n",
              "      <td>방탄소년단</td>\n",
              "      <td>빅히트</td>\n",
              "      <td>남자</td>\n",
              "      <td>1995-12-30</td>\n",
              "      <td>178.0</td>\n",
              "      <td>AB</td>\n",
              "      <td>8073501</td>\n",
              "    </tr>\n",
              "    <tr>\n",
              "      <th>4</th>\n",
              "      <td>화사</td>\n",
              "      <td>마마무</td>\n",
              "      <td>RBW</td>\n",
              "      <td>여자</td>\n",
              "      <td>1995-07-23</td>\n",
              "      <td>162.1</td>\n",
              "      <td>A</td>\n",
              "      <td>7650928</td>\n",
              "    </tr>\n",
              "  </tbody>\n",
              "</table>\n",
              "</div>"
            ],
            "text/plain": [
              "     이름     그룹  소속사  성별        생년월일      키 혈액형   브랜드평판지수\n",
              "0    지민  방탄소년단  빅히트  남자  1995-10-13  173.6   A  10523260\n",
              "1  지드래곤     빅뱅   YG  남자  1988-08-18  177.0   A   9916947\n",
              "2  강다니엘    NaN  커넥트  남자  1996-12-10  180.0   A   8273745\n",
              "3     뷔  방탄소년단  빅히트  남자  1995-12-30  178.0  AB   8073501\n",
              "4    화사    마마무  RBW  여자  1995-07-23  162.1   A   7650928"
            ]
          },
          "metadata": {
            "tags": []
          },
          "execution_count": 30
        }
      ]
    },
    {
      "cell_type": "markdown",
      "metadata": {
        "id": "rZm6yeoCICMH",
        "colab_type": "text"
      },
      "source": [
        "## 1. Series의 Type"
      ]
    },
    {
      "cell_type": "markdown",
      "metadata": {
        "id": "xC1ZUahrIEIz",
        "colab_type": "text"
      },
      "source": [
        "### 1-1. type 확인하기"
      ]
    },
    {
      "cell_type": "code",
      "metadata": {
        "id": "jWjLRMDuH4pJ",
        "colab_type": "code",
        "colab": {
          "base_uri": "https://localhost:8080/",
          "height": 272
        },
        "outputId": "dfaf7898-f041-47f8-d842-bdff5bd003dd"
      },
      "source": [
        "df.info()"
      ],
      "execution_count": 31,
      "outputs": [
        {
          "output_type": "stream",
          "text": [
            "<class 'pandas.core.frame.DataFrame'>\n",
            "RangeIndex: 15 entries, 0 to 14\n",
            "Data columns (total 8 columns):\n",
            " #   Column   Non-Null Count  Dtype  \n",
            "---  ------   --------------  -----  \n",
            " 0   이름       15 non-null     object \n",
            " 1   그룹       14 non-null     object \n",
            " 2   소속사      15 non-null     object \n",
            " 3   성별       15 non-null     object \n",
            " 4   생년월일     15 non-null     object \n",
            " 5   키        13 non-null     float64\n",
            " 6   혈액형      15 non-null     object \n",
            " 7   브랜드평판지수  15 non-null     int64  \n",
            "dtypes: float64(1), int64(1), object(6)\n",
            "memory usage: 1.1+ KB\n"
          ],
          "name": "stdout"
        }
      ]
    },
    {
      "cell_type": "markdown",
      "metadata": {
        "id": "rDJHSYBAH6H5",
        "colab_type": "text"
      },
      "source": [
        "이전에 배운 info를 찍어보면, 우측에 type이 같이 찍히는 것을 확인하실 수 있습니다."
      ]
    },
    {
      "cell_type": "markdown",
      "metadata": {
        "id": "WgM3sO3QIBb1",
        "colab_type": "text"
      },
      "source": [
        "* object: 일반 문자열 타입\n",
        "* float: 실수\n",
        "* int: 정수\n",
        "* category: 카테고리\n",
        "* datetime: 시간"
      ]
    },
    {
      "cell_type": "markdown",
      "metadata": {
        "id": "Hh0DO3mxIHzZ",
        "colab_type": "text"
      },
      "source": [
        "### 1-2. type 변환하기"
      ]
    },
    {
      "cell_type": "markdown",
      "metadata": {
        "id": "l_czb9Q8IK4D",
        "colab_type": "text"
      },
      "source": [
        "* type 변환을 위해서는 **astype**이라는 메소드를 사용합니다."
      ]
    },
    {
      "cell_type": "markdown",
      "metadata": {
        "id": "JKMAMkboIbtC",
        "colab_type": "text"
      },
      "source": [
        "키 column은 현재 float로 명시되어 있습니다.\n",
        "\n",
        "정수형인 int type으로 변경해 보겠습니다."
      ]
    },
    {
      "cell_type": "code",
      "metadata": {
        "id": "fuIoNJGuIk2g",
        "colab_type": "code",
        "colab": {
          "base_uri": "https://localhost:8080/",
          "height": 34
        },
        "outputId": "7649be39-f6ae-4a96-fdf0-8e7423e8f94b"
      },
      "source": [
        "df['키'].dtypes"
      ],
      "execution_count": 32,
      "outputs": [
        {
          "output_type": "execute_result",
          "data": {
            "text/plain": [
              "dtype('float64')"
            ]
          },
          "metadata": {
            "tags": []
          },
          "execution_count": 32
        }
      ]
    },
    {
      "cell_type": "code",
      "metadata": {
        "id": "WsLYnHXaIKX0",
        "colab_type": "code",
        "colab": {
          "base_uri": "https://localhost:8080/",
          "height": 289
        },
        "outputId": "a3a0a76e-a7f5-4905-fe6c-e5bafbae0678"
      },
      "source": [
        "df['키'].astype(int)"
      ],
      "execution_count": 37,
      "outputs": [
        {
          "output_type": "execute_result",
          "data": {
            "text/plain": [
              "0     173\n",
              "1     177\n",
              "2     180\n",
              "3     178\n",
              "4     162\n",
              "5     178\n",
              "6     182\n",
              "7      -1\n",
              "8     179\n",
              "9     167\n",
              "10     -1\n",
              "11    183\n",
              "12    175\n",
              "13    176\n",
              "14    174\n",
              "Name: 키, dtype: int64"
            ]
          },
          "metadata": {
            "tags": []
          },
          "execution_count": 37
        }
      ]
    },
    {
      "cell_type": "markdown",
      "metadata": {
        "id": "CiH7EJOnIa3E",
        "colab_type": "text"
      },
      "source": [
        "ValueError: Cannot convert non-finite values (NA or inf) to integer\n",
        "에러 본문 그대로 해석하면 \" 숫자형 데이터가 아니라 Integer로 변환할수 없습니다.\"\n",
        "에러가 발생했습니다..NaN 값이 들어있기 때문에 변경이 안됩니다.\n",
        "\n",
        "이럴 때는 fillna로 빈값을 임의로 채워 주겠습니다."
      ]
    },
    {
      "cell_type": "code",
      "metadata": {
        "id": "DiPq7PIsI_fC",
        "colab_type": "code",
        "colab": {}
      },
      "source": [
        "# NaN인 값을 -1 로 바꾸자.\n",
        "# 아래를 해석하면 데이터프레임에서 `키` 항목이 NaN인것을 찾아서 `-1`로 바꿔라.\n",
        "df.loc[df['키'].isna(), '키']  = -1"
      ],
      "execution_count": 34,
      "outputs": []
    },
    {
      "cell_type": "code",
      "metadata": {
        "id": "_18-c64f5Ah2",
        "colab_type": "code",
        "colab": {}
      },
      "source": [
        "# fillna()를 이용해서 `-1`로 바꾼것을 다시 대입한다.\n",
        "df['키'] = df['키'].fillna(-1)"
      ],
      "execution_count": 35,
      "outputs": []
    },
    {
      "cell_type": "code",
      "metadata": {
        "id": "ehjS1gLZI3Ej",
        "colab_type": "code",
        "colab": {
          "base_uri": "https://localhost:8080/",
          "height": 289
        },
        "outputId": "97094fb2-a0c2-42e2-d42a-56c3ff5cee05"
      },
      "source": [
        "df['키'].astype(int)"
      ],
      "execution_count": 36,
      "outputs": [
        {
          "output_type": "execute_result",
          "data": {
            "text/plain": [
              "0     173\n",
              "1     177\n",
              "2     180\n",
              "3     178\n",
              "4     162\n",
              "5     178\n",
              "6     182\n",
              "7      -1\n",
              "8     179\n",
              "9     167\n",
              "10     -1\n",
              "11    183\n",
              "12    175\n",
              "13    176\n",
              "14    174\n",
              "Name: 키, dtype: int64"
            ]
          },
          "metadata": {
            "tags": []
          },
          "execution_count": 36
        }
      ]
    },
    {
      "cell_type": "markdown",
      "metadata": {
        "id": "1BMJUJMkI29m",
        "colab_type": "text"
      },
      "source": [
        "int형으로 타입을 바꾸니 float -> int로 변경 된 것을 볼 수 있습니다."
      ]
    },
    {
      "cell_type": "markdown",
      "metadata": {
        "id": "o_jszjQJIUG6",
        "colab_type": "text"
      },
      "source": [
        "### 1-3. 날짜 변환하기 (datetime 타입)"
      ]
    },
    {
      "cell_type": "markdown",
      "metadata": {
        "id": "tsGyMn2FIa8G",
        "colab_type": "text"
      },
      "source": [
        "* 날짜를 변환하기 위해서는 판다스 메소드인 **to_datetime**이라는 메소드를 \n",
        "\n",
        "---\n",
        "\n",
        "사용합니다."
      ]
    },
    {
      "cell_type": "markdown",
      "metadata": {
        "id": "09KxrymPIxnq",
        "colab_type": "text"
      },
      "source": [
        "현재 날짜 column은 dtype:이 object, 즉 문자열 타입으로 되어 있습니다."
      ]
    },
    {
      "cell_type": "code",
      "metadata": {
        "id": "JjXogcfJIbAX",
        "colab_type": "code",
        "colab": {
          "base_uri": "https://localhost:8080/",
          "height": 289
        },
        "outputId": "c2cd4178-6cbd-4ba4-b95b-6cb16a860a03"
      },
      "source": [
        "df['생년월일']"
      ],
      "execution_count": 10,
      "outputs": [
        {
          "output_type": "execute_result",
          "data": {
            "text/plain": [
              "0     1995-10-13\n",
              "1     1988-08-18\n",
              "2     1996-12-10\n",
              "3     1995-12-30\n",
              "4     1995-07-23\n",
              "5     1997-09-01\n",
              "6     1995-08-09\n",
              "7     1998-08-26\n",
              "8     1992-12-04\n",
              "9     1994-03-22\n",
              "10    1989-03-09\n",
              "11    1997-03-30\n",
              "12    1995-07-21\n",
              "13    1995-06-08\n",
              "14    1993-03-09\n",
              "Name: 생년월일, dtype: object"
            ]
          },
          "metadata": {
            "tags": []
          },
          "execution_count": 10
        }
      ]
    },
    {
      "cell_type": "markdown",
      "metadata": {
        "id": "mWGRwJZXIbD3",
        "colab_type": "text"
      },
      "source": [
        "**datetime 타입**으로 바꾸어 볼까요?"
      ]
    },
    {
      "cell_type": "code",
      "metadata": {
        "id": "nzMd_SrBI4Um",
        "colab_type": "code",
        "colab": {
          "base_uri": "https://localhost:8080/",
          "height": 289
        },
        "outputId": "f788d62f-39d1-4164-f4aa-5ac81e25b174"
      },
      "source": [
        "# 데이터 타입을 datetime\n",
        "pd.to_datetime(df['생년월일'])"
      ],
      "execution_count": null,
      "outputs": [
        {
          "output_type": "execute_result",
          "data": {
            "text/plain": [
              "0    1995-10-13\n",
              "1    1988-08-18\n",
              "2    1996-12-10\n",
              "3    1995-12-30\n",
              "4    1995-07-23\n",
              "5    1997-09-01\n",
              "6    1995-08-09\n",
              "7    1998-08-26\n",
              "8    1992-12-04\n",
              "9    1994-03-22\n",
              "10   1989-03-09\n",
              "11   1997-03-30\n",
              "12   1995-07-21\n",
              "13   1995-06-08\n",
              "14   1993-03-09\n",
              "Name: 생년월일, dtype: datetime64[ns]"
            ]
          },
          "metadata": {
            "tags": []
          },
          "execution_count": 37
        }
      ]
    },
    {
      "cell_type": "markdown",
      "metadata": {
        "id": "icLMBi0YI3bY",
        "colab_type": "text"
      },
      "source": [
        "dtype이 **datetime**으로 변환된 것을 확인 하셨나요?"
      ]
    },
    {
      "cell_type": "markdown",
      "metadata": {
        "id": "Q5xsSbZTIbHs",
        "colab_type": "text"
      },
      "source": [
        "하지만, 이렇게 해준다고 해서 우리의 DataFrame에는 반영되어 있지 않습니다."
      ]
    },
    {
      "cell_type": "markdown",
      "metadata": {
        "id": "6HLsbibqJZnK",
        "colab_type": "text"
      },
      "source": [
        "변환된 것을 **df['날짜'] column에 다시 대입**을 해줘야 정상적으로 변환된 값이 들어 갑니다."
      ]
    },
    {
      "cell_type": "code",
      "metadata": {
        "id": "OUJ0mMssJhlk",
        "colab_type": "code",
        "colab": {}
      },
      "source": [
        "df['생년월일'] = pd.to_datetime(df['생년월일'])"
      ],
      "execution_count": 12,
      "outputs": []
    },
    {
      "cell_type": "markdown",
      "metadata": {
        "id": "t2jpQwEyJvRr",
        "colab_type": "text"
      },
      "source": [
        "datetime 타입으로 우리가 **변환해준 중요한 이유**가 있습니다!\n",
        "\n",
        "* 매우 손쉽게, 월, 일, 요일 등등의 날짜 정보를 세부적으로 추출해낼 수 있습니다.\n",
        "* datetime의 약어인 **'dt'**에는 다양한 정보들을 제공해 줍니다."
      ]
    },
    {
      "cell_type": "code",
      "metadata": {
        "id": "nFGJ4cLRno-c",
        "colab_type": "code",
        "colab": {
          "base_uri": "https://localhost:8080/",
          "height": 204
        },
        "outputId": "fa3cacd8-00c1-4e1c-c37d-eaf29f3015c1"
      },
      "source": [
        "df.head()"
      ],
      "execution_count": 13,
      "outputs": [
        {
          "output_type": "execute_result",
          "data": {
            "text/html": [
              "<div>\n",
              "<style scoped>\n",
              "    .dataframe tbody tr th:only-of-type {\n",
              "        vertical-align: middle;\n",
              "    }\n",
              "\n",
              "    .dataframe tbody tr th {\n",
              "        vertical-align: top;\n",
              "    }\n",
              "\n",
              "    .dataframe thead th {\n",
              "        text-align: right;\n",
              "    }\n",
              "</style>\n",
              "<table border=\"1\" class=\"dataframe\">\n",
              "  <thead>\n",
              "    <tr style=\"text-align: right;\">\n",
              "      <th></th>\n",
              "      <th>이름</th>\n",
              "      <th>그룹</th>\n",
              "      <th>소속사</th>\n",
              "      <th>성별</th>\n",
              "      <th>생년월일</th>\n",
              "      <th>키</th>\n",
              "      <th>혈액형</th>\n",
              "      <th>브랜드평판지수</th>\n",
              "    </tr>\n",
              "  </thead>\n",
              "  <tbody>\n",
              "    <tr>\n",
              "      <th>0</th>\n",
              "      <td>지민</td>\n",
              "      <td>방탄소년단</td>\n",
              "      <td>빅히트</td>\n",
              "      <td>남자</td>\n",
              "      <td>1995-10-13</td>\n",
              "      <td>173.6</td>\n",
              "      <td>A</td>\n",
              "      <td>10523260</td>\n",
              "    </tr>\n",
              "    <tr>\n",
              "      <th>1</th>\n",
              "      <td>지드래곤</td>\n",
              "      <td>빅뱅</td>\n",
              "      <td>YG</td>\n",
              "      <td>남자</td>\n",
              "      <td>1988-08-18</td>\n",
              "      <td>177.0</td>\n",
              "      <td>A</td>\n",
              "      <td>9916947</td>\n",
              "    </tr>\n",
              "    <tr>\n",
              "      <th>2</th>\n",
              "      <td>강다니엘</td>\n",
              "      <td>NaN</td>\n",
              "      <td>커넥트</td>\n",
              "      <td>남자</td>\n",
              "      <td>1996-12-10</td>\n",
              "      <td>180.0</td>\n",
              "      <td>A</td>\n",
              "      <td>8273745</td>\n",
              "    </tr>\n",
              "    <tr>\n",
              "      <th>3</th>\n",
              "      <td>뷔</td>\n",
              "      <td>방탄소년단</td>\n",
              "      <td>빅히트</td>\n",
              "      <td>남자</td>\n",
              "      <td>1995-12-30</td>\n",
              "      <td>178.0</td>\n",
              "      <td>AB</td>\n",
              "      <td>8073501</td>\n",
              "    </tr>\n",
              "    <tr>\n",
              "      <th>4</th>\n",
              "      <td>화사</td>\n",
              "      <td>마마무</td>\n",
              "      <td>RBW</td>\n",
              "      <td>여자</td>\n",
              "      <td>1995-07-23</td>\n",
              "      <td>162.1</td>\n",
              "      <td>A</td>\n",
              "      <td>7650928</td>\n",
              "    </tr>\n",
              "  </tbody>\n",
              "</table>\n",
              "</div>"
            ],
            "text/plain": [
              "     이름     그룹  소속사  성별       생년월일      키 혈액형   브랜드평판지수\n",
              "0    지민  방탄소년단  빅히트  남자 1995-10-13  173.6   A  10523260\n",
              "1  지드래곤     빅뱅   YG  남자 1988-08-18  177.0   A   9916947\n",
              "2  강다니엘    NaN  커넥트  남자 1996-12-10  180.0   A   8273745\n",
              "3     뷔  방탄소년단  빅히트  남자 1995-12-30  178.0  AB   8073501\n",
              "4    화사    마마무  RBW  여자 1995-07-23  162.1   A   7650928"
            ]
          },
          "metadata": {
            "tags": []
          },
          "execution_count": 13
        }
      ]
    },
    {
      "cell_type": "code",
      "metadata": {
        "id": "eIo3Gs2Knbpl",
        "colab_type": "code",
        "colab": {
          "base_uri": "https://localhost:8080/",
          "height": 34
        },
        "outputId": "445051c8-6298-4629-fe2c-85db5960affd"
      },
      "source": [
        "df['생년월일'].dtypes"
      ],
      "execution_count": 14,
      "outputs": [
        {
          "output_type": "execute_result",
          "data": {
            "text/plain": [
              "dtype('<M8[ns]')"
            ]
          },
          "metadata": {
            "tags": []
          },
          "execution_count": 14
        }
      ]
    },
    {
      "cell_type": "code",
      "metadata": {
        "id": "eJsdvikbKk-P",
        "colab_type": "code",
        "colab": {}
      },
      "source": [
        "# to_datetime의 속성"
      ],
      "execution_count": 15,
      "outputs": []
    },
    {
      "cell_type": "code",
      "metadata": {
        "id": "1AeGsAb2Kdss",
        "colab_type": "code",
        "colab": {
          "base_uri": "https://localhost:8080/",
          "height": 680
        },
        "outputId": "05604b88-92e6-4252-bce3-6815421c0868"
      },
      "source": [
        "[fnc for fnc in dir(df['생년월일'].dt) if not fnc.startswith('_')]  "
      ],
      "execution_count": 16,
      "outputs": [
        {
          "output_type": "execute_result",
          "data": {
            "text/plain": [
              "['ceil',\n",
              " 'date',\n",
              " 'day',\n",
              " 'day_name',\n",
              " 'dayofweek',\n",
              " 'dayofyear',\n",
              " 'days_in_month',\n",
              " 'daysinmonth',\n",
              " 'floor',\n",
              " 'freq',\n",
              " 'hour',\n",
              " 'is_leap_year',\n",
              " 'is_month_end',\n",
              " 'is_month_start',\n",
              " 'is_quarter_end',\n",
              " 'is_quarter_start',\n",
              " 'is_year_end',\n",
              " 'is_year_start',\n",
              " 'microsecond',\n",
              " 'minute',\n",
              " 'month',\n",
              " 'month_name',\n",
              " 'nanosecond',\n",
              " 'normalize',\n",
              " 'quarter',\n",
              " 'round',\n",
              " 'second',\n",
              " 'strftime',\n",
              " 'time',\n",
              " 'timetz',\n",
              " 'to_period',\n",
              " 'to_pydatetime',\n",
              " 'tz',\n",
              " 'tz_convert',\n",
              " 'tz_localize',\n",
              " 'week',\n",
              " 'weekday',\n",
              " 'weekofyear',\n",
              " 'year']"
            ]
          },
          "metadata": {
            "tags": []
          },
          "execution_count": 16
        }
      ]
    },
    {
      "cell_type": "code",
      "metadata": {
        "id": "X96WHw23KDJQ",
        "colab_type": "code",
        "colab": {
          "base_uri": "https://localhost:8080/",
          "height": 289
        },
        "outputId": "f63aed87-285a-4086-d8c4-48c8d7e29a9a"
      },
      "source": [
        "df['생년월일'].dt.year"
      ],
      "execution_count": 17,
      "outputs": [
        {
          "output_type": "execute_result",
          "data": {
            "text/plain": [
              "0     1995\n",
              "1     1988\n",
              "2     1996\n",
              "3     1995\n",
              "4     1995\n",
              "5     1997\n",
              "6     1995\n",
              "7     1998\n",
              "8     1992\n",
              "9     1994\n",
              "10    1989\n",
              "11    1997\n",
              "12    1995\n",
              "13    1995\n",
              "14    1993\n",
              "Name: 생년월일, dtype: int64"
            ]
          },
          "metadata": {
            "tags": []
          },
          "execution_count": 17
        }
      ]
    },
    {
      "cell_type": "code",
      "metadata": {
        "id": "IsawX4U7KFE_",
        "colab_type": "code",
        "colab": {
          "base_uri": "https://localhost:8080/",
          "height": 289
        },
        "outputId": "7dcd586c-9cc6-4928-b086-833fa0f330be"
      },
      "source": [
        "df['생년월일'].dt.month\n",
        "df['생년월일'].dt.day\n",
        "df['생년월일'].dt.date\n",
        "df['생년월일'].dt.dayofweek"
      ],
      "execution_count": 21,
      "outputs": [
        {
          "output_type": "execute_result",
          "data": {
            "text/plain": [
              "0     4\n",
              "1     3\n",
              "2     1\n",
              "3     5\n",
              "4     6\n",
              "5     0\n",
              "6     2\n",
              "7     2\n",
              "8     4\n",
              "9     1\n",
              "10    3\n",
              "11    6\n",
              "12    4\n",
              "13    3\n",
              "14    1\n",
              "Name: 생년월일, dtype: int64"
            ]
          },
          "metadata": {
            "tags": []
          },
          "execution_count": 21
        }
      ]
    },
    {
      "cell_type": "code",
      "metadata": {
        "id": "oobdSaZVKSJj",
        "colab_type": "code",
        "colab": {}
      },
      "source": [
        "# 신규컬럼을 생성하여 추가함.\n",
        "df['생일_년도'] = df['생년월일'].dt.year\n",
        "df['생일_월'] = df['생년월일'].dt.month\n",
        "df['생일_일'] = df['생년월일'].dt.day"
      ],
      "execution_count": 23,
      "outputs": []
    },
    {
      "cell_type": "code",
      "metadata": {
        "id": "41j63_xUKUdK",
        "colab_type": "code",
        "colab": {
          "base_uri": "https://localhost:8080/",
          "height": 289
        },
        "outputId": "65ac2b58-8070-47c5-9858-ccc902158bb3"
      },
      "source": [
        "df['생년월일'].dt.hour"
      ],
      "execution_count": null,
      "outputs": [
        {
          "output_type": "execute_result",
          "data": {
            "text/plain": [
              "0     0\n",
              "1     0\n",
              "2     0\n",
              "3     0\n",
              "4     0\n",
              "5     0\n",
              "6     0\n",
              "7     0\n",
              "8     0\n",
              "9     0\n",
              "10    0\n",
              "11    0\n",
              "12    0\n",
              "13    0\n",
              "14    0\n",
              "Name: 생년월일, dtype: int64"
            ]
          },
          "metadata": {
            "tags": []
          },
          "execution_count": 43
        }
      ]
    },
    {
      "cell_type": "code",
      "metadata": {
        "id": "le_vnURJKV_M",
        "colab_type": "code",
        "colab": {
          "base_uri": "https://localhost:8080/",
          "height": 289
        },
        "outputId": "bd744748-f670-45de-c965-be1cbcc36f75"
      },
      "source": [
        "df['생년월일'].dt.dayofweek"
      ],
      "execution_count": null,
      "outputs": [
        {
          "output_type": "execute_result",
          "data": {
            "text/plain": [
              "0     4\n",
              "1     3\n",
              "2     1\n",
              "3     5\n",
              "4     6\n",
              "5     0\n",
              "6     2\n",
              "7     2\n",
              "8     4\n",
              "9     1\n",
              "10    3\n",
              "11    6\n",
              "12    4\n",
              "13    3\n",
              "14    1\n",
              "Name: 생년월일, dtype: int64"
            ]
          },
          "metadata": {
            "tags": []
          },
          "execution_count": 44
        }
      ]
    },
    {
      "cell_type": "markdown",
      "metadata": {
        "id": "jr4iVjDOKo8t",
        "colab_type": "text"
      },
      "source": [
        "**월요일: 0 화요일: 1, 수요일: 2, 목요일: 3, 금요일: 4, 토요일: 5, 일요일: 6**"
      ]
    },
    {
      "cell_type": "code",
      "metadata": {
        "id": "0qXA-uz8KXnk",
        "colab_type": "code",
        "colab": {
          "base_uri": "https://localhost:8080/",
          "height": 289
        },
        "outputId": "1fb3c6c7-a59a-4a58-93cf-17d63696dccf"
      },
      "source": [
        "df['생년월일'].dt.minute"
      ],
      "execution_count": null,
      "outputs": [
        {
          "output_type": "execute_result",
          "data": {
            "text/plain": [
              "0     0\n",
              "1     0\n",
              "2     0\n",
              "3     0\n",
              "4     0\n",
              "5     0\n",
              "6     0\n",
              "7     0\n",
              "8     0\n",
              "9     0\n",
              "10    0\n",
              "11    0\n",
              "12    0\n",
              "13    0\n",
              "14    0\n",
              "Name: 생년월일, dtype: int64"
            ]
          },
          "metadata": {
            "tags": []
          },
          "execution_count": 45
        }
      ]
    },
    {
      "cell_type": "code",
      "metadata": {
        "id": "LGwwVGY0KZcL",
        "colab_type": "code",
        "colab": {
          "base_uri": "https://localhost:8080/",
          "height": 289
        },
        "outputId": "3d950eb5-03a5-4fd3-f7dc-4ec2eef73d73"
      },
      "source": [
        "df['생년월일'].dt.second"
      ],
      "execution_count": null,
      "outputs": [
        {
          "output_type": "execute_result",
          "data": {
            "text/plain": [
              "0     0\n",
              "1     0\n",
              "2     0\n",
              "3     0\n",
              "4     0\n",
              "5     0\n",
              "6     0\n",
              "7     0\n",
              "8     0\n",
              "9     0\n",
              "10    0\n",
              "11    0\n",
              "12    0\n",
              "13    0\n",
              "14    0\n",
              "Name: 생년월일, dtype: int64"
            ]
          },
          "metadata": {
            "tags": []
          },
          "execution_count": 46
        }
      ]
    },
    {
      "cell_type": "code",
      "metadata": {
        "id": "x4cCdpsFNd1t",
        "colab_type": "code",
        "colab": {
          "base_uri": "https://localhost:8080/",
          "height": 289
        },
        "outputId": "db805b1c-2c2f-4331-b4ad-2edf61e7bff7"
      },
      "source": [
        "# 1년중에 몇번째 주에 있는지 \n",
        "df['생년월일'].dt.weekofyear"
      ],
      "execution_count": null,
      "outputs": [
        {
          "output_type": "execute_result",
          "data": {
            "text/plain": [
              "0     41\n",
              "1     33\n",
              "2     50\n",
              "3     52\n",
              "4     29\n",
              "5     36\n",
              "6     32\n",
              "7     35\n",
              "8     49\n",
              "9     12\n",
              "10    10\n",
              "11    13\n",
              "12    29\n",
              "13    23\n",
              "14    10\n",
              "Name: 생년월일, dtype: int64"
            ]
          },
          "metadata": {
            "tags": []
          },
          "execution_count": 47
        }
      ]
    },
    {
      "cell_type": "code",
      "metadata": {
        "id": "8u8GRahnLB9q",
        "colab_type": "code",
        "colab": {
          "base_uri": "https://localhost:8080/",
          "height": 204
        },
        "outputId": "f0a7a419-39ad-4332-9fa7-248aa3553f5c"
      },
      "source": [
        "df.head()"
      ],
      "execution_count": 24,
      "outputs": [
        {
          "output_type": "execute_result",
          "data": {
            "text/html": [
              "<div>\n",
              "<style scoped>\n",
              "    .dataframe tbody tr th:only-of-type {\n",
              "        vertical-align: middle;\n",
              "    }\n",
              "\n",
              "    .dataframe tbody tr th {\n",
              "        vertical-align: top;\n",
              "    }\n",
              "\n",
              "    .dataframe thead th {\n",
              "        text-align: right;\n",
              "    }\n",
              "</style>\n",
              "<table border=\"1\" class=\"dataframe\">\n",
              "  <thead>\n",
              "    <tr style=\"text-align: right;\">\n",
              "      <th></th>\n",
              "      <th>이름</th>\n",
              "      <th>그룹</th>\n",
              "      <th>소속사</th>\n",
              "      <th>성별</th>\n",
              "      <th>생년월일</th>\n",
              "      <th>키</th>\n",
              "      <th>혈액형</th>\n",
              "      <th>브랜드평판지수</th>\n",
              "      <th>생일_년도</th>\n",
              "      <th>생일_월</th>\n",
              "      <th>생일_일</th>\n",
              "    </tr>\n",
              "  </thead>\n",
              "  <tbody>\n",
              "    <tr>\n",
              "      <th>0</th>\n",
              "      <td>지민</td>\n",
              "      <td>방탄소년단</td>\n",
              "      <td>빅히트</td>\n",
              "      <td>남자</td>\n",
              "      <td>1995-10-13</td>\n",
              "      <td>173.6</td>\n",
              "      <td>A</td>\n",
              "      <td>10523260</td>\n",
              "      <td>1995</td>\n",
              "      <td>10</td>\n",
              "      <td>13</td>\n",
              "    </tr>\n",
              "    <tr>\n",
              "      <th>1</th>\n",
              "      <td>지드래곤</td>\n",
              "      <td>빅뱅</td>\n",
              "      <td>YG</td>\n",
              "      <td>남자</td>\n",
              "      <td>1988-08-18</td>\n",
              "      <td>177.0</td>\n",
              "      <td>A</td>\n",
              "      <td>9916947</td>\n",
              "      <td>1988</td>\n",
              "      <td>8</td>\n",
              "      <td>18</td>\n",
              "    </tr>\n",
              "    <tr>\n",
              "      <th>2</th>\n",
              "      <td>강다니엘</td>\n",
              "      <td>NaN</td>\n",
              "      <td>커넥트</td>\n",
              "      <td>남자</td>\n",
              "      <td>1996-12-10</td>\n",
              "      <td>180.0</td>\n",
              "      <td>A</td>\n",
              "      <td>8273745</td>\n",
              "      <td>1996</td>\n",
              "      <td>12</td>\n",
              "      <td>10</td>\n",
              "    </tr>\n",
              "    <tr>\n",
              "      <th>3</th>\n",
              "      <td>뷔</td>\n",
              "      <td>방탄소년단</td>\n",
              "      <td>빅히트</td>\n",
              "      <td>남자</td>\n",
              "      <td>1995-12-30</td>\n",
              "      <td>178.0</td>\n",
              "      <td>AB</td>\n",
              "      <td>8073501</td>\n",
              "      <td>1995</td>\n",
              "      <td>12</td>\n",
              "      <td>30</td>\n",
              "    </tr>\n",
              "    <tr>\n",
              "      <th>4</th>\n",
              "      <td>화사</td>\n",
              "      <td>마마무</td>\n",
              "      <td>RBW</td>\n",
              "      <td>여자</td>\n",
              "      <td>1995-07-23</td>\n",
              "      <td>162.1</td>\n",
              "      <td>A</td>\n",
              "      <td>7650928</td>\n",
              "      <td>1995</td>\n",
              "      <td>7</td>\n",
              "      <td>23</td>\n",
              "    </tr>\n",
              "  </tbody>\n",
              "</table>\n",
              "</div>"
            ],
            "text/plain": [
              "     이름     그룹  소속사  성별       생년월일      키 혈액형   브랜드평판지수  생일_년도  생일_월  생일_일\n",
              "0    지민  방탄소년단  빅히트  남자 1995-10-13  173.6   A  10523260   1995    10    13\n",
              "1  지드래곤     빅뱅   YG  남자 1988-08-18  177.0   A   9916947   1988     8    18\n",
              "2  강다니엘    NaN  커넥트  남자 1996-12-10  180.0   A   8273745   1996    12    10\n",
              "3     뷔  방탄소년단  빅히트  남자 1995-12-30  178.0  AB   8073501   1995    12    30\n",
              "4    화사    마마무  RBW  여자 1995-07-23  162.1   A   7650928   1995     7    23"
            ]
          },
          "metadata": {
            "tags": []
          },
          "execution_count": 24
        }
      ]
    },
    {
      "cell_type": "code",
      "metadata": {
        "id": "fuvRwvrqoGRA",
        "colab_type": "code",
        "colab": {}
      },
      "source": [
        "df['생일_년'] = df['생년월일'].dt.year\n",
        "df['생일_월'] = df['생년월일'].dt.month\n",
        "df['생일_일'] = df['생년월일'].dt.day"
      ],
      "execution_count": null,
      "outputs": []
    },
    {
      "cell_type": "code",
      "metadata": {
        "id": "DmkzB7kDoIwf",
        "colab_type": "code",
        "colab": {
          "base_uri": "https://localhost:8080/",
          "height": 204
        },
        "outputId": "c343af8a-9649-4929-c9d4-282802a665de"
      },
      "source": [
        "df.head()"
      ],
      "execution_count": 25,
      "outputs": [
        {
          "output_type": "execute_result",
          "data": {
            "text/html": [
              "<div>\n",
              "<style scoped>\n",
              "    .dataframe tbody tr th:only-of-type {\n",
              "        vertical-align: middle;\n",
              "    }\n",
              "\n",
              "    .dataframe tbody tr th {\n",
              "        vertical-align: top;\n",
              "    }\n",
              "\n",
              "    .dataframe thead th {\n",
              "        text-align: right;\n",
              "    }\n",
              "</style>\n",
              "<table border=\"1\" class=\"dataframe\">\n",
              "  <thead>\n",
              "    <tr style=\"text-align: right;\">\n",
              "      <th></th>\n",
              "      <th>이름</th>\n",
              "      <th>그룹</th>\n",
              "      <th>소속사</th>\n",
              "      <th>성별</th>\n",
              "      <th>생년월일</th>\n",
              "      <th>키</th>\n",
              "      <th>혈액형</th>\n",
              "      <th>브랜드평판지수</th>\n",
              "      <th>생일_년도</th>\n",
              "      <th>생일_월</th>\n",
              "      <th>생일_일</th>\n",
              "    </tr>\n",
              "  </thead>\n",
              "  <tbody>\n",
              "    <tr>\n",
              "      <th>0</th>\n",
              "      <td>지민</td>\n",
              "      <td>방탄소년단</td>\n",
              "      <td>빅히트</td>\n",
              "      <td>남자</td>\n",
              "      <td>1995-10-13</td>\n",
              "      <td>173.6</td>\n",
              "      <td>A</td>\n",
              "      <td>10523260</td>\n",
              "      <td>1995</td>\n",
              "      <td>10</td>\n",
              "      <td>13</td>\n",
              "    </tr>\n",
              "    <tr>\n",
              "      <th>1</th>\n",
              "      <td>지드래곤</td>\n",
              "      <td>빅뱅</td>\n",
              "      <td>YG</td>\n",
              "      <td>남자</td>\n",
              "      <td>1988-08-18</td>\n",
              "      <td>177.0</td>\n",
              "      <td>A</td>\n",
              "      <td>9916947</td>\n",
              "      <td>1988</td>\n",
              "      <td>8</td>\n",
              "      <td>18</td>\n",
              "    </tr>\n",
              "    <tr>\n",
              "      <th>2</th>\n",
              "      <td>강다니엘</td>\n",
              "      <td>NaN</td>\n",
              "      <td>커넥트</td>\n",
              "      <td>남자</td>\n",
              "      <td>1996-12-10</td>\n",
              "      <td>180.0</td>\n",
              "      <td>A</td>\n",
              "      <td>8273745</td>\n",
              "      <td>1996</td>\n",
              "      <td>12</td>\n",
              "      <td>10</td>\n",
              "    </tr>\n",
              "    <tr>\n",
              "      <th>3</th>\n",
              "      <td>뷔</td>\n",
              "      <td>방탄소년단</td>\n",
              "      <td>빅히트</td>\n",
              "      <td>남자</td>\n",
              "      <td>1995-12-30</td>\n",
              "      <td>178.0</td>\n",
              "      <td>AB</td>\n",
              "      <td>8073501</td>\n",
              "      <td>1995</td>\n",
              "      <td>12</td>\n",
              "      <td>30</td>\n",
              "    </tr>\n",
              "    <tr>\n",
              "      <th>4</th>\n",
              "      <td>화사</td>\n",
              "      <td>마마무</td>\n",
              "      <td>RBW</td>\n",
              "      <td>여자</td>\n",
              "      <td>1995-07-23</td>\n",
              "      <td>162.1</td>\n",
              "      <td>A</td>\n",
              "      <td>7650928</td>\n",
              "      <td>1995</td>\n",
              "      <td>7</td>\n",
              "      <td>23</td>\n",
              "    </tr>\n",
              "  </tbody>\n",
              "</table>\n",
              "</div>"
            ],
            "text/plain": [
              "     이름     그룹  소속사  성별       생년월일      키 혈액형   브랜드평판지수  생일_년도  생일_월  생일_일\n",
              "0    지민  방탄소년단  빅히트  남자 1995-10-13  173.6   A  10523260   1995    10    13\n",
              "1  지드래곤     빅뱅   YG  남자 1988-08-18  177.0   A   9916947   1988     8    18\n",
              "2  강다니엘    NaN  커넥트  남자 1996-12-10  180.0   A   8273745   1996    12    10\n",
              "3     뷔  방탄소년단  빅히트  남자 1995-12-30  178.0  AB   8073501   1995    12    30\n",
              "4    화사    마마무  RBW  여자 1995-07-23  162.1   A   7650928   1995     7    23"
            ]
          },
          "metadata": {
            "tags": []
          },
          "execution_count": 25
        }
      ]
    }
  ]
}