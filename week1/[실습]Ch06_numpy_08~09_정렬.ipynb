{
  "nbformat": 4,
  "nbformat_minor": 0,
  "metadata": {
    "colab": {
      "name": "[실습]Ch06.numpy - 08~09.정렬",
      "provenance": [],
      "collapsed_sections": [],
      "toc_visible": true,
      "include_colab_link": true
    },
    "kernelspec": {
      "name": "python3",
      "display_name": "Python 3"
    }
  },
  "cells": [
    {
      "cell_type": "markdown",
      "metadata": {
        "id": "view-in-github",
        "colab_type": "text"
      },
      "source": [
        "<a href=\"https://colab.research.google.com/github/SANGSEOSEO/philosophy_datascience/blob/master/%5B%EC%8B%A4%EC%8A%B5%5DCh06_numpy_08~09_%EC%A0%95%EB%A0%AC.ipynb\" target=\"_parent\"><img src=\"https://colab.research.google.com/assets/colab-badge.svg\" alt=\"Open In Colab\"/></a>"
      ]
    },
    {
      "cell_type": "code",
      "metadata": {
        "id": "MHrD2Y3QJq7l",
        "colab_type": "code",
        "colab": {}
      },
      "source": [
        "import numpy as np"
      ],
      "execution_count": 1,
      "outputs": []
    },
    {
      "cell_type": "markdown",
      "metadata": {
        "id": "VGNy7j4vAWGC",
        "colab_type": "text"
      },
      "source": [
        "## 1. 1차원 정렬"
      ]
    },
    {
      "cell_type": "markdown",
      "metadata": {
        "id": "-9nSxjZEJ4WH",
        "colab_type": "text"
      },
      "source": [
        "1차원 정렬은 매우 간단합니다."
      ]
    },
    {
      "cell_type": "code",
      "metadata": {
        "id": "N8srXe3kJ1CI",
        "colab_type": "code",
        "colab": {}
      },
      "source": [
        "arr = np.array([1, 10, 5, 8, 2, 4, 3, 6, 8, 7, 9])"
      ],
      "execution_count": 2,
      "outputs": []
    },
    {
      "cell_type": "code",
      "metadata": {
        "id": "qjKfuAWwKHuv",
        "colab_type": "code",
        "colab": {
          "base_uri": "https://localhost:8080/",
          "height": 34
        },
        "outputId": "1d1746ad-0bc4-430b-fa42-2351db88e3d3"
      },
      "source": [
        "arr"
      ],
      "execution_count": 3,
      "outputs": [
        {
          "output_type": "execute_result",
          "data": {
            "text/plain": [
              "array([ 1, 10,  5,  8,  2,  4,  3,  6,  8,  7,  9])"
            ]
          },
          "metadata": {
            "tags": []
          },
          "execution_count": 3
        }
      ]
    },
    {
      "cell_type": "markdown",
      "metadata": {
        "id": "qJgxXiw6KJoo",
        "colab_type": "text"
      },
      "source": [
        "np.sort(arr)"
      ]
    },
    {
      "cell_type": "code",
      "metadata": {
        "id": "7KvWPPaPKLep",
        "colab_type": "code",
        "colab": {
          "base_uri": "https://localhost:8080/",
          "height": 51
        },
        "outputId": "d49efd83-8a17-47b9-9151-4e2c33409f5b"
      },
      "source": [
        "# 정렬을 해서 복사본을 리턴합니다.\n",
        "# 원본은 그대로임.\n",
        "np.sort(arr), arr"
      ],
      "execution_count": 5,
      "outputs": [
        {
          "output_type": "execute_result",
          "data": {
            "text/plain": [
              "(array([ 1,  2,  3,  4,  5,  6,  7,  8,  8,  9, 10]),\n",
              " array([ 1, 10,  5,  8,  2,  4,  3,  6,  8,  7,  9]))"
            ]
          },
          "metadata": {
            "tags": []
          },
          "execution_count": 5
        }
      ]
    },
    {
      "cell_type": "markdown",
      "metadata": {
        "id": "pvJTDEsTKORq",
        "colab_type": "text"
      },
      "source": [
        "기본적으로 오름차순 정렬을 수행합니다."
      ]
    },
    {
      "cell_type": "code",
      "metadata": {
        "id": "rAO6KvBXKMMw",
        "colab_type": "code",
        "colab": {
          "base_uri": "https://localhost:8080/",
          "height": 34
        },
        "outputId": "defe5941-a56f-4a6e-adfc-bd123bf9dda4"
      },
      "source": [
        "# 외우자.내림차순으로 된다.\n",
        "np.sort(arr)[::-1]"
      ],
      "execution_count": 14,
      "outputs": [
        {
          "output_type": "execute_result",
          "data": {
            "text/plain": [
              "array([10,  9,  8,  8,  7,  6,  5,  4,  3,  2,  1])"
            ]
          },
          "metadata": {
            "tags": []
          },
          "execution_count": 14
        }
      ]
    },
    {
      "cell_type": "markdown",
      "metadata": {
        "id": "OsuNJIbtKNLw",
        "colab_type": "text"
      },
      "source": [
        "내림차순 정렬은 옵션에 -1 값을 주면됩니다."
      ]
    },
    {
      "cell_type": "markdown",
      "metadata": {
        "id": "pua2SnjpKWln",
        "colab_type": "text"
      },
      "source": [
        "하지만, 이 값들은 **유지가 되지 않습니다**!"
      ]
    },
    {
      "cell_type": "markdown",
      "metadata": {
        "id": "mWfIMYU4K24Q",
        "colab_type": "text"
      },
      "source": [
        "값을 sort 된 상태로 저장하려면, 배열 자체에 sort를 해줄 수 있습니다."
      ]
    },
    {
      "cell_type": "code",
      "metadata": {
        "id": "eiDxXfm9qwqs",
        "colab_type": "code",
        "colab": {
          "base_uri": "https://localhost:8080/",
          "height": 35
        },
        "outputId": "ce541ef0-63d5-49eb-a5fd-895f70550d96"
      },
      "source": [
        "np.sort(arr)"
      ],
      "execution_count": null,
      "outputs": [
        {
          "output_type": "execute_result",
          "data": {
            "text/plain": [
              "array([ 1,  2,  3,  4,  5,  6,  7,  8,  8,  9, 10])"
            ]
          },
          "metadata": {
            "tags": []
          },
          "execution_count": 6
        }
      ]
    },
    {
      "cell_type": "code",
      "metadata": {
        "id": "jMN43SI_qyXN",
        "colab_type": "code",
        "colab": {}
      },
      "source": [
        "# 새로운 변수에 할당해서 쓰거나 혹은 원래 변수에 정렬한 결과를 할당하는 것으로 사용.\n",
        "arr2 = np.sort(arr)  # arr = np.sort(arr)"
      ],
      "execution_count": null,
      "outputs": []
    },
    {
      "cell_type": "code",
      "metadata": {
        "id": "00DnLZIxq7eA",
        "colab_type": "code",
        "colab": {
          "base_uri": "https://localhost:8080/",
          "height": 35
        },
        "outputId": "eabc211c-2b07-4e4e-bc73-1ce1d7530880"
      },
      "source": [
        "arr"
      ],
      "execution_count": null,
      "outputs": [
        {
          "output_type": "execute_result",
          "data": {
            "text/plain": [
              "array([ 1, 10,  5,  8,  2,  4,  3,  6,  8,  7,  9])"
            ]
          },
          "metadata": {
            "tags": []
          },
          "execution_count": 8
        }
      ]
    },
    {
      "cell_type": "code",
      "metadata": {
        "id": "YNG3GMwxq5sn",
        "colab_type": "code",
        "colab": {
          "base_uri": "https://localhost:8080/",
          "height": 35
        },
        "outputId": "86ba0b7e-e02f-4855-951e-a42bf600f7e0"
      },
      "source": [
        "arr2"
      ],
      "execution_count": null,
      "outputs": [
        {
          "output_type": "execute_result",
          "data": {
            "text/plain": [
              "array([ 1,  2,  3,  4,  5,  6,  7,  8,  8,  9, 10])"
            ]
          },
          "metadata": {
            "tags": []
          },
          "execution_count": 9
        }
      ]
    },
    {
      "cell_type": "code",
      "metadata": {
        "id": "9K9cV72ZK-Ko",
        "colab_type": "code",
        "colab": {}
      },
      "source": [
        "# 원본을 정렬함.None을 리턴. None이라는 의미는 원본을 변경한다는 의미이다.\n",
        "arr.sort()"
      ],
      "execution_count": 15,
      "outputs": []
    },
    {
      "cell_type": "code",
      "metadata": {
        "id": "6uMEnTSnK_Mw",
        "colab_type": "code",
        "colab": {
          "base_uri": "https://localhost:8080/",
          "height": 34
        },
        "outputId": "de6445f8-6068-4c71-94c4-bd5a933c505c"
      },
      "source": [
        "arr"
      ],
      "execution_count": 16,
      "outputs": [
        {
          "output_type": "execute_result",
          "data": {
            "text/plain": [
              "array([ 1,  2,  3,  4,  5,  6,  7,  8,  8,  9, 10])"
            ]
          },
          "metadata": {
            "tags": []
          },
          "execution_count": 16
        }
      ]
    },
    {
      "cell_type": "markdown",
      "metadata": {
        "id": "baXVQJQxLCww",
        "colab_type": "text"
      },
      "source": [
        "## 2. N차원 정렬"
      ]
    },
    {
      "cell_type": "code",
      "metadata": {
        "id": "Z065jsH2LGlg",
        "colab_type": "code",
        "colab": {}
      },
      "source": [
        "arr2d = np.array([[5, 6, 7, 8], \n",
        "                  [4, 3, 2, 1],\n",
        "                  [10, 9, 12, 11]])"
      ],
      "execution_count": 18,
      "outputs": []
    },
    {
      "cell_type": "code",
      "metadata": {
        "id": "U9ch4G44rieM",
        "colab_type": "code",
        "colab": {
          "base_uri": "https://localhost:8080/",
          "height": 34
        },
        "outputId": "a39cfcb9-2ad1-457e-a699-120ccb76e0a5"
      },
      "source": [
        "arr2d.shape"
      ],
      "execution_count": 19,
      "outputs": [
        {
          "output_type": "execute_result",
          "data": {
            "text/plain": [
              "(3, 4)"
            ]
          },
          "metadata": {
            "tags": []
          },
          "execution_count": 19
        }
      ]
    },
    {
      "cell_type": "code",
      "metadata": {
        "id": "-05V5VoCLTCd",
        "colab_type": "code",
        "colab": {
          "base_uri": "https://localhost:8080/",
          "height": 68
        },
        "outputId": "fee98955-8e84-4961-f0df-576bfbe295dc"
      },
      "source": [
        "arr2d"
      ],
      "execution_count": 20,
      "outputs": [
        {
          "output_type": "execute_result",
          "data": {
            "text/plain": [
              "array([[ 5,  6,  7,  8],\n",
              "       [ 4,  3,  2,  1],\n",
              "       [10,  9, 12, 11]])"
            ]
          },
          "metadata": {
            "tags": []
          },
          "execution_count": 20
        }
      ]
    },
    {
      "cell_type": "markdown",
      "metadata": {
        "id": "oHGGgf9cLxxQ",
        "colab_type": "text"
      },
      "source": [
        "### 2-1. 열 정렬 (왼쪽에서 오른쪽으로)"
      ]
    },
    {
      "cell_type": "code",
      "metadata": {
        "id": "qQqbg2nyL8Cw",
        "colab_type": "code",
        "colab": {
          "base_uri": "https://localhost:8080/",
          "height": 71
        },
        "outputId": "b4a97422-e28e-44bc-9520-6e3e3006e587"
      },
      "source": [
        "arr2d"
      ],
      "execution_count": null,
      "outputs": [
        {
          "output_type": "execute_result",
          "data": {
            "text/plain": [
              "array([[ 5,  6,  7,  8],\n",
              "       [ 4,  3,  2,  1],\n",
              "       [10,  9, 12, 11]])"
            ]
          },
          "metadata": {
            "tags": []
          },
          "execution_count": 15
        }
      ]
    },
    {
      "cell_type": "code",
      "metadata": {
        "id": "tw5Wrw_ZLVkf",
        "colab_type": "code",
        "colab": {
          "base_uri": "https://localhost:8080/",
          "height": 68
        },
        "outputId": "4b6d9aa5-7ded-443b-e6ca-c8bc05bed473"
      },
      "source": [
        "# 열 기준으로 정렬해줘.\n",
        "np.sort(arr2d, axis=1)"
      ],
      "execution_count": 21,
      "outputs": [
        {
          "output_type": "execute_result",
          "data": {
            "text/plain": [
              "array([[ 5,  6,  7,  8],\n",
              "       [ 1,  2,  3,  4],\n",
              "       [ 9, 10, 11, 12]])"
            ]
          },
          "metadata": {
            "tags": []
          },
          "execution_count": 21
        }
      ]
    },
    {
      "cell_type": "markdown",
      "metadata": {
        "id": "5gKzuuOJLr-P",
        "colab_type": "text"
      },
      "source": [
        "### 2-2. 행 정렬 (위에서 아래로)"
      ]
    },
    {
      "cell_type": "code",
      "metadata": {
        "id": "tuZHbojFL5az",
        "colab_type": "code",
        "colab": {
          "base_uri": "https://localhost:8080/",
          "height": 68
        },
        "outputId": "7e7a6828-deef-4b32-c9b5-8c76eefab062"
      },
      "source": [
        "arr2d"
      ],
      "execution_count": 22,
      "outputs": [
        {
          "output_type": "execute_result",
          "data": {
            "text/plain": [
              "array([[ 5,  6,  7,  8],\n",
              "       [ 4,  3,  2,  1],\n",
              "       [10,  9, 12, 11]])"
            ]
          },
          "metadata": {
            "tags": []
          },
          "execution_count": 22
        }
      ]
    },
    {
      "cell_type": "code",
      "metadata": {
        "id": "50fUgOYtLYbg",
        "colab_type": "code",
        "colab": {
          "base_uri": "https://localhost:8080/",
          "height": 68
        },
        "outputId": "83927165-49e4-4e53-917d-9870e994089f"
      },
      "source": [
        "# 행 기준으로 정렬\n",
        "np.sort(arr2d,axis=0)"
      ],
      "execution_count": 24,
      "outputs": [
        {
          "output_type": "execute_result",
          "data": {
            "text/plain": [
              "array([[ 4,  3,  2,  1],\n",
              "       [ 5,  6,  7,  8],\n",
              "       [10,  9, 12, 11]])"
            ]
          },
          "metadata": {
            "tags": []
          },
          "execution_count": 24
        }
      ]
    },
    {
      "cell_type": "code",
      "metadata": {
        "id": "D-lDUXjYLcOQ",
        "colab_type": "code",
        "colab": {}
      },
      "source": [
        ""
      ],
      "execution_count": null,
      "outputs": []
    },
    {
      "cell_type": "markdown",
      "metadata": {
        "id": "shL5hUigMKVf",
        "colab_type": "text"
      },
      "source": [
        "## 3. index를 반환하는 argsort"
      ]
    },
    {
      "cell_type": "markdown",
      "metadata": {
        "id": "jZTm3IVRMOys",
        "colab_type": "text"
      },
      "source": [
        "정렬된 값을 반환하는 것이 아닌 index를 반환합니다."
      ]
    },
    {
      "cell_type": "code",
      "metadata": {
        "id": "KMIrKnTNMSeP",
        "colab_type": "code",
        "colab": {}
      },
      "source": [
        "arr2d = np.array([[5, 6, 7, 8], \n",
        "                  [4, 3, 2, 1],\n",
        "                  [10, 9, 12, 11]])"
      ],
      "execution_count": 25,
      "outputs": []
    },
    {
      "cell_type": "markdown",
      "metadata": {
        "id": "OSVeVt9MMYf_",
        "colab_type": "text"
      },
      "source": [
        "\n",
        "### 3-1. 열 정렬 (왼쪽에서 오른쪽으로)"
      ]
    },
    {
      "cell_type": "code",
      "metadata": {
        "id": "a0iDxGE3MFfF",
        "colab_type": "code",
        "colab": {
          "base_uri": "https://localhost:8080/",
          "height": 68
        },
        "outputId": "4b50b009-3504-4ebe-d286-9610b576f541"
      },
      "source": [
        "# 어떤 값을 데이터 분석할때 해당 값의 인덱스를 받아오고 싶을때 사용\n",
        "np.argsort(arr2d, axis=1)"
      ],
      "execution_count": 27,
      "outputs": [
        {
          "output_type": "execute_result",
          "data": {
            "text/plain": [
              "array([[0, 1, 2, 3],\n",
              "       [3, 2, 1, 0],\n",
              "       [1, 0, 3, 2]])"
            ]
          },
          "metadata": {
            "tags": []
          },
          "execution_count": 27
        }
      ]
    },
    {
      "cell_type": "markdown",
      "metadata": {
        "id": "ae1f3EujMH-X",
        "colab_type": "text"
      },
      "source": [
        "### 3-2. 행 정렬"
      ]
    },
    {
      "cell_type": "code",
      "metadata": {
        "id": "usl8PioHMp4A",
        "colab_type": "code",
        "colab": {
          "base_uri": "https://localhost:8080/",
          "height": 71
        },
        "outputId": "bbee8b6d-075b-4934-a6d0-8a5fa2c1521c"
      },
      "source": [
        "arr2d"
      ],
      "execution_count": null,
      "outputs": [
        {
          "output_type": "execute_result",
          "data": {
            "text/plain": [
              "array([[ 5,  6,  7,  8],\n",
              "       [ 4,  3,  2,  1],\n",
              "       [10,  9, 12, 11]])"
            ]
          },
          "metadata": {
            "tags": []
          },
          "execution_count": 21
        }
      ]
    },
    {
      "cell_type": "code",
      "metadata": {
        "id": "stPz_OloMsV3",
        "colab_type": "code",
        "colab": {
          "base_uri": "https://localhost:8080/",
          "height": 68
        },
        "outputId": "3ecacbcc-1558-4142-a596-a6761c3b0814"
      },
      "source": [
        "# 코드를 입력해 주세요\n",
        "np.argsort(arr2d, axis=0)"
      ],
      "execution_count": 28,
      "outputs": [
        {
          "output_type": "execute_result",
          "data": {
            "text/plain": [
              "array([[1, 1, 1, 1],\n",
              "       [0, 0, 0, 0],\n",
              "       [2, 2, 2, 2]])"
            ]
          },
          "metadata": {
            "tags": []
          },
          "execution_count": 28
        }
      ]
    },
    {
      "cell_type": "code",
      "metadata": {
        "id": "PzfQlskGMkxG",
        "colab_type": "code",
        "colab": {
          "base_uri": "https://localhost:8080/",
          "height": 71
        },
        "outputId": "2b377947-0047-4325-838b-5b73b2767074"
      },
      "source": [
        "# 코드를 입력해 주세요\n"
      ],
      "execution_count": null,
      "outputs": [
        {
          "output_type": "execute_result",
          "data": {
            "text/plain": [
              "array([[1, 1, 1, 1],\n",
              "       [0, 0, 0, 0],\n",
              "       [2, 2, 2, 2]])"
            ]
          },
          "metadata": {
            "tags": []
          },
          "execution_count": 23
        }
      ]
    }
  ]
}