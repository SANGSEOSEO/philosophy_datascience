{
  "nbformat": 4,
  "nbformat_minor": 0,
  "metadata": {
    "colab": {
      "name": "[실습]Ch06.numpy - 13.브로드캐스팅",
      "provenance": [],
      "collapsed_sections": [],
      "toc_visible": true,
      "include_colab_link": true
    },
    "kernelspec": {
      "name": "python3",
      "display_name": "Python 3"
    }
  },
  "cells": [
    {
      "cell_type": "markdown",
      "metadata": {
        "id": "view-in-github",
        "colab_type": "text"
      },
      "source": [
        "<a href=\"https://colab.research.google.com/github/SANGSEOSEO/philosophy_datascience/blob/master/%5B%EC%8B%A4%EC%8A%B5%5DCh06_numpy_13_%EB%B8%8C%EB%A1%9C%EB%93%9C%EC%BA%90%EC%8A%A4%ED%8C%85.ipynb\" target=\"_parent\"><img src=\"https://colab.research.google.com/assets/colab-badge.svg\" alt=\"Open In Colab\"/></a>"
      ]
    },
    {
      "cell_type": "code",
      "metadata": {
        "id": "LulZNt92NkpN",
        "colab_type": "code",
        "colab": {}
      },
      "source": [
        "import numpy as np"
      ],
      "execution_count": 1,
      "outputs": []
    },
    {
      "cell_type": "markdown",
      "metadata": {
        "id": "SRvQcvZCnW3i",
        "colab_type": "text"
      },
      "source": [
        "## 1. Broadcasting"
      ]
    },
    {
      "cell_type": "markdown",
      "metadata": {
        "id": "CmHlXQZpnmV-",
        "colab_type": "text"
      },
      "source": [
        "## 1-1. 숫자의 연산 (단일)"
      ]
    },
    {
      "cell_type": "code",
      "metadata": {
        "id": "ph3AU9BtnWO8",
        "colab_type": "code",
        "colab": {}
      },
      "source": [
        "a= np.array(\n",
        "    [\n",
        "     [1, 2, 3],\n",
        "     [2, 3, 4]\n",
        "    ]\n",
        ")"
      ],
      "execution_count": 2,
      "outputs": []
    },
    {
      "cell_type": "code",
      "metadata": {
        "id": "wP3ryxaVeMAU",
        "colab_type": "code",
        "colab": {}
      },
      "source": [
        "b = np.array([[3, 3, 3], \n",
        "              [3, 3, 3]])"
      ],
      "execution_count": 3,
      "outputs": []
    },
    {
      "cell_type": "code",
      "metadata": {
        "id": "NwrXRYpRePwT",
        "colab_type": "code",
        "colab": {
          "base_uri": "https://localhost:8080/",
          "height": 51
        },
        "outputId": "dae3751f-7003-4144-91da-9636d3149b8d"
      },
      "source": [
        "# 코드를 입력해 주세요\n",
        "a + b"
      ],
      "execution_count": 4,
      "outputs": [
        {
          "output_type": "execute_result",
          "data": {
            "text/plain": [
              "array([[4, 5, 6],\n",
              "       [5, 6, 7]])"
            ]
          },
          "metadata": {
            "tags": []
          },
          "execution_count": 4
        }
      ]
    },
    {
      "cell_type": "code",
      "metadata": {
        "id": "q7bEEmV6nb4u",
        "colab_type": "code",
        "colab": {
          "base_uri": "https://localhost:8080/",
          "height": 51
        },
        "outputId": "55bb4845-3e66-4084-90d7-56ae114982af"
      },
      "source": [
        "# broadcasting\n",
        "a + 3"
      ],
      "execution_count": 5,
      "outputs": [
        {
          "output_type": "execute_result",
          "data": {
            "text/plain": [
              "array([[4, 5, 6],\n",
              "       [5, 6, 7]])"
            ]
          },
          "metadata": {
            "tags": []
          },
          "execution_count": 5
        }
      ]
    },
    {
      "cell_type": "code",
      "metadata": {
        "id": "7M0D2XH_nc7k",
        "colab_type": "code",
        "colab": {
          "base_uri": "https://localhost:8080/",
          "height": 51
        },
        "outputId": "bbcdf90c-83aa-4baa-99fb-ed5a5a4839e5"
      },
      "source": [
        "# broadcasting\n",
        "a - 3"
      ],
      "execution_count": 6,
      "outputs": [
        {
          "output_type": "execute_result",
          "data": {
            "text/plain": [
              "array([[-2, -1,  0],\n",
              "       [-1,  0,  1]])"
            ]
          },
          "metadata": {
            "tags": []
          },
          "execution_count": 6
        }
      ]
    },
    {
      "cell_type": "code",
      "metadata": {
        "id": "IVybQr5hnXgN",
        "colab_type": "code",
        "colab": {
          "base_uri": "https://localhost:8080/",
          "height": 51
        },
        "outputId": "eab0d13c-d15b-4fba-a717-1fcc5326d6b1"
      },
      "source": [
        "# scalar broadcasting\n",
        "a * 3"
      ],
      "execution_count": 7,
      "outputs": [
        {
          "output_type": "execute_result",
          "data": {
            "text/plain": [
              "array([[ 3,  6,  9],\n",
              "       [ 6,  9, 12]])"
            ]
          },
          "metadata": {
            "tags": []
          },
          "execution_count": 7
        }
      ]
    },
    {
      "cell_type": "code",
      "metadata": {
        "id": "NIdre4HjnZkV",
        "colab_type": "code",
        "colab": {
          "base_uri": "https://localhost:8080/",
          "height": 51
        },
        "outputId": "04affaa5-4901-4a11-84bc-87e628bbff44"
      },
      "source": [
        "# 코드를 입력해 주세요\n",
        "a / 3"
      ],
      "execution_count": 8,
      "outputs": [
        {
          "output_type": "execute_result",
          "data": {
            "text/plain": [
              "array([[0.33333333, 0.66666667, 1.        ],\n",
              "       [0.66666667, 1.        , 1.33333333]])"
            ]
          },
          "metadata": {
            "tags": []
          },
          "execution_count": 8
        }
      ]
    },
    {
      "cell_type": "markdown",
      "metadata": {
        "id": "v8sBWkCjngHh",
        "colab_type": "text"
      },
      "source": [
        "### 1-2. array(배열)의 브로드캐스팅"
      ]
    },
    {
      "cell_type": "markdown",
      "metadata": {
        "id": "56JaZkO8qlki",
        "colab_type": "text"
      },
      "source": [
        "오리지널 array의 shape가 유지됨을 잘 보세요"
      ]
    },
    {
      "cell_type": "code",
      "metadata": {
        "colab_type": "code",
        "id": "MaCpoTDmqk4_",
        "colab": {}
      },
      "source": [
        "a = np.array([[1, 2, 3],\n",
        "              [4, 5, 6]])"
      ],
      "execution_count": 9,
      "outputs": []
    },
    {
      "cell_type": "code",
      "metadata": {
        "id": "iMrC-FXpoKCs",
        "colab_type": "code",
        "colab": {}
      },
      "source": [
        "b = np.array([[1], \n",
        "              [2]])"
      ],
      "execution_count": 10,
      "outputs": []
    },
    {
      "cell_type": "code",
      "metadata": {
        "id": "1AHEKVHmeg44",
        "colab_type": "code",
        "colab": {
          "base_uri": "https://localhost:8080/",
          "height": 34
        },
        "outputId": "a375b3fd-0ea7-40e7-894b-38818efb0c87"
      },
      "source": [
        "a.shape, b.shape"
      ],
      "execution_count": 11,
      "outputs": [
        {
          "output_type": "execute_result",
          "data": {
            "text/plain": [
              "((2, 3), (2, 1))"
            ]
          },
          "metadata": {
            "tags": []
          },
          "execution_count": 11
        }
      ]
    },
    {
      "cell_type": "code",
      "metadata": {
        "id": "aluTkytRoNSq",
        "colab_type": "code",
        "colab": {
          "base_uri": "https://localhost:8080/",
          "height": 51
        },
        "outputId": "296b29b4-ef59-48e2-c4da-77dd536a90d8"
      },
      "source": [
        "# 덧셈 ,뺄셈의 원리와 동일하게 동일한 Position에 대해서 곱한다.\n",
        "a * b"
      ],
      "execution_count": 12,
      "outputs": [
        {
          "output_type": "execute_result",
          "data": {
            "text/plain": [
              "array([[ 1,  2,  3],\n",
              "       [ 8, 10, 12]])"
            ]
          },
          "metadata": {
            "tags": []
          },
          "execution_count": 12
        }
      ]
    },
    {
      "cell_type": "code",
      "metadata": {
        "id": "XlRAf8bYqbDv",
        "colab_type": "code",
        "colab": {}
      },
      "source": [
        "a = np.array([[1, 2, 3], \n",
        "              [2, 3, 4]])"
      ],
      "execution_count": 13,
      "outputs": []
    },
    {
      "cell_type": "code",
      "metadata": {
        "id": "ks6uh7LqoO3C",
        "colab_type": "code",
        "colab": {}
      },
      "source": [
        "b = np.array([1, 2, 3])"
      ],
      "execution_count": 14,
      "outputs": []
    },
    {
      "cell_type": "code",
      "metadata": {
        "id": "8Uw-I3Itqcui",
        "colab_type": "code",
        "colab": {
          "base_uri": "https://localhost:8080/",
          "height": 51
        },
        "outputId": "578aaf5a-75e4-4936-da3d-959af09da9b6"
      },
      "source": [
        "# 코드를 입력해 주세요\n",
        "a * b"
      ],
      "execution_count": 15,
      "outputs": [
        {
          "output_type": "execute_result",
          "data": {
            "text/plain": [
              "array([[ 1,  4,  9],\n",
              "       [ 2,  6, 12]])"
            ]
          },
          "metadata": {
            "tags": []
          },
          "execution_count": 15
        }
      ]
    },
    {
      "cell_type": "markdown",
      "metadata": {
        "id": "YUEfjLnUNsyj",
        "colab_type": "text"
      },
      "source": [
        "##정리"
      ]
    },
    {
      "cell_type": "markdown",
      "metadata": {
        "id": "FC-HlyudSENw",
        "colab_type": "text"
      },
      "source": [
        " - dot product와 일반 곱셈은 방법이 약간 차이가 있다.\n",
        "  - 전자는 맞닿는 부분의 shape이 일치해야 곱이 가능하다.\n",
        "  - 후자는 shape이 같아야 하고,broadcasting이 동시에 일어난다.\n",
        "- 덧셈, 뺄셈은 동일한 shape이어야 하고 , 동일 Positon의 인덱스를 가진 요소들끼리 연산"
      ]
    }
  ]
}