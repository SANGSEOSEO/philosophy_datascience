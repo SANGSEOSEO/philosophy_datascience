{
  "nbformat": 4,
  "nbformat_minor": 0,
  "metadata": {
    "colab": {
      "name": "[실습]Ch06.numpy - 07.np.arange v.s np.range",
      "provenance": [],
      "collapsed_sections": [],
      "toc_visible": true,
      "include_colab_link": true
    },
    "kernelspec": {
      "name": "python3",
      "display_name": "Python 3"
    }
  },
  "cells": [
    {
      "cell_type": "markdown",
      "metadata": {
        "id": "view-in-github",
        "colab_type": "text"
      },
      "source": [
        "<a href=\"https://colab.research.google.com/github/SANGSEOSEO/philosophy_datascience/blob/master/%5B%EC%8B%A4%EC%8A%B5%5DCh06_numpy_07_np_arange_v_s_np_range.ipynb\" target=\"_parent\"><img src=\"https://colab.research.google.com/assets/colab-badge.svg\" alt=\"Open In Colab\"/></a>"
      ]
    },
    {
      "cell_type": "code",
      "metadata": {
        "id": "q9-VjchqYrZc",
        "colab_type": "code",
        "colab": {}
      },
      "source": [
        "import numpy as np"
      ],
      "execution_count": 1,
      "outputs": []
    },
    {
      "cell_type": "markdown",
      "metadata": {
        "id": "Jlkq_eLvZAXJ",
        "colab_type": "text"
      },
      "source": [
        "## 1. arange란?"
      ]
    },
    {
      "cell_type": "markdown",
      "metadata": {
        "id": "qHT2C5eSZCwp",
        "colab_type": "text"
      },
      "source": [
        "arange와 range를 같이 보고 이해하시면 됩니다.\n",
        "(당연히 개념도 매우 직관적이고 쉽습니다)"
      ]
    },
    {
      "cell_type": "markdown",
      "metadata": {
        "id": "7ASNxnlzZMiI",
        "colab_type": "text"
      },
      "source": [
        "**[실제 상황 예시]**\n",
        "\n",
        "우리는 순차적인 값을 생성할 때가 많습니다. 예를 들면 다음과 같습니다.\n",
        "\n",
        "1. 회원에 대한 가입 번호 부여 (1번 회원부터 순차적으로~)\n",
        "2. 100개 한정 판매 상품에 대한 고유 번호 부여\n",
        "\n",
        "등등.. 이 밖에도 데이터 관리를 위한 인덱스를 차례대로 부여하는 것은 매우 흔한 일입니다. (심지어, 엑셀에서도 왼쪽 행에 1번부터~ 쭈욱 부여 되죠?)"
      ]
    },
    {
      "cell_type": "markdown",
      "metadata": {
        "id": "JJMFhTTMadAu",
        "colab_type": "text"
      },
      "source": [
        "### 1-1. 순서대로 리스트에 값을 생성하려면?"
      ]
    },
    {
      "cell_type": "markdown",
      "metadata": {
        "id": "nyBZLk2oc2sb",
        "colab_type": "text"
      },
      "source": [
        "1~10까지 값을 생성하려면?"
      ]
    },
    {
      "cell_type": "code",
      "metadata": {
        "id": "DUPdcWj3b8YI",
        "colab_type": "code",
        "colab": {}
      },
      "source": [
        "arr = [1, 2, 3, 4, 5, 6, 7, 8, 9, 10]"
      ],
      "execution_count": null,
      "outputs": []
    },
    {
      "cell_type": "code",
      "metadata": {
        "id": "I66ivEa8c8Ok",
        "colab_type": "code",
        "colab": {
          "base_uri": "https://localhost:8080/",
          "height": 34
        },
        "outputId": "2e1854c8-a70e-4751-ebff-06a06632ff38"
      },
      "source": [
        "arr"
      ],
      "execution_count": null,
      "outputs": [
        {
          "output_type": "execute_result",
          "data": {
            "text/plain": [
              "[1, 2, 3, 4, 5, 6, 7, 8, 9, 10]"
            ]
          },
          "metadata": {
            "tags": []
          },
          "execution_count": 3
        }
      ]
    },
    {
      "cell_type": "markdown",
      "metadata": {
        "id": "toy77tE5c_DW",
        "colab_type": "text"
      },
      "source": [
        "### 1-2. arange를 사용해서 쉽게 생성하기"
      ]
    },
    {
      "cell_type": "markdown",
      "metadata": {
        "id": "E0cdCSnVdHlK",
        "colab_type": "text"
      },
      "source": [
        "첫번째 인자에는 **start 이상**, 두번째 인자에는 **stop의 미만** 이 들어갑니다."
      ]
    },
    {
      "cell_type": "code",
      "metadata": {
        "id": "EoH_TE8edDDm",
        "colab_type": "code",
        "colab": {}
      },
      "source": [
        "# np.arange\n",
        "arr = np.arange(start=1, stop=11, step=1)"
      ],
      "execution_count": 4,
      "outputs": []
    },
    {
      "cell_type": "code",
      "metadata": {
        "id": "WPgM5vvfdGGX",
        "colab_type": "code",
        "colab": {
          "base_uri": "https://localhost:8080/",
          "height": 34
        },
        "outputId": "e554f804-3fc6-4abe-d5b6-e6444c3ce8c2"
      },
      "source": [
        "arr"
      ],
      "execution_count": 5,
      "outputs": [
        {
          "output_type": "execute_result",
          "data": {
            "text/plain": [
              "array([ 1,  2,  3,  4,  5,  6,  7,  8,  9, 10])"
            ]
          },
          "metadata": {
            "tags": []
          },
          "execution_count": 5
        }
      ]
    },
    {
      "cell_type": "markdown",
      "metadata": {
        "id": "P9jsPX9jdGfH",
        "colab_type": "text"
      },
      "source": [
        "## 1-3. keyword 인자를 사용해보기"
      ]
    },
    {
      "cell_type": "markdown",
      "metadata": {
        "id": "BSsXCqTUdpWf",
        "colab_type": "text"
      },
      "source": [
        "keyword 인자는 파라미터(인자)의 keyword를 지정해줌으로썬 순서 없이 지정해 줄 수 있습니다."
      ]
    },
    {
      "cell_type": "code",
      "metadata": {
        "id": "XquA7klSdwoP",
        "colab_type": "code",
        "colab": {}
      },
      "source": [
        "# keyword인자로 파라미터 던지기 \n",
        "arr = np.arange(stop=11, start=1, step=1)"
      ],
      "execution_count": 6,
      "outputs": []
    },
    {
      "cell_type": "code",
      "metadata": {
        "id": "KBJ169jBd22H",
        "colab_type": "code",
        "colab": {
          "base_uri": "https://localhost:8080/",
          "height": 34
        },
        "outputId": "6e9b879e-7969-4f3c-c95a-893e4c52f552"
      },
      "source": [
        "arr"
      ],
      "execution_count": 7,
      "outputs": [
        {
          "output_type": "execute_result",
          "data": {
            "text/plain": [
              "array([ 1,  2,  3,  4,  5,  6,  7,  8,  9, 10])"
            ]
          },
          "metadata": {
            "tags": []
          },
          "execution_count": 7
        }
      ]
    },
    {
      "cell_type": "code",
      "metadata": {
        "id": "KLxLL3H4d3VP",
        "colab_type": "code",
        "colab": {}
      },
      "source": [
        "arr = np.arange(stop=21, step=2, start=1)  # 홀수만 가져오기 "
      ],
      "execution_count": 9,
      "outputs": []
    },
    {
      "cell_type": "code",
      "metadata": {
        "id": "cM79U_lhd8Ho",
        "colab_type": "code",
        "colab": {
          "base_uri": "https://localhost:8080/",
          "height": 34
        },
        "outputId": "7f9f9519-f27a-4a3b-e641-097385338ae2"
      },
      "source": [
        "arr"
      ],
      "execution_count": 10,
      "outputs": [
        {
          "output_type": "execute_result",
          "data": {
            "text/plain": [
              "array([ 1,  3,  5,  7,  9, 11, 13, 15, 17, 19])"
            ]
          },
          "metadata": {
            "tags": []
          },
          "execution_count": 10
        }
      ]
    },
    {
      "cell_type": "markdown",
      "metadata": {
        "id": "1cfrkQUTd8u3",
        "colab_type": "text"
      },
      "source": [
        "### 1-4. 홀수의 값만 생성"
      ]
    },
    {
      "cell_type": "markdown",
      "metadata": {
        "id": "qnni1pROeDNH",
        "colab_type": "text"
      },
      "source": [
        "1~10 사이의 값중 홀수만 생성해 보세요."
      ]
    },
    {
      "cell_type": "markdown",
      "metadata": {
        "id": "lSMgWdW_eGxu",
        "colab_type": "text"
      },
      "source": [
        "**step 키워드 활용**"
      ]
    },
    {
      "cell_type": "code",
      "metadata": {
        "id": "4nCoMlY6eKEG",
        "colab_type": "code",
        "colab": {}
      },
      "source": [
        "# keyword parameter\n",
        "arr = np.arange(stop=11, start=1, step=2)"
      ],
      "execution_count": 11,
      "outputs": []
    },
    {
      "cell_type": "code",
      "metadata": {
        "id": "bbD_pVlCeNjf",
        "colab_type": "code",
        "colab": {
          "base_uri": "https://localhost:8080/",
          "height": 34
        },
        "outputId": "1bcce535-99f9-4ece-f896-6bc515798f6c"
      },
      "source": [
        "arr"
      ],
      "execution_count": 12,
      "outputs": [
        {
          "output_type": "execute_result",
          "data": {
            "text/plain": [
              "array([1, 3, 5, 7, 9])"
            ]
          },
          "metadata": {
            "tags": []
          },
          "execution_count": 12
        }
      ]
    },
    {
      "cell_type": "code",
      "metadata": {
        "id": "Km2Y-H9GeOJw",
        "colab_type": "code",
        "colab": {}
      },
      "source": [
        "# keyword구문없이 순서에 맞춰서 파라미터 던져야 함\n",
        "arr = np.arange(1,20,2)"
      ],
      "execution_count": 13,
      "outputs": []
    },
    {
      "cell_type": "code",
      "metadata": {
        "id": "qFkEtpj6eRf5",
        "colab_type": "code",
        "colab": {
          "base_uri": "https://localhost:8080/",
          "height": 34
        },
        "outputId": "1bbf8f80-a67e-4233-86a5-ed4bc445cee7"
      },
      "source": [
        "arr"
      ],
      "execution_count": 14,
      "outputs": [
        {
          "output_type": "execute_result",
          "data": {
            "text/plain": [
              "array([ 1,  3,  5,  7,  9, 11, 13, 15, 17, 19])"
            ]
          },
          "metadata": {
            "tags": []
          },
          "execution_count": 14
        }
      ]
    },
    {
      "cell_type": "markdown",
      "metadata": {
        "id": "Zr0qGlzCA15e",
        "colab_type": "text"
      },
      "source": [
        "###1.5 짝수만 가지와라"
      ]
    },
    {
      "cell_type": "code",
      "metadata": {
        "id": "mib1R0YcBF1Y",
        "colab_type": "code",
        "colab": {
          "base_uri": "https://localhost:8080/",
          "height": 34
        },
        "outputId": "be921779-4e28-4538-d5a3-726721ca0e6f"
      },
      "source": [
        "even = np.arange(2,21,2)\n",
        "even"
      ],
      "execution_count": 25,
      "outputs": [
        {
          "output_type": "execute_result",
          "data": {
            "text/plain": [
              "array([ 2,  4,  6,  8, 10, 12, 14, 16, 18, 20])"
            ]
          },
          "metadata": {
            "tags": []
          },
          "execution_count": 25
        }
      ]
    },
    {
      "cell_type": "markdown",
      "metadata": {
        "id": "CGXt-yz1eW-u",
        "colab_type": "text"
      },
      "source": [
        "## 2. range (numpy와는 상관없는 python 문법)"
      ]
    },
    {
      "cell_type": "markdown",
      "metadata": {
        "id": "C2d4HSjbeXBG",
        "colab_type": "text"
      },
      "source": [
        "* range는 말 그대로 범위를 지정해 주는 것입니다.\n",
        "* np.arange와 헷갈리시는 분들이 많아 이번 시간에 같이 다룹니다.\n",
        "* 보통 for in 의 반복문에서 많이 사용됩니다."
      ]
    },
    {
      "cell_type": "code",
      "metadata": {
        "id": "7QyWC0d-eXDe",
        "colab_type": "code",
        "colab": {}
      },
      "source": [
        "# list로 형변환 필요함.\n",
        "arr = list(range(1,11,1))"
      ],
      "execution_count": 18,
      "outputs": []
    },
    {
      "cell_type": "code",
      "metadata": {
        "id": "ZDpnpl6delRP",
        "colab_type": "code",
        "colab": {
          "base_uri": "https://localhost:8080/",
          "height": 34
        },
        "outputId": "5200e5de-bbb0-44bc-9daa-f1e5a919fcfa"
      },
      "source": [
        "arr"
      ],
      "execution_count": 20,
      "outputs": [
        {
          "output_type": "execute_result",
          "data": {
            "text/plain": [
              "[1, 2, 3, 4, 5, 6, 7, 8, 9, 10]"
            ]
          },
          "metadata": {
            "tags": []
          },
          "execution_count": 20
        }
      ]
    },
    {
      "cell_type": "code",
      "metadata": {
        "id": "ryyFPjKYfBIn",
        "colab_type": "code",
        "colab": {
          "base_uri": "https://localhost:8080/",
          "height": 34
        },
        "outputId": "3c3fd565-d02f-4943-c21b-0aa0fdfe2b50"
      },
      "source": [
        "for val in arr:\n",
        "  print(val, end=' ')"
      ],
      "execution_count": 21,
      "outputs": [
        {
          "output_type": "stream",
          "text": [
            "1 2 3 4 5 6 7 8 9 10 "
          ],
          "name": "stdout"
        }
      ]
    },
    {
      "cell_type": "markdown",
      "metadata": {
        "id": "pILEfkE2fEfd",
        "colab_type": "text"
      },
      "source": [
        "### 2-1. range 구문 활용시"
      ]
    },
    {
      "cell_type": "code",
      "metadata": {
        "id": "vZl0-whyelvu",
        "colab_type": "code",
        "colab": {
          "base_uri": "https://localhost:8080/",
          "height": 34
        },
        "outputId": "d061961f-b68f-4dbc-d9e8-2827f0d3e2e6"
      },
      "source": [
        "for i in range(1, 21, 2):\n",
        "  print(i, end=' ')"
      ],
      "execution_count": 22,
      "outputs": [
        {
          "output_type": "stream",
          "text": [
            "1 3 5 7 9 11 13 15 17 19 "
          ],
          "name": "stdout"
        }
      ]
    },
    {
      "cell_type": "code",
      "metadata": {
        "id": "FqCegWlvepj3",
        "colab_type": "code",
        "colab": {
          "base_uri": "https://localhost:8080/",
          "height": 105
        },
        "outputId": "8326ecbe-682a-4c10-fd55-a951a3489939"
      },
      "source": [
        "for i in range(1, 11, 2):\n",
        "    print(i)"
      ],
      "execution_count": null,
      "outputs": [
        {
          "output_type": "stream",
          "text": [
            "1\n",
            "3\n",
            "5\n",
            "7\n",
            "9\n"
          ],
          "name": "stdout"
        }
      ]
    }
  ]
}