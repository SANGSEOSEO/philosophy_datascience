{
 "cells": [
  {
   "cell_type": "markdown",
   "metadata": {
    "colab_type": "text",
    "id": "view-in-github"
   },
   "source": [
    "<a href=\"https://colab.research.google.com/github/SANGSEOSEO/philosophy_datascience/blob/master/%EA%B5%AD%EB%AF%BC%EC%97%B0%EA%B8%88%EC%9D%84_%ED%86%B5%ED%95%B4_%EB%B3%B8_COVID19%EC%97%90%EC%84%9C%EC%9D%98_%EC%9A%B0%EB%A6%AC%EA%B2%BD%EC%A0%9C.ipynb\" target=\"_parent\"><img src=\"https://colab.research.google.com/assets/colab-badge.svg\" alt=\"Open In Colab\"/></a>"
   ]
  },
  {
   "cell_type": "markdown",
   "metadata": {
    "id": "GXZs45-A8U9i"
   },
   "source": [
    "## 국민연금을 통한 COVID19에서의 기업업종별 상황"
   ]
  },
  {
   "cell_type": "markdown",
   "metadata": {
    "id": "TqClaxea8U9k"
   },
   "source": [
    "- 데이터셋: 공공 데이터 포털\n",
    "- 형태: 파일데이터 (csv)\n",
    "- 다운로드: https://www.data.go.kr/data/3046071/fileData.do"
   ]
  },
  {
   "cell_type": "markdown",
   "metadata": {
    "id": "b3CZHtksCRIc"
   },
   "source": [
    "### 한글폰트 안깨지게 실행"
   ]
  },
  {
   "cell_type": "code",
   "execution_count": null,
   "metadata": {
    "id": "e9W9sX5GCPQt"
   },
   "outputs": [],
   "source": [
    "# 1. 먼저 실행\n",
    "!sudo apt-get install -y fonts-nanum  # 한글 폰트 실행\n",
    "!sudo fc-cache -fv  # 나눔폰트\n",
    "!rm ~/.cache/matplotlib -rf  # 캐쉬 삭제\n",
    "\n",
    "# 2. 런타임 --> 런타임 다시 시작 "
   ]
  },
  {
   "cell_type": "code",
   "execution_count": 2,
   "metadata": {
    "id": "PxsL4iisDFPi"
   },
   "outputs": [],
   "source": [
    "# 3. 실행 한번 해주고 .\n",
    "import matplotlib.pyplot as plt\n",
    "plt.rc('font', family='NanumBarunGothic')   # 시스템 설정 : 폰트 패밀리 - 나눔바른폰트\n",
    "plt.rcParams['figure.figsize'] = (12, 9)"
   ]
  },
  {
   "cell_type": "code",
   "execution_count": 3,
   "metadata": {
    "colab": {
     "base_uri": "https://localhost:8080/",
     "height": 71
    },
    "id": "MfR0d8ZO8U9k",
    "outputId": "d42c0b06-c22e-4c3e-8001-04d8a9506bdf"
   },
   "outputs": [
    {
     "name": "stderr",
     "output_type": "stream",
     "text": [
      "/usr/local/lib/python3.6/dist-packages/statsmodels/tools/_testing.py:19: FutureWarning: pandas.util.testing is deprecated. Use the functions in the public API at pandas.testing instead.\n",
      "  import pandas.util.testing as tm\n"
     ]
    }
   ],
   "source": [
    "import pandas as pd\n",
    "import numpy as np\n",
    "\n",
    "import seaborn as sns\n",
    "import warnings\n",
    "\n",
    "\n",
    "warnings.filterwarnings('ignore')\n",
    "pd.set_option('display.float_format', lambda x: '%.2f' % x)\n",
    "\n",
    "%matplotlib inline"
   ]
  },
  {
   "cell_type": "code",
   "execution_count": 69,
   "metadata": {
    "colab": {
     "base_uri": "https://localhost:8080/",
     "height": 190
    },
    "id": "TPt06-lM8U9q",
    "outputId": "6937e082-77f9-407e-f22f-1ea6072283c6"
   },
   "outputs": [
    {
     "data": {
      "text/plain": [
       "Index(['자료생성년월(자격마감일(사유발생일이 속하는 달의 다음달 15일)까지 신고분 반영)', ' 사업장명', ' 사업자등록번호',\n",
       "       ' 사업장가입상태코드 1:등록2:탈퇴', ' 우편번호', ' 사업장지번상세주소', ' 사업장도로명상세주소',\n",
       "       ' 고객법정동주소코드', ' 고객행정동주소코드', ' 법정동주소광역시도코드', ' 법정동주소광역시시군구코드',\n",
       "       ' 법정동주소광역시시군구읍면동코드', ' 사업장형태구분코드 1:법인2:개인', ' 사업장업종코드', ' 사업장업종코드명',\n",
       "       ' 적용일자', ' 재등록일자', ' 탈퇴일자', ' 가입자수(고지인원 수 포함)',\n",
       "       ' 당월고지금액(※ 국민연금법 시행령 제5조에 의거 기준소득월액 상한액 적용으로 실제소득과 고지금액은 상이할 수 있음 : 상한액 2019.7.~2020.6. 4860000원(2019.7.1.기준) 상한액 2020.7.~2021.6. 5030000원(2020.7.1.기준))',\n",
       "       ' 신규취득자수(납부재개 포함 : ※ 전달 고지대상자와 비교하므로 실제 취득자와 상이할 수 있음(초일취득 고지 초일이 아닌경우. 미고지(다음달 취득자수에 반영))',\n",
       "       ' 상실가입자수(납부예외 포함 : ※ 전달 고지대상자와 비교하므로 실제 퇴사자와 상이할 수 있음(초일이 아닌 상실자는 다음달 상실자수에 반영) 국민연금법 제6조 8조 동법 시행령 제18조에 의거 60세 도달하거나 퇴직연금수급자 조기노령연금 수급권을 취득한 자는 가입대상에서 제외되며 18세미만 기초수급자는 본인희망에 의해 제외될 수 있음)'],\n",
       "      dtype='object')"
      ]
     },
     "execution_count": 69,
     "metadata": {
      "tags": []
     },
     "output_type": "execute_result"
    }
   ],
   "source": [
    "df = pd.read_csv('/content/sample_data/national_pension_20200824.csv', encoding='CP949')\n",
    "df.columns"
   ]
  },
  {
   "cell_type": "markdown",
   "metadata": {
    "id": "TWV73o1lPlfX"
   },
   "source": [
    "###컬럼 정보 정리"
   ]
  },
  {
   "cell_type": "code",
   "execution_count": 70,
   "metadata": {
    "id": "ymb4uoVp7VFB"
   },
   "outputs": [],
   "source": [
    "# rename으로 하기엔 많아서 컬럼명 간소화시킴\n",
    "columns = ['자료생성년월', '사업장명', '사업자번호', '가입상태', '우편번호', '지번주소', '도로명주소', '법정주소코드', \n",
    "           '행정주소코드', '광역시코드', '시군구코드', '읍면동코드', '사업장형태', '업종코드', '업종코드명', \n",
    "           '적용일', '재등록일', '탈퇴일', '가입자수', '고지금액', '신규', '상실',\n",
    "          ]\n",
    "df.columns = columns          "
   ]
  },
  {
   "cell_type": "markdown",
   "metadata": {
    "id": "TbtkIKsDQGzM"
   },
   "source": [
    "##비대면 - IT업종 국민연금 데이터 추출"
   ]
  },
  {
   "cell_type": "code",
   "execution_count": 71,
   "metadata": {
    "id": "2DxoV6MrdG81"
   },
   "outputs": [],
   "source": [
    "# IT업종\n",
    "df_IT = df[df['업종코드'].isin([biz for biz in df['업종코드'] if str(biz).startswith('72') | str(biz).startswith('64')])]\n",
    "df_IT.columns = columns\n",
    "df_IT = df_IT[['자료생성년월', '사업장명', '사업장형태', '시군구코드', '업종코드명', '적용일', '탈퇴일', '가입상태', '신규', '상실', '가입자수', '고지금액']]"
   ]
  },
  {
   "cell_type": "markdown",
   "metadata": {
    "id": "RWG0LQcKmJdh"
   },
   "source": [
    "## 컬럼정보"
   ]
  },
  {
   "cell_type": "code",
   "execution_count": null,
   "metadata": {
    "id": "Ghpu4KMZlHuh"
   },
   "outputs": [],
   "source": [
    "# 대략적인 컬럼을 보고 \n",
    "df.info()"
   ]
  },
  {
   "cell_type": "code",
   "execution_count": null,
   "metadata": {
    "colab": {
     "base_uri": "https://localhost:8080/",
     "height": 190
    },
    "id": "7VtLFIANlmiD",
    "outputId": "e047bbe7-afc5-4679-d8be-04e02d8c12ec"
   },
   "outputs": [
    {
     "data": {
      "text/plain": [
       "Index(['자료생성년월(자격마감일(사유발생일이 속하는 달의 다음달 15일)까지 신고분 반영)', ' 사업장명', ' 사업자등록번호',\n",
       "       ' 사업장가입상태코드 1:등록2:탈퇴', ' 우편번호', ' 사업장지번상세주소', ' 사업장도로명상세주소',\n",
       "       ' 고객법정동주소코드', ' 고객행정동주소코드', ' 법정동주소광역시도코드', ' 법정동주소광역시시군구코드',\n",
       "       ' 법정동주소광역시시군구읍면동코드', ' 사업장형태구분코드 1:법인2:개인', ' 사업장업종코드', ' 사업장업종코드명',\n",
       "       ' 적용일자', ' 재등록일자', ' 탈퇴일자', ' 가입자수(고지인원 수 포함)',\n",
       "       ' 당월고지금액(※ 국민연금법 시행령 제5조에 의거 기준소득월액 상한액 적용으로 실제소득과 고지금액은 상이할 수 있음 : 상한액 2019.7.~2020.6. 4860000원(2019.7.1.기준) 상한액 2020.7.~2021.6. 5030000원(2020.7.1.기준))',\n",
       "       ' 신규취득자수(납부재개 포함 : ※ 전달 고지대상자와 비교하므로 실제 취득자와 상이할 수 있음(초일취득 고지 초일이 아닌경우. 미고지(다음달 취득자수에 반영))',\n",
       "       ' 상실가입자수(납부예외 포함 : ※ 전달 고지대상자와 비교하므로 실제 퇴사자와 상이할 수 있음(초일이 아닌 상실자는 다음달 상실자수에 반영) 국민연금법 제6조 8조 동법 시행령 제18조에 의거 60세 도달하거나 퇴직연금수급자 조기노령연금 수급권을 취득한 자는 가입대상에서 제외되며 18세미만 기초수급자는 본인희망에 의해 제외될 수 있음)'],\n",
       "      dtype='object')"
      ]
     },
     "execution_count": 5,
     "metadata": {
      "tags": []
     },
     "output_type": "execute_result"
    }
   ],
   "source": [
    "df.columns"
   ]
  },
  {
   "cell_type": "code",
   "execution_count": null,
   "metadata": {
    "id": "Lrvd9WbUE7gB"
   },
   "outputs": [],
   "source": [
    "df.loc[df['업종코드명'].isna()]\n",
    "df.loc[df['고지금액'].isnull()]"
   ]
  },
  {
   "cell_type": "markdown",
   "metadata": {
    "id": "y2UwsFAGTuBE"
   },
   "source": [
    "##분석 대상 데이터 정의 및 추출\n",
    "\n",
    "\n",
    "*   업종코드는 [기준경비율 단순경비율 - 국세청](https://www.nts.go.kr/wtsnts_skin/board_skin/mdl/mdlFileDown.asp?minfoKey=MINF6920080211211738&key=401347)  참조함.\n",
    "\n"
   ]
  },
  {
   "cell_type": "code",
   "execution_count": null,
   "metadata": {
    "id": "yt9NZbAdeJUF"
   },
   "outputs": [],
   "source": [
    "# 일반 for..loop\n",
    "# for biz in df['업종코드']:\n",
    "#   if str(biz).startswith('940'):\n",
    "#     print(biz)"
   ]
  },
  {
   "cell_type": "code",
   "execution_count": 18,
   "metadata": {
    "colab": {
     "base_uri": "https://localhost:8080/",
     "height": 1000
    },
    "id": "w9YlijrEU1fD",
    "outputId": "ed793ecf-2d08-460a-b561-532eeec8f9e9"
   },
   "outputs": [
    {
     "data": {
      "text/html": [
       "<div>\n",
       "<style scoped>\n",
       "    .dataframe tbody tr th:only-of-type {\n",
       "        vertical-align: middle;\n",
       "    }\n",
       "\n",
       "    .dataframe tbody tr th {\n",
       "        vertical-align: top;\n",
       "    }\n",
       "\n",
       "    .dataframe thead th {\n",
       "        text-align: right;\n",
       "    }\n",
       "</style>\n",
       "<table border=\"1\" class=\"dataframe\">\n",
       "  <thead>\n",
       "    <tr style=\"text-align: right;\">\n",
       "      <th></th>\n",
       "      <th>자료생성년월</th>\n",
       "      <th>사업장명</th>\n",
       "      <th>사업자번호</th>\n",
       "      <th>가입상태</th>\n",
       "      <th>우편번호</th>\n",
       "      <th>지번주소</th>\n",
       "      <th>도로명주소</th>\n",
       "      <th>법정주소코드</th>\n",
       "      <th>행정주소코드</th>\n",
       "      <th>광역시코드</th>\n",
       "      <th>시군구코드</th>\n",
       "      <th>읍면동코드</th>\n",
       "      <th>사업장형태</th>\n",
       "      <th>업종코드</th>\n",
       "      <th>업종코드명</th>\n",
       "      <th>적용일</th>\n",
       "      <th>재등록일</th>\n",
       "      <th>탈퇴일</th>\n",
       "      <th>가입자수</th>\n",
       "      <th>고지금액</th>\n",
       "      <th>신규</th>\n",
       "      <th>상실</th>\n",
       "    </tr>\n",
       "  </thead>\n",
       "  <tbody>\n",
       "    <tr>\n",
       "      <th>4519</th>\n",
       "      <td>202007</td>\n",
       "      <td>(주)모두투어네트워크</td>\n",
       "      <td>202814</td>\n",
       "      <td>1</td>\n",
       "      <td>4533</td>\n",
       "      <td>서울특별시 중구 을지로1가</td>\n",
       "      <td>서울특별시 중구 을지로</td>\n",
       "      <td>1114010400</td>\n",
       "      <td>1114055000</td>\n",
       "      <td>11.00</td>\n",
       "      <td>140.00</td>\n",
       "      <td>104.00</td>\n",
       "      <td>1.00</td>\n",
       "      <td>630600</td>\n",
       "      <td>여행사업</td>\n",
       "      <td>19890901.00</td>\n",
       "      <td>10101.00</td>\n",
       "      <td>10101.00</td>\n",
       "      <td>867.00</td>\n",
       "      <td>195684780.00</td>\n",
       "      <td>240.00</td>\n",
       "      <td>760.00</td>\n",
       "    </tr>\n",
       "    <tr>\n",
       "      <th>358</th>\n",
       "      <td>202007</td>\n",
       "      <td>(주)삼구아이앤씨</td>\n",
       "      <td>118811</td>\n",
       "      <td>1</td>\n",
       "      <td>4542</td>\n",
       "      <td>서울특별시 중구 수표동</td>\n",
       "      <td>서울특별시 중구 청계천로</td>\n",
       "      <td>1114011000</td>\n",
       "      <td>1114055000</td>\n",
       "      <td>11.00</td>\n",
       "      <td>140.00</td>\n",
       "      <td>110.00</td>\n",
       "      <td>1.00</td>\n",
       "      <td>749300</td>\n",
       "      <td>건축물 일반 청소업</td>\n",
       "      <td>19880101.00</td>\n",
       "      <td>10101.00</td>\n",
       "      <td>10101.00</td>\n",
       "      <td>10272.00</td>\n",
       "      <td>2669762420.00</td>\n",
       "      <td>333.00</td>\n",
       "      <td>338.00</td>\n",
       "    </tr>\n",
       "    <tr>\n",
       "      <th>3228</th>\n",
       "      <td>202007</td>\n",
       "      <td>대한해운(주)</td>\n",
       "      <td>101812</td>\n",
       "      <td>1</td>\n",
       "      <td>7803</td>\n",
       "      <td>서울특별시 강서구 마곡동</td>\n",
       "      <td>서울특별시 강서구 마곡중앙8로</td>\n",
       "      <td>1150010500</td>\n",
       "      <td>1150000000</td>\n",
       "      <td>11.00</td>\n",
       "      <td>500.00</td>\n",
       "      <td>105.00</td>\n",
       "      <td>1.00</td>\n",
       "      <td>611002</td>\n",
       "      <td>외항 화물 운송업</td>\n",
       "      <td>19880101.00</td>\n",
       "      <td>10101.00</td>\n",
       "      <td>10101.00</td>\n",
       "      <td>432.00</td>\n",
       "      <td>172549600.00</td>\n",
       "      <td>9.00</td>\n",
       "      <td>293.00</td>\n",
       "    </tr>\n",
       "    <tr>\n",
       "      <th>3665</th>\n",
       "      <td>202007</td>\n",
       "      <td>롯데지알에스(주)</td>\n",
       "      <td>106812</td>\n",
       "      <td>1</td>\n",
       "      <td>4322</td>\n",
       "      <td>서울특별시 용산구 갈월동</td>\n",
       "      <td>서울특별시 용산구 한강대로71길</td>\n",
       "      <td>1117010400</td>\n",
       "      <td>1117053000</td>\n",
       "      <td>11.00</td>\n",
       "      <td>170.00</td>\n",
       "      <td>104.00</td>\n",
       "      <td>1.00</td>\n",
       "      <td>552107</td>\n",
       "      <td>치킨 전문점</td>\n",
       "      <td>19880101.00</td>\n",
       "      <td>10101.00</td>\n",
       "      <td>10101.00</td>\n",
       "      <td>3020.00</td>\n",
       "      <td>694568540.00</td>\n",
       "      <td>190.00</td>\n",
       "      <td>169.00</td>\n",
       "    </tr>\n",
       "    <tr>\n",
       "      <th>3460</th>\n",
       "      <td>202007</td>\n",
       "      <td>(주)GS리테일</td>\n",
       "      <td>116811</td>\n",
       "      <td>1</td>\n",
       "      <td>6141</td>\n",
       "      <td>서울특별시 강남구 역삼동</td>\n",
       "      <td>서울특별시 강남구 논현로</td>\n",
       "      <td>1168010100</td>\n",
       "      <td>1168064000</td>\n",
       "      <td>11.00</td>\n",
       "      <td>680.00</td>\n",
       "      <td>101.00</td>\n",
       "      <td>1.00</td>\n",
       "      <td>521992</td>\n",
       "      <td>체인화 편의점</td>\n",
       "      <td>19880101.00</td>\n",
       "      <td>10101.00</td>\n",
       "      <td>10101.00</td>\n",
       "      <td>6774.00</td>\n",
       "      <td>1862765000.00</td>\n",
       "      <td>86.00</td>\n",
       "      <td>168.00</td>\n",
       "    </tr>\n",
       "    <tr>\n",
       "      <th>...</th>\n",
       "      <td>...</td>\n",
       "      <td>...</td>\n",
       "      <td>...</td>\n",
       "      <td>...</td>\n",
       "      <td>...</td>\n",
       "      <td>...</td>\n",
       "      <td>...</td>\n",
       "      <td>...</td>\n",
       "      <td>...</td>\n",
       "      <td>...</td>\n",
       "      <td>...</td>\n",
       "      <td>...</td>\n",
       "      <td>...</td>\n",
       "      <td>...</td>\n",
       "      <td>...</td>\n",
       "      <td>...</td>\n",
       "      <td>...</td>\n",
       "      <td>...</td>\n",
       "      <td>...</td>\n",
       "      <td>...</td>\n",
       "      <td>...</td>\n",
       "      <td>...</td>\n",
       "    </tr>\n",
       "    <tr>\n",
       "      <th>2725</th>\n",
       "      <td>202007</td>\n",
       "      <td>(주)새한렌트카</td>\n",
       "      <td>119811</td>\n",
       "      <td>1</td>\n",
       "      <td>4510</td>\n",
       "      <td>서울특별시 중구 중림동</td>\n",
       "      <td>서울특별시 중구 청파로</td>\n",
       "      <td>1114017100</td>\n",
       "      <td>1114068000</td>\n",
       "      <td>11.00</td>\n",
       "      <td>140.00</td>\n",
       "      <td>171.00</td>\n",
       "      <td>1.00</td>\n",
       "      <td>630304</td>\n",
       "      <td>자동차 임대업(렌트카)</td>\n",
       "      <td>19880101.00</td>\n",
       "      <td>10101.00</td>\n",
       "      <td>10101.00</td>\n",
       "      <td>6.00</td>\n",
       "      <td>1144480.00</td>\n",
       "      <td>0.00</td>\n",
       "      <td>0.00</td>\n",
       "    </tr>\n",
       "    <tr>\n",
       "      <th>2729</th>\n",
       "      <td>202007</td>\n",
       "      <td>내외종합건축사무소(주)</td>\n",
       "      <td>213813</td>\n",
       "      <td>1</td>\n",
       "      <td>6303</td>\n",
       "      <td>서울특별시 강남구 개포동</td>\n",
       "      <td>서울특별시 강남구 개포로15길</td>\n",
       "      <td>1168010300</td>\n",
       "      <td>1168069000</td>\n",
       "      <td>11.00</td>\n",
       "      <td>680.00</td>\n",
       "      <td>103.00</td>\n",
       "      <td>1.00</td>\n",
       "      <td>742103</td>\n",
       "      <td>건축 설계 및 관련 서비스업</td>\n",
       "      <td>19880101.00</td>\n",
       "      <td>10101.00</td>\n",
       "      <td>10101.00</td>\n",
       "      <td>17.00</td>\n",
       "      <td>5134960.00</td>\n",
       "      <td>0.00</td>\n",
       "      <td>0.00</td>\n",
       "    </tr>\n",
       "    <tr>\n",
       "      <th>2740</th>\n",
       "      <td>202007</td>\n",
       "      <td>진양가스(주)</td>\n",
       "      <td>213810</td>\n",
       "      <td>1</td>\n",
       "      <td>6260</td>\n",
       "      <td>서울특별시 강남구 도곡동</td>\n",
       "      <td>서울특별시 강남구 도곡로</td>\n",
       "      <td>1168011800</td>\n",
       "      <td>1168065500</td>\n",
       "      <td>11.00</td>\n",
       "      <td>680.00</td>\n",
       "      <td>118.00</td>\n",
       "      <td>1.00</td>\n",
       "      <td>523630</td>\n",
       "      <td>가정용 가스 연료 소매업</td>\n",
       "      <td>19880101.00</td>\n",
       "      <td>10101.00</td>\n",
       "      <td>10101.00</td>\n",
       "      <td>10.00</td>\n",
       "      <td>2458720.00</td>\n",
       "      <td>0.00</td>\n",
       "      <td>0.00</td>\n",
       "    </tr>\n",
       "    <tr>\n",
       "      <th>2753</th>\n",
       "      <td>202007</td>\n",
       "      <td>선샤인(주)</td>\n",
       "      <td>211811</td>\n",
       "      <td>1</td>\n",
       "      <td>6026</td>\n",
       "      <td>서울특별시 강남구 신사동</td>\n",
       "      <td>서울특별시 강남구 도산대로</td>\n",
       "      <td>1168010700</td>\n",
       "      <td>1168051000</td>\n",
       "      <td>11.00</td>\n",
       "      <td>680.00</td>\n",
       "      <td>107.00</td>\n",
       "      <td>1.00</td>\n",
       "      <td>551001</td>\n",
       "      <td>호텔업</td>\n",
       "      <td>19880101.00</td>\n",
       "      <td>10101.00</td>\n",
       "      <td>10101.00</td>\n",
       "      <td>19.00</td>\n",
       "      <td>4375540.00</td>\n",
       "      <td>0.00</td>\n",
       "      <td>0.00</td>\n",
       "    </tr>\n",
       "    <tr>\n",
       "      <th>5406</th>\n",
       "      <td>202007</td>\n",
       "      <td>(주)코렘건설</td>\n",
       "      <td>114818</td>\n",
       "      <td>1</td>\n",
       "      <td>6593</td>\n",
       "      <td>서울특별시 서초구 반포동</td>\n",
       "      <td>서울특별시 서초구 서초중앙로31길</td>\n",
       "      <td>1165010700</td>\n",
       "      <td>1165000000</td>\n",
       "      <td>11.00</td>\n",
       "      <td>650.00</td>\n",
       "      <td>107.00</td>\n",
       "      <td>1.00</td>\n",
       "      <td>742201</td>\n",
       "      <td>기타 기술 시험  검사 및 분석업</td>\n",
       "      <td>19990101.00</td>\n",
       "      <td>10101.00</td>\n",
       "      <td>10101.00</td>\n",
       "      <td>4.00</td>\n",
       "      <td>657060.00</td>\n",
       "      <td>0.00</td>\n",
       "      <td>0.00</td>\n",
       "    </tr>\n",
       "  </tbody>\n",
       "</table>\n",
       "<p>1398 rows × 22 columns</p>\n",
       "</div>"
      ],
      "text/plain": [
       "      자료생성년월          사업장명   사업자번호  가입상태  ...     가입자수          고지금액     신규     상실\n",
       "4519  202007   (주)모두투어네트워크  202814     1  ...   867.00  195684780.00 240.00 760.00\n",
       "358   202007     (주)삼구아이앤씨  118811     1  ... 10272.00 2669762420.00 333.00 338.00\n",
       "3228  202007       대한해운(주)  101812     1  ...   432.00  172549600.00   9.00 293.00\n",
       "3665  202007     롯데지알에스(주)  106812     1  ...  3020.00  694568540.00 190.00 169.00\n",
       "3460  202007      (주)GS리테일  116811     1  ...  6774.00 1862765000.00  86.00 168.00\n",
       "...      ...           ...     ...   ...  ...      ...           ...    ...    ...\n",
       "2725  202007      (주)새한렌트카  119811     1  ...     6.00    1144480.00   0.00   0.00\n",
       "2729  202007  내외종합건축사무소(주)  213813     1  ...    17.00    5134960.00   0.00   0.00\n",
       "2740  202007       진양가스(주)  213810     1  ...    10.00    2458720.00   0.00   0.00\n",
       "2753  202007        선샤인(주)  211811     1  ...    19.00    4375540.00   0.00   0.00\n",
       "5406  202007       (주)코렘건설  114818     1  ...     4.00     657060.00   0.00   0.00\n",
       "\n",
       "[1398 rows x 22 columns]"
      ]
     },
     "execution_count": 18,
     "metadata": {
      "tags": []
     },
     "output_type": "execute_result"
    }
   ],
   "source": [
    "# 1.분석하고자 하는 대상건 DataFrame생성 \n",
    "\n",
    "#1.1 대면서비스 업종 \n",
    "# 이용업,미용,마사지,욕탕,세탁,장례식,결혼,상담\n",
    "df_contact = df[(df['업종코드'].isin([biz for biz in df['업종코드'] if str(biz).startswith('940') \n",
    "                                                                         | str(biz).startswith('92') \n",
    "                                                                         | str(biz).startswith('93')\n",
    "                                                                         | str(biz).startswith('80')\n",
    "                                                                         | str(biz).startswith('73')\n",
    "                                                                         | str(biz).startswith('74')\n",
    "                                                                         | str(biz).startswith('63')\n",
    "                                                                         | str(biz).startswith('71')\n",
    "                                                                          | str(biz).startswith('551')  \n",
    "                                                                          | str(biz).startswith('552')  \n",
    "                                                                          | str(biz).startswith('60') \n",
    "                                                                         | str(biz).startswith('61')\n",
    "                                                                         | str(biz).startswith('62')\n",
    "                                                                        | str(biz).startswith('52')\n",
    "                                                                         ]))]\n",
    "df_contact.sort_values(by='상실', ascending=False)                                                                         \n",
    "\n",
    "# # 부동산관련 \n",
    "# df_realest = df[(df['업종코드'].isin([biz for biz in df['업종코드'] if str(biz).startswith('65') \n",
    "#                                                                         | str(biz).startswith('66') \n",
    "#                                                                         | str(biz).startswith('67')\n",
    "#                                                                         | str(biz).startswith('70')\n",
    "#                                                                         ]))]\n",
    "# df_realest[['자료생성년월', '사업장명', '사업장형태', '업종코드명', '적용일', '탈퇴일', '가입상태', '신규', '상실', '가입자수', '고지금액']].sort_values(by='상실', ascending=False)"
   ]
  },
  {
   "cell_type": "markdown",
   "metadata": {
    "id": "RKtxkgv1Ix5-"
   },
   "source": [
    "## 대면서비스가 중심인 업종"
   ]
  },
  {
   "cell_type": "markdown",
   "metadata": {
    "id": "NcC6evsaG1U3"
   },
   "source": [
    "#### 대면서비스 업종에 대한 예측\n",
    "- COVID19로 인해 뉴스보도나 전세계 발 경제상황을 보더라도 여행,유통, 항공 업계가 타격이 클것으로 예측 \n",
    "  * 예측에 대한 검증을 국민연금 데이터 대면서비스 업종의 국민연금 자격 상실 통계치를 통해 검증하고자 함\n",
    "  * 기업체의 고지금액과 상실간의 관계는 어떠한지 확인"
   ]
  },
  {
   "cell_type": "markdown",
   "metadata": {
    "id": "Bx-wiMBNI94G"
   },
   "source": [
    "###대면서비스 업종 - 상실"
   ]
  },
  {
   "cell_type": "code",
   "execution_count": 19,
   "metadata": {
    "id": "yJJflSTGKSV_"
   },
   "outputs": [],
   "source": [
    "df_contact['인당고지금액'] = df_contact['고지금액'] / df_contact['가입자수']\n",
    "df_contact['평균월급'] = df_contact['고지금액'] / 9 * 100\n",
    "df_contact['평균연봉'] = df_contact['평균월급'] * 12"
   ]
  },
  {
   "cell_type": "code",
   "execution_count": 23,
   "metadata": {
    "colab": {
     "base_uri": "https://localhost:8080/",
     "height": 1000
    },
    "id": "OxeGSuaOMD6p",
    "outputId": "96497ab8-711f-461e-c6c2-5c1f2d7e7af7"
   },
   "outputs": [
    {
     "data": {
      "text/html": [
       "<div>\n",
       "<style scoped>\n",
       "    .dataframe tbody tr th:only-of-type {\n",
       "        vertical-align: middle;\n",
       "    }\n",
       "\n",
       "    .dataframe tbody tr th {\n",
       "        vertical-align: top;\n",
       "    }\n",
       "\n",
       "    .dataframe thead th {\n",
       "        text-align: right;\n",
       "    }\n",
       "</style>\n",
       "<table border=\"1\" class=\"dataframe\">\n",
       "  <thead>\n",
       "    <tr style=\"text-align: right;\">\n",
       "      <th></th>\n",
       "      <th>자료생성년월</th>\n",
       "      <th>사업장명</th>\n",
       "      <th>사업장형태</th>\n",
       "      <th>업종코드명</th>\n",
       "      <th>적용일</th>\n",
       "      <th>탈퇴일</th>\n",
       "      <th>가입상태</th>\n",
       "      <th>신규</th>\n",
       "      <th>상실</th>\n",
       "      <th>가입자수</th>\n",
       "      <th>고지금액</th>\n",
       "      <th>인당고지금액</th>\n",
       "      <th>평균월급</th>\n",
       "      <th>평균연봉</th>\n",
       "    </tr>\n",
       "  </thead>\n",
       "  <tbody>\n",
       "    <tr>\n",
       "      <th>4519</th>\n",
       "      <td>202007</td>\n",
       "      <td>(주)모두투어네트워크</td>\n",
       "      <td>1.00</td>\n",
       "      <td>여행사업</td>\n",
       "      <td>19890901.00</td>\n",
       "      <td>10101.00</td>\n",
       "      <td>1</td>\n",
       "      <td>240.00</td>\n",
       "      <td>760.00</td>\n",
       "      <td>867.00</td>\n",
       "      <td>195684780.00</td>\n",
       "      <td>225703.32</td>\n",
       "      <td>2174275333.33</td>\n",
       "      <td>26091304000.00</td>\n",
       "    </tr>\n",
       "    <tr>\n",
       "      <th>358</th>\n",
       "      <td>202007</td>\n",
       "      <td>(주)삼구아이앤씨</td>\n",
       "      <td>1.00</td>\n",
       "      <td>건축물 일반 청소업</td>\n",
       "      <td>19880101.00</td>\n",
       "      <td>10101.00</td>\n",
       "      <td>1</td>\n",
       "      <td>333.00</td>\n",
       "      <td>338.00</td>\n",
       "      <td>10272.00</td>\n",
       "      <td>2669762420.00</td>\n",
       "      <td>259906.78</td>\n",
       "      <td>29664026888.89</td>\n",
       "      <td>355968322666.67</td>\n",
       "    </tr>\n",
       "    <tr>\n",
       "      <th>3228</th>\n",
       "      <td>202007</td>\n",
       "      <td>대한해운(주)</td>\n",
       "      <td>1.00</td>\n",
       "      <td>외항 화물 운송업</td>\n",
       "      <td>19880101.00</td>\n",
       "      <td>10101.00</td>\n",
       "      <td>1</td>\n",
       "      <td>9.00</td>\n",
       "      <td>293.00</td>\n",
       "      <td>432.00</td>\n",
       "      <td>172549600.00</td>\n",
       "      <td>399420.37</td>\n",
       "      <td>1917217777.78</td>\n",
       "      <td>23006613333.33</td>\n",
       "    </tr>\n",
       "    <tr>\n",
       "      <th>3665</th>\n",
       "      <td>202007</td>\n",
       "      <td>롯데지알에스(주)</td>\n",
       "      <td>1.00</td>\n",
       "      <td>치킨 전문점</td>\n",
       "      <td>19880101.00</td>\n",
       "      <td>10101.00</td>\n",
       "      <td>1</td>\n",
       "      <td>190.00</td>\n",
       "      <td>169.00</td>\n",
       "      <td>3020.00</td>\n",
       "      <td>694568540.00</td>\n",
       "      <td>229989.58</td>\n",
       "      <td>7717428222.22</td>\n",
       "      <td>92609138666.67</td>\n",
       "    </tr>\n",
       "    <tr>\n",
       "      <th>3460</th>\n",
       "      <td>202007</td>\n",
       "      <td>(주)GS리테일</td>\n",
       "      <td>1.00</td>\n",
       "      <td>체인화 편의점</td>\n",
       "      <td>19880101.00</td>\n",
       "      <td>10101.00</td>\n",
       "      <td>1</td>\n",
       "      <td>86.00</td>\n",
       "      <td>168.00</td>\n",
       "      <td>6774.00</td>\n",
       "      <td>1862765000.00</td>\n",
       "      <td>274987.45</td>\n",
       "      <td>20697388888.89</td>\n",
       "      <td>248368666666.67</td>\n",
       "    </tr>\n",
       "    <tr>\n",
       "      <th>2555</th>\n",
       "      <td>202007</td>\n",
       "      <td>(주)현대그린푸드</td>\n",
       "      <td>1.00</td>\n",
       "      <td>백화점</td>\n",
       "      <td>19880101.00</td>\n",
       "      <td>10101.00</td>\n",
       "      <td>1</td>\n",
       "      <td>182.00</td>\n",
       "      <td>165.00</td>\n",
       "      <td>5686.00</td>\n",
       "      <td>1530793880.00</td>\n",
       "      <td>269221.58</td>\n",
       "      <td>17008820888.89</td>\n",
       "      <td>204105850666.67</td>\n",
       "    </tr>\n",
       "    <tr>\n",
       "      <th>3659</th>\n",
       "      <td>202007</td>\n",
       "      <td>대한항공(주)</td>\n",
       "      <td>1.00</td>\n",
       "      <td>항공 여객 운송업</td>\n",
       "      <td>19880101.00</td>\n",
       "      <td>10101.00</td>\n",
       "      <td>1</td>\n",
       "      <td>465.00</td>\n",
       "      <td>159.00</td>\n",
       "      <td>18801.00</td>\n",
       "      <td>7919204420.00</td>\n",
       "      <td>421211.87</td>\n",
       "      <td>87991160222.22</td>\n",
       "      <td>1055893922666.67</td>\n",
       "    </tr>\n",
       "    <tr>\n",
       "      <th>3352</th>\n",
       "      <td>202007</td>\n",
       "      <td>롯데쇼핑(주)</td>\n",
       "      <td>1.00</td>\n",
       "      <td>백화점</td>\n",
       "      <td>19880101.00</td>\n",
       "      <td>10101.00</td>\n",
       "      <td>1</td>\n",
       "      <td>104.00</td>\n",
       "      <td>144.00</td>\n",
       "      <td>5427.00</td>\n",
       "      <td>1889117480.00</td>\n",
       "      <td>348096.09</td>\n",
       "      <td>20990194222.22</td>\n",
       "      <td>251882330666.67</td>\n",
       "    </tr>\n",
       "    <tr>\n",
       "      <th>643</th>\n",
       "      <td>202007</td>\n",
       "      <td>(주)아이비에스인더스트리</td>\n",
       "      <td>1.00</td>\n",
       "      <td>건축물 일반 청소업</td>\n",
       "      <td>19880101.00</td>\n",
       "      <td>10101.00</td>\n",
       "      <td>1</td>\n",
       "      <td>158.00</td>\n",
       "      <td>143.00</td>\n",
       "      <td>3284.00</td>\n",
       "      <td>697665320.00</td>\n",
       "      <td>212443.76</td>\n",
       "      <td>7751836888.89</td>\n",
       "      <td>93022042666.67</td>\n",
       "    </tr>\n",
       "    <tr>\n",
       "      <th>723</th>\n",
       "      <td>202007</td>\n",
       "      <td>(주)제이앤비컨설팅</td>\n",
       "      <td>1.00</td>\n",
       "      <td>고용 알선업</td>\n",
       "      <td>19980810.00</td>\n",
       "      <td>10101.00</td>\n",
       "      <td>1</td>\n",
       "      <td>98.00</td>\n",
       "      <td>121.00</td>\n",
       "      <td>1669.00</td>\n",
       "      <td>299282780.00</td>\n",
       "      <td>179318.62</td>\n",
       "      <td>3325364222.22</td>\n",
       "      <td>39904370666.67</td>\n",
       "    </tr>\n",
       "    <tr>\n",
       "      <th>2671</th>\n",
       "      <td>202007</td>\n",
       "      <td>(주)이랜드리테일</td>\n",
       "      <td>1.00</td>\n",
       "      <td>백화점</td>\n",
       "      <td>19880101.00</td>\n",
       "      <td>10101.00</td>\n",
       "      <td>1</td>\n",
       "      <td>79.00</td>\n",
       "      <td>108.00</td>\n",
       "      <td>3606.00</td>\n",
       "      <td>1015763320.00</td>\n",
       "      <td>281687.00</td>\n",
       "      <td>11286259111.11</td>\n",
       "      <td>135435109333.33</td>\n",
       "    </tr>\n",
       "    <tr>\n",
       "      <th>5020</th>\n",
       "      <td>202007</td>\n",
       "      <td>(주)아스타아이비에스</td>\n",
       "      <td>1.00</td>\n",
       "      <td>건축물 일반 청소업</td>\n",
       "      <td>19950801.00</td>\n",
       "      <td>10101.00</td>\n",
       "      <td>1</td>\n",
       "      <td>65.00</td>\n",
       "      <td>98.00</td>\n",
       "      <td>1671.00</td>\n",
       "      <td>369726060.00</td>\n",
       "      <td>221260.36</td>\n",
       "      <td>4108067333.33</td>\n",
       "      <td>49296808000.00</td>\n",
       "    </tr>\n",
       "    <tr>\n",
       "      <th>4594</th>\n",
       "      <td>202007</td>\n",
       "      <td>삼정회계법인</td>\n",
       "      <td>1.00</td>\n",
       "      <td>공인회계사업</td>\n",
       "      <td>19930614.00</td>\n",
       "      <td>10101.00</td>\n",
       "      <td>1</td>\n",
       "      <td>25.00</td>\n",
       "      <td>82.00</td>\n",
       "      <td>3331.00</td>\n",
       "      <td>1378434480.00</td>\n",
       "      <td>413820.02</td>\n",
       "      <td>15315938666.67</td>\n",
       "      <td>183791264000.00</td>\n",
       "    </tr>\n",
       "    <tr>\n",
       "      <th>2909</th>\n",
       "      <td>202007</td>\n",
       "      <td>(주)에이디티캡스</td>\n",
       "      <td>1.00</td>\n",
       "      <td>경비 및 경호 서비스업</td>\n",
       "      <td>19880101.00</td>\n",
       "      <td>10101.00</td>\n",
       "      <td>1</td>\n",
       "      <td>75.00</td>\n",
       "      <td>73.00</td>\n",
       "      <td>4784.00</td>\n",
       "      <td>1542070540.00</td>\n",
       "      <td>322339.16</td>\n",
       "      <td>17134117111.11</td>\n",
       "      <td>205609405333.33</td>\n",
       "    </tr>\n",
       "    <tr>\n",
       "      <th>3357</th>\n",
       "      <td>202007</td>\n",
       "      <td>(주)호텔롯데(롯데월드)</td>\n",
       "      <td>1.00</td>\n",
       "      <td>호텔업</td>\n",
       "      <td>19880101.00</td>\n",
       "      <td>10101.00</td>\n",
       "      <td>1</td>\n",
       "      <td>25.00</td>\n",
       "      <td>70.00</td>\n",
       "      <td>1087.00</td>\n",
       "      <td>330712560.00</td>\n",
       "      <td>304243.39</td>\n",
       "      <td>3674584000.00</td>\n",
       "      <td>44095008000.00</td>\n",
       "    </tr>\n",
       "    <tr>\n",
       "      <th>5096</th>\n",
       "      <td>202007</td>\n",
       "      <td>한국철도공사</td>\n",
       "      <td>1.00</td>\n",
       "      <td>도시철도 운송업</td>\n",
       "      <td>19970101.00</td>\n",
       "      <td>10101.00</td>\n",
       "      <td>1</td>\n",
       "      <td>96.00</td>\n",
       "      <td>66.00</td>\n",
       "      <td>17229.00</td>\n",
       "      <td>6273380760.00</td>\n",
       "      <td>364117.52</td>\n",
       "      <td>69704230666.67</td>\n",
       "      <td>836450768000.00</td>\n",
       "    </tr>\n",
       "    <tr>\n",
       "      <th>4904</th>\n",
       "      <td>202007</td>\n",
       "      <td>인터코리아맨파워시스템(주)</td>\n",
       "      <td>1.00</td>\n",
       "      <td>고용 알선업</td>\n",
       "      <td>19980610.00</td>\n",
       "      <td>10101.00</td>\n",
       "      <td>1</td>\n",
       "      <td>39.00</td>\n",
       "      <td>66.00</td>\n",
       "      <td>636.00</td>\n",
       "      <td>116743180.00</td>\n",
       "      <td>183558.46</td>\n",
       "      <td>1297146444.44</td>\n",
       "      <td>15565757333.33</td>\n",
       "    </tr>\n",
       "    <tr>\n",
       "      <th>3852</th>\n",
       "      <td>202007</td>\n",
       "      <td>스탭스주식회사</td>\n",
       "      <td>1.00</td>\n",
       "      <td>그 외 기타 분류 안된 전문  과학 및 기술 서비스업</td>\n",
       "      <td>19981001.00</td>\n",
       "      <td>10101.00</td>\n",
       "      <td>1</td>\n",
       "      <td>61.00</td>\n",
       "      <td>63.00</td>\n",
       "      <td>759.00</td>\n",
       "      <td>164627080.00</td>\n",
       "      <td>216899.97</td>\n",
       "      <td>1829189777.78</td>\n",
       "      <td>21950277333.33</td>\n",
       "    </tr>\n",
       "    <tr>\n",
       "      <th>4290</th>\n",
       "      <td>202007</td>\n",
       "      <td>서울올림픽기념국민체육진흥공단</td>\n",
       "      <td>1.00</td>\n",
       "      <td>광고 대행업</td>\n",
       "      <td>19881006.00</td>\n",
       "      <td>10101.00</td>\n",
       "      <td>1</td>\n",
       "      <td>49.00</td>\n",
       "      <td>63.00</td>\n",
       "      <td>499.00</td>\n",
       "      <td>172653120.00</td>\n",
       "      <td>345998.24</td>\n",
       "      <td>1918368000.00</td>\n",
       "      <td>23020416000.00</td>\n",
       "    </tr>\n",
       "    <tr>\n",
       "      <th>4089</th>\n",
       "      <td>202007</td>\n",
       "      <td>현대씨앤알(주)</td>\n",
       "      <td>1.00</td>\n",
       "      <td>그 외 기타 분류 안된 사업 지원 서비스업</td>\n",
       "      <td>19880901.00</td>\n",
       "      <td>10101.00</td>\n",
       "      <td>1</td>\n",
       "      <td>66.00</td>\n",
       "      <td>62.00</td>\n",
       "      <td>2519.00</td>\n",
       "      <td>574315280.00</td>\n",
       "      <td>227993.36</td>\n",
       "      <td>6381280888.89</td>\n",
       "      <td>76575370666.67</td>\n",
       "    </tr>\n",
       "    <tr>\n",
       "      <th>4313</th>\n",
       "      <td>202007</td>\n",
       "      <td>(주)인터비즈시스템</td>\n",
       "      <td>1.00</td>\n",
       "      <td>고용 알선업</td>\n",
       "      <td>19890301.00</td>\n",
       "      <td>10101.00</td>\n",
       "      <td>1</td>\n",
       "      <td>156.00</td>\n",
       "      <td>58.00</td>\n",
       "      <td>1046.00</td>\n",
       "      <td>203744920.00</td>\n",
       "      <td>194784.82</td>\n",
       "      <td>2263832444.44</td>\n",
       "      <td>27165989333.33</td>\n",
       "    </tr>\n",
       "    <tr>\n",
       "      <th>3677</th>\n",
       "      <td>202007</td>\n",
       "      <td>한국방송공사</td>\n",
       "      <td>1.00</td>\n",
       "      <td>지상파 방송업</td>\n",
       "      <td>19880101.00</td>\n",
       "      <td>10101.00</td>\n",
       "      <td>1</td>\n",
       "      <td>33.00</td>\n",
       "      <td>52.00</td>\n",
       "      <td>5093.00</td>\n",
       "      <td>2166206600.00</td>\n",
       "      <td>425330.18</td>\n",
       "      <td>24068962222.22</td>\n",
       "      <td>288827546666.67</td>\n",
       "    </tr>\n",
       "    <tr>\n",
       "      <th>3490</th>\n",
       "      <td>202007</td>\n",
       "      <td>(주)이마트에브리데이</td>\n",
       "      <td>1.00</td>\n",
       "      <td>슈퍼마켓</td>\n",
       "      <td>19880101.00</td>\n",
       "      <td>10101.00</td>\n",
       "      <td>1</td>\n",
       "      <td>54.00</td>\n",
       "      <td>52.00</td>\n",
       "      <td>2922.00</td>\n",
       "      <td>660737040.00</td>\n",
       "      <td>226124.93</td>\n",
       "      <td>7341522666.67</td>\n",
       "      <td>88098272000.00</td>\n",
       "    </tr>\n",
       "    <tr>\n",
       "      <th>3896</th>\n",
       "      <td>202007</td>\n",
       "      <td>아시아나항공(주)</td>\n",
       "      <td>1.00</td>\n",
       "      <td>항공 여객 운송업</td>\n",
       "      <td>19880331.00</td>\n",
       "      <td>10101.00</td>\n",
       "      <td>1</td>\n",
       "      <td>109.00</td>\n",
       "      <td>52.00</td>\n",
       "      <td>8379.00</td>\n",
       "      <td>3234180740.00</td>\n",
       "      <td>385986.48</td>\n",
       "      <td>35935341555.56</td>\n",
       "      <td>431224098666.67</td>\n",
       "    </tr>\n",
       "    <tr>\n",
       "      <th>5363</th>\n",
       "      <td>202007</td>\n",
       "      <td>고려대학교</td>\n",
       "      <td>1.00</td>\n",
       "      <td>기타 인문 및 사회과학 연구개발업</td>\n",
       "      <td>19981102.00</td>\n",
       "      <td>10101.00</td>\n",
       "      <td>1</td>\n",
       "      <td>33.00</td>\n",
       "      <td>51.00</td>\n",
       "      <td>1199.00</td>\n",
       "      <td>272259500.00</td>\n",
       "      <td>227072.14</td>\n",
       "      <td>3025105555.56</td>\n",
       "      <td>36301266666.67</td>\n",
       "    </tr>\n",
       "  </tbody>\n",
       "</table>\n",
       "</div>"
      ],
      "text/plain": [
       "      자료생성년월             사업장명  사업장형태  ...    인당고지금액           평균월급             평균연봉\n",
       "4519  202007      (주)모두투어네트워크   1.00  ... 225703.32  2174275333.33   26091304000.00\n",
       "358   202007        (주)삼구아이앤씨   1.00  ... 259906.78 29664026888.89  355968322666.67\n",
       "3228  202007          대한해운(주)   1.00  ... 399420.37  1917217777.78   23006613333.33\n",
       "3665  202007        롯데지알에스(주)   1.00  ... 229989.58  7717428222.22   92609138666.67\n",
       "3460  202007         (주)GS리테일   1.00  ... 274987.45 20697388888.89  248368666666.67\n",
       "2555  202007        (주)현대그린푸드   1.00  ... 269221.58 17008820888.89  204105850666.67\n",
       "3659  202007          대한항공(주)   1.00  ... 421211.87 87991160222.22 1055893922666.67\n",
       "3352  202007          롯데쇼핑(주)   1.00  ... 348096.09 20990194222.22  251882330666.67\n",
       "643   202007    (주)아이비에스인더스트리   1.00  ... 212443.76  7751836888.89   93022042666.67\n",
       "723   202007       (주)제이앤비컨설팅   1.00  ... 179318.62  3325364222.22   39904370666.67\n",
       "2671  202007        (주)이랜드리테일   1.00  ... 281687.00 11286259111.11  135435109333.33\n",
       "5020  202007      (주)아스타아이비에스   1.00  ... 221260.36  4108067333.33   49296808000.00\n",
       "4594  202007           삼정회계법인   1.00  ... 413820.02 15315938666.67  183791264000.00\n",
       "2909  202007        (주)에이디티캡스   1.00  ... 322339.16 17134117111.11  205609405333.33\n",
       "3357  202007    (주)호텔롯데(롯데월드)   1.00  ... 304243.39  3674584000.00   44095008000.00\n",
       "5096  202007           한국철도공사   1.00  ... 364117.52 69704230666.67  836450768000.00\n",
       "4904  202007   인터코리아맨파워시스템(주)   1.00  ... 183558.46  1297146444.44   15565757333.33\n",
       "3852  202007          스탭스주식회사   1.00  ... 216899.97  1829189777.78   21950277333.33\n",
       "4290  202007  서울올림픽기념국민체육진흥공단   1.00  ... 345998.24  1918368000.00   23020416000.00\n",
       "4089  202007         현대씨앤알(주)   1.00  ... 227993.36  6381280888.89   76575370666.67\n",
       "4313  202007       (주)인터비즈시스템   1.00  ... 194784.82  2263832444.44   27165989333.33\n",
       "3677  202007           한국방송공사   1.00  ... 425330.18 24068962222.22  288827546666.67\n",
       "3490  202007      (주)이마트에브리데이   1.00  ... 226124.93  7341522666.67   88098272000.00\n",
       "3896  202007        아시아나항공(주)   1.00  ... 385986.48 35935341555.56  431224098666.67\n",
       "5363  202007            고려대학교   1.00  ... 227072.14  3025105555.56   36301266666.67\n",
       "\n",
       "[25 rows x 14 columns]"
      ]
     },
     "execution_count": 23,
     "metadata": {
      "tags": []
     },
     "output_type": "execute_result"
    }
   ],
   "source": [
    "df_contact[['자료생성년월', '사업장명', '사업장형태', '업종코드명', '적용일', '탈퇴일', '가입상태', '신규', '상실', '가입자수', '고지금액', '인당고지금액', '평균월급', '평균연봉']].sort_values(by='상실', ascending=False).head(25)"
   ]
  },
  {
   "cell_type": "code",
   "execution_count": 24,
   "metadata": {
    "colab": {
     "base_uri": "https://localhost:8080/",
     "height": 441
    },
    "id": "O7BXA9apMSNW",
    "outputId": "5c1203d0-f65f-4744-bfef-980bc7f8f649"
   },
   "outputs": [
    {
     "data": {
      "text/plain": [
       "<Figure size 720x504 with 0 Axes>"
      ]
     },
     "metadata": {
      "tags": []
     },
     "output_type": "display_data"
    },
    {
     "data": {
      "image/png": "[encoded data removed]",
      "text/plain": [
       "<Figure size 529.125x360 with 1 Axes>"
      ]
     },
     "metadata": {
      "needs_background": "light",
      "tags": []
     },
     "output_type": "display_data"
    }
   ],
   "source": [
    "ds_cntct =df_contact[['자료생성년월', '사업장명', '사업장형태', '업종코드명', '적용일', '탈퇴일', '가입상태', '신규', '상실', '가입자수', '고지금액', '인당고지금액', '평균월급', '평균연봉']].sort_values(by='상실', ascending=False).head(25)\n",
    "plt.figure(figsize=(10, 7))\n",
    "sns.relplot(x='상실', y='고지금액', data=ds_cntct, hue='사업장명')\n",
    "plt.show()"
   ]
  },
  {
   "cell_type": "markdown",
   "metadata": {
    "id": "eGk3uE_PTNyk"
   },
   "source": [
    "- 가장 상실이 많은 업종은 여행업체와 (주)삼구아이엔씨와 같은 인력소싱업체,유통,항공업체 순으로 파악이됨.\n",
    "- 그래프를 볼때 상실과 고지금액간의 관계는 기업체의 연봉 및 급여수준에 따라 정확하게 선형적으로 증가하지는 않음.즉, 평균연봉 수준이 낮고 ,국민연금 자격 상실한 수가 많더라도 고지금액은 낮을수도 있고, 평균연봉 수준이 높고, 국민연금 자격 상실수가 많지 않더라도 고지금액은 상대적으로 높을수 있다."
   ]
  },
  {
   "cell_type": "markdown",
   "metadata": {
    "id": "0Yd6Xm5DRdEn"
   },
   "source": [
    "###대면서비스 - 신규"
   ]
  },
  {
   "cell_type": "code",
   "execution_count": 25,
   "metadata": {
    "id": "kFjR8d9tRqkd"
   },
   "outputs": [],
   "source": [
    "# 상위 20\n",
    "ds_cntN = df_contact[['자료생성년월', '사업장명', '사업장형태', '업종코드명', '적용일', '탈퇴일', '가입상태', '신규', '상실', '가입자수', '고지금액', '인당고지금액', '평균월급', '평균연봉']].sort_values(by='신규', ascending=False).head(20)"
   ]
  },
  {
   "cell_type": "code",
   "execution_count": 27,
   "metadata": {
    "colab": {
     "base_uri": "https://localhost:8080/",
     "height": 1000
    },
    "id": "mCBfz-tSK_IJ",
    "outputId": "87ffc9d9-b442-4707-dc34-b2d7d07880b6"
   },
   "outputs": [
    {
     "data": {
      "text/html": [
       "<div>\n",
       "<style scoped>\n",
       "    .dataframe tbody tr th:only-of-type {\n",
       "        vertical-align: middle;\n",
       "    }\n",
       "\n",
       "    .dataframe tbody tr th {\n",
       "        vertical-align: top;\n",
       "    }\n",
       "\n",
       "    .dataframe thead th {\n",
       "        text-align: right;\n",
       "    }\n",
       "</style>\n",
       "<table border=\"1\" class=\"dataframe\">\n",
       "  <thead>\n",
       "    <tr style=\"text-align: right;\">\n",
       "      <th></th>\n",
       "      <th>자료생성년월</th>\n",
       "      <th>사업장명</th>\n",
       "      <th>사업장형태</th>\n",
       "      <th>업종코드명</th>\n",
       "      <th>적용일</th>\n",
       "      <th>탈퇴일</th>\n",
       "      <th>가입상태</th>\n",
       "      <th>신규</th>\n",
       "      <th>상실</th>\n",
       "      <th>가입자수</th>\n",
       "      <th>고지금액</th>\n",
       "      <th>인당고지금액</th>\n",
       "      <th>평균월급</th>\n",
       "      <th>평균연봉</th>\n",
       "    </tr>\n",
       "  </thead>\n",
       "  <tbody>\n",
       "    <tr>\n",
       "      <th>3659</th>\n",
       "      <td>202007</td>\n",
       "      <td>대한항공(주)</td>\n",
       "      <td>1.00</td>\n",
       "      <td>항공 여객 운송업</td>\n",
       "      <td>19880101.00</td>\n",
       "      <td>10101.00</td>\n",
       "      <td>1</td>\n",
       "      <td>465.00</td>\n",
       "      <td>159.00</td>\n",
       "      <td>18801.00</td>\n",
       "      <td>7919204420.00</td>\n",
       "      <td>421211.87</td>\n",
       "      <td>87991160222.22</td>\n",
       "      <td>1055893922666.67</td>\n",
       "    </tr>\n",
       "    <tr>\n",
       "      <th>358</th>\n",
       "      <td>202007</td>\n",
       "      <td>(주)삼구아이앤씨</td>\n",
       "      <td>1.00</td>\n",
       "      <td>건축물 일반 청소업</td>\n",
       "      <td>19880101.00</td>\n",
       "      <td>10101.00</td>\n",
       "      <td>1</td>\n",
       "      <td>333.00</td>\n",
       "      <td>338.00</td>\n",
       "      <td>10272.00</td>\n",
       "      <td>2669762420.00</td>\n",
       "      <td>259906.78</td>\n",
       "      <td>29664026888.89</td>\n",
       "      <td>355968322666.67</td>\n",
       "    </tr>\n",
       "    <tr>\n",
       "      <th>4519</th>\n",
       "      <td>202007</td>\n",
       "      <td>(주)모두투어네트워크</td>\n",
       "      <td>1.00</td>\n",
       "      <td>여행사업</td>\n",
       "      <td>19890901.00</td>\n",
       "      <td>10101.00</td>\n",
       "      <td>1</td>\n",
       "      <td>240.00</td>\n",
       "      <td>760.00</td>\n",
       "      <td>867.00</td>\n",
       "      <td>195684780.00</td>\n",
       "      <td>225703.32</td>\n",
       "      <td>2174275333.33</td>\n",
       "      <td>26091304000.00</td>\n",
       "    </tr>\n",
       "    <tr>\n",
       "      <th>3665</th>\n",
       "      <td>202007</td>\n",
       "      <td>롯데지알에스(주)</td>\n",
       "      <td>1.00</td>\n",
       "      <td>치킨 전문점</td>\n",
       "      <td>19880101.00</td>\n",
       "      <td>10101.00</td>\n",
       "      <td>1</td>\n",
       "      <td>190.00</td>\n",
       "      <td>169.00</td>\n",
       "      <td>3020.00</td>\n",
       "      <td>694568540.00</td>\n",
       "      <td>229989.58</td>\n",
       "      <td>7717428222.22</td>\n",
       "      <td>92609138666.67</td>\n",
       "    </tr>\n",
       "    <tr>\n",
       "      <th>3707</th>\n",
       "      <td>202007</td>\n",
       "      <td>한국전기안전공사</td>\n",
       "      <td>1.00</td>\n",
       "      <td>기타 엔지니어링 서비스업</td>\n",
       "      <td>19880101.00</td>\n",
       "      <td>10101.00</td>\n",
       "      <td>1</td>\n",
       "      <td>189.00</td>\n",
       "      <td>17.00</td>\n",
       "      <td>3202.00</td>\n",
       "      <td>1153380480.00</td>\n",
       "      <td>360206.27</td>\n",
       "      <td>12815338666.67</td>\n",
       "      <td>153784064000.00</td>\n",
       "    </tr>\n",
       "    <tr>\n",
       "      <th>2555</th>\n",
       "      <td>202007</td>\n",
       "      <td>(주)현대그린푸드</td>\n",
       "      <td>1.00</td>\n",
       "      <td>백화점</td>\n",
       "      <td>19880101.00</td>\n",
       "      <td>10101.00</td>\n",
       "      <td>1</td>\n",
       "      <td>182.00</td>\n",
       "      <td>165.00</td>\n",
       "      <td>5686.00</td>\n",
       "      <td>1530793880.00</td>\n",
       "      <td>269221.58</td>\n",
       "      <td>17008820888.89</td>\n",
       "      <td>204105850666.67</td>\n",
       "    </tr>\n",
       "    <tr>\n",
       "      <th>643</th>\n",
       "      <td>202007</td>\n",
       "      <td>(주)아이비에스인더스트리</td>\n",
       "      <td>1.00</td>\n",
       "      <td>건축물 일반 청소업</td>\n",
       "      <td>19880101.00</td>\n",
       "      <td>10101.00</td>\n",
       "      <td>1</td>\n",
       "      <td>158.00</td>\n",
       "      <td>143.00</td>\n",
       "      <td>3284.00</td>\n",
       "      <td>697665320.00</td>\n",
       "      <td>212443.76</td>\n",
       "      <td>7751836888.89</td>\n",
       "      <td>93022042666.67</td>\n",
       "    </tr>\n",
       "    <tr>\n",
       "      <th>4313</th>\n",
       "      <td>202007</td>\n",
       "      <td>(주)인터비즈시스템</td>\n",
       "      <td>1.00</td>\n",
       "      <td>고용 알선업</td>\n",
       "      <td>19890301.00</td>\n",
       "      <td>10101.00</td>\n",
       "      <td>1</td>\n",
       "      <td>156.00</td>\n",
       "      <td>58.00</td>\n",
       "      <td>1046.00</td>\n",
       "      <td>203744920.00</td>\n",
       "      <td>194784.82</td>\n",
       "      <td>2263832444.44</td>\n",
       "      <td>27165989333.33</td>\n",
       "    </tr>\n",
       "    <tr>\n",
       "      <th>1305</th>\n",
       "      <td>202007</td>\n",
       "      <td>(주)신세계조선호텔</td>\n",
       "      <td>1.00</td>\n",
       "      <td>호텔업</td>\n",
       "      <td>19880101.00</td>\n",
       "      <td>10101.00</td>\n",
       "      <td>1</td>\n",
       "      <td>151.00</td>\n",
       "      <td>46.00</td>\n",
       "      <td>1494.00</td>\n",
       "      <td>445045220.00</td>\n",
       "      <td>297888.37</td>\n",
       "      <td>4944946888.89</td>\n",
       "      <td>59339362666.67</td>\n",
       "    </tr>\n",
       "    <tr>\n",
       "      <th>4651</th>\n",
       "      <td>202007</td>\n",
       "      <td>하나투어(주)</td>\n",
       "      <td>1.00</td>\n",
       "      <td>여행사업</td>\n",
       "      <td>19931201.00</td>\n",
       "      <td>10101.00</td>\n",
       "      <td>1</td>\n",
       "      <td>143.00</td>\n",
       "      <td>35.00</td>\n",
       "      <td>488.00</td>\n",
       "      <td>159012840.00</td>\n",
       "      <td>325845.98</td>\n",
       "      <td>1766809333.33</td>\n",
       "      <td>21201712000.00</td>\n",
       "    </tr>\n",
       "    <tr>\n",
       "      <th>3896</th>\n",
       "      <td>202007</td>\n",
       "      <td>아시아나항공(주)</td>\n",
       "      <td>1.00</td>\n",
       "      <td>항공 여객 운송업</td>\n",
       "      <td>19880331.00</td>\n",
       "      <td>10101.00</td>\n",
       "      <td>1</td>\n",
       "      <td>109.00</td>\n",
       "      <td>52.00</td>\n",
       "      <td>8379.00</td>\n",
       "      <td>3234180740.00</td>\n",
       "      <td>385986.48</td>\n",
       "      <td>35935341555.56</td>\n",
       "      <td>431224098666.67</td>\n",
       "    </tr>\n",
       "    <tr>\n",
       "      <th>3352</th>\n",
       "      <td>202007</td>\n",
       "      <td>롯데쇼핑(주)</td>\n",
       "      <td>1.00</td>\n",
       "      <td>백화점</td>\n",
       "      <td>19880101.00</td>\n",
       "      <td>10101.00</td>\n",
       "      <td>1</td>\n",
       "      <td>104.00</td>\n",
       "      <td>144.00</td>\n",
       "      <td>5427.00</td>\n",
       "      <td>1889117480.00</td>\n",
       "      <td>348096.09</td>\n",
       "      <td>20990194222.22</td>\n",
       "      <td>251882330666.67</td>\n",
       "    </tr>\n",
       "    <tr>\n",
       "      <th>723</th>\n",
       "      <td>202007</td>\n",
       "      <td>(주)제이앤비컨설팅</td>\n",
       "      <td>1.00</td>\n",
       "      <td>고용 알선업</td>\n",
       "      <td>19980810.00</td>\n",
       "      <td>10101.00</td>\n",
       "      <td>1</td>\n",
       "      <td>98.00</td>\n",
       "      <td>121.00</td>\n",
       "      <td>1669.00</td>\n",
       "      <td>299282780.00</td>\n",
       "      <td>179318.62</td>\n",
       "      <td>3325364222.22</td>\n",
       "      <td>39904370666.67</td>\n",
       "    </tr>\n",
       "    <tr>\n",
       "      <th>5096</th>\n",
       "      <td>202007</td>\n",
       "      <td>한국철도공사</td>\n",
       "      <td>1.00</td>\n",
       "      <td>도시철도 운송업</td>\n",
       "      <td>19970101.00</td>\n",
       "      <td>10101.00</td>\n",
       "      <td>1</td>\n",
       "      <td>96.00</td>\n",
       "      <td>66.00</td>\n",
       "      <td>17229.00</td>\n",
       "      <td>6273380760.00</td>\n",
       "      <td>364117.52</td>\n",
       "      <td>69704230666.67</td>\n",
       "      <td>836450768000.00</td>\n",
       "    </tr>\n",
       "    <tr>\n",
       "      <th>3460</th>\n",
       "      <td>202007</td>\n",
       "      <td>(주)GS리테일</td>\n",
       "      <td>1.00</td>\n",
       "      <td>체인화 편의점</td>\n",
       "      <td>19880101.00</td>\n",
       "      <td>10101.00</td>\n",
       "      <td>1</td>\n",
       "      <td>86.00</td>\n",
       "      <td>168.00</td>\n",
       "      <td>6774.00</td>\n",
       "      <td>1862765000.00</td>\n",
       "      <td>274987.45</td>\n",
       "      <td>20697388888.89</td>\n",
       "      <td>248368666666.67</td>\n",
       "    </tr>\n",
       "    <tr>\n",
       "      <th>3571</th>\n",
       "      <td>202007</td>\n",
       "      <td>(주)휴:콥</td>\n",
       "      <td>1.00</td>\n",
       "      <td>건축물 일반 청소업</td>\n",
       "      <td>19880101.00</td>\n",
       "      <td>10101.00</td>\n",
       "      <td>1</td>\n",
       "      <td>85.00</td>\n",
       "      <td>39.00</td>\n",
       "      <td>1152.00</td>\n",
       "      <td>239686320.00</td>\n",
       "      <td>208061.04</td>\n",
       "      <td>2663181333.33</td>\n",
       "      <td>31958176000.00</td>\n",
       "    </tr>\n",
       "    <tr>\n",
       "      <th>2671</th>\n",
       "      <td>202007</td>\n",
       "      <td>(주)이랜드리테일</td>\n",
       "      <td>1.00</td>\n",
       "      <td>백화점</td>\n",
       "      <td>19880101.00</td>\n",
       "      <td>10101.00</td>\n",
       "      <td>1</td>\n",
       "      <td>79.00</td>\n",
       "      <td>108.00</td>\n",
       "      <td>3606.00</td>\n",
       "      <td>1015763320.00</td>\n",
       "      <td>281687.00</td>\n",
       "      <td>11286259111.11</td>\n",
       "      <td>135435109333.33</td>\n",
       "    </tr>\n",
       "    <tr>\n",
       "      <th>690</th>\n",
       "      <td>202007</td>\n",
       "      <td>한국교통안전공단</td>\n",
       "      <td>1.00</td>\n",
       "      <td>기타 육상 운송지원 서비스업</td>\n",
       "      <td>19880101.00</td>\n",
       "      <td>10101.00</td>\n",
       "      <td>1</td>\n",
       "      <td>79.00</td>\n",
       "      <td>49.00</td>\n",
       "      <td>1894.00</td>\n",
       "      <td>670787060.00</td>\n",
       "      <td>354164.23</td>\n",
       "      <td>7453189555.56</td>\n",
       "      <td>89438274666.67</td>\n",
       "    </tr>\n",
       "    <tr>\n",
       "      <th>3095</th>\n",
       "      <td>202007</td>\n",
       "      <td>한영회계법인</td>\n",
       "      <td>1.00</td>\n",
       "      <td>공인회계사업</td>\n",
       "      <td>19880101.00</td>\n",
       "      <td>10101.00</td>\n",
       "      <td>1</td>\n",
       "      <td>77.00</td>\n",
       "      <td>28.00</td>\n",
       "      <td>1943.00</td>\n",
       "      <td>790337620.00</td>\n",
       "      <td>406761.51</td>\n",
       "      <td>8781529111.11</td>\n",
       "      <td>105378349333.33</td>\n",
       "    </tr>\n",
       "    <tr>\n",
       "      <th>2909</th>\n",
       "      <td>202007</td>\n",
       "      <td>(주)에이디티캡스</td>\n",
       "      <td>1.00</td>\n",
       "      <td>경비 및 경호 서비스업</td>\n",
       "      <td>19880101.00</td>\n",
       "      <td>10101.00</td>\n",
       "      <td>1</td>\n",
       "      <td>75.00</td>\n",
       "      <td>73.00</td>\n",
       "      <td>4784.00</td>\n",
       "      <td>1542070540.00</td>\n",
       "      <td>322339.16</td>\n",
       "      <td>17134117111.11</td>\n",
       "      <td>205609405333.33</td>\n",
       "    </tr>\n",
       "  </tbody>\n",
       "</table>\n",
       "</div>"
      ],
      "text/plain": [
       "      자료생성년월           사업장명  사업장형태  ...    인당고지금액           평균월급             평균연봉\n",
       "3659  202007        대한항공(주)   1.00  ... 421211.87 87991160222.22 1055893922666.67\n",
       "358   202007      (주)삼구아이앤씨   1.00  ... 259906.78 29664026888.89  355968322666.67\n",
       "4519  202007    (주)모두투어네트워크   1.00  ... 225703.32  2174275333.33   26091304000.00\n",
       "3665  202007      롯데지알에스(주)   1.00  ... 229989.58  7717428222.22   92609138666.67\n",
       "3707  202007       한국전기안전공사   1.00  ... 360206.27 12815338666.67  153784064000.00\n",
       "2555  202007      (주)현대그린푸드   1.00  ... 269221.58 17008820888.89  204105850666.67\n",
       "643   202007  (주)아이비에스인더스트리   1.00  ... 212443.76  7751836888.89   93022042666.67\n",
       "4313  202007     (주)인터비즈시스템   1.00  ... 194784.82  2263832444.44   27165989333.33\n",
       "1305  202007     (주)신세계조선호텔   1.00  ... 297888.37  4944946888.89   59339362666.67\n",
       "4651  202007        하나투어(주)   1.00  ... 325845.98  1766809333.33   21201712000.00\n",
       "3896  202007      아시아나항공(주)   1.00  ... 385986.48 35935341555.56  431224098666.67\n",
       "3352  202007        롯데쇼핑(주)   1.00  ... 348096.09 20990194222.22  251882330666.67\n",
       "723   202007     (주)제이앤비컨설팅   1.00  ... 179318.62  3325364222.22   39904370666.67\n",
       "5096  202007         한국철도공사   1.00  ... 364117.52 69704230666.67  836450768000.00\n",
       "3460  202007       (주)GS리테일   1.00  ... 274987.45 20697388888.89  248368666666.67\n",
       "3571  202007         (주)휴:콥   1.00  ... 208061.04  2663181333.33   31958176000.00\n",
       "2671  202007      (주)이랜드리테일   1.00  ... 281687.00 11286259111.11  135435109333.33\n",
       "690   202007       한국교통안전공단   1.00  ... 354164.23  7453189555.56   89438274666.67\n",
       "3095  202007         한영회계법인   1.00  ... 406761.51  8781529111.11  105378349333.33\n",
       "2909  202007      (주)에이디티캡스   1.00  ... 322339.16 17134117111.11  205609405333.33\n",
       "\n",
       "[20 rows x 14 columns]"
      ]
     },
     "execution_count": 27,
     "metadata": {
      "tags": []
     },
     "output_type": "execute_result"
    }
   ],
   "source": [
    "ds_cntN"
   ]
  },
  {
   "cell_type": "code",
   "execution_count": 26,
   "metadata": {
    "colab": {
     "base_uri": "https://localhost:8080/",
     "height": 386
    },
    "id": "I519aVeERvBj",
    "outputId": "73766d67-fce8-4092-864f-16d636f1539f"
   },
   "outputs": [
    {
     "data": {
      "text/plain": [
       "<Figure size 720x504 with 0 Axes>"
      ]
     },
     "metadata": {
      "tags": []
     },
     "output_type": "display_data"
    },
    {
     "data": {
      "image/png": "[encoded data removed]",
      "text/plain": [
       "<Figure size 502.5x360 with 1 Axes>"
      ]
     },
     "metadata": {
      "needs_background": "light",
      "tags": []
     },
     "output_type": "display_data"
    }
   ],
   "source": [
    "plt.figure(figsize=(10, 7))\n",
    "sns.relplot(x='신규', y='고지금액', data=ds_cntN, hue='사업장명')\n",
    "plt.show()"
   ]
  },
  {
   "cell_type": "markdown",
   "metadata": {
    "id": "BEOFlu-5Scyv"
   },
   "source": [
    "- 대한항공의 경우, [관련 기사](https://biz.chosun.com/site/data/html_dir/2020/09/24/2020092401570.html?utm_source=naver&utm_medium=original&utm_campaign=biz)를 통해 볼때 유휴여객기의 화물여객기로 전환으로 고용효과가 있지 않았나 하는 추론이 가능."
   ]
  },
  {
   "cell_type": "code",
   "execution_count": null,
   "metadata": {
    "id": "wBQTF8LBVnda"
   },
   "outputs": [],
   "source": [
    "df_IT['사업장명'] = df_IT['사업장명'].apply(text_preprocess)"
   ]
  },
  {
   "cell_type": "markdown",
   "metadata": {
    "id": "GAAx8Q8VNXB7"
   },
   "source": [
    "## 비대면 서비스 업종 - IT업종 중심"
   ]
  },
  {
   "cell_type": "markdown",
   "metadata": {
    "id": "Y-iQbvf8fcyi"
   },
   "source": [
    "### 신규 DataFrame컬럼 설정 "
   ]
  },
  {
   "cell_type": "code",
   "execution_count": null,
   "metadata": {
    "id": "Y_w6dmhVflTT"
   },
   "outputs": [],
   "source": [
    "df_main = df[['사업장명', '가입자수', '신규', '상실', '고지금액']]"
   ]
  },
  {
   "cell_type": "markdown",
   "metadata": {
    "id": "HAzjEsc5dLHr"
   },
   "source": [
    "###월급, 연봉 추정"
   ]
  },
  {
   "cell_type": "code",
   "execution_count": 88,
   "metadata": {
    "id": "bOBjr7-ndRFZ"
   },
   "outputs": [],
   "source": [
    "df['인당고지금액'] = df['고지금액'] / df['가입자수']\n",
    "df_IT['인당고지금액'] = df['고지금액'] / df['가입자수']"
   ]
  },
  {
   "cell_type": "markdown",
   "metadata": {
    "id": "YI61_nMy8U-K"
   },
   "source": [
    "###데이터에 대한  통계치 확인"
   ]
  },
  {
   "cell_type": "code",
   "execution_count": 39,
   "metadata": {
    "colab": {
     "base_uri": "https://localhost:8080/",
     "height": 314
    },
    "id": "8NaaYFv78U-L",
    "outputId": "c829d1bd-f72c-47aa-fd3b-02cb6279973d"
   },
   "outputs": [
    {
     "data": {
      "text/html": [
       "<div>\n",
       "<style scoped>\n",
       "    .dataframe tbody tr th:only-of-type {\n",
       "        vertical-align: middle;\n",
       "    }\n",
       "\n",
       "    .dataframe tbody tr th {\n",
       "        vertical-align: top;\n",
       "    }\n",
       "\n",
       "    .dataframe thead th {\n",
       "        text-align: right;\n",
       "    }\n",
       "</style>\n",
       "<table border=\"1\" class=\"dataframe\">\n",
       "  <thead>\n",
       "    <tr style=\"text-align: right;\">\n",
       "      <th></th>\n",
       "      <th>자료생성년월</th>\n",
       "      <th>사업장형태</th>\n",
       "      <th>적용일</th>\n",
       "      <th>탈퇴일</th>\n",
       "      <th>가입상태</th>\n",
       "      <th>신규</th>\n",
       "      <th>상실</th>\n",
       "      <th>가입자수</th>\n",
       "      <th>고지금액</th>\n",
       "      <th>인당고지금액</th>\n",
       "    </tr>\n",
       "  </thead>\n",
       "  <tbody>\n",
       "    <tr>\n",
       "      <th>count</th>\n",
       "      <td>17828.00</td>\n",
       "      <td>17828.00</td>\n",
       "      <td>17828.00</td>\n",
       "      <td>17828.00</td>\n",
       "      <td>17828.00</td>\n",
       "      <td>17828.00</td>\n",
       "      <td>17828.00</td>\n",
       "      <td>17828.00</td>\n",
       "      <td>17828.00</td>\n",
       "      <td>17516.00</td>\n",
       "    </tr>\n",
       "    <tr>\n",
       "      <th>mean</th>\n",
       "      <td>202007.00</td>\n",
       "      <td>1.00</td>\n",
       "      <td>20126929.91</td>\n",
       "      <td>366813.81</td>\n",
       "      <td>1.02</td>\n",
       "      <td>0.94</td>\n",
       "      <td>0.73</td>\n",
       "      <td>26.21</td>\n",
       "      <td>8199009.75</td>\n",
       "      <td>260656.74</td>\n",
       "    </tr>\n",
       "    <tr>\n",
       "      <th>std</th>\n",
       "      <td>0.00</td>\n",
       "      <td>0.00</td>\n",
       "      <td>66722.32</td>\n",
       "      <td>2659842.37</td>\n",
       "      <td>0.13</td>\n",
       "      <td>7.11</td>\n",
       "      <td>5.80</td>\n",
       "      <td>254.06</td>\n",
       "      <td>102646242.06</td>\n",
       "      <td>76089.77</td>\n",
       "    </tr>\n",
       "    <tr>\n",
       "      <th>min</th>\n",
       "      <td>202007.00</td>\n",
       "      <td>1.00</td>\n",
       "      <td>19880101.00</td>\n",
       "      <td>10101.00</td>\n",
       "      <td>1.00</td>\n",
       "      <td>0.00</td>\n",
       "      <td>0.00</td>\n",
       "      <td>0.00</td>\n",
       "      <td>0.00</td>\n",
       "      <td>28800.00</td>\n",
       "    </tr>\n",
       "    <tr>\n",
       "      <th>25%</th>\n",
       "      <td>202007.00</td>\n",
       "      <td>1.00</td>\n",
       "      <td>20080714.00</td>\n",
       "      <td>10101.00</td>\n",
       "      <td>1.00</td>\n",
       "      <td>0.00</td>\n",
       "      <td>0.00</td>\n",
       "      <td>4.00</td>\n",
       "      <td>974235.00</td>\n",
       "      <td>207832.38</td>\n",
       "    </tr>\n",
       "    <tr>\n",
       "      <th>50%</th>\n",
       "      <td>202007.00</td>\n",
       "      <td>1.00</td>\n",
       "      <td>20150914.00</td>\n",
       "      <td>10101.00</td>\n",
       "      <td>1.00</td>\n",
       "      <td>0.00</td>\n",
       "      <td>0.00</td>\n",
       "      <td>7.00</td>\n",
       "      <td>1824690.00</td>\n",
       "      <td>261278.49</td>\n",
       "    </tr>\n",
       "    <tr>\n",
       "      <th>75%</th>\n",
       "      <td>202007.00</td>\n",
       "      <td>1.00</td>\n",
       "      <td>20180601.00</td>\n",
       "      <td>10101.00</td>\n",
       "      <td>1.00</td>\n",
       "      <td>1.00</td>\n",
       "      <td>1.00</td>\n",
       "      <td>15.00</td>\n",
       "      <td>4109605.00</td>\n",
       "      <td>312270.68</td>\n",
       "    </tr>\n",
       "    <tr>\n",
       "      <th>max</th>\n",
       "      <td>202007.00</td>\n",
       "      <td>1.00</td>\n",
       "      <td>20200713.00</td>\n",
       "      <td>20200730.00</td>\n",
       "      <td>2.00</td>\n",
       "      <td>525.00</td>\n",
       "      <td>366.00</td>\n",
       "      <td>22527.00</td>\n",
       "      <td>9961182900.00</td>\n",
       "      <td>452700.00</td>\n",
       "    </tr>\n",
       "  </tbody>\n",
       "</table>\n",
       "</div>"
      ],
      "text/plain": [
       "         자료생성년월    사업장형태         적용일  ...     가입자수          고지금액    인당고지금액\n",
       "count  17828.00 17828.00    17828.00  ... 17828.00      17828.00  17516.00\n",
       "mean  202007.00     1.00 20126929.91  ...    26.21    8199009.75 260656.74\n",
       "std        0.00     0.00    66722.32  ...   254.06  102646242.06  76089.77\n",
       "min   202007.00     1.00 19880101.00  ...     0.00          0.00  28800.00\n",
       "25%   202007.00     1.00 20080714.00  ...     4.00     974235.00 207832.38\n",
       "50%   202007.00     1.00 20150914.00  ...     7.00    1824690.00 261278.49\n",
       "75%   202007.00     1.00 20180601.00  ...    15.00    4109605.00 312270.68\n",
       "max   202007.00     1.00 20200713.00  ... 22527.00 9961182900.00 452700.00\n",
       "\n",
       "[8 rows x 10 columns]"
      ]
     },
     "execution_count": 39,
     "metadata": {
      "tags": []
     },
     "output_type": "execute_result"
    }
   ],
   "source": [
    "df_IT.describe()"
   ]
  },
  {
   "cell_type": "code",
   "execution_count": 40,
   "metadata": {
    "colab": {
     "base_uri": "https://localhost:8080/",
     "height": 340
    },
    "id": "4TsH9gwji2V7",
    "outputId": "232cfab7-5a50-4c78-8ab5-828cfd3e78a9"
   },
   "outputs": [
    {
     "name": "stdout",
     "output_type": "stream",
     "text": [
      "<class 'pandas.core.frame.DataFrame'>\n",
      "Int64Index: 17828 entries, 135 to 515784\n",
      "Data columns (total 12 columns):\n",
      " #   Column  Non-Null Count  Dtype  \n",
      "---  ------  --------------  -----  \n",
      " 0   자료생성년월  17828 non-null  int64  \n",
      " 1   사업장명    17828 non-null  object \n",
      " 2   사업장형태   17828 non-null  int64  \n",
      " 3   업종코드명   17828 non-null  object \n",
      " 4   적용일     17828 non-null  int64  \n",
      " 5   탈퇴일     17828 non-null  int64  \n",
      " 6   가입상태    17828 non-null  int64  \n",
      " 7   신규      17828 non-null  int64  \n",
      " 8   상실      17828 non-null  int64  \n",
      " 9   가입자수    17828 non-null  int64  \n",
      " 10  고지금액    17828 non-null  int64  \n",
      " 11  인당고지금액  17516 non-null  float64\n",
      "dtypes: float64(1), int64(9), object(2)\n",
      "memory usage: 1.8+ MB\n"
     ]
    }
   ],
   "source": [
    "df_IT.info()"
   ]
  },
  {
   "cell_type": "code",
   "execution_count": 41,
   "metadata": {
    "colab": {
     "base_uri": "https://localhost:8080/",
     "height": 34
    },
    "id": "dV41Yz9oi9rZ",
    "outputId": "b2b00592-3171-4477-8889-b2189b983179"
   },
   "outputs": [
    {
     "data": {
      "text/plain": [
       "(0.733901727619475, 0.9437401839802558, 26.21359658963428, 8199009.750953556)"
      ]
     },
     "execution_count": 41,
     "metadata": {
      "tags": []
     },
     "output_type": "execute_result"
    }
   ],
   "source": [
    "df_IT['상실'].mean(), df_IT['신규'].mean(), df_IT['가입자수'].mean(), df_IT['고지금액'].mean()"
   ]
  },
  {
   "cell_type": "code",
   "execution_count": 42,
   "metadata": {
    "colab": {
     "base_uri": "https://localhost:8080/",
     "height": 289
    },
    "id": "7-3KUmItkYjB",
    "outputId": "979209e5-612a-4d35-b76d-91a696a5d27a"
   },
   "outputs": [
    {
     "data": {
      "text/html": [
       "<div>\n",
       "<style scoped>\n",
       "    .dataframe tbody tr th:only-of-type {\n",
       "        vertical-align: middle;\n",
       "    }\n",
       "\n",
       "    .dataframe tbody tr th {\n",
       "        vertical-align: top;\n",
       "    }\n",
       "\n",
       "    .dataframe thead th {\n",
       "        text-align: right;\n",
       "    }\n",
       "</style>\n",
       "<table border=\"1\" class=\"dataframe\">\n",
       "  <thead>\n",
       "    <tr style=\"text-align: right;\">\n",
       "      <th></th>\n",
       "      <th>자료생성년월</th>\n",
       "      <th>사업장명</th>\n",
       "      <th>사업장형태</th>\n",
       "      <th>업종코드명</th>\n",
       "      <th>적용일</th>\n",
       "      <th>탈퇴일</th>\n",
       "      <th>가입상태</th>\n",
       "      <th>신규</th>\n",
       "      <th>상실</th>\n",
       "      <th>가입자수</th>\n",
       "      <th>고지금액</th>\n",
       "      <th>인당고지금액</th>\n",
       "    </tr>\n",
       "  </thead>\n",
       "  <tbody>\n",
       "    <tr>\n",
       "      <th>135</th>\n",
       "      <td>202007</td>\n",
       "      <td>대신정보통신(주)</td>\n",
       "      <td>1</td>\n",
       "      <td>응용 소프트웨어 개발 및 공급업</td>\n",
       "      <td>19880101</td>\n",
       "      <td>10101</td>\n",
       "      <td>1</td>\n",
       "      <td>12</td>\n",
       "      <td>17</td>\n",
       "      <td>555</td>\n",
       "      <td>179306000</td>\n",
       "      <td>323073.87</td>\n",
       "    </tr>\n",
       "    <tr>\n",
       "      <th>199</th>\n",
       "      <td>202007</td>\n",
       "      <td>(주)비트컴퓨터</td>\n",
       "      <td>1</td>\n",
       "      <td>응용 소프트웨어 개발 및 공급업</td>\n",
       "      <td>19880101</td>\n",
       "      <td>10101</td>\n",
       "      <td>1</td>\n",
       "      <td>1</td>\n",
       "      <td>3</td>\n",
       "      <td>137</td>\n",
       "      <td>41544740</td>\n",
       "      <td>303246.28</td>\n",
       "    </tr>\n",
       "    <tr>\n",
       "      <th>212</th>\n",
       "      <td>202007</td>\n",
       "      <td>한국후지쯔(주)</td>\n",
       "      <td>1</td>\n",
       "      <td>응용 소프트웨어 개발 및 공급업</td>\n",
       "      <td>19880101</td>\n",
       "      <td>10101</td>\n",
       "      <td>1</td>\n",
       "      <td>1</td>\n",
       "      <td>1</td>\n",
       "      <td>181</td>\n",
       "      <td>76397920</td>\n",
       "      <td>422087.96</td>\n",
       "    </tr>\n",
       "    <tr>\n",
       "      <th>678</th>\n",
       "      <td>202007</td>\n",
       "      <td>(주)제이.티.에스</td>\n",
       "      <td>1</td>\n",
       "      <td>응용 소프트웨어 개발 및 공급업</td>\n",
       "      <td>19880101</td>\n",
       "      <td>10101</td>\n",
       "      <td>1</td>\n",
       "      <td>0</td>\n",
       "      <td>0</td>\n",
       "      <td>7</td>\n",
       "      <td>1875040</td>\n",
       "      <td>267862.86</td>\n",
       "    </tr>\n",
       "    <tr>\n",
       "      <th>684</th>\n",
       "      <td>202007</td>\n",
       "      <td>(주)코스콤</td>\n",
       "      <td>1</td>\n",
       "      <td>자료 처리업</td>\n",
       "      <td>19880101</td>\n",
       "      <td>10101</td>\n",
       "      <td>1</td>\n",
       "      <td>8</td>\n",
       "      <td>2</td>\n",
       "      <td>744</td>\n",
       "      <td>332258180</td>\n",
       "      <td>446583.58</td>\n",
       "    </tr>\n",
       "  </tbody>\n",
       "</table>\n",
       "</div>"
      ],
      "text/plain": [
       "     자료생성년월        사업장명  사업장형태  ... 가입자수       고지금액    인당고지금액\n",
       "135  202007   대신정보통신(주)      1  ...  555  179306000 323073.87\n",
       "199  202007    (주)비트컴퓨터      1  ...  137   41544740 303246.28\n",
       "212  202007    한국후지쯔(주)      1  ...  181   76397920 422087.96\n",
       "678  202007  (주)제이.티.에스      1  ...    7    1875040 267862.86\n",
       "684  202007      (주)코스콤      1  ...  744  332258180 446583.58\n",
       "\n",
       "[5 rows x 12 columns]"
      ]
     },
     "execution_count": 42,
     "metadata": {
      "tags": []
     },
     "output_type": "execute_result"
    }
   ],
   "source": [
    "# 총 24070개 \n",
    "df_IT['사업장명'].value_counts()\n",
    "df_IT.head()"
   ]
  },
  {
   "cell_type": "code",
   "execution_count": 43,
   "metadata": {
    "colab": {
     "base_uri": "https://localhost:8080/",
     "height": 450
    },
    "id": "G6wUrE9CllJW",
    "outputId": "00e54226-4f0d-4d64-8014-21060d825d24"
   },
   "outputs": [
    {
     "data": {
      "text/html": [
       "<div>\n",
       "<style scoped>\n",
       "    .dataframe tbody tr th:only-of-type {\n",
       "        vertical-align: middle;\n",
       "    }\n",
       "\n",
       "    .dataframe tbody tr th {\n",
       "        vertical-align: top;\n",
       "    }\n",
       "\n",
       "    .dataframe thead th {\n",
       "        text-align: right;\n",
       "    }\n",
       "</style>\n",
       "<table border=\"1\" class=\"dataframe\">\n",
       "  <thead>\n",
       "    <tr style=\"text-align: right;\">\n",
       "      <th></th>\n",
       "      <th>자료생성년월</th>\n",
       "      <th>사업장형태</th>\n",
       "      <th>적용일</th>\n",
       "      <th>탈퇴일</th>\n",
       "      <th>가입상태</th>\n",
       "      <th>상실</th>\n",
       "      <th>가입자수</th>\n",
       "      <th>고지금액</th>\n",
       "      <th>인당고지금액</th>\n",
       "    </tr>\n",
       "    <tr>\n",
       "      <th>신규</th>\n",
       "      <th></th>\n",
       "      <th></th>\n",
       "      <th></th>\n",
       "      <th></th>\n",
       "      <th></th>\n",
       "      <th></th>\n",
       "      <th></th>\n",
       "      <th></th>\n",
       "      <th></th>\n",
       "    </tr>\n",
       "  </thead>\n",
       "  <tbody>\n",
       "    <tr>\n",
       "      <th>0</th>\n",
       "      <td>202007.00</td>\n",
       "      <td>1.00</td>\n",
       "      <td>20128497.22</td>\n",
       "      <td>514179.03</td>\n",
       "      <td>1.02</td>\n",
       "      <td>0.30</td>\n",
       "      <td>10.05</td>\n",
       "      <td>2825960.68</td>\n",
       "      <td>258499.48</td>\n",
       "    </tr>\n",
       "    <tr>\n",
       "      <th>1</th>\n",
       "      <td>202007.00</td>\n",
       "      <td>1.00</td>\n",
       "      <td>20127934.24</td>\n",
       "      <td>10101.00</td>\n",
       "      <td>1.00</td>\n",
       "      <td>0.60</td>\n",
       "      <td>20.58</td>\n",
       "      <td>5963927.23</td>\n",
       "      <td>261432.43</td>\n",
       "    </tr>\n",
       "    <tr>\n",
       "      <th>2</th>\n",
       "      <td>202007.00</td>\n",
       "      <td>1.00</td>\n",
       "      <td>20124849.02</td>\n",
       "      <td>30271.44</td>\n",
       "      <td>1.00</td>\n",
       "      <td>1.02</td>\n",
       "      <td>35.61</td>\n",
       "      <td>10922155.04</td>\n",
       "      <td>268641.90</td>\n",
       "    </tr>\n",
       "    <tr>\n",
       "      <th>3</th>\n",
       "      <td>202007.00</td>\n",
       "      <td>1.00</td>\n",
       "      <td>20126118.06</td>\n",
       "      <td>10101.00</td>\n",
       "      <td>1.00</td>\n",
       "      <td>1.13</td>\n",
       "      <td>41.48</td>\n",
       "      <td>12590403.01</td>\n",
       "      <td>261556.23</td>\n",
       "    </tr>\n",
       "    <tr>\n",
       "      <th>4</th>\n",
       "      <td>202007.00</td>\n",
       "      <td>1.00</td>\n",
       "      <td>20124027.11</td>\n",
       "      <td>10101.00</td>\n",
       "      <td>1.00</td>\n",
       "      <td>1.68</td>\n",
       "      <td>62.50</td>\n",
       "      <td>19523037.97</td>\n",
       "      <td>268854.25</td>\n",
       "    </tr>\n",
       "    <tr>\n",
       "      <th>...</th>\n",
       "      <td>...</td>\n",
       "      <td>...</td>\n",
       "      <td>...</td>\n",
       "      <td>...</td>\n",
       "      <td>...</td>\n",
       "      <td>...</td>\n",
       "      <td>...</td>\n",
       "      <td>...</td>\n",
       "      <td>...</td>\n",
       "    </tr>\n",
       "    <tr>\n",
       "      <th>182</th>\n",
       "      <td>202007.00</td>\n",
       "      <td>1.00</td>\n",
       "      <td>20021201.00</td>\n",
       "      <td>10101.00</td>\n",
       "      <td>1.00</td>\n",
       "      <td>139.00</td>\n",
       "      <td>1605.00</td>\n",
       "      <td>305729900.00</td>\n",
       "      <td>190485.92</td>\n",
       "    </tr>\n",
       "    <tr>\n",
       "      <th>199</th>\n",
       "      <td>202007.00</td>\n",
       "      <td>1.00</td>\n",
       "      <td>20010702.00</td>\n",
       "      <td>10101.00</td>\n",
       "      <td>1.00</td>\n",
       "      <td>225.00</td>\n",
       "      <td>7899.00</td>\n",
       "      <td>1753229620.00</td>\n",
       "      <td>221955.90</td>\n",
       "    </tr>\n",
       "    <tr>\n",
       "      <th>267</th>\n",
       "      <td>202007.00</td>\n",
       "      <td>1.00</td>\n",
       "      <td>20010702.00</td>\n",
       "      <td>10101.00</td>\n",
       "      <td>1.00</td>\n",
       "      <td>212.00</td>\n",
       "      <td>7852.00</td>\n",
       "      <td>1780002840.00</td>\n",
       "      <td>226694.20</td>\n",
       "    </tr>\n",
       "    <tr>\n",
       "      <th>482</th>\n",
       "      <td>202007.00</td>\n",
       "      <td>1.00</td>\n",
       "      <td>20150706.00</td>\n",
       "      <td>10101.00</td>\n",
       "      <td>1.00</td>\n",
       "      <td>202.00</td>\n",
       "      <td>1325.00</td>\n",
       "      <td>234346980.00</td>\n",
       "      <td>176865.65</td>\n",
       "    </tr>\n",
       "    <tr>\n",
       "      <th>525</th>\n",
       "      <td>202007.00</td>\n",
       "      <td>1.00</td>\n",
       "      <td>19990804.00</td>\n",
       "      <td>10101.00</td>\n",
       "      <td>1.00</td>\n",
       "      <td>358.00</td>\n",
       "      <td>6825.00</td>\n",
       "      <td>1203745080.00</td>\n",
       "      <td>176372.91</td>\n",
       "    </tr>\n",
       "  </tbody>\n",
       "</table>\n",
       "<p>63 rows × 9 columns</p>\n",
       "</div>"
      ],
      "text/plain": [
       "       자료생성년월  사업장형태         적용일  ...    가입자수          고지금액    인당고지금액\n",
       "신규                                ...                                \n",
       "0   202007.00   1.00 20128497.22  ...   10.05    2825960.68 258499.48\n",
       "1   202007.00   1.00 20127934.24  ...   20.58    5963927.23 261432.43\n",
       "2   202007.00   1.00 20124849.02  ...   35.61   10922155.04 268641.90\n",
       "3   202007.00   1.00 20126118.06  ...   41.48   12590403.01 261556.23\n",
       "4   202007.00   1.00 20124027.11  ...   62.50   19523037.97 268854.25\n",
       "..        ...    ...         ...  ...     ...           ...       ...\n",
       "182 202007.00   1.00 20021201.00  ... 1605.00  305729900.00 190485.92\n",
       "199 202007.00   1.00 20010702.00  ... 7899.00 1753229620.00 221955.90\n",
       "267 202007.00   1.00 20010702.00  ... 7852.00 1780002840.00 226694.20\n",
       "482 202007.00   1.00 20150706.00  ... 1325.00  234346980.00 176865.65\n",
       "525 202007.00   1.00 19990804.00  ... 6825.00 1203745080.00 176372.91\n",
       "\n",
       "[63 rows x 9 columns]"
      ]
     },
     "execution_count": 43,
     "metadata": {
      "tags": []
     },
     "output_type": "execute_result"
    }
   ],
   "source": [
    "df_IT.groupby(by=['신규']).mean()"
   ]
  },
  {
   "cell_type": "code",
   "execution_count": 44,
   "metadata": {
    "colab": {
     "base_uri": "https://localhost:8080/",
     "height": 314
    },
    "id": "WX_731dxEEHl",
    "outputId": "39b9fe96-a797-4579-ba48-2ab00b9470ab"
   },
   "outputs": [
    {
     "data": {
      "text/html": [
       "<div>\n",
       "<style scoped>\n",
       "    .dataframe tbody tr th:only-of-type {\n",
       "        vertical-align: middle;\n",
       "    }\n",
       "\n",
       "    .dataframe tbody tr th {\n",
       "        vertical-align: top;\n",
       "    }\n",
       "\n",
       "    .dataframe thead th {\n",
       "        text-align: right;\n",
       "    }\n",
       "</style>\n",
       "<table border=\"1\" class=\"dataframe\">\n",
       "  <thead>\n",
       "    <tr style=\"text-align: right;\">\n",
       "      <th></th>\n",
       "      <th>자료생성년월</th>\n",
       "      <th>사업장형태</th>\n",
       "      <th>적용일</th>\n",
       "      <th>탈퇴일</th>\n",
       "      <th>가입상태</th>\n",
       "      <th>신규</th>\n",
       "      <th>상실</th>\n",
       "      <th>가입자수</th>\n",
       "      <th>고지금액</th>\n",
       "      <th>인당고지금액</th>\n",
       "    </tr>\n",
       "  </thead>\n",
       "  <tbody>\n",
       "    <tr>\n",
       "      <th>count</th>\n",
       "      <td>17828.00</td>\n",
       "      <td>17828.00</td>\n",
       "      <td>17828.00</td>\n",
       "      <td>17828.00</td>\n",
       "      <td>17828.00</td>\n",
       "      <td>17828.00</td>\n",
       "      <td>17828.00</td>\n",
       "      <td>17828.00</td>\n",
       "      <td>17828.00</td>\n",
       "      <td>17516.00</td>\n",
       "    </tr>\n",
       "    <tr>\n",
       "      <th>mean</th>\n",
       "      <td>202007.00</td>\n",
       "      <td>1.00</td>\n",
       "      <td>20126929.91</td>\n",
       "      <td>366813.81</td>\n",
       "      <td>1.02</td>\n",
       "      <td>0.94</td>\n",
       "      <td>0.73</td>\n",
       "      <td>26.21</td>\n",
       "      <td>8199009.75</td>\n",
       "      <td>260656.74</td>\n",
       "    </tr>\n",
       "    <tr>\n",
       "      <th>std</th>\n",
       "      <td>0.00</td>\n",
       "      <td>0.00</td>\n",
       "      <td>66722.32</td>\n",
       "      <td>2659842.37</td>\n",
       "      <td>0.13</td>\n",
       "      <td>7.11</td>\n",
       "      <td>5.80</td>\n",
       "      <td>254.06</td>\n",
       "      <td>102646242.06</td>\n",
       "      <td>76089.77</td>\n",
       "    </tr>\n",
       "    <tr>\n",
       "      <th>min</th>\n",
       "      <td>202007.00</td>\n",
       "      <td>1.00</td>\n",
       "      <td>19880101.00</td>\n",
       "      <td>10101.00</td>\n",
       "      <td>1.00</td>\n",
       "      <td>0.00</td>\n",
       "      <td>0.00</td>\n",
       "      <td>0.00</td>\n",
       "      <td>0.00</td>\n",
       "      <td>28800.00</td>\n",
       "    </tr>\n",
       "    <tr>\n",
       "      <th>25%</th>\n",
       "      <td>202007.00</td>\n",
       "      <td>1.00</td>\n",
       "      <td>20080714.00</td>\n",
       "      <td>10101.00</td>\n",
       "      <td>1.00</td>\n",
       "      <td>0.00</td>\n",
       "      <td>0.00</td>\n",
       "      <td>4.00</td>\n",
       "      <td>974235.00</td>\n",
       "      <td>207832.38</td>\n",
       "    </tr>\n",
       "    <tr>\n",
       "      <th>50%</th>\n",
       "      <td>202007.00</td>\n",
       "      <td>1.00</td>\n",
       "      <td>20150914.00</td>\n",
       "      <td>10101.00</td>\n",
       "      <td>1.00</td>\n",
       "      <td>0.00</td>\n",
       "      <td>0.00</td>\n",
       "      <td>7.00</td>\n",
       "      <td>1824690.00</td>\n",
       "      <td>261278.49</td>\n",
       "    </tr>\n",
       "    <tr>\n",
       "      <th>75%</th>\n",
       "      <td>202007.00</td>\n",
       "      <td>1.00</td>\n",
       "      <td>20180601.00</td>\n",
       "      <td>10101.00</td>\n",
       "      <td>1.00</td>\n",
       "      <td>1.00</td>\n",
       "      <td>1.00</td>\n",
       "      <td>15.00</td>\n",
       "      <td>4109605.00</td>\n",
       "      <td>312270.68</td>\n",
       "    </tr>\n",
       "    <tr>\n",
       "      <th>max</th>\n",
       "      <td>202007.00</td>\n",
       "      <td>1.00</td>\n",
       "      <td>20200713.00</td>\n",
       "      <td>20200730.00</td>\n",
       "      <td>2.00</td>\n",
       "      <td>525.00</td>\n",
       "      <td>366.00</td>\n",
       "      <td>22527.00</td>\n",
       "      <td>9961182900.00</td>\n",
       "      <td>452700.00</td>\n",
       "    </tr>\n",
       "  </tbody>\n",
       "</table>\n",
       "</div>"
      ],
      "text/plain": [
       "         자료생성년월    사업장형태         적용일  ...     가입자수          고지금액    인당고지금액\n",
       "count  17828.00 17828.00    17828.00  ... 17828.00      17828.00  17516.00\n",
       "mean  202007.00     1.00 20126929.91  ...    26.21    8199009.75 260656.74\n",
       "std        0.00     0.00    66722.32  ...   254.06  102646242.06  76089.77\n",
       "min   202007.00     1.00 19880101.00  ...     0.00          0.00  28800.00\n",
       "25%   202007.00     1.00 20080714.00  ...     4.00     974235.00 207832.38\n",
       "50%   202007.00     1.00 20150914.00  ...     7.00    1824690.00 261278.49\n",
       "75%   202007.00     1.00 20180601.00  ...    15.00    4109605.00 312270.68\n",
       "max   202007.00     1.00 20200713.00  ... 22527.00 9961182900.00 452700.00\n",
       "\n",
       "[8 rows x 10 columns]"
      ]
     },
     "execution_count": 44,
     "metadata": {
      "tags": []
     },
     "output_type": "execute_result"
    }
   ],
   "source": [
    "df_IT.describe()"
   ]
  },
  {
   "cell_type": "code",
   "execution_count": 45,
   "metadata": {
    "colab": {
     "base_uri": "https://localhost:8080/",
     "height": 34
    },
    "id": "z3mJ9pV18U-S",
    "outputId": "198b3092-1c5e-4ac7-bae8-3b5f4dfaa1ef"
   },
   "outputs": [
    {
     "data": {
      "text/plain": [
       "0.9437401839802558"
      ]
     },
     "execution_count": 45,
     "metadata": {
      "tags": []
     },
     "output_type": "execute_result"
    }
   ],
   "source": [
    "df_IT['신규'].mean()"
   ]
  },
  {
   "cell_type": "code",
   "execution_count": 46,
   "metadata": {
    "colab": {
     "base_uri": "https://localhost:8080/",
     "height": 34
    },
    "id": "IDIwSpgR8U-V",
    "outputId": "a7cd2195-7132-4b19-8aa8-c81ed43a1600"
   },
   "outputs": [
    {
     "data": {
      "text/plain": [
       "0.733901727619475"
      ]
     },
     "execution_count": 46,
     "metadata": {
      "tags": []
     },
     "output_type": "execute_result"
    }
   ],
   "source": [
    "df_IT['상실'].mean()"
   ]
  },
  {
   "cell_type": "code",
   "execution_count": 47,
   "metadata": {
    "colab": {
     "base_uri": "https://localhost:8080/",
     "height": 34
    },
    "id": "kKugbRQ_8U-Y",
    "outputId": "90663a81-5c12-40ea-e7f7-e0cf2540e064"
   },
   "outputs": [
    {
     "data": {
      "text/plain": [
       "26.21359658963428"
      ]
     },
     "execution_count": 47,
     "metadata": {
      "tags": []
     },
     "output_type": "execute_result"
    }
   ],
   "source": [
    "df_IT['가입자수'].mean()"
   ]
  },
  {
   "cell_type": "code",
   "execution_count": 48,
   "metadata": {
    "colab": {
     "base_uri": "https://localhost:8080/",
     "height": 34
    },
    "id": "_HosktoS8U-b",
    "outputId": "be7191ff-ac2a-48b3-aaec-970fec103fef"
   },
   "outputs": [
    {
     "data": {
      "text/plain": [
       "8199009.750953556"
      ]
     },
     "execution_count": 48,
     "metadata": {
      "tags": []
     },
     "output_type": "execute_result"
    }
   ],
   "source": [
    "df_IT['고지금액'].mean()"
   ]
  },
  {
   "cell_type": "code",
   "execution_count": 49,
   "metadata": {
    "colab": {
     "base_uri": "https://localhost:8080/",
     "height": 204
    },
    "id": "3tMmyOLtQGBH",
    "outputId": "b498fb7f-9d6e-419e-92d6-e5a612e21b28"
   },
   "outputs": [
    {
     "data": {
      "text/html": [
       "<div>\n",
       "<style scoped>\n",
       "    .dataframe tbody tr th:only-of-type {\n",
       "        vertical-align: middle;\n",
       "    }\n",
       "\n",
       "    .dataframe tbody tr th {\n",
       "        vertical-align: top;\n",
       "    }\n",
       "\n",
       "    .dataframe thead th {\n",
       "        text-align: right;\n",
       "    }\n",
       "</style>\n",
       "<table border=\"1\" class=\"dataframe\">\n",
       "  <thead>\n",
       "    <tr style=\"text-align: right;\">\n",
       "      <th></th>\n",
       "      <th>사업장명</th>\n",
       "      <th>가입자수</th>\n",
       "      <th>신규</th>\n",
       "      <th>상실</th>\n",
       "      <th>고지금액</th>\n",
       "      <th>인당고지금액</th>\n",
       "    </tr>\n",
       "  </thead>\n",
       "  <tbody>\n",
       "    <tr>\n",
       "      <th>135</th>\n",
       "      <td>대신정보통신(주)</td>\n",
       "      <td>555</td>\n",
       "      <td>12</td>\n",
       "      <td>17</td>\n",
       "      <td>179306000</td>\n",
       "      <td>323073.87</td>\n",
       "    </tr>\n",
       "    <tr>\n",
       "      <th>199</th>\n",
       "      <td>(주)비트컴퓨터</td>\n",
       "      <td>137</td>\n",
       "      <td>1</td>\n",
       "      <td>3</td>\n",
       "      <td>41544740</td>\n",
       "      <td>303246.28</td>\n",
       "    </tr>\n",
       "    <tr>\n",
       "      <th>212</th>\n",
       "      <td>한국후지쯔(주)</td>\n",
       "      <td>181</td>\n",
       "      <td>1</td>\n",
       "      <td>1</td>\n",
       "      <td>76397920</td>\n",
       "      <td>422087.96</td>\n",
       "    </tr>\n",
       "    <tr>\n",
       "      <th>678</th>\n",
       "      <td>(주)제이.티.에스</td>\n",
       "      <td>7</td>\n",
       "      <td>0</td>\n",
       "      <td>0</td>\n",
       "      <td>1875040</td>\n",
       "      <td>267862.86</td>\n",
       "    </tr>\n",
       "    <tr>\n",
       "      <th>684</th>\n",
       "      <td>(주)코스콤</td>\n",
       "      <td>744</td>\n",
       "      <td>8</td>\n",
       "      <td>2</td>\n",
       "      <td>332258180</td>\n",
       "      <td>446583.58</td>\n",
       "    </tr>\n",
       "  </tbody>\n",
       "</table>\n",
       "</div>"
      ],
      "text/plain": [
       "           사업장명  가입자수  신규  상실       고지금액    인당고지금액\n",
       "135   대신정보통신(주)   555  12  17  179306000 323073.87\n",
       "199    (주)비트컴퓨터   137   1   3   41544740 303246.28\n",
       "212    한국후지쯔(주)   181   1   1   76397920 422087.96\n",
       "678  (주)제이.티.에스     7   0   0    1875040 267862.86\n",
       "684      (주)코스콤   744   8   2  332258180 446583.58"
      ]
     },
     "execution_count": 49,
     "metadata": {
      "tags": []
     },
     "output_type": "execute_result"
    }
   ],
   "source": [
    "df_IT[['사업장명', '가입자수', '신규', '상실', '고지금액', '인당고지금액']].head()"
   ]
  },
  {
   "cell_type": "markdown",
   "metadata": {
    "id": "pmQ3hqgU8U-p"
   },
   "source": [
    "**국민연금 정보로 어떻게 연봉정보를 계산하나요?**\n",
    "\n",
    "\n",
    "국민연금 보험률은 9%입니다. 쉽게 이야기 하면 급여(신고소득월액)의 9%를 국민연금으로 내는 것입니다. \n",
    "\n",
    "하지만 이를 절반으로 나누어 **4.5%는 회사가, 나머지 절반은 개인이 부담하는 구조**입니다. 회사는 급여 외에 추가로 금액을 부담합니다.\n",
    "\n",
    "국민연금 보험료는 **소득 상한선과 하한선이 설정되어 있어 소득 전체가 아닌 일부 소득에만 부과**됩니다.\n",
    "\n",
    "이를 역산하면 신고소득월액의 계산이 가능합니다. 하지만 **상한선과 하한선이 설정되어 있어 실제보다 과소계산**될 수 있습니다"
   ]
  },
  {
   "cell_type": "markdown",
   "metadata": {
    "id": "V9l-zRlT8U-p"
   },
   "source": [
    "[수식]\n",
    "\n",
    "- 임직원 평균 월급 = 인당고지금액 / 9% * 100%\n",
    "- 임직원 평균 연봉 = 임직원 평균 월급 * 12개월"
   ]
  },
  {
   "cell_type": "code",
   "execution_count": 90,
   "metadata": {
    "id": "ckoXOvFK8U-t"
   },
   "outputs": [],
   "source": [
    "df_IT['평균월급'] = df_IT['인당고지금액'] / 9 * 100\n",
    "df['평균월급'] = df['인당고지금액'] / 9 * 100"
   ]
  },
  {
   "cell_type": "code",
   "execution_count": 51,
   "metadata": {
    "id": "c1OyIwff8U-x"
   },
   "outputs": [],
   "source": [
    "df_IT['평균연봉'] = df_IT['평균월급'] * 12\n",
    "df['평균연봉'] = df['평균월급'] * 12"
   ]
  },
  {
   "cell_type": "code",
   "execution_count": 52,
   "metadata": {
    "colab": {
     "base_uri": "https://localhost:8080/",
     "height": 34
    },
    "id": "IjC03x2m8U-z",
    "outputId": "e4135e0a-70af-46cb-a93e-ce2fcbb417a5"
   },
   "outputs": [
    {
     "data": {
      "text/plain": [
       "17516"
      ]
     },
     "execution_count": 52,
     "metadata": {
      "tags": []
     },
     "output_type": "execute_result"
    }
   ],
   "source": [
    "df_IT['평균월급'].notnull().sum()"
   ]
  },
  {
   "cell_type": "code",
   "execution_count": 53,
   "metadata": {
    "colab": {
     "base_uri": "https://localhost:8080/",
     "height": 463
    },
    "id": "Ooj6Fknh8U-2",
    "outputId": "5c1e0247-f942-490e-dd2d-deeb39f3fdb7"
   },
   "outputs": [
    {
     "data": {
      "image/png": "[encoded data removed]",
      "text/plain": [
       "<Figure size 720x504 with 1 Axes>"
      ]
     },
     "metadata": {
      "needs_background": "light",
      "tags": []
     },
     "output_type": "display_data"
    }
   ],
   "source": [
    "plt.figure(figsize=(10, 7))\n",
    "sns.distplot(df_IT.loc[df_IT['평균연봉'].notnull(), '평균연봉'])\n",
    "plt.title('평균연봉', fontsize=18)\n",
    "plt.show()"
   ]
  },
  {
   "cell_type": "code",
   "execution_count": 54,
   "metadata": {
    "colab": {
     "base_uri": "https://localhost:8080/",
     "height": 463
    },
    "id": "jJnaJ0IK8U-5",
    "outputId": "fc3c7a03-ddb4-40ae-b9a1-dc3f0e0c6cea"
   },
   "outputs": [
    {
     "data": {
      "image/png": "[encoded data removed]",
      "text/plain": [
       "<Figure size 720x504 with 1 Axes>"
      ]
     },
     "metadata": {
      "needs_background": "light",
      "tags": []
     },
     "output_type": "display_data"
    }
   ],
   "source": [
    "plt.figure(figsize=(10, 7))\n",
    "sns.distplot(df_IT.loc[df_IT['평균월급'].notnull(), '평균월급'])\n",
    "plt.title('평균월급', fontsize=18)\n",
    "plt.show()"
   ]
  },
  {
   "cell_type": "markdown",
   "metadata": {
    "id": "ItF2lB8X8U-8"
   },
   "source": [
    "### 정렬(Order)"
   ]
  },
  {
   "cell_type": "markdown",
   "metadata": {
    "id": "_x9yH7lv8U-9"
   },
   "source": [
    "#### IT업종 연봉 King!"
   ]
  },
  {
   "cell_type": "code",
   "execution_count": 55,
   "metadata": {
    "colab": {
     "base_uri": "https://localhost:8080/",
     "height": 1000
    },
    "id": "-w0vYitr8U-_",
    "outputId": "a30976f4-b7a5-47cf-b047-cedcb284fd40"
   },
   "outputs": [
    {
     "data": {
      "text/html": [
       "<div>\n",
       "<style scoped>\n",
       "    .dataframe tbody tr th:only-of-type {\n",
       "        vertical-align: middle;\n",
       "    }\n",
       "\n",
       "    .dataframe tbody tr th {\n",
       "        vertical-align: top;\n",
       "    }\n",
       "\n",
       "    .dataframe thead th {\n",
       "        text-align: right;\n",
       "    }\n",
       "</style>\n",
       "<table border=\"1\" class=\"dataframe\">\n",
       "  <thead>\n",
       "    <tr style=\"text-align: right;\">\n",
       "      <th></th>\n",
       "      <th>자료생성년월</th>\n",
       "      <th>사업장명</th>\n",
       "      <th>사업장형태</th>\n",
       "      <th>업종코드명</th>\n",
       "      <th>적용일</th>\n",
       "      <th>탈퇴일</th>\n",
       "      <th>가입상태</th>\n",
       "      <th>신규</th>\n",
       "      <th>상실</th>\n",
       "      <th>가입자수</th>\n",
       "      <th>고지금액</th>\n",
       "      <th>인당고지금액</th>\n",
       "      <th>평균월급</th>\n",
       "      <th>평균연봉</th>\n",
       "    </tr>\n",
       "  </thead>\n",
       "  <tbody>\n",
       "    <tr>\n",
       "      <th>3479</th>\n",
       "      <td>202007</td>\n",
       "      <td>주식회사 케이티</td>\n",
       "      <td>1</td>\n",
       "      <td>무선 및 위성 통신업</td>\n",
       "      <td>19880101</td>\n",
       "      <td>10101</td>\n",
       "      <td>1</td>\n",
       "      <td>15</td>\n",
       "      <td>76</td>\n",
       "      <td>22527</td>\n",
       "      <td>9961182900</td>\n",
       "      <td>442188.61</td>\n",
       "      <td>4913206.82</td>\n",
       "      <td>58958481.82</td>\n",
       "    </tr>\n",
       "    <tr>\n",
       "      <th>3670</th>\n",
       "      <td>202007</td>\n",
       "      <td>삼성에스디에스(주)</td>\n",
       "      <td>1</td>\n",
       "      <td>응용 소프트웨어 개발 및 공급업</td>\n",
       "      <td>19880101</td>\n",
       "      <td>10101</td>\n",
       "      <td>1</td>\n",
       "      <td>27</td>\n",
       "      <td>48</td>\n",
       "      <td>12504</td>\n",
       "      <td>5614601680</td>\n",
       "      <td>449024.45</td>\n",
       "      <td>4989160.52</td>\n",
       "      <td>59869926.21</td>\n",
       "    </tr>\n",
       "    <tr>\n",
       "      <th>39505</th>\n",
       "      <td>202007</td>\n",
       "      <td>(주)엘지유플러스</td>\n",
       "      <td>1</td>\n",
       "      <td>무선 및 위성 통신업</td>\n",
       "      <td>19960801</td>\n",
       "      <td>10101</td>\n",
       "      <td>1</td>\n",
       "      <td>77</td>\n",
       "      <td>88</td>\n",
       "      <td>10223</td>\n",
       "      <td>4142808860</td>\n",
       "      <td>405243.95</td>\n",
       "      <td>4502710.51</td>\n",
       "      <td>54032526.13</td>\n",
       "    </tr>\n",
       "    <tr>\n",
       "      <th>12843</th>\n",
       "      <td>202007</td>\n",
       "      <td>(주)케이티아이에스</td>\n",
       "      <td>1</td>\n",
       "      <td>무선 및 위성 통신업</td>\n",
       "      <td>20010702</td>\n",
       "      <td>10101</td>\n",
       "      <td>1</td>\n",
       "      <td>199</td>\n",
       "      <td>225</td>\n",
       "      <td>7899</td>\n",
       "      <td>1753229620</td>\n",
       "      <td>221955.90</td>\n",
       "      <td>2466176.62</td>\n",
       "      <td>29594119.42</td>\n",
       "    </tr>\n",
       "    <tr>\n",
       "      <th>121174</th>\n",
       "      <td>202007</td>\n",
       "      <td>(주)케이티씨에스</td>\n",
       "      <td>1</td>\n",
       "      <td>데이터베이스 및 온라인 정보 제공업</td>\n",
       "      <td>20010702</td>\n",
       "      <td>10101</td>\n",
       "      <td>1</td>\n",
       "      <td>267</td>\n",
       "      <td>212</td>\n",
       "      <td>7852</td>\n",
       "      <td>1780002840</td>\n",
       "      <td>226694.20</td>\n",
       "      <td>2518824.42</td>\n",
       "      <td>30225893.02</td>\n",
       "    </tr>\n",
       "    <tr>\n",
       "      <th>...</th>\n",
       "      <td>...</td>\n",
       "      <td>...</td>\n",
       "      <td>...</td>\n",
       "      <td>...</td>\n",
       "      <td>...</td>\n",
       "      <td>...</td>\n",
       "      <td>...</td>\n",
       "      <td>...</td>\n",
       "      <td>...</td>\n",
       "      <td>...</td>\n",
       "      <td>...</td>\n",
       "      <td>...</td>\n",
       "      <td>...</td>\n",
       "      <td>...</td>\n",
       "    </tr>\n",
       "    <tr>\n",
       "      <th>331071</th>\n",
       "      <td>202007</td>\n",
       "      <td>주식회사 커먼센스</td>\n",
       "      <td>1</td>\n",
       "      <td>응용 소프트웨어 개발 및 공급업</td>\n",
       "      <td>20160701</td>\n",
       "      <td>20200720</td>\n",
       "      <td>2</td>\n",
       "      <td>0</td>\n",
       "      <td>1</td>\n",
       "      <td>0</td>\n",
       "      <td>0</td>\n",
       "      <td>nan</td>\n",
       "      <td>nan</td>\n",
       "      <td>nan</td>\n",
       "    </tr>\n",
       "    <tr>\n",
       "      <th>455736</th>\n",
       "      <td>202007</td>\n",
       "      <td>주식회사비씨이엑스솔루션즈(BCEXSolutionsCo. Ltd)</td>\n",
       "      <td>1</td>\n",
       "      <td>응용 소프트웨어 개발 및 공급업</td>\n",
       "      <td>20190901</td>\n",
       "      <td>20200701</td>\n",
       "      <td>2</td>\n",
       "      <td>0</td>\n",
       "      <td>0</td>\n",
       "      <td>0</td>\n",
       "      <td>0</td>\n",
       "      <td>nan</td>\n",
       "      <td>nan</td>\n",
       "      <td>nan</td>\n",
       "    </tr>\n",
       "    <tr>\n",
       "      <th>330479</th>\n",
       "      <td>202007</td>\n",
       "      <td>미소주식회사</td>\n",
       "      <td>1</td>\n",
       "      <td>컴퓨터 및 주변 기기 수리업</td>\n",
       "      <td>20160701</td>\n",
       "      <td>20171226</td>\n",
       "      <td>2</td>\n",
       "      <td>0</td>\n",
       "      <td>0</td>\n",
       "      <td>0</td>\n",
       "      <td>0</td>\n",
       "      <td>nan</td>\n",
       "      <td>nan</td>\n",
       "      <td>nan</td>\n",
       "    </tr>\n",
       "    <tr>\n",
       "      <th>456515</th>\n",
       "      <td>202007</td>\n",
       "      <td>스테이지포주식회사</td>\n",
       "      <td>1</td>\n",
       "      <td>기타 정보 기술 및 컴퓨터 운영 관련 서비스업</td>\n",
       "      <td>20190715</td>\n",
       "      <td>20200301</td>\n",
       "      <td>2</td>\n",
       "      <td>0</td>\n",
       "      <td>1</td>\n",
       "      <td>0</td>\n",
       "      <td>0</td>\n",
       "      <td>nan</td>\n",
       "      <td>nan</td>\n",
       "      <td>nan</td>\n",
       "    </tr>\n",
       "    <tr>\n",
       "      <th>515784</th>\n",
       "      <td>202007</td>\n",
       "      <td>메이플러스</td>\n",
       "      <td>1</td>\n",
       "      <td>컴퓨터 시스템 통합 자문 및 구축 서비스업</td>\n",
       "      <td>20200201</td>\n",
       "      <td>10101</td>\n",
       "      <td>1</td>\n",
       "      <td>0</td>\n",
       "      <td>0</td>\n",
       "      <td>0</td>\n",
       "      <td>0</td>\n",
       "      <td>nan</td>\n",
       "      <td>nan</td>\n",
       "      <td>nan</td>\n",
       "    </tr>\n",
       "  </tbody>\n",
       "</table>\n",
       "<p>17828 rows × 14 columns</p>\n",
       "</div>"
      ],
      "text/plain": [
       "        자료생성년월                                 사업장명  ...       평균월급        평균연봉\n",
       "3479    202007                             주식회사 케이티  ... 4913206.82 58958481.82\n",
       "3670    202007                           삼성에스디에스(주)  ... 4989160.52 59869926.21\n",
       "39505   202007                            (주)엘지유플러스  ... 4502710.51 54032526.13\n",
       "12843   202007                           (주)케이티아이에스  ... 2466176.62 29594119.42\n",
       "121174  202007                            (주)케이티씨에스  ... 2518824.42 30225893.02\n",
       "...        ...                                  ...  ...        ...         ...\n",
       "331071  202007                            주식회사 커먼센스  ...        nan         nan\n",
       "455736  202007  주식회사비씨이엑스솔루션즈(BCEXSolutionsCo. Ltd)  ...        nan         nan\n",
       "330479  202007                               미소주식회사  ...        nan         nan\n",
       "456515  202007                            스테이지포주식회사  ...        nan         nan\n",
       "515784  202007                                메이플러스  ...        nan         nan\n",
       "\n",
       "[17828 rows x 14 columns]"
      ]
     },
     "execution_count": 55,
     "metadata": {
      "tags": []
     },
     "output_type": "execute_result"
    }
   ],
   "source": [
    "# 가입자수를 정렬하면 자동적으로 연봉킹이 나오지.\n",
    "df_IT.sort_values(by='가입자수' , ascending=False)"
   ]
  },
  {
   "cell_type": "markdown",
   "metadata": {
    "id": "RdJUJAwt8U_B"
   },
   "source": [
    "####IT업종 신규 채용 King!"
   ]
  },
  {
   "cell_type": "code",
   "execution_count": 58,
   "metadata": {
    "id": "c0bcQa0a8U_C"
   },
   "outputs": [],
   "source": [
    "# Top 20\n",
    "df_hire= df_IT.sort_values(by='신규', ascending=False).head(n=20)"
   ]
  },
  {
   "cell_type": "code",
   "execution_count": 57,
   "metadata": {
    "colab": {
     "base_uri": "https://localhost:8080/",
     "height": 1000
    },
    "id": "-_R3_qmcTKH5",
    "outputId": "31b79379-ad40-485e-da59-ce0179797ae0"
   },
   "outputs": [
    {
     "data": {
      "text/html": [
       "<div>\n",
       "<style scoped>\n",
       "    .dataframe tbody tr th:only-of-type {\n",
       "        vertical-align: middle;\n",
       "    }\n",
       "\n",
       "    .dataframe tbody tr th {\n",
       "        vertical-align: top;\n",
       "    }\n",
       "\n",
       "    .dataframe thead th {\n",
       "        text-align: right;\n",
       "    }\n",
       "</style>\n",
       "<table border=\"1\" class=\"dataframe\">\n",
       "  <thead>\n",
       "    <tr style=\"text-align: right;\">\n",
       "      <th></th>\n",
       "      <th>자료생성년월</th>\n",
       "      <th>사업장명</th>\n",
       "      <th>사업장형태</th>\n",
       "      <th>업종코드명</th>\n",
       "      <th>적용일</th>\n",
       "      <th>탈퇴일</th>\n",
       "      <th>가입상태</th>\n",
       "      <th>신규</th>\n",
       "      <th>상실</th>\n",
       "      <th>가입자수</th>\n",
       "      <th>고지금액</th>\n",
       "      <th>인당고지금액</th>\n",
       "      <th>평균월급</th>\n",
       "      <th>평균연봉</th>\n",
       "    </tr>\n",
       "  </thead>\n",
       "  <tbody>\n",
       "    <tr>\n",
       "      <th>7289</th>\n",
       "      <td>202007</td>\n",
       "      <td>(주)메타넷엠플랫폼</td>\n",
       "      <td>1</td>\n",
       "      <td>데이터베이스 및 온라인 정보 제공업</td>\n",
       "      <td>19990804</td>\n",
       "      <td>10101</td>\n",
       "      <td>1</td>\n",
       "      <td>525</td>\n",
       "      <td>358</td>\n",
       "      <td>6825</td>\n",
       "      <td>1203745080</td>\n",
       "      <td>176372.91</td>\n",
       "      <td>1959698.95</td>\n",
       "      <td>23516387.40</td>\n",
       "    </tr>\n",
       "    <tr>\n",
       "      <th>299460</th>\n",
       "      <td>202007</td>\n",
       "      <td>주식회사우아한청년들</td>\n",
       "      <td>1</td>\n",
       "      <td>자료 처리업</td>\n",
       "      <td>20150706</td>\n",
       "      <td>10101</td>\n",
       "      <td>1</td>\n",
       "      <td>482</td>\n",
       "      <td>202</td>\n",
       "      <td>1325</td>\n",
       "      <td>234346980</td>\n",
       "      <td>176865.65</td>\n",
       "      <td>1965173.84</td>\n",
       "      <td>23582086.04</td>\n",
       "    </tr>\n",
       "    <tr>\n",
       "      <th>121174</th>\n",
       "      <td>202007</td>\n",
       "      <td>(주)케이티씨에스</td>\n",
       "      <td>1</td>\n",
       "      <td>데이터베이스 및 온라인 정보 제공업</td>\n",
       "      <td>20010702</td>\n",
       "      <td>10101</td>\n",
       "      <td>1</td>\n",
       "      <td>267</td>\n",
       "      <td>212</td>\n",
       "      <td>7852</td>\n",
       "      <td>1780002840</td>\n",
       "      <td>226694.20</td>\n",
       "      <td>2518824.42</td>\n",
       "      <td>30225893.02</td>\n",
       "    </tr>\n",
       "    <tr>\n",
       "      <th>12843</th>\n",
       "      <td>202007</td>\n",
       "      <td>(주)케이티아이에스</td>\n",
       "      <td>1</td>\n",
       "      <td>무선 및 위성 통신업</td>\n",
       "      <td>20010702</td>\n",
       "      <td>10101</td>\n",
       "      <td>1</td>\n",
       "      <td>199</td>\n",
       "      <td>225</td>\n",
       "      <td>7899</td>\n",
       "      <td>1753229620</td>\n",
       "      <td>221955.90</td>\n",
       "      <td>2466176.62</td>\n",
       "      <td>29594119.42</td>\n",
       "    </tr>\n",
       "    <tr>\n",
       "      <th>19133</th>\n",
       "      <td>202007</td>\n",
       "      <td>에이스휴먼파워(주)</td>\n",
       "      <td>1</td>\n",
       "      <td>응용 소프트웨어 개발 및 공급업</td>\n",
       "      <td>20021201</td>\n",
       "      <td>10101</td>\n",
       "      <td>1</td>\n",
       "      <td>182</td>\n",
       "      <td>139</td>\n",
       "      <td>1605</td>\n",
       "      <td>305729900</td>\n",
       "      <td>190485.92</td>\n",
       "      <td>2116510.21</td>\n",
       "      <td>25398122.53</td>\n",
       "    </tr>\n",
       "    <tr>\n",
       "      <th>62009</th>\n",
       "      <td>202007</td>\n",
       "      <td>주식회사 카카오</td>\n",
       "      <td>1</td>\n",
       "      <td>데이터베이스 및 온라인 정보 제공업</td>\n",
       "      <td>19951227</td>\n",
       "      <td>10101</td>\n",
       "      <td>1</td>\n",
       "      <td>161</td>\n",
       "      <td>40</td>\n",
       "      <td>2689</td>\n",
       "      <td>1024595200</td>\n",
       "      <td>381032.06</td>\n",
       "      <td>4233689.52</td>\n",
       "      <td>50804274.20</td>\n",
       "    </tr>\n",
       "    <tr>\n",
       "      <th>8481</th>\n",
       "      <td>202007</td>\n",
       "      <td>SK 엠앤서비스(주)</td>\n",
       "      <td>1</td>\n",
       "      <td>응용 소프트웨어 개발 및 공급업</td>\n",
       "      <td>20000210</td>\n",
       "      <td>10101</td>\n",
       "      <td>1</td>\n",
       "      <td>138</td>\n",
       "      <td>112</td>\n",
       "      <td>1686</td>\n",
       "      <td>405743440</td>\n",
       "      <td>240654.47</td>\n",
       "      <td>2673938.58</td>\n",
       "      <td>32087262.95</td>\n",
       "    </tr>\n",
       "    <tr>\n",
       "      <th>512414</th>\n",
       "      <td>202007</td>\n",
       "      <td>주식회사 브이엔티지</td>\n",
       "      <td>1</td>\n",
       "      <td>컴퓨터 시스템 통합 자문 및 구축 서비스업</td>\n",
       "      <td>20200601</td>\n",
       "      <td>10101</td>\n",
       "      <td>1</td>\n",
       "      <td>132</td>\n",
       "      <td>2</td>\n",
       "      <td>132</td>\n",
       "      <td>48018980</td>\n",
       "      <td>363780.15</td>\n",
       "      <td>4042001.68</td>\n",
       "      <td>48504020.20</td>\n",
       "    </tr>\n",
       "    <tr>\n",
       "      <th>513276</th>\n",
       "      <td>202007</td>\n",
       "      <td>엔에이치엔토스트주식회사</td>\n",
       "      <td>1</td>\n",
       "      <td>기타 정보 기술 및 컴퓨터 운영 관련 서비스업</td>\n",
       "      <td>20200701</td>\n",
       "      <td>10101</td>\n",
       "      <td>1</td>\n",
       "      <td>128</td>\n",
       "      <td>2</td>\n",
       "      <td>128</td>\n",
       "      <td>33555960</td>\n",
       "      <td>262155.94</td>\n",
       "      <td>2912843.75</td>\n",
       "      <td>34954125.00</td>\n",
       "    </tr>\n",
       "    <tr>\n",
       "      <th>7164</th>\n",
       "      <td>202007</td>\n",
       "      <td>네이버 주식회사</td>\n",
       "      <td>1</td>\n",
       "      <td>데이터베이스 및 온라인 정보 제공업</td>\n",
       "      <td>19990629</td>\n",
       "      <td>10101</td>\n",
       "      <td>1</td>\n",
       "      <td>115</td>\n",
       "      <td>58</td>\n",
       "      <td>3709</td>\n",
       "      <td>1585990320</td>\n",
       "      <td>427605.91</td>\n",
       "      <td>4751176.78</td>\n",
       "      <td>57014121.33</td>\n",
       "    </tr>\n",
       "  </tbody>\n",
       "</table>\n",
       "</div>"
      ],
      "text/plain": [
       "        자료생성년월          사업장명  사업장형태  ...    인당고지금액       평균월급        평균연봉\n",
       "7289    202007    (주)메타넷엠플랫폼      1  ... 176372.91 1959698.95 23516387.40\n",
       "299460  202007    주식회사우아한청년들      1  ... 176865.65 1965173.84 23582086.04\n",
       "121174  202007     (주)케이티씨에스      1  ... 226694.20 2518824.42 30225893.02\n",
       "12843   202007    (주)케이티아이에스      1  ... 221955.90 2466176.62 29594119.42\n",
       "19133   202007    에이스휴먼파워(주)      1  ... 190485.92 2116510.21 25398122.53\n",
       "62009   202007      주식회사 카카오      1  ... 381032.06 4233689.52 50804274.20\n",
       "8481    202007   SK 엠앤서비스(주)      1  ... 240654.47 2673938.58 32087262.95\n",
       "512414  202007    주식회사 브이엔티지      1  ... 363780.15 4042001.68 48504020.20\n",
       "513276  202007  엔에이치엔토스트주식회사      1  ... 262155.94 2912843.75 34954125.00\n",
       "7164    202007      네이버 주식회사      1  ... 427605.91 4751176.78 57014121.33\n",
       "\n",
       "[10 rows x 14 columns]"
      ]
     },
     "execution_count": 57,
     "metadata": {
      "tags": []
     },
     "output_type": "execute_result"
    }
   ],
   "source": [
    "df_hire"
   ]
  },
  {
   "cell_type": "code",
   "execution_count": 59,
   "metadata": {
    "colab": {
     "base_uri": "https://localhost:8080/",
     "height": 657
    },
    "id": "Rkb-zxCdgzAa",
    "outputId": "30c56b49-bb66-49a0-c170-cd90a16538fe"
   },
   "outputs": [
    {
     "data": {
      "image/png": "[encoded data removed]",
      "text/plain": [
       "<Figure size 790.5x648 with 1 Axes>"
      ]
     },
     "metadata": {
      "needs_background": "light",
      "tags": []
     },
     "output_type": "display_data"
    }
   ],
   "source": [
    "# 비대면 서비스의 수요로 인해 신규채용의 선두자리에 (주)메타엠플랫폼 업체 - 콜센터업무 비대면업무로 이루어지는 전문업체- 가 있는것이 눈에 띔.\n",
    "# 네이버가 다른 사업장에 비해 신규 채용인원은 적지만 급여수준은 높은 것을 알수 있다.\n",
    "# 반면 배달의 민족으로 대표되는 우아한 청년들이 경우엔 신규 채용인원은 많지만 고지금액은 많지 않은것으로 봐서\n",
    "# 급여수준이 좀 낮는 부분에 채용이 집중되지 않았을까하는 추론을 하게됨.\n",
    "plt.rcParams['figure.figsize'] = (12, 9)\n",
    "sns.relplot(x='신규', y='고지금액', data=df_hire, hue='사업장명', height=9)\n",
    "plt.show()"
   ]
  },
  {
   "cell_type": "markdown",
   "metadata": {
    "id": "5NSqLEDA8U_F"
   },
   "source": [
    "####IT업종 상실 King!"
   ]
  },
  {
   "cell_type": "code",
   "execution_count": 62,
   "metadata": {
    "id": "25jMGeQx8U_G"
   },
   "outputs": [],
   "source": [
    "# 네입버웹툰컴퍼니가 `국민연금 상실`이 top으로 올라와있는데 네이버에서 웹툰 분사는 2020년 8월1일부로 \n",
    "# 분사하여 대규모 퇴사 및 입사가 이루어진것으로 확인됨.\n",
    "# Top 20\n",
    "df_laidoff = df_IT.sort_values(by='상실', ascending=False).head(20)"
   ]
  },
  {
   "cell_type": "code",
   "execution_count": 63,
   "metadata": {
    "colab": {
     "base_uri": "https://localhost:8080/",
     "height": 369
    },
    "id": "tQgDV9VpVOV0",
    "outputId": "8cef28ca-da9c-46c8-f32c-c41e48437a7c"
   },
   "outputs": [
    {
     "data": {
      "image/png": "[encoded data removed]",
      "text/plain": [
       "<Figure size 529.125x360 with 1 Axes>"
      ]
     },
     "metadata": {
      "needs_background": "light",
      "tags": []
     },
     "output_type": "display_data"
    }
   ],
   "source": [
    "plt.rcParams['figure.figsize'] = (12, 9)\n",
    "sns.relplot(x='상실', y='고지금액', data=df_laidoff, hue='사업장명', height=5)\n",
    "plt.show()"
   ]
  },
  {
   "cell_type": "markdown",
   "metadata": {
    "id": "-r2uzQyOUi6q"
   },
   "source": [
    "(주)메타넷엠플랫폼의 경우, 신규 만큼 상실인원도 많은것으로 파악됨.(HR쪽의 고민이 필요해 보임0"
   ]
  },
  {
   "cell_type": "markdown",
   "metadata": {
    "id": "TAK67SCJ8U_J"
   },
   "source": [
    "###110인 이하 기업"
   ]
  },
  {
   "cell_type": "code",
   "execution_count": null,
   "metadata": {
    "id": "D33HXjjs8U_J"
   },
   "outputs": [],
   "source": [
    "people_limit = 110"
   ]
  },
  {
   "cell_type": "code",
   "execution_count": null,
   "metadata": {
    "id": "0OLlsQdo8U_M"
   },
   "outputs": [],
   "source": [
    "small = df_IT.loc[(df_IT['가입자수'].notnull()) & (df_IT['가입자수'] < people_limit )].sort_values(by='가입자수', ascending=False)\n",
    "small.head(n=20)"
   ]
  },
  {
   "cell_type": "markdown",
   "metadata": {
    "id": "h5wgLfbLXXWO"
   },
   "source": [
    "###300인 이상 기업"
   ]
  },
  {
   "cell_type": "code",
   "execution_count": null,
   "metadata": {
    "id": "Ca3S63rbXS8v"
   },
   "outputs": [],
   "source": [
    "big = 300"
   ]
  },
  {
   "cell_type": "code",
   "execution_count": null,
   "metadata": {
    "id": "TLNe54jxXfQy"
   },
   "outputs": [],
   "source": [
    "# 300인 이상의 기업\n",
    "big_company = df_IT.loc[(df_IT['가입자수'].notnull()) & (df_IT['가입자수'] >= big )].sort_values(by='가입자수', ascending=False)\n",
    "big_company.head()"
   ]
  },
  {
   "cell_type": "code",
   "execution_count": null,
   "metadata": {
    "id": "FZO13QYf8U_Q"
   },
   "outputs": [],
   "source": [
    "small['가입자수'].isnull().sum()"
   ]
  },
  {
   "cell_type": "code",
   "execution_count": null,
   "metadata": {
    "id": "GrFH7YAF8U_S"
   },
   "outputs": [],
   "source": [
    "plt.figure(figsize=(10, 7))\n",
    "sns.distplot(small['가입자수'])\n",
    "plt.title('가입자', fontsize=18)\n",
    "plt.show()"
   ]
  },
  {
   "cell_type": "code",
   "execution_count": null,
   "metadata": {
    "id": "qd-mecMp8U_V"
   },
   "outputs": [],
   "source": [
    "small.sort_values(by='상실', ascending=False)"
   ]
  },
  {
   "cell_type": "markdown",
   "metadata": {
    "id": "CjVf-1Hs8U_Z"
   },
   "source": [
    "## 사업장명 데이터 정제 (Cleansing)"
   ]
  },
  {
   "cell_type": "code",
   "execution_count": 101,
   "metadata": {
    "id": "i6CVRGvD8U_Z"
   },
   "outputs": [],
   "source": [
    "import re\n",
    "\n",
    "# 괄호안 문자열 제거\n",
    "pattern_1 = '\\(.*\\)'\n",
    "pattern_2 = '\\（.*\\）'\n",
    "pattern_3 = '주식회사'"
   ]
  },
  {
   "cell_type": "markdown",
   "metadata": {
    "id": "9RnnHjbi8U_b"
   },
   "source": [
    "\n",
    "\n",
    "### (주), (주식회사) 문자열 제거"
   ]
  },
  {
   "cell_type": "code",
   "execution_count": null,
   "metadata": {
    "id": "d8gEdUbm8U_c"
   },
   "outputs": [],
   "source": [
    "re.sub(pattern_1, '', '브레인크루(주)')"
   ]
  },
  {
   "cell_type": "code",
   "execution_count": null,
   "metadata": {
    "id": "KnifkYax8U_f"
   },
   "outputs": [],
   "source": [
    "re.sub(pattern_1, '', '브레인크루(주식회사)')"
   ]
  },
  {
   "cell_type": "code",
   "execution_count": null,
   "metadata": {
    "id": "mqZ4izHy8U_j"
   },
   "outputs": [],
   "source": [
    "re.sub(pattern_1, '', '(주)브레인크루')"
   ]
  },
  {
   "cell_type": "code",
   "execution_count": null,
   "metadata": {
    "id": "uMoIBqYC8U_n"
   },
   "outputs": [],
   "source": [
    "re.sub(pattern_2, '', '（주）타워홀딩스')"
   ]
  },
  {
   "cell_type": "markdown",
   "metadata": {
    "id": "L9DsUzHD8U_r"
   },
   "source": [
    "### 주식회사 문자열 제거"
   ]
  },
  {
   "cell_type": "code",
   "execution_count": null,
   "metadata": {
    "id": "5AtZNYaS8U_s"
   },
   "outputs": [],
   "source": [
    "re.sub(pattern_2, '', '브레인크루 주식회사')"
   ]
  },
  {
   "cell_type": "code",
   "execution_count": null,
   "metadata": {
    "id": "MD9z_n0-8U_w"
   },
   "outputs": [],
   "source": [
    "re.sub(pattern_2, '', '브레인크루주식회사')"
   ]
  },
  {
   "cell_type": "code",
   "execution_count": null,
   "metadata": {
    "id": "JGmvrv218U_1"
   },
   "outputs": [],
   "source": [
    "re.sub(pattern_2, '', '주식회사브레인크루주식회사')"
   ]
  },
  {
   "cell_type": "code",
   "execution_count": 102,
   "metadata": {
    "id": "7-Nckyp48U_5"
   },
   "outputs": [],
   "source": [
    "def text_preprocess(text):\n",
    "    text = re.sub(pattern_1, '', text)\n",
    "    text = re.sub(pattern_2, '', text)\n",
    "    text = re.sub(pattern_3, '', text)\n",
    "    return text"
   ]
  },
  {
   "cell_type": "code",
   "execution_count": null,
   "metadata": {
    "id": "-rU8N5BN8U_9"
   },
   "outputs": [],
   "source": [
    "df_main['사업장명'] = df_main['사업장명'].apply(text_preprocess)"
   ]
  },
  {
   "cell_type": "code",
   "execution_count": null,
   "metadata": {
    "id": "SfjDB2M48VAA"
   },
   "outputs": [],
   "source": [
    "df_main[df_main['사업장명'] == '패스트캠퍼스']"
   ]
  },
  {
   "cell_type": "code",
   "execution_count": 105,
   "metadata": {
    "id": "E0UmxFU38VAF"
   },
   "outputs": [],
   "source": [
    "df['사업장명'] = df['사업장명'].apply(text_preprocess)"
   ]
  },
  {
   "cell_type": "code",
   "execution_count": 104,
   "metadata": {
    "id": "yOzQGKv7iVr7"
   },
   "outputs": [],
   "source": [
    "df_IT['사업장명'] = df_IT['사업장명'].apply(text_preprocess)"
   ]
  },
  {
   "cell_type": "code",
   "execution_count": null,
   "metadata": {
    "id": "1BzSBokx8VAK"
   },
   "outputs": [],
   "source": [
    "df.columns"
   ]
  },
  {
   "cell_type": "markdown",
   "metadata": {
    "id": "GdZE2kALXbSu"
   },
   "source": [
    "## 시군구별 확인"
   ]
  },
  {
   "cell_type": "code",
   "execution_count": 80,
   "metadata": {
    "colab": {
     "base_uri": "https://localhost:8080/",
     "height": 204
    },
    "id": "lpAbIkRSXwtL",
    "outputId": "ccea8429-f578-4043-cca8-233ee51a5f90"
   },
   "outputs": [
    {
     "data": {
      "text/html": [
       "<div>\n",
       "<style scoped>\n",
       "    .dataframe tbody tr th:only-of-type {\n",
       "        vertical-align: middle;\n",
       "    }\n",
       "\n",
       "    .dataframe tbody tr th {\n",
       "        vertical-align: top;\n",
       "    }\n",
       "\n",
       "    .dataframe thead th {\n",
       "        text-align: right;\n",
       "    }\n",
       "</style>\n",
       "<table border=\"1\" class=\"dataframe\">\n",
       "  <thead>\n",
       "    <tr style=\"text-align: right;\">\n",
       "      <th></th>\n",
       "      <th>시도코드</th>\n",
       "      <th>시도명칭</th>\n",
       "      <th>시군구코드</th>\n",
       "      <th>시군구명칭</th>\n",
       "      <th>읍면동코드</th>\n",
       "      <th>읍면동명칭</th>\n",
       "    </tr>\n",
       "  </thead>\n",
       "  <tbody>\n",
       "    <tr>\n",
       "      <th>0</th>\n",
       "      <td>11</td>\n",
       "      <td>서울특별시</td>\n",
       "      <td>11010</td>\n",
       "      <td>종로구</td>\n",
       "      <td>1101053</td>\n",
       "      <td>사직동</td>\n",
       "    </tr>\n",
       "    <tr>\n",
       "      <th>1</th>\n",
       "      <td>11</td>\n",
       "      <td>서울특별시</td>\n",
       "      <td>11010</td>\n",
       "      <td>종로구</td>\n",
       "      <td>1101054</td>\n",
       "      <td>삼청동</td>\n",
       "    </tr>\n",
       "    <tr>\n",
       "      <th>2</th>\n",
       "      <td>11</td>\n",
       "      <td>서울특별시</td>\n",
       "      <td>11010</td>\n",
       "      <td>종로구</td>\n",
       "      <td>1101055</td>\n",
       "      <td>부암동</td>\n",
       "    </tr>\n",
       "    <tr>\n",
       "      <th>3</th>\n",
       "      <td>11</td>\n",
       "      <td>서울특별시</td>\n",
       "      <td>11010</td>\n",
       "      <td>종로구</td>\n",
       "      <td>1101056</td>\n",
       "      <td>평창동</td>\n",
       "    </tr>\n",
       "    <tr>\n",
       "      <th>4</th>\n",
       "      <td>11</td>\n",
       "      <td>서울특별시</td>\n",
       "      <td>11010</td>\n",
       "      <td>종로구</td>\n",
       "      <td>1101057</td>\n",
       "      <td>무악동</td>\n",
       "    </tr>\n",
       "  </tbody>\n",
       "</table>\n",
       "</div>"
      ],
      "text/plain": [
       "   시도코드   시도명칭  시군구코드 시군구명칭    읍면동코드 읍면동명칭\n",
       "0    11  서울특별시  11010   종로구  1101053   사직동\n",
       "1    11  서울특별시  11010   종로구  1101054   삼청동\n",
       "2    11  서울특별시  11010   종로구  1101055   부암동\n",
       "3    11  서울특별시  11010   종로구  1101056   평창동\n",
       "4    11  서울특별시  11010   종로구  1101057   무악동"
      ]
     },
     "execution_count": 80,
     "metadata": {
      "tags": []
     },
     "output_type": "execute_result"
    }
   ],
   "source": [
    "# 신군구정보 \n",
    "url = \"http://sgis.kostat.go.kr/OpenAPI2/upload/unitarea_code.xls\"\n",
    "df_postal = pd.read_excel(url,skiprows=1)\n",
    "df_postal.head()"
   ]
  },
  {
   "cell_type": "code",
   "execution_count": 72,
   "metadata": {
    "colab": {
     "base_uri": "https://localhost:8080/",
     "height": 399
    },
    "id": "Gio5J1od8VAO",
    "outputId": "9555fc44-8d01-4c2b-fcb9-635b3ac2f0b6"
   },
   "outputs": [
    {
     "data": {
      "image/png": "[encoded data removed]",
      "text/plain": [
       "<Figure size 1152x432 with 1 Axes>"
      ]
     },
     "metadata": {
      "needs_background": "light",
      "tags": []
     },
     "output_type": "display_data"
    }
   ],
   "source": [
    "plt.figure(figsize=(16, 6))\n",
    "sns.barplot(x=df_IT.groupby('시군구코드')['가입자수'].mean().index, y=df_IT.groupby('시군구코드')['가입자수'].mean())\n",
    "plt.title('시군구 별 가입자수')\n",
    "plt.xticks(rotation=90)\n",
    "plt.show()"
   ]
  },
  {
   "cell_type": "code",
   "execution_count": 73,
   "metadata": {
    "colab": {
     "base_uri": "https://localhost:8080/",
     "height": 402
    },
    "id": "lq-8XZZs8VAR",
    "outputId": "3352bad2-a67d-4354-e9ce-ba375a697efa"
   },
   "outputs": [
    {
     "data": {
      "image/png": "[encoded data removed]",
      "text/plain": [
       "<Figure size 1152x432 with 1 Axes>"
      ]
     },
     "metadata": {
      "needs_background": "light",
      "tags": []
     },
     "output_type": "display_data"
    }
   ],
   "source": [
    "plt.figure(figsize=(16, 6))\n",
    "sns.barplot(x=df_IT.groupby('시군구코드')['신규'].mean().index, y=df_IT.groupby('시군구코드')['신규'].mean())\n",
    "plt.title('시군구 별 신규인력')\n",
    "plt.xticks(rotation=90)\n",
    "plt.show()"
   ]
  },
  {
   "cell_type": "code",
   "execution_count": 74,
   "metadata": {
    "colab": {
     "base_uri": "https://localhost:8080/",
     "height": 402
    },
    "id": "XWc6qRuY8VAV",
    "outputId": "7cbdff7e-5e0a-416e-e053-41045ab234ae"
   },
   "outputs": [
    {
     "data": {
      "image/png": "[encoded data removed]",
      "text/plain": [
       "<Figure size 1152x432 with 1 Axes>"
      ]
     },
     "metadata": {
      "needs_background": "light",
      "tags": []
     },
     "output_type": "display_data"
    }
   ],
   "source": [
    "plt.figure(figsize=(16, 6))\n",
    "sns.barplot(x=df_IT.groupby('시군구코드')['상실'].mean().index, y=df_IT.groupby('시군구코드')['상실'].mean())\n",
    "plt.title('시군구 별 신규인력')\n",
    "plt.xticks(rotation=90)\n",
    "plt.show()"
   ]
  },
  {
   "cell_type": "code",
   "execution_count": null,
   "metadata": {
    "id": "BhYZKLUa8VAb"
   },
   "outputs": [],
   "source": [
    "df.head()"
   ]
  },
  {
   "cell_type": "markdown",
   "metadata": {
    "id": "IG9zpmLo8VAf"
   },
   "source": [
    "### 신규 인력이 많은 시군구코드"
   ]
  },
  {
   "cell_type": "markdown",
   "metadata": {
    "id": "XU-13AdD8VAg"
   },
   "source": [
    "**경기도 평택시**에서 최근 국민연금 가입자 신규인력이 가장 많이 발생했음\n",
    "\n",
    "주로 건축 인력 혹은 건설사 인력들이 신규로 편입되면서 국민연금 가입자 발생이 가장 많이 일어난 것으로 집계 됐다."
   ]
  },
  {
   "cell_type": "code",
   "execution_count": 28,
   "metadata": {
    "colab": {
     "base_uri": "https://localhost:8080/",
     "height": 49
    },
    "id": "_lnIQSfK8VAg",
    "outputId": "ab746106-652c-41ba-e6ed-baee32156939"
   },
   "outputs": [
    {
     "data": {
      "text/html": [
       "<div>\n",
       "<style scoped>\n",
       "    .dataframe tbody tr th:only-of-type {\n",
       "        vertical-align: middle;\n",
       "    }\n",
       "\n",
       "    .dataframe tbody tr th {\n",
       "        vertical-align: top;\n",
       "    }\n",
       "\n",
       "    .dataframe thead th {\n",
       "        text-align: right;\n",
       "    }\n",
       "</style>\n",
       "<table border=\"1\" class=\"dataframe\">\n",
       "  <thead>\n",
       "    <tr style=\"text-align: right;\">\n",
       "      <th></th>\n",
       "      <th>사업장명</th>\n",
       "      <th>지번주소</th>\n",
       "      <th>신규</th>\n",
       "    </tr>\n",
       "  </thead>\n",
       "  <tbody>\n",
       "  </tbody>\n",
       "</table>\n",
       "</div>"
      ],
      "text/plain": [
       "Empty DataFrame\n",
       "Columns: [사업장명, 지번주소, 신규]\n",
       "Index: []"
      ]
     },
     "execution_count": 28,
     "metadata": {
      "tags": []
     },
     "output_type": "execute_result"
    }
   ],
   "source": [
    "df.loc[df['시군구코드'] == 280][['사업장명','지번주소','신규']].sort_values(by='신규', ascending=False).head(20)"
   ]
  },
  {
   "cell_type": "markdown",
   "metadata": {
    "id": "TbV0YKod8VAm"
   },
   "source": [
    "**모두투어네트워크**에서 가장 많은 상실 인력이 발생했다.\n",
    "\n",
    "스타브벅스커피코리아(주) 및 콜센터 및 상담업체 (주)메낱넷엠플랫폼,(주)삼구아이씨_인력소싱업체 주로 IT업종에서 대면서비스가 이루어지는 업종인 경우에는 실직자가 다량으로 발생한것으로 보인다."
   ]
  },
  {
   "cell_type": "code",
   "execution_count": null,
   "metadata": {
    "colab": {
     "base_uri": "https://localhost:8080/",
     "height": 669
    },
    "id": "rRmifX2S8VAm",
    "outputId": "f17189aa-edbe-4a17-ad39-0735811a318b"
   },
   "outputs": [
    {
     "data": {
      "text/html": [
       "<div>\n",
       "<style scoped>\n",
       "    .dataframe tbody tr th:only-of-type {\n",
       "        vertical-align: middle;\n",
       "    }\n",
       "\n",
       "    .dataframe tbody tr th {\n",
       "        vertical-align: top;\n",
       "    }\n",
       "\n",
       "    .dataframe thead th {\n",
       "        text-align: right;\n",
       "    }\n",
       "</style>\n",
       "<table border=\"1\" class=\"dataframe\">\n",
       "  <thead>\n",
       "    <tr style=\"text-align: right;\">\n",
       "      <th></th>\n",
       "      <th>사업장명</th>\n",
       "      <th>지번주소</th>\n",
       "      <th>상실</th>\n",
       "    </tr>\n",
       "  </thead>\n",
       "  <tbody>\n",
       "    <tr>\n",
       "      <th>4519</th>\n",
       "      <td>(주)모두투어네트워크</td>\n",
       "      <td>서울특별시 중구 을지로1가</td>\n",
       "      <td>760</td>\n",
       "    </tr>\n",
       "    <tr>\n",
       "      <th>5288</th>\n",
       "      <td>스타벅스커피코리아(주)</td>\n",
       "      <td>서울특별시 중구 소공동</td>\n",
       "      <td>518</td>\n",
       "    </tr>\n",
       "    <tr>\n",
       "      <th>7289</th>\n",
       "      <td>(주)메타넷엠플랫폼</td>\n",
       "      <td>서울특별시 중구 충무로2가</td>\n",
       "      <td>358</td>\n",
       "    </tr>\n",
       "    <tr>\n",
       "      <th>358</th>\n",
       "      <td>(주)삼구아이앤씨</td>\n",
       "      <td>서울특별시 중구 수표동</td>\n",
       "      <td>338</td>\n",
       "    </tr>\n",
       "    <tr>\n",
       "      <th>503301</th>\n",
       "      <td>동구청/경제지원과/방역 및 기타</td>\n",
       "      <td>대구광역시 동구 신암동</td>\n",
       "      <td>236</td>\n",
       "    </tr>\n",
       "    <tr>\n",
       "      <th>97612</th>\n",
       "      <td>씨제이제일제당（주）</td>\n",
       "      <td>서울특별시 중구 쌍림동</td>\n",
       "      <td>204</td>\n",
       "    </tr>\n",
       "    <tr>\n",
       "      <th>3471</th>\n",
       "      <td>중소기업은행</td>\n",
       "      <td>서울특별시 중구 을지로2가</td>\n",
       "      <td>192</td>\n",
       "    </tr>\n",
       "    <tr>\n",
       "      <th>220405</th>\n",
       "      <td>농협은행주식회사</td>\n",
       "      <td>서울특별시 중구 충정로1가</td>\n",
       "      <td>186</td>\n",
       "    </tr>\n",
       "    <tr>\n",
       "      <th>61748</th>\n",
       "      <td>(주)한국코퍼레이션</td>\n",
       "      <td>서울특별시 중구 남대문로5가</td>\n",
       "      <td>184</td>\n",
       "    </tr>\n",
       "    <tr>\n",
       "      <th>3567</th>\n",
       "      <td>(주)신한은행</td>\n",
       "      <td>서울특별시 중구 태평로2가</td>\n",
       "      <td>171</td>\n",
       "    </tr>\n",
       "    <tr>\n",
       "      <th>6901</th>\n",
       "      <td>코리아세븐(주)</td>\n",
       "      <td>서울특별시 중구 수표동</td>\n",
       "      <td>168</td>\n",
       "    </tr>\n",
       "    <tr>\n",
       "      <th>83997</th>\n",
       "      <td>씨제이엠디원주식회사</td>\n",
       "      <td>서울특별시 중구 쌍림동</td>\n",
       "      <td>168</td>\n",
       "    </tr>\n",
       "    <tr>\n",
       "      <th>9893</th>\n",
       "      <td>CJ푸드빌(주)</td>\n",
       "      <td>서울특별시 중구 초동</td>\n",
       "      <td>153</td>\n",
       "    </tr>\n",
       "    <tr>\n",
       "      <th>3352</th>\n",
       "      <td>롯데쇼핑(주)</td>\n",
       "      <td>서울특별시 중구 소공동</td>\n",
       "      <td>144</td>\n",
       "    </tr>\n",
       "    <tr>\n",
       "      <th>70880</th>\n",
       "      <td>(주)키스템프그룹</td>\n",
       "      <td>서울특별시 중구 을지로2가</td>\n",
       "      <td>141</td>\n",
       "    </tr>\n",
       "    <tr>\n",
       "      <th>36120</th>\n",
       "      <td>동구청 경제과 공공근로사업</td>\n",
       "      <td>대구광역시 동구 신암동</td>\n",
       "      <td>137</td>\n",
       "    </tr>\n",
       "    <tr>\n",
       "      <th>384498</th>\n",
       "      <td>투썸플레이스주식회사(스탭)</td>\n",
       "      <td>서울특별시 중구 을지로4가</td>\n",
       "      <td>133</td>\n",
       "    </tr>\n",
       "    <tr>\n",
       "      <th>186053</th>\n",
       "      <td>（주）타이드스퀘어</td>\n",
       "      <td>서울특별시 중구 수표동</td>\n",
       "      <td>116</td>\n",
       "    </tr>\n",
       "    <tr>\n",
       "      <th>8481</th>\n",
       "      <td>SK 엠앤서비스(주)</td>\n",
       "      <td>서울특별시 중구 흥인동</td>\n",
       "      <td>112</td>\n",
       "    </tr>\n",
       "    <tr>\n",
       "      <th>373363</th>\n",
       "      <td>(주)키스템프엠엔씨에스</td>\n",
       "      <td>서울특별시 중구 을지로2가</td>\n",
       "      <td>98</td>\n",
       "    </tr>\n",
       "  </tbody>\n",
       "</table>\n",
       "</div>"
      ],
      "text/plain": [
       "                     사업장명             지번주소   상실\n",
       "4519          (주)모두투어네트워크   서울특별시 중구 을지로1가  760\n",
       "5288         스타벅스커피코리아(주)     서울특별시 중구 소공동  518\n",
       "7289           (주)메타넷엠플랫폼   서울특별시 중구 충무로2가  358\n",
       "358             (주)삼구아이앤씨     서울특별시 중구 수표동  338\n",
       "503301  동구청/경제지원과/방역 및 기타     대구광역시 동구 신암동  236\n",
       "97612          씨제이제일제당（주）     서울특별시 중구 쌍림동  204\n",
       "3471               중소기업은행   서울특별시 중구 을지로2가  192\n",
       "220405           농협은행주식회사   서울특별시 중구 충정로1가  186\n",
       "61748          (주)한국코퍼레이션  서울특별시 중구 남대문로5가  184\n",
       "3567              (주)신한은행   서울특별시 중구 태평로2가  171\n",
       "6901             코리아세븐(주)     서울특별시 중구 수표동  168\n",
       "83997          씨제이엠디원주식회사     서울특별시 중구 쌍림동  168\n",
       "9893             CJ푸드빌(주)      서울특별시 중구 초동  153\n",
       "3352              롯데쇼핑(주)     서울특별시 중구 소공동  144\n",
       "70880           (주)키스템프그룹   서울특별시 중구 을지로2가  141\n",
       "36120      동구청 경제과 공공근로사업     대구광역시 동구 신암동  137\n",
       "384498     투썸플레이스주식회사(스탭)   서울특별시 중구 을지로4가  133\n",
       "186053          （주）타이드스퀘어     서울특별시 중구 수표동  116\n",
       "8481          SK 엠앤서비스(주)     서울특별시 중구 흥인동  112\n",
       "373363       (주)키스템프엠엔씨에스   서울특별시 중구 을지로2가   98"
      ]
     },
     "execution_count": 57,
     "metadata": {
      "tags": []
     },
     "output_type": "execute_result"
    }
   ],
   "source": [
    "df.loc[df['시군구코드'] == 140][['사업장명','지번주소','상실']].sort_values(by='상실', ascending=False).head(20)"
   ]
  },
  {
   "cell_type": "markdown",
   "metadata": {
    "id": "WXyt6Pcv8VAp"
   },
   "source": [
    "## IT업종별 신규/상실 인력 현황"
   ]
  },
  {
   "cell_type": "code",
   "execution_count": null,
   "metadata": {
    "colab": {
     "base_uri": "https://localhost:8080/",
     "height": 425
    },
    "id": "XgQGMChI8VAq",
    "outputId": "972ac39f-ee58-4a21-9f38-e0a3141740e6"
   },
   "outputs": [
    {
     "data": {
      "text/plain": [
       "업종코드명\n",
       "공영 우편업                      0.82\n",
       "그 외 기타 전기 통신업               0.47\n",
       "그 외 기타 정보 서비스업              0.94\n",
       "기타 게임 소프트웨어 개발 및 공급업        1.00\n",
       "기타 정보 기술 및 컴퓨터 운영 관련 서비스업   1.35\n",
       "뉴스 제공업                      0.67\n",
       "데이터베이스 및 온라인 정보 제공업         1.72\n",
       "모바일 게임 소프트웨어 개발 및 공급업       1.41\n",
       "무선 및 위성 통신업                 4.69\n",
       "시스템 소프트웨어 개발 및 공급업          0.89\n",
       "유선 온라인 게임 소프트웨어 개발 및 공급업    3.03\n",
       "유선 통신업                      0.33\n",
       "응용 소프트웨어 개발 및 공급업           0.79\n",
       "자료 처리업                      4.21\n",
       "컴퓨터 및 주변 기기 수리업             0.92\n",
       "컴퓨터 시스템 통합 자문 및 구축 서비스업     0.76\n",
       "컴퓨터 프로그래밍 서비스업              0.77\n",
       "컴퓨터시설 관리업                   0.86\n",
       "택배업                         0.44\n",
       "통신 재판매업                     0.92\n",
       "포털 및 기타 인터넷 정보 매개 서비스업      0.66\n",
       "호스팅 및 관련 서비스업               0.00\n",
       "Name: 신규, dtype: float64"
      ]
     },
     "execution_count": 60,
     "metadata": {
      "tags": []
     },
     "output_type": "execute_result"
    }
   ],
   "source": [
    "df_IT.groupby('업종코드명')['신규'].mean()"
   ]
  },
  {
   "cell_type": "code",
   "execution_count": null,
   "metadata": {
    "id": "qCGDmekT8VAt"
   },
   "outputs": [],
   "source": [
    "df_1 =df_IT.groupby('업종코드명')['신규'].mean()"
   ]
  },
  {
   "cell_type": "code",
   "execution_count": null,
   "metadata": {
    "colab": {
     "base_uri": "https://localhost:8080/",
     "height": 425
    },
    "id": "Kn-5pGuaqXls",
    "outputId": "7935fe34-a079-43a5-f23b-bfac64556e38"
   },
   "outputs": [
    {
     "data": {
      "text/plain": [
       "업종코드명\n",
       "공영 우편업                      0.94\n",
       "그 외 기타 전기 통신업               0.44\n",
       "그 외 기타 정보 서비스업              0.22\n",
       "기타 게임 소프트웨어 개발 및 공급업        0.55\n",
       "기타 정보 기술 및 컴퓨터 운영 관련 서비스업   0.59\n",
       "뉴스 제공업                      0.75\n",
       "데이터베이스 및 온라인 정보 제공업         1.44\n",
       "모바일 게임 소프트웨어 개발 및 공급업       0.12\n",
       "무선 및 위성 통신업                 5.86\n",
       "시스템 소프트웨어 개발 및 공급업          0.26\n",
       "유선 온라인 게임 소프트웨어 개발 및 공급업    0.23\n",
       "유선 통신업                      0.33\n",
       "응용 소프트웨어 개발 및 공급업           0.62\n",
       "자료 처리업                      1.99\n",
       "컴퓨터 및 주변 기기 수리업             1.17\n",
       "컴퓨터 시스템 통합 자문 및 구축 서비스업     0.48\n",
       "컴퓨터 프로그래밍 서비스업              0.32\n",
       "컴퓨터시설 관리업                   0.14\n",
       "택배업                         0.24\n",
       "통신 재판매업                     0.99\n",
       "포털 및 기타 인터넷 정보 매개 서비스업      0.56\n",
       "호스팅 및 관련 서비스업               0.00\n",
       "Name: 상실, dtype: float64"
      ]
     },
     "execution_count": 73,
     "metadata": {
      "tags": []
     },
     "output_type": "execute_result"
    }
   ],
   "source": [
    "df_2 =df_IT.groupby('업종코드명')['상실'].mean()"
   ]
  },
  {
   "cell_type": "code",
   "execution_count": null,
   "metadata": {
    "colab": {
     "base_uri": "https://localhost:8080/",
     "height": 34
    },
    "id": "jhv_P8kP8VAx",
    "outputId": "87ab2ef9-2a9e-4b03-effd-803833304f1a"
   },
   "outputs": [
    {
     "data": {
      "text/plain": [
       "22"
      ]
     },
     "execution_count": 63,
     "metadata": {
      "tags": []
     },
     "output_type": "execute_result"
    }
   ],
   "source": [
    "df_1.sort_values(ascending=False).count()"
   ]
  },
  {
   "cell_type": "code",
   "execution_count": null,
   "metadata": {
    "colab": {
     "base_uri": "https://localhost:8080/",
     "height": 34
    },
    "id": "DYHwR2Qyqfkv",
    "outputId": "b2c29c06-a114-47dd-f964-d25d06472070"
   },
   "outputs": [
    {
     "data": {
      "text/plain": [
       "22"
      ]
     },
     "execution_count": 64,
     "metadata": {
      "tags": []
     },
     "output_type": "execute_result"
    }
   ],
   "source": [
    "df_2.sort_values(ascending=False).count()"
   ]
  },
  {
   "cell_type": "markdown",
   "metadata": {
    "id": "BPSlxGsa8VA2"
   },
   "source": [
    "상위 50 개 **업종** 출력하도록 하겠습니다."
   ]
  },
  {
   "cell_type": "code",
   "execution_count": null,
   "metadata": {
    "colab": {
     "base_uri": "https://localhost:8080/",
     "height": 425
    },
    "id": "4jTZ2WuD8VA2",
    "outputId": "1a3a8c0a-4a47-4db9-8998-61d00163d7cb"
   },
   "outputs": [
    {
     "data": {
      "text/plain": [
       "업종코드명\n",
       "무선 및 위성 통신업                 4.69\n",
       "자료 처리업                      4.21\n",
       "유선 온라인 게임 소프트웨어 개발 및 공급업    3.03\n",
       "데이터베이스 및 온라인 정보 제공업         1.72\n",
       "모바일 게임 소프트웨어 개발 및 공급업       1.41\n",
       "기타 정보 기술 및 컴퓨터 운영 관련 서비스업   1.35\n",
       "기타 게임 소프트웨어 개발 및 공급업        1.00\n",
       "그 외 기타 정보 서비스업              0.94\n",
       "컴퓨터 및 주변 기기 수리업             0.92\n",
       "통신 재판매업                     0.92\n",
       "시스템 소프트웨어 개발 및 공급업          0.89\n",
       "컴퓨터시설 관리업                   0.86\n",
       "공영 우편업                      0.82\n",
       "응용 소프트웨어 개발 및 공급업           0.79\n",
       "컴퓨터 프로그래밍 서비스업              0.77\n",
       "컴퓨터 시스템 통합 자문 및 구축 서비스업     0.76\n",
       "뉴스 제공업                      0.67\n",
       "포털 및 기타 인터넷 정보 매개 서비스업      0.66\n",
       "그 외 기타 전기 통신업               0.47\n",
       "택배업                         0.44\n",
       "유선 통신업                      0.33\n",
       "호스팅 및 관련 서비스업               0.00\n",
       "Name: 신규, dtype: float64"
      ]
     },
     "execution_count": 65,
     "metadata": {
      "tags": []
     },
     "output_type": "execute_result"
    }
   ],
   "source": [
    "df_top100 = df_1.sort_values(ascending=False).head(50)\n",
    "df_top100"
   ]
  },
  {
   "cell_type": "code",
   "execution_count": null,
   "metadata": {
    "colab": {
     "base_uri": "https://localhost:8080/",
     "height": 569
    },
    "id": "b6tzCMTS8VA4",
    "outputId": "8189325d-b4e9-447c-c9a3-c28362e5560e"
   },
   "outputs": [
    {
     "data": {
      "image/png": "[encoded data removed]",
      "text/plain": [
       "<Figure size 1152x432 with 1 Axes>"
      ]
     },
     "metadata": {
      "needs_background": "light",
      "tags": []
     },
     "output_type": "display_data"
    }
   ],
   "source": [
    "plt.figure(figsize=(16, 6))\n",
    "sns.barplot(x=df_top100.index, y=df_top100)\n",
    "plt.title('IT직종별 신규인력')\n",
    "plt.xticks(rotation=90)\n",
    "plt.show()"
   ]
  },
  {
   "cell_type": "markdown",
   "metadata": {
    "id": "Fb2FYz1B8VA8"
   },
   "source": [
    "- 전반적으로 IT업종도 채용이 `**전반적으로 흐림**`이라는 표현이 적절해 보임.\n",
    "- 신규채용인력이 비대면으로 이루어지는 분야에 집중되어 있는 부분도 눈에 보인다.(무선및 위성통신업, 자료처리업,게임개발)\n",
    "- 택배업도 상위 50에 들어있는것이 확인"
   ]
  },
  {
   "cell_type": "code",
   "execution_count": null,
   "metadata": {
    "id": "q2_AGPwn8VA9"
   },
   "outputs": [],
   "source": [
    "df_2 = df_IT.groupby('업종코드명')['상실'].mean()"
   ]
  },
  {
   "cell_type": "code",
   "execution_count": null,
   "metadata": {
    "colab": {
     "base_uri": "https://localhost:8080/",
     "height": 425
    },
    "id": "s3uFBRDu8VBC",
    "outputId": "57ad9360-ce98-40e0-e4d3-62285fc4d1a1"
   },
   "outputs": [
    {
     "data": {
      "text/plain": [
       "업종코드명\n",
       "무선 및 위성 통신업                 5.86\n",
       "자료 처리업                      1.99\n",
       "데이터베이스 및 온라인 정보 제공업         1.44\n",
       "컴퓨터 및 주변 기기 수리업             1.17\n",
       "통신 재판매업                     0.99\n",
       "공영 우편업                      0.94\n",
       "뉴스 제공업                      0.75\n",
       "응용 소프트웨어 개발 및 공급업           0.62\n",
       "기타 정보 기술 및 컴퓨터 운영 관련 서비스업   0.59\n",
       "포털 및 기타 인터넷 정보 매개 서비스업      0.56\n",
       "기타 게임 소프트웨어 개발 및 공급업        0.55\n",
       "컴퓨터 시스템 통합 자문 및 구축 서비스업     0.48\n",
       "그 외 기타 전기 통신업               0.44\n",
       "유선 통신업                      0.33\n",
       "컴퓨터 프로그래밍 서비스업              0.32\n",
       "시스템 소프트웨어 개발 및 공급업          0.26\n",
       "택배업                         0.24\n",
       "유선 온라인 게임 소프트웨어 개발 및 공급업    0.23\n",
       "그 외 기타 정보 서비스업              0.22\n",
       "컴퓨터시설 관리업                   0.14\n",
       "모바일 게임 소프트웨어 개발 및 공급업       0.12\n",
       "호스팅 및 관련 서비스업               0.00\n",
       "Name: 상실, dtype: float64"
      ]
     },
     "execution_count": 72,
     "metadata": {
      "tags": []
     },
     "output_type": "execute_result"
    }
   ],
   "source": [
    "df_bot100 = df_2.sort_values(ascending=False).head(50)\n"
   ]
  },
  {
   "cell_type": "code",
   "execution_count": null,
   "metadata": {
    "colab": {
     "base_uri": "https://localhost:8080/",
     "height": 569
    },
    "id": "bWMhaSFc8VBG",
    "outputId": "a313dc79-316e-4faf-b16f-47498de2fbcc"
   },
   "outputs": [
    {
     "data": {
      "image/png": "[encoded data removed]",
      "text/plain": [
       "<Figure size 1152x432 with 1 Axes>"
      ]
     },
     "metadata": {
      "needs_background": "light",
      "tags": []
     },
     "output_type": "display_data"
    }
   ],
   "source": [
    "plt.figure(figsize=(16, 6))\n",
    "sns.barplot(x=df_bot100.index, y=df_bot100)\n",
    "plt.title('IT업종별 상실인력')\n",
    "plt.xticks(rotation=90)\n",
    "plt.show()"
   ]
  },
  {
   "cell_type": "markdown",
   "metadata": {
    "id": "JeT1u5bH8VBK"
   },
   "source": [
    "업종별 상실 인력에 대한 **TOP 50 결과**입니다."
   ]
  },
  {
   "cell_type": "markdown",
   "metadata": {
    "id": "r3_atWHF8VBK"
   },
   "source": [
    "- 유선온라인 게임 소프트웨어개발 및 공급업의 경우엔 ,신규고용 창출에 비해 상실의 수치는 크지 않은것으로 보임\n",
    "- 신규고용 창출의 top인 무선 및 위성통신업종의 경우엔, 특이하게도 상실의 경우에도 Top임\n",
    "  - 유무선 기지국 건설 혹은 통신회선 설치로 인한 국민 연금 신규 및 상실이 대량으로 반복되는 구조인것으로 판단됨."
   ]
  },
  {
   "cell_type": "code",
   "execution_count": null,
   "metadata": {
    "colab": {
     "base_uri": "https://localhost:8080/",
     "height": 1000
    },
    "id": "sHxv0bnNyAly",
    "outputId": "827cb531-e777-4d60-dbb9-525d8421849d"
   },
   "outputs": [
    {
     "data": {
      "text/html": [
       "<div>\n",
       "<style scoped>\n",
       "    .dataframe tbody tr th:only-of-type {\n",
       "        vertical-align: middle;\n",
       "    }\n",
       "\n",
       "    .dataframe tbody tr th {\n",
       "        vertical-align: top;\n",
       "    }\n",
       "\n",
       "    .dataframe thead th {\n",
       "        text-align: right;\n",
       "    }\n",
       "</style>\n",
       "<table border=\"1\" class=\"dataframe\">\n",
       "  <thead>\n",
       "    <tr style=\"text-align: right;\">\n",
       "      <th></th>\n",
       "      <th>사업장명</th>\n",
       "      <th>업종코드명</th>\n",
       "      <th>신규</th>\n",
       "      <th>상실</th>\n",
       "      <th>고지금액</th>\n",
       "      <th>인당고지금액</th>\n",
       "    </tr>\n",
       "  </thead>\n",
       "  <tbody>\n",
       "    <tr>\n",
       "      <th>3479</th>\n",
       "      <td>케이티</td>\n",
       "      <td>무선 및 위성 통신업</td>\n",
       "      <td>15</td>\n",
       "      <td>76</td>\n",
       "      <td>9961182900</td>\n",
       "      <td>442188.61</td>\n",
       "    </tr>\n",
       "    <tr>\n",
       "      <th>3481</th>\n",
       "      <td>에스케이텔레콤</td>\n",
       "      <td>무선 및 위성 통신업</td>\n",
       "      <td>43</td>\n",
       "      <td>37</td>\n",
       "      <td>2400608900</td>\n",
       "      <td>440721.30</td>\n",
       "    </tr>\n",
       "    <tr>\n",
       "      <th>3579</th>\n",
       "      <td>케이티파워텔</td>\n",
       "      <td>무선 및 위성 통신업</td>\n",
       "      <td>1</td>\n",
       "      <td>0</td>\n",
       "      <td>63229120</td>\n",
       "      <td>448433.48</td>\n",
       "    </tr>\n",
       "    <tr>\n",
       "      <th>3932</th>\n",
       "      <td>케이디디아이코리아</td>\n",
       "      <td>무선 및 위성 통신업</td>\n",
       "      <td>3</td>\n",
       "      <td>1</td>\n",
       "      <td>20392060</td>\n",
       "      <td>351587.24</td>\n",
       "    </tr>\n",
       "    <tr>\n",
       "      <th>4451</th>\n",
       "      <td>케이티링커스</td>\n",
       "      <td>무선 및 위성 통신업</td>\n",
       "      <td>4</td>\n",
       "      <td>7</td>\n",
       "      <td>163318140</td>\n",
       "      <td>384277.98</td>\n",
       "    </tr>\n",
       "    <tr>\n",
       "      <th>4943</th>\n",
       "      <td>에스케이텔링크</td>\n",
       "      <td>무선 및 위성 통신업</td>\n",
       "      <td>0</td>\n",
       "      <td>0</td>\n",
       "      <td>91486520</td>\n",
       "      <td>444109.32</td>\n",
       "    </tr>\n",
       "    <tr>\n",
       "      <th>12843</th>\n",
       "      <td>케이티아이에스</td>\n",
       "      <td>무선 및 위성 통신업</td>\n",
       "      <td>199</td>\n",
       "      <td>225</td>\n",
       "      <td>1753229620</td>\n",
       "      <td>221955.90</td>\n",
       "    </tr>\n",
       "    <tr>\n",
       "      <th>13715</th>\n",
       "      <td>온산</td>\n",
       "      <td>무선 및 위성 통신업</td>\n",
       "      <td>0</td>\n",
       "      <td>0</td>\n",
       "      <td>2217960</td>\n",
       "      <td>277245.00</td>\n",
       "    </tr>\n",
       "    <tr>\n",
       "      <th>14747</th>\n",
       "      <td>인터콜</td>\n",
       "      <td>무선 및 위성 통신업</td>\n",
       "      <td>0</td>\n",
       "      <td>0</td>\n",
       "      <td>2591520</td>\n",
       "      <td>185108.57</td>\n",
       "    </tr>\n",
       "    <tr>\n",
       "      <th>22185</th>\n",
       "      <td>굿텔레콤</td>\n",
       "      <td>무선 및 위성 통신업</td>\n",
       "      <td>1</td>\n",
       "      <td>0</td>\n",
       "      <td>2326820</td>\n",
       "      <td>258535.56</td>\n",
       "    </tr>\n",
       "    <tr>\n",
       "      <th>32349</th>\n",
       "      <td>서울국제전화</td>\n",
       "      <td>무선 및 위성 통신업</td>\n",
       "      <td>0</td>\n",
       "      <td>0</td>\n",
       "      <td>3155940</td>\n",
       "      <td>450848.57</td>\n",
       "    </tr>\n",
       "    <tr>\n",
       "      <th>35652</th>\n",
       "      <td>엠프로미스</td>\n",
       "      <td>무선 및 위성 통신업</td>\n",
       "      <td>2</td>\n",
       "      <td>2</td>\n",
       "      <td>6257760</td>\n",
       "      <td>272076.52</td>\n",
       "    </tr>\n",
       "    <tr>\n",
       "      <th>39505</th>\n",
       "      <td>엘지유플러스</td>\n",
       "      <td>무선 및 위성 통신업</td>\n",
       "      <td>77</td>\n",
       "      <td>88</td>\n",
       "      <td>4142808860</td>\n",
       "      <td>405243.95</td>\n",
       "    </tr>\n",
       "    <tr>\n",
       "      <th>43303</th>\n",
       "      <td>대민방송네트워크</td>\n",
       "      <td>무선 및 위성 통신업</td>\n",
       "      <td>0</td>\n",
       "      <td>1</td>\n",
       "      <td>2859980</td>\n",
       "      <td>285998.00</td>\n",
       "    </tr>\n",
       "    <tr>\n",
       "      <th>53155</th>\n",
       "      <td>에쎈텍네트웍스</td>\n",
       "      <td>무선 및 위성 통신업</td>\n",
       "      <td>0</td>\n",
       "      <td>0</td>\n",
       "      <td>2829740</td>\n",
       "      <td>314415.56</td>\n",
       "    </tr>\n",
       "    <tr>\n",
       "      <th>54727</th>\n",
       "      <td></td>\n",
       "      <td>무선 및 위성 통신업</td>\n",
       "      <td>55</td>\n",
       "      <td>37</td>\n",
       "      <td>32443340</td>\n",
       "      <td>158260.20</td>\n",
       "    </tr>\n",
       "    <tr>\n",
       "      <th>67915</th>\n",
       "      <td>대성글로벌네트웍</td>\n",
       "      <td>무선 및 위성 통신업</td>\n",
       "      <td>0</td>\n",
       "      <td>0</td>\n",
       "      <td>1363400</td>\n",
       "      <td>340850.00</td>\n",
       "    </tr>\n",
       "    <tr>\n",
       "      <th>69679</th>\n",
       "      <td>다인커머스</td>\n",
       "      <td>무선 및 위성 통신업</td>\n",
       "      <td>0</td>\n",
       "      <td>0</td>\n",
       "      <td>1845880</td>\n",
       "      <td>230735.00</td>\n",
       "    </tr>\n",
       "    <tr>\n",
       "      <th>74311</th>\n",
       "      <td>광전기통신</td>\n",
       "      <td>무선 및 위성 통신업</td>\n",
       "      <td>0</td>\n",
       "      <td>0</td>\n",
       "      <td>1297060</td>\n",
       "      <td>324265.00</td>\n",
       "    </tr>\n",
       "    <tr>\n",
       "      <th>76787</th>\n",
       "      <td>넷케이티아이</td>\n",
       "      <td>무선 및 위성 통신업</td>\n",
       "      <td>6</td>\n",
       "      <td>6</td>\n",
       "      <td>55806200</td>\n",
       "      <td>301655.14</td>\n",
       "    </tr>\n",
       "    <tr>\n",
       "      <th>79990</th>\n",
       "      <td>유비퍼스트대원</td>\n",
       "      <td>무선 및 위성 통신업</td>\n",
       "      <td>0</td>\n",
       "      <td>0</td>\n",
       "      <td>13487880</td>\n",
       "      <td>293214.78</td>\n",
       "    </tr>\n",
       "    <tr>\n",
       "      <th>87141</th>\n",
       "      <td>한국전파기지국</td>\n",
       "      <td>무선 및 위성 통신업</td>\n",
       "      <td>2</td>\n",
       "      <td>0</td>\n",
       "      <td>31332720</td>\n",
       "      <td>319721.63</td>\n",
       "    </tr>\n",
       "    <tr>\n",
       "      <th>87398</th>\n",
       "      <td>SK브로드밴드</td>\n",
       "      <td>무선 및 위성 통신업</td>\n",
       "      <td>7</td>\n",
       "      <td>7</td>\n",
       "      <td>1029701300</td>\n",
       "      <td>434473.12</td>\n",
       "    </tr>\n",
       "    <tr>\n",
       "      <th>123460</th>\n",
       "      <td>남양정보기술</td>\n",
       "      <td>무선 및 위성 통신업</td>\n",
       "      <td>1</td>\n",
       "      <td>0</td>\n",
       "      <td>1256560</td>\n",
       "      <td>251312.00</td>\n",
       "    </tr>\n",
       "    <tr>\n",
       "      <th>148687</th>\n",
       "      <td>피에스앤마케팅</td>\n",
       "      <td>무선 및 위성 통신업</td>\n",
       "      <td>10</td>\n",
       "      <td>44</td>\n",
       "      <td>636596680</td>\n",
       "      <td>288444.35</td>\n",
       "    </tr>\n",
       "    <tr>\n",
       "      <th>172537</th>\n",
       "      <td>세종텔레콤</td>\n",
       "      <td>무선 및 위성 통신업</td>\n",
       "      <td>3</td>\n",
       "      <td>2</td>\n",
       "      <td>125928060</td>\n",
       "      <td>402326.07</td>\n",
       "    </tr>\n",
       "    <tr>\n",
       "      <th>179527</th>\n",
       "      <td>파워비스</td>\n",
       "      <td>무선 및 위성 통신업</td>\n",
       "      <td>0</td>\n",
       "      <td>2</td>\n",
       "      <td>1276700</td>\n",
       "      <td>159587.50</td>\n",
       "    </tr>\n",
       "    <tr>\n",
       "      <th>180252</th>\n",
       "      <td>제이넷통신</td>\n",
       "      <td>무선 및 위성 통신업</td>\n",
       "      <td>0</td>\n",
       "      <td>0</td>\n",
       "      <td>6785420</td>\n",
       "      <td>242336.43</td>\n",
       "    </tr>\n",
       "    <tr>\n",
       "      <th>183728</th>\n",
       "      <td>비에스아이티</td>\n",
       "      <td>무선 및 위성 통신업</td>\n",
       "      <td>0</td>\n",
       "      <td>0</td>\n",
       "      <td>2294700</td>\n",
       "      <td>229470.00</td>\n",
       "    </tr>\n",
       "    <tr>\n",
       "      <th>191959</th>\n",
       "      <td>에스와이텔레콤</td>\n",
       "      <td>무선 및 위성 통신업</td>\n",
       "      <td>0</td>\n",
       "      <td>0</td>\n",
       "      <td>1206420</td>\n",
       "      <td>301605.00</td>\n",
       "    </tr>\n",
       "    <tr>\n",
       "      <th>198881</th>\n",
       "      <td>넥스이노</td>\n",
       "      <td>무선 및 위성 통신업</td>\n",
       "      <td>0</td>\n",
       "      <td>0</td>\n",
       "      <td>1843820</td>\n",
       "      <td>368764.00</td>\n",
       "    </tr>\n",
       "    <tr>\n",
       "      <th>199806</th>\n",
       "      <td>대연정보통신케이티스카라이프2012년경남마케</td>\n",
       "      <td>무선 및 위성 통신업</td>\n",
       "      <td>1</td>\n",
       "      <td>0</td>\n",
       "      <td>1218120</td>\n",
       "      <td>174017.14</td>\n",
       "    </tr>\n",
       "    <tr>\n",
       "      <th>208197</th>\n",
       "      <td>케이티링커스-경기남부1541</td>\n",
       "      <td>무선 및 위성 통신업</td>\n",
       "      <td>0</td>\n",
       "      <td>0</td>\n",
       "      <td>2027960</td>\n",
       "      <td>405592.00</td>\n",
       "    </tr>\n",
       "    <tr>\n",
       "      <th>208199</th>\n",
       "      <td>케이티링커스-서부인천1541</td>\n",
       "      <td>무선 및 위성 통신업</td>\n",
       "      <td>0</td>\n",
       "      <td>0</td>\n",
       "      <td>1937320</td>\n",
       "      <td>387464.00</td>\n",
       "    </tr>\n",
       "    <tr>\n",
       "      <th>208891</th>\n",
       "      <td>케이티링커스-서울남부1541</td>\n",
       "      <td>무선 및 위성 통신업</td>\n",
       "      <td>0</td>\n",
       "      <td>0</td>\n",
       "      <td>2016780</td>\n",
       "      <td>403356.00</td>\n",
       "    </tr>\n",
       "    <tr>\n",
       "      <th>222507</th>\n",
       "      <td>가온정보통신</td>\n",
       "      <td>무선 및 위성 통신업</td>\n",
       "      <td>0</td>\n",
       "      <td>0</td>\n",
       "      <td>8922680</td>\n",
       "      <td>228786.67</td>\n",
       "    </tr>\n",
       "    <tr>\n",
       "      <th>223104</th>\n",
       "      <td>비전모바일코리아</td>\n",
       "      <td>무선 및 위성 통신업</td>\n",
       "      <td>0</td>\n",
       "      <td>0</td>\n",
       "      <td>4130040</td>\n",
       "      <td>317695.38</td>\n",
       "    </tr>\n",
       "    <tr>\n",
       "      <th>224788</th>\n",
       "      <td>엔지디씨</td>\n",
       "      <td>무선 및 위성 통신업</td>\n",
       "      <td>0</td>\n",
       "      <td>1</td>\n",
       "      <td>1203540</td>\n",
       "      <td>200590.00</td>\n",
       "    </tr>\n",
       "    <tr>\n",
       "      <th>225183</th>\n",
       "      <td>케이티스-OTS 개통 및 AS공사센터</td>\n",
       "      <td>무선 및 위성 통신업</td>\n",
       "      <td>0</td>\n",
       "      <td>0</td>\n",
       "      <td>4247440</td>\n",
       "      <td>202259.05</td>\n",
       "    </tr>\n",
       "    <tr>\n",
       "      <th>235642</th>\n",
       "      <td>테이크네트웍스</td>\n",
       "      <td>무선 및 위성 통신업</td>\n",
       "      <td>0</td>\n",
       "      <td>1</td>\n",
       "      <td>2492240</td>\n",
       "      <td>249224.00</td>\n",
       "    </tr>\n",
       "    <tr>\n",
       "      <th>244996</th>\n",
       "      <td>오케이114</td>\n",
       "      <td>무선 및 위성 통신업</td>\n",
       "      <td>0</td>\n",
       "      <td>0</td>\n",
       "      <td>2172480</td>\n",
       "      <td>310354.29</td>\n",
       "    </tr>\n",
       "    <tr>\n",
       "      <th>247505</th>\n",
       "      <td>늘커뮤니케이션</td>\n",
       "      <td>무선 및 위성 통신업</td>\n",
       "      <td>0</td>\n",
       "      <td>0</td>\n",
       "      <td>1195700</td>\n",
       "      <td>199283.33</td>\n",
       "    </tr>\n",
       "    <tr>\n",
       "      <th>265383</th>\n",
       "      <td></td>\n",
       "      <td>무선 및 위성 통신업</td>\n",
       "      <td>0</td>\n",
       "      <td>0</td>\n",
       "      <td>0</td>\n",
       "      <td>nan</td>\n",
       "    </tr>\n",
       "    <tr>\n",
       "      <th>292581</th>\n",
       "      <td>케이티링커스-강원1541</td>\n",
       "      <td>무선 및 위성 통신업</td>\n",
       "      <td>0</td>\n",
       "      <td>0</td>\n",
       "      <td>1972160</td>\n",
       "      <td>394432.00</td>\n",
       "    </tr>\n",
       "    <tr>\n",
       "      <th>292919</th>\n",
       "      <td>케이티링커스-대전 충남1541</td>\n",
       "      <td>무선 및 위성 통신업</td>\n",
       "      <td>0</td>\n",
       "      <td>0</td>\n",
       "      <td>2019940</td>\n",
       "      <td>403988.00</td>\n",
       "    </tr>\n",
       "    <tr>\n",
       "      <th>292921</th>\n",
       "      <td>케이티링커스-충북1541</td>\n",
       "      <td>무선 및 위성 통신업</td>\n",
       "      <td>0</td>\n",
       "      <td>0</td>\n",
       "      <td>1923720</td>\n",
       "      <td>384744.00</td>\n",
       "    </tr>\n",
       "  </tbody>\n",
       "</table>\n",
       "</div>"
      ],
      "text/plain": [
       "                           사업장명        업종코드명   신규   상실        고지금액    인당고지금액\n",
       "3479                        케이티  무선 및 위성 통신업   15   76  9961182900 442188.61\n",
       "3481                    에스케이텔레콤  무선 및 위성 통신업   43   37  2400608900 440721.30\n",
       "3579                     케이티파워텔  무선 및 위성 통신업    1    0    63229120 448433.48\n",
       "3932                  케이디디아이코리아  무선 및 위성 통신업    3    1    20392060 351587.24\n",
       "4451                     케이티링커스  무선 및 위성 통신업    4    7   163318140 384277.98\n",
       "4943                    에스케이텔링크  무선 및 위성 통신업    0    0    91486520 444109.32\n",
       "12843                   케이티아이에스  무선 및 위성 통신업  199  225  1753229620 221955.90\n",
       "13715                        온산  무선 및 위성 통신업    0    0     2217960 277245.00\n",
       "14747                       인터콜  무선 및 위성 통신업    0    0     2591520 185108.57\n",
       "22185                      굿텔레콤  무선 및 위성 통신업    1    0     2326820 258535.56\n",
       "32349                    서울국제전화  무선 및 위성 통신업    0    0     3155940 450848.57\n",
       "35652                     엠프로미스  무선 및 위성 통신업    2    2     6257760 272076.52\n",
       "39505                    엘지유플러스  무선 및 위성 통신업   77   88  4142808860 405243.95\n",
       "43303                  대민방송네트워크  무선 및 위성 통신업    0    1     2859980 285998.00\n",
       "53155                   에쎈텍네트웍스  무선 및 위성 통신업    0    0     2829740 314415.56\n",
       "54727                            무선 및 위성 통신업   55   37    32443340 158260.20\n",
       "67915                  대성글로벌네트웍  무선 및 위성 통신업    0    0     1363400 340850.00\n",
       "69679                     다인커머스  무선 및 위성 통신업    0    0     1845880 230735.00\n",
       "74311                     광전기통신  무선 및 위성 통신업    0    0     1297060 324265.00\n",
       "76787                    넷케이티아이  무선 및 위성 통신업    6    6    55806200 301655.14\n",
       "79990                   유비퍼스트대원  무선 및 위성 통신업    0    0    13487880 293214.78\n",
       "87141                   한국전파기지국  무선 및 위성 통신업    2    0    31332720 319721.63\n",
       "87398                   SK브로드밴드  무선 및 위성 통신업    7    7  1029701300 434473.12\n",
       "123460                   남양정보기술  무선 및 위성 통신업    1    0     1256560 251312.00\n",
       "148687                  피에스앤마케팅  무선 및 위성 통신업   10   44   636596680 288444.35\n",
       "172537                   세종텔레콤   무선 및 위성 통신업    3    2   125928060 402326.07\n",
       "179527                     파워비스  무선 및 위성 통신업    0    2     1276700 159587.50\n",
       "180252                    제이넷통신  무선 및 위성 통신업    0    0     6785420 242336.43\n",
       "183728                   비에스아이티  무선 및 위성 통신업    0    0     2294700 229470.00\n",
       "191959                  에스와이텔레콤  무선 및 위성 통신업    0    0     1206420 301605.00\n",
       "198881                     넥스이노  무선 및 위성 통신업    0    0     1843820 368764.00\n",
       "199806  대연정보통신케이티스카라이프2012년경남마케  무선 및 위성 통신업    1    0     1218120 174017.14\n",
       "208197          케이티링커스-경기남부1541  무선 및 위성 통신업    0    0     2027960 405592.00\n",
       "208199          케이티링커스-서부인천1541  무선 및 위성 통신업    0    0     1937320 387464.00\n",
       "208891          케이티링커스-서울남부1541  무선 및 위성 통신업    0    0     2016780 403356.00\n",
       "222507                   가온정보통신  무선 및 위성 통신업    0    0     8922680 228786.67\n",
       "223104                 비전모바일코리아  무선 및 위성 통신업    0    0     4130040 317695.38\n",
       "224788                     엔지디씨  무선 및 위성 통신업    0    1     1203540 200590.00\n",
       "225183     케이티스-OTS 개통 및 AS공사센터  무선 및 위성 통신업    0    0     4247440 202259.05\n",
       "235642                  테이크네트웍스  무선 및 위성 통신업    0    1     2492240 249224.00\n",
       "244996                   오케이114  무선 및 위성 통신업    0    0     2172480 310354.29\n",
       "247505                  늘커뮤니케이션  무선 및 위성 통신업    0    0     1195700 199283.33\n",
       "265383                           무선 및 위성 통신업    0    0           0       nan\n",
       "292581            케이티링커스-강원1541  무선 및 위성 통신업    0    0     1972160 394432.00\n",
       "292919         케이티링커스-대전 충남1541  무선 및 위성 통신업    0    0     2019940 403988.00\n",
       "292921            케이티링커스-충북1541  무선 및 위성 통신업    0    0     1923720 384744.00"
      ]
     },
     "execution_count": 92,
     "metadata": {
      "tags": []
     },
     "output_type": "execute_result"
    }
   ],
   "source": [
    "df_IT.loc[df_IT['업종코드']=='642001',['사업장명', '업종코드명', '신규', '상실', '고지금액', '인당고지금액']]"
   ]
  },
  {
   "cell_type": "markdown",
   "metadata": {
    "id": "nTVUS2sV8VBO"
   },
   "source": [
    "## 업종별 단일 회사 연봉 비교 차트 그리기"
   ]
  },
  {
   "cell_type": "code",
   "execution_count": 95,
   "metadata": {
    "id": "F7kmcMhz8VBO"
   },
   "outputs": [],
   "source": [
    "df = pd.read_csv('/content/sample_data/national_pension_20200824.csv', encoding='CP949')\n",
    "columns = ['자료생성년월', '사업장명', '사업자번호', '가입상태', '우편번호', '지번주소', '도로명주소', '법정주소코드', \n",
    "           '행정주소코드', '광역시코드', '시군구코드', '읍면동코드', '사업장형태', '업종코드', '업종코드명', \n",
    "           '적용일', '재등록일', '탈퇴일', '가입자수', '고지금액', '신규', '상실',\n",
    "          ]\n",
    "\n",
    "df.columns = columns      \n",
    "df['인당고지금액'] = df['고지금액'] / df['가입자수']\n",
    "df['평균월급'] = df['인당고지금액'] / 9 * 100\n",
    "df['평균연봉'] = df['평균월급'] * 12\n",
    "\n",
    "\n",
    "# code = df[df['사업장명']== '다인커머스']['업종코드']\n",
    "# cols = ['가입자수', '평균월급', '평균연봉', '신규', '상실', '업종코드']\n",
    "# for v in code.item():\n",
    "#   print(v,end='')\n",
    "\n",
    "\n",
    "# filtered = df.loc[df['업종코드']=='642001'][cols]\n",
    "\n",
    "# df_company = df.loc[df['사업장명'] == '다인커머스'][cols]\n",
    "# filtered.mean()\n",
    "# df_company = df_company.append(pd.Series(filtered.mean()), ignore_index=True)\n",
    "# df_company"
   ]
  },
  {
   "cell_type": "code",
   "execution_count": 98,
   "metadata": {
    "id": "2lLesLGA8VBR"
   },
   "outputs": [],
   "source": [
    "def compare_and_visualize(company):\n",
    "    code = df[df['사업장명'] == company]['업종코드']\n",
    "    cols = ['가입자수', '평균월급', '평균연봉', '신규', '상실', '업종코드']\n",
    "    filtered = df.loc[df['업종코드']==code.item()][cols]\n",
    "    df_company = df.loc[df['사업장명'] == company][cols]\n",
    "    df_company = df_company.append(pd.Series(filtered.mean()), ignore_index=True)\n",
    "    \n",
    "    compare_cols = ['가입자수', '평균월급', '평균연봉', '신규', '상실']\n",
    "    for col in compare_cols:\n",
    "        plt.figure(figsize=(10, 5))\n",
    "        sns.barplot(x=[company, '업종평균'], y=col, data=df_company)\n",
    "        plt.title('{} vs 업종평균'.format(col), fontsize=18)\n",
    "        plt.show()"
   ]
  },
  {
   "cell_type": "code",
   "execution_count": 107,
   "metadata": {
    "colab": {
     "base_uri": "https://localhost:8080/",
     "height": 1000
    },
    "id": "nCAS2Vz0OC90",
    "outputId": "857c2130-9e0e-4ca2-d54c-89b02b27e385"
   },
   "outputs": [
    {
     "data": {
      "image/png": "[encoded data removed]",
      "text/plain": [
       "<Figure size 720x360 with 1 Axes>"
      ]
     },
     "metadata": {
      "needs_background": "light",
      "tags": []
     },
     "output_type": "display_data"
    },
    {
     "data": {
      "image/png": "[encoded data removed]",
      "text/plain": [
       "<Figure size 720x360 with 1 Axes>"
      ]
     },
     "metadata": {
      "needs_background": "light",
      "tags": []
     },
     "output_type": "display_data"
    },
    {
     "data": {
      "image/png": "[encoded data removed]",
      "text/plain": [
       "<Figure size 720x360 with 1 Axes>"
      ]
     },
     "metadata": {
      "needs_background": "light",
      "tags": []
     },
     "output_type": "display_data"
    },
    {
     "data": {
      "image/png": "[encoded data removed]",
      "text/plain": [
       "<Figure size 720x360 with 1 Axes>"
      ]
     },
     "metadata": {
      "needs_background": "light",
      "tags": []
     },
     "output_type": "display_data"
    },
    {
     "data": {
      "image/png": "[encoded data removed]",
      "text/plain": [
       "<Figure size 720x360 with 1 Axes>"
      ]
     },
     "metadata": {
      "needs_background": "light",
      "tags": []
     },
     "output_type": "display_data"
    }
   ],
   "source": [
    "compare_and_visualize('인밸류비즈')"
   ]
  },
  {
   "cell_type": "markdown",
   "metadata": {
    "id": "ZCsmrxKUz2hx"
   },
   "source": [
    "## 국민연금 상실/취득으로 본 업종별 추이 분석 프로젝트에 향후 과제"
   ]
  },
  {
   "cell_type": "markdown",
   "metadata": {
    "id": "sQl68pO38VBU"
   },
   "source": [
    "### ToDO List\n",
    "  * 신규 / 상실이 대규모로 발생하는 경우의 주가 추이 확인(상장회사에 한함)\n",
    "    * 주식 정보 스클롤링\n",
    "  * 추가적으로 도출되는 항목 업데이트 예정."
   ]
  }
 ],
 "metadata": {
  "colab": {
   "collapsed_sections": [],
   "include_colab_link": true,
   "name": "국민연금을 통해 본 COVID19에서의 우리경제",
   "provenance": [],
   "toc_visible": true
  },
  "kernelspec": {
   "display_name": "Python 3",
   "language": "python",
   "name": "python3"
  },
  "language_info": {
   "codemirror_mode": {
    "name": "ipython",
    "version": 3
   },
   "file_extension": ".py",
   "mimetype": "text/x-python",
   "name": "python",
   "nbconvert_exporter": "python",
   "pygments_lexer": "ipython3",
   "version": "3.8.3"
  }
 },
 "nbformat": 4,
 "nbformat_minor": 1
}
