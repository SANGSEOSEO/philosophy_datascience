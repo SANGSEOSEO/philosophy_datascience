{
 "cells": [
  {
   "cell_type": "markdown",
   "metadata": {},
   "source": [
    "# 어떤 무선 청소기가 더 나을까?\n",
    "* danawa사이트를 통해 청소기 제품정보를 크롤링"
   ]
  },
  {
   "cell_type": "markdown",
   "metadata": {},
   "source": [
    "## 1.데이터 수집 - 한 페이지 크롤링"
   ]
  },
  {
   "cell_type": "code",
   "execution_count": 4,
   "metadata": {},
   "outputs": [],
   "source": [
    "from bs4 import BeautifulSoup\n",
    "from urllib.request import urlopen\n",
    "from selenium import webdriver\n",
    "import urllib"
   ]
  },
  {
   "cell_type": "code",
   "execution_count": 5,
   "metadata": {},
   "outputs": [],
   "source": [
    "driver = webdriver.Chrome(\"../driver/chromedriver.exe\")"
   ]
  },
  {
   "cell_type": "code",
   "execution_count": 2,
   "metadata": {},
   "outputs": [],
   "source": [
    "def search_danawa(search):\n",
    "    url = \"http://search.danawa.com/dsearch.php?query={}&tab=main\"\n",
    "    url = url.format(urllib.parse.quote(search))\n",
    "    return url"
   ]
  },
  {
   "cell_type": "code",
   "execution_count": 6,
   "metadata": {},
   "outputs": [
    {
     "name": "stdout",
     "output_type": "stream",
     "text": [
      "검색어 입력 : 무선청소기\n"
     ]
    }
   ],
   "source": [
    "search  = input('검색어 입력 : ')\n",
    "url  = search_danawa(search)\n",
    "driver.get(url)"
   ]
  },
  {
   "cell_type": "code",
   "execution_count": null,
   "metadata": {},
   "outputs": [],
   "source": [
    "html = driver.page_source\n",
    "soup = BeautifulSoup(html, \"html.parser\")"
   ]
  },
  {
   "cell_type": "code",
   "execution_count": 15,
   "metadata": {},
   "outputs": [
    {
     "data": {
      "text/plain": [
       "43"
      ]
     },
     "execution_count": 15,
     "metadata": {},
     "output_type": "execute_result"
    }
   ],
   "source": [
    "prod_items = soup.select(\"li.prod_item\")\n",
    "len(prod_items)"
   ]
  },
  {
   "cell_type": "code",
   "execution_count": 11,
   "metadata": {},
   "outputs": [
    {
     "data": {
      "text/plain": [
       "43"
      ]
     },
     "execution_count": 11,
     "metadata": {},
     "output_type": "execute_result"
    }
   ],
   "source": [
    "prod_items = soup.select(\"ul.product_list > li.prod_item\")\n",
    "len(prod_items)"
   ]
  },
  {
   "cell_type": "code",
   "execution_count": 47,
   "metadata": {},
   "outputs": [
    {
     "data": {
      "text/plain": [
       "(41, bs4.element.ResultSet)"
      ]
     },
     "execution_count": 47,
     "metadata": {},
     "output_type": "execute_result"
    }
   ],
   "source": [
    "prod_items = soup.select(\"div.main_prodlist > ul.product_list > li.prod_item\")\n",
    "len(prod_items), type(prod_items)"
   ]
  },
  {
   "cell_type": "code",
   "execution_count": 45,
   "metadata": {},
   "outputs": [
    {
     "data": {
      "text/plain": [
       "<li class=\"prod_item\" id=\"productItem9781572\">\n",
       "<input id=\"productItem_categoryInfo_9781572\" type=\"hidden\" value=\"생활가전_청소기\"/>\n",
       "<input id=\"min_price_9781572\" type=\"hidden\" value=\"146990\"/>\n",
       "<div class=\"prod_main_info\">\n",
       "<div class=\"thumb_image\">\n",
       "<a class=\"thumb_link\" href=\"http://prod.danawa.com/info/?pcode=9781572&amp;keyword=무선청소기&amp;cate=103740\" id=\"thumbLink_9781572\" onmousedown=\"_trkEventLog('통합검색_상품블로그_유입');\" target=\"_blank\">\n",
       "<img alt=\"V10\" class=\"click_log_product_standard_img_\" src=\"http://img.danawa.com/prod_img/500000/572/781/img/9781572_1.jpg?shrink=160:160&amp;_v=20191029140625\"/>\n",
       "</a>\n",
       "<a class=\"btn_view_zoom\" data-assemblygallerycategory=\"N\" href=\"#\" id=\"imageZoom_9781572\" onclick=\"return false;\">\n",
       "<span class=\"ico i_zoom_vw\"></span>이미지보기\n",
       "\t\t\t\t\t\t\t</a>\n",
       "<input id=\"hidden_cate_sub_c1\" type=\"hidden\" value=\"72\"/>\n",
       "<input id=\"hidden_cate_sub_c2\" type=\"hidden\" value=\"80\"/>\n",
       "<input id=\"hidden_cate_sub_c3\" type=\"hidden\" value=\"81\"/>\n",
       "</div>\n",
       "<div class=\"prod_info\">\n",
       "<p class=\"prod_name\">\n",
       "<a class=\"click_log_product_standard_title_\" href=\"http://prod.danawa.com/info/?pcode=9781572&amp;keyword=무선청소기&amp;cate=103740\" onmousedown=\"_trkEventLog('통합검색_상품블로그_유입'); doCTR('%EB%AC%B4%EC%84%A0%EC%B2%AD%EC%86%8C%EA%B8%B0','9781572',1);\" target=\"_blank\">샤오미 드리미 V10</a>\n",
       "</p>\n",
       "<dl class=\"prod_spec_set\">\n",
       "<dt class=\"screen_out\">상세 스펙</dt>\n",
       "<dd>\n",
       "<div class=\"spec_list\"><a class=\"view_dic\" href=\"#\" onclick=\"$.termDicViewLink(8501,'view',this,0,72,80); return false;\">핸디/스틱<b>청소기</b></a> / <a class=\"view_dic\" href=\"#\" onclick=\"$.termDicViewLink(7445,'view',this,0,72,80); return false;\">핸디+스틱형</a> / <a class=\"view_dic\" href=\"#\" onclick=\"$.termDicViewLink(14900,'view',this,0,72,80); return false;\">무선형</a> / <a class=\"view_dic\" href=\"#\" onclick=\"$.termDicViewLink(213565,'view',this,0,72,80); return false;\">전압</a>: <a class=\"view_dic\" href=\"#\" onclick=\"$.termDicViewLink(213565,'view',this,0,72,80); return false;\">25.2V</a> / <a class=\"view_dic\" href=\"#\" onclick=\"$.termDicViewLink(14801,'view',this,0,72,80); return false;\">헤파필터</a> / <a class=\"view_dic\" href=\"#\" onclick=\"$.termDicViewLink(14801,'view',this,0,72,80); return false;\">H12급</a> / <a class=\"view_dic\" href=\"#\" onclick=\"$.termDicViewLink(30024,'view',this,0,72,80); return false;\">5단계여과</a> / <a class=\"view_dic\" href=\"#\" onclick=\"$.termDicViewLink(3996,'view',this,0,72,80); return false;\">흡입력</a>: <a class=\"view_dic\" href=\"#\" onclick=\"$.termDicViewLink(3996,'view',this,0,72,80); return false;\">140AW</a> / <a class=\"view_dic\" href=\"#\" onclick=\"$.termDicViewLink(3996,'view',this,0,72,80); return false;\">흡입력</a>: <a class=\"view_dic\" href=\"#\" onclick=\"$.termDicViewLink(3996,'view',this,0,72,80); return false;\">22000Pa</a> / <a class=\"view_dic\" href=\"#\" onclick=\"$.termDicViewLink(214653,'view',this,0,72,80); return false;\">먼지통용량</a>: <a class=\"view_dic\" href=\"#\" onclick=\"$.termDicViewLink(214653,'view',this,0,72,80); return false;\">0.5L</a> / <a class=\"view_dic\" href=\"#\" onclick=\"$.termDicViewLink(14921,'view',this,0,72,80); return false;\">충전시간</a>: <a class=\"view_dic\" href=\"#\" onclick=\"$.termDicViewLink(14921,'view',this,0,72,80); return false;\">3시간30분</a> / <a class=\"view_dic\" href=\"#\" onclick=\"$.termDicViewLink(8515,'view',this,0,72,80); return false;\">사용시간</a>: <a class=\"view_dic\" href=\"#\" onclick=\"$.termDicViewLink(8515,'view',this,0,72,80); return false;\">1시간</a> / <a class=\"view_dic\" href=\"#\" onclick=\"$.termDicViewLink(214659,'view',this,0,72,80); return false;\">용량</a>: <a class=\"view_dic\" href=\"#\" onclick=\"$.termDicViewLink(214659,'view',this,0,72,80); return false;\">2500mAh</a> / 구성: <a class=\"view_dic\" href=\"#\" onclick=\"$.termDicViewLink(18333,'view',this,0,72,80); return false;\">바닥</a>, <a class=\"view_dic\" href=\"#\" onclick=\"$.termDicViewLink(18453,'view',this,0,72,80); return false;\">침구</a>, <a class=\"view_dic\" href=\"#\" onclick=\"$.termDicViewLink(18442,'view',this,0,72,80); return false;\">솔형</a>, <a class=\"view_dic\" href=\"#\" onclick=\"$.termDicViewLink(18436,'view',this,0,72,80); return false;\">틈새</a>, <a class=\"view_dic\" href=\"#\" onclick=\"$.termDicViewLink(27313,'view',this,0,72,80); return false;\">연장툴</a>, <a class=\"view_dic\" href=\"#\" onclick=\"$.termDicViewLink(30019,'view',this,0,72,80); return false;\">거치대</a> / <a class=\"view_dic\" href=\"#\" onclick=\"$.termDicViewLink(27312,'view',this,0,72,80); return false;\">무게</a>: <a class=\"view_dic\" href=\"#\" onclick=\"$.termDicViewLink(27312,'view',this,0,72,80); return false;\">1.5kg</a> / <a class=\"view_dic\" href=\"#\" onclick=\"$.termDicViewLink(14771,'view',this,0,72,80); return false;\">색상:화이트</a> / <a class=\"view_dic\" href=\"#\" onclick=\"$.termDicViewLink(1743,'view',this,0,72,80); return false;\">소비전력</a>: <a class=\"view_dic\" href=\"#\" onclick=\"$.termDicViewLink(1743,'view',this,0,72,80); return false;\">450W</a> </div>\n",
       "</dd>\n",
       "</dl>\n",
       "<div class=\"relation_goods_unit\" id=\"relation_goods_unit_9781572\"><dl class=\"unit_goods_list\"><dt class=\"title_unit\">관련용품▶</dt><dd class=\"unit_lists\"><a class=\"unit_link view_dic\" data-relationcode=\"10560216\" href=\"#\" onclick=\"return false;\">헤파필터</a><span class=\"ucomma\">,</span><a class=\"unit_link view_dic\" data-relationcode=\"10526325\" href=\"#\" onclick=\"return false;\">롤브러쉬</a></dd></dl></div>\n",
       "<div class=\"prod_sub_info\">\n",
       "<div class=\"prod_sub_meta\">\n",
       "<dl class=\"meta_item mt_date\">\n",
       "<dt>등록월</dt>\n",
       "<dd>2019.10</dd>\n",
       "</dl>\n",
       "<dl class=\"meta_item mt_comment\">\n",
       "<dt><span class=\"dt_behind\">상품의견</span></dt>\n",
       "<dd>\n",
       "<div class=\"cnt_star\">\n",
       "<div class=\"point_type_list\">\n",
       "<div class=\"mask\" style=\"width:92%\">\n",
       "</div>\n",
       "</div>\n",
       "<div class=\"point_num\">\n",
       "<strong>4.6</strong>점\n",
       "\t\t\t\t\t\t\t\t\t\t\t\t\t\t</div>\n",
       "</div>\n",
       "<div class=\"cnt_opinion\">\n",
       "\t\t\t\t\t\t\t\t\t\t\t\t\t\t(<a class=\"click_log_prod_content_count\" href=\"http://prod.danawa.com/info/?pcode=9781572&amp;keyword=무선청소기&amp;cate=103740#bookmark_cm_opinion\" onmousedown=\"_trkEventLog('통합검색_상품블로그_유입');\" target=\"_blank\"><strong>765</strong></a>건)\n",
       "\t\t\t\t\t\t\t\t\t\t\t\t\t</div>\n",
       "</dd>\n",
       "</dl>\n",
       "<dl class=\"meta_item\">\n",
       "<dt class=\"screen_out\">관심상품</dt>\n",
       "<dd>\n",
       "<a class=\"click_log_wishList\" href=\"#\" onclick=\"javascript:$.danawaAddProductToWishList(this, '9781572',' search', '', '', '146990');return false;\" onmousedown=\"doCTR('%EB%AC%B4%EC%84%A0%EC%B2%AD%EC%86%8C%EA%B8%B0','9781572',4);\" title=\"관심상품에 담기\">관심상품</a>\n",
       "</dd>\n",
       "<input id=\"wishListBundleVal_9781572\" type=\"hidden\" value=\"//샤오미 드리미 V10\"/>\n",
       "</dl>\n",
       "</div>\n",
       "<dl class=\"prod_category_location\">\n",
       "<dt class=\"screen_out\">상품분류</dt>\n",
       "<dd>\n",
       "<a href=\"http://prod.danawa.com/list/?cate=103740\" onmousedown=\"80\" target=\"doCTR('%EB%AC%B4%EC%84%A0%EC%B2%AD%EC%86%8C%EA%B8%B0',9781572,3);\"><span>생활가전</span> &gt; <span>청소기</span> &gt; <span>핸디/스틱</span></a> <div class=\"more_cate_layer\" style=\"display: none; z-index: 1;\">\n",
       "<ul class=\"list_category_location\">\n",
       "</ul>\n",
       "</div>\n",
       "</dd>\n",
       "</dl>\n",
       "</div>\n",
       "</div>\n",
       "<div class=\"prod_pricelist\" data-cate=\"72|80|81|0\">\n",
       "<ul>\n",
       "<li class=\"rank_one\" id=\"productInfoDetail_9781572\">\n",
       "<p class=\"chk_sect\">\n",
       "\t\t\t\t\t\t\t\t\t\t124몰\n",
       "\t\t\t\t\t\t\t\t\t\t\t\t\t\t\t\t\t\t\t\t\t<label for=\"prodCompareCheck_9781572\">\n",
       "<input id=\"prodCompareCheck_9781572\" type=\"checkbox\"/><strong>상품비교</strong>\n",
       "</label>\n",
       "<input name=\"compareValue\" type=\"hidden\" value=\"9781572\"/>\n",
       "<input name=\"compareRepValue\" type=\"hidden\" value=\"9781572\"/>\n",
       "</p>\n",
       "<p class=\"price_sect\">\n",
       "<a class=\"click_log_product_standard_price_\" href=\"http://prod.danawa.com/info/?pcode=9781572&amp;keyword=무선청소기&amp;cate=103740\" onmousedown=\"doCTR('%EB%AC%B4%EC%84%A0%EC%B2%AD%EC%86%8C%EA%B8%B0','9781572',1);; _trkEventLog('통합검색_상품블로그_유입'); \" target=\"_blank\">\n",
       "<strong>146,990</strong>원\t\t\t\t\t\t\t\t\t\t</a>\n",
       "<span class=\"more_btn_wrap\">\n",
       "<button class=\"ico i_more\">가격정보 더보기</button>\n",
       "<span class=\"layer_price_more\" id=\"layer_price_more_9781572\"></span>\n",
       "<span class=\"sep_line\"></span>\n",
       "</span>\n",
       "</p>\n",
       "<p class=\"memory_sect\">\n",
       "\t\t\t\t\t\t\t\t\t\t\t\t\t\t\t\t\t\t\t\t\t\t\t해외구매\t\t\t\t\t\t\t\t\t\t\t\t\t\t\t\t\t\t\t\t\t\t<a href=\"http://prod.danawa.com/info/?pcode=9781572&amp;keyword=무선청소기&amp;cate=103740\" onmousedown=\"doCTR('%EB%AC%B4%EC%84%A0%EC%B2%AD%EC%86%8C%EA%B8%B0','9781572',1);\" target=\"_blank\">\n",
       "</a>\n",
       "</p>\n",
       "</li>\n",
       "</ul>\n",
       "</div>\n",
       "</div>\n",
       "</li>"
      ]
     },
     "execution_count": 45,
     "metadata": {},
     "output_type": "execute_result"
    }
   ],
   "source": [
    "# 상품명\n",
    "title = prod_items[0]\n",
    "title"
   ]
  },
  {
   "cell_type": "code",
   "execution_count": 21,
   "metadata": {},
   "outputs": [
    {
     "name": "stdout",
     "output_type": "stream",
     "text": [
      "아이로봇 브라바 390T (일반구매)\n"
     ]
    }
   ],
   "source": [
    "# 상품명\n",
    "title = prod_items[0].select(\"p.prod_name > a\")[0].text.strip()  # text, string, get_text()\n",
    "print(title)"
   ]
  },
  {
   "cell_type": "code",
   "execution_count": 31,
   "metadata": {},
   "outputs": [
    {
     "name": "stdout",
     "output_type": "stream",
     "text": [
      "로봇청소기\n",
      "\t \t\t\t\t\t\t\t\t / 걸레전용\n",
      "\t \t\t\t\t\t\t\t\t / 전압\n",
      "\t \t\t\t\t\t\t\t\t: 14.8V\n",
      "\t \t\t\t\t\t\t\t\t / 충전시간\n",
      "\t \t\t\t\t\t\t\t\t: 2시간\n",
      "\t \t\t\t\t\t\t\t\t / 사용시간\n",
      "\t \t\t\t\t\t\t\t\t: 3시간30분\n",
      "\t \t\t\t\t\t\t\t\t / 용량\n",
      "\t \t\t\t\t\t\t\t\t: 2000mAh\n",
      "\t \t\t\t\t\t\t\t\t / 장애물인식센서\n",
      "\t \t\t\t\t\t\t\t\t / 추락방지센서\n",
      "\t \t\t\t\t\t\t\t\t / 청소모드\n",
      "\t \t\t\t\t\t\t\t\t: 네비청소\n",
      "\t \t\t\t\t\t\t\t\t / 소비전력\n",
      "\t \t\t\t\t\t\t\t\t: 14.4W\n",
      "\t \t\t\t\t\t\t\t\t / 무게\n",
      "\t \t\t\t\t\t\t\t\t: 1.8kg\n",
      "\t \t\t\t\t\t\t\t\t / 색상:화이트\n",
      "\t \t\t\t\t\t\t\t\t / 크기(가로x세로x깊이): 244x79x214mm\n"
     ]
    }
   ],
   "source": [
    "# spec정보 \n",
    "spec_list = prod_items[0].select(\"div.spec_list\")[0].text.strip()\n",
    "print(spec_list)"
   ]
  },
  {
   "cell_type": "code",
   "execution_count": 38,
   "metadata": {},
   "outputs": [
    {
     "ename": "IndexError",
     "evalue": "list index out of range",
     "output_type": "error",
     "traceback": [
      "\u001b[1;31m---------------------------------------------------------------------------\u001b[0m",
      "\u001b[1;31mIndexError\u001b[0m                                Traceback (most recent call last)",
      "\u001b[1;32m<ipython-input-38-9bf5fc4fbe5c>\u001b[0m in \u001b[0;36m<module>\u001b[1;34m\u001b[0m\n\u001b[0;32m      1\u001b[0m \u001b[1;31m# 가격정보\u001b[0m\u001b[1;33m\u001b[0m\u001b[1;33m\u001b[0m\u001b[1;33m\u001b[0m\u001b[0m\n\u001b[1;32m----> 2\u001b[1;33m \u001b[0mprice\u001b[0m \u001b[1;33m=\u001b[0m \u001b[0mprod_items\u001b[0m\u001b[1;33m[\u001b[0m\u001b[1;36m0\u001b[0m\u001b[1;33m]\u001b[0m\u001b[1;33m.\u001b[0m\u001b[0mselect\u001b[0m\u001b[1;33m(\u001b[0m\u001b[1;34m'li.rank_one > p.price_sect > a > strong'\u001b[0m\u001b[1;33m)\u001b[0m\u001b[1;33m[\u001b[0m\u001b[1;36m0\u001b[0m\u001b[1;33m]\u001b[0m\u001b[1;33m.\u001b[0m\u001b[0mtext\u001b[0m\u001b[1;33m.\u001b[0m\u001b[0mstrip\u001b[0m\u001b[1;33m(\u001b[0m\u001b[1;33m)\u001b[0m\u001b[1;33m.\u001b[0m\u001b[0mreplace\u001b[0m\u001b[1;33m(\u001b[0m\u001b[1;34m\",\"\u001b[0m\u001b[1;33m,\u001b[0m \u001b[1;34m\"\"\u001b[0m\u001b[1;33m)\u001b[0m\u001b[1;33m\u001b[0m\u001b[1;33m\u001b[0m\u001b[0m\n\u001b[0m\u001b[0;32m      3\u001b[0m \u001b[1;33m\u001b[0m\u001b[0m\n\u001b[0;32m      4\u001b[0m \u001b[0mprint\u001b[0m\u001b[1;33m(\u001b[0m\u001b[0mprice\u001b[0m\u001b[1;33m)\u001b[0m\u001b[1;33m\u001b[0m\u001b[1;33m\u001b[0m\u001b[0m\n",
      "\u001b[1;31mIndexError\u001b[0m: list index out of range"
     ]
    }
   ],
   "source": [
    "# 가격정보\n",
    "price = prod_items[0].select('li.rank_one > p.price_sect > a > strong')[0].text.strip().replace(\",\", \"\")"
   ]
  },
  {
   "cell_type": "code",
   "execution_count": 28,
   "metadata": {},
   "outputs": [
    {
     "name": "stdout",
     "output_type": "stream",
     "text": [
      "43\n",
      "[['아이로봇 브라바 390T (일반구매)', '', 0], ['라이프로 RX10', '', 0], ['샤오미 드리미 V10', '', '146990'], ['LG전자 코드제로 A9S A9700', '', '1014540'], ['XExuELnP0i', '', '494090'], ['삼성전자 제트 VS15R8500BF', '', '389800'], ['샤오미 CLEANFLY 차량용 무선 청소기 3세대 (해외구매)', '', '52720'], ['삼성전자 제트 VS20T9213QDCS', '', '650120'], ['다이슨 V10 카본파이버', '', '592560'], ['로엘 듀스핀2', '', '54900'], ['베이스어스 차량용 무선 진공 청소기 A2 (해외구매)', '', '19580'], ['삼성전자 제트 VS20T9258SDCS', '', '849000'], ['LG전자 코드제로 A9 A9100', '', '534580'], ['로엘 듀스핀', '', '54900'], ['LG전자 코드제로 A9S A9570', '', '964940'], ['일렉트로룩스 WELL Q6 WQ61-1OGG', '', '190080'], ['다이슨 V8 플러피', '', '403490'], ['샤오미 SHUNZAO 차량용 무선청소기 2세대 Z1 (해외구매)', '', '24500'], ['DIBEA TSX-25000A', '', '199000'], ['다이슨 옴니 글라이드 컴플리트+', '', '584200'], ['다이슨 디지털 슬림 플러피+', '', '697760'], ['삼성전자 제트 VS20T9213QDCSP', '', '769000'], ['LG전자 코드제로 A9S A9470', '', '890450'], ['샤오미 드리미 V11', '', '256400'], ['다이슨 V11 컴플리트', '', '828000'], ['휴스톰 HS-10000', '', '141650'], ['삼성전자 제트 VS20R9078S2', '', '651150'], ['일렉트로룩스 PURE Q9 PQ92-3OBF', '', '330620'], ['샤오미 미지아 차량용 핸디 무선 청소기 (해외구매)', '', '33900'], ['한샘 HSBC-6000W', '', '71160'], ['삼성전자 제트 VS20T9213QDCSW', '', '712100'], ['LG전자 코드제로 A9S A9300', '', '698880'], ['LG전자 코드제로 A9S A9500', '', '852690'], ['LG전자 코드제로 A9 A9200', '', '646570'], ['샤오미 TROUVER TECH SOLO10', '', '89500'], ['샤오미 SHUNZAO Z11', '', '159000'], ['일렉트로룩스 ZB3302AK', '', '154790'], ['다이슨 옴니 글라이드+', '', '512280'], ['시원코퍼레이션 SRV-2010C', '', '75760'], ['샤오미 SWDK-D260', '', '63450'], ['DIBEA DW200', '', '66340'], ['다이슨 V11 220 에어와트 CF+', '', '1068520'], ['제이케이컴즈 본스펙 차량용 무선청소기 PA8000', '', '49800']]\n"
     ]
    }
   ],
   "source": [
    "prod_data = []\n",
    "for prod_item in prod_items:\n",
    "    try: # 상품명\n",
    "        title = prod_item.select('p.prod_name > a')[0].text.strip()\n",
    "    except:\n",
    "        title = None\n",
    "    \n",
    "    try : # spec_list정보 가져오기 \n",
    "        spec_list = prod_item.select('div.spect_list')[0].text.strip()\n",
    "    except:\n",
    "        spec_list = ''\n",
    "        \n",
    "    try:  # 가격\n",
    "        price = int(prod_item.select('li.rank_one > p.price_sect > a > strong')[0].text.strip().replace(\",\", \"\"))\n",
    "    except:\n",
    "        price = 0\n",
    "        \n",
    "    prod_data.append([title, spec_list, price])\n",
    "\n",
    "print(len(prod_data))\n",
    "print(prod_data)"
   ]
  },
  {
   "cell_type": "code",
   "execution_count": 43,
   "metadata": {},
   "outputs": [],
   "source": [
    "# 상품정보 태그에서 원하는 정보를 추출하는 함수 (페이지 클릭시 호출 )\n",
    "def get_prod_items(prod_item):\n",
    "    prod_data = []\n",
    "    \n",
    "    for prod_item in prod_items:\n",
    "        try: # 상품명\n",
    "            title = prod_item.select('p.prod_name > a')[0].text.strip()\n",
    "        except:\n",
    "            title = \"\"\n",
    "\n",
    "        try : # spec_list정보 가져오기 \n",
    "            spec_list = prod_item.select('div.spec_list')[0].text.strip()\n",
    "        except:\n",
    "            spec_list = ''\n",
    "\n",
    "        try:  # 가격\n",
    "            price = prod_item.select('li.rank_one > p.price_sect > a > strong')[0].text.strip().replace(\",\", \"\")\n",
    "        except:\n",
    "            price = 0\n",
    "\n",
    "        prod_data.append([title, spec_list, price])\n",
    "    return prod_data"
   ]
  },
  {
   "cell_type": "markdown",
   "metadata": {},
   "source": [
    "### 상품정보를 가져오는 함수 테스트 "
   ]
  },
  {
   "cell_type": "code",
   "execution_count": 44,
   "metadata": {},
   "outputs": [
    {
     "name": "stdout",
     "output_type": "stream",
     "text": [
      "41\n"
     ]
    },
    {
     "data": {
      "text/plain": [
       "[['샤오미 드리미 V10',\n",
       "  '핸디/스틱청소기 / 핸디+스틱형 / 무선형 / 전압: 25.2V / 헤파필터 / H12급 / 5단계여과 / 흡입력: 140AW / 흡입력: 22000Pa / 먼지통용량: 0.5L / 충전시간: 3시간30분 / 사용시간: 1시간 / 용량: 2500mAh / 구성: 바닥, 침구, 솔형, 틈새, 연장툴, 거치대 / 무게: 1.5kg / 색상:화이트 / 소비전력: 450W',\n",
       "  '146990'],\n",
       " ['LG전자 코드제로 A9S A9700',\n",
       "  '핸디/스틱청소기 / 핸디+스틱형 / 무선형 / 헤파필터 / 2중터보싸이클론 / 5단계여과 / 인버터모터 / 흡입력: 200W / 충전시간: 4시간 / 사용시간: 2시간 / 배터리: 리튬이온 (2개) / 구성: 바닥, 물걸레, 침구, 솔형, 굳은먼지, 상부청소, 틈새, 긴틈새, 매트리스, 연장툴, 거치대 / 자동물공급 / 디스플레이표시창 / 배터리잔량표시 / WiFi / 색상:판타지실버 / 소비전력: 590W / 미세먼지인증(SLG) / 크기(가로x세로x깊이): 250x1120x260mm',\n",
       "  '1014540'],\n",
       " ['XExuELnP0i', 'XExuELnP0i494090', '494090'],\n",
       " ['삼성전자 제트 VS15R8500BF',\n",
       "  '핸디/스틱청소기 / 핸디+스틱형 / 무선형 / 전압: 21.6V / 헤파필터 / 싸이클론 / 5단계여과 / 인버터모터 / 흡입력: 150W / 먼지통용량: 0.5L / 충전시간: 3시간30분 / 사용시간: 40분 / 배터리: 리튬이온 / 구성: 바닥, 솔형, 틈새, 거치대 / 디스플레이표시창 / 프리볼트 / 무게: 2.57kg / 색상:틸민트 / 소비전력: 410W / 알레르기인증(BAF) / 미세먼지인증(SLG) / 크기(가로x세로x깊이): 250x1123x215mm',\n",
       "  '389800'],\n",
       " ['샤오미 CLEANFLY 차량용 무선 청소기 3세대 (해외구매)',\n",
       "  '차량용청소기 / 무선 / 흡입력: 16,800Pa / 최대출력: 120W / 헤파필터 / 추가노즐: 틈새, 솔브러쉬, 연장호스 / 사용시간: 25분 / 크기 : 369x72mm / 무게 : 560g',\n",
       "  '52720'],\n",
       " ['삼성전자 제트 VS20T9213QDCS',\n",
       "  '핸디/스틱청소기 / 핸디+스틱형 / 무선형 / 전압: 21.6V / 헤파필터 / 싸이클론 / 5단계여과 / 인버터모터 / 흡입력: 200W / 먼지통용량: 0.5L / 충전시간: 3시간30분 / 사용시간: 1시간 / 배터리: 리튬이온 / 구성: 바닥, 솔형, 틈새, 거치대 / 디스플레이표시창 / 프리볼트 / 무게: 2.64kg / 색상:티탄+그레이 / 소비전력: 550W / 알레르기인증(BAF) / 미세먼지인증(SLG) / 크기(가로x세로x깊이): 250x1123x215mm / [VCA-SAE90A] 청정스테이션 / 색상: 블랙 / 크기(가로x세로x깊이): 185x600x180mm',\n",
       "  '650120'],\n",
       " ['다이슨 V10 카본파이버',\n",
       "  '핸디/스틱청소기 / 핸디+스틱형 / 무선형 / 전압: 25.2V / 싸이클론 / 흡입력: 160AW / 충전시간: 3시간30분 / 사용시간: 1시간 / 배터리: 리튬이온 / 구성: 소프트롤러, 토크드라이브, 미니모터, 솔형, 더스팅, 틈새, 긴틈새, 연장툴, 도킹스테이션 / 무게: 2.5kg / 소비전력: 525W / 크기(가로x세로x깊이): 250x1241x256mm',\n",
       "  '592560'],\n",
       " ['로엘 듀스핀2',\n",
       "  '물걸레청소기 / 스틱형 / 회전식 / 무선형 / 충전시간: 3~4시간 / 사용시간: 5시간 / 배터리: 리튬이온 / 각도조절 / 셀프스탠딩 / 무게: 1.08kg / 패드: 극세사(벨크로형) / 크기(가로x세로x깊이): 290x1250x135mm',\n",
       "  '54900'],\n",
       " ['베이스어스 차량용 무선 진공 청소기 A2 (해외구매)',\n",
       "  '차량용청소기 / 무선 / 흡입력: 5,000Pa / 추가노즐: 솔브러쉬 / 사용시간: 18분 / 색상: 그린, 블랙, 화이트 / 60ml 먼지통 / 배터리 표시등',\n",
       "  '19580'],\n",
       " ['삼성전자 제트 VS20T9258SDCS',\n",
       "  '핸디/스틱청소기 / 핸디+스틱형 / 무선형 / 전압: 21.6V / 헤파필터 / 싸이클론 / 5단계여과 / 인버터모터 / 흡입력: 200W / 먼지통용량: 0.5L / 충전시간: 3시간30분 / 사용시간: 2시간 / 배터리: 리튬이온 (2개) / 구성: 바닥, 물걸레, 침구, 솔형, 틈새, 연장툴, 거치대 / 디스플레이표시창 / 프리볼트 / 무게: 2.64kg / 색상:티탄+그레이 / 소비전력: 550W / 알레르기인증(BAF) / 미세먼지인증(SLG) / 크기(가로x세로x깊이): 250x1123x215mm / [VCA-SAE90A] 청정스테이션 / 색상: 블랙 / 크기(가로x세로x깊이): 185x600x180mm',\n",
       "  '849000'],\n",
       " ['LG전자 코드제로 A9 A9100',\n",
       "  '핸디/스틱청소기 / 핸디+스틱형 / 무선형 / 헤파필터 / 2중터보싸이클론 / 5단계여과 / 인버터모터 / 충전시간: 3시간30분 / 사용시간: 40분 / 배터리: 리튬이온 / 구성: 바닥, 솔형, 틈새, 거치대 / 배터리잔량표시 / 색상:판타지실버 / 소비전력: 450W / 알레르기인증(BAF) / 미세먼지인증(SLG) / 크기(가로x세로x깊이): 250x1120x260mm',\n",
       "  '534580'],\n",
       " ['로엘 듀스핀',\n",
       "  '물걸레청소기 / 스틱형 / 회전식 / 무선형 / 충전시간: 3~4시간 / 사용시간: 4시간 / 배터리: 리튬이온 / 각도조절 / 셀프스탠딩 / 무게: 0.98kg / 패드: 극세사(벨크로형) / 크기(가로x세로x깊이): 290x1050x135mm',\n",
       "  '54900'],\n",
       " ['LG전자 코드제로 A9S A9570',\n",
       "  '핸디/스틱청소기 / 핸디+스틱형 / 무선형 / 헤파필터 / 2중터보싸이클론 / 5단계여과 / 인버터모터 / 흡입력: 200W / 충전시간: 4시간 / 사용시간: 2시간 / 배터리: 리튬이온 (2개) / 구성: 바닥, 물걸레, 침구, 솔형, 굳은먼지, 틈새, 매트리스, 거치대 / 자동물공급 / 디스플레이표시창 / 배터리잔량표시 / WiFi / 색상:판타지실버 / 소비전력: 590W / 미세먼지인증(SLG) / 크기(가로x세로x깊이): 250x1120x260mm',\n",
       "  '964940'],\n",
       " ['일렉트로룩스 WELL Q6 WQ61-1OGG',\n",
       "  '핸디/스틱청소기 / 핸디+스틱형 / 무선형 / 전압: 18V / 싸이클론 / 5단계여과 / 먼지통용량: 0.3L / 충전시간: 4시간30분 / 사용시간: 45분 / 배터리: 리튬이온 / 구성: 바닥, 솔형, 틈새, 거치대 / 브러쉬자동청소 / 셀프스탠딩 / LED라이트 / 배터리잔량표시 / 무게: 2.65kg / 색상:그라나이트그레이 / 크기(가로x세로x깊이): 386x692x146mm',\n",
       "  '190080'],\n",
       " ['다이슨 V8 플러피',\n",
       "  '핸디/스틱청소기 / 핸디+스틱형 / 무선형 / 전압: 21.6V / 싸이클론 / 흡입력: 155AW / 충전시간: 5시간 / 사용시간: 40분 / 배터리: 리튬이온 / 구성: 소프트롤러, 미니모터, 솔형, 더스팅, 틈새, 매트리스, 연장툴, 도킹스테이션 / 무게: 2.58kg / 소비전력: 485W / 크기(가로x세로x깊이): 250x1264x224mm',\n",
       "  '403490'],\n",
       " ['샤오미 SHUNZAO 차량용 무선청소기 2세대 Z1 (해외구매)',\n",
       "  '차량용청소기 / 무선 / 흡입력: 7,000Pa / 최대출력: 90W / 2중필터 / 추가노즐: 틈새, 솔브러쉬 / LED라이트 / 사용시간: 30분 / 충전방식: USB C타입 / 충전시간: 2시간30분 / 크기: 73x76x336mm / 무게: 700g',\n",
       "  '24500'],\n",
       " ['DIBEA TSX-25000A',\n",
       "  '핸디/스틱청소기 / 핸디+스틱형 / 무선형 / 전압: 29.6V / 헤파필터 / H13급 / 싸이클론 / BLDC모터 / 흡입력: 25000Pa / 먼지통용량: 0.5L / 충전시간: 2시간 / 사용시간: 45분 / 배터리: 리튬이온 / 용량: 2000mAh / 구성: 바닥, 침구, 솔형, 틈새, 연장툴, 거치대 / LED라이트 / 무게: 1.35kg / 색상:블랙 / 소비전력: 400W / 크기(가로x세로x깊이): 256x1172x217xmm',\n",
       "  '199000'],\n",
       " ['다이슨 옴니 글라이드 컴플리트+',\n",
       "  '핸디/스틱청소기 / 핸디+스틱형 / 무선형 / 싸이클론 / 5단계여과 / 흡입력: 50AW / 먼지통용량: 0.2L / 충전시간: 3시간30분 / 사용시간: 20분 / 배터리: 리튬이온 / 구성: 전방향플러피, 미니모터, 솔형, 틈새, 서페이스, 연장툴, 거치대, 도킹스테이션 / 무게: 1.9kg / 색상:퍼플 / 크기(가로x세로x깊이): 208x1077x92mm',\n",
       "  '584200'],\n",
       " ['다이슨 디지털 슬림 플러피+',\n",
       "  '핸디/스틱청소기 / 핸디+스틱형 / 무선형 / 싸이클론 / 5단계여과 / 흡입력: 100AW / 먼지통용량: 0.3L / 충전시간: 3시간30분 / 사용시간: 40분 / 구성: 슬림소프트롤러, 미니모터, 솔형, 스터번더트, 틈새, 매트리스, 연장툴, 거치대, 도킹스테이션 / 디스플레이표시창 / 무게: 1.9kg / 색상:오렌지 / 크기(가로x세로x깊이): 250x1100x250mm',\n",
       "  '697760'],\n",
       " ['삼성전자 제트 VS20T9213QDCSP',\n",
       "  '핸디/스틱청소기 / 핸디+스틱형 / 무선형 / 전압: 21.6V / 헤파필터 / 싸이클론 / 5단계여과 / 인버터모터 / 흡입력: 200W / 먼지통용량: 0.5L / 충전시간: 3시간30분 / 사용시간: 1시간 / 배터리: 리튬이온 (2개) / 구성: 바닥, 솔형, 틈새, 거치대 / 디스플레이표시창 / 프리볼트 / 무게: 2.64kg / 색상:티탄+그레이 / 소비전력: 550W / 알레르기인증(BAF) / 미세먼지인증(SLG) / 크기(가로x세로x깊이): 250x1123x215mm / [VCA-SAE90A] 청정스테이션 / 색상: 블랙 / 크기(가로x세로x깊이): 185x600x180mm',\n",
       "  '769000'],\n",
       " ['LG전자 코드제로 A9S A9470',\n",
       "  '핸디/스틱청소기 / 핸디+스틱형 / 무선형 / 헤파필터 / 2중터보싸이클론 / 5단계여과 / 인버터모터 / 충전시간: 4시간 / 사용시간: 2시간 / 배터리: 리튬이온 (2개) / 구성: 바닥, 물걸레, 솔형, 틈새, 거치대 / 자동물공급 / 디스플레이표시창 / 배터리잔량표시 / WiFi / 색상:아이언그레이 / 소비전력: 590W / 미세먼지인증(SLG) / 크기(가로x세로x깊이): 250x1120x260mm',\n",
       "  '890450'],\n",
       " ['샤오미 드리미 V11',\n",
       "  '핸디/스틱청소기 / 핸디+스틱형 / 무선형 / 전압: 25.2V / 멀티싸이클론 / 5단계여과 / BLDC모터 / 흡입력: 150AW / 흡입력: 25000Pa / 먼지통용량: 0.5L / 충전시간: 4시간 / 사용시간: 1시간30분 / 용량: 3000mAh / 구성: 바닥, 침구, 솔형, 틈새, 연장툴, 거치대 / 디스플레이표시창 / 무게: 1.6kg / 색상:레드 / 소비전력: 450W / 크기(가로x세로): 202x1221mm',\n",
       "  '256400'],\n",
       " ['다이슨 V11 컴플리트',\n",
       "  '핸디/스틱청소기 / 핸디+스틱형 / 무선형 / 싸이클론 / 흡입력: 185AW / 먼지통용량: 0.54L / 충전시간: 4시간30분 / 사용시간: 1시간 / 구성: 하이토크, 소프트롤러, 미니모터, 솔형, 더스팅, 스터번더트, 틈새, 매트리스, 거치대, 도킹스테이션 / 디스플레이표시창 / 무게: 2.95kg / 색상:니켈블루 / 크기(가로x세로x깊이): 250x1280x261mm',\n",
       "  '828000'],\n",
       " ['휴스톰 HS-10000',\n",
       "  '물걸레청소기 / 스틱형 / 회전식 / 무선형 / 전압: 14.6V / 충전시간: 2시간30분 / 사용시간: 30분 / 배터리: 리튬이온 / 용량: 2750mAh / LED라이트 / 가구손상방지 / 각도조절 / 셀프스탠딩 / 배터리잔량표시 / 프리볼트 / 무게: 3.7kg / 색상:블랙 / 모터과열방지 / 과충전방지 / 오토스토핑 / 패드: 극세사(벨크로형) / 크기(가로x세로x깊이): 410x1180x205mm',\n",
       "  '141650'],\n",
       " ['삼성전자 제트 VS20R9078S2',\n",
       "  '핸디/스틱청소기 / 핸디+스틱형 / 무선형 / 전압: 21.9V / 헤파필터 / 싸이클론 / 5단계여과 / 인버터모터 / 흡입력: 200W / 먼지통용량: 0.5L / 충전시간: 3시간30분 / 사용시간: 2시간 / 배터리: 리튬이온 (2개) / 구성: 바닥, 물걸레, 침구, 솔형, 틈새, 연장툴, 거치대 / 물걸레 / 디스플레이표시창 / 프리볼트 / 무게: 2.7kg / 색상:티탄+블루 / 소비전력: 550W / 알레르기인증(BAF) / 미세먼지인증(SLG) / 크기(가로x세로x깊이): 250x1136x215mm',\n",
       "  '651150'],\n",
       " ['일렉트로룩스 PURE Q9 PQ92-3OBF',\n",
       "  '핸디/스틱청소기 / 핸디+스틱형 / 무선형 / 전압: 25.2V / 싸이클론 / 5단계여과 / 먼지통용량: 0.3L / 충전시간: 4시간 / 사용시간: 53분 / 배터리: 리튬이온 / 구성: 바닥, 솔형, 더스팅, 틈새, 거치대 / 셀프스탠딩 / LED라이트 / 배터리잔량표시 / 무게: 2.89kg / 색상:인디고블루 / 크기(가로x세로x깊이): 256x1097x155mm',\n",
       "  '330620'],\n",
       " ['샤오미 미지아 차량용 핸디 무선 청소기 (해외구매)',\n",
       "  '차량용청소기 / 무선 / 흡입력: 13,000Pa / 최대출력: 120W / 헤파필터 / 추가노즐: 틈새, 솔브러쉬 / 사용시간: 9~30분 / 버튼 잠금 장치 / 2단 세기 조절 / 크기: 55x267mm / 무게: 500g',\n",
       "  '33900'],\n",
       " ['한샘 HSBC-6000W',\n",
       "  '욕실청소기 / 핸디형 / 무선형 / 충전시간: 4시간 / 사용시간: 1시간40분 / 용량: 2000mAh / 프리볼트 / 색상:화이트 / 소비전력: 30W / 완전방수 / 브러쉬: 평면, 틈새, 스크럽',\n",
       "  '71160'],\n",
       " ['삼성전자 제트 VS20T9213QDCSW',\n",
       "  '핸디/스틱청소기 / 핸디+스틱형 / 무선형 / 전압: 21.6V / 헤파필터 / 싸이클론 / 5단계여과 / 인버터모터 / 흡입력: 200W / 먼지통용량: 0.5L / 충전시간: 3시간30분 / 사용시간: 1시간 / 배터리: 리튬이온 / 구성: 바닥, 물걸레, 솔형, 틈새, 거치대 / 디스플레이표시창 / 프리볼트 / 무게: 2.64kg / 색상:티탄+그레이 / 소비전력: 550W / 알레르기인증(BAF) / 미세먼지인증(SLG) / 크기(가로x세로x깊이): 250x1123x215mm / [VCA-SAE90A] 청정스테이션 / 색상: 블랙 / 크기(가로x세로x깊이): 185x600x180mm',\n",
       "  '712100'],\n",
       " ['LG전자 코드제로 A9S A9300',\n",
       "  '핸디/스틱청소기 / 핸디+스틱형 / 무선형 / 헤파필터 / 2중터보싸이클론 / 5단계여과 / 인버터모터 / 흡입력: 200W / 충전시간: 4시간 / 사용시간: 1시간 / 배터리: 리튬이온 / 구성: 바닥, 솔형, 굳은먼지, 틈새, 매트리스, 거치대 / 디스플레이표시창 / 배터리잔량표시 / WiFi / 색상:아이언그레이 / 소비전력: 590W / 미세먼지인증(SLG) / 크기(가로x세로x깊이): 250x1120x260mm',\n",
       "  '698880'],\n",
       " ['LG전자 코드제로 A9S A9500',\n",
       "  '핸디/스틱청소기 / 핸디+스틱형 / 무선형 / 헤파필터 / 2중터보싸이클론 / 5단계여과 / 인버터모터 / 흡입력: 200W / 충전시간: 4시간 / 사용시간: 2시간 / 배터리: 리튬이온 (2개) / 구성: 바닥, 침구, 솔형, 굳은먼지, 틈새, 매트리스, 거치대 / 디스플레이표시창 / 배터리잔량표시 / WiFi / 색상:아이언그레이 / 소비전력: 590W / 미세먼지인증(SLG) / 크기(가로x세로x깊이): 250x1120x260mm',\n",
       "  '852690'],\n",
       " ['LG전자 코드제로 A9 A9200',\n",
       "  '핸디/스틱청소기 / 핸디+스틱형 / 무선형 / 헤파필터 / 2중터보싸이클론 / 5단계여과 / 인버터모터 / 충전시간: 3시간30분 / 사용시간: 40분 / 배터리: 리튬이온 / 구성: 바닥, 솔형, 틈새, 거치대 / 색상:아이언그레이 / 소비전력: 450W / 알레르기인증(BAF) / 미세먼지인증(SLG) / 크기(가로x세로x깊이): 250x1120x260mm',\n",
       "  '646570'],\n",
       " ['샤오미 TROUVER TECH SOLO10',\n",
       "  '핸디/스틱청소기 / 핸디+스틱형 / 무선형 / 전압: 21.6V / 5단계여과 / BLDC모터 / 흡입력: 85AW / 흡입력: 18000Pa / 먼지통용량: 0.4L / 충전시간: 3시간30분 / 사용시간: 48분 / 용량: 2000mAh / 구성: 바닥, 솔형, 틈새 / 디스플레이표시창 / 배터리잔량표시 / 무게: 1.4kg / 색상:화이트+레드 / 소비전력: 300W',\n",
       "  '89500'],\n",
       " ['샤오미 SHUNZAO Z11',\n",
       "  '핸디/스틱청소기 / 핸디+스틱형 / 무선형 / 전압: 25.2V / 헤파필터 / 싸이클론 / 5단계여과 / 흡입력: 150AW / 흡입력: 26000Pa / 먼지통용량: 0.5L / 충전시간: 3시간 / 사용시간: 1시간 / 배터리: 리튬이온 / 용량: 2500mAh / 구성: 바닥, 침구, 솔형, 틈새, 연장툴, 거치대 / 디스플레이표시창 / 배터리잔량표시 / 색상:화이트',\n",
       "  '159000'],\n",
       " ['일렉트로룩스 ZB3302AK',\n",
       "  '핸디/스틱청소기 / 핸디+스틱형 / 무선형 / 전압: 14.4V / 4단계여과 / 먼지통용량: 0.42L / 충전시간: 4시간 / 사용시간: 42분 / 배터리: 리튬이온 / 구성: 바닥, 침구, 틈새, 긴틈새, 패브릭, 연장툴, 거치대 / 브러쉬자동청소 / 셀프스탠딩 / LED라이트 / 배터리잔량표시 / 무게: 3.22kg / 색상:스페이스틸 / 알레르기인증(BAF) / 크기(가로x세로x깊이): 303x690x162mm',\n",
       "  '154790'],\n",
       " ['다이슨 옴니 글라이드+',\n",
       "  '핸디/스틱청소기 / 핸디+스틱형 / 무선형 / 싸이클론 / 5단계여과 / 흡입력: 50AW / 먼지통용량: 0.2L / 충전시간: 3시간30분 / 사용시간: 20분 / 배터리: 리튬이온 / 구성: 전방향플러피, 미니모터, 솔형, 틈새, 서페이스, 도킹스테이션 / 무게: 1.9kg / 색상:골드 / 크기(가로x세로x깊이): 208x1077x92mm',\n",
       "  '512280'],\n",
       " ['시원코퍼레이션 SRV-2010C',\n",
       "  '핸디/스틱청소기 / 핸디형 / 무선형 / 헤파필터 / H13급 / BLDC모터 / 흡입력: 15000Pa / 먼지통용량: 0.09L / 충전시간: 5시간 / 사용시간: 28분 / 용량: 2500mAh / 구성: 솔형, 틈새, 거치대 / 무게: 0.52kg / 색상:화이트 / 소비전력: 120W / 크기(가로x세로x깊이): 75x415x70mm',\n",
       "  '75760'],\n",
       " ['샤오미 SWDK-D260',\n",
       "  '물걸레청소기 / 스틱형 / 왕복식 / 무선형 / 전압: 12.6V / 충전시간: 3시간 / 사용시간: 50분 / 배터리: 리튬이온 / 용량: 2000mAh / 물분사 / LED라이트 / 프리볼트 / 무게: 2.4kg / 색상:화이트 / 110V / 변환어댑터: 필요',\n",
       "  '63450'],\n",
       " ['DIBEA DW200',\n",
       "  '핸디/스틱청소기 / 핸디+스틱형 / 무선형 / 전압: 22.2V / 싸이클론 / 4단계여과 / 흡입력: 10000Pa / 먼지통용량: 0.5L / 충전시간: 4~5시간 / 사용시간: 35분 / 배터리: 리튬이온 / 용량: 2200mAh / 구성: 바닥, 솔형, 틈새, 연장툴 / 무게: 2kg / 색상:화이트 / 소비전력: 150W / 100V / 변환어댑터: 필요 / 크기(가로x세로x깊이): 210x1040x104mm',\n",
       "  '66340'],\n",
       " ['다이슨 V11 220 에어와트 CF+',\n",
       "  '핸디/스틱청소기 / 핸디+스틱형 / 무선형 / 싸이클론 / 6단계여과 / 흡입력: 220AW / 먼지통용량: 0.54L / 충전시간: 4시간30분 / 사용시간: 1시간 / 구성: 하이토크, 소프트롤러, 미니모터, 솔형, 더스팅, 스터번더트, 틈새, 매트리스, 거치대, 도킹스테이션 / 디스플레이표시창 / 무게: 2.95kg / 크기(가로x세로x깊이): 250x1280x261mm',\n",
       "  '1068520'],\n",
       " ['제이케이컴즈 본스펙 차량용 무선청소기 PA8000',\n",
       "  '차량용청소기 / 무선 / 흡입력: 6,000Pa / 헤파필터 / 추가노즐: 틈새, 솔브러쉬 / 사용시간: 20분 / 색상: 블랙, 화이트 / 크기: 73x73x305mm / 무게: 703g',\n",
       "  '49800']]"
      ]
     },
     "execution_count": 44,
     "metadata": {},
     "output_type": "execute_result"
    }
   ],
   "source": [
    "prod_items = soup.select(\"div.main_prodlist > ul.product_list > li.prod_item\")\n",
    "prod_data = get_prod_items(prod_items)\n",
    "print(len(prod_data))\n",
    "prod_data"
   ]
  },
  {
   "cell_type": "markdown",
   "metadata": {},
   "source": [
    "## 2.데이터 수집  - 여러페이지 \n",
    "* 다나와 검색겨로가 페이지 url분석"
   ]
  },
  {
   "cell_type": "code",
   "execution_count": 50,
   "metadata": {},
   "outputs": [
    {
     "name": "stdout",
     "output_type": "stream",
     "text": [
      "http://search.danawa.com/dsearch.php?query=무선청소기&volumeType=allvs&page=3&limit=40&sort=saveDESC&list=list&boost=true&addDelivery=N&defaultUICategoryCode=103740&defaultPhysicsCategoryCode=72%7C80%7C81%7C0&defaultVmTab=2349&defaultVaTab=123072&tab=goods\n"
     ]
    }
   ],
   "source": [
    "def get_search_page_url(keyword, page):\n",
    "    return 'http://search.danawa.com/dsearch.php?query={}&volumeType=allvs&page={}&limit=40&sort=saveDESC&list=list&boost=true&addDelivery=N&defaultUICategoryCode=103740&defaultPhysicsCategoryCode=72%7C80%7C81%7C0&defaultVmTab=2349&defaultVaTab=123072&tab=goods'.format(keyword, page)\n",
    "\n",
    "kweyword  = '무선청소기'\n",
    "page = 3\n",
    "url  = get_search_page_url(kweyword,page)\n",
    "print(url)"
   ]
  },
  {
   "cell_type": "code",
   "execution_count": 56,
   "metadata": {},
   "outputs": [],
   "source": [
    "#\n",
    "from selenium import webdriver\n",
    "import time\n",
    "from bs4 import BeautifulSoup\n",
    "from tqdm import tqdm_notebook\n",
    "driver.implicitly_wait(3)"
   ]
  },
  {
   "cell_type": "code",
   "execution_count": 67,
   "metadata": {},
   "outputs": [
    {
     "data": {
      "application/vnd.jupyter.widget-view+json": {
       "model_id": "93cf007edb5c46eea557c3cb62c9015f",
       "version_major": 2,
       "version_minor": 0
      },
      "text/plain": [
       "HBox(children=(HTML(value=''), FloatProgress(value=0.0, max=10.0), HTML(value='')))"
      ]
     },
     "metadata": {},
     "output_type": "display_data"
    },
    {
     "name": "stdout",
     "output_type": "stream",
     "text": [
      "\n"
     ]
    }
   ],
   "source": [
    "keyword = '무선청소기'\n",
    "total_page = 10\n",
    "prod_data_total = []\n",
    "\n",
    "\n",
    "for page in tqdm_notebook(range(1, total_page + 1)):\n",
    "    url = get_search_page_url(keyword, page)\n",
    "    driver.get(url)\n",
    "    time.sleep(5)\n",
    "    \n",
    "    html = driver.page_source\n",
    "    soup = BeautifulSoup(html, \"html.parser\")\n",
    "    \n",
    "    prod_items = soup.select(\"div.main_prodlist > ul.product_list > li.prod_item\")\n",
    "    prod_item_list = get_prod_items(prod_items)\n",
    "    \n",
    "    # 추툴 데이터 저장\n",
    "    prod_data_total = prod_data_total + prod_item_list"
   ]
  },
  {
   "cell_type": "markdown",
   "metadata": {},
   "source": [
    "## 3.수집데이터 저장"
   ]
  },
  {
   "cell_type": "code",
   "execution_count": 68,
   "metadata": {},
   "outputs": [],
   "source": [
    "import pandas as pd"
   ]
  },
  {
   "cell_type": "code",
   "execution_count": 71,
   "metadata": {},
   "outputs": [],
   "source": [
    "data  = pd.DataFrame(prod_data_total)\n",
    "data.columns = ['상품명', '스펙 목록', '가격']\n",
    "data.to_excel(\"../data/0104_danawa_crawling_result.xlsx\", index = False)"
   ]
  },
  {
   "cell_type": "code",
   "execution_count": 72,
   "metadata": {},
   "outputs": [
    {
     "name": "stdout",
     "output_type": "stream",
     "text": [
      "<class 'pandas.core.frame.DataFrame'>\n",
      "RangeIndex: 410 entries, 0 to 409\n",
      "Data columns (total 3 columns):\n",
      " #   Column  Non-Null Count  Dtype \n",
      "---  ------  --------------  ----- \n",
      " 0   상품명     410 non-null    object\n",
      " 1   스펙 목록   410 non-null    object\n",
      " 2   가격      410 non-null    int64 \n",
      "dtypes: int64(1), object(2)\n",
      "memory usage: 9.7+ KB\n"
     ]
    }
   ],
   "source": [
    "readData = pd.read_excel(\"../data/0104_danawa_crawling_result.xlsx\")"
   ]
  },
  {
   "cell_type": "code",
   "execution_count": 73,
   "metadata": {},
   "outputs": [
    {
     "name": "stdout",
     "output_type": "stream",
     "text": [
      "<class 'pandas.core.frame.DataFrame'>\n",
      "RangeIndex: 410 entries, 0 to 409\n",
      "Data columns (total 3 columns):\n",
      " #   Column  Non-Null Count  Dtype \n",
      "---  ------  --------------  ----- \n",
      " 0   상품명     410 non-null    object\n",
      " 1   스펙 목록   410 non-null    object\n",
      " 2   가격      410 non-null    int64 \n",
      "dtypes: int64(1), object(2)\n",
      "memory usage: 9.7+ KB\n"
     ]
    }
   ],
   "source": [
    "readData.info()"
   ]
  },
  {
   "cell_type": "code",
   "execution_count": 76,
   "metadata": {},
   "outputs": [
    {
     "data": {
      "text/html": [
       "<div>\n",
       "<style scoped>\n",
       "    .dataframe tbody tr th:only-of-type {\n",
       "        vertical-align: middle;\n",
       "    }\n",
       "\n",
       "    .dataframe tbody tr th {\n",
       "        vertical-align: top;\n",
       "    }\n",
       "\n",
       "    .dataframe thead th {\n",
       "        text-align: right;\n",
       "    }\n",
       "</style>\n",
       "<table border=\"1\" class=\"dataframe\">\n",
       "  <thead>\n",
       "    <tr style=\"text-align: right;\">\n",
       "      <th></th>\n",
       "      <th>상품명</th>\n",
       "      <th>스펙 목록</th>\n",
       "      <th>가격</th>\n",
       "    </tr>\n",
       "  </thead>\n",
       "  <tbody>\n",
       "    <tr>\n",
       "      <th>405</th>\n",
       "      <td>테팔 에어포스360 에센셜</td>\n",
       "      <td>핸디/스틱청소기 / 핸디+스틱형 / 무선형 / 전압: 21.9V / 에어포스싸이클론...</td>\n",
       "      <td>157170</td>\n",
       "    </tr>\n",
       "    <tr>\n",
       "      <th>406</th>\n",
       "      <td>유니맥스 UVC-1891P</td>\n",
       "      <td>핸디/스틱청소기 / 핸디+스틱형 / 무선형 / 전압: 22.2V / 헤파필터 / 싸...</td>\n",
       "      <td>73130</td>\n",
       "    </tr>\n",
       "    <tr>\n",
       "      <th>407</th>\n",
       "      <td>신일산업 SVC-S4800SJ</td>\n",
       "      <td>핸디/스틱청소기 / 핸디형 / 무선형 / 전압: 4.8V / 싸이클론 / 흡입력: ...</td>\n",
       "      <td>37510</td>\n",
       "    </tr>\n",
       "    <tr>\n",
       "      <th>408</th>\n",
       "      <td>삼성전자 제트 VS20T9258SFCS</td>\n",
       "      <td>핸디/스틱청소기 / 핸디+스틱형 / 무선형 / 전압: 21.6V / 헤파필터 / 싸...</td>\n",
       "      <td>1232030</td>\n",
       "    </tr>\n",
       "    <tr>\n",
       "      <th>409</th>\n",
       "      <td>LG전자 코드제로 A9S A9300SK + M970S</td>\n",
       "      <td>핸디/스틱청소기+로봇청소기 / 핸디+스틱형 / 무선형 / 헤파필터 / 2중터보싸이클...</td>\n",
       "      <td>1480500</td>\n",
       "    </tr>\n",
       "  </tbody>\n",
       "</table>\n",
       "</div>"
      ],
      "text/plain": [
       "                               상품명  \\\n",
       "405                 테팔 에어포스360 에센셜   \n",
       "406                 유니맥스 UVC-1891P   \n",
       "407               신일산업 SVC-S4800SJ   \n",
       "408          삼성전자 제트 VS20T9258SFCS   \n",
       "409  LG전자 코드제로 A9S A9300SK + M970S   \n",
       "\n",
       "                                                 스펙 목록       가격  \n",
       "405  핸디/스틱청소기 / 핸디+스틱형 / 무선형 / 전압: 21.9V / 에어포스싸이클론...   157170  \n",
       "406  핸디/스틱청소기 / 핸디+스틱형 / 무선형 / 전압: 22.2V / 헤파필터 / 싸...    73130  \n",
       "407  핸디/스틱청소기 / 핸디형 / 무선형 / 전압: 4.8V / 싸이클론 / 흡입력: ...    37510  \n",
       "408  핸디/스틱청소기 / 핸디+스틱형 / 무선형 / 전압: 21.6V / 헤파필터 / 싸...  1232030  \n",
       "409  핸디/스틱청소기+로봇청소기 / 핸디+스틱형 / 무선형 / 헤파필터 / 2중터보싸이클...  1480500  "
      ]
     },
     "execution_count": 76,
     "metadata": {},
     "output_type": "execute_result"
    }
   ],
   "source": [
    "readData.tail()"
   ]
  },
  {
   "cell_type": "markdown",
   "metadata": {},
   "source": [
    "## 4.수집된 데이터 불러오기 "
   ]
  },
  {
   "cell_type": "code",
   "execution_count": 18,
   "metadata": {},
   "outputs": [],
   "source": [
    "import pandas as pd\n",
    "\n",
    "\n",
    "data = pd.read_excel(\"../data/1_danawa_crawling_result.xlsx\")\n",
    "#data1 = pd.read_excel(\"../data/2_danawa_data_final.xlsx\")"
   ]
  },
  {
   "cell_type": "code",
   "execution_count": 3,
   "metadata": {},
   "outputs": [
    {
     "data": {
      "text/html": [
       "<div>\n",
       "<style scoped>\n",
       "    .dataframe tbody tr th:only-of-type {\n",
       "        vertical-align: middle;\n",
       "    }\n",
       "\n",
       "    .dataframe tbody tr th {\n",
       "        vertical-align: top;\n",
       "    }\n",
       "\n",
       "    .dataframe thead th {\n",
       "        text-align: right;\n",
       "    }\n",
       "</style>\n",
       "<table border=\"1\" class=\"dataframe\">\n",
       "  <thead>\n",
       "    <tr style=\"text-align: right;\">\n",
       "      <th></th>\n",
       "      <th>상품명</th>\n",
       "      <th>스펙 목록</th>\n",
       "      <th>가격</th>\n",
       "    </tr>\n",
       "  </thead>\n",
       "  <tbody>\n",
       "    <tr>\n",
       "      <th>0</th>\n",
       "      <td>샤오미 드리미 V10</td>\n",
       "      <td>핸디/스틱청소기 / 핸디+스틱형 / 무선형 / 전압: 25.2V / 헤파필터 / H...</td>\n",
       "      <td>173900</td>\n",
       "    </tr>\n",
       "    <tr>\n",
       "      <th>1</th>\n",
       "      <td>원더스리빙 다이나킹 Z9</td>\n",
       "      <td>핸디/스틱청소기 / 핸디+스틱형 / 무선형 / 전압: 28.8V / 헤파필터 / 듀...</td>\n",
       "      <td>299000</td>\n",
       "    </tr>\n",
       "    <tr>\n",
       "      <th>2</th>\n",
       "      <td>LG전자 코드제로 A9 A978</td>\n",
       "      <td>핸디/스틱청소기 / 핸디+스틱형 / 무선형 / 헤파필터 / 2중터보싸이클론 / 5단...</td>\n",
       "      <td>1005340</td>\n",
       "    </tr>\n",
       "    <tr>\n",
       "      <th>3</th>\n",
       "      <td>샤오미 SHUNZAO 차량용 무선청소기 2세대 Z1 PRO (해외구매)</td>\n",
       "      <td>차량용청소기 / 무선 / 흡입력: 12,000Pa / 최대출력: 120W / 2중필...</td>\n",
       "      <td>48570</td>\n",
       "    </tr>\n",
       "    <tr>\n",
       "      <th>4</th>\n",
       "      <td>델로라 V11 파워 300W</td>\n",
       "      <td>핸디/스틱청소기 / 핸디+스틱형 / 무선형 / 전압: 29.6V / 헤파필터 / 싸...</td>\n",
       "      <td>141000</td>\n",
       "    </tr>\n",
       "  </tbody>\n",
       "</table>\n",
       "</div>"
      ],
      "text/plain": [
       "                                       상품명  \\\n",
       "0                              샤오미 드리미 V10   \n",
       "1                            원더스리빙 다이나킹 Z9   \n",
       "2                        LG전자 코드제로 A9 A978   \n",
       "3  샤오미 SHUNZAO 차량용 무선청소기 2세대 Z1 PRO (해외구매)   \n",
       "4                          델로라 V11 파워 300W   \n",
       "\n",
       "                                               스펙 목록       가격  \n",
       "0  핸디/스틱청소기 / 핸디+스틱형 / 무선형 / 전압: 25.2V / 헤파필터 / H...   173900  \n",
       "1  핸디/스틱청소기 / 핸디+스틱형 / 무선형 / 전압: 28.8V / 헤파필터 / 듀...   299000  \n",
       "2  핸디/스틱청소기 / 핸디+스틱형 / 무선형 / 헤파필터 / 2중터보싸이클론 / 5단...  1005340  \n",
       "3  차량용청소기 / 무선 / 흡입력: 12,000Pa / 최대출력: 120W / 2중필...    48570  \n",
       "4  핸디/스틱청소기 / 핸디+스틱형 / 무선형 / 전압: 29.6V / 헤파필터 / 싸...   141000  "
      ]
     },
     "execution_count": 3,
     "metadata": {},
     "output_type": "execute_result"
    }
   ],
   "source": [
    "data.head()"
   ]
  },
  {
   "cell_type": "markdown",
   "metadata": {},
   "source": [
    "## 5.전처리"
   ]
  },
  {
   "cell_type": "markdown",
   "metadata": {},
   "source": [
    "### 5.1 회사명/모델명 정리"
   ]
  },
  {
   "cell_type": "code",
   "execution_count": 19,
   "metadata": {},
   "outputs": [],
   "source": [
    "company_list = []\n",
    "product_list = []\n",
    "\n",
    "for title in data['상품명']:\n",
    "    title_info = title.split(' ', 1)\n",
    "    company_name = title_info[0]\n",
    "    prodcut_name = title_info[1]\n",
    "    \n",
    "    company_list.append(company_name)\n",
    "    product_list.append(prodcut_name)"
   ]
  },
  {
   "cell_type": "code",
   "execution_count": 6,
   "metadata": {},
   "outputs": [
    {
     "name": "stdout",
     "output_type": "stream",
     "text": [
      "300\n",
      "300\n"
     ]
    }
   ],
   "source": [
    "print(len(data))\n",
    "print(len(company_list))"
   ]
  },
  {
   "cell_type": "code",
   "execution_count": 20,
   "metadata": {},
   "outputs": [
    {
     "name": "stdout",
     "output_type": "stream",
     "text": [
      "['샤오미', '원더스리빙', 'LG전자', '샤오미', '델로라']\n"
     ]
    }
   ],
   "source": [
    "print(company_list[:5])"
   ]
  },
  {
   "cell_type": "code",
   "execution_count": 21,
   "metadata": {},
   "outputs": [
    {
     "name": "stdout",
     "output_type": "stream",
     "text": [
      "300\n",
      "['드리미 V10', '다이나킹 Z9', '코드제로 A9 A978', 'SHUNZAO 차량용 무선청소기 2세대 Z1 PRO (해외구매)', 'V11 파워 300W']\n"
     ]
    }
   ],
   "source": [
    "print(len(product_list))\n",
    "print(product_list[:5])"
   ]
  },
  {
   "cell_type": "markdown",
   "metadata": {},
   "source": [
    "### 5.2 스펙목록에서 카테고리 , 사용시간, 흡입력을 추출해서 정리"
   ]
  },
  {
   "cell_type": "code",
   "execution_count": 22,
   "metadata": {},
   "outputs": [
    {
     "data": {
      "text/plain": [
       "'핸디/스틱청소기 / 핸디+스틱형 / 무선형 / 전압: 25.2V / 헤파필터 / H12급 / 5단계여과 / 흡입력: 140AW / 흡입력: 22000Pa / 먼지통용량: 0.5L / 충전시간: 3시간30분 / 사용시간: 1시간 / 용량: 2500mAh / 브러쉬: 바닥, 솔형, 틈새, 침구, 연장관 / 거치대 / 무게: 1.5kg / 색상:화이트 / 소비전력: 450W'"
      ]
     },
     "execution_count": 22,
     "metadata": {},
     "output_type": "execute_result"
    }
   ],
   "source": [
    "data['스펙 목록'][0]"
   ]
  },
  {
   "cell_type": "code",
   "execution_count": 27,
   "metadata": {},
   "outputs": [
    {
     "data": {
      "text/plain": [
       "['핸디/스틱청소기',\n",
       " '핸디+스틱형',\n",
       " '무선형',\n",
       " '전압: 25.2V',\n",
       " '헤파필터',\n",
       " 'H12급',\n",
       " '5단계여과',\n",
       " '흡입력: 140AW',\n",
       " '흡입력: 22000Pa',\n",
       " '먼지통용량: 0.5L',\n",
       " '충전시간: 3시간30분',\n",
       " '사용시간: 1시간',\n",
       " '용량: 2500mAh',\n",
       " '브러쉬: 바닥, 솔형, 틈새, 침구, 연장관',\n",
       " '거치대',\n",
       " '무게: 1.5kg',\n",
       " '색상:화이트',\n",
       " '소비전력: 450W']"
      ]
     },
     "execution_count": 27,
     "metadata": {},
     "output_type": "execute_result"
    }
   ],
   "source": [
    "data['스펙 목록'][0].split(' / ')"
   ]
  },
  {
   "cell_type": "code",
   "execution_count": 29,
   "metadata": {},
   "outputs": [
    {
     "data": {
      "text/plain": [
       "['핸디/스틱청소기',\n",
       " '핸디+스틱형',\n",
       " '무선형',\n",
       " '전압: 25.2V',\n",
       " '헤파필터',\n",
       " 'H12급',\n",
       " '5단계여과',\n",
       " '흡입력: 140AW',\n",
       " '흡입력: 22000Pa',\n",
       " '먼지통용량: 0.5L',\n",
       " '충전시간: 3시간30분',\n",
       " '사용시간: 1시간',\n",
       " '용량: 2500mAh',\n",
       " '브러쉬: 바닥, 솔형, 틈새, 침구, 연장관',\n",
       " '거치대',\n",
       " '무게: 1.5kg',\n",
       " '색상:화이트',\n",
       " '소비전력: 450W']"
      ]
     },
     "execution_count": 29,
     "metadata": {},
     "output_type": "execute_result"
    }
   ],
   "source": [
    "spec_list = data['스펙 목록'][0].split(' / ')\n",
    "spec_list"
   ]
  },
  {
   "cell_type": "code",
   "execution_count": 30,
   "metadata": {},
   "outputs": [
    {
     "data": {
      "text/plain": [
       "'핸디/스틱청소기'"
      ]
     },
     "execution_count": 30,
     "metadata": {},
     "output_type": "execute_result"
    }
   ],
   "source": [
    "# 카테고리 정보 추출\n",
    "category = spec_list[0]\n",
    "category"
   ]
  },
  {
   "cell_type": "code",
   "execution_count": 33,
   "metadata": {},
   "outputs": [
    {
     "name": "stdout",
     "output_type": "stream",
     "text": [
      "사용시간: 1시간 - 흡입력: 22000Pa\n"
     ]
    }
   ],
   "source": [
    "# 사용시간, 흡입력이 포함돈 원소 추출 \n",
    "for spec in spec_list:\n",
    "    if '사용시간' in spec:\n",
    "        use_time_spec = spec\n",
    "    elif '흡입력' in spec:\n",
    "        suctions_spec = spec\n",
    "print('{} - {}'.format(use_time_spec, suctions_spec))"
   ]
  },
  {
   "cell_type": "code",
   "execution_count": 36,
   "metadata": {},
   "outputs": [
    {
     "name": "stdout",
     "output_type": "stream",
     "text": [
      "사용시간 : 1시간  - 흡입력 :  22000Pa\n"
     ]
    }
   ],
   "source": [
    "use_time_value = use_time_spec.split(' ')[1].strip()\n",
    "suction_value = suctions_spec.split(' ')[1].strip()\n",
    "\n",
    "print('사용시간 : {}  - 흡입력 :  {}'.format(use_time_value, suction_value))"
   ]
  },
  {
   "cell_type": "code",
   "execution_count": 39,
   "metadata": {},
   "outputs": [],
   "source": [
    "# 카테고리 , 사용시간, 흡입력 추출\n",
    "category_list = []\n",
    "use_time_list = []\n",
    "suction_list = []\n",
    "\n",
    "\n",
    "for spec_data in data['스펙 목록']:\n",
    "    spec_list = spec_data.split(' / ')\n",
    "    category = spec_list[0]\n",
    "    category_list.append(category)    \n",
    "    \n",
    "    # 사용시간, 흡입력 정보가 없는 제품을 위해 변수를 생성\n",
    "    use_time_vlaue = None\n",
    "    suction_value = None\n",
    "    \n",
    "    # spec_data에서 \n",
    "    for spec in spec_list:\n",
    "        if '사용시간' in spec:\n",
    "            use_time_value = spec.split(' ')[1].strip()\n",
    "        elif '흡입력' in spec:\n",
    "            suction_value = spec.split(' ')[1].strip()\n",
    "            \n",
    "    use_time_list.append(use_time_value)\n",
    "    suction_list.append(suction_value)    "
   ]
  },
  {
   "cell_type": "code",
   "execution_count": 42,
   "metadata": {},
   "outputs": [
    {
     "name": "stdout",
     "output_type": "stream",
     "text": [
      "\n",
      " 카테고리 :  300 ['핸디/스틱청소기', '핸디/스틱청소기', '핸디/스틱청소기', '차량용청소기', '핸디/스틱청소기']\n",
      "\n",
      " 사용시간 :  300 ['1시간', '1시간5분', '80분', '30분', '1시간10분']\n",
      "\n",
      " 흡입력 :  300 ['22000Pa', '22000Pa', '140W', '12,000Pa', '22000Pa']\n"
     ]
    }
   ],
   "source": [
    "print(\"\\n 카테고리 : \",len(category_list), category_list[0:5])\n",
    "print(\"\\n 사용시간 : \",len(use_time_list), use_time_list[0:5])\n",
    "print(\"\\n 흡입력 : \",len(suction_list), suction_list[0:5])"
   ]
  },
  {
   "cell_type": "markdown",
   "metadata": {},
   "source": [
    "### 5.3 무선 청소기 사용시간 단위 통일 시키기"
   ]
  },
  {
   "cell_type": "code",
   "execution_count": 43,
   "metadata": {},
   "outputs": [
    {
     "data": {
      "text/plain": [
       "['1시간',\n",
       " '1시간5분',\n",
       " '80분',\n",
       " '30분',\n",
       " '1시간10분',\n",
       " '60분',\n",
       " '17분',\n",
       " '120분',\n",
       " '60분',\n",
       " '42분',\n",
       " '40분',\n",
       " '60분',\n",
       " '80분',\n",
       " '30분',\n",
       " '30분',\n",
       " '60분',\n",
       " '60분',\n",
       " '50분',\n",
       " '80분',\n",
       " '60분',\n",
       " '120분',\n",
       " '20분',\n",
       " '50분',\n",
       " '1시간',\n",
       " '80분',\n",
       " '80분',\n",
       " '30분',\n",
       " '48분',\n",
       " '30분',\n",
       " '40분',\n",
       " '35분',\n",
       " '35분',\n",
       " '40분(강),',\n",
       " '40분(강),',\n",
       " '1시간',\n",
       " '45분',\n",
       " '40분',\n",
       " '55분',\n",
       " '55분',\n",
       " '50분',\n",
       " '30분',\n",
       " '45분',\n",
       " '20분',\n",
       " '50분',\n",
       " '18분',\n",
       " '25분',\n",
       " '50분',\n",
       " '40분',\n",
       " '30분',\n",
       " '40분',\n",
       " '30분',\n",
       " '15분',\n",
       " '15분',\n",
       " '24분',\n",
       " '50분',\n",
       " '30분',\n",
       " '30분',\n",
       " '40분',\n",
       " '80분',\n",
       " '1시간',\n",
       " '25분',\n",
       " '1시간20분',\n",
       " '12분',\n",
       " '30분',\n",
       " '60분',\n",
       " '40분',\n",
       " '42분',\n",
       " '35분',\n",
       " '30분',\n",
       " '10분',\n",
       " '12~15분',\n",
       " '60분',\n",
       " '12분',\n",
       " '30분',\n",
       " '40분',\n",
       " '20분',\n",
       " '40분',\n",
       " '40분',\n",
       " '35분',\n",
       " '1시간20분',\n",
       " '7분',\n",
       " '40분',\n",
       " '40분',\n",
       " '30분',\n",
       " '40분',\n",
       " '80분',\n",
       " '30분',\n",
       " '20~30분',\n",
       " '50분',\n",
       " '40분',\n",
       " '물걸레:',\n",
       " '40분',\n",
       " '50분',\n",
       " '80분',\n",
       " '80분',\n",
       " '30분',\n",
       " '120분',\n",
       " '40분',\n",
       " '45분',\n",
       " '50분',\n",
       " '40분',\n",
       " '40분',\n",
       " '40분',\n",
       " '40분',\n",
       " '30분',\n",
       " '60분',\n",
       " '40분',\n",
       " '80분',\n",
       " '60분',\n",
       " '40분',\n",
       " '20분',\n",
       " '40분',\n",
       " '40분',\n",
       " '30분',\n",
       " '60분',\n",
       " '35분',\n",
       " '40분',\n",
       " '1시간',\n",
       " '40분',\n",
       " '30분',\n",
       " '40분',\n",
       " '5시간',\n",
       " '5시간',\n",
       " '25분',\n",
       " '25분',\n",
       " '15분',\n",
       " '35분',\n",
       " '35분',\n",
       " '55분',\n",
       " '35분',\n",
       " '9분',\n",
       " '40분',\n",
       " '20분',\n",
       " '20분',\n",
       " '120분',\n",
       " '60분',\n",
       " '30분',\n",
       " '120분',\n",
       " '60분',\n",
       " '40분',\n",
       " '60분',\n",
       " '48분',\n",
       " '48분',\n",
       " '1시간',\n",
       " '30분',\n",
       " '24분',\n",
       " '60분',\n",
       " '75분',\n",
       " '35분',\n",
       " '1시간',\n",
       " '1시간',\n",
       " '1시간',\n",
       " '1시간',\n",
       " '30분',\n",
       " '60분',\n",
       " '50분',\n",
       " '40분',\n",
       " '20분',\n",
       " '30분',\n",
       " '48분',\n",
       " '30분',\n",
       " '48분',\n",
       " '1시간',\n",
       " '12분',\n",
       " '48분',\n",
       " '42분',\n",
       " '30분',\n",
       " '30분',\n",
       " '10분',\n",
       " '1시간',\n",
       " '15분',\n",
       " '40분',\n",
       " '40분',\n",
       " '1시간',\n",
       " '12~30분',\n",
       " '10~15분',\n",
       " '10~15분',\n",
       " '10~15분',\n",
       " '30분',\n",
       " '48분',\n",
       " '60분',\n",
       " '60분',\n",
       " '20분',\n",
       " '40분',\n",
       " '2시간',\n",
       " '28분',\n",
       " '1시간',\n",
       " '50분',\n",
       " '45분',\n",
       " '20분',\n",
       " '15분',\n",
       " '30분',\n",
       " '40분',\n",
       " '30분',\n",
       " '30분',\n",
       " '12분',\n",
       " '20분',\n",
       " '40분',\n",
       " '30분',\n",
       " '45분',\n",
       " '60분',\n",
       " '20분',\n",
       " '20분',\n",
       " '60분',\n",
       " '15분',\n",
       " '40분',\n",
       " '22분',\n",
       " '30분',\n",
       " '40분',\n",
       " '40분',\n",
       " '40분',\n",
       " '1시간',\n",
       " '1시간',\n",
       " '30분',\n",
       " '60분',\n",
       " '15~18분',\n",
       " '12분',\n",
       " '40분',\n",
       " '80분',\n",
       " '30분',\n",
       " '35분',\n",
       " '9분',\n",
       " '40분',\n",
       " '35분',\n",
       " '60분',\n",
       " '1시간25분',\n",
       " '30분',\n",
       " '물걸레:',\n",
       " '15분',\n",
       " '30분',\n",
       " '40분',\n",
       " '30분',\n",
       " '20분',\n",
       " '12분',\n",
       " '30분',\n",
       " '30분',\n",
       " '30분',\n",
       " '11분',\n",
       " '35분',\n",
       " '60분',\n",
       " '34분',\n",
       " '1시간',\n",
       " '20분',\n",
       " '20분',\n",
       " '35분',\n",
       " '30분',\n",
       " '30분',\n",
       " '25분',\n",
       " '12분',\n",
       " '45분',\n",
       " '40분',\n",
       " '20~30분',\n",
       " '30분',\n",
       " '30분',\n",
       " '30분',\n",
       " '30분',\n",
       " '30분',\n",
       " '55분',\n",
       " '20분',\n",
       " '1시간',\n",
       " '55분',\n",
       " '1시간20분',\n",
       " '48분',\n",
       " '25분',\n",
       " '30분',\n",
       " '50분',\n",
       " '25분',\n",
       " '30분',\n",
       " '10분',\n",
       " '35분',\n",
       " '20분',\n",
       " '15분',\n",
       " '48분',\n",
       " '48분',\n",
       " '30분',\n",
       " '30분',\n",
       " '30분',\n",
       " '30분',\n",
       " '30분',\n",
       " '30분',\n",
       " '30분',\n",
       " '1시간50분',\n",
       " '45분',\n",
       " '30분',\n",
       " '3시간30분',\n",
       " '42분',\n",
       " '1시간',\n",
       " '45분',\n",
       " '45분',\n",
       " '40분',\n",
       " '20분',\n",
       " '30분',\n",
       " '17분',\n",
       " '20~30분',\n",
       " '1시간25분',\n",
       " '57분',\n",
       " '40분',\n",
       " '1시간30분',\n",
       " '30분',\n",
       " '1시간']"
      ]
     },
     "execution_count": 43,
     "metadata": {},
     "output_type": "execute_result"
    }
   ],
   "source": [
    "use_time_list"
   ]
  },
  {
   "cell_type": "code",
   "execution_count": 44,
   "metadata": {},
   "outputs": [],
   "source": [
    "def convert_time_minute(time):\n",
    "    try:\n",
    "        if '시간' in time:\n",
    "            hour = time.split('시간')[0]\n",
    "            if '분' in time:\n",
    "                minute = time.split('시간')[-1].split('분')[0]\n",
    "            else:\n",
    "                minute = 0\n",
    "        else:\n",
    "            hour = 0\n",
    "            minute = time.split('분')[0]\n",
    "        return int(hour) * 60 + int(minute)\n",
    "    except:\n",
    "        return None"
   ]
  },
  {
   "cell_type": "code",
   "execution_count": 66,
   "metadata": {},
   "outputs": [
    {
     "name": "stdout",
     "output_type": "stream",
     "text": [
      "None\n"
     ]
    }
   ],
   "source": [
    "print(convert_time_minute('20~30분'))"
   ]
  },
  {
   "cell_type": "code",
   "execution_count": 65,
   "metadata": {},
   "outputs": [
    {
     "data": {
      "text/plain": [
       "[60,\n",
       " 65,\n",
       " 80,\n",
       " 30,\n",
       " 70,\n",
       " 60,\n",
       " 17,\n",
       " 120,\n",
       " 60,\n",
       " 42,\n",
       " 40,\n",
       " 60,\n",
       " 80,\n",
       " 30,\n",
       " 30,\n",
       " 60,\n",
       " 60,\n",
       " 50,\n",
       " 80,\n",
       " 60,\n",
       " 120,\n",
       " 20,\n",
       " 50,\n",
       " 60,\n",
       " 80,\n",
       " 80,\n",
       " 30,\n",
       " 48,\n",
       " 30,\n",
       " 40,\n",
       " 35,\n",
       " 35,\n",
       " 40,\n",
       " 40,\n",
       " 60,\n",
       " 45,\n",
       " 40,\n",
       " 55,\n",
       " 55,\n",
       " 50,\n",
       " 30,\n",
       " 45,\n",
       " 20,\n",
       " 50,\n",
       " 18,\n",
       " 25,\n",
       " 50,\n",
       " 40,\n",
       " 30,\n",
       " 40,\n",
       " 30,\n",
       " 15,\n",
       " 15,\n",
       " 24,\n",
       " 50,\n",
       " 30,\n",
       " 30,\n",
       " 40,\n",
       " 80,\n",
       " 60,\n",
       " 25,\n",
       " 80,\n",
       " 12,\n",
       " 30,\n",
       " 60,\n",
       " 40,\n",
       " 42,\n",
       " 35,\n",
       " 30,\n",
       " 10,\n",
       " None,\n",
       " 60,\n",
       " 12,\n",
       " 30,\n",
       " 40,\n",
       " 20,\n",
       " 40,\n",
       " 40,\n",
       " 35,\n",
       " 80,\n",
       " 7,\n",
       " 40,\n",
       " 40,\n",
       " 30,\n",
       " 40,\n",
       " 80,\n",
       " 30,\n",
       " None,\n",
       " 50,\n",
       " 40,\n",
       " None,\n",
       " 40,\n",
       " 50,\n",
       " 80,\n",
       " 80,\n",
       " 30,\n",
       " 120,\n",
       " 40,\n",
       " 45,\n",
       " 50,\n",
       " 40,\n",
       " 40,\n",
       " 40,\n",
       " 40,\n",
       " 30,\n",
       " 60,\n",
       " 40,\n",
       " 80,\n",
       " 60,\n",
       " 40,\n",
       " 20,\n",
       " 40,\n",
       " 40,\n",
       " 30,\n",
       " 60,\n",
       " 35,\n",
       " 40,\n",
       " 60,\n",
       " 40,\n",
       " 30,\n",
       " 40,\n",
       " 300,\n",
       " 300,\n",
       " 25,\n",
       " 25,\n",
       " 15,\n",
       " 35,\n",
       " 35,\n",
       " 55,\n",
       " 35,\n",
       " 9,\n",
       " 40,\n",
       " 20,\n",
       " 20,\n",
       " 120,\n",
       " 60,\n",
       " 30,\n",
       " 120,\n",
       " 60,\n",
       " 40,\n",
       " 60,\n",
       " 48,\n",
       " 48,\n",
       " 60,\n",
       " 30,\n",
       " 24,\n",
       " 60,\n",
       " 75,\n",
       " 35,\n",
       " 60,\n",
       " 60,\n",
       " 60,\n",
       " 60,\n",
       " 30,\n",
       " 60,\n",
       " 50,\n",
       " 40,\n",
       " 20,\n",
       " 30,\n",
       " 48,\n",
       " 30,\n",
       " 48,\n",
       " 60,\n",
       " 12,\n",
       " 48,\n",
       " 42,\n",
       " 30,\n",
       " 30,\n",
       " 10,\n",
       " 60,\n",
       " 15,\n",
       " 40,\n",
       " 40,\n",
       " 60,\n",
       " None,\n",
       " None,\n",
       " None,\n",
       " None,\n",
       " 30,\n",
       " 48,\n",
       " 60,\n",
       " 60,\n",
       " 20,\n",
       " 40,\n",
       " 120,\n",
       " 28,\n",
       " 60,\n",
       " 50,\n",
       " 45,\n",
       " 20,\n",
       " 15,\n",
       " 30,\n",
       " 40,\n",
       " 30,\n",
       " 30,\n",
       " 12,\n",
       " 20,\n",
       " 40,\n",
       " 30,\n",
       " 45,\n",
       " 60,\n",
       " 20,\n",
       " 20,\n",
       " 60,\n",
       " 15,\n",
       " 40,\n",
       " 22,\n",
       " 30,\n",
       " 40,\n",
       " 40,\n",
       " 40,\n",
       " 60,\n",
       " 60,\n",
       " 30,\n",
       " 60,\n",
       " None,\n",
       " 12,\n",
       " 40,\n",
       " 80,\n",
       " 30,\n",
       " 35,\n",
       " 9,\n",
       " 40,\n",
       " 35,\n",
       " 60,\n",
       " 85,\n",
       " 30,\n",
       " None,\n",
       " 15,\n",
       " 30,\n",
       " 40,\n",
       " 30,\n",
       " 20,\n",
       " 12,\n",
       " 30,\n",
       " 30,\n",
       " 30,\n",
       " 11,\n",
       " 35,\n",
       " 60,\n",
       " 34,\n",
       " 60,\n",
       " 20,\n",
       " 20,\n",
       " 35,\n",
       " 30,\n",
       " 30,\n",
       " 25,\n",
       " 12,\n",
       " 45,\n",
       " 40,\n",
       " None,\n",
       " 30,\n",
       " 30,\n",
       " 30,\n",
       " 30,\n",
       " 30,\n",
       " 55,\n",
       " 20,\n",
       " 60,\n",
       " 55,\n",
       " 80,\n",
       " 48,\n",
       " 25,\n",
       " 30,\n",
       " 50,\n",
       " 25,\n",
       " 30,\n",
       " 10,\n",
       " 35,\n",
       " 20,\n",
       " 15,\n",
       " 48,\n",
       " 48,\n",
       " 30,\n",
       " 30,\n",
       " 30,\n",
       " 30,\n",
       " 30,\n",
       " 30,\n",
       " 30,\n",
       " 110,\n",
       " 45,\n",
       " 30,\n",
       " 210,\n",
       " 42,\n",
       " 60,\n",
       " 45,\n",
       " 45,\n",
       " 40,\n",
       " 20,\n",
       " 30,\n",
       " 17,\n",
       " None,\n",
       " 85,\n",
       " 57,\n",
       " 40,\n",
       " 90,\n",
       " 30,\n",
       " 60]"
      ]
     },
     "execution_count": 65,
     "metadata": {},
     "output_type": "execute_result"
    }
   ],
   "source": [
    "# 사용시간을 분 단위로 좆어하는 함수의 테스트\n",
    "new_use_time_list = []\n",
    "for time in use_time_list:\n",
    "    time_value = convert_time_minute(time)\n",
    "    new_use_time_list.append(time_value)\n",
    "    #print(time, \" = {}\".format(time_value))\n",
    "new_use_time_list"
   ]
  },
  {
   "cell_type": "markdown",
   "metadata": {},
   "source": [
    "### 5.4 무선청소기 흡입력 단위 통일 시키기"
   ]
  },
  {
   "cell_type": "code",
   "execution_count": 70,
   "metadata": {},
   "outputs": [
    {
     "data": {
      "text/plain": [
       "['22000Pa',\n",
       " '22000Pa',\n",
       " '140W',\n",
       " '12,000Pa',\n",
       " '22000Pa',\n",
       " '20000Pa',\n",
       " '12,000Pa',\n",
       " '200W',\n",
       " '220AW',\n",
       " None,\n",
       " '140W',\n",
       " '160AW',\n",
       " '140W',\n",
       " '7,000Pa',\n",
       " None,\n",
       " '200W',\n",
       " None,\n",
       " '25000Pa',\n",
       " '140W',\n",
       " None,\n",
       " '200W',\n",
       " '60W',\n",
       " '25000Pa',\n",
       " None,\n",
       " '140W',\n",
       " '140W',\n",
       " '100AW',\n",
       " None,\n",
       " None,\n",
       " '155AW',\n",
       " '25W',\n",
       " '10000Pa',\n",
       " None,\n",
       " None,\n",
       " '185AW',\n",
       " '9000Pa',\n",
       " '130W',\n",
       " None,\n",
       " None,\n",
       " None,\n",
       " '5,000Pa',\n",
       " None,\n",
       " None,\n",
       " None,\n",
       " '6,200Pa',\n",
       " '4,800Pa',\n",
       " None,\n",
       " '150W',\n",
       " '22000Pa',\n",
       " None,\n",
       " None,\n",
       " '5,800Pa',\n",
       " None,\n",
       " None,\n",
       " '22000Pa',\n",
       " None,\n",
       " '19000Pa',\n",
       " '150W',\n",
       " '140W',\n",
       " '185AW',\n",
       " '6000Pa',\n",
       " '150W',\n",
       " None,\n",
       " None,\n",
       " None,\n",
       " None,\n",
       " None,\n",
       " '22000Pa',\n",
       " None,\n",
       " None,\n",
       " '35W',\n",
       " None,\n",
       " '35AW',\n",
       " None,\n",
       " '12000Pa',\n",
       " None,\n",
       " None,\n",
       " '7000Pa',\n",
       " None,\n",
       " None,\n",
       " None,\n",
       " '155AW',\n",
       " '18500Pa',\n",
       " '18000Pa',\n",
       " '155W',\n",
       " '140W',\n",
       " '100AW',\n",
       " '7000Pa',\n",
       " None,\n",
       " '150W',\n",
       " '10400Pa',\n",
       " '150W',\n",
       " '20000Pa',\n",
       " '140W',\n",
       " None,\n",
       " '160W',\n",
       " '200W',\n",
       " '7000Pa',\n",
       " None,\n",
       " None,\n",
       " '155AW',\n",
       " '140W',\n",
       " '115W',\n",
       " '155AW',\n",
       " '17000Pa',\n",
       " None,\n",
       " '155AW',\n",
       " '140W',\n",
       " None,\n",
       " '115AW',\n",
       " '100AW',\n",
       " '115AW',\n",
       " None,\n",
       " '19000Pa',\n",
       " '200W',\n",
       " None,\n",
       " '130W',\n",
       " '185AW',\n",
       " '150W',\n",
       " None,\n",
       " None,\n",
       " None,\n",
       " None,\n",
       " '6000Pa',\n",
       " '17000Pa',\n",
       " None,\n",
       " '17000Pa',\n",
       " None,\n",
       " None,\n",
       " None,\n",
       " '60W',\n",
       " '115AW',\n",
       " '4500Pa',\n",
       " None,\n",
       " '200W',\n",
       " '160AW',\n",
       " None,\n",
       " '200W',\n",
       " None,\n",
       " '150W',\n",
       " None,\n",
       " None,\n",
       " None,\n",
       " '160AW',\n",
       " None,\n",
       " None,\n",
       " '200W',\n",
       " None,\n",
       " '22000Pa',\n",
       " '20000Pa',\n",
       " None,\n",
       " None,\n",
       " '22000Pa',\n",
       " '5500Pa',\n",
       " None,\n",
       " '25000Pa',\n",
       " '20000Pa',\n",
       " '11000Pa',\n",
       " '6000Pa',\n",
       " None,\n",
       " '19000Pa',\n",
       " None,\n",
       " '20000Pa',\n",
       " '35AW',\n",
       " None,\n",
       " None,\n",
       " None,\n",
       " None,\n",
       " None,\n",
       " '21000Pa',\n",
       " '5,000Pa',\n",
       " None,\n",
       " '22000Pa',\n",
       " '25000Pa',\n",
       " None,\n",
       " None,\n",
       " None,\n",
       " '250W',\n",
       " None,\n",
       " None,\n",
       " None,\n",
       " None,\n",
       " '2000Pa',\n",
       " '25000Pa',\n",
       " None,\n",
       " None,\n",
       " '23500Pa',\n",
       " '22000Pa',\n",
       " '9000Pa',\n",
       " '2,000Pa',\n",
       " None,\n",
       " None,\n",
       " '180W',\n",
       " '100AW',\n",
       " None,\n",
       " None,\n",
       " '90W',\n",
       " None,\n",
       " None,\n",
       " '25000Pa',\n",
       " '200W',\n",
       " None,\n",
       " None,\n",
       " '20000Pa',\n",
       " '5,000Pa',\n",
       " None,\n",
       " '13000Pa',\n",
       " None,\n",
       " '12000Pa',\n",
       " None,\n",
       " None,\n",
       " None,\n",
       " '21000Pa',\n",
       " None,\n",
       " '120AW',\n",
       " None,\n",
       " None,\n",
       " None,\n",
       " None,\n",
       " '4,500Pa',\n",
       " '19000Pa',\n",
       " None,\n",
       " None,\n",
       " None,\n",
       " None,\n",
       " '19000Pa',\n",
       " None,\n",
       " None,\n",
       " None,\n",
       " '17000Pa',\n",
       " '150W',\n",
       " None,\n",
       " None,\n",
       " None,\n",
       " None,\n",
       " None,\n",
       " None,\n",
       " None,\n",
       " '22000Pa',\n",
       " None,\n",
       " '19000Pa',\n",
       " '25000Pa',\n",
       " None,\n",
       " None,\n",
       " None,\n",
       " None,\n",
       " '22000Pa',\n",
       " '7500Pa',\n",
       " None,\n",
       " '20000Pa',\n",
       " '9000Pa',\n",
       " None,\n",
       " None,\n",
       " None,\n",
       " None,\n",
       " '9000Pa',\n",
       " '3600Pa',\n",
       " None,\n",
       " None,\n",
       " None,\n",
       " None,\n",
       " None,\n",
       " None,\n",
       " '6000Pa',\n",
       " None,\n",
       " '8500Pa',\n",
       " '1500Pa',\n",
       " '20000Pa',\n",
       " '4,200Pa',\n",
       " None,\n",
       " None,\n",
       " None,\n",
       " None,\n",
       " None,\n",
       " None,\n",
       " None,\n",
       " None,\n",
       " None,\n",
       " '22000Pa',\n",
       " '100AW',\n",
       " None,\n",
       " None,\n",
       " '12000Pa',\n",
       " '12000Pa',\n",
       " None,\n",
       " None,\n",
       " None,\n",
       " '7000Pa',\n",
       " None,\n",
       " None,\n",
       " None,\n",
       " '100AW',\n",
       " '25AW',\n",
       " None,\n",
       " '19000Pa',\n",
       " None,\n",
       " '8000Pa',\n",
       " None,\n",
       " None,\n",
       " '10000Pa']"
      ]
     },
     "execution_count": 70,
     "metadata": {},
     "output_type": "execute_result"
    }
   ],
   "source": [
    "suction_list"
   ]
  },
  {
   "cell_type": "code",
   "execution_count": 81,
   "metadata": {},
   "outputs": [],
   "source": [
    "# 흡입력 단위를 통일시키는 함수 : AW = W = 100PA\n",
    "def get_suction(value):\n",
    "    try:\n",
    "        value = value.upper()\n",
    "        \n",
    "        if \"AW\" in value or \"W\" in value:\n",
    "            result = value.replace(\"A\", \"\").replace(\"W\", \"\")\n",
    "            result = int(result.replace(\",\", \"\"))\n",
    "        elif \"PA\" in value:\n",
    "            result = value.replace(\"PA\", \"\")\n",
    "            result = int(result.replace(\",\", \"\"))/ 100\n",
    "        else:\n",
    "            result = None\n",
    "        return result\n",
    "    except:\n",
    "        return None"
   ]
  },
  {
   "cell_type": "code",
   "execution_count": 84,
   "metadata": {},
   "outputs": [
    {
     "name": "stdout",
     "output_type": "stream",
     "text": [
      "300\n",
      "[220.0, 220.0, 140, 120.0, 220.0, 200.0, 120.0, 200, 220, None]\n"
     ]
    }
   ],
   "source": [
    "new_suction_lust = []\n",
    "\n",
    "for power in suction_list:\n",
    "    #print(power)\n",
    "    value = get_suction(power)\n",
    "    new_suction_lust.append(value)\n",
    "    \n",
    "print(len(new_suction_lust))\n",
    "print(new_suction_lust[0:10])"
   ]
  },
  {
   "cell_type": "code",
   "execution_count": 79,
   "metadata": {},
   "outputs": [],
   "source": [
    "get_suction(suction_list[0])"
   ]
  },
  {
   "cell_type": "code",
   "execution_count": 85,
   "metadata": {},
   "outputs": [
    {
     "data": {
      "text/plain": [
       "'22000Pa'"
      ]
     },
     "execution_count": 85,
     "metadata": {},
     "output_type": "execute_result"
    }
   ],
   "source": [
    "suction_list[0]"
   ]
  },
  {
   "cell_type": "markdown",
   "metadata": {},
   "source": [
    "## 6.다나와 전처리 결과를 엑셀로 저장"
   ]
  },
  {
   "cell_type": "code",
   "execution_count": 89,
   "metadata": {},
   "outputs": [
    {
     "data": {
      "text/html": [
       "<div>\n",
       "<style scoped>\n",
       "    .dataframe tbody tr th:only-of-type {\n",
       "        vertical-align: middle;\n",
       "    }\n",
       "\n",
       "    .dataframe tbody tr th {\n",
       "        vertical-align: top;\n",
       "    }\n",
       "\n",
       "    .dataframe thead th {\n",
       "        text-align: right;\n",
       "    }\n",
       "</style>\n",
       "<table border=\"1\" class=\"dataframe\">\n",
       "  <thead>\n",
       "    <tr style=\"text-align: right;\">\n",
       "      <th></th>\n",
       "      <th>카테고리</th>\n",
       "      <th>회사명</th>\n",
       "      <th>제품</th>\n",
       "      <th>가격</th>\n",
       "      <th>사용시간</th>\n",
       "      <th>흡입력</th>\n",
       "    </tr>\n",
       "  </thead>\n",
       "  <tbody>\n",
       "    <tr>\n",
       "      <th>0</th>\n",
       "      <td>핸디/스틱청소기</td>\n",
       "      <td>샤오미</td>\n",
       "      <td>드리미 V10</td>\n",
       "      <td>173900</td>\n",
       "      <td>60.0</td>\n",
       "      <td>220.0</td>\n",
       "    </tr>\n",
       "    <tr>\n",
       "      <th>1</th>\n",
       "      <td>핸디/스틱청소기</td>\n",
       "      <td>원더스리빙</td>\n",
       "      <td>다이나킹 Z9</td>\n",
       "      <td>299000</td>\n",
       "      <td>65.0</td>\n",
       "      <td>220.0</td>\n",
       "    </tr>\n",
       "    <tr>\n",
       "      <th>2</th>\n",
       "      <td>핸디/스틱청소기</td>\n",
       "      <td>LG전자</td>\n",
       "      <td>코드제로 A9 A978</td>\n",
       "      <td>1005340</td>\n",
       "      <td>80.0</td>\n",
       "      <td>140.0</td>\n",
       "    </tr>\n",
       "    <tr>\n",
       "      <th>3</th>\n",
       "      <td>차량용청소기</td>\n",
       "      <td>샤오미</td>\n",
       "      <td>SHUNZAO 차량용 무선청소기 2세대 Z1 PRO (해외구매)</td>\n",
       "      <td>48570</td>\n",
       "      <td>30.0</td>\n",
       "      <td>120.0</td>\n",
       "    </tr>\n",
       "    <tr>\n",
       "      <th>4</th>\n",
       "      <td>핸디/스틱청소기</td>\n",
       "      <td>델로라</td>\n",
       "      <td>V11 파워 300W</td>\n",
       "      <td>141000</td>\n",
       "      <td>70.0</td>\n",
       "      <td>220.0</td>\n",
       "    </tr>\n",
       "  </tbody>\n",
       "</table>\n",
       "</div>"
      ],
      "text/plain": [
       "       카테고리    회사명                                   제품       가격  사용시간    흡입력\n",
       "0  핸디/스틱청소기    샤오미                              드리미 V10   173900  60.0  220.0\n",
       "1  핸디/스틱청소기  원더스리빙                              다이나킹 Z9   299000  65.0  220.0\n",
       "2  핸디/스틱청소기   LG전자                         코드제로 A9 A978  1005340  80.0  140.0\n",
       "3    차량용청소기    샤오미  SHUNZAO 차량용 무선청소기 2세대 Z1 PRO (해외구매)    48570  30.0  120.0\n",
       "4  핸디/스틱청소기    델로라                          V11 파워 300W   141000  70.0  220.0"
      ]
     },
     "execution_count": 89,
     "metadata": {},
     "output_type": "execute_result"
    }
   ],
   "source": [
    "pd_data  = pd.DataFrame()\n",
    "\n",
    "pd_data['카테고리'] = category_list\n",
    "pd_data['회사명'] = company_list\n",
    "pd_data['제품'] = product_list\n",
    "pd_data['가격'] = data['가격']\n",
    "pd_data['사용시간'] = new_use_time_list\n",
    "pd_data['흡입력'] = new_suction_lust\n",
    "\n",
    "pd_data.head()"
   ]
  },
  {
   "cell_type": "code",
   "execution_count": 91,
   "metadata": {},
   "outputs": [
    {
     "data": {
      "text/plain": [
       "핸디/스틱청소기    241\n",
       "물걸레청소기       39\n",
       "차량용청소기       13\n",
       "침구청소기         5\n",
       "진공청소기         1\n",
       "업소용청소기        1\n",
       "Name: 카테고리, dtype: int64"
      ]
     },
     "execution_count": 91,
     "metadata": {},
     "output_type": "execute_result"
    }
   ],
   "source": [
    "pd_data['카테고리'].value_counts()"
   ]
  },
  {
   "cell_type": "code",
   "execution_count": 94,
   "metadata": {},
   "outputs": [],
   "source": [
    "# 핸디/스틱 청소기만 선택\n",
    "pd_data_final = pd_data[pd_data['카테고리'].isin(['핸디/스틱청소기'])]"
   ]
  },
  {
   "cell_type": "code",
   "execution_count": 96,
   "metadata": {},
   "outputs": [],
   "source": [
    "pd_data_final.to_excel(\"../data/22_danawa_data_final.xlsx\", index = False)"
   ]
  },
  {
   "cell_type": "markdown",
   "metadata": {},
   "source": [
    "# 6.데이터 분석"
   ]
  },
  {
   "cell_type": "markdown",
   "metadata": {},
   "source": [
    "# 무선 청소기 모델별 비교 분석"
   ]
  },
  {
   "cell_type": "markdown",
   "metadata": {},
   "source": [
    "### 데이터 살펴보기 "
   ]
  },
  {
   "cell_type": "code",
   "execution_count": 97,
   "metadata": {},
   "outputs": [],
   "source": [
    "import pandas as pd"
   ]
  },
  {
   "cell_type": "code",
   "execution_count": 99,
   "metadata": {},
   "outputs": [
    {
     "data": {
      "text/html": [
       "<div>\n",
       "<style scoped>\n",
       "    .dataframe tbody tr th:only-of-type {\n",
       "        vertical-align: middle;\n",
       "    }\n",
       "\n",
       "    .dataframe tbody tr th {\n",
       "        vertical-align: top;\n",
       "    }\n",
       "\n",
       "    .dataframe thead th {\n",
       "        text-align: right;\n",
       "    }\n",
       "</style>\n",
       "<table border=\"1\" class=\"dataframe\">\n",
       "  <thead>\n",
       "    <tr style=\"text-align: right;\">\n",
       "      <th></th>\n",
       "      <th>카테고리</th>\n",
       "      <th>회사명</th>\n",
       "      <th>제품</th>\n",
       "      <th>가격</th>\n",
       "      <th>사용시간</th>\n",
       "      <th>흡입력</th>\n",
       "    </tr>\n",
       "  </thead>\n",
       "  <tbody>\n",
       "    <tr>\n",
       "      <th>0</th>\n",
       "      <td>핸디/스틱청소기</td>\n",
       "      <td>샤오미</td>\n",
       "      <td>드리미 V10</td>\n",
       "      <td>173900</td>\n",
       "      <td>60.0</td>\n",
       "      <td>220.0</td>\n",
       "    </tr>\n",
       "    <tr>\n",
       "      <th>1</th>\n",
       "      <td>핸디/스틱청소기</td>\n",
       "      <td>원더스리빙</td>\n",
       "      <td>다이나킹 Z9</td>\n",
       "      <td>299000</td>\n",
       "      <td>65.0</td>\n",
       "      <td>220.0</td>\n",
       "    </tr>\n",
       "    <tr>\n",
       "      <th>2</th>\n",
       "      <td>핸디/스틱청소기</td>\n",
       "      <td>LG전자</td>\n",
       "      <td>코드제로 A9 A978</td>\n",
       "      <td>1005340</td>\n",
       "      <td>80.0</td>\n",
       "      <td>140.0</td>\n",
       "    </tr>\n",
       "    <tr>\n",
       "      <th>3</th>\n",
       "      <td>핸디/스틱청소기</td>\n",
       "      <td>델로라</td>\n",
       "      <td>V11 파워 300W</td>\n",
       "      <td>141000</td>\n",
       "      <td>70.0</td>\n",
       "      <td>220.0</td>\n",
       "    </tr>\n",
       "    <tr>\n",
       "      <th>4</th>\n",
       "      <td>핸디/스틱청소기</td>\n",
       "      <td>샤오미</td>\n",
       "      <td>드리미 V9</td>\n",
       "      <td>138800</td>\n",
       "      <td>60.0</td>\n",
       "      <td>200.0</td>\n",
       "    </tr>\n",
       "  </tbody>\n",
       "</table>\n",
       "</div>"
      ],
      "text/plain": [
       "       카테고리    회사명            제품       가격  사용시간    흡입력\n",
       "0  핸디/스틱청소기    샤오미       드리미 V10   173900  60.0  220.0\n",
       "1  핸디/스틱청소기  원더스리빙       다이나킹 Z9   299000  65.0  220.0\n",
       "2  핸디/스틱청소기   LG전자  코드제로 A9 A978  1005340  80.0  140.0\n",
       "3  핸디/스틱청소기    델로라   V11 파워 300W   141000  70.0  220.0\n",
       "4  핸디/스틱청소기    샤오미        드리미 V9   138800  60.0  200.0"
      ]
     },
     "execution_count": 99,
     "metadata": {},
     "output_type": "execute_result"
    }
   ],
   "source": [
    "danawa_data = pd.read_excel('../data/22_danawa_data_final.xlsx')\n",
    "danawa_data.head()"
   ]
  },
  {
   "cell_type": "code",
   "execution_count": 104,
   "metadata": {},
   "outputs": [
    {
     "data": {
      "text/html": [
       "<div>\n",
       "<style scoped>\n",
       "    .dataframe tbody tr th:only-of-type {\n",
       "        vertical-align: middle;\n",
       "    }\n",
       "\n",
       "    .dataframe tbody tr th {\n",
       "        vertical-align: top;\n",
       "    }\n",
       "\n",
       "    .dataframe thead th {\n",
       "        text-align: right;\n",
       "    }\n",
       "</style>\n",
       "<table border=\"1\" class=\"dataframe\">\n",
       "  <thead>\n",
       "    <tr style=\"text-align: right;\">\n",
       "      <th></th>\n",
       "      <th>카테고리</th>\n",
       "      <th>회사명</th>\n",
       "      <th>제품</th>\n",
       "      <th>가격</th>\n",
       "      <th>사용시간</th>\n",
       "      <th>흡입력</th>\n",
       "    </tr>\n",
       "  </thead>\n",
       "  <tbody>\n",
       "    <tr>\n",
       "      <th>13</th>\n",
       "      <td>핸디/스틱청소기</td>\n",
       "      <td>DIBEA</td>\n",
       "      <td>F20 맥스</td>\n",
       "      <td>222990</td>\n",
       "      <td>50.0</td>\n",
       "      <td>250.0</td>\n",
       "    </tr>\n",
       "    <tr>\n",
       "      <th>127</th>\n",
       "      <td>핸디/스틱청소기</td>\n",
       "      <td>DIBEA</td>\n",
       "      <td>X30</td>\n",
       "      <td>259000</td>\n",
       "      <td>50.0</td>\n",
       "      <td>250.0</td>\n",
       "    </tr>\n",
       "    <tr>\n",
       "      <th>165</th>\n",
       "      <td>핸디/스틱청소기</td>\n",
       "      <td>DIBEA</td>\n",
       "      <td>TSX-25000A</td>\n",
       "      <td>244470</td>\n",
       "      <td>45.0</td>\n",
       "      <td>250.0</td>\n",
       "    </tr>\n",
       "    <tr>\n",
       "      <th>143</th>\n",
       "      <td>핸디/스틱청소기</td>\n",
       "      <td>DIBEA</td>\n",
       "      <td>F20 울트라 맥스</td>\n",
       "      <td>236550</td>\n",
       "      <td>60.0</td>\n",
       "      <td>250.0</td>\n",
       "    </tr>\n",
       "    <tr>\n",
       "      <th>152</th>\n",
       "      <td>핸디/스틱청소기</td>\n",
       "      <td>아이룸</td>\n",
       "      <td>RS1</td>\n",
       "      <td>178000</td>\n",
       "      <td>40.0</td>\n",
       "      <td>250.0</td>\n",
       "    </tr>\n",
       "  </tbody>\n",
       "</table>\n",
       "</div>"
      ],
      "text/plain": [
       "         카테고리    회사명          제품      가격  사용시간    흡입력\n",
       "13   핸디/스틱청소기  DIBEA      F20 맥스  222990  50.0  250.0\n",
       "127  핸디/스틱청소기  DIBEA         X30  259000  50.0  250.0\n",
       "165  핸디/스틱청소기  DIBEA  TSX-25000A  244470  45.0  250.0\n",
       "143  핸디/스틱청소기  DIBEA  F20 울트라 맥스  236550  60.0  250.0\n",
       "152  핸디/스틱청소기    아이룸         RS1  178000  40.0  250.0"
      ]
     },
     "execution_count": 104,
     "metadata": {},
     "output_type": "execute_result"
    }
   ],
   "source": [
    "# 흡입력 기준 정렬\n",
    "top_list = danawa_data.sort_values(['흡입력'], ascending = False)\n",
    "top_list.head()"
   ]
  },
  {
   "cell_type": "code",
   "execution_count": 105,
   "metadata": {},
   "outputs": [
    {
     "data": {
      "text/html": [
       "<div>\n",
       "<style scoped>\n",
       "    .dataframe tbody tr th:only-of-type {\n",
       "        vertical-align: middle;\n",
       "    }\n",
       "\n",
       "    .dataframe tbody tr th {\n",
       "        vertical-align: top;\n",
       "    }\n",
       "\n",
       "    .dataframe thead th {\n",
       "        text-align: right;\n",
       "    }\n",
       "</style>\n",
       "<table border=\"1\" class=\"dataframe\">\n",
       "  <thead>\n",
       "    <tr style=\"text-align: right;\">\n",
       "      <th></th>\n",
       "      <th>카테고리</th>\n",
       "      <th>회사명</th>\n",
       "      <th>제품</th>\n",
       "      <th>가격</th>\n",
       "      <th>사용시간</th>\n",
       "      <th>흡입력</th>\n",
       "    </tr>\n",
       "  </thead>\n",
       "  <tbody>\n",
       "    <tr>\n",
       "      <th>98</th>\n",
       "      <td>핸디/스틱청소기</td>\n",
       "      <td>보쉬</td>\n",
       "      <td>GAS18V-LI</td>\n",
       "      <td>77520</td>\n",
       "      <td>300.0</td>\n",
       "      <td>NaN</td>\n",
       "    </tr>\n",
       "    <tr>\n",
       "      <th>111</th>\n",
       "      <td>핸디/스틱청소기</td>\n",
       "      <td>삼성전자</td>\n",
       "      <td>제트 VS20R9074S2</td>\n",
       "      <td>845990</td>\n",
       "      <td>120.0</td>\n",
       "      <td>200.0</td>\n",
       "    </tr>\n",
       "    <tr>\n",
       "      <th>5</th>\n",
       "      <td>핸디/스틱청소기</td>\n",
       "      <td>삼성전자</td>\n",
       "      <td>제트 VS20R9078S2</td>\n",
       "      <td>877880</td>\n",
       "      <td>120.0</td>\n",
       "      <td>200.0</td>\n",
       "    </tr>\n",
       "    <tr>\n",
       "      <th>153</th>\n",
       "      <td>핸디/스틱청소기</td>\n",
       "      <td>샤오미</td>\n",
       "      <td>이지에 YE-01</td>\n",
       "      <td>24740</td>\n",
       "      <td>120.0</td>\n",
       "      <td>NaN</td>\n",
       "    </tr>\n",
       "    <tr>\n",
       "      <th>109</th>\n",
       "      <td>핸디/스틱청소기</td>\n",
       "      <td>삼성전자</td>\n",
       "      <td>제트 VS20R9077Q3</td>\n",
       "      <td>931100</td>\n",
       "      <td>120.0</td>\n",
       "      <td>200.0</td>\n",
       "    </tr>\n",
       "  </tbody>\n",
       "</table>\n",
       "</div>"
      ],
      "text/plain": [
       "         카테고리   회사명              제품      가격   사용시간    흡입력\n",
       "98   핸디/스틱청소기    보쉬       GAS18V-LI   77520  300.0    NaN\n",
       "111  핸디/스틱청소기  삼성전자  제트 VS20R9074S2  845990  120.0  200.0\n",
       "5    핸디/스틱청소기  삼성전자  제트 VS20R9078S2  877880  120.0  200.0\n",
       "153  핸디/스틱청소기   샤오미       이지에 YE-01   24740  120.0    NaN\n",
       "109  핸디/스틱청소기  삼성전자  제트 VS20R9077Q3  931100  120.0  200.0"
      ]
     },
     "execution_count": 105,
     "metadata": {},
     "output_type": "execute_result"
    }
   ],
   "source": [
    "top_list = danawa_data.sort_values(['사용시간'], ascending = False)\n",
    "top_list.head()`"
   ]
  },
  {
   "cell_type": "code",
   "execution_count": 106,
   "metadata": {},
   "outputs": [
    {
     "data": {
      "text/html": [
       "<div>\n",
       "<style scoped>\n",
       "    .dataframe tbody tr th:only-of-type {\n",
       "        vertical-align: middle;\n",
       "    }\n",
       "\n",
       "    .dataframe tbody tr th {\n",
       "        vertical-align: top;\n",
       "    }\n",
       "\n",
       "    .dataframe thead th {\n",
       "        text-align: right;\n",
       "    }\n",
       "</style>\n",
       "<table border=\"1\" class=\"dataframe\">\n",
       "  <thead>\n",
       "    <tr style=\"text-align: right;\">\n",
       "      <th></th>\n",
       "      <th>카테고리</th>\n",
       "      <th>회사명</th>\n",
       "      <th>제품</th>\n",
       "      <th>가격</th>\n",
       "      <th>사용시간</th>\n",
       "      <th>흡입력</th>\n",
       "    </tr>\n",
       "  </thead>\n",
       "  <tbody>\n",
       "    <tr>\n",
       "      <th>98</th>\n",
       "      <td>핸디/스틱청소기</td>\n",
       "      <td>보쉬</td>\n",
       "      <td>GAS18V-LI</td>\n",
       "      <td>77520</td>\n",
       "      <td>300.0</td>\n",
       "      <td>NaN</td>\n",
       "    </tr>\n",
       "    <tr>\n",
       "      <th>5</th>\n",
       "      <td>핸디/스틱청소기</td>\n",
       "      <td>삼성전자</td>\n",
       "      <td>제트 VS20R9078S2</td>\n",
       "      <td>877880</td>\n",
       "      <td>120.0</td>\n",
       "      <td>200.0</td>\n",
       "    </tr>\n",
       "    <tr>\n",
       "      <th>16</th>\n",
       "      <td>핸디/스틱청소기</td>\n",
       "      <td>삼성전자</td>\n",
       "      <td>제트 VS20R9078S3</td>\n",
       "      <td>918120</td>\n",
       "      <td>120.0</td>\n",
       "      <td>200.0</td>\n",
       "    </tr>\n",
       "    <tr>\n",
       "      <th>76</th>\n",
       "      <td>핸디/스틱청소기</td>\n",
       "      <td>삼성전자</td>\n",
       "      <td>제트 VS20R9074S3</td>\n",
       "      <td>870910</td>\n",
       "      <td>120.0</td>\n",
       "      <td>200.0</td>\n",
       "    </tr>\n",
       "    <tr>\n",
       "      <th>109</th>\n",
       "      <td>핸디/스틱청소기</td>\n",
       "      <td>삼성전자</td>\n",
       "      <td>제트 VS20R9077Q3</td>\n",
       "      <td>931100</td>\n",
       "      <td>120.0</td>\n",
       "      <td>200.0</td>\n",
       "    </tr>\n",
       "  </tbody>\n",
       "</table>\n",
       "</div>"
      ],
      "text/plain": [
       "         카테고리   회사명              제품      가격   사용시간    흡입력\n",
       "98   핸디/스틱청소기    보쉬       GAS18V-LI   77520  300.0    NaN\n",
       "5    핸디/스틱청소기  삼성전자  제트 VS20R9078S2  877880  120.0  200.0\n",
       "16   핸디/스틱청소기  삼성전자  제트 VS20R9078S3  918120  120.0  200.0\n",
       "76   핸디/스틱청소기  삼성전자  제트 VS20R9074S3  870910  120.0  200.0\n",
       "109  핸디/스틱청소기  삼성전자  제트 VS20R9077Q3  931100  120.0  200.0"
      ]
     },
     "execution_count": 106,
     "metadata": {},
     "output_type": "execute_result"
    }
   ],
   "source": [
    "top_list = danawa_data.sort_values(['사용시간', '흡입력'], ascending = False)\n",
    "top_list.head()"
   ]
  },
  {
   "cell_type": "code",
   "execution_count": 108,
   "metadata": {},
   "outputs": [
    {
     "name": "stdout",
     "output_type": "stream",
     "text": [
      "가격 평균값 : 296844.79253112036, 흡입력 평균값 : 151.8294573643411, 사용시간 평균값 : 43.87982832618026\n"
     ]
    }
   ],
   "source": [
    "# 가성대 - 가격대비 성능이 우수하다는 의미\n",
    "price_mean_value = danawa_data.가격.mean()\n",
    "suction_mean_value = danawa_data.흡입력.mean()\n",
    "use_time_mean_value = danawa_data.사용시간.mean()\n",
    "\n",
    "\n",
    "print(\"가격 평균값 : {}, 흡입력 평균값 : {}, 사용시간 평균값 : {}\".format(price_mean_value, suction_mean_value, use_time_mean_value))"
   ]
  },
  {
   "cell_type": "code",
   "execution_count": 110,
   "metadata": {},
   "outputs": [
    {
     "data": {
      "text/html": [
       "<div>\n",
       "<style scoped>\n",
       "    .dataframe tbody tr th:only-of-type {\n",
       "        vertical-align: middle;\n",
       "    }\n",
       "\n",
       "    .dataframe tbody tr th {\n",
       "        vertical-align: top;\n",
       "    }\n",
       "\n",
       "    .dataframe thead th {\n",
       "        text-align: right;\n",
       "    }\n",
       "</style>\n",
       "<table border=\"1\" class=\"dataframe\">\n",
       "  <thead>\n",
       "    <tr style=\"text-align: right;\">\n",
       "      <th></th>\n",
       "      <th>카테고리</th>\n",
       "      <th>회사명</th>\n",
       "      <th>제품</th>\n",
       "      <th>가격</th>\n",
       "      <th>사용시간</th>\n",
       "      <th>흡입력</th>\n",
       "    </tr>\n",
       "  </thead>\n",
       "  <tbody>\n",
       "    <tr>\n",
       "      <th>0</th>\n",
       "      <td>핸디/스틱청소기</td>\n",
       "      <td>샤오미</td>\n",
       "      <td>드리미 V10</td>\n",
       "      <td>173900</td>\n",
       "      <td>60.0</td>\n",
       "      <td>220.0</td>\n",
       "    </tr>\n",
       "    <tr>\n",
       "      <th>3</th>\n",
       "      <td>핸디/스틱청소기</td>\n",
       "      <td>델로라</td>\n",
       "      <td>V11 파워 300W</td>\n",
       "      <td>141000</td>\n",
       "      <td>70.0</td>\n",
       "      <td>220.0</td>\n",
       "    </tr>\n",
       "    <tr>\n",
       "      <th>4</th>\n",
       "      <td>핸디/스틱청소기</td>\n",
       "      <td>샤오미</td>\n",
       "      <td>드리미 V9</td>\n",
       "      <td>138800</td>\n",
       "      <td>60.0</td>\n",
       "      <td>200.0</td>\n",
       "    </tr>\n",
       "    <tr>\n",
       "      <th>13</th>\n",
       "      <td>핸디/스틱청소기</td>\n",
       "      <td>DIBEA</td>\n",
       "      <td>F20 맥스</td>\n",
       "      <td>222990</td>\n",
       "      <td>50.0</td>\n",
       "      <td>250.0</td>\n",
       "    </tr>\n",
       "    <tr>\n",
       "      <th>18</th>\n",
       "      <td>핸디/스틱청소기</td>\n",
       "      <td>DIBEA</td>\n",
       "      <td>M500 퀀텀</td>\n",
       "      <td>248640</td>\n",
       "      <td>50.0</td>\n",
       "      <td>250.0</td>\n",
       "    </tr>\n",
       "    <tr>\n",
       "      <th>42</th>\n",
       "      <td>핸디/스틱청소기</td>\n",
       "      <td>DIBEA</td>\n",
       "      <td>F20 프로</td>\n",
       "      <td>161970</td>\n",
       "      <td>50.0</td>\n",
       "      <td>220.0</td>\n",
       "    </tr>\n",
       "    <tr>\n",
       "      <th>73</th>\n",
       "      <td>핸디/스틱청소기</td>\n",
       "      <td>JDL</td>\n",
       "      <td>tech 타이푼 DV-889DC-X</td>\n",
       "      <td>137160</td>\n",
       "      <td>50.0</td>\n",
       "      <td>200.0</td>\n",
       "    </tr>\n",
       "    <tr>\n",
       "      <th>121</th>\n",
       "      <td>핸디/스틱청소기</td>\n",
       "      <td>샤오미</td>\n",
       "      <td>드리미 V9P</td>\n",
       "      <td>216720</td>\n",
       "      <td>60.0</td>\n",
       "      <td>200.0</td>\n",
       "    </tr>\n",
       "    <tr>\n",
       "      <th>124</th>\n",
       "      <td>핸디/스틱청소기</td>\n",
       "      <td>캐치웰</td>\n",
       "      <td>코드엑스</td>\n",
       "      <td>219000</td>\n",
       "      <td>60.0</td>\n",
       "      <td>220.0</td>\n",
       "    </tr>\n",
       "    <tr>\n",
       "      <th>127</th>\n",
       "      <td>핸디/스틱청소기</td>\n",
       "      <td>DIBEA</td>\n",
       "      <td>X30</td>\n",
       "      <td>259000</td>\n",
       "      <td>50.0</td>\n",
       "      <td>250.0</td>\n",
       "    </tr>\n",
       "    <tr>\n",
       "      <th>134</th>\n",
       "      <td>핸디/스틱청소기</td>\n",
       "      <td>샤오미</td>\n",
       "      <td>미지아 1C SCWXCQ02ZHM</td>\n",
       "      <td>148990</td>\n",
       "      <td>60.0</td>\n",
       "      <td>200.0</td>\n",
       "    </tr>\n",
       "    <tr>\n",
       "      <th>140</th>\n",
       "      <td>핸디/스틱청소기</td>\n",
       "      <td>아낙</td>\n",
       "      <td>ANA-1930</td>\n",
       "      <td>179000</td>\n",
       "      <td>60.0</td>\n",
       "      <td>210.0</td>\n",
       "    </tr>\n",
       "    <tr>\n",
       "      <th>143</th>\n",
       "      <td>핸디/스틱청소기</td>\n",
       "      <td>DIBEA</td>\n",
       "      <td>F20 울트라 맥스</td>\n",
       "      <td>236550</td>\n",
       "      <td>60.0</td>\n",
       "      <td>250.0</td>\n",
       "    </tr>\n",
       "    <tr>\n",
       "      <th>156</th>\n",
       "      <td>핸디/스틱청소기</td>\n",
       "      <td>DIBEA</td>\n",
       "      <td>F20</td>\n",
       "      <td>173220</td>\n",
       "      <td>50.0</td>\n",
       "      <td>220.0</td>\n",
       "    </tr>\n",
       "    <tr>\n",
       "      <th>165</th>\n",
       "      <td>핸디/스틱청소기</td>\n",
       "      <td>DIBEA</td>\n",
       "      <td>TSX-25000A</td>\n",
       "      <td>244470</td>\n",
       "      <td>45.0</td>\n",
       "      <td>250.0</td>\n",
       "    </tr>\n",
       "    <tr>\n",
       "      <th>169</th>\n",
       "      <td>핸디/스틱청소기</td>\n",
       "      <td>캐치웰</td>\n",
       "      <td>CX11</td>\n",
       "      <td>168990</td>\n",
       "      <td>60.0</td>\n",
       "      <td>200.0</td>\n",
       "    </tr>\n",
       "    <tr>\n",
       "      <th>175</th>\n",
       "      <td>핸디/스틱청소기</td>\n",
       "      <td>에이스전자</td>\n",
       "      <td>AVG-LC9600BT</td>\n",
       "      <td>200790</td>\n",
       "      <td>60.0</td>\n",
       "      <td>210.0</td>\n",
       "    </tr>\n",
       "    <tr>\n",
       "      <th>198</th>\n",
       "      <td>핸디/스틱청소기</td>\n",
       "      <td>DIBEA</td>\n",
       "      <td>RQ40</td>\n",
       "      <td>257100</td>\n",
       "      <td>60.0</td>\n",
       "      <td>250.0</td>\n",
       "    </tr>\n",
       "    <tr>\n",
       "      <th>205</th>\n",
       "      <td>핸디/스틱청소기</td>\n",
       "      <td>원더스리빙</td>\n",
       "      <td>다이나킹 Z7</td>\n",
       "      <td>154230</td>\n",
       "      <td>45.0</td>\n",
       "      <td>200.0</td>\n",
       "    </tr>\n",
       "  </tbody>\n",
       "</table>\n",
       "</div>"
      ],
      "text/plain": [
       "         카테고리    회사명                   제품      가격  사용시간    흡입력\n",
       "0    핸디/스틱청소기    샤오미              드리미 V10  173900  60.0  220.0\n",
       "3    핸디/스틱청소기    델로라          V11 파워 300W  141000  70.0  220.0\n",
       "4    핸디/스틱청소기    샤오미               드리미 V9  138800  60.0  200.0\n",
       "13   핸디/스틱청소기  DIBEA               F20 맥스  222990  50.0  250.0\n",
       "18   핸디/스틱청소기  DIBEA              M500 퀀텀  248640  50.0  250.0\n",
       "42   핸디/스틱청소기  DIBEA               F20 프로  161970  50.0  220.0\n",
       "73   핸디/스틱청소기    JDL  tech 타이푼 DV-889DC-X  137160  50.0  200.0\n",
       "121  핸디/스틱청소기    샤오미              드리미 V9P  216720  60.0  200.0\n",
       "124  핸디/스틱청소기    캐치웰                 코드엑스  219000  60.0  220.0\n",
       "127  핸디/스틱청소기  DIBEA                  X30  259000  50.0  250.0\n",
       "134  핸디/스틱청소기    샤오미   미지아 1C SCWXCQ02ZHM  148990  60.0  200.0\n",
       "140  핸디/스틱청소기     아낙             ANA-1930  179000  60.0  210.0\n",
       "143  핸디/스틱청소기  DIBEA           F20 울트라 맥스  236550  60.0  250.0\n",
       "156  핸디/스틱청소기  DIBEA                  F20  173220  50.0  220.0\n",
       "165  핸디/스틱청소기  DIBEA           TSX-25000A  244470  45.0  250.0\n",
       "169  핸디/스틱청소기    캐치웰                 CX11  168990  60.0  200.0\n",
       "175  핸디/스틱청소기  에이스전자         AVG-LC9600BT  200790  60.0  210.0\n",
       "198  핸디/스틱청소기  DIBEA                 RQ40  257100  60.0  250.0\n",
       "205  핸디/스틱청소기  원더스리빙              다이나킹 Z7  154230  45.0  200.0"
      ]
     },
     "execution_count": 110,
     "metadata": {},
     "output_type": "execute_result"
    }
   ],
   "source": [
    "conditoin_data = danawa_data[\n",
    "    (danawa_data['가격'] <= price_mean_value) &\n",
    "    (danawa_data['흡입력'] >= suction_mean_value) &\n",
    "    (danawa_data['사용시간'] >= use_time_mean_value)\n",
    "]\n",
    "conditoin_data"
   ]
  },
  {
   "cell_type": "markdown",
   "metadata": {},
   "source": [
    "# 7.데이터 시각화"
   ]
  },
  {
   "cell_type": "code",
   "execution_count": 117,
   "metadata": {},
   "outputs": [],
   "source": [
    "import pandas as pd\n",
    "import seaborn as sns\n",
    "import matplotlib.pyplot as plt\n",
    "%matplotlib inline\n",
    "\n",
    "\n",
    "import platform\n",
    "import os\n",
    "# 한글 폰트 설치 \n",
    "path = \"c:/Windows/Fonts/malgun.ttf\"\n",
    "from matplotlib import font_manager, rc\n",
    "\n",
    "font_name = font_manager.FontProperties(fname=path).get_name()\n",
    "rc('font', family=font_name)\n",
    "\n",
    "# 마이너스 부호 표시 \n",
    "plt.rcParams['axes.unicode_minus'] = False"
   ]
  },
  {
   "cell_type": "code",
   "execution_count": 119,
   "metadata": {},
   "outputs": [
    {
     "data": {
      "text/plain": [
       "127"
      ]
     },
     "execution_count": 119,
     "metadata": {},
     "output_type": "execute_result"
    }
   ],
   "source": [
    "chart_data = danawa_data.dropna(axis=0)\n",
    "len(char_data)"
   ]
  },
  {
   "cell_type": "code",
   "execution_count": 121,
   "metadata": {},
   "outputs": [],
   "source": [
    "suction_max_value = chart_data['흡입력'].max()\n",
    "suction_mean_value = chart_data['흡입력'].mean()\n",
    "use_time_max_value = chart_data['사용시간'].max()\n",
    "use_time_mean_value = chart_data['사용시간'].mean()"
   ]
  },
  {
   "cell_type": "code",
   "execution_count": 129,
   "metadata": {},
   "outputs": [
    {
     "data": {
      "image/png": "[encoded data removed]",
      "text/plain": [
       "<Figure size 1440x720 with 1 Axes>"
      ]
     },
     "metadata": {
      "needs_background": "light"
     },
     "output_type": "display_data"
    }
   ],
   "source": [
    "plt.figure(figsize =(20, 10))\n",
    "plt.title('무선 핸디/스틱청소기 차트')\n",
    "sns.scatterplot(x = '흡입력', y='사용시간', size = '가격', hue = char_data['회사명'],\n",
    "               data = chart_data,\n",
    "               sizes = (10, 1000),\n",
    "               legend = False)\n",
    "plt.plot([0, suction_max_value], [use_time_mean_value, use_time_mean_value],\n",
    "        'r--', lw = 1)\n",
    "plt.plot([suction_mean_value, suction_mean_value], [0, use_time_max_value],\n",
    "        'x--', lw = 0.2)\n",
    "plt.show()"
   ]
  },
  {
   "cell_type": "markdown",
   "metadata": {},
   "source": [
    "## 인기 제품의 데이터 시각화"
   ]
  },
  {
   "cell_type": "code",
   "execution_count": 131,
   "metadata": {},
   "outputs": [
    {
     "data": {
      "text/plain": [
       "20"
      ]
     },
     "execution_count": 131,
     "metadata": {},
     "output_type": "execute_result"
    }
   ],
   "source": [
    "chart_data_selected = chart_data[:20]\n",
    "len(chart_data_selected)"
   ]
  },
  {
   "cell_type": "code",
   "execution_count": 135,
   "metadata": {},
   "outputs": [
    {
     "data": {
      "image/png": "[encoded data removed]",
      "text/plain": [
       "<Figure size 1440x720 with 1 Axes>"
      ]
     },
     "metadata": {
      "needs_background": "light"
     },
     "output_type": "display_data"
    }
   ],
   "source": [
    "plt.figure(figsize =(20, 10))\n",
    "plt.title('무선 핸디/스틱청소기 TOP 20')\n",
    "sns.scatterplot(x = '흡입력', y='사용시간', size = '가격', hue = char_data['회사명'],\n",
    "               data = chart_data_selected,\n",
    "               sizes = (10, 2000),\n",
    "               legend = False)\n",
    "\n",
    "plt.plot([60, suction_max_value], [use_time_mean_value, use_time_mean_value],\n",
    "        'r--', lw = 1)\n",
    "plt.plot([suction_mean_value, suction_mean_value],\n",
    "        [20, use_time_max_value],\n",
    "        'r--', lw = 1)\n",
    "\n",
    "for index, row in chart_data_selected.iterrows():\n",
    "    x = row['흡입력']\n",
    "    y = row['사용시간']\n",
    "    s = row['제품'].split(' ')[0]\n",
    "    plt.text(x, y, s, size = 10)\n",
    "plt.show()"
   ]
  },
  {
   "cell_type": "code",
   "execution_count": 133,
   "metadata": {},
   "outputs": [
    {
     "data": {
      "text/plain": [
       "<generator object DataFrame.iterrows at 0x000000BB12FE8580>"
      ]
     },
     "execution_count": 133,
     "metadata": {},
     "output_type": "execute_result"
    }
   ],
   "source": [
    "chart_data_selected.iterrows()"
   ]
  },
  {
   "cell_type": "code",
   "execution_count": null,
   "metadata": {},
   "outputs": [],
   "source": []
  }
 ],
 "metadata": {
  "kernelspec": {
   "display_name": "Python 3",
   "language": "python",
   "name": "python3"
  },
  "language_info": {
   "codemirror_mode": {
    "name": "ipython",
    "version": 3
   },
   "file_extension": ".py",
   "mimetype": "text/x-python",
   "name": "python",
   "nbconvert_exporter": "python",
   "pygments_lexer": "ipython3",
   "version": "3.8.3"
  }
 },
 "nbformat": 4,
 "nbformat_minor": 4
}
