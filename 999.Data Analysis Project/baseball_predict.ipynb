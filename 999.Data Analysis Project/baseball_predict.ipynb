{
 "cells": [
  {
   "cell_type": "markdown",
   "metadata": {},
   "source": [
    "# KNN알고리즘을 이용한 농구선수 포지션 예측"
   ]
  },
  {
   "cell_type": "code",
   "execution_count": 12,
   "metadata": {},
   "outputs": [],
   "source": [
    "import platform\n",
    "import os\n",
    "# 한글 폰트 설치 \n",
    "path = \"c:/Windows/Fonts/malgun.ttf\"\n",
    "from matplotlib import font_manager, rc\n",
    "\n",
    "font_name = font_manager.FontProperties(fname=path).get_name()\n",
    "rc('font', family=font_name)\n",
    "\n",
    "# 마이너스 부호 표시 \n",
    "plt.rcParams['axes.unicode_minus'] = False"
   ]
  },
  {
   "cell_type": "code",
   "execution_count": 11,
   "metadata": {},
   "outputs": [],
   "source": [
    "import pandas as pd\n",
    "import matplotlib.pyplot as plt \n",
    "import seaborn as sns    \n",
    "import warnings\n",
    "\n",
    "warnings.filterwarnings('ignore')\n",
    "%matplotlib inline"
   ]
  },
  {
   "cell_type": "markdown",
   "metadata": {},
   "source": [
    "## 데이터 로드 "
   ]
  },
  {
   "cell_type": "code",
   "execution_count": 4,
   "metadata": {},
   "outputs": [],
   "source": [
    "basketball = pd.read_csv(\"C:/dataAnalysis/philosophy_datascience/DataScience/data/basketball.csv\")"
   ]
  },
  {
   "cell_type": "code",
   "execution_count": 5,
   "metadata": {},
   "outputs": [],
   "source": [
    "basketball.columns = [\"선수명\", \"포지션\", \"3점슛성공\", \"2점슛성공\", \"리바운드\", \"어시스트\", \"가로채기\", \"블라킹\"]"
   ]
  },
  {
   "cell_type": "code",
   "execution_count": 6,
   "metadata": {},
   "outputs": [
    {
     "data": {
      "text/plain": [
       "Index(['선수명', '포지션', '3점슛성공', '2점슛성공', '리바운드', '어시스트', '가로채기', '블라킹'], dtype='object')"
      ]
     },
     "execution_count": 6,
     "metadata": {},
     "output_type": "execute_result"
    }
   ],
   "source": [
    "basketball.columns"
   ]
  },
  {
   "cell_type": "code",
   "execution_count": 7,
   "metadata": {},
   "outputs": [
    {
     "data": {
      "text/html": [
       "<div>\n",
       "<style scoped>\n",
       "    .dataframe tbody tr th:only-of-type {\n",
       "        vertical-align: middle;\n",
       "    }\n",
       "\n",
       "    .dataframe tbody tr th {\n",
       "        vertical-align: top;\n",
       "    }\n",
       "\n",
       "    .dataframe thead th {\n",
       "        text-align: right;\n",
       "    }\n",
       "</style>\n",
       "<table border=\"1\" class=\"dataframe\">\n",
       "  <thead>\n",
       "    <tr style=\"text-align: right;\">\n",
       "      <th></th>\n",
       "      <th>포지션</th>\n",
       "      <th>3점슛성공</th>\n",
       "      <th>2점슛성공</th>\n",
       "      <th>리바운드</th>\n",
       "      <th>어시스트</th>\n",
       "      <th>가로채기</th>\n",
       "      <th>블라킹</th>\n",
       "    </tr>\n",
       "    <tr>\n",
       "      <th>선수명</th>\n",
       "      <th></th>\n",
       "      <th></th>\n",
       "      <th></th>\n",
       "      <th></th>\n",
       "      <th></th>\n",
       "      <th></th>\n",
       "      <th></th>\n",
       "    </tr>\n",
       "  </thead>\n",
       "  <tbody>\n",
       "    <tr>\n",
       "      <th>Alex Abrines</th>\n",
       "      <td>SG</td>\n",
       "      <td>1.4</td>\n",
       "      <td>0.6</td>\n",
       "      <td>1.3</td>\n",
       "      <td>0.6</td>\n",
       "      <td>0.5</td>\n",
       "      <td>0.1</td>\n",
       "    </tr>\n",
       "    <tr>\n",
       "      <th>Steven Adams</th>\n",
       "      <td>C</td>\n",
       "      <td>0.0</td>\n",
       "      <td>4.7</td>\n",
       "      <td>7.7</td>\n",
       "      <td>1.1</td>\n",
       "      <td>1.1</td>\n",
       "      <td>1.0</td>\n",
       "    </tr>\n",
       "    <tr>\n",
       "      <th>Alexis Ajinca</th>\n",
       "      <td>C</td>\n",
       "      <td>0.0</td>\n",
       "      <td>2.3</td>\n",
       "      <td>4.5</td>\n",
       "      <td>0.3</td>\n",
       "      <td>0.5</td>\n",
       "      <td>0.6</td>\n",
       "    </tr>\n",
       "    <tr>\n",
       "      <th>Chris Andersen</th>\n",
       "      <td>C</td>\n",
       "      <td>0.0</td>\n",
       "      <td>0.8</td>\n",
       "      <td>2.6</td>\n",
       "      <td>0.4</td>\n",
       "      <td>0.4</td>\n",
       "      <td>0.6</td>\n",
       "    </tr>\n",
       "    <tr>\n",
       "      <th>Will Barton</th>\n",
       "      <td>SG</td>\n",
       "      <td>1.5</td>\n",
       "      <td>3.5</td>\n",
       "      <td>4.3</td>\n",
       "      <td>3.4</td>\n",
       "      <td>0.8</td>\n",
       "      <td>0.5</td>\n",
       "    </tr>\n",
       "    <tr>\n",
       "      <th>...</th>\n",
       "      <td>...</td>\n",
       "      <td>...</td>\n",
       "      <td>...</td>\n",
       "      <td>...</td>\n",
       "      <td>...</td>\n",
       "      <td>...</td>\n",
       "      <td>...</td>\n",
       "    </tr>\n",
       "    <tr>\n",
       "      <th>Nikola Vucevic</th>\n",
       "      <td>C</td>\n",
       "      <td>0.3</td>\n",
       "      <td>6.1</td>\n",
       "      <td>10.4</td>\n",
       "      <td>2.8</td>\n",
       "      <td>1.0</td>\n",
       "      <td>1.0</td>\n",
       "    </tr>\n",
       "    <tr>\n",
       "      <th>Dwyane Wade</th>\n",
       "      <td>SG</td>\n",
       "      <td>0.8</td>\n",
       "      <td>6.2</td>\n",
       "      <td>4.5</td>\n",
       "      <td>3.8</td>\n",
       "      <td>1.4</td>\n",
       "      <td>0.7</td>\n",
       "    </tr>\n",
       "    <tr>\n",
       "      <th>Dion Waiters</th>\n",
       "      <td>SG</td>\n",
       "      <td>1.8</td>\n",
       "      <td>4.3</td>\n",
       "      <td>3.3</td>\n",
       "      <td>4.3</td>\n",
       "      <td>0.9</td>\n",
       "      <td>0.4</td>\n",
       "    </tr>\n",
       "    <tr>\n",
       "      <th>Hassan Whiteside</th>\n",
       "      <td>C</td>\n",
       "      <td>0.0</td>\n",
       "      <td>7.0</td>\n",
       "      <td>14.1</td>\n",
       "      <td>0.7</td>\n",
       "      <td>0.7</td>\n",
       "      <td>2.1</td>\n",
       "    </tr>\n",
       "    <tr>\n",
       "      <th>Lou Williams</th>\n",
       "      <td>SG</td>\n",
       "      <td>2.0</td>\n",
       "      <td>3.3</td>\n",
       "      <td>2.5</td>\n",
       "      <td>3.0</td>\n",
       "      <td>1.0</td>\n",
       "      <td>0.2</td>\n",
       "    </tr>\n",
       "  </tbody>\n",
       "</table>\n",
       "<p>100 rows × 7 columns</p>\n",
       "</div>"
      ],
      "text/plain": [
       "                 포지션  3점슛성공  2점슛성공  리바운드  어시스트  가로채기  블라킹\n",
       "선수명                                                      \n",
       "Alex Abrines      SG    1.4    0.6   1.3   0.6   0.5  0.1\n",
       "Steven Adams       C    0.0    4.7   7.7   1.1   1.1  1.0\n",
       "Alexis Ajinca      C    0.0    2.3   4.5   0.3   0.5  0.6\n",
       "Chris Andersen     C    0.0    0.8   2.6   0.4   0.4  0.6\n",
       "Will Barton       SG    1.5    3.5   4.3   3.4   0.8  0.5\n",
       "...               ..    ...    ...   ...   ...   ...  ...\n",
       "Nikola Vucevic     C    0.3    6.1  10.4   2.8   1.0  1.0\n",
       "Dwyane Wade       SG    0.8    6.2   4.5   3.8   1.4  0.7\n",
       "Dion Waiters      SG    1.8    4.3   3.3   4.3   0.9  0.4\n",
       "Hassan Whiteside   C    0.0    7.0  14.1   0.7   0.7  2.1\n",
       "Lou Williams      SG    2.0    3.3   2.5   3.0   1.0  0.2\n",
       "\n",
       "[100 rows x 7 columns]"
      ]
     },
     "execution_count": 7,
     "metadata": {},
     "output_type": "execute_result"
    }
   ],
   "source": [
    "df = basketball.set_index(\"선수명\")\n",
    "df"
   ]
  },
  {
   "cell_type": "markdown",
   "metadata": {},
   "source": [
    "## 데이터를 파악하기 위한 시각화"
   ]
  },
  {
   "cell_type": "code",
   "execution_count": 8,
   "metadata": {},
   "outputs": [
    {
     "data": {
      "text/html": [
       "<div>\n",
       "<style scoped>\n",
       "    .dataframe tbody tr th:only-of-type {\n",
       "        vertical-align: middle;\n",
       "    }\n",
       "\n",
       "    .dataframe tbody tr th {\n",
       "        vertical-align: top;\n",
       "    }\n",
       "\n",
       "    .dataframe thead th {\n",
       "        text-align: right;\n",
       "    }\n",
       "</style>\n",
       "<table border=\"1\" class=\"dataframe\">\n",
       "  <thead>\n",
       "    <tr style=\"text-align: right;\">\n",
       "      <th></th>\n",
       "      <th>3점슛성공</th>\n",
       "      <th>2점슛성공</th>\n",
       "      <th>리바운드</th>\n",
       "      <th>어시스트</th>\n",
       "      <th>가로채기</th>\n",
       "      <th>블라킹</th>\n",
       "    </tr>\n",
       "  </thead>\n",
       "  <tbody>\n",
       "    <tr>\n",
       "      <th>3점슛성공</th>\n",
       "      <td>1.000000</td>\n",
       "      <td>-0.094914</td>\n",
       "      <td>-0.498036</td>\n",
       "      <td>0.485010</td>\n",
       "      <td>0.353517</td>\n",
       "      <td>-0.534588</td>\n",
       "    </tr>\n",
       "    <tr>\n",
       "      <th>2점슛성공</th>\n",
       "      <td>-0.094914</td>\n",
       "      <td>1.000000</td>\n",
       "      <td>0.680882</td>\n",
       "      <td>0.396094</td>\n",
       "      <td>0.353558</td>\n",
       "      <td>0.482056</td>\n",
       "    </tr>\n",
       "    <tr>\n",
       "      <th>리바운드</th>\n",
       "      <td>-0.498036</td>\n",
       "      <td>0.680882</td>\n",
       "      <td>1.000000</td>\n",
       "      <td>0.026689</td>\n",
       "      <td>0.130441</td>\n",
       "      <td>0.707542</td>\n",
       "    </tr>\n",
       "    <tr>\n",
       "      <th>어시스트</th>\n",
       "      <td>0.485010</td>\n",
       "      <td>0.396094</td>\n",
       "      <td>0.026689</td>\n",
       "      <td>1.000000</td>\n",
       "      <td>0.640802</td>\n",
       "      <td>-0.148161</td>\n",
       "    </tr>\n",
       "    <tr>\n",
       "      <th>가로채기</th>\n",
       "      <td>0.353517</td>\n",
       "      <td>0.353558</td>\n",
       "      <td>0.130441</td>\n",
       "      <td>0.640802</td>\n",
       "      <td>1.000000</td>\n",
       "      <td>-0.138208</td>\n",
       "    </tr>\n",
       "    <tr>\n",
       "      <th>블라킹</th>\n",
       "      <td>-0.534588</td>\n",
       "      <td>0.482056</td>\n",
       "      <td>0.707542</td>\n",
       "      <td>-0.148161</td>\n",
       "      <td>-0.138208</td>\n",
       "      <td>1.000000</td>\n",
       "    </tr>\n",
       "  </tbody>\n",
       "</table>\n",
       "</div>"
      ],
      "text/plain": [
       "          3점슛성공     2점슛성공      리바운드      어시스트      가로채기       블라킹\n",
       "3점슛성공  1.000000 -0.094914 -0.498036  0.485010  0.353517 -0.534588\n",
       "2점슛성공 -0.094914  1.000000  0.680882  0.396094  0.353558  0.482056\n",
       "리바운드  -0.498036  0.680882  1.000000  0.026689  0.130441  0.707542\n",
       "어시스트   0.485010  0.396094  0.026689  1.000000  0.640802 -0.148161\n",
       "가로채기   0.353517  0.353558  0.130441  0.640802  1.000000 -0.138208\n",
       "블라킹   -0.534588  0.482056  0.707542 -0.148161 -0.138208  1.000000"
      ]
     },
     "execution_count": 8,
     "metadata": {},
     "output_type": "execute_result"
    }
   ],
   "source": [
    "df.corr()"
   ]
  },
  {
   "cell_type": "code",
   "execution_count": 13,
   "metadata": {},
   "outputs": [
    {
     "data": {
      "text/plain": [
       "<matplotlib.axes._subplots.AxesSubplot at 0x4fe2237fd0>"
      ]
     },
     "execution_count": 13,
     "metadata": {},
     "output_type": "execute_result"
    },
    {
     "data": {
      "image/png": "[encoded data removed]",
      "text/plain": [
       "<Figure size 864x864 with 2 Axes>"
      ]
     },
     "metadata": {
      "needs_background": "light"
     },
     "output_type": "display_data"
    }
   ],
   "source": [
    "plt.figure(figsize=(12,12))\n",
    "sns.heatmap(data = df.corr(), annot=True, fmt = '.2f', linewidths=.5, cmap='coolwarm')"
   ]
  },
  {
   "cell_type": "code",
   "execution_count": 14,
   "metadata": {},
   "outputs": [
    {
     "data": {
      "text/plain": [
       "<matplotlib.axes._subplots.AxesSubplot at 0x4fd7863e80>"
      ]
     },
     "execution_count": 14,
     "metadata": {},
     "output_type": "execute_result"
    },
    {
     "data": {
      "image/png": "[encoded data removed]",
      "text/plain": [
       "<Figure size 864x864 with 2 Axes>"
      ]
     },
     "metadata": {
      "needs_background": "light"
     },
     "output_type": "display_data"
    }
   ],
   "source": [
    "plt.figure(figsize=(12,12))\n",
    "sns.heatmap(data = abs(df.corr()), annot=True, fmt = '.2f', linewidths=.5, cmap='Reds')"
   ]
  },
  {
   "cell_type": "code",
   "execution_count": 121,
   "metadata": {},
   "outputs": [
    {
     "data": {
      "text/plain": [
       "SG    50\n",
       "C     50\n",
       "Name: 포지션, dtype: int64"
      ]
     },
     "execution_count": 121,
     "metadata": {},
     "output_type": "execute_result"
    }
   ],
   "source": [
    "df.포지션.value_counts()"
   ]
  },
  {
   "cell_type": "code",
   "execution_count": 123,
   "metadata": {},
   "outputs": [
    {
     "data": {
      "text/html": [
       "<div>\n",
       "<style scoped>\n",
       "    .dataframe tbody tr th:only-of-type {\n",
       "        vertical-align: middle;\n",
       "    }\n",
       "\n",
       "    .dataframe tbody tr th {\n",
       "        vertical-align: top;\n",
       "    }\n",
       "\n",
       "    .dataframe thead th {\n",
       "        text-align: right;\n",
       "    }\n",
       "</style>\n",
       "<table border=\"1\" class=\"dataframe\">\n",
       "  <thead>\n",
       "    <tr style=\"text-align: right;\">\n",
       "      <th></th>\n",
       "      <th>선수명</th>\n",
       "      <th>포지션</th>\n",
       "      <th>3점슛성공</th>\n",
       "      <th>2점슛성공</th>\n",
       "      <th>리바운드</th>\n",
       "      <th>어시스트</th>\n",
       "      <th>가로채기</th>\n",
       "      <th>블라킹</th>\n",
       "    </tr>\n",
       "  </thead>\n",
       "  <tbody>\n",
       "    <tr>\n",
       "      <th>0</th>\n",
       "      <td>Alex Abrines</td>\n",
       "      <td>SG</td>\n",
       "      <td>1.4</td>\n",
       "      <td>0.6</td>\n",
       "      <td>1.3</td>\n",
       "      <td>0.6</td>\n",
       "      <td>0.5</td>\n",
       "      <td>0.1</td>\n",
       "    </tr>\n",
       "    <tr>\n",
       "      <th>1</th>\n",
       "      <td>Steven Adams</td>\n",
       "      <td>C</td>\n",
       "      <td>0.0</td>\n",
       "      <td>4.7</td>\n",
       "      <td>7.7</td>\n",
       "      <td>1.1</td>\n",
       "      <td>1.1</td>\n",
       "      <td>1.0</td>\n",
       "    </tr>\n",
       "    <tr>\n",
       "      <th>2</th>\n",
       "      <td>Alexis Ajinca</td>\n",
       "      <td>C</td>\n",
       "      <td>0.0</td>\n",
       "      <td>2.3</td>\n",
       "      <td>4.5</td>\n",
       "      <td>0.3</td>\n",
       "      <td>0.5</td>\n",
       "      <td>0.6</td>\n",
       "    </tr>\n",
       "    <tr>\n",
       "      <th>3</th>\n",
       "      <td>Chris Andersen</td>\n",
       "      <td>C</td>\n",
       "      <td>0.0</td>\n",
       "      <td>0.8</td>\n",
       "      <td>2.6</td>\n",
       "      <td>0.4</td>\n",
       "      <td>0.4</td>\n",
       "      <td>0.6</td>\n",
       "    </tr>\n",
       "    <tr>\n",
       "      <th>4</th>\n",
       "      <td>Will Barton</td>\n",
       "      <td>SG</td>\n",
       "      <td>1.5</td>\n",
       "      <td>3.5</td>\n",
       "      <td>4.3</td>\n",
       "      <td>3.4</td>\n",
       "      <td>0.8</td>\n",
       "      <td>0.5</td>\n",
       "    </tr>\n",
       "    <tr>\n",
       "      <th>...</th>\n",
       "      <td>...</td>\n",
       "      <td>...</td>\n",
       "      <td>...</td>\n",
       "      <td>...</td>\n",
       "      <td>...</td>\n",
       "      <td>...</td>\n",
       "      <td>...</td>\n",
       "      <td>...</td>\n",
       "    </tr>\n",
       "    <tr>\n",
       "      <th>95</th>\n",
       "      <td>Nikola Vucevic</td>\n",
       "      <td>C</td>\n",
       "      <td>0.3</td>\n",
       "      <td>6.1</td>\n",
       "      <td>10.4</td>\n",
       "      <td>2.8</td>\n",
       "      <td>1.0</td>\n",
       "      <td>1.0</td>\n",
       "    </tr>\n",
       "    <tr>\n",
       "      <th>96</th>\n",
       "      <td>Dwyane Wade</td>\n",
       "      <td>SG</td>\n",
       "      <td>0.8</td>\n",
       "      <td>6.2</td>\n",
       "      <td>4.5</td>\n",
       "      <td>3.8</td>\n",
       "      <td>1.4</td>\n",
       "      <td>0.7</td>\n",
       "    </tr>\n",
       "    <tr>\n",
       "      <th>97</th>\n",
       "      <td>Dion Waiters</td>\n",
       "      <td>SG</td>\n",
       "      <td>1.8</td>\n",
       "      <td>4.3</td>\n",
       "      <td>3.3</td>\n",
       "      <td>4.3</td>\n",
       "      <td>0.9</td>\n",
       "      <td>0.4</td>\n",
       "    </tr>\n",
       "    <tr>\n",
       "      <th>98</th>\n",
       "      <td>Hassan Whiteside</td>\n",
       "      <td>C</td>\n",
       "      <td>0.0</td>\n",
       "      <td>7.0</td>\n",
       "      <td>14.1</td>\n",
       "      <td>0.7</td>\n",
       "      <td>0.7</td>\n",
       "      <td>2.1</td>\n",
       "    </tr>\n",
       "    <tr>\n",
       "      <th>99</th>\n",
       "      <td>Lou Williams</td>\n",
       "      <td>SG</td>\n",
       "      <td>2.0</td>\n",
       "      <td>3.3</td>\n",
       "      <td>2.5</td>\n",
       "      <td>3.0</td>\n",
       "      <td>1.0</td>\n",
       "      <td>0.2</td>\n",
       "    </tr>\n",
       "  </tbody>\n",
       "</table>\n",
       "<p>100 rows × 8 columns</p>\n",
       "</div>"
      ],
      "text/plain": [
       "                 선수명 포지션  3점슛성공  2점슛성공  리바운드  어시스트  가로채기  블라킹\n",
       "0       Alex Abrines  SG    1.4    0.6   1.3   0.6   0.5  0.1\n",
       "1       Steven Adams   C    0.0    4.7   7.7   1.1   1.1  1.0\n",
       "2      Alexis Ajinca   C    0.0    2.3   4.5   0.3   0.5  0.6\n",
       "3     Chris Andersen   C    0.0    0.8   2.6   0.4   0.4  0.6\n",
       "4        Will Barton  SG    1.5    3.5   4.3   3.4   0.8  0.5\n",
       "..               ...  ..    ...    ...   ...   ...   ...  ...\n",
       "95    Nikola Vucevic   C    0.3    6.1  10.4   2.8   1.0  1.0\n",
       "96       Dwyane Wade  SG    0.8    6.2   4.5   3.8   1.4  0.7\n",
       "97      Dion Waiters  SG    1.8    4.3   3.3   4.3   0.9  0.4\n",
       "98  Hassan Whiteside   C    0.0    7.0  14.1   0.7   0.7  2.1\n",
       "99      Lou Williams  SG    2.0    3.3   2.5   3.0   1.0  0.2\n",
       "\n",
       "[100 rows x 8 columns]"
      ]
     },
     "execution_count": 123,
     "metadata": {},
     "output_type": "execute_result"
    }
   ],
   "source": [
    "df.reset_index()"
   ]
  },
  {
   "cell_type": "code",
   "execution_count": 15,
   "metadata": {},
   "outputs": [
    {
     "data": {
      "text/plain": [
       "Text(0.5, 1.0, '포지션별 가로채기 대비 2점슛 성공')"
      ]
     },
     "execution_count": 15,
     "metadata": {},
     "output_type": "execute_result"
    },
    {
     "data": {
      "image/png": "[encoded data removed]",
      "text/plain": [
       "<Figure size 864x432 with 1 Axes>"
      ]
     },
     "metadata": {
      "needs_background": "light"
     },
     "output_type": "display_data"
    }
   ],
   "source": [
    "fig = plt.figure(figsize = (12,6))\n",
    "sns.barplot(x = '가로채기', y = '2점슛성공', data=df, hue = '포지션')\n",
    "plt.title(\"포지션별 가로채기 대비 2점슛 성공\")"
   ]
  },
  {
   "cell_type": "code",
   "execution_count": 16,
   "metadata": {},
   "outputs": [
    {
     "data": {
      "text/plain": [
       "Text(0.5, 1.0, '포지션별 어시스트 대비 2점슛 성공')"
      ]
     },
     "execution_count": 16,
     "metadata": {},
     "output_type": "execute_result"
    },
    {
     "data": {
      "image/png": "[encoded data removed]",
      "text/plain": [
       "<Figure size 864x432 with 1 Axes>"
      ]
     },
     "metadata": {
      "needs_background": "light"
     },
     "output_type": "display_data"
    }
   ],
   "source": [
    "fig = plt.figure(figsize = (12,6))\n",
    "sns.barplot(x = '어시스트', y = '2점슛성공', data=df, hue = '포지션')\n",
    "plt.title(\"포지션별 어시스트 대비 2점슛 성공\")"
   ]
  },
  {
   "cell_type": "markdown",
   "metadata": {},
   "source": [
    "* 포지션을 예측하는데, `어시스트`, `가로채기`, `2점슛성공`이라는 파생변수는 큰 영향을 주지 못함.\n",
    "* 왜냐하면, 포지션별로 보더라도 ,슈팅가드와 센터와 상관없이 2점슛 성공횟수는 다양하게 분포됨어 있다."
   ]
  },
  {
   "cell_type": "code",
   "execution_count": 17,
   "metadata": {},
   "outputs": [
    {
     "data": {
      "text/plain": [
       "Text(0.5, 1.0, '포지션별 가로채기 대비 3점슛 성공')"
      ]
     },
     "execution_count": 17,
     "metadata": {},
     "output_type": "execute_result"
    },
    {
     "data": {
      "text/plain": [
       "<Figure size 864x864 with 0 Axes>"
      ]
     },
     "metadata": {},
     "output_type": "display_data"
    },
    {
     "data": {
      "image/png": "[encoded data removed]",
      "text/plain": [
       "<Figure size 408.375x360 with 1 Axes>"
      ]
     },
     "metadata": {
      "needs_background": "light"
     },
     "output_type": "display_data"
    }
   ],
   "source": [
    "fig = plt.figure(figsize = (12,12))\n",
    "sns.lmplot(x = '가로채기', y = '3점슛성공', data=df, hue = '포지션',scatter_kws = {\"s\": 150}, markers = [\"o\", \"x\"],fit_reg = False)\n",
    "plt.title(\"포지션별 가로채기 대비 3점슛 성공\")"
   ]
  },
  {
   "cell_type": "code",
   "execution_count": 18,
   "metadata": {},
   "outputs": [
    {
     "data": {
      "text/plain": [
       "Text(0.5, 1.0, '포지션별 가로채기 대비 3점슛 성공')"
      ]
     },
     "execution_count": 18,
     "metadata": {},
     "output_type": "execute_result"
    },
    {
     "data": {
      "text/plain": [
       "<Figure size 864x864 with 0 Axes>"
      ]
     },
     "metadata": {},
     "output_type": "display_data"
    },
    {
     "data": {
      "image/png": "[encoded data removed]",
      "text/plain": [
       "<Figure size 408.375x360 with 1 Axes>"
      ]
     },
     "metadata": {
      "needs_background": "light"
     },
     "output_type": "display_data"
    }
   ],
   "source": [
    "fig = plt.figure(figsize = (12,12))\n",
    "sns.lmplot(x = '어시스트', y = '3점슛성공', data=df, hue = '포지션',scatter_kws = {\"s\": 150}, markers = [\"o\", \"x\"],fit_reg = False)\n",
    "plt.title(\"포지션별 가로채기 대비 3점슛 성공\")"
   ]
  },
  {
   "cell_type": "code",
   "execution_count": 20,
   "metadata": {},
   "outputs": [
    {
     "data": {
      "text/plain": [
       "Text(0.5, 1.0, '포지션별 가로채기 대비 2점슛 성공')"
      ]
     },
     "execution_count": 20,
     "metadata": {},
     "output_type": "execute_result"
    },
    {
     "data": {
      "text/plain": [
       "<Figure size 864x864 with 0 Axes>"
      ]
     },
     "metadata": {},
     "output_type": "display_data"
    },
    {
     "data": {
      "image/png": "[encoded data removed]",
      "text/plain": [
       "<Figure size 408.375x360 with 1 Axes>"
      ]
     },
     "metadata": {
      "needs_background": "light"
     },
     "output_type": "display_data"
    }
   ],
   "source": [
    "fig = plt.figure(figsize = (12,12))\n",
    "sns.lmplot(x = '어시스트', y = '2점슛성공', data=df, hue = '포지션',scatter_kws = {\"s\": 150}, markers = [\"o\", \"x\"],fit_reg = False)\n",
    "plt.title(\"포지션별 가로채기 대비 2점슛 성공\")"
   ]
  },
  {
   "cell_type": "markdown",
   "metadata": {},
   "source": [
    "* `2점슛성공`혹은 `가로채기`, '어시스트`는 `포지션`을  결정하는데 영항을 주지 못함.\n",
    "* 결론은 해당 컬럼은 분별력이 없는 데이터를 가진 컬럼으로 삭제하고 진행하기로 결정함.\n",
    "* **`포지션`결정에 영향을 주는 변수**는 **`3점슛성공`**, **`리바운드'**, **`블라킹`** 이다."
   ]
  },
  {
   "cell_type": "markdown",
   "metadata": {},
   "source": [
    "## 분별력이 없는 컬럼 삭제"
   ]
  },
  {
   "cell_type": "code",
   "execution_count": 21,
   "metadata": {},
   "outputs": [],
   "source": [
    "df.drop(columns = [\"2점슛성공\", \"가로채기\", \"어시스트\"], axis = 1, inplace = True)"
   ]
  },
  {
   "cell_type": "code",
   "execution_count": 22,
   "metadata": {},
   "outputs": [
    {
     "data": {
      "text/html": [
       "<div>\n",
       "<style scoped>\n",
       "    .dataframe tbody tr th:only-of-type {\n",
       "        vertical-align: middle;\n",
       "    }\n",
       "\n",
       "    .dataframe tbody tr th {\n",
       "        vertical-align: top;\n",
       "    }\n",
       "\n",
       "    .dataframe thead th {\n",
       "        text-align: right;\n",
       "    }\n",
       "</style>\n",
       "<table border=\"1\" class=\"dataframe\">\n",
       "  <thead>\n",
       "    <tr style=\"text-align: right;\">\n",
       "      <th></th>\n",
       "      <th>포지션</th>\n",
       "      <th>3점슛성공</th>\n",
       "      <th>리바운드</th>\n",
       "      <th>블라킹</th>\n",
       "    </tr>\n",
       "    <tr>\n",
       "      <th>선수명</th>\n",
       "      <th></th>\n",
       "      <th></th>\n",
       "      <th></th>\n",
       "      <th></th>\n",
       "    </tr>\n",
       "  </thead>\n",
       "  <tbody>\n",
       "    <tr>\n",
       "      <th>Alex Abrines</th>\n",
       "      <td>SG</td>\n",
       "      <td>1.4</td>\n",
       "      <td>1.3</td>\n",
       "      <td>0.1</td>\n",
       "    </tr>\n",
       "    <tr>\n",
       "      <th>Steven Adams</th>\n",
       "      <td>C</td>\n",
       "      <td>0.0</td>\n",
       "      <td>7.7</td>\n",
       "      <td>1.0</td>\n",
       "    </tr>\n",
       "    <tr>\n",
       "      <th>Alexis Ajinca</th>\n",
       "      <td>C</td>\n",
       "      <td>0.0</td>\n",
       "      <td>4.5</td>\n",
       "      <td>0.6</td>\n",
       "    </tr>\n",
       "    <tr>\n",
       "      <th>Chris Andersen</th>\n",
       "      <td>C</td>\n",
       "      <td>0.0</td>\n",
       "      <td>2.6</td>\n",
       "      <td>0.6</td>\n",
       "    </tr>\n",
       "    <tr>\n",
       "      <th>Will Barton</th>\n",
       "      <td>SG</td>\n",
       "      <td>1.5</td>\n",
       "      <td>4.3</td>\n",
       "      <td>0.5</td>\n",
       "    </tr>\n",
       "  </tbody>\n",
       "</table>\n",
       "</div>"
      ],
      "text/plain": [
       "               포지션  3점슛성공  리바운드  블라킹\n",
       "선수명                                 \n",
       "Alex Abrines    SG    1.4   1.3  0.1\n",
       "Steven Adams     C    0.0   7.7  1.0\n",
       "Alexis Ajinca    C    0.0   4.5  0.6\n",
       "Chris Andersen   C    0.0   2.6  0.6\n",
       "Will Barton     SG    1.5   4.3  0.5"
      ]
     },
     "execution_count": 22,
     "metadata": {},
     "output_type": "execute_result"
    }
   ],
   "source": [
    "df.head()"
   ]
  },
  {
   "cell_type": "markdown",
   "metadata": {},
   "source": [
    "## 데이터 학습데이터와 테스트 데이터 분리"
   ]
  },
  {
   "cell_type": "code",
   "execution_count": 23,
   "metadata": {},
   "outputs": [],
   "source": [
    "from sklearn.model_selection import train_test_split"
   ]
  },
  {
   "cell_type": "code",
   "execution_count": 24,
   "metadata": {},
   "outputs": [],
   "source": [
    "# train, test  = train_test_split(df, test_size = 0.2 , random_state = 11)\n",
    "train, test  = train_test_split(df, test_size = 0.2, random_state = 11)"
   ]
  },
  {
   "cell_type": "code",
   "execution_count": 252,
   "metadata": {},
   "outputs": [
    {
     "data": {
      "text/plain": [
       "80"
      ]
     },
     "execution_count": 252,
     "metadata": {},
     "output_type": "execute_result"
    }
   ],
   "source": [
    "train.shape[0]"
   ]
  },
  {
   "cell_type": "code",
   "execution_count": 253,
   "metadata": {},
   "outputs": [
    {
     "data": {
      "text/plain": [
       "20"
      ]
     },
     "execution_count": 253,
     "metadata": {},
     "output_type": "execute_result"
    }
   ],
   "source": [
    "test.shape[0]"
   ]
  },
  {
   "cell_type": "code",
   "execution_count": 257,
   "metadata": {},
   "outputs": [
    {
     "data": {
      "text/plain": [
       "(80, 5)"
      ]
     },
     "execution_count": 257,
     "metadata": {},
     "output_type": "execute_result"
    }
   ],
   "source": [
    "train.shape"
   ]
  },
  {
   "cell_type": "code",
   "execution_count": 256,
   "metadata": {},
   "outputs": [
    {
     "data": {
      "text/plain": [
       "(20, 5)"
      ]
     },
     "execution_count": 256,
     "metadata": {},
     "output_type": "execute_result"
    }
   ],
   "source": [
    "test.shape"
   ]
  },
  {
   "cell_type": "markdown",
   "metadata": {},
   "source": [
    "## 데이터 분리  / 학습 \n",
    "### 데이터 분리"
   ]
  },
  {
   "cell_type": "code",
   "execution_count": 288,
   "metadata": {},
   "outputs": [],
   "source": [
    "from sklearn.neighbors import KNeighborsClassifier\n",
    "\n",
    "clf = KNeighborsClassifier(n_neighbors = 3)\n",
    "X_train = train[[\"3점슛성공\", \"리바운드\" ,\"블라킹\"]]  # 훈련용 데이터\n",
    "y_train = train['포지션']  # 라벨_결정값"
   ]
  },
  {
   "cell_type": "code",
   "execution_count": 289,
   "metadata": {},
   "outputs": [
    {
     "data": {
      "text/plain": [
       "(    3점슛성공  리바운드  블라킹\n",
       " 21    1.9   1.8  0.1\n",
       " 36    1.7   3.3  0.8\n",
       " 20    1.4   1.6  0.2\n",
       " 61    1.8   5.4  1.7\n",
       " 60    0.0   6.6  1.3\n",
       " ..    ...   ...  ...\n",
       " 81    1.2   3.9  0.4\n",
       " 91    1.2  12.3  1.3\n",
       " 80    1.2   2.9  0.4\n",
       " 63    0.0   4.8  0.8\n",
       " 25    0.0  13.8  1.1\n",
       " \n",
       " [80 rows x 3 columns],\n",
       " 21    SG\n",
       " 36    SG\n",
       " 20    SG\n",
       " 61     C\n",
       " 60     C\n",
       "       ..\n",
       " 81    SG\n",
       " 91     C\n",
       " 80    SG\n",
       " 63     C\n",
       " 25     C\n",
       " Name: 포지션, Length: 80, dtype: object)"
      ]
     },
     "execution_count": 289,
     "metadata": {},
     "output_type": "execute_result"
    }
   ],
   "source": [
    "X_train, y_train"
   ]
  },
  {
   "cell_type": "code",
   "execution_count": 290,
   "metadata": {},
   "outputs": [],
   "source": [
    "X_test  = test[[\"3점슛성공\", \"리바운드\" ,\"블라킹\"]]\n",
    "y_test  = test[\"포지션\"].values.ravel()"
   ]
  },
  {
   "cell_type": "code",
   "execution_count": 291,
   "metadata": {},
   "outputs": [
    {
     "data": {
      "text/html": [
       "<div>\n",
       "<style scoped>\n",
       "    .dataframe tbody tr th:only-of-type {\n",
       "        vertical-align: middle;\n",
       "    }\n",
       "\n",
       "    .dataframe tbody tr th {\n",
       "        vertical-align: top;\n",
       "    }\n",
       "\n",
       "    .dataframe thead th {\n",
       "        text-align: right;\n",
       "    }\n",
       "</style>\n",
       "<table border=\"1\" class=\"dataframe\">\n",
       "  <thead>\n",
       "    <tr style=\"text-align: right;\">\n",
       "      <th></th>\n",
       "      <th>3점슛성공</th>\n",
       "      <th>리바운드</th>\n",
       "      <th>블라킹</th>\n",
       "    </tr>\n",
       "  </thead>\n",
       "  <tbody>\n",
       "    <tr>\n",
       "      <th>46</th>\n",
       "      <td>0.0</td>\n",
       "      <td>4.2</td>\n",
       "      <td>0.6</td>\n",
       "    </tr>\n",
       "    <tr>\n",
       "      <th>49</th>\n",
       "      <td>1.9</td>\n",
       "      <td>3.4</td>\n",
       "      <td>0.2</td>\n",
       "    </tr>\n",
       "    <tr>\n",
       "      <th>22</th>\n",
       "      <td>2.1</td>\n",
       "      <td>1.5</td>\n",
       "      <td>0.1</td>\n",
       "    </tr>\n",
       "    <tr>\n",
       "      <th>58</th>\n",
       "      <td>2.6</td>\n",
       "      <td>3.4</td>\n",
       "      <td>0.2</td>\n",
       "    </tr>\n",
       "    <tr>\n",
       "      <th>41</th>\n",
       "      <td>1.9</td>\n",
       "      <td>3.1</td>\n",
       "      <td>0.1</td>\n",
       "    </tr>\n",
       "    <tr>\n",
       "      <th>98</th>\n",
       "      <td>0.0</td>\n",
       "      <td>14.1</td>\n",
       "      <td>2.1</td>\n",
       "    </tr>\n",
       "    <tr>\n",
       "      <th>62</th>\n",
       "      <td>0.0</td>\n",
       "      <td>6.4</td>\n",
       "      <td>1.4</td>\n",
       "    </tr>\n",
       "    <tr>\n",
       "      <th>29</th>\n",
       "      <td>1.9</td>\n",
       "      <td>3.9</td>\n",
       "      <td>0.5</td>\n",
       "    </tr>\n",
       "    <tr>\n",
       "      <th>30</th>\n",
       "      <td>1.4</td>\n",
       "      <td>6.3</td>\n",
       "      <td>1.3</td>\n",
       "    </tr>\n",
       "    <tr>\n",
       "      <th>51</th>\n",
       "      <td>0.0</td>\n",
       "      <td>12.7</td>\n",
       "      <td>1.2</td>\n",
       "    </tr>\n",
       "    <tr>\n",
       "      <th>89</th>\n",
       "      <td>3.4</td>\n",
       "      <td>3.7</td>\n",
       "      <td>0.5</td>\n",
       "    </tr>\n",
       "    <tr>\n",
       "      <th>78</th>\n",
       "      <td>1.4</td>\n",
       "      <td>3.2</td>\n",
       "      <td>0.7</td>\n",
       "    </tr>\n",
       "    <tr>\n",
       "      <th>83</th>\n",
       "      <td>0.5</td>\n",
       "      <td>3.5</td>\n",
       "      <td>0.7</td>\n",
       "    </tr>\n",
       "    <tr>\n",
       "      <th>79</th>\n",
       "      <td>1.5</td>\n",
       "      <td>2.2</td>\n",
       "      <td>0.1</td>\n",
       "    </tr>\n",
       "    <tr>\n",
       "      <th>16</th>\n",
       "      <td>0.0</td>\n",
       "      <td>4.5</td>\n",
       "      <td>0.6</td>\n",
       "    </tr>\n",
       "    <tr>\n",
       "      <th>38</th>\n",
       "      <td>0.2</td>\n",
       "      <td>1.6</td>\n",
       "      <td>0.6</td>\n",
       "    </tr>\n",
       "    <tr>\n",
       "      <th>54</th>\n",
       "      <td>1.5</td>\n",
       "      <td>4.5</td>\n",
       "      <td>0.5</td>\n",
       "    </tr>\n",
       "    <tr>\n",
       "      <th>6</th>\n",
       "      <td>2.9</td>\n",
       "      <td>3.1</td>\n",
       "      <td>0.3</td>\n",
       "    </tr>\n",
       "    <tr>\n",
       "      <th>39</th>\n",
       "      <td>1.9</td>\n",
       "      <td>2.8</td>\n",
       "      <td>0.2</td>\n",
       "    </tr>\n",
       "    <tr>\n",
       "      <th>93</th>\n",
       "      <td>0.0</td>\n",
       "      <td>9.5</td>\n",
       "      <td>0.8</td>\n",
       "    </tr>\n",
       "  </tbody>\n",
       "</table>\n",
       "</div>"
      ],
      "text/plain": [
       "    3점슛성공  리바운드  블라킹\n",
       "46    0.0   4.2  0.6\n",
       "49    1.9   3.4  0.2\n",
       "22    2.1   1.5  0.1\n",
       "58    2.6   3.4  0.2\n",
       "41    1.9   3.1  0.1\n",
       "98    0.0  14.1  2.1\n",
       "62    0.0   6.4  1.4\n",
       "29    1.9   3.9  0.5\n",
       "30    1.4   6.3  1.3\n",
       "51    0.0  12.7  1.2\n",
       "89    3.4   3.7  0.5\n",
       "78    1.4   3.2  0.7\n",
       "83    0.5   3.5  0.7\n",
       "79    1.5   2.2  0.1\n",
       "16    0.0   4.5  0.6\n",
       "38    0.2   1.6  0.6\n",
       "54    1.5   4.5  0.5\n",
       "6     2.9   3.1  0.3\n",
       "39    1.9   2.8  0.2\n",
       "93    0.0   9.5  0.8"
      ]
     },
     "execution_count": 291,
     "metadata": {},
     "output_type": "execute_result"
    }
   ],
   "source": [
    "X_test"
   ]
  },
  {
   "cell_type": "markdown",
   "metadata": {},
   "source": [
    "### 학습 및 예측"
   ]
  },
  {
   "cell_type": "code",
   "execution_count": 292,
   "metadata": {},
   "outputs": [
    {
     "name": "stdout",
     "output_type": "stream",
     "text": [
      "예측값 : \n",
      " ['C' 'SG' 'SG' 'SG' 'SG' 'C' 'C' 'SG' 'SG' 'C' 'SG' 'SG' 'C' 'SG' 'C' 'SG'\n",
      " 'SG' 'SG' 'SG' 'C']\n"
     ]
    }
   ],
   "source": [
    "clf.fit(X_train, y_train.values.ravel())\n",
    "y_pred = clf.predict(X_test)\n",
    "print(\"예측값 : \\n\", y_pred)"
   ]
  },
  {
   "cell_type": "code",
   "execution_count": 293,
   "metadata": {},
   "outputs": [
    {
     "name": "stdout",
     "output_type": "stream",
     "text": [
      "실제값 : \n",
      " ['C' 'SG' 'SG' 'SG' 'SG' 'C' 'C' 'C' 'C' 'C' 'SG' 'SG' 'C' 'SG' 'C' 'C'\n",
      " 'C' 'SG' 'SG' 'C']\n"
     ]
    }
   ],
   "source": [
    "print(\"실제값 : \\n\", y_test)"
   ]
  },
  {
   "cell_type": "markdown",
   "metadata": {},
   "source": [
    "### 예측 정확도"
   ]
  },
  {
   "cell_type": "code",
   "execution_count": 294,
   "metadata": {},
   "outputs": [
    {
     "name": "stdout",
     "output_type": "stream",
     "text": [
      "예측 정확도 : 0.80\n"
     ]
    }
   ],
   "source": [
    "from sklearn.metrics import accuracy_score\n",
    "print('예측 정확도 : {:.2f}'.format(accuracy_score(y_test, y_pred)))  "
   ]
  },
  {
   "cell_type": "code",
   "execution_count": 295,
   "metadata": {},
   "outputs": [
    {
     "data": {
      "text/html": [
       "<div>\n",
       "<style scoped>\n",
       "    .dataframe tbody tr th:only-of-type {\n",
       "        vertical-align: middle;\n",
       "    }\n",
       "\n",
       "    .dataframe tbody tr th {\n",
       "        vertical-align: top;\n",
       "    }\n",
       "\n",
       "    .dataframe thead th {\n",
       "        text-align: right;\n",
       "    }\n",
       "</style>\n",
       "<table border=\"1\" class=\"dataframe\">\n",
       "  <thead>\n",
       "    <tr style=\"text-align: right;\">\n",
       "      <th></th>\n",
       "      <th>예측값</th>\n",
       "      <th>실제값</th>\n",
       "      <th>동일여부</th>\n",
       "    </tr>\n",
       "  </thead>\n",
       "  <tbody>\n",
       "    <tr>\n",
       "      <th>0</th>\n",
       "      <td>C</td>\n",
       "      <td>C</td>\n",
       "      <td>True</td>\n",
       "    </tr>\n",
       "    <tr>\n",
       "      <th>1</th>\n",
       "      <td>SG</td>\n",
       "      <td>SG</td>\n",
       "      <td>True</td>\n",
       "    </tr>\n",
       "    <tr>\n",
       "      <th>2</th>\n",
       "      <td>SG</td>\n",
       "      <td>SG</td>\n",
       "      <td>True</td>\n",
       "    </tr>\n",
       "    <tr>\n",
       "      <th>3</th>\n",
       "      <td>SG</td>\n",
       "      <td>SG</td>\n",
       "      <td>True</td>\n",
       "    </tr>\n",
       "    <tr>\n",
       "      <th>4</th>\n",
       "      <td>SG</td>\n",
       "      <td>SG</td>\n",
       "      <td>True</td>\n",
       "    </tr>\n",
       "    <tr>\n",
       "      <th>5</th>\n",
       "      <td>C</td>\n",
       "      <td>C</td>\n",
       "      <td>True</td>\n",
       "    </tr>\n",
       "    <tr>\n",
       "      <th>6</th>\n",
       "      <td>C</td>\n",
       "      <td>C</td>\n",
       "      <td>True</td>\n",
       "    </tr>\n",
       "    <tr>\n",
       "      <th>7</th>\n",
       "      <td>SG</td>\n",
       "      <td>C</td>\n",
       "      <td>False</td>\n",
       "    </tr>\n",
       "    <tr>\n",
       "      <th>8</th>\n",
       "      <td>SG</td>\n",
       "      <td>C</td>\n",
       "      <td>False</td>\n",
       "    </tr>\n",
       "    <tr>\n",
       "      <th>9</th>\n",
       "      <td>C</td>\n",
       "      <td>C</td>\n",
       "      <td>True</td>\n",
       "    </tr>\n",
       "    <tr>\n",
       "      <th>10</th>\n",
       "      <td>SG</td>\n",
       "      <td>SG</td>\n",
       "      <td>True</td>\n",
       "    </tr>\n",
       "    <tr>\n",
       "      <th>11</th>\n",
       "      <td>SG</td>\n",
       "      <td>SG</td>\n",
       "      <td>True</td>\n",
       "    </tr>\n",
       "    <tr>\n",
       "      <th>12</th>\n",
       "      <td>C</td>\n",
       "      <td>C</td>\n",
       "      <td>True</td>\n",
       "    </tr>\n",
       "    <tr>\n",
       "      <th>13</th>\n",
       "      <td>SG</td>\n",
       "      <td>SG</td>\n",
       "      <td>True</td>\n",
       "    </tr>\n",
       "    <tr>\n",
       "      <th>14</th>\n",
       "      <td>C</td>\n",
       "      <td>C</td>\n",
       "      <td>True</td>\n",
       "    </tr>\n",
       "    <tr>\n",
       "      <th>15</th>\n",
       "      <td>SG</td>\n",
       "      <td>C</td>\n",
       "      <td>False</td>\n",
       "    </tr>\n",
       "    <tr>\n",
       "      <th>16</th>\n",
       "      <td>SG</td>\n",
       "      <td>C</td>\n",
       "      <td>False</td>\n",
       "    </tr>\n",
       "    <tr>\n",
       "      <th>17</th>\n",
       "      <td>SG</td>\n",
       "      <td>SG</td>\n",
       "      <td>True</td>\n",
       "    </tr>\n",
       "    <tr>\n",
       "      <th>18</th>\n",
       "      <td>SG</td>\n",
       "      <td>SG</td>\n",
       "      <td>True</td>\n",
       "    </tr>\n",
       "    <tr>\n",
       "      <th>19</th>\n",
       "      <td>C</td>\n",
       "      <td>C</td>\n",
       "      <td>True</td>\n",
       "    </tr>\n",
       "  </tbody>\n",
       "</table>\n",
       "</div>"
      ],
      "text/plain": [
       "   예측값 실제값   동일여부\n",
       "0    C   C   True\n",
       "1   SG  SG   True\n",
       "2   SG  SG   True\n",
       "3   SG  SG   True\n",
       "4   SG  SG   True\n",
       "5    C   C   True\n",
       "6    C   C   True\n",
       "7   SG   C  False\n",
       "8   SG   C  False\n",
       "9    C   C   True\n",
       "10  SG  SG   True\n",
       "11  SG  SG   True\n",
       "12   C   C   True\n",
       "13  SG  SG   True\n",
       "14   C   C   True\n",
       "15  SG   C  False\n",
       "16  SG   C  False\n",
       "17  SG  SG   True\n",
       "18  SG  SG   True\n",
       "19   C   C   True"
      ]
     },
     "execution_count": 295,
     "metadata": {},
     "output_type": "execute_result"
    }
   ],
   "source": [
    "comparison = pd.DataFrame({\"예측값\":  y_pred, \"실제값\": y_test , \"동일여부\": y_pred == y_test})\n",
    "comparison"
   ]
  },
  {
   "cell_type": "markdown",
   "metadata": {},
   "source": [
    "## 어느 정도의 이웃갯수가 적정한가?"
   ]
  },
  {
   "cell_type": "code",
   "execution_count": 296,
   "metadata": {},
   "outputs": [],
   "source": [
    "X = df[[\"3점슛성공\", \"리바운드\" ,\"블라킹\"]]\n",
    "y = df[\"포지션\"]"
   ]
  },
  {
   "cell_type": "code",
   "execution_count": 297,
   "metadata": {},
   "outputs": [
    {
     "data": {
      "text/plain": [
       "(    3점슛성공  리바운드  블라킹\n",
       " 0     1.4   1.3  0.1\n",
       " 1     0.0   7.7  1.0\n",
       " 2     0.0   4.5  0.6\n",
       " 3     0.0   2.6  0.6\n",
       " 4     1.5   4.3  0.5\n",
       " ..    ...   ...  ...\n",
       " 95    0.3  10.4  1.0\n",
       " 96    0.8   4.5  0.7\n",
       " 97    1.8   3.3  0.4\n",
       " 98    0.0  14.1  2.1\n",
       " 99    2.0   2.5  0.2\n",
       " \n",
       " [100 rows x 3 columns],\n",
       " 0     SG\n",
       " 1      C\n",
       " 2      C\n",
       " 3      C\n",
       " 4     SG\n",
       "       ..\n",
       " 95     C\n",
       " 96    SG\n",
       " 97    SG\n",
       " 98     C\n",
       " 99    SG\n",
       " Name: 포지션, Length: 100, dtype: object)"
      ]
     },
     "execution_count": 297,
     "metadata": {},
     "output_type": "execute_result"
    }
   ],
   "source": [
    "X,y"
   ]
  },
  {
   "cell_type": "markdown",
   "metadata": {},
   "source": [
    "### 학습데이터 세트와 테스트 데이터셋트 분리"
   ]
  },
  {
   "cell_type": "code",
   "execution_count": 299,
   "metadata": {},
   "outputs": [],
   "source": [
    "from sklearn.model_selection import train_test_split\n",
    "\n",
    "X_train, X_test, y_train, y_test = train_test_split(X, y, test_size = 0.2 , random_state = 66)"
   ]
  },
  {
   "cell_type": "code",
   "execution_count": 301,
   "metadata": {},
   "outputs": [
    {
     "name": "stdout",
     "output_type": "stream",
     "text": [
      "X_train의 갯수 : \n",
      " 80\n",
      "X_test 갯수 : \n",
      " 20\n",
      "y_train 갯수 : \n",
      " 80\n",
      "y_test  갯수 : \n",
      " 20\n"
     ]
    }
   ],
   "source": [
    "print(\"X_train의 갯수 : \\n\" , X_train.shape[0])\n",
    "print(\"X_test 갯수 : \\n\" , X_test.shape[0])\n",
    "print(\"y_train 갯수 : \\n\" , y_train.shape[0])\n",
    "print(\"y_test  갯수 : \\n\", y_test.shape[0])"
   ]
  },
  {
   "cell_type": "code",
   "execution_count": null,
   "metadata": {},
   "outputs": [],
   "source": []
  },
  {
   "cell_type": "markdown",
   "metadata": {},
   "source": [
    "### K최근접 성능 평가"
   ]
  },
  {
   "cell_type": "code",
   "execution_count": 314,
   "metadata": {},
   "outputs": [
    {
     "data": {
      "application/pdf": "[encoded data removed]",
      "image/png": "[encoded data removed]",
      "text/plain": [
       "<Figure size 432x288 with 1 Axes>"
      ]
     },
     "metadata": {
      "needs_background": "light"
     },
     "output_type": "display_data"
    }
   ],
   "source": [
    "from sklearn.neighbors import KNeighborsClassifier\n",
    "\n",
    "trainning_accuracy = []\n",
    "test_accuracy = []\n",
    "\n",
    "neighboring_settings = range(1, 11)\n",
    "\n",
    "for neighboring in neighboring_settings:\n",
    "    clf = KNeighborsClassifier(n_neighbors = neighboring)\n",
    "    clf.fit(X_train, y_train)\n",
    "    \n",
    "    trainning_accuracy.append(clf.score(X_train, y_train))\n",
    "    test_accuracy.append(clf.score(X_test, y_test))\n",
    "    \n",
    "plt.plot(neighboring_settings, trainning_accuracy, label = '훈련정확도')\n",
    "plt.plot(neighboring_settings, test_accuracy, label = '테스트 정확도')\n",
    "plt.xlabel(\"이웃개수\")\n",
    "plt.ylabel(\"정확도\")\n",
    "plt.legend(loc = 3)\n",
    "plt.show()"
   ]
  },
  {
   "cell_type": "markdown",
   "metadata": {},
   "source": [
    "### 위의 갯수에 따른 학습 및 예측"
   ]
  },
  {
   "cell_type": "code",
   "execution_count": 345,
   "metadata": {},
   "outputs": [],
   "source": [
    "clf = KNeighborsClassifier(n_neighbors = 1)\n",
    "clf.fit(X_train, y_train)\n",
    "\n",
    "y_pred = clf.predict(X_test)"
   ]
  },
  {
   "cell_type": "code",
   "execution_count": 346,
   "metadata": {},
   "outputs": [
    {
     "data": {
      "text/plain": [
       "array(['SG', 'C', 'C', 'SG', 'C', 'SG', 'SG', 'C', 'SG', 'SG', 'C', 'C',\n",
       "       'SG', 'SG', 'C', 'C', 'SG', 'SG', 'C', 'SG', 'SG', 'C', 'SG', 'C',\n",
       "       'C'], dtype=object)"
      ]
     },
     "execution_count": 346,
     "metadata": {},
     "output_type": "execute_result"
    }
   ],
   "source": [
    "y_pred"
   ]
  },
  {
   "cell_type": "code",
   "execution_count": 347,
   "metadata": {},
   "outputs": [
    {
     "name": "stdout",
     "output_type": "stream",
     "text": [
      "테스트 세스 정확도 : 0.88\n",
      "예측값 정확도 : 0.88\n"
     ]
    }
   ],
   "source": [
    "from sklearn.metrics import accuracy_score\n",
    "print(\"테스트 세스 정확도 : {0:.2f}\".format(clf.score(X_test, y_test)))\n",
    "print(\"예측값 정확도 : {0:.2f}\".format(accuracy_score(y_test, y_pred)))"
   ]
  },
  {
   "cell_type": "markdown",
   "metadata": {},
   "source": [
    "### 예측값과 실제값 비교"
   ]
  },
  {
   "cell_type": "code",
   "execution_count": 349,
   "metadata": {},
   "outputs": [
    {
     "data": {
      "text/html": [
       "<div>\n",
       "<style scoped>\n",
       "    .dataframe tbody tr th:only-of-type {\n",
       "        vertical-align: middle;\n",
       "    }\n",
       "\n",
       "    .dataframe tbody tr th {\n",
       "        vertical-align: top;\n",
       "    }\n",
       "\n",
       "    .dataframe thead th {\n",
       "        text-align: right;\n",
       "    }\n",
       "</style>\n",
       "<table border=\"1\" class=\"dataframe\">\n",
       "  <thead>\n",
       "    <tr style=\"text-align: right;\">\n",
       "      <th></th>\n",
       "      <th>예측값</th>\n",
       "      <th>실제값</th>\n",
       "      <th>비교결과</th>\n",
       "    </tr>\n",
       "  </thead>\n",
       "  <tbody>\n",
       "    <tr>\n",
       "      <th>8</th>\n",
       "      <td>SG</td>\n",
       "      <td>SG</td>\n",
       "      <td>True</td>\n",
       "    </tr>\n",
       "    <tr>\n",
       "      <th>93</th>\n",
       "      <td>C</td>\n",
       "      <td>C</td>\n",
       "      <td>True</td>\n",
       "    </tr>\n",
       "    <tr>\n",
       "      <th>4</th>\n",
       "      <td>C</td>\n",
       "      <td>SG</td>\n",
       "      <td>False</td>\n",
       "    </tr>\n",
       "    <tr>\n",
       "      <th>5</th>\n",
       "      <td>SG</td>\n",
       "      <td>SG</td>\n",
       "      <td>True</td>\n",
       "    </tr>\n",
       "    <tr>\n",
       "      <th>52</th>\n",
       "      <td>C</td>\n",
       "      <td>C</td>\n",
       "      <td>True</td>\n",
       "    </tr>\n",
       "    <tr>\n",
       "      <th>41</th>\n",
       "      <td>SG</td>\n",
       "      <td>SG</td>\n",
       "      <td>True</td>\n",
       "    </tr>\n",
       "    <tr>\n",
       "      <th>0</th>\n",
       "      <td>SG</td>\n",
       "      <td>SG</td>\n",
       "      <td>True</td>\n",
       "    </tr>\n",
       "    <tr>\n",
       "      <th>73</th>\n",
       "      <td>C</td>\n",
       "      <td>SG</td>\n",
       "      <td>False</td>\n",
       "    </tr>\n",
       "    <tr>\n",
       "      <th>88</th>\n",
       "      <td>SG</td>\n",
       "      <td>SG</td>\n",
       "      <td>True</td>\n",
       "    </tr>\n",
       "    <tr>\n",
       "      <th>68</th>\n",
       "      <td>SG</td>\n",
       "      <td>SG</td>\n",
       "      <td>True</td>\n",
       "    </tr>\n",
       "    <tr>\n",
       "      <th>25</th>\n",
       "      <td>C</td>\n",
       "      <td>C</td>\n",
       "      <td>True</td>\n",
       "    </tr>\n",
       "    <tr>\n",
       "      <th>18</th>\n",
       "      <td>C</td>\n",
       "      <td>C</td>\n",
       "      <td>True</td>\n",
       "    </tr>\n",
       "    <tr>\n",
       "      <th>26</th>\n",
       "      <td>SG</td>\n",
       "      <td>SG</td>\n",
       "      <td>True</td>\n",
       "    </tr>\n",
       "    <tr>\n",
       "      <th>29</th>\n",
       "      <td>SG</td>\n",
       "      <td>C</td>\n",
       "      <td>False</td>\n",
       "    </tr>\n",
       "    <tr>\n",
       "      <th>66</th>\n",
       "      <td>C</td>\n",
       "      <td>C</td>\n",
       "      <td>True</td>\n",
       "    </tr>\n",
       "    <tr>\n",
       "      <th>50</th>\n",
       "      <td>C</td>\n",
       "      <td>C</td>\n",
       "      <td>True</td>\n",
       "    </tr>\n",
       "    <tr>\n",
       "      <th>80</th>\n",
       "      <td>SG</td>\n",
       "      <td>SG</td>\n",
       "      <td>True</td>\n",
       "    </tr>\n",
       "    <tr>\n",
       "      <th>45</th>\n",
       "      <td>SG</td>\n",
       "      <td>SG</td>\n",
       "      <td>True</td>\n",
       "    </tr>\n",
       "    <tr>\n",
       "      <th>38</th>\n",
       "      <td>C</td>\n",
       "      <td>C</td>\n",
       "      <td>True</td>\n",
       "    </tr>\n",
       "    <tr>\n",
       "      <th>58</th>\n",
       "      <td>SG</td>\n",
       "      <td>SG</td>\n",
       "      <td>True</td>\n",
       "    </tr>\n",
       "    <tr>\n",
       "      <th>49</th>\n",
       "      <td>SG</td>\n",
       "      <td>SG</td>\n",
       "      <td>True</td>\n",
       "    </tr>\n",
       "    <tr>\n",
       "      <th>85</th>\n",
       "      <td>C</td>\n",
       "      <td>C</td>\n",
       "      <td>True</td>\n",
       "    </tr>\n",
       "    <tr>\n",
       "      <th>94</th>\n",
       "      <td>SG</td>\n",
       "      <td>SG</td>\n",
       "      <td>True</td>\n",
       "    </tr>\n",
       "    <tr>\n",
       "      <th>87</th>\n",
       "      <td>C</td>\n",
       "      <td>C</td>\n",
       "      <td>True</td>\n",
       "    </tr>\n",
       "    <tr>\n",
       "      <th>15</th>\n",
       "      <td>C</td>\n",
       "      <td>C</td>\n",
       "      <td>True</td>\n",
       "    </tr>\n",
       "  </tbody>\n",
       "</table>\n",
       "</div>"
      ],
      "text/plain": [
       "   예측값 실제값   비교결과\n",
       "8   SG  SG   True\n",
       "93   C   C   True\n",
       "4    C  SG  False\n",
       "5   SG  SG   True\n",
       "52   C   C   True\n",
       "41  SG  SG   True\n",
       "0   SG  SG   True\n",
       "73   C  SG  False\n",
       "88  SG  SG   True\n",
       "68  SG  SG   True\n",
       "25   C   C   True\n",
       "18   C   C   True\n",
       "26  SG  SG   True\n",
       "29  SG   C  False\n",
       "66   C   C   True\n",
       "50   C   C   True\n",
       "80  SG  SG   True\n",
       "45  SG  SG   True\n",
       "38   C   C   True\n",
       "58  SG  SG   True\n",
       "49  SG  SG   True\n",
       "85   C   C   True\n",
       "94  SG  SG   True\n",
       "87   C   C   True\n",
       "15   C   C   True"
      ]
     },
     "execution_count": 349,
     "metadata": {},
     "output_type": "execute_result"
    }
   ],
   "source": [
    "pd.DataFrame({\"예측값\": y_pred, \"실제값\": y_test, \"비교결과\": y_pred == y_test})"
   ]
  }
 ],
 "metadata": {
  "kernelspec": {
   "display_name": "Python 3",
   "language": "python",
   "name": "python3"
  },
  "language_info": {
   "codemirror_mode": {
    "name": "ipython",
    "version": 3
   },
   "file_extension": ".py",
   "mimetype": "text/x-python",
   "name": "python",
   "nbconvert_exporter": "python",
   "pygments_lexer": "ipython3",
   "version": "3.8.3"
  }
 },
 "nbformat": 4,
 "nbformat_minor": 4
}
