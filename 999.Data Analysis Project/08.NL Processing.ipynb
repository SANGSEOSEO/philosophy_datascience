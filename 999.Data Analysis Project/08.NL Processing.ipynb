{
 "cells": [
  {
   "cell_type": "markdown",
   "metadata": {},
   "source": [
    "# 8장 자연어 처리 시작하기\n",
    "\n",
    "* 설치 목록\n",
    "    * JDK (Java SE Downloads)\n",
    "    * JAVA_HOME 설정\n",
    "    * JPype 설치\n",
    "    * KoNLPy 설치\n",
    "    * Word Cloud 설치\n",
    "* **까뮈의 페스트**를 WordCloud로 본다면?"
   ]
  },
  {
   "cell_type": "markdown",
   "metadata": {},
   "source": [
    "## 8-1. 한글 자연어 처리 기초 - KoNLPy 및 필요 모듈의 설치\n",
    "* 자연어 처리 <br>\n",
    "  [사이트 참조_박은정](https://github.com/e9t?tab=repositories)<br>\n",
    "  [자연어 처리](https://scienceon.kisti.re.kr/srch/selectPORSrchArticle.do?cn=NPAP12013363&dbt=NPAP) <br>\n",
    "  [꼬꼬마](http://kkma.snu.ac.kr/documents/)<br>\n",
    "  [CountVectorizer, TdifVectorizer](https://settlelib.tistory.com/62)\n",
    "  \n",
    "* JDK 설치 : Java JDK로 검색해서 OS에 맞춰 설치\n",
    "    * JAVA_HOME 설정 : 교재내용 참조\n",
    "* JPype1 : \n",
    "    * 사용하는 OS버전의 파이썬 버전에 의존적이니, 아래 사이트에서 맞는 버전을 다운로드 후 아나콘다 설치경로에 복사 [C:/anaconda3/]\n",
    "    * [비공식 다운로드 사이트](https://www.lfd.uci.edu/~gohlke/pythonlibs/#jpype)\n",
    "    * 설치 방법 : **conda install -c conda-forge jpype1** \n",
    "    * 이후 Jupyter Notebook 재실행 필요\n",
    "* **install konlpy** <br>\n",
    "(base) C:\\WINDOWS\\system32>pip install konlpy\n",
    "\n",
    "* (base) C:\\WINDOWS\\system32>python<br>\n",
    "  **import nltk --> nltk.download()**\n",
    "* anaconda Promtp 관리자 권한으로 실행<br>\n",
    "  -> python -> import nltk --> nltk.download() --> stopwords, punk를 더블클릭하거나 다운로드 버튼 클릭\n",
    "* (base) C:\\WINDOWS\\system32>python<br>\n",
    "  **pip install wordcloud**\n",
    "* (base) C:\\WINDOWS\\system32>python<br>\n",
    "  **pip install gensim** 하다가, 오류가 나면 pip install -U setuptools"
   ]
  },
  {
   "cell_type": "markdown",
   "metadata": {},
   "source": [
    "## 8-2. 한글 자연어 처리 기초"
   ]
  },
  {
   "cell_type": "markdown",
   "metadata": {},
   "source": [
    "### 꼬꼬마"
   ]
  },
  {
   "cell_type": "code",
   "execution_count": null,
   "metadata": {},
   "outputs": [],
   "source": [
    "from konlpy.tag import Kkma\n",
    "kkma = Kkma()"
   ]
  },
  {
   "cell_type": "code",
   "execution_count": null,
   "metadata": {},
   "outputs": [],
   "source": [
    "kkma.sentences(\"한국어 분석을 시작합니다. 재미있어요~\")"
   ]
  },
  {
   "cell_type": "code",
   "execution_count": null,
   "metadata": {},
   "outputs": [],
   "source": [
    "kkma.nouns(\"한국어 분석을 시작합니다. 재미있어요~\")"
   ]
  },
  {
   "cell_type": "code",
   "execution_count": null,
   "metadata": {},
   "outputs": [],
   "source": [
    "# POS(Part Of Speech)한글 형태소 품사 \n",
    "kkma.pos(\"한국어 분석을 시작 합니다. 재미있어요~\")"
   ]
  },
  {
   "cell_type": "markdown",
   "metadata": {},
   "source": [
    "### 한나눔"
   ]
  },
  {
   "cell_type": "code",
   "execution_count": null,
   "metadata": {},
   "outputs": [],
   "source": [
    "from konlpy.tag import Hannanum\n",
    "hannanum = Hannanum()"
   ]
  },
  {
   "cell_type": "code",
   "execution_count": null,
   "metadata": {},
   "outputs": [],
   "source": [
    "hannanum.nouns(\"한국어 분석을 시작합니다. 재미있어요~\")"
   ]
  },
  {
   "cell_type": "code",
   "execution_count": null,
   "metadata": {},
   "outputs": [],
   "source": [
    "hannanum.morphs(\"한국어 분석을 시작합니다 재미있어요~~\")"
   ]
  },
  {
   "cell_type": "code",
   "execution_count": null,
   "metadata": {},
   "outputs": [],
   "source": [
    "hannanum.pos(\"한국어 분석을 시작합니다 재미있어요~~\")"
   ]
  },
  {
   "cell_type": "markdown",
   "metadata": {},
   "source": [
    "### 트위터 분석기"
   ]
  },
  {
   "cell_type": "code",
   "execution_count": null,
   "metadata": {},
   "outputs": [],
   "source": [
    "# 트위터 분석기\n",
    "from konlpy.tag import Okt\n",
    "t = Okt()"
   ]
  },
  {
   "cell_type": "code",
   "execution_count": null,
   "metadata": {},
   "outputs": [],
   "source": [
    "t.nouns(\"한국어 분석을 시작합니다 재미있어요~~\")"
   ]
  },
  {
   "cell_type": "code",
   "execution_count": null,
   "metadata": {},
   "outputs": [],
   "source": [
    "t.morphs(\"한국어 분석을 시작합니다 재미있어요~~\")"
   ]
  },
  {
   "cell_type": "code",
   "execution_count": null,
   "metadata": {},
   "outputs": [],
   "source": [
    "t.pos(\"한국어 분석을 시작합니다 재미있어요~~\")"
   ]
  },
  {
   "cell_type": "markdown",
   "metadata": {},
   "source": [
    "# 워드 클라우드 \n",
    "* word cloud설치: `pip install wordcloud`"
   ]
  },
  {
   "cell_type": "code",
   "execution_count": null,
   "metadata": {},
   "outputs": [],
   "source": [
    "from wordcloud import WordCloud, STOPWORDS\n",
    "import numpy as np\n",
    "from PIL import Image  #Python Image Library`"
   ]
  },
  {
   "cell_type": "code",
   "execution_count": null,
   "metadata": {},
   "outputs": [],
   "source": [
    "text = open(\"../data/09. alice.txt\").read()\n",
    "type(text)\n",
    "text"
   ]
  },
  {
   "cell_type": "code",
   "execution_count": null,
   "metadata": {},
   "outputs": [],
   "source": [
    "suggest_party = pd.read_csv(\"../data/open/suggest_party.csv\")"
   ]
  },
  {
   "cell_type": "code",
   "execution_count": null,
   "metadata": {},
   "outputs": [],
   "source": [
    "alice_mask = np.array(Image.open(\"../data/09. alice_mask.png\"))\n",
    "type(alice_mask), alice_mask.shape, alice_mask"
   ]
  },
  {
   "cell_type": "code",
   "execution_count": null,
   "metadata": {},
   "outputs": [],
   "source": [
    "stopwords = set(STOPWORDS) #불용어 - 통계에서 빠지는 단어\n",
    "stopwords.add(\"said\")"
   ]
  },
  {
   "cell_type": "code",
   "execution_count": null,
   "metadata": {},
   "outputs": [],
   "source": [
    "import platform\n",
    "import matplotlib.pyplot as plt\n",
    "# 한글 폰트 설치 \n",
    "path = \"c:/Windows/Fonts/malgun.ttf\"\n",
    "from matplotlib import font_manager, rc\n",
    "if platform.system() == 'Darwin':\n",
    "    rc('font', family='AppleGothic')\n",
    "elif platform.system() == 'Windows':\n",
    "    font_name = font_manager.FontProperties(fname=path).get_name()\n",
    "    rc('font', family=font_name)\n",
    "else:\n",
    "    print('Unknown system... sorry~~~~')    \n",
    "\n",
    "# 마이너스 부호 표시 \n",
    "plt.rcParams['axes.unicode_minus'] = False"
   ]
  },
  {
   "cell_type": "code",
   "execution_count": null,
   "metadata": {},
   "outputs": [],
   "source": [
    "plt.figure(figsize =(8, 8))\n",
    "plt.imshow(alice_mask, cmap = plt.cm.gray, interpolation='bilinear')\n",
    "plt.axis('off')\n",
    "plt.show()"
   ]
  },
  {
   "cell_type": "code",
   "execution_count": null,
   "metadata": {},
   "outputs": [],
   "source": [
    "wc = WordCloud(background_color='white',max_words = 2000, mask = alice_mask, stopwords = stopwords)\n",
    "wc = wc.generate(text)\n",
    "wc.words_"
   ]
  },
  {
   "cell_type": "code",
   "execution_count": null,
   "metadata": {},
   "outputs": [],
   "source": [
    "plt.figure(figsize = (12, 12))\n",
    "plt.imshow(wc, interpolation = 'bilinear')\n",
    "plt.axis('off')\n",
    "plt.show()"
   ]
  },
  {
   "cell_type": "code",
   "execution_count": null,
   "metadata": {},
   "outputs": [],
   "source": [
    "text = open(\"../data/07. a_new_hope.txt\").read()\n",
    "\n",
    "text = text.replace(\"HAN\", \"Han\")\n",
    "text = text.replace(\"LUKE'S\", \"Luke\")\n",
    "\n",
    "mask = np.array(Image.open(\"../data/09. stormtrooper_mask.png\"))"
   ]
  },
  {
   "cell_type": "code",
   "execution_count": null,
   "metadata": {},
   "outputs": [],
   "source": [
    "stopwords = set(STOPWORDS)\n",
    "stopwords.add(\"int\")\n",
    "stopwords.add(\"ext\")"
   ]
  },
  {
   "cell_type": "code",
   "execution_count": null,
   "metadata": {},
   "outputs": [],
   "source": [
    "wc = WordCloud(max_words = 1000, mask = mask, stopwords= stopwords,\n",
    "              margin = 10, random_state = 1).generate(text)\n",
    "default_colors = wc.to_array()\n",
    "wc.words_"
   ]
  },
  {
   "cell_type": "code",
   "execution_count": null,
   "metadata": {},
   "outputs": [],
   "source": [
    "import random\n",
    "def grey_color_func(word, font_size, position, orientation, random_state=None, **kwargs):\n",
    "    return 'hsl(0, 0%%, %d%%)' % random.randint(60, 100)  # hsl 색상, 채도 , 명도\n",
    "# https://www.w3schools.com/colors/colors_hsl.asp"
   ]
  },
  {
   "cell_type": "code",
   "execution_count": null,
   "metadata": {},
   "outputs": [],
   "source": [
    "plt.figure(figsize = (12, 12))\n",
    "plt.imshow(wc.recolor(color_func=grey_color_func, random_state = 3),\n",
    "          interpolation = 'bilinear')\n",
    "plt.axis('off')  # 축 없애고,\n",
    "plt.show()"
   ]
  },
  {
   "cell_type": "markdown",
   "metadata": {},
   "source": [
    "## 육아휴직관련 법안 1809890호 "
   ]
  },
  {
   "cell_type": "code",
   "execution_count": null,
   "metadata": {},
   "outputs": [],
   "source": [
    "import nltk"
   ]
  },
  {
   "cell_type": "code",
   "execution_count": null,
   "metadata": {},
   "outputs": [],
   "source": [
    "from konlpy.corpus import kobill\n",
    "doc_ko = kobill.open(\"1809890.txt\").read()"
   ]
  },
  {
   "cell_type": "code",
   "execution_count": null,
   "metadata": {},
   "outputs": [],
   "source": [
    "files_ko = kobill.fileids()\n",
    "files_ko"
   ]
  },
  {
   "cell_type": "code",
   "execution_count": null,
   "metadata": {},
   "outputs": [],
   "source": [
    "type(doc_ko), len(doc_ko)"
   ]
  },
  {
   "cell_type": "code",
   "execution_count": null,
   "metadata": {},
   "outputs": [],
   "source": [
    "from konlpy.tag import Twitter\n",
    "t = Twitter()\n",
    "# print(type(doc_ko), doc_ko)\n",
    "tokens_ko = t.nouns(doc_ko)  # 트위터 분석기를 이용해 명사만을 추출\n",
    "tokens_ko"
   ]
  },
  {
   "cell_type": "code",
   "execution_count": null,
   "metadata": {},
   "outputs": [],
   "source": [
    "ko = nltk.Text(tokens_ko)\n",
    "ko"
   ]
  },
  {
   "cell_type": "code",
   "execution_count": null,
   "metadata": {
    "scrolled": true
   },
   "outputs": [],
   "source": [
    "print(len(ko.tokens))  # 수집된 단어의 수\n",
    "print(len(set(ko.tokens)))  #  고유한 토큰의 갯수 \n",
    "ko.vocab()   # 단어의 빈도수\n",
    "\n",
    "#dir(ko.vocab())  # 딕셔너리 "
   ]
  },
  {
   "cell_type": "code",
   "execution_count": null,
   "metadata": {},
   "outputs": [],
   "source": [
    "plt.figure(figsize = (12, 6))\n",
    "ko.plot(50)\n",
    "plt.show()"
   ]
  },
  {
   "cell_type": "code",
   "execution_count": null,
   "metadata": {},
   "outputs": [],
   "source": [
    "# 불용어에 단어 추가 \n",
    "stop_words = ['.', '(', ')', ',', \"'\", '%', '-', 'X', ').', '×','의','자','에','안','번',\n",
    "                      '호','을','이','다','만','로','가','를']\n",
    "\n",
    "ko = [each_word for each_word in ko if each_word not in stop_words]\n",
    "ko"
   ]
  },
  {
   "cell_type": "code",
   "execution_count": null,
   "metadata": {},
   "outputs": [],
   "source": [
    "ko = nltk.Text(ko, name='대한민국 국회 의안 제 1809890호')\n",
    "\n",
    "plt.figure(figsize=(12,6))\n",
    "ko.plot(50)     # Plot sorted frequency of top 50 tokens\n",
    "plt.show()"
   ]
  },
  {
   "cell_type": "code",
   "execution_count": null,
   "metadata": {},
   "outputs": [],
   "source": [
    "ko.count('초등학교')  # `초등학교`라는 단어의 빈도"
   ]
  },
  {
   "cell_type": "code",
   "execution_count": null,
   "metadata": {},
   "outputs": [],
   "source": [
    "plt.figure(figsize=(12,6))\n",
    "ko.dispersion_plot(['육아휴직', '초등학교', '공무원'])  # 단어내 문서의 위치"
   ]
  },
  {
   "cell_type": "code",
   "execution_count": null,
   "metadata": {},
   "outputs": [],
   "source": [
    "ko.concordance('초등학교')  # `초등학교`라는 단어와 매칭되는 것들을 추출."
   ]
  },
  {
   "cell_type": "code",
   "execution_count": null,
   "metadata": {},
   "outputs": [],
   "source": [
    "ko.concordance_list('초등학교')"
   ]
  },
  {
   "cell_type": "code",
   "execution_count": null,
   "metadata": {},
   "outputs": [],
   "source": [
    "ko.collocations(num = 100)  # 문장내에서 연이어 나타나"
   ]
  },
  {
   "cell_type": "code",
   "execution_count": null,
   "metadata": {},
   "outputs": [],
   "source": [
    "data = ko.vocab().most_common(150)  # list객체로 반환\n",
    "\n",
    "wordcloud  = WordCloud(font_path = 'c:/Windows/Fonts/malgun.ttf',\n",
    "                      relative_scaling = 0.5,  # 빈도가 많은 단어가 더 강조됨\n",
    "                      background_color = 'white').generate_from_frequencies(dict(data))\n",
    "plt.figure(figsize=(12,8))\n",
    "plt.imshow(wordcloud)\n",
    "plt.axis(\"off\")\n",
    "plt.show()"
   ]
  },
  {
   "cell_type": "markdown",
   "metadata": {},
   "source": [
    "## 퀴즈\n",
    "워드크라우드\n",
    "1. kor_keyw의 주요 키워드를 시각화 해 보세요.\n",
    "\n",
    "1) 워드크라우드로 표현\n",
    "\n",
    "2) 빈도수 표현\n",
    "\n",
    "결과물만 첨부하세요.\n",
    "\n",
    "2. eng_keyw영문 키워드도 분석해 보세요"
   ]
  },
  {
   "cell_type": "markdown",
   "metadata": {},
   "source": [
    "## 1.kor_keyw의 주요 키워드 분석 및 시각화"
   ]
  },
  {
   "cell_type": "code",
   "execution_count": null,
   "metadata": {},
   "outputs": [],
   "source": [
    "import nltk\n",
    "from wordcloud import WordCloud, STOPWORDS\n",
    "from konlpy.tag import Twitter"
   ]
  },
  {
   "cell_type": "code",
   "execution_count": null,
   "metadata": {
    "scrolled": true
   },
   "outputs": [],
   "source": [
    "text = open(\"../data/kor_keyw.txt\", encoding = 'utf-8').read()\n",
    "t = Twitter()\n",
    "kor_nouns = t.nouns(text)\n",
    "kor_text = nltk.Text(kor_nouns)\n",
    "\n",
    "plt.figure(figsize = (10, 5))\n",
    "kor_text.plot(50)\n",
    "plt.show()\n",
    "plt.tight_layout()"
   ]
  },
  {
   "cell_type": "markdown",
   "metadata": {},
   "source": [
    "### WordCloud"
   ]
  },
  {
   "cell_type": "code",
   "execution_count": null,
   "metadata": {},
   "outputs": [],
   "source": [
    "ko_data = kor_text.vocab().most_common(150)  # list객체로 반환\n",
    "\n",
    "wordcloud  = WordCloud(font_path = 'c:/Windows/Fonts/malgun.ttf',\n",
    "                      relative_scaling = 0.2,  # 빈도가 많은 단어가 더 강조됨\n",
    "                      background_color = 'white').generate_from_frequencies(dict(ko_data))\n",
    "plt.figure(figsize=(12,8))\n",
    "plt.imshow(wordcloud)\n",
    "plt.axis(\"off\")\n",
    "plt.show()"
   ]
  },
  {
   "cell_type": "markdown",
   "metadata": {},
   "source": [
    "## 2.eng_keyw의 주요 키워드 분석 및 시각화"
   ]
  },
  {
   "cell_type": "code",
   "execution_count": null,
   "metadata": {},
   "outputs": [],
   "source": [
    "eng_text = open(\"../data/eng_keyw.txt\", mode='r').read()\n",
    "\n",
    "wc = WordCloud(background_color='white',max_words = 2000,stopwords = stopwords)\n",
    "wc = wc.generate(eng_text)\n",
    "\n",
    "wc.words_\n",
    "\n",
    "plt.figure(figsize = (12, 12))\n",
    "plt.imshow(wc.recolor(random_state = 3, colormap= 'Paired_r'),\n",
    "          interpolation = 'bilinear')\n",
    "plt.axis('off')  # 축 없애고,\n",
    "plt.show()"
   ]
  },
  {
   "cell_type": "code",
   "execution_count": null,
   "metadata": {},
   "outputs": [],
   "source": []
  },
  {
   "cell_type": "code",
   "execution_count": null,
   "metadata": {},
   "outputs": [],
   "source": []
  },
  {
   "cell_type": "markdown",
   "metadata": {},
   "source": [
    "## 5.Naive Bayes Classifier의 이해 - 영문"
   ]
  },
  {
   "cell_type": "code",
   "execution_count": null,
   "metadata": {},
   "outputs": [],
   "source": [
    "from nltk.tokenize import word_tokenize\n",
    "import nltk"
   ]
  },
  {
   "cell_type": "code",
   "execution_count": null,
   "metadata": {},
   "outputs": [],
   "source": [
    "train = [('i like you', 'pos'),\n",
    "        ('i hate you', 'neg'),\n",
    "        ('you like me', 'neg'),\n",
    "        ('i like her', 'pos')]"
   ]
  },
  {
   "cell_type": "code",
   "execution_count": null,
   "metadata": {},
   "outputs": [],
   "source": [
    "all_words = set(word.lower() for sentences in train \n",
    "               for word in word_tokenize(sentences[0]))\n",
    "all_words"
   ]
  },
  {
   "cell_type": "code",
   "execution_count": null,
   "metadata": {},
   "outputs": [],
   "source": [
    "a = train[0]\n",
    "a"
   ]
  },
  {
   "cell_type": "code",
   "execution_count": null,
   "metadata": {},
   "outputs": [],
   "source": [
    "# 말뭉치를 만드는 것임.\n",
    "all_words = set()\n",
    "for sentences in train:\n",
    "    for word in word_tokenize(sentences[0]):        \n",
    "        all_words.add(word.lower())            \n",
    "all_words        "
   ]
  },
  {
   "cell_type": "code",
   "execution_count": null,
   "metadata": {},
   "outputs": [],
   "source": [
    "# 문장내에 존재하는지 여부를 True혹은 False로 리턴 \n",
    "t = [({word: (word in word_tokenize(x[0])) for word in all_words}, x[1])\n",
    "                                                        for x in train]\n",
    "t"
   ]
  },
  {
   "cell_type": "code",
   "execution_count": null,
   "metadata": {},
   "outputs": [],
   "source": [
    "classifier = nltk.NaiveBayesClassifier.train(t)\n",
    "classifier.show_most_informative_features()"
   ]
  },
  {
   "cell_type": "code",
   "execution_count": null,
   "metadata": {},
   "outputs": [],
   "source": [
    "test_sentences = \"i like MeRui\"\n",
    "test_sent_feature = {word.lower():\n",
    "                      (word in word_tokenize(test_sentences.lower()))\n",
    "                      for word in all_words}\n",
    "test_sent_feature"
   ]
  },
  {
   "cell_type": "code",
   "execution_count": null,
   "metadata": {},
   "outputs": [],
   "source": [
    "test_sentences = \"I dislike you\"\n",
    "test_sent_feature = {word.lower():\n",
    "                      (word in word_tokenize(test_sentences.lower()))\n",
    "                      for word in all_words}\n",
    "test_sent_feature"
   ]
  },
  {
   "cell_type": "code",
   "execution_count": null,
   "metadata": {},
   "outputs": [],
   "source": [
    "classifier.classify(test_sent_feature)"
   ]
  },
  {
   "cell_type": "markdown",
   "metadata": {},
   "source": [
    "## 8-6. Naive Bayes Classifier의 이해 - 한글\n",
    "* 스팸 메일 필터링 등과 같이 문자열을 토큰화해서 표를 부착하는 것.(표는 특정의미를 갖는다.)"
   ]
  },
  {
   "cell_type": "code",
   "execution_count": null,
   "metadata": {},
   "outputs": [],
   "source": [
    "from konlpy.tag import Twitter"
   ]
  },
  {
   "cell_type": "code",
   "execution_count": null,
   "metadata": {},
   "outputs": [],
   "source": [
    "pos_tagger = Twitter()"
   ]
  },
  {
   "cell_type": "code",
   "execution_count": null,
   "metadata": {},
   "outputs": [],
   "source": [
    "train = [('메리가 좋아', 'pos'),\n",
    "        ('고양기 좋아', 'pos'),\n",
    "         ('난 수업이 지루해', 'neg'),\n",
    "         ('메리는 이쁜 고양이야', 'pos'),\n",
    "         ('난 마치고 메리랑 놀거야', 'pos')\n",
    "        ]"
   ]
  },
  {
   "cell_type": "code",
   "execution_count": null,
   "metadata": {},
   "outputs": [],
   "source": [
    "all_words = set(word.lower() for sentence in train\n",
    "                        for word in word_tokenize(sentence[0]))\n",
    "all_words"
   ]
  },
  {
   "cell_type": "code",
   "execution_count": null,
   "metadata": {},
   "outputs": [],
   "source": [
    "t = [({word: (word in word_tokenize(x[0])) for word in all_words}, x[1])\n",
    "                                                        for x in train]\n",
    "t"
   ]
  },
  {
   "cell_type": "code",
   "execution_count": null,
   "metadata": {},
   "outputs": [],
   "source": [
    "classifier = nltk.NaiveBayesClassifier.train(t)\n",
    "classifier.show_most_informative_features()"
   ]
  },
  {
   "cell_type": "code",
   "execution_count": null,
   "metadata": {},
   "outputs": [],
   "source": [
    "# \n",
    "test_sentence = '난 수업이 마치면 메리랑 놀거야'"
   ]
  },
  {
   "cell_type": "code",
   "execution_count": null,
   "metadata": {},
   "outputs": [],
   "source": [
    "test_sent_features = {word.lower(): \n",
    "                                          (word in word_tokenize(test_sentence.lower()))\n",
    "                                           for word in all_words}\n",
    "test_sent_features"
   ]
  },
  {
   "cell_type": "code",
   "execution_count": null,
   "metadata": {},
   "outputs": [],
   "source": [
    "classifier.classify(test_sent_features)"
   ]
  },
  {
   "cell_type": "markdown",
   "metadata": {},
   "source": [
    "### 한글은 형태소 분석이 필요하다.  ==> 메리가, 메리랑 , 메리는 "
   ]
  },
  {
   "cell_type": "code",
   "execution_count": null,
   "metadata": {},
   "outputs": [],
   "source": [
    "def tokenize(doc):\n",
    "    return ['/'.join(t) for t in pos_tagger.pos(doc, norm=True, stem=True)]"
   ]
  },
  {
   "cell_type": "code",
   "execution_count": null,
   "metadata": {},
   "outputs": [],
   "source": [
    "from konlpy.tag import Twitter\n",
    "twitter = Twitter()\n",
    "print(twitter.pos('이것도 재미 있습니당ㅋㅋㅋㅋ'))"
   ]
  },
  {
   "cell_type": "code",
   "execution_count": null,
   "metadata": {},
   "outputs": [],
   "source": [
    "# norm = True : 토큰을 정규화, 있습니당ㅋㅋㅋ => 있습니다.:현대적인 말로 바꾸어 줍니다.\n",
    "print(twitter.pos('이것도 재미 있습니당ㅋㅋㅋㅋ', norm = True))"
   ]
  },
  {
   "cell_type": "code",
   "execution_count": null,
   "metadata": {},
   "outputs": [],
   "source": [
    "# norm = True : 토큰을 정규화, 있습니당ㅋㅋㅋ => 있습니다.:현대적인 말로 바꾸어 줍니다.\n",
    "# stem = True\n",
    "print(twitter.pos('이것도 재미 있습니당ㅋㅋㅋㅋ', norm = True, stem = True))"
   ]
  },
  {
   "cell_type": "code",
   "execution_count": null,
   "metadata": {},
   "outputs": [],
   "source": [
    "for row in train:\n",
    "    print(row[0], row[1])"
   ]
  },
  {
   "cell_type": "code",
   "execution_count": null,
   "metadata": {},
   "outputs": [],
   "source": [
    "print(train)\n",
    "train_docs = [(tokenize(row[0]), row[1]) for row in train]\n",
    "train_docs"
   ]
  },
  {
   "cell_type": "code",
   "execution_count": null,
   "metadata": {},
   "outputs": [],
   "source": [
    "tokens = [t for d in train_docs for t in d[0]]\n",
    "tokens"
   ]
  },
  {
   "cell_type": "code",
   "execution_count": null,
   "metadata": {},
   "outputs": [],
   "source": [
    "def term_exists(doc):\n",
    "    return {word: (word in set(doc)) for word in tokens}"
   ]
  },
  {
   "cell_type": "code",
   "execution_count": null,
   "metadata": {},
   "outputs": [],
   "source": [
    "train_xy = [(term_exists(d), c) for d, c in train_docs]\n",
    "train_xy"
   ]
  },
  {
   "cell_type": "code",
   "execution_count": null,
   "metadata": {},
   "outputs": [],
   "source": [
    "classifier = nltk.NaiveBayesClassifier.train(train_xy)"
   ]
  },
  {
   "cell_type": "code",
   "execution_count": null,
   "metadata": {},
   "outputs": [],
   "source": [
    "test_sentence = [(\"난 수업이 마치면 메리랑 놀거야\")]"
   ]
  },
  {
   "cell_type": "code",
   "execution_count": null,
   "metadata": {},
   "outputs": [],
   "source": [
    "test_docs = pos_tagger.pos(test_sentence[0])\n",
    "test_docs"
   ]
  },
  {
   "cell_type": "code",
   "execution_count": null,
   "metadata": {},
   "outputs": [],
   "source": [
    "classifier.show_most_informative_features()"
   ]
  },
  {
   "cell_type": "code",
   "execution_count": null,
   "metadata": {},
   "outputs": [],
   "source": [
    "test_sent_features = {word: (word in tokens) for wod in test_docs}\n",
    "test_sent_features"
   ]
  },
  {
   "cell_type": "code",
   "execution_count": null,
   "metadata": {},
   "outputs": [],
   "source": [
    "# 한글 형태소 분석을 거친후 \n",
    "# \"난 수업이 마치면 메리아 놀거야\" 문장을 긍정문(pos)으로 인식함\n",
    "classifier.classify(test_sent_features)"
   ]
  },
  {
   "cell_type": "markdown",
   "metadata": {},
   "source": [
    "## 8.7 문장의 유사도 측정하기"
   ]
  },
  {
   "cell_type": "markdown",
   "metadata": {},
   "source": [
    "### CountVectorizer"
   ]
  },
  {
   "cell_type": "code",
   "execution_count": null,
   "metadata": {},
   "outputs": [],
   "source": [
    "from sklearn.feature_extraction.text import CountVectorizer"
   ]
  },
  {
   "cell_type": "code",
   "execution_count": null,
   "metadata": {},
   "outputs": [],
   "source": [
    "vectorizer = CountVectorizer(min_df = 1)# 단어장에 포함되기 위한 최소 빈도"
   ]
  },
  {
   "cell_type": "code",
   "execution_count": null,
   "metadata": {},
   "outputs": [],
   "source": [
    "contents = ['메리랑 놀러가고 싶지만 바쁜데 어떻하죠?',\n",
    "                   '메리는 공원에서 산책하고 노는 것을 싫어해요',\n",
    "                   '메리는 공원에서 노는 것도 싫어해요. 이상해요.',\n",
    "                   '먼 곳으로 여행을 떠나고 싶은데 너무 바빠서 그러질 못하고 있어요']"
   ]
  },
  {
   "cell_type": "code",
   "execution_count": null,
   "metadata": {},
   "outputs": [],
   "source": [
    "X = vectorizer.fit_transform(contents)\n",
    "vectorizer.get_feature_names()"
   ]
  },
  {
   "cell_type": "code",
   "execution_count": null,
   "metadata": {},
   "outputs": [],
   "source": [
    "X.toarray()"
   ]
  },
  {
   "cell_type": "code",
   "execution_count": null,
   "metadata": {},
   "outputs": [],
   "source": [
    "X.toarray().transpose()"
   ]
  },
  {
   "cell_type": "code",
   "execution_count": null,
   "metadata": {},
   "outputs": [],
   "source": [
    "X = vectorizer.fit_transform(contents)\n",
    "num_samples, num_features = X.shape\n",
    "num_samples, num_features"
   ]
  },
  {
   "cell_type": "code",
   "execution_count": null,
   "metadata": {},
   "outputs": [],
   "source": [
    "new_post = ['메리랑 공원에서 걷고 싶어']\n",
    "new_post_vec = vectorizer.transform(new_post)\n",
    "new_post_vec.toarray()"
   ]
  },
  {
   "cell_type": "code",
   "execution_count": null,
   "metadata": {},
   "outputs": [],
   "source": [
    "import scipy as sp\n",
    "\n",
    "def dist_raw(v1, v2):\n",
    "    delta = v1 - v2\n",
    "    return sp.linalg.norm(delta.toarray())  #벡터의 길이를 계산"
   ]
  },
  {
   "cell_type": "code",
   "execution_count": null,
   "metadata": {},
   "outputs": [],
   "source": [
    "# new_post= ['메리랑 공원에서 걷고 싶어']\n",
    "best_doc = None\n",
    "best_dist = 65535\n",
    "best_i = None\n",
    "\n",
    "for i in range(0, num_samples):\n",
    "    post_vec = X.getrow(i)\n",
    "    print(post_vec)\n",
    "    d = dist_raw(post_vec, new_post_vec)\n",
    "    \n",
    "    print(\"== Post %i with dist=%.2f   : %s\" %(i,d,contents[i]))\n",
    "    #print(d, best_dist)\n",
    "    # 아래는 필요없는 로직인것 같음.\n",
    "    #if d<best_dist:  # bubble sort        \n",
    "     #   best_dist = d\n",
    "     #   best_i = i"
   ]
  },
  {
   "cell_type": "code",
   "execution_count": null,
   "metadata": {},
   "outputs": [],
   "source": [
    "#트위터 분석기로 형태소 분석을 하고 다시 보자\n",
    "#말뭉치 사전을 만듦\n",
    "from konlpy.tag import Twitter\n",
    "t = Twitter()"
   ]
  },
  {
   "cell_type": "code",
   "execution_count": null,
   "metadata": {},
   "outputs": [],
   "source": [
    "contents_tokens = [t.morphs(row) for row in contents]\n",
    "contents_tokens"
   ]
  },
  {
   "cell_type": "code",
   "execution_count": null,
   "metadata": {},
   "outputs": [],
   "source": [
    "content_for_vectorize = []\n",
    "\n",
    "for content in contents_tokens:\n",
    "    sentence = ''\n",
    "    for word in content:\n",
    "        sentence += ' '+ word\n",
    "    content_for_vectorize.append(sentence)\n",
    "\n",
    "content_for_vectorize"
   ]
  },
  {
   "cell_type": "code",
   "execution_count": null,
   "metadata": {},
   "outputs": [],
   "source": [
    "X = vectorizer.fit_transform(content_for_vectorize)\n",
    "num_samples, num_features = X.shape\n",
    "num_samples, num_features"
   ]
  },
  {
   "cell_type": "code",
   "execution_count": null,
   "metadata": {},
   "outputs": [],
   "source": [
    "vectorizer.get_feature_names()"
   ]
  },
  {
   "cell_type": "code",
   "execution_count": null,
   "metadata": {},
   "outputs": [],
   "source": [
    "X.toarray()"
   ]
  },
  {
   "cell_type": "code",
   "execution_count": null,
   "metadata": {},
   "outputs": [],
   "source": [
    "X.toarray().transpose()"
   ]
  },
  {
   "cell_type": "code",
   "execution_count": null,
   "metadata": {},
   "outputs": [],
   "source": [
    "new_post = ['메리랑 공원에서 산책하고 놀고 싶어요']\n",
    "new_post_tokens = [t.morphs(row) for row in new_post]\n",
    "\n",
    "new_post_for_vectorize = []\n",
    "\n",
    "for content in new_post_tokens:\n",
    "    sentence = ''\n",
    "    for word in content:\n",
    "        sentence = sentence + ' ' + word\n",
    "        \n",
    "    new_post_for_vectorize.append(sentence)\n",
    "    \n",
    "new_post_for_vectorize"
   ]
  },
  {
   "cell_type": "code",
   "execution_count": null,
   "metadata": {},
   "outputs": [],
   "source": [
    "new_post_vec = vectorizer.transform(new_post_for_vectorize)"
   ]
  },
  {
   "cell_type": "code",
   "execution_count": null,
   "metadata": {},
   "outputs": [],
   "source": [
    "new_post_vec.toarray()"
   ]
  },
  {
   "cell_type": "code",
   "execution_count": null,
   "metadata": {},
   "outputs": [],
   "source": [
    "best_doc = None\n",
    "best_dist = 65535\n",
    "best_i = None\n",
    "\n",
    "for i in range(0, num_samples):\n",
    "    post_vec = X.getrow(i)\n",
    "    d = dist_raw(post_vec, new_post_vec)\n",
    "    \n",
    "    print(\"== Post %i with dist=%.2f   : %s\" %(i,d,contents[i]))\n",
    "    \n",
    "    if d<best_dist: # 교환 알고리즘.\n",
    "        best_dist = d\n",
    "        best_i = i"
   ]
  },
  {
   "cell_type": "code",
   "execution_count": null,
   "metadata": {},
   "outputs": [],
   "source": [
    "print(\"Best post is %i, dist = %.2f\" % (best_i, best_dist))\n",
    "print('-->', new_post)\n",
    "print('---->', contents[best_i])"
   ]
  },
  {
   "cell_type": "code",
   "execution_count": null,
   "metadata": {},
   "outputs": [],
   "source": [
    "for i in range(0,len(contents)):\n",
    "    print(X.getrow(i).toarray())\n",
    "    \n",
    "print('---------------------')\n",
    "print(new_post_vec.toarray())"
   ]
  },
  {
   "cell_type": "markdown",
   "metadata": {},
   "source": [
    "1.sparcity - 무수히 많은 0 - 계산량도 높아지고, 사용량도 많아진다.<br>\n",
    "2.출현빈도가 높은 단어는 힘이 세진다.<br>\n",
    "3.단어의 순서를 무시한다.<br>\n",
    "4.오타나 줄임말 처리를 못한다."
   ]
  },
  {
   "cell_type": "code",
   "execution_count": null,
   "metadata": {},
   "outputs": [],
   "source": [
    "def dist_norm(v1, v2):\n",
    "    v1_normalized = v1 / sp.linalg.norm(v1.toarray())\n",
    "    v2_normalized = v2 / sp.linalg.norm(v2.toarray())\n",
    "    \n",
    "    delta = v1_normalized - v2_normalized\n",
    "    \n",
    "    return sp.linalg.norm(delta.toarray())"
   ]
  },
  {
   "cell_type": "code",
   "execution_count": null,
   "metadata": {},
   "outputs": [],
   "source": [
    "best_doc = None\n",
    "best_dist = 65535\n",
    "best_i = None\n",
    "\n",
    "for i in range(0, num_samples):\n",
    "    post_vec = X.getrow(i)\n",
    "    d = dist_norm(post_vec, new_post_vec)\n",
    "    \n",
    "    print(\"== Post %i with dist=%.2f   : %s\" %(i,d,contents[i]))\n",
    "    \n",
    "    if d<best_dist:\n",
    "        best_dist = d\n",
    "        best_i = i"
   ]
  },
  {
   "cell_type": "code",
   "execution_count": null,
   "metadata": {},
   "outputs": [],
   "source": [
    "print(\"Best post is %i, dist = %.2f\" % (best_i, best_dist))\n",
    "print('-->', new_post)\n",
    "print('---->', contents[best_i])"
   ]
  },
  {
   "cell_type": "markdown",
   "metadata": {},
   "source": [
    "### TfidVectorizer"
   ]
  },
  {
   "cell_type": "code",
   "execution_count": null,
   "metadata": {},
   "outputs": [],
   "source": [
    "# TF-IDF(Term Frequency-Inverse Document Frequency)는 단어의 빈도 -역문서 빈도\n",
    "def tfidf(t, d, D):\n",
    "    tf = float(d.count(t)) / sum(d.count(w) for w in set(d))\n",
    "    idf = sp.log( float(len(D))/(len([doc for doc in D if t in doc])) )\n",
    "    return tf, idf"
   ]
  },
  {
   "cell_type": "markdown",
   "metadata": {},
   "source": [
    "#### TF : 문서가 주어졌을때 단어가 출현한 횟수 ==> 출현 횟수 / 총 단어의 갯수\n",
    "#### IDF : 총 문서/ 단어를 포함한 문서"
   ]
  },
  {
   "cell_type": "code",
   "execution_count": null,
   "metadata": {},
   "outputs": [],
   "source": [
    "a, abb, abc = ['a'], ['a','b','b'], ['a','b','c']\n",
    "D = [a,abb,abc]\n",
    "\n",
    "print(tfidf('a', a, D))\n",
    "print(tfidf('b', abb, D))\n",
    "print(tfidf('a', abc, D))\n",
    "print(tfidf('b', abc, D))\n",
    "print(tfidf('c', abc, D)) # 1/3, sp.log(3 / 1)"
   ]
  },
  {
   "cell_type": "code",
   "execution_count": null,
   "metadata": {},
   "outputs": [],
   "source": [
    "def tfidf(t, d, D):\n",
    "    tf = float(d.count(t)) / sum(d.count(w) for w in set(d))\n",
    "    idf = sp.log( float(len(D))/(len([doc for doc in D if t in doc])) )\n",
    "    return tf * idf"
   ]
  },
  {
   "cell_type": "code",
   "execution_count": null,
   "metadata": {},
   "outputs": [],
   "source": [
    "from sklearn.feature_extraction.text import TfidfVectorizer\n",
    "vectorizer = TfidfVectorizer(min_df=1, decode_error='ignore')"
   ]
  },
  {
   "cell_type": "code",
   "execution_count": null,
   "metadata": {},
   "outputs": [],
   "source": [
    "contents_tokens = [t.morphs(row) for row in contents]\n",
    "\n",
    "contents_for_vectorize = []\n",
    "\n",
    "for content in contents_tokens:\n",
    "    sentence = ''\n",
    "    for word in content:\n",
    "        sentence = sentence + ' ' + word\n",
    "        \n",
    "    contents_for_vectorize.append(sentence)\n",
    "    \n",
    "X = vectorizer.fit_transform(contents_for_vectorize)\n",
    "num_samples, num_features = X.shape\n",
    "num_samples, num_features"
   ]
  },
  {
   "cell_type": "code",
   "execution_count": null,
   "metadata": {},
   "outputs": [],
   "source": [
    "vectorizer.get_feature_names()"
   ]
  },
  {
   "cell_type": "code",
   "execution_count": null,
   "metadata": {},
   "outputs": [],
   "source": [
    "#new_post = ['근처 공원에 메리랑 놀러가고 싶네요.']\n",
    "new_post = ['메리랑 공원에서 산책하고 놀고 싶어요']\n",
    "new_post_tokens = [t.morphs(row) for row in new_post]\n",
    "\n",
    "new_post_for_vectorize = []\n",
    "\n",
    "for content in new_post_tokens:\n",
    "    sentence = ''\n",
    "    for word in content:\n",
    "        sentence = sentence + ' ' + word\n",
    "        \n",
    "    new_post_for_vectorize.append(sentence)\n",
    "    \n",
    "new_post_for_vectorize"
   ]
  },
  {
   "cell_type": "code",
   "execution_count": null,
   "metadata": {},
   "outputs": [],
   "source": [
    "new_post_vec = vectorizer.transform(new_post_for_vectorize)"
   ]
  },
  {
   "cell_type": "code",
   "execution_count": null,
   "metadata": {},
   "outputs": [],
   "source": [
    "best_doc = None\n",
    "best_dist = 65535\n",
    "best_i = None\n",
    "\n",
    "for i in range(0, num_samples):\n",
    "    post_vec = X.getrow(i)\n",
    "    d = dist_norm(post_vec, new_post_vec)\n",
    "    \n",
    "    print(\"== Post %i with dist=%.2f   : %s\" %(i,d,contents[i]))\n",
    "    \n",
    "    if d<best_dist:\n",
    "        best_dist = d\n",
    "        best_i = i\n",
    "        \n",
    "print(\"Best post is %i, dist = %.2f\" % (best_i, best_dist))\n",
    "print('-->', new_post)\n",
    "print('---->', contents[best_i])"
   ]
  },
  {
   "cell_type": "markdown",
   "metadata": {},
   "source": [
    "## 8.8 여자 친구 선물 고르기 "
   ]
  },
  {
   "cell_type": "code",
   "execution_count": null,
   "metadata": {},
   "outputs": [],
   "source": [
    "import pandas as pd\n",
    "import numpy as np\n",
    "\n",
    "import platform\n",
    "import matplotlib.pyplot as plt\n",
    "%matplotlib inline\n",
    "\n",
    "path = \"c:/Windows/Fonts/malgun.ttf\"\n",
    "from matplotlib import font_manager, rc\n",
    "\n",
    "if platform.system() == \"Windows\":\n",
    "    font_name = font_manager.FontProperties(fname=path).get_name()\n",
    "    rc('font', family=font_name)\n",
    "elif platform.system() ==\"Darwin\":\n",
    "    rc('font', family = 'AppleGothic')\n",
    "else:\n",
    "    print('Unknow system : ')\n",
    "    \n",
    "plt.rcParams['axes.unicode_minus'] = False    "
   ]
  },
  {
   "cell_type": "code",
   "execution_count": null,
   "metadata": {},
   "outputs": [],
   "source": [
    "from bs4 import BeautifulSoup\n",
    "from urllib.request import urlopen\n",
    "import urllib\n",
    "import time"
   ]
  },
  {
   "cell_type": "code",
   "execution_count": null,
   "metadata": {},
   "outputs": [],
   "source": [
    "tmp1 = 'https://kin.naver.com/search/list.nhn?where=kin'\n",
    "html = tmp1 + '&query={key_word}&page={num}'"
   ]
  },
  {
   "cell_type": "code",
   "execution_count": null,
   "metadata": {},
   "outputs": [],
   "source": [
    "# 테스트삼아 한페이지만 가져옴\n",
    "response = urlopen(html.format(num=1,key_word=urllib.parse.quote('아내 선물')))\n",
    "soup = BeautifulSoup(response, \"html.parser\")\n",
    "\n",
    "tmp = soup.find_all('dl')\n",
    "tmp_list = []\n",
    "for line in tmp:\n",
    "    tmp_list.append(line.text)\n",
    "tmp_list"
   ]
  },
  {
   "cell_type": "code",
   "execution_count": null,
   "metadata": {},
   "outputs": [],
   "source": [
    "from tqdm import tqdm_notebook\n",
    "\n",
    "\n",
    "present_candi_txt = []\n",
    "\n",
    "for n in tqdm_notebook(range(1, 1000, 10)):\n",
    "    resp = urlopen(html.format(num=n,\n",
    "                               key_word=urllib.parse.quote('아내 선물')))\n",
    "    soup = BeautifulSoup(resp, \"html.parser\")\n",
    "    tmp  = soup.find_all('dl')\n",
    "    \n",
    "    for line in tmp:\n",
    "        present_candi_txt.append(line.text)\n",
    "    time.sleep(0.5)    "
   ]
  },
  {
   "cell_type": "code",
   "execution_count": null,
   "metadata": {},
   "outputs": [],
   "source": [
    "present_candi_txt"
   ]
  },
  {
   "cell_type": "code",
   "execution_count": null,
   "metadata": {},
   "outputs": [],
   "source": [
    "import nltk\n",
    "import re\n",
    "from konlpy.tag import Twitter; t = Twitter()"
   ]
  },
  {
   "cell_type": "code",
   "execution_count": null,
   "metadata": {},
   "outputs": [],
   "source": [
    "def clean_text(data):\n",
    "    pattern = '[^\\w|\\s|\\n|\\t]'\n",
    "    repl = ''\n",
    "    text = re.sub(pattern, repl, data)\n",
    "    pattern = '<[^>]*>.'\n",
    "    repl = ''\n",
    "    text = re.sub(pattern, repl, data)\n",
    "    pattern = '([ㄱ-ㅎㅏㅡㅣ]+)'\n",
    "    repl = ''\n",
    "    text =  re.sub(pattern, repl, data)\n",
    "    return text"
   ]
  },
  {
   "cell_type": "code",
   "execution_count": null,
   "metadata": {},
   "outputs": [],
   "source": [
    "# 하나의 문자열로 변수에 할당\n",
    "present_text = \"\"\n",
    "for each_line in present_candi_txt[:10000]:\n",
    "    present_text += clean_text(each_line.replace('\\t','').replace('\\n', '')) +\"\\n\""
   ]
  },
  {
   "cell_type": "code",
   "execution_count": null,
   "metadata": {},
   "outputs": [],
   "source": [
    "present_text"
   ]
  },
  {
   "cell_type": "code",
   "execution_count": null,
   "metadata": {},
   "outputs": [],
   "source": [
    "# 말뭉치로 짤라냄\n",
    "tokens_ko = t.morphs(present_text)  # 리스트로 반환\n",
    "# type(tokens_ko)\n",
    "#tokens_ko"
   ]
  },
  {
   "cell_type": "code",
   "execution_count": null,
   "metadata": {},
   "outputs": [],
   "source": [
    "ko = nltk.Text(tokens_ko, name='아내 선물')\n",
    "#print(len(ko.tokens))\n",
    "#print(len(set(ko.tokens)))"
   ]
  },
  {
   "cell_type": "code",
   "execution_count": null,
   "metadata": {
    "scrolled": true
   },
   "outputs": [],
   "source": [
    "ko.vocab().most_common(100)  # 가장 많이 나온 단어 100개만 추출"
   ]
  },
  {
   "cell_type": "code",
   "execution_count": null,
   "metadata": {},
   "outputs": [],
   "source": [
    "stop_words = [('선물', 309),\n",
    " ('아내', 235),\n",
    " ('.', 235),\n",
    "('ㅠㅠ',50),              \n",
    " ('수', 228),\n",
    " ('추천', 162),\n",
    " ('...', 153),\n",
    " ('답변', 150),\n",
    " ('|', 146),\n",
    " ('&', 112),\n",
    " ('>', 111),\n",
    " ('A', 110),\n",
    " ('\\xa0', 110),\n",
    " ('\\n', 110),\n",
    " ('Q', 103),\n",
    " (',', 102),\n",
    " ('을', 96),\n",
    " ('가', 92),\n",
    " ('이', 91),\n",
    " ('#', 90),\n",
    " ('0', 79),\n",
    " ('....', 64),\n",
    " ('1', 58),\n",
    " ('로', 57),\n",
    " ('에', 56),\n",
    " ('를', 49),\n",
    " ('에게', 46),\n",
    " ('한', 44),\n",
    " ('?', 33),\n",
    " ('가족', 32),\n",
    " ('대', 31),\n",
    " ('분', 31),\n",
    " ('의', 31),\n",
    " ('도', 28),\n",
    " ('2', 26),\n",
    " ('은', 24),\n",
    " ('좋은', 23),\n",
    " ('으로', 23),\n",
    " ('여자', 23),\n",
    " ('것', 22),\n",
    " ('뭐', 21),\n",
    " ('(', 21),\n",
    " ('****', 21),\n",
    " ('와이프', 21),\n",
    " ('30', 20),\n",
    " ('!', 20),\n",
    " ('좀', 20),\n",
    " ('합니다', 20),\n",
    " ('제', 20),\n",
    " ('어떤', 19),\n",
    " ('는', 19),\n",
    " ('4', 19),\n",
    " ('저', 18),\n",
    " ('3', 18),\n",
    " ('요', 17),\n",
    " ('이나', 15),\n",
    " ('****)', 15),\n",
    " ('하고', 15),\n",
    " ('들', 14),\n",
    " ('5', 14),\n",
    " ('해주세요', 14),\n",
    " ('..', 14),\n",
    " ('기념일', 14),\n",
    " ('좋을까요', 14),\n",
    " ('만', 13),\n",
    " ('감동', 13),\n",
    " ('할', 13),\n",
    " ('하는데', 13),\n",
    " ('많이', 12),\n",
    " ('연애', 12),\n",
    " ('남편', 12),\n",
    " ('이번', 12),\n",
    " ('적', 11),\n",
    " ('에서', 11),\n",
    " ('있는', 11),\n",
    " ('이라', 11),\n",
    " ('생각', 11),\n",
    " ('싶은데', 11),\n",
    " ('한테', 11),\n",
    " ('어떤게', 11),\n",
    " ('~', 10),\n",
    " ('10', 10),\n",
    " ('거', 10),\n",
    " ('7', 10),\n",
    " ('특별한', 10),\n",
    " ('14', 10),\n",
    " ('고민', 10),\n",
    " ('해', 10),\n",
    " ('인데', 10),\n",
    " ('날', 10),\n",
    " ('인', 9),\n",
    " ('잘', 9),\n",
    " ('께서', 8),\n",
    " ('고', 8),\n",
    " ('그래서', 7),\n",
    " ('조금', 7),\n",
    " ('드립니다', 7),\n",
    " ('06', 7),\n",
    " ('해서', 7),\n",
    " ('너무', 7),\n",
    " ('해주고', 7),\n",
    " ('다', 7),\n",
    " ('주년', 7),\n",
    " ('부탁', 7),\n",
    " ('하나', 7),\n",
    " ('좋을지', 7),\n",
    " ('부탁드립니다', 7),\n",
    " ('요즘', 7),\n",
    " ('후', 7),\n",
    " ('꿈', 7),\n",
    " ('때', 7),\n",
    " ('부부', 7),\n",
    " ('와', 7),\n",
    " ('40', 7),\n",
    " ('전', 7),\n",
    " ('더', 6),\n",
    "('저희', 8),\n",
    " ('입니다', 8),\n",
    " ('하는', 8),\n",
    " ('과', 8),\n",
    " ('축하', 8),\n",
    " ('하려고', 8),\n",
    " ('좋아할만', 6),\n",
    " ('께', 6),\n",
    " ('보', 6),\n",
    " ('니까', 6),\n",
    " ('걸', 6),\n",
    " ('해야', 6),\n",
    " ('있을까요', 6),\n",
    " ('있어요', 6),\n",
    " ('못', 6),\n",
    " ('위해', 6),\n",
    " ('2020.05', 6),\n",
    " ('07', 6),\n",
    " ('곧', 6),\n",
    " ('준비', 6),\n",
    " ('05', 6),\n",
    " ('주', 6),\n",
    " ('님', 6),\n",
    " ('01', 6),\n",
    " ('주고', 6),\n",
    " ('번', 6),\n",
    " ('정도', 6),\n",
    " ('뭔가', 6),\n",
    " ('13', 6),\n",
    " ('드려요', 5),\n",
    " ('^^', 5),\n",
    " ('직장', 5),\n",
    " ('12', 5),\n",
    " ('09', 5),\n",
    " ('사주고', 5),\n",
    " ('싶어요', 5),\n",
    " ('두', 5),\n",
    " ('다른', 5),\n",
    "('사람과', 6),\n",
    " ('그룹', 6),\n",
    " ('이라고', 6),\n",
    " ('제작', 6),\n",
    " ('그', 6),\n",
    " ('led', 6),\n",
    " ('함께', 6),\n",
    " ('22', 5),\n",
    " ('위', 5),\n",
    " ('한번', 5),\n",
    " ('안녕하세요', 5),\n",
    "('줄', 5),\n",
    " ('도움', 5),\n",
    " ('이제', 5),\n",
    " ('6', 5),\n",
    " ('맞는', 5),\n",
    " ('그리고', 5),\n",
    " ('사랑', 5),\n",
    " ('예쁜', 5),\n",
    " ('정말', 5),\n",
    " ('28', 5),\n",
    "('2020.10', 4),\n",
    " ('게', 4),\n",
    " ('11', 4),\n",
    " (')', 4),\n",
    " ('알아보고', 4),\n",
    " ('않고', 4),\n",
    " ('했는데', 4),\n",
    " ('??', 4),\n",
    " ('27', 4),\n",
    " ('뭘', 4),\n",
    " ('해주면', 4),\n",
    " ('그런', 4),\n",
    " ('도와주세요', 4),\n",
    " ('하는데요', 4),\n",
    "('50', 5),\n",
    " ('효과', 5),\n",
    " ('03', 5),\n",
    " ('고생', 4),\n",
    " ('올해', 4),\n",
    " ('24', 4),\n",
    " ('라', 4),\n",
    " ('항상', 4),\n",
    " ('08', 4),\n",
    " ('나', 4),\n",
    " ('처음', 4),\n",
    " ('백', 4),\n",
    " ('구', 4)\n",
    "             ]"
   ]
  },
  {
   "cell_type": "code",
   "execution_count": null,
   "metadata": {},
   "outputs": [],
   "source": []
  },
  {
   "cell_type": "code",
   "execution_count": null,
   "metadata": {},
   "outputs": [],
   "source": [
    "stop_words = [word[0] for idx, word in enumerate(stop_words)]"
   ]
  },
  {
   "cell_type": "code",
   "execution_count": null,
   "metadata": {},
   "outputs": [],
   "source": [
    "tokens_ko = [each_word for each_word in tokens_ko if each_word not in stop_words]\n",
    "\n",
    "ko = nltk.Text(tokens_ko)\n",
    "ko.vocab().most_common(40)"
   ]
  },
  {
   "cell_type": "markdown",
   "metadata": {},
   "source": [
    "### 등장빈도에 따른 빈도수 그래프 그리기"
   ]
  },
  {
   "cell_type": "code",
   "execution_count": null,
   "metadata": {},
   "outputs": [],
   "source": [
    "plt.figure(figsize = (15, 6))\n",
    "ko.plot(40)\n",
    "plt.show()"
   ]
  },
  {
   "cell_type": "code",
   "execution_count": null,
   "metadata": {},
   "outputs": [],
   "source": [
    "from wordcloud import WordCloud, STOPWORDS\n",
    "from PIL import Image"
   ]
  },
  {
   "cell_type": "code",
   "execution_count": null,
   "metadata": {},
   "outputs": [],
   "source": [
    "data = ko.vocab().most_common(100)"
   ]
  },
  {
   "cell_type": "markdown",
   "metadata": {},
   "source": [
    "### 일반적인 워드 클라우드 "
   ]
  },
  {
   "cell_type": "code",
   "execution_count": null,
   "metadata": {},
   "outputs": [],
   "source": [
    "# font_path = \"/Library/Fonts/AppleGothic.ttf\",\n",
    "wordcloud = WordCloud(font_path = \"c:/Windows/Fonts/malgun.ttf\",\n",
    "                     relative_scaling = 0.5,\n",
    "                     stopwords=STOPWORDS,\n",
    "                     background_color='white'\n",
    "                     ).generate_from_frequencies(dict(data))\n",
    "plt.figure(figsize = (16, 8))\n",
    "plt.imshow(wordcloud)\n",
    "plt.axis(\"off\")\n",
    "plt.show()"
   ]
  },
  {
   "cell_type": "markdown",
   "metadata": {},
   "source": [
    "### 이미지에 워드 클라우드 "
   ]
  },
  {
   "cell_type": "code",
   "execution_count": null,
   "metadata": {},
   "outputs": [],
   "source": [
    "mask = np.array(Image.open(\"../data/09. heart.jpg\"))\n",
    "from wordcloud import ImageColorGenerator\n",
    "\n",
    "image_colors = ImageColorGenerator(mask)\n",
    "\n",
    "# font_path = \"/Library/Fonts/AppleGothic.ttf\",\n",
    "wordcloud = WordCloud(font_path = \"c:/Windows/Fonts/malgun.ttf\",\n",
    "                     relative_scaling = 0.1,\n",
    "                     mask = mask,\n",
    "                     stopwords=STOPWORDS,\n",
    "                     background_color='white',\n",
    "                     min_font_size = 1,\n",
    "                     max_font_size = 100\n",
    "                     ).generate_from_frequencies(dict(data))\n",
    "# 그리기 \n",
    "plt.figure(figsize = (12, 12))\n",
    "plt.imshow(wordcloud.recolor(color_func=image_colors), interpolation='bilinear')\n",
    "plt.axis(\"off\")\n",
    "plt.show()"
   ]
  },
  {
   "cell_type": "markdown",
   "metadata": {},
   "source": [
    "### Word2Vec을 활용한 처리"
   ]
  },
  {
   "cell_type": "code",
   "execution_count": null,
   "metadata": {},
   "outputs": [],
   "source": [
    "import gensim\n",
    "from gensim.models import word2vec"
   ]
  },
  {
   "cell_type": "code",
   "execution_count": null,
   "metadata": {},
   "outputs": [],
   "source": [
    "twitter = Twitter()\n",
    "results = []\n",
    "lines = present_candi_txt\n",
    "\n",
    "for line in lines:\n",
    "    malist = twitter.pos(line, norm = True, stem = True)\n",
    "    r = []\n",
    "    \n",
    "    for word in malist:\n",
    "        #print(word)\n",
    "        if not word[1] in [\"Foreign\", \"Number\", \"Modifier\", \"Punctuation\", \"Number\", \"Adverb\", \"Adjective\", \"Suffix\", \"Josa\", \"Alpha\", \"Eomi\",\n",
    "                          \"Hashtag\", \"VerbPrefix\"]:\n",
    "            r.append(word[0])\n",
    "    r1 = (\" \".join(r)).strip()\n",
    "    results.append(r1) "
   ]
  },
  {
   "cell_type": "code",
   "execution_count": null,
   "metadata": {},
   "outputs": [],
   "source": [
    "data_file = \"pres_wife.data\"\n",
    "\n",
    "with open(data_file,mode = 'w', encoding = 'utf-8') as f:\n",
    "    f.write(\"\\n\".join(results))"
   ]
  },
  {
   "cell_type": "markdown",
   "metadata": {},
   "source": [
    "### 저장한 키워드정보를 다시 읽어드린다.\n",
    "\n",
    "* `word2vec.LineSentence(source, max_sentence_length=10000, limit=None)`\n",
    "* 인자가 되는 source는 공백으로 구분되어 전처리가 되어 있어야 함."
   ]
  },
  {
   "cell_type": "code",
   "execution_count": null,
   "metadata": {},
   "outputs": [],
   "source": [
    "keywords = word2vec.LineSentence(data_file)\n",
    "# type(keywords), dir(keywords)\n",
    "\n",
    "model = word2vec.Word2Vec(keywords, size = 200, window = 10, hs = 1, min_count = 2, sg = 1)\n",
    "model.save(\"pres_wife.model\")"
   ]
  },
  {
   "cell_type": "markdown",
   "metadata": {},
   "source": [
    "#### 생성한 모델을 읽음"
   ]
  },
  {
   "cell_type": "code",
   "execution_count": null,
   "metadata": {},
   "outputs": [],
   "source": [
    "model = word2vec.Word2Vec.load(\"pres_wife.model\")"
   ]
  },
  {
   "cell_type": "code",
   "execution_count": null,
   "metadata": {},
   "outputs": [],
   "source": [
    "type(model), dir(model)"
   ]
  },
  {
   "cell_type": "code",
   "execution_count": null,
   "metadata": {},
   "outputs": [],
   "source": [
    "model.most_similar(positive=['선물'])"
   ]
  },
  {
   "cell_type": "code",
   "execution_count": null,
   "metadata": {},
   "outputs": [],
   "source": [
    "model.most_similar(positive=['아내'])"
   ]
  },
  {
   "cell_type": "code",
   "execution_count": null,
   "metadata": {},
   "outputs": [],
   "source": [
    "model.most_similar(positive=['화장품', '현금', '쇼핑'])"
   ]
  },
  {
   "cell_type": "code",
   "execution_count": null,
   "metadata": {},
   "outputs": [],
   "source": [
    "model.most_similar(positive=['화장품', '현금', '쇼핑', '목걸이'])"
   ]
  },
  {
   "cell_type": "markdown",
   "metadata": {},
   "source": [
    "## 법안에 대한 word2vec"
   ]
  },
  {
   "cell_type": "code",
   "execution_count": 62,
   "metadata": {},
   "outputs": [],
   "source": [
    "import seaborn as sns\n",
    "import numpy as np\n",
    "import platform\n",
    "import matplotlib.pyplot as plt\n",
    "%matplotlib inline\n",
    "\n",
    "font_path = \"c:/Windows/Fonts/malgun.ttf\"\n",
    "font_name = font_manager.FontProperties(fname=font_path).get_name()\n",
    "rc('font', family=font_name)\n",
    "# 마이너스 부호 표시 \n",
    "plt.rcParams['axes.unicode_minus'] = False"
   ]
  },
  {
   "cell_type": "code",
   "execution_count": 14,
   "metadata": {},
   "outputs": [],
   "source": [
    "import pandas as pd\n",
    "df = pd.read_csv(\"../data/open/suggest_party.csv\")"
   ]
  },
  {
   "cell_type": "code",
   "execution_count": 144,
   "metadata": {},
   "outputs": [],
   "source": [
    "dp = ('더불어민주당', '열린민주당')\n",
    "op = ('국민의힘', '정의당', '시대전환', '무소속', '국민의당', '기본소득당')"
   ]
  },
  {
   "cell_type": "code",
   "execution_count": 15,
   "metadata": {},
   "outputs": [],
   "source": [
    "billWord = df.loc[(df['AGE']== 21) & (df['BILL_WORD'].notna()), 'BILL_WORD']"
   ]
  },
  {
   "cell_type": "code",
   "execution_count": 149,
   "metadata": {},
   "outputs": [
    {
     "data": {
      "text/plain": [
       "0       독점규제 공정거래 법률 공정거래법 시장경제 기본규칙 제정 이후 공정 거래질서 확립 ...\n",
       "1       현행법 지방교육재정교부금 재원 내국세 총액 담배 개별소비세 등을 제외 금액 교육세 ...\n",
       "2       현행법 농업기계 제조 수입업자 용도 기계 구분 명확히 농업인 알권리 보장 제조 수입...\n",
       "3       현행 소방공무원 국가직 전환 이후 소방안전교부세율 담배 부과 개별소비세 소방안전교부...\n",
       "4       현행법 식품접객업 집단급식소 대통령령 영업소 집단급식소 설치 운영 대통령령 농수산물...\n",
       "                              ...                        \n",
       "4154    고위공직자범죄수사처 설치 고위공직자범죄수사처 인사청문회 임명하도 내용 고위공직자범죄...\n",
       "4155    폐기물 재활용업 목재 합성수지 플라스틱 화재 취약 폐기물 위탁 신속히 처리 방치 발...\n",
       "4156    현행법 환경유해인자 노출 민감 어린이 활동공간 실태조사 규율 건강진단 치료 구체적 ...\n",
       "4166    코로나바이러스감염증 대유행 이후 국가 감염병 대응 역량 강화 국민적 요구 증대 있음...\n",
       "4167    세계적 양극화 불균형 심각 위기 직면하고 상황 개인 노력 해결 사회문제 해결책 공동...\n",
       "Name: BILL_WORD, Length: 2886, dtype: object"
      ]
     },
     "execution_count": 149,
     "metadata": {},
     "output_type": "execute_result"
    }
   ],
   "source": [
    "billWord_dp = df.loc[(df['AGE']== 21) & (df['BILL_WORD'].notna()) & (df['PART_NAME'].isin(dp)), 'BILL_WORD']\n",
    "billWord_dp"
   ]
  },
  {
   "cell_type": "code",
   "execution_count": 150,
   "metadata": {},
   "outputs": [
    {
     "data": {
      "text/plain": [
       "8       식품위생법 건강기능식품 법률 약사법 식품의약품안전처장 지방자치단체 발생 발생 우려 ...\n",
       "9       현행법 헌혈자 헌혈 혈액원 발급 헌혈증서 무상 양도 가능하고 헌혈증서 의료기관 제출...\n",
       "10      현행법 어린이집 원장 영유아 대하여 매년 정기적 감염병 예방 관리 법률 예방접종통합...\n",
       "12      마켓 모바일콘텐츠 등록 판매 부가통신사업자 모바일콘텐츠 사업자 가능 마켓 자신 모바...\n",
       "13      민법 법인등기 주소 등기 공시하도 있어서 법인 이름 누구 인터넷등기소 법인 주소 열...\n",
       "                              ...                        \n",
       "4161    코로나 사태 국민의 안전 물론 일상 경제현장 피해 발생 취약계층 어려움 더욱 가중 ...\n",
       "4162    우리나라 물론 세계 확산 생활 전반 경제현장 심각 피해 코로나 사태 국민의 식생활 ...\n",
       "4163    전대 문의 코로나 감염병 장기간 창궐 대학들 감염병 예방 온라인 강의 원격수업 진행...\n",
       "4164    현행법 감염병 확산방지 위한 격리시설 설치 운영 감염병 환자 진료 의료기관 손실 등...\n",
       "4165    현행법 노인장기요양보험 노인등 활동지원급여 신청자격 제외 활동지원서비스 장애인 노인...\n",
       "Name: BILL_WORD, Length: 1269, dtype: object"
      ]
     },
     "execution_count": 150,
     "metadata": {},
     "output_type": "execute_result"
    }
   ],
   "source": [
    "billWord_op = df.loc[(df['AGE']== 21) & (df['BILL_WORD'].notna()) & (df['PART_NAME'].isin(op)), 'BILL_WORD']\n",
    "billWord_op"
   ]
  },
  {
   "cell_type": "code",
   "execution_count": 12,
   "metadata": {},
   "outputs": [
    {
     "ename": "TypeError",
     "evalue": "sequence item 838: expected str instance, float found",
     "output_type": "error",
     "traceback": [
      "\u001b[1;31m---------------------------------------------------------------------------\u001b[0m",
      "\u001b[1;31mTypeError\u001b[0m                                 Traceback (most recent call last)",
      "\u001b[1;32m<ipython-input-12-5ed21012d393>\u001b[0m in \u001b[0;36m<module>\u001b[1;34m\u001b[0m\n\u001b[1;32m----> 1\u001b[1;33m \u001b[1;34m''\u001b[0m\u001b[1;33m.\u001b[0m\u001b[0mjoin\u001b[0m\u001b[1;33m(\u001b[0m\u001b[0mbillWord\u001b[0m\u001b[1;33m.\u001b[0m\u001b[0mto_list\u001b[0m\u001b[1;33m(\u001b[0m\u001b[1;33m)\u001b[0m\u001b[1;33m)\u001b[0m\u001b[1;33m\u001b[0m\u001b[1;33m\u001b[0m\u001b[0m\n\u001b[0m",
      "\u001b[1;31mTypeError\u001b[0m: sequence item 838: expected str instance, float found"
     ]
    }
   ],
   "source": [
    "''.join(billWord.to_list())  # nan값 때문에 발생"
   ]
  },
  {
   "cell_type": "code",
   "execution_count": 13,
   "metadata": {},
   "outputs": [
    {
     "data": {
      "text/plain": [
       "nan"
      ]
     },
     "execution_count": 13,
     "metadata": {},
     "output_type": "execute_result"
    }
   ],
   "source": [
    "billWord.loc[838]"
   ]
  },
  {
   "cell_type": "code",
   "execution_count": null,
   "metadata": {},
   "outputs": [],
   "source": [
    "billWord"
   ]
  },
  {
   "cell_type": "markdown",
   "metadata": {},
   "source": [
    "### 법안 단어 데이터 만들기 "
   ]
  },
  {
   "cell_type": "code",
   "execution_count": 16,
   "metadata": {},
   "outputs": [],
   "source": [
    "data_file = \"bill_word.data\"\n",
    "\n",
    "with open(data_file,mode = 'w', encoding = 'utf-8') as f:\n",
    "    f.write(\"\\n\".join(billWord.to_list()))"
   ]
  },
  {
   "cell_type": "code",
   "execution_count": 151,
   "metadata": {},
   "outputs": [],
   "source": [
    "data_file_dp = \"bill_word_dp.data\"\n",
    "\n",
    "with open(data_file_dp,mode = 'w', encoding = 'utf-8') as f:\n",
    "    f.write(\"\\n\".join(billWord_dp.to_list()))"
   ]
  },
  {
   "cell_type": "code",
   "execution_count": 154,
   "metadata": {},
   "outputs": [],
   "source": [
    "data_file_op = \"bill_word_op.data\"\n",
    "\n",
    "with open(data_file_op,mode = 'w', encoding = 'utf-8') as f:\n",
    "    f.write(\"\\n\".join(billWord_op.to_list()))"
   ]
  },
  {
   "cell_type": "code",
   "execution_count": null,
   "metadata": {},
   "outputs": [],
   "source": []
  },
  {
   "cell_type": "markdown",
   "metadata": {},
   "source": [
    "### 법안 모델 생성"
   ]
  },
  {
   "cell_type": "code",
   "execution_count": 153,
   "metadata": {},
   "outputs": [],
   "source": [
    "import gensim\n",
    "from gensim.models import word2vec"
   ]
  },
  {
   "cell_type": "code",
   "execution_count": 18,
   "metadata": {},
   "outputs": [],
   "source": [
    "keywords = word2vec.LineSentence(data_file)\n",
    "# type(keywords), dir(keywords)\n",
    "\n",
    "model = word2vec.Word2Vec(keywords, size = 200, window = 10, hs = 1, min_count = 2, sg = 1)\n",
    "model.save(\"bill_word.model\")"
   ]
  },
  {
   "cell_type": "code",
   "execution_count": 155,
   "metadata": {},
   "outputs": [],
   "source": [
    "keywords = word2vec.LineSentence(data_file_dp)\n",
    "# type(keywords), dir(keywords)\n",
    "\n",
    "model = word2vec.Word2Vec(keywords, size = 200, window = 10, hs = 1, min_count = 2, sg = 1)\n",
    "model.save(\"bill_word_dp.model\")"
   ]
  },
  {
   "cell_type": "code",
   "execution_count": 156,
   "metadata": {},
   "outputs": [],
   "source": [
    "keywords = word2vec.LineSentence(data_file_op)\n",
    "# type(keywords), dir(keywords)\n",
    "\n",
    "model = word2vec.Word2Vec(keywords, size = 200, window = 10, hs = 1, min_count = 2, sg = 1)\n",
    "model.save(\"bill_word_op.model\")"
   ]
  },
  {
   "cell_type": "markdown",
   "metadata": {},
   "source": [
    "### 모델 로드 \n",
    "* 21대 당에 상관없이 발의 키워드 분석\n",
    "* 여당/야당 별로 분석 "
   ]
  },
  {
   "cell_type": "code",
   "execution_count": 157,
   "metadata": {},
   "outputs": [],
   "source": [
    "model = word2vec.Word2Vec.load(\"bill_word.model\")\n",
    "model_dp = word2vec.Word2Vec.load(\"bill_word_dp.model\")\n",
    "model_op = word2vec.Word2Vec.load(\"bill_word_op.model\")"
   ]
  },
  {
   "cell_type": "markdown",
   "metadata": {},
   "source": [
    "## 21대 국회의 법안 키워드 워드 클라우드"
   ]
  },
  {
   "cell_type": "code",
   "execution_count": 177,
   "metadata": {},
   "outputs": [
    {
     "data": {
      "text/plain": [
       "[('확산', 0.7625231742858887),\n",
       " ('코로나바이러스감염증', 0.7584001421928406),\n",
       " ('경마중단', 0.7390620708465576),\n",
       " ('소비심리', 0.7380139827728271),\n",
       " ('대유행', 0.7339582443237305),\n",
       " ('국제선', 0.7304458618164062),\n",
       " ('장기화', 0.7302996516227722),\n",
       " ('항공수요', 0.725516676902771),\n",
       " ('팬데믹', 0.7229644060134888),\n",
       " ('감염질환', 0.7200190424919128)]"
      ]
     },
     "execution_count": 177,
     "metadata": {},
     "output_type": "execute_result"
    }
   ],
   "source": [
    "model.most_similar('코로나', topn= 10)"
   ]
  },
  {
   "cell_type": "code",
   "execution_count": 196,
   "metadata": {},
   "outputs": [],
   "source": [
    "from wordcloud import WordCloud\n",
    "from PIL import Image\n",
    "assemblyMask = np.array(Image.open(\"../data/open/국회.png\"))\n",
    "\n",
    "def show_wordCloud(kwrd):\n",
    "    wordcloud = WordCloud(font_path = \"c:/Windows/Fonts/malgun.ttf\",\n",
    "                     relative_scaling = 1,\n",
    "                     mask = assemblyMask,\n",
    "                     stopwords=None,\n",
    "                     ).generate_from_frequencies(dict(model.most_similar(kwrd, topn= 300)))\n",
    "    plt.figure(figsize = (30, 10))\n",
    "    plt.imshow(wordcloud)\n",
    "    plt.axis(\"off\")\n",
    "    plt.show()"
   ]
  },
  {
   "cell_type": "markdown",
   "metadata": {},
   "source": [
    "### 법안 키워드 시각화 \n",
    "* 법안의 키워드로 보는 시각화\n",
    "* 정당(여당/야당)으로 보는 키워드 시각화"
   ]
  },
  {
   "cell_type": "code",
   "execution_count": 197,
   "metadata": {},
   "outputs": [
    {
     "name": "stdout",
     "output_type": "stream",
     "text": [
      "보여주기 옵션  : 1번 - 정당 상관없음 , 2번 - 여당/야당으로 보여주기.\n",
      "보여주기 옵션 선택 : 1\n",
      "입력하고 하는 법안키워드 :코로나\n",
      "보여주고자 하는 키워드 수 : 30\n"
     ]
    },
    {
     "data": {
      "image/png": "[encoded data removed]",
      "text/plain": [
       "<Figure size 720x1080 with 1 Axes>"
      ]
     },
     "metadata": {
      "needs_background": "light"
     },
     "output_type": "display_data"
    },
    {
     "data": {
      "image/png": "[encoded data removed]",
      "text/plain": [
       "<Figure size 2160x720 with 1 Axes>"
      ]
     },
     "metadata": {
      "needs_background": "light"
     },
     "output_type": "display_data"
    }
   ],
   "source": [
    "# 분석하고자 하는 발의의제에 대한 키워드 분석 후 데이터 프레임 리턴 \n",
    "def get_billDetail(kywrd: str, select,cnt=30):\n",
    "    tags_count_df = []\n",
    "    try:\n",
    "        if select == 1:\n",
    "            tags_count_df.append(pd.DataFrame(model.most_similar(kywrd, topn = cnt)))\n",
    "        else:\n",
    "            tags_count_df.append(pd.DataFrame(model_dp.most_similar(kywrd, topn = cnt)))\n",
    "            tags_count_df.append(pd.DataFrame(model_op.most_similar(kywrd, topn = cnt)))        \n",
    "    except KeyError:\n",
    "        tags_count_df = pd.DataFrame()\n",
    "        print('존재하는 않는 키워드입니다.')\n",
    "    except UnboundLocalError:\n",
    "        print('예외 오류 발생')\n",
    "    return tags_count_df\n",
    "def show_billVisualization(df, kwrd, select, cnt):\n",
    "    if select == '1':\n",
    "        #tags_count_df.columns = ['발의단어', '노출빈도']\n",
    "        df[0].columns = ['발의단어', '노출빈도']\n",
    "        plt.figure(figsize = (10, 15))\n",
    "        sns.barplot(x = '노출빈도', y = '발의단어', data = df[0], palette='coolwarm_r')\n",
    "        plt.title('{} 법안 키워드 {}'.format(kwrd, cnt), fontsize=16)\n",
    "    else:\n",
    "        df[0].columns = ['발의단어', '노출빈도']\n",
    "        plt.figure(figsize = (10, 15))\n",
    "        sns.barplot(x = '노출빈도', y = '발의단어', data = df[0], palette='coolwarm_r')\n",
    "        plt.title('{} 여당 법안 키워드 {}'.format(kwrd, cnt), fontsize=16)\n",
    "        \n",
    "        df[1].columns = ['발의단어', '노출빈도']\n",
    "        plt.figure(figsize = (10, 15))\n",
    "        sns.barplot(x = '노출빈도', y = '발의단어', data = df[1], palette='coolwarm_r')\n",
    "        plt.title('{} 야당 법안 키워드 {}'.format(kwrd, cnt), fontsize=16)\n",
    "def bill_main(kwrd: str, select, cnt=30):\n",
    "    df = get_billDetail(kwrd, select, cnt)\n",
    "    show_billVisualization(df,kwrd, select, cnt)\n",
    "    show_wordCloud(kwrd)\n",
    "if __name__ == \"__main__\":\n",
    "    print(\"보여주기 옵션  : 1번 - 정당 상관없음 , 2번 - 여당/야당으로 보여주기.\")\n",
    "    select = input(\"보여주기 옵션 선택 : \")\n",
    "    if len(select) < 1:\n",
    "        print('선택해')\n",
    "    else:\n",
    "        keyword = input(\"입력하고 하는 법안키워드 :\")\n",
    "        cnt  = int(input(\"보여주고자 하는 키워드 수 : \"))\n",
    "        bill_main(keyword, select, cnt)"
   ]
  },
  {
   "cell_type": "code",
   "execution_count": 130,
   "metadata": {},
   "outputs": [],
   "source": [
    "a_df = get_billDetail('코로나', 40)"
   ]
  },
  {
   "cell_type": "code",
   "execution_count": 131,
   "metadata": {},
   "outputs": [
    {
     "data": {
      "text/html": [
       "<div>\n",
       "<style scoped>\n",
       "    .dataframe tbody tr th:only-of-type {\n",
       "        vertical-align: middle;\n",
       "    }\n",
       "\n",
       "    .dataframe tbody tr th {\n",
       "        vertical-align: top;\n",
       "    }\n",
       "\n",
       "    .dataframe thead th {\n",
       "        text-align: right;\n",
       "    }\n",
       "</style>\n",
       "<table border=\"1\" class=\"dataframe\">\n",
       "  <thead>\n",
       "    <tr style=\"text-align: right;\">\n",
       "      <th></th>\n",
       "      <th>발의단어</th>\n",
       "      <th>노출빈도</th>\n",
       "    </tr>\n",
       "  </thead>\n",
       "  <tbody>\n",
       "    <tr>\n",
       "      <th>0</th>\n",
       "      <td>확산</td>\n",
       "      <td>0.762523</td>\n",
       "    </tr>\n",
       "    <tr>\n",
       "      <th>1</th>\n",
       "      <td>코로나바이러스감염증</td>\n",
       "      <td>0.758400</td>\n",
       "    </tr>\n",
       "    <tr>\n",
       "      <th>2</th>\n",
       "      <td>경마중단</td>\n",
       "      <td>0.739062</td>\n",
       "    </tr>\n",
       "    <tr>\n",
       "      <th>3</th>\n",
       "      <td>소비심리</td>\n",
       "      <td>0.738014</td>\n",
       "    </tr>\n",
       "    <tr>\n",
       "      <th>4</th>\n",
       "      <td>대유행</td>\n",
       "      <td>0.733958</td>\n",
       "    </tr>\n",
       "    <tr>\n",
       "      <th>5</th>\n",
       "      <td>국제선</td>\n",
       "      <td>0.730446</td>\n",
       "    </tr>\n",
       "    <tr>\n",
       "      <th>6</th>\n",
       "      <td>장기화</td>\n",
       "      <td>0.730300</td>\n",
       "    </tr>\n",
       "    <tr>\n",
       "      <th>7</th>\n",
       "      <td>항공수요</td>\n",
       "      <td>0.725517</td>\n",
       "    </tr>\n",
       "    <tr>\n",
       "      <th>8</th>\n",
       "      <td>팬데믹</td>\n",
       "      <td>0.722964</td>\n",
       "    </tr>\n",
       "    <tr>\n",
       "      <th>9</th>\n",
       "      <td>감염질환</td>\n",
       "      <td>0.720019</td>\n",
       "    </tr>\n",
       "    <tr>\n",
       "      <th>10</th>\n",
       "      <td>여파</td>\n",
       "      <td>0.718386</td>\n",
       "    </tr>\n",
       "    <tr>\n",
       "      <th>11</th>\n",
       "      <td>종식</td>\n",
       "      <td>0.717775</td>\n",
       "    </tr>\n",
       "    <tr>\n",
       "      <th>12</th>\n",
       "      <td>재확산</td>\n",
       "      <td>0.716163</td>\n",
       "    </tr>\n",
       "    <tr>\n",
       "      <th>13</th>\n",
       "      <td>실물경제</td>\n",
       "      <td>0.715046</td>\n",
       "    </tr>\n",
       "    <tr>\n",
       "      <th>14</th>\n",
       "      <td>경기침체</td>\n",
       "      <td>0.714944</td>\n",
       "    </tr>\n",
       "    <tr>\n",
       "      <th>15</th>\n",
       "      <td>운항중단</td>\n",
       "      <td>0.711785</td>\n",
       "    </tr>\n",
       "    <tr>\n",
       "      <th>16</th>\n",
       "      <td>경북지역</td>\n",
       "      <td>0.706513</td>\n",
       "    </tr>\n",
       "    <tr>\n",
       "      <th>17</th>\n",
       "      <td>국면</td>\n",
       "      <td>0.706061</td>\n",
       "    </tr>\n",
       "    <tr>\n",
       "      <th>18</th>\n",
       "      <td>소비위축</td>\n",
       "      <td>0.705092</td>\n",
       "    </tr>\n",
       "    <tr>\n",
       "      <th>19</th>\n",
       "      <td>경제심리</td>\n",
       "      <td>0.704964</td>\n",
       "    </tr>\n",
       "    <tr>\n",
       "      <th>20</th>\n",
       "      <td>가계지출</td>\n",
       "      <td>0.701982</td>\n",
       "    </tr>\n",
       "    <tr>\n",
       "      <th>21</th>\n",
       "      <td>자제</td>\n",
       "      <td>0.698216</td>\n",
       "    </tr>\n",
       "    <tr>\n",
       "      <th>22</th>\n",
       "      <td>학교들</td>\n",
       "      <td>0.696749</td>\n",
       "    </tr>\n",
       "    <tr>\n",
       "      <th>23</th>\n",
       "      <td>말산업</td>\n",
       "      <td>0.695447</td>\n",
       "    </tr>\n",
       "    <tr>\n",
       "      <th>24</th>\n",
       "      <td>국내확진자</td>\n",
       "      <td>0.695306</td>\n",
       "    </tr>\n",
       "    <tr>\n",
       "      <th>25</th>\n",
       "      <td>재유행</td>\n",
       "      <td>0.691777</td>\n",
       "    </tr>\n",
       "    <tr>\n",
       "      <th>26</th>\n",
       "      <td>급감</td>\n",
       "      <td>0.688792</td>\n",
       "    </tr>\n",
       "    <tr>\n",
       "      <th>27</th>\n",
       "      <td>직거래장터</td>\n",
       "      <td>0.686668</td>\n",
       "    </tr>\n",
       "    <tr>\n",
       "      <th>28</th>\n",
       "      <td>청탁금지</td>\n",
       "      <td>0.686153</td>\n",
       "    </tr>\n",
       "    <tr>\n",
       "      <th>29</th>\n",
       "      <td>바이러스</td>\n",
       "      <td>0.684563</td>\n",
       "    </tr>\n",
       "    <tr>\n",
       "      <th>30</th>\n",
       "      <td>국내경제</td>\n",
       "      <td>0.682902</td>\n",
       "    </tr>\n",
       "    <tr>\n",
       "      <th>31</th>\n",
       "      <td>수요공급</td>\n",
       "      <td>0.682746</td>\n",
       "    </tr>\n",
       "    <tr>\n",
       "      <th>32</th>\n",
       "      <td>생활방역</td>\n",
       "      <td>0.682437</td>\n",
       "    </tr>\n",
       "    <tr>\n",
       "      <th>33</th>\n",
       "      <td>쌀값</td>\n",
       "      <td>0.682015</td>\n",
       "    </tr>\n",
       "    <tr>\n",
       "      <th>34</th>\n",
       "      <td>무역분쟁</td>\n",
       "      <td>0.681460</td>\n",
       "    </tr>\n",
       "    <tr>\n",
       "      <th>35</th>\n",
       "      <td>무역전쟁</td>\n",
       "      <td>0.679928</td>\n",
       "    </tr>\n",
       "    <tr>\n",
       "      <th>36</th>\n",
       "      <td>이용제한</td>\n",
       "      <td>0.679427</td>\n",
       "    </tr>\n",
       "    <tr>\n",
       "      <th>37</th>\n",
       "      <td>감염증</td>\n",
       "      <td>0.679100</td>\n",
       "    </tr>\n",
       "    <tr>\n",
       "      <th>38</th>\n",
       "      <td>창궐</td>\n",
       "      <td>0.678492</td>\n",
       "    </tr>\n",
       "    <tr>\n",
       "      <th>39</th>\n",
       "      <td>진정기미</td>\n",
       "      <td>0.676413</td>\n",
       "    </tr>\n",
       "  </tbody>\n",
       "</table>\n",
       "</div>"
      ],
      "text/plain": [
       "          발의단어      노출빈도\n",
       "0           확산  0.762523\n",
       "1   코로나바이러스감염증  0.758400\n",
       "2         경마중단  0.739062\n",
       "3         소비심리  0.738014\n",
       "4          대유행  0.733958\n",
       "5          국제선  0.730446\n",
       "6          장기화  0.730300\n",
       "7         항공수요  0.725517\n",
       "8          팬데믹  0.722964\n",
       "9         감염질환  0.720019\n",
       "10          여파  0.718386\n",
       "11          종식  0.717775\n",
       "12         재확산  0.716163\n",
       "13        실물경제  0.715046\n",
       "14        경기침체  0.714944\n",
       "15        운항중단  0.711785\n",
       "16        경북지역  0.706513\n",
       "17          국면  0.706061\n",
       "18        소비위축  0.705092\n",
       "19        경제심리  0.704964\n",
       "20        가계지출  0.701982\n",
       "21          자제  0.698216\n",
       "22         학교들  0.696749\n",
       "23         말산업  0.695447\n",
       "24       국내확진자  0.695306\n",
       "25         재유행  0.691777\n",
       "26          급감  0.688792\n",
       "27       직거래장터  0.686668\n",
       "28        청탁금지  0.686153\n",
       "29        바이러스  0.684563\n",
       "30        국내경제  0.682902\n",
       "31        수요공급  0.682746\n",
       "32        생활방역  0.682437\n",
       "33          쌀값  0.682015\n",
       "34        무역분쟁  0.681460\n",
       "35        무역전쟁  0.679928\n",
       "36        이용제한  0.679427\n",
       "37         감염증  0.679100\n",
       "38          창궐  0.678492\n",
       "39        진정기미  0.676413"
      ]
     },
     "execution_count": 131,
     "metadata": {},
     "output_type": "execute_result"
    }
   ],
   "source": [
    "a_df"
   ]
  },
  {
   "cell_type": "code",
   "execution_count": 94,
   "metadata": {},
   "outputs": [],
   "source": [
    "rel_word = dict(model.most_similar('독점', topn = 30))"
   ]
  },
  {
   "cell_type": "code",
   "execution_count": 95,
   "metadata": {},
   "outputs": [],
   "source": [
    "tags_count_df = pd.DataFrame(model.most_similar('독점', topn = 30))"
   ]
  },
  {
   "cell_type": "code",
   "execution_count": 96,
   "metadata": {},
   "outputs": [],
   "source": [
    "tags_count_df.columns = ['발의단어', '노출빈도']"
   ]
  },
  {
   "cell_type": "code",
   "execution_count": 97,
   "metadata": {},
   "outputs": [
    {
     "data": {
      "text/plain": [
       "<matplotlib.axes._subplots.AxesSubplot at 0x7fa900b4f0>"
      ]
     },
     "execution_count": 97,
     "metadata": {},
     "output_type": "execute_result"
    },
    {
     "data": {
      "image/png": "[encoded data removed]",
      "text/plain": [
       "<Figure size 720x576 with 1 Axes>"
      ]
     },
     "metadata": {
      "needs_background": "light"
     },
     "output_type": "display_data"
    }
   ],
   "source": [
    "plt.figure(figsize = (10, 8))\n",
    "sns.barplot(x = '노출빈도', y = '발의단어', data = tags_count_df)"
   ]
  },
  {
   "cell_type": "code",
   "execution_count": 44,
   "metadata": {},
   "outputs": [
    {
     "data": {
      "text/plain": [
       "{'확산': 0.7625231742858887,\n",
       " '코로나바이러스감염증': 0.7584001421928406,\n",
       " '경마중단': 0.7390620708465576,\n",
       " '소비심리': 0.7380139827728271,\n",
       " '대유행': 0.7339582443237305,\n",
       " '국제선': 0.7304458618164062,\n",
       " '장기화': 0.7302996516227722,\n",
       " '항공수요': 0.725516676902771,\n",
       " '팬데믹': 0.7229644060134888,\n",
       " '감염질환': 0.7200190424919128,\n",
       " '여파': 0.7183862924575806,\n",
       " '종식': 0.7177754044532776,\n",
       " '재확산': 0.716162919998169,\n",
       " '실물경제': 0.7150459885597229,\n",
       " '경기침체': 0.7149436473846436,\n",
       " '운항중단': 0.711785078048706,\n",
       " '경북지역': 0.7065129280090332,\n",
       " '국면': 0.7060610055923462,\n",
       " '소비위축': 0.7050918340682983,\n",
       " '경제심리': 0.7049644589424133,\n",
       " '가계지출': 0.7019816637039185,\n",
       " '자제': 0.6982156038284302,\n",
       " '학교들': 0.696749210357666,\n",
       " '말산업': 0.6954467296600342,\n",
       " '국내확진자': 0.6953060626983643,\n",
       " '재유행': 0.6917768120765686,\n",
       " '급감': 0.6887920498847961,\n",
       " '직거래장터': 0.6866675615310669,\n",
       " '청탁금지': 0.6861529350280762,\n",
       " '바이러스': 0.6845632791519165}"
      ]
     },
     "execution_count": 44,
     "metadata": {},
     "output_type": "execute_result"
    }
   ],
   "source": [
    "rel_word"
   ]
  },
  {
   "cell_type": "code",
   "execution_count": 39,
   "metadata": {},
   "outputs": [
    {
     "data": {
      "text/plain": [
       "dict_keys(['확산', '코로나바이러스감염증', '경마중단', '소비심리', '대유행', '국제선', '장기화', '항공수요', '팬데믹', '감염질환', '여파', '종식', '재확산', '실물경제', '경기침체', '운항중단', '경북지역', '국면', '소비위축', '경제심리', '가계지출', '자제', '학교들', '말산업', '국내확진자', '재유행', '급감', '직거래장터', '청탁금지', '바이러스'])"
      ]
     },
     "execution_count": 39,
     "metadata": {},
     "output_type": "execute_result"
    }
   ],
   "source": [
    "rel_word.keys()"
   ]
  },
  {
   "cell_type": "code",
   "execution_count": 40,
   "metadata": {},
   "outputs": [
    {
     "data": {
      "text/plain": [
       "dict_values([0.7625231742858887, 0.7584001421928406, 0.7390620708465576, 0.7380139827728271, 0.7339582443237305, 0.7304458618164062, 0.7302996516227722, 0.725516676902771, 0.7229644060134888, 0.7200190424919128, 0.7183862924575806, 0.7177754044532776, 0.716162919998169, 0.7150459885597229, 0.7149436473846436, 0.711785078048706, 0.7065129280090332, 0.7060610055923462, 0.7050918340682983, 0.7049644589424133, 0.7019816637039185, 0.6982156038284302, 0.696749210357666, 0.6954467296600342, 0.6953060626983643, 0.6917768120765686, 0.6887920498847961, 0.6866675615310669, 0.6861529350280762, 0.6845632791519165])"
      ]
     },
     "execution_count": 40,
     "metadata": {},
     "output_type": "execute_result"
    }
   ],
   "source": [
    "rel_word.values()"
   ]
  },
  {
   "cell_type": "code",
   "execution_count": null,
   "metadata": {},
   "outputs": [],
   "source": []
  },
  {
   "cell_type": "code",
   "execution_count": null,
   "metadata": {},
   "outputs": [],
   "source": []
  }
 ],
 "metadata": {
  "kernelspec": {
   "display_name": "Python 3",
   "language": "python",
   "name": "python3"
  },
  "language_info": {
   "codemirror_mode": {
    "name": "ipython",
    "version": 3
   },
   "file_extension": ".py",
   "mimetype": "text/x-python",
   "name": "python",
   "nbconvert_exporter": "python",
   "pygments_lexer": "ipython3",
   "version": "3.8.3"
  }
 },
 "nbformat": 4,
 "nbformat_minor": 4
}
